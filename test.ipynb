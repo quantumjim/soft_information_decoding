{
 "cells": [
  {
   "cell_type": "code",
   "execution_count": 1,
   "metadata": {},
   "outputs": [],
   "source": [
    "%reload_ext autoreload\n",
    "%autoreload 2"
   ]
  },
  {
   "cell_type": "code",
   "execution_count": 11,
   "metadata": {},
   "outputs": [
    {
     "name": "stdout",
     "output_type": "stream",
     "text": [
      "[]\n"
     ]
    }
   ],
   "source": [
    "i = 1\n",
    "print(list(range(-i, -(12+i), 3)))"
   ]
  },
  {
   "cell_type": "code",
   "execution_count": 1,
   "metadata": {},
   "outputs": [
    {
     "ename": "NameError",
     "evalue": "name 'self' is not defined",
     "output_type": "error",
     "traceback": [
      "\u001b[0;31m---------------------------------------------------------------------------\u001b[0m",
      "\u001b[0;31mNameError\u001b[0m                                 Traceback (most recent call last)",
      "Cell \u001b[0;32mIn[1], line 2\u001b[0m\n\u001b[1;32m      1\u001b[0m weights \u001b[38;5;241m=\u001b[39m []\n\u001b[0;32m----> 2\u001b[0m \u001b[38;5;28;01mfor\u001b[39;00m root \u001b[38;5;129;01min\u001b[39;00m \u001b[38;5;28;43mself\u001b[39;49m\u001b[38;5;241m.\u001b[39modd_cluster_roots:\n\u001b[1;32m      3\u001b[0m     cluster \u001b[38;5;241m=\u001b[39m \u001b[38;5;28mself\u001b[39m\u001b[38;5;241m.\u001b[39mclusters[root]\n\u001b[1;32m      4\u001b[0m     \u001b[38;5;28;01mfor\u001b[39;00m edge \u001b[38;5;129;01min\u001b[39;00m cluster\u001b[38;5;241m.\u001b[39mboundary:\n",
      "\u001b[0;31mNameError\u001b[0m: name 'self' is not defined"
     ]
    }
   ],
   "source": [
    "weights = []\n",
    "for root in self.odd_cluster_roots:\n",
    "    cluster = self.clusters[root]\n",
    "    for edge in cluster.boundary:\n",
    "        weights.append(edge.data.properties['weight'])\n",
    "\n",
    "min_weights = np.min(weights)"
   ]
  },
  {
   "cell_type": "code",
   "execution_count": 2,
   "metadata": {},
   "outputs": [
    {
     "name": "stdout",
     "output_type": "stream",
     "text": [
      "R 0 1 2 3 4\n",
      "TICK\n",
      "CX 0 1 2 3\n",
      "TICK\n",
      "CX 2 1 4 3\n",
      "TICK\n",
      "MR(0) 1 3\n",
      "DETECTOR(1, 0, 5) rec[-2]\n",
      "DETECTOR(3, 0, 5) rec[-1]\n",
      "SHIFT_COORDS(0, 1)\n",
      "REPEAT 3 {\n",
      "    CX 0 1 2 3\n",
      "    TICK\n",
      "    CX 2 1 4 3\n",
      "    TICK\n",
      "    MR(0) 1 3\n",
      "    DETECTOR(1, 0) rec[-2] rec[-4]\n",
      "    DETECTOR(3, 0) rec[-1] rec[-3]\n",
      "    SHIFT_COORDS(0, 1)\n",
      "}\n",
      "MR(0) 0 2 4\n",
      "DETECTOR(1, 0) rec[-3] rec[-2] rec[-5]\n",
      "DETECTOR(3, 0) rec[-2] rec[-1] rec[-4]\n",
      "OBSERVABLE_INCLUDE(0) rec[-1]\n"
     ]
    }
   ],
   "source": [
    "from soft_info import RepetitionCodeStimCircuit\n",
    "\n",
    "code = RepetitionCodeStimCircuit(3, 4, False, True)\n",
    "circ = code.circuits['0']\n",
    "print(circ)"
   ]
  },
  {
   "cell_type": "code",
   "execution_count": 5,
   "metadata": {},
   "outputs": [
    {
     "data": {
      "text/html": [
       "<iframe style=\"width: 100%; height: 300px; overflow: hidden; resize: both; border: 1px dashed gray;\" frameBorder=\"0\" srcdoc=\"\n",
       "&lt;!DOCTYPE html&gt;\n",
       "&lt;html&gt;\n",
       "&lt;head&gt;\n",
       "  &lt;meta charset=&quot;UTF-8&quot; /&gt;\n",
       "  &lt;script type=&quot;importmap&quot;&gt;\n",
       "    {\n",
       "      &quot;imports&quot;: {\n",
       "        &quot;three&quot;: &quot;https://unpkg.com/three@0.138.0/build/three.module.js&quot;,\n",
       "        &quot;three-orbitcontrols&quot;: &quot;https://unpkg.com/three@0.138.0/examples/jsm/controls/OrbitControls.js&quot;,\n",
       "        &quot;three-gltf-loader&quot;: &quot;https://unpkg.com/three@0.138.0/examples/jsm/loaders/GLTFLoader.js&quot;\n",
       "      }\n",
       "    }\n",
       "  &lt;/script&gt;\n",
       "&lt;/head&gt;\n",
       "&lt;body&gt;\n",
       "  &lt;a download=&quot;model.gltf&quot; id=&quot;stim-3d-viewer-download-link&quot; href=&quot;data:text/plain;base64,eyJhY2Nlc3NvcnMiOlt7ImJ1ZmZlclZpZXciOjAsImJ5dGVPZmZzZXQiOjAsImNvbXBvbmVudFR5cGUiOjUxMjYsImNvdW50IjoxNywibWF4IjpbMCwwLjQwMDAwMDAwNTk2MDQ2NCwwLjQwMDAwMDAwNTk2MDQ2NF0sIm1pbiI6WzAsLTAuNDAwMDAwMDA1OTYwNDY0LC0wLjQwMDAwMDAwNTk2MDQ2NF0sIm5hbWUiOiJjaXJjbGVfbG9vcCIsInR5cGUiOiJWRUMzIn1dLCJhc3NldCI6eyJ2ZXJzaW9uIjoiMi4wIn0sImJ1ZmZlclZpZXdzIjpbeyJidWZmZXIiOjAsImJ5dGVMZW5ndGgiOjIwNCwiYnl0ZU9mZnNldCI6MCwibmFtZSI6ImNpcmNsZV9sb29wIiwidGFyZ2V0IjozNDk2Mn1dLCJidWZmZXJzIjpbeyJieXRlTGVuZ3RoIjoyMDQsIm5hbWUiOiJjaXJjbGVfbG9vcCIsInVyaSI6ImRhdGE6YXBwbGljYXRpb24vb2N0ZXQtc3RyZWFtO2Jhc2U2NCxBQUFBQU0zTXpENEFBQUFBQUFBQUFPVTF2VDVGdnh3K0FBQUFBTVBRa0Q3RDBKQStBQUFBQUVTL0hEN2xOYjArQUFBQUFQSXdsckxOek13K0FBQUFBRWUvSEw3bE5iMCtBQUFBQU1QUWtMN0QwSkErQUFBQUFPYzF2YjVBdnh3K0FBQUFBTTNNekw3eU1CYXpBQUFBQU9VMXZiNUV2eHkrQUFBQUFNSFFrTDdFMEpDK0FBQUFBRHkvSEw3bk5iMitBQUFBQVBMa296SE56TXkrQUFBQUFFbS9IRDdrTmIyK0FBQUFBTWJRa0Q2LzBKQytBQUFBQU9ZMXZUNUV2eHkrQUFBQUFNM016RDRBQUFBQSJ9XSwibWF0ZXJpYWxzIjpbeyJkb3VibGVTaWRlZCI6dHJ1ZSwibmFtZSI6ImJsYWNrIiwicGJyTWV0YWxsaWNSb3VnaG5lc3MiOnsiYmFzZUNvbG9yRmFjdG9yIjpbMCwwLDAsMV0sIm1ldGFsbGljRmFjdG9yIjoxLCJyb3VnaG5lc3NGYWN0b3IiOjF9fV0sIm1lc2hlcyI6W3sicHJpbWl0aXZlcyI6W3siYXR0cmlidXRlcyI6eyJQT1NJVElPTiI6MH0sIm1hdGVyaWFsIjowLCJtb2RlIjo2fV19XSwibm9kZXMiOlt7Im1lc2giOjAsInRyYW5zbGF0aW9uIjpbMywwLDE1XX0seyJtZXNoIjowLCJ0cmFuc2xhdGlvbiI6WzksMCwxNV19LHsibWVzaCI6MCwidHJhbnNsYXRpb24iOlszLDMsMF19LHsibWVzaCI6MCwidHJhbnNsYXRpb24iOls5LDMsMF19LHsibWVzaCI6MCwidHJhbnNsYXRpb24iOlszLDYsMF19LHsibWVzaCI6MCwidHJhbnNsYXRpb24iOls5LDYsMF19LHsibWVzaCI6MCwidHJhbnNsYXRpb24iOlszLDksMF19LHsibWVzaCI6MCwidHJhbnNsYXRpb24iOls5LDksMF19LHsibWVzaCI6MCwidHJhbnNsYXRpb24iOlszLDEyLDBdfSx7Im1lc2giOjAsInRyYW5zbGF0aW9uIjpbOSwxMiwwXX1dLCJzY2VuZSI6MCwic2NlbmVzIjpbeyJub2RlcyI6WzAsMSwyLDMsNCw1LDYsNyw4LDldfV19&quot;&gt;Download 3D Model as .GLTF File&lt;/a&gt;\n",
       "  &lt;br&gt;Mouse Wheel = Zoom. Left Drag = Orbit. Right Drag = Strafe.\n",
       "  &lt;div id=&quot;stim-3d-viewer-scene-container&quot; style=&quot;width: calc(100vw - 32px); height: calc(100vh - 64px);&quot;&gt;JavaScript Blocked?&lt;/div&gt;\n",
       "\n",
       "  &lt;script type=&quot;module&quot;&gt;\n",
       "    let container = document.getElementById(&quot;stim-3d-viewer-scene-container&quot;);\n",
       "    let downloadLink = document.getElementById(&quot;stim-3d-viewer-download-link&quot;);\n",
       "    container.textContent = &quot;Loading viewer...&quot;;\n",
       "\n",
       "    /// BEGIN TERRIBLE HACK.\n",
       "    /// Change the ID to avoid cross-cell interactions.\n",
       "    /// This is a workaround for https://github.com/jupyter/notebook/issues/6598\n",
       "    container.id = undefined;\n",
       "    downloadLink.id = undefined;\n",
       "\n",
       "    import {Box3, Scene, Color, PerspectiveCamera, WebGLRenderer, DirectionalLight, Vector3} from &quot;three&quot;;\n",
       "    import {OrbitControls} from &quot;three-orbitcontrols&quot;;\n",
       "    import {GLTFLoader} from &quot;three-gltf-loader&quot;;\n",
       "\n",
       "    try {\n",
       "      container.textContent = &quot;Loading model...&quot;;\n",
       "      let modelDataUri = downloadLink.href;\n",
       "      let gltf = await new GLTFLoader().loadAsync(modelDataUri);\n",
       "      container.textContent = &quot;Loading scene...&quot;;\n",
       "\n",
       "      // Create the scene, adding lighting for the loaded objects.\n",
       "      let scene = new Scene();\n",
       "      scene.background = new Color(&quot;white&quot;);\n",
       "      let mainLight = new DirectionalLight(0xffffff, 5);\n",
       "      mainLight.position.set(1, 1, 0);\n",
       "      let backLight = new DirectionalLight(0xffffff, 4);\n",
       "      backLight.position.set(-1, -1, 0);\n",
       "      scene.add(mainLight, backLight);\n",
       "      scene.add(gltf.scene);\n",
       "\n",
       "      // Point the camera at the center, far enough back to see everything.\n",
       "      let camera = new PerspectiveCamera(35, container.clientWidth / container.clientHeight, 0.1, 100000);\n",
       "      let controls = new OrbitControls(camera, container);\n",
       "      let bounds = new Box3().setFromObject(scene);\n",
       "      let mid = new Vector3(\n",
       "          (bounds.min.x + bounds.max.x) * 0.5,\n",
       "          (bounds.min.y + bounds.max.y) * 0.5,\n",
       "          (bounds.min.z + bounds.max.z) * 0.5,\n",
       "      );\n",
       "      let boxPoints = [];\n",
       "      for (let dx of [0, 0.5, 1]) {\n",
       "          for (let dy of [0, 0.5, 1]) {\n",
       "              for (let dz of [0, 0.5, 1]) {\n",
       "                  boxPoints.push(new Vector3(\n",
       "                      bounds.min.x + (bounds.max.x - bounds.min.x) * dx,\n",
       "                      bounds.min.y + (bounds.max.y - bounds.min.y) * dy,\n",
       "                      bounds.min.z + (bounds.max.z - bounds.min.z) * dz,\n",
       "                  ));\n",
       "              }\n",
       "          }\n",
       "      }\n",
       "      let isInView = p =&gt; {\n",
       "          p = new Vector3(p.x, p.y, p.z);\n",
       "          p.project(camera);\n",
       "          return Math.abs(p.x) &lt; 1 &amp;&amp; Math.abs(p.y) &lt; 1 &amp;&amp; p.z &gt;= 0 &amp;&amp; p.z &lt; 1;\n",
       "      };\n",
       "      let unit = new Vector3(0.3, 0.4, -1.8);\n",
       "      unit.normalize();\n",
       "      let setCameraDistance = d =&gt; {\n",
       "          controls.target.copy(mid);\n",
       "          camera.position.copy(mid);\n",
       "          camera.position.addScaledVector(unit, d);\n",
       "          controls.update();\n",
       "          return boxPoints.every(isInView);\n",
       "      };\n",
       "\n",
       "      let maxDistance = 1;\n",
       "      for (let k = 0; k &lt; 20; k++) {\n",
       "          if (setCameraDistance(maxDistance)) {\n",
       "              break;\n",
       "          }\n",
       "          maxDistance *= 2;\n",
       "      }\n",
       "      let minDistance = maxDistance;\n",
       "      for (let k = 0; k &lt; 20; k++) {\n",
       "          minDistance /= 2;\n",
       "          if (!setCameraDistance(minDistance)) {\n",
       "              break;\n",
       "          }\n",
       "      }\n",
       "      for (let k = 0; k &lt; 20; k++) {\n",
       "          let mid = (minDistance + maxDistance) / 2;\n",
       "          if (setCameraDistance(mid)) {\n",
       "              maxDistance = mid;\n",
       "          } else {\n",
       "              minDistance = mid;\n",
       "          }\n",
       "      }\n",
       "      setCameraDistance(maxDistance);\n",
       "\n",
       "      // Set up rendering.\n",
       "      let renderer = new WebGLRenderer({ antialias: true });\n",
       "      container.textContent = &quot;&quot;;\n",
       "      renderer.setSize(container.clientWidth, container.clientHeight);\n",
       "      renderer.setPixelRatio(window.devicePixelRatio);\n",
       "      renderer.physicallyCorrectLights = true;\n",
       "      container.appendChild(renderer.domElement);\n",
       "\n",
       "      // Render whenever any important changes have occurred.\n",
       "      requestAnimationFrame(() =&gt; renderer.render(scene, camera));\n",
       "      new ResizeObserver(() =&gt; {\n",
       "        let w = container.clientWidth;\n",
       "        let h = container.clientHeight;\n",
       "        camera.aspect = w / h;\n",
       "        camera.updateProjectionMatrix();\n",
       "        renderer.setSize(w, h);\n",
       "        renderer.render(scene, camera);\n",
       "      }).observe(container);\n",
       "      controls.addEventListener(&quot;change&quot;, () =&gt; {\n",
       "          renderer.render(scene, camera);\n",
       "      })\n",
       "    } catch (ex) {\n",
       "      container.textContent = &quot;Failed to show model. &quot; + ex;\n",
       "      console.error(ex);\n",
       "    }\n",
       "  &lt;/script&gt;\n",
       "&lt;/body&gt;\n",
       "\"></iframe>"
      ],
      "text/plain": [
       "{\"accessors\":[{\"bufferView\":0,\"byteOffset\":0,\"componentType\":5126,\"count\":17,\"max\":[0,0.400000005960464,0.400000005960464],\"min\":[0,-0.400000005960464,-0.400000005960464],\"name\":\"circle_loop\",\"type\":\"VEC3\"}],\"asset\":{\"version\":\"2.0\"},\"bufferViews\":[{\"buffer\":0,\"byteLength\":204,\"byteOffset\":0,\"name\":\"circle_loop\",\"target\":34962}],\"buffers\":[{\"byteLength\":204,\"name\":\"circle_loop\",\"uri\":\"data:application/octet-stream;base64,AAAAAM3MzD4AAAAAAAAAAOU1vT5Fvxw+AAAAAMPQkD7D0JA+AAAAAES/HD7lNb0+AAAAAPIwlrLNzMw+AAAAAEe/HL7lNb0+AAAAAMPQkL7D0JA+AAAAAOc1vb5Avxw+AAAAAM3MzL7yMBazAAAAAOU1vb5Evxy+AAAAAMHQkL7E0JC+AAAAADy/HL7nNb2+AAAAAPLkozHNzMy+AAAAAEm/HD7kNb2+AAAAAMbQkD6/0JC+AAAAAOY1vT5Evxy+AAAAAM3MzD4AAAAA\"}],\"materials\":[{\"doubleSided\":true,\"name\":\"black\",\"pbrMetallicRoughness\":{\"baseColorFactor\":[0,0,0,1],\"metallicFactor\":1,\"roughnessFactor\":1}}],\"meshes\":[{\"primitives\":[{\"attributes\":{\"POSITION\":0},\"material\":0,\"mode\":6}]}],\"nodes\":[{\"mesh\":0,\"translation\":[3,0,15]},{\"mesh\":0,\"translation\":[9,0,15]},{\"mesh\":0,\"translation\":[3,3,0]},{\"mesh\":0,\"translation\":[9,3,0]},{\"mesh\":0,\"translation\":[3,6,0]},{\"mesh\":0,\"translation\":[9,6,0]},{\"mesh\":0,\"translation\":[3,9,0]},{\"mesh\":0,\"translation\":[9,9,0]},{\"mesh\":0,\"translation\":[3,12,0]},{\"mesh\":0,\"translation\":[9,12,0]}],\"scene\":0,\"scenes\":[{\"nodes\":[0,1,2,3,4,5,6,7,8,9]}]}"
      ]
     },
     "execution_count": 5,
     "metadata": {},
     "output_type": "execute_result"
    }
   ],
   "source": [
    "DEM = circ.detector_error_model()\n",
    "DEM.diagram(type=\"match-graph-3d\")\n"
   ]
  },
  {
   "cell_type": "code",
   "execution_count": 5,
   "metadata": {},
   "outputs": [
    {
     "name": "stdout",
     "output_type": "stream",
     "text": [
      "[[1 0 0 0 0 1 0 0 0 0]\n",
      " [0 0 0 0 0 1 0 0 0 0]\n",
      " [0 0 0 0 0 1 0 0 0 0]\n",
      " [0 0 0 0 0 0 0 0 0 0]\n",
      " [0 0 0 0 0 0 0 0 0 0]]\n"
     ]
    }
   ],
   "source": [
    "import numpy as np\n",
    "\n",
    "# Example values for demonstration\n",
    "error_indices = np.array([10, 500, 1500, 2500])  # Example error indices\n",
    "nb_shots_per_job = 100  # Number of shots per job\n",
    "num_jobs = 10  # Number of jobs in one subset\n",
    "num_subsets = 5  # Number of subsets\n",
    "\n",
    "# Calculate total shots per subset\n",
    "shots_per_subset = nb_shots_per_job * num_jobs\n",
    "\n",
    "# Initialize a matrix to count errors, shape is (num_subsets, num_jobs)\n",
    "error_counts = np.zeros((num_subsets, num_jobs), dtype=int)\n",
    "\n",
    "# Update counts\n",
    "for error_index in error_indices:\n",
    "    subset_index = error_index // shots_per_subset\n",
    "    job_index = (error_index % shots_per_subset) // nb_shots_per_job\n",
    "    error_counts[subset_index, job_index] += 1\n",
    "\n",
    "print(error_counts)\n"
   ]
  },
  {
   "cell_type": "code",
   "execution_count": 1,
   "metadata": {},
   "outputs": [
    {
     "name": "stdout",
     "output_type": "stream",
     "text": [
      "{'job_0': [[10], [], [], [], []], 'job_1': [[], [], [], [], []], 'job_2': [[], [], [], [], []], 'job_3': [[], [], [], [], []], 'job_4': [[], [], [], [], []], 'job_5': [[500], [1500, 1501], [2500], [], []], 'job_6': [[], [], [], [], []], 'job_7': [[], [], [], [], []], 'job_8': [[], [], [], [], []], 'job_9': [[], [], [], [], []]}\n",
      "{'job_0': [1, 0, 0, 0, 0], 'job_1': [0, 0, 0, 0, 0], 'job_2': [0, 0, 0, 0, 0], 'job_3': [0, 0, 0, 0, 0], 'job_4': [0, 0, 0, 0, 0], 'job_5': [1, 2, 1, 0, 0], 'job_6': [0, 0, 0, 0, 0], 'job_7': [0, 0, 0, 0, 0], 'job_8': [0, 0, 0, 0, 0], 'job_9': [0, 0, 0, 0, 0]}\n"
     ]
    }
   ],
   "source": [
    "import numpy as np\n",
    "\n",
    "# Assuming these variables are defined as before\n",
    "error_indices = np.array([10, 500, 1500, 1501, 2500])  # Example error indices\n",
    "nb_shots_per_job = 100  # Number of shots per job\n",
    "num_jobs = 10  # Number of jobs in one subset\n",
    "num_subsets = 5  # Number of subsets\n",
    "job_ids = ['job_' + str(i) for i in range(num_jobs)]  # Example job IDs\n",
    "\n",
    "# Calculate total shots per subset\n",
    "shots_per_subset = nb_shots_per_job * num_jobs\n",
    "\n",
    "# Initialize the dictionary to hold error lists for each job ID\n",
    "errors_by_job_and_subset = {job_id: [[] for _ in range(num_subsets)] for job_id in job_ids}\n",
    "\n",
    "# Populate the dictionary with error indicess\n",
    "for error_index in error_indices:\n",
    "    subset_index = error_index // shots_per_subset\n",
    "    job_index = (error_index % shots_per_subset) // nb_shots_per_job\n",
    "    job_id = job_ids[job_index]\n",
    "    errors_by_job_and_subset[job_id][subset_index].append(error_index)\n",
    "\n",
    "num_err_by_job = {job_id: [len(errors) for errors in errors_by_job_and_subset[job_id]] for job_id in job_ids}\n",
    "\n",
    "print(errors_by_job_and_subset)\n",
    "print(num_err_by_job)\n"
   ]
  },
  {
   "cell_type": "code",
   "execution_count": 3,
   "metadata": {},
   "outputs": [
    {
     "data": {
      "image/png": "[encoded data removed]",
      "text/plain": [
       "<Figure size 640x480 with 1 Axes>"
      ]
     },
     "metadata": {},
     "output_type": "display_data"
    }
   ],
   "source": [
    "import numpy as np\n",
    "import matplotlib.pyplot as plt\n",
    "from scipy.stats import poisson\n",
    "\n",
    "# Parameters for the Poisson distribution\n",
    "lambda_param = 0.00001 # Example lambda value\n",
    "\n",
    "# Generate some data\n",
    "data = np.arange(0, 25)  # Discrete range of x-values\n",
    "pmf_data = poisson.pmf(data, lambda_param)  # Poisson PMF values\n",
    "\n",
    "# Create a bar plot on a log scale\n",
    "plt.bar(data, pmf_data, color='skyblue')\n",
    "\n",
    "# Set the y-axis to a log scale\n",
    "plt.yscale('log')\n",
    "\n",
    "plt.title('Poisson Distribution (Log scale)')\n",
    "plt.xlabel('Number of events (k)')\n",
    "plt.ylabel('PMF (Log scale)')\n",
    "plt.show()\n"
   ]
  }
 ],
 "metadata": {
  "kernelspec": {
   "display_name": "Soft-Info-fMUpUe5a",
   "language": "python",
   "name": "python3"
  },
  "language_info": {
   "codemirror_mode": {
    "name": "ipython",
    "version": 3
   },
   "file_extension": ".py",
   "mimetype": "text/x-python",
   "name": "python",
   "nbconvert_exporter": "python",
   "pygments_lexer": "ipython3",
   "version": "3.11.4"
  }
 },
 "nbformat": 4,
 "nbformat_minor": 2
}
