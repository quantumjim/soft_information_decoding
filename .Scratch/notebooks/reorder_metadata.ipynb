{
 "cells": [
  {
   "cell_type": "code",
   "execution_count": 2,
   "metadata": {},
   "outputs": [],
   "source": [
    "from result_saver import SaverProvider, metadata_helper, metadata_loader\n",
    "import pandas as pd\n",
    "import numpy as np"
   ]
  },
  {
   "cell_type": "markdown",
   "metadata": {},
   "source": [
    "# reorder the metadata\n",
    "\n",
    "metadata = metadata_loader()\n",
    "metadata = metadata.drop(columns=['time_str','day_str', 'test', 'descr', 'n_shots', 'num_qubits', 'meas_level', 'sampled_state'])\n",
    "order = [\n",
    "    'creation_date', 'notebook_name',  'backend_name', 'backend_options', \n",
    "    'additional_metadata', 'job_id', 'job_name', 'job_metadata', 'tags'\n",
    "]\n",
    "\n",
    "metadata = metadata[order]\n",
    "metadata.head(5)"
   ]
  },
  {
   "cell_type": "markdown",
   "metadata": {},
   "source": [
    "metadata.to_json('job_metadata.json', orient='records', indent=4)\n"
   ]
  },
  {
   "cell_type": "code",
   "execution_count": 10,
   "metadata": {},
   "outputs": [
    {
     "data": {
      "text/html": [
       "<div>\n",
       "<style scoped>\n",
       "    .dataframe tbody tr th:only-of-type {\n",
       "        vertical-align: middle;\n",
       "    }\n",
       "\n",
       "    .dataframe tbody tr th {\n",
       "        vertical-align: top;\n",
       "    }\n",
       "\n",
       "    .dataframe thead th {\n",
       "        text-align: right;\n",
       "    }\n",
       "</style>\n",
       "<table border=\"1\" class=\"dataframe\">\n",
       "  <thead>\n",
       "    <tr style=\"text-align: right;\">\n",
       "      <th></th>\n",
       "      <th>creation_date</th>\n",
       "      <th>notebook_name</th>\n",
       "      <th>backend_name</th>\n",
       "      <th>backend_options</th>\n",
       "      <th>additional_metadata</th>\n",
       "      <th>job_id</th>\n",
       "      <th>job_name</th>\n",
       "      <th>job_metadata</th>\n",
       "      <th>tags</th>\n",
       "    </tr>\n",
       "  </thead>\n",
       "  <tbody>\n",
       "    <tr>\n",
       "      <th>0</th>\n",
       "      <td>2023-10-24 17:40:45.994179+02:00</td>\n",
       "      <td>KDE_Jak</td>\n",
       "      <td>ibmq_manila</td>\n",
       "      <td>{'meas_level': 1, 'init_qubits': True, 'meas_r...</td>\n",
       "      <td>{'sampled_state': 1, 'num_qubits': 1}</td>\n",
       "      <td>cmvyazbk20pg008epbzg</td>\n",
       "      <td>NaN</td>\n",
       "      <td>{}</td>\n",
       "      <td>[]</td>\n",
       "    </tr>\n",
       "    <tr>\n",
       "      <th>1</th>\n",
       "      <td>2023-10-24 17:38:13.246957+02:00</td>\n",
       "      <td>KDE_Jak</td>\n",
       "      <td>ibmq_manila</td>\n",
       "      <td>{'meas_level': 1, 'init_qubits': True, 'meas_r...</td>\n",
       "      <td>{'sampled_state': 0, 'num_qubits': 1}</td>\n",
       "      <td>cmvy9sf23ve0008zm1bg</td>\n",
       "      <td>NaN</td>\n",
       "      <td>{}</td>\n",
       "      <td>[]</td>\n",
       "    </tr>\n",
       "    <tr>\n",
       "      <th>2</th>\n",
       "      <td>2023-10-24 15:42:07.022802+02:00</td>\n",
       "      <td>plot_IQ_2</td>\n",
       "      <td>ibmq_manila</td>\n",
       "      <td>{'meas_level': 1, 'init_qubits': True, 'meas_r...</td>\n",
       "      <td>{'sampled_state': '11', 'num_qubits': 2, 'extr...</td>\n",
       "      <td>cmvwkbnjad30008ec01g</td>\n",
       "      <td>NaN</td>\n",
       "      <td>{}</td>\n",
       "      <td>[]</td>\n",
       "    </tr>\n",
       "  </tbody>\n",
       "</table>\n",
       "</div>"
      ],
      "text/plain": [
       "                      creation_date notebook_name backend_name  \\\n",
       "0  2023-10-24 17:40:45.994179+02:00       KDE_Jak  ibmq_manila   \n",
       "1  2023-10-24 17:38:13.246957+02:00       KDE_Jak  ibmq_manila   \n",
       "2  2023-10-24 15:42:07.022802+02:00     plot_IQ_2  ibmq_manila   \n",
       "\n",
       "                                     backend_options  \\\n",
       "0  {'meas_level': 1, 'init_qubits': True, 'meas_r...   \n",
       "1  {'meas_level': 1, 'init_qubits': True, 'meas_r...   \n",
       "2  {'meas_level': 1, 'init_qubits': True, 'meas_r...   \n",
       "\n",
       "                                 additional_metadata                job_id  \\\n",
       "0              {'sampled_state': 1, 'num_qubits': 1}  cmvyazbk20pg008epbzg   \n",
       "1              {'sampled_state': 0, 'num_qubits': 1}  cmvy9sf23ve0008zm1bg   \n",
       "2  {'sampled_state': '11', 'num_qubits': 2, 'extr...  cmvwkbnjad30008ec01g   \n",
       "\n",
       "   job_name job_metadata tags  \n",
       "0       NaN           {}   []  \n",
       "1       NaN           {}   []  \n",
       "2       NaN           {}   []  "
      ]
     },
     "execution_count": 10,
     "metadata": {},
     "output_type": "execute_result"
    }
   ],
   "source": [
    "metadata = metadata_loader(extract=False)[:3]\n",
    "metadata\n"
   ]
  },
  {
   "cell_type": "code",
   "execution_count": 11,
   "metadata": {},
   "outputs": [
    {
     "name": "stdout",
     "output_type": "stream",
     "text": [
      "['2023-10-24 17:40:45.994179+02:00' 'KDE_Jak' 'ibmq_manila'\n",
      " {'meas_level': 1, 'init_qubits': True, 'meas_return': 'single', 'skip_transpilation': True, 'shots': 1000000, 'memory': False}\n",
      " {'sampled_state': 1, 'num_qubits': 1} 'cmvyazbk20pg008epbzg' nan {}\n",
      " list([])]\n",
      "['2023-10-24 17:38:13.246957+02:00' 'KDE_Jak' 'ibmq_manila'\n",
      " {'meas_level': 1, 'init_qubits': True, 'meas_return': 'single', 'skip_transpilation': True, 'shots': 1000000, 'memory': False}\n",
      " {'sampled_state': 0, 'num_qubits': 1} 'cmvy9sf23ve0008zm1bg' nan {}\n",
      " list([])]\n",
      "['2023-10-24 15:42:07.022802+02:00' 'plot_IQ_2' 'ibmq_manila'\n",
      " {'meas_level': 1, 'init_qubits': True, 'meas_return': 'single', 'skip_transpilation': True, 'shots': 1000000, 'memory': False}\n",
      " {'sampled_state': '11', 'num_qubits': 2, 'extra': '20 CXs'}\n",
      " 'cmvwkbnjad30008ec01g' nan {} list([])]\n"
     ]
    }
   ],
   "source": [
    "for data in metadata.values:\n",
    "    print(data)"
   ]
  },
  {
   "cell_type": "code",
   "execution_count": 12,
   "metadata": {},
   "outputs": [
    {
     "name": "stdout",
     "output_type": "stream",
     "text": [
      "cmvyazbk20pg008epbzg KDE_Jak\n",
      "cmvy9sf23ve0008zm1bg KDE_Jak\n",
      "cmvwkbnjad30008ec01g plot_IQ_2\n"
     ]
    }
   ],
   "source": [
    "for job_id, nb_name in zip(metadata.job_id, metadata.notebook_name):\n",
    "    print(job_id, nb_name)"
   ]
  },
  {
   "cell_type": "code",
   "execution_count": null,
   "metadata": {},
   "outputs": [],
   "source": []
  }
 ],
 "metadata": {
  "kernelspec": {
   "display_name": "Soft-Info-kp2AnOc1",
   "language": "python",
   "name": "python3"
  },
  "language_info": {
   "codemirror_mode": {
    "name": "ipython",
    "version": 3
   },
   "file_extension": ".py",
   "mimetype": "text/x-python",
   "name": "python",
   "nbconvert_exporter": "python",
   "pygments_lexer": "ipython3",
   "version": "3.11.4"
  }
 },
 "nbformat": 4,
 "nbformat_minor": 2
}
