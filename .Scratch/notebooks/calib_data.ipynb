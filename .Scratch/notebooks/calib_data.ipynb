{
 "cells": [
  {
   "cell_type": "code",
   "execution_count": 5,
   "metadata": {},
   "outputs": [],
   "source": [
    "from result_saver import SaverProvider\n",
    "from Scratch import create_or_load_kde_grid, metadata_loader\n",
    "\n",
    "provider = SaverProvider()"
   ]
  },
  {
   "cell_type": "code",
   "execution_count": 6,
   "metadata": {},
   "outputs": [
    {
     "data": {
      "text/html": [
       "<div>\n",
       "<style scoped>\n",
       "    .dataframe tbody tr th:only-of-type {\n",
       "        vertical-align: middle;\n",
       "    }\n",
       "\n",
       "    .dataframe tbody tr th {\n",
       "        vertical-align: top;\n",
       "    }\n",
       "\n",
       "    .dataframe thead th {\n",
       "        text-align: right;\n",
       "    }\n",
       "</style>\n",
       "<table border=\"1\" class=\"dataframe\">\n",
       "  <thead>\n",
       "    <tr style=\"text-align: right;\">\n",
       "      <th></th>\n",
       "      <th>creation_date</th>\n",
       "      <th>notebook_name</th>\n",
       "      <th>backend_name</th>\n",
       "      <th>job_id</th>\n",
       "      <th>tags</th>\n",
       "      <th>shots</th>\n",
       "      <th>tags_xp</th>\n",
       "      <th>sampled_state</th>\n",
       "      <th>num_qubits</th>\n",
       "      <th>job_status</th>\n",
       "      <th>extra</th>\n",
       "      <th>optimization_level</th>\n",
       "      <th>code</th>\n",
       "      <th>distance</th>\n",
       "      <th>rounds</th>\n",
       "      <th>logical</th>\n",
       "      <th>layout</th>\n",
       "      <th>descr</th>\n",
       "    </tr>\n",
       "  </thead>\n",
       "  <tbody>\n",
       "    <tr>\n",
       "      <th>2023</th>\n",
       "      <td>2023-11-09 17:47:14.556645+01:00</td>\n",
       "      <td>get_IQ_calibration_data_Sherbrooke</td>\n",
       "      <td>ibm_sherbrooke</td>\n",
       "      <td>cn6gt4g64yf0008g82rg</td>\n",
       "      <td>[Calibration]</td>\n",
       "      <td>10000.0</td>\n",
       "      <td>NaN</td>\n",
       "      <td>0000000000000000000000000000000000000000000000...</td>\n",
       "      <td>127.0</td>\n",
       "      <td>JobStatus.DONE</td>\n",
       "      <td>NaN</td>\n",
       "      <td>0.0</td>\n",
       "      <td>NaN</td>\n",
       "      <td>NaN</td>\n",
       "      <td>NaN</td>\n",
       "      <td>NaN</td>\n",
       "      <td>NaN</td>\n",
       "      <td>NaN</td>\n",
       "    </tr>\n",
       "    <tr>\n",
       "      <th>2022</th>\n",
       "      <td>2023-11-09 17:47:11.963272+01:00</td>\n",
       "      <td>get_IQ_calibration_data_Sherbrooke</td>\n",
       "      <td>ibm_sherbrooke</td>\n",
       "      <td>cn6gt3r9recg008x0grg</td>\n",
       "      <td>[Calibration]</td>\n",
       "      <td>10000.0</td>\n",
       "      <td>NaN</td>\n",
       "      <td>1111111111111111111111111111111111111111111111...</td>\n",
       "      <td>127.0</td>\n",
       "      <td>JobStatus.DONE</td>\n",
       "      <td>NaN</td>\n",
       "      <td>0.0</td>\n",
       "      <td>NaN</td>\n",
       "      <td>NaN</td>\n",
       "      <td>NaN</td>\n",
       "      <td>NaN</td>\n",
       "      <td>NaN</td>\n",
       "      <td>NaN</td>\n",
       "    </tr>\n",
       "    <tr>\n",
       "      <th>47</th>\n",
       "      <td>2023-10-27 09:46:44.189709+02:00</td>\n",
       "      <td>get_IQ_calibration_data_Sherbrooke</td>\n",
       "      <td>ibm_sherbrooke</td>\n",
       "      <td>cmxpns7evjqg008aj740</td>\n",
       "      <td>[Calibration]</td>\n",
       "      <td>10000.0</td>\n",
       "      <td>NaN</td>\n",
       "      <td>0000000000000000000000000000000000000000000000...</td>\n",
       "      <td>127.0</td>\n",
       "      <td>JobStatus.DONE</td>\n",
       "      <td>NaN</td>\n",
       "      <td>0.0</td>\n",
       "      <td>NaN</td>\n",
       "      <td>NaN</td>\n",
       "      <td>NaN</td>\n",
       "      <td>NaN</td>\n",
       "      <td>NaN</td>\n",
       "      <td>NaN</td>\n",
       "    </tr>\n",
       "    <tr>\n",
       "      <th>46</th>\n",
       "      <td>2023-10-27 09:46:41.326236+02:00</td>\n",
       "      <td>get_IQ_calibration_data_Sherbrooke</td>\n",
       "      <td>ibm_sherbrooke</td>\n",
       "      <td>cmxpnrf5z3p0008dmqyg</td>\n",
       "      <td>[Calibration]</td>\n",
       "      <td>10000.0</td>\n",
       "      <td>NaN</td>\n",
       "      <td>1111111111111111111111111111111111111111111111...</td>\n",
       "      <td>127.0</td>\n",
       "      <td>JobStatus.DONE</td>\n",
       "      <td>NaN</td>\n",
       "      <td>0.0</td>\n",
       "      <td>NaN</td>\n",
       "      <td>NaN</td>\n",
       "      <td>NaN</td>\n",
       "      <td>NaN</td>\n",
       "      <td>NaN</td>\n",
       "      <td>NaN</td>\n",
       "    </tr>\n",
       "    <tr>\n",
       "      <th>37</th>\n",
       "      <td>2023-10-27 09:35:00.118110+02:00</td>\n",
       "      <td>get_IQ_calibration_data_Sherbrooke</td>\n",
       "      <td>ibm_sherbrooke</td>\n",
       "      <td>cmxpg91evjqg008aj6t0</td>\n",
       "      <td>[Calibration]</td>\n",
       "      <td>50000.0</td>\n",
       "      <td>NaN</td>\n",
       "      <td>0000000000000000000000000000000000000000000000...</td>\n",
       "      <td>127.0</td>\n",
       "      <td>JobStatus.ERROR</td>\n",
       "      <td>NaN</td>\n",
       "      <td>0.0</td>\n",
       "      <td>NaN</td>\n",
       "      <td>NaN</td>\n",
       "      <td>NaN</td>\n",
       "      <td>NaN</td>\n",
       "      <td>NaN</td>\n",
       "      <td>NaN</td>\n",
       "    </tr>\n",
       "    <tr>\n",
       "      <th>36</th>\n",
       "      <td>2023-10-27 09:34:57.180420+02:00</td>\n",
       "      <td>get_IQ_calibration_data_Sherbrooke</td>\n",
       "      <td>ibm_sherbrooke</td>\n",
       "      <td>cmxpg895z3p0008dmqp0</td>\n",
       "      <td>[Calibration]</td>\n",
       "      <td>50000.0</td>\n",
       "      <td>NaN</td>\n",
       "      <td>1111111111111111111111111111111111111111111111...</td>\n",
       "      <td>127.0</td>\n",
       "      <td>JobStatus.ERROR</td>\n",
       "      <td>NaN</td>\n",
       "      <td>0.0</td>\n",
       "      <td>NaN</td>\n",
       "      <td>NaN</td>\n",
       "      <td>NaN</td>\n",
       "      <td>NaN</td>\n",
       "      <td>NaN</td>\n",
       "      <td>NaN</td>\n",
       "    </tr>\n",
       "  </tbody>\n",
       "</table>\n",
       "</div>"
      ],
      "text/plain": [
       "                         creation_date                       notebook_name  \\\n",
       "2023  2023-11-09 17:47:14.556645+01:00  get_IQ_calibration_data_Sherbrooke   \n",
       "2022  2023-11-09 17:47:11.963272+01:00  get_IQ_calibration_data_Sherbrooke   \n",
       "47    2023-10-27 09:46:44.189709+02:00  get_IQ_calibration_data_Sherbrooke   \n",
       "46    2023-10-27 09:46:41.326236+02:00  get_IQ_calibration_data_Sherbrooke   \n",
       "37    2023-10-27 09:35:00.118110+02:00  get_IQ_calibration_data_Sherbrooke   \n",
       "36    2023-10-27 09:34:57.180420+02:00  get_IQ_calibration_data_Sherbrooke   \n",
       "\n",
       "        backend_name                job_id           tags    shots tags_xp  \\\n",
       "2023  ibm_sherbrooke  cn6gt4g64yf0008g82rg  [Calibration]  10000.0     NaN   \n",
       "2022  ibm_sherbrooke  cn6gt3r9recg008x0grg  [Calibration]  10000.0     NaN   \n",
       "47    ibm_sherbrooke  cmxpns7evjqg008aj740  [Calibration]  10000.0     NaN   \n",
       "46    ibm_sherbrooke  cmxpnrf5z3p0008dmqyg  [Calibration]  10000.0     NaN   \n",
       "37    ibm_sherbrooke  cmxpg91evjqg008aj6t0  [Calibration]  50000.0     NaN   \n",
       "36    ibm_sherbrooke  cmxpg895z3p0008dmqp0  [Calibration]  50000.0     NaN   \n",
       "\n",
       "                                          sampled_state  num_qubits  \\\n",
       "2023  0000000000000000000000000000000000000000000000...       127.0   \n",
       "2022  1111111111111111111111111111111111111111111111...       127.0   \n",
       "47    0000000000000000000000000000000000000000000000...       127.0   \n",
       "46    1111111111111111111111111111111111111111111111...       127.0   \n",
       "37    0000000000000000000000000000000000000000000000...       127.0   \n",
       "36    1111111111111111111111111111111111111111111111...       127.0   \n",
       "\n",
       "           job_status extra  optimization_level code  distance rounds logical  \\\n",
       "2023   JobStatus.DONE   NaN                 0.0  NaN       NaN    NaN     NaN   \n",
       "2022   JobStatus.DONE   NaN                 0.0  NaN       NaN    NaN     NaN   \n",
       "47     JobStatus.DONE   NaN                 0.0  NaN       NaN    NaN     NaN   \n",
       "46     JobStatus.DONE   NaN                 0.0  NaN       NaN    NaN     NaN   \n",
       "37    JobStatus.ERROR   NaN                 0.0  NaN       NaN    NaN     NaN   \n",
       "36    JobStatus.ERROR   NaN                 0.0  NaN       NaN    NaN     NaN   \n",
       "\n",
       "     layout descr  \n",
       "2023    NaN   NaN  \n",
       "2022    NaN   NaN  \n",
       "47      NaN   NaN  \n",
       "46      NaN   NaN  \n",
       "37      NaN   NaN  \n",
       "36      NaN   NaN  "
      ]
     },
     "execution_count": 6,
     "metadata": {},
     "output_type": "execute_result"
    }
   ],
   "source": [
    "md = metadata_loader(_extract=True, _drop_inutile=True)\n",
    "md = md[md['optimization_level'] == 0]\n",
    "\n",
    "devices = ['Mumbai', 'Cusco', 'Nazca', 'Sherbrooke', 'Brisbane']\n",
    "\n",
    "md =  md[md['notebook_name'] == f\"get_IQ_calibration_data_{devices[3]}\"]\n",
    "md"
   ]
  },
  {
   "cell_type": "code",
   "execution_count": 7,
   "metadata": {},
   "outputs": [
    {
     "name": "stdout",
     "output_type": "stream",
     "text": [
      "\n",
      "Device 0: Mumbai out of 5 devices\n"
     ]
    },
    {
     "name": "stderr",
     "output_type": "stream",
     "text": [
      "Processing calibration jobs: 100%|██████████| 6/6 [22:06<00:00, 221.02s/it]\n"
     ]
    },
    {
     "name": "stdout",
     "output_type": "stream",
     "text": [
      "\n",
      "Device 1: Cusco out of 5 devices\n"
     ]
    },
    {
     "name": "stderr",
     "output_type": "stream",
     "text": [
      "Processing calibration jobs: 100%|██████████| 6/6 [00:09<00:00,  1.51s/it]\n"
     ]
    },
    {
     "name": "stdout",
     "output_type": "stream",
     "text": [
      "\n",
      "Device 2: Nazca out of 5 devices\n"
     ]
    },
    {
     "name": "stderr",
     "output_type": "stream",
     "text": [
      "Processing calibration jobs: 100%|██████████| 6/6 [00:09<00:00,  1.51s/it]\n"
     ]
    },
    {
     "name": "stdout",
     "output_type": "stream",
     "text": [
      "\n",
      "Device 3: Sherbrooke out of 5 devices\n"
     ]
    },
    {
     "name": "stderr",
     "output_type": "stream",
     "text": [
      "Processing calibration jobs: 100%|██████████| 6/6 [00:09<00:00,  1.52s/it]\n"
     ]
    },
    {
     "name": "stdout",
     "output_type": "stream",
     "text": [
      "\n",
      "Device 4: Brisbane out of 5 devices\n"
     ]
    },
    {
     "name": "stderr",
     "output_type": "stream",
     "text": [
      "Processing calibration jobs: 100%|██████████| 6/6 [00:09<00:00,  1.52s/it]"
     ]
    },
    {
     "name": "stdout",
     "output_type": "stream",
     "text": [
      "Done\n"
     ]
    },
    {
     "name": "stderr",
     "output_type": "stream",
     "text": [
      "\n"
     ]
    }
   ],
   "source": [
    "from tqdm import tqdm\n",
    "\n",
    "\n",
    "for idx, device in enumerate(devices):\n",
    "    print(f\"\\nDevice {idx}: {device} out of {len(devices)} devices\")\n",
    "    try:\n",
    "        for job_idx, job_id in enumerate(tqdm(md.job_id, desc=\"Processing calibration jobs\")):  \n",
    "            _, _ = create_or_load_kde_grid(provider, job_id, num_grid_points=100, num_std_dev=2)\n",
    "    except KeyboardInterrupt:\n",
    "        print(f\"\\nInterupted by user at job {job_idx} for device {device}\")\n",
    "        break\n",
    "\n",
    "print(\"Done\")"
   ]
  }
 ],
 "metadata": {
  "kernelspec": {
   "display_name": "Soft-Info-Sk8aHGSa",
   "language": "python",
   "name": "python3"
  },
  "language_info": {
   "codemirror_mode": {
    "name": "ipython",
    "version": 3
   },
   "file_extension": ".py",
   "mimetype": "text/x-python",
   "name": "python",
   "nbconvert_exporter": "python",
   "pygments_lexer": "ipython3",
   "version": "3.11.4"
  }
 },
 "nbformat": 4,
 "nbformat_minor": 2
}
