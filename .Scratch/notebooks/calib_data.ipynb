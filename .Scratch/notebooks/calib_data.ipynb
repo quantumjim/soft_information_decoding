{
 "cells": [
  {
   "cell_type": "code",
   "execution_count": 1,
   "metadata": {},
   "outputs": [],
   "source": [
    "%reload_ext autoreload\n",
    "%autoreload 2"
   ]
  },
  {
   "cell_type": "code",
   "execution_count": 2,
   "metadata": {},
   "outputs": [],
   "source": [
    "from result_saver import SaverProvider\n",
    "from Scratch import create_or_load_kde_grid, metadata_loader\n",
    "\n",
    "provider = SaverProvider()"
   ]
  },
  {
   "cell_type": "code",
   "execution_count": 6,
   "metadata": {},
   "outputs": [
    {
     "data": {
      "text/html": [
       "<div>\n",
       "<style scoped>\n",
       "    .dataframe tbody tr th:only-of-type {\n",
       "        vertical-align: middle;\n",
       "    }\n",
       "\n",
       "    .dataframe tbody tr th {\n",
       "        vertical-align: top;\n",
       "    }\n",
       "\n",
       "    .dataframe thead th {\n",
       "        text-align: right;\n",
       "    }\n",
       "</style>\n",
       "<table border=\"1\" class=\"dataframe\">\n",
       "  <thead>\n",
       "    <tr style=\"text-align: right;\">\n",
       "      <th></th>\n",
       "      <th>creation_date</th>\n",
       "      <th>notebook_name</th>\n",
       "      <th>backend_name</th>\n",
       "      <th>job_id</th>\n",
       "      <th>tags</th>\n",
       "      <th>meas_level</th>\n",
       "      <th>shots</th>\n",
       "      <th>tags_xp</th>\n",
       "      <th>rep_delay</th>\n",
       "      <th>sampled_state</th>\n",
       "      <th>...</th>\n",
       "      <th>job_status</th>\n",
       "      <th>execution_date</th>\n",
       "      <th>extra</th>\n",
       "      <th>optimization_level</th>\n",
       "      <th>code</th>\n",
       "      <th>distance</th>\n",
       "      <th>rounds</th>\n",
       "      <th>logical</th>\n",
       "      <th>layout</th>\n",
       "      <th>descr</th>\n",
       "    </tr>\n",
       "  </thead>\n",
       "  <tbody>\n",
       "    <tr>\n",
       "      <th>2521</th>\n",
       "      <td>2023-12-02 10:11:04.061000+01:00</td>\n",
       "      <td>get_IQ_calibration_data_Torino</td>\n",
       "      <td>ibm_torino</td>\n",
       "      <td>cnnf9a50k0p00088v6wg</td>\n",
       "      <td>[Calibration]</td>\n",
       "      <td>1.0</td>\n",
       "      <td>10000.0</td>\n",
       "      <td>NaN</td>\n",
       "      <td>NaN</td>\n",
       "      <td>0000000000000000000000000000000000000000000000...</td>\n",
       "      <td>...</td>\n",
       "      <td>JobStatus.DONE</td>\n",
       "      <td>2023-12-02 10:12:35.042892+01:00</td>\n",
       "      <td>NaN</td>\n",
       "      <td>0.0</td>\n",
       "      <td>NaN</td>\n",
       "      <td>NaN</td>\n",
       "      <td>NaN</td>\n",
       "      <td>NaN</td>\n",
       "      <td>NaN</td>\n",
       "      <td>NaN</td>\n",
       "    </tr>\n",
       "    <tr>\n",
       "      <th>2520</th>\n",
       "      <td>2023-12-02 10:11:01.773000+01:00</td>\n",
       "      <td>get_IQ_calibration_data_Torino</td>\n",
       "      <td>ibm_torino</td>\n",
       "      <td>cnnf99d8sy80008p34e0</td>\n",
       "      <td>[Calibration]</td>\n",
       "      <td>1.0</td>\n",
       "      <td>10000.0</td>\n",
       "      <td>NaN</td>\n",
       "      <td>NaN</td>\n",
       "      <td>1111111111111111111111111111111111111111111111...</td>\n",
       "      <td>...</td>\n",
       "      <td>JobStatus.DONE</td>\n",
       "      <td>2023-12-02 10:11:19.255074+01:00</td>\n",
       "      <td>NaN</td>\n",
       "      <td>0.0</td>\n",
       "      <td>NaN</td>\n",
       "      <td>NaN</td>\n",
       "      <td>NaN</td>\n",
       "      <td>NaN</td>\n",
       "      <td>NaN</td>\n",
       "      <td>NaN</td>\n",
       "    </tr>\n",
       "  </tbody>\n",
       "</table>\n",
       "<p>2 rows × 21 columns</p>\n",
       "</div>"
      ],
      "text/plain": [
       "                         creation_date                   notebook_name  \\\n",
       "2521  2023-12-02 10:11:04.061000+01:00  get_IQ_calibration_data_Torino   \n",
       "2520  2023-12-02 10:11:01.773000+01:00  get_IQ_calibration_data_Torino   \n",
       "\n",
       "     backend_name                job_id           tags  meas_level    shots  \\\n",
       "2521   ibm_torino  cnnf9a50k0p00088v6wg  [Calibration]         1.0  10000.0   \n",
       "2520   ibm_torino  cnnf99d8sy80008p34e0  [Calibration]         1.0  10000.0   \n",
       "\n",
       "     tags_xp  rep_delay                                      sampled_state  \\\n",
       "2521     NaN        NaN  0000000000000000000000000000000000000000000000...   \n",
       "2520     NaN        NaN  1111111111111111111111111111111111111111111111...   \n",
       "\n",
       "      ...      job_status                    execution_date extra  \\\n",
       "2521  ...  JobStatus.DONE  2023-12-02 10:12:35.042892+01:00   NaN   \n",
       "2520  ...  JobStatus.DONE  2023-12-02 10:11:19.255074+01:00   NaN   \n",
       "\n",
       "     optimization_level  code distance  rounds logical layout descr  \n",
       "2521                0.0   NaN      NaN     NaN     NaN    NaN   NaN  \n",
       "2520                0.0   NaN      NaN     NaN     NaN    NaN   NaN  \n",
       "\n",
       "[2 rows x 21 columns]"
      ]
     },
     "execution_count": 6,
     "metadata": {},
     "output_type": "execute_result"
    }
   ],
   "source": [
    "md = metadata_loader(_extract=True, _drop_inutile=True)\n",
    "md = md[(md['optimization_level'] == 0)]\n",
    "\n",
    "devices = ['Mumbai', 'Cusco', 'Nazca', 'Sherbrooke', 'Brisbane']\n",
    "# devices =[devices[3]]\n",
    "# devices = devices[2:]\n",
    "devices = ['Torino']\n",
    "\n",
    "md = md[md['notebook_name'] == f\"get_IQ_calibration_data_{devices[0]}\"]\n",
    "md = md[md['job_status'] == 'JobStatus.DONE']\n",
    "md"
   ]
  },
  {
   "cell_type": "code",
   "execution_count": 7,
   "metadata": {},
   "outputs": [
    {
     "name": "stdout",
     "output_type": "stream",
     "text": [
      "\n",
      "Device 0: Torino out of 1 devices\n"
     ]
    },
    {
     "name": "stderr",
     "output_type": "stream",
     "text": [
      "Processing calibration jobs:   0%|          | 0/2 [00:00<?, ?it/s]"
     ]
    },
    {
     "name": "stdout",
     "output_type": "stream",
     "text": [
      "Specified job execution date: 2023-12-02 10:12:35.042892+01:00\n",
      "Found jobs for backend ibm_torino with closest execution date 2023-12-02 09:12:35.042892+00:00.\n",
      "Searching for ibm_torino and 23.12.02_09h11_300pts_2std\n",
      "Specified job execution date: 2023-12-02 10:12:35.042892+01:00\n",
      "Found jobs for backend ibm_torino with closest execution date 2023-12-02 09:12:35.042892+00:00.\n"
     ]
    },
    {
     "name": "stderr",
     "output_type": "stream",
     "text": [
      "Processing calibration jobs:  50%|█████     | 1/2 [1:47:57<1:47:57, 6477.18s/it]"
     ]
    },
    {
     "name": "stdout",
     "output_type": "stream",
     "text": [
      "Specified job execution date: 2023-12-02 10:11:19.255074+01:00\n",
      "Found jobs for backend ibm_torino with closest execution date 2023-12-02 09:12:35.042892+00:00.\n",
      "Searching for ibm_torino and 23.12.02_09h11_300pts_2std\n"
     ]
    },
    {
     "name": "stderr",
     "output_type": "stream",
     "text": [
      "Processing calibration jobs: 100%|██████████| 2/2 [1:48:08<00:00, 3244.37s/it]  "
     ]
    },
    {
     "name": "stdout",
     "output_type": "stream",
     "text": [
      "Done\n"
     ]
    },
    {
     "name": "stderr",
     "output_type": "stream",
     "text": [
      "\n"
     ]
    }
   ],
   "source": [
    "from tqdm import tqdm\n",
    "\n",
    "\n",
    "for idx, device in enumerate(devices):\n",
    "    print(f\"\\nDevice {idx}: {device} out of {len(devices)} devices\")\n",
    "    df = md.copy()\n",
    "    df = df[df['notebook_name'] == f\"get_IQ_calibration_data_{device}\"]\n",
    "    # print(df.head())\n",
    "    try:\n",
    "        for job_idx, job_id in enumerate(tqdm(df.job_id, desc=\"Processing calibration jobs\")):  \n",
    "            _, _ = create_or_load_kde_grid(provider, job_id, num_grid_points=300, num_std_dev=2)\n",
    "    except KeyboardInterrupt:\n",
    "        print(f\"\\nInterupted by user at job {job_idx} for device {device}\")\n",
    "        break\n",
    "\n",
    "print(\"Done\")\n",
    "\n",
    "# this will skip 2/6 because the calibration was taken in the same hour and looking for closest in hour\n",
    "# Speed per iteration is twice as fast because iterating 1 and 0 state"
   ]
  },
  {
   "cell_type": "code",
   "execution_count": null,
   "metadata": {},
   "outputs": [],
   "source": []
  }
 ],
 "metadata": {
  "kernelspec": {
   "display_name": "Soft-Info-Sk8aHGSa",
   "language": "python",
   "name": "python3"
  },
  "language_info": {
   "codemirror_mode": {
    "name": "ipython",
    "version": 3
   },
   "file_extension": ".py",
   "mimetype": "text/x-python",
   "name": "python",
   "nbconvert_exporter": "python",
   "pygments_lexer": "ipython3",
   "version": "3.11.4"
  }
 },
 "nbformat": 4,
 "nbformat_minor": 2
}
