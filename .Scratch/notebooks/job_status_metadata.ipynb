{
 "cells": [
  {
   "cell_type": "code",
   "execution_count": 1,
   "metadata": {},
   "outputs": [],
   "source": [
    "from tqdm.notebook import tqdm\n",
    "from result_saver import SaverProvider\n",
    "provider = SaverProvider() "
   ]
  },
  {
   "cell_type": "code",
   "execution_count": 5,
   "metadata": {},
   "outputs": [
    {
     "data": {
      "text/html": [
       "<div>\n",
       "<style scoped>\n",
       "    .dataframe tbody tr th:only-of-type {\n",
       "        vertical-align: middle;\n",
       "    }\n",
       "\n",
       "    .dataframe tbody tr th {\n",
       "        vertical-align: top;\n",
       "    }\n",
       "\n",
       "    .dataframe thead th {\n",
       "        text-align: right;\n",
       "    }\n",
       "</style>\n",
       "<table border=\"1\" class=\"dataframe\">\n",
       "  <thead>\n",
       "    <tr style=\"text-align: right;\">\n",
       "      <th></th>\n",
       "      <th>creation_date</th>\n",
       "      <th>notebook_name</th>\n",
       "      <th>backend_name</th>\n",
       "      <th>job_id</th>\n",
       "      <th>job_name</th>\n",
       "      <th>job_metadata</th>\n",
       "      <th>tags</th>\n",
       "      <th>meas_level</th>\n",
       "      <th>init_qubits</th>\n",
       "      <th>meas_return</th>\n",
       "      <th>...</th>\n",
       "      <th>logical</th>\n",
       "      <th>layout</th>\n",
       "      <th>descr</th>\n",
       "      <th>num_CNOTS_layers</th>\n",
       "      <th>num_CNOT_layers</th>\n",
       "      <th>resets</th>\n",
       "      <th>num_qubit</th>\n",
       "      <th>double_msmt</th>\n",
       "      <th>xbasis</th>\n",
       "      <th>path_info</th>\n",
       "    </tr>\n",
       "  </thead>\n",
       "  <tbody>\n",
       "  </tbody>\n",
       "</table>\n",
       "<p>0 rows × 34 columns</p>\n",
       "</div>"
      ],
      "text/plain": [
       "Empty DataFrame\n",
       "Columns: [creation_date, notebook_name, backend_name, job_id, job_name, job_metadata, tags, meas_level, init_qubits, meas_return, skip_transpilation, shots, memory, tags_xp, rep_delay, sampled_state, num_qubits, job_status, execution_date, extra, optimization_level, code, distance, rounds, logical, layout, descr, num_CNOTS_layers, num_CNOT_layers, resets, num_qubit, double_msmt, xbasis, path_info]\n",
       "Index: []\n",
       "\n",
       "[0 rows x 34 columns]"
      ]
     },
     "execution_count": 5,
     "metadata": {},
     "output_type": "execute_result"
    }
   ],
   "source": [
    "from Scratch import metadata_loader\n",
    "import pandas as pd\n",
    "\n",
    "df = metadata_loader(True)\n",
    "df = df[~df['job_status'].isin(['JobStatus.DONE', 'JobStatus.ERROR', 'JobStatus.CANCELLED'])]\n",
    "\n",
    "# df = df[df['backend_name']=='ibm_sherbrooke']\n",
    "# df = df[df['rounds'] == 50]\n",
    "# df = df[df['xbasis'] == False]\n",
    "# df = df[df['logical'] == \"0\"]\n",
    "\n",
    "# df = df.dropna(subset=['sampled_state'])\n",
    "# df = df[pd.isna(df['double_msmt'])]\n",
    "\n",
    "df"
   ]
  },
  {
   "cell_type": "code",
   "execution_count": 12,
   "metadata": {},
   "outputs": [
    {
     "data": {
      "application/vnd.jupyter.widget-view+json": {
       "model_id": "016461407de040e39c44a815304c8046",
       "version_major": 2,
       "version_minor": 0
      },
      "text/plain": [
       "  0%|          | 0/5 [00:00<?, ?it/s]"
      ]
     },
     "metadata": {},
     "output_type": "display_data"
    }
   ],
   "source": [
    "from time import sleep\n",
    "\n",
    "OVERWRITE = False\n",
    "IGNORE_RUNNING = False\n",
    "\n",
    "start_idx = 0 # Initialize starting index\n",
    "\n",
    "while True:  # Outer loop to restart when a specific error occurs\n",
    "    try:\n",
    "        for idx, job_id in enumerate(tqdm(df.job_id[start_idx:])):\n",
    "\n",
    "            provider.retrieve_job(job_id, _ignore_running=IGNORE_RUNNING, overwrite=OVERWRITE)\n",
    "\n",
    "            start_idx = start_idx + 1  \n",
    "        break  \n",
    "    except KeyboardInterrupt:\n",
    "        print('Interrupted')\n",
    "        break  \n",
    "    except Exception as e:\n",
    "        if 'RequestsApiError' in str(type(e)):\n",
    "            print(f'\\nRequestsApiError occurred at job index {start_idx}, retrying...')\n",
    "            sleep(5) \n",
    "        else:\n",
    "            print(f'An unexpected error occurred: {e}')\n",
    "            # break  \n",
    "            sleep(5)\n"
   ]
  },
  {
   "cell_type": "markdown",
   "metadata": {},
   "source": [
    "# CLEANUP: Check if jobs have files"
   ]
  },
  {
   "cell_type": "code",
   "execution_count": 6,
   "metadata": {},
   "outputs": [
    {
     "data": {
      "application/vnd.jupyter.widget-view+json": {
       "model_id": "3b0842eb922941ba81e8b44f0f162416",
       "version_major": 2,
       "version_minor": 0
      },
      "text/plain": [
       "  0%|          | 0/5796 [00:00<?, ?it/s]"
      ]
     },
     "metadata": {},
     "output_type": "display_data"
    }
   ],
   "source": [
    "md = metadata_loader(True)\n",
    "\n",
    "for job_id in tqdm(md.job_id):\n",
    "\n",
    "    filename = provider.job_local_filename(job_id)\n",
    "    status = md.loc[md['job_id'] == job_id, 'job_status'].values[0]\n",
    "\n",
    "    if filename == None and status not in ['JobStatus.ERROR', 'JobStatus.CANCELLED']:\n",
    "        provider.retrieve_job(job_id)\n",
    "\n",
    "    # if filename == None and status == 'JobStatus.DONE':\n",
    "    #     provider.retrieve_job(job_id)"
   ]
  },
  {
   "cell_type": "markdown",
   "metadata": {},
   "source": [
    "# update the metadata with the execution date"
   ]
  },
  {
   "cell_type": "code",
   "execution_count": 24,
   "metadata": {},
   "outputs": [
    {
     "data": {
      "application/vnd.jupyter.widget-view+json": {
       "model_id": "82602015b3eb480a83bb84bb01f44393",
       "version_major": 2,
       "version_minor": 0
      },
      "text/plain": [
       "  0%|          | 0/4349 [00:00<?, ?it/s]"
      ]
     },
     "metadata": {},
     "output_type": "display_data"
    }
   ],
   "source": [
    "from Scratch import update_metadata, find_and_create_scratch    \n",
    "import os\n",
    "\n",
    "df = metadata_loader(_extract=True)\n",
    "df = df[~df['job_status'].isin(['JobStatus.ERROR', 'JobStatus.CANCELLED'])]\n",
    "\n",
    "start_idx = 0\n",
    "while True:  # Outer loop to restart when a specific error occurs\n",
    "    try:\n",
    "        for idx, job_id in enumerate(tqdm(df.job_id[start_idx:])):\n",
    "\n",
    "            # check if the entry has NaN for its execution_date\n",
    "            if pd.isna(df.loc[df['job_id'] == job_id, 'execution_date'].values[0]):\n",
    "                ibm_job = provider.retrieve_job(job_id, _ignore_running=False)\n",
    "                additional_dict = {\"execution_date\": str(ibm_job.result().date)}\n",
    "                update_metadata(ibm_job, \"None_Backend\", additional_dict)\n",
    "\n",
    "                start_idx = start_idx + 1  \n",
    "        break  \n",
    "    except KeyboardInterrupt:\n",
    "        print('Interrupted')\n",
    "        break  \n",
    "    except Exception as e:\n",
    "        if 'RequestsApiError' in str(type(e)):\n",
    "            print(f'\\nRequestsApiError occurred at job index {start_idx}, retrying...')\n",
    "            sleep(5) \n",
    "        # if 'JSON' in str(type(e)):\n",
    "        else:\n",
    "            # remove the file from the currect job_id\n",
    "            path = find_and_create_scratch()\n",
    "            jobs_path = os.path.join(path, 'jobs')\n",
    "            for filename in os.listdir(jobs_path):\n",
    "                if job_id in filename:\n",
    "                    os.remove(os.path.join(jobs_path, filename))\n",
    "                    print(f'\\nJSONDecodeError occurred at job index {start_idx}, removed file, retrying...')\n",
    "\n",
    "        # else:\n",
    "        #     print(f'An unexpected error occurred: {e}')\n",
    "        #     break  \n",
    "            "
   ]
  }
 ],
 "metadata": {
  "kernelspec": {
   "display_name": "Soft-Info-kp2AnOc1",
   "language": "python",
   "name": "python3"
  },
  "language_info": {
   "codemirror_mode": {
    "name": "ipython",
    "version": 3
   },
   "file_extension": ".py",
   "mimetype": "text/x-python",
   "name": "python",
   "nbconvert_exporter": "python",
   "pygments_lexer": "ipython3",
   "version": "3.11.4"
  }
 },
 "nbformat": 4,
 "nbformat_minor": 2
}
