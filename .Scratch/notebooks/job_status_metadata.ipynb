{
 "cells": [
  {
   "cell_type": "code",
   "execution_count": 1,
   "metadata": {},
   "outputs": [],
   "source": [
    "%reload_ext autoreload\n",
    "%autoreload 2"
   ]
  },
  {
   "cell_type": "code",
   "execution_count": 2,
   "metadata": {},
   "outputs": [],
   "source": [
    "from tqdm.notebook import tqdm\n",
    "from result_saver import SaverProvider\n",
    "from Scratch import metadata_loader\n",
    "provider = SaverProvider()"
   ]
  },
  {
   "cell_type": "code",
   "execution_count": 3,
   "metadata": {},
   "outputs": [],
   "source": [
    "df = metadata_loader(_extract=True)\n",
    "df = df[~df['job_status'].isin(['JobStatus.DONE', 'JobStatus.ERROR', 'JobStatus.CANCELLED'])]"
   ]
  },
  {
   "cell_type": "code",
   "execution_count": 4,
   "metadata": {},
   "outputs": [
    {
     "data": {
      "application/vnd.jupyter.widget-view+json": {
       "model_id": "9065669cb81d4089b7ad515eef037743",
       "version_major": 2,
       "version_minor": 0
      },
      "text/plain": [
       "  0%|          | 0/2 [00:00<?, ?it/s]"
      ]
     },
     "metadata": {},
     "output_type": "display_data"
    },
    {
     "name": "stdout",
     "output_type": "stream",
     "text": [
      "08:11:19 Warning: Job ID cne879d72scg008df4j0 not found in /Users/mha/My Drive/Desktop/Studium/Physik/MSc/Semester 3/IBM/IBM GIT/Soft-Info/.Scratch/jobs. Retrieving it from the IBMQ provider.... IN FILE: /Users/mha/My Drive/Desktop/Studium/Physik/MSc/Semester 3/IBM/IBM GIT/Soft-Info/libs/qiskit-saver-provider/result_saver/provider/saver_provider.py, LINE: 77\n",
      "08:12:06 Warning: Job ID cne877wjpbeg008cst20 not found in /Users/mha/My Drive/Desktop/Studium/Physik/MSc/Semester 3/IBM/IBM GIT/Soft-Info/.Scratch/jobs. Retrieving it from the IBMQ provider.... IN FILE: /Users/mha/My Drive/Desktop/Studium/Physik/MSc/Semester 3/IBM/IBM GIT/Soft-Info/libs/qiskit-saver-provider/result_saver/provider/saver_provider.py, LINE: 77\n"
     ]
    }
   ],
   "source": [
    "from time import sleep\n",
    "\n",
    "start_idx = 0 # Initialize starting index\n",
    "\n",
    "while True:  # Outer loop to restart when a specific error occurs\n",
    "    try:\n",
    "        for idx, job_id in enumerate(tqdm(df.job_id[start_idx:])):\n",
    "\n",
    "            provider.retrieve_job(job_id, _ignore_running=False)\n",
    "\n",
    "            start_idx = start_idx + 1  \n",
    "        break  \n",
    "    except KeyboardInterrupt:\n",
    "        print('Interrupted')\n",
    "        break  \n",
    "    except Exception as e:\n",
    "        if 'RequestsApiError' in str(type(e)):\n",
    "            print(f'\\nRequestsApiError occurred at job index {start_idx}, retrying...')\n",
    "            sleep(5) \n",
    "        else:\n",
    "            print(f'An unexpected error occurred: {e}')\n",
    "            break  \n"
   ]
  },
  {
   "cell_type": "code",
   "execution_count": null,
   "metadata": {},
   "outputs": [],
   "source": []
  }
 ],
 "metadata": {
  "kernelspec": {
   "display_name": "Soft-Info-kp2AnOc1",
   "language": "python",
   "name": "python3"
  },
  "language_info": {
   "codemirror_mode": {
    "name": "ipython",
    "version": 3
   },
   "file_extension": ".py",
   "mimetype": "text/x-python",
   "name": "python",
   "nbconvert_exporter": "python",
   "pygments_lexer": "ipython3",
   "version": "3.11.4"
  }
 },
 "nbformat": 4,
 "nbformat_minor": 2
}
