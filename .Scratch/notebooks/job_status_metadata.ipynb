{
 "cells": [
  {
   "cell_type": "code",
   "execution_count": 1,
   "metadata": {},
   "outputs": [],
   "source": [
    "from result_saver import SaverProvider, metadata_loader\n",
    "provider = SaverProvider()"
   ]
  },
  {
   "cell_type": "code",
   "execution_count": 2,
   "metadata": {},
   "outputs": [
    {
     "name": "stdout",
     "output_type": "stream",
     "text": [
      "Custom Warning: Job ID cmx8c08atcpg0084s300 not found in /Users/mha/My Drive/Desktop/Studium/Physik/Master/Semester 3/IBM/IBM GIT/Soft-Info/.Scratch/jobs. Retrieving it from the IBMQ provider...\n",
      "\n",
      "Custom Warning: Job ID cmx8c08atcpg0084s300 is in an unknown state. Updating Metadata & Aborting...\n",
      "\n",
      "Custom Warning: Job ID cmx8bzqwjay0008cnb90 not found in /Users/mha/My Drive/Desktop/Studium/Physik/Master/Semester 3/IBM/IBM GIT/Soft-Info/.Scratch/jobs. Retrieving it from the IBMQ provider...\n",
      "\n",
      "Custom Warning: Job ID cmx8bzqwjay0008cnb90 is in an unknown state. Updating Metadata & Aborting...\n",
      "\n",
      "Custom Warning: Job ID cmx63npatcpg0084rx7g not found in /Users/mha/My Drive/Desktop/Studium/Physik/Master/Semester 3/IBM/IBM GIT/Soft-Info/.Scratch/jobs. Retrieving it from the IBMQ provider...\n",
      "\n",
      "Custom Warning: Job ID cmx63npatcpg0084rx7g is still running. Aborting...\n",
      "\n",
      "Custom Warning: Job ID cmx63mewjay0008cn5s0 not found in /Users/mha/My Drive/Desktop/Studium/Physik/Master/Semester 3/IBM/IBM GIT/Soft-Info/.Scratch/jobs. Retrieving it from the IBMQ provider...\n",
      "\n",
      "Custom Warning: Job ID cmx63mewjay0008cn5s0 is still running. Aborting...\n",
      "\n",
      "Custom Warning: Job ID cmx5g8h7xy7g0089rwc0 not found in /Users/mha/My Drive/Desktop/Studium/Physik/Master/Semester 3/IBM/IBM GIT/Soft-Info/.Scratch/jobs. Retrieving it from the IBMQ provider...\n",
      "\n",
      "Custom Warning: Job ID cmx5g8h7xy7g0089rwc0 is still running. Aborting...\n",
      "\n",
      "Custom Warning: Job ID cmx5g7rapzf0008zvvq0 not found in /Users/mha/My Drive/Desktop/Studium/Physik/Master/Semester 3/IBM/IBM GIT/Soft-Info/.Scratch/jobs. Retrieving it from the IBMQ provider...\n",
      "\n",
      "Custom Warning: Job ID cmx5g7rapzf0008zvvq0 is still running. Aborting...\n",
      "\n",
      "Custom Warning: Job ID cmx5e1gapzf0008zvvgg not found in /Users/mha/My Drive/Desktop/Studium/Physik/Master/Semester 3/IBM/IBM GIT/Soft-Info/.Scratch/jobs. Retrieving it from the IBMQ provider...\n",
      "\n",
      "Custom Warning: Job ID cmx5e1gapzf0008zvvgg is in an unknown state. Updating Metadata & Aborting...\n",
      "\n",
      "Custom Warning: Job ID cmx5dxqd31100080b240 not found in /Users/mha/My Drive/Desktop/Studium/Physik/Master/Semester 3/IBM/IBM GIT/Soft-Info/.Scratch/jobs. Retrieving it from the IBMQ provider...\n",
      "\n",
      "Custom Warning: Job ID cmx5dxqd31100080b240 is in an unknown state. Updating Metadata & Aborting...\n",
      "\n",
      "Custom Warning: Job ID cmwfvgpk20pg008eq7jg not found in /Users/mha/My Drive/Desktop/Studium/Physik/Master/Semester 3/IBM/IBM GIT/Soft-Info/.Scratch/jobs. Retrieving it from the IBMQ provider...\n",
      "\n",
      "Custom Warning: Job ID cmwfvgpk20pg008eq7jg is in an unknown state. Updating Metadata & Aborting...\n",
      "\n",
      "Custom Warning: Job ID cmwfrmak20pg008eq7d0 not found in /Users/mha/My Drive/Desktop/Studium/Physik/Master/Semester 3/IBM/IBM GIT/Soft-Info/.Scratch/jobs. Retrieving it from the IBMQ provider...\n",
      "\n",
      "Custom Warning: Job ID cmwfrmak20pg008eq7d0 is in an unknown state. Updating Metadata & Aborting...\n",
      "\n",
      "Custom Warning: Job ID cmvv4eseskrg008pnnyg not found in /Users/mha/My Drive/Desktop/Studium/Physik/Master/Semester 3/IBM/IBM GIT/Soft-Info/.Scratch/jobs. Retrieving it from the IBMQ provider...\n",
      "\n",
      "Custom Warning: Job ID cmvpqy7vpdgg008genr0 not found in /Users/mha/My Drive/Desktop/Studium/Physik/Master/Semester 3/IBM/IBM GIT/Soft-Info/.Scratch/jobs. Retrieving it from the IBMQ provider...\n",
      "\n",
      "Custom Warning: Job ID cmvpqrqjad30008ebptg not found in /Users/mha/My Drive/Desktop/Studium/Physik/Master/Semester 3/IBM/IBM GIT/Soft-Info/.Scratch/jobs. Retrieving it from the IBMQ provider...\n",
      "\n",
      "Custom Warning: Job ID cmvb1k6605a0008f2vc0 not found in /Users/mha/My Drive/Desktop/Studium/Physik/Master/Semester 3/IBM/IBM GIT/Soft-Info/.Scratch/jobs. Retrieving it from the IBMQ provider...\n",
      "\n",
      "Custom Warning: Job ID cmvaqrq605a0008f2ty0 not found in /Users/mha/My Drive/Desktop/Studium/Physik/Master/Semester 3/IBM/IBM GIT/Soft-Info/.Scratch/jobs. Retrieving it from the IBMQ provider...\n",
      "\n",
      "Custom Warning: Job ID cmvaq34vpdgg008ge65g not found in /Users/mha/My Drive/Desktop/Studium/Physik/Master/Semester 3/IBM/IBM GIT/Soft-Info/.Scratch/jobs. Retrieving it from the IBMQ provider...\n",
      "\n",
      "Custom Warning: Job ID cmvaha5605a0008f2teg not found in /Users/mha/My Drive/Desktop/Studium/Physik/Master/Semester 3/IBM/IBM GIT/Soft-Info/.Scratch/jobs. Retrieving it from the IBMQ provider...\n",
      "\n",
      "Custom Warning: Job ID cmvag9sjad30008eb790 not found in /Users/mha/My Drive/Desktop/Studium/Physik/Master/Semester 3/IBM/IBM GIT/Soft-Info/.Scratch/jobs. Retrieving it from the IBMQ provider...\n",
      "\n",
      "Custom Warning: Job ID cmvafxzvpdgg008ge5dg not found in /Users/mha/My Drive/Desktop/Studium/Physik/Master/Semester 3/IBM/IBM GIT/Soft-Info/.Scratch/jobs. Retrieving it from the IBMQ provider...\n",
      "\n",
      "Custom Warning: Job ID cmvafpyfwrrg00885a3g not found in /Users/mha/My Drive/Desktop/Studium/Physik/Master/Semester 3/IBM/IBM GIT/Soft-Info/.Scratch/jobs. Retrieving it from the IBMQ provider...\n",
      "\n",
      "Custom Warning: Job ID cmvabqp605a0008f2t40 not found in /Users/mha/My Drive/Desktop/Studium/Physik/Master/Semester 3/IBM/IBM GIT/Soft-Info/.Scratch/jobs. Retrieving it from the IBMQ provider...\n",
      "\n",
      "Custom Warning: Job ID cmvabj6605a0008f2t30 not found in /Users/mha/My Drive/Desktop/Studium/Physik/Master/Semester 3/IBM/IBM GIT/Soft-Info/.Scratch/jobs. Retrieving it from the IBMQ provider...\n",
      "\n",
      "Custom Warning: Job ID cmvab34fwrrg008859tg not found in /Users/mha/My Drive/Desktop/Studium/Physik/Master/Semester 3/IBM/IBM GIT/Soft-Info/.Scratch/jobs. Retrieving it from the IBMQ provider...\n",
      "\n",
      "Custom Warning: Job ID cmvaap2vpdgg008ge530 not found in /Users/mha/My Drive/Desktop/Studium/Physik/Master/Semester 3/IBM/IBM GIT/Soft-Info/.Scratch/jobs. Retrieving it from the IBMQ provider...\n",
      "\n",
      "Custom Warning: Job ID cmva9rf421n00081q6hg not found in /Users/mha/My Drive/Desktop/Studium/Physik/Master/Semester 3/IBM/IBM GIT/Soft-Info/.Scratch/jobs. Retrieving it from the IBMQ provider...\n",
      "\n",
      "Custom Warning: Job ID cmva878fwrrg008859n0 not found in /Users/mha/My Drive/Desktop/Studium/Physik/Master/Semester 3/IBM/IBM GIT/Soft-Info/.Scratch/jobs. Retrieving it from the IBMQ provider...\n",
      "\n"
     ]
    }
   ],
   "source": [
    "df = metadata_loader()\n",
    "\n",
    "for job_id in df.job_id:\n",
    "    provider.retrieve_job(job_id)"
   ]
  },
  {
   "cell_type": "code",
   "execution_count": null,
   "metadata": {},
   "outputs": [],
   "source": []
  }
 ],
 "metadata": {
  "kernelspec": {
   "display_name": "Soft-Info-kp2AnOc1",
   "language": "python",
   "name": "python3"
  },
  "language_info": {
   "codemirror_mode": {
    "name": "ipython",
    "version": 3
   },
   "file_extension": ".py",
   "mimetype": "text/x-python",
   "name": "python",
   "nbconvert_exporter": "python",
   "pygments_lexer": "ipython3",
   "version": "3.11.4"
  }
 },
 "nbformat": 4,
 "nbformat_minor": 2
}
