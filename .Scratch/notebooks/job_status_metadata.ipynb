{
 "cells": [
  {
   "cell_type": "code",
   "execution_count": 1,
   "metadata": {},
   "outputs": [],
   "source": [
    "%reload_ext autoreload\n",
    "%autoreload 2"
   ]
  },
  {
   "cell_type": "code",
   "execution_count": 2,
   "metadata": {},
   "outputs": [],
   "source": [
    "from tqdm.notebook import tqdm\n",
    "from result_saver import SaverProvider\n",
    "from Scratch import metadata_loader\n",
    "provider = SaverProvider()"
   ]
  },
  {
   "cell_type": "code",
   "execution_count": 3,
   "metadata": {},
   "outputs": [],
   "source": [
    "df = metadata_loader(_extract=True)\n",
    "#df = df[df.job_status != 'JobStatus.QUEUED']\n"
   ]
  },
  {
   "cell_type": "code",
   "execution_count": 4,
   "metadata": {},
   "outputs": [
    {
     "data": {
      "application/vnd.jupyter.widget-view+json": {
       "model_id": "c8a2979e36ee44f08f498ca7e0c2a71c",
       "version_major": 2,
       "version_minor": 0
      },
      "text/plain": [
       "  0%|          | 0/1023 [00:00<?, ?it/s]"
      ]
     },
     "metadata": {},
     "output_type": "display_data"
    },
    {
     "name": "stdout",
     "output_type": "stream",
     "text": [
      "11:00:20 Warning: Job ID cn5nazkvcq70008qtvjg not found in /Users/mha/My Drive/Desktop/Studium/Physik/MSc/Semester 3/IBM/IBM GIT/Soft-Info/.Scratch/jobs. Retrieving it from the IBMQ provider.... IN FILE: /Users/mha/My Drive/Desktop/Studium/Physik/MSc/Semester 3/IBM/IBM GIT/Soft-Info/libs/qiskit-saver-provider/result_saver/provider/saver_provider.py, LINE: 77\n",
      "11:00:50 Warning: Job ID cn5nayvp1am0008qe060 not found in /Users/mha/My Drive/Desktop/Studium/Physik/MSc/Semester 3/IBM/IBM GIT/Soft-Info/.Scratch/jobs. Retrieving it from the IBMQ provider.... IN FILE: /Users/mha/My Drive/Desktop/Studium/Physik/MSc/Semester 3/IBM/IBM GIT/Soft-Info/libs/qiskit-saver-provider/result_saver/provider/saver_provider.py, LINE: 77\n",
      "11:01:23 Warning: Job ID cn5narv3r3vg008fbyyg not found in /Users/mha/My Drive/Desktop/Studium/Physik/MSc/Semester 3/IBM/IBM GIT/Soft-Info/.Scratch/jobs. Retrieving it from the IBMQ provider.... IN FILE: /Users/mha/My Drive/Desktop/Studium/Physik/MSc/Semester 3/IBM/IBM GIT/Soft-Info/libs/qiskit-saver-provider/result_saver/provider/saver_provider.py, LINE: 77\n",
      "11:01:43 Warning: Job ID cn5nar3vcq70008qtvgg not found in /Users/mha/My Drive/Desktop/Studium/Physik/MSc/Semester 3/IBM/IBM GIT/Soft-Info/.Scratch/jobs. Retrieving it from the IBMQ provider.... IN FILE: /Users/mha/My Drive/Desktop/Studium/Physik/MSc/Semester 3/IBM/IBM GIT/Soft-Info/libs/qiskit-saver-provider/result_saver/provider/saver_provider.py, LINE: 77\n",
      "11:02:03 Warning: Job ID cn5nahap1am0008qe05g not found in /Users/mha/My Drive/Desktop/Studium/Physik/MSc/Semester 3/IBM/IBM GIT/Soft-Info/.Scratch/jobs. Retrieving it from the IBMQ provider.... IN FILE: /Users/mha/My Drive/Desktop/Studium/Physik/MSc/Semester 3/IBM/IBM GIT/Soft-Info/libs/qiskit-saver-provider/result_saver/provider/saver_provider.py, LINE: 77\n",
      "11:02:10 Warning: Job ID cn5nahap1am0008qe05g is still running. Aborting.... IN FILE: /Users/mha/My Drive/Desktop/Studium/Physik/MSc/Semester 3/IBM/IBM GIT/Soft-Info/libs/qiskit-saver-provider/result_saver/provider/saver_provider.py, LINE: 86\n",
      "11:02:10 Warning: Job ID cn5n9vfvcq70008qtveg not found in /Users/mha/My Drive/Desktop/Studium/Physik/MSc/Semester 3/IBM/IBM GIT/Soft-Info/.Scratch/jobs. Retrieving it from the IBMQ provider.... IN FILE: /Users/mha/My Drive/Desktop/Studium/Physik/MSc/Semester 3/IBM/IBM GIT/Soft-Info/libs/qiskit-saver-provider/result_saver/provider/saver_provider.py, LINE: 77\n",
      "11:02:18 Warning: Job ID cn5n9vfvcq70008qtveg is still running. Aborting.... IN FILE: /Users/mha/My Drive/Desktop/Studium/Physik/MSc/Semester 3/IBM/IBM GIT/Soft-Info/libs/qiskit-saver-provider/result_saver/provider/saver_provider.py, LINE: 86\n",
      "11:02:20 Warning: Job ID cn2b4bhvayrg008egp4g has 'JobStatus.ERROR' or 'JobStatus.Canceled'. Aborting.... IN FILE: /Users/mha/My Drive/Desktop/Studium/Physik/MSc/Semester 3/IBM/IBM GIT/Soft-Info/libs/qiskit-saver-provider/result_saver/provider/saver_provider.py, LINE: 67\n",
      "11:02:20 Warning: Job ID cn2b4483r3vg008f53eg has 'JobStatus.ERROR' or 'JobStatus.Canceled'. Aborting.... IN FILE: /Users/mha/My Drive/Desktop/Studium/Physik/MSc/Semester 3/IBM/IBM GIT/Soft-Info/libs/qiskit-saver-provider/result_saver/provider/saver_provider.py, LINE: 67\n",
      "11:02:21 Warning: Job ID cn2b3mermwhg008jxgw0 has 'JobStatus.ERROR' or 'JobStatus.Canceled'. Aborting.... IN FILE: /Users/mha/My Drive/Desktop/Studium/Physik/MSc/Semester 3/IBM/IBM GIT/Soft-Info/libs/qiskit-saver-provider/result_saver/provider/saver_provider.py, LINE: 67\n",
      "11:02:21 Warning: Job ID cn2b3c5vcq70008qm4bg has 'JobStatus.ERROR' or 'JobStatus.Canceled'. Aborting.... IN FILE: /Users/mha/My Drive/Desktop/Studium/Physik/MSc/Semester 3/IBM/IBM GIT/Soft-Info/libs/qiskit-saver-provider/result_saver/provider/saver_provider.py, LINE: 67\n",
      "11:02:21 Warning: Job ID cn2b3543r3vg008f53e0 has 'JobStatus.ERROR' or 'JobStatus.Canceled'. Aborting.... IN FILE: /Users/mha/My Drive/Desktop/Studium/Physik/MSc/Semester 3/IBM/IBM GIT/Soft-Info/libs/qiskit-saver-provider/result_saver/provider/saver_provider.py, LINE: 67\n",
      "11:02:21 Warning: Job ID cn2b2ykp1am0008q780g has 'JobStatus.ERROR' or 'JobStatus.Canceled'. Aborting.... IN FILE: /Users/mha/My Drive/Desktop/Studium/Physik/MSc/Semester 3/IBM/IBM GIT/Soft-Info/libs/qiskit-saver-provider/result_saver/provider/saver_provider.py, LINE: 67\n",
      "11:02:21 Warning: Job ID cn2b2rbdaqbg008sqr3g has 'JobStatus.ERROR' or 'JobStatus.Canceled'. Aborting.... IN FILE: /Users/mha/My Drive/Desktop/Studium/Physik/MSc/Semester 3/IBM/IBM GIT/Soft-Info/libs/qiskit-saver-provider/result_saver/provider/saver_provider.py, LINE: 67\n",
      "11:02:22 Warning: Job ID cn2b2hjrmwhg008jxgvg has 'JobStatus.ERROR' or 'JobStatus.Canceled'. Aborting.... IN FILE: /Users/mha/My Drive/Desktop/Studium/Physik/MSc/Semester 3/IBM/IBM GIT/Soft-Info/libs/qiskit-saver-provider/result_saver/provider/saver_provider.py, LINE: 67\n",
      "11:02:22 Warning: Job ID cn2b2603r3vg008f53dg has 'JobStatus.ERROR' or 'JobStatus.Canceled'. Aborting.... IN FILE: /Users/mha/My Drive/Desktop/Studium/Physik/MSc/Semester 3/IBM/IBM GIT/Soft-Info/libs/qiskit-saver-provider/result_saver/provider/saver_provider.py, LINE: 67\n",
      "11:02:22 Warning: Job ID cn2b1z7vcq70008qm4ag has 'JobStatus.ERROR' or 'JobStatus.Canceled'. Aborting.... IN FILE: /Users/mha/My Drive/Desktop/Studium/Physik/MSc/Semester 3/IBM/IBM GIT/Soft-Info/libs/qiskit-saver-provider/result_saver/provider/saver_provider.py, LINE: 67\n",
      "11:02:22 Warning: Job ID cn2b1rzvayrg008egp40 has 'JobStatus.ERROR' or 'JobStatus.Canceled'. Aborting.... IN FILE: /Users/mha/My Drive/Desktop/Studium/Physik/MSc/Semester 3/IBM/IBM GIT/Soft-Info/libs/qiskit-saver-provider/result_saver/provider/saver_provider.py, LINE: 67\n",
      "11:02:22 Warning: Job ID cn2b1jep1am0008q7800 has 'JobStatus.ERROR' or 'JobStatus.Canceled'. Aborting.... IN FILE: /Users/mha/My Drive/Desktop/Studium/Physik/MSc/Semester 3/IBM/IBM GIT/Soft-Info/libs/qiskit-saver-provider/result_saver/provider/saver_provider.py, LINE: 67\n",
      "11:02:22 Warning: Job ID cn2b1e5daqbg008sqr2g has 'JobStatus.ERROR' or 'JobStatus.Canceled'. Aborting.... IN FILE: /Users/mha/My Drive/Desktop/Studium/Physik/MSc/Semester 3/IBM/IBM GIT/Soft-Info/libs/qiskit-saver-provider/result_saver/provider/saver_provider.py, LINE: 67\n",
      "11:02:23 Warning: Job ID cn2b195vayrg008egp3g has 'JobStatus.ERROR' or 'JobStatus.Canceled'. Aborting.... IN FILE: /Users/mha/My Drive/Desktop/Studium/Physik/MSc/Semester 3/IBM/IBM GIT/Soft-Info/libs/qiskit-saver-provider/result_saver/provider/saver_provider.py, LINE: 67\n",
      "11:02:23 Warning: Job ID cn2b14wrmwhg008jxgv0 has 'JobStatus.ERROR' or 'JobStatus.Canceled'. Aborting.... IN FILE: /Users/mha/My Drive/Desktop/Studium/Physik/MSc/Semester 3/IBM/IBM GIT/Soft-Info/libs/qiskit-saver-provider/result_saver/provider/saver_provider.py, LINE: 67\n",
      "11:02:23 Warning: Job ID cn2b0ykp1am0008q77zg has 'JobStatus.ERROR' or 'JobStatus.Canceled'. Aborting.... IN FILE: /Users/mha/My Drive/Desktop/Studium/Physik/MSc/Semester 3/IBM/IBM GIT/Soft-Info/libs/qiskit-saver-provider/result_saver/provider/saver_provider.py, LINE: 67\n",
      "11:02:23 Warning: Job ID cn2b0tvdaqbg008sqr1g has 'JobStatus.ERROR' or 'JobStatus.Canceled'. Aborting.... IN FILE: /Users/mha/My Drive/Desktop/Studium/Physik/MSc/Semester 3/IBM/IBM GIT/Soft-Info/libs/qiskit-saver-provider/result_saver/provider/saver_provider.py, LINE: 67\n",
      "11:02:23 Warning: Job ID cn2b0parmwhg008jxgtg has 'JobStatus.ERROR' or 'JobStatus.Canceled'. Aborting.... IN FILE: /Users/mha/My Drive/Desktop/Studium/Physik/MSc/Semester 3/IBM/IBM GIT/Soft-Info/libs/qiskit-saver-provider/result_saver/provider/saver_provider.py, LINE: 67\n",
      "11:02:23 Warning: Job ID cn2b0hjvayrg008egp2g has 'JobStatus.ERROR' or 'JobStatus.Canceled'. Aborting.... IN FILE: /Users/mha/My Drive/Desktop/Studium/Physik/MSc/Semester 3/IBM/IBM GIT/Soft-Info/libs/qiskit-saver-provider/result_saver/provider/saver_provider.py, LINE: 67\n",
      "11:02:26 Warning: Job ID cn2azc53r3vg008f53bg has 'JobStatus.ERROR' or 'JobStatus.Canceled'. Aborting.... IN FILE: /Users/mha/My Drive/Desktop/Studium/Physik/MSc/Semester 3/IBM/IBM GIT/Soft-Info/libs/qiskit-saver-provider/result_saver/provider/saver_provider.py, LINE: 67\n",
      "11:02:26 Warning: Job ID cn2az5mvcq70008qm47g has 'JobStatus.ERROR' or 'JobStatus.Canceled'. Aborting.... IN FILE: /Users/mha/My Drive/Desktop/Studium/Physik/MSc/Semester 3/IBM/IBM GIT/Soft-Info/libs/qiskit-saver-provider/result_saver/provider/saver_provider.py, LINE: 67\n",
      "11:02:27 Warning: Job ID cn2aydhvcq70008qm46g has 'JobStatus.ERROR' or 'JobStatus.Canceled'. Aborting.... IN FILE: /Users/mha/My Drive/Desktop/Studium/Physik/MSc/Semester 3/IBM/IBM GIT/Soft-Info/libs/qiskit-saver-provider/result_saver/provider/saver_provider.py, LINE: 67\n",
      "11:02:27 Warning: Job ID cn2ay6r3r3vg008f53a0 has 'JobStatus.ERROR' or 'JobStatus.Canceled'. Aborting.... IN FILE: /Users/mha/My Drive/Desktop/Studium/Physik/MSc/Semester 3/IBM/IBM GIT/Soft-Info/libs/qiskit-saver-provider/result_saver/provider/saver_provider.py, LINE: 67\n",
      "11:02:27 Warning: Job ID cn2ay0gdaqbg008sqr10 has 'JobStatus.ERROR' or 'JobStatus.Canceled'. Aborting.... IN FILE: /Users/mha/My Drive/Desktop/Studium/Physik/MSc/Semester 3/IBM/IBM GIT/Soft-Info/libs/qiskit-saver-provider/result_saver/provider/saver_provider.py, LINE: 67\n",
      "11:02:27 Warning: Job ID cn2axtq3r3vg008f5390 has 'JobStatus.ERROR' or 'JobStatus.Canceled'. Aborting.... IN FILE: /Users/mha/My Drive/Desktop/Studium/Physik/MSc/Semester 3/IBM/IBM GIT/Soft-Info/libs/qiskit-saver-provider/result_saver/provider/saver_provider.py, LINE: 67\n",
      "11:02:28 Warning: Job ID cn2axm6p1am0008q77y0 has 'JobStatus.ERROR' or 'JobStatus.Canceled'. Aborting.... IN FILE: /Users/mha/My Drive/Desktop/Studium/Physik/MSc/Semester 3/IBM/IBM GIT/Soft-Info/libs/qiskit-saver-provider/result_saver/provider/saver_provider.py, LINE: 67\n",
      "11:02:28 Warning: Job ID cn2axe5vcq70008qm460 has 'JobStatus.ERROR' or 'JobStatus.Canceled'. Aborting.... IN FILE: /Users/mha/My Drive/Desktop/Studium/Physik/MSc/Semester 3/IBM/IBM GIT/Soft-Info/libs/qiskit-saver-provider/result_saver/provider/saver_provider.py, LINE: 67\n",
      "11:02:28 Warning: Job ID cn2ax85vayrg008egp20 has 'JobStatus.ERROR' or 'JobStatus.Canceled'. Aborting.... IN FILE: /Users/mha/My Drive/Desktop/Studium/Physik/MSc/Semester 3/IBM/IBM GIT/Soft-Info/libs/qiskit-saver-provider/result_saver/provider/saver_provider.py, LINE: 67\n",
      "11:02:28 Warning: Job ID cn2ax2cdaqbg008sqr00 has 'JobStatus.ERROR' or 'JobStatus.Canceled'. Aborting.... IN FILE: /Users/mha/My Drive/Desktop/Studium/Physik/MSc/Semester 3/IBM/IBM GIT/Soft-Info/libs/qiskit-saver-provider/result_saver/provider/saver_provider.py, LINE: 67\n",
      "11:02:28 Warning: Job ID cn2awwbp1am0008q77xg has 'JobStatus.ERROR' or 'JobStatus.Canceled'. Aborting.... IN FILE: /Users/mha/My Drive/Desktop/Studium/Physik/MSc/Semester 3/IBM/IBM GIT/Soft-Info/libs/qiskit-saver-provider/result_saver/provider/saver_provider.py, LINE: 67\n",
      "11:02:28 Warning: Job ID cn2awrbvcq70008qm45g has 'JobStatus.ERROR' or 'JobStatus.Canceled'. Aborting.... IN FILE: /Users/mha/My Drive/Desktop/Studium/Physik/MSc/Semester 3/IBM/IBM GIT/Soft-Info/libs/qiskit-saver-provider/result_saver/provider/saver_provider.py, LINE: 67\n",
      "11:02:29 Warning: Job ID cn2awktvayrg008egp1g has 'JobStatus.ERROR' or 'JobStatus.Canceled'. Aborting.... IN FILE: /Users/mha/My Drive/Desktop/Studium/Physik/MSc/Semester 3/IBM/IBM GIT/Soft-Info/libs/qiskit-saver-provider/result_saver/provider/saver_provider.py, LINE: 67\n",
      "11:02:29 Warning: Job ID cn2awchp1am0008q77x0 has 'JobStatus.ERROR' or 'JobStatus.Canceled'. Aborting.... IN FILE: /Users/mha/My Drive/Desktop/Studium/Physik/MSc/Semester 3/IBM/IBM GIT/Soft-Info/libs/qiskit-saver-provider/result_saver/provider/saver_provider.py, LINE: 67\n",
      "11:02:29 Warning: Job ID cn2aw7gp1am0008q77wg has 'JobStatus.ERROR' or 'JobStatus.Canceled'. Aborting.... IN FILE: /Users/mha/My Drive/Desktop/Studium/Physik/MSc/Semester 3/IBM/IBM GIT/Soft-Info/libs/qiskit-saver-provider/result_saver/provider/saver_provider.py, LINE: 67\n",
      "11:02:29 Warning: Job ID cn2aw48rmwhg008jxgsg has 'JobStatus.ERROR' or 'JobStatus.Canceled'. Aborting.... IN FILE: /Users/mha/My Drive/Desktop/Studium/Physik/MSc/Semester 3/IBM/IBM GIT/Soft-Info/libs/qiskit-saver-provider/result_saver/provider/saver_provider.py, LINE: 67\n",
      "11:02:29 Warning: Job ID cn2aw00vayrg008egp0g has 'JobStatus.ERROR' or 'JobStatus.Canceled'. Aborting.... IN FILE: /Users/mha/My Drive/Desktop/Studium/Physik/MSc/Semester 3/IBM/IBM GIT/Soft-Info/libs/qiskit-saver-provider/result_saver/provider/saver_provider.py, LINE: 67\n",
      "11:02:29 Warning: Job ID cn2avvf3r3vg008f538g has 'JobStatus.ERROR' or 'JobStatus.Canceled'. Aborting.... IN FILE: /Users/mha/My Drive/Desktop/Studium/Physik/MSc/Semester 3/IBM/IBM GIT/Soft-Info/libs/qiskit-saver-provider/result_saver/provider/saver_provider.py, LINE: 67\n",
      "Interrupted\n"
     ]
    }
   ],
   "source": [
    "from time import sleep\n",
    "\n",
    "start_idx = 0 # Initialize starting index\n",
    "\n",
    "while True:  # Outer loop to restart when a specific error occurs\n",
    "    try:\n",
    "        for idx, job_id in enumerate(tqdm(df.job_id[start_idx:])):\n",
    "\n",
    "            provider.retrieve_job(job_id, _ignore_running=False)\n",
    "\n",
    "            start_idx = start_idx + 1  \n",
    "        break  \n",
    "    except KeyboardInterrupt:\n",
    "        print('Interrupted')\n",
    "        break  \n",
    "    except Exception as e:\n",
    "        if 'RequestsApiError' in str(type(e)):\n",
    "            print(f'\\nRequestsApiError occurred at job index {start_idx}, retrying...')\n",
    "            sleep(5) \n",
    "        else:\n",
    "            print(f'An unexpected error occurred: {e}')\n",
    "            break  \n"
   ]
  },
  {
   "cell_type": "code",
   "execution_count": null,
   "metadata": {},
   "outputs": [],
   "source": [
    "df = df[df['job_id']==\"cmxnz9dwjay0008cnwc0\"]\n",
    "if df.job_status.values == 'JobStatus.DONE':\n",
    "    print(\"Job is done\")    "
   ]
  }
 ],
 "metadata": {
  "kernelspec": {
   "display_name": "Soft-Info-kp2AnOc1",
   "language": "python",
   "name": "python3"
  },
  "language_info": {
   "codemirror_mode": {
    "name": "ipython",
    "version": 3
   },
   "file_extension": ".py",
   "mimetype": "text/x-python",
   "name": "python",
   "nbconvert_exporter": "python",
   "pygments_lexer": "ipython3",
   "version": "3.11.4"
  }
 },
 "nbformat": 4,
 "nbformat_minor": 2
}
