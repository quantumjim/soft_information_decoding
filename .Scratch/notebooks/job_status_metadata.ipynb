{
 "cells": [
  {
   "cell_type": "code",
   "execution_count": 1,
   "metadata": {},
   "outputs": [],
   "source": [
    "%reload_ext autoreload\n",
    "%autoreload 2"
   ]
  },
  {
   "cell_type": "code",
   "execution_count": 2,
   "metadata": {},
   "outputs": [],
   "source": [
    "from tqdm.notebook import tqdm\n",
    "from result_saver import SaverProvider\n",
    "provider = SaverProvider()"
   ]
  },
  {
   "cell_type": "code",
   "execution_count": 9,
   "metadata": {},
   "outputs": [
    {
     "data": {
      "text/html": [
       "<div>\n",
       "<style scoped>\n",
       "    .dataframe tbody tr th:only-of-type {\n",
       "        vertical-align: middle;\n",
       "    }\n",
       "\n",
       "    .dataframe tbody tr th {\n",
       "        vertical-align: top;\n",
       "    }\n",
       "\n",
       "    .dataframe thead th {\n",
       "        text-align: right;\n",
       "    }\n",
       "</style>\n",
       "<table border=\"1\" class=\"dataframe\">\n",
       "  <thead>\n",
       "    <tr style=\"text-align: right;\">\n",
       "      <th></th>\n",
       "      <th>creation_date</th>\n",
       "      <th>notebook_name</th>\n",
       "      <th>backend_name</th>\n",
       "      <th>job_id</th>\n",
       "      <th>job_name</th>\n",
       "      <th>job_metadata</th>\n",
       "      <th>tags</th>\n",
       "      <th>meas_level</th>\n",
       "      <th>init_qubits</th>\n",
       "      <th>meas_return</th>\n",
       "      <th>...</th>\n",
       "      <th>job_status</th>\n",
       "      <th>extra</th>\n",
       "      <th>optimization_level</th>\n",
       "      <th>code</th>\n",
       "      <th>distance</th>\n",
       "      <th>rounds</th>\n",
       "      <th>logical</th>\n",
       "      <th>layout</th>\n",
       "      <th>descr</th>\n",
       "      <th>execution_date</th>\n",
       "    </tr>\n",
       "  </thead>\n",
       "  <tbody>\n",
       "  </tbody>\n",
       "</table>\n",
       "<p>0 rows × 27 columns</p>\n",
       "</div>"
      ],
      "text/plain": [
       "Empty DataFrame\n",
       "Columns: [creation_date, notebook_name, backend_name, job_id, job_name, job_metadata, tags, meas_level, init_qubits, meas_return, skip_transpilation, shots, memory, tags_xp, rep_delay, sampled_state, num_qubits, job_status, extra, optimization_level, code, distance, rounds, logical, layout, descr, execution_date]\n",
       "Index: []\n",
       "\n",
       "[0 rows x 27 columns]"
      ]
     },
     "execution_count": 9,
     "metadata": {},
     "output_type": "execute_result"
    }
   ],
   "source": [
    "from Scratch import metadata_loader\n",
    "\n",
    "df = metadata_loader(_extract=True)\n",
    "df = df[~df['job_status'].isin(['JobStatus.DONE', 'JobStatus.ERROR', 'JobStatus.CANCELLED'])]\n",
    "df"
   ]
  },
  {
   "cell_type": "code",
   "execution_count": 10,
   "metadata": {},
   "outputs": [
    {
     "data": {
      "application/vnd.jupyter.widget-view+json": {
       "model_id": "032e09e5a9aa4f74a7740b1099141ce4",
       "version_major": 2,
       "version_minor": 0
      },
      "text/plain": [
       "0it [00:00, ?it/s]"
      ]
     },
     "metadata": {},
     "output_type": "display_data"
    }
   ],
   "source": [
    "from time import sleep\n",
    "\n",
    "start_idx = 0 # Initialize starting index\n",
    "\n",
    "while True:  # Outer loop to restart when a specific error occurs\n",
    "    try:\n",
    "        for idx, job_id in enumerate(tqdm(df.job_id[start_idx:])):\n",
    "\n",
    "            provider.retrieve_job(job_id, _ignore_running=False)\n",
    "\n",
    "            start_idx = start_idx + 1  \n",
    "        break  \n",
    "    except KeyboardInterrupt:\n",
    "        print('Interrupted')\n",
    "        break  \n",
    "    except Exception as e:\n",
    "        if 'RequestsApiError' in str(type(e)):\n",
    "            print(f'\\nRequestsApiError occurred at job index {start_idx}, retrying...')\n",
    "            sleep(5) \n",
    "        else:\n",
    "            print(f'An unexpected error occurred: {e}')\n",
    "            break  \n"
   ]
  },
  {
   "cell_type": "code",
   "execution_count": 13,
   "metadata": {},
   "outputs": [
    {
     "name": "stdout",
     "output_type": "stream",
     "text": [
      "(1, 5556)\n"
     ]
    }
   ],
   "source": [
    "memory = provider.retrieve_job('cnp4xn60k0p00088wmxg').result().get_memory()\n",
    "print(memory.shape)"
   ]
  },
  {
   "cell_type": "markdown",
   "metadata": {},
   "source": [
    "# update the metadata with the execution date"
   ]
  },
  {
   "cell_type": "code",
   "execution_count": 12,
   "metadata": {},
   "outputs": [
    {
     "data": {
      "application/vnd.jupyter.widget-view+json": {
       "model_id": "fc0c6153cee645dc89d0d0dd94c64ef0",
       "version_major": 2,
       "version_minor": 0
      },
      "text/plain": [
       "  0%|          | 0/1179 [00:00<?, ?it/s]"
      ]
     },
     "metadata": {},
     "output_type": "display_data"
    }
   ],
   "source": [
    "from Scratch import update_metadata\n",
    "\n",
    "df = metadata_loader(_extract=True)\n",
    "df = df[~df['job_status'].isin(['JobStatus.ERROR', 'JobStatus.CANCELLED'])]\n",
    "\n",
    "while True:  # Outer loop to restart when a specific error occurs\n",
    "    try:\n",
    "        for idx, job_id in enumerate(tqdm(df.job_id[start_idx:])):\n",
    "\n",
    "            ibm_job = provider.retrieve_job(job_id, _ignore_running=False)\n",
    "            additional_dict = {\"execution_date\": str(ibm_job.result().date)}\n",
    "            update_metadata(ibm_job, \"None_Backend\", additional_dict)\n",
    "\n",
    "            start_idx = start_idx + 1  \n",
    "        break  \n",
    "    except KeyboardInterrupt:\n",
    "        print('Interrupted')\n",
    "        break  \n",
    "    except Exception as e:\n",
    "        if 'RequestsApiError' in str(type(e)):\n",
    "            print(f'\\nRequestsApiError occurred at job index {start_idx}, retrying...')\n",
    "            sleep(5) \n",
    "        else:\n",
    "            print(f'An unexpected error occurred: {e}')\n",
    "            break  \n",
    "            "
   ]
  }
 ],
 "metadata": {
  "kernelspec": {
   "display_name": "Soft-Info-kp2AnOc1",
   "language": "python",
   "name": "python3"
  },
  "language_info": {
   "codemirror_mode": {
    "name": "ipython",
    "version": 3
   },
   "file_extension": ".py",
   "mimetype": "text/x-python",
   "name": "python",
   "nbconvert_exporter": "python",
   "pygments_lexer": "ipython3",
   "version": "3.11.4"
  }
 },
 "nbformat": 4,
 "nbformat_minor": 2
}
