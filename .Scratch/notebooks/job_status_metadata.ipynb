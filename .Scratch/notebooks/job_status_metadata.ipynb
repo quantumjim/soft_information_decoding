{
 "cells": [
  {
   "cell_type": "code",
   "execution_count": 1,
   "metadata": {},
   "outputs": [],
   "source": [
    "from result_saver import SaverProvider\n",
    "from Scratch import metadata_loader\n",
    "provider = SaverProvider()"
   ]
  },
  {
   "cell_type": "code",
   "execution_count": 2,
   "metadata": {},
   "outputs": [],
   "source": [
    "df = metadata_loader(extract=True)\n",
    "#df = df[df.job_status != 'JobStatus.QUEUED']\n"
   ]
  },
  {
   "cell_type": "code",
   "execution_count": 3,
   "metadata": {},
   "outputs": [
    {
     "name": "stdout",
     "output_type": "stream",
     "text": [
      "13:21:47 Warning: Job ID cmxpnq65z3p0008dmqy0 not found in /Users/mha/My Drive/Desktop/Studium/Physik/Master/Semester 3/IBM/IBM GIT/Soft-Info/.Scratch/jobs. Retrieving it from the IBMQ provider...\n",
      "13:21:56 Warning: Job ID cmxpnq65z3p0008dmqy0 is still running. Aborting...\n",
      "13:21:56 Warning: Job ID cmxpnpepbeb00088n6d0 not found in /Users/mha/My Drive/Desktop/Studium/Physik/Master/Semester 3/IBM/IBM GIT/Soft-Info/.Scratch/jobs. Retrieving it from the IBMQ provider...\n",
      "13:22:05 Warning: Job ID cmxpnpepbeb00088n6d0 is still running. Aborting...\n",
      "13:22:05 Warning: Job ID cmxpnmypbeb00088n6cg has 'JobStatus.ERROR'. Aborting...\n",
      "13:22:05 Warning: Job ID cmxpnm6pbeb00088n6c0 has 'JobStatus.ERROR'. Aborting...\n",
      "13:22:05 Warning: Job ID cmxphppbgfs0008763yg has 'JobStatus.ERROR'. Aborting...\n",
      "13:22:05 Warning: Job ID cmxphny5z3p0008dmqsg has 'JobStatus.ERROR'. Aborting...\n",
      "13:22:05 Warning: Job ID cmxph2cbgfs0008763xg not found in /Users/mha/My Drive/Desktop/Studium/Physik/Master/Semester 3/IBM/IBM GIT/Soft-Info/.Scratch/jobs. Retrieving it from the IBMQ provider...\n",
      "13:22:20 Warning: Job ID cmxph2cbgfs0008763xg is still running. Aborting...\n",
      "13:22:20 Warning: Job ID cmxph0cevjqg008aj6vg not found in /Users/mha/My Drive/Desktop/Studium/Physik/Master/Semester 3/IBM/IBM GIT/Soft-Info/.Scratch/jobs. Retrieving it from the IBMQ provider...\n",
      "13:22:32 Warning: Job ID cmxph0cevjqg008aj6vg is still running. Aborting...\n",
      "13:22:32 Warning: Job ID cmxpg91evjqg008aj6t0 has 'JobStatus.ERROR'. Aborting...\n",
      "13:22:32 Warning: Job ID cmxpg895z3p0008dmqp0 has 'JobStatus.ERROR'. Aborting...\n",
      "13:22:38 Warning: Job ID cmx8c08atcpg0084s300 has 'JobStatus.ERROR'. Aborting...\n",
      "13:22:38 Warning: Job ID cmx8bzqwjay0008cnb90 has 'JobStatus.ERROR'. Aborting...\n",
      "13:22:38 Warning: Job ID cmx63npatcpg0084rx7g has 'JobStatus.ERROR'. Aborting...\n",
      "13:22:38 Warning: Job ID cmx63mewjay0008cn5s0 has 'JobStatus.ERROR'. Aborting...\n",
      "13:22:39 Warning: Job ID cmx5g8h7xy7g0089rwc0 has 'JobStatus.ERROR'. Aborting...\n",
      "13:22:39 Warning: Job ID cmx5g7rapzf0008zvvq0 has 'JobStatus.ERROR'. Aborting...\n",
      "13:22:39 Warning: Job ID cmx5e1gapzf0008zvvgg has 'JobStatus.ERROR'. Aborting...\n",
      "13:22:39 Warning: Job ID cmx5dxqd31100080b240 has 'JobStatus.ERROR'. Aborting...\n",
      "13:22:39 Warning: Job ID cmwfvgpk20pg008eq7jg has 'JobStatus.ERROR'. Aborting...\n",
      "13:22:39 Warning: Job ID cmwfrmak20pg008eq7d0 has 'JobStatus.ERROR'. Aborting...\n",
      "13:22:39 Warning: Job ID cmvyazbk20pg008epbzg not found in /Users/mha/My Drive/Desktop/Studium/Physik/Master/Semester 3/IBM/IBM GIT/Soft-Info/.Scratch/jobs. Retrieving it from the IBMQ provider...\n",
      "13:22:59 Warning: Job ID cmvy9sf23ve0008zm1bg not found in /Users/mha/My Drive/Desktop/Studium/Physik/Master/Semester 3/IBM/IBM GIT/Soft-Info/.Scratch/jobs. Retrieving it from the IBMQ provider...\n",
      "13:23:25 Warning: Job ID cmvwkbnjad30008ec01g not found in /Users/mha/My Drive/Desktop/Studium/Physik/Master/Semester 3/IBM/IBM GIT/Soft-Info/.Scratch/jobs. Retrieving it from the IBMQ provider...\n",
      "13:24:00 Warning: Job ID cmvvycsvpdgg008geya0 not found in /Users/mha/My Drive/Desktop/Studium/Physik/Master/Semester 3/IBM/IBM GIT/Soft-Info/.Scratch/jobs. Retrieving it from the IBMQ provider...\n",
      "13:24:37 Warning: Job ID cmvpdvzeskrg008xzwx0 not found in /Users/mha/My Drive/Desktop/Studium/Physik/Master/Semester 3/IBM/IBM GIT/Soft-Info/.Scratch/jobs. Retrieving it from the IBMQ provider...\n",
      "13:25:01 Warning: Job ID cmvp9f5421n00081qnng not found in /Users/mha/My Drive/Desktop/Studium/Physik/Master/Semester 3/IBM/IBM GIT/Soft-Info/.Scratch/jobs. Retrieving it from the IBMQ provider...\n"
     ]
    }
   ],
   "source": [
    "for job_id in df.job_id:\n",
    "    provider.retrieve_job(job_id)"
   ]
  },
  {
   "cell_type": "code",
   "execution_count": null,
   "metadata": {},
   "outputs": [],
   "source": [
    "df = df[df['job_id']==\"cmxnz9dwjay0008cnwc0\"]\n",
    "if df.job_status.values == 'JobStatus.DONE':\n",
    "    print(\"Job is done\")    "
   ]
  }
 ],
 "metadata": {
  "kernelspec": {
   "display_name": "Soft-Info-kp2AnOc1",
   "language": "python",
   "name": "python3"
  },
  "language_info": {
   "codemirror_mode": {
    "name": "ipython",
    "version": 3
   },
   "file_extension": ".py",
   "mimetype": "text/x-python",
   "name": "python",
   "nbconvert_exporter": "python",
   "pygments_lexer": "ipython3",
   "version": "3.11.4"
  }
 },
 "nbformat": 4,
 "nbformat_minor": 2
}
