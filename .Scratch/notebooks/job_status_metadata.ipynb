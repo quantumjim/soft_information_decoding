{
 "cells": [
  {
   "cell_type": "code",
   "execution_count": 1,
   "metadata": {},
   "outputs": [],
   "source": [
    "from result_saver import SaverProvider, metadata_loader\n",
    "provider = SaverProvider()"
   ]
  },
  {
   "cell_type": "code",
   "execution_count": 2,
   "metadata": {},
   "outputs": [
    {
     "name": "stdout",
     "output_type": "stream",
     "text": [
      "Custom Warning: Job ID cmxpns7evjqg008aj740 not found in /Users/mha/My Drive/Desktop/Studium/Physik/Master/Semester 3/IBM/IBM GIT/Soft-Info/.Scratch/jobs. Retrieving it from the IBMQ provider...\n",
      "\n",
      "Custom Warning: Job ID cmxpns7evjqg008aj740 is still running. Aborting...\n",
      "\n",
      "Custom Warning: Job ID cmxpnrf5z3p0008dmqyg not found in /Users/mha/My Drive/Desktop/Studium/Physik/Master/Semester 3/IBM/IBM GIT/Soft-Info/.Scratch/jobs. Retrieving it from the IBMQ provider...\n",
      "\n",
      "Custom Warning: Job ID cmxpnrf5z3p0008dmqyg is still running. Aborting...\n",
      "\n",
      "Custom Warning: Job ID cmxpnq65z3p0008dmqy0 not found in /Users/mha/My Drive/Desktop/Studium/Physik/Master/Semester 3/IBM/IBM GIT/Soft-Info/.Scratch/jobs. Retrieving it from the IBMQ provider...\n",
      "\n",
      "Custom Warning: Job ID cmxpnq65z3p0008dmqy0 is still running. Aborting...\n",
      "\n",
      "Custom Warning: Job ID cmxpnpepbeb00088n6d0 not found in /Users/mha/My Drive/Desktop/Studium/Physik/Master/Semester 3/IBM/IBM GIT/Soft-Info/.Scratch/jobs. Retrieving it from the IBMQ provider...\n",
      "\n",
      "Custom Warning: Job ID cmxpnpepbeb00088n6d0 is still running. Aborting...\n",
      "\n",
      "Custom Warning: Job ID cmxpnmypbeb00088n6cg not found in /Users/mha/My Drive/Desktop/Studium/Physik/Master/Semester 3/IBM/IBM GIT/Soft-Info/.Scratch/jobs. Retrieving it from the IBMQ provider...\n",
      "\n",
      "Custom Warning: Job ID cmxpnmypbeb00088n6cg is still running. Aborting...\n",
      "\n",
      "Custom Warning: Job ID cmxpnm6pbeb00088n6c0 not found in /Users/mha/My Drive/Desktop/Studium/Physik/Master/Semester 3/IBM/IBM GIT/Soft-Info/.Scratch/jobs. Retrieving it from the IBMQ provider...\n",
      "\n",
      "Custom Warning: Job ID cmxpnm6pbeb00088n6c0 is still running. Aborting...\n",
      "\n",
      "Custom Warning: Job ID cmxphppbgfs0008763yg not found in /Users/mha/My Drive/Desktop/Studium/Physik/Master/Semester 3/IBM/IBM GIT/Soft-Info/.Scratch/jobs. Retrieving it from the IBMQ provider...\n",
      "\n",
      "Custom Warning: Job ID cmxphppbgfs0008763yg is still running. Aborting...\n",
      "\n",
      "Custom Warning: Job ID cmxphny5z3p0008dmqsg not found in /Users/mha/My Drive/Desktop/Studium/Physik/Master/Semester 3/IBM/IBM GIT/Soft-Info/.Scratch/jobs. Retrieving it from the IBMQ provider...\n",
      "\n",
      "Custom Warning: Job ID cmxphny5z3p0008dmqsg is still running. Aborting...\n",
      "\n",
      "Custom Warning: Job ID cmxph2cbgfs0008763xg not found in /Users/mha/My Drive/Desktop/Studium/Physik/Master/Semester 3/IBM/IBM GIT/Soft-Info/.Scratch/jobs. Retrieving it from the IBMQ provider...\n",
      "\n",
      "Custom Warning: Job ID cmxph2cbgfs0008763xg is still running. Aborting...\n",
      "\n",
      "Custom Warning: Job ID cmxph0cevjqg008aj6vg not found in /Users/mha/My Drive/Desktop/Studium/Physik/Master/Semester 3/IBM/IBM GIT/Soft-Info/.Scratch/jobs. Retrieving it from the IBMQ provider...\n",
      "\n"
     ]
    }
   ],
   "source": [
    "df = metadata_loader()\n",
    "\n",
    "for job_id in df.job_id:\n",
    "    provider.retrieve_job(job_id)"
   ]
  },
  {
   "cell_type": "code",
   "execution_count": null,
   "metadata": {},
   "outputs": [],
   "source": []
  }
 ],
 "metadata": {
  "kernelspec": {
   "display_name": "Soft-Info-kp2AnOc1",
   "language": "python",
   "name": "python3"
  },
  "language_info": {
   "codemirror_mode": {
    "name": "ipython",
    "version": 3
   },
   "file_extension": ".py",
   "mimetype": "text/x-python",
   "name": "python",
   "nbconvert_exporter": "python",
   "pygments_lexer": "ipython3",
   "version": "3.11.4"
  }
 },
 "nbformat": 4,
 "nbformat_minor": 2
}
