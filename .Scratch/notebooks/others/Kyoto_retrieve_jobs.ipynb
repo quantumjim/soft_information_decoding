{
 "cells": [
  {
   "cell_type": "code",
   "execution_count": 1,
   "metadata": {},
   "outputs": [],
   "source": [
    "from result_saver import SaverProvider\n",
    "\n",
    "provider = SaverProvider()"
   ]
  },
  {
   "cell_type": "code",
   "execution_count": 2,
   "metadata": {},
   "outputs": [],
   "source": [
    "backend = provider.get_backend('ibm_kyoto')"
   ]
  },
  {
   "cell_type": "code",
   "execution_count": 4,
   "metadata": {},
   "outputs": [],
   "source": [
    "from qiskit_ibm_provider import IBMProvider\n",
    "\n",
    "providerIBM = IBMProvider()"
   ]
  },
  {
   "cell_type": "code",
   "execution_count": 35,
   "metadata": {},
   "outputs": [],
   "source": [
    "jobs = provider.jobs(backend_name='ibm_kyoto', limit=500)"
   ]
  },
  {
   "cell_type": "code",
   "execution_count": 96,
   "metadata": {},
   "outputs": [
    {
     "name": "stdout",
     "output_type": "stream",
     "text": [
      "{'distance': 51, 'rounds': 50, 'logical': 0, 'xbasis': False}\n"
     ]
    },
    {
     "data": {
      "text/plain": [
       "(True, False)"
      ]
     },
     "execution_count": 96,
     "metadata": {},
     "output_type": "execute_result"
    }
   ],
   "source": [
    "import re\n",
    "\n",
    "def parse_string_RepCodes(tags):\n",
    "    string_ = tags[0]\n",
    "    pattern = re.compile(r\"RESET (\\d+), (\\d+), (\\d+), xbasis=(\\w+)\")\n",
    "\n",
    "    match = pattern.search(string_)\n",
    "    if match:\n",
    "        return {\n",
    "            'distance': int(match.group(1)),\n",
    "            'rounds': int(match.group(2)),\n",
    "            'logical': int(match.group(3)),\n",
    "            'xbasis': True if (match.group(4)) == 'True' else False\n",
    "        }\n",
    "    else:\n",
    "        return None\n",
    "        \n",
    "\n",
    "def is_calib_str(tags):\n",
    "\n",
    "    if 'Calibration' not in tags[0]:\n",
    "        return False, False\n",
    "\n",
    "    else:\n",
    "        double = True if len(tags) > 1 else False\n",
    "\n",
    "        return True, double\n",
    "\n",
    "\n",
    "print(parse_string_RepCodes([\"120 del w/ RESET 51, 50, 0, xbasis=False\"]))\n",
    "is_calib_str([\"Calibration, shots 31496\"])"
   ]
  },
  {
   "cell_type": "code",
   "execution_count": 105,
   "metadata": {},
   "outputs": [
    {
     "name": "stderr",
     "output_type": "stream",
     "text": [
      "100%|██████████| 473/473 [00:00<00:00, 126872.53it/s]\n"
     ]
    }
   ],
   "source": [
    "from tqdm import tqdm\n",
    "\n",
    "entries = []\n",
    "calib_count = 0\n",
    "for job in tqdm(jobs):\n",
    "    if str(job.status()) != 'JobStatus.DONE':\n",
    "        continue\n",
    "    tags = job.tags()\n",
    "\n",
    "    calib, double = is_calib_str(tags)\n",
    "\n",
    "    if not calib:\n",
    "        parsed = parse_string_RepCodes(tags)\n",
    "        additional_metadata = {\n",
    "            'descr': 'With Resets 50 rounds',\n",
    "            'code': \"RepetitionCodeCircuit\",\n",
    "            'distance': parsed['distance'],\n",
    "            'rounds': parsed['rounds'],\n",
    "            'logical': parsed['logical'],\n",
    "            'xbasis': parsed['xbasis'],\n",
    "            'resets': True,\n",
    "            'job_status': \"JobStatus.RUNNING\",\n",
    "        }\n",
    "    else:\n",
    "        if calib_count % 4 < 2:\n",
    "            sampled_state = '0'*127\n",
    "        else:\n",
    "            sampled_state = '1'*127\n",
    "        calib_count += 1\n",
    "        additional_metadata = {\n",
    "            'num_qubits': 127,\n",
    "            \"sampled_state\": sampled_state,\n",
    "            'optimization_level': 0,\n",
    "            'double_msmt': double,\n",
    "            'job_status': \"JobStatus.RUNNING\",\n",
    "        }\n",
    "    \n",
    "    entry_dict = {\n",
    "        'creation_date': str(job.creation_date()),\n",
    "        'notebook_name': 'Kyoto_retrieve_jobs.ipynb',\n",
    "        'bakend_name': 'ibm_kyoto',\n",
    "        'backend_options': job.backend_options(),\n",
    "        'additional_metadata': additional_metadata,\n",
    "        'job_id': job.job_id(),\n",
    "        'tags': tags,\n",
    "    }\n",
    "    entries.append(entry_dict)\n"
   ]
  },
  {
   "cell_type": "code",
   "execution_count": 106,
   "metadata": {},
   "outputs": [
    {
     "data": {
      "text/plain": [
       "100"
      ]
     },
     "execution_count": 106,
     "metadata": {},
     "output_type": "execute_result"
    }
   ],
   "source": [
    "len(entries)"
   ]
  },
  {
   "cell_type": "code",
   "execution_count": 107,
   "metadata": {},
   "outputs": [],
   "source": [
    "import json\n",
    "\n",
    "file_path = '/Users/mha/My_Drive/Desktop/Studium/Physik/MSc/Semester_3/IBM/IBM_GIT/Soft-Info/.Scratch/job_metadata.json'\n",
    "with open(file_path, 'r') as file:\n",
    "    metadata_list = json.load(file)\n",
    "\n",
    "for entry in entries:\n",
    "    metadata_list.append(entry)\n",
    "\n",
    "with open(file_path, 'w') as file:\n",
    "    json.dump(metadata_list, file, indent=4)"
   ]
  },
  {
   "cell_type": "code",
   "execution_count": null,
   "metadata": {},
   "outputs": [],
   "source": []
  },
  {
   "cell_type": "code",
   "execution_count": null,
   "metadata": {},
   "outputs": [],
   "source": []
  }
 ],
 "metadata": {
  "kernelspec": {
   "display_name": "Soft-Info-fMUpUe5a",
   "language": "python",
   "name": "python3"
  },
  "language_info": {
   "codemirror_mode": {
    "name": "ipython",
    "version": 3
   },
   "file_extension": ".py",
   "mimetype": "text/x-python",
   "name": "python",
   "nbconvert_exporter": "python",
   "pygments_lexer": "ipython3",
   "version": "3.11.4"
  }
 },
 "nbformat": 4,
 "nbformat_minor": 2
}
