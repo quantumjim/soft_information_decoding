{
 "cells": [
  {
   "cell_type": "code",
   "execution_count": 12,
   "metadata": {},
   "outputs": [],
   "source": [
    "import numpy as np\n",
    "from qiskit_aer import AerSimulator\n",
    "from qiskit import QuantumCircuit, QuantumRegister, ClassicalRegister, execute\n",
    "from qiskit_ibm_provider import IBMProvider\n",
    "from qiskit import transpile\n",
    "import matplotlib.pyplot as plt\n"
   ]
  },
  {
   "cell_type": "code",
   "execution_count": 5,
   "metadata": {},
   "outputs": [
    {
     "data": {
      "text/html": [
       "<pre style=\"word-wrap: normal;white-space: pre;background: #fff0;line-height: 1.1;font-family: &quot;Courier New&quot;,Courier,monospace\">      ┌───┐┌───┐┌───┐┌───┐┌───┐┌───┐┌───┐┌───┐┌───┐┌───┐┌─┐\n",
       "  q0: ┤ H ├┤ H ├┤ H ├┤ H ├┤ H ├┤ H ├┤ H ├┤ H ├┤ H ├┤ H ├┤M├\n",
       "      └───┘└───┘└───┘└───┘└───┘└───┘└───┘└───┘└───┘└───┘└╥┘\n",
       "c0: 1/═══════════════════════════════════════════════════╩═\n",
       "                                                         0 </pre>"
      ],
      "text/plain": [
       "      ┌───┐┌───┐┌───┐┌───┐┌───┐┌───┐┌───┐┌───┐┌───┐┌───┐┌─┐\n",
       "  q0: ┤ H ├┤ H ├┤ H ├┤ H ├┤ H ├┤ H ├┤ H ├┤ H ├┤ H ├┤ H ├┤M├\n",
       "      └───┘└───┘└───┘└───┘└───┘└───┘└───┘└───┘└───┘└───┘└╥┘\n",
       "c0: 1/═══════════════════════════════════════════════════╩═\n",
       "                                                         0 "
      ]
     },
     "execution_count": 5,
     "metadata": {},
     "output_type": "execute_result"
    }
   ],
   "source": [
    "qr = QuantumRegister(1)\n",
    "cr = ClassicalRegister(1)\n",
    "\n",
    "qc = QuantumCircuit(qr, cr)\n",
    "\n",
    "# apply 10 Hadamard gates in series\n",
    "for i in range(10):\n",
    "    qc.h(qr)\n",
    "\n",
    "qc.measure(qr, cr)\n",
    "qc.draw(fold=-1)"
   ]
  },
  {
   "cell_type": "markdown",
   "metadata": {},
   "source": [
    "# We'll run it on the 7 qubit `'ibm_nairobi'`, whose coupling map is\n",
    "\n",
    "```\n",
    "    0--1--2\n",
    "       |\n",
    "       3\n",
    "       |\n",
    "    4--5--6\n",
    "```"
   ]
  },
  {
   "cell_type": "code",
   "execution_count": 6,
   "metadata": {},
   "outputs": [
    {
     "data": {
      "text/html": [
       "<pre style=\"word-wrap: normal;white-space: pre;background: #fff0;line-height: 1.1;font-family: &quot;Courier New&quot;,Courier,monospace\">global phase: π/2\n",
       "               ┌─────────┐┌────┐┌─────────┐┌─────────┐┌────┐┌─────────┐┌─────────┐┌────┐┌─────────┐┌─────────┐┌────┐┌─────────┐┌─────────┐┌────┐┌─────────┐┌─────────┐┌────┐┌─────────┐┌─────────┐┌────┐┌─────────┐┌─────────┐┌────┐┌─────────┐┌─────────┐┌────┐┌─────────┐┌─────────┐┌────┐┌─────────┐┌─┐\n",
       "     q0_0 -> 0 ┤ Rz(π/2) ├┤ √X ├┤ Rz(π/2) ├┤ Rz(π/2) ├┤ √X ├┤ Rz(π/2) ├┤ Rz(π/2) ├┤ √X ├┤ Rz(π/2) ├┤ Rz(π/2) ├┤ √X ├┤ Rz(π/2) ├┤ Rz(π/2) ├┤ √X ├┤ Rz(π/2) ├┤ Rz(π/2) ├┤ √X ├┤ Rz(π/2) ├┤ Rz(π/2) ├┤ √X ├┤ Rz(π/2) ├┤ Rz(π/2) ├┤ √X ├┤ Rz(π/2) ├┤ Rz(π/2) ├┤ √X ├┤ Rz(π/2) ├┤ Rz(π/2) ├┤ √X ├┤ Rz(π/2) ├┤M├\n",
       "               └─────────┘└────┘└─────────┘└─────────┘└────┘└─────────┘└─────────┘└────┘└─────────┘└─────────┘└────┘└─────────┘└─────────┘└────┘└─────────┘└─────────┘└────┘└─────────┘└─────────┘└────┘└─────────┘└─────────┘└────┘└─────────┘└─────────┘└────┘└─────────┘└─────────┘└────┘└─────────┘└╥┘\n",
       "ancilla_0 -> 1 ─────────────────────────────────────────────────────────────────────────────────────────────────────────────────────────────────────────────────────────────────────────────────────────────────────────────────────────────────────────────────────────────────────────────────────────╫─\n",
       "                                                                                                                                                                                                                                                                                                        ║ \n",
       "ancilla_1 -> 2 ─────────────────────────────────────────────────────────────────────────────────────────────────────────────────────────────────────────────────────────────────────────────────────────────────────────────────────────────────────────────────────────────────────────────────────────╫─\n",
       "                                                                                                                                                                                                                                                                                                        ║ \n",
       "ancilla_2 -> 3 ─────────────────────────────────────────────────────────────────────────────────────────────────────────────────────────────────────────────────────────────────────────────────────────────────────────────────────────────────────────────────────────────────────────────────────────╫─\n",
       "                                                                                                                                                                                                                                                                                                        ║ \n",
       "ancilla_3 -> 4 ─────────────────────────────────────────────────────────────────────────────────────────────────────────────────────────────────────────────────────────────────────────────────────────────────────────────────────────────────────────────────────────────────────────────────────────╫─\n",
       "                                                                                                                                                                                                                                                                                                        ║ \n",
       "ancilla_4 -> 5 ─────────────────────────────────────────────────────────────────────────────────────────────────────────────────────────────────────────────────────────────────────────────────────────────────────────────────────────────────────────────────────────────────────────────────────────╫─\n",
       "                                                                                                                                                                                                                                                                                                        ║ \n",
       "ancilla_5 -> 6 ─────────────────────────────────────────────────────────────────────────────────────────────────────────────────────────────────────────────────────────────────────────────────────────────────────────────────────────────────────────────────────────────────────────────────────────╫─\n",
       "                                                                                                                                                                                                                                                                                                        ║ \n",
       "         c0: 1/═════════════════════════════════════════════════════════════════════════════════════════════════════════════════════════════════════════════════════════════════════════════════════════════════════════════════════════════════════════════════════════════════════════════════════════╩═\n",
       "                                                                                                                                                                                                                                                                                                        0 </pre>"
      ],
      "text/plain": [
       "global phase: π/2\n",
       "               ┌─────────┐┌────┐┌─────────┐┌─────────┐┌────┐┌─────────┐┌─────────┐┌────┐┌─────────┐┌─────────┐┌────┐┌─────────┐┌─────────┐┌────┐┌─────────┐┌─────────┐┌────┐┌─────────┐┌─────────┐┌────┐┌─────────┐┌─────────┐┌────┐┌─────────┐┌─────────┐┌────┐┌─────────┐┌─────────┐┌────┐┌─────────┐┌─┐\n",
       "     q0_0 -> 0 ┤ Rz(π/2) ├┤ √X ├┤ Rz(π/2) ├┤ Rz(π/2) ├┤ √X ├┤ Rz(π/2) ├┤ Rz(π/2) ├┤ √X ├┤ Rz(π/2) ├┤ Rz(π/2) ├┤ √X ├┤ Rz(π/2) ├┤ Rz(π/2) ├┤ √X ├┤ Rz(π/2) ├┤ Rz(π/2) ├┤ √X ├┤ Rz(π/2) ├┤ Rz(π/2) ├┤ √X ├┤ Rz(π/2) ├┤ Rz(π/2) ├┤ √X ├┤ Rz(π/2) ├┤ Rz(π/2) ├┤ √X ├┤ Rz(π/2) ├┤ Rz(π/2) ├┤ √X ├┤ Rz(π/2) ├┤M├\n",
       "               └─────────┘└────┘└─────────┘└─────────┘└────┘└─────────┘└─────────┘└────┘└─────────┘└─────────┘└────┘└─────────┘└─────────┘└────┘└─────────┘└─────────┘└────┘└─────────┘└─────────┘└────┘└─────────┘└─────────┘└────┘└─────────┘└─────────┘└────┘└─────────┘└─────────┘└────┘└─────────┘└╥┘\n",
       "ancilla_0 -> 1 ─────────────────────────────────────────────────────────────────────────────────────────────────────────────────────────────────────────────────────────────────────────────────────────────────────────────────────────────────────────────────────────────────────────────────────────╫─\n",
       "                                                                                                                                                                                                                                                                                                        ║ \n",
       "ancilla_1 -> 2 ─────────────────────────────────────────────────────────────────────────────────────────────────────────────────────────────────────────────────────────────────────────────────────────────────────────────────────────────────────────────────────────────────────────────────────────╫─\n",
       "                                                                                                                                                                                                                                                                                                        ║ \n",
       "ancilla_2 -> 3 ─────────────────────────────────────────────────────────────────────────────────────────────────────────────────────────────────────────────────────────────────────────────────────────────────────────────────────────────────────────────────────────────────────────────────────────╫─\n",
       "                                                                                                                                                                                                                                                                                                        ║ \n",
       "ancilla_3 -> 4 ─────────────────────────────────────────────────────────────────────────────────────────────────────────────────────────────────────────────────────────────────────────────────────────────────────────────────────────────────────────────────────────────────────────────────────────╫─\n",
       "                                                                                                                                                                                                                                                                                                        ║ \n",
       "ancilla_4 -> 5 ─────────────────────────────────────────────────────────────────────────────────────────────────────────────────────────────────────────────────────────────────────────────────────────────────────────────────────────────────────────────────────────────────────────────────────────╫─\n",
       "                                                                                                                                                                                                                                                                                                        ║ \n",
       "ancilla_5 -> 6 ─────────────────────────────────────────────────────────────────────────────────────────────────────────────────────────────────────────────────────────────────────────────────────────────────────────────────────────────────────────────────────────────────────────────────────────╫─\n",
       "                                                                                                                                                                                                                                                                                                        ║ \n",
       "         c0: 1/═════════════════════════════════════════════════════════════════════════════════════════════════════════════════════════════════════════════════════════════════════════════════════════════════════════════════════════════════════════════════════════════════════════════════════════╩═\n",
       "                                                                                                                                                                                                                                                                                                        0 "
      ]
     },
     "execution_count": 6,
     "metadata": {},
     "output_type": "execute_result"
    }
   ],
   "source": [
    "provider = IBMProvider()\n",
    "backend = provider.get_backend('ibm_lagos')\n",
    "\n",
    "initial_layout = [0]\n",
    "transpiled_qc = transpile(qc, backend=backend, initial_layout=initial_layout, optimization_level=0)\n",
    "transpiled_qc.draw(fold=-1)"
   ]
  },
  {
   "cell_type": "markdown",
   "metadata": {},
   "source": [
    "# Submit job"
   ]
  },
  {
   "cell_type": "code",
   "execution_count": 43,
   "metadata": {},
   "outputs": [],
   "source": [
    "job_id = backend.run(transpiled_qc, shots=1e2, meas_level=1, meas_return='single' ).job_id() # with meas_level=0 no memory but counts, with meas_level=1 memory of IQ data & no counts"
   ]
  },
  {
   "cell_type": "markdown",
   "metadata": {},
   "source": [
    "# Check the job"
   ]
  },
  {
   "cell_type": "code",
   "execution_count": 44,
   "metadata": {},
   "outputs": [],
   "source": [
    "job_id = \"cmdermate72g008js3n0\""
   ]
  },
  {
   "cell_type": "code",
   "execution_count": 45,
   "metadata": {},
   "outputs": [
    {
     "name": "stdout",
     "output_type": "stream",
     "text": [
      "cmdermate72g008js3n0\n"
     ]
    },
    {
     "data": {
      "text/plain": [
       "<JobStatus.DONE: 'job has successfully run'>"
      ]
     },
     "execution_count": 45,
     "metadata": {},
     "output_type": "execute_result"
    }
   ],
   "source": [
    "print(job_id) # cmdermate72g008js3n0\n",
    "job = provider.retrieve_job(job_id)\n",
    "job.status()"
   ]
  },
  {
   "cell_type": "markdown",
   "metadata": {},
   "source": [
    "# Get the data"
   ]
  },
  {
   "cell_type": "markdown",
   "metadata": {},
   "source": [
    "## Data types on IBM Quantum backends¶\n",
    "\n",
    "IBM Quantum backends can return different types of data. There is counts data and IQ data [1], referred to as level 2 and level 1 data, respectively. Level 2 data corresponds to a dictionary with bit-strings as keys and the number of times the bit-string was measured as a value. Importantly for some experiments, the backends can return a lower data level known as IQ data. Here, I and Q stand for in phase and quadrature. The IQ are points in the complex plane corresponding to a time integrated measurement signal which is reflected or transmitted through the readout resonator depending on the setup. IQ data can be returned as “single” or “averaged” data. Here, single means that the outcome of each single shot is returned while average only returns the average of the IQ points over the measured shots. The type of data that an experiment should return is specified by the run_options() of an experiment.\n",
    "\n"
   ]
  },
  {
   "cell_type": "code",
   "execution_count": 46,
   "metadata": {},
   "outputs": [
    {
     "ename": "QiskitError",
     "evalue": "'No counts for experiment \"0\"'",
     "output_type": "error",
     "traceback": [
      "\u001b[0;31m---------------------------------------------------------------------------\u001b[0m",
      "\u001b[0;31mQiskitError\u001b[0m                               Traceback (most recent call last)",
      "\u001b[1;32m/Users/mha/My Drive/Desktop/Studium/Physik/Master/Semester 3/IBM/IBM GIT/Soft-Info/IQ Plane/Plot_IQ.ipynb Cell 12\u001b[0m line \u001b[0;36m3\n\u001b[1;32m      <a href='vscode-notebook-cell:/Users/mha/My%20Drive/Desktop/Studium/Physik/Master/Semester%203/IBM/IBM%20GIT/Soft-Info/IQ%20Plane/Plot_IQ.ipynb#X13sZmlsZQ%3D%3D?line=0'>1</a>\u001b[0m \u001b[39m# if meas_level=0\u001b[39;00m\n\u001b[0;32m----> <a href='vscode-notebook-cell:/Users/mha/My%20Drive/Desktop/Studium/Physik/Master/Semester%203/IBM/IBM%20GIT/Soft-Info/IQ%20Plane/Plot_IQ.ipynb#X13sZmlsZQ%3D%3D?line=2'>3</a>\u001b[0m counts \u001b[39m=\u001b[39m job\u001b[39m.\u001b[39;49mresult()\u001b[39m.\u001b[39;49mget_counts()\n\u001b[1;32m      <a href='vscode-notebook-cell:/Users/mha/My%20Drive/Desktop/Studium/Physik/Master/Semester%203/IBM/IBM%20GIT/Soft-Info/IQ%20Plane/Plot_IQ.ipynb#X13sZmlsZQ%3D%3D?line=3'>4</a>\u001b[0m counts\n",
      "File \u001b[0;32m~/.local/share/virtualenvs/Soft-Info-kp2AnOc1/lib/python3.11/site-packages/qiskit/result/result.py:289\u001b[0m, in \u001b[0;36mResult.get_counts\u001b[0;34m(self, experiment)\u001b[0m\n\u001b[1;32m    287\u001b[0m         dict_list\u001b[39m.\u001b[39mappend(statevector\u001b[39m.\u001b[39mStatevector(vec)\u001b[39m.\u001b[39mprobabilities_dict(decimals\u001b[39m=\u001b[39m\u001b[39m15\u001b[39m))\n\u001b[1;32m    288\u001b[0m     \u001b[39melse\u001b[39;00m:\n\u001b[0;32m--> 289\u001b[0m         \u001b[39mraise\u001b[39;00m QiskitError(\u001b[39mf\u001b[39m\u001b[39m'\u001b[39m\u001b[39mNo counts for experiment \u001b[39m\u001b[39m\"\u001b[39m\u001b[39m{\u001b[39;00m\u001b[39mrepr\u001b[39m(key)\u001b[39m}\u001b[39;00m\u001b[39m\"\u001b[39m\u001b[39m'\u001b[39m)\n\u001b[1;32m    291\u001b[0m \u001b[39m# Return first item of dict_list if size is 1\u001b[39;00m\n\u001b[1;32m    292\u001b[0m \u001b[39mif\u001b[39;00m \u001b[39mlen\u001b[39m(dict_list) \u001b[39m==\u001b[39m \u001b[39m1\u001b[39m:\n",
      "\u001b[0;31mQiskitError\u001b[0m: 'No counts for experiment \"0\"'"
     ]
    }
   ],
   "source": [
    "# if meas_level=0\n",
    "\n",
    "counts = job.result().get_counts()\n",
    "counts"
   ]
  },
  {
   "cell_type": "code",
   "execution_count": null,
   "metadata": {},
   "outputs": [
    {
     "name": "stdout",
     "output_type": "stream",
     "text": [
      "(100, 1)\n"
     ]
    },
    {
     "data": {
      "text/plain": [
       "array([[-7.46476110e+07-9.96593040e+07j],\n",
       "       [-6.25208600e+07-6.04884430e+07j],\n",
       "       [-7.61014490e+07-6.01415910e+07j],\n",
       "       [-6.75694040e+07-6.05329790e+07j],\n",
       "       [-7.40848660e+07-7.54990510e+07j],\n",
       "       [-8.34976050e+07-8.83604590e+07j],\n",
       "       [-5.08339470e+07-6.90315080e+07j],\n",
       "       [-7.95990940e+07-6.95494500e+07j],\n",
       "       [-5.76551470e+07-1.19330069e+08j],\n",
       "       [-8.12622740e+07-1.06579394e+08j],\n",
       "       [-6.31456800e+07-8.83405760e+07j],\n",
       "       [-6.77085570e+07-7.62462840e+07j],\n",
       "       [-2.15542030e+07-7.01216210e+07j],\n",
       "       [-7.56855020e+07-7.93940400e+07j],\n",
       "       [-1.26120700e+08-7.82285750e+07j],\n",
       "       [-7.97942560e+07-6.94108990e+07j],\n",
       "       [-8.34794230e+07-6.71395080e+07j],\n",
       "       [-5.76775020e+07-6.84898340e+07j],\n",
       "       [-4.71013980e+07-6.98736190e+07j],\n",
       "       [-6.26802610e+07-6.94177260e+07j],\n",
       "       [-8.28575980e+07-8.29400740e+07j],\n",
       "       [-5.86241800e+07-9.36209270e+07j],\n",
       "       [-1.22046530e+07-4.47998990e+07j],\n",
       "       [-3.63975400e+07-5.23845480e+07j],\n",
       "       [-2.55489170e+07-1.09762432e+08j],\n",
       "       [-4.98760160e+07-4.95361550e+07j],\n",
       "       [-7.15279460e+07-8.92735910e+07j],\n",
       "       [-3.36553960e+07-7.85013670e+07j],\n",
       "       [-7.38431960e+07-6.89748610e+07j],\n",
       "       [-3.74062570e+07-6.55505990e+07j],\n",
       "       [-9.34220780e+07-1.11110332e+08j],\n",
       "       [-1.08680958e+08-7.62508150e+07j],\n",
       "       [-7.35252490e+07-7.54033060e+07j],\n",
       "       [-6.44731240e+07-7.49979150e+07j],\n",
       "       [-5.85394480e+07-7.09321910e+07j],\n",
       "       [-6.23948270e+07-1.10959464e+08j],\n",
       "       [ 1.00423949e+08-8.89666780e+07j],\n",
       "       [-7.99889300e+07-5.09499890e+07j],\n",
       "       [-6.84745600e+07-8.73635440e+07j],\n",
       "       [-5.75411630e+07-1.00115565e+08j],\n",
       "       [-9.73412850e+07-6.90198460e+07j],\n",
       "       [-7.37373460e+07-7.21509510e+07j],\n",
       "       [-1.05426823e+08-8.88462320e+07j],\n",
       "       [-1.00625466e+08-1.30571898e+08j],\n",
       "       [-7.95108470e+07-6.52810730e+07j],\n",
       "       [-9.19267220e+07-8.27288450e+07j],\n",
       "       [-7.83025110e+07-7.56153290e+07j],\n",
       "       [-4.07418590e+07-8.09184870e+07j],\n",
       "       [-3.33329700e+07-1.08616374e+08j],\n",
       "       [-7.40770740e+07-1.09665993e+08j],\n",
       "       [-8.25889490e+07-1.02716109e+08j],\n",
       "       [-7.96758630e+07-6.25626120e+07j],\n",
       "       [-5.26713380e+07-5.92428730e+07j],\n",
       "       [-8.07499650e+07-7.89161400e+07j],\n",
       "       [-9.50214100e+07-7.21724380e+07j],\n",
       "       [-8.79548910e+07-7.43082210e+07j],\n",
       "       [-1.07493499e+08-1.24653472e+08j],\n",
       "       [-8.50662680e+07-1.22625276e+08j],\n",
       "       [-2.95433390e+07-6.85667750e+07j],\n",
       "       [-5.06874410e+07-9.35808630e+07j],\n",
       "       [-4.80810940e+07-1.00405177e+08j],\n",
       "       [-7.32368230e+07-6.78924970e+07j],\n",
       "       [-4.92534130e+07-1.00675433e+08j],\n",
       "       [-9.11791270e+07-8.79627240e+07j],\n",
       "       [-6.32632050e+07-1.07714115e+08j],\n",
       "       [-6.08231720e+07-4.13583650e+07j],\n",
       "       [-2.78044950e+07-1.22383677e+08j],\n",
       "       [-3.13130900e+07-6.00940790e+07j],\n",
       "       [-6.76377370e+07-9.92347060e+07j],\n",
       "       [-6.55567070e+07-6.38063000e+07j],\n",
       "       [-6.11526250e+07-7.52410690e+07j],\n",
       "       [-8.50503430e+07-6.56789270e+07j],\n",
       "       [-9.12283320e+07-7.86821990e+07j],\n",
       "       [-5.75892110e+07-8.61068510e+07j],\n",
       "       [-8.69196020e+07-9.01408190e+07j],\n",
       "       [-5.91976420e+07-9.27184470e+07j],\n",
       "       [-8.12171290e+07-9.85192030e+07j],\n",
       "       [-1.00607371e+08-8.08136770e+07j],\n",
       "       [-4.88966410e+07-1.00507795e+08j],\n",
       "       [-7.45113910e+07-9.66510750e+07j],\n",
       "       [-6.66168420e+07-1.01897978e+08j],\n",
       "       [-1.05277984e+08-9.22365440e+07j],\n",
       "       [-3.88619880e+07-1.33010459e+08j],\n",
       "       [-6.28827470e+07-9.81840850e+07j],\n",
       "       [-6.58286220e+07-9.82245880e+07j],\n",
       "       [-5.68959500e+07-8.61001070e+07j],\n",
       "       [-8.20517430e+07-6.82868060e+07j],\n",
       "       [-7.43777650e+07-8.53761110e+07j],\n",
       "       [-1.02057654e+08-1.14445345e+08j],\n",
       "       [-5.90160110e+07-7.53459340e+07j],\n",
       "       [-6.91719780e+07-5.55441250e+07j],\n",
       "       [-7.66338410e+07-1.09536159e+08j],\n",
       "       [-6.36158020e+07-8.05913750e+07j],\n",
       "       [-7.13935350e+07-8.27943470e+07j],\n",
       "       [-7.04166780e+07-6.96536510e+07j],\n",
       "       [-9.51157800e+07-1.22611007e+08j],\n",
       "       [-2.34738930e+07-9.39544980e+07j],\n",
       "       [-1.27815450e+08-9.84638400e+07j],\n",
       "       [-6.78086670e+07-1.15839517e+08j],\n",
       "       [-4.50019380e+07-7.14365910e+07j]])"
      ]
     },
     "execution_count": 44,
     "metadata": {},
     "output_type": "execute_result"
    }
   ],
   "source": [
    "# if meas_level=1\n",
    "\n",
    "memory = job.result().get_memory()\n",
    "print(np.shape(memory))\n",
    "memory"
   ]
  },
  {
   "cell_type": "markdown",
   "metadata": {},
   "source": [
    "# Plot the IQ plane"
   ]
  },
  {
   "cell_type": "code",
   "execution_count": null,
   "metadata": {},
   "outputs": [
    {
     "data": {
      "text/plain": [
       "[<matplotlib.lines.Line2D at 0x29f9a9650>]"
      ]
     },
     "execution_count": 45,
     "metadata": {},
     "output_type": "execute_result"
    },
    {
     "data": {
      "image/png": "[encoded data removed]",
      "text/plain": [
       "<Figure size 640x480 with 1 Axes>"
      ]
     },
     "metadata": {},
     "output_type": "display_data"
    }
   ],
   "source": [
    "# Plotting\n",
    "import matplotlib.pyplot as plt\n",
    "\n",
    "\n",
    "plt.plot(np.real(memory), np.imag(memory), 'o')\n",
    "\n"
   ]
  },
  {
   "cell_type": "markdown",
   "metadata": {},
   "source": [
    "# Repeat but with 50/50 0 & 1"
   ]
  },
  {
   "cell_type": "code",
   "execution_count": null,
   "metadata": {},
   "outputs": [],
   "source": [
    "qc5050 = QuantumCircuit(qr, cr)\n",
    "\n",
    "qc5050.rx(np.pi/2, qr)\n",
    "qc5050.measure(qr, cr)\n",
    "\n",
    "qc5050.draw(fold=-1)\n",
    "\n",
    "initial_layout = [0]\n",
    "transpiled_qc5050 = transpile(qc5050, backend=backend, initial_layout=initial_layout)\n",
    "transpiled_qc5050.draw(fold=-1)\n",
    "\n",
    "job_id = backend.run(transpiled_qc5050, shots=1e2, meas_level=1, meas_return='single' ).job_id()"
   ]
  },
  {
   "cell_type": "markdown",
   "metadata": {},
   "source": [
    "## Analyse data\n"
   ]
  },
  {
   "cell_type": "markdown",
   "metadata": {},
   "source": [
    "`Job ids:`\n",
    "\n",
    "\"cmdewdsy4c00008hxr80\" : 10 Hadamards, optimize 0, had 97/3 0/1 NAIROBI\n",
    "\n",
    "\"cmdf848zjkb0008m27cg\" : pi/2 Puls LAGOS"
   ]
  },
  {
   "cell_type": "code",
   "execution_count": 7,
   "metadata": {},
   "outputs": [
    {
     "ename": "NameError",
     "evalue": "name 'job' is not defined",
     "output_type": "error",
     "traceback": [
      "\u001b[0;31m---------------------------------------------------------------------------\u001b[0m",
      "\u001b[0;31mNameError\u001b[0m                                 Traceback (most recent call last)",
      "\u001b[1;32m/Users/mha/My Drive/Desktop/Studium/Physik/Master/Semester 3/IBM/IBM GIT/Soft-Info/IQ Plane/Plot_IQ.ipynb Cell 20\u001b[0m line \u001b[0;36m3\n\u001b[1;32m      <a href='vscode-notebook-cell:/Users/mha/My%20Drive/Desktop/Studium/Physik/Master/Semester%203/IBM/IBM%20GIT/Soft-Info/IQ%20Plane/Plot_IQ.ipynb#X25sZmlsZQ%3D%3D?line=0'>1</a>\u001b[0m job_id5050 \u001b[39m=\u001b[39m \u001b[39m\"\u001b[39m\u001b[39mcmdf848zjkb0008m27cg\u001b[39m\u001b[39m\"\u001b[39m\n\u001b[1;32m      <a href='vscode-notebook-cell:/Users/mha/My%20Drive/Desktop/Studium/Physik/Master/Semester%203/IBM/IBM%20GIT/Soft-Info/IQ%20Plane/Plot_IQ.ipynb#X25sZmlsZQ%3D%3D?line=1'>2</a>\u001b[0m job5050 \u001b[39m=\u001b[39m provider\u001b[39m.\u001b[39mretrieve_job(job_id5050)\n\u001b[0;32m----> <a href='vscode-notebook-cell:/Users/mha/My%20Drive/Desktop/Studium/Physik/Master/Semester%203/IBM/IBM%20GIT/Soft-Info/IQ%20Plane/Plot_IQ.ipynb#X25sZmlsZQ%3D%3D?line=2'>3</a>\u001b[0m memory5050 \u001b[39m=\u001b[39m job\u001b[39m.\u001b[39mresult()\u001b[39m.\u001b[39mget_memory()\n\u001b[1;32m      <a href='vscode-notebook-cell:/Users/mha/My%20Drive/Desktop/Studium/Physik/Master/Semester%203/IBM/IBM%20GIT/Soft-Info/IQ%20Plane/Plot_IQ.ipynb#X25sZmlsZQ%3D%3D?line=4'>5</a>\u001b[0m job_id0 \u001b[39m=\u001b[39m \u001b[39m\"\u001b[39m\u001b[39mcmdewdsy4c00008hxr80\u001b[39m\u001b[39m\"\u001b[39m\n\u001b[1;32m      <a href='vscode-notebook-cell:/Users/mha/My%20Drive/Desktop/Studium/Physik/Master/Semester%203/IBM/IBM%20GIT/Soft-Info/IQ%20Plane/Plot_IQ.ipynb#X25sZmlsZQ%3D%3D?line=5'>6</a>\u001b[0m job0 \u001b[39m=\u001b[39m provider\u001b[39m.\u001b[39mretrieve_job(job_id0)\n",
      "\u001b[0;31mNameError\u001b[0m: name 'job' is not defined"
     ]
    }
   ],
   "source": [
    "job_id5050 = \"cmdf848zjkb0008m27cg\"\n",
    "job5050 = provider.retrieve_job(job_id5050)\n",
    "memory5050 = job.result().get_memory()\n",
    "\n",
    "job_id0 = \"cmdewdsy4c00008hxr80\"\n",
    "job0 = provider.retrieve_job(job_id0)\n",
    "memory0 = job0.result().get_memory()\n"
   ]
  },
  {
   "cell_type": "code",
   "execution_count": null,
   "metadata": {},
   "outputs": [
    {
     "data": {
      "text/plain": [
       "<matplotlib.legend.Legend at 0x2a4dd3e10>"
      ]
     },
     "execution_count": 33,
     "metadata": {},
     "output_type": "execute_result"
    },
    {
     "data": {
      "image/png": "[encoded data removed]",
      "text/plain": [
       "<Figure size 640x480 with 1 Axes>"
      ]
     },
     "metadata": {},
     "output_type": "display_data"
    }
   ],
   "source": [
    "import matplotlib.pyplot as plt\n",
    "plt.plot(np.real(memory5050), np.imag(memory5050), 'o', color='blue')\n",
    "plt.plot(np.real(memory0), np.imag(memory0), 'o', color='red')\n",
    "\n",
    "# Legend\n",
    "plt.plot([], [], 'o', color='blue', label='|+> Lagos')\n",
    "plt.plot([], [], 'o', color='red', label='|0> Nairobi')\n",
    "plt.legend()\n"
   ]
  },
  {
   "cell_type": "markdown",
   "metadata": {},
   "source": [
    "# Using the IQ Plotter"
   ]
  },
  {
   "cell_type": "code",
   "execution_count": null,
   "metadata": {},
   "outputs": [
    {
     "data": {
      "image/png": "[encoded data removed]",
      "text/plain": [
       "<Figure size 800x500 with 1 Axes>"
      ]
     },
     "execution_count": 32,
     "metadata": {},
     "output_type": "execute_result"
    }
   ],
   "source": [
    "from qiskit_experiments.visualization import IQPlotter, MplDrawer\n",
    "\n",
    "plotter = IQPlotter(MplDrawer())\n",
    "\n",
    "# Convert memory data to a 2D numpy array for the IQPlotter\n",
    "def prepare_memory_for_plot(memory):\n",
    "    return np.array([[point.real, point.imag] for point in memory])\n",
    "\n",
    "# Prepare memory data\n",
    "prepared_memory5050 = prepare_memory_for_plot(memory5050)\n",
    "prepared_memory0 = prepare_memory_for_plot(memory0)\n",
    "\n",
    "# Set series data\n",
    "plotter.set_series_data(\n",
    "    \"Circuit 5050\",\n",
    "    points=prepared_memory5050\n",
    ")\n",
    "\n",
    "\n",
    "# Display the figure\n",
    "plotter.figure()    \n",
    "\n"
   ]
  },
  {
   "cell_type": "markdown",
   "metadata": {},
   "source": [
    "# Check if the magitudes stay the same for the same hardware"
   ]
  },
  {
   "cell_type": "code",
   "execution_count": 10,
   "metadata": {},
   "outputs": [],
   "source": [
    "qr = QuantumRegister(1)\n",
    "cr = ClassicalRegister(1)\n",
    "qc = QuantumCircuit(qr, cr)\n",
    "\n",
    "qc.rx(np.pi/2, qr)\n",
    "qc.measure(qr, cr)\n",
    "\n",
    "provider = IBMProvider()\n",
    "backend = provider.get_backend('ibm_lagos')\n",
    "\n",
    "transpiled_qc = transpile(qc, backend=backend)\n",
    "\n",
    "job_id = backend.run(transpiled_qc, shots=1e2, meas_level=1, meas_return='single' ).job_id()\n"
   ]
  },
  {
   "cell_type": "code",
   "execution_count": 9,
   "metadata": {},
   "outputs": [
    {
     "name": "stdout",
     "output_type": "stream",
     "text": [
      "cmdx038te72g008jshg0\n"
     ]
    },
    {
     "data": {
      "text/plain": [
       "<JobStatus.DONE: 'job has successfully run'>"
      ]
     },
     "execution_count": 9,
     "metadata": {},
     "output_type": "execute_result"
    }
   ],
   "source": [
    "job_id = \"cmdx038te72g008jshg0\"\n",
    "print(job_id) #\"cmdx038te72g008jshg0\"\n",
    "job = provider.retrieve_job(job_id)\n",
    "job.status()"
   ]
  },
  {
   "cell_type": "code",
   "execution_count": 13,
   "metadata": {},
   "outputs": [
    {
     "ename": "NameError",
     "evalue": "name 'memory5050' is not defined",
     "output_type": "error",
     "traceback": [
      "\u001b[0;31m---------------------------------------------------------------------------\u001b[0m",
      "\u001b[0;31mNameError\u001b[0m                                 Traceback (most recent call last)",
      "\u001b[1;32m/Users/mha/My Drive/Desktop/Studium/Physik/Master/Semester 3/IBM/IBM GIT/Soft-Info/IQ Plane/Plot_IQ.ipynb Cell 27\u001b[0m line \u001b[0;36m4\n\u001b[1;32m      <a href='vscode-notebook-cell:/Users/mha/My%20Drive/Desktop/Studium/Physik/Master/Semester%203/IBM/IBM%20GIT/Soft-Info/IQ%20Plane/Plot_IQ.ipynb#X35sZmlsZQ%3D%3D?line=0'>1</a>\u001b[0m memory \u001b[39m=\u001b[39m job\u001b[39m.\u001b[39mresult()\u001b[39m.\u001b[39mget_memory()\n\u001b[1;32m      <a href='vscode-notebook-cell:/Users/mha/My%20Drive/Desktop/Studium/Physik/Master/Semester%203/IBM/IBM%20GIT/Soft-Info/IQ%20Plane/Plot_IQ.ipynb#X35sZmlsZQ%3D%3D?line=2'>3</a>\u001b[0m plt\u001b[39m.\u001b[39mplot(np\u001b[39m.\u001b[39mreal(memory), np\u001b[39m.\u001b[39mimag(memory), \u001b[39m'\u001b[39m\u001b[39mo\u001b[39m\u001b[39m'\u001b[39m, color\u001b[39m=\u001b[39m\u001b[39m'\u001b[39m\u001b[39mblue\u001b[39m\u001b[39m'\u001b[39m, label\u001b[39m=\u001b[39m\u001b[39m'\u001b[39m\u001b[39m|+> Lagos 03.10\u001b[39m\u001b[39m'\u001b[39m)\n\u001b[0;32m----> <a href='vscode-notebook-cell:/Users/mha/My%20Drive/Desktop/Studium/Physik/Master/Semester%203/IBM/IBM%20GIT/Soft-Info/IQ%20Plane/Plot_IQ.ipynb#X35sZmlsZQ%3D%3D?line=3'>4</a>\u001b[0m plt\u001b[39m.\u001b[39mplot(np\u001b[39m.\u001b[39mreal(memory5050), np\u001b[39m.\u001b[39mimag(memory5050), \u001b[39m'\u001b[39m\u001b[39mo\u001b[39m\u001b[39m'\u001b[39m, color\u001b[39m=\u001b[39m\u001b[39m'\u001b[39m\u001b[39mred\u001b[39m\u001b[39m'\u001b[39m, label\u001b[39m=\u001b[39m\u001b[39m'\u001b[39m\u001b[39m|+> Lagos 02.09\u001b[39m\u001b[39m'\u001b[39m)\n\u001b[1;32m      <a href='vscode-notebook-cell:/Users/mha/My%20Drive/Desktop/Studium/Physik/Master/Semester%203/IBM/IBM%20GIT/Soft-Info/IQ%20Plane/Plot_IQ.ipynb#X35sZmlsZQ%3D%3D?line=5'>6</a>\u001b[0m plt\u001b[39m.\u001b[39mlegend()\n",
      "\u001b[0;31mNameError\u001b[0m: name 'memory5050' is not defined"
     ]
    },
    {
     "data": {
      "image/png": "[encoded data removed]",
      "text/plain": [
       "<Figure size 640x480 with 1 Axes>"
      ]
     },
     "metadata": {},
     "output_type": "display_data"
    }
   ],
   "source": [
    "memory = job.result().get_memory()\n",
    "\n",
    "plt.plot(np.real(memory), np.imag(memory), 'o', color='blue', label='|+> Lagos 03.10')\n",
    "plt.plot(np.real(memory5050), np.imag(memory5050), 'o', color='red', label='|+> Lagos 02.09')\n",
    "\n",
    "plt.legend()"
   ]
  },
  {
   "cell_type": "code",
   "execution_count": 16,
   "metadata": {},
   "outputs": [
    {
     "name": "stdout",
     "output_type": "stream",
     "text": [
      "(100, 1)\n",
      "[[-29709214.-24567884.j]\n",
      " [-20004889.-31007195.j]\n",
      " [ 29916244.-42390490.j]\n",
      " [-31628558.-40718596.j]\n",
      " [-35493396.-22127831.j]\n",
      " [-21308926.-31884996.j]\n",
      " [-19831143.-46678170.j]\n",
      " [-14798990.-38453310.j]\n",
      " [-19556266.-34203540.j]\n",
      " [-22683068.-35142091.j]\n",
      " [ 31772913.-47908812.j]\n",
      " [-23372274.-24800375.j]\n",
      " [ 33930681.-50681106.j]\n",
      " [  3096770.-45505689.j]\n",
      " [ 39172212.-26716394.j]\n",
      " [-35442161.-33752010.j]\n",
      " [ 42426638.-34262313.j]\n",
      " [ 35911314.-32695832.j]\n",
      " [ 40378175.-37156920.j]\n",
      " [ 33576312.-25256299.j]\n",
      " [ 36237145. +4703794.j]\n",
      " [-18755878.-40174368.j]\n",
      " [ 29940142.-30710533.j]\n",
      " [-24315570.-34006498.j]\n",
      " [-27411822.-42358419.j]\n",
      " [-29138819.-22688133.j]\n",
      " [ 30382826.-31431000.j]\n",
      " [-23693336.-22818450.j]\n",
      " [-33470291.-28889458.j]\n",
      " [ 33968655.-52122990.j]\n",
      " [-30497790.-49798818.j]\n",
      " [ 34400575.-44904018.j]\n",
      " [ 27060780.-33052160.j]\n",
      " [-33465518.-54779662.j]\n",
      " [ 54687072.-26738999.j]\n",
      " [-39887965.-46476997.j]\n",
      " [-39425225.-24613136.j]\n",
      " [-16867331.-33802552.j]\n",
      " [-28817179.-38455245.j]\n",
      " [ 41299337.-53226069.j]\n",
      " [ 26904957.-38694253.j]\n",
      " [ 28285275.-48739275.j]\n",
      " [-29969609.-31085436.j]\n",
      " [ 22641171.-25849778.j]\n",
      " [ 54613571.-40313974.j]\n",
      " [ 36316306.-30004942.j]\n",
      " [ 34953183.-34662914.j]\n",
      " [-15488309.-47863842.j]\n",
      " [ 33423325.-30324407.j]\n",
      " [ 37995294.-26689376.j]\n",
      " [ 38375926.-53673152.j]\n",
      " [ 35165893.-47074830.j]\n",
      " [ 31657885.-26883439.j]\n",
      " [ 37675232.-36654514.j]\n",
      " [ 29132835.-26599850.j]\n",
      " [-11071887.-37597786.j]\n",
      " [ 29933810.-40699018.j]\n",
      " [-27639745.-34204458.j]\n",
      " [-24419665.-35848256.j]\n",
      " [ 53334813.-36092447.j]\n",
      " [ 34308339.-39784782.j]\n",
      " [ 40123660.-24487386.j]\n",
      " [ 27027569.-34271215.j]\n",
      " [ 21425748.-17819506.j]\n",
      " [-25709239.-34403724.j]\n",
      " [ 23469979.-41076747.j]\n",
      " [-12745858.-35530406.j]\n",
      " [ 54523323.-33378870.j]\n",
      " [-21480939.-34016071.j]\n",
      " [-46651305.-36968103.j]\n",
      " [-31895958.-41893661.j]\n",
      " [-19842271.-45703513.j]\n",
      " [-14951440.-23190619.j]\n",
      " [-38471244.-31661804.j]\n",
      " [ 23002061.-30391260.j]\n",
      " [ 33291995.-32155517.j]\n",
      " [-32917032.-44257832.j]\n",
      " [-18873172.-29037085.j]\n",
      " [-37264481.-41765924.j]\n",
      " [ 18422258.-14255006.j]\n",
      " [ 34596946.-38159373.j]\n",
      " [ 43809329.-41059597.j]\n",
      " [ 23045625.-40539393.j]\n",
      " [ 31378689.-38644045.j]\n",
      " [-16463533.-53340612.j]\n",
      " [ 32026978.-32963667.j]\n",
      " [ 41955705.-52955398.j]\n",
      " [ 33244624.-50351961.j]\n",
      " [ 52458844.-35129134.j]\n",
      " [-28647413.-37166578.j]\n",
      " [-31978324.-28712688.j]\n",
      " [-19874772.-33732537.j]\n",
      " [-34246845.-34516116.j]\n",
      " [ 40559294.-29853911.j]\n",
      " [ 36202049.-30203693.j]\n",
      " [-35564641.-50722450.j]\n",
      " [ 19827345.-27384153.j]\n",
      " [-34823437.-41001957.j]\n",
      " [ 29071810.-26997034.j]\n",
      " [ 18814630.-37086768.j]]\n"
     ]
    }
   ],
   "source": [
    "print(np.shape(memory))\n",
    "print(memory)"
   ]
  },
  {
   "cell_type": "code",
   "execution_count": null,
   "metadata": {},
   "outputs": [],
   "source": []
  }
 ],
 "metadata": {
  "kernelspec": {
   "display_name": "Soft-Info-kp2AnOc1",
   "language": "python",
   "name": "python3"
  },
  "language_info": {
   "codemirror_mode": {
    "name": "ipython",
    "version": 3
   },
   "file_extension": ".py",
   "mimetype": "text/x-python",
   "name": "python",
   "nbconvert_exporter": "python",
   "pygments_lexer": "ipython3",
   "version": "3.11.4"
  },
  "orig_nbformat": 4
 },
 "nbformat": 4,
 "nbformat_minor": 2
}
