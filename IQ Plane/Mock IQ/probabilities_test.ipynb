{
 "cells": [
  {
   "cell_type": "code",
   "execution_count": 2,
   "metadata": {},
   "outputs": [],
   "source": [
    "# Checking probabilities result from Qiskit Aer\n",
    "from qiskit import QuantumCircuit\n",
    "import qiskit_aer as aer\n"
   ]
  },
  {
   "cell_type": "code",
   "execution_count": 41,
   "metadata": {},
   "outputs": [],
   "source": [
    "\n",
    "N = 3\n",
    "\n",
    "circ = QuantumCircuit(N)\n",
    "#circ.x(0)\n",
    "#circ.x(1)\n",
    "circ.x(2)\n",
    "\n",
    "# for x in range(N):\n",
    "#     circ.h(x)\n",
    "circ.save_probabilities()\n",
    "circ.measure_all(inplace=True)"
   ]
  },
  {
   "cell_type": "code",
   "execution_count": 55,
   "metadata": {},
   "outputs": [
    {
     "ename": "QiskitError",
     "evalue": "'No counts for experiment \"0\"'",
     "output_type": "error",
     "traceback": [
      "\u001b[0;31m---------------------------------------------------------------------------\u001b[0m",
      "\u001b[0;31mQiskitError\u001b[0m                               Traceback (most recent call last)",
      "\u001b[1;32m/Users/mha/My Drive/Desktop/Studium/Physik/Master/Semester 3/IBM/IBM GIT/Soft-Info/IQ Plane/Mock IQ/probabilities_test.ipynb Cell 3\u001b[0m line \u001b[0;36m3\n\u001b[1;32m      <a href='vscode-notebook-cell:/Users/mha/My%20Drive/Desktop/Studium/Physik/Master/Semester%203/IBM/IBM%20GIT/Soft-Info/IQ%20Plane/Mock%20IQ/probabilities_test.ipynb#W3sZmlsZQ%3D%3D?line=0'>1</a>\u001b[0m sim \u001b[39m=\u001b[39m aer\u001b[39m.\u001b[39mAerSimulator(method\u001b[39m=\u001b[39m\u001b[39m'\u001b[39m\u001b[39mstatevector\u001b[39m\u001b[39m'\u001b[39m, shots \u001b[39m=\u001b[39m \u001b[39m0\u001b[39m)\n\u001b[1;32m      <a href='vscode-notebook-cell:/Users/mha/My%20Drive/Desktop/Studium/Physik/Master/Semester%203/IBM/IBM%20GIT/Soft-Info/IQ%20Plane/Mock%20IQ/probabilities_test.ipynb#W3sZmlsZQ%3D%3D?line=1'>2</a>\u001b[0m res \u001b[39m=\u001b[39m sim\u001b[39m.\u001b[39mrun(circ)\n\u001b[0;32m----> <a href='vscode-notebook-cell:/Users/mha/My%20Drive/Desktop/Studium/Physik/Master/Semester%203/IBM/IBM%20GIT/Soft-Info/IQ%20Plane/Mock%20IQ/probabilities_test.ipynb#W3sZmlsZQ%3D%3D?line=2'>3</a>\u001b[0m \u001b[39mprint\u001b[39m(res\u001b[39m.\u001b[39;49mresult()\u001b[39m.\u001b[39;49mget_counts())\n\u001b[1;32m      <a href='vscode-notebook-cell:/Users/mha/My%20Drive/Desktop/Studium/Physik/Master/Semester%203/IBM/IBM%20GIT/Soft-Info/IQ%20Plane/Mock%20IQ/probabilities_test.ipynb#W3sZmlsZQ%3D%3D?line=4'>5</a>\u001b[0m \u001b[39m# Extract probabilities\u001b[39;00m\n\u001b[1;32m      <a href='vscode-notebook-cell:/Users/mha/My%20Drive/Desktop/Studium/Physik/Master/Semester%203/IBM/IBM%20GIT/Soft-Info/IQ%20Plane/Mock%20IQ/probabilities_test.ipynb#W3sZmlsZQ%3D%3D?line=5'>6</a>\u001b[0m probabilities \u001b[39m=\u001b[39m res\u001b[39m.\u001b[39mresult()\u001b[39m.\u001b[39mdata(\u001b[39m0\u001b[39m)[\u001b[39m'\u001b[39m\u001b[39mprobabilities\u001b[39m\u001b[39m'\u001b[39m]  \u001b[39m# 0 is the index of the first circuit\u001b[39;00m\n",
      "File \u001b[0;32m~/.local/share/virtualenvs/Soft-Info-kp2AnOc1/lib/python3.11/site-packages/qiskit/result/result.py:289\u001b[0m, in \u001b[0;36mResult.get_counts\u001b[0;34m(self, experiment)\u001b[0m\n\u001b[1;32m    287\u001b[0m         dict_list\u001b[39m.\u001b[39mappend(statevector\u001b[39m.\u001b[39mStatevector(vec)\u001b[39m.\u001b[39mprobabilities_dict(decimals\u001b[39m=\u001b[39m\u001b[39m15\u001b[39m))\n\u001b[1;32m    288\u001b[0m     \u001b[39melse\u001b[39;00m:\n\u001b[0;32m--> 289\u001b[0m         \u001b[39mraise\u001b[39;00m QiskitError(\u001b[39mf\u001b[39m\u001b[39m'\u001b[39m\u001b[39mNo counts for experiment \u001b[39m\u001b[39m\"\u001b[39m\u001b[39m{\u001b[39;00m\u001b[39mrepr\u001b[39m(key)\u001b[39m}\u001b[39;00m\u001b[39m\"\u001b[39m\u001b[39m'\u001b[39m)\n\u001b[1;32m    291\u001b[0m \u001b[39m# Return first item of dict_list if size is 1\u001b[39;00m\n\u001b[1;32m    292\u001b[0m \u001b[39mif\u001b[39;00m \u001b[39mlen\u001b[39m(dict_list) \u001b[39m==\u001b[39m \u001b[39m1\u001b[39m:\n",
      "\u001b[0;31mQiskitError\u001b[0m: 'No counts for experiment \"0\"'"
     ]
    }
   ],
   "source": [
    "\n",
    "sim = aer.AerSimulator(method='statevector', shots = 0)\n",
    "res = sim.run(circ)\n",
    "print(res.result().get_counts())\n",
    "\n",
    "# Extract probabilities\n",
    "probabilities = res.result().data(0)['probabilities']  # 0 is the index of the first circuit\n",
    "\n",
    "print(\"Probabilities:\", probabilities)\n"
   ]
  },
  {
   "cell_type": "markdown",
   "metadata": {},
   "source": [
    "Probabilities gives a list with the probabilities of each bit string with order: `[000, 001, 010, 011, 100, ...., 111]` => binary order"
   ]
  },
  {
   "cell_type": "code",
   "execution_count": 49,
   "metadata": {},
   "outputs": [
    {
     "data": {
      "text/plain": [
       "{'000': 0.0,\n",
       " '001': 0.0,\n",
       " '010': 0.0,\n",
       " '011': 0.0,\n",
       " '100': 1.0,\n",
       " '101': 0.0,\n",
       " '110': 0.0,\n",
       " '111': 0.0}"
      ]
     },
     "execution_count": 49,
     "metadata": {},
     "output_type": "execute_result"
    }
   ],
   "source": [
    "from itertools import product\n",
    "\n",
    "bit_strings = [''.join(str(bit) for bit in bits) for bits in product([0, 1], repeat=N)]\n",
    "bit_strings \n",
    "\n",
    "probability_dict = {bit_string: prob for bit_string, prob in zip(bit_strings, probabilities)}\n",
    "probability_dict\n"
   ]
  },
  {
   "cell_type": "code",
   "execution_count": null,
   "metadata": {},
   "outputs": [],
   "source": []
  }
 ],
 "metadata": {
  "kernelspec": {
   "display_name": "Soft-Info-kp2AnOc1",
   "language": "python",
   "name": "python3"
  },
  "language_info": {
   "codemirror_mode": {
    "name": "ipython",
    "version": 3
   },
   "file_extension": ".py",
   "mimetype": "text/x-python",
   "name": "python",
   "nbconvert_exporter": "python",
   "pygments_lexer": "ipython3",
   "version": "3.11.4"
  },
  "orig_nbformat": 4
 },
 "nbformat": 4,
 "nbformat_minor": 2
}
