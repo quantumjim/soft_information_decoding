{
 "cells": [
  {
   "cell_type": "markdown",
   "metadata": {},
   "source": [
    "# Initialize Service"
   ]
  },
  {
   "cell_type": "code",
   "execution_count": 1,
   "metadata": {},
   "outputs": [],
   "source": [
    "from qiskit_ibm_runtime import QiskitRuntimeService\n",
    " \n",
    "service = QiskitRuntimeService()\n",
    "backend = service.backend(\"ibm_sherbrooke\")"
   ]
  },
  {
   "cell_type": "markdown",
   "metadata": {},
   "source": [
    "# Initialize Circuit"
   ]
  },
  {
   "cell_type": "code",
   "execution_count": 10,
   "metadata": {},
   "outputs": [
    {
     "data": {
      "text/html": [
       "<pre style=\"word-wrap: normal;white-space: pre;background: #fff0;line-height: 1.1;font-family: &quot;Courier New&quot;,Courier,monospace\">     ┌───┐     ┌─┐   \n",
       "q_0: ┤ H ├──■──┤M├───\n",
       "     └───┘┌─┴─┐└╥┘┌─┐\n",
       "q_1: ─────┤ X ├─╫─┤M├\n",
       "          └───┘ ║ └╥┘\n",
       "c: 2/═══════════╩══╩═\n",
       "                0  1 </pre>"
      ],
      "text/plain": [
       "     ┌───┐     ┌─┐   \n",
       "q_0: ┤ H ├──■──┤M├───\n",
       "     └───┘┌─┴─┐└╥┘┌─┐\n",
       "q_1: ─────┤ X ├─╫─┤M├\n",
       "          └───┘ ║ └╥┘\n",
       "c: 2/═══════════╩══╩═\n",
       "                0  1 "
      ]
     },
     "execution_count": 10,
     "metadata": {},
     "output_type": "execute_result"
    }
   ],
   "source": [
    "from qiskit.circuit import QuantumCircuit\n",
    "\n",
    "circuit = QuantumCircuit(2, 2)\n",
    "circuit.h(0)\n",
    "circuit.cx(0, 1)\n",
    "circuit.measure([0, 1], [0, 1])\n",
    "\n",
    "circuit.draw()\n"
   ]
  },
  {
   "cell_type": "markdown",
   "metadata": {},
   "source": [
    "# Initialize Sampler"
   ]
  },
  {
   "cell_type": "code",
   "execution_count": 11,
   "metadata": {},
   "outputs": [],
   "source": [
    "from qiskit_ibm_runtime import Sampler\n",
    " \n",
    "sampler = Sampler(backend=backend)"
   ]
  },
  {
   "cell_type": "code",
   "execution_count": 1,
   "metadata": {},
   "outputs": [
    {
     "ename": "NameError",
     "evalue": "name 'sampler' is not defined",
     "output_type": "error",
     "traceback": [
      "\u001b[0;31m---------------------------------------------------------------------------\u001b[0m",
      "\u001b[0;31mNameError\u001b[0m                                 Traceback (most recent call last)",
      "Cell \u001b[0;32mIn[1], line 1\u001b[0m\n\u001b[0;32m----> 1\u001b[0m job \u001b[38;5;241m=\u001b[39m \u001b[43msampler\u001b[49m\u001b[38;5;241m.\u001b[39mrun(circuit, shots\u001b[38;5;241m=\u001b[39m\u001b[38;5;241m10\u001b[39m, meas_level\u001b[38;5;241m=\u001b[39m\u001b[38;5;241m1\u001b[39m)\n",
      "\u001b[0;31mNameError\u001b[0m: name 'sampler' is not defined"
     ]
    }
   ],
   "source": [
    "job = sampler.run(circuit, shots=10, meas_level=1)"
   ]
  },
  {
   "cell_type": "code",
   "execution_count": 1,
   "metadata": {},
   "outputs": [
    {
     "ename": "NameError",
     "evalue": "name 'job' is not defined",
     "output_type": "error",
     "traceback": [
      "\u001b[0;31m---------------------------------------------------------------------------\u001b[0m",
      "\u001b[0;31mNameError\u001b[0m                                 Traceback (most recent call last)",
      "Cell \u001b[0;32mIn[1], line 1\u001b[0m\n\u001b[0;32m----> 1\u001b[0m result \u001b[38;5;241m=\u001b[39m \u001b[43mjob\u001b[49m\u001b[38;5;241m.\u001b[39mresult()\n\u001b[1;32m      2\u001b[0m \u001b[38;5;28mprint\u001b[39m(\u001b[38;5;124mf\u001b[39m\u001b[38;5;124m\"\u001b[39m\u001b[38;5;124m  > Quasi-probability distribution: \u001b[39m\u001b[38;5;132;01m{\u001b[39;00mresult\u001b[38;5;241m.\u001b[39mquasi_dists[\u001b[38;5;241m0\u001b[39m]\u001b[38;5;132;01m}\u001b[39;00m\u001b[38;5;124m\"\u001b[39m)\n\u001b[1;32m      3\u001b[0m \u001b[38;5;28mprint\u001b[39m(\u001b[38;5;124mf\u001b[39m\u001b[38;5;124m\"\u001b[39m\u001b[38;5;124m  > Metadata: \u001b[39m\u001b[38;5;132;01m{\u001b[39;00mresult\u001b[38;5;241m.\u001b[39mmetadata[\u001b[38;5;241m0\u001b[39m]\u001b[38;5;132;01m}\u001b[39;00m\u001b[38;5;124m\"\u001b[39m)\n",
      "\u001b[0;31mNameError\u001b[0m: name 'job' is not defined"
     ]
    }
   ],
   "source": [
    "\n",
    "result = job.result()\n",
    "print(f\"  > Quasi-probability distribution: {result.quasi_dists[0]}\")\n",
    "print(f\"  > Metadata: {result.metadata[0]}\")"
   ]
  },
  {
   "cell_type": "markdown",
   "metadata": {},
   "source": [
    "# Retrieve layout from job_id"
   ]
  },
  {
   "cell_type": "code",
   "execution_count": 3,
   "metadata": {},
   "outputs": [],
   "source": [
    "from qiskit_ibm_provider import IBMProvider\n",
    "\n",
    "provider = IBMProvider()\n",
    "\n",
    "job = provider.retrieve_job(\"cnn1xcx24wx0008f9kng\")"
   ]
  },
  {
   "cell_type": "code",
   "execution_count": 11,
   "metadata": {},
   "outputs": [
    {
     "data": {
      "text/plain": [
       "TranspileLayout(initial_layout=Layout({\n",
       "0: Qubit(QuantumRegister(127, 'q'), 0),\n",
       "1: Qubit(QuantumRegister(127, 'q'), 1),\n",
       "2: Qubit(QuantumRegister(127, 'q'), 2),\n",
       "3: Qubit(QuantumRegister(127, 'q'), 3),\n",
       "4: Qubit(QuantumRegister(127, 'q'), 4),\n",
       "5: Qubit(QuantumRegister(127, 'q'), 5),\n",
       "6: Qubit(QuantumRegister(127, 'q'), 6),\n",
       "7: Qubit(QuantumRegister(127, 'q'), 7),\n",
       "8: Qubit(QuantumRegister(127, 'q'), 8),\n",
       "9: Qubit(QuantumRegister(127, 'q'), 9),\n",
       "10: Qubit(QuantumRegister(127, 'q'), 10),\n",
       "11: Qubit(QuantumRegister(127, 'q'), 11),\n",
       "12: Qubit(QuantumRegister(127, 'q'), 12),\n",
       "13: Qubit(QuantumRegister(127, 'q'), 13),\n",
       "14: Qubit(QuantumRegister(127, 'q'), 14),\n",
       "15: Qubit(QuantumRegister(127, 'q'), 15),\n",
       "16: Qubit(QuantumRegister(127, 'q'), 16),\n",
       "17: Qubit(QuantumRegister(127, 'q'), 17),\n",
       "18: Qubit(QuantumRegister(127, 'q'), 18),\n",
       "19: Qubit(QuantumRegister(127, 'q'), 19),\n",
       "20: Qubit(QuantumRegister(127, 'q'), 20),\n",
       "21: Qubit(QuantumRegister(127, 'q'), 21),\n",
       "22: Qubit(QuantumRegister(127, 'q'), 22),\n",
       "23: Qubit(QuantumRegister(127, 'q'), 23),\n",
       "24: Qubit(QuantumRegister(127, 'q'), 24),\n",
       "25: Qubit(QuantumRegister(127, 'q'), 25),\n",
       "26: Qubit(QuantumRegister(127, 'q'), 26),\n",
       "27: Qubit(QuantumRegister(127, 'q'), 27),\n",
       "28: Qubit(QuantumRegister(127, 'q'), 28),\n",
       "29: Qubit(QuantumRegister(127, 'q'), 29),\n",
       "30: Qubit(QuantumRegister(127, 'q'), 30),\n",
       "31: Qubit(QuantumRegister(127, 'q'), 31),\n",
       "32: Qubit(QuantumRegister(127, 'q'), 32),\n",
       "33: Qubit(QuantumRegister(127, 'q'), 33),\n",
       "34: Qubit(QuantumRegister(127, 'q'), 34),\n",
       "35: Qubit(QuantumRegister(127, 'q'), 35),\n",
       "36: Qubit(QuantumRegister(127, 'q'), 36),\n",
       "37: Qubit(QuantumRegister(127, 'q'), 37),\n",
       "38: Qubit(QuantumRegister(127, 'q'), 38),\n",
       "39: Qubit(QuantumRegister(127, 'q'), 39),\n",
       "40: Qubit(QuantumRegister(127, 'q'), 40),\n",
       "41: Qubit(QuantumRegister(127, 'q'), 41),\n",
       "42: Qubit(QuantumRegister(127, 'q'), 42),\n",
       "43: Qubit(QuantumRegister(127, 'q'), 43),\n",
       "44: Qubit(QuantumRegister(127, 'q'), 44),\n",
       "45: Qubit(QuantumRegister(127, 'q'), 45),\n",
       "46: Qubit(QuantumRegister(127, 'q'), 46),\n",
       "47: Qubit(QuantumRegister(127, 'q'), 47),\n",
       "48: Qubit(QuantumRegister(127, 'q'), 48),\n",
       "49: Qubit(QuantumRegister(127, 'q'), 49),\n",
       "50: Qubit(QuantumRegister(127, 'q'), 50),\n",
       "51: Qubit(QuantumRegister(127, 'q'), 51),\n",
       "52: Qubit(QuantumRegister(127, 'q'), 52),\n",
       "53: Qubit(QuantumRegister(127, 'q'), 53),\n",
       "54: Qubit(QuantumRegister(127, 'q'), 54),\n",
       "55: Qubit(QuantumRegister(127, 'q'), 55),\n",
       "56: Qubit(QuantumRegister(127, 'q'), 56),\n",
       "57: Qubit(QuantumRegister(127, 'q'), 57),\n",
       "58: Qubit(QuantumRegister(127, 'q'), 58),\n",
       "59: Qubit(QuantumRegister(127, 'q'), 59),\n",
       "60: Qubit(QuantumRegister(127, 'q'), 60),\n",
       "61: Qubit(QuantumRegister(127, 'q'), 61),\n",
       "62: Qubit(QuantumRegister(127, 'q'), 62),\n",
       "63: Qubit(QuantumRegister(127, 'q'), 63),\n",
       "64: Qubit(QuantumRegister(127, 'q'), 64),\n",
       "65: Qubit(QuantumRegister(127, 'q'), 65),\n",
       "66: Qubit(QuantumRegister(127, 'q'), 66),\n",
       "67: Qubit(QuantumRegister(127, 'q'), 67),\n",
       "68: Qubit(QuantumRegister(127, 'q'), 68),\n",
       "69: Qubit(QuantumRegister(127, 'q'), 69),\n",
       "70: Qubit(QuantumRegister(127, 'q'), 70),\n",
       "71: Qubit(QuantumRegister(127, 'q'), 71),\n",
       "72: Qubit(QuantumRegister(127, 'q'), 72),\n",
       "73: Qubit(QuantumRegister(127, 'q'), 73),\n",
       "74: Qubit(QuantumRegister(127, 'q'), 74),\n",
       "75: Qubit(QuantumRegister(127, 'q'), 75),\n",
       "76: Qubit(QuantumRegister(127, 'q'), 76),\n",
       "77: Qubit(QuantumRegister(127, 'q'), 77),\n",
       "78: Qubit(QuantumRegister(127, 'q'), 78),\n",
       "79: Qubit(QuantumRegister(127, 'q'), 79),\n",
       "80: Qubit(QuantumRegister(127, 'q'), 80),\n",
       "81: Qubit(QuantumRegister(127, 'q'), 81),\n",
       "82: Qubit(QuantumRegister(127, 'q'), 82),\n",
       "83: Qubit(QuantumRegister(127, 'q'), 83),\n",
       "84: Qubit(QuantumRegister(127, 'q'), 84),\n",
       "85: Qubit(QuantumRegister(127, 'q'), 85),\n",
       "86: Qubit(QuantumRegister(127, 'q'), 86),\n",
       "87: Qubit(QuantumRegister(127, 'q'), 87),\n",
       "88: Qubit(QuantumRegister(127, 'q'), 88),\n",
       "89: Qubit(QuantumRegister(127, 'q'), 89),\n",
       "90: Qubit(QuantumRegister(127, 'q'), 90),\n",
       "91: Qubit(QuantumRegister(127, 'q'), 91),\n",
       "92: Qubit(QuantumRegister(127, 'q'), 92),\n",
       "93: Qubit(QuantumRegister(127, 'q'), 93),\n",
       "94: Qubit(QuantumRegister(127, 'q'), 94),\n",
       "95: Qubit(QuantumRegister(127, 'q'), 95),\n",
       "96: Qubit(QuantumRegister(127, 'q'), 96),\n",
       "97: Qubit(QuantumRegister(127, 'q'), 97),\n",
       "98: Qubit(QuantumRegister(127, 'q'), 98),\n",
       "99: Qubit(QuantumRegister(127, 'q'), 99),\n",
       "100: Qubit(QuantumRegister(127, 'q'), 100),\n",
       "101: Qubit(QuantumRegister(127, 'q'), 101),\n",
       "102: Qubit(QuantumRegister(127, 'q'), 102),\n",
       "103: Qubit(QuantumRegister(127, 'q'), 103),\n",
       "104: Qubit(QuantumRegister(127, 'q'), 104),\n",
       "105: Qubit(QuantumRegister(127, 'q'), 105),\n",
       "106: Qubit(QuantumRegister(127, 'q'), 106),\n",
       "107: Qubit(QuantumRegister(127, 'q'), 107),\n",
       "108: Qubit(QuantumRegister(127, 'q'), 108),\n",
       "109: Qubit(QuantumRegister(127, 'q'), 109),\n",
       "110: Qubit(QuantumRegister(127, 'q'), 110),\n",
       "111: Qubit(QuantumRegister(127, 'q'), 111),\n",
       "112: Qubit(QuantumRegister(127, 'q'), 112),\n",
       "113: Qubit(QuantumRegister(127, 'q'), 113),\n",
       "114: Qubit(QuantumRegister(127, 'q'), 114),\n",
       "115: Qubit(QuantumRegister(127, 'q'), 115),\n",
       "116: Qubit(QuantumRegister(127, 'q'), 116),\n",
       "117: Qubit(QuantumRegister(127, 'q'), 117),\n",
       "118: Qubit(QuantumRegister(127, 'q'), 118),\n",
       "119: Qubit(QuantumRegister(127, 'q'), 119),\n",
       "120: Qubit(QuantumRegister(127, 'q'), 120),\n",
       "121: Qubit(QuantumRegister(127, 'q'), 121),\n",
       "122: Qubit(QuantumRegister(127, 'q'), 122),\n",
       "123: Qubit(QuantumRegister(127, 'q'), 123),\n",
       "124: Qubit(QuantumRegister(127, 'q'), 124),\n",
       "125: Qubit(QuantumRegister(127, 'q'), 125),\n",
       "126: Qubit(QuantumRegister(127, 'q'), 126)\n",
       "}), input_qubit_mapping={Qubit(QuantumRegister(127, 'q'), 0): 0, Qubit(QuantumRegister(127, 'q'), 1): 1, Qubit(QuantumRegister(127, 'q'), 2): 2, Qubit(QuantumRegister(127, 'q'), 3): 3, Qubit(QuantumRegister(127, 'q'), 4): 4, Qubit(QuantumRegister(127, 'q'), 5): 5, Qubit(QuantumRegister(127, 'q'), 6): 6, Qubit(QuantumRegister(127, 'q'), 7): 7, Qubit(QuantumRegister(127, 'q'), 8): 8, Qubit(QuantumRegister(127, 'q'), 9): 9, Qubit(QuantumRegister(127, 'q'), 10): 10, Qubit(QuantumRegister(127, 'q'), 11): 11, Qubit(QuantumRegister(127, 'q'), 12): 12, Qubit(QuantumRegister(127, 'q'), 13): 13, Qubit(QuantumRegister(127, 'q'), 14): 14, Qubit(QuantumRegister(127, 'q'), 15): 15, Qubit(QuantumRegister(127, 'q'), 16): 16, Qubit(QuantumRegister(127, 'q'), 17): 17, Qubit(QuantumRegister(127, 'q'), 18): 18, Qubit(QuantumRegister(127, 'q'), 19): 19, Qubit(QuantumRegister(127, 'q'), 20): 20, Qubit(QuantumRegister(127, 'q'), 21): 21, Qubit(QuantumRegister(127, 'q'), 22): 22, Qubit(QuantumRegister(127, 'q'), 23): 23, Qubit(QuantumRegister(127, 'q'), 24): 24, Qubit(QuantumRegister(127, 'q'), 25): 25, Qubit(QuantumRegister(127, 'q'), 26): 26, Qubit(QuantumRegister(127, 'q'), 27): 27, Qubit(QuantumRegister(127, 'q'), 28): 28, Qubit(QuantumRegister(127, 'q'), 29): 29, Qubit(QuantumRegister(127, 'q'), 30): 30, Qubit(QuantumRegister(127, 'q'), 31): 31, Qubit(QuantumRegister(127, 'q'), 32): 32, Qubit(QuantumRegister(127, 'q'), 33): 33, Qubit(QuantumRegister(127, 'q'), 34): 34, Qubit(QuantumRegister(127, 'q'), 35): 35, Qubit(QuantumRegister(127, 'q'), 36): 36, Qubit(QuantumRegister(127, 'q'), 37): 37, Qubit(QuantumRegister(127, 'q'), 38): 38, Qubit(QuantumRegister(127, 'q'), 39): 39, Qubit(QuantumRegister(127, 'q'), 40): 40, Qubit(QuantumRegister(127, 'q'), 41): 41, Qubit(QuantumRegister(127, 'q'), 42): 42, Qubit(QuantumRegister(127, 'q'), 43): 43, Qubit(QuantumRegister(127, 'q'), 44): 44, Qubit(QuantumRegister(127, 'q'), 45): 45, Qubit(QuantumRegister(127, 'q'), 46): 46, Qubit(QuantumRegister(127, 'q'), 47): 47, Qubit(QuantumRegister(127, 'q'), 48): 48, Qubit(QuantumRegister(127, 'q'), 49): 49, Qubit(QuantumRegister(127, 'q'), 50): 50, Qubit(QuantumRegister(127, 'q'), 51): 51, Qubit(QuantumRegister(127, 'q'), 52): 52, Qubit(QuantumRegister(127, 'q'), 53): 53, Qubit(QuantumRegister(127, 'q'), 54): 54, Qubit(QuantumRegister(127, 'q'), 55): 55, Qubit(QuantumRegister(127, 'q'), 56): 56, Qubit(QuantumRegister(127, 'q'), 57): 57, Qubit(QuantumRegister(127, 'q'), 58): 58, Qubit(QuantumRegister(127, 'q'), 59): 59, Qubit(QuantumRegister(127, 'q'), 60): 60, Qubit(QuantumRegister(127, 'q'), 61): 61, Qubit(QuantumRegister(127, 'q'), 62): 62, Qubit(QuantumRegister(127, 'q'), 63): 63, Qubit(QuantumRegister(127, 'q'), 64): 64, Qubit(QuantumRegister(127, 'q'), 65): 65, Qubit(QuantumRegister(127, 'q'), 66): 66, Qubit(QuantumRegister(127, 'q'), 67): 67, Qubit(QuantumRegister(127, 'q'), 68): 68, Qubit(QuantumRegister(127, 'q'), 69): 69, Qubit(QuantumRegister(127, 'q'), 70): 70, Qubit(QuantumRegister(127, 'q'), 71): 71, Qubit(QuantumRegister(127, 'q'), 72): 72, Qubit(QuantumRegister(127, 'q'), 73): 73, Qubit(QuantumRegister(127, 'q'), 74): 74, Qubit(QuantumRegister(127, 'q'), 75): 75, Qubit(QuantumRegister(127, 'q'), 76): 76, Qubit(QuantumRegister(127, 'q'), 77): 77, Qubit(QuantumRegister(127, 'q'), 78): 78, Qubit(QuantumRegister(127, 'q'), 79): 79, Qubit(QuantumRegister(127, 'q'), 80): 80, Qubit(QuantumRegister(127, 'q'), 81): 81, Qubit(QuantumRegister(127, 'q'), 82): 82, Qubit(QuantumRegister(127, 'q'), 83): 83, Qubit(QuantumRegister(127, 'q'), 84): 84, Qubit(QuantumRegister(127, 'q'), 85): 85, Qubit(QuantumRegister(127, 'q'), 86): 86, Qubit(QuantumRegister(127, 'q'), 87): 87, Qubit(QuantumRegister(127, 'q'), 88): 88, Qubit(QuantumRegister(127, 'q'), 89): 89, Qubit(QuantumRegister(127, 'q'), 90): 90, Qubit(QuantumRegister(127, 'q'), 91): 91, Qubit(QuantumRegister(127, 'q'), 92): 92, Qubit(QuantumRegister(127, 'q'), 93): 93, Qubit(QuantumRegister(127, 'q'), 94): 94, Qubit(QuantumRegister(127, 'q'), 95): 95, Qubit(QuantumRegister(127, 'q'), 96): 96, Qubit(QuantumRegister(127, 'q'), 97): 97, Qubit(QuantumRegister(127, 'q'), 98): 98, Qubit(QuantumRegister(127, 'q'), 99): 99, Qubit(QuantumRegister(127, 'q'), 100): 100, Qubit(QuantumRegister(127, 'q'), 101): 101, Qubit(QuantumRegister(127, 'q'), 102): 102, Qubit(QuantumRegister(127, 'q'), 103): 103, Qubit(QuantumRegister(127, 'q'), 104): 104, Qubit(QuantumRegister(127, 'q'), 105): 105, Qubit(QuantumRegister(127, 'q'), 106): 106, Qubit(QuantumRegister(127, 'q'), 107): 107, Qubit(QuantumRegister(127, 'q'), 108): 108, Qubit(QuantumRegister(127, 'q'), 109): 109, Qubit(QuantumRegister(127, 'q'), 110): 110, Qubit(QuantumRegister(127, 'q'), 111): 111, Qubit(QuantumRegister(127, 'q'), 112): 112, Qubit(QuantumRegister(127, 'q'), 113): 113, Qubit(QuantumRegister(127, 'q'), 114): 114, Qubit(QuantumRegister(127, 'q'), 115): 115, Qubit(QuantumRegister(127, 'q'), 116): 116, Qubit(QuantumRegister(127, 'q'), 117): 117, Qubit(QuantumRegister(127, 'q'), 118): 118, Qubit(QuantumRegister(127, 'q'), 119): 119, Qubit(QuantumRegister(127, 'q'), 120): 120, Qubit(QuantumRegister(127, 'q'), 121): 121, Qubit(QuantumRegister(127, 'q'), 122): 122, Qubit(QuantumRegister(127, 'q'), 123): 123, Qubit(QuantumRegister(127, 'q'), 124): 124, Qubit(QuantumRegister(127, 'q'), 125): 125, Qubit(QuantumRegister(127, 'q'), 126): 126}, final_layout=None, _input_qubit_count=None, _output_qubit_list=None)"
      ]
     },
     "execution_count": 11,
     "metadata": {},
     "output_type": "execute_result"
    }
   ],
   "source": [
    "job.circuits()[0].layout"
   ]
  },
  {
   "cell_type": "code",
   "execution_count": null,
   "metadata": {},
   "outputs": [],
   "source": []
  }
 ],
 "metadata": {
  "kernelspec": {
   "display_name": "Soft-Info-fMUpUe5a",
   "language": "python",
   "name": "python3"
  },
  "language_info": {
   "codemirror_mode": {
    "name": "ipython",
    "version": 3
   },
   "file_extension": ".py",
   "mimetype": "text/x-python",
   "name": "python",
   "nbconvert_exporter": "python",
   "pygments_lexer": "ipython3",
   "version": "3.11.4"
  }
 },
 "nbformat": 4,
 "nbformat_minor": 2
}
