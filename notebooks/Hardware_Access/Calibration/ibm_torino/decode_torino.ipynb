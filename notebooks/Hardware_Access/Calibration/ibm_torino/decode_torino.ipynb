{
 "cells": [
  {
   "cell_type": "markdown",
   "metadata": {},
   "source": [
    "# Load Data"
   ]
  },
  {
   "cell_type": "code",
   "execution_count": 1,
   "metadata": {},
   "outputs": [],
   "source": [
    "%reload_ext autoreload\n",
    "%autoreload 2"
   ]
  },
  {
   "cell_type": "code",
   "execution_count": 2,
   "metadata": {},
   "outputs": [],
   "source": [
    "from result_saver import SaverProvider\n",
    "provider = SaverProvider()"
   ]
  },
  {
   "cell_type": "code",
   "execution_count": 27,
   "metadata": {},
   "outputs": [
    {
     "data": {
      "text/html": [
       "<div>\n",
       "<style scoped>\n",
       "    .dataframe tbody tr th:only-of-type {\n",
       "        vertical-align: middle;\n",
       "    }\n",
       "\n",
       "    .dataframe tbody tr th {\n",
       "        vertical-align: top;\n",
       "    }\n",
       "\n",
       "    .dataframe thead th {\n",
       "        text-align: right;\n",
       "    }\n",
       "</style>\n",
       "<table border=\"1\" class=\"dataframe\">\n",
       "  <thead>\n",
       "    <tr style=\"text-align: right;\">\n",
       "      <th></th>\n",
       "      <th>creation_date</th>\n",
       "      <th>notebook_name</th>\n",
       "      <th>backend_name</th>\n",
       "      <th>job_id</th>\n",
       "      <th>tags</th>\n",
       "      <th>shots</th>\n",
       "      <th>tags_xp</th>\n",
       "      <th>rep_delay</th>\n",
       "      <th>sampled_state</th>\n",
       "      <th>num_qubits</th>\n",
       "      <th>job_status</th>\n",
       "      <th>extra</th>\n",
       "      <th>optimization_level</th>\n",
       "      <th>code</th>\n",
       "      <th>distance</th>\n",
       "      <th>rounds</th>\n",
       "      <th>logical</th>\n",
       "      <th>layout</th>\n",
       "      <th>descr</th>\n",
       "    </tr>\n",
       "  </thead>\n",
       "  <tbody>\n",
       "    <tr>\n",
       "      <th>2528</th>\n",
       "      <td>2023-12-02 11:16:20.667000+01:00</td>\n",
       "      <td>torino_repcode</td>\n",
       "      <td>ibm_torino</td>\n",
       "      <td>cnng7x70k0p00088v8vg</td>\n",
       "      <td>[RepCode]</td>\n",
       "      <td>10000.0</td>\n",
       "      <td>NaN</td>\n",
       "      <td>NaN</td>\n",
       "      <td>NaN</td>\n",
       "      <td>NaN</td>\n",
       "      <td>JobStatus.DONE</td>\n",
       "      <td>NaN</td>\n",
       "      <td>NaN</td>\n",
       "      <td>RepetitionCodeCircuit</td>\n",
       "      <td>10.0</td>\n",
       "      <td>10</td>\n",
       "      <td>1</td>\n",
       "      <td>_is_hex=True, sherbrooke</td>\n",
       "      <td>diff rounds v2</td>\n",
       "    </tr>\n",
       "    <tr>\n",
       "      <th>2527</th>\n",
       "      <td>2023-12-02 11:16:18.322000+01:00</td>\n",
       "      <td>torino_repcode</td>\n",
       "      <td>ibm_torino</td>\n",
       "      <td>cnng7wq24wx0008fagdg</td>\n",
       "      <td>[RepCode]</td>\n",
       "      <td>10000.0</td>\n",
       "      <td>NaN</td>\n",
       "      <td>NaN</td>\n",
       "      <td>NaN</td>\n",
       "      <td>NaN</td>\n",
       "      <td>JobStatus.DONE</td>\n",
       "      <td>NaN</td>\n",
       "      <td>NaN</td>\n",
       "      <td>RepetitionCodeCircuit</td>\n",
       "      <td>10.0</td>\n",
       "      <td>10</td>\n",
       "      <td>0</td>\n",
       "      <td>_is_hex=True, sherbrooke</td>\n",
       "      <td>diff rounds v2</td>\n",
       "    </tr>\n",
       "  </tbody>\n",
       "</table>\n",
       "</div>"
      ],
      "text/plain": [
       "                         creation_date   notebook_name backend_name  \\\n",
       "2528  2023-12-02 11:16:20.667000+01:00  torino_repcode   ibm_torino   \n",
       "2527  2023-12-02 11:16:18.322000+01:00  torino_repcode   ibm_torino   \n",
       "\n",
       "                    job_id       tags    shots tags_xp  rep_delay  \\\n",
       "2528  cnng7x70k0p00088v8vg  [RepCode]  10000.0     NaN        NaN   \n",
       "2527  cnng7wq24wx0008fagdg  [RepCode]  10000.0     NaN        NaN   \n",
       "\n",
       "     sampled_state  num_qubits      job_status extra  optimization_level  \\\n",
       "2528           NaN         NaN  JobStatus.DONE   NaN                 NaN   \n",
       "2527           NaN         NaN  JobStatus.DONE   NaN                 NaN   \n",
       "\n",
       "                       code  distance rounds logical  \\\n",
       "2528  RepetitionCodeCircuit      10.0     10       1   \n",
       "2527  RepetitionCodeCircuit      10.0     10       0   \n",
       "\n",
       "                        layout           descr  \n",
       "2528  _is_hex=True, sherbrooke  diff rounds v2  \n",
       "2527  _is_hex=True, sherbrooke  diff rounds v2  "
      ]
     },
     "execution_count": 27,
     "metadata": {},
     "output_type": "execute_result"
    }
   ],
   "source": [
    "import numpy as np\n",
    "from Scratch import metadata_loader\n",
    "\n",
    "DEVICE = 'ibm_torino'\n",
    "\n",
    "md = metadata_loader(_extract=True, _drop_inutile=True)\n",
    "# md = md[md[\"job_status\"] == \"JobStatus.DONE\"]\n",
    "# md = md[md[\"notebook_name\"] == \"bigger_rep_codes\"]\n",
    "max_distance = int(max(md.distance))\n",
    "max_distance = 10\n",
    "md = md[md[\"distance\"] == max_distance]\n",
    "md = md[md[\"backend_name\"]==DEVICE]\n",
    "\n",
    "\n",
    "md = md[md[\"shots\"]==10000]\n",
    "md = md[:2]\n",
    "\n",
    "md"
   ]
  },
  {
   "cell_type": "code",
   "execution_count": 6,
   "metadata": {},
   "outputs": [
    {
     "name": "stdout",
     "output_type": "stream",
     "text": [
      "(10000, 100)\n"
     ]
    }
   ],
   "source": [
    "memories = {}\n",
    "jobs = {}\n",
    "for job_id, logical in zip(md.job_id, md.logical):\n",
    "    mmr_name = f\"mmr_log_{logical}\"\n",
    "    memories[mmr_name] = provider.retrieve_job(job_id).result().get_memory()\n",
    "    jobs[mmr_name] = job_id\n",
    "\n",
    "memory_str = \"mmr_log_0\"\n",
    "memory = memories[memory_str][:]\n",
    "job_id = jobs[memory_str]\n",
    "print(memory.shape)"
   ]
  },
  {
   "cell_type": "markdown",
   "metadata": {},
   "source": [
    "# Decode using get counts real part"
   ]
  },
  {
   "cell_type": "code",
   "execution_count": 32,
   "metadata": {},
   "outputs": [],
   "source": [
    "import stim\n",
    "import pymatching\n",
    "\n",
    "from soft_info import get_repcode_layout, get_repcode_IQ_map\n",
    "from Scratch import create_or_load_kde_grid\n",
    "\n",
    "d = max_distance\n",
    "synd_rounds = max_distance\n",
    "synd_rounds = 10\n",
    "\n",
    "circuit = stim.Circuit.generated(\"repetition_code:memory\",\n",
    "                                 distance=d,\n",
    "                                 rounds=synd_rounds,\n",
    "                                 after_clifford_depolarization=0.1)\n",
    "\n",
    "model = circuit.detector_error_model(decompose_errors=True)\n",
    "\n",
    "# layout = get_repcode_layout(distance=max_distance, backend=provider.get_backend(DEVICE), _is_hex=True)\n",
    "\n",
    "##### TORINO ####\n",
    "distance = max_distance\n",
    "import pickle\n",
    "with open('longest_path_torino.pkl', 'rb') as f:\n",
    "    path = pickle.load(f)\n",
    "bounded_path = path[:2 * distance - 1]\n",
    "layout = bounded_path[1::2] + bounded_path[::2] \n",
    "\n",
    "\n",
    "qubit_mapping = get_repcode_IQ_map(layout, synd_rounds) #Hardcoded for repetition codes\n",
    "# print(qubit_mapping)\n",
    "# print(len(qubit_mapping))"
   ]
  },
  {
   "cell_type": "code",
   "execution_count": 33,
   "metadata": {},
   "outputs": [
    {
     "name": "stderr",
     "output_type": "stream",
     "text": [
      "100%|██████████| 10000/10000 [00:01<00:00, 6291.98it/s]"
     ]
    },
    {
     "name": "stdout",
     "output_type": "stream",
     "text": [
      "Num errors: 14\n"
     ]
    },
    {
     "name": "stderr",
     "output_type": "stream",
     "text": [
      "\n"
     ]
    }
   ],
   "source": [
    "from tqdm import tqdm\n",
    "from soft_info import counts_to_det_syndr, draw_matching_graph, get_counts, reweight_edges_to_one\n",
    "\n",
    "VERBOSE = False\n",
    "\n",
    "actual_observables = np.array([[False]]) # hardcoded, can be retrieved\n",
    "num_errors = 0\n",
    "\n",
    "i = 0\n",
    "w_idx_lst = []\n",
    "\n",
    "matching = pymatching.Matching.from_detector_error_model(model)\n",
    "reweight_edges_to_one(matching)\n",
    "\n",
    "for shot in tqdm(range(len(memory))[:]):\n",
    "    \n",
    "    i += 1\n",
    "    IQ_data = memory[shot]\n",
    "    # IQ_data_reshaped = IQ_data.reshape(1, -1)\n",
    "    IQ_data_reshaped = IQ_data\n",
    "\n",
    "    counts = get_counts([IQ_data_reshaped])\n",
    "    count_key = next(iter(counts.keys()))\n",
    "\n",
    "    # if count_key == '000 00 00 00':\n",
    "        #print(\"Skipping all zeros\")\n",
    "        # continue    \n",
    "\n",
    "    # cpp_soft_info.soft_reweight_pymatching(matching._matching_graph, IQ_data_reshaped, synd_rounds, qubit_mapping, grid_dict, processed_scaler_dict, 6e-3, 1e-70, 0.1) \n",
    "    \n",
    "    # print(count_key)\n",
    "    array_processed_string = counts_to_det_syndr(count_key, _resets=False, verbose=False, distance=10)\n",
    "\n",
    "    predicted_observables = matching.decode(array_processed_string)\n",
    "\n",
    "    actual_observables = [(int(count_key[0])+0)%2]\n",
    "    if predicted_observables == actual_observables: #== [0]:\n",
    "        continue\n",
    "    num_errors += 1\n",
    "    # print(\"num_errors:\", num_errors)\n",
    "    \n",
    "    #print(f\"Wrong decoding at index {i}\")\n",
    "    w_idx_lst.append(i)\n",
    "\n",
    "    \n",
    "    if VERBOSE:\n",
    "        print(\"Count key:\", count_key)\n",
    "        print(\"count str to syndromes:\", array_processed_string)\n",
    "\n",
    "\n",
    "    if VERBOSE:\n",
    "        matched_edges = matching.decode_to_edges_array(array_processed_string)\n",
    "        print(\"matched_edges: \", matched_edges)\n",
    "        print(\"Estimated flip:\", predicted_observables)\n",
    "        print(\"Actual flip:\", actual_observables)\n",
    "    \n",
    "\n",
    "    if VERBOSE:\n",
    "        draw_matching_graph(matching, d, synd_rounds, syndromes=array_processed_string, matched_edges=matched_edges, figsize=(6, 6))\n",
    "\n",
    "print(\"Num errors:\", num_errors)"
   ]
  },
  {
   "cell_type": "code",
   "execution_count": null,
   "metadata": {},
   "outputs": [],
   "source": []
  }
 ],
 "metadata": {
  "kernelspec": {
   "display_name": "Soft-Info-fMUpUe5a",
   "language": "python",
   "name": "python3"
  },
  "language_info": {
   "codemirror_mode": {
    "name": "ipython",
    "version": 3
   },
   "file_extension": ".py",
   "mimetype": "text/x-python",
   "name": "python",
   "nbconvert_exporter": "python",
   "pygments_lexer": "ipython3",
   "version": "3.11.4"
  }
 },
 "nbformat": 4,
 "nbformat_minor": 2
}
