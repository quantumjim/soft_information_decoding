{
 "cells": [
  {
   "cell_type": "code",
   "execution_count": 1,
   "metadata": {},
   "outputs": [],
   "source": [
    "%reload_ext autoreload\n",
    "%autoreload 2"
   ]
  },
  {
   "cell_type": "code",
   "execution_count": 4,
   "metadata": {},
   "outputs": [
    {
     "name": "stdout",
     "output_type": "stream",
     "text": [
      "16:27:38 Warning: Not a valid heavy hex map, found 5 cornernodes instead of 2. Looking for longest path starting with the last corner node.. IN FILE: /Users/mha/My_Drive/Desktop/Studium/Physik/MSc/Semester_3/IBM/IBM_GIT/Soft-Info/src/soft_info/Hardware/coupling_map.py, LINE: 135\n"
     ]
    }
   ],
   "source": [
    "from soft_info import get_avgs_from_dict, get_noise_dict_from_backend, get_repcode_layout\n",
    "from result_saver import SaverProvider\n",
    "\n",
    "provider = SaverProvider()\n",
    "layout = get_repcode_layout(distance=50, backend=provider.get_backend(\"ibm_torino\"), _is_hex=True)"
   ]
  },
  {
   "cell_type": "code",
   "execution_count": 5,
   "metadata": {},
   "outputs": [
    {
     "name": "stdout",
     "output_type": "stream",
     "text": [
      "{'t1_err': 0.0012875387756103964, 't2_err': 0.004980726211276509, 'readout': 0.022323611111111114, 'single_gate': 0.0012052799448405915, 'two_gate': 0.030052660274704962}\n"
     ]
    }
   ],
   "source": [
    "avg_noise = get_avgs_from_dict(get_noise_dict_from_backend(provider, device=\"ibm_sherbrooke\", \n",
    "                                                           used_qubits=None, date='2023-10-30'), used_qubits=layout)\n",
    "print(avg_noise)"
   ]
  },
  {
   "cell_type": "code",
   "execution_count": null,
   "metadata": {},
   "outputs": [],
   "source": []
  }
 ],
 "metadata": {
  "kernelspec": {
   "display_name": "Soft-Info-fMUpUe5a",
   "language": "python",
   "name": "python3"
  },
  "language_info": {
   "codemirror_mode": {
    "name": "ipython",
    "version": 3
   },
   "file_extension": ".py",
   "mimetype": "text/x-python",
   "name": "python",
   "nbconvert_exporter": "python",
   "pygments_lexer": "ipython3",
   "version": "3.11.4"
  }
 },
 "nbformat": 4,
 "nbformat_minor": 2
}
