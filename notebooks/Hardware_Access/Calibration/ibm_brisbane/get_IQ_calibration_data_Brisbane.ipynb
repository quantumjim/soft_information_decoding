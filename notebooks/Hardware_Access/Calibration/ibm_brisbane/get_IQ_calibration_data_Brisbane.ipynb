{
 "cells": [
  {
   "cell_type": "code",
   "execution_count": 1,
   "metadata": {},
   "outputs": [],
   "source": [
    "from result_saver import SaverProvider, metadata_helper, metadata_loader\n",
    "import pandas as pd\n",
    "import numpy as np"
   ]
  },
  {
   "cell_type": "code",
   "execution_count": 2,
   "metadata": {},
   "outputs": [],
   "source": [
    "from qiskit import QuantumCircuit, transpile\n",
    "\n",
    "provider = SaverProvider()\n",
    "backend = provider.get_backend('ibm_brisbane')\n",
    "\n",
    "shots = 1e4"
   ]
  },
  {
   "cell_type": "markdown",
   "metadata": {},
   "source": [
    "# 1 State "
   ]
  },
  {
   "cell_type": "code",
   "execution_count": 3,
   "metadata": {},
   "outputs": [],
   "source": [
    "n_qubits = backend.configuration().n_qubits\n",
    "\n",
    "qc = QuantumCircuit(n_qubits, n_qubits)\n",
    "qc.x(range(n_qubits))\n",
    "qc.measure(range(n_qubits), range(n_qubits))\n",
    "\n",
    "transpiled_qc = transpile(qc, backend=backend, optimization_level=0)\n",
    "#transpiled_qc.draw(fold=-1)\n"
   ]
  },
  {
   "cell_type": "code",
   "execution_count": 4,
   "metadata": {},
   "outputs": [
    {
     "name": "stdout",
     "output_type": "stream",
     "text": [
      "Custom Warning: updating metadata\n",
      "\n"
     ]
    }
   ],
   "source": [
    "metadata = metadata_helper(num_qubits = 127, sampled_state= '1'*127, optimization_level = 0)\n",
    "job = backend.run(metadata, transpiled_qc, shots=5e4, meas_level=1, meas_return = 'single', job_tags=[\"Calibration\"])"
   ]
  },
  {
   "cell_type": "markdown",
   "metadata": {},
   "source": [
    "# 0 State"
   ]
  },
  {
   "cell_type": "code",
   "execution_count": 5,
   "metadata": {},
   "outputs": [],
   "source": [
    "n_qubits = backend.configuration().n_qubits\n",
    "\n",
    "qc = QuantumCircuit(n_qubits, n_qubits)\n",
    "#qc.x(range(n_qubits))\n",
    "qc.measure(range(n_qubits), range(n_qubits))\n",
    "\n",
    "transpiled_qc = transpile(qc, backend=backend, optimization_level=0)\n",
    "#transpiled_qc.draw(fold=-1)\n"
   ]
  },
  {
   "cell_type": "code",
   "execution_count": 6,
   "metadata": {},
   "outputs": [],
   "source": [
    "metadata = metadata_helper(num_qubits = 127, sampled_state= '0'*127, optimization_level = 0)\n",
    "job = backend.run(metadata, transpiled_qc, shots=5e4, meas_level=1, meas_return = 'single', job_tags=[\"Calibration\"])"
   ]
  },
  {
   "cell_type": "code",
   "execution_count": null,
   "metadata": {},
   "outputs": [],
   "source": []
  },
  {
   "cell_type": "code",
   "execution_count": null,
   "metadata": {},
   "outputs": [],
   "source": []
  }
 ],
 "metadata": {
  "kernelspec": {
   "display_name": "Soft-Info-kp2AnOc1",
   "language": "python",
   "name": "python3"
  },
  "language_info": {
   "codemirror_mode": {
    "name": "ipython",
    "version": 3
   },
   "file_extension": ".py",
   "mimetype": "text/x-python",
   "name": "python",
   "nbconvert_exporter": "python",
   "pygments_lexer": "ipython3",
   "version": "3.11.4"
  }
 },
 "nbformat": 4,
 "nbformat_minor": 2
}
