{
 "cells": [
  {
   "cell_type": "code",
   "execution_count": 1,
   "metadata": {},
   "outputs": [],
   "source": [
    "from result_saver import SaverProvider\n",
    "from Scratch import metadata_helper, metadata_loader\n",
    "import pandas as pd\n",
    "import numpy as np"
   ]
  },
  {
   "cell_type": "code",
   "execution_count": 2,
   "metadata": {},
   "outputs": [],
   "source": [
    "from qiskit import QuantumCircuit, transpile\n",
    "\n",
    "provider = SaverProvider()\n",
    "backend = provider.get_backend('ibmq_mumbai')\n",
    "shots = 1e5"
   ]
  },
  {
   "cell_type": "markdown",
   "metadata": {},
   "source": [
    "# 1 State "
   ]
  },
  {
   "cell_type": "code",
   "execution_count": 3,
   "metadata": {},
   "outputs": [
    {
     "name": "stdout",
     "output_type": "stream",
     "text": [
      "TranspileLayout(initial_layout=Layout({\n",
      "0: Qubit(QuantumRegister(27, 'q'), 0),\n",
      "1: Qubit(QuantumRegister(27, 'q'), 1),\n",
      "2: Qubit(QuantumRegister(27, 'q'), 2),\n",
      "3: Qubit(QuantumRegister(27, 'q'), 3),\n",
      "4: Qubit(QuantumRegister(27, 'q'), 4),\n",
      "5: Qubit(QuantumRegister(27, 'q'), 5),\n",
      "6: Qubit(QuantumRegister(27, 'q'), 6),\n",
      "7: Qubit(QuantumRegister(27, 'q'), 7),\n",
      "8: Qubit(QuantumRegister(27, 'q'), 8),\n",
      "9: Qubit(QuantumRegister(27, 'q'), 9),\n",
      "10: Qubit(QuantumRegister(27, 'q'), 10),\n",
      "11: Qubit(QuantumRegister(27, 'q'), 11),\n",
      "12: Qubit(QuantumRegister(27, 'q'), 12),\n",
      "13: Qubit(QuantumRegister(27, 'q'), 13),\n",
      "14: Qubit(QuantumRegister(27, 'q'), 14),\n",
      "15: Qubit(QuantumRegister(27, 'q'), 15),\n",
      "16: Qubit(QuantumRegister(27, 'q'), 16),\n",
      "17: Qubit(QuantumRegister(27, 'q'), 17),\n",
      "18: Qubit(QuantumRegister(27, 'q'), 18),\n",
      "19: Qubit(QuantumRegister(27, 'q'), 19),\n",
      "20: Qubit(QuantumRegister(27, 'q'), 20),\n",
      "21: Qubit(QuantumRegister(27, 'q'), 21),\n",
      "22: Qubit(QuantumRegister(27, 'q'), 22),\n",
      "23: Qubit(QuantumRegister(27, 'q'), 23),\n",
      "24: Qubit(QuantumRegister(27, 'q'), 24),\n",
      "25: Qubit(QuantumRegister(27, 'q'), 25),\n",
      "26: Qubit(QuantumRegister(27, 'q'), 26)\n",
      "}), input_qubit_mapping={Qubit(QuantumRegister(27, 'q'), 0): 0, Qubit(QuantumRegister(27, 'q'), 1): 1, Qubit(QuantumRegister(27, 'q'), 2): 2, Qubit(QuantumRegister(27, 'q'), 3): 3, Qubit(QuantumRegister(27, 'q'), 4): 4, Qubit(QuantumRegister(27, 'q'), 5): 5, Qubit(QuantumRegister(27, 'q'), 6): 6, Qubit(QuantumRegister(27, 'q'), 7): 7, Qubit(QuantumRegister(27, 'q'), 8): 8, Qubit(QuantumRegister(27, 'q'), 9): 9, Qubit(QuantumRegister(27, 'q'), 10): 10, Qubit(QuantumRegister(27, 'q'), 11): 11, Qubit(QuantumRegister(27, 'q'), 12): 12, Qubit(QuantumRegister(27, 'q'), 13): 13, Qubit(QuantumRegister(27, 'q'), 14): 14, Qubit(QuantumRegister(27, 'q'), 15): 15, Qubit(QuantumRegister(27, 'q'), 16): 16, Qubit(QuantumRegister(27, 'q'), 17): 17, Qubit(QuantumRegister(27, 'q'), 18): 18, Qubit(QuantumRegister(27, 'q'), 19): 19, Qubit(QuantumRegister(27, 'q'), 20): 20, Qubit(QuantumRegister(27, 'q'), 21): 21, Qubit(QuantumRegister(27, 'q'), 22): 22, Qubit(QuantumRegister(27, 'q'), 23): 23, Qubit(QuantumRegister(27, 'q'), 24): 24, Qubit(QuantumRegister(27, 'q'), 25): 25, Qubit(QuantumRegister(27, 'q'), 26): 26}, final_layout=None, _input_qubit_count=27, _output_qubit_list=[Qubit(QuantumRegister(27, 'q'), 0), Qubit(QuantumRegister(27, 'q'), 1), Qubit(QuantumRegister(27, 'q'), 2), Qubit(QuantumRegister(27, 'q'), 3), Qubit(QuantumRegister(27, 'q'), 4), Qubit(QuantumRegister(27, 'q'), 5), Qubit(QuantumRegister(27, 'q'), 6), Qubit(QuantumRegister(27, 'q'), 7), Qubit(QuantumRegister(27, 'q'), 8), Qubit(QuantumRegister(27, 'q'), 9), Qubit(QuantumRegister(27, 'q'), 10), Qubit(QuantumRegister(27, 'q'), 11), Qubit(QuantumRegister(27, 'q'), 12), Qubit(QuantumRegister(27, 'q'), 13), Qubit(QuantumRegister(27, 'q'), 14), Qubit(QuantumRegister(27, 'q'), 15), Qubit(QuantumRegister(27, 'q'), 16), Qubit(QuantumRegister(27, 'q'), 17), Qubit(QuantumRegister(27, 'q'), 18), Qubit(QuantumRegister(27, 'q'), 19), Qubit(QuantumRegister(27, 'q'), 20), Qubit(QuantumRegister(27, 'q'), 21), Qubit(QuantumRegister(27, 'q'), 22), Qubit(QuantumRegister(27, 'q'), 23), Qubit(QuantumRegister(27, 'q'), 24), Qubit(QuantumRegister(27, 'q'), 25), Qubit(QuantumRegister(27, 'q'), 26)])\n"
     ]
    },
    {
     "data": {
      "text/html": [
       "<pre style=\"word-wrap: normal;white-space: pre;background: #fff0;line-height: 1.1;font-family: &quot;Courier New&quot;,Courier,monospace\">           ┌───┐┌─┐                                                                              \n",
       "  q_0 -> 0 ┤ X ├┤M├──────────────────────────────────────────────────────────────────────────────\n",
       "           ├───┤└╥┘┌─┐                                                                           \n",
       "  q_1 -> 1 ┤ X ├─╫─┤M├───────────────────────────────────────────────────────────────────────────\n",
       "           ├───┤ ║ └╥┘┌─┐                                                                        \n",
       "  q_2 -> 2 ┤ X ├─╫──╫─┤M├────────────────────────────────────────────────────────────────────────\n",
       "           ├───┤ ║  ║ └╥┘┌─┐                                                                     \n",
       "  q_3 -> 3 ┤ X ├─╫──╫──╫─┤M├─────────────────────────────────────────────────────────────────────\n",
       "           ├───┤ ║  ║  ║ └╥┘┌─┐                                                                  \n",
       "  q_4 -> 4 ┤ X ├─╫──╫──╫──╫─┤M├──────────────────────────────────────────────────────────────────\n",
       "           ├───┤ ║  ║  ║  ║ └╥┘┌─┐                                                               \n",
       "  q_5 -> 5 ┤ X ├─╫──╫──╫──╫──╫─┤M├───────────────────────────────────────────────────────────────\n",
       "           ├───┤ ║  ║  ║  ║  ║ └╥┘┌─┐                                                            \n",
       "  q_6 -> 6 ┤ X ├─╫──╫──╫──╫──╫──╫─┤M├────────────────────────────────────────────────────────────\n",
       "           ├───┤ ║  ║  ║  ║  ║  ║ └╥┘┌─┐                                                         \n",
       "  q_7 -> 7 ┤ X ├─╫──╫──╫──╫──╫──╫──╫─┤M├─────────────────────────────────────────────────────────\n",
       "           ├───┤ ║  ║  ║  ║  ║  ║  ║ └╥┘┌─┐                                                      \n",
       "  q_8 -> 8 ┤ X ├─╫──╫──╫──╫──╫──╫──╫──╫─┤M├──────────────────────────────────────────────────────\n",
       "           ├───┤ ║  ║  ║  ║  ║  ║  ║  ║ └╥┘┌─┐                                                   \n",
       "  q_9 -> 9 ┤ X ├─╫──╫──╫──╫──╫──╫──╫──╫──╫─┤M├───────────────────────────────────────────────────\n",
       "           ├───┤ ║  ║  ║  ║  ║  ║  ║  ║  ║ └╥┘┌─┐                                                \n",
       "q_10 -> 10 ┤ X ├─╫──╫──╫──╫──╫──╫──╫──╫──╫──╫─┤M├────────────────────────────────────────────────\n",
       "           ├───┤ ║  ║  ║  ║  ║  ║  ║  ║  ║  ║ └╥┘┌─┐                                             \n",
       "q_11 -> 11 ┤ X ├─╫──╫──╫──╫──╫──╫──╫──╫──╫──╫──╫─┤M├─────────────────────────────────────────────\n",
       "           ├───┤ ║  ║  ║  ║  ║  ║  ║  ║  ║  ║  ║ └╥┘┌─┐                                          \n",
       "q_12 -> 12 ┤ X ├─╫──╫──╫──╫──╫──╫──╫──╫──╫──╫──╫──╫─┤M├──────────────────────────────────────────\n",
       "           ├───┤ ║  ║  ║  ║  ║  ║  ║  ║  ║  ║  ║  ║ └╥┘┌─┐                                       \n",
       "q_13 -> 13 ┤ X ├─╫──╫──╫──╫──╫──╫──╫──╫──╫──╫──╫──╫──╫─┤M├───────────────────────────────────────\n",
       "           ├───┤ ║  ║  ║  ║  ║  ║  ║  ║  ║  ║  ║  ║  ║ └╥┘┌─┐                                    \n",
       "q_14 -> 14 ┤ X ├─╫──╫──╫──╫──╫──╫──╫──╫──╫──╫──╫──╫──╫──╫─┤M├────────────────────────────────────\n",
       "           ├───┤ ║  ║  ║  ║  ║  ║  ║  ║  ║  ║  ║  ║  ║  ║ └╥┘┌─┐                                 \n",
       "q_15 -> 15 ┤ X ├─╫──╫──╫──╫──╫──╫──╫──╫──╫──╫──╫──╫──╫──╫──╫─┤M├─────────────────────────────────\n",
       "           ├───┤ ║  ║  ║  ║  ║  ║  ║  ║  ║  ║  ║  ║  ║  ║  ║ └╥┘┌─┐                              \n",
       "q_16 -> 16 ┤ X ├─╫──╫──╫──╫──╫──╫──╫──╫──╫──╫──╫──╫──╫──╫──╫──╫─┤M├──────────────────────────────\n",
       "           ├───┤ ║  ║  ║  ║  ║  ║  ║  ║  ║  ║  ║  ║  ║  ║  ║  ║ └╥┘┌─┐                           \n",
       "q_17 -> 17 ┤ X ├─╫──╫──╫──╫──╫──╫──╫──╫──╫──╫──╫──╫──╫──╫──╫──╫──╫─┤M├───────────────────────────\n",
       "           ├───┤ ║  ║  ║  ║  ║  ║  ║  ║  ║  ║  ║  ║  ║  ║  ║  ║  ║ └╥┘┌─┐                        \n",
       "q_18 -> 18 ┤ X ├─╫──╫──╫──╫──╫──╫──╫──╫──╫──╫──╫──╫──╫──╫──╫──╫──╫──╫─┤M├────────────────────────\n",
       "           ├───┤ ║  ║  ║  ║  ║  ║  ║  ║  ║  ║  ║  ║  ║  ║  ║  ║  ║  ║ └╥┘┌─┐                     \n",
       "q_19 -> 19 ┤ X ├─╫──╫──╫──╫──╫──╫──╫──╫──╫──╫──╫──╫──╫──╫──╫──╫──╫──╫──╫─┤M├─────────────────────\n",
       "           ├───┤ ║  ║  ║  ║  ║  ║  ║  ║  ║  ║  ║  ║  ║  ║  ║  ║  ║  ║  ║ └╥┘┌─┐                  \n",
       "q_20 -> 20 ┤ X ├─╫──╫──╫──╫──╫──╫──╫──╫──╫──╫──╫──╫──╫──╫──╫──╫──╫──╫──╫──╫─┤M├──────────────────\n",
       "           ├───┤ ║  ║  ║  ║  ║  ║  ║  ║  ║  ║  ║  ║  ║  ║  ║  ║  ║  ║  ║  ║ └╥┘┌─┐               \n",
       "q_21 -> 21 ┤ X ├─╫──╫──╫──╫──╫──╫──╫──╫──╫──╫──╫──╫──╫──╫──╫──╫──╫──╫──╫──╫──╫─┤M├───────────────\n",
       "           ├───┤ ║  ║  ║  ║  ║  ║  ║  ║  ║  ║  ║  ║  ║  ║  ║  ║  ║  ║  ║  ║  ║ └╥┘┌─┐            \n",
       "q_22 -> 22 ┤ X ├─╫──╫──╫──╫──╫──╫──╫──╫──╫──╫──╫──╫──╫──╫──╫──╫──╫──╫──╫──╫──╫──╫─┤M├────────────\n",
       "           ├───┤ ║  ║  ║  ║  ║  ║  ║  ║  ║  ║  ║  ║  ║  ║  ║  ║  ║  ║  ║  ║  ║  ║ └╥┘┌─┐         \n",
       "q_23 -> 23 ┤ X ├─╫──╫──╫──╫──╫──╫──╫──╫──╫──╫──╫──╫──╫──╫──╫──╫──╫──╫──╫──╫──╫──╫──╫─┤M├─────────\n",
       "           ├───┤ ║  ║  ║  ║  ║  ║  ║  ║  ║  ║  ║  ║  ║  ║  ║  ║  ║  ║  ║  ║  ║  ║  ║ └╥┘┌─┐      \n",
       "q_24 -> 24 ┤ X ├─╫──╫──╫──╫──╫──╫──╫──╫──╫──╫──╫──╫──╫──╫──╫──╫──╫──╫──╫──╫──╫──╫──╫──╫─┤M├──────\n",
       "           ├───┤ ║  ║  ║  ║  ║  ║  ║  ║  ║  ║  ║  ║  ║  ║  ║  ║  ║  ║  ║  ║  ║  ║  ║  ║ └╥┘┌─┐   \n",
       "q_25 -> 25 ┤ X ├─╫──╫──╫──╫──╫──╫──╫──╫──╫──╫──╫──╫──╫──╫──╫──╫──╫──╫──╫──╫──╫──╫──╫──╫──╫─┤M├───\n",
       "           ├───┤ ║  ║  ║  ║  ║  ║  ║  ║  ║  ║  ║  ║  ║  ║  ║  ║  ║  ║  ║  ║  ║  ║  ║  ║  ║ └╥┘┌─┐\n",
       "q_26 -> 26 ┤ X ├─╫──╫──╫──╫──╫──╫──╫──╫──╫──╫──╫──╫──╫──╫──╫──╫──╫──╫──╫──╫──╫──╫──╫──╫──╫──╫─┤M├\n",
       "           └───┘ ║  ║  ║  ║  ║  ║  ║  ║  ║  ║  ║  ║  ║  ║  ║  ║  ║  ║  ║  ║  ║  ║  ║  ║  ║  ║ └╥┘\n",
       "     c: 27/══════╩══╩══╩══╩══╩══╩══╩══╩══╩══╩══╩══╩══╩══╩══╩══╩══╩══╩══╩══╩══╩══╩══╩══╩══╩══╩══╩═\n",
       "                 0  1  2  3  4  5  6  7  8  9  10 11 12 13 14 15 16 17 18 19 20 21 22 23 24 25 26</pre>"
      ],
      "text/plain": [
       "           ┌───┐┌─┐                                                                              \n",
       "  q_0 -> 0 ┤ X ├┤M├──────────────────────────────────────────────────────────────────────────────\n",
       "           ├───┤└╥┘┌─┐                                                                           \n",
       "  q_1 -> 1 ┤ X ├─╫─┤M├───────────────────────────────────────────────────────────────────────────\n",
       "           ├───┤ ║ └╥┘┌─┐                                                                        \n",
       "  q_2 -> 2 ┤ X ├─╫──╫─┤M├────────────────────────────────────────────────────────────────────────\n",
       "           ├───┤ ║  ║ └╥┘┌─┐                                                                     \n",
       "  q_3 -> 3 ┤ X ├─╫──╫──╫─┤M├─────────────────────────────────────────────────────────────────────\n",
       "           ├───┤ ║  ║  ║ └╥┘┌─┐                                                                  \n",
       "  q_4 -> 4 ┤ X ├─╫──╫──╫──╫─┤M├──────────────────────────────────────────────────────────────────\n",
       "           ├───┤ ║  ║  ║  ║ └╥┘┌─┐                                                               \n",
       "  q_5 -> 5 ┤ X ├─╫──╫──╫──╫──╫─┤M├───────────────────────────────────────────────────────────────\n",
       "           ├───┤ ║  ║  ║  ║  ║ └╥┘┌─┐                                                            \n",
       "  q_6 -> 6 ┤ X ├─╫──╫──╫──╫──╫──╫─┤M├────────────────────────────────────────────────────────────\n",
       "           ├───┤ ║  ║  ║  ║  ║  ║ └╥┘┌─┐                                                         \n",
       "  q_7 -> 7 ┤ X ├─╫──╫──╫──╫──╫──╫──╫─┤M├─────────────────────────────────────────────────────────\n",
       "           ├───┤ ║  ║  ║  ║  ║  ║  ║ └╥┘┌─┐                                                      \n",
       "  q_8 -> 8 ┤ X ├─╫──╫──╫──╫──╫──╫──╫──╫─┤M├──────────────────────────────────────────────────────\n",
       "           ├───┤ ║  ║  ║  ║  ║  ║  ║  ║ └╥┘┌─┐                                                   \n",
       "  q_9 -> 9 ┤ X ├─╫──╫──╫──╫──╫──╫──╫──╫──╫─┤M├───────────────────────────────────────────────────\n",
       "           ├───┤ ║  ║  ║  ║  ║  ║  ║  ║  ║ └╥┘┌─┐                                                \n",
       "q_10 -> 10 ┤ X ├─╫──╫──╫──╫──╫──╫──╫──╫──╫──╫─┤M├────────────────────────────────────────────────\n",
       "           ├───┤ ║  ║  ║  ║  ║  ║  ║  ║  ║  ║ └╥┘┌─┐                                             \n",
       "q_11 -> 11 ┤ X ├─╫──╫──╫──╫──╫──╫──╫──╫──╫──╫──╫─┤M├─────────────────────────────────────────────\n",
       "           ├───┤ ║  ║  ║  ║  ║  ║  ║  ║  ║  ║  ║ └╥┘┌─┐                                          \n",
       "q_12 -> 12 ┤ X ├─╫──╫──╫──╫──╫──╫──╫──╫──╫──╫──╫──╫─┤M├──────────────────────────────────────────\n",
       "           ├───┤ ║  ║  ║  ║  ║  ║  ║  ║  ║  ║  ║  ║ └╥┘┌─┐                                       \n",
       "q_13 -> 13 ┤ X ├─╫──╫──╫──╫──╫──╫──╫──╫──╫──╫──╫──╫──╫─┤M├───────────────────────────────────────\n",
       "           ├───┤ ║  ║  ║  ║  ║  ║  ║  ║  ║  ║  ║  ║  ║ └╥┘┌─┐                                    \n",
       "q_14 -> 14 ┤ X ├─╫──╫──╫──╫──╫──╫──╫──╫──╫──╫──╫──╫──╫──╫─┤M├────────────────────────────────────\n",
       "           ├───┤ ║  ║  ║  ║  ║  ║  ║  ║  ║  ║  ║  ║  ║  ║ └╥┘┌─┐                                 \n",
       "q_15 -> 15 ┤ X ├─╫──╫──╫──╫──╫──╫──╫──╫──╫──╫──╫──╫──╫──╫──╫─┤M├─────────────────────────────────\n",
       "           ├───┤ ║  ║  ║  ║  ║  ║  ║  ║  ║  ║  ║  ║  ║  ║  ║ └╥┘┌─┐                              \n",
       "q_16 -> 16 ┤ X ├─╫──╫──╫──╫──╫──╫──╫──╫──╫──╫──╫──╫──╫──╫──╫──╫─┤M├──────────────────────────────\n",
       "           ├───┤ ║  ║  ║  ║  ║  ║  ║  ║  ║  ║  ║  ║  ║  ║  ║  ║ └╥┘┌─┐                           \n",
       "q_17 -> 17 ┤ X ├─╫──╫──╫──╫──╫──╫──╫──╫──╫──╫──╫──╫──╫──╫──╫──╫──╫─┤M├───────────────────────────\n",
       "           ├───┤ ║  ║  ║  ║  ║  ║  ║  ║  ║  ║  ║  ║  ║  ║  ║  ║  ║ └╥┘┌─┐                        \n",
       "q_18 -> 18 ┤ X ├─╫──╫──╫──╫──╫──╫──╫──╫──╫──╫──╫──╫──╫──╫──╫──╫──╫──╫─┤M├────────────────────────\n",
       "           ├───┤ ║  ║  ║  ║  ║  ║  ║  ║  ║  ║  ║  ║  ║  ║  ║  ║  ║  ║ └╥┘┌─┐                     \n",
       "q_19 -> 19 ┤ X ├─╫──╫──╫──╫──╫──╫──╫──╫──╫──╫──╫──╫──╫──╫──╫──╫──╫──╫──╫─┤M├─────────────────────\n",
       "           ├───┤ ║  ║  ║  ║  ║  ║  ║  ║  ║  ║  ║  ║  ║  ║  ║  ║  ║  ║  ║ └╥┘┌─┐                  \n",
       "q_20 -> 20 ┤ X ├─╫──╫──╫──╫──╫──╫──╫──╫──╫──╫──╫──╫──╫──╫──╫──╫──╫──╫──╫──╫─┤M├──────────────────\n",
       "           ├───┤ ║  ║  ║  ║  ║  ║  ║  ║  ║  ║  ║  ║  ║  ║  ║  ║  ║  ║  ║  ║ └╥┘┌─┐               \n",
       "q_21 -> 21 ┤ X ├─╫──╫──╫──╫──╫──╫──╫──╫──╫──╫──╫──╫──╫──╫──╫──╫──╫──╫──╫──╫──╫─┤M├───────────────\n",
       "           ├───┤ ║  ║  ║  ║  ║  ║  ║  ║  ║  ║  ║  ║  ║  ║  ║  ║  ║  ║  ║  ║  ║ └╥┘┌─┐            \n",
       "q_22 -> 22 ┤ X ├─╫──╫──╫──╫──╫──╫──╫──╫──╫──╫──╫──╫──╫──╫──╫──╫──╫──╫──╫──╫──╫──╫─┤M├────────────\n",
       "           ├───┤ ║  ║  ║  ║  ║  ║  ║  ║  ║  ║  ║  ║  ║  ║  ║  ║  ║  ║  ║  ║  ║  ║ └╥┘┌─┐         \n",
       "q_23 -> 23 ┤ X ├─╫──╫──╫──╫──╫──╫──╫──╫──╫──╫──╫──╫──╫──╫──╫──╫──╫──╫──╫──╫──╫──╫──╫─┤M├─────────\n",
       "           ├───┤ ║  ║  ║  ║  ║  ║  ║  ║  ║  ║  ║  ║  ║  ║  ║  ║  ║  ║  ║  ║  ║  ║  ║ └╥┘┌─┐      \n",
       "q_24 -> 24 ┤ X ├─╫──╫──╫──╫──╫──╫──╫──╫──╫──╫──╫──╫──╫──╫──╫──╫──╫──╫──╫──╫──╫──╫──╫──╫─┤M├──────\n",
       "           ├───┤ ║  ║  ║  ║  ║  ║  ║  ║  ║  ║  ║  ║  ║  ║  ║  ║  ║  ║  ║  ║  ║  ║  ║  ║ └╥┘┌─┐   \n",
       "q_25 -> 25 ┤ X ├─╫──╫──╫──╫──╫──╫──╫──╫──╫──╫──╫──╫──╫──╫──╫──╫──╫──╫──╫──╫──╫──╫──╫──╫──╫─┤M├───\n",
       "           ├───┤ ║  ║  ║  ║  ║  ║  ║  ║  ║  ║  ║  ║  ║  ║  ║  ║  ║  ║  ║  ║  ║  ║  ║  ║  ║ └╥┘┌─┐\n",
       "q_26 -> 26 ┤ X ├─╫──╫──╫──╫──╫──╫──╫──╫──╫──╫──╫──╫──╫──╫──╫──╫──╫──╫──╫──╫──╫──╫──╫──╫──╫──╫─┤M├\n",
       "           └───┘ ║  ║  ║  ║  ║  ║  ║  ║  ║  ║  ║  ║  ║  ║  ║  ║  ║  ║  ║  ║  ║  ║  ║  ║  ║  ║ └╥┘\n",
       "     c: 27/══════╩══╩══╩══╩══╩══╩══╩══╩══╩══╩══╩══╩══╩══╩══╩══╩══╩══╩══╩══╩══╩══╩══╩══╩══╩══╩══╩═\n",
       "                 0  1  2  3  4  5  6  7  8  9  10 11 12 13 14 15 16 17 18 19 20 21 22 23 24 25 26"
      ]
     },
     "execution_count": 3,
     "metadata": {},
     "output_type": "execute_result"
    }
   ],
   "source": [
    "n_qubits = backend.configuration().n_qubits\n",
    "\n",
    "qc = QuantumCircuit(n_qubits, n_qubits)\n",
    "qc.x(range(n_qubits))\n",
    "qc.measure(range(n_qubits), range(n_qubits))\n",
    "\n",
    "transpiled_qc = transpile(qc, backend=backend, optimization_level=0)\n",
    "print(transpiled_qc._layout)\n",
    "transpiled_qc.draw(fold=-1)\n",
    "\n"
   ]
  },
  {
   "cell_type": "code",
   "execution_count": 4,
   "metadata": {},
   "outputs": [
    {
     "name": "stdout",
     "output_type": "stream",
     "text": [
      "18:56:21 Warning: updating metadata. IN FILE: /Users/mha/My_Drive/Desktop/Studium/Physik/MSc/Semester_3/IBM/IBM_GIT/Soft-Info/libs/qiskit-saver-provider/result_saver/provider/saver_provider.py, LINE: 46\n"
     ]
    }
   ],
   "source": [
    "metadata = metadata_helper(num_qubits = 27, sampled_state= '1'*27, optimization_level=0)\n",
    "job = backend.run(metadata, transpiled_qc, shots=shots, meas_level=1, meas_return = 'single', job_tags=[\"Calibration\"])"
   ]
  },
  {
   "cell_type": "markdown",
   "metadata": {},
   "source": [
    "# 0 State"
   ]
  },
  {
   "cell_type": "code",
   "execution_count": 5,
   "metadata": {},
   "outputs": [],
   "source": [
    "n_qubits = backend.configuration().n_qubits\n",
    "\n",
    "qc = QuantumCircuit(n_qubits, n_qubits)\n",
    "#qc.x(range(n_qubits))\n",
    "qc.measure(range(n_qubits), range(n_qubits))\n",
    "\n",
    "transpiled_qc = transpile(qc, backend=backend, optimization_level=0)\n",
    "#transpiled_qc.draw(fold=-1)\n"
   ]
  },
  {
   "cell_type": "code",
   "execution_count": 6,
   "metadata": {},
   "outputs": [],
   "source": [
    "metadata = metadata_helper(num_qubits = 27, sampled_state= '0'*27, optimization_level=0)\n",
    "job = backend.run(metadata, transpiled_qc, shots=shots, meas_level=1, meas_return = 'single', job_tags=[\"Calibration\"])"
   ]
  },
  {
   "cell_type": "code",
   "execution_count": null,
   "metadata": {},
   "outputs": [],
   "source": []
  },
  {
   "cell_type": "code",
   "execution_count": null,
   "metadata": {},
   "outputs": [],
   "source": []
  }
 ],
 "metadata": {
  "kernelspec": {
   "display_name": "Soft-Info-kp2AnOc1",
   "language": "python",
   "name": "python3"
  },
  "language_info": {
   "codemirror_mode": {
    "name": "ipython",
    "version": 3
   },
   "file_extension": ".py",
   "mimetype": "text/x-python",
   "name": "python",
   "nbconvert_exporter": "python",
   "pygments_lexer": "ipython3",
   "version": "3.11.4"
  }
 },
 "nbformat": 4,
 "nbformat_minor": 2
}
