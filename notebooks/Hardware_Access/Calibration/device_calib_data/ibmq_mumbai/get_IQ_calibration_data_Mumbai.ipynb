{
 "cells": [
  {
   "cell_type": "code",
   "execution_count": 3,
   "metadata": {},
   "outputs": [],
   "source": [
    "from result_saver import SaverProvider\n",
    "from Scratch import metadata_helper, metadata_loader\n",
    "import pandas as pd\n",
    "import numpy as np"
   ]
  },
  {
   "cell_type": "code",
   "execution_count": 4,
   "metadata": {},
   "outputs": [],
   "source": [
    "from qiskit import QuantumCircuit, transpile\n",
    "\n",
    "provider = SaverProvider()\n",
    "backend = provider.get_backend('ibmq_mumbai')\n",
    "shots = 1e5"
   ]
  },
  {
   "cell_type": "markdown",
   "metadata": {},
   "source": [
    "# 1 State "
   ]
  },
  {
   "cell_type": "code",
   "execution_count": 5,
   "metadata": {},
   "outputs": [],
   "source": [
    "n_qubits = backend.configuration().n_qubits\n",
    "\n",
    "qc = QuantumCircuit(n_qubits, n_qubits)\n",
    "qc.x(range(n_qubits))\n",
    "qc.measure(range(n_qubits), range(n_qubits))\n",
    "\n",
    "transpiled_qc = transpile(qc, backend=backend, optimization_level=0)\n",
    "# print(transpiled_qc._layout)\n",
    "# transpiled_qc.draw(fold=-1)\n",
    "\n"
   ]
  },
  {
   "cell_type": "code",
   "execution_count": 6,
   "metadata": {},
   "outputs": [
    {
     "name": "stdout",
     "output_type": "stream",
     "text": [
      "16:40:52 Warning: updating metadata. IN FILE: /Users/mha/My_Drive/Desktop/Studium/Physik/MSc/Semester_3/IBM/IBM_GIT/Soft-Info/libs/qiskit-saver-provider/result_saver/provider/saver_provider.py, LINE: 46\n"
     ]
    }
   ],
   "source": [
    "metadata = metadata_helper(num_qubits = 27, sampled_state= '1'*27, optimization_level=0)\n",
    "job = backend.run(metadata, transpiled_qc, shots=shots, meas_level=1, meas_return = 'single', job_tags=[\"Calibration\"])"
   ]
  },
  {
   "cell_type": "markdown",
   "metadata": {},
   "source": [
    "# 0 State"
   ]
  },
  {
   "cell_type": "code",
   "execution_count": 7,
   "metadata": {},
   "outputs": [],
   "source": [
    "n_qubits = backend.configuration().n_qubits\n",
    "\n",
    "qc = QuantumCircuit(n_qubits, n_qubits)\n",
    "#qc.x(range(n_qubits))\n",
    "qc.measure(range(n_qubits), range(n_qubits))\n",
    "\n",
    "transpiled_qc = transpile(qc, backend=backend, optimization_level=0)\n",
    "#transpiled_qc.draw(fold=-1)\n"
   ]
  },
  {
   "cell_type": "code",
   "execution_count": 8,
   "metadata": {},
   "outputs": [],
   "source": [
    "metadata = metadata_helper(num_qubits = 27, sampled_state= '0'*27, optimization_level=0)\n",
    "job = backend.run(metadata, transpiled_qc, shots=shots, meas_level=1, meas_return = 'single', job_tags=[\"Calibration\"])"
   ]
  },
  {
   "cell_type": "code",
   "execution_count": null,
   "metadata": {},
   "outputs": [],
   "source": []
  },
  {
   "cell_type": "code",
   "execution_count": null,
   "metadata": {},
   "outputs": [],
   "source": []
  }
 ],
 "metadata": {
  "kernelspec": {
   "display_name": "Soft-Info-kp2AnOc1",
   "language": "python",
   "name": "python3"
  },
  "language_info": {
   "codemirror_mode": {
    "name": "ipython",
    "version": 3
   },
   "file_extension": ".py",
   "mimetype": "text/x-python",
   "name": "python",
   "nbconvert_exporter": "python",
   "pygments_lexer": "ipython3",
   "version": "3.11.4"
  }
 },
 "nbformat": 4,
 "nbformat_minor": 2
}
