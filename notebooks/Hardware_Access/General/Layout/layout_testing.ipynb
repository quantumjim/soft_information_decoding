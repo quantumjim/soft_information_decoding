{
 "cells": [
  {
   "cell_type": "code",
   "execution_count": 1,
   "metadata": {},
   "outputs": [],
   "source": [
    "%reload_ext autoreload\n",
    "%autoreload 2"
   ]
  },
  {
   "cell_type": "code",
   "execution_count": 2,
   "metadata": {},
   "outputs": [],
   "source": [
    "from result_saver import SaverProvider\n",
    "from qiskit_ibm_provider import IBMProvider\n",
    "\n",
    "provider = SaverProvider()\n",
    "ibm_provider = IBMProvider()"
   ]
  },
  {
   "cell_type": "code",
   "execution_count": 3,
   "metadata": {},
   "outputs": [],
   "source": [
    "from Scratch import metadata_loader\n",
    "\n",
    "md = metadata_loader(True, True)\n",
    "\n",
    "job_id = md['job_id'][0]"
   ]
  },
  {
   "cell_type": "code",
   "execution_count": 23,
   "metadata": {},
   "outputs": [
    {
     "ename": "RuntimeError",
     "evalue": "('Failed to retrieve job for job id cmx90wbwjay0008cnc3g.', error('Error -3 while decompressing data: invalid block type'))",
     "output_type": "error",
     "traceback": [
      "\u001b[0;31m---------------------------------------------------------------------------\u001b[0m",
      "\u001b[0;31merror\u001b[0m                                     Traceback (most recent call last)",
      "File \u001b[0;32m~/My_Drive/Desktop/Studium/Physik/MSc/Semester_3/IBM/IBM_GIT/Soft-Info/libs/qiskit-saver-provider/result_saver/provider/saver_provider.py:101\u001b[0m, in \u001b[0;36mSaverProvider.retrieve_job\u001b[0;34m(self, job_id, _ignore_running, overwrite)\u001b[0m\n\u001b[1;32m    100\u001b[0m \u001b[38;5;28;01mwith\u001b[39;00m gzip\u001b[38;5;241m.\u001b[39mGzipFile(filename, \u001b[38;5;124m\"\u001b[39m\u001b[38;5;124mr\u001b[39m\u001b[38;5;124m\"\u001b[39m) \u001b[38;5;28;01mas\u001b[39;00m f:\n\u001b[0;32m--> 101\u001b[0m     job_str \u001b[38;5;241m=\u001b[39m \u001b[38;5;28mstr\u001b[39m(\u001b[43mf\u001b[49m\u001b[38;5;241;43m.\u001b[39;49m\u001b[43mread\u001b[49m\u001b[43m(\u001b[49m\u001b[43m)\u001b[49m, \u001b[38;5;124m\"\u001b[39m\u001b[38;5;124mutf8\u001b[39m\u001b[38;5;124m\"\u001b[39m)\n\u001b[1;32m    102\u001b[0m job \u001b[38;5;241m=\u001b[39m json\u001b[38;5;241m.\u001b[39mloads(job_str, \u001b[38;5;28mcls\u001b[39m\u001b[38;5;241m=\u001b[39mResultSaverDecoder)\n",
      "File \u001b[0;32m~/.pyenv/versions/3.11.4/lib/python3.11/gzip.py:301\u001b[0m, in \u001b[0;36mGzipFile.read\u001b[0;34m(self, size)\u001b[0m\n\u001b[1;32m    300\u001b[0m     \u001b[38;5;28;01mraise\u001b[39;00m \u001b[38;5;167;01mOSError\u001b[39;00m(errno\u001b[38;5;241m.\u001b[39mEBADF, \u001b[38;5;124m\"\u001b[39m\u001b[38;5;124mread() on write-only GzipFile object\u001b[39m\u001b[38;5;124m\"\u001b[39m)\n\u001b[0;32m--> 301\u001b[0m \u001b[38;5;28;01mreturn\u001b[39;00m \u001b[38;5;28;43mself\u001b[39;49m\u001b[38;5;241;43m.\u001b[39;49m\u001b[43m_buffer\u001b[49m\u001b[38;5;241;43m.\u001b[39;49m\u001b[43mread\u001b[49m\u001b[43m(\u001b[49m\u001b[43msize\u001b[49m\u001b[43m)\u001b[49m\n",
      "File \u001b[0;32m~/.pyenv/versions/3.11.4/lib/python3.11/_compression.py:118\u001b[0m, in \u001b[0;36mDecompressReader.readall\u001b[0;34m(self)\u001b[0m\n\u001b[1;32m    115\u001b[0m \u001b[38;5;66;03m# sys.maxsize means the max length of output buffer is unlimited,\u001b[39;00m\n\u001b[1;32m    116\u001b[0m \u001b[38;5;66;03m# so that the whole input buffer can be decompressed within one\u001b[39;00m\n\u001b[1;32m    117\u001b[0m \u001b[38;5;66;03m# .decompress() call.\u001b[39;00m\n\u001b[0;32m--> 118\u001b[0m \u001b[38;5;28;01mwhile\u001b[39;00m data \u001b[38;5;241m:=\u001b[39m \u001b[38;5;28;43mself\u001b[39;49m\u001b[38;5;241;43m.\u001b[39;49m\u001b[43mread\u001b[49m\u001b[43m(\u001b[49m\u001b[43msys\u001b[49m\u001b[38;5;241;43m.\u001b[39;49m\u001b[43mmaxsize\u001b[49m\u001b[43m)\u001b[49m:\n\u001b[1;32m    119\u001b[0m     chunks\u001b[38;5;241m.\u001b[39mappend(data)\n",
      "File \u001b[0;32m~/.pyenv/versions/3.11.4/lib/python3.11/gzip.py:507\u001b[0m, in \u001b[0;36m_GzipReader.read\u001b[0;34m(self, size)\u001b[0m\n\u001b[1;32m    505\u001b[0m buf \u001b[38;5;241m=\u001b[39m \u001b[38;5;28mself\u001b[39m\u001b[38;5;241m.\u001b[39m_fp\u001b[38;5;241m.\u001b[39mread(io\u001b[38;5;241m.\u001b[39mDEFAULT_BUFFER_SIZE)\n\u001b[0;32m--> 507\u001b[0m uncompress \u001b[38;5;241m=\u001b[39m \u001b[38;5;28;43mself\u001b[39;49m\u001b[38;5;241;43m.\u001b[39;49m\u001b[43m_decompressor\u001b[49m\u001b[38;5;241;43m.\u001b[39;49m\u001b[43mdecompress\u001b[49m\u001b[43m(\u001b[49m\u001b[43mbuf\u001b[49m\u001b[43m,\u001b[49m\u001b[43m \u001b[49m\u001b[43msize\u001b[49m\u001b[43m)\u001b[49m\n\u001b[1;32m    508\u001b[0m \u001b[38;5;28;01mif\u001b[39;00m \u001b[38;5;28mself\u001b[39m\u001b[38;5;241m.\u001b[39m_decompressor\u001b[38;5;241m.\u001b[39munconsumed_tail \u001b[38;5;241m!=\u001b[39m \u001b[38;5;124mb\u001b[39m\u001b[38;5;124m\"\u001b[39m\u001b[38;5;124m\"\u001b[39m:\n",
      "\u001b[0;31merror\u001b[0m: Error -3 while decompressing data: invalid block type",
      "\nDuring handling of the above exception, another exception occurred:\n",
      "\u001b[0;31mRuntimeError\u001b[0m                              Traceback (most recent call last)",
      "Cell \u001b[0;32mIn[23], line 2\u001b[0m\n\u001b[1;32m      1\u001b[0m job_ibm \u001b[38;5;241m=\u001b[39m ibm_provider\u001b[38;5;241m.\u001b[39mretrieve_job(\u001b[38;5;124m'\u001b[39m\u001b[38;5;124mcqpysx72b6ng008y69fg\u001b[39m\u001b[38;5;124m'\u001b[39m)\n\u001b[0;32m----> 2\u001b[0m job_saver \u001b[38;5;241m=\u001b[39m \u001b[43mprovider\u001b[49m\u001b[38;5;241;43m.\u001b[39;49m\u001b[43mretrieve_job\u001b[49m\u001b[43m(\u001b[49m\u001b[43mjob_id\u001b[49m\u001b[43m)\u001b[49m\n",
      "File \u001b[0;32m~/My_Drive/Desktop/Studium/Physik/MSc/Semester_3/IBM/IBM_GIT/Soft-Info/libs/qiskit-saver-provider/result_saver/provider/saver_provider.py:105\u001b[0m, in \u001b[0;36mSaverProvider.retrieve_job\u001b[0;34m(self, job_id, _ignore_running, overwrite)\u001b[0m\n\u001b[1;32m    103\u001b[0m     \u001b[38;5;28;01mreturn\u001b[39;00m job\n\u001b[1;32m    104\u001b[0m \u001b[38;5;28;01mexcept\u001b[39;00m \u001b[38;5;167;01mException\u001b[39;00m \u001b[38;5;28;01mas\u001b[39;00m e:\n\u001b[0;32m--> 105\u001b[0m     \u001b[38;5;28;01mraise\u001b[39;00m \u001b[38;5;167;01mRuntimeError\u001b[39;00m(\n\u001b[1;32m    106\u001b[0m         \u001b[38;5;124mf\u001b[39m\u001b[38;5;124m\"\u001b[39m\u001b[38;5;124mFailed to retrieve job for job id \u001b[39m\u001b[38;5;132;01m{\u001b[39;00mjob_id\u001b[38;5;132;01m}\u001b[39;00m\u001b[38;5;124m.\u001b[39m\u001b[38;5;124m\"\u001b[39m, e)\n",
      "\u001b[0;31mRuntimeError\u001b[0m: ('Failed to retrieve job for job id cmx90wbwjay0008cnc3g.', error('Error -3 while decompressing data: invalid block type'))"
     ]
    }
   ],
   "source": [
    "job_ibm = ibm_provider.retrieve_job(job_id)\n",
    "job_saver = provider.retrieve_job(job_id)"
   ]
  },
  {
   "cell_type": "code",
   "execution_count": 5,
   "metadata": {},
   "outputs": [
    {
     "data": {
      "text/plain": [
       "TranspileLayout(initial_layout=Layout({\n",
       "0: Qubit(QuantumRegister(1, 'q'), 0),\n",
       "1: Qubit(QuantumRegister(4, 'ancilla'), 0),\n",
       "2: Qubit(QuantumRegister(4, 'ancilla'), 1),\n",
       "3: Qubit(QuantumRegister(4, 'ancilla'), 2),\n",
       "4: Qubit(QuantumRegister(4, 'ancilla'), 3)\n",
       "}), input_qubit_mapping={Qubit(QuantumRegister(1, 'q'), 0): 0, Qubit(QuantumRegister(4, 'ancilla'), 0): 1, Qubit(QuantumRegister(4, 'ancilla'), 1): 2, Qubit(QuantumRegister(4, 'ancilla'), 2): 3, Qubit(QuantumRegister(4, 'ancilla'), 3): 4}, final_layout=None, _input_qubit_count=None, _output_qubit_list=None)"
      ]
     },
     "execution_count": 5,
     "metadata": {},
     "output_type": "execute_result"
    }
   ],
   "source": [
    "job_ibm.circuits()[0].layout"
   ]
  },
  {
   "cell_type": "code",
   "execution_count": 6,
   "metadata": {},
   "outputs": [
    {
     "data": {
      "text/plain": [
       "'OPENQASM 2.0;\\ninclude \"qelib1.inc\";\\nqreg q[5];\\ncreg c[1];\\nx q[0];\\nmeasure q[0] -> c[0];\\n'"
      ]
     },
     "execution_count": 6,
     "metadata": {},
     "output_type": "execute_result"
    }
   ],
   "source": [
    "job_ibm.circuits()[0].qasm()"
   ]
  },
  {
   "cell_type": "code",
   "execution_count": 7,
   "metadata": {},
   "outputs": [
    {
     "data": {
      "text/plain": [
       "'cmvyazbk20pg008epbzg'"
      ]
     },
     "execution_count": 7,
     "metadata": {},
     "output_type": "execute_result"
    }
   ],
   "source": [
    "job_ibm.job_id()"
   ]
  },
  {
   "cell_type": "code",
   "execution_count": 14,
   "metadata": {},
   "outputs": [
    {
     "name": "stdout",
     "output_type": "stream",
     "text": [
      "{\"Qubit(QuantumRegister(1, 'q'), 0)\": '0', \"Qubit(QuantumRegister(4, 'ancilla'), 0)\": '1', \"Qubit(QuantumRegister(4, 'ancilla'), 1)\": '2', \"Qubit(QuantumRegister(4, 'ancilla'), 2)\": '3', \"Qubit(QuantumRegister(4, 'ancilla'), 3)\": '4'}\n"
     ]
    }
   ],
   "source": [
    "layout = job_saver.initial_layouts()[0]\n",
    "print(layout)"
   ]
  },
  {
   "cell_type": "code",
   "execution_count": 15,
   "metadata": {},
   "outputs": [
    {
     "data": {
      "text/plain": [
       "{0: Qubit(QuantumRegister(1, 'q'), 0),\n",
       " 1: Qubit(QuantumRegister(4, 'ancilla'), 0),\n",
       " 2: Qubit(QuantumRegister(4, 'ancilla'), 1),\n",
       " 3: Qubit(QuantumRegister(4, 'ancilla'), 2),\n",
       " 4: Qubit(QuantumRegister(4, 'ancilla'), 3)}"
      ]
     },
     "execution_count": 15,
     "metadata": {},
     "output_type": "execute_result"
    }
   ],
   "source": [
    "job_ibm.circuits()[0].layout.initial_layout.get_physical_bits()"
   ]
  },
  {
   "cell_type": "code",
   "execution_count": 16,
   "metadata": {},
   "outputs": [
    {
     "data": {
      "text/plain": [
       "{Qubit(QuantumRegister(1, 'q'), 0): 0,\n",
       " Qubit(QuantumRegister(4, 'ancilla'), 0): 1,\n",
       " Qubit(QuantumRegister(4, 'ancilla'), 1): 2,\n",
       " Qubit(QuantumRegister(4, 'ancilla'), 2): 3,\n",
       " Qubit(QuantumRegister(4, 'ancilla'), 3): 4}"
      ]
     },
     "execution_count": 16,
     "metadata": {},
     "output_type": "execute_result"
    }
   ],
   "source": [
    "job_ibm.circuits()[0].layout.initial_layout.get_virtual_bits()"
   ]
  },
  {
   "cell_type": "code",
   "execution_count": 17,
   "metadata": {},
   "outputs": [
    {
     "data": {
      "text/plain": [
       "Layout({\n",
       "0: Qubit(QuantumRegister(1, 'q'), 0),\n",
       "1: Qubit(QuantumRegister(4, 'ancilla'), 0),\n",
       "2: Qubit(QuantumRegister(4, 'ancilla'), 1),\n",
       "3: Qubit(QuantumRegister(4, 'ancilla'), 2),\n",
       "4: Qubit(QuantumRegister(4, 'ancilla'), 3)\n",
       "})"
      ]
     },
     "execution_count": 17,
     "metadata": {},
     "output_type": "execute_result"
    }
   ],
   "source": [
    "job_ibm.circuits()[0].layout.initial_layout"
   ]
  },
  {
   "cell_type": "code",
   "execution_count": 22,
   "metadata": {},
   "outputs": [
    {
     "name": "stdout",
     "output_type": "stream",
     "text": [
      "{\"Qubit(QuantumRegister(1, 'q'), 0)\": '0', \"Qubit(QuantumRegister(4, 'ancilla'), 0)\": '1', \"Qubit(QuantumRegister(4, 'ancilla'), 1)\": '2', \"Qubit(QuantumRegister(4, 'ancilla'), 2)\": '3', \"Qubit(QuantumRegister(4, 'ancilla'), 3)\": '4'}\n"
     ]
    },
    {
     "data": {
      "text/plain": [
       "{'q': {0: 0}, 'ancilla': {0: 1, 1: 2, 2: 3, 3: 4}}"
      ]
     },
     "execution_count": 22,
     "metadata": {},
     "output_type": "execute_result"
    }
   ],
   "source": [
    "initial_layout = job_saver.initial_layouts()[0]\n",
    "print(initial_layout)\n",
    "\n",
    "job_saver.deserialize_layout(initial_layout)"
   ]
  },
  {
   "cell_type": "markdown",
   "metadata": {},
   "source": [
    "# Overwrite the job"
   ]
  },
  {
   "cell_type": "code",
   "execution_count": 9,
   "metadata": {},
   "outputs": [
    {
     "data": {
      "text/plain": [
       "'/Users/mha/My_Drive/Desktop/Studium/Physik/MSc/Semester_3/IBM/IBM_GIT/Soft-Info/.Scratch/jobs/2024.03.10-15h34-cmvyazbk20pg008epbzg.json.gz'"
      ]
     },
     "execution_count": 9,
     "metadata": {},
     "output_type": "execute_result"
    }
   ],
   "source": [
    "provider.save_job(job_ibm, overwrite=True)"
   ]
  },
  {
   "cell_type": "code",
   "execution_count": 10,
   "metadata": {},
   "outputs": [],
   "source": [
    "saved_job = provider.retrieve_job(job_id)"
   ]
  },
  {
   "cell_type": "code",
   "execution_count": 11,
   "metadata": {},
   "outputs": [
    {
     "name": "stdout",
     "output_type": "stream",
     "text": [
      "[{\"Qubit(QuantumRegister(1, 'q'), 0)\": '0', \"Qubit(QuantumRegister(4, 'ancilla'), 0)\": '1', \"Qubit(QuantumRegister(4, 'ancilla'), 1)\": '2', \"Qubit(QuantumRegister(4, 'ancilla'), 2)\": '3', \"Qubit(QuantumRegister(4, 'ancilla'), 3)\": '4'}]\n"
     ]
    }
   ],
   "source": [
    "print(saved_job.initial_layouts())"
   ]
  },
  {
   "cell_type": "markdown",
   "metadata": {},
   "source": [
    "# Manually load a job"
   ]
  },
  {
   "cell_type": "code",
   "execution_count": 12,
   "metadata": {},
   "outputs": [
    {
     "ename": "KeyboardInterrupt",
     "evalue": "",
     "output_type": "error",
     "traceback": [
      "\u001b[0;31m---------------------------------------------------------------------------\u001b[0m",
      "\u001b[0;31mKeyboardInterrupt\u001b[0m                         Traceback (most recent call last)",
      "Cell \u001b[0;32mIn[12], line 7\u001b[0m\n\u001b[1;32m      3\u001b[0m \u001b[38;5;28;01mfrom\u001b[39;00m \u001b[38;5;21;01mresult_saver\u001b[39;00m \u001b[38;5;28;01mimport\u001b[39;00m ResultSaverDecoder\n\u001b[1;32m      5\u001b[0m job_id \u001b[38;5;241m=\u001b[39m \u001b[38;5;124m\"\u001b[39m\u001b[38;5;124mcmx90wbwjay0008cnc3g\u001b[39m\u001b[38;5;124m\"\u001b[39m\n\u001b[0;32m----> 7\u001b[0m \u001b[43mprovider\u001b[49m\u001b[38;5;241;43m.\u001b[39;49m\u001b[43msave_job\u001b[49m\u001b[43m(\u001b[49m\u001b[43mibm_provider\u001b[49m\u001b[38;5;241;43m.\u001b[39;49m\u001b[43mretrieve_job\u001b[49m\u001b[43m(\u001b[49m\u001b[43mjob_id\u001b[49m\u001b[43m)\u001b[49m\u001b[43m,\u001b[49m\u001b[43m \u001b[49m\u001b[43moverwrite\u001b[49m\u001b[38;5;241;43m=\u001b[39;49m\u001b[38;5;28;43;01mTrue\u001b[39;49;00m\u001b[43m)\u001b[49m\n",
      "File \u001b[0;32m~/My_Drive/Desktop/Studium/Physik/MSc/Semester_3/IBM/IBM_GIT/Soft-Info/libs/qiskit-saver-provider/result_saver/provider/saver_provider.py:142\u001b[0m, in \u001b[0;36mSaverProvider.save_job\u001b[0;34m(self, job, overwrite)\u001b[0m\n\u001b[1;32m    140\u001b[0m     job_str \u001b[38;5;241m=\u001b[39m json\u001b[38;5;241m.\u001b[39mdumps(job, \u001b[38;5;28mcls\u001b[39m\u001b[38;5;241m=\u001b[39mResultSaverEncoder)\n\u001b[1;32m    141\u001b[0m     \u001b[38;5;28;01mwith\u001b[39;00m gzip\u001b[38;5;241m.\u001b[39mGzipFile(filename, \u001b[38;5;124m\"\u001b[39m\u001b[38;5;124mw\u001b[39m\u001b[38;5;124m\"\u001b[39m) \u001b[38;5;28;01mas\u001b[39;00m f:\n\u001b[0;32m--> 142\u001b[0m         \u001b[43mf\u001b[49m\u001b[38;5;241;43m.\u001b[39;49m\u001b[43mwrite\u001b[49m\u001b[43m(\u001b[49m\u001b[38;5;28;43mbytes\u001b[39;49m\u001b[43m(\u001b[49m\u001b[43mjob_str\u001b[49m\u001b[43m,\u001b[49m\u001b[43m \u001b[49m\u001b[38;5;124;43m\"\u001b[39;49m\u001b[38;5;124;43mutf8\u001b[39;49m\u001b[38;5;124;43m\"\u001b[39;49m\u001b[43m)\u001b[49m\u001b[43m)\u001b[49m\n\u001b[1;32m    143\u001b[0m     \u001b[38;5;28;01mreturn\u001b[39;00m filename\n\u001b[1;32m    144\u001b[0m \u001b[38;5;28;01mexcept\u001b[39;00m \u001b[38;5;167;01mException\u001b[39;00m \u001b[38;5;28;01mas\u001b[39;00m e:\n",
      "File \u001b[0;32m~/.pyenv/versions/3.11.4/lib/python3.11/gzip.py:289\u001b[0m, in \u001b[0;36mGzipFile.write\u001b[0;34m(self, data)\u001b[0m\n\u001b[1;32m    286\u001b[0m     length \u001b[38;5;241m=\u001b[39m data\u001b[38;5;241m.\u001b[39mnbytes\n\u001b[1;32m    288\u001b[0m \u001b[38;5;28;01mif\u001b[39;00m length \u001b[38;5;241m>\u001b[39m \u001b[38;5;241m0\u001b[39m:\n\u001b[0;32m--> 289\u001b[0m     \u001b[38;5;28mself\u001b[39m\u001b[38;5;241m.\u001b[39mfileobj\u001b[38;5;241m.\u001b[39mwrite(\u001b[38;5;28;43mself\u001b[39;49m\u001b[38;5;241;43m.\u001b[39;49m\u001b[43mcompress\u001b[49m\u001b[38;5;241;43m.\u001b[39;49m\u001b[43mcompress\u001b[49m\u001b[43m(\u001b[49m\u001b[43mdata\u001b[49m\u001b[43m)\u001b[49m)\n\u001b[1;32m    290\u001b[0m     \u001b[38;5;28mself\u001b[39m\u001b[38;5;241m.\u001b[39msize \u001b[38;5;241m+\u001b[39m\u001b[38;5;241m=\u001b[39m length\n\u001b[1;32m    291\u001b[0m     \u001b[38;5;28mself\u001b[39m\u001b[38;5;241m.\u001b[39mcrc \u001b[38;5;241m=\u001b[39m zlib\u001b[38;5;241m.\u001b[39mcrc32(data, \u001b[38;5;28mself\u001b[39m\u001b[38;5;241m.\u001b[39mcrc)\n",
      "\u001b[0;31mKeyboardInterrupt\u001b[0m: "
     ]
    }
   ],
   "source": [
    "import gzip\n",
    "import json\n",
    "from result_saver import ResultSaverDecoder\n",
    "\n",
    "job_id = \"cmx90wbwjay0008cnc3g\"\n",
    "\n",
    "provider.save_job(ibm_provider.retrieve_job(job_id), overwrite=True)\n"
   ]
  },
  {
   "cell_type": "code",
   "execution_count": null,
   "metadata": {},
   "outputs": [
    {
     "name": "stdout",
     "output_type": "stream",
     "text": [
      "[{\"Qubit(QuantumRegister(27, 'q'), 13)\": '0', \"Qubit(QuantumRegister(27, 'q'), 9)\": '1', \"Qubit(QuantumRegister(27, 'q'), 2)\": '2', \"Qubit(QuantumRegister(27, 'q'), 0)\": '3', \"Qubit(QuantumRegister(27, 'q'), 15)\": '4', \"Qubit(QuantumRegister(27, 'q'), 8)\": '5', \"Qubit(QuantumRegister(27, 'q'), 6)\": '6', \"Qubit(QuantumRegister(27, 'q'), 11)\": '7', \"Qubit(QuantumRegister(27, 'q'), 18)\": '8', \"Qubit(QuantumRegister(27, 'q'), 26)\": '9', \"Qubit(QuantumRegister(27, 'q'), 14)\": '10', \"Qubit(QuantumRegister(27, 'q'), 22)\": '11', \"Qubit(QuantumRegister(27, 'q'), 20)\": '12', \"Qubit(QuantumRegister(27, 'q'), 5)\": '13', \"Qubit(QuantumRegister(27, 'q'), 17)\": '14', \"Qubit(QuantumRegister(27, 'q'), 12)\": '15', \"Qubit(QuantumRegister(27, 'q'), 23)\": '16', \"Qubit(QuantumRegister(27, 'q'), 4)\": '17', \"Qubit(QuantumRegister(27, 'q'), 24)\": '18', \"Qubit(QuantumRegister(27, 'q'), 21)\": '19', \"Qubit(QuantumRegister(27, 'q'), 25)\": '20', \"Qubit(QuantumRegister(27, 'q'), 16)\": '21', \"Qubit(QuantumRegister(27, 'q'), 1)\": '22', \"Qubit(QuantumRegister(27, 'q'), 19)\": '23', \"Qubit(QuantumRegister(27, 'q'), 3)\": '24', \"Qubit(QuantumRegister(27, 'q'), 10)\": '25', \"Qubit(QuantumRegister(27, 'q'), 7)\": '26'}]\n",
      "[None]\n"
     ]
    }
   ],
   "source": [
    "filepath = \"/Users/mha/My_Drive/Desktop/Studium/Physik/MSc/Semester_3/IBM/IBM_GIT/Soft-Info/.Scratch/jobs/2024.03.10-11h58-cmx90wbwjay0008cnc3g.json.gz\"\n",
    "\n",
    "\n",
    "with gzip.GzipFile(filepath, \"r\") as f:\n",
    "    job_str = str(f.read(), \"utf8\")\n",
    "    \n",
    "job = json.loads(job_str, cls=ResultSaverDecoder)"
   ]
  },
  {
   "cell_type": "code",
   "execution_count": null,
   "metadata": {},
   "outputs": [
    {
     "name": "stdout",
     "output_type": "stream",
     "text": [
      "{\"Qubit(QuantumRegister(27, 'q'), 13)\": '0', \"Qubit(QuantumRegister(27, 'q'), 9)\": '1', \"Qubit(QuantumRegister(27, 'q'), 2)\": '2', \"Qubit(QuantumRegister(27, 'q'), 0)\": '3', \"Qubit(QuantumRegister(27, 'q'), 15)\": '4', \"Qubit(QuantumRegister(27, 'q'), 8)\": '5', \"Qubit(QuantumRegister(27, 'q'), 6)\": '6', \"Qubit(QuantumRegister(27, 'q'), 11)\": '7', \"Qubit(QuantumRegister(27, 'q'), 18)\": '8', \"Qubit(QuantumRegister(27, 'q'), 26)\": '9', \"Qubit(QuantumRegister(27, 'q'), 14)\": '10', \"Qubit(QuantumRegister(27, 'q'), 22)\": '11', \"Qubit(QuantumRegister(27, 'q'), 20)\": '12', \"Qubit(QuantumRegister(27, 'q'), 5)\": '13', \"Qubit(QuantumRegister(27, 'q'), 17)\": '14', \"Qubit(QuantumRegister(27, 'q'), 12)\": '15', \"Qubit(QuantumRegister(27, 'q'), 23)\": '16', \"Qubit(QuantumRegister(27, 'q'), 4)\": '17', \"Qubit(QuantumRegister(27, 'q'), 24)\": '18', \"Qubit(QuantumRegister(27, 'q'), 21)\": '19', \"Qubit(QuantumRegister(27, 'q'), 25)\": '20', \"Qubit(QuantumRegister(27, 'q'), 16)\": '21', \"Qubit(QuantumRegister(27, 'q'), 1)\": '22', \"Qubit(QuantumRegister(27, 'q'), 19)\": '23', \"Qubit(QuantumRegister(27, 'q'), 3)\": '24', \"Qubit(QuantumRegister(27, 'q'), 10)\": '25', \"Qubit(QuantumRegister(27, 'q'), 7)\": '26'}\n"
     ]
    }
   ],
   "source": [
    "layout = job.initial_layouts()[0]\n",
    "print(layout)"
   ]
  },
  {
   "cell_type": "code",
   "execution_count": null,
   "metadata": {},
   "outputs": [
    {
     "name": "stdout",
     "output_type": "stream",
     "text": [
      "{3: '24', 9: '23', 2: '15', 0: '25', 5: '20', 8: '8', 6: '21', 1: '22', 4: '18', 7: '26'}\n"
     ]
    }
   ],
   "source": []
  }
 ],
 "metadata": {
  "kernelspec": {
   "display_name": "Soft-Info-fMUpUe5a",
   "language": "python",
   "name": "python3"
  },
  "language_info": {
   "codemirror_mode": {
    "name": "ipython",
    "version": 3
   },
   "file_extension": ".py",
   "mimetype": "text/x-python",
   "name": "python",
   "nbconvert_exporter": "python",
   "pygments_lexer": "ipython3",
   "version": "3.11.4"
  }
 },
 "nbformat": 4,
 "nbformat_minor": 2
}
