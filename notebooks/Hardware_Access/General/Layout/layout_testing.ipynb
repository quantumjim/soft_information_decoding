{
 "cells": [
  {
   "cell_type": "code",
   "execution_count": 1,
   "metadata": {},
   "outputs": [],
   "source": [
    "%reload_ext autoreload\n",
    "%autoreload 2"
   ]
  },
  {
   "cell_type": "code",
   "execution_count": 2,
   "metadata": {},
   "outputs": [],
   "source": [
    "from result_saver import SaverProvider\n",
    "from qiskit_ibm_provider import IBMProvider\n",
    "\n",
    "provider = SaverProvider()\n",
    "ibm_provider = IBMProvider()"
   ]
  },
  {
   "cell_type": "code",
   "execution_count": 3,
   "metadata": {},
   "outputs": [],
   "source": [
    "from Scratch import metadata_loader\n",
    "\n",
    "md = metadata_loader(True, True)\n",
    "\n",
    "job_id = md['job_id'][0]"
   ]
  },
  {
   "cell_type": "code",
   "execution_count": 4,
   "metadata": {},
   "outputs": [],
   "source": [
    "job_ibm = ibm_provider.retrieve_job(job_id)\n",
    "job_saver = provider.retrieve_job(job_id)"
   ]
  },
  {
   "cell_type": "code",
   "execution_count": 5,
   "metadata": {},
   "outputs": [
    {
     "data": {
      "text/plain": [
       "TranspileLayout(initial_layout=Layout({\n",
       "0: Qubit(QuantumRegister(1, 'q'), 0),\n",
       "1: Qubit(QuantumRegister(4, 'ancilla'), 0),\n",
       "2: Qubit(QuantumRegister(4, 'ancilla'), 1),\n",
       "3: Qubit(QuantumRegister(4, 'ancilla'), 2),\n",
       "4: Qubit(QuantumRegister(4, 'ancilla'), 3)\n",
       "}), input_qubit_mapping={Qubit(QuantumRegister(1, 'q'), 0): 0, Qubit(QuantumRegister(4, 'ancilla'), 0): 1, Qubit(QuantumRegister(4, 'ancilla'), 1): 2, Qubit(QuantumRegister(4, 'ancilla'), 2): 3, Qubit(QuantumRegister(4, 'ancilla'), 3): 4}, final_layout=None, _input_qubit_count=None, _output_qubit_list=None)"
      ]
     },
     "execution_count": 5,
     "metadata": {},
     "output_type": "execute_result"
    }
   ],
   "source": [
    "job_ibm.circuits()[0].layout"
   ]
  },
  {
   "cell_type": "code",
   "execution_count": 6,
   "metadata": {},
   "outputs": [
    {
     "data": {
      "text/plain": [
       "'OPENQASM 2.0;\\ninclude \"qelib1.inc\";\\nqreg q[5];\\ncreg c[1];\\nx q[0];\\nmeasure q[0] -> c[0];\\n'"
      ]
     },
     "execution_count": 6,
     "metadata": {},
     "output_type": "execute_result"
    }
   ],
   "source": [
    "job_ibm.circuits()[0].qasm()"
   ]
  },
  {
   "cell_type": "code",
   "execution_count": 7,
   "metadata": {},
   "outputs": [
    {
     "data": {
      "text/plain": [
       "'cmvyazbk20pg008epbzg'"
      ]
     },
     "execution_count": 7,
     "metadata": {},
     "output_type": "execute_result"
    }
   ],
   "source": [
    "job_ibm.job_id()"
   ]
  },
  {
   "cell_type": "code",
   "execution_count": 13,
   "metadata": {},
   "outputs": [
    {
     "name": "stdout",
     "output_type": "stream",
     "text": [
      "{\"Qubit(QuantumRegister(1, 'q'), 0)\": '0', \"Qubit(QuantumRegister(4, 'ancilla'), 0)\": '1', \"Qubit(QuantumRegister(4, 'ancilla'), 1)\": '2', \"Qubit(QuantumRegister(4, 'ancilla'), 2)\": '3', \"Qubit(QuantumRegister(4, 'ancilla'), 3)\": '4'}\n"
     ]
    }
   ],
   "source": [
    "layout = job_saver.initial_layouts()[0]\n",
    "print(layout)"
   ]
  },
  {
   "cell_type": "markdown",
   "metadata": {},
   "source": [
    "# Overwrite the job"
   ]
  },
  {
   "cell_type": "code",
   "execution_count": null,
   "metadata": {},
   "outputs": [
    {
     "data": {
      "text/plain": [
       "'/Users/mha/My_Drive/Desktop/Studium/Physik/MSc/Semester_3/IBM/IBM_GIT/Soft-Info/.Scratch/jobs/2024.03.10-11h13-cmvyazbk20pg008epbzg.json.gz'"
      ]
     },
     "execution_count": 56,
     "metadata": {},
     "output_type": "execute_result"
    }
   ],
   "source": [
    "provider.save_job(job_ibm, overwrite=True)"
   ]
  },
  {
   "cell_type": "code",
   "execution_count": null,
   "metadata": {},
   "outputs": [],
   "source": [
    "saved_job = provider.retrieve_job(job_id)"
   ]
  },
  {
   "cell_type": "code",
   "execution_count": null,
   "metadata": {},
   "outputs": [
    {
     "name": "stdout",
     "output_type": "stream",
     "text": [
      "[{\"Qubit(QuantumRegister(1, 'q'), 0)\": '0', \"Qubit(QuantumRegister(4, 'ancilla'), 0)\": '1', \"Qubit(QuantumRegister(4, 'ancilla'), 1)\": '2', \"Qubit(QuantumRegister(4, 'ancilla'), 2)\": '3', \"Qubit(QuantumRegister(4, 'ancilla'), 3)\": '4'}]\n"
     ]
    }
   ],
   "source": [
    "print(saved_job.initial_layouts())"
   ]
  },
  {
   "cell_type": "markdown",
   "metadata": {},
   "source": [
    "# Manually load a job"
   ]
  },
  {
   "cell_type": "code",
   "execution_count": null,
   "metadata": {},
   "outputs": [
    {
     "data": {
      "text/plain": [
       "'/Users/mha/My_Drive/Desktop/Studium/Physik/MSc/Semester_3/IBM/IBM_GIT/Soft-Info/.Scratch/jobs/2024.03.10-11h58-cmx90wbwjay0008cnc3g.json.gz'"
      ]
     },
     "execution_count": 59,
     "metadata": {},
     "output_type": "execute_result"
    }
   ],
   "source": [
    "import gzip\n",
    "import json\n",
    "from result_saver import ResultSaverDecoder\n",
    "\n",
    "job_id = \"cmx90wbwjay0008cnc3g\"\n",
    "\n",
    "provider.save_job(ibm_provider.retrieve_job(job_id), overwrite=True)\n"
   ]
  },
  {
   "cell_type": "code",
   "execution_count": null,
   "metadata": {},
   "outputs": [
    {
     "name": "stdout",
     "output_type": "stream",
     "text": [
      "[{\"Qubit(QuantumRegister(27, 'q'), 13)\": '0', \"Qubit(QuantumRegister(27, 'q'), 9)\": '1', \"Qubit(QuantumRegister(27, 'q'), 2)\": '2', \"Qubit(QuantumRegister(27, 'q'), 0)\": '3', \"Qubit(QuantumRegister(27, 'q'), 15)\": '4', \"Qubit(QuantumRegister(27, 'q'), 8)\": '5', \"Qubit(QuantumRegister(27, 'q'), 6)\": '6', \"Qubit(QuantumRegister(27, 'q'), 11)\": '7', \"Qubit(QuantumRegister(27, 'q'), 18)\": '8', \"Qubit(QuantumRegister(27, 'q'), 26)\": '9', \"Qubit(QuantumRegister(27, 'q'), 14)\": '10', \"Qubit(QuantumRegister(27, 'q'), 22)\": '11', \"Qubit(QuantumRegister(27, 'q'), 20)\": '12', \"Qubit(QuantumRegister(27, 'q'), 5)\": '13', \"Qubit(QuantumRegister(27, 'q'), 17)\": '14', \"Qubit(QuantumRegister(27, 'q'), 12)\": '15', \"Qubit(QuantumRegister(27, 'q'), 23)\": '16', \"Qubit(QuantumRegister(27, 'q'), 4)\": '17', \"Qubit(QuantumRegister(27, 'q'), 24)\": '18', \"Qubit(QuantumRegister(27, 'q'), 21)\": '19', \"Qubit(QuantumRegister(27, 'q'), 25)\": '20', \"Qubit(QuantumRegister(27, 'q'), 16)\": '21', \"Qubit(QuantumRegister(27, 'q'), 1)\": '22', \"Qubit(QuantumRegister(27, 'q'), 19)\": '23', \"Qubit(QuantumRegister(27, 'q'), 3)\": '24', \"Qubit(QuantumRegister(27, 'q'), 10)\": '25', \"Qubit(QuantumRegister(27, 'q'), 7)\": '26'}]\n",
      "[None]\n"
     ]
    }
   ],
   "source": [
    "filepath = \"/Users/mha/My_Drive/Desktop/Studium/Physik/MSc/Semester_3/IBM/IBM_GIT/Soft-Info/.Scratch/jobs/2024.03.10-11h58-cmx90wbwjay0008cnc3g.json.gz\"\n",
    "\n",
    "\n",
    "with gzip.GzipFile(filepath, \"r\") as f:\n",
    "    job_str = str(f.read(), \"utf8\")\n",
    "    \n",
    "job = json.loads(job_str, cls=ResultSaverDecoder)"
   ]
  },
  {
   "cell_type": "code",
   "execution_count": null,
   "metadata": {},
   "outputs": [
    {
     "name": "stdout",
     "output_type": "stream",
     "text": [
      "{\"Qubit(QuantumRegister(27, 'q'), 13)\": '0', \"Qubit(QuantumRegister(27, 'q'), 9)\": '1', \"Qubit(QuantumRegister(27, 'q'), 2)\": '2', \"Qubit(QuantumRegister(27, 'q'), 0)\": '3', \"Qubit(QuantumRegister(27, 'q'), 15)\": '4', \"Qubit(QuantumRegister(27, 'q'), 8)\": '5', \"Qubit(QuantumRegister(27, 'q'), 6)\": '6', \"Qubit(QuantumRegister(27, 'q'), 11)\": '7', \"Qubit(QuantumRegister(27, 'q'), 18)\": '8', \"Qubit(QuantumRegister(27, 'q'), 26)\": '9', \"Qubit(QuantumRegister(27, 'q'), 14)\": '10', \"Qubit(QuantumRegister(27, 'q'), 22)\": '11', \"Qubit(QuantumRegister(27, 'q'), 20)\": '12', \"Qubit(QuantumRegister(27, 'q'), 5)\": '13', \"Qubit(QuantumRegister(27, 'q'), 17)\": '14', \"Qubit(QuantumRegister(27, 'q'), 12)\": '15', \"Qubit(QuantumRegister(27, 'q'), 23)\": '16', \"Qubit(QuantumRegister(27, 'q'), 4)\": '17', \"Qubit(QuantumRegister(27, 'q'), 24)\": '18', \"Qubit(QuantumRegister(27, 'q'), 21)\": '19', \"Qubit(QuantumRegister(27, 'q'), 25)\": '20', \"Qubit(QuantumRegister(27, 'q'), 16)\": '21', \"Qubit(QuantumRegister(27, 'q'), 1)\": '22', \"Qubit(QuantumRegister(27, 'q'), 19)\": '23', \"Qubit(QuantumRegister(27, 'q'), 3)\": '24', \"Qubit(QuantumRegister(27, 'q'), 10)\": '25', \"Qubit(QuantumRegister(27, 'q'), 7)\": '26'}\n"
     ]
    }
   ],
   "source": [
    "layout = job.initial_layouts()[0]\n",
    "print(layout)"
   ]
  },
  {
   "cell_type": "code",
   "execution_count": null,
   "metadata": {},
   "outputs": [
    {
     "name": "stdout",
     "output_type": "stream",
     "text": [
      "{3: '24', 9: '23', 2: '15', 0: '25', 5: '20', 8: '8', 6: '21', 1: '22', 4: '18', 7: '26'}\n"
     ]
    }
   ],
   "source": []
  }
 ],
 "metadata": {
  "kernelspec": {
   "display_name": "Soft-Info-fMUpUe5a",
   "language": "python",
   "name": "python3"
  },
  "language_info": {
   "codemirror_mode": {
    "name": "ipython",
    "version": 3
   },
   "file_extension": ".py",
   "mimetype": "text/x-python",
   "name": "python",
   "nbconvert_exporter": "python",
   "pygments_lexer": "ipython3",
   "version": "3.11.4"
  }
 },
 "nbformat": 4,
 "nbformat_minor": 2
}
