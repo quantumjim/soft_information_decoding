{
 "cells": [
  {
   "cell_type": "markdown",
   "metadata": {},
   "source": [
    "# Cummulative shot table"
   ]
  },
  {
   "cell_type": "code",
   "execution_count": 22,
   "metadata": {},
   "outputs": [
    {
     "name": "stdout",
     "output_type": "stream",
     "text": [
      "Logical: 1\n",
      "xbasis: False\n",
      "Device: ibm_torino\n"
     ]
    },
    {
     "data": {
      "text/html": [
       "<div>\n",
       "<style scoped>\n",
       "    .dataframe tbody tr th:only-of-type {\n",
       "        vertical-align: middle;\n",
       "    }\n",
       "\n",
       "    .dataframe tbody tr th {\n",
       "        vertical-align: top;\n",
       "    }\n",
       "\n",
       "    .dataframe thead th {\n",
       "        text-align: right;\n",
       "    }\n",
       "</style>\n",
       "<table border=\"1\" class=\"dataframe\">\n",
       "  <thead>\n",
       "    <tr style=\"text-align: right;\">\n",
       "      <th>distance</th>\n",
       "      <th>56</th>\n",
       "    </tr>\n",
       "    <tr>\n",
       "      <th>rounds</th>\n",
       "      <th></th>\n",
       "    </tr>\n",
       "  </thead>\n",
       "  <tbody>\n",
       "    <tr>\n",
       "      <th>10</th>\n",
       "      <td>121020</td>\n",
       "    </tr>\n",
       "    <tr>\n",
       "      <th>20</th>\n",
       "      <td>66060</td>\n",
       "    </tr>\n",
       "    <tr>\n",
       "      <th>30</th>\n",
       "      <td>45420</td>\n",
       "    </tr>\n",
       "    <tr>\n",
       "      <th>40</th>\n",
       "      <td>34600</td>\n",
       "    </tr>\n",
       "    <tr>\n",
       "      <th>50</th>\n",
       "      <td>27960</td>\n",
       "    </tr>\n",
       "    <tr>\n",
       "      <th>75</th>\n",
       "      <td>18880</td>\n",
       "    </tr>\n",
       "    <tr>\n",
       "      <th>100</th>\n",
       "      <td>12816</td>\n",
       "    </tr>\n",
       "  </tbody>\n",
       "</table>\n",
       "</div>"
      ],
      "text/plain": [
       "distance      56\n",
       "rounds          \n",
       "10        121020\n",
       "20         66060\n",
       "30         45420\n",
       "40         34600\n",
       "50         27960\n",
       "75         18880\n",
       "100        12816"
      ]
     },
     "execution_count": 22,
     "metadata": {},
     "output_type": "execute_result"
    }
   ],
   "source": [
    "from Scratch import metadata_loader\n",
    "\n",
    "DEVICE = \"ibm_torino\"\n",
    "# DEVICE = \"ibm_sherbrooke\"\n",
    "\n",
    "LOGICAL = '1'\n",
    "XBASIS = False\n",
    "\n",
    "md = metadata_loader(True, True)\n",
    "# md = md[md[\"job_status\"] == \"JobStatus.DONE\"]\n",
    "md = md[md[\"job_status\"] != \"JobStatus.ERROR\"]\n",
    "md = md[md[\"code\"] == \"RepetitionCodeCircuit\"]\n",
    "md = md.dropna(subset=[\"distance\", \"rounds\", \"xbasis\"])\n",
    "md['distance'] = md['distance'].astype(int)\n",
    "md['rounds'] = md['rounds'].astype(int)\n",
    "md = md[md[\"meas_level\"] == 1] \n",
    "\n",
    "\n",
    "md = md[md[\"backend_name\"]==DEVICE]\n",
    "md = md[md[\"logical\"] == LOGICAL]\n",
    "md = md[md[\"xbasis\"] == XBASIS]\n",
    "\n",
    "md_sorted = md.sort_values(by=['distance', 'rounds'])\n",
    "shots_summary = md_sorted.groupby(['distance', 'rounds'])['shots'].sum()\n",
    "shots_table = shots_summary.unstack(level='distance')\n",
    "shots_table = shots_table.fillna(0)\n",
    "shots_table = shots_table.astype(int)\n",
    "\n",
    "shots_table = shots_table.sort_index().sort_index(axis=1, ascending=True)\n",
    "\n",
    "\n",
    "print(\"Logical:\", LOGICAL)\n",
    "print(\"xbasis:\", XBASIS)\n",
    "print(\"Device:\", DEVICE)\n",
    "shots_table"
   ]
  },
  {
   "cell_type": "code",
   "execution_count": null,
   "metadata": {},
   "outputs": [],
   "source": []
  }
 ],
 "metadata": {
  "kernelspec": {
   "display_name": "Soft-Info-fMUpUe5a",
   "language": "python",
   "name": "python3"
  },
  "language_info": {
   "codemirror_mode": {
    "name": "ipython",
    "version": 3
   },
   "file_extension": ".py",
   "mimetype": "text/x-python",
   "name": "python",
   "nbconvert_exporter": "python",
   "pygments_lexer": "ipython3",
   "version": "3.11.4"
  }
 },
 "nbformat": 4,
 "nbformat_minor": 2
}
