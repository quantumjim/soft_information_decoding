{
 "cells": [
  {
   "cell_type": "code",
   "execution_count": 1,
   "metadata": {},
   "outputs": [],
   "source": [
    "%reload_ext autoreload\n",
    "%autoreload 2"
   ]
  },
  {
   "cell_type": "code",
   "execution_count": 2,
   "metadata": {},
   "outputs": [],
   "source": [
    "from result_saver import SaverProvider\n",
    "\n",
    "provider = SaverProvider()"
   ]
  },
  {
   "cell_type": "markdown",
   "metadata": {},
   "source": [
    "# Parameters"
   ]
  },
  {
   "cell_type": "code",
   "execution_count": 3,
   "metadata": {},
   "outputs": [],
   "source": [
    "# Fixed parameters\n",
    "\n",
    "DEVICE = 'ibm_sherbrooke'\n",
    "_RESETS = True\n",
    "\n",
    "backend = provider.get_backend(DEVICE)"
   ]
  },
  {
   "cell_type": "code",
   "execution_count": 4,
   "metadata": {},
   "outputs": [
    {
     "name": "stdout",
     "output_type": "stream",
     "text": [
      "rounds: [10, 20, 30, 40, 50, 75, 100]\n"
     ]
    }
   ],
   "source": [
    "# Variable parameters\n",
    "import numpy as np\n",
    "\n",
    "logicals = ['0', '1']\n",
    "x_basis = [True, False]\n",
    "\n",
    "rounds = [10, 20, 30, 40, 50, 75, 100]\n",
    "\n",
    "\n",
    "print(\"rounds:\", rounds)\n"
   ]
  },
  {
   "cell_type": "markdown",
   "metadata": {},
   "source": [
    "# Find the best layout"
   ]
  },
  {
   "cell_type": "code",
   "execution_count": 5,
   "metadata": {},
   "outputs": [
    {
     "name": "stdout",
     "output_type": "stream",
     "text": [
      "Trying RepCode string of length 109 => distance 55... Current maxs: CX: 1.0, Ancilla: 1.0\n",
      "Trying RepCode string of length 107 => distance 54... Current maxs: CX: 1.0, Ancilla: 0.4728\n",
      "Trying RepCode string of length 105 => distance 53... Current maxs: CX: 1.0, Ancilla: 0.07666666666666666\n",
      "Trying RepCode string of length 103 => distance 52... Current maxs: CX: 0.021754282174994144, Ancilla: 0.4728\n",
      "Trying RepCode string of length 101 => distance 51... Current maxs: CX: 0.023407315771999254, Ancilla: 0.25749999999999995\n"
     ]
    }
   ],
   "source": [
    "from soft_info import BackendEvaluator\n",
    "\n",
    "evaluator = BackendEvaluator(backend)\n",
    "longest_path, _, _, path_info = evaluator.find_longest_good_RepCode_string(plot=False, Ancilla_threshold=0.2)"
   ]
  },
  {
   "cell_type": "code",
   "execution_count": 6,
   "metadata": {},
   "outputs": [
    {
     "data": {
      "text/plain": [
       "{'mean_gate_error': 0.008371841209949916,\n",
       " 'min_gate_error': 0.003290671973908671,\n",
       " 'max_gate_error': 0.021754282174994144,\n",
       " 'mean_readout_error': 0.0194069306930693,\n",
       " 'min_readout_error': 0.0026999999999999247,\n",
       " 'max_readout_error': 0.25749999999999995,\n",
       " 'mean_ancilla_error': 0.014985999999999985,\n",
       " 'min_ancilla_error': 0.0033999999999999586,\n",
       " 'max_ancilla_error': 0.06309999999999993,\n",
       " 'CX_fidelity': 0.4310732434290401}"
      ]
     },
     "execution_count": 6,
     "metadata": {},
     "output_type": "execute_result"
    }
   ],
   "source": [
    "path_info"
   ]
  },
  {
   "cell_type": "code",
   "execution_count": 7,
   "metadata": {},
   "outputs": [
    {
     "name": "stdout",
     "output_type": "stream",
     "text": [
      "longest path: [19, 18, 14, 0, 1, 2, 3, 4, 5, 6, 7, 8, 9, 10, 11, 12, 17, 30, 31, 32, 36, 51, 50, 49, 55, 68, 69, 70, 74, 89, 88, 87, 93, 106, 107, 108, 112, 126, 125, 124, 123, 122, 121, 120, 119, 118, 117, 116, 115, 114, 109, 96, 95, 94, 90, 75, 76, 77, 71, 58, 59, 60, 61, 62, 72, 81, 80, 79, 91, 98, 99, 100, 101, 102, 92, 83, 84, 85, 73, 66, 65, 64, 54, 45, 46, 47, 35, 28, 27, 26, 25, 24, 34, 43, 42, 41, 40, 39, 38, 37, 52]\n",
      "layout: [18, 0, 2, 4, 6, 8, 10, 12, 30, 32, 51, 49, 68, 70, 89, 87, 106, 108, 126, 124, 122, 120, 118, 116, 114, 96, 94, 75, 77, 58, 60, 62, 81, 79, 98, 100, 102, 83, 85, 66, 64, 45, 47, 28, 26, 24, 43, 41, 39, 37, 19, 14, 1, 3, 5, 7, 9, 11, 17, 31, 36, 50, 55, 69, 74, 88, 93, 107, 112, 125, 123, 121, 119, 117, 115, 109, 95, 90, 76, 71, 59, 61, 72, 80, 91, 99, 101, 92, 84, 73, 65, 54, 46, 35, 27, 25, 34, 42, 40, 38, 52]\n",
      "distance: 51\n"
     ]
    }
   ],
   "source": [
    "\"0.45279818562360047}\"\n",
    "\n",
    "link_qubits = longest_path[1::2]\n",
    "code_qubits = longest_path[0::2]\n",
    "layout = link_qubits + code_qubits\n",
    "distance = len(code_qubits)\n",
    "print(\"longest path:\", longest_path)\n",
    "print(\"layout:\", layout)\n",
    "print(\"distance:\", distance) "
   ]
  },
  {
   "cell_type": "markdown",
   "metadata": {},
   "source": [
    "# No rounds loop"
   ]
  },
  {
   "cell_type": "code",
   "execution_count": 9,
   "metadata": {},
   "outputs": [
    {
     "name": "stdout",
     "output_type": "stream",
     "text": [
      "Submitting for rounds =  50\n"
     ]
    },
    {
     "name": "stderr",
     "output_type": "stream",
     "text": [
      "100%|██████████| 20/20 [03:04<00:00,  9.22s/it]\n"
     ]
    }
   ],
   "source": [
    "from qiskit_qec.circuits import RepetitionCodeCircuit\n",
    "from soft_info import run_IQ_calibration\n",
    "from qiskit import transpile\n",
    "from Scratch import metadata_helper\n",
    "from tqdm import tqdm\n",
    "\n",
    "\n",
    "############################\n",
    "\n",
    "# Round index\n",
    "round_index = 4\n",
    "\n",
    "# Z = 0\n",
    "xbasis = False\n",
    "logical = '0'\n",
    "\n",
    "############################\n",
    "\n",
    "T = rounds[round_index]\n",
    "print(\"Submitting for rounds = \", T)\n",
    "REPETITIONS = 20\n",
    "# REPETITIONS = 1\n",
    "\n",
    "code = RepetitionCodeCircuit(distance, T, xbasis=xbasis, resets=_RESETS)\n",
    "qc = code.circuit[logical]\n",
    "\n",
    "# Add repdelay at the end of the circuit \n",
    "range_rd = backend.configuration().rep_delay_range\n",
    "qc.barrier()\n",
    "multiplier = 240\n",
    "# qc.delay(unit='s', duration=120*range_rd[1])\n",
    "qc.delay(unit='s', duration=multiplier*range_rd[1])\n",
    "qc.barrier()\n",
    "\n",
    "# Transpile and run\n",
    "transpiled_qc = transpile(qc, backend, initial_layout=layout, optimization_level=0) \n",
    "n_shots = int(4e6/((distance-1)*T+2*distance-1)) # Exact shot formula to have exactly 4M shots per job \n",
    "metadata = metadata_helper(descr='subset RepCodes', code=\"RepetitionCodeCircuit\", \n",
    "                            distance=distance, rounds=T, logical=logical, xbasis=xbasis,\n",
    "                            path_info=path_info, resets=_RESETS)\n",
    "\n",
    "\n",
    "\n",
    "# Run calibration\n",
    "calib_shots = int(4e6/backend.configuration().n_qubits)\n",
    "run_IQ_calibration(backend, shots=calib_shots)\n",
    "\n",
    "\n",
    "for _ in tqdm(range(REPETITIONS)):\n",
    "        backend.run(metadata, transpiled_qc, shots=n_shots, meas_level=1, meas_return='single', rep_delay=range_rd[1],\n",
    "                job_tags=[f'{multiplier} del shots{n_shots}  {distance}, {T}, {logical}, xbasis={xbasis}'])\n",
    "        \n",
    "# Run calibration\n",
    "run_IQ_calibration(backend, shots=calib_shots)\n"
   ]
  },
  {
   "cell_type": "code",
   "execution_count": null,
   "metadata": {},
   "outputs": [
    {
     "name": "stdout",
     "output_type": "stream",
     "text": [
      "Submitting for rounds =  10\n"
     ]
    },
    {
     "name": "stderr",
     "output_type": "stream",
     "text": [
      "100%|██████████| 20/20 [00:58<00:00,  2.93s/it]\n"
     ]
    }
   ],
   "source": [
    "############################\n",
    "\n",
    "# Z = 1\n",
    "xbasis = False\n",
    "logical = '1'\n",
    "\n",
    "############################\n",
    "\n",
    "T = rounds[round_index]\n",
    "print(\"Submitting for rounds = \", T)\n",
    "REPETITIONS = 20\n",
    "\n",
    "code = RepetitionCodeCircuit(distance, T, xbasis=xbasis, resets=_RESETS)\n",
    "qc = code.circuit[logical]\n",
    "\n",
    "# Add repdelay at the end of the circuit \n",
    "range_rd = backend.configuration().rep_delay_range\n",
    "qc.barrier()\n",
    "qc.delay(unit='s', duration=multiplier*range_rd[1])\n",
    "qc.barrier()\n",
    "\n",
    "# Transpile and run\n",
    "transpiled_qc = transpile(qc, backend, initial_layout=layout, optimization_level=0) \n",
    "n_shots = int(4e6/((distance-1)*T+2*distance-1)) # Exact shot formula to have exactly 4M shots per job \n",
    "metadata = metadata_helper(descr='subset RepCodes', code=\"RepetitionCodeCircuit\", \n",
    "                            distance=distance, rounds=T, logical=logical, xbasis=xbasis,\n",
    "                            path_info=path_info, resets=_RESETS)\n",
    "\n",
    "# Run calibration\n",
    "calib_shots = int(4e6/backend.configuration().n_qubits)\n",
    "run_IQ_calibration(backend, shots=calib_shots)\n",
    "\n",
    "\n",
    "for _ in tqdm(range(REPETITIONS)):\n",
    "        backend.run(metadata, transpiled_qc, shots=n_shots, meas_level=1, meas_return='single', rep_delay=range_rd[1],\n",
    "                job_tags=[f'{multiplier} del shots{n_shots}  {distance}, {T}, {logical}, xbasis={xbasis}'])\n",
    "        \n",
    "        \n",
    "# Run calibration\n",
    "run_IQ_calibration(backend, shots=calib_shots)"
   ]
  },
  {
   "cell_type": "code",
   "execution_count": null,
   "metadata": {},
   "outputs": [
    {
     "name": "stdout",
     "output_type": "stream",
     "text": [
      "Submitting for rounds =  10\n"
     ]
    },
    {
     "name": "stderr",
     "output_type": "stream",
     "text": [
      "100%|██████████| 20/20 [01:08<00:00,  3.42s/it]\n"
     ]
    }
   ],
   "source": [
    "############################\n",
    "\n",
    "# X = 0\n",
    "xbasis = True\n",
    "logical = '0'\n",
    "\n",
    "############################\n",
    "\n",
    "T = rounds[round_index]\n",
    "print(\"Submitting for rounds = \", T)\n",
    "REPETITIONS = 20\n",
    "\n",
    "code = RepetitionCodeCircuit(distance, T, xbasis=xbasis, resets=_RESETS)\n",
    "qc = code.circuit[logical]\n",
    "\n",
    "# Add repdelay at the end of the circuit \n",
    "range_rd = backend.configuration().rep_delay_range\n",
    "qc.barrier()\n",
    "qc.delay(unit='s', duration=multiplier*range_rd[1])\n",
    "qc.barrier()\n",
    "\n",
    "# Transpile and run\n",
    "transpiled_qc = transpile(qc, backend, initial_layout=layout, optimization_level=0) \n",
    "n_shots = int(4e6/((distance-1)*T+2*distance-1)) # Exact shot formula to have exactly 4M shots per job \n",
    "metadata = metadata_helper(descr='subset RepCodes', code=\"RepetitionCodeCircuit\", \n",
    "                            distance=distance, rounds=T, logical=logical, xbasis=xbasis,\n",
    "                            path_info=path_info, resets=_RESETS)\n",
    "\n",
    "# Run calibration\n",
    "calib_shots = int(4e6/backend.configuration().n_qubits)\n",
    "run_IQ_calibration(backend, shots=calib_shots)\n",
    "\n",
    "\n",
    "for _ in tqdm(range(REPETITIONS)):\n",
    "        backend.run(metadata, transpiled_qc, shots=n_shots, meas_level=1, meas_return='single', rep_delay=range_rd[1],\n",
    "                job_tags=[f'{multiplier} del shots{n_shots}  {distance}, {T}, {logical}, xbasis={xbasis}'])\n",
    "        \n",
    "# Run calibration\n",
    "run_IQ_calibration(backend, shots=calib_shots)"
   ]
  },
  {
   "cell_type": "code",
   "execution_count": null,
   "metadata": {},
   "outputs": [
    {
     "name": "stdout",
     "output_type": "stream",
     "text": [
      "Submitting for rounds =  10\n"
     ]
    },
    {
     "name": "stderr",
     "output_type": "stream",
     "text": [
      "100%|██████████| 20/20 [01:01<00:00,  3.09s/it]\n"
     ]
    }
   ],
   "source": [
    "############################\n",
    "\n",
    "# X = 1\n",
    "xbasis = True\n",
    "logical = '1'\n",
    "\n",
    "############################\n",
    "\n",
    "T = rounds[round_index]\n",
    "print(\"Submitting for rounds = \", T)\n",
    "REPETITIONS = 20\n",
    "\n",
    "code = RepetitionCodeCircuit(distance, T, xbasis=xbasis, resets=_RESETS)\n",
    "qc = code.circuit[logical]\n",
    "\n",
    "# Add repdelay at the end of the circuit \n",
    "range_rd = backend.configuration().rep_delay_range\n",
    "qc.barrier()\n",
    "qc.delay(unit='s', duration=multiplier*range_rd[1])\n",
    "qc.barrier()\n",
    "\n",
    "# Transpile and run\n",
    "transpiled_qc = transpile(qc, backend, initial_layout=layout, optimization_level=0) \n",
    "n_shots = int(4e6/((distance-1)*T+2*distance-1)) # Exact shot formula to have exactly 4M shots per job \n",
    "metadata = metadata_helper(descr='subset RepCodes', code=\"RepetitionCodeCircuit\", \n",
    "                            distance=distance, rounds=T, logical=logical, xbasis=xbasis,\n",
    "                            path_info=path_info, resets=_RESETS)\n",
    "\n",
    "# Run calibration\n",
    "calib_shots = int(4e6/backend.configuration().n_qubits)\n",
    "run_IQ_calibration(backend, shots=calib_shots)\n",
    "\n",
    "\n",
    "for _ in tqdm(range(REPETITIONS)):\n",
    "        backend.run(metadata, transpiled_qc, shots=n_shots, meas_level=1, meas_return='single', rep_delay=range_rd[1],\n",
    "                job_tags=[f'{multiplier} del shots{n_shots}  {distance}, {T}, {logical}, xbasis={xbasis}'])\n",
    "        \n",
    "        \n",
    "# Run calibration\n",
    "run_IQ_calibration(backend, shots=calib_shots)"
   ]
  },
  {
   "cell_type": "code",
   "execution_count": null,
   "metadata": {},
   "outputs": [],
   "source": []
  },
  {
   "cell_type": "code",
   "execution_count": null,
   "metadata": {},
   "outputs": [],
   "source": []
  }
 ],
 "metadata": {
  "kernelspec": {
   "display_name": "Soft-Info-fMUpUe5a",
   "language": "python",
   "name": "python3"
  },
  "language_info": {
   "codemirror_mode": {
    "name": "ipython",
    "version": 3
   },
   "file_extension": ".py",
   "mimetype": "text/x-python",
   "name": "python",
   "nbconvert_exporter": "python",
   "pygments_lexer": "ipython3",
   "version": "3.11.4"
  }
 },
 "nbformat": 4,
 "nbformat_minor": 2
}
