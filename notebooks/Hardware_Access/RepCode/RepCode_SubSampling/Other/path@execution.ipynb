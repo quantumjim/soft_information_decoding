{
 "cells": [
  {
   "cell_type": "code",
   "execution_count": 1,
   "metadata": {},
   "outputs": [],
   "source": [
    "%reload_ext autoreload\n",
    "%autoreload 2"
   ]
  },
  {
   "cell_type": "code",
   "execution_count": 8,
   "metadata": {},
   "outputs": [],
   "source": [
    "from result_saver import SaverProvider\n",
    "\n",
    "provider = SaverProvider()\n",
    "backend = provider.get_backend('ibm_sherbrooke')"
   ]
  },
  {
   "cell_type": "code",
   "execution_count": 12,
   "metadata": {},
   "outputs": [
    {
     "name": "stdout",
     "output_type": "stream",
     "text": [
      "shape before (131, 28)\n",
      "shape after (7, 28)\n"
     ]
    }
   ],
   "source": [
    "from Scratch import metadata_loader\n",
    "\n",
    "md = metadata_loader(True, True)\n",
    "md = md[md[\"notebook_name\"]=='Torino_RepCodes_jobs']\n",
    "# md = md[md[\"notebook_name\"]=='Sherbrooke_RepCodes_jobs']\n",
    "md = md[md[\"job_status\"] == \"JobStatus.DONE\"]\n",
    "md.dropna(subset=['xbasis', 'logical', 'rounds'], inplace=True)\n",
    "\n",
    "print(\"shape before\", md.shape)\n",
    "\n",
    "unique_jobs = md.drop_duplicates(subset=['xbasis', 'logical', 'rounds'], keep='first')\n",
    "# unique_jobs\n",
    "print(\"shape after\", unique_jobs.shape)"
   ]
  },
  {
   "cell_type": "code",
   "execution_count": 5,
   "metadata": {},
   "outputs": [
    {
     "name": "stderr",
     "output_type": "stream",
     "text": [
      "100%|██████████| 7/7 [00:27<00:00,  3.87s/it]"
     ]
    },
    {
     "name": "stdout",
     "output_type": "stream",
     "text": [
      "Mean difference for mean_gate: 1.9014869123042122e-06\n",
      "Mean difference for min_gate: 2.697495005143935e-16\n",
      "Mean difference for max_gate: 3.7470027081099033e-16\n",
      "Mean difference for mean_r: 0.002146217386217584\n",
      "Mean difference for min_r: 0.0006285714285714205\n",
      "Mean difference for max_r: 0.18491428571428573\n",
      "Mean difference for mean_an: 0.0008616546416540101\n",
      "Mean difference for min_an: 0.0004571428571428935\n",
      "Mean difference for max_an: 0.004114285714285705\n",
      "Mean difference for fid: 0.003293662237541406\n"
     ]
    },
    {
     "name": "stderr",
     "output_type": "stream",
     "text": [
      "\n"
     ]
    }
   ],
   "source": [
    "from tqdm import tqdm\n",
    "import numpy as np\n",
    "\n",
    "from soft_info import EvaluateBottlenecks\n",
    "\n",
    "md_s = unique_jobs\n",
    "\n",
    "\n",
    "differences = {\n",
    "    \"mean_gate\": [],\n",
    "    \"min_gate\": [],\n",
    "    \"max_gate\": [],\n",
    "    \"mean_r\": [],\n",
    "    \"min_r\": [],\n",
    "    \"max_r\": [],\n",
    "    \"mean_an\": [],\n",
    "    \"min_an\": [],\n",
    "    \"max_an\": [],\n",
    "    \"fid\": []\n",
    "}\n",
    "\n",
    "for job_id in tqdm(md_s[\"job_id\"]):\n",
    "    job = provider.retrieve_job(job_id)\n",
    "    layout = job.initial_layouts()[0]\n",
    "    layout_des = job.deserialize_layout(layout) \n",
    "    link_qubits = list(layout_des[\"link_qubit\"].values())\n",
    "    code_qubits = list(layout_des[\"code_qubit\"].values())\n",
    "    path = [index for tpl in zip(code_qubits, link_qubits) for index in tpl]\n",
    "\n",
    "    # Get the path_info in md of that job\n",
    "    md_entry = md[md[\"job_id\"] == job_id]\n",
    "    execution_date = md_entry[\"execution_date\"].values[0]\n",
    "    path_info = md_entry[\"path_info\"].values[0]    \n",
    "\n",
    "    evaluator = EvaluateBottlenecks(backend, date=execution_date)\n",
    "    error_info = evaluator.get_error_info(path=path)\n",
    "    path_info_values = path_info.values()\n",
    "\n",
    "    # Calculate and accumulate differences for each metric\n",
    "    for (metric, (value, path_value)) in zip(differences.keys(), zip(error_info, path_info_values)):\n",
    "        differences[metric].append(abs(value - path_value))\n",
    "    \n",
    "\n",
    "\n",
    "# Calculate mean difference for each metric\n",
    "mean_differences = {metric: np.mean(diffs) for metric, diffs in differences.items()}\n",
    "\n",
    "# Print mean differences\n",
    "for metric, mean_diff in mean_differences.items():\n",
    "    print(f\"Mean difference for {metric}: {mean_diff}\")\n",
    "\n",
    "\n",
    "    \n",
    "    "
   ]
  },
  {
   "cell_type": "code",
   "execution_count": null,
   "metadata": {},
   "outputs": [],
   "source": []
  }
 ],
 "metadata": {
  "kernelspec": {
   "display_name": "Soft-Info-fMUpUe5a",
   "language": "python",
   "name": "python3"
  },
  "language_info": {
   "codemirror_mode": {
    "name": "ipython",
    "version": 3
   },
   "file_extension": ".py",
   "mimetype": "text/x-python",
   "name": "python",
   "nbconvert_exporter": "python",
   "pygments_lexer": "ipython3",
   "version": "3.11.4"
  }
 },
 "nbformat": 4,
 "nbformat_minor": 2
}
