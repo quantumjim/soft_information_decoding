{
 "cells": [
  {
   "cell_type": "code",
   "execution_count": 1,
   "metadata": {},
   "outputs": [],
   "source": [
    "%reload_ext autoreload\n",
    "%autoreload 2"
   ]
  },
  {
   "cell_type": "code",
   "execution_count": 2,
   "metadata": {},
   "outputs": [],
   "source": [
    "from result_saver import SaverProvider\n",
    "\n",
    "provider = SaverProvider()"
   ]
  },
  {
   "cell_type": "code",
   "execution_count": 3,
   "metadata": {},
   "outputs": [],
   "source": [
    "DEVICE = 'ibmq_mumbai'\n",
    "DISTANCE = 3\n",
    "ROUNDS = 3\n",
    "_RESETS = False\n",
    "LOGICAL = 0"
   ]
  },
  {
   "cell_type": "code",
   "execution_count": 4,
   "metadata": {},
   "outputs": [
    {
     "name": "stdout",
     "output_type": "stream",
     "text": [
      "17:45:41 Warning: Not a valid heavy hex map, found 6 cornernodes instead of 2. Looking for longest path starting with the last corner node.. IN FILE: /Users/mha/My_Drive/Desktop/Studium/Physik/MSc/Semester_3/IBM/IBM_GIT/Soft-Info/src/soft_info/Hardware/coupling_map.py, LINE: 135\n",
      "[26, 25, 22, 19, 16, 14, 11, 8, 5, 3, 2, 1, 4, 7, 10, 12, 15, 18, 21, 23, 24]\n"
     ]
    }
   ],
   "source": [
    "from soft_info import find_longest_path_in_hex\n",
    "\n",
    "backend = provider.get_backend(DEVICE)\n",
    "longest_path, _, _ = find_longest_path_in_hex(backend)\n",
    "print(longest_path)"
   ]
  },
  {
   "cell_type": "code",
   "execution_count": 8,
   "metadata": {},
   "outputs": [
    {
     "name": "stderr",
     "output_type": "stream",
     "text": [
      "100%|██████████| 16/16 [00:00<00:00, 113.30it/s]\n"
     ]
    }
   ],
   "source": [
    "from qiskit_qec.circuits import RepetitionCodeCircuit\n",
    "from qiskit import transpile\n",
    "from tqdm import tqdm\n",
    "\n",
    "circuits = []\n",
    "for i in tqdm(range(len(longest_path)-(2*DISTANCE-1))):\n",
    "    bounded_path = longest_path[i : i+2*DISTANCE-1]\n",
    "    layout = bounded_path[1::2] + bounded_path[::2] \n",
    "    code = RepetitionCodeCircuit(DISTANCE, ROUNDS, xbasis=False, resets=_RESETS)\n",
    "    qc = code.circuit[str(LOGICAL)]\n",
    "    circuits.append(transpile(qc, backend, initial_layout=layout, optimization_level=1))"
   ]
  },
  {
   "cell_type": "code",
   "execution_count": 9,
   "metadata": {},
   "outputs": [
    {
     "name": "stdout",
     "output_type": "stream",
     "text": [
      "0.0005\n"
     ]
    }
   ],
   "source": [
    "# get the rep_delay\n",
    "rep_delay=backend.configuration().rep_delay_range[1]\n",
    "print(rep_delay)"
   ]
  },
  {
   "cell_type": "code",
   "execution_count": 13,
   "metadata": {},
   "outputs": [
    {
     "data": {
      "text/plain": [
       "<IBMCircuitJob('cqpyzcd2b6ng008y69pg')>"
      ]
     },
     "execution_count": 13,
     "metadata": {},
     "output_type": "execute_result"
    }
   ],
   "source": [
    "from Scratch import metadata_helper\n",
    "\n",
    "SHOTS = 1e6/(DISTANCE*ROUNDS)\n",
    "\n",
    "metadata = metadata_helper(descr=\"Mean positions\", code=\"RepetitionCodeCircuit\", distance=DISTANCE,\n",
    "                           rounds=ROUNDS, resets=_RESETS, logical=LOGICAL)\n",
    "backend.run(metadata, circuits, shots=SHOTS/len(circuits), meas_level=1, meas_return='single', \n",
    "            job_tags=[\"RepCode Mean Positions\"], rep_delay=rep_delay) \n"
   ]
  },
  {
   "cell_type": "code",
   "execution_count": null,
   "metadata": {},
   "outputs": [],
   "source": []
  }
 ],
 "metadata": {
  "kernelspec": {
   "display_name": "Soft-Info-fMUpUe5a",
   "language": "python",
   "name": "python3"
  },
  "language_info": {
   "codemirror_mode": {
    "name": "ipython",
    "version": 3
   },
   "file_extension": ".py",
   "mimetype": "text/x-python",
   "name": "python",
   "nbconvert_exporter": "python",
   "pygments_lexer": "ipython3",
   "version": "3.11.4"
  }
 },
 "nbformat": 4,
 "nbformat_minor": 2
}
