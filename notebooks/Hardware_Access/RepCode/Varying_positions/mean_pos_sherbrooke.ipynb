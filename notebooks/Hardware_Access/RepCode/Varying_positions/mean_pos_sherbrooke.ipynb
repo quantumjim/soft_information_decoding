{
 "cells": [
  {
   "cell_type": "code",
   "execution_count": 1,
   "metadata": {},
   "outputs": [],
   "source": [
    "%reload_ext autoreload\n",
    "%autoreload 2"
   ]
  },
  {
   "cell_type": "code",
   "execution_count": 2,
   "metadata": {},
   "outputs": [],
   "source": [
    "from result_saver import SaverProvider\n",
    "\n",
    "provider = SaverProvider()"
   ]
  },
  {
   "cell_type": "code",
   "execution_count": 6,
   "metadata": {},
   "outputs": [],
   "source": [
    "DEVICE = 'ibm_sherbrooke'\n",
    "DISTANCE = 10\n",
    "ROUNDS = 10\n",
    "_RESETS = False\n",
    "LOGICAL = 0"
   ]
  },
  {
   "cell_type": "code",
   "execution_count": 7,
   "metadata": {},
   "outputs": [
    {
     "name": "stdout",
     "output_type": "stream",
     "text": [
      "[113, 114, 115, 116, 117, 118, 119, 120, 121, 122, 111, 104, 103, 102, 101, 100, 99, 98, 97, 96, 95, 94, 90, 75, 76, 77, 78, 79, 80, 81, 82, 83, 84, 85, 73, 66, 65, 64, 63, 62, 61, 60, 59, 58, 57, 56, 52, 37, 38, 39, 40, 41, 42, 43, 44, 45, 46, 47, 35, 28, 27, 26, 25, 24, 23, 22, 21, 20, 19, 18, 14, 0, 1, 2, 3, 4, 5, 6, 7, 8, 9, 10, 11, 12, 17, 30, 31, 32, 36, 51, 50, 49, 55, 68, 69, 70, 74, 89, 88, 87, 93, 106, 107, 108, 112, 126, 125, 124, 123]\n"
     ]
    }
   ],
   "source": [
    "from soft_info import find_longest_path_in_hex\n",
    "\n",
    "backend = provider.get_backend(DEVICE)\n",
    "longest_path, _, _ = find_longest_path_in_hex(backend)\n",
    "print(longest_path)"
   ]
  },
  {
   "cell_type": "code",
   "execution_count": 8,
   "metadata": {},
   "outputs": [
    {
     "name": "stderr",
     "output_type": "stream",
     "text": [
      "100%|██████████| 90/90 [00:13<00:00,  6.63it/s]\n"
     ]
    }
   ],
   "source": [
    "from qiskit_qec.circuits import RepetitionCodeCircuit\n",
    "from qiskit import transpile\n",
    "from tqdm import tqdm\n",
    "\n",
    "circuits = []\n",
    "for i in tqdm(range(len(longest_path)-(2*DISTANCE-1))):\n",
    "    bounded_path = longest_path[i : i+2*DISTANCE-1]\n",
    "    layout = bounded_path[1::2] + bounded_path[::2] \n",
    "    code = RepetitionCodeCircuit(DISTANCE, ROUNDS, xbasis=False, resets=_RESETS)\n",
    "    qc = code.circuit[str(LOGICAL)]\n",
    "    circuits.append(transpile(qc, backend, initial_layout=layout, optimization_level=1))"
   ]
  },
  {
   "cell_type": "code",
   "execution_count": 9,
   "metadata": {},
   "outputs": [
    {
     "name": "stdout",
     "output_type": "stream",
     "text": [
      "0.0005\n"
     ]
    }
   ],
   "source": [
    "# get the rep_delay\n",
    "rep_delay=backend.configuration().rep_delay_range[1]\n",
    "print(rep_delay)"
   ]
  },
  {
   "cell_type": "code",
   "execution_count": 12,
   "metadata": {},
   "outputs": [
    {
     "name": "stdout",
     "output_type": "stream",
     "text": [
      "SHOTS 10000.0\n",
      "SHOTS/len(circuits) 111.11111111111111\n"
     ]
    }
   ],
   "source": [
    "SHOTS = 1e6 / (DISTANCE*ROUNDS) * 1\n",
    "print('SHOTS', SHOTS)\n",
    "print('SHOTS/len(circuits)', SHOTS/len(circuits))"
   ]
  },
  {
   "cell_type": "code",
   "execution_count": 13,
   "metadata": {},
   "outputs": [
    {
     "name": "stdout",
     "output_type": "stream",
     "text": [
      "12:50:10 Warning: updating metadata. IN FILE: /Users/mha/My_Drive/Desktop/Studium/Physik/MSc/Semester_3/IBM/IBM_GIT/Soft-Info/libs/qiskit-saver-provider/result_saver/provider/saver_provider.py, LINE: 46\n"
     ]
    }
   ],
   "source": [
    "from Scratch import metadata_helper\n",
    "\n",
    "\n",
    "for i in range(10):\n",
    "    metadata = metadata_helper(descr=\"Mean positions\", code=\"RepetitionCodeCircuit\", distance=DISTANCE,\n",
    "                            rounds=ROUNDS, resets=_RESETS, logical=LOGICAL)\n",
    "    backend.run(metadata, circuits, shots=SHOTS/len(circuits), meas_level=1, meas_return='single', \n",
    "                job_tags=[\"1*1e6/d*T\", \"RepCode Mean Positions\" ], rep_delay=rep_delay) \n"
   ]
  },
  {
   "cell_type": "code",
   "execution_count": null,
   "metadata": {},
   "outputs": [],
   "source": []
  }
 ],
 "metadata": {
  "kernelspec": {
   "display_name": "Soft-Info-fMUpUe5a",
   "language": "python",
   "name": "python3"
  },
  "language_info": {
   "codemirror_mode": {
    "name": "ipython",
    "version": 3
   },
   "file_extension": ".py",
   "mimetype": "text/x-python",
   "name": "python",
   "nbconvert_exporter": "python",
   "pygments_lexer": "ipython3",
   "version": "3.11.4"
  }
 },
 "nbformat": 4,
 "nbformat_minor": 2
}
