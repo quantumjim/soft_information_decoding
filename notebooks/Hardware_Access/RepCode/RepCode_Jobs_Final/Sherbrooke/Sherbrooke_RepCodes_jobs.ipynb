{
 "cells": [
  {
   "cell_type": "code",
   "execution_count": 17,
   "metadata": {},
   "outputs": [],
   "source": [
    "%reload_ext autoreload\n",
    "%autoreload 2"
   ]
  },
  {
   "cell_type": "code",
   "execution_count": 18,
   "metadata": {},
   "outputs": [],
   "source": [
    "from result_saver import SaverProvider\n",
    "\n",
    "provider = SaverProvider()"
   ]
  },
  {
   "cell_type": "markdown",
   "metadata": {},
   "source": [
    "# Parameters"
   ]
  },
  {
   "cell_type": "code",
   "execution_count": 19,
   "metadata": {},
   "outputs": [],
   "source": [
    "# Fixed parameters\n",
    "\n",
    "DEVICE = 'ibm_sherbrooke'\n",
    "_RESETS = False\n",
    "\n",
    "backend = provider.get_backend(DEVICE)"
   ]
  },
  {
   "cell_type": "code",
   "execution_count": 20,
   "metadata": {},
   "outputs": [
    {
     "name": "stdout",
     "output_type": "stream",
     "text": [
      "rounds: [10, 20, 30, 40, 50, 75, 100]\n"
     ]
    }
   ],
   "source": [
    "# Variable parameters\n",
    "import numpy as np\n",
    "\n",
    "logicals = ['0', '1']\n",
    "x_basis = [True, False]\n",
    "\n",
    "rounds = [10, 20, 30, 40, 50, 75, 100]\n",
    "\n",
    "\n",
    "print(\"rounds:\", rounds)\n"
   ]
  },
  {
   "cell_type": "markdown",
   "metadata": {},
   "source": [
    "# Find the best layout"
   ]
  },
  {
   "cell_type": "code",
   "execution_count": 21,
   "metadata": {},
   "outputs": [
    {
     "name": "stdout",
     "output_type": "stream",
     "text": [
      "Trying RepCode string of length 109 => distance 55... Current maxs: CX: 1.0, Ancilla: 1.0\n",
      "Trying RepCode string of length 107 => distance 54... Current maxs: CX: 1.0, Ancilla: 0.45519999999999994\n",
      "Trying RepCode string of length 105 => distance 53... Current maxs: CX: 1.0, Ancilla: 0.07666666666666666\n",
      "Trying RepCode string of length 103 => distance 52... Current maxs: CX: 0.032330579322472325, Ancilla: 0.45519999999999994\n"
     ]
    }
   ],
   "source": [
    "from soft_info import BackendEvaluator\n",
    "\n",
    "evaluator = BackendEvaluator(backend)\n",
    "longest_path, _, _, path_info = evaluator.find_longest_good_RepCode_string(plot=False, Ancilla_threshold=0.3)"
   ]
  },
  {
   "cell_type": "code",
   "execution_count": 22,
   "metadata": {},
   "outputs": [
    {
     "data": {
      "text/plain": [
       "{'mean_gate_error': 0.009235693054578803,\n",
       " 'min_gate_error': 0.0032001821523091334,\n",
       " 'max_gate_error': 0.032330579322472325,\n",
       " 'mean_readout_error': 0.022919417475728152,\n",
       " 'min_readout_error': 0.0025999999999999357,\n",
       " 'max_readout_error': 0.45519999999999994,\n",
       " 'mean_ancilla_error': 0.019960784313725485,\n",
       " 'min_ancilla_error': 0.0025999999999999357,\n",
       " 'max_ancilla_error': 0.2714,\n",
       " 'CX_fidelity': 0.3874641551835346}"
      ]
     },
     "execution_count": 22,
     "metadata": {},
     "output_type": "execute_result"
    }
   ],
   "source": [
    "path_info"
   ]
  },
  {
   "cell_type": "code",
   "execution_count": 23,
   "metadata": {},
   "outputs": [
    {
     "name": "stdout",
     "output_type": "stream",
     "text": [
      "longest path: [100, 99, 98, 91, 79, 80, 81, 72, 62, 61, 60, 59, 58, 71, 77, 76, 75, 90, 94, 95, 96, 109, 114, 115, 116, 117, 118, 119, 120, 121, 122, 123, 124, 125, 126, 112, 108, 107, 106, 105, 104, 103, 102, 92, 83, 84, 85, 86, 87, 88, 89, 74, 70, 69, 68, 67, 66, 65, 64, 54, 45, 44, 43, 42, 41, 40, 39, 33, 20, 19, 18, 14, 0, 1, 2, 3, 4, 5, 6, 7, 8, 9, 10, 11, 12, 17, 30, 31, 32, 36, 51, 50, 49, 48, 47, 35, 28, 27, 26, 25, 24, 23, 22]\n",
      "layout: [99, 91, 80, 72, 61, 59, 71, 76, 90, 95, 109, 115, 117, 119, 121, 123, 125, 112, 107, 105, 103, 92, 84, 86, 88, 74, 69, 67, 65, 54, 44, 42, 40, 33, 19, 14, 1, 3, 5, 7, 9, 11, 17, 31, 36, 50, 48, 35, 27, 25, 23, 100, 98, 79, 81, 62, 60, 58, 77, 75, 94, 96, 114, 116, 118, 120, 122, 124, 126, 108, 106, 104, 102, 83, 85, 87, 89, 70, 68, 66, 64, 45, 43, 41, 39, 20, 18, 0, 2, 4, 6, 8, 10, 12, 30, 32, 51, 49, 47, 28, 26, 24, 22]\n",
      "distance: 52\n"
     ]
    }
   ],
   "source": [
    "link_qubits = longest_path[1::2]\n",
    "code_qubits = longest_path[0::2]\n",
    "layout = link_qubits + code_qubits\n",
    "distance = len(code_qubits)\n",
    "print(\"longest path:\", longest_path)\n",
    "print(\"layout:\", layout)\n",
    "print(\"distance:\", distance)"
   ]
  },
  {
   "cell_type": "markdown",
   "metadata": {},
   "source": [
    "# No rounds loop"
   ]
  },
  {
   "cell_type": "code",
   "execution_count": 24,
   "metadata": {},
   "outputs": [
    {
     "name": "stdout",
     "output_type": "stream",
     "text": [
      "Submitting for rounds =  75\n"
     ]
    },
    {
     "name": "stderr",
     "output_type": "stream",
     "text": [
      "100%|██████████| 20/20 [05:04<00:00, 15.24s/it]\n"
     ]
    }
   ],
   "source": [
    "from qiskit_qec.circuits import RepetitionCodeCircuit\n",
    "from soft_info import run_IQ_calibration\n",
    "from qiskit import transpile\n",
    "from Scratch import metadata_helper\n",
    "from tqdm import tqdm\n",
    "\n",
    "\n",
    "############################\n",
    "\n",
    "# Round index\n",
    "round_index = 5\n",
    "\n",
    "# Z = 0\n",
    "xbasis = False\n",
    "logical = '0'\n",
    "\n",
    "############################\n",
    "\n",
    "T = rounds[round_index]\n",
    "print(\"Submitting for rounds = \", T)\n",
    "REPETITIONS = 20\n",
    "\n",
    "code = RepetitionCodeCircuit(distance, T, xbasis=xbasis)\n",
    "qc = code.circuit[logical]\n",
    "\n",
    "# Add repdelay at the end of the circuit \n",
    "range_rd = backend.configuration().rep_delay_range\n",
    "qc.barrier()\n",
    "qc.delay(unit='s', duration=4*range_rd[1])\n",
    "qc.barrier()\n",
    "\n",
    "# Transpile and run\n",
    "transpiled_qc = transpile(qc, backend, initial_layout=layout, optimization_level=1) \n",
    "n_shots = int(4e6/((distance-1)*T+2*distance-1)) # Exact shot formula to have exactly 4M shots per job\n",
    "metadata = metadata_helper(descr='subset RepCodes', code=\"RepetitionCodeCircuit\", \n",
    "                            distance=distance, rounds=T, logical=logical, xbasis=xbasis,\n",
    "                            path_info=path_info)\n",
    "\n",
    "# Run calibration\n",
    "calib_shots = int(4e6/backend.configuration().n_qubits)\n",
    "run_IQ_calibration(backend, shots=calib_shots)\n",
    "\n",
    "\n",
    "for _ in tqdm(range(REPETITIONS)):\n",
    "        backend.run(metadata, transpiled_qc, shots=n_shots, meas_level=1, meas_return='single', \n",
    "                job_tags=[f'Subset {distance}, {T} rounds, {logical} log, xbasis={xbasis}'])\n",
    "        \n",
    "# Run calibration\n",
    "run_IQ_calibration(backend, shots=calib_shots)\n"
   ]
  },
  {
   "cell_type": "code",
   "execution_count": 25,
   "metadata": {},
   "outputs": [
    {
     "name": "stdout",
     "output_type": "stream",
     "text": [
      "Submitting for rounds =  75\n"
     ]
    },
    {
     "name": "stderr",
     "output_type": "stream",
     "text": [
      "100%|██████████| 20/20 [04:03<00:00, 12.19s/it]\n"
     ]
    }
   ],
   "source": [
    "############################\n",
    "\n",
    "# Z = 1\n",
    "xbasis = False\n",
    "logical = '1'\n",
    "\n",
    "############################\n",
    "\n",
    "T = rounds[round_index]\n",
    "print(\"Submitting for rounds = \", T)\n",
    "REPETITIONS = 20\n",
    "\n",
    "code = RepetitionCodeCircuit(distance, T, xbasis=xbasis)\n",
    "qc = code.circuit[logical]\n",
    "\n",
    "# Add repdelay at the end of the circuit \n",
    "range_rd = backend.configuration().rep_delay_range\n",
    "qc.barrier()\n",
    "qc.delay(unit='s', duration=4*range_rd[1])\n",
    "qc.barrier()\n",
    "\n",
    "# Transpile and run\n",
    "transpiled_qc = transpile(qc, backend, initial_layout=layout, optimization_level=1) \n",
    "n_shots = int(4e6/((distance-1)*T+2*distance-1)) # Exact shot formula to have exactly 4M shots per job\n",
    "metadata = metadata_helper(descr='subset RepCodes', code=\"RepetitionCodeCircuit\", \n",
    "                            distance=distance, rounds=T, logical=logical, xbasis=xbasis,\n",
    "                            path_info=path_info)\n",
    "\n",
    "# Run calibration\n",
    "calib_shots = int(4e6/backend.configuration().n_qubits)\n",
    "run_IQ_calibration(backend, shots=calib_shots)\n",
    "\n",
    "\n",
    "for _ in tqdm(range(REPETITIONS)):\n",
    "        backend.run(metadata, transpiled_qc, shots=n_shots, meas_level=1, meas_return='single', \n",
    "                job_tags=[f'Subset {distance}, {T} rounds, {logical} log, xbasis={xbasis}'])\n",
    "        \n",
    "# Run calibration\n",
    "run_IQ_calibration(backend, shots=calib_shots)   "
   ]
  },
  {
   "cell_type": "code",
   "execution_count": 26,
   "metadata": {},
   "outputs": [
    {
     "name": "stdout",
     "output_type": "stream",
     "text": [
      "Submitting for rounds =  75\n"
     ]
    },
    {
     "name": "stderr",
     "output_type": "stream",
     "text": [
      "100%|██████████| 20/20 [04:01<00:00, 12.06s/it]\n"
     ]
    }
   ],
   "source": [
    "############################\n",
    "\n",
    "# X = 0\n",
    "xbasis = True\n",
    "logical = '0'\n",
    "\n",
    "############################\n",
    "\n",
    "T = rounds[round_index]\n",
    "print(\"Submitting for rounds = \", T)\n",
    "REPETITIONS = 20\n",
    "\n",
    "code = RepetitionCodeCircuit(distance, T, xbasis=xbasis)\n",
    "qc = code.circuit[logical]\n",
    "\n",
    "# Add repdelay at the end of the circuit \n",
    "range_rd = backend.configuration().rep_delay_range\n",
    "qc.barrier()\n",
    "qc.delay(unit='s', duration=4*range_rd[1])\n",
    "qc.barrier()\n",
    "\n",
    "# Transpile and run\n",
    "transpiled_qc = transpile(qc, backend, initial_layout=layout, optimization_level=1) \n",
    "n_shots = int(4e6/((distance-1)*T+2*distance-1)) # Exact shot formula to have exactly 4M shots per job\n",
    "metadata = metadata_helper(descr='subset RepCodes', code=\"RepetitionCodeCircuit\", \n",
    "                            distance=distance, rounds=T, logical=logical, xbasis=xbasis,\n",
    "                            path_info=path_info)\n",
    "\n",
    "# Run calibration\n",
    "calib_shots = int(4e6/backend.configuration().n_qubits)\n",
    "run_IQ_calibration(backend, shots=calib_shots)\n",
    "\n",
    "\n",
    "for _ in tqdm(range(REPETITIONS)):\n",
    "        backend.run(metadata, transpiled_qc, shots=n_shots, meas_level=1, meas_return='single', \n",
    "                job_tags=[f'Subset {distance}, {T} rounds, {logical} log, xbasis={xbasis}'])\n",
    "        \n",
    "# Run calibration\n",
    "run_IQ_calibration(backend, shots=calib_shots)"
   ]
  },
  {
   "cell_type": "code",
   "execution_count": 27,
   "metadata": {},
   "outputs": [
    {
     "name": "stdout",
     "output_type": "stream",
     "text": [
      "Submitting for rounds =  75\n"
     ]
    },
    {
     "name": "stderr",
     "output_type": "stream",
     "text": [
      "100%|██████████| 20/20 [03:50<00:00, 11.52s/it]\n"
     ]
    }
   ],
   "source": [
    "############################\n",
    "\n",
    "# X = 1\n",
    "xbasis = True\n",
    "logical = '1'\n",
    "\n",
    "############################\n",
    "\n",
    "T = rounds[round_index]\n",
    "print(\"Submitting for rounds = \", T)\n",
    "REPETITIONS = 20\n",
    "\n",
    "code = RepetitionCodeCircuit(distance, T, xbasis=xbasis)\n",
    "qc = code.circuit[logical]\n",
    "\n",
    "# Add repdelay at the end of the circuit \n",
    "range_rd = backend.configuration().rep_delay_range\n",
    "qc.barrier()\n",
    "qc.delay(unit='s', duration=4*range_rd[1])\n",
    "qc.barrier()\n",
    "\n",
    "# Transpile and run\n",
    "transpiled_qc = transpile(qc, backend, initial_layout=layout, optimization_level=1) \n",
    "n_shots = int(4e6/((distance-1)*T+2*distance-1)) # Exact shot formula to have exactly 4M shots per job\n",
    "metadata = metadata_helper(descr='subset RepCodes', code=\"RepetitionCodeCircuit\", \n",
    "                            distance=distance, rounds=T, logical=logical, xbasis=xbasis,\n",
    "                            path_info=path_info)\n",
    "\n",
    "# Run calibration\n",
    "calib_shots = int(4e6/backend.configuration().n_qubits)\n",
    "run_IQ_calibration(backend, shots=calib_shots)\n",
    "\n",
    "\n",
    "for _ in tqdm(range(REPETITIONS)):\n",
    "        backend.run(metadata, transpiled_qc, shots=n_shots, meas_level=1, meas_return='single', \n",
    "                job_tags=[f'Subset {distance}, {T} rounds, {logical} log, xbasis={xbasis}'])\n",
    "        \n",
    "# Run calibration\n",
    "run_IQ_calibration(backend, shots=calib_shots)"
   ]
  },
  {
   "cell_type": "markdown",
   "metadata": {},
   "source": [
    "# Round loop!"
   ]
  },
  {
   "cell_type": "code",
   "execution_count": 30,
   "metadata": {},
   "outputs": [
    {
     "name": "stdout",
     "output_type": "stream",
     "text": [
      "{'descr': 'subset RepCodes', 'code': 'RepetitionCodeCircuit', 'distance': 52, 'rounds': 10, 'logical': '0', 'xbasis': False, 'path_info': {'mean_gate_error': 0.007963147793478936, 'min_gate_error': 0.0034766228550469347, 'max_gate_error': 0.0232547718972346, 'mean_readout_error': 0.022770873786407766, 'min_readout_error': 0.0019000000000000128, 'max_readout_error': 0.3568, 'mean_ancilla_error': 0.02186078431372549, 'min_ancilla_error': 0.0019000000000000128, 'max_ancilla_error': 0.24750000000000005}}\n",
      "{'descr': 'subset RepCodes', 'code': 'RepetitionCodeCircuit', 'distance': 52, 'rounds': 20, 'logical': '0', 'xbasis': False, 'path_info': {'mean_gate_error': 0.007963147793478936, 'min_gate_error': 0.0034766228550469347, 'max_gate_error': 0.0232547718972346, 'mean_readout_error': 0.022770873786407766, 'min_readout_error': 0.0019000000000000128, 'max_readout_error': 0.3568, 'mean_ancilla_error': 0.02186078431372549, 'min_ancilla_error': 0.0019000000000000128, 'max_ancilla_error': 0.24750000000000005}}\n",
      "{'descr': 'subset RepCodes', 'code': 'RepetitionCodeCircuit', 'distance': 52, 'rounds': 30, 'logical': '0', 'xbasis': False, 'path_info': {'mean_gate_error': 0.007963147793478936, 'min_gate_error': 0.0034766228550469347, 'max_gate_error': 0.0232547718972346, 'mean_readout_error': 0.022770873786407766, 'min_readout_error': 0.0019000000000000128, 'max_readout_error': 0.3568, 'mean_ancilla_error': 0.02186078431372549, 'min_ancilla_error': 0.0019000000000000128, 'max_ancilla_error': 0.24750000000000005}}\n",
      "{'descr': 'subset RepCodes', 'code': 'RepetitionCodeCircuit', 'distance': 52, 'rounds': 40, 'logical': '0', 'xbasis': False, 'path_info': {'mean_gate_error': 0.007963147793478936, 'min_gate_error': 0.0034766228550469347, 'max_gate_error': 0.0232547718972346, 'mean_readout_error': 0.022770873786407766, 'min_readout_error': 0.0019000000000000128, 'max_readout_error': 0.3568, 'mean_ancilla_error': 0.02186078431372549, 'min_ancilla_error': 0.0019000000000000128, 'max_ancilla_error': 0.24750000000000005}}\n",
      "{'descr': 'subset RepCodes', 'code': 'RepetitionCodeCircuit', 'distance': 52, 'rounds': 50, 'logical': '0', 'xbasis': False, 'path_info': {'mean_gate_error': 0.007963147793478936, 'min_gate_error': 0.0034766228550469347, 'max_gate_error': 0.0232547718972346, 'mean_readout_error': 0.022770873786407766, 'min_readout_error': 0.0019000000000000128, 'max_readout_error': 0.3568, 'mean_ancilla_error': 0.02186078431372549, 'min_ancilla_error': 0.0019000000000000128, 'max_ancilla_error': 0.24750000000000005}}\n",
      "{'descr': 'subset RepCodes', 'code': 'RepetitionCodeCircuit', 'distance': 52, 'rounds': 75, 'logical': '0', 'xbasis': False, 'path_info': {'mean_gate_error': 0.007963147793478936, 'min_gate_error': 0.0034766228550469347, 'max_gate_error': 0.0232547718972346, 'mean_readout_error': 0.022770873786407766, 'min_readout_error': 0.0019000000000000128, 'max_readout_error': 0.3568, 'mean_ancilla_error': 0.02186078431372549, 'min_ancilla_error': 0.0019000000000000128, 'max_ancilla_error': 0.24750000000000005}}\n",
      "{'descr': 'subset RepCodes', 'code': 'RepetitionCodeCircuit', 'distance': 52, 'rounds': 100, 'logical': '0', 'xbasis': False, 'path_info': {'mean_gate_error': 0.007963147793478936, 'min_gate_error': 0.0034766228550469347, 'max_gate_error': 0.0232547718972346, 'mean_readout_error': 0.022770873786407766, 'min_readout_error': 0.0019000000000000128, 'max_readout_error': 0.3568, 'mean_ancilla_error': 0.02186078431372549, 'min_ancilla_error': 0.0019000000000000128, 'max_ancilla_error': 0.24750000000000005}}\n"
     ]
    }
   ],
   "source": [
    "\n",
    "# Z = 0\n",
    "xbasis = False\n",
    "logical = '0'\n",
    "\n",
    "# Run calibration\n",
    "\n",
    "for T in rounds:\n",
    "    code = RepetitionCodeCircuit(distance, T, xbasis=xbasis)\n",
    "    qc = code.circuit[logical]\n",
    "    transpiled_qc = transpile(qc, backend, initial_layout=layout, optimization_level=1) \n",
    "\n",
    "    n_shots = int(4e6/((distance-1)*T+2*distance-1)) # Exact shot formula to have exactly 4M shots per job\n",
    "    metadata = metadata_helper(descr='subset RepCodes', code=\"RepetitionCodeCircuit\", \n",
    "                               distance=distance, rounds=T, logical=logical, xbasis=xbasis,\n",
    "                               path_info=path_info)\n",
    "\n",
    "    # backend.run(metadata, transpiled_qc, shots=n_shots, meas_level=1, meas_return='single', \n",
    "    #             job_tags=[f'Subset {distance}, {T} rounds, {logical} log, xbasis={xbasis}'])\n",
    "\n",
    "# Run calibration\n",
    "    "
   ]
  }
 ],
 "metadata": {
  "kernelspec": {
   "display_name": "Soft-Info-fMUpUe5a",
   "language": "python",
   "name": "python3"
  },
  "language_info": {
   "codemirror_mode": {
    "name": "ipython",
    "version": 3
   },
   "file_extension": ".py",
   "mimetype": "text/x-python",
   "name": "python",
   "nbconvert_exporter": "python",
   "pygments_lexer": "ipython3",
   "version": "3.11.4"
  }
 },
 "nbformat": 4,
 "nbformat_minor": 2
}
