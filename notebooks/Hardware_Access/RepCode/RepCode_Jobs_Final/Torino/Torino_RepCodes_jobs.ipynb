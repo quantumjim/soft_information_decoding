{
 "cells": [
  {
   "cell_type": "code",
   "execution_count": 1,
   "metadata": {},
   "outputs": [],
   "source": [
    "%reload_ext autoreload\n",
    "%autoreload 2"
   ]
  },
  {
   "cell_type": "code",
   "execution_count": 2,
   "metadata": {},
   "outputs": [],
   "source": [
    "from result_saver import SaverProvider\n",
    "\n",
    "provider = SaverProvider()"
   ]
  },
  {
   "cell_type": "markdown",
   "metadata": {},
   "source": [
    "# Parameters"
   ]
  },
  {
   "cell_type": "code",
   "execution_count": 3,
   "metadata": {},
   "outputs": [],
   "source": [
    "# Fixed parameters\n",
    "\n",
    "DEVICE = 'ibm_torino'\n",
    "_RESETS = False\n",
    "\n",
    "backend = provider.get_backend(DEVICE)"
   ]
  },
  {
   "cell_type": "code",
   "execution_count": 4,
   "metadata": {},
   "outputs": [
    {
     "name": "stdout",
     "output_type": "stream",
     "text": [
      "rounds: [10, 20, 30, 40, 50, 75, 100]\n"
     ]
    }
   ],
   "source": [
    "# Variable parameters\n",
    "import numpy as np\n",
    "\n",
    "logicals = ['0', '1']\n",
    "x_basis = [True, False]\n",
    "\n",
    "rounds = [10, 20, 30, 40, 50, 75, 100]\n",
    "\n",
    "print(\"rounds:\", rounds)"
   ]
  },
  {
   "cell_type": "markdown",
   "metadata": {},
   "source": [
    "# Find the best layout"
   ]
  },
  {
   "cell_type": "code",
   "execution_count": 15,
   "metadata": {},
   "outputs": [
    {
     "name": "stdout",
     "output_type": "stream",
     "text": [
      "Trying RepCode string of length 111 => distance 56...\n"
     ]
    }
   ],
   "source": [
    "from soft_info import BackendEvaluator\n",
    "\n",
    "evaluator = BackendEvaluator(backend)\n",
    "longest_path, _, _, path_info = evaluator.find_longest_good_RepCode_string(longest_length=111)"
   ]
  },
  {
   "cell_type": "code",
   "execution_count": 8,
   "metadata": {},
   "outputs": [
    {
     "data": {
      "text/plain": [
       "{'mean_gate_error': 0.00636934970598819,\n",
       " 'min_gate_error': 0.0016040680953005315,\n",
       " 'max_gate_error': 0.03133666302510113,\n",
       " 'mean_readout_error': 0.02837927927927928,\n",
       " 'min_readout_error': 0.006199999999999983,\n",
       " 'max_readout_error': 0.1763,\n",
       " 'mean_ancilla_error': 0.035709090909090906,\n",
       " 'min_ancilla_error': 0.00869999999999993,\n",
       " 'max_ancilla_error': 0.10729999999999995}"
      ]
     },
     "execution_count": 8,
     "metadata": {},
     "output_type": "execute_result"
    }
   ],
   "source": [
    "path_info"
   ]
  },
  {
   "cell_type": "code",
   "execution_count": 9,
   "metadata": {},
   "outputs": [
    {
     "name": "stdout",
     "output_type": "stream",
     "text": [
      "longest path: [13, 12, 11, 10, 9, 8, 7, 6, 5, 4, 3, 2, 1, 0, 15, 19, 20, 21, 22, 23, 24, 25, 26, 27, 28, 29, 30, 31, 32, 33, 37, 52, 51, 50, 49, 48, 47, 46, 45, 44, 43, 42, 41, 40, 39, 38, 53, 57, 58, 59, 60, 61, 62, 63, 64, 65, 66, 67, 68, 69, 70, 71, 75, 90, 89, 88, 87, 86, 85, 84, 83, 82, 81, 80, 79, 78, 77, 76, 91, 95, 96, 97, 98, 99, 100, 101, 102, 103, 104, 105, 106, 107, 108, 109, 113, 128, 127, 126, 125, 124, 123, 122, 121, 120, 119, 118, 117, 116, 115, 114, 129]\n",
      "layout: [12, 10, 8, 6, 4, 2, 0, 19, 21, 23, 25, 27, 29, 31, 33, 52, 50, 48, 46, 44, 42, 40, 38, 57, 59, 61, 63, 65, 67, 69, 71, 90, 88, 86, 84, 82, 80, 78, 76, 95, 97, 99, 101, 103, 105, 107, 109, 128, 126, 124, 122, 120, 118, 116, 114, 13, 11, 9, 7, 5, 3, 1, 15, 20, 22, 24, 26, 28, 30, 32, 37, 51, 49, 47, 45, 43, 41, 39, 53, 58, 60, 62, 64, 66, 68, 70, 75, 89, 87, 85, 83, 81, 79, 77, 91, 96, 98, 100, 102, 104, 106, 108, 113, 127, 125, 123, 121, 119, 117, 115, 129]\n",
      "distance: 56\n"
     ]
    }
   ],
   "source": [
    "link_qubits = longest_path[1::2]\n",
    "code_qubits = longest_path[0::2]\n",
    "layout = link_qubits + code_qubits\n",
    "distance = len(code_qubits)\n",
    "print(\"longest path:\", longest_path)\n",
    "print(\"layout:\", layout)\n",
    "print(\"distance:\", distance)"
   ]
  },
  {
   "cell_type": "markdown",
   "metadata": {},
   "source": [
    "# No rounds loop"
   ]
  },
  {
   "cell_type": "code",
   "execution_count": 10,
   "metadata": {},
   "outputs": [
    {
     "name": "stdout",
     "output_type": "stream",
     "text": [
      "12:50:17 Warning: updating metadata. IN FILE: /Users/mha/My_Drive/Desktop/Studium/Physik/MSc/Semester_3/IBM/IBM_GIT/Soft-Info/libs/qiskit-saver-provider/result_saver/provider/saver_provider.py, LINE: 46\n"
     ]
    },
    {
     "name": "stderr",
     "output_type": "stream",
     "text": [
      "100%|██████████| 20/20 [00:49<00:00,  2.48s/it]\n"
     ]
    }
   ],
   "source": [
    "from qiskit_qec.circuits import RepetitionCodeCircuit\n",
    "from soft_info import run_IQ_calibration\n",
    "from qiskit import transpile\n",
    "from Scratch import metadata_helper\n",
    "from tqdm import tqdm\n",
    "\n",
    "\n",
    "############################\n",
    "\n",
    "# Round index\n",
    "round_index = 0\n",
    "\n",
    "# Z = 0\n",
    "xbasis = False\n",
    "logical = '0'\n",
    "\n",
    "############################\n",
    "\n",
    "T = rounds[round_index]\n",
    "REPETITIONS = 20\n",
    "\n",
    "code = RepetitionCodeCircuit(distance, T, xbasis=xbasis)\n",
    "qc = code.circuit[logical]\n",
    "\n",
    "# Add repdelay at the end of the circuit \n",
    "range_rd = backend.configuration().rep_delay_range\n",
    "qc.barrier()\n",
    "qc.delay(unit='s', duration=4*range_rd[1])\n",
    "qc.barrier()\n",
    "\n",
    "# Transpile and run\n",
    "transpiled_qc = transpile(qc, backend, initial_layout=layout, optimization_level=1) \n",
    "n_shots = int(4e6/((distance-1)*T+2*distance-1)) # Exact shot formula to have exactly 4M shots per job\n",
    "metadata = metadata_helper(descr='subset RepCodes', code=\"RepetitionCodeCircuit\", \n",
    "                            distance=distance, rounds=T, logical=logical, xbasis=xbasis,\n",
    "                            path_info=path_info)\n",
    "\n",
    "# Run calibration\n",
    "calib_shots = int(4e6/backend.configuration().n_qubits)\n",
    "run_IQ_calibration(backend, shots=calib_shots)\n",
    "\n",
    "\n",
    "for _ in tqdm(range(REPETITIONS)):\n",
    "        backend.run(metadata, transpiled_qc, shots=n_shots, meas_level=1, meas_return='single', \n",
    "                job_tags=[f'Subset {distance}, {T} rounds, {logical} log, xbasis={xbasis}'])\n",
    "        \n",
    "# Run calibration\n",
    "run_IQ_calibration(backend, shots=calib_shots)\n"
   ]
  },
  {
   "cell_type": "code",
   "execution_count": 11,
   "metadata": {},
   "outputs": [
    {
     "name": "stderr",
     "output_type": "stream",
     "text": [
      "100%|██████████| 20/20 [00:50<00:00,  2.51s/it]\n"
     ]
    }
   ],
   "source": [
    "############################\n",
    "\n",
    "# Z = 1\n",
    "xbasis = False\n",
    "logical = '1'\n",
    "\n",
    "############################\n",
    "\n",
    "T = rounds[round_index]\n",
    "REPETITIONS = 20\n",
    "\n",
    "code = RepetitionCodeCircuit(distance, T, xbasis=xbasis)\n",
    "qc = code.circuit[logical]\n",
    "\n",
    "# Add repdelay at the end of the circuit \n",
    "range_rd = backend.configuration().rep_delay_range\n",
    "qc.barrier()\n",
    "qc.delay(unit='s', duration=4*range_rd[1])\n",
    "qc.barrier()\n",
    "\n",
    "# Transpile and run\n",
    "transpiled_qc = transpile(qc, backend, initial_layout=layout, optimization_level=1) \n",
    "n_shots = int(4e6/((distance-1)*T+2*distance-1)) # Exact shot formula to have exactly 4M shots per job\n",
    "metadata = metadata_helper(descr='subset RepCodes', code=\"RepetitionCodeCircuit\", \n",
    "                            distance=distance, rounds=T, logical=logical, xbasis=xbasis,\n",
    "                            path_info=path_info)\n",
    "\n",
    "# Run calibration\n",
    "calib_shots = int(4e6/backend.configuration().n_qubits)\n",
    "run_IQ_calibration(backend, shots=calib_shots)\n",
    "\n",
    "\n",
    "for _ in tqdm(range(REPETITIONS)):\n",
    "        backend.run(metadata, transpiled_qc, shots=n_shots, meas_level=1, meas_return='single', \n",
    "                job_tags=[f'Subset {distance}, {T} rounds, {logical} log, xbasis={xbasis}'])\n",
    "        \n",
    "# Run calibration\n",
    "run_IQ_calibration(backend, shots=calib_shots)"
   ]
  },
  {
   "cell_type": "code",
   "execution_count": 12,
   "metadata": {},
   "outputs": [
    {
     "name": "stderr",
     "output_type": "stream",
     "text": [
      "100%|██████████| 20/20 [00:49<00:00,  2.46s/it]\n"
     ]
    }
   ],
   "source": [
    "############################\n",
    "\n",
    "# X = 0\n",
    "xbasis = True\n",
    "logical = '0'\n",
    "\n",
    "############################\n",
    "\n",
    "T = rounds[round_index]\n",
    "REPETITIONS = 20\n",
    "\n",
    "code = RepetitionCodeCircuit(distance, T, xbasis=xbasis)\n",
    "qc = code.circuit[logical]\n",
    "\n",
    "# Add repdelay at the end of the circuit \n",
    "range_rd = backend.configuration().rep_delay_range\n",
    "qc.barrier()\n",
    "qc.delay(unit='s', duration=4*range_rd[1])\n",
    "qc.barrier()\n",
    "\n",
    "# Transpile and run\n",
    "transpiled_qc = transpile(qc, backend, initial_layout=layout, optimization_level=1) \n",
    "n_shots = int(4e6/((distance-1)*T+2*distance-1)) # Exact shot formula to have exactly 4M shots per job\n",
    "metadata = metadata_helper(descr='subset RepCodes', code=\"RepetitionCodeCircuit\", \n",
    "                            distance=distance, rounds=T, logical=logical, xbasis=xbasis,\n",
    "                            path_info=path_info)\n",
    "\n",
    "# Run calibration\n",
    "calib_shots = int(4e6/backend.configuration().n_qubits)\n",
    "run_IQ_calibration(backend, shots=calib_shots)\n",
    "\n",
    "\n",
    "for _ in tqdm(range(REPETITIONS)):\n",
    "        backend.run(metadata, transpiled_qc, shots=n_shots, meas_level=1, meas_return='single', \n",
    "                job_tags=[f'Subset {distance}, {T} rounds, {logical} log, xbasis={xbasis}'])\n",
    "        \n",
    "# Run calibration\n",
    "run_IQ_calibration(backend, shots=calib_shots)"
   ]
  },
  {
   "cell_type": "code",
   "execution_count": 13,
   "metadata": {},
   "outputs": [
    {
     "name": "stderr",
     "output_type": "stream",
     "text": [
      "100%|██████████| 20/20 [01:40<00:00,  5.01s/it]\n"
     ]
    }
   ],
   "source": [
    "############################\n",
    "\n",
    "# X = 1\n",
    "xbasis = True\n",
    "logical = '1'\n",
    "\n",
    "############################\n",
    "\n",
    "T = rounds[round_index]\n",
    "REPETITIONS = 20\n",
    "\n",
    "code = RepetitionCodeCircuit(distance, T, xbasis=xbasis)\n",
    "qc = code.circuit[logical]\n",
    "\n",
    "# Add repdelay at the end of the circuit \n",
    "range_rd = backend.configuration().rep_delay_range\n",
    "qc.barrier()\n",
    "qc.delay(unit='s', duration=4*range_rd[1])\n",
    "qc.barrier()\n",
    "\n",
    "# Transpile and run\n",
    "transpiled_qc = transpile(qc, backend, initial_layout=layout, optimization_level=1) \n",
    "n_shots = int(4e6/((distance-1)*T+2*distance-1)) # Exact shot formula to have exactly 4M shots per job\n",
    "metadata = metadata_helper(descr='subset RepCodes', code=\"RepetitionCodeCircuit\", \n",
    "                            distance=distance, rounds=T, logical=logical, xbasis=xbasis,\n",
    "                            path_info=path_info)\n",
    "\n",
    "# Run calibration\n",
    "calib_shots = int(4e6/backend.configuration().n_qubits)\n",
    "run_IQ_calibration(backend, shots=calib_shots)\n",
    "\n",
    "\n",
    "for _ in tqdm(range(REPETITIONS)):\n",
    "        backend.run(metadata, transpiled_qc, shots=n_shots, meas_level=1, meas_return='single', \n",
    "                job_tags=[f'Subset {distance}, {T} rounds, {logical} log, xbasis={xbasis}'])\n",
    "        \n",
    "# Run calibration\n",
    "run_IQ_calibration(backend, shots=calib_shots)"
   ]
  },
  {
   "cell_type": "markdown",
   "metadata": {},
   "source": [
    "# Round loop!"
   ]
  },
  {
   "cell_type": "code",
   "execution_count": 30,
   "metadata": {},
   "outputs": [
    {
     "name": "stdout",
     "output_type": "stream",
     "text": [
      "{'descr': 'subset RepCodes', 'code': 'RepetitionCodeCircuit', 'distance': 52, 'rounds': 10, 'logical': '0', 'xbasis': False, 'path_info': {'mean_gate_error': 0.007963147793478936, 'min_gate_error': 0.0034766228550469347, 'max_gate_error': 0.0232547718972346, 'mean_readout_error': 0.022770873786407766, 'min_readout_error': 0.0019000000000000128, 'max_readout_error': 0.3568, 'mean_ancilla_error': 0.02186078431372549, 'min_ancilla_error': 0.0019000000000000128, 'max_ancilla_error': 0.24750000000000005}}\n",
      "{'descr': 'subset RepCodes', 'code': 'RepetitionCodeCircuit', 'distance': 52, 'rounds': 20, 'logical': '0', 'xbasis': False, 'path_info': {'mean_gate_error': 0.007963147793478936, 'min_gate_error': 0.0034766228550469347, 'max_gate_error': 0.0232547718972346, 'mean_readout_error': 0.022770873786407766, 'min_readout_error': 0.0019000000000000128, 'max_readout_error': 0.3568, 'mean_ancilla_error': 0.02186078431372549, 'min_ancilla_error': 0.0019000000000000128, 'max_ancilla_error': 0.24750000000000005}}\n",
      "{'descr': 'subset RepCodes', 'code': 'RepetitionCodeCircuit', 'distance': 52, 'rounds': 30, 'logical': '0', 'xbasis': False, 'path_info': {'mean_gate_error': 0.007963147793478936, 'min_gate_error': 0.0034766228550469347, 'max_gate_error': 0.0232547718972346, 'mean_readout_error': 0.022770873786407766, 'min_readout_error': 0.0019000000000000128, 'max_readout_error': 0.3568, 'mean_ancilla_error': 0.02186078431372549, 'min_ancilla_error': 0.0019000000000000128, 'max_ancilla_error': 0.24750000000000005}}\n",
      "{'descr': 'subset RepCodes', 'code': 'RepetitionCodeCircuit', 'distance': 52, 'rounds': 40, 'logical': '0', 'xbasis': False, 'path_info': {'mean_gate_error': 0.007963147793478936, 'min_gate_error': 0.0034766228550469347, 'max_gate_error': 0.0232547718972346, 'mean_readout_error': 0.022770873786407766, 'min_readout_error': 0.0019000000000000128, 'max_readout_error': 0.3568, 'mean_ancilla_error': 0.02186078431372549, 'min_ancilla_error': 0.0019000000000000128, 'max_ancilla_error': 0.24750000000000005}}\n",
      "{'descr': 'subset RepCodes', 'code': 'RepetitionCodeCircuit', 'distance': 52, 'rounds': 50, 'logical': '0', 'xbasis': False, 'path_info': {'mean_gate_error': 0.007963147793478936, 'min_gate_error': 0.0034766228550469347, 'max_gate_error': 0.0232547718972346, 'mean_readout_error': 0.022770873786407766, 'min_readout_error': 0.0019000000000000128, 'max_readout_error': 0.3568, 'mean_ancilla_error': 0.02186078431372549, 'min_ancilla_error': 0.0019000000000000128, 'max_ancilla_error': 0.24750000000000005}}\n",
      "{'descr': 'subset RepCodes', 'code': 'RepetitionCodeCircuit', 'distance': 52, 'rounds': 75, 'logical': '0', 'xbasis': False, 'path_info': {'mean_gate_error': 0.007963147793478936, 'min_gate_error': 0.0034766228550469347, 'max_gate_error': 0.0232547718972346, 'mean_readout_error': 0.022770873786407766, 'min_readout_error': 0.0019000000000000128, 'max_readout_error': 0.3568, 'mean_ancilla_error': 0.02186078431372549, 'min_ancilla_error': 0.0019000000000000128, 'max_ancilla_error': 0.24750000000000005}}\n",
      "{'descr': 'subset RepCodes', 'code': 'RepetitionCodeCircuit', 'distance': 52, 'rounds': 100, 'logical': '0', 'xbasis': False, 'path_info': {'mean_gate_error': 0.007963147793478936, 'min_gate_error': 0.0034766228550469347, 'max_gate_error': 0.0232547718972346, 'mean_readout_error': 0.022770873786407766, 'min_readout_error': 0.0019000000000000128, 'max_readout_error': 0.3568, 'mean_ancilla_error': 0.02186078431372549, 'min_ancilla_error': 0.0019000000000000128, 'max_ancilla_error': 0.24750000000000005}}\n"
     ]
    }
   ],
   "source": [
    "\n",
    "# Z = 0\n",
    "xbasis = False\n",
    "logical = '0'\n",
    "\n",
    "# Run calibration\n",
    "\n",
    "for T in rounds:\n",
    "    code = RepetitionCodeCircuit(distance, T, xbasis=xbasis)\n",
    "    qc = code.circuit[logical]\n",
    "    transpiled_qc = transpile(qc, backend, initial_layout=layout, optimization_level=1) \n",
    "\n",
    "    n_shots = int(4e6/((distance-1)*T+2*distance-1)) # Exact shot formula to have exactly 4M shots per job\n",
    "    metadata = metadata_helper(descr='subset RepCodes', code=\"RepetitionCodeCircuit\", \n",
    "                               distance=distance, rounds=T, logical=logical, xbasis=xbasis,\n",
    "                               path_info=path_info)\n",
    "\n",
    "    # backend.run(metadata, transpiled_qc, shots=n_shots, meas_level=1, meas_return='single', \n",
    "    #             job_tags=[f'Subset {distance}, {T} rounds, {logical} log, xbasis={xbasis}'])\n",
    "\n",
    "# Run calibration\n",
    "    "
   ]
  }
 ],
 "metadata": {
  "kernelspec": {
   "display_name": "Soft-Info-fMUpUe5a",
   "language": "python",
   "name": "python3"
  },
  "language_info": {
   "codemirror_mode": {
    "name": "ipython",
    "version": 3
   },
   "file_extension": ".py",
   "mimetype": "text/x-python",
   "name": "python",
   "nbconvert_exporter": "python",
   "pygments_lexer": "ipython3",
   "version": "3.11.4"
  }
 },
 "nbformat": 4,
 "nbformat_minor": 2
}
