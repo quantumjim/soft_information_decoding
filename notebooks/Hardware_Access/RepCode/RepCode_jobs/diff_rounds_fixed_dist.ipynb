{
 "cells": [
  {
   "cell_type": "code",
   "execution_count": 1,
   "metadata": {},
   "outputs": [],
   "source": [
    "from result_saver import SaverProvider\n",
    "provider = SaverProvider()"
   ]
  },
  {
   "cell_type": "code",
   "execution_count": 2,
   "metadata": {},
   "outputs": [
    {
     "name": "stdout",
     "output_type": "stream",
     "text": [
      "[35 35 35 35 39 37 35 33 31 29 27 25 23 21 19 17 15 13 11  9  7]\n"
     ]
    }
   ],
   "source": [
    "import numpy as np\n",
    "# parameter grid\n",
    "distances = [30, 40, 55]\n",
    "rounds = np.arange(7, 41, 2) # UNGERADE ZAHLEN!!!\n",
    "#rounds = np.append(rounds, [35, 35, 35, 35])\n",
    "rounds = rounds[::-1]\n",
    "print(rounds)\n",
    "devices = [\"ibm_nazca\", \"ibm_sherbrooke\", \"ibm_brisbane\", \"ibm_cusco\"]\n",
    "logicals = ['0', '1']"
   ]
  },
  {
   "cell_type": "markdown",
   "metadata": {},
   "source": [
    "# Sligthly faster faster triple loop"
   ]
  },
  {
   "cell_type": "code",
   "execution_count": 4,
   "metadata": {},
   "outputs": [
    {
     "name": "stderr",
     "output_type": "stream",
     "text": [
      " 48%|████▊     | 10/21 [1:24:12<1:32:37, 505.24s/it]\n"
     ]
    },
    {
     "ename": "KeyboardInterrupt",
     "evalue": "",
     "output_type": "error",
     "traceback": [
      "\u001b[0;31m---------------------------------------------------------------------------\u001b[0m",
      "\u001b[0;31mKeyboardInterrupt\u001b[0m                         Traceback (most recent call last)",
      "\u001b[1;32m/Users/mha/My Drive/Desktop/Studium/Physik/MSc/Semester 3/IBM/IBM GIT/Soft-Info/notebooks/Hardware_Access/RepCode/RepCode_jobs/diff_rounds_fixed_dist.ipynb Cell 4\u001b[0m line \u001b[0;36m2\n\u001b[1;32m     <a href='vscode-notebook-cell:/Users/mha/My%20Drive/Desktop/Studium/Physik/MSc/Semester%203/IBM/IBM%20GIT/Soft-Info/notebooks/Hardware_Access/RepCode/RepCode_jobs/diff_rounds_fixed_dist.ipynb#W3sZmlsZQ%3D%3D?line=23'>24</a>\u001b[0m n_shots \u001b[39m=\u001b[39m \u001b[39mint\u001b[39m(\u001b[39m1e6\u001b[39m \u001b[39m/\u001b[39m (distance\u001b[39m*\u001b[39mnb_of_rounds))\n\u001b[1;32m     <a href='vscode-notebook-cell:/Users/mha/My%20Drive/Desktop/Studium/Physik/MSc/Semester%203/IBM/IBM%20GIT/Soft-Info/notebooks/Hardware_Access/RepCode/RepCode_jobs/diff_rounds_fixed_dist.ipynb#W3sZmlsZQ%3D%3D?line=24'>25</a>\u001b[0m metadata \u001b[39m=\u001b[39m metadata_helper(descr\u001b[39m=\u001b[39m\u001b[39m'\u001b[39m\u001b[39mdiff rounds v2\u001b[39m\u001b[39m'\u001b[39m, code\u001b[39m=\u001b[39m\u001b[39m\"\u001b[39m\u001b[39mRepetitionCodeCircuit\u001b[39m\u001b[39m\"\u001b[39m, distance\u001b[39m=\u001b[39mdistance, rounds\u001b[39m=\u001b[39m\u001b[39mf\u001b[39m\u001b[39m\"\u001b[39m\u001b[39m{\u001b[39;00mnb_of_rounds\u001b[39m}\u001b[39;00m\u001b[39m\"\u001b[39m,  logical\u001b[39m=\u001b[39mlogical, layout\u001b[39m=\u001b[39m\u001b[39m'\u001b[39m\u001b[39m_is_hex=True, sherbrooke\u001b[39m\u001b[39m'\u001b[39m)\n\u001b[0;32m---> <a href='vscode-notebook-cell:/Users/mha/My%20Drive/Desktop/Studium/Physik/MSc/Semester%203/IBM/IBM%20GIT/Soft-Info/notebooks/Hardware_Access/RepCode/RepCode_jobs/diff_rounds_fixed_dist.ipynb#W3sZmlsZQ%3D%3D?line=25'>26</a>\u001b[0m backend\u001b[39m.\u001b[39;49mrun(metadata, transpiled_qc, shots\u001b[39m=\u001b[39;49mn_shots, meas_level\u001b[39m=\u001b[39;49m\u001b[39m1\u001b[39;49m, meas_return\u001b[39m=\u001b[39;49m\u001b[39m'\u001b[39;49m\u001b[39msingle\u001b[39;49m\u001b[39m'\u001b[39;49m) \u001b[39m# meas_level=1 for IQ  \u001b[39;00m\n",
      "File \u001b[0;32m~/My Drive/Desktop/Studium/Physik/MSc/Semester 3/IBM/IBM GIT/Soft-Info/libs/qiskit-saver-provider/result_saver/provider/saver_provider.py:50\u001b[0m, in \u001b[0;36mSaverProvider.new_run\u001b[0;34m(self, metadata, *args, **kwargs)\u001b[0m\n\u001b[1;32m     48\u001b[0m job \u001b[39m=\u001b[39m \u001b[39mself\u001b[39m\u001b[39m.\u001b[39moriginal_run(\u001b[39m*\u001b[39margs, \u001b[39m*\u001b[39m\u001b[39m*\u001b[39mkwargs)\n\u001b[1;32m     49\u001b[0m \u001b[39m# Update metadata\u001b[39;00m\n\u001b[0;32m---> 50\u001b[0m update_metadata(job, \u001b[39mself\u001b[39;49m\u001b[39m.\u001b[39;49mname, metadata)\n\u001b[1;32m     51\u001b[0m \u001b[39mreturn\u001b[39;00m job\n",
      "File \u001b[0;32m~/My Drive/Desktop/Studium/Physik/MSc/Semester 3/IBM/IBM GIT/Soft-Info/src/Scratch/metadata.py:115\u001b[0m, in \u001b[0;36mupdate_metadata\u001b[0;34m(job, backend_name, additional_dict)\u001b[0m\n\u001b[1;32m    111\u001b[0m         \u001b[39mbreak\u001b[39;00m\n\u001b[1;32m    112\u001b[0m \u001b[39melse\u001b[39;00m:\n\u001b[1;32m    113\u001b[0m     \u001b[39m# If not found, create new metadata entry\u001b[39;00m\n\u001b[1;32m    114\u001b[0m     metadata_entry \u001b[39m=\u001b[39m {\n\u001b[0;32m--> 115\u001b[0m         \u001b[39m\"\u001b[39m\u001b[39mcreation_date\u001b[39m\u001b[39m\"\u001b[39m: \u001b[39mstr\u001b[39m(job\u001b[39m.\u001b[39;49mcreation_date()),\n\u001b[1;32m    116\u001b[0m         \u001b[39m'\u001b[39m\u001b[39mnotebook_name\u001b[39m\u001b[39m'\u001b[39m: notebook_name,\n\u001b[1;32m    117\u001b[0m         \u001b[39m'\u001b[39m\u001b[39mbackend_name\u001b[39m\u001b[39m'\u001b[39m: backend_name,\n\u001b[1;32m    118\u001b[0m         \u001b[39m'\u001b[39m\u001b[39mbackend_options\u001b[39m\u001b[39m'\u001b[39m: job\u001b[39m.\u001b[39mbackend_options(),\n\u001b[1;32m    119\u001b[0m         \u001b[39m'\u001b[39m\u001b[39madditional_metadata\u001b[39m\u001b[39m'\u001b[39m: additional_dict,\n\u001b[1;32m    120\u001b[0m         \u001b[39m'\u001b[39m\u001b[39mjob_id\u001b[39m\u001b[39m'\u001b[39m: job\u001b[39m.\u001b[39mjob_id(),\n\u001b[1;32m    121\u001b[0m         \u001b[39m'\u001b[39m\u001b[39mjob_name\u001b[39m\u001b[39m'\u001b[39m: job\u001b[39m.\u001b[39mname(),\n\u001b[1;32m    122\u001b[0m         \u001b[39m'\u001b[39m\u001b[39mjob_metadata\u001b[39m\u001b[39m'\u001b[39m: job\u001b[39m.\u001b[39mmetadata,\n\u001b[1;32m    123\u001b[0m         \u001b[39m\"\u001b[39m\u001b[39mtags\u001b[39m\u001b[39m\"\u001b[39m: job\u001b[39m.\u001b[39mtags(),\n\u001b[1;32m    124\u001b[0m     }\n\u001b[1;32m    125\u001b[0m     metadata_list\u001b[39m.\u001b[39mappend(metadata_entry)\n\u001b[1;32m    127\u001b[0m \u001b[39m# Save updated metadata\u001b[39;00m\n",
      "File \u001b[0;32m~/.local/share/virtualenvs/Soft-Info-Sk8aHGSa/lib/python3.11/site-packages/qiskit_ibm_provider/job/ibm_circuit_job.py:471\u001b[0m, in \u001b[0;36mIBMCircuitJob.creation_date\u001b[0;34m(self)\u001b[0m\n\u001b[1;32m    465\u001b[0m \u001b[39m\u001b[39m\u001b[39m\"\"\"Return job creation date, in local time.\u001b[39;00m\n\u001b[1;32m    466\u001b[0m \n\u001b[1;32m    467\u001b[0m \u001b[39mReturns:\u001b[39;00m\n\u001b[1;32m    468\u001b[0m \u001b[39m    The job creation date as a datetime object, in local time.\u001b[39;00m\n\u001b[1;32m    469\u001b[0m \u001b[39m\"\"\"\u001b[39;00m\n\u001b[1;32m    470\u001b[0m \u001b[39mif\u001b[39;00m \u001b[39mself\u001b[39m\u001b[39m.\u001b[39m_creation_date \u001b[39mis\u001b[39;00m \u001b[39mNone\u001b[39;00m:\n\u001b[0;32m--> 471\u001b[0m     \u001b[39mself\u001b[39;49m\u001b[39m.\u001b[39;49mrefresh()\n\u001b[1;32m    472\u001b[0m creation_date_local_dt \u001b[39m=\u001b[39m utc_to_local(\u001b[39mself\u001b[39m\u001b[39m.\u001b[39m_creation_date)\n\u001b[1;32m    473\u001b[0m \u001b[39mreturn\u001b[39;00m creation_date_local_dt\n",
      "File \u001b[0;32m~/.local/share/virtualenvs/Soft-Info-Sk8aHGSa/lib/python3.11/site-packages/qiskit_ibm_provider/job/ibm_circuit_job.py:553\u001b[0m, in \u001b[0;36mIBMCircuitJob.refresh\u001b[0;34m(self)\u001b[0m\n\u001b[1;32m    551\u001b[0m \u001b[39mwith\u001b[39;00m api_to_job_error():\n\u001b[1;32m    552\u001b[0m     api_response \u001b[39m=\u001b[39m \u001b[39mself\u001b[39m\u001b[39m.\u001b[39m_runtime_client\u001b[39m.\u001b[39mjob_get(\u001b[39mself\u001b[39m\u001b[39m.\u001b[39mjob_id())\n\u001b[0;32m--> 553\u001b[0m     api_metadata \u001b[39m=\u001b[39m \u001b[39mself\u001b[39;49m\u001b[39m.\u001b[39;49m_runtime_client\u001b[39m.\u001b[39;49mjob_metadata(\u001b[39mself\u001b[39;49m\u001b[39m.\u001b[39;49mjob_id())\n\u001b[1;32m    555\u001b[0m \u001b[39mtry\u001b[39;00m:\n\u001b[1;32m    556\u001b[0m     api_response\u001b[39m.\u001b[39mpop(\u001b[39m\"\u001b[39m\u001b[39mid\u001b[39m\u001b[39m\"\u001b[39m)\n",
      "File \u001b[0;32m~/.local/share/virtualenvs/Soft-Info-Sk8aHGSa/lib/python3.11/site-packages/qiskit_ibm_provider/api/clients/runtime.py:289\u001b[0m, in \u001b[0;36mRuntimeClient.job_metadata\u001b[0;34m(self, job_id)\u001b[0m\n\u001b[1;32m    280\u001b[0m \u001b[39mdef\u001b[39;00m \u001b[39mjob_metadata\u001b[39m(\u001b[39mself\u001b[39m, job_id: \u001b[39mstr\u001b[39m) \u001b[39m-\u001b[39m\u001b[39m>\u001b[39m Dict[\u001b[39mstr\u001b[39m, Any]:\n\u001b[1;32m    281\u001b[0m \u001b[39m    \u001b[39m\u001b[39m\"\"\"Get job metadata.\u001b[39;00m\n\u001b[1;32m    282\u001b[0m \n\u001b[1;32m    283\u001b[0m \u001b[39m    Args:\u001b[39;00m\n\u001b[0;32m   (...)\u001b[0m\n\u001b[1;32m    287\u001b[0m \u001b[39m        Job metadata.\u001b[39;00m\n\u001b[1;32m    288\u001b[0m \u001b[39m    \"\"\"\u001b[39;00m\n\u001b[0;32m--> 289\u001b[0m     \u001b[39mreturn\u001b[39;00m \u001b[39mself\u001b[39;49m\u001b[39m.\u001b[39;49m_api\u001b[39m.\u001b[39;49mprogram_job(job_id)\u001b[39m.\u001b[39;49mmetadata()\n",
      "File \u001b[0;32m~/.local/share/virtualenvs/Soft-Info-Sk8aHGSa/lib/python3.11/site-packages/qiskit_ibm_provider/api/rest/program_job.py:115\u001b[0m, in \u001b[0;36mProgramJob.metadata\u001b[0;34m(self)\u001b[0m\n\u001b[1;32m    109\u001b[0m \u001b[39mdef\u001b[39;00m \u001b[39mmetadata\u001b[39m(\u001b[39mself\u001b[39m) \u001b[39m-\u001b[39m\u001b[39m>\u001b[39m Dict:\n\u001b[1;32m    110\u001b[0m \u001b[39m    \u001b[39m\u001b[39m\"\"\"Retrieve job metadata.\u001b[39;00m\n\u001b[1;32m    111\u001b[0m \n\u001b[1;32m    112\u001b[0m \u001b[39m    Returns:\u001b[39;00m\n\u001b[1;32m    113\u001b[0m \u001b[39m        Job Metadata.\u001b[39;00m\n\u001b[1;32m    114\u001b[0m \u001b[39m    \"\"\"\u001b[39;00m\n\u001b[0;32m--> 115\u001b[0m     \u001b[39mreturn\u001b[39;00m \u001b[39mself\u001b[39;49m\u001b[39m.\u001b[39;49msession\u001b[39m.\u001b[39;49mget(\u001b[39mself\u001b[39;49m\u001b[39m.\u001b[39;49mget_url(\u001b[39m\"\u001b[39;49m\u001b[39mmetrics\u001b[39;49m\u001b[39m\"\u001b[39;49m))\u001b[39m.\u001b[39mjson()\n",
      "File \u001b[0;32m~/.local/share/virtualenvs/Soft-Info-Sk8aHGSa/lib/python3.11/site-packages/requests/sessions.py:602\u001b[0m, in \u001b[0;36mSession.get\u001b[0;34m(self, url, **kwargs)\u001b[0m\n\u001b[1;32m    594\u001b[0m \u001b[39m\u001b[39m\u001b[39mr\u001b[39m\u001b[39m\"\"\"Sends a GET request. Returns :class:`Response` object.\u001b[39;00m\n\u001b[1;32m    595\u001b[0m \n\u001b[1;32m    596\u001b[0m \u001b[39m:param url: URL for the new :class:`Request` object.\u001b[39;00m\n\u001b[1;32m    597\u001b[0m \u001b[39m:param \\*\\*kwargs: Optional arguments that ``request`` takes.\u001b[39;00m\n\u001b[1;32m    598\u001b[0m \u001b[39m:rtype: requests.Response\u001b[39;00m\n\u001b[1;32m    599\u001b[0m \u001b[39m\"\"\"\u001b[39;00m\n\u001b[1;32m    601\u001b[0m kwargs\u001b[39m.\u001b[39msetdefault(\u001b[39m\"\u001b[39m\u001b[39mallow_redirects\u001b[39m\u001b[39m\"\u001b[39m, \u001b[39mTrue\u001b[39;00m)\n\u001b[0;32m--> 602\u001b[0m \u001b[39mreturn\u001b[39;00m \u001b[39mself\u001b[39;49m\u001b[39m.\u001b[39;49mrequest(\u001b[39m\"\u001b[39;49m\u001b[39mGET\u001b[39;49m\u001b[39m\"\u001b[39;49m, url, \u001b[39m*\u001b[39;49m\u001b[39m*\u001b[39;49mkwargs)\n",
      "File \u001b[0;32m~/.local/share/virtualenvs/Soft-Info-Sk8aHGSa/lib/python3.11/site-packages/qiskit_ibm_provider/api/session.py:263\u001b[0m, in \u001b[0;36mRetrySession.request\u001b[0;34m(self, method, url, bare, **kwargs)\u001b[0m\n\u001b[1;32m    261\u001b[0m \u001b[39mtry\u001b[39;00m:\n\u001b[1;32m    262\u001b[0m     \u001b[39mself\u001b[39m\u001b[39m.\u001b[39m_log_request_info(final_url, method, kwargs)\n\u001b[0;32m--> 263\u001b[0m     response \u001b[39m=\u001b[39m \u001b[39msuper\u001b[39;49m()\u001b[39m.\u001b[39;49mrequest(method, final_url, headers\u001b[39m=\u001b[39;49mheaders, \u001b[39m*\u001b[39;49m\u001b[39m*\u001b[39;49mkwargs)\n\u001b[1;32m    264\u001b[0m     response\u001b[39m.\u001b[39mraise_for_status()\n\u001b[1;32m    265\u001b[0m \u001b[39mexcept\u001b[39;00m RequestException \u001b[39mas\u001b[39;00m ex:\n\u001b[1;32m    266\u001b[0m     \u001b[39m# Wrap the requests exceptions into a IBM Q custom one, for\u001b[39;00m\n\u001b[1;32m    267\u001b[0m     \u001b[39m# compatibility.\u001b[39;00m\n",
      "File \u001b[0;32m~/.local/share/virtualenvs/Soft-Info-Sk8aHGSa/lib/python3.11/site-packages/requests/sessions.py:589\u001b[0m, in \u001b[0;36mSession.request\u001b[0;34m(self, method, url, params, data, headers, cookies, files, auth, timeout, allow_redirects, proxies, hooks, stream, verify, cert, json)\u001b[0m\n\u001b[1;32m    584\u001b[0m send_kwargs \u001b[39m=\u001b[39m {\n\u001b[1;32m    585\u001b[0m     \u001b[39m\"\u001b[39m\u001b[39mtimeout\u001b[39m\u001b[39m\"\u001b[39m: timeout,\n\u001b[1;32m    586\u001b[0m     \u001b[39m\"\u001b[39m\u001b[39mallow_redirects\u001b[39m\u001b[39m\"\u001b[39m: allow_redirects,\n\u001b[1;32m    587\u001b[0m }\n\u001b[1;32m    588\u001b[0m send_kwargs\u001b[39m.\u001b[39mupdate(settings)\n\u001b[0;32m--> 589\u001b[0m resp \u001b[39m=\u001b[39m \u001b[39mself\u001b[39;49m\u001b[39m.\u001b[39;49msend(prep, \u001b[39m*\u001b[39;49m\u001b[39m*\u001b[39;49msend_kwargs)\n\u001b[1;32m    591\u001b[0m \u001b[39mreturn\u001b[39;00m resp\n",
      "File \u001b[0;32m~/.local/share/virtualenvs/Soft-Info-Sk8aHGSa/lib/python3.11/site-packages/requests/sessions.py:703\u001b[0m, in \u001b[0;36mSession.send\u001b[0;34m(self, request, **kwargs)\u001b[0m\n\u001b[1;32m    700\u001b[0m start \u001b[39m=\u001b[39m preferred_clock()\n\u001b[1;32m    702\u001b[0m \u001b[39m# Send the request\u001b[39;00m\n\u001b[0;32m--> 703\u001b[0m r \u001b[39m=\u001b[39m adapter\u001b[39m.\u001b[39;49msend(request, \u001b[39m*\u001b[39;49m\u001b[39m*\u001b[39;49mkwargs)\n\u001b[1;32m    705\u001b[0m \u001b[39m# Total elapsed time of the request (approximately)\u001b[39;00m\n\u001b[1;32m    706\u001b[0m elapsed \u001b[39m=\u001b[39m preferred_clock() \u001b[39m-\u001b[39m start\n",
      "File \u001b[0;32m~/.local/share/virtualenvs/Soft-Info-Sk8aHGSa/lib/python3.11/site-packages/requests/adapters.py:486\u001b[0m, in \u001b[0;36mHTTPAdapter.send\u001b[0;34m(self, request, stream, timeout, verify, cert, proxies)\u001b[0m\n\u001b[1;32m    483\u001b[0m     timeout \u001b[39m=\u001b[39m TimeoutSauce(connect\u001b[39m=\u001b[39mtimeout, read\u001b[39m=\u001b[39mtimeout)\n\u001b[1;32m    485\u001b[0m \u001b[39mtry\u001b[39;00m:\n\u001b[0;32m--> 486\u001b[0m     resp \u001b[39m=\u001b[39m conn\u001b[39m.\u001b[39;49murlopen(\n\u001b[1;32m    487\u001b[0m         method\u001b[39m=\u001b[39;49mrequest\u001b[39m.\u001b[39;49mmethod,\n\u001b[1;32m    488\u001b[0m         url\u001b[39m=\u001b[39;49murl,\n\u001b[1;32m    489\u001b[0m         body\u001b[39m=\u001b[39;49mrequest\u001b[39m.\u001b[39;49mbody,\n\u001b[1;32m    490\u001b[0m         headers\u001b[39m=\u001b[39;49mrequest\u001b[39m.\u001b[39;49mheaders,\n\u001b[1;32m    491\u001b[0m         redirect\u001b[39m=\u001b[39;49m\u001b[39mFalse\u001b[39;49;00m,\n\u001b[1;32m    492\u001b[0m         assert_same_host\u001b[39m=\u001b[39;49m\u001b[39mFalse\u001b[39;49;00m,\n\u001b[1;32m    493\u001b[0m         preload_content\u001b[39m=\u001b[39;49m\u001b[39mFalse\u001b[39;49;00m,\n\u001b[1;32m    494\u001b[0m         decode_content\u001b[39m=\u001b[39;49m\u001b[39mFalse\u001b[39;49;00m,\n\u001b[1;32m    495\u001b[0m         retries\u001b[39m=\u001b[39;49m\u001b[39mself\u001b[39;49m\u001b[39m.\u001b[39;49mmax_retries,\n\u001b[1;32m    496\u001b[0m         timeout\u001b[39m=\u001b[39;49mtimeout,\n\u001b[1;32m    497\u001b[0m         chunked\u001b[39m=\u001b[39;49mchunked,\n\u001b[1;32m    498\u001b[0m     )\n\u001b[1;32m    500\u001b[0m \u001b[39mexcept\u001b[39;00m (ProtocolError, \u001b[39mOSError\u001b[39;00m) \u001b[39mas\u001b[39;00m err:\n\u001b[1;32m    501\u001b[0m     \u001b[39mraise\u001b[39;00m \u001b[39mConnectionError\u001b[39;00m(err, request\u001b[39m=\u001b[39mrequest)\n",
      "File \u001b[0;32m~/.local/share/virtualenvs/Soft-Info-Sk8aHGSa/lib/python3.11/site-packages/urllib3/connectionpool.py:715\u001b[0m, in \u001b[0;36mHTTPConnectionPool.urlopen\u001b[0;34m(self, method, url, body, headers, retries, redirect, assert_same_host, timeout, pool_timeout, release_conn, chunked, body_pos, **response_kw)\u001b[0m\n\u001b[1;32m    712\u001b[0m     \u001b[39mself\u001b[39m\u001b[39m.\u001b[39m_prepare_proxy(conn)\n\u001b[1;32m    714\u001b[0m \u001b[39m# Make the request on the httplib connection object.\u001b[39;00m\n\u001b[0;32m--> 715\u001b[0m httplib_response \u001b[39m=\u001b[39m \u001b[39mself\u001b[39;49m\u001b[39m.\u001b[39;49m_make_request(\n\u001b[1;32m    716\u001b[0m     conn,\n\u001b[1;32m    717\u001b[0m     method,\n\u001b[1;32m    718\u001b[0m     url,\n\u001b[1;32m    719\u001b[0m     timeout\u001b[39m=\u001b[39;49mtimeout_obj,\n\u001b[1;32m    720\u001b[0m     body\u001b[39m=\u001b[39;49mbody,\n\u001b[1;32m    721\u001b[0m     headers\u001b[39m=\u001b[39;49mheaders,\n\u001b[1;32m    722\u001b[0m     chunked\u001b[39m=\u001b[39;49mchunked,\n\u001b[1;32m    723\u001b[0m )\n\u001b[1;32m    725\u001b[0m \u001b[39m# If we're going to release the connection in ``finally:``, then\u001b[39;00m\n\u001b[1;32m    726\u001b[0m \u001b[39m# the response doesn't need to know about the connection. Otherwise\u001b[39;00m\n\u001b[1;32m    727\u001b[0m \u001b[39m# it will also try to release it and we'll have a double-release\u001b[39;00m\n\u001b[1;32m    728\u001b[0m \u001b[39m# mess.\u001b[39;00m\n\u001b[1;32m    729\u001b[0m response_conn \u001b[39m=\u001b[39m conn \u001b[39mif\u001b[39;00m \u001b[39mnot\u001b[39;00m release_conn \u001b[39melse\u001b[39;00m \u001b[39mNone\u001b[39;00m\n",
      "File \u001b[0;32m~/.local/share/virtualenvs/Soft-Info-Sk8aHGSa/lib/python3.11/site-packages/urllib3/connectionpool.py:467\u001b[0m, in \u001b[0;36mHTTPConnectionPool._make_request\u001b[0;34m(self, conn, method, url, timeout, chunked, **httplib_request_kw)\u001b[0m\n\u001b[1;32m    462\u001b[0m             httplib_response \u001b[39m=\u001b[39m conn\u001b[39m.\u001b[39mgetresponse()\n\u001b[1;32m    463\u001b[0m         \u001b[39mexcept\u001b[39;00m \u001b[39mBaseException\u001b[39;00m \u001b[39mas\u001b[39;00m e:\n\u001b[1;32m    464\u001b[0m             \u001b[39m# Remove the TypeError from the exception chain in\u001b[39;00m\n\u001b[1;32m    465\u001b[0m             \u001b[39m# Python 3 (including for exceptions like SystemExit).\u001b[39;00m\n\u001b[1;32m    466\u001b[0m             \u001b[39m# Otherwise it looks like a bug in the code.\u001b[39;00m\n\u001b[0;32m--> 467\u001b[0m             six\u001b[39m.\u001b[39;49mraise_from(e, \u001b[39mNone\u001b[39;49;00m)\n\u001b[1;32m    468\u001b[0m \u001b[39mexcept\u001b[39;00m (SocketTimeout, BaseSSLError, SocketError) \u001b[39mas\u001b[39;00m e:\n\u001b[1;32m    469\u001b[0m     \u001b[39mself\u001b[39m\u001b[39m.\u001b[39m_raise_timeout(err\u001b[39m=\u001b[39me, url\u001b[39m=\u001b[39murl, timeout_value\u001b[39m=\u001b[39mread_timeout)\n",
      "File \u001b[0;32m<string>:3\u001b[0m, in \u001b[0;36mraise_from\u001b[0;34m(value, from_value)\u001b[0m\n",
      "File \u001b[0;32m~/.local/share/virtualenvs/Soft-Info-Sk8aHGSa/lib/python3.11/site-packages/urllib3/connectionpool.py:462\u001b[0m, in \u001b[0;36mHTTPConnectionPool._make_request\u001b[0;34m(self, conn, method, url, timeout, chunked, **httplib_request_kw)\u001b[0m\n\u001b[1;32m    459\u001b[0m \u001b[39mexcept\u001b[39;00m \u001b[39mTypeError\u001b[39;00m:\n\u001b[1;32m    460\u001b[0m     \u001b[39m# Python 3\u001b[39;00m\n\u001b[1;32m    461\u001b[0m     \u001b[39mtry\u001b[39;00m:\n\u001b[0;32m--> 462\u001b[0m         httplib_response \u001b[39m=\u001b[39m conn\u001b[39m.\u001b[39;49mgetresponse()\n\u001b[1;32m    463\u001b[0m     \u001b[39mexcept\u001b[39;00m \u001b[39mBaseException\u001b[39;00m \u001b[39mas\u001b[39;00m e:\n\u001b[1;32m    464\u001b[0m         \u001b[39m# Remove the TypeError from the exception chain in\u001b[39;00m\n\u001b[1;32m    465\u001b[0m         \u001b[39m# Python 3 (including for exceptions like SystemExit).\u001b[39;00m\n\u001b[1;32m    466\u001b[0m         \u001b[39m# Otherwise it looks like a bug in the code.\u001b[39;00m\n\u001b[1;32m    467\u001b[0m         six\u001b[39m.\u001b[39mraise_from(e, \u001b[39mNone\u001b[39;00m)\n",
      "File \u001b[0;32m~/.pyenv/versions/3.11.4/lib/python3.11/http/client.py:1378\u001b[0m, in \u001b[0;36mHTTPConnection.getresponse\u001b[0;34m(self)\u001b[0m\n\u001b[1;32m   1376\u001b[0m \u001b[39mtry\u001b[39;00m:\n\u001b[1;32m   1377\u001b[0m     \u001b[39mtry\u001b[39;00m:\n\u001b[0;32m-> 1378\u001b[0m         response\u001b[39m.\u001b[39;49mbegin()\n\u001b[1;32m   1379\u001b[0m     \u001b[39mexcept\u001b[39;00m \u001b[39mConnectionError\u001b[39;00m:\n\u001b[1;32m   1380\u001b[0m         \u001b[39mself\u001b[39m\u001b[39m.\u001b[39mclose()\n",
      "File \u001b[0;32m~/.pyenv/versions/3.11.4/lib/python3.11/http/client.py:318\u001b[0m, in \u001b[0;36mHTTPResponse.begin\u001b[0;34m(self)\u001b[0m\n\u001b[1;32m    316\u001b[0m \u001b[39m# read until we get a non-100 response\u001b[39;00m\n\u001b[1;32m    317\u001b[0m \u001b[39mwhile\u001b[39;00m \u001b[39mTrue\u001b[39;00m:\n\u001b[0;32m--> 318\u001b[0m     version, status, reason \u001b[39m=\u001b[39m \u001b[39mself\u001b[39;49m\u001b[39m.\u001b[39;49m_read_status()\n\u001b[1;32m    319\u001b[0m     \u001b[39mif\u001b[39;00m status \u001b[39m!=\u001b[39m CONTINUE:\n\u001b[1;32m    320\u001b[0m         \u001b[39mbreak\u001b[39;00m\n",
      "File \u001b[0;32m~/.pyenv/versions/3.11.4/lib/python3.11/http/client.py:279\u001b[0m, in \u001b[0;36mHTTPResponse._read_status\u001b[0;34m(self)\u001b[0m\n\u001b[1;32m    278\u001b[0m \u001b[39mdef\u001b[39;00m \u001b[39m_read_status\u001b[39m(\u001b[39mself\u001b[39m):\n\u001b[0;32m--> 279\u001b[0m     line \u001b[39m=\u001b[39m \u001b[39mstr\u001b[39m(\u001b[39mself\u001b[39m\u001b[39m.\u001b[39mfp\u001b[39m.\u001b[39mreadline(_MAXLINE \u001b[39m+\u001b[39m \u001b[39m1\u001b[39m), \u001b[39m\"\u001b[39m\u001b[39miso-8859-1\u001b[39m\u001b[39m\"\u001b[39m)\n\u001b[1;32m    280\u001b[0m     \u001b[39mif\u001b[39;00m \u001b[39mlen\u001b[39m(line) \u001b[39m>\u001b[39m _MAXLINE:\n\u001b[1;32m    281\u001b[0m         \u001b[39mraise\u001b[39;00m LineTooLong(\u001b[39m\"\u001b[39m\u001b[39mstatus line\u001b[39m\u001b[39m\"\u001b[39m)\n",
      "File \u001b[0;32m~/.pyenv/versions/3.11.4/lib/python3.11/socket.py:706\u001b[0m, in \u001b[0;36mSocketIO.readinto\u001b[0;34m(self, b)\u001b[0m\n\u001b[1;32m    704\u001b[0m \u001b[39mwhile\u001b[39;00m \u001b[39mTrue\u001b[39;00m:\n\u001b[1;32m    705\u001b[0m     \u001b[39mtry\u001b[39;00m:\n\u001b[0;32m--> 706\u001b[0m         \u001b[39mreturn\u001b[39;00m \u001b[39mself\u001b[39;49m\u001b[39m.\u001b[39;49m_sock\u001b[39m.\u001b[39;49mrecv_into(b)\n\u001b[1;32m    707\u001b[0m     \u001b[39mexcept\u001b[39;00m timeout:\n\u001b[1;32m    708\u001b[0m         \u001b[39mself\u001b[39m\u001b[39m.\u001b[39m_timeout_occurred \u001b[39m=\u001b[39m \u001b[39mTrue\u001b[39;00m\n",
      "File \u001b[0;32m~/.pyenv/versions/3.11.4/lib/python3.11/ssl.py:1278\u001b[0m, in \u001b[0;36mSSLSocket.recv_into\u001b[0;34m(self, buffer, nbytes, flags)\u001b[0m\n\u001b[1;32m   1274\u001b[0m     \u001b[39mif\u001b[39;00m flags \u001b[39m!=\u001b[39m \u001b[39m0\u001b[39m:\n\u001b[1;32m   1275\u001b[0m         \u001b[39mraise\u001b[39;00m \u001b[39mValueError\u001b[39;00m(\n\u001b[1;32m   1276\u001b[0m           \u001b[39m\"\u001b[39m\u001b[39mnon-zero flags not allowed in calls to recv_into() on \u001b[39m\u001b[39m%s\u001b[39;00m\u001b[39m\"\u001b[39m \u001b[39m%\u001b[39m\n\u001b[1;32m   1277\u001b[0m           \u001b[39mself\u001b[39m\u001b[39m.\u001b[39m\u001b[39m__class__\u001b[39m)\n\u001b[0;32m-> 1278\u001b[0m     \u001b[39mreturn\u001b[39;00m \u001b[39mself\u001b[39;49m\u001b[39m.\u001b[39;49mread(nbytes, buffer)\n\u001b[1;32m   1279\u001b[0m \u001b[39melse\u001b[39;00m:\n\u001b[1;32m   1280\u001b[0m     \u001b[39mreturn\u001b[39;00m \u001b[39msuper\u001b[39m()\u001b[39m.\u001b[39mrecv_into(buffer, nbytes, flags)\n",
      "File \u001b[0;32m~/.pyenv/versions/3.11.4/lib/python3.11/ssl.py:1134\u001b[0m, in \u001b[0;36mSSLSocket.read\u001b[0;34m(self, len, buffer)\u001b[0m\n\u001b[1;32m   1132\u001b[0m \u001b[39mtry\u001b[39;00m:\n\u001b[1;32m   1133\u001b[0m     \u001b[39mif\u001b[39;00m buffer \u001b[39mis\u001b[39;00m \u001b[39mnot\u001b[39;00m \u001b[39mNone\u001b[39;00m:\n\u001b[0;32m-> 1134\u001b[0m         \u001b[39mreturn\u001b[39;00m \u001b[39mself\u001b[39;49m\u001b[39m.\u001b[39;49m_sslobj\u001b[39m.\u001b[39;49mread(\u001b[39mlen\u001b[39;49m, buffer)\n\u001b[1;32m   1135\u001b[0m     \u001b[39melse\u001b[39;00m:\n\u001b[1;32m   1136\u001b[0m         \u001b[39mreturn\u001b[39;00m \u001b[39mself\u001b[39m\u001b[39m.\u001b[39m_sslobj\u001b[39m.\u001b[39mread(\u001b[39mlen\u001b[39m)\n",
      "\u001b[0;31mKeyboardInterrupt\u001b[0m: "
     ]
    }
   ],
   "source": [
    "from tqdm import tqdm\n",
    "\n",
    "from qiskit_qec.circuits import RepetitionCodeCircuit\n",
    "from qiskit import transpile\n",
    "\n",
    "from soft_info import find_longest_path_in_hex\n",
    "from Scratch import metadata_helper\n",
    "\n",
    "\n",
    "hex_backend = provider.get_backend('ibm_sherbrooke')\n",
    "path, _, _  = find_longest_path_in_hex(hex_backend)\n",
    "\n",
    "for nb_of_rounds in tqdm(rounds):\n",
    "    for distance in (distances):  \n",
    "        bounded_path = path[:2 * distance - 1]\n",
    "        layout = bounded_path[1::2] + bounded_path[::2] \n",
    "        code = RepetitionCodeCircuit(distance, nb_of_rounds) \n",
    "        for device in devices:\n",
    "            backend = provider.get_backend(device)\n",
    "            for logical in logicals:          \n",
    "                qc = code.circuit[logical]                                   \n",
    "                transpiled_qc = transpile(qc, backend, initial_layout=layout, optimization_level=3)\n",
    "\n",
    "                n_shots = int(1e6 / (distance*nb_of_rounds))\n",
    "                metadata = metadata_helper(descr='diff rounds v2', code=\"RepetitionCodeCircuit\", distance=distance, rounds=f\"{nb_of_rounds}\",  logical=logical, layout='_is_hex=True, sherbrooke')\n",
    "                backend.run(metadata, transpiled_qc, shots=n_shots, meas_level=1, meas_return='single') # meas_level=1 for IQ  \n",
    "                \n"
   ]
  },
  {
   "cell_type": "code",
   "execution_count": null,
   "metadata": {},
   "outputs": [],
   "source": []
  }
 ],
 "metadata": {
  "kernelspec": {
   "display_name": "Soft-Info-Sk8aHGSa",
   "language": "python",
   "name": "python3"
  },
  "language_info": {
   "codemirror_mode": {
    "name": "ipython",
    "version": 3
   },
   "file_extension": ".py",
   "mimetype": "text/x-python",
   "name": "python",
   "nbconvert_exporter": "python",
   "pygments_lexer": "ipython3",
   "version": "3.11.4"
  }
 },
 "nbformat": 4,
 "nbformat_minor": 2
}
