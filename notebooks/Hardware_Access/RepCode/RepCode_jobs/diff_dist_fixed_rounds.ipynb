{
 "cells": [
  {
   "cell_type": "code",
   "execution_count": 1,
   "metadata": {},
   "outputs": [],
   "source": [
    "from result_saver import SaverProvider\n",
    "provider = SaverProvider()"
   ]
  },
  {
   "cell_type": "code",
   "execution_count": 8,
   "metadata": {},
   "outputs": [
    {
     "name": "stdout",
     "output_type": "stream",
     "text": [
      "Distances:  [55 53 51 49 47 45 43 41 39 37 35 33 31 29 27 25 23 21 19 17 15 13 11  9\n",
      "  7  5]\n"
     ]
    }
   ],
   "source": [
    "import numpy as np\n",
    "# parameter grid\n",
    "distances = np.arange(5, 57, 2)\n",
    "distances = distances[::-1]\n",
    "rounds = 35 # take the biggest that is possible\n",
    "devices = [\"ibm_nazca\", \"ibm_sherbrooke\", \"ibm_brisbane\", \"ibm_cusco\"]\n",
    "logicals = ['0', '1']\n",
    "\n",
    "print(\"Distances: \", distances)"
   ]
  },
  {
   "cell_type": "markdown",
   "metadata": {},
   "source": [
    "# Sligthly faster faster triple loop"
   ]
  },
  {
   "cell_type": "code",
   "execution_count": 9,
   "metadata": {},
   "outputs": [
    {
     "name": "stderr",
     "output_type": "stream",
     "text": [
      "  0%|          | 0/26 [00:00<?, ?it/s]"
     ]
    },
    {
     "name": "stdout",
     "output_type": "stream",
     "text": [
      "19:15:43 Warning: updating metadata. IN FILE: /Users/mha/My_Drive/Desktop/Studium/Physik/MSc/Semester_3/IBM/IBM_GIT/Soft-Info/libs/qiskit-saver-provider/result_saver/provider/saver_provider.py, LINE: 46\n"
     ]
    },
    {
     "name": "stderr",
     "output_type": "stream",
     "text": [
      "100%|██████████| 26/26 [21:11<00:00, 48.90s/it]\n"
     ]
    }
   ],
   "source": [
    "from tqdm import tqdm\n",
    "\n",
    "from qiskit_qec.circuits import RepetitionCodeCircuit\n",
    "from qiskit import transpile\n",
    "\n",
    "from soft_info import find_longest_path_in_hex\n",
    "from Scratch import metadata_helper\n",
    "\n",
    "\n",
    "hex_backend = provider.get_backend('ibm_sherbrooke')\n",
    "path, _, _  = find_longest_path_in_hex(hex_backend)\n",
    "\n",
    "for distance in tqdm(distances):  \n",
    "    bounded_path = path[:2 * distance - 1]\n",
    "    layout = bounded_path[1::2] + bounded_path[::2] \n",
    "    code = RepetitionCodeCircuit(distance, rounds) \n",
    "    for device in devices:\n",
    "        backend = provider.get_backend(device)\n",
    "        for logical in logicals:          \n",
    "            qc = code.circuit[logical]                                   \n",
    "            transpiled_qc = transpile(qc, backend, initial_layout=layout) #, optimization_level=3)\n",
    "\n",
    "            n_shots = int(1e6 / (distance*rounds))\n",
    "            metadata = metadata_helper(descr='diff rounds v2', code=\"RepetitionCodeCircuit\", distance=int(distance), rounds=f\"{rounds}\",  logical=logical, layout='_is_hex=True, sherbrooke')\n",
    "            backend.run(metadata, transpiled_qc, shots=int(n_shots), meas_level=1, meas_return='single', job_tags=[\"RepetitionCodeCircuit\"]) # meas_level=1 for IQ  \n",
    "            \n"
   ]
  }
 ],
 "metadata": {
  "kernelspec": {
   "display_name": "Soft-Info-fMUpUe5a",
   "language": "python",
   "name": "python3"
  },
  "language_info": {
   "codemirror_mode": {
    "name": "ipython",
    "version": 3
   },
   "file_extension": ".py",
   "mimetype": "text/x-python",
   "name": "python",
   "nbconvert_exporter": "python",
   "pygments_lexer": "ipython3",
   "version": "3.11.4"
  }
 },
 "nbformat": 4,
 "nbformat_minor": 2
}
