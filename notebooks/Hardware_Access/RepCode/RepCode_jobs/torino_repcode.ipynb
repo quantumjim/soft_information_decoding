{
 "cells": [
  {
   "cell_type": "code",
   "execution_count": 1,
   "metadata": {},
   "outputs": [],
   "source": [
    "from result_saver import SaverProvider\n",
    "provider = SaverProvider()"
   ]
  },
  {
   "cell_type": "code",
   "execution_count": 2,
   "metadata": {},
   "outputs": [],
   "source": [
    "from qiskit_ibm_provider import IBMProvider\n",
    "backend = IBMProvider().get_backend('ibm_torino')"
   ]
  },
  {
   "cell_type": "code",
   "execution_count": 6,
   "metadata": {},
   "outputs": [],
   "source": [
    "import numpy as np\n",
    "# parameter grid\n",
    "distance = 56\n",
    "nb_of_rounds = 100\n",
    "device = \"ibm_torino\"\n",
    "logicals = ['0', '1']"
   ]
  },
  {
   "cell_type": "code",
   "execution_count": 9,
   "metadata": {},
   "outputs": [
    {
     "data": {
      "text/plain": [
       "178.57142857142858"
      ]
     },
     "execution_count": 9,
     "metadata": {},
     "output_type": "execute_result"
    }
   ],
   "source": [
    "1e6 / ( 56 * 100)"
   ]
  },
  {
   "cell_type": "code",
   "execution_count": 2,
   "metadata": {},
   "outputs": [
    {
     "name": "stdout",
     "output_type": "stream",
     "text": [
      "56\n",
      "112\n"
     ]
    }
   ],
   "source": [
    "import pickle\n",
    "with open('longest_path_torino.pkl', 'rb') as f:\n",
    "    path = pickle.load(f)\n",
    "print(len(path)//2)\n",
    "print(len(path))"
   ]
  },
  {
   "cell_type": "code",
   "execution_count": 16,
   "metadata": {},
   "outputs": [],
   "source": [
    "from qiskit_qec.circuits import RepetitionCodeCircuit\n",
    "from qiskit import transpile\n",
    "\n",
    "from soft_info import find_longest_path_in_hex\n",
    "from Scratch import metadata_helper\n",
    "\n",
    "\n",
    "backend = provider.get_backend(device)\n",
    "\n",
    "bounded_path = path[:2 * distance - 1]\n",
    "layout = bounded_path[1::2] + bounded_path[::2] \n",
    "code = RepetitionCodeCircuit(distance, nb_of_rounds) \n",
    "for logical in logicals:          \n",
    "    qc = code.circuit[logical]                                   \n",
    "    transpiled_qc = transpile(qc, backend, initial_layout=layout, optimization_level=0)\n",
    "\n",
    "    # n_shots = int(1e6 / (distance*nb_of_rounds) / 100)   # for torino \n",
    "    n_shots = 20\n",
    "    metadata = metadata_helper(descr='diff rounds v2', code=\"RepetitionCodeCircuit\", distance=int(distance), rounds=f\"{nb_of_rounds}\",  logical=logical, layout='_is_hex=True, sherbrooke')\n",
    "    backend.run(metadata, transpiled_qc, shots=n_shots, meas_level=1, meas_return='single', job_tags=[f\"RC({distance}, {nb_of_rounds}), {n_shots}\"], rep_delay=0.0005) # meas_level=1 for IQ  \n",
    "    # print(transpiled_qc.draw(fold=-1))\n",
    "    "
   ]
  },
  {
   "cell_type": "code",
   "execution_count": null,
   "metadata": {},
   "outputs": [],
   "source": []
  },
  {
   "cell_type": "code",
   "execution_count": null,
   "metadata": {},
   "outputs": [],
   "source": []
  }
 ],
 "metadata": {
  "kernelspec": {
   "display_name": "Soft-Info-Sk8aHGSa",
   "language": "python",
   "name": "python3"
  },
  "language_info": {
   "codemirror_mode": {
    "name": "ipython",
    "version": 3
   },
   "file_extension": ".py",
   "mimetype": "text/x-python",
   "name": "python",
   "nbconvert_exporter": "python",
   "pygments_lexer": "ipython3",
   "version": "3.11.4"
  }
 },
 "nbformat": 4,
 "nbformat_minor": 2
}
