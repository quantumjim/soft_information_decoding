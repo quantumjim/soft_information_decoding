{
 "cells": [
  {
   "cell_type": "code",
   "execution_count": 2,
   "metadata": {},
   "outputs": [],
   "source": [
    "from result_saver import SaverProvider\n",
    "provider = SaverProvider()"
   ]
  },
  {
   "cell_type": "code",
   "execution_count": 7,
   "metadata": {},
   "outputs": [
    {
     "name": "stdout",
     "output_type": "stream",
     "text": [
      "[11, 3]\n"
     ]
    }
   ],
   "source": [
    "# parameter grid\n",
    "distances = [3, 11] #, 40, 45, 50, 55]\n",
    "rounds = [3, 11]\n",
    "devices = [\"ibmq_mumbai\"]#, \"ibm_brisbane\", \"ibm_nazca\", \"ibm_cusco\"]\n",
    "logicals = ['0', '1']\n",
    "print(distances[::-1])"
   ]
  },
  {
   "cell_type": "code",
   "execution_count": 9,
   "metadata": {},
   "outputs": [
    {
     "name": "stderr",
     "output_type": "stream",
     "text": [
      "Finding the longest path starting from 27 qubits: 100%|██████████| 27/27 [00:00<00:00, 26440.86it/s]\n",
      "Finding the longest path starting from 27 qubits: 100%|██████████| 27/27 [00:00<00:00, 39077.37it/s]\n",
      "Finding the longest path starting from 27 qubits: 100%|██████████| 27/27 [00:00<00:00, 24151.46it/s]\n",
      "Finding the longest path starting from 27 qubits: 100%|██████████| 27/27 [00:00<00:00, 38743.14it/s]\n",
      "100%|██████████| 2/2 [00:39<00:00, 19.98s/it]\n"
     ]
    }
   ],
   "source": [
    "from tqdm import tqdm\n",
    "\n",
    "from qiskit_qec.circuits import RepetitionCodeCircuit\n",
    "from qiskit import transpile\n",
    "\n",
    "from soft_info import get_repcode_layout, find_longest_path_in_hex, find_longest_path_general\n",
    "from Scratch import metadata_helper\n",
    "\n",
    "\n",
    "\n",
    "for distance in tqdm(distances):  \n",
    "    for round in rounds:\n",
    "        code = RepetitionCodeCircuit(distance, round) \n",
    "        for device in devices:\n",
    "            backend = provider.get_backend(device)\n",
    "            layout = get_repcode_layout(distance, backend, _is_hex=False)\n",
    "            for logical in logicals:          \n",
    "                qc = code.circuit[logical]                                   \n",
    "                transpiled_qc = transpile(qc, backend, initial_layout=layout, optimization_level=3)\n",
    "\n",
    "                n_shots = int(1e6 / (distance * round))\n",
    "                metadata = metadata_helper(descr=\"Run bigger Repetition codes v4: new distances faster triple loop\" ,code=\"RepetitionCodeCircuit\", distance=distance, rounds=distance, logical=logical, layout='_is_hex=True')\n",
    "                backend.run(metadata, transpiled_qc, shots=n_shots, meas_level=0, meas_return='single', job_tags=['RepCode_Count_job_count']) # meas_level=1 for IQ  \n",
    "                \n"
   ]
  },
  {
   "cell_type": "code",
   "execution_count": null,
   "metadata": {},
   "outputs": [],
   "source": []
  }
 ],
 "metadata": {
  "kernelspec": {
   "display_name": "Soft-Info-fMUpUe5a",
   "language": "python",
   "name": "python3"
  },
  "language_info": {
   "codemirror_mode": {
    "name": "ipython",
    "version": 3
   },
   "file_extension": ".py",
   "mimetype": "text/x-python",
   "name": "python",
   "nbconvert_exporter": "python",
   "pygments_lexer": "ipython3",
   "version": "3.11.4"
  }
 },
 "nbformat": 4,
 "nbformat_minor": 2
}
