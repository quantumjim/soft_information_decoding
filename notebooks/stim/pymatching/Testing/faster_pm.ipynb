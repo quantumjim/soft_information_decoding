{
 "cells": [
  {
   "cell_type": "markdown",
   "metadata": {},
   "source": [
    "# Load Data"
   ]
  },
  {
   "cell_type": "code",
   "execution_count": 1,
   "metadata": {},
   "outputs": [],
   "source": [
    "%reload_ext autoreload\n",
    "%autoreload 2"
   ]
  },
  {
   "cell_type": "code",
   "execution_count": 2,
   "metadata": {},
   "outputs": [],
   "source": [
    "from result_saver import SaverProvider\n",
    "provider = SaverProvider()"
   ]
  },
  {
   "cell_type": "code",
   "execution_count": 3,
   "metadata": {},
   "outputs": [
    {
     "data": {
      "text/html": [
       "<div>\n",
       "<style scoped>\n",
       "    .dataframe tbody tr th:only-of-type {\n",
       "        vertical-align: middle;\n",
       "    }\n",
       "\n",
       "    .dataframe tbody tr th {\n",
       "        vertical-align: top;\n",
       "    }\n",
       "\n",
       "    .dataframe thead th {\n",
       "        text-align: right;\n",
       "    }\n",
       "</style>\n",
       "<table border=\"1\" class=\"dataframe\">\n",
       "  <thead>\n",
       "    <tr style=\"text-align: right;\">\n",
       "      <th></th>\n",
       "      <th>creation_date</th>\n",
       "      <th>notebook_name</th>\n",
       "      <th>backend_name</th>\n",
       "      <th>job_id</th>\n",
       "      <th>tags</th>\n",
       "      <th>shots</th>\n",
       "      <th>tags_xp</th>\n",
       "      <th>sampled_state</th>\n",
       "      <th>num_qubits</th>\n",
       "      <th>job_status</th>\n",
       "      <th>extra</th>\n",
       "      <th>optimization_level</th>\n",
       "      <th>code</th>\n",
       "      <th>distance</th>\n",
       "      <th>rounds</th>\n",
       "      <th>logical</th>\n",
       "      <th>layout</th>\n",
       "      <th>descr</th>\n",
       "    </tr>\n",
       "  </thead>\n",
       "  <tbody>\n",
       "    <tr>\n",
       "      <th>243</th>\n",
       "      <td>2023-10-30 09:43:24.564124+01:00</td>\n",
       "      <td>bigger_rep_codes</td>\n",
       "      <td>ibm_sherbrooke</td>\n",
       "      <td>cmzpsb5daqbg008sjvb0</td>\n",
       "      <td>[]</td>\n",
       "      <td>10000.0</td>\n",
       "      <td>NaN</td>\n",
       "      <td>NaN</td>\n",
       "      <td>NaN</td>\n",
       "      <td>JobStatus.DONE</td>\n",
       "      <td>NaN</td>\n",
       "      <td>NaN</td>\n",
       "      <td>RepetitionCodeCircuit</td>\n",
       "      <td>10.0</td>\n",
       "      <td>10</td>\n",
       "      <td>1</td>\n",
       "      <td>_is_hex=True</td>\n",
       "      <td>Run bigger Repetition codes v4: new distances ...</td>\n",
       "    </tr>\n",
       "    <tr>\n",
       "      <th>242</th>\n",
       "      <td>2023-10-30 09:43:20.984078+01:00</td>\n",
       "      <td>bigger_rep_codes</td>\n",
       "      <td>ibm_sherbrooke</td>\n",
       "      <td>cmzpsa5vayrg008cpk30</td>\n",
       "      <td>[]</td>\n",
       "      <td>10000.0</td>\n",
       "      <td>NaN</td>\n",
       "      <td>NaN</td>\n",
       "      <td>NaN</td>\n",
       "      <td>JobStatus.DONE</td>\n",
       "      <td>NaN</td>\n",
       "      <td>NaN</td>\n",
       "      <td>RepetitionCodeCircuit</td>\n",
       "      <td>10.0</td>\n",
       "      <td>10</td>\n",
       "      <td>0</td>\n",
       "      <td>_is_hex=True</td>\n",
       "      <td>Run bigger Repetition codes v4: new distances ...</td>\n",
       "    </tr>\n",
       "  </tbody>\n",
       "</table>\n",
       "</div>"
      ],
      "text/plain": [
       "                        creation_date     notebook_name    backend_name  \\\n",
       "243  2023-10-30 09:43:24.564124+01:00  bigger_rep_codes  ibm_sherbrooke   \n",
       "242  2023-10-30 09:43:20.984078+01:00  bigger_rep_codes  ibm_sherbrooke   \n",
       "\n",
       "                   job_id tags    shots tags_xp sampled_state  num_qubits  \\\n",
       "243  cmzpsb5daqbg008sjvb0   []  10000.0     NaN           NaN         NaN   \n",
       "242  cmzpsa5vayrg008cpk30   []  10000.0     NaN           NaN         NaN   \n",
       "\n",
       "         job_status extra  optimization_level                   code  \\\n",
       "243  JobStatus.DONE   NaN                 NaN  RepetitionCodeCircuit   \n",
       "242  JobStatus.DONE   NaN                 NaN  RepetitionCodeCircuit   \n",
       "\n",
       "     distance rounds logical        layout  \\\n",
       "243      10.0     10       1  _is_hex=True   \n",
       "242      10.0     10       0  _is_hex=True   \n",
       "\n",
       "                                                 descr  \n",
       "243  Run bigger Repetition codes v4: new distances ...  \n",
       "242  Run bigger Repetition codes v4: new distances ...  "
      ]
     },
     "execution_count": 3,
     "metadata": {},
     "output_type": "execute_result"
    }
   ],
   "source": [
    "import numpy as np\n",
    "from Scratch import metadata_loader\n",
    "\n",
    "DEVICE = 'ibm_sherbrooke'\n",
    "\n",
    "md = metadata_loader(_extract=True, _drop_inutile=True)\n",
    "md = md[md[\"job_status\"] == \"JobStatus.DONE\"].dropna(subset=['distance', 'rounds'])\n",
    "#md = md[md[\"notebook_name\"] == \"diff_rounds_fixed_dist\"]\n",
    "max_distance = int(max(md.distance))\n",
    "max_distance = 10\n",
    "md = md[md[\"distance\"] == max_distance]\n",
    "md = md[md[\"backend_name\"]==DEVICE]\n",
    "#md = md.sort_values(by=['rounds'], ascending=False)\n",
    "max_rounds = 10\n",
    "md = md[md[\"rounds\"] == max_rounds]\n",
    "\n",
    "d = max_distance\n",
    "T = int(max_rounds)\n",
    "\n",
    "md = md[:2]\n",
    "\n",
    "md"
   ]
  },
  {
   "cell_type": "code",
   "execution_count": 4,
   "metadata": {},
   "outputs": [],
   "source": [
    "from soft_info import get_repcode_layout, get_KDEs\n",
    "\n",
    "memories = {}\n",
    "for job_id, logical in zip(md.job_id, md.logical):\n",
    "    mmr_name = f\"mmr_log_{logical}\"\n",
    "    memories[mmr_name] = provider.retrieve_job(job_id).result().get_memory()\n",
    "\n",
    "memory = memories[\"mmr_log_0\"][:]\n",
    "\n",
    "layout = get_repcode_layout(distance=max_distance, backend=provider.get_backend(DEVICE), _is_hex=True)\n",
    "kde_dict, scaler_dict = get_KDEs(provider, DEVICE, layout, bandwidths=0.2, plot=False)"
   ]
  },
  {
   "cell_type": "markdown",
   "metadata": {},
   "source": [
    "# Decoding"
   ]
  },
  {
   "cell_type": "code",
   "execution_count": 5,
   "metadata": {},
   "outputs": [],
   "source": [
    "import stim\n",
    "import pymatching\n",
    "\n",
    "\n",
    "\n",
    "circuit = stim.Circuit.generated(\"repetition_code:memory\",\n",
    "                                 distance=d,\n",
    "                                 rounds=T,\n",
    "                                 after_clifford_depolarization=0.1)\n",
    "\n",
    "model = circuit.detector_error_model(decompose_errors=True)\n",
    "matching = pymatching.Matching.from_detector_error_model(model)\n"
   ]
  },
  {
   "cell_type": "code",
   "execution_count": 28,
   "metadata": {},
   "outputs": [
    {
     "name": "stderr",
     "output_type": "stream",
     "text": [
      "  0%|          | 6/10000 [00:00<11:28, 14.52it/s]"
     ]
    },
    {
     "name": "stdout",
     "output_type": "stream",
     "text": [
      "num_errors: 1\n"
     ]
    },
    {
     "name": "stderr",
     "output_type": "stream",
     "text": [
      "  1%|          | 63/10000 [00:04<11:29, 14.41it/s]\n"
     ]
    },
    {
     "ename": "KeyboardInterrupt",
     "evalue": "",
     "output_type": "error",
     "traceback": [
      "\u001b[0;31m---------------------------------------------------------------------------\u001b[0m",
      "\u001b[0;31mKeyboardInterrupt\u001b[0m                         Traceback (most recent call last)",
      "\u001b[1;32m/Users/mha/My Drive/Desktop/Studium/Physik/MSc/Semester 3/IBM/IBM GIT/Soft-Info/notebooks/stim/pymatching/Testing/faster_pm.ipynb Cell 8\u001b[0m line \u001b[0;36m1\n\u001b[1;32m     <a href='vscode-notebook-cell:/Users/mha/My%20Drive/Desktop/Studium/Physik/MSc/Semester%203/IBM/IBM%20GIT/Soft-Info/notebooks/stim/pymatching/Testing/faster_pm.ipynb#X13sZmlsZQ%3D%3D?line=11'>12</a>\u001b[0m i \u001b[39m+\u001b[39m\u001b[39m=\u001b[39m \u001b[39m1\u001b[39m\n\u001b[1;32m     <a href='vscode-notebook-cell:/Users/mha/My%20Drive/Desktop/Studium/Physik/MSc/Semester%203/IBM/IBM%20GIT/Soft-Info/notebooks/stim/pymatching/Testing/faster_pm.ipynb#X13sZmlsZQ%3D%3D?line=12'>13</a>\u001b[0m IQ_data \u001b[39m=\u001b[39m memory[shot]\n\u001b[0;32m---> <a href='vscode-notebook-cell:/Users/mha/My%20Drive/Desktop/Studium/Physik/MSc/Semester%203/IBM/IBM%20GIT/Soft-Info/notebooks/stim/pymatching/Testing/faster_pm.ipynb#X13sZmlsZQ%3D%3D?line=14'>15</a>\u001b[0m counts \u001b[39m=\u001b[39m get_counts([IQ_data], kde_dict, scaler_dict, layout, T, verbose\u001b[39m=\u001b[39;49m\u001b[39mFalse\u001b[39;49;00m)\n\u001b[1;32m     <a href='vscode-notebook-cell:/Users/mha/My%20Drive/Desktop/Studium/Physik/MSc/Semester%203/IBM/IBM%20GIT/Soft-Info/notebooks/stim/pymatching/Testing/faster_pm.ipynb#X13sZmlsZQ%3D%3D?line=15'>16</a>\u001b[0m count_key \u001b[39m=\u001b[39m \u001b[39mnext\u001b[39m(\u001b[39miter\u001b[39m(counts\u001b[39m.\u001b[39mkeys()))\n\u001b[1;32m     <a href='vscode-notebook-cell:/Users/mha/My%20Drive/Desktop/Studium/Physik/MSc/Semester%203/IBM/IBM%20GIT/Soft-Info/notebooks/stim/pymatching/Testing/faster_pm.ipynb#X13sZmlsZQ%3D%3D?line=17'>18</a>\u001b[0m actual_observables \u001b[39m=\u001b[39m [(\u001b[39mint\u001b[39m(count_key[\u001b[39m0\u001b[39m])\u001b[39m+\u001b[39m\u001b[39m0\u001b[39m)\u001b[39m%\u001b[39m\u001b[39m2\u001b[39m]\n",
      "File \u001b[0;32m~/My Drive/Desktop/Studium/Physik/MSc/Semester 3/IBM/IBM GIT/Soft-Info/src/soft_info/UnionFind/probabilities.py:78\u001b[0m, in \u001b[0;36mget_counts\u001b[0;34m(IQ_data, kde_dict, scaler_dict, layout, synd_rounds, verbose)\u001b[0m\n\u001b[1;32m     76\u001b[0m scaler \u001b[39m=\u001b[39m scaler_dict\u001b[39m.\u001b[39mget(qubit_idx, \u001b[39mNone\u001b[39;00m)\n\u001b[1;32m     77\u001b[0m \u001b[39m# returns None if qubit_idx not in dict => normal outcome estimation\u001b[39;00m\n\u001b[0;32m---> 78\u001b[0m outcome_str \u001b[39m+\u001b[39m\u001b[39m=\u001b[39m \u001b[39mstr\u001b[39m(estimate_outcome(IQ_point,\n\u001b[1;32m     79\u001b[0m                    kde_0, kde_1, scaler))\n\u001b[1;32m     81\u001b[0m \u001b[39m# Insert a space for decoder formatting\u001b[39;00m\n\u001b[1;32m     82\u001b[0m \u001b[39mif\u001b[39;00m (idx \u001b[39m+\u001b[39m \u001b[39m1\u001b[39m) \u001b[39m%\u001b[39m (\u001b[39mlen\u001b[39m(layout) \u001b[39m/\u001b[39m\u001b[39m/\u001b[39m \u001b[39m2\u001b[39m) \u001b[39m==\u001b[39m \u001b[39m0\u001b[39m \u001b[39mand\u001b[39;00m (idx \u001b[39m+\u001b[39m \u001b[39m1\u001b[39m) \u001b[39m/\u001b[39m\u001b[39m/\u001b[39m (\u001b[39mlen\u001b[39m(layout) \u001b[39m/\u001b[39m\u001b[39m/\u001b[39m \u001b[39m2\u001b[39m) \u001b[39m<\u001b[39m\u001b[39m=\u001b[39m synd_rounds:\n",
      "File \u001b[0;32m~/My Drive/Desktop/Studium/Physik/MSc/Semester 3/IBM/IBM GIT/Soft-Info/src/soft_info/UnionFind/probabilities.py:38\u001b[0m, in \u001b[0;36mestimate_outcome\u001b[0;34m(IQ_point, kde_0, kde_1, scaler)\u001b[0m\n\u001b[1;32m     33\u001b[0m         \u001b[39mreturn\u001b[39;00m \u001b[39m0\u001b[39m\n\u001b[1;32m     35\u001b[0m scaled_plane_point \u001b[39m=\u001b[39m scaler\u001b[39m.\u001b[39mtransform(\n\u001b[1;32m     36\u001b[0m     [[np\u001b[39m.\u001b[39mreal(IQ_point), np\u001b[39m.\u001b[39mimag(IQ_point)]])\n\u001b[0;32m---> 38\u001b[0m \u001b[39mif\u001b[39;00m kde_0\u001b[39m.\u001b[39mscore_samples(scaled_plane_point) \u001b[39m>\u001b[39m kde_1\u001b[39m.\u001b[39;49mscore_samples(scaled_plane_point):\n\u001b[1;32m     39\u001b[0m     \u001b[39mreturn\u001b[39;00m \u001b[39m0\u001b[39m\n\u001b[1;32m     40\u001b[0m \u001b[39melse\u001b[39;00m:\n",
      "File \u001b[0;32m~/.local/share/virtualenvs/Soft-Info-Sk8aHGSa/lib/python3.11/site-packages/sklearn/neighbors/_kde.py:271\u001b[0m, in \u001b[0;36mKernelDensity.score_samples\u001b[0;34m(self, X)\u001b[0m\n\u001b[1;32m    269\u001b[0m     N \u001b[39m=\u001b[39m \u001b[39mself\u001b[39m\u001b[39m.\u001b[39mtree_\u001b[39m.\u001b[39msum_weight\n\u001b[1;32m    270\u001b[0m atol_N \u001b[39m=\u001b[39m \u001b[39mself\u001b[39m\u001b[39m.\u001b[39matol \u001b[39m*\u001b[39m N\n\u001b[0;32m--> 271\u001b[0m log_density \u001b[39m=\u001b[39m \u001b[39mself\u001b[39;49m\u001b[39m.\u001b[39;49mtree_\u001b[39m.\u001b[39;49mkernel_density(\n\u001b[1;32m    272\u001b[0m     X,\n\u001b[1;32m    273\u001b[0m     h\u001b[39m=\u001b[39;49m\u001b[39mself\u001b[39;49m\u001b[39m.\u001b[39;49mbandwidth_,\n\u001b[1;32m    274\u001b[0m     kernel\u001b[39m=\u001b[39;49m\u001b[39mself\u001b[39;49m\u001b[39m.\u001b[39;49mkernel,\n\u001b[1;32m    275\u001b[0m     atol\u001b[39m=\u001b[39;49matol_N,\n\u001b[1;32m    276\u001b[0m     rtol\u001b[39m=\u001b[39;49m\u001b[39mself\u001b[39;49m\u001b[39m.\u001b[39;49mrtol,\n\u001b[1;32m    277\u001b[0m     breadth_first\u001b[39m=\u001b[39;49m\u001b[39mself\u001b[39;49m\u001b[39m.\u001b[39;49mbreadth_first,\n\u001b[1;32m    278\u001b[0m     return_log\u001b[39m=\u001b[39;49m\u001b[39mTrue\u001b[39;49;00m,\n\u001b[1;32m    279\u001b[0m )\n\u001b[1;32m    280\u001b[0m log_density \u001b[39m-\u001b[39m\u001b[39m=\u001b[39m np\u001b[39m.\u001b[39mlog(N)\n\u001b[1;32m    281\u001b[0m \u001b[39mreturn\u001b[39;00m log_density\n",
      "\u001b[0;31mKeyboardInterrupt\u001b[0m: "
     ]
    }
   ],
   "source": [
    "from tqdm import tqdm\n",
    "from soft_info import  soft_reweight_pymatching, counts_to_det_syndr, draw_matching_graph, reweight_edges_to_one, get_counts\n",
    "\n",
    "VERBOSE = False\n",
    "\n",
    "#actual_observables = np.array([[False]]) # hardcoded, can be retrieved\n",
    "num_errors = 0\n",
    "\n",
    "i = 0\n",
    "w_idx_lst = []\n",
    "for shot in tqdm(range(len(memory))[:]):\n",
    "    i += 1\n",
    "    IQ_data = memory[shot]\n",
    "\n",
    "    counts = get_counts([IQ_data], kde_dict, scaler_dict, layout, T, verbose=False)\n",
    "    count_key = next(iter(counts.keys()))\n",
    "    \n",
    "    actual_observables = [(int(count_key[0])+0)%2]\n",
    "    #soft_reweight_pymatching(matching, d, T, IQ_data, kde_dict, layout, scaler_dict, common_measure=0.01, verbose=False)  \n",
    "    #reweight_edges_to_one(matching)\n",
    "\n",
    "    array_processed_string = counts_to_det_syndr(count_key, _resets=False, verbose=False)\n",
    "\n",
    "    predicted_observables = matching.decode(array_processed_string)\n",
    "\n",
    "    if predicted_observables == actual_observables: #== [0]:\n",
    "        continue\n",
    "    num_errors += 1\n",
    "    #print(\"actual_observables:\", actual_observables)\n",
    "    #print(\"predicted_observables:\", predicted_observables)\n",
    "    print(\"num_errors:\", num_errors)\n",
    "\n",
    "    #print(f\"Wrong decoding at index {i}\")\n",
    "    w_idx_lst.append(i)\n",
    "\n",
    "    \n",
    "    if VERBOSE:\n",
    "        print(\"Count key:\", count_key)\n",
    "        print(\"count_string_to_syndromes:\", array_processed_string)\n",
    "        print(\"actual_observables:\", actual_observables)\n",
    "        print(\"predicted_observables:\", predicted_observables)\n",
    "\n",
    "    \n",
    "    if VERBOSE:\n",
    "        matched_edges = matching.decode_to_edges_array(array_processed_string)\n",
    "        print(\"matched_edges: \", matched_edges)\n",
    "        print(\"Estimated flip:\", predicted_observables)\n",
    "        \n",
    "    if VERBOSE:\n",
    "        draw_matching_graph(matching, d, T, syndromes=array_processed_string, matched_edges=matched_edges, figsize=(10, 10))\n",
    "\n",
    "\n",
    "    \n",
    "\n",
    "print(\"Num errors:\", num_errors)"
   ]
  },
  {
   "cell_type": "code",
   "execution_count": null,
   "metadata": {},
   "outputs": [],
   "source": []
  },
  {
   "cell_type": "code",
   "execution_count": null,
   "metadata": {},
   "outputs": [],
   "source": []
  }
 ],
 "metadata": {
  "kernelspec": {
   "display_name": "Soft-Info-Sk8aHGSa",
   "language": "python",
   "name": "python3"
  },
  "language_info": {
   "codemirror_mode": {
    "name": "ipython",
    "version": 3
   },
   "file_extension": ".py",
   "mimetype": "text/x-python",
   "name": "python",
   "nbconvert_exporter": "python",
   "pygments_lexer": "ipython3",
   "version": "3.11.4"
  }
 },
 "nbformat": 4,
 "nbformat_minor": 2
}
