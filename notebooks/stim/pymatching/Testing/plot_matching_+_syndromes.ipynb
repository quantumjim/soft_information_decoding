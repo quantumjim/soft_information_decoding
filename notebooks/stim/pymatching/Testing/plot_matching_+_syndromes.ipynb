{
 "cells": [
  {
   "cell_type": "code",
<<<<<<< HEAD
   "execution_count": 1,
=======
   "execution_count": 8,
>>>>>>> d2b35389ff7ac37e03f243528df0717ad80537d9
   "metadata": {},
   "outputs": [],
   "source": [
    "%reload_ext autoreload\n",
    "%autoreload 2"
   ]
  },
  {
   "cell_type": "code",
<<<<<<< HEAD
   "execution_count": 2,
=======
   "execution_count": 9,
>>>>>>> d2b35389ff7ac37e03f243528df0717ad80537d9
   "metadata": {},
   "outputs": [],
   "source": [
    "import numpy as np\n",
    "import stim\n",
    "import pymatching\n",
    "\n",
    "# Code parameters\n",
    "d=3\n",
    "T=3\n",
    "layout = [25, 19, 26, 22, 16] # Hardcoded for testing purposes, can be retrieved\n",
    "\n",
    "\n",
    "circuit = stim.Circuit.generated(\"repetition_code:memory\",\n",
    "                                 distance=d,\n",
    "                                 rounds=T,\n",
    "                                 after_clifford_depolarization=0.1)\n",
    "\n",
    "model = circuit.detector_error_model(decompose_errors=True)\n",
    "matching = pymatching.Matching.from_detector_error_model(model)\n",
    "\n",
    "#draw_matching_graph(matching, d, T)"
   ]
  },
  {
   "cell_type": "code",
<<<<<<< HEAD
   "execution_count": 3,
=======
   "execution_count": 10,
>>>>>>> d2b35389ff7ac37e03f243528df0717ad80537d9
   "metadata": {},
   "outputs": [],
   "source": [
    "from result_saver import SaverProvider\n",
    "from soft_info import get_counts, get_KDEs\n",
    "provider = SaverProvider()\n",
    "\n",
    "\n",
    "job = provider.retrieve_job(\"cmyhbrqrmwhg008bs4h0\")\n",
    "memory = job.result().get_memory()\n",
    "\n",
    "kde_dict, scaler_dict = get_KDEs(provider, 'ibmq_mumbai', layout, bandwidths=0.2, plot=False)\n"
   ]
  },
  {
   "cell_type": "markdown",
   "metadata": {},
   "source": [
    "# Plot node order"
   ]
  },
  {
   "cell_type": "code",
<<<<<<< HEAD
   "execution_count": 4,
=======
   "execution_count": 15,
>>>>>>> d2b35389ff7ac37e03f243528df0717ad80537d9
   "metadata": {},
   "outputs": [
    {
     "data": {
      "image/png": "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",
      "text/plain": [
       "<Figure size 600x600 with 1 Axes>"
      ]
     },
     "metadata": {},
     "output_type": "display_data"
    }
   ],
   "source": [
    "import matplotlib.pyplot as plt\n",
    "import networkx as nx\n",
    "\n",
    "def draw_matching_graph(matching, d, T, syndromes=None, matched_edges=None, figsize=(8, 6)):\n",
    "    \n",
    "    matched_edges = matched_edges.tolist() if matched_edges is not None else None\n",
    "\n",
    "    G = nx.Graph()\n",
    "    pos = {}\n",
    "    edge_colors = []\n",
    "    edge_widths = []\n",
    "    node_colors = []\n",
    "\n",
    "    # Define normal and highlighted edge widths\n",
    "    normal_edge_width = 1\n",
    "    highlighted_edge_width = 3\n",
    "\n",
    "    # Add all nodes to the graph with their positions and initial colors\n",
    "    for i in range((d-1)*(T+1)):\n",
    "        x_pos = i % (d-1)\n",
    "        y_pos = i // (d-1)\n",
    "        G.add_node(i)  # Explicitly add the node\n",
    "        pos[i] = (x_pos, -y_pos)\n",
    "        if syndromes is not None and syndromes[i] == 1:\n",
    "            node_colors.append('red')\n",
    "        else:\n",
    "            node_colors.append('skyblue')\n",
    "    \n",
    "    # Add edges to the graph\n",
    "    for edge in matching.edges():\n",
    "        src_node, tgt_node, edge_data = edge\n",
    "        if tgt_node is not None:\n",
    "            G.add_edge(src_node, tgt_node, weight=edge_data['weight'])\n",
    "            if matched_edges is not None and ([src_node, tgt_node] in matched_edges or [tgt_node, src_node] in matched_edges):\n",
    "                edge_colors.append('blue')\n",
    "                edge_widths.append(highlighted_edge_width)\n",
    "            else:\n",
    "                edge_colors.append('black')\n",
    "                edge_widths.append(normal_edge_width)\n",
    "        else:\n",
    "            # Handle dangling edges\n",
    "            pass  # Your existing logic for dangling edges can be included here\n",
    "    \n",
    "    # Draw the graph\n",
    "    plt.figure(figsize=figsize)\n",
    "    nx.draw(G, pos, labels={node: node for node in G.nodes()}, with_labels=True, \n",
    "            node_color=node_colors, edge_color=edge_colors, width=edge_widths, \n",
    "            font_weight='bold', node_size=500, font_size=12)\n",
    "\n",
    "    # Draw edge weights\n",
    "    edge_weights = nx.get_edge_attributes(G, 'weight')\n",
    "    edge_labels = {edge: f\"{weight:.2f}\" for edge, weight in edge_weights.items()}\n",
    "    nx.draw_networkx_edge_labels(G, pos, edge_labels=edge_labels)\n",
    "\n",
    "    for edge in matching.edges():\n",
    "        src_node, tgt_node, edge_data = edge\n",
    "        if tgt_node is None:\n",
    "            x_src = src_node % (d-1)\n",
    "            y_src = src_node // (d-1)\n",
    "            if [src_node, -1] in matched_edges or [-1, src_node] in matched_edges:\n",
    "                color = 'orange'\n",
    "                lw = highlighted_edge_width\n",
    "            else:\n",
    "                color = 'r' if edge_data.get('fault_ids') else 'k'\n",
    "                lw = normal_edge_width\n",
    "            weight_text = f\"{edge_data['weight']:.2f}\" if 'weight' in edge_data else \"\"\n",
    "            if x_src == 0:\n",
    "                plt.plot([x_src, x_src - 0.5], [-y_src, -y_src], color=color, lw=lw)\n",
    "                plt.text(x_src - 0.45, -y_src + 0.03, weight_text, fontsize=10)\n",
    "            elif x_src == d - 2:\n",
    "                plt.plot([x_src, x_src + 0.5], [-y_src, -y_src], color=color, lw=lw)\n",
    "                plt.text(x_src + 0.2, -y_src + 0.03, weight_text, fontsize=10)\n",
    "\n",
    "    nx.draw_networkx_nodes(G, pos, node_color=node_colors, node_size=500)\n",
    "\n",
    "    plt.axis('scaled')\n",
    "    plt.show()\n",
    "\n",
    "# Example usage\n",
    "syndrome = [0]*0 + [1]*2 + [0]*100\n",
    "matched_edges = np.array([[0,1], [1,-1]])\n",
    "draw_matching_graph(matching, d, T, syndromes=syndrome, matched_edges=matched_edges, figsize=(6, 6))\n"
   ]
  },
  {
   "cell_type": "code",
   "execution_count": 17,
   "metadata": {},
   "outputs": [
    {
     "data": {
      "image/png": "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",
      "text/plain": [
       "<Figure size 600x600 with 1 Axes>"
      ]
     },
     "metadata": {},
     "output_type": "display_data"
    }
   ],
   "source": [
    "from soft_info import soft_reweight_pymatching\n",
    "\n",
    "shot = 0\n",
    "\n",
    "IQ_data = memory[shot]\n",
    "counts = get_counts([IQ_data], kde_dict, scaler_dict, layout, T, verbose=False)\n",
    "count_key = next(iter(counts.keys()))\n",
    "\n",
    "soft_reweight_pymatching(matching, d, T, IQ_data, kde_dict, layout, scaler_dict, common_measure=0.01, verbose=False)  \n",
    "\n",
    "syndrome = [0]*0 + [1]*2 + [0]*100\n",
    "matched_edges = np.array([[0,1], [1,-1]])\n",
    "draw_matching_graph(matching, d, T, syndromes=syndrome, matched_edges=matched_edges, figsize=(6, 6))"
   ]
  },
  {
   "cell_type": "markdown",
   "metadata": {},
   "source": [
    "# Plot syndromes"
   ]
  },
  {
   "cell_type": "code",
   "execution_count": 22,
   "metadata": {},
   "outputs": [
    {
     "name": "stderr",
     "output_type": "stream",
     "text": [
      "100%|██████████| 1000/1000 [01:03<00:00, 15.67it/s]"
     ]
    },
    {
     "name": "stdout",
     "output_type": "stream",
     "text": [
      "Num errors: 26\n"
     ]
    },
    {
     "name": "stderr",
     "output_type": "stream",
     "text": [
      "\n"
     ]
    }
   ],
   "source": [
    "from tqdm import tqdm\n",
    "\n",
    "from soft_info import counts_to_det_syndr, reweight_edges_to_one\n",
    "\n",
    "VERBOSE = False\n",
    "\n",
    "actual_observables = np.array([[False]]) # hardcoded, can be retrieved\n",
    "num_errors = 0\n",
    "\n",
    "i = 0\n",
    "w_idx_lst = []\n",
    "for shot in tqdm(range(len(memory))[:]):\n",
    "    i += 1\n",
    "    IQ_data = memory[shot]\n",
    "\n",
    "    counts = get_counts([IQ_data], kde_dict, scaler_dict, layout, T, verbose=False)\n",
    "    count_key = next(iter(counts.keys()))\n",
    "\n",
    "    if count_key == '000 00 00 00':\n",
    "        #print(\"Skipping all zeros\")\n",
    "        continue    \n",
    "\n",
    "    soft_reweight_pymatching(matching, d, T, IQ_data, kde_dict, layout, scaler_dict, common_measure=0.1, verbose=False)  \n",
    "    #reweight_edges_to_one(matching)\n",
    "\n",
    "    array_processed_string = counts_to_det_syndr(count_key, verbose=False)\n",
    "\n",
    "    predicted_observables = matching.decode(array_processed_string)\n",
    "\n",
    "\n",
    "\n",
    "    if predicted_observables == [0]:\n",
    "        continue\n",
    "    \n",
    "    #print(f\"Wrong decoding at index {i}\")\n",
    "    w_idx_lst.append(i)\n",
    "\n",
    "    \n",
    "    if VERBOSE:\n",
    "        print(\"Count key:\", count_key)\n",
    "        print(\"count str to syndromes:\", array_processed_string)\n",
    "\n",
    "\n",
    "    if VERBOSE:\n",
    "        matched_edges = matching.decode_to_edges_array(array_processed_string)\n",
    "        print(\"matched_edges: \", matched_edges)\n",
    "        print(\"Estimated flip:\", predicted_observables)\n",
    "    \n",
    "\n",
    "    if VERBOSE:\n",
    "        draw_matching_graph(matching, d, T, syndromes=array_processed_string, matched_edges=matched_edges, figsize=(6, 6))\n",
    "\n",
    "    num_errors += not np.array_equal(actual_observables[0, :], predicted_observables) # 0 can be changed to i if multiple observables and multiple syndromes per ovbservable\n",
    "\n",
    "print(\"Num errors:\", num_errors)"
   ]
  },
  {
   "cell_type": "markdown",
   "metadata": {},
   "source": [
    "# Counts to Detector syndromes"
   ]
  },
  {
   "cell_type": "code",
   "execution_count": 6,
   "metadata": {},
   "outputs": [
    {
     "name": "stdout",
     "output_type": "stream",
     "text": [
      "Reversed str: 001 100 101 1001\n",
      "Count str: 1001\n",
      "XOR result: 101\n",
      "First part: 001100101\n",
      "Numpy list: [0 0 1 1 0 0 1 0 1 1 0 1]\n",
      "\n",
      "\n",
      "Reversed str: 001 100 101 1001\n",
      "Count str: 1001\n",
      "Check str: ['001', '100', '101']\n",
      "Number of measurement rounds (T): 3\n",
      "XOR result: 101\n",
      "Detector str part 1: 001\n",
      "Detector str part 2: 101\n",
      "Detector str part 3: 001\n",
      "Detector str part 4: 000\n",
      "Numpy list: [0 0 1 1 0 1 0 0 1 0 0 0]\n"
     ]
    },
    {
     "data": {
      "text/plain": [
       "array([0, 0, 1, 1, 0, 1, 0, 0, 1, 0, 0, 0])"
      ]
     },
     "execution_count": 6,
     "metadata": {},
     "output_type": "execute_result"
    }
   ],
   "source": [
    "import numpy as np\n",
    "\n",
    "def count_string_to_syndromes(input_str, verbose=False):\n",
    "    reversed_str = input_str[::-1]\n",
    "    if verbose:\n",
    "        print(\"Reversed str:\", reversed_str)\n",
    "\n",
    "    last_part = reversed_str.split(\" \")[-1]\n",
    "    if verbose:\n",
    "        print(\"Count str:\", last_part)\n",
    "\n",
    "    xor_result = ''.join([str((int(last_part[i]) + int(last_part[i + 1])) % 2) for i in range(len(last_part) - 1)])\n",
    "    if verbose:\n",
    "        print(\"XOR result:\", xor_result)\n",
    "\n",
    "    first_part = ''.join(reversed_str.split(\" \")[:-1])\n",
    "    if verbose:\n",
    "        print(\"First part:\", first_part)\n",
    "        \n",
    "    numpy_list = np.array([int(bit) for bit in first_part]+ [int(bit) for bit in xor_result])\n",
    "    if verbose:\n",
    "        print(\"Numpy list:\", numpy_list)\n",
    "    \n",
    "    return numpy_list\n",
    "\n",
    "def count_string_to_detector_syndromes(input_str, verbose=False):\n",
    "    # Step 1: Reverse the input string\n",
    "    reversed_str = input_str[::-1]\n",
    "    if verbose:\n",
    "        print(\"Reversed str:\", reversed_str)\n",
    "\n",
    "    # Step 2: Separate the count string\n",
    "    split_str = reversed_str.split(\" \")\n",
    "    count_str = split_str[-1]\n",
    "    check_str = split_str[:-1]\n",
    "    \n",
    "    # The number of measurement rounds T is the number of parts in the check_str\n",
    "    T = len(check_str)\n",
    "    \n",
    "    if verbose:\n",
    "        print(\"Count str:\", count_str)\n",
    "        print(\"Check str:\", check_str)\n",
    "        print(\"Number of measurement rounds (T):\", T)\n",
    "    \n",
    "    # Step 3: Separate the check_str into T parts\n",
    "    check_str_parts = [''.join(check_str[i::T]) for i in range(T)]\n",
    "    \n",
    "    # Step 4: Initialize detector string list with T+1 empty strings\n",
    "    detector_str_parts = [''] * (T+1)\n",
    "    \n",
    "    # Step 5: Set the first part of the detector string\n",
    "    detector_str_parts[0] = check_str_parts[0]\n",
    "    \n",
    "    # Step 6: Compute parts 2 to T of the detector string\n",
    "    for i in range(1, T):\n",
    "        detector_str_parts[i] = ''.join(\n",
    "            str((int(check_str_parts[i-1][j]) + int(check_str_parts[i][j])) % 2) \n",
    "            for j in range(len(check_str_parts[i]))\n",
    "        )\n",
    "    \n",
    "    # Step 7: Compute the XOR string from the count string\n",
    "    xor_result = ''.join(\n",
    "        str((int(count_str[i]) + int(count_str[i + 1])) % 2) \n",
    "        for i in range(len(count_str) - 1)\n",
    "    )\n",
    "    if verbose:\n",
    "        print(\"XOR result:\", xor_result)\n",
    "    \n",
    "    # Compute the (T+1)th part of the detector string\n",
    "    detector_str_parts[T] = ''.join(\n",
    "        str((int(xor_result[j]) + int(check_str_parts[T-1][j])) % 2) \n",
    "        for j in range(len(xor_result))\n",
    "    )\n",
    "    \n",
    "    if verbose:\n",
    "        for i, part in enumerate(detector_str_parts, start=1):\n",
    "            print(f\"Detector str part {i}:\", part)\n",
    "    \n",
    "    # Convert detector string parts to a single numpy array\n",
    "    numpy_list = np.array([int(bit) for part in detector_str_parts for bit in part])\n",
    "    \n",
    "    if verbose:\n",
    "        print(\"Numpy list:\", numpy_list)\n",
    "    \n",
    "    return numpy_list\n",
    "\n",
    "\n",
    "\n",
    "\n",
    "counts = \"1001 101 001 100\"\n",
    "count_string_to_syndromes(counts, verbose=True)\n",
    "print(\"\\n\")\n",
    "count_string_to_detector_syndromes(counts, verbose=True)"
   ]
  }
 ],
 "metadata": {
  "kernelspec": {
   "display_name": "Soft-Info-Sk8aHGSa",
   "language": "python",
   "name": "python3"
  },
  "language_info": {
   "codemirror_mode": {
    "name": "ipython",
    "version": 3
   },
   "file_extension": ".py",
   "mimetype": "text/x-python",
   "name": "python",
   "nbconvert_exporter": "python",
   "pygments_lexer": "ipython3",
   "version": "3.11.4"
  }
 },
 "nbformat": 4,
 "nbformat_minor": 2
}
