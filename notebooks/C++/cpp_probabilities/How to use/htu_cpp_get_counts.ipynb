{
 "cells": [
  {
   "cell_type": "code",
   "execution_count": 1,
   "metadata": {},
   "outputs": [],
   "source": [
    "%reload_ext autoreload\n",
    "%autoreload 2\n"
   ]
  },
  {
   "cell_type": "code",
   "execution_count": 2,
   "metadata": {},
   "outputs": [],
   "source": [
    "import sys\n",
    "sys.path.insert(0, r'/Users/mha/My Drive/Desktop/Studium/Physik/MSc/Semester 3/IBM/IBM GIT/Soft-Info/build')\n",
    "\n",
    "import numpy as np\n",
    "\n",
    "import cpp_probabilities"
   ]
  },
  {
   "cell_type": "markdown",
   "metadata": {},
   "source": [
    "## Load data"
   ]
  },
  {
   "cell_type": "code",
   "execution_count": 3,
   "metadata": {},
   "outputs": [
    {
     "name": "stdout",
     "output_type": "stream",
     "text": [
      "(1000, 9)\n"
     ]
    }
   ],
   "source": [
    "from result_saver import SaverProvider\n",
    "provider = SaverProvider()\n",
    "backend = provider.get_backend('ibmq_mumbai') \n",
    "job = provider.retrieve_job(\"cmyhbrqrmwhg008bs4h0\") # Mumbai job\n",
    "# job = provider.retrieve_job(\"cn6g47862r90008810pg\") # Sherbrooke job\n",
    "memory = job.result().get_memory()\n",
    "\n",
    "print(memory.shape)\n"
   ]
  },
  {
   "cell_type": "code",
   "execution_count": 6,
   "metadata": {},
   "outputs": [
    {
     "name": "stdout",
     "output_type": "stream",
     "text": [
      "Generating the qubit mapping...\n"
     ]
    }
   ],
   "source": [
    "from soft_info import get_KDEs, get_repcode_layout, get_repcode_IQ_map\n",
    "\n",
    "## Mumbai\n",
    "layout = [25, 19, 26, 22, 16] # To implement: into scratch job_data\n",
    "kde_dict, scaler_dict = get_KDEs(provider, 'ibmq_mumbai', list(range(27)), bandwidths=0.2, plot=False)\n",
    "synd_rounds = 3\n",
    "\n",
    "## Sherbrooke\n",
    "# layout = get_repcode_layout(30, provider.get_backend('ibm_sherbrooke') )\n",
    "# kde_dict, scaler_dict = get_KDEs(provider, 'ibm_sherbrooke', list(range(127)), bandwidths=0.2, plot=False)\n",
    "# synd_rounds = 35\n",
    "\n",
    "print(\"Generating the qubit mapping...\")\n",
    "qubit_mapping = get_repcode_IQ_map(layout, synd_rounds) #Hardcoded for repetition codes"
   ]
  },
  {
   "cell_type": "markdown",
   "metadata": {},
   "source": [
    "# Rescale cpp"
   ]
  },
  {
   "cell_type": "code",
   "execution_count": 7,
   "metadata": {},
   "outputs": [],
   "source": [
    "# GENERATE GRID DATA\n",
    "\n",
    "import numpy as np\n",
    "\n",
    "grid_dict = {}\n",
    "num_points = 10\n",
    "for qubit_idx, (kde_0, kde_1) in kde_dict.items():\n",
    "    scaler = scaler_dict[qubit_idx]\n",
    "\n",
    "    # Retrieve the dataset for this qubit and split into real and imaginary parts\n",
    "    data = np.array(memory[0])  # TODO change that: Retrieving data from memory 0 to get the min and max values\n",
    "    data_real_imag = np.column_stack([np.real(data), np.imag(data)])\n",
    "\n",
    "    # Scale data\n",
    "    scaled_data = scaler.transform(data_real_imag)\n",
    "\n",
    "    # Create grid\n",
    "    grid_x, grid_y = np.linspace(scaled_data[:, 0].min() - 1, scaled_data[:, 0].max() + 1, num_points), \\\n",
    "                     np.linspace(scaled_data[:, 1].min() - 1, scaled_data[:, 1].max() + 1, num_points)\n",
    "    grid_x, grid_y = np.meshgrid(grid_x, grid_y)\n",
    "    grid_points = np.vstack([grid_x.ravel(), grid_y.ravel()]).T\n",
    "\n",
    "    # Evaluate KDE on the grid for both states\n",
    "    grid_density_0 = (kde_0.score_samples(grid_points)).reshape(grid_x.shape)\n",
    "    grid_density_1 = (kde_1.score_samples(grid_points)).reshape(grid_x.shape)\n",
    "    \n",
    "    # Create an instance of GridData and store in dictionary\n",
    "    grid_dict[qubit_idx] = cpp_probabilities.GridData(grid_x, grid_y, grid_density_0, grid_density_1)"
   ]
  },
  {
   "cell_type": "code",
   "execution_count": 8,
   "metadata": {},
   "outputs": [
    {
     "data": {
      "text/plain": [
       "[('000 00 00 00', 857),\n",
       " ('000 01 00 00', 18),\n",
       " ('000 00 01 00', 11),\n",
       " ('000 01 01 01', 11),\n",
       " ('000 10 10 10', 11),\n",
       " ('001 00 00 00', 8),\n",
       " ('100 00 10 00', 8),\n",
       " ('100 10 00 10', 7),\n",
       " ('000 10 00 00', 6),\n",
       " ('000 10 10 00', 6),\n",
       " ('001 01 00 01', 5),\n",
       " ('010 11 00 11', 5),\n",
       " ('000 00 00 01', 4),\n",
       " ('001 00 01 00', 4),\n",
       " ('001 01 00 00', 4),\n",
       " ('100 10 00 00', 4),\n",
       " ('000 00 10 00', 3),\n",
       " ('010 00 00 00', 3),\n",
       " ('100 00 00 00', 3),\n",
       " ('000 00 10 10', 2),\n",
       " ('000 01 01 00', 2),\n",
       " ('000 10 00 10', 2),\n",
       " ('000 00 00 10', 1),\n",
       " ('000 11 01 01', 1),\n",
       " ('000 11 11 10', 1),\n",
       " ('001 01 01 00', 1),\n",
       " ('001 01 01 01', 1),\n",
       " ('001 10 10 00', 1),\n",
       " ('001 11 10 10', 1),\n",
       " ('010 00 11 00', 1),\n",
       " ('010 01 00 11', 1),\n",
       " ('010 01 10 01', 1),\n",
       " ('010 10 00 00', 1),\n",
       " ('010 10 01 00', 1),\n",
       " ('010 11 00 00', 1),\n",
       " ('010 11 01 00', 1),\n",
       " ('100 00 10 01', 1),\n",
       " ('100 10 10 00', 1)]"
      ]
     },
     "execution_count": 8,
     "metadata": {},
     "output_type": "execute_result"
    }
   ],
   "source": [
    "from cpp import process_scaler_dict\n",
    "\n",
    "\n",
    "processed_scaler_dict = process_scaler_dict(scaler_dict)\n",
    "\n",
    "counts = cpp_probabilities.get_counts(memory, qubit_mapping, grid_dict, processed_scaler_dict, synd_rounds)\n",
    "(sorted(counts.items(), key=lambda x: x[1], reverse=True))"
   ]
  }
 ],
 "metadata": {
  "kernelspec": {
   "display_name": "Soft-Info-Sk8aHGSa",
   "language": "python",
   "name": "python3"
  },
  "language_info": {
   "codemirror_mode": {
    "name": "ipython",
    "version": 3
   },
   "file_extension": ".py",
   "mimetype": "text/x-python",
   "name": "python",
   "nbconvert_exporter": "python",
   "pygments_lexer": "ipython3",
   "version": "3.11.4"
  }
 },
 "nbformat": 4,
 "nbformat_minor": 2
}
