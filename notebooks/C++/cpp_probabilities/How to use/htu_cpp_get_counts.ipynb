{
 "cells": [
  {
   "cell_type": "code",
   "execution_count": 4,
   "metadata": {},
   "outputs": [],
   "source": [
    "%reload_ext autoreload\n",
    "%autoreload 2\n"
   ]
  },
  {
   "cell_type": "code",
   "execution_count": 5,
   "metadata": {},
   "outputs": [],
   "source": [
    "import sys\n",
    "sys.path.insert(0, r'/Users/mha/My Drive/Desktop/Studium/Physik/MSc/Semester 3/IBM/IBM GIT/Soft-Info/build')\n",
    "\n",
    "import numpy as np\n",
    "\n",
    "import cpp_probabilities"
   ]
  },
  {
   "cell_type": "code",
   "execution_count": 6,
   "metadata": {},
   "outputs": [
    {
     "name": "stdout",
     "output_type": "stream",
     "text": [
      "(952, 1045)\n"
     ]
    }
   ],
   "source": [
    "from result_saver import SaverProvider\n",
    "provider = SaverProvider()\n",
    "backend = provider.get_backend('ibmq_mumbai')\n",
    "# job = provider.retrieve_job(\"cmyhbrqrmwhg008bs4h0\")\n",
    "job = provider.retrieve_job(\"cn6g47862r90008810pg\")\n",
    "memory = job.result().get_memory()\n",
    "\n",
    "print(memory.shape)"
   ]
  },
  {
   "cell_type": "code",
   "execution_count": 7,
   "metadata": {},
   "outputs": [],
   "source": [
    "from soft_info import get_KDEs, get_repcode_layout\n",
    "\n",
    "# layout = [25, 19, 26, 22, 16] # To implement: into scratch job_data\n",
    "layout = get_repcode_layout(30, provider.get_backend('ibm_sherbrooke') )\n",
    "kde_dict, scaler_dict = get_KDEs(provider, 'ibm_sherbrooke', list(range(127)), bandwidths=0.2, plot=False)\n",
    "# kde_dict, scaler_dict = get_KDEs(provider, 'ibmq_mumbai', list(range(27)), bandwidths=0.2, plot=False)"
   ]
  },
  {
   "cell_type": "markdown",
   "metadata": {},
   "source": [
    "# New get counts\n"
   ]
  },
  {
   "cell_type": "code",
   "execution_count": null,
   "metadata": {},
   "outputs": [],
   "source": []
  },
  {
   "cell_type": "markdown",
   "metadata": {},
   "source": [
    "# Old get counts"
   ]
  },
  {
   "cell_type": "code",
   "execution_count": null,
   "metadata": {},
   "outputs": [
    {
     "name": "stdout",
     "output_type": "stream",
     "text": [
      "16:12:50 Warning: Missing layout or synd_rounds, estimating outcomes without KDEs.. IN FILE: /Users/mha/My Drive/Desktop/Studium/Physik/MSc/Semester 3/IBM/IBM GIT/Soft-Info/src/soft_info/Probabilities/probabilities.py, LINE: 67\n",
      "16:12:50 Warning: Not enough kernels or no scaler provided. Using the magnitude of the real part for estimation... IN FILE: /Users/mha/My Drive/Desktop/Studium/Physik/MSc/Semester 3/IBM/IBM GIT/Soft-Info/src/soft_info/Probabilities/probabilities.py, LINE: 28\n",
      "{'000000000': 622, '000100000': 95, '000000010': 65, '000001000': 61, '000101000': 20, '000101010': 15, '000100010': 12, '000001010': 9, '001000000': 9, '000010101': 7, '010000000': 6, '010110011': 5, '100101000': 5, '100100010': 5, '000010000': 5, '000000100': 5, '100001000': 5, '001000100': 4, '001010001': 3, '001010000': 3, '100100000': 3, '010100100': 2, '000110101': 2, '000000110': 2, '100101010': 2, '100000000': 2, '100001010': 2, '001011000': 2, '000011000': 2, '000010100': 2, '010110010': 1, '010011011': 1, '001010101': 1, '000011101': 1, '010011001': 1, '000100100': 1, '001101000': 1, '001001000': 1, '010001100': 1, '000110111': 1, '000010010': 1, '001010100': 1, '001100000': 1, '000010001': 1, '010101000': 1, '001110001': 1, '010100010': 1, '001111010': 1}\n"
     ]
    }
   ],
   "source": [
    "from soft_info import get_counts\n",
    "\n",
    "counts_default = get_counts(memory)\n",
    "print(counts_default)"
   ]
  },
  {
   "cell_type": "code",
   "execution_count": null,
   "metadata": {},
   "outputs": [
    {
     "name": "stderr",
     "output_type": "stream",
     "text": [
      "Processing 1000 shots: 100%|██████████| 1000/1000 [00:53<00:00, 18.71it/s]"
     ]
    },
    {
     "name": "stdout",
     "output_type": "stream",
     "text": [
      "{'000 00 00 00': 870, '000 01 00 00': 14, '000 10 10 10': 11, '000 01 01 01': 10, '000 00 01 00': 9, '100 00 10 00': 8, '100 10 00 10': 7, '000 10 00 00': 7, '000 10 10 00': 6, '010 11 00 11': 5, '001 00 00 00': 5, '001 01 00 01': 4, '001 01 00 00': 4, '001 00 01 00': 4, '100 10 00 00': 4, '100 00 00 00': 3, '000 00 10 00': 3, '000 10 00 10': 2, '000 00 10 10': 2, '000 01 01 00': 2, '010 11 01 00': 1, '010 00 00 00': 1, '010 11 00 00': 1, '010 01 00 11': 1, '001 01 01 01': 1, '010 01 10 01': 1, '010 10 01 00': 1, '001 10 10 00': 1, '000 00 00 01': 1, '010 00 11 00': 1, '000 10 11 10': 1, '000 11 01 01': 1, '100 00 10 10': 1, '001 01 10 00': 1, '001 01 01 00': 1, '000 00 00 10': 1, '000 01 00 01': 1, '010 10 00 00': 1, '001 11 10 10': 1, '100 10 10 00': 1}\n"
     ]
    },
    {
     "name": "stderr",
     "output_type": "stream",
     "text": [
      "\n"
     ]
    }
   ],
   "source": [
    "from soft_info import get_KDEs, get_repcode_layout\n",
    "\n",
    "counts_kde = get_counts(memory, kde_dict, scaler_dict, layout, 3, verbose=True)\n",
    "#counts_kde = get_counts(memory, kde_dict, scaler_dict, layout, 35, verbose=True) # hardcoded num of rounds can be retrieved from metadata\n",
    "print(counts_kde)"
   ]
  }
 ],
 "metadata": {
  "kernelspec": {
   "display_name": "Soft-Info-Sk8aHGSa",
   "language": "python",
   "name": "python3"
  },
  "language_info": {
   "codemirror_mode": {
    "name": "ipython",
    "version": 3
   },
   "file_extension": ".py",
   "mimetype": "text/x-python",
   "name": "python",
   "nbconvert_exporter": "python",
   "pygments_lexer": "ipython3",
   "version": "3.11.4"
  }
 },
 "nbformat": 4,
 "nbformat_minor": 2
}
