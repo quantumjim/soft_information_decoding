{
 "cells": [
  {
   "cell_type": "code",
   "execution_count": 1,
   "metadata": {},
   "outputs": [],
   "source": [
    "import sys\n",
    "sys.path.insert(0, r'/Users/mha/My Drive/Desktop/Studium/Physik/MSc/Semester 3/IBM/IBM GIT/Soft-Info/build')\n",
    "\n",
    "import numpy as np\n",
    "\n",
    "import cpp_probabilities"
   ]
  },
  {
   "cell_type": "markdown",
   "metadata": {},
   "source": [
    "# Basic testing"
   ]
  },
  {
   "cell_type": "code",
   "execution_count": 26,
   "metadata": {},
   "outputs": [
    {
     "name": "stdout",
     "output_type": "stream",
     "text": [
      "{0: 1, 1: 1, 2: 0, 3: 1, 4: 1, 5: 0, 6: 1, 7: 0, 8: 0}\n"
     ]
    }
   ],
   "source": [
    "import random\n",
    "\n",
    "# Assuming you have some function to create your grid data\n",
    "def create_your_grid_data(num_points):\n",
    "    # Replace this with your actual grid data creation logic\n",
    "    grid_x, grid_y = np.meshgrid(np.linspace(0, 1, num_points), np.linspace(0, 1, num_points))\n",
    "    grid_density_0 = np.random.rand(num_points, num_points)  # Placeholder values\n",
    "    grid_density_1 = np.random.rand(num_points, num_points)  # Placeholder values\n",
    "    return grid_x, grid_y, grid_density_0, grid_density_1\n",
    "\n",
    "def create_specific_grid_data(num_points):\n",
    "    # Create a meshgrid\n",
    "    grid_x, grid_y = np.meshgrid(np.linspace(0, 1, num_points), np.linspace(0, 1, num_points))\n",
    "\n",
    "    # Create grid densities: all zeros for grid_density_0 and all 0.5s for grid_density_1\n",
    "    grid_density_0 = np.zeros((num_points, num_points))\n",
    "    grid_density_1 = np.full((num_points, num_points), 0.5)\n",
    "\n",
    "    return grid_x, grid_y, grid_density_0, grid_density_1\n",
    "\n",
    "\n",
    "# Create instances of GridData for each qubit\n",
    "kde_grid_dict = {}\n",
    "for qubit_idx in range(2):  # Assuming two qubits\n",
    "    grid_x, grid_y, grid_density_0, grid_density_1 = create_specific_grid_data(100)\n",
    "\n",
    "    kde_grid_dict[qubit_idx] = cpp_probabilities.GridData(grid_x, grid_y, grid_density_0, grid_density_1)\n",
    "\n",
    "\n",
    "def generate_random_qubit_mapping(num_keys):\n",
    "    \"\"\"\n",
    "    Generates a random qubit mapping.\n",
    "\n",
    "    Args:\n",
    "    num_keys (int): The number of keys in the mapping.\n",
    "\n",
    "    Returns:\n",
    "    dict: A dictionary where keys are mapped randomly to either 0 or 1.\n",
    "    \"\"\"\n",
    "    qubit_mapping = {}\n",
    "    for i in range(num_keys):\n",
    "        qubit_mapping[i] = random.randint(0, 1)\n",
    "    return qubit_mapping\n",
    "\n",
    "# Example usage\n",
    "len_IQ = 9   # Number of keys in the mapping\n",
    "qubit_mapping = generate_random_qubit_mapping(len_IQ)\n",
    "print(qubit_mapping)\n"
   ]
  },
  {
   "cell_type": "code",
   "execution_count": 27,
   "metadata": {},
   "outputs": [
    {
     "name": "stdout",
     "output_type": "stream",
     "text": [
      "[('111 11 11 11', 100)]\n"
     ]
    }
   ],
   "source": [
    "# Example NumPy array (replace this with your actual data)\n",
    "scaled_IQ_data_np = np.random.rand(int(1e2), len_IQ*2)  # 10 shots, len_IQ columns (2 measurements per shot)\n",
    "\n",
    "# Convert NumPy array to Eigen::MatrixXd\n",
    "scaled_IQ_data = cpp_probabilities.numpy_to_eigen(scaled_IQ_data_np)\n",
    "\n",
    "\n",
    "# Example number of syndrome rounds\n",
    "synd_rounds = 3\n",
    "\n",
    "# Call the get_counts function\n",
    "counts = cpp_probabilities.get_counts(scaled_IQ_data, qubit_mapping, kde_grid_dict, synd_rounds)\n",
    "print(sorted(counts.items(), key=lambda x: x[1], reverse=True))\n"
   ]
  },
  {
   "cell_type": "code",
   "execution_count": null,
   "metadata": {},
   "outputs": [],
   "source": []
  },
  {
   "cell_type": "code",
   "execution_count": null,
   "metadata": {},
   "outputs": [],
   "source": []
  }
 ],
 "metadata": {
  "kernelspec": {
   "display_name": "Soft-Info-Sk8aHGSa",
   "language": "python",
   "name": "python3"
  },
  "language_info": {
   "codemirror_mode": {
    "name": "ipython",
    "version": 3
   },
   "file_extension": ".py",
   "mimetype": "text/x-python",
   "name": "python",
   "nbconvert_exporter": "python",
   "pygments_lexer": "ipython3",
   "version": "3.11.4"
  }
 },
 "nbformat": 4,
 "nbformat_minor": 2
}
