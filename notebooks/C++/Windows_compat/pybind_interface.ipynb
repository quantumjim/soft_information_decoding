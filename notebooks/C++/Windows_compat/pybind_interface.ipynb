{
 "cells": [
  {
   "cell_type": "code",
   "execution_count": 1,
   "metadata": {},
   "outputs": [],
   "source": [
    "import cpp_soft_info"
   ]
  },
  {
   "cell_type": "code",
   "execution_count": 2,
   "metadata": {},
   "outputs": [
    {
     "ename": "TypeError",
     "evalue": "createDetectorErrorModel(): incompatible function arguments. The following argument types are supported:\n    1. (circuit: stim::Circuit, decompose_errors: bool = False, flatten_loops: bool = False, allow_gauge_detectors: bool = False, approximate_disjoint_errors: float = False, ignore_decomposition_failures: bool = False, block_decomposition_from_introducing_remnant_edges: bool = False) -> stim::DetectorErrorModel\n\nInvoked with: stim.Circuit()",
     "output_type": "error",
     "traceback": [
      "\u001b[1;31m---------------------------------------------------------------------------\u001b[0m",
      "\u001b[1;31mTypeError\u001b[0m                                 Traceback (most recent call last)",
      "Cell \u001b[1;32mIn[2], line 5\u001b[0m\n\u001b[0;32m      1\u001b[0m \u001b[38;5;28;01mimport\u001b[39;00m \u001b[38;5;21;01mstim\u001b[39;00m\n\u001b[0;32m      3\u001b[0m circ \u001b[38;5;241m=\u001b[39m stim\u001b[38;5;241m.\u001b[39mCircuit()\n\u001b[1;32m----> 5\u001b[0m \u001b[43mcpp_soft_info\u001b[49m\u001b[38;5;241;43m.\u001b[39;49m\u001b[43mcreateDetectorErrorModel\u001b[49m\u001b[43m(\u001b[49m\u001b[43mcirc\u001b[49m\u001b[43m)\u001b[49m\n",
      "\u001b[1;31mTypeError\u001b[0m: createDetectorErrorModel(): incompatible function arguments. The following argument types are supported:\n    1. (circuit: stim::Circuit, decompose_errors: bool = False, flatten_loops: bool = False, allow_gauge_detectors: bool = False, approximate_disjoint_errors: float = False, ignore_decomposition_failures: bool = False, block_decomposition_from_introducing_remnant_edges: bool = False) -> stim::DetectorErrorModel\n\nInvoked with: stim.Circuit()"
     ]
    }
   ],
   "source": [
    "import stim\n",
    "\n",
    "circ = stim.Circuit()\n",
    "\n",
    "cpp_soft_info.createDetectorErrorModel(circ)"
   ]
  }
 ],
 "metadata": {
  "kernelspec": {
   "display_name": "soft_info",
   "language": "python",
   "name": "python3"
  },
  "language_info": {
   "codemirror_mode": {
    "name": "ipython",
    "version": 3
   },
   "file_extension": ".py",
   "mimetype": "text/x-python",
   "name": "python",
   "nbconvert_exporter": "python",
   "pygments_lexer": "ipython3",
   "version": "3.11.4"
  }
 },
 "nbformat": 4,
 "nbformat_minor": 2
}
