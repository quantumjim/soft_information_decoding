{
 "cells": [
  {
   "cell_type": "code",
   "execution_count": 1,
   "metadata": {},
   "outputs": [],
   "source": [
    "%reload_ext autoreload\n",
    "%autoreload 2 \n"
   ]
  },
  {
   "cell_type": "code",
   "execution_count": 2,
   "metadata": {},
   "outputs": [],
   "source": [
    "import sys\n",
    "sys.path.insert(0, r'/Users/mha/My Drive/Desktop/Studium/Physik/MSc/Semester 3/IBM/IBM GIT/Soft-Info/build')\n",
    "\n",
    "import numpy as np\n",
    "\n",
    "import cpp_soft_info"
   ]
  },
  {
   "cell_type": "markdown",
   "metadata": {},
   "source": [
    "## Load data"
   ]
  },
  {
   "cell_type": "code",
   "execution_count": 3,
   "metadata": {},
   "outputs": [
    {
     "name": "stdout",
     "output_type": "stream",
     "text": [
      "(1000, 9)\n"
     ]
    }
   ],
   "source": [
    "from result_saver import SaverProvider\n",
    "provider = SaverProvider()\n",
    "\n",
    "job = provider.retrieve_job(\"cmyhbrqrmwhg008bs4h0\") # Mumbai job\n",
    "# job = provider.retrieve_job(\"cn6g47862r90008810pg\") # Sherbrooke job\n",
    "\n",
    "memory = job.result().get_memory()\n",
    "print(memory.shape)"
   ]
  },
  {
   "cell_type": "code",
   "execution_count": null,
   "metadata": {},
   "outputs": [
    {
     "name": "stdout",
     "output_type": "stream",
     "text": [
      "Generating the qubit mapping...\n"
     ]
    }
   ],
   "source": [
    "from soft_info import get_KDEs, get_repcode_layout, get_repcode_IQ_map\n",
    "\n",
    "# Mumbai\n",
    "layout = [25, 19, 26, 22, 16] # To implement: into scratch job_data\n",
    "synd_rounds = 3\n",
    "\n",
    "# # Sherbrooke\n",
    "# layout = get_repcode_layout(30, provider.get_backend('ibm_sherbrooke') )\n",
    "# synd_rounds = 35\n",
    "\n",
    "print(\"Generating the qubit mapping...\")\n",
    "qubit_mapping = get_repcode_IQ_map(layout, synd_rounds) #Hardcoded for repetition codes"
   ]
  },
  {
   "cell_type": "markdown",
   "metadata": {},
   "source": [
    "# How to use"
   ]
  },
  {
   "cell_type": "code",
   "execution_count": 5,
   "metadata": {},
   "outputs": [
    {
     "name": "stdout",
     "output_type": "stream",
     "text": [
      "len of grid_dict (num of qubits): 27\n"
     ]
    },
    {
     "data": {
      "text/plain": [
       "[('000 00 00 00', 875),\n",
       " ('000 10 10 10', 12),\n",
       " ('000 01 01 01', 10),\n",
       " ('000 10 00 00', 10),\n",
       " ('000 01 00 00', 8),\n",
       " ('000 00 01 00', 7),\n",
       " ('100 00 10 00', 7),\n",
       " ('100 10 00 10', 7),\n",
       " ('000 10 10 00', 6),\n",
       " ('001 00 00 00', 5),\n",
       " ('010 11 00 11', 5),\n",
       " ('000 00 10 00', 4),\n",
       " ('001 00 01 00', 4),\n",
       " ('001 01 00 00', 4),\n",
       " ('001 01 00 01', 4),\n",
       " ('100 10 00 00', 4),\n",
       " ('100 00 00 00', 3),\n",
       " ('000 00 10 10', 2),\n",
       " ('000 01 01 00', 2),\n",
       " ('000 10 00 10', 2),\n",
       " ('010 10 01 00', 2),\n",
       " ('100 10 10 00', 2),\n",
       " ('000 00 00 10', 1),\n",
       " ('000 01 00 01', 1),\n",
       " ('000 11 01 01', 1),\n",
       " ('001 01 01 00', 1),\n",
       " ('001 01 01 01', 1),\n",
       " ('001 01 10 00', 1),\n",
       " ('001 10 10 00', 1),\n",
       " ('001 11 10 10', 1),\n",
       " ('010 00 00 00', 1),\n",
       " ('010 00 11 00', 1),\n",
       " ('010 01 00 11', 1),\n",
       " ('010 01 10 01', 1),\n",
       " ('010 10 00 00', 1),\n",
       " ('010 11 00 00', 1),\n",
       " ('100 00 10 10', 1)]"
      ]
     },
     "execution_count": 5,
     "metadata": {},
     "output_type": "execute_result"
    }
   ],
   "source": [
    "from Scratch import create_or_load_kde_grid\n",
    "from cpp import process_scaler_dict\n",
    "\n",
    "# Example usage\n",
    "other_date = None # if none then it will find the closest to the tobecalib_job date\n",
    "other_date = \"2023-11-22T10:30:00\" # \"2023-11-22T\" works too \n",
    "grid_dict, processed_scaler_dict = create_or_load_kde_grid(provider, \"cmyhbrqrmwhg008bs4h0\", 13, 0.3, other_date=other_date)\n",
    "# grid_dict, processed_scaler_dict = create_or_load_kde_grid(provider, \"cn6g47862r90008810pg\", 10, 0.3, other_date=other_date)\n",
    "print(\"len of grid_dict (num of qubits):\", len(grid_dict.keys()))\n",
    "\n",
    "counts = cpp_probabilities.get_counts(memory, qubit_mapping, grid_dict, processed_scaler_dict, synd_rounds)\n",
    "(sorted(counts.items(), key=lambda x: x[1], reverse=True))"
   ]
  },
  {
   "cell_type": "code",
   "execution_count": null,
   "metadata": {},
   "outputs": [],
   "source": []
  }
 ],
 "metadata": {
  "kernelspec": {
   "display_name": "Soft-Info-Sk8aHGSa",
   "language": "python",
   "name": "python3"
  },
  "language_info": {
   "codemirror_mode": {
    "name": "ipython",
    "version": 3
   },
   "file_extension": ".py",
   "mimetype": "text/x-python",
   "name": "python",
   "nbconvert_exporter": "python",
   "pygments_lexer": "ipython3",
   "version": "3.11.4"
  }
 },
 "nbformat": 4,
 "nbformat_minor": 2
}
