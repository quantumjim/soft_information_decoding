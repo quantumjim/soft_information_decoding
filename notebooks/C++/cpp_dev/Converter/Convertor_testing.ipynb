{
 "cells": [
  {
   "cell_type": "markdown",
   "metadata": {},
   "source": [
    "# Initialization"
   ]
  },
  {
   "cell_type": "code",
   "execution_count": 1,
   "metadata": {},
   "outputs": [],
   "source": [
    "%reload_ext autoreload\n",
    "%autoreload 2"
   ]
  },
  {
   "cell_type": "code",
   "execution_count": 2,
   "metadata": {},
   "outputs": [],
   "source": [
    "from result_saver import SaverProvider\n",
    "\n",
    "provider = SaverProvider()"
   ]
  },
  {
   "cell_type": "markdown",
   "metadata": {},
   "source": [
    "# Initialize simulator"
   ]
  },
  {
   "cell_type": "code",
   "execution_count": 3,
   "metadata": {},
   "outputs": [
    {
     "name": "stdout",
     "output_type": "stream",
     "text": [
      "Found jobs for backend ibm_torino with closest execution date 2024-03-23 08:50:28.990762+00:00.\n"
     ]
    }
   ],
   "source": [
    "from soft_info import RepCodeIQSimulator\n",
    "\n",
    "DEVICE = 'ibm_torino'\n",
    "DISTANCE = 20\n",
    "ROUNDS = 20\n",
    "OTHER_DATE = '2024-03-23'\n",
    "_RESETS = False\n",
    "LOGICAL = 0 # NOT NEEDED FOR EXTREME IQ BCS HARDCODED 0\n",
    "\n",
    "_is_hex = True\n",
    "if DEVICE == 'ibmq_mumbai':\n",
    "    _is_hex = False\n",
    "\n",
    "# Initialize simulator\n",
    "simulator = RepCodeIQSimulator(provider, DISTANCE, ROUNDS, DEVICE, _is_hex=_is_hex, _resets = _RESETS, other_date=OTHER_DATE)"
   ]
  },
  {
   "cell_type": "markdown",
   "metadata": {},
   "source": [
    "# Get IQ data"
   ]
  },
  {
   "cell_type": "code",
   "execution_count": 4,
   "metadata": {},
   "outputs": [],
   "source": [
    "SHOTS = int(1e4)\n",
    "NOISE_LIST = [3e-2, 0.8e-2, 1e-2, 3e-2] # [two-qubit-fidelity, reset error, measurement error, idle error]\n",
    "# NOISE_LIST = None\n",
    "P_AMBIG = 0.1\n",
    "\n",
    "IQ_data= simulator.generate_IQ(SHOTS, noise_list=NOISE_LIST)"
   ]
  },
  {
   "cell_type": "markdown",
   "metadata": {},
   "source": [
    "# Simulator"
   ]
  },
  {
   "cell_type": "markdown",
   "metadata": {},
   "source": [
    "# Decode IQ data"
   ]
  },
  {
   "cell_type": "code",
   "execution_count": 5,
   "metadata": {},
   "outputs": [],
   "source": [
    "import pymatching\n",
    "import stim\n",
    "\n",
    "model = simulator.stim_circ.detector_error_model(decompose_errors=False)\n",
    "matching = pymatching.Matching.from_detector_error_model(model)"
   ]
  },
  {
   "cell_type": "code",
   "execution_count": 6,
   "metadata": {},
   "outputs": [
    {
     "name": "stdout",
     "output_type": "stream",
     "text": [
      "Found jobs for backend ibm_torino with closest execution date 2024-03-23 08:50:28.990762+00:00.\n"
     ]
    }
   ],
   "source": [
    "import numpy as np\n",
    "import cpp_soft_info\n",
    "from Scratch import load_calibration_memory\n",
    "\n",
    "# bandwidths = np.linspace(0.05, 0.9, 20)\n",
    "# bandwidths =[0.6]\n",
    "bandwidths = np.linspace(0.1, 0.5, 20)\n",
    "# bandwidths = np.linspace(0.4, 0.7, 1) # Check again!\n",
    "all_memories = load_calibration_memory(provider, tobecalib_backend=DEVICE, other_date=OTHER_DATE)\n",
    "kde_dict = cpp_soft_info.get_KDEs(all_memories, bandwidths, relError=1, absError=-1, num_points=51)"
   ]
  },
  {
   "cell_type": "code",
   "execution_count": 7,
   "metadata": {},
   "outputs": [
    {
     "name": "stdout",
     "output_type": "stream",
     "text": [
      "0 0.24736842105263157\n",
      "1 0.3315789473684211\n",
      "2 0.20526315789473684\n",
      "3 0.22631578947368422\n",
      "4 0.31052631578947365\n",
      "5 0.22631578947368422\n",
      "6 0.22631578947368422\n",
      "7 0.24736842105263157\n",
      "8 0.22631578947368422\n",
      "9 0.24736842105263157\n",
      "10 0.26842105263157895\n",
      "11 0.20526315789473684\n",
      "12 0.24736842105263157\n",
      "13 0.1631578947368421\n",
      "14 0.20526315789473684\n",
      "15 0.1631578947368421\n",
      "16 0.22631578947368422\n",
      "17 0.1842105263157895\n",
      "18 0.20526315789473684\n",
      "19 0.26842105263157895\n",
      "20 0.20526315789473684\n",
      "21 0.22631578947368422\n",
      "22 0.20526315789473684\n",
      "23 0.24736842105263157\n",
      "24 0.1842105263157895\n",
      "25 0.14210526315789473\n",
      "26 0.12105263157894737\n",
      "27 0.20526315789473684\n",
      "28 0.14210526315789473\n",
      "29 0.2894736842105263\n",
      "30 0.1842105263157895\n",
      "31 0.3315789473684211\n",
      "32 0.24736842105263157\n",
      "33 0.39473684210526316\n",
      "34 0.20526315789473684\n",
      "35 0.12105263157894737\n",
      "36 0.20526315789473684\n",
      "37 0.22631578947368422\n",
      "38 0.37368421052631584\n",
      "39 0.24736842105263157\n",
      "40 0.22631578947368422\n",
      "41 0.20526315789473684\n",
      "42 0.2894736842105263\n",
      "43 0.24736842105263157\n",
      "44 0.1631578947368421\n",
      "45 0.22631578947368422\n",
      "46 0.31052631578947365\n",
      "47 0.2894736842105263\n",
      "48 0.1842105263157895\n",
      "49 0.1631578947368421\n",
      "50 0.20526315789473684\n",
      "51 0.24736842105263157\n",
      "52 0.22631578947368422\n",
      "53 0.20526315789473684\n",
      "54 0.1631578947368421\n",
      "55 0.1631578947368421\n",
      "56 0.14210526315789473\n",
      "57 0.1842105263157895\n",
      "58 0.20526315789473684\n",
      "59 0.22631578947368422\n",
      "60 0.24736842105263157\n",
      "61 0.22631578947368422\n",
      "62 0.24736842105263157\n",
      "63 0.1842105263157895\n",
      "64 0.26842105263157895\n",
      "65 0.26842105263157895\n",
      "66 0.24736842105263157\n",
      "67 0.31052631578947365\n",
      "68 0.1842105263157895\n",
      "69 0.37368421052631584\n",
      "70 0.26842105263157895\n",
      "71 0.26842105263157895\n",
      "72 0.1842105263157895\n",
      "73 0.22631578947368422\n",
      "74 0.20526315789473684\n",
      "75 0.20526315789473684\n",
      "76 0.26842105263157895\n",
      "77 0.26842105263157895\n",
      "78 0.45789473684210524\n",
      "79 0.2894736842105263\n",
      "80 0.2894736842105263\n",
      "81 0.20526315789473684\n",
      "82 0.4157894736842105\n",
      "83 0.1842105263157895\n",
      "84 0.22631578947368422\n",
      "85 0.31052631578947365\n",
      "86 0.2894736842105263\n",
      "87 0.1842105263157895\n",
      "88 0.26842105263157895\n",
      "89 0.1631578947368421\n",
      "90 0.22631578947368422\n",
      "91 0.22631578947368422\n",
      "92 0.1842105263157895\n",
      "93 0.22631578947368422\n",
      "94 0.20526315789473684\n",
      "95 0.3315789473684211\n",
      "96 0.24736842105263157\n",
      "97 0.1842105263157895\n",
      "98 0.24736842105263157\n",
      "99 0.22631578947368422\n",
      "100 0.24736842105263157\n",
      "101 0.22631578947368422\n",
      "102 0.26842105263157895\n",
      "103 0.22631578947368422\n",
      "104 0.2894736842105263\n",
      "105 0.24736842105263157\n",
      "106 0.20526315789473684\n",
      "107 0.3315789473684211\n",
      "108 0.1842105263157895\n",
      "109 0.22631578947368422\n",
      "110 0.22631578947368422\n",
      "111 0.20526315789473684\n",
      "112 0.24736842105263157\n",
      "113 0.24736842105263157\n",
      "114 0.3315789473684211\n",
      "115 0.2894736842105263\n",
      "116 0.22631578947368422\n",
      "117 0.24736842105263157\n",
      "118 0.1842105263157895\n",
      "119 0.1631578947368421\n",
      "120 0.20526315789473684\n",
      "121 0.26842105263157895\n",
      "122 0.24736842105263157\n",
      "123 0.22631578947368422\n",
      "124 0.31052631578947365\n",
      "125 0.14210526315789473\n",
      "126 0.24736842105263157\n",
      "127 0.2894736842105263\n",
      "128 0.31052631578947365\n",
      "129 0.26842105263157895\n",
      "130 0.31052631578947365\n",
      "131 0.26842105263157895\n",
      "132 0.3315789473684211\n"
     ]
    }
   ],
   "source": [
    "for i in range(133):\n",
    "    print(i, kde_dict[i].bestBandwidth)"
   ]
  },
  {
   "cell_type": "code",
   "execution_count": 50,
   "metadata": {},
   "outputs": [
    {
     "name": "stdout",
     "output_type": "stream",
     "text": [
      "(30075,)\n"
     ]
    }
   ],
   "source": [
    "mmr = all_memories[0]['mmr_0']\n",
    "print(mmr.shape)"
   ]
  },
  {
   "cell_type": "markdown",
   "metadata": {},
   "source": [
    "# Convertor decoding"
   ]
  },
  {
   "cell_type": "code",
   "execution_count": 51,
   "metadata": {},
   "outputs": [
    {
     "name": "stdout",
     "output_type": "stream",
     "text": [
      "{13: [0, 19, 38, 57, 76, 95, 114, 133, 152, 171, 190, 209, 228, 247, 266, 285, 304, 323, 342, 361], 11: [1, 20, 39, 58, 77, 96, 115, 134, 153, 172, 191, 210, 229, 248, 267, 286, 305, 324, 343, 362], 9: [2, 21, 40, 59, 78, 97, 116, 135, 154, 173, 192, 211, 230, 249, 268, 287, 306, 325, 344, 363], 7: [3, 22, 41, 60, 79, 98, 117, 136, 155, 174, 193, 212, 231, 250, 269, 288, 307, 326, 345, 364], 5: [4, 23, 42, 61, 80, 99, 118, 137, 156, 175, 194, 213, 232, 251, 270, 289, 308, 327, 346, 365], 3: [5, 24, 43, 62, 81, 100, 119, 138, 157, 176, 195, 214, 233, 252, 271, 290, 309, 328, 347, 366], 1: [6, 25, 44, 63, 82, 101, 120, 139, 158, 177, 196, 215, 234, 253, 272, 291, 310, 329, 348, 367], 15: [7, 26, 45, 64, 83, 102, 121, 140, 159, 178, 197, 216, 235, 254, 273, 292, 311, 330, 349, 368], 20: [8, 27, 46, 65, 84, 103, 122, 141, 160, 179, 198, 217, 236, 255, 274, 293, 312, 331, 350, 369], 22: [9, 28, 47, 66, 85, 104, 123, 142, 161, 180, 199, 218, 237, 256, 275, 294, 313, 332, 351, 370], 24: [10, 29, 48, 67, 86, 105, 124, 143, 162, 181, 200, 219, 238, 257, 276, 295, 314, 333, 352, 371], 26: [11, 30, 49, 68, 87, 106, 125, 144, 163, 182, 201, 220, 239, 258, 277, 296, 315, 334, 353, 372], 28: [12, 31, 50, 69, 88, 107, 126, 145, 164, 183, 202, 221, 240, 259, 278, 297, 316, 335, 354, 373], 30: [13, 32, 51, 70, 89, 108, 127, 146, 165, 184, 203, 222, 241, 260, 279, 298, 317, 336, 355, 374], 32: [14, 33, 52, 71, 90, 109, 128, 147, 166, 185, 204, 223, 242, 261, 280, 299, 318, 337, 356, 375], 37: [15, 34, 53, 72, 91, 110, 129, 148, 167, 186, 205, 224, 243, 262, 281, 300, 319, 338, 357, 376], 51: [16, 35, 54, 73, 92, 111, 130, 149, 168, 187, 206, 225, 244, 263, 282, 301, 320, 339, 358, 377], 49: [17, 36, 55, 74, 93, 112, 131, 150, 169, 188, 207, 226, 245, 264, 283, 302, 321, 340, 359, 378], 47: [18, 37, 56, 75, 94, 113, 132, 151, 170, 189, 208, 227, 246, 265, 284, 303, 322, 341, 360, 379], 14: [380], 12: [381], 10: [382], 8: [383], 6: [384], 4: [385], 2: [386], 0: [387], 19: [388], 21: [389], 23: [390], 25: [391], 27: [392], 29: [393], 31: [394], 33: [395], 52: [396], 50: [397], 48: [398], 46: [399]}\n"
     ]
    }
   ],
   "source": [
    "from soft_info import inv_qubit_mapping\n",
    "\n",
    "qubit_mapping = simulator.qubit_mapping\n",
    "inv_qubit_mapping = inv_qubit_mapping(qubit_mapping)\n",
    "print(inv_qubit_mapping)"
   ]
  },
  {
   "cell_type": "code",
   "execution_count": 52,
   "metadata": {},
   "outputs": [],
   "source": [
    "pSoft, countMat = cpp_soft_info.iqConvertor(IQ_data, inv_qubit_mapping, kde_dict, 1, -1)"
   ]
  },
  {
   "cell_type": "code",
   "execution_count": 53,
   "metadata": {},
   "outputs": [
    {
     "name": "stdout",
     "output_type": "stream",
     "text": [
      "shape of pSoft: (10000, 400)\n",
      "[]\n"
     ]
    }
   ],
   "source": [
    "print(f\"shape of pSoft: {pSoft.shape}\")\n",
    "\n",
    "# check if there is a nan in the pSoft\n",
    "if np.isnan(pSoft).any():\n",
    "    print(\"There is a nan in the pSoft\")\n",
    "\n",
    "# Print the indices of the nan\n",
    "print(np.argwhere(np.isnan(pSoft)))\n"
   ]
  },
  {
   "cell_type": "code",
   "execution_count": 54,
   "metadata": {},
   "outputs": [
    {
     "name": "stdout",
     "output_type": "stream",
     "text": [
      "[[0 0 1 ... 0 0 0]\n",
      " [0 1 1 ... 1 0 0]\n",
      " [0 0 0 ... 1 0 0]\n",
      " ...\n",
      " [0 0 0 ... 0 0 0]\n",
      " [0 0 0 ... 0 0 0]\n",
      " [1 0 0 ... 1 0 0]]\n",
      "There is no nan in the countMat\n"
     ]
    }
   ],
   "source": [
    "print(countMat)\n",
    "if np.isnan(countMat).any():\n",
    "    print(\"There is a nan in the countMat\")\n",
    "else:\n",
    "    print(\"There is no nan in the countMat\")"
   ]
  },
  {
   "cell_type": "code",
   "execution_count": 55,
   "metadata": {},
   "outputs": [
    {
     "name": "stdout",
     "output_type": "stream",
     "text": [
      "IQ_data shape: (10000, 400)\n",
      "pSoft shape: (10000, 400)\n",
      "countMat shape: (10000, 400)\n"
     ]
    }
   ],
   "source": [
    "print(f\"IQ_data shape: {IQ_data.shape}\")\n",
    "print(f\"pSoft shape: {pSoft.shape}\")\n",
    "print(f\"countMat shape: {countMat.shape}\")"
   ]
  },
  {
   "cell_type": "code",
   "execution_count": 56,
   "metadata": {},
   "outputs": [
    {
     "name": "stdout",
     "output_type": "stream",
     "text": [
      "27\n"
     ]
    }
   ],
   "source": [
    "result = cpp_soft_info.decodeConvertorSoft(model, countMat, pSoft, ROUNDS, int(LOGICAL), _RESETS, False)\n",
    "print(result.num_errors)"
   ]
  },
  {
   "cell_type": "code",
   "execution_count": 57,
   "metadata": {},
   "outputs": [
    {
     "name": "stdout",
     "output_type": "stream",
     "text": [
      "(10000, 400)\n",
      "mean pSoft: 0.03289522033499805, max pSoft: 0.5, min pSoft: 4.52307841509178e-15\n",
      "unique values: [4.52307842e-15 4.54107358e-15 4.99207771e-15 ... 4.99996740e-01\n",
      " 4.99998861e-01 5.00000000e-01]\n",
      "\n",
      "(10000, 400)\n",
      "mean 2bpS: 0.018020166666666657, max 2bpS: 0.5, min 2bpS: 0.0\n",
      "unique values: [0.         0.16666667 0.33333333 0.5       ]\n",
      "\n",
      "(10000, 400)\n",
      "mean 2bpS ews: 0.073855171875, max 2bpS ews: 0.5, min 2bpS ews: 0.0625\n",
      "unique values: [0.0625 0.1875 0.3125 0.4375 0.5   ]\n"
     ]
    }
   ],
   "source": [
    "print(pSoft.shape)\n",
    "print(f\"mean pSoft: {np.mean(pSoft)}, max pSoft: {np.max(pSoft)}, min pSoft: {np.min(pSoft)}\")\n",
    "print(f\"unique values: {np.unique(pSoft)}\")\n",
    "\n",
    "print() \n",
    "\n",
    "twobitpSoft = cpp_soft_info.quantizeMatrixVectorized(pSoft, 2)\n",
    "print(twobitpSoft.shape)\n",
    "print(f\"mean 2bpS: {np.mean(twobitpSoft)}, max 2bpS: {np.max(twobitpSoft)}, min 2bpS: {np.min(twobitpSoft)}\")\n",
    "print(f\"unique values: {np.unique(twobitpSoft)}\")\n",
    "\n",
    "print()\n",
    "\n",
    "twobitpSoft_ews = cpp_soft_info.quantizeMatrixEntrywise(pSoft, 2)\n",
    "print(twobitpSoft_ews.shape)\n",
    "print(f\"mean 2bpS ews: {np.mean(twobitpSoft_ews)}, max 2bpS ews: {np.max(twobitpSoft_ews)}, min 2bpS ews: {np.min(twobitpSoft_ews)}\")\n",
    "print(f\"unique values: {np.unique(twobitpSoft_ews)}\")"
   ]
  },
  {
   "cell_type": "markdown",
   "metadata": {},
   "source": [
    "# Quantize the matrix"
   ]
  },
  {
   "cell_type": "code",
   "execution_count": 58,
   "metadata": {},
   "outputs": [],
   "source": [
    "pSoft_quantized = cpp_soft_info.quantizeMatrixVectorized(pSoft, nBits=20)\n",
    "# pSoft_quantized = cpp_soft_info.quantizeMatrixEntrywise(pSoft, nBits=20)\n",
    "# print(pSoft_quantized)"
   ]
  },
  {
   "cell_type": "code",
   "execution_count": 59,
   "metadata": {},
   "outputs": [
    {
     "name": "stdout",
     "output_type": "stream",
     "text": [
      "26\n"
     ]
    }
   ],
   "source": [
    "result = cpp_soft_info.decodeConvertorSoft(model, countMat, pSoft_quantized, ROUNDS, int(LOGICAL), _RESETS, False)\n",
    "print(result.num_errors)"
   ]
  },
  {
   "cell_type": "code",
   "execution_count": 60,
   "metadata": {},
   "outputs": [
    {
     "name": "stderr",
     "output_type": "stream",
     "text": [
      "  0%|          | 0/14 [00:00<?, ?it/s]"
     ]
    },
    {
     "name": "stderr",
     "output_type": "stream",
     "text": [
      "100%|██████████| 14/14 [00:14<00:00,  1.01s/it]\n"
     ]
    }
   ],
   "source": [
    "from tqdm import tqdm\n",
    "\n",
    "errs = []\n",
    "for i in tqdm(range(1, 15, 1)):\n",
    "    pSoft_quantized = cpp_soft_info.quantizeMatrixVectorized(pSoft, nBits=i)\n",
    "    # pSoft_quantized = cpp_soft_info.quantizeMatrixEntrywise(pSoft, nBits=i)\n",
    "    result = cpp_soft_info.decodeConvertorSoft(model, countMat, pSoft_quantized, ROUNDS, int(LOGICAL), _RESETS, False)\n",
    "    errs.append(result.num_errors)"
   ]
  },
  {
   "cell_type": "code",
   "execution_count": 61,
   "metadata": {},
   "outputs": [
    {
     "data": {
      "text/plain": [
       "Text(0.5, 1.0, 'ibm_torino - 2024-03-23')"
      ]
     },
     "execution_count": 61,
     "metadata": {},
     "output_type": "execute_result"
    },
    {
     "data": {
      "image/png": "[encoded data removed]",
      "text/plain": [
       "<Figure size 640x480 with 1 Axes>"
      ]
     },
     "metadata": {},
     "output_type": "display_data"
    }
   ],
   "source": [
    "import matplotlib.pyplot as plt\n",
    "\n",
    "plt.plot(range(1, 15, 1), errs, label=f\"({DISTANCE}, {ROUNDS})\")\n",
    "plt.xlabel(\"Number of bits\")\n",
    "plt.ylabel(\"Number of errors\")\n",
    "plt.legend()\n",
    "plt.grid()\n",
    "plt.title(f\"{DEVICE} - {OTHER_DATE}\")\n"
   ]
  },
  {
   "cell_type": "markdown",
   "metadata": {},
   "source": [
    "# Subset decoding"
   ]
  },
  {
   "cell_type": "code",
   "execution_count": 62,
   "metadata": {},
   "outputs": [
    {
     "name": "stdout",
     "output_type": "stream",
     "text": [
      "[3, 7, 11, 15, 19]\n",
      "[1, 2, 3, 4, 5, 6, 7, 8, 9, 10, 11, 12, 13, 14, 15, 16, 17, 18, 19]\n"
     ]
    }
   ],
   "source": [
    "distances = range(3, DISTANCE+1, 4)\n",
    "print(list(distances))\n",
    "\n",
    "nBits_ls = range(1, 20, 1)\n",
    "print(list(nBits_ls))"
   ]
  },
  {
   "cell_type": "code",
   "execution_count": 63,
   "metadata": {},
   "outputs": [
    {
     "name": "stderr",
     "output_type": "stream",
     "text": [
      "100%|██████████| 19/19 [00:13<00:00,  1.44it/s]\n"
     ]
    },
    {
     "name": "stdout",
     "output_type": "stream",
     "text": [
      "[135, 3046, 1015, 378, 209, 143, 136, 142, 134, 136, 134, 133, 134, 133, 133, 133, 133, 133, 133, 133]\n"
     ]
    },
    {
     "name": "stderr",
     "output_type": "stream",
     "text": [
      "100%|██████████| 19/19 [00:14<00:00,  1.33it/s]"
     ]
    },
    {
     "name": "stdout",
     "output_type": "stream",
     "text": [
      "[84, 2920, 882, 317, 156, 98, 96, 89, 88, 89, 88, 87, 86, 86, 86, 86, 86, 86, 86, 86]\n"
     ]
    },
    {
     "name": "stderr",
     "output_type": "stream",
     "text": [
      "\n"
     ]
    }
   ],
   "source": [
    "from tqdm import tqdm\n",
    "from soft_info import generate_subsets_with_center, get_cols_to_keep, RepetitionCodeStimCircuit\n",
    "\n",
    "for D_NEW in distances:\n",
    "    if D_NEW != 15:\n",
    "        continue\n",
    "\n",
    "    subsets = generate_subsets_with_center(DISTANCE, D_NEW)\n",
    "\n",
    "    for subset in subsets:\n",
    "\n",
    "        cols_to_keep = get_cols_to_keep(subset, ROUNDS, DISTANCE)\n",
    "        pSoft_sub = pSoft[:, cols_to_keep]\n",
    "        countMat_sub = countMat[:, cols_to_keep]\n",
    "\n",
    "        # circuit = stim.Circuit.generated(\"repetition_code:memory\",\n",
    "        #                         distance=D_NEW,\n",
    "        #                         rounds=ROUNDS,\n",
    "        #                         after_clifford_depolarization=NOISE_LIST[0], #two-qubit-fidelity,\n",
    "        #                         after_reset_flip_probability=NOISE_LIST[1], #reset error,\n",
    "        #                         before_measure_flip_probability=NOISE_LIST[2], #measurement error,\n",
    "        #                         before_round_data_depolarization=NOISE_LIST[3]) #idle error)\n",
    "        # model = circuit.detector_error_model(decompose_errors=False)\n",
    "\n",
    "        noise_list = [NOISE_LIST[0], 0, NOISE_LIST[3], NOISE_LIST[3], NOISE_LIST[2], NOISE_LIST[2]/2, NOISE_LIST[2]/2]\n",
    "        # [twog_err, sglg_err, t1_err, t2_err, readout_err, hard_err, soft_err]\n",
    "        subsampling = (D_NEW != DISTANCE)\n",
    "        code = RepetitionCodeStimCircuit(D_NEW, ROUNDS, xbasis=False, resets=_RESETS, \n",
    "                                        noise_list=noise_list, subsampling=subsampling)\n",
    "        model = code.circuits[str(LOGICAL)].detector_error_model(decompose_errors=False)  \n",
    "\n",
    "\n",
    "        errs_per_nBits = []\n",
    "        result = cpp_soft_info.decodeConvertorSoft(model, countMat_sub, pSoft_sub,\n",
    "                                                                                ROUNDS, int(LOGICAL), _RESETS, False)\n",
    "        errs_per_nBits.append(result.num_errors)\n",
    "        for nBits in tqdm(nBits_ls):\n",
    "            pSoft_trunc = cpp_soft_info.quantizeMatrixVectorized(pSoft_sub, nBits)\n",
    "            # pSoft_trunc = cpp_soft_info.quantizeMatrixEntrywise(pSoft_sub, nBits)\n",
    "            result = cpp_soft_info.decodeConvertorSoft(model, countMat_sub, pSoft_trunc,\n",
    "                                                                                ROUNDS, int(LOGICAL), _RESETS, False)\n",
    "            errs_per_nBits.append(result.num_errors)\n",
    "        print(errs_per_nBits)\n",
    "    \n",
    "    \n",
    "\n",
    "# print(errs_per_nBits)"
   ]
  },
  {
   "cell_type": "markdown",
   "metadata": {},
   "source": [
    "# Using cpp kde"
   ]
  },
  {
   "cell_type": "code",
   "execution_count": 14,
   "metadata": {},
   "outputs": [
    {
     "name": "stdout",
     "output_type": "stream",
     "text": [
      "num_errors IQ: 34 out of 10000 shots for _RESETS = False\n"
     ]
    }
   ],
   "source": [
    "_DETAILED = False\n",
    "\n",
    "matching = pymatching.Matching.from_detector_error_model(model)\n",
    "result = cpp_soft_info.decode_IQ_fast(model, IQ_data,\n",
    "                                           ROUNDS, int(LOGICAL), _RESETS, simulator.qubit_mapping, simulator.grid_dict,\n",
    "                                           simulator.processed_scaler_dict, _detailed=_DETAILED, nb_intervals=-1)\n",
    "\n",
    "print(\"num_errors IQ:\", result.num_errors, \"out of\", len(IQ_data), \"shots for _RESETS =\", _RESETS)"
   ]
  },
  {
   "cell_type": "code",
   "execution_count": 15,
   "metadata": {},
   "outputs": [
    {
     "name": "stdout",
     "output_type": "stream",
     "text": [
      "num_errors KDE: 26 out of 10000 shots for _RESETS = False\n"
     ]
    }
   ],
   "source": [
    "_DETAILED = False\n",
    "\n",
    "relError = 1\n",
    "absError = -1\n",
    "\n",
    "# relError = 1\n",
    "# absError = 10\n",
    "\n",
    "result_kde = cpp_soft_info.decode_IQ_kde(model, IQ_data, ROUNDS, int(LOGICAL), _RESETS, \n",
    "                                         simulator.qubit_mapping, kde_dict, _DETAILED, relError=relError, absError=absError,\n",
    "                                         nb_intervals=-1)\n",
    "\n",
    "print(\"num_errors KDE:\", result_kde.num_errors, \"out of\", len(IQ_data), \"shots for _RESETS =\", _RESETS)"
   ]
  },
  {
   "cell_type": "code",
   "execution_count": null,
   "metadata": {},
   "outputs": [
    {
     "name": "stdout",
     "output_type": "stream",
     "text": [
      "num_errors informed: 0 out of 100 shots for _RESETS = False\n",
      "num_errors informed EXTREME: 8 out of 100 shots for _RESETS = False\n"
     ]
    }
   ],
   "source": [
    "p_meas = -1\n",
    "# p_meas = 7e-2 \n",
    "\n",
    "result_informed = cpp_soft_info.decode_IQ_shots_flat_informed(model, IQ_data[:],\n",
    "                                           ROUNDS, int(LOGICAL), _RESETS, simulator.qubit_mapping, simulator.grid_dict, simulator.processed_scaler_dict,\n",
    "                                           p_data = -1, p_mixed = -1, p_meas = p_meas, common_measure=-1, _detailed=_DETAILED, _ntnn_edges = True)\n",
    "\n",
    "print(\"num_errors informed:\", result_informed.num_errors, \"out of\", len(IQ_data), \"shots for _RESETS =\", _RESETS)\n",
    "         \n",
    "# takes 1s"
   ]
  },
  {
   "cell_type": "markdown",
   "metadata": {},
   "source": [
    "# Plot the results"
   ]
  },
  {
   "cell_type": "code",
   "execution_count": null,
   "metadata": {},
   "outputs": [
    {
     "name": "stdout",
     "output_type": "stream",
     "text": [
      "\n",
      "IQ: [] \n",
      "kde: [] \n",
      "Flat: [] \n",
      "Informed []\n",
      "\n",
      "IQ EXTREME: [] \n",
      "kde EXTREME: [] \n",
      "Flat EXTREME: [] \n",
      "Informed EXTREME []\n"
     ]
    }
   ],
   "source": [
    "print(\"\\nIQ:\", result.indices, \"\\nkde:\", sorted(result_kde.indices), \"\\nInformed\", result_informed.indices)"
   ]
  },
  {
   "cell_type": "code",
   "execution_count": null,
   "metadata": {},
   "outputs": [
    {
     "name": "stdout",
     "output_type": "stream",
     "text": [
      "----- First True decoding -----\n"
     ]
    },
    {
     "data": {
      "image/png": "[encoded data removed]",
      "text/plain": [
       "<Figure size 800x800 with 1 Axes>"
      ]
     },
     "metadata": {},
     "output_type": "display_data"
    },
    {
     "name": "stdout",
     "output_type": "stream",
     "text": [
      "-----Second True decoding-----\n"
     ]
    },
    {
     "data": {
      "image/png": "[encoded data removed]",
      "text/plain": [
       "<Figure size 800x800 with 1 Axes>"
      ]
     },
     "metadata": {},
     "output_type": "display_data"
    },
    {
     "name": "stdout",
     "output_type": "stream",
     "text": [
      "-----Third True decoding-----\n"
     ]
    },
    {
     "data": {
      "image/png": "[encoded data removed]",
      "text/plain": [
       "<Figure size 800x800 with 1 Axes>"
      ]
     },
     "metadata": {},
     "output_type": "display_data"
    }
   ],
   "source": [
    "from soft_info import draw_matching_graph\n",
    "\n",
    "\n",
    "index = 10\n",
    "\n",
    "fig_size = (4, 13)\n",
    "fig_size = (8, 8)\n",
    "scale_factor = 0.5\n",
    "\n",
    "to_be_result = result_kde\n",
    "details = to_be_result.error_details[index]\n",
    "print(f\"----- First {bool(not (index in to_be_result.indices))} decoding -----\")\n",
    "draw_matching_graph(matching=None, d=DISTANCE, T=ROUNDS, syndromes=details.detection_syndromes,\n",
    "                        matched_edges=details.matched_edges, figsize=fig_size, scale_factor=scale_factor, edge_list=details.edges)\n",
    "\n",
    "to_be_result = result\n",
    "details = to_be_result.error_details[index]\n",
    "print(f\"-----Second {bool(not (index in to_be_result.indices))} decoding-----\")\n",
    "draw_matching_graph(matching=None, d=DISTANCE, T=ROUNDS, syndromes=details.detection_syndromes,\n",
    "                        matched_edges=details.matched_edges, figsize=fig_size, scale_factor=scale_factor, edge_list=details.edges)\n",
    "\n",
    "to_be_result = result_flat\n",
    "details = to_be_result.error_details[index]\n",
    "print(f\"-----Third {bool(not (index in to_be_result.indices))} decoding-----\")\n",
    "draw_matching_graph(matching=None, d=DISTANCE, T=ROUNDS, syndromes=details.detection_syndromes,\n",
    "                        matched_edges=details.matched_edges, figsize=fig_size, scale_factor=scale_factor, edge_list=details.edges)\n"
   ]
  },
  {
   "cell_type": "code",
   "execution_count": null,
   "metadata": {},
   "outputs": [
    {
     "name": "stdout",
     "output_type": "stream",
     "text": [
      "indices that are in informed but not in IQ with len: 0\n",
      "[]\n",
      "indices that are in IQ but not in informed with len: 0\n",
      "[]\n",
      "\n",
      "indices that are in IQ but not in flat with len: 0\n",
      "[]\n",
      "indices that are in flat but not in IQ with len: 0\n",
      "[]\n",
      "\n",
      "indices that are in IQ but not in kde with len: 0\n",
      "[]\n",
      "indices that are in kde but not in IQ with len: 0\n",
      "[]\n"
     ]
    }
   ],
   "source": [
    "informed_not_in_iq = sorted(set(result_informed.indices) - set(result.indices))\n",
    "print(\"indices that are in informed but not in IQ with len:\", len(informed_not_in_iq))\n",
    "print(informed_not_in_iq)\n",
    "iq_not_in_informed = sorted(set(result.indices) - set(result_informed.indices))\n",
    "print(\"indices that are in IQ but not in informed with len:\", len(iq_not_in_informed))\n",
    "print(iq_not_in_informed)\n",
    "\n",
    "print()\n",
    "\n",
    "iq_not_in_flat = sorted(set(result.indices) - set(result_flat.indices))\n",
    "print(\"indices that are in IQ but not in flat with len:\", len(iq_not_in_flat))\n",
    "print(iq_not_in_flat)\n",
    "flat_not_in_iq = sorted(set(result_flat.indices) - set(result.indices))\n",
    "print(\"indices that are in flat but not in IQ with len:\", len(flat_not_in_iq))\n",
    "print(flat_not_in_iq)\n",
    "\n",
    "print()\n",
    "\n",
    "iq_not_in_kde = sorted(set(result.indices) - set(result_kde.indices))\n",
    "print(\"indices that are in IQ but not in kde with len:\", len(iq_not_in_kde))\n",
    "print(iq_not_in_kde)\n",
    "kde_not_in_iq = sorted(set(result_kde.indices) - set(result.indices))\n",
    "print(\"indices that are in kde but not in IQ with len:\", len(kde_not_in_iq))\n",
    "print(kde_not_in_iq)"
   ]
  },
  {
   "cell_type": "markdown",
   "metadata": {},
   "source": [
    "# Analyse specific shots"
   ]
  },
  {
   "cell_type": "code",
   "execution_count": null,
   "metadata": {},
   "outputs": [
    {
     "name": "stdout",
     "output_type": "stream",
     "text": [
      "{'0010000 001000': 1}\n"
     ]
    },
    {
     "name": "stderr",
     "output_type": "stream",
     "text": [
      "100%|██████████| 25/25 [00:00<00:00, 519097.03it/s]"
     ]
    },
    {
     "name": "stdout",
     "output_type": "stream",
     "text": [
      "mean time edge weight: 3.2142805258433023\n",
      "\n",
      "[(1, 7), (0, -1)]\n",
      "-----IQ-----\n"
     ]
    },
    {
     "name": "stderr",
     "output_type": "stream",
     "text": [
      "\n"
     ]
    },
    {
     "data": {
      "image/png": "[encoded data removed]",
      "text/plain": [
       "<Figure size 800x800 with 1 Axes>"
      ]
     },
     "metadata": {},
     "output_type": "display_data"
    }
   ],
   "source": [
    "from tqdm import tqdm\n",
    "\n",
    "index = 83\n",
    "IQ_data_new = IQ_data[index:index+1]\n",
    "\n",
    "esult = cpp_soft_info.decode_IQ_shots(matching._matching_graph, IQ_data_extreme,\n",
    "                                             ROUNDS, int(LOGICAL), _RESETS, simulator.qubit_mapping, simulator.grid_dict,\n",
    "                                             simulator.processed_scaler_dict, p_data=-1, p_mixed=-1,\n",
    "                                             common_measure=-1, _adv_probs=not _RESETS, _bimodal=_RESETS, merge_strategy = \"replace\", _detailed=_DETAILED,\n",
    "                                              p_offset = 1, p_multiplicator = 1, _ntnn_edges = True)\n",
    "\n",
    "print(cpp_soft_info.get_counts(IQ_data_new, simulator.qubit_mapping, simulator.grid_dict, simulator.processed_scaler_dict, ROUNDS))\n",
    "\n",
    "\n",
    "\n",
    "to_be_result = esult\n",
    "details = to_be_result.error_details[0]\n",
    "\n",
    "\n",
    "mean_edge_weight = 0\n",
    "num_time_edges = 0\n",
    "for edge in tqdm(matching.edges()):\n",
    "    src_node, tgt_node, data = edge\n",
    "    if src_node == None or tgt_node == None:\n",
    "        continue\n",
    "    if src_node == tgt_node - (DISTANCE-1):\n",
    "        mean_edge_weight += data[\"weight\"]\n",
    "        num_time_edges += 1\n",
    "\n",
    "print(\"mean time edge weight:\", mean_edge_weight / num_time_edges)\n",
    "\n",
    "print()\n",
    "print(details.matched_edges)\n",
    "\n",
    "print(\"-----IQ-----\")\n",
    "draw_matching_graph(matching=None, d=DISTANCE, T=ROUNDS, syndromes=details.detection_syndromes,\n",
    "                        matched_edges=details.matched_edges, figsize=fig_size, scale_factor=scale_factor, edge_list=details.edges)"
   ]
  },
  {
   "cell_type": "code",
   "execution_count": null,
   "metadata": {},
   "outputs": [],
   "source": []
  }
 ],
 "metadata": {
  "kernelspec": {
   "display_name": "Soft-Info-fMUpUe5a",
   "language": "python",
   "name": "python3"
  },
  "language_info": {
   "codemirror_mode": {
    "name": "ipython",
    "version": 3
   },
   "file_extension": ".py",
   "mimetype": "text/x-python",
   "name": "python",
   "nbconvert_exporter": "python",
   "pygments_lexer": "ipython3",
   "version": "3.11.4"
  }
 },
 "nbformat": 4,
 "nbformat_minor": 2
}
