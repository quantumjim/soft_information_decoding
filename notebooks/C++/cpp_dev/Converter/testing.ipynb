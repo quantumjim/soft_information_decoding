{
 "cells": [
  {
   "cell_type": "markdown",
   "metadata": {},
   "source": [
    "# Initialization"
   ]
  },
  {
   "cell_type": "code",
   "execution_count": 1,
   "metadata": {},
   "outputs": [],
   "source": [
    "%reload_ext autoreload\n",
    "%autoreload 2"
   ]
  },
  {
   "cell_type": "code",
   "execution_count": 2,
   "metadata": {},
   "outputs": [],
   "source": [
    "from result_saver import SaverProvider\n",
    "\n",
    "provider = SaverProvider()"
   ]
  },
  {
   "cell_type": "markdown",
   "metadata": {},
   "source": [
    "# Initialize simulator"
   ]
  },
  {
   "cell_type": "code",
   "execution_count": 3,
   "metadata": {},
   "outputs": [
    {
     "name": "stdout",
     "output_type": "stream",
     "text": [
      "Found jobs for backend ibm_sherbrooke with closest execution date 2023-10-27 08:32:22.841567+00:00.\n",
      "Found jobs for backend ibm_sherbrooke with closest execution date 2023-10-27 08:32:22.841567+00:00.\n",
      "Searching for ibm_sherbrooke and 23.10.27_07h46_300pts_2std\n"
     ]
    }
   ],
   "source": [
    "from soft_info import RepCodeIQSimulator\n",
    "\n",
    "DEVICE = 'ibm_sherbrooke'\n",
    "DISTANCE = 11\n",
    "ROUNDS = 11\n",
    "OTHER_DATE = '2023-10-27'\n",
    "_RESETS = False\n",
    "LOGICAL = 0 # NOT NEEDED FOR EXTREME IQ BCS HARDCODED 0\n",
    "\n",
    "_is_hex = True\n",
    "if DEVICE == 'ibmq_mumbai':\n",
    "    _is_hex = False\n",
    "\n",
    "# Initialize simulator\n",
    "simulator = RepCodeIQSimulator(provider, DISTANCE, ROUNDS, DEVICE, _is_hex=_is_hex, _resets = _RESETS, other_date=OTHER_DATE)"
   ]
  },
  {
   "cell_type": "markdown",
   "metadata": {},
   "source": [
    "# Get IQ data"
   ]
  },
  {
   "cell_type": "code",
   "execution_count": 4,
   "metadata": {},
   "outputs": [],
   "source": [
    "SHOTS = int(1e4)\n",
    "NOISE_LIST = [3e-2, 0.8e-2, 1e-2, 3e-2] # [two-qubit-fidelity, reset error, measurement error, idle error]\n",
    "# NOISE_LIST = None\n",
    "P_AMBIG = 0.1\n",
    "\n",
    "IQ_data= simulator.generate_IQ(SHOTS, noise_list=NOISE_LIST)"
   ]
  },
  {
   "cell_type": "markdown",
   "metadata": {},
   "source": [
    "# Simulator"
   ]
  },
  {
   "cell_type": "markdown",
   "metadata": {},
   "source": [
    "# Decode IQ data"
   ]
  },
  {
   "cell_type": "code",
   "execution_count": 5,
   "metadata": {},
   "outputs": [],
   "source": [
    "import pymatching\n",
    "import stim\n",
    "\n",
    "model = simulator.stim_circ.detector_error_model(decompose_errors=False)\n",
    "matching = pymatching.Matching.from_detector_error_model(model)"
   ]
  },
  {
   "cell_type": "code",
   "execution_count": 6,
   "metadata": {},
   "outputs": [
    {
     "name": "stdout",
     "output_type": "stream",
     "text": [
      "Found jobs for backend ibm_sherbrooke with closest execution date 2023-10-27 08:32:22.841567+00:00.\n"
     ]
    }
   ],
   "source": [
    "import numpy as np\n",
    "import cpp_soft_info\n",
    "from Scratch import load_calibration_memory\n",
    "\n",
    "# bandwidths = np.linspace(0.05, 0.9, 20)\n",
    "# bandwidths =[0.6]\n",
    "bandwidths = np.linspace(0.4, 0.7, 20)\n",
    "all_memories = load_calibration_memory(provider, tobecalib_backend=DEVICE, other_date=OTHER_DATE)\n",
    "kde_dict = cpp_soft_info.get_KDEs(all_memories, bandwidths, relError=1, absError=-1, num_points=4)"
   ]
  },
  {
   "cell_type": "markdown",
   "metadata": {},
   "source": [
    "# Convertor decoding"
   ]
  },
  {
   "cell_type": "code",
   "execution_count": 7,
   "metadata": {},
   "outputs": [
    {
     "name": "stdout",
     "output_type": "stream",
     "text": [
      "{114: [0, 10, 20, 30, 40, 50, 60, 70, 80, 90, 100], 116: [1, 11, 21, 31, 41, 51, 61, 71, 81, 91, 101], 118: [2, 12, 22, 32, 42, 52, 62, 72, 82, 92, 102], 120: [3, 13, 23, 33, 43, 53, 63, 73, 83, 93, 103], 122: [4, 14, 24, 34, 44, 54, 64, 74, 84, 94, 104], 104: [5, 15, 25, 35, 45, 55, 65, 75, 85, 95, 105], 102: [6, 16, 26, 36, 46, 56, 66, 76, 86, 96, 106], 100: [7, 17, 27, 37, 47, 57, 67, 77, 87, 97, 107], 98: [8, 18, 28, 38, 48, 58, 68, 78, 88, 98, 108], 96: [9, 19, 29, 39, 49, 59, 69, 79, 89, 99, 109], 113: [110], 115: [111], 117: [112], 119: [113], 121: [114], 111: [115], 103: [116], 101: [117], 99: [118], 97: [119], 95: [120]}\n"
     ]
    }
   ],
   "source": [
    "from soft_info import inv_qubit_mapping\n",
    "\n",
    "qubit_mapping = simulator.qubit_mapping\n",
    "inv_qubit_mapping = inv_qubit_mapping(qubit_mapping)\n",
    "print(inv_qubit_mapping)"
   ]
  },
  {
   "cell_type": "code",
   "execution_count": 8,
   "metadata": {},
   "outputs": [],
   "source": [
    "pSoft, countMat = cpp_soft_info.iqConvertor(IQ_data, inv_qubit_mapping, kde_dict, 1, -1)"
   ]
  },
  {
   "cell_type": "code",
   "execution_count": 9,
   "metadata": {},
   "outputs": [
    {
     "name": "stdout",
     "output_type": "stream",
     "text": [
      "shape of pSoft: (10000, 121)\n",
      "[]\n"
     ]
    }
   ],
   "source": [
    "print(f\"shape of pSoft: {pSoft.shape}\")\n",
    "\n",
    "# check if there is a nan in the pSoft\n",
    "if np.isnan(pSoft).any():\n",
    "    print(\"There is a nan in the pSoft\")\n",
    "\n",
    "# Print the indices of the nan\n",
    "print(np.argwhere(np.isnan(pSoft)))\n"
   ]
  },
  {
   "cell_type": "code",
   "execution_count": 10,
   "metadata": {},
   "outputs": [
    {
     "name": "stdout",
     "output_type": "stream",
     "text": [
      "[[0 0 0 ... 0 0 0]\n",
      " [0 0 0 ... 0 1 0]\n",
      " [1 1 1 ... 1 1 0]\n",
      " ...\n",
      " [0 0 0 ... 1 1 1]\n",
      " [0 0 0 ... 1 0 1]\n",
      " [0 0 0 ... 0 0 1]]\n",
      "There is no nan in the countMat\n"
     ]
    }
   ],
   "source": [
    "print(countMat)\n",
    "if np.isnan(countMat).any():\n",
    "    print(\"There is a nan in the countMat\")\n",
    "else:\n",
    "    print(\"There is no nan in the countMat\")"
   ]
  },
  {
   "cell_type": "code",
   "execution_count": 11,
   "metadata": {},
   "outputs": [
    {
     "name": "stdout",
     "output_type": "stream",
     "text": [
      "IQ_data shape: (10000, 121)\n",
      "pSoft shape: (10000, 121)\n",
      "countMat shape: (10000, 121)\n"
     ]
    }
   ],
   "source": [
    "print(f\"IQ_data shape: {IQ_data.shape}\")\n",
    "print(f\"pSoft shape: {pSoft.shape}\")\n",
    "print(f\"countMat shape: {countMat.shape}\")"
   ]
  },
  {
   "cell_type": "code",
   "execution_count": 12,
   "metadata": {},
   "outputs": [
    {
     "name": "stdout",
     "output_type": "stream",
     "text": [
      "65\n"
     ]
    }
   ],
   "source": [
    "result = cpp_soft_info.decodeConvertorSoft(model, countMat, pSoft, ROUNDS, int(LOGICAL), _RESETS, False)\n",
    "print(result.num_errors)"
   ]
  },
  {
   "cell_type": "markdown",
   "metadata": {},
   "source": [
    "# Quantize the matrix"
   ]
  },
  {
   "cell_type": "code",
   "execution_count": 17,
   "metadata": {},
   "outputs": [],
   "source": [
    "pSoft_quantized = cpp_soft_info.quantizeMatrixVectorized(pSoft, nBits=20)\n",
    "# print(pSoft_quantized)"
   ]
  },
  {
   "cell_type": "code",
   "execution_count": 14,
   "metadata": {},
   "outputs": [
    {
     "name": "stdout",
     "output_type": "stream",
     "text": [
      "64\n"
     ]
    }
   ],
   "source": [
    "result = cpp_soft_info.decodeConvertorSoft(model, countMat, pSoft_quantized, ROUNDS, int(LOGICAL), _RESETS, False)\n",
    "print(result.num_errors)"
   ]
  },
  {
   "cell_type": "code",
   "execution_count": 15,
   "metadata": {},
   "outputs": [
    {
     "name": "stderr",
     "output_type": "stream",
     "text": [
      "100%|██████████| 14/14 [00:04<00:00,  3.31it/s]\n"
     ]
    }
   ],
   "source": [
    "from tqdm import tqdm\n",
    "\n",
    "errs = []\n",
    "for i in tqdm(range(1, 15, 1)):\n",
    "    pSoft_quantized = cpp_soft_info.quantizeMatrixVectorized(pSoft, nBits=i)\n",
    "    result = cpp_soft_info.decodeConvertorSoft(model, countMat, pSoft_quantized, ROUNDS, int(LOGICAL), _RESETS, False)\n",
    "    errs.append(result.num_errors)"
   ]
  },
  {
   "cell_type": "code",
   "execution_count": 16,
   "metadata": {},
   "outputs": [
    {
     "data": {
      "image/png": "[encoded data removed]",
      "text/plain": [
       "<Figure size 640x480 with 1 Axes>"
      ]
     },
     "metadata": {},
     "output_type": "display_data"
    }
   ],
   "source": [
    "import matplotlib.pyplot as plt\n",
    "\n",
    "plt.plot(range(1, 15, 1), errs, label=f\"({DISTANCE}, {ROUNDS})\")\n",
    "plt.xlabel(\"Number of bits\")\n",
    "plt.ylabel(\"Number of errors\")\n",
    "plt.legend()\n",
    "plt.grid()\n"
   ]
  },
  {
   "cell_type": "markdown",
   "metadata": {},
   "source": [
    "# Using cpp kde"
   ]
  },
  {
   "cell_type": "code",
   "execution_count": 14,
   "metadata": {},
   "outputs": [
    {
     "name": "stdout",
     "output_type": "stream",
     "text": [
      "num_errors IQ: 34 out of 10000 shots for _RESETS = False\n"
     ]
    }
   ],
   "source": [
    "_DETAILED = False\n",
    "\n",
    "matching = pymatching.Matching.from_detector_error_model(model)\n",
    "result = cpp_soft_info.decode_IQ_fast(model, IQ_data,\n",
    "                                           ROUNDS, int(LOGICAL), _RESETS, simulator.qubit_mapping, simulator.grid_dict,\n",
    "                                           simulator.processed_scaler_dict, _detailed=_DETAILED, nb_intervals=-1)\n",
    "\n",
    "print(\"num_errors IQ:\", result.num_errors, \"out of\", len(IQ_data), \"shots for _RESETS =\", _RESETS)"
   ]
  },
  {
   "cell_type": "code",
   "execution_count": 15,
   "metadata": {},
   "outputs": [
    {
     "name": "stdout",
     "output_type": "stream",
     "text": [
      "num_errors KDE: 26 out of 10000 shots for _RESETS = False\n"
     ]
    }
   ],
   "source": [
    "_DETAILED = False\n",
    "\n",
    "relError = 1\n",
    "absError = -1\n",
    "\n",
    "# relError = 1\n",
    "# absError = 10\n",
    "\n",
    "result_kde = cpp_soft_info.decode_IQ_kde(model, IQ_data, ROUNDS, int(LOGICAL), _RESETS, \n",
    "                                         simulator.qubit_mapping, kde_dict, _DETAILED, relError=relError, absError=absError,\n",
    "                                         nb_intervals=-1)\n",
    "\n",
    "print(\"num_errors KDE:\", result_kde.num_errors, \"out of\", len(IQ_data), \"shots for _RESETS =\", _RESETS)"
   ]
  },
  {
   "cell_type": "code",
   "execution_count": null,
   "metadata": {},
   "outputs": [
    {
     "name": "stdout",
     "output_type": "stream",
     "text": [
      "num_errors informed: 0 out of 100 shots for _RESETS = False\n",
      "num_errors informed EXTREME: 8 out of 100 shots for _RESETS = False\n"
     ]
    }
   ],
   "source": [
    "p_meas = -1\n",
    "# p_meas = 7e-2 \n",
    "\n",
    "result_informed = cpp_soft_info.decode_IQ_shots_flat_informed(model, IQ_data[:],\n",
    "                                           ROUNDS, int(LOGICAL), _RESETS, simulator.qubit_mapping, simulator.grid_dict, simulator.processed_scaler_dict,\n",
    "                                           p_data = -1, p_mixed = -1, p_meas = p_meas, common_measure=-1, _detailed=_DETAILED, _ntnn_edges = True)\n",
    "\n",
    "print(\"num_errors informed:\", result_informed.num_errors, \"out of\", len(IQ_data), \"shots for _RESETS =\", _RESETS)\n",
    "         \n",
    "# takes 1s"
   ]
  },
  {
   "cell_type": "markdown",
   "metadata": {},
   "source": [
    "# Plot the results"
   ]
  },
  {
   "cell_type": "code",
   "execution_count": null,
   "metadata": {},
   "outputs": [
    {
     "name": "stdout",
     "output_type": "stream",
     "text": [
      "\n",
      "IQ: [] \n",
      "kde: [] \n",
      "Flat: [] \n",
      "Informed []\n",
      "\n",
      "IQ EXTREME: [] \n",
      "kde EXTREME: [] \n",
      "Flat EXTREME: [] \n",
      "Informed EXTREME []\n"
     ]
    }
   ],
   "source": [
    "print(\"\\nIQ:\", result.indices, \"\\nkde:\", sorted(result_kde.indices), \"\\nInformed\", result_informed.indices)"
   ]
  },
  {
   "cell_type": "code",
   "execution_count": null,
   "metadata": {},
   "outputs": [
    {
     "name": "stdout",
     "output_type": "stream",
     "text": [
      "----- First True decoding -----\n"
     ]
    },
    {
     "data": {
      "image/png": "[encoded data removed]",
      "text/plain": [
       "<Figure size 800x800 with 1 Axes>"
      ]
     },
     "metadata": {},
     "output_type": "display_data"
    },
    {
     "name": "stdout",
     "output_type": "stream",
     "text": [
      "-----Second True decoding-----\n"
     ]
    },
    {
     "data": {
      "image/png": "[encoded data removed]",
      "text/plain": [
       "<Figure size 800x800 with 1 Axes>"
      ]
     },
     "metadata": {},
     "output_type": "display_data"
    },
    {
     "name": "stdout",
     "output_type": "stream",
     "text": [
      "-----Third True decoding-----\n"
     ]
    },
    {
     "data": {
      "image/png": "[encoded data removed]",
      "text/plain": [
       "<Figure size 800x800 with 1 Axes>"
      ]
     },
     "metadata": {},
     "output_type": "display_data"
    }
   ],
   "source": [
    "from soft_info import draw_matching_graph\n",
    "\n",
    "\n",
    "index = 10\n",
    "\n",
    "fig_size = (4, 13)\n",
    "fig_size = (8, 8)\n",
    "scale_factor = 0.5\n",
    "\n",
    "to_be_result = result_kde\n",
    "details = to_be_result.error_details[index]\n",
    "print(f\"----- First {bool(not (index in to_be_result.indices))} decoding -----\")\n",
    "draw_matching_graph(matching=None, d=DISTANCE, T=ROUNDS, syndromes=details.detection_syndromes,\n",
    "                        matched_edges=details.matched_edges, figsize=fig_size, scale_factor=scale_factor, edge_list=details.edges)\n",
    "\n",
    "to_be_result = result\n",
    "details = to_be_result.error_details[index]\n",
    "print(f\"-----Second {bool(not (index in to_be_result.indices))} decoding-----\")\n",
    "draw_matching_graph(matching=None, d=DISTANCE, T=ROUNDS, syndromes=details.detection_syndromes,\n",
    "                        matched_edges=details.matched_edges, figsize=fig_size, scale_factor=scale_factor, edge_list=details.edges)\n",
    "\n",
    "to_be_result = result_flat\n",
    "details = to_be_result.error_details[index]\n",
    "print(f\"-----Third {bool(not (index in to_be_result.indices))} decoding-----\")\n",
    "draw_matching_graph(matching=None, d=DISTANCE, T=ROUNDS, syndromes=details.detection_syndromes,\n",
    "                        matched_edges=details.matched_edges, figsize=fig_size, scale_factor=scale_factor, edge_list=details.edges)\n"
   ]
  },
  {
   "cell_type": "code",
   "execution_count": null,
   "metadata": {},
   "outputs": [
    {
     "name": "stdout",
     "output_type": "stream",
     "text": [
      "indices that are in informed but not in IQ with len: 0\n",
      "[]\n",
      "indices that are in IQ but not in informed with len: 0\n",
      "[]\n",
      "\n",
      "indices that are in IQ but not in flat with len: 0\n",
      "[]\n",
      "indices that are in flat but not in IQ with len: 0\n",
      "[]\n",
      "\n",
      "indices that are in IQ but not in kde with len: 0\n",
      "[]\n",
      "indices that are in kde but not in IQ with len: 0\n",
      "[]\n"
     ]
    }
   ],
   "source": [
    "informed_not_in_iq = sorted(set(result_informed.indices) - set(result.indices))\n",
    "print(\"indices that are in informed but not in IQ with len:\", len(informed_not_in_iq))\n",
    "print(informed_not_in_iq)\n",
    "iq_not_in_informed = sorted(set(result.indices) - set(result_informed.indices))\n",
    "print(\"indices that are in IQ but not in informed with len:\", len(iq_not_in_informed))\n",
    "print(iq_not_in_informed)\n",
    "\n",
    "print()\n",
    "\n",
    "iq_not_in_flat = sorted(set(result.indices) - set(result_flat.indices))\n",
    "print(\"indices that are in IQ but not in flat with len:\", len(iq_not_in_flat))\n",
    "print(iq_not_in_flat)\n",
    "flat_not_in_iq = sorted(set(result_flat.indices) - set(result.indices))\n",
    "print(\"indices that are in flat but not in IQ with len:\", len(flat_not_in_iq))\n",
    "print(flat_not_in_iq)\n",
    "\n",
    "print()\n",
    "\n",
    "iq_not_in_kde = sorted(set(result.indices) - set(result_kde.indices))\n",
    "print(\"indices that are in IQ but not in kde with len:\", len(iq_not_in_kde))\n",
    "print(iq_not_in_kde)\n",
    "kde_not_in_iq = sorted(set(result_kde.indices) - set(result.indices))\n",
    "print(\"indices that are in kde but not in IQ with len:\", len(kde_not_in_iq))\n",
    "print(kde_not_in_iq)"
   ]
  },
  {
   "cell_type": "markdown",
   "metadata": {},
   "source": [
    "# Analyse specific shots"
   ]
  },
  {
   "cell_type": "code",
   "execution_count": null,
   "metadata": {},
   "outputs": [
    {
     "name": "stdout",
     "output_type": "stream",
     "text": [
      "{'0010000 001000': 1}\n"
     ]
    },
    {
     "name": "stderr",
     "output_type": "stream",
     "text": [
      "100%|██████████| 25/25 [00:00<00:00, 519097.03it/s]"
     ]
    },
    {
     "name": "stdout",
     "output_type": "stream",
     "text": [
      "mean time edge weight: 3.2142805258433023\n",
      "\n",
      "[(1, 7), (0, -1)]\n",
      "-----IQ-----\n"
     ]
    },
    {
     "name": "stderr",
     "output_type": "stream",
     "text": [
      "\n"
     ]
    },
    {
     "data": {
      "image/png": "[encoded data removed]",
      "text/plain": [
       "<Figure size 800x800 with 1 Axes>"
      ]
     },
     "metadata": {},
     "output_type": "display_data"
    }
   ],
   "source": [
    "from tqdm import tqdm\n",
    "\n",
    "index = 83\n",
    "IQ_data_new = IQ_data[index:index+1]\n",
    "\n",
    "esult = cpp_soft_info.decode_IQ_shots(matching._matching_graph, IQ_data_extreme,\n",
    "                                             ROUNDS, int(LOGICAL), _RESETS, simulator.qubit_mapping, simulator.grid_dict,\n",
    "                                             simulator.processed_scaler_dict, p_data=-1, p_mixed=-1,\n",
    "                                             common_measure=-1, _adv_probs=not _RESETS, _bimodal=_RESETS, merge_strategy = \"replace\", _detailed=_DETAILED,\n",
    "                                              p_offset = 1, p_multiplicator = 1, _ntnn_edges = True)\n",
    "\n",
    "print(cpp_soft_info.get_counts(IQ_data_new, simulator.qubit_mapping, simulator.grid_dict, simulator.processed_scaler_dict, ROUNDS))\n",
    "\n",
    "\n",
    "\n",
    "to_be_result = esult\n",
    "details = to_be_result.error_details[0]\n",
    "\n",
    "\n",
    "mean_edge_weight = 0\n",
    "num_time_edges = 0\n",
    "for edge in tqdm(matching.edges()):\n",
    "    src_node, tgt_node, data = edge\n",
    "    if src_node == None or tgt_node == None:\n",
    "        continue\n",
    "    if src_node == tgt_node - (DISTANCE-1):\n",
    "        mean_edge_weight += data[\"weight\"]\n",
    "        num_time_edges += 1\n",
    "\n",
    "print(\"mean time edge weight:\", mean_edge_weight / num_time_edges)\n",
    "\n",
    "print()\n",
    "print(details.matched_edges)\n",
    "\n",
    "print(\"-----IQ-----\")\n",
    "draw_matching_graph(matching=None, d=DISTANCE, T=ROUNDS, syndromes=details.detection_syndromes,\n",
    "                        matched_edges=details.matched_edges, figsize=fig_size, scale_factor=scale_factor, edge_list=details.edges)"
   ]
  },
  {
   "cell_type": "code",
   "execution_count": null,
   "metadata": {},
   "outputs": [],
   "source": []
  }
 ],
 "metadata": {
  "kernelspec": {
   "display_name": "Soft-Info-fMUpUe5a",
   "language": "python",
   "name": "python3"
  },
  "language_info": {
   "codemirror_mode": {
    "name": "ipython",
    "version": 3
   },
   "file_extension": ".py",
   "mimetype": "text/x-python",
   "name": "python",
   "nbconvert_exporter": "python",
   "pygments_lexer": "ipython3",
   "version": "3.11.4"
  }
 },
 "nbformat": 4,
 "nbformat_minor": 2
}
