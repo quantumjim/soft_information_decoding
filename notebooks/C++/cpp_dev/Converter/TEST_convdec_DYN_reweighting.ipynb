{
 "cells": [
  {
   "cell_type": "markdown",
   "metadata": {},
   "source": [
    "# Initialize model"
   ]
  },
  {
   "cell_type": "code",
   "execution_count": 1,
   "metadata": {},
   "outputs": [],
   "source": [
    "msmt_err_dict = {\n",
    "    0: {'p_soft': 0.0, 'p_hard': 0.0},\n",
    "    1: {'p_soft': 0.0, 'p_hard': 0.00},\n",
    "    2: {'p_soft': 0.0, 'p_hard': 0.0},\n",
    "    3: {'p_soft': 0.0, 'p_hard': 0.00},\n",
    "    4: {'p_soft': 0.0, 'p_hard': 0.00},\n",
    "}\n",
    "\n",
    "msmt_err_dict = {\n",
    "    0: {'p_soft': 0.0, 'p_hard': 0.09},\n",
    "    1: {'p_soft': 0.18, 'p_hard': 0.19},\n",
    "    2: {'p_soft': 0.28, 'p_hard': 0.29},\n",
    "    3: {'p_soft': 0.38, 'p_hard': 0.39},\n",
    "    4: {'p_soft': 0.48, 'p_hard': 0.49},\n",
    "}\n",
    "\n",
    "\n",
    "p_soft_mean = 0.005\n",
    "p_hard_mean = 0.005"
   ]
  },
  {
   "cell_type": "code",
   "execution_count": 2,
   "metadata": {},
   "outputs": [],
   "source": [
    "from soft_info import RepetitionCodeStimCircuit\n",
    "\n",
    "D = 3\n",
    "T = 2\n",
    "RESETS = False\n",
    "LOGICAL = '0'\n",
    "XBASIS = False\n",
    "\n",
    "SUBSAMPLING = False\n",
    "NO_FIN_SOFT = False\n",
    "\n",
    "LAYOUT = [1, 3, 0, 2, 4]\n",
    "NOISE_LIST = [3e-2, 1e-3, 0.2e-2, 0.2e-2, p_hard_mean+p_soft_mean, p_hard_mean, p_soft_mean]\n",
    "\n",
    "code = RepetitionCodeStimCircuit(D, T, XBASIS, RESETS, NOISE_LIST,\n",
    "                                 subsampling=SUBSAMPLING, no_fin_soft=NO_FIN_SOFT,\n",
    "                                #  layout=LAYOUT, msmt_err_dict=msmt_err_dict)\n",
    "                                 layout=None, msmt_err_dict=None)\n",
    "circ = code.circuits[LOGICAL]\n",
    "\n",
    "model = circ.detector_error_model()"
   ]
  },
  {
   "cell_type": "markdown",
   "metadata": {},
   "source": [
    "# countMat & pSoft"
   ]
  },
  {
   "cell_type": "code",
   "execution_count": 3,
   "metadata": {},
   "outputs": [],
   "source": [
    "import numpy as np\n",
    "\n",
    "countMat = np.array([\n",
    "    [0,0,0,0,0,0,0], # no errors\n",
    "    [1,0,1,0,0,0,1], # 1 msmt + 1 logical error\n",
    "    [0,0,0,0,0,0,0], \n",
    "    [0,0,0,0,0,0,0], \n",
    "    [0,0,0,0,0,0,0],\n",
    "    [0,0,0,0,0,0,0],\n",
    "    [0,0,0,0,0,0,0],\n",
    "    [0,0,0,0,0,0,0],\n",
    "    [0,0,0,0,0,0,0],\n",
    "    [0,0,0,0,0,0,0],\n",
    "    ])\n",
    "\n",
    "pSoft = np.array([\n",
    "    [1e-2,1e-2,1e-2,1e-2,1e-2,1e-2,1e-2],\n",
    "    [0.5,0.5,0.5,0.5,0.5,0.5,0.5], \n",
    "    [0,0,0,0,0,0,0], \n",
    "    [0,0,0,0,0,0,0], \n",
    "    [1e-8,1e-8,1e-8,1e-8,1e-8,1e-8,1e-8],\n",
    "    [0.5,0.5,0.5,0.5,0.5,0.5,0.5], \n",
    "    [1e-8,1e-8,1e-8,1e-8,1e-8,1e-8,1e-8],\n",
    "    [1e-80, 1e-80, 1e-80, 1e-80, 1e-80, 1e-80, 1e-80],\n",
    "    [0,0,0,0,0,0,0.5],\n",
    "    [0,0.5,0,0,0,0,0],\n",
    "    ])\n",
    "\n",
    "\n",
    "# check that the dimensions are the same\n",
    "assert countMat.shape == pSoft.shape, f\"countMat.shape = {countMat.shape}, pSoft.shape = {pSoft.shape}\""
   ]
  },
  {
   "cell_type": "markdown",
   "metadata": {},
   "source": [
    "# Check reweighting\n"
   ]
  },
  {
   "cell_type": "code",
   "execution_count": 4,
   "metadata": {},
   "outputs": [
    {
     "name": "stdout",
     "output_type": "stream",
     "text": [
      "{0: 1, 1: 3, 2: 1, 3: 3, 4: 0, 5: 2, 6: 4}\n"
     ]
    }
   ],
   "source": [
    "from soft_info import get_repcode_IQ_map\n",
    "\n",
    "qubit_mapping = get_repcode_IQ_map(LAYOUT, T)\n",
    "print(qubit_mapping)\n",
    "\n",
    "msmt_err_dict = {\n",
    "    0: {'p_hard_0': 0.0, 'p_hard_1': 0.0, 'p_soft_0': 0.0, 'p_soft_1': 0.0},\n",
    "    1: {'p_hard_0': 0.0, 'p_hard_1': 0.4, 'p_soft_0': 0.0, 'p_soft_1': 0.0},\n",
    "    2: {'p_hard_0': 0.0, 'p_hard_1': 0.0, 'p_soft_0': 0.0, 'p_soft_1': 0.0},\n",
    "    3: {'p_hard_0': 0.0, 'p_hard_1': 0.0, 'p_soft_0': 0.0, 'p_soft_1': 0.0},\n",
    "    4: {'p_hard_0': 0.0, 'p_hard_1': 0.5, 'p_soft_0': 0.0, 'p_soft_1': 0.0},\n",
    "}\n",
    "\n",
    "# msmt_err_dict = {\n",
    "#     0: {'p_hard_0': 0.5, 'p_hard_1': 0.5, 'p_soft_0': 0.5, 'p_soft_1': 0.5},\n",
    "#     1: {'p_hard_0': 0.5, 'p_hard_1': 0.5, 'p_soft_0': 0.5, 'p_soft_1': 0.5},\n",
    "#     2: {'p_hard_0': 0.5, 'p_hard_1': 0.5, 'p_soft_0': 0.5, 'p_soft_1': 0.5},\n",
    "#     3: {'p_hard_0': 0.5, 'p_hard_1': 0.5, 'p_soft_0': 0.5, 'p_soft_1': 0.5},\n",
    "#     4: {'p_hard_0': 0.5, 'p_hard_1': 0.5, 'p_soft_0': 0.5, 'p_soft_1': 0.5},\n",
    "# }"
   ]
  },
  {
   "cell_type": "code",
   "execution_count": 5,
   "metadata": {},
   "outputs": [
    {
     "name": "stdout",
     "output_type": "stream",
     "text": [
      "count slice [0 0 0 0 0 0 0]\n",
      "pSoft slice [0.5 0.5 0.5 0.5 0.5 0.5 0.5]\n"
     ]
    },
    {
     "data": {
      "image/png": "[encoded data removed]",
      "text/plain": [
       "<Figure size 225x225 with 1 Axes>"
      ]
     },
     "metadata": {},
     "output_type": "display_data"
    },
    {
     "data": {
      "image/png": "[encoded data removed]",
      "text/plain": [
       "<Figure size 225x225 with 1 Axes>"
      ]
     },
     "metadata": {},
     "output_type": "display_data"
    }
   ],
   "source": [
    "from soft_info import draw_matching_graph  \n",
    "from src import cpp_soft_info as cpp \n",
    "import pymatching\n",
    "\n",
    "\n",
    "DECODE_HARD = False\n",
    "\n",
    "result = cpp.decodeConvertorDynamicAll(model, countMat, pSoft,\n",
    "                                       msmt_err_dict, qubit_mapping,\n",
    "                                        T, int(LOGICAL), RESETS, _detailed=True, decode_hard=DECODE_HARD)\n",
    "\n",
    "SHOT = 5\n",
    "\n",
    "print(f\"count slice {countMat[SHOT]}\")\n",
    "print(f\"pSoft slice {pSoft[SHOT]}\")\n",
    "matching2 = pymatching.Matching.from_detector_error_model(model)\n",
    "result_edges = []\n",
    "for edge in result.error_details[SHOT].edges:\n",
    "    node1, node2, w = edge.node1, edge.node2, edge.attributes.weight\n",
    "    if node2 == 18446744073709551615: \n",
    "        matching2.add_boundary_edge(node1, {0}, w, 0, merge_strategy='replace')\n",
    "    else:\n",
    "        matching2.add_edge(node1, node2, {0}, w, 0, merge_strategy='replace')\n",
    "matching = pymatching.Matching.from_detector_error_model(model)\n",
    "draw_matching_graph(matching, D, T, figsize=(1.5,1.5), scale_factor=0.4)\n",
    "draw_matching_graph(matching2, D, T, figsize=(1.5,1.5), scale_factor=0.4, syndromes=countMat[SHOT])\n"
   ]
  },
  {
   "cell_type": "code",
   "execution_count": 6,
   "metadata": {},
   "outputs": [
    {
     "name": "stdout",
     "output_type": "stream",
     "text": [
      "Edge (0, 18446744073709551615): w:4.41, p:0.01, f:set()\n",
      "Edge (0, 1): w:4.41, p:0.01, f:set()\n",
      "Edge (0, 2): w:0.39, p:0.02, f:set()\n",
      "Edge (0, 3): w:4.12, p:0.02, f:set()\n",
      "Edge (0, 4): w:-0.00, p:0.50, f:set()\n",
      "Edge (1, 3): w:3.85, p:0.02, f:set()\n",
      "Edge (1, 5): w:-0.00, p:0.50, f:set()\n",
      "Edge (1, 18446744073709551615): w:4.41, p:0.01, f:{0}\n",
      "Edge (2, 18446744073709551615): w:3.90, p:0.02, f:set()\n",
      "Edge (2, 3): w:3.90, p:0.02, f:set()\n",
      "Edge (2, 4): w:0.02, p:0.03, f:set()\n",
      "Edge (2, 5): w:4.12, p:0.02, f:set()\n",
      "Edge (3, 5): w:-0.00, p:0.03, f:set()\n",
      "Edge (3, 18446744073709551615): w:3.90, p:0.02, f:{0}\n",
      "Edge (4, 18446744073709551615): w:-0.00, p:0.02, f:set()\n",
      "Edge (4, 5): w:-0.00, p:0.02, f:set()\n",
      "Edge (5, 18446744073709551615): w:0.02, p:0.02, f:{0}\n"
     ]
    }
   ],
   "source": [
    "for edge in result.error_details[SHOT].edges:\n",
    "    print(f\"Edge ({edge.node1}, {edge.node2}): w:{edge.attributes.weight:.2f}, p:{edge.attributes.error_probability:.2f}, f:{edge.attributes.fault_ids}\")\n",
    "    "
   ]
  },
  {
   "cell_type": "markdown",
   "metadata": {},
   "source": [
    "# Check decoding"
   ]
  },
  {
   "cell_type": "code",
   "execution_count": 7,
   "metadata": {},
   "outputs": [
    {
     "name": "stdout",
     "output_type": "stream",
     "text": [
      "[]\n",
      "[(4, 0), (4, 2), (5, -1)]\n",
      "[]\n",
      "[]\n",
      "[]\n",
      "[]\n",
      "[]\n",
      "[]\n",
      "[]\n",
      "[]\n"
     ]
    }
   ],
   "source": [
    "for details in result.error_details:\n",
    "    print(details.matched_edges)"
   ]
  },
  {
   "cell_type": "code",
   "execution_count": null,
   "metadata": {},
   "outputs": [],
   "source": []
  },
  {
   "cell_type": "code",
   "execution_count": null,
   "metadata": {},
   "outputs": [],
   "source": []
  }
 ],
 "metadata": {
  "kernelspec": {
   "display_name": "Soft-Info-fMUpUe5a",
   "language": "python",
   "name": "python3"
  },
  "language_info": {
   "codemirror_mode": {
    "name": "ipython",
    "version": 3
   },
   "file_extension": ".py",
   "mimetype": "text/x-python",
   "name": "python",
   "nbconvert_exporter": "python",
   "pygments_lexer": "ipython3",
   "version": "3.11.4"
  }
 },
 "nbformat": 4,
 "nbformat_minor": 2
}
