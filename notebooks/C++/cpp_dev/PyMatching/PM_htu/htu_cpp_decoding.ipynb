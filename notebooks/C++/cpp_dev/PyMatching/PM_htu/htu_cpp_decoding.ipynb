{
 "cells": [
  {
   "cell_type": "code",
   "execution_count": 3,
   "metadata": {},
   "outputs": [],
   "source": [
    "import cpp_soft_info"
   ]
  },
  {
   "cell_type": "markdown",
   "metadata": {},
   "source": [
    "# Load Data"
   ]
  },
  {
   "cell_type": "code",
   "execution_count": 4,
   "metadata": {},
   "outputs": [],
   "source": [
    "%reload_ext autoreload\n",
    "%autoreload 2"
   ]
  },
  {
   "cell_type": "code",
   "execution_count": 5,
   "metadata": {},
   "outputs": [],
   "source": [
    "from result_saver import SaverProvider\n",
    "provider = SaverProvider()"
   ]
  },
  {
   "cell_type": "code",
   "execution_count": 15,
   "metadata": {},
   "outputs": [
    {
     "data": {
      "text/html": [
       "<div>\n",
       "<style scoped>\n",
       "    .dataframe tbody tr th:only-of-type {\n",
       "        vertical-align: middle;\n",
       "    }\n",
       "\n",
       "    .dataframe tbody tr th {\n",
       "        vertical-align: top;\n",
       "    }\n",
       "\n",
       "    .dataframe thead th {\n",
       "        text-align: right;\n",
       "    }\n",
       "</style>\n",
       "<table border=\"1\" class=\"dataframe\">\n",
       "  <thead>\n",
       "    <tr style=\"text-align: right;\">\n",
       "      <th></th>\n",
       "      <th>creation_date</th>\n",
       "      <th>notebook_name</th>\n",
       "      <th>backend_name</th>\n",
       "      <th>job_id</th>\n",
       "      <th>tags</th>\n",
       "      <th>shots</th>\n",
       "      <th>tags_xp</th>\n",
       "      <th>rep_delay</th>\n",
       "      <th>sampled_state</th>\n",
       "      <th>num_qubits</th>\n",
       "      <th>job_status</th>\n",
       "      <th>extra</th>\n",
       "      <th>optimization_level</th>\n",
       "      <th>code</th>\n",
       "      <th>distance</th>\n",
       "      <th>rounds</th>\n",
       "      <th>logical</th>\n",
       "      <th>layout</th>\n",
       "      <th>descr</th>\n",
       "    </tr>\n",
       "  </thead>\n",
       "  <tbody>\n",
       "    <tr>\n",
       "      <th>2552</th>\n",
       "      <td>2023-12-03 10:49:34.289000+01:00</td>\n",
       "      <td>torino_repcode</td>\n",
       "      <td>ibm_torino</td>\n",
       "      <td>cnp4ybh9drj000843pyg</td>\n",
       "      <td>[RC(56, 100), 10]</td>\n",
       "      <td>10.0</td>\n",
       "      <td>NaN</td>\n",
       "      <td>NaN</td>\n",
       "      <td>NaN</td>\n",
       "      <td>NaN</td>\n",
       "      <td>JobStatus.RUNNING</td>\n",
       "      <td>NaN</td>\n",
       "      <td>NaN</td>\n",
       "      <td>RepetitionCodeCircuit</td>\n",
       "      <td>56.0</td>\n",
       "      <td>100</td>\n",
       "      <td>1</td>\n",
       "      <td>_is_hex=True, sherbrooke</td>\n",
       "      <td>diff rounds v2</td>\n",
       "    </tr>\n",
       "    <tr>\n",
       "      <th>2551</th>\n",
       "      <td>2023-12-03 10:49:14.052000+01:00</td>\n",
       "      <td>torino_repcode</td>\n",
       "      <td>ibm_torino</td>\n",
       "      <td>cnp4y6g8sy80008p4dd0</td>\n",
       "      <td>[RC(56, 100), 10]</td>\n",
       "      <td>10.0</td>\n",
       "      <td>NaN</td>\n",
       "      <td>NaN</td>\n",
       "      <td>NaN</td>\n",
       "      <td>NaN</td>\n",
       "      <td>NaN</td>\n",
       "      <td>NaN</td>\n",
       "      <td>NaN</td>\n",
       "      <td>RepetitionCodeCircuit</td>\n",
       "      <td>56.0</td>\n",
       "      <td>100</td>\n",
       "      <td>0</td>\n",
       "      <td>_is_hex=True, sherbrooke</td>\n",
       "      <td>diff rounds v2</td>\n",
       "    </tr>\n",
       "  </tbody>\n",
       "</table>\n",
       "</div>"
      ],
      "text/plain": [
       "                         creation_date   notebook_name backend_name  \\\n",
       "2552  2023-12-03 10:49:34.289000+01:00  torino_repcode   ibm_torino   \n",
       "2551  2023-12-03 10:49:14.052000+01:00  torino_repcode   ibm_torino   \n",
       "\n",
       "                    job_id               tags  shots tags_xp  rep_delay  \\\n",
       "2552  cnp4ybh9drj000843pyg  [RC(56, 100), 10]   10.0     NaN        NaN   \n",
       "2551  cnp4y6g8sy80008p4dd0  [RC(56, 100), 10]   10.0     NaN        NaN   \n",
       "\n",
       "     sampled_state  num_qubits         job_status extra  optimization_level  \\\n",
       "2552           NaN         NaN  JobStatus.RUNNING   NaN                 NaN   \n",
       "2551           NaN         NaN                NaN   NaN                 NaN   \n",
       "\n",
       "                       code  distance rounds logical  \\\n",
       "2552  RepetitionCodeCircuit      56.0    100       1   \n",
       "2551  RepetitionCodeCircuit      56.0    100       0   \n",
       "\n",
       "                        layout           descr  \n",
       "2552  _is_hex=True, sherbrooke  diff rounds v2  \n",
       "2551  _is_hex=True, sherbrooke  diff rounds v2  "
      ]
     },
     "execution_count": 15,
     "metadata": {},
     "output_type": "execute_result"
    }
   ],
   "source": [
    "import numpy as np\n",
    "from Scratch import metadata_loader\n",
    "\n",
    "DEVICE = 'ibm_torino'\n",
    "\n",
    "md = metadata_loader(_extract=True, _drop_inutile=True)\n",
    "# md = md[md[\"job_status\"] == \"JobStatus.DONE\"]\n",
    "# md = md[md[\"notebook_name\"] == \"bigger_rep_codes\"]\n",
    "max_distance = int(max(md.distance))\n",
    "max_distance = 56\n",
    "md = md[md[\"distance\"] == max_distance]\n",
    "md = md[md[\"backend_name\"]==DEVICE]\n",
    "\n",
    "\n",
    "md = md[md[\"shots\"]==10]\n",
    "md = md[:2]\n",
    "\n",
    "md"
   ]
  },
  {
   "cell_type": "code",
   "execution_count": 16,
   "metadata": {},
   "outputs": [
    {
     "name": "stdout",
     "output_type": "stream",
     "text": [
      "(10, 5556)\n"
     ]
    }
   ],
   "source": [
    "memories = {}\n",
    "jobs = {}\n",
    "for job_id, logical in zip(md.job_id, md.logical):\n",
    "    mmr_name = f\"mmr_log_{logical}\"\n",
    "    memories[mmr_name] = provider.retrieve_job(job_id).result().get_memory()\n",
    "    jobs[mmr_name] = job_id\n",
    "\n",
    "memory_str = \"mmr_log_0\"\n",
    "memory = memories[memory_str][:]\n",
    "job_id = jobs[memory_str]\n",
    "print(memory.shape)"
   ]
  },
  {
   "cell_type": "markdown",
   "metadata": {},
   "source": [
    "# Initialize the code"
   ]
  },
  {
   "cell_type": "code",
   "execution_count": 17,
   "metadata": {},
   "outputs": [],
   "source": [
    "import stim\n",
    "import pymatching\n",
    "\n",
    "from soft_info import get_repcode_layout, get_repcode_IQ_map\n",
    "from Scratch import create_or_load_kde_grid\n",
    "\n",
    "d = max_distance\n",
    "synd_rounds = max_distance\n",
    "synd_rounds = 100\n",
    "\n",
    "circuit = stim.Circuit.generated(\"repetition_code:memory\",\n",
    "                                 distance=d,\n",
    "                                 rounds=synd_rounds,\n",
    "                                 after_clifford_depolarization=0.1)\n",
    "\n",
    "model = circuit.detector_error_model(decompose_errors=True)\n",
    "\n",
    "# layout = get_repcode_layout(distance=max_distance, backend=provider.get_backend(DEVICE), _is_hex=True)\n",
    "\n",
    "##### TORINO ####\n",
    "distance = max_distance\n",
    "import pickle\n",
    "with open('longest_path_torino.pkl', 'rb') as f:\n",
    "    path = pickle.load(f)\n",
    "bounded_path = path[:2 * distance - 1]\n",
    "layout = bounded_path[1::2] + bounded_path[::2] \n",
    "\n",
    "\n",
    "qubit_mapping = get_repcode_IQ_map(layout, synd_rounds) #Hardcoded for repetition codes\n",
    "# print(qubit_mapping)\n",
    "# print(len(qubit_mapping))"
   ]
  },
  {
   "cell_type": "markdown",
   "metadata": {},
   "source": [
    "# Sligthly faster faster triple loop"
   ]
  },
  {
   "cell_type": "code",
   "execution_count": 18,
   "metadata": {},
   "outputs": [],
   "source": [
    "other_date = None # if none then it will find the closest to the tobecalib_job date\n",
    "# other_date = \"2023-11-22T10:30:00\" # \"2023-11-22T\" works too\n",
    "grid_dict, processed_scaler_dict = create_or_load_kde_grid(provider, job_id, 5, 0.3, other_date=other_date)\n",
    "\n",
    "# takes 10s"
   ]
  },
  {
   "cell_type": "code",
   "execution_count": 19,
   "metadata": {},
   "outputs": [],
   "source": [
    "# get_counts\n",
    "counts = cpp_soft_info.get_counts(memory, qubit_mapping, grid_dict, processed_scaler_dict, synd_rounds)"
   ]
  },
  {
   "cell_type": "markdown",
   "metadata": {},
   "source": [
    "# Decode"
   ]
  },
  {
   "cell_type": "code",
   "execution_count": 20,
   "metadata": {},
   "outputs": [
    {
     "name": "stdout",
     "output_type": "stream",
     "text": [
      "num_errors: 1 out of 10 shots\n"
     ]
    }
   ],
   "source": [
    "matching = pymatching.Matching.from_detector_error_model(model)\n",
    "# p_data = 6.869e-3 # mean sherbrooke noise\n",
    "p_data = 1.15e-2\n",
    "num_errors = cpp_soft_info.decode_IQ_shots(matching._matching_graph, memory, \n",
    "                                           synd_rounds, qubit_mapping, grid_dict, \n",
    "                                           processed_scaler_dict, p_data=p_data, p_mixed=p_data/1, #p_mixed=1e-80, for d=30\n",
    "                                           common_measure=-1)\n",
    "print(\"num_errors:\", num_errors, \"out of\", len(memory), \"shots\")\n",
    " \n",
    "# takes 5s"
   ]
  },
  {
   "cell_type": "code",
   "execution_count": 21,
   "metadata": {},
   "outputs": [
    {
     "name": "stdout",
     "output_type": "stream",
     "text": [
      "num_errors: 5 out of 10 shots\n"
     ]
    }
   ],
   "source": [
    "matching = pymatching.Matching.from_detector_error_model(model)\n",
    "num_errors = cpp_soft_info.decode_IQ_shots_flat(matching._matching_graph, memory, \n",
    "                                           synd_rounds, qubit_mapping, grid_dict, \n",
    "                                           processed_scaler_dict)\n",
    "print(\"num_errors:\", num_errors, \"out of\", len(memory), \"shots\")\n",
    "\n",
    "# takes 1s"
   ]
  },
  {
   "cell_type": "code",
   "execution_count": 22,
   "metadata": {},
   "outputs": [
    {
     "name": "stdout",
     "output_type": "stream",
     "text": [
      "num_errors: 4 out of 10 shots\n"
     ]
    }
   ],
   "source": [
    "matching = pymatching.Matching.from_detector_error_model(model)\n",
    "\n",
    "def weight_to_prob(weight):\n",
    "    return 1/(1+np.exp(weight))\n",
    "\n",
    "p_data = 6.869e-3 # mean sherbrooke ECR error\n",
    "p_mixed = p_data/1 # Same as weighted\n",
    "p_meas = 9.900e-3 # mean Readout assignment error\n",
    "\n",
    "num_errors = cpp_soft_info.decode_IQ_shots_flat_informed(matching._matching_graph, memory, \n",
    "                                           synd_rounds, qubit_mapping, grid_dict, processed_scaler_dict,\n",
    "                                           p_data, p_mixed, p_meas, common_measure=-1)\n",
    "                                        \n",
    "print(\"num_errors:\", num_errors, \"out of\", len(memory), \"shots\")\n",
    "         \n",
    "# takes 1s"
   ]
  },
  {
   "cell_type": "code",
   "execution_count": null,
   "metadata": {},
   "outputs": [],
   "source": []
  }
 ],
 "metadata": {
  "kernelspec": {
   "display_name": "Soft-Info-fMUpUe5a",
   "language": "python",
   "name": "python3"
  },
  "language_info": {
   "codemirror_mode": {
    "name": "ipython",
    "version": 3
   },
   "file_extension": ".py",
   "mimetype": "text/x-python",
   "name": "python",
   "nbconvert_exporter": "python",
   "pygments_lexer": "ipython3",
   "version": "3.11.4"
  }
 },
 "nbformat": 4,
 "nbformat_minor": 2
}
