{
 "cells": [
  {
   "cell_type": "code",
   "execution_count": 1,
   "metadata": {},
   "outputs": [],
   "source": [
    "import cpp_soft_info"
   ]
  },
  {
   "cell_type": "markdown",
   "metadata": {},
   "source": [
    "# Load Data"
   ]
  },
  {
   "cell_type": "code",
   "execution_count": 2,
   "metadata": {},
   "outputs": [],
   "source": [
    "%reload_ext autoreload\n",
    "%autoreload 2"
   ]
  },
  {
   "cell_type": "code",
   "execution_count": 3,
   "metadata": {},
   "outputs": [],
   "source": [
    "from result_saver import SaverProvider\n",
    "provider = SaverProvider()"
   ]
  },
  {
   "cell_type": "code",
   "execution_count": 4,
   "metadata": {},
   "outputs": [
    {
     "data": {
      "text/html": [
       "<div>\n",
       "<style scoped>\n",
       "    .dataframe tbody tr th:only-of-type {\n",
       "        vertical-align: middle;\n",
       "    }\n",
       "\n",
       "    .dataframe tbody tr th {\n",
       "        vertical-align: top;\n",
       "    }\n",
       "\n",
       "    .dataframe thead th {\n",
       "        text-align: right;\n",
       "    }\n",
       "</style>\n",
       "<table border=\"1\" class=\"dataframe\">\n",
       "  <thead>\n",
       "    <tr style=\"text-align: right;\">\n",
       "      <th></th>\n",
       "      <th>creation_date</th>\n",
       "      <th>notebook_name</th>\n",
       "      <th>backend_name</th>\n",
       "      <th>job_id</th>\n",
       "      <th>tags</th>\n",
       "      <th>shots</th>\n",
       "      <th>tags_xp</th>\n",
       "      <th>sampled_state</th>\n",
       "      <th>num_qubits</th>\n",
       "      <th>job_status</th>\n",
       "      <th>extra</th>\n",
       "      <th>optimization_level</th>\n",
       "      <th>code</th>\n",
       "      <th>distance</th>\n",
       "      <th>rounds</th>\n",
       "      <th>logical</th>\n",
       "      <th>layout</th>\n",
       "      <th>descr</th>\n",
       "    </tr>\n",
       "  </thead>\n",
       "  <tbody>\n",
       "    <tr>\n",
       "      <th>258</th>\n",
       "      <td>2023-10-30 09:45:17.340386+01:00</td>\n",
       "      <td>bigger_rep_codes</td>\n",
       "      <td>ibm_sherbrooke</td>\n",
       "      <td>cmzpt78vcq70008qf1ag</td>\n",
       "      <td>[]</td>\n",
       "      <td>1111.0</td>\n",
       "      <td>NaN</td>\n",
       "      <td>NaN</td>\n",
       "      <td>NaN</td>\n",
       "      <td>JobStatus.DONE</td>\n",
       "      <td>NaN</td>\n",
       "      <td>NaN</td>\n",
       "      <td>RepetitionCodeCircuit</td>\n",
       "      <td>30.0</td>\n",
       "      <td>30</td>\n",
       "      <td>0</td>\n",
       "      <td>_is_hex=True</td>\n",
       "      <td>Run bigger Repetition codes v4: new distances ...</td>\n",
       "    </tr>\n",
       "    <tr>\n",
       "      <th>76</th>\n",
       "      <td>2023-10-29 14:47:58.814875+01:00</td>\n",
       "      <td>bigger_rep_codes</td>\n",
       "      <td>ibm_sherbrooke</td>\n",
       "      <td>cmz653m3r3vg008wf9j0</td>\n",
       "      <td>[]</td>\n",
       "      <td>1111.0</td>\n",
       "      <td>NaN</td>\n",
       "      <td>NaN</td>\n",
       "      <td>NaN</td>\n",
       "      <td>JobStatus.DONE</td>\n",
       "      <td>NaN</td>\n",
       "      <td>NaN</td>\n",
       "      <td>RepetitionCodeCircuit</td>\n",
       "      <td>30.0</td>\n",
       "      <td>30</td>\n",
       "      <td>1</td>\n",
       "      <td>_is_hex=True</td>\n",
       "      <td>Run bigger Repetition codes</td>\n",
       "    </tr>\n",
       "  </tbody>\n",
       "</table>\n",
       "</div>"
      ],
      "text/plain": [
       "                        creation_date     notebook_name    backend_name  \\\n",
       "258  2023-10-30 09:45:17.340386+01:00  bigger_rep_codes  ibm_sherbrooke   \n",
       "76   2023-10-29 14:47:58.814875+01:00  bigger_rep_codes  ibm_sherbrooke   \n",
       "\n",
       "                   job_id tags   shots tags_xp sampled_state  num_qubits  \\\n",
       "258  cmzpt78vcq70008qf1ag   []  1111.0     NaN           NaN         NaN   \n",
       "76   cmz653m3r3vg008wf9j0   []  1111.0     NaN           NaN         NaN   \n",
       "\n",
       "         job_status extra  optimization_level                   code  \\\n",
       "258  JobStatus.DONE   NaN                 NaN  RepetitionCodeCircuit   \n",
       "76   JobStatus.DONE   NaN                 NaN  RepetitionCodeCircuit   \n",
       "\n",
       "     distance rounds logical        layout  \\\n",
       "258      30.0     30       0  _is_hex=True   \n",
       "76       30.0     30       1  _is_hex=True   \n",
       "\n",
       "                                                 descr  \n",
       "258  Run bigger Repetition codes v4: new distances ...  \n",
       "76                         Run bigger Repetition codes  "
      ]
     },
     "execution_count": 4,
     "metadata": {},
     "output_type": "execute_result"
    }
   ],
   "source": [
    "import numpy as np\n",
    "from Scratch import metadata_loader\n",
    "\n",
    "DEVICE = 'ibm_sherbrooke'\n",
    "\n",
    "md = metadata_loader(_extract=True, _drop_inutile=True)\n",
    "md = md[md[\"job_status\"] == \"JobStatus.DONE\"]\n",
    "md = md[md[\"notebook_name\"] == \"bigger_rep_codes\"]\n",
    "max_distance = int(max(md.distance))\n",
    "max_distance = 30\n",
    "md = md[md[\"distance\"] == max_distance]\n",
    "md = md[md[\"backend_name\"]==DEVICE]\n",
    "\n",
    "md = md[:2]\n",
    "\n",
    "md"
   ]
  },
  {
   "cell_type": "code",
   "execution_count": 5,
   "metadata": {},
   "outputs": [],
   "source": [
    "memories = {}\n",
    "jobs = {}\n",
    "for job_id, logical in zip(md.job_id, md.logical):\n",
    "    mmr_name = f\"mmr_log_{logical}\"\n",
    "    memories[mmr_name] = provider.retrieve_job(job_id).result().get_memory()\n",
    "    jobs[mmr_name] = job_id\n",
    "\n",
    "memory_str = \"mmr_log_0\"\n",
    "memory = memories[memory_str][:]\n",
    "job_id = jobs[memory_str]\n",
    "print(memory.shape)"
   ]
  },
  {
   "cell_type": "markdown",
   "metadata": {},
   "source": [
    "# Initialize the code"
   ]
  },
  {
   "cell_type": "code",
   "execution_count": null,
   "metadata": {},
   "outputs": [],
   "source": [
    "import stim\n",
    "import pymatching\n",
    "\n",
    "from soft_info import get_repcode_layout, get_repcode_IQ_map\n",
    "from Scratch import create_or_load_kde_grid\n",
    "\n",
    "d = max_distance\n",
    "synd_rounds = max_distance\n",
    "\n",
    "circuit = stim.Circuit.generated(\"repetition_code:memory\",\n",
    "                                 distance=d,\n",
    "                                 rounds=synd_rounds,\n",
    "                                 after_clifford_depolarization=0.1)\n",
    "\n",
    "model = circuit.detector_error_model(decompose_errors=True)\n",
    "matching = pymatching.Matching.from_detector_error_model(model)\n",
    "\n",
    "layout = get_repcode_layout(distance=max_distance, backend=provider.get_backend(DEVICE), _is_hex=True)\n",
    "qubit_mapping = get_repcode_IQ_map(layout, synd_rounds) #Hardcoded for repetition codes"
   ]
  },
  {
   "cell_type": "code",
   "execution_count": null,
   "metadata": {},
   "outputs": [],
   "source": [
    "other_date = None # if none then it will find the closest to the tobecalib_job date\n",
    "# other_date = \"2023-11-22T10:30:00\" # \"2023-11-22T\" works too\n",
    "grid_dict, processed_scaler_dict = create_or_load_kde_grid(provider, job_id, 300, 2, other_date=other_date)\n",
    "\n",
    "# takes 10s"
   ]
  },
  {
   "cell_type": "code",
   "execution_count": null,
   "metadata": {},
   "outputs": [],
   "source": [
    "# get_counts\n",
    "counts = cpp_soft_info.get_counts(memory, qubit_mapping, grid_dict, processed_scaler_dict, synd_rounds)"
   ]
  },
  {
   "cell_type": "markdown",
   "metadata": {},
   "source": [
    "# Decode"
   ]
  },
  {
   "cell_type": "code",
   "execution_count": null,
   "metadata": {},
   "outputs": [
    {
     "name": "stdout",
     "output_type": "stream",
     "text": [
      "num_errors: 13 out of 1111 shots\n"
     ]
    }
   ],
   "source": [
    "num_errors = cpp_soft_info.decode_IQ_shots(matching._matching_graph, memory, \n",
    "                                           synd_rounds, qubit_mapping, grid_dict, \n",
    "                                           processed_scaler_dict, p_data=6e-3, p_mixed=6e-3, #p_mixed=1e-80, for d=30\n",
    "                                           common_measure=-1)\n",
    "print(\"num_errors:\", num_errors, \"out of\", len(memory), \"shots\")\n",
    "\n",
    "# takes 5s"
   ]
  },
  {
   "cell_type": "code",
   "execution_count": null,
   "metadata": {},
   "outputs": [
    {
     "name": "stdout",
     "output_type": "stream",
     "text": [
      "num_errors: 46 out of 1111 shots\n"
     ]
    }
   ],
   "source": [
    "num_errors = cpp_soft_info.decode_IQ_shots_flat(matching._matching_graph, memory, \n",
    "                                           synd_rounds, qubit_mapping, grid_dict, \n",
    "                                           processed_scaler_dict)\n",
    "print(\"num_errors:\", num_errors, \"out of\", len(memory), \"shots\")\n",
    "\n",
    "# takes 1s"
   ]
  },
  {
   "cell_type": "code",
   "execution_count": null,
   "metadata": {},
   "outputs": [
    {
     "ename": "AttributeError",
     "evalue": "module 'cpp_soft_info' has no attribute 'decode_IQ_shots_flat_diags'",
     "output_type": "error",
     "traceback": [
      "\u001b[0;31m---------------------------------------------------------------------------\u001b[0m",
      "\u001b[0;31mAttributeError\u001b[0m                            Traceback (most recent call last)",
      "\u001b[1;32m/Users/mha/My_Drive/Desktop/Studium/Physik/MSc/Semester_3/IBM/IBM_GIT/Soft-Info/notebooks/C++/cpp_dev/PyMatching/PM_htu/htu_cpp_decoding.ipynb Cell 14\u001b[0m line \u001b[0;36m1\n\u001b[0;32m----> <a href='vscode-notebook-cell:/Users/mha/My_Drive/Desktop/Studium/Physik/MSc/Semester_3/IBM/IBM_GIT/Soft-Info/notebooks/C%2B%2B/cpp_dev/PyMatching/PM_htu/htu_cpp_decoding.ipynb#X16sZmlsZQ%3D%3D?line=0'>1</a>\u001b[0m num_errors \u001b[39m=\u001b[39m cpp_soft_info\u001b[39m.\u001b[39;49mdecode_IQ_shots_flat_diags(matching\u001b[39m.\u001b[39m_matching_graph, memory, \n\u001b[1;32m      <a href='vscode-notebook-cell:/Users/mha/My_Drive/Desktop/Studium/Physik/MSc/Semester_3/IBM/IBM_GIT/Soft-Info/notebooks/C%2B%2B/cpp_dev/PyMatching/PM_htu/htu_cpp_decoding.ipynb#X16sZmlsZQ%3D%3D?line=1'>2</a>\u001b[0m                                            synd_rounds, qubit_mapping, grid_dict, \n\u001b[1;32m      <a href='vscode-notebook-cell:/Users/mha/My_Drive/Desktop/Studium/Physik/MSc/Semester_3/IBM/IBM_GIT/Soft-Info/notebooks/C%2B%2B/cpp_dev/PyMatching/PM_htu/htu_cpp_decoding.ipynb#X16sZmlsZQ%3D%3D?line=2'>3</a>\u001b[0m                                            processed_scaler_dict, p_mixed\u001b[39m=\u001b[39m\u001b[39m1e-80\u001b[39m)\n\u001b[1;32m      <a href='vscode-notebook-cell:/Users/mha/My_Drive/Desktop/Studium/Physik/MSc/Semester_3/IBM/IBM_GIT/Soft-Info/notebooks/C%2B%2B/cpp_dev/PyMatching/PM_htu/htu_cpp_decoding.ipynb#X16sZmlsZQ%3D%3D?line=3'>4</a>\u001b[0m \u001b[39mprint\u001b[39m(\u001b[39m\"\u001b[39m\u001b[39mnum_errors:\u001b[39m\u001b[39m\"\u001b[39m, num_errors, \u001b[39m\"\u001b[39m\u001b[39mout of\u001b[39m\u001b[39m\"\u001b[39m, \u001b[39mlen\u001b[39m(memory), \u001b[39m\"\u001b[39m\u001b[39mshots\u001b[39m\u001b[39m\"\u001b[39m)\n\u001b[1;32m      <a href='vscode-notebook-cell:/Users/mha/My_Drive/Desktop/Studium/Physik/MSc/Semester_3/IBM/IBM_GIT/Soft-Info/notebooks/C%2B%2B/cpp_dev/PyMatching/PM_htu/htu_cpp_decoding.ipynb#X16sZmlsZQ%3D%3D?line=5'>6</a>\u001b[0m \u001b[39m# takes 1s\u001b[39;00m\n",
      "\u001b[0;31mAttributeError\u001b[0m: module 'cpp_soft_info' has no attribute 'decode_IQ_shots_flat_diags'"
     ]
    }
   ],
   "source": [
    "num_errors = cpp_soft_info.decode_IQ_shots_flat_diag(matching._matching_graph, memory, \n",
    "                                           synd_rounds, qubit_mapping, grid_dict, \n",
    "                                           processed_scaler_dict, p_mixed=1e-80)\n",
    "print(\"num_errors:\", num_errors, \"out of\", len(memory), \"shots\")\n",
    "\n",
    "# takes 1s"
   ]
  },
  {
   "cell_type": "code",
   "execution_count": null,
   "metadata": {},
   "outputs": [],
   "source": []
  }
 ],
 "metadata": {
  "kernelspec": {
   "display_name": "Soft-Info-fMUpUe5a",
   "language": "python",
   "name": "python3"
  },
  "language_info": {
   "codemirror_mode": {
    "name": "ipython",
    "version": 3
   },
   "file_extension": ".py",
   "mimetype": "text/x-python",
   "name": "python",
   "nbconvert_exporter": "python",
   "pygments_lexer": "ipython3",
   "version": "3.11.4"
  }
 },
 "nbformat": 4,
 "nbformat_minor": 2
}
