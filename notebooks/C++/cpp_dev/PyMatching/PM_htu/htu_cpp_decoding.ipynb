{
 "cells": [
  {
   "cell_type": "code",
   "execution_count": 1,
   "metadata": {},
   "outputs": [],
   "source": [
    "import cpp_soft_info"
   ]
  },
  {
   "cell_type": "markdown",
   "metadata": {},
   "source": [
    "# Load Data"
   ]
  },
  {
   "cell_type": "code",
   "execution_count": 2,
   "metadata": {},
   "outputs": [],
   "source": [
    "%reload_ext autoreload\n",
    "%autoreload 2"
   ]
  },
  {
   "cell_type": "code",
   "execution_count": 3,
   "metadata": {},
   "outputs": [],
   "source": [
    "from result_saver import SaverProvider\n",
    "provider = SaverProvider()"
   ]
  },
  {
   "cell_type": "code",
   "execution_count": 4,
   "metadata": {},
   "outputs": [
    {
     "data": {
      "text/html": [
       "<div>\n",
       "<style scoped>\n",
       "    .dataframe tbody tr th:only-of-type {\n",
       "        vertical-align: middle;\n",
       "    }\n",
       "\n",
       "    .dataframe tbody tr th {\n",
       "        vertical-align: top;\n",
       "    }\n",
       "\n",
       "    .dataframe thead th {\n",
       "        text-align: right;\n",
       "    }\n",
       "</style>\n",
       "<table border=\"1\" class=\"dataframe\">\n",
       "  <thead>\n",
       "    <tr style=\"text-align: right;\">\n",
       "      <th></th>\n",
       "      <th>creation_date</th>\n",
       "      <th>notebook_name</th>\n",
       "      <th>backend_name</th>\n",
       "      <th>job_id</th>\n",
       "      <th>tags</th>\n",
       "      <th>meas_level</th>\n",
       "      <th>shots</th>\n",
       "      <th>tags_xp</th>\n",
       "      <th>rep_delay</th>\n",
       "      <th>sampled_state</th>\n",
       "      <th>...</th>\n",
       "      <th>job_status</th>\n",
       "      <th>execution_date</th>\n",
       "      <th>extra</th>\n",
       "      <th>optimization_level</th>\n",
       "      <th>code</th>\n",
       "      <th>distance</th>\n",
       "      <th>rounds</th>\n",
       "      <th>logical</th>\n",
       "      <th>layout</th>\n",
       "      <th>descr</th>\n",
       "    </tr>\n",
       "  </thead>\n",
       "  <tbody>\n",
       "    <tr>\n",
       "      <th>2528</th>\n",
       "      <td>2023-12-02 11:16:20.667000+01:00</td>\n",
       "      <td>torino_repcode</td>\n",
       "      <td>ibm_torino</td>\n",
       "      <td>cnng7x70k0p00088v8vg</td>\n",
       "      <td>[RepCode]</td>\n",
       "      <td>1.0</td>\n",
       "      <td>10000.0</td>\n",
       "      <td>NaN</td>\n",
       "      <td>NaN</td>\n",
       "      <td>NaN</td>\n",
       "      <td>...</td>\n",
       "      <td>JobStatus.DONE</td>\n",
       "      <td>2023-12-02 11:18:18.144738+01:00</td>\n",
       "      <td>NaN</td>\n",
       "      <td>NaN</td>\n",
       "      <td>RepetitionCodeCircuit</td>\n",
       "      <td>10.0</td>\n",
       "      <td>10</td>\n",
       "      <td>1</td>\n",
       "      <td>_is_hex=True, sherbrooke</td>\n",
       "      <td>diff rounds v2</td>\n",
       "    </tr>\n",
       "    <tr>\n",
       "      <th>2527</th>\n",
       "      <td>2023-12-02 11:16:18.322000+01:00</td>\n",
       "      <td>torino_repcode</td>\n",
       "      <td>ibm_torino</td>\n",
       "      <td>cnng7wq24wx0008fagdg</td>\n",
       "      <td>[RepCode]</td>\n",
       "      <td>1.0</td>\n",
       "      <td>10000.0</td>\n",
       "      <td>NaN</td>\n",
       "      <td>NaN</td>\n",
       "      <td>NaN</td>\n",
       "      <td>...</td>\n",
       "      <td>JobStatus.DONE</td>\n",
       "      <td>2023-12-02 11:16:48.914779+01:00</td>\n",
       "      <td>NaN</td>\n",
       "      <td>NaN</td>\n",
       "      <td>RepetitionCodeCircuit</td>\n",
       "      <td>10.0</td>\n",
       "      <td>10</td>\n",
       "      <td>0</td>\n",
       "      <td>_is_hex=True, sherbrooke</td>\n",
       "      <td>diff rounds v2</td>\n",
       "    </tr>\n",
       "  </tbody>\n",
       "</table>\n",
       "<p>2 rows × 21 columns</p>\n",
       "</div>"
      ],
      "text/plain": [
       "                         creation_date   notebook_name backend_name  \\\n",
       "2528  2023-12-02 11:16:20.667000+01:00  torino_repcode   ibm_torino   \n",
       "2527  2023-12-02 11:16:18.322000+01:00  torino_repcode   ibm_torino   \n",
       "\n",
       "                    job_id       tags  meas_level    shots tags_xp  rep_delay  \\\n",
       "2528  cnng7x70k0p00088v8vg  [RepCode]         1.0  10000.0     NaN        NaN   \n",
       "2527  cnng7wq24wx0008fagdg  [RepCode]         1.0  10000.0     NaN        NaN   \n",
       "\n",
       "     sampled_state  ...      job_status                    execution_date  \\\n",
       "2528           NaN  ...  JobStatus.DONE  2023-12-02 11:18:18.144738+01:00   \n",
       "2527           NaN  ...  JobStatus.DONE  2023-12-02 11:16:48.914779+01:00   \n",
       "\n",
       "     extra optimization_level                   code distance  rounds logical  \\\n",
       "2528   NaN                NaN  RepetitionCodeCircuit     10.0      10       1   \n",
       "2527   NaN                NaN  RepetitionCodeCircuit     10.0      10       0   \n",
       "\n",
       "                        layout           descr  \n",
       "2528  _is_hex=True, sherbrooke  diff rounds v2  \n",
       "2527  _is_hex=True, sherbrooke  diff rounds v2  \n",
       "\n",
       "[2 rows x 21 columns]"
      ]
     },
     "execution_count": 4,
     "metadata": {},
     "output_type": "execute_result"
    }
   ],
   "source": [
    "import numpy as np\n",
    "from Scratch import metadata_loader\n",
    "\n",
    "DEVICE = 'ibm_torino'\n",
    "\n",
    "md = metadata_loader(_extract=True, _drop_inutile=True)\n",
    "# md = md[md[\"job_status\"] == \"JobStatus.DONE\"]\n",
    "# md = md[md[\"notebook_name\"] == \"bigger_rep_codes\"]\n",
    "max_distance = int(max(md.distance))\n",
    "max_distance = 10\n",
    "md = md[md[\"distance\"] == max_distance]\n",
    "md = md[md[\"backend_name\"]==DEVICE]\n",
    "\n",
    "\n",
    "md = md[md[\"shots\"]==10000]\n",
    "md = md[:2]\n",
    "\n",
    "md"
   ]
  },
  {
   "cell_type": "code",
   "execution_count": 5,
   "metadata": {},
   "outputs": [
    {
     "name": "stdout",
     "output_type": "stream",
     "text": [
      "(100, 100)\n"
     ]
    }
   ],
   "source": [
    "memories = {}\n",
    "jobs = {}\n",
    "for job_id, logical in zip(md.job_id, md.logical):\n",
    "    mmr_name = f\"mmr_log_{logical}\"\n",
    "    memories[mmr_name] = provider.retrieve_job(job_id).result().get_memory()\n",
    "    jobs[mmr_name] = job_id\n",
    "\n",
    "memory_str = \"mmr_log_1\"\n",
    "memory = memories[memory_str][:100]\n",
    "job_id = jobs[memory_str]\n",
    "print(memory.shape)"
   ]
  },
  {
   "cell_type": "markdown",
   "metadata": {},
   "source": [
    "# Initialize the code"
   ]
  },
  {
   "cell_type": "code",
   "execution_count": 6,
   "metadata": {},
   "outputs": [],
   "source": [
    "import stim\n",
    "import pymatching\n",
    "\n",
    "from soft_info import get_repcode_layout, get_repcode_IQ_map\n",
    "from Scratch import create_or_load_kde_grid\n",
    "\n",
    "d = max_distance\n",
    "synd_rounds = max_distance\n",
    "synd_rounds = 10\n",
    "\n",
    "circuit = stim.Circuit.generated(\"repetition_code:memory\",\n",
    "                                 distance=d,\n",
    "                                 rounds=synd_rounds,\n",
    "                                 after_clifford_depolarization=0.1)\n",
    "\n",
    "model = circuit.detector_error_model(decompose_errors=True)\n",
    "\n",
    "# layout = get_repcode_layout(distance=max_distance, backend=provider.get_backend(DEVICE), _is_hex=True)\n",
    "\n",
    "##### TORINO ####\n",
    "distance = max_distance\n",
    "import pickle\n",
    "with open('longest_path_torino.pkl', 'rb') as f:\n",
    "    path = pickle.load(f)\n",
    "bounded_path = path[:2 * distance - 1]\n",
    "layout = bounded_path[1::2] + bounded_path[::2] \n",
    "\n",
    "\n",
    "qubit_mapping = get_repcode_IQ_map(layout, synd_rounds) #Hardcoded for repetition codes\n",
    "# print(qubit_mapping)\n",
    "# print(len(qubit_mapping))"
   ]
  },
  {
   "cell_type": "code",
   "execution_count": 7,
   "metadata": {},
   "outputs": [
    {
     "name": "stdout",
     "output_type": "stream",
     "text": [
      "Specified job execution date: 2023-12-02 11:18:18.144738+01:00\n",
      "Found jobs for backend ibm_torino with closest execution date 2023-12-02 09:12:35.042892+00:00.\n",
      "Searching for ibm_torino and 23.12.02_09h11_5pts_0.3std\n"
     ]
    }
   ],
   "source": [
    "other_date = None # if none then it will find the closest to the tobecalib_job date\n",
    "# other_date = \"2023-11-22T10:30:00\" # \"2023-11-22T\" works too\n",
    "grid_dict, processed_scaler_dict = create_or_load_kde_grid(provider, job_id, num_grid_points=5, \n",
    "                                                           num_std_dev=0.3, other_date=other_date)\n",
    "\n",
    "# takes 10s"
   ]
  },
  {
   "cell_type": "code",
   "execution_count": 8,
   "metadata": {},
   "outputs": [],
   "source": [
    "# get_counts\n",
    "counts = cpp_soft_info.get_counts(memory, qubit_mapping, grid_dict, processed_scaler_dict, synd_rounds)"
   ]
  },
  {
   "cell_type": "markdown",
   "metadata": {},
   "source": [
    "# Decode"
   ]
  },
  {
   "cell_type": "code",
   "execution_count": 9,
   "metadata": {},
   "outputs": [
    {
     "name": "stdout",
     "output_type": "stream",
     "text": [
      "num_errors: 25 out of 100 shots\n"
     ]
    }
   ],
   "source": [
    "matching = pymatching.Matching.from_detector_error_model(model)\n",
    "# p_data = 6.869e-3 # mean sherbrooke noise\n",
    "p_data = 1.15e-2\n",
    "result = cpp_soft_info.decode_IQ_shots(matching._matching_graph, memory,\n",
    "                                           synd_rounds, 1, True, qubit_mapping, grid_dict,\n",
    "                                           processed_scaler_dict, p_data=p_data, p_mixed=p_data/1, #p_mixed=1e-80, for d=30\n",
    "                                           common_measure=-1, _bimodal=True, merge_strategy = \"replace\", _detailed=True)\n",
    "print(\"num_errors:\", result.num_errors, \"out of\", len(memory), \"shots\")\n",
    " \n",
    "# takes 5s"
   ]
  },
  {
   "cell_type": "markdown",
   "metadata": {},
   "source": [
    "# Draw result"
   ]
  },
  {
   "cell_type": "code",
   "execution_count": 1,
   "metadata": {},
   "outputs": [
    {
     "ename": "NameError",
     "evalue": "name 'd' is not defined",
     "output_type": "error",
     "traceback": [
      "\u001b[0;31m---------------------------------------------------------------------------\u001b[0m",
      "\u001b[0;31mNameError\u001b[0m                                 Traceback (most recent call last)",
      "Cell \u001b[0;32mIn[1], line 3\u001b[0m\n\u001b[1;32m      1\u001b[0m \u001b[38;5;28;01mfrom\u001b[39;00m \u001b[38;5;21;01msoft_info\u001b[39;00m \u001b[38;5;28;01mimport\u001b[39;00m draw_matching_graph\n\u001b[0;32m----> 3\u001b[0m draw_matching_graph(matching\u001b[38;5;241m=\u001b[39m\u001b[38;5;28;01mNone\u001b[39;00m, d\u001b[38;5;241m=\u001b[39m\u001b[43md\u001b[49m, T\u001b[38;5;241m=\u001b[39msynd_rounds, syndromes\u001b[38;5;241m=\u001b[39mresult\u001b[38;5;241m.\u001b[39merror_details[\u001b[38;5;241m0\u001b[39m]\u001b[38;5;241m.\u001b[39mdetection_syndromes,\n\u001b[1;32m      4\u001b[0m                     matched_edges\u001b[38;5;241m=\u001b[39mresult\u001b[38;5;241m.\u001b[39merror_details[\u001b[38;5;241m0\u001b[39m]\u001b[38;5;241m.\u001b[39mmatched_edges, figsize\u001b[38;5;241m=\u001b[39m(\u001b[38;5;241m20\u001b[39m,\u001b[38;5;241m20\u001b[39m), edge_list\u001b[38;5;241m=\u001b[39mresult\u001b[38;5;241m.\u001b[39merror_details[\u001b[38;5;241m0\u001b[39m]\u001b[38;5;241m.\u001b[39medges)\n",
      "\u001b[0;31mNameError\u001b[0m: name 'd' is not defined"
     ]
    }
   ],
   "source": [
    "from soft_info import draw_matching_graph\n",
    "\n",
    "draw_matching_graph(matching=None, d=d, T=synd_rounds, syndromes=result.error_details[0].detection_syndromes,\n",
    "                    matched_edges=result.error_details[0].matched_edges, figsize=(20,20), edge_list=result.error_details[0].edges)"
   ]
  },
  {
   "cell_type": "markdown",
   "metadata": {},
   "source": [
    "# Other decodings"
   ]
  },
  {
   "cell_type": "code",
   "execution_count": 12,
   "metadata": {},
   "outputs": [
    {
     "ename": "TypeError",
     "evalue": "decode_IQ_shots_flat(): incompatible function arguments. The following argument types are supported:\n    1. (matching: pm::UserGraph, not_scaled_IQ_data: numpy.ndarray[numpy.complex128[m, n]], synd_rounds: int, logical: int, _resets: bool, qubit_mapping: dict[int, int], kde_grid_dict: dict[int, cpp_soft_info.GridData], scaler_params_dict: dict[int, tuple[tuple[float, float], tuple[float, float]]], _detailed: bool = False) -> cpp_soft_info.DetailedDecodeResult\n\nInvoked with: <pymatching._cpp_pymatching.MatchingGraph object at 0x2a61c4af0>, array([[ 2.01382292e+08+9.06661220e+07j, -7.96659030e+07-3.06433120e+07j,\n        -1.81834893e+08+1.34221650e+07j, ...,\n        -5.06856980e+07-6.18721900e+06j,  6.33442520e+07+7.03769970e+07j,\n         8.28337210e+07+6.37128690e+07j],\n       [-1.27219759e+08+1.02905142e+08j, -1.24680639e+08+1.69321330e+07j,\n        -9.58126480e+07+7.00267970e+07j, ...,\n        -8.56362710e+07+3.97657700e+07j, -1.07189304e+08+3.24693790e+07j,\n        -6.87202230e+07+7.73799400e+07j],\n       [-1.62128641e+08+1.34056258e+08j,  2.07826623e+08+9.94567670e+07j,\n        -1.71831181e+08-9.10926700e+06j, ...,\n        -5.38772740e+07+1.78216500e+06j, -5.45814900e+07+6.76182000e+07j,\n         7.76836440e+07+2.44833690e+07j],\n       ...,\n       [-1.86159781e+08+6.82393470e+07j,  1.36413924e+08+2.07491430e+07j,\n        -1.91356940e+08+5.24368220e+07j, ...,\n        -8.48712550e+07+3.01027100e+07j,  8.44875170e+07+6.60105260e+07j,\n        -7.37238410e+07+1.11315715e+08j],\n       [ 2.67278503e+08+5.48882010e+07j,  2.18328825e+08+7.13958740e+07j,\n         9.96060960e+07+1.37083120e+07j, ...,\n         1.66678660e+07+3.76988300e+06j,  6.21273430e+07+7.56389350e+07j,\n         8.55483520e+07+1.04478560e+07j],\n       [ 6.64736850e+07+1.33633906e+08j, -1.48914113e+08+5.26376530e+07j,\n         6.50586940e+07-2.33191590e+07j, ...,\n        -6.41521050e+07+3.83898890e+07j, -9.70624270e+07+1.70996960e+07j,\n        -6.78960580e+07+5.88126130e+07j]]), 10, {0: 13, 1: 11, 2: 9, 3: 7, 4: 5, 5: 3, 6: 1, 7: 15, 8: 20, 9: 13, 10: 11, 11: 9, 12: 7, 13: 5, 14: 3, 15: 1, 16: 15, 17: 20, 18: 13, 19: 11, 20: 9, 21: 7, 22: 5, 23: 3, 24: 1, 25: 15, 26: 20, 27: 13, 28: 11, 29: 9, 30: 7, 31: 5, 32: 3, 33: 1, 34: 15, 35: 20, 36: 13, 37: 11, 38: 9, 39: 7, 40: 5, 41: 3, 42: 1, 43: 15, 44: 20, 45: 13, 46: 11, 47: 9, 48: 7, 49: 5, 50: 3, 51: 1, 52: 15, 53: 20, 54: 13, 55: 11, 56: 9, 57: 7, 58: 5, 59: 3, 60: 1, 61: 15, 62: 20, 63: 13, 64: 11, 65: 9, 66: 7, 67: 5, 68: 3, 69: 1, 70: 15, 71: 20, 72: 13, 73: 11, 74: 9, 75: 7, 76: 5, 77: 3, 78: 1, 79: 15, 80: 20, 81: 13, 82: 11, 83: 9, 84: 7, 85: 5, 86: 3, 87: 1, 88: 15, 89: 20, 90: 14, 91: 12, 92: 10, 93: 8, 94: 6, 95: 4, 96: 2, 97: 0, 98: 19, 99: 21}, {0: <cpp_soft_info.GridData object at 0x2b810a7f0>, 1: <cpp_soft_info.GridData object at 0x2a61fd930>, 2: <cpp_soft_info.GridData object at 0x2a69c4ab0>, 3: <cpp_soft_info.GridData object at 0x2a69c4830>, 4: <cpp_soft_info.GridData object at 0x2a69c4870>, 5: <cpp_soft_info.GridData object at 0x2a69c4530>, 6: <cpp_soft_info.GridData object at 0x2a69c46f0>, 7: <cpp_soft_info.GridData object at 0x2a69c49b0>, 8: <cpp_soft_info.GridData object at 0x2a69c48b0>, 9: <cpp_soft_info.GridData object at 0x2a69c42f0>, 10: <cpp_soft_info.GridData object at 0x2a69c4930>, 11: <cpp_soft_info.GridData object at 0x2a69c4370>, 12: <cpp_soft_info.GridData object at 0x2a69c4970>, 13: <cpp_soft_info.GridData object at 0x2a69c47f0>, 14: <cpp_soft_info.GridData object at 0x2a69c4730>, 15: <cpp_soft_info.GridData object at 0x2a69c44f0>, 16: <cpp_soft_info.GridData object at 0x2a69c42b0>, 17: <cpp_soft_info.GridData object at 0x2a69c4470>, 18: <cpp_soft_info.GridData object at 0x2a69c44b0>, 19: <cpp_soft_info.GridData object at 0x2a69c45f0>, 20: <cpp_soft_info.GridData object at 0x2a69c43b0>, 21: <cpp_soft_info.GridData object at 0x2a69c4570>, 22: <cpp_soft_info.GridData object at 0x2a69c4430>, 23: <cpp_soft_info.GridData object at 0x2a69c45b0>, 24: <cpp_soft_info.GridData object at 0x2a69c41b0>, 25: <cpp_soft_info.GridData object at 0x2a69c40f0>, 26: <cpp_soft_info.GridData object at 0x2a69c4270>, 27: <cpp_soft_info.GridData object at 0x2a69c40b0>, 28: <cpp_soft_info.GridData object at 0x2a69c4030>, 29: <cpp_soft_info.GridData object at 0x2a69c4130>, 30: <cpp_soft_info.GridData object at 0x2a69c4230>, 31: <cpp_soft_info.GridData object at 0x2a69c41f0>, 32: <cpp_soft_info.GridData object at 0x2a69c4170>, 33: <cpp_soft_info.GridData object at 0x2a69c6db0>, 34: <cpp_soft_info.GridData object at 0x2a69c7a70>, 35: <cpp_soft_info.GridData object at 0x2a69c78f0>, 36: <cpp_soft_info.GridData object at 0x2a69c7430>, 37: <cpp_soft_info.GridData object at 0x2a69c7730>, 38: <cpp_soft_info.GridData object at 0x2a69c75b0>, 39: <cpp_soft_info.GridData object at 0x2a69c7030>, 40: <cpp_soft_info.GridData object at 0x2a69c72b0>, 41: <cpp_soft_info.GridData object at 0x2a69c6df0>, 42: <cpp_soft_info.GridData object at 0x2a69c7bb0>, 43: <cpp_soft_info.GridData object at 0x2a69c7c30>, 44: <cpp_soft_info.GridData object at 0x2a69c7df0>, 45: <cpp_soft_info.GridData object at 0x2a69c7f70>, 46: <cpp_soft_info.GridData object at 0x2a69c7d70>, 47: <cpp_soft_info.GridData object at 0x2a69c7cf0>, 48: <cpp_soft_info.GridData object at 0x2a69c7fb0>, 49: <cpp_soft_info.GridData object at 0x2a69c7ef0>, 50: <cpp_soft_info.GridData object at 0x2a69c7e30>, 51: <cpp_soft_info.GridData object at 0x2a69c7cb0>, 52: <cpp_soft_info.GridData object at 0x2a69c76f0>, 53: <cpp_soft_info.GridData object at 0x2a69c7670>, 54: <cpp_soft_info.GridData object at 0x2a69c7a30>, 55: <cpp_soft_info.GridData object at 0x2a69c78b0>, 56: <cpp_soft_info.GridData object at 0x2a69c7830>, 57: <cpp_soft_info.GridData object at 0x2a69c7b70>, 58: <cpp_soft_info.GridData object at 0x2a69c79b0>, 59: <cpp_soft_info.GridData object at 0x2a69c7af0>, 60: <cpp_soft_info.GridData object at 0x2a69c74f0>, 61: <cpp_soft_info.GridData object at 0x2a69c7270>, 62: <cpp_soft_info.GridData object at 0x2a69c69b0>, 63: <cpp_soft_info.GridData object at 0x2a69c71f0>, 64: <cpp_soft_info.GridData object at 0x2a69c6ff0>, 65: <cpp_soft_info.GridData object at 0x2a69c7170>, 66: <cpp_soft_info.GridData object at 0x2a69c7370>, 67: <cpp_soft_info.GridData object at 0x2a69c73f0>, 68: <cpp_soft_info.GridData object at 0x2a69c7570>, 69: <cpp_soft_info.GridData object at 0x2a69c72f0>, 70: <cpp_soft_info.GridData object at 0x2a69c7e70>, 71: <cpp_soft_info.GridData object at 0x2a5216230>, 72: <cpp_soft_info.GridData object at 0x2a5217730>, 73: <cpp_soft_info.GridData object at 0x2a52175f0>, 74: <cpp_soft_info.GridData object at 0x2a5216530>, 75: <cpp_soft_info.GridData object at 0x2a5217670>, 76: <cpp_soft_info.GridData object at 0x2a5217770>, 77: <cpp_soft_info.GridData object at 0x2a5217cf0>, 78: <cpp_soft_info.GridData object at 0x2a5216d30>, 79: <cpp_soft_info.GridData object at 0x2a52168b0>, 80: <cpp_soft_info.GridData object at 0x2a52172f0>, 81: <cpp_soft_info.GridData object at 0x2a5216570>, 82: <cpp_soft_info.GridData object at 0x2a52164b0>, 83: <cpp_soft_info.GridData object at 0x2a5216170>, 84: <cpp_soft_info.GridData object at 0x2a52169b0>, 85: <cpp_soft_info.GridData object at 0x2a52159b0>, 86: <cpp_soft_info.GridData object at 0x2a5217e30>, 87: <cpp_soft_info.GridData object at 0x2a5216130>, 88: <cpp_soft_info.GridData object at 0x2a5216830>, 89: <cpp_soft_info.GridData object at 0x2a5216cb0>, 90: <cpp_soft_info.GridData object at 0x2a52164f0>, 91: <cpp_soft_info.GridData object at 0x2a5216af0>, 92: <cpp_soft_info.GridData object at 0x2a52173b0>, 93: <cpp_soft_info.GridData object at 0x2a5215df0>, 94: <cpp_soft_info.GridData object at 0x2a5216870>, 95: <cpp_soft_info.GridData object at 0x2a5217db0>, 96: <cpp_soft_info.GridData object at 0x2a5217030>, 97: <cpp_soft_info.GridData object at 0x2a5216bf0>, 98: <cpp_soft_info.GridData object at 0x2a5215db0>, 99: <cpp_soft_info.GridData object at 0x2a5217b30>, 100: <cpp_soft_info.GridData object at 0x2a5215af0>, 101: <cpp_soft_info.GridData object at 0x2a5214930>, 102: <cpp_soft_info.GridData object at 0x2a5214ef0>, 103: <cpp_soft_info.GridData object at 0x2a5215e30>, 104: <cpp_soft_info.GridData object at 0x2a52152b0>, 105: <cpp_soft_info.GridData object at 0x2a52156b0>, 106: <cpp_soft_info.GridData object at 0x2a5215ab0>, 107: <cpp_soft_info.GridData object at 0x2a52165b0>, 108: <cpp_soft_info.GridData object at 0x2a52161f0>, 109: <cpp_soft_info.GridData object at 0x2a5216970>, 110: <cpp_soft_info.GridData object at 0x2a5214230>, 111: <cpp_soft_info.GridData object at 0x2a52174f0>, 112: <cpp_soft_info.GridData object at 0x2a5217870>, 113: <cpp_soft_info.GridData object at 0x2a52141b0>, 114: <cpp_soft_info.GridData object at 0x2a5217bf0>, 115: <cpp_soft_info.GridData object at 0x2a5217f70>, 116: <cpp_soft_info.GridData object at 0x2a52145b0>, 117: <cpp_soft_info.GridData object at 0x2a5215630>, 118: <cpp_soft_info.GridData object at 0x2a52148b0>, 119: <cpp_soft_info.GridData object at 0x2a5215a30>, 120: <cpp_soft_info.GridData object at 0x2a5217170>, 121: <cpp_soft_info.GridData object at 0x2a5214ff0>, 122: <cpp_soft_info.GridData object at 0x2a52153b0>, 123: <cpp_soft_info.GridData object at 0x2a52162f0>, 124: <cpp_soft_info.GridData object at 0x2a52157b0>, 125: <cpp_soft_info.GridData object at 0x2a5215bb0>, 126: <cpp_soft_info.GridData object at 0x2a5215f30>, 127: <cpp_soft_info.GridData object at 0x2a5216a70>, 128: <cpp_soft_info.GridData object at 0x2a52166b0>, 129: <cpp_soft_info.GridData object at 0x2a5216df0>, 130: <cpp_soft_info.GridData object at 0x2a5214bf0>, 131: <cpp_soft_info.GridData object at 0x2a5217630>, 132: <cpp_soft_info.GridData object at 0x2a52179b0>}, {0: ((-12095632.67595, 48348245.73953494), (25649945.2112, 20391903.735818945)), 1: ((26577931.10515, 79275171.53203657), (14406235.90505, 26334885.834955893)), 2: ((-10554953.7584, 39774257.335762866), (23496910.29515, 17936810.637600124)), 3: ((6271454.1545, 129093551.55150771), (86253942.34665, 35626565.40336195)), 4: ((-5115802.61275, 55144318.555409156), (40833822.96295, 19043301.618851077)), 5: ((-5808714.20805, 112593192.36001214), (48268446.2328, 29422924.92260551)), 6: ((-13224851.77, 52127747.97372981), (29605059.90385, 19128546.706574637)), 7: ((10202608.10135, 44202642.35032406), (11216990.29855, 16997780.674639966)), 8: ((-2028515.87225, 85382214.31144014), (30201057.38755, 28963055.55680135)), 9: ((-41181164.7732, 119815836.42540741), (35455462.0485, 36117233.38088914)), 10: ((10333712.6868, 141730639.4342984), (99486170.8009, 47126530.6510611)), 11: ((12019776.1461, 158453718.91642264), (67610141.78495, 47941732.39793576)), 12: ((-566149.70975, 114089406.79188639), (112439322.436, 41335530.107682675)), 13: ((2074740.18015, 187730943.8258715), (68246696.7397, 53546747.39043028)), 14: ((5117802.1966, 122093090.94678366), (109385271.54875, 37732810.28596859)), 15: ((-31891160.5192, 92959174.1533393), (57176577.66945, 34689069.685936)), 16: ((9514462.8885, 110613394.17144556), (31661797.1375, 38291562.80569102)), 17: ((-8271433.5294, 205760849.77839223), (100774731.9136, 61959413.37916744)), 18: ((2177120.6872, 129045203.00042161), (47477269.7401, 36209391.50609502)), 19: ((-20385423.39205, 68494016.05346778), (47098785.12255, 26414158.730651185)), 20: ((2770021.11785, 115485327.24730903), (34880108.84195, 36770785.94264488)), 21: ((-17627615.91125, 92919599.98155144), (60908981.4013, 29992899.86556213)), 22: ((-7046340.91545, 150036101.46643472), (63454438.48675, 45678064.1969011)), 23: ((-2349893.9021, 68175035.081805), (48274816.1562, 26452297.04990963)), 24: ((-4069.16845, 160500913.83831993), (47584199.82085, 46541829.95975917)), 25: ((724259.61485, 63667263.49603858), (22560986.8142, 21415592.39605769)), 26: ((13534904.42805, 201953876.08332404), (61511810.8967, 63220390.52094194)), 27: ((-17102913.55375, 231330355.0652006), (128785591.8491, 59499229.8450268)), 28: ((6408601.22895, 255125924.42525172), (114195675.82745, 75979886.14676487)), 29: ((-14993491.61735, 121254920.20617895), (79411637.29325, 42770546.35123563)), 30: ((6015064.4311, 248231221.7919779), (161001202.2236, 100245598.8811544)), 31: ((-25643777.2891, 75858558.77506816), (52184086.2988, 38597201.906311244)), 32: ((69504648.66535, 238204948.67610276), (53126414.81835, 81551442.00487688)), 33: ((452177.48875, 87434351.6234533), (35321075.62725, 40942528.615304925)), 34: ((24478700.3411, 186286929.99975833), (62845256.9784, 48699353.03257864)), 35: ((24134324.23715, 275833942.150953), (121132431.42695, 66340848.171706356)), 36: ((30993195.57825, 394797352.41464114), (131170126.96215, 90842317.47454374)), 37: ((-6486711.1316, 389569368.6279345), (258915687.1235, 122389108.68458965)), 38: ((-4806632.24685, 53141459.40057109), (19072276.21255, 27401528.35930256)), 39: ((45503535.4192, 155017275.42394555), (27146126.01715, 50063947.62333811)), 40: ((-704521.3818, 94207718.12259398), (48329288.9381, 33461275.041607138)), 41: ((-8555360.59275, 249367133.7479303), (164826312.12655, 77816199.68813902)), 42: ((-2974745.54635, 76633105.46751438), (44067284.31185, 30479948.22372012)), 43: ((549734.48065, 139944244.62477857), (57779025.28665, 50001473.53728911)), 44: ((3490034.2163, 108717311.38054879), (52556894.0664, 44411490.50787014)), 45: ((3465088.12135, 100928857.87021925), (24065192.97295, 37312815.31427792)), 46: ((-5843893.46055, 55085801.90554757), (22282358.6893, 21899633.747064523)), 47: ((-36733963.50175, 135380685.26789626), (33698360.5565, 42843232.36782963)), 48: ((-6056458.4881, 86767727.54567507), (56292974.6704, 26268707.73781588)), 49: ((11414137.164, 128935276.89334688), (49700548.7031, 44864913.62189364)), 50: ((-19753588.08925, 66124812.26906066), (41339025.8155, 24454345.369779285)), 51: ((-458916.79315, 151788703.65670705), (45325216.0785, 36673112.674816236)), 52: ((-4656862.11735, 100174235.33109745), (87363159.51045, 31407301.875270795)), 53: ((-27735355.139, 143593144.39580694), (214331715.92, 76142618.02508499)), 54: ((15786938.21475, 162388474.1764047), (41834392.27295, 44293565.48092326)), 55: ((-9802585.7552, 147763691.1034227), (61370769.9431, 49892076.39460802)), 56: ((8161285.26855, 104414585.70862322), (29892916.44905, 31583512.68592972)), 57: ((-8075082.1287, 134981485.9203999), (108508651.6157, 33585124.819496416)), 58: ((1238850.5205, 88154123.63801087), (26231114.65975, 26364666.662399746)), 59: ((-13065485.7437, 61040806.41477697), (38272432.67745, 20320903.31772315)), 60: ((8375549.5053, 108522209.0764349), (34051185.2198, 38764348.34110621)), 61: ((-192859.23745, 68531722.93497889), (52675384.17045, 22551730.415354334)), 62: ((9255832.8888, 103021726.03901674), (28786282.59275, 30751891.844481062)), 63: ((-12412883.5562, 112682014.35968347), (57061872.57175, 30175518.496187165)), 64: ((5470455.4816, 53819421.25372938), (15156334.36995, 21561640.248145506)), 65: ((-6521797.83355, 75939787.14712866), (37536213.6634, 25121752.798461337)), 66: ((5616330.54355, 112248612.61445835), (43042405.0832, 35894353.75258501)), 67: ((-13583090.77825, 71716989.91646677), (43620587.55605, 24554155.431237936)), 68: ((-1476714.018, 122518450.41833387), (66137200.39395, 39922316.71868958)), 69: ((-7187903.13925, 77205474.61335354), (36436309.70925, 27594082.078408036)), 70: ((10030103.99865, 66172547.833680354), (20521663.31135, 25465770.4417294)), 71: ((-10349649.67645, 71603049.65407671), (32640337.42255, 23924748.010657858)), 72: ((10722575.57275, 150457818.750935), (44005803.63175, 39286838.5242864)), 73: ((6902647.76025, 140325722.39450836), (72960766.25235, 37026444.565395325)), 74: ((23682822.03245, 156706935.48683506), (41744925.1107, 44720840.97530581)), 75: ((-4703713.7305, 195089990.96820018), (166597127.0446, 64306493.166960835)), 76: ((-6109058.9414, 42536969.98918501), (30388969.5316, 15247599.10188066)), 77: ((13651904.64565, 65700931.94889315), (15747829.30395, 25393014.01649907)), 78: ((-7709520.2353, 52026200.7935746), (29200547.5592, 16995305.90183937)), 79: ((1545026.25285, 116587298.23054874), (66835431.41855, 32075513.51298057)), 80: ((-3931965.27025, 35258211.93150644), (20789864.1944, 14069663.083243392)), 81: ((6678349.3819, 94094539.9666235), (41565448.0151, 29264281.07730864)), 82: ((-3675912.9141, 30679062.032138318), (13128333.51295, 14349959.297438236)), 83: ((4360564.01, 46080256.249253), (11232342.95265, 18713486.577256598)), 84: ((-16147235.3347, 70834448.50667845), (32981955.92815, 32904174.85002698)), 85: ((11618899.1589, 128789467.01864006), (80797693.5371, 47772979.58375616)), 86: ((-433793.41725, 120825639.82361196), (111420205.0252, 52601397.210715555)), 87: ((17845902.81285, 277917413.602682), (129344324.80085, 79974931.79009865)), 88: ((-13618493.07475, 92617728.48248847), (69060071.1565, 36927163.15311882)), 89: ((18790528.09365, 236925536.72934195), (76012704.30375, 74316841.4020122)), 90: ((-21596413.0389, 215814063.12679666), (182639927.08005, 68683989.16986485)), 91: ((-6028773.2052, 113769991.25257015), (85833275.94055, 36406329.83623738)), 92: ((7694324.5503, 106608240.64516638), (33134671.7549, 33007509.5676891)), 93: ((-9026027.9755, 365123509.0796922), (186299730.04565, 104748978.47851695)), 94: ((3365781.06555, 198640831.05842787), (51429506.28905, 72090565.46865965)), 95: ((8913249.4416, 148154234.58455557), (122258626.0465, 51578381.04588064)), 96: ((9635611.36285, 332664909.8732455), (85961346.20375, 100674886.51927894)), 97: ((-26527526.99565, 243781166.34993258), (233050788.6608, 95561502.40093553)), 98: ((-3439957.89685, 223626402.507157), (68854872.10485, 78391091.98518838)), 99: ((-26565506.3181, 252499389.71222275), (247024266.88515, 72554504.21843196)), 100: ((-65160.78995, 207931925.7291938), (55529373.9296, 69050856.35091966)), 101: ((-14357603.55555, 95931082.35901871), (42058701.4351, 42002831.938443355)), 102: ((3937078.40665, 61400908.467126325), (15714381.2457, 20610479.45520762)), 103: ((-7946503.48955, 58444564.9804276), (29684563.08325, 22736730.168116454)), 104: ((2790119.1302, 91108497.77752544), (34319359.58405, 31679604.702959552)), 105: ((-5722491.2846, 62106433.166500516), (44648433.693, 21925623.046591505)), 106: ((228716.1413, 117256204.50548714), (65053619.8525, 40754821.52833352)), 107: ((-4092146.7321, 61747785.796296686), (32718665.5398, 22488932.692745432)), 108: ((11950502.8231, 94020661.7629765), (28384501.8774, 25235391.395404514)), 109: ((-9398077.0059, 49018189.73582714), (21164720.17695, 19262453.22901187)), 110: ((38824234.15505, 294661472.5121535), (32916884.5377, 79085683.40485363)), 111: ((-32255569.461, 478559377.3044109), (264486485.4364, 128956026.62585849)), 112: ((2832118.0632, 85380347.38308907), (20488624.91155, 31948283.98737036)), 113: ((4394986.9159, 133687869.86797896), (101188106.3618, 57904594.08856122)), 114: ((2873275.29395, 44840979.41147211), (18169613.7339, 20194168.93140676)), 115: ((13214907.72685, 51385619.122201264), (-1349291.51615, 25950181.28432858)), 116: ((2604606.59215, 55265148.64652302), (24871355.5329, 21837316.761073742)), 117: ((-10906256.30545, 83914325.48939793), (42977338.2222, 30680099.65211122)), 118: ((-2136121.2961, 31730553.155646693), (22943353.39225, 15279834.016994122)), 119: ((5478858.5687, 88231996.94317508), (35453244.50495, 28130813.16177897)), 120: ((-5599822.21195, 57562858.95064005), (38544329.93805, 19838669.94461596)), 121: ((5031183.28425, 44777157.690637596), (12694114.35325, 16292531.152122399)), 122: ((-2275953.1932, 51059941.24641543), (22390142.0752, 19676773.571257774)), 123: ((-11064405.03875, 61982143.05760662), (17438777.38005, 22924051.868452568)), 124: ((-5379942.21575, 44898371.09248622), (27550626.04535, 21676357.023033906)), 125: ((4780411.7252, 86296030.30645907), (37761374.30765, 30198719.555973753)), 126: ((-2080438.2731, 40251016.83041092), (26975499.72635, 17470135.85398724)), 127: ((1946697.0249, 48705501.633204326), (16480824.07895, 22382750.69502195)), 128: ((-1776861.64655, 55567915.25607148), (35517681.779, 22482531.601474132)), 129: ((120817.81165, 102988105.28139505), (64378173.6572, 41072319.52457112)), 130: ((3124232.1215, 81421295.65946823), (24791898.76165, 28954907.871490154)), 131: ((-473273.9427, 214645701.60815024), (113490375.635, 54378648.02462012)), 132: ((-1885979.7805, 75738201.75847898), (28689706.9037, 19651508.82825226))}",
     "output_type": "error",
     "traceback": [
      "\u001b[0;31m---------------------------------------------------------------------------\u001b[0m",
      "\u001b[0;31mTypeError\u001b[0m                                 Traceback (most recent call last)",
      "Cell \u001b[0;32mIn[12], line 2\u001b[0m\n\u001b[1;32m      1\u001b[0m matching \u001b[38;5;241m=\u001b[39m pymatching\u001b[38;5;241m.\u001b[39mMatching\u001b[38;5;241m.\u001b[39mfrom_detector_error_model(model)\n\u001b[0;32m----> 2\u001b[0m num_errors \u001b[38;5;241m=\u001b[39m \u001b[43mcpp_soft_info\u001b[49m\u001b[38;5;241;43m.\u001b[39;49m\u001b[43mdecode_IQ_shots_flat\u001b[49m\u001b[43m(\u001b[49m\u001b[43mmatching\u001b[49m\u001b[38;5;241;43m.\u001b[39;49m\u001b[43m_matching_graph\u001b[49m\u001b[43m,\u001b[49m\u001b[43m \u001b[49m\u001b[43mmemory\u001b[49m\u001b[43m,\u001b[49m\u001b[43m \u001b[49m\n\u001b[1;32m      3\u001b[0m \u001b[43m                                           \u001b[49m\u001b[43msynd_rounds\u001b[49m\u001b[43m,\u001b[49m\u001b[43m \u001b[49m\u001b[43mqubit_mapping\u001b[49m\u001b[43m,\u001b[49m\u001b[43m \u001b[49m\u001b[43mgrid_dict\u001b[49m\u001b[43m,\u001b[49m\u001b[43m \u001b[49m\n\u001b[1;32m      4\u001b[0m \u001b[43m                                           \u001b[49m\u001b[43mprocessed_scaler_dict\u001b[49m\u001b[43m)\u001b[49m\n\u001b[1;32m      5\u001b[0m \u001b[38;5;28mprint\u001b[39m(\u001b[38;5;124m\"\u001b[39m\u001b[38;5;124mnum_errors:\u001b[39m\u001b[38;5;124m\"\u001b[39m, num_errors, \u001b[38;5;124m\"\u001b[39m\u001b[38;5;124mout of\u001b[39m\u001b[38;5;124m\"\u001b[39m, \u001b[38;5;28mlen\u001b[39m(memory), \u001b[38;5;124m\"\u001b[39m\u001b[38;5;124mshots\u001b[39m\u001b[38;5;124m\"\u001b[39m)\n\u001b[1;32m      7\u001b[0m \u001b[38;5;66;03m# takes 1s\u001b[39;00m\n",
      "\u001b[0;31mTypeError\u001b[0m: decode_IQ_shots_flat(): incompatible function arguments. The following argument types are supported:\n    1. (matching: pm::UserGraph, not_scaled_IQ_data: numpy.ndarray[numpy.complex128[m, n]], synd_rounds: int, logical: int, _resets: bool, qubit_mapping: dict[int, int], kde_grid_dict: dict[int, cpp_soft_info.GridData], scaler_params_dict: dict[int, tuple[tuple[float, float], tuple[float, float]]], _detailed: bool = False) -> cpp_soft_info.DetailedDecodeResult\n\nInvoked with: <pymatching._cpp_pymatching.MatchingGraph object at 0x2a61c4af0>, array([[ 2.01382292e+08+9.06661220e+07j, -7.96659030e+07-3.06433120e+07j,\n        -1.81834893e+08+1.34221650e+07j, ...,\n        -5.06856980e+07-6.18721900e+06j,  6.33442520e+07+7.03769970e+07j,\n         8.28337210e+07+6.37128690e+07j],\n       [-1.27219759e+08+1.02905142e+08j, -1.24680639e+08+1.69321330e+07j,\n        -9.58126480e+07+7.00267970e+07j, ...,\n        -8.56362710e+07+3.97657700e+07j, -1.07189304e+08+3.24693790e+07j,\n        -6.87202230e+07+7.73799400e+07j],\n       [-1.62128641e+08+1.34056258e+08j,  2.07826623e+08+9.94567670e+07j,\n        -1.71831181e+08-9.10926700e+06j, ...,\n        -5.38772740e+07+1.78216500e+06j, -5.45814900e+07+6.76182000e+07j,\n         7.76836440e+07+2.44833690e+07j],\n       ...,\n       [-1.86159781e+08+6.82393470e+07j,  1.36413924e+08+2.07491430e+07j,\n        -1.91356940e+08+5.24368220e+07j, ...,\n        -8.48712550e+07+3.01027100e+07j,  8.44875170e+07+6.60105260e+07j,\n        -7.37238410e+07+1.11315715e+08j],\n       [ 2.67278503e+08+5.48882010e+07j,  2.18328825e+08+7.13958740e+07j,\n         9.96060960e+07+1.37083120e+07j, ...,\n         1.66678660e+07+3.76988300e+06j,  6.21273430e+07+7.56389350e+07j,\n         8.55483520e+07+1.04478560e+07j],\n       [ 6.64736850e+07+1.33633906e+08j, -1.48914113e+08+5.26376530e+07j,\n         6.50586940e+07-2.33191590e+07j, ...,\n        -6.41521050e+07+3.83898890e+07j, -9.70624270e+07+1.70996960e+07j,\n        -6.78960580e+07+5.88126130e+07j]]), 10, {0: 13, 1: 11, 2: 9, 3: 7, 4: 5, 5: 3, 6: 1, 7: 15, 8: 20, 9: 13, 10: 11, 11: 9, 12: 7, 13: 5, 14: 3, 15: 1, 16: 15, 17: 20, 18: 13, 19: 11, 20: 9, 21: 7, 22: 5, 23: 3, 24: 1, 25: 15, 26: 20, 27: 13, 28: 11, 29: 9, 30: 7, 31: 5, 32: 3, 33: 1, 34: 15, 35: 20, 36: 13, 37: 11, 38: 9, 39: 7, 40: 5, 41: 3, 42: 1, 43: 15, 44: 20, 45: 13, 46: 11, 47: 9, 48: 7, 49: 5, 50: 3, 51: 1, 52: 15, 53: 20, 54: 13, 55: 11, 56: 9, 57: 7, 58: 5, 59: 3, 60: 1, 61: 15, 62: 20, 63: 13, 64: 11, 65: 9, 66: 7, 67: 5, 68: 3, 69: 1, 70: 15, 71: 20, 72: 13, 73: 11, 74: 9, 75: 7, 76: 5, 77: 3, 78: 1, 79: 15, 80: 20, 81: 13, 82: 11, 83: 9, 84: 7, 85: 5, 86: 3, 87: 1, 88: 15, 89: 20, 90: 14, 91: 12, 92: 10, 93: 8, 94: 6, 95: 4, 96: 2, 97: 0, 98: 19, 99: 21}, {0: <cpp_soft_info.GridData object at 0x2b810a7f0>, 1: <cpp_soft_info.GridData object at 0x2a61fd930>, 2: <cpp_soft_info.GridData object at 0x2a69c4ab0>, 3: <cpp_soft_info.GridData object at 0x2a69c4830>, 4: <cpp_soft_info.GridData object at 0x2a69c4870>, 5: <cpp_soft_info.GridData object at 0x2a69c4530>, 6: <cpp_soft_info.GridData object at 0x2a69c46f0>, 7: <cpp_soft_info.GridData object at 0x2a69c49b0>, 8: <cpp_soft_info.GridData object at 0x2a69c48b0>, 9: <cpp_soft_info.GridData object at 0x2a69c42f0>, 10: <cpp_soft_info.GridData object at 0x2a69c4930>, 11: <cpp_soft_info.GridData object at 0x2a69c4370>, 12: <cpp_soft_info.GridData object at 0x2a69c4970>, 13: <cpp_soft_info.GridData object at 0x2a69c47f0>, 14: <cpp_soft_info.GridData object at 0x2a69c4730>, 15: <cpp_soft_info.GridData object at 0x2a69c44f0>, 16: <cpp_soft_info.GridData object at 0x2a69c42b0>, 17: <cpp_soft_info.GridData object at 0x2a69c4470>, 18: <cpp_soft_info.GridData object at 0x2a69c44b0>, 19: <cpp_soft_info.GridData object at 0x2a69c45f0>, 20: <cpp_soft_info.GridData object at 0x2a69c43b0>, 21: <cpp_soft_info.GridData object at 0x2a69c4570>, 22: <cpp_soft_info.GridData object at 0x2a69c4430>, 23: <cpp_soft_info.GridData object at 0x2a69c45b0>, 24: <cpp_soft_info.GridData object at 0x2a69c41b0>, 25: <cpp_soft_info.GridData object at 0x2a69c40f0>, 26: <cpp_soft_info.GridData object at 0x2a69c4270>, 27: <cpp_soft_info.GridData object at 0x2a69c40b0>, 28: <cpp_soft_info.GridData object at 0x2a69c4030>, 29: <cpp_soft_info.GridData object at 0x2a69c4130>, 30: <cpp_soft_info.GridData object at 0x2a69c4230>, 31: <cpp_soft_info.GridData object at 0x2a69c41f0>, 32: <cpp_soft_info.GridData object at 0x2a69c4170>, 33: <cpp_soft_info.GridData object at 0x2a69c6db0>, 34: <cpp_soft_info.GridData object at 0x2a69c7a70>, 35: <cpp_soft_info.GridData object at 0x2a69c78f0>, 36: <cpp_soft_info.GridData object at 0x2a69c7430>, 37: <cpp_soft_info.GridData object at 0x2a69c7730>, 38: <cpp_soft_info.GridData object at 0x2a69c75b0>, 39: <cpp_soft_info.GridData object at 0x2a69c7030>, 40: <cpp_soft_info.GridData object at 0x2a69c72b0>, 41: <cpp_soft_info.GridData object at 0x2a69c6df0>, 42: <cpp_soft_info.GridData object at 0x2a69c7bb0>, 43: <cpp_soft_info.GridData object at 0x2a69c7c30>, 44: <cpp_soft_info.GridData object at 0x2a69c7df0>, 45: <cpp_soft_info.GridData object at 0x2a69c7f70>, 46: <cpp_soft_info.GridData object at 0x2a69c7d70>, 47: <cpp_soft_info.GridData object at 0x2a69c7cf0>, 48: <cpp_soft_info.GridData object at 0x2a69c7fb0>, 49: <cpp_soft_info.GridData object at 0x2a69c7ef0>, 50: <cpp_soft_info.GridData object at 0x2a69c7e30>, 51: <cpp_soft_info.GridData object at 0x2a69c7cb0>, 52: <cpp_soft_info.GridData object at 0x2a69c76f0>, 53: <cpp_soft_info.GridData object at 0x2a69c7670>, 54: <cpp_soft_info.GridData object at 0x2a69c7a30>, 55: <cpp_soft_info.GridData object at 0x2a69c78b0>, 56: <cpp_soft_info.GridData object at 0x2a69c7830>, 57: <cpp_soft_info.GridData object at 0x2a69c7b70>, 58: <cpp_soft_info.GridData object at 0x2a69c79b0>, 59: <cpp_soft_info.GridData object at 0x2a69c7af0>, 60: <cpp_soft_info.GridData object at 0x2a69c74f0>, 61: <cpp_soft_info.GridData object at 0x2a69c7270>, 62: <cpp_soft_info.GridData object at 0x2a69c69b0>, 63: <cpp_soft_info.GridData object at 0x2a69c71f0>, 64: <cpp_soft_info.GridData object at 0x2a69c6ff0>, 65: <cpp_soft_info.GridData object at 0x2a69c7170>, 66: <cpp_soft_info.GridData object at 0x2a69c7370>, 67: <cpp_soft_info.GridData object at 0x2a69c73f0>, 68: <cpp_soft_info.GridData object at 0x2a69c7570>, 69: <cpp_soft_info.GridData object at 0x2a69c72f0>, 70: <cpp_soft_info.GridData object at 0x2a69c7e70>, 71: <cpp_soft_info.GridData object at 0x2a5216230>, 72: <cpp_soft_info.GridData object at 0x2a5217730>, 73: <cpp_soft_info.GridData object at 0x2a52175f0>, 74: <cpp_soft_info.GridData object at 0x2a5216530>, 75: <cpp_soft_info.GridData object at 0x2a5217670>, 76: <cpp_soft_info.GridData object at 0x2a5217770>, 77: <cpp_soft_info.GridData object at 0x2a5217cf0>, 78: <cpp_soft_info.GridData object at 0x2a5216d30>, 79: <cpp_soft_info.GridData object at 0x2a52168b0>, 80: <cpp_soft_info.GridData object at 0x2a52172f0>, 81: <cpp_soft_info.GridData object at 0x2a5216570>, 82: <cpp_soft_info.GridData object at 0x2a52164b0>, 83: <cpp_soft_info.GridData object at 0x2a5216170>, 84: <cpp_soft_info.GridData object at 0x2a52169b0>, 85: <cpp_soft_info.GridData object at 0x2a52159b0>, 86: <cpp_soft_info.GridData object at 0x2a5217e30>, 87: <cpp_soft_info.GridData object at 0x2a5216130>, 88: <cpp_soft_info.GridData object at 0x2a5216830>, 89: <cpp_soft_info.GridData object at 0x2a5216cb0>, 90: <cpp_soft_info.GridData object at 0x2a52164f0>, 91: <cpp_soft_info.GridData object at 0x2a5216af0>, 92: <cpp_soft_info.GridData object at 0x2a52173b0>, 93: <cpp_soft_info.GridData object at 0x2a5215df0>, 94: <cpp_soft_info.GridData object at 0x2a5216870>, 95: <cpp_soft_info.GridData object at 0x2a5217db0>, 96: <cpp_soft_info.GridData object at 0x2a5217030>, 97: <cpp_soft_info.GridData object at 0x2a5216bf0>, 98: <cpp_soft_info.GridData object at 0x2a5215db0>, 99: <cpp_soft_info.GridData object at 0x2a5217b30>, 100: <cpp_soft_info.GridData object at 0x2a5215af0>, 101: <cpp_soft_info.GridData object at 0x2a5214930>, 102: <cpp_soft_info.GridData object at 0x2a5214ef0>, 103: <cpp_soft_info.GridData object at 0x2a5215e30>, 104: <cpp_soft_info.GridData object at 0x2a52152b0>, 105: <cpp_soft_info.GridData object at 0x2a52156b0>, 106: <cpp_soft_info.GridData object at 0x2a5215ab0>, 107: <cpp_soft_info.GridData object at 0x2a52165b0>, 108: <cpp_soft_info.GridData object at 0x2a52161f0>, 109: <cpp_soft_info.GridData object at 0x2a5216970>, 110: <cpp_soft_info.GridData object at 0x2a5214230>, 111: <cpp_soft_info.GridData object at 0x2a52174f0>, 112: <cpp_soft_info.GridData object at 0x2a5217870>, 113: <cpp_soft_info.GridData object at 0x2a52141b0>, 114: <cpp_soft_info.GridData object at 0x2a5217bf0>, 115: <cpp_soft_info.GridData object at 0x2a5217f70>, 116: <cpp_soft_info.GridData object at 0x2a52145b0>, 117: <cpp_soft_info.GridData object at 0x2a5215630>, 118: <cpp_soft_info.GridData object at 0x2a52148b0>, 119: <cpp_soft_info.GridData object at 0x2a5215a30>, 120: <cpp_soft_info.GridData object at 0x2a5217170>, 121: <cpp_soft_info.GridData object at 0x2a5214ff0>, 122: <cpp_soft_info.GridData object at 0x2a52153b0>, 123: <cpp_soft_info.GridData object at 0x2a52162f0>, 124: <cpp_soft_info.GridData object at 0x2a52157b0>, 125: <cpp_soft_info.GridData object at 0x2a5215bb0>, 126: <cpp_soft_info.GridData object at 0x2a5215f30>, 127: <cpp_soft_info.GridData object at 0x2a5216a70>, 128: <cpp_soft_info.GridData object at 0x2a52166b0>, 129: <cpp_soft_info.GridData object at 0x2a5216df0>, 130: <cpp_soft_info.GridData object at 0x2a5214bf0>, 131: <cpp_soft_info.GridData object at 0x2a5217630>, 132: <cpp_soft_info.GridData object at 0x2a52179b0>}, {0: ((-12095632.67595, 48348245.73953494), (25649945.2112, 20391903.735818945)), 1: ((26577931.10515, 79275171.53203657), (14406235.90505, 26334885.834955893)), 2: ((-10554953.7584, 39774257.335762866), (23496910.29515, 17936810.637600124)), 3: ((6271454.1545, 129093551.55150771), (86253942.34665, 35626565.40336195)), 4: ((-5115802.61275, 55144318.555409156), (40833822.96295, 19043301.618851077)), 5: ((-5808714.20805, 112593192.36001214), (48268446.2328, 29422924.92260551)), 6: ((-13224851.77, 52127747.97372981), (29605059.90385, 19128546.706574637)), 7: ((10202608.10135, 44202642.35032406), (11216990.29855, 16997780.674639966)), 8: ((-2028515.87225, 85382214.31144014), (30201057.38755, 28963055.55680135)), 9: ((-41181164.7732, 119815836.42540741), (35455462.0485, 36117233.38088914)), 10: ((10333712.6868, 141730639.4342984), (99486170.8009, 47126530.6510611)), 11: ((12019776.1461, 158453718.91642264), (67610141.78495, 47941732.39793576)), 12: ((-566149.70975, 114089406.79188639), (112439322.436, 41335530.107682675)), 13: ((2074740.18015, 187730943.8258715), (68246696.7397, 53546747.39043028)), 14: ((5117802.1966, 122093090.94678366), (109385271.54875, 37732810.28596859)), 15: ((-31891160.5192, 92959174.1533393), (57176577.66945, 34689069.685936)), 16: ((9514462.8885, 110613394.17144556), (31661797.1375, 38291562.80569102)), 17: ((-8271433.5294, 205760849.77839223), (100774731.9136, 61959413.37916744)), 18: ((2177120.6872, 129045203.00042161), (47477269.7401, 36209391.50609502)), 19: ((-20385423.39205, 68494016.05346778), (47098785.12255, 26414158.730651185)), 20: ((2770021.11785, 115485327.24730903), (34880108.84195, 36770785.94264488)), 21: ((-17627615.91125, 92919599.98155144), (60908981.4013, 29992899.86556213)), 22: ((-7046340.91545, 150036101.46643472), (63454438.48675, 45678064.1969011)), 23: ((-2349893.9021, 68175035.081805), (48274816.1562, 26452297.04990963)), 24: ((-4069.16845, 160500913.83831993), (47584199.82085, 46541829.95975917)), 25: ((724259.61485, 63667263.49603858), (22560986.8142, 21415592.39605769)), 26: ((13534904.42805, 201953876.08332404), (61511810.8967, 63220390.52094194)), 27: ((-17102913.55375, 231330355.0652006), (128785591.8491, 59499229.8450268)), 28: ((6408601.22895, 255125924.42525172), (114195675.82745, 75979886.14676487)), 29: ((-14993491.61735, 121254920.20617895), (79411637.29325, 42770546.35123563)), 30: ((6015064.4311, 248231221.7919779), (161001202.2236, 100245598.8811544)), 31: ((-25643777.2891, 75858558.77506816), (52184086.2988, 38597201.906311244)), 32: ((69504648.66535, 238204948.67610276), (53126414.81835, 81551442.00487688)), 33: ((452177.48875, 87434351.6234533), (35321075.62725, 40942528.615304925)), 34: ((24478700.3411, 186286929.99975833), (62845256.9784, 48699353.03257864)), 35: ((24134324.23715, 275833942.150953), (121132431.42695, 66340848.171706356)), 36: ((30993195.57825, 394797352.41464114), (131170126.96215, 90842317.47454374)), 37: ((-6486711.1316, 389569368.6279345), (258915687.1235, 122389108.68458965)), 38: ((-4806632.24685, 53141459.40057109), (19072276.21255, 27401528.35930256)), 39: ((45503535.4192, 155017275.42394555), (27146126.01715, 50063947.62333811)), 40: ((-704521.3818, 94207718.12259398), (48329288.9381, 33461275.041607138)), 41: ((-8555360.59275, 249367133.7479303), (164826312.12655, 77816199.68813902)), 42: ((-2974745.54635, 76633105.46751438), (44067284.31185, 30479948.22372012)), 43: ((549734.48065, 139944244.62477857), (57779025.28665, 50001473.53728911)), 44: ((3490034.2163, 108717311.38054879), (52556894.0664, 44411490.50787014)), 45: ((3465088.12135, 100928857.87021925), (24065192.97295, 37312815.31427792)), 46: ((-5843893.46055, 55085801.90554757), (22282358.6893, 21899633.747064523)), 47: ((-36733963.50175, 135380685.26789626), (33698360.5565, 42843232.36782963)), 48: ((-6056458.4881, 86767727.54567507), (56292974.6704, 26268707.73781588)), 49: ((11414137.164, 128935276.89334688), (49700548.7031, 44864913.62189364)), 50: ((-19753588.08925, 66124812.26906066), (41339025.8155, 24454345.369779285)), 51: ((-458916.79315, 151788703.65670705), (45325216.0785, 36673112.674816236)), 52: ((-4656862.11735, 100174235.33109745), (87363159.51045, 31407301.875270795)), 53: ((-27735355.139, 143593144.39580694), (214331715.92, 76142618.02508499)), 54: ((15786938.21475, 162388474.1764047), (41834392.27295, 44293565.48092326)), 55: ((-9802585.7552, 147763691.1034227), (61370769.9431, 49892076.39460802)), 56: ((8161285.26855, 104414585.70862322), (29892916.44905, 31583512.68592972)), 57: ((-8075082.1287, 134981485.9203999), (108508651.6157, 33585124.819496416)), 58: ((1238850.5205, 88154123.63801087), (26231114.65975, 26364666.662399746)), 59: ((-13065485.7437, 61040806.41477697), (38272432.67745, 20320903.31772315)), 60: ((8375549.5053, 108522209.0764349), (34051185.2198, 38764348.34110621)), 61: ((-192859.23745, 68531722.93497889), (52675384.17045, 22551730.415354334)), 62: ((9255832.8888, 103021726.03901674), (28786282.59275, 30751891.844481062)), 63: ((-12412883.5562, 112682014.35968347), (57061872.57175, 30175518.496187165)), 64: ((5470455.4816, 53819421.25372938), (15156334.36995, 21561640.248145506)), 65: ((-6521797.83355, 75939787.14712866), (37536213.6634, 25121752.798461337)), 66: ((5616330.54355, 112248612.61445835), (43042405.0832, 35894353.75258501)), 67: ((-13583090.77825, 71716989.91646677), (43620587.55605, 24554155.431237936)), 68: ((-1476714.018, 122518450.41833387), (66137200.39395, 39922316.71868958)), 69: ((-7187903.13925, 77205474.61335354), (36436309.70925, 27594082.078408036)), 70: ((10030103.99865, 66172547.833680354), (20521663.31135, 25465770.4417294)), 71: ((-10349649.67645, 71603049.65407671), (32640337.42255, 23924748.010657858)), 72: ((10722575.57275, 150457818.750935), (44005803.63175, 39286838.5242864)), 73: ((6902647.76025, 140325722.39450836), (72960766.25235, 37026444.565395325)), 74: ((23682822.03245, 156706935.48683506), (41744925.1107, 44720840.97530581)), 75: ((-4703713.7305, 195089990.96820018), (166597127.0446, 64306493.166960835)), 76: ((-6109058.9414, 42536969.98918501), (30388969.5316, 15247599.10188066)), 77: ((13651904.64565, 65700931.94889315), (15747829.30395, 25393014.01649907)), 78: ((-7709520.2353, 52026200.7935746), (29200547.5592, 16995305.90183937)), 79: ((1545026.25285, 116587298.23054874), (66835431.41855, 32075513.51298057)), 80: ((-3931965.27025, 35258211.93150644), (20789864.1944, 14069663.083243392)), 81: ((6678349.3819, 94094539.9666235), (41565448.0151, 29264281.07730864)), 82: ((-3675912.9141, 30679062.032138318), (13128333.51295, 14349959.297438236)), 83: ((4360564.01, 46080256.249253), (11232342.95265, 18713486.577256598)), 84: ((-16147235.3347, 70834448.50667845), (32981955.92815, 32904174.85002698)), 85: ((11618899.1589, 128789467.01864006), (80797693.5371, 47772979.58375616)), 86: ((-433793.41725, 120825639.82361196), (111420205.0252, 52601397.210715555)), 87: ((17845902.81285, 277917413.602682), (129344324.80085, 79974931.79009865)), 88: ((-13618493.07475, 92617728.48248847), (69060071.1565, 36927163.15311882)), 89: ((18790528.09365, 236925536.72934195), (76012704.30375, 74316841.4020122)), 90: ((-21596413.0389, 215814063.12679666), (182639927.08005, 68683989.16986485)), 91: ((-6028773.2052, 113769991.25257015), (85833275.94055, 36406329.83623738)), 92: ((7694324.5503, 106608240.64516638), (33134671.7549, 33007509.5676891)), 93: ((-9026027.9755, 365123509.0796922), (186299730.04565, 104748978.47851695)), 94: ((3365781.06555, 198640831.05842787), (51429506.28905, 72090565.46865965)), 95: ((8913249.4416, 148154234.58455557), (122258626.0465, 51578381.04588064)), 96: ((9635611.36285, 332664909.8732455), (85961346.20375, 100674886.51927894)), 97: ((-26527526.99565, 243781166.34993258), (233050788.6608, 95561502.40093553)), 98: ((-3439957.89685, 223626402.507157), (68854872.10485, 78391091.98518838)), 99: ((-26565506.3181, 252499389.71222275), (247024266.88515, 72554504.21843196)), 100: ((-65160.78995, 207931925.7291938), (55529373.9296, 69050856.35091966)), 101: ((-14357603.55555, 95931082.35901871), (42058701.4351, 42002831.938443355)), 102: ((3937078.40665, 61400908.467126325), (15714381.2457, 20610479.45520762)), 103: ((-7946503.48955, 58444564.9804276), (29684563.08325, 22736730.168116454)), 104: ((2790119.1302, 91108497.77752544), (34319359.58405, 31679604.702959552)), 105: ((-5722491.2846, 62106433.166500516), (44648433.693, 21925623.046591505)), 106: ((228716.1413, 117256204.50548714), (65053619.8525, 40754821.52833352)), 107: ((-4092146.7321, 61747785.796296686), (32718665.5398, 22488932.692745432)), 108: ((11950502.8231, 94020661.7629765), (28384501.8774, 25235391.395404514)), 109: ((-9398077.0059, 49018189.73582714), (21164720.17695, 19262453.22901187)), 110: ((38824234.15505, 294661472.5121535), (32916884.5377, 79085683.40485363)), 111: ((-32255569.461, 478559377.3044109), (264486485.4364, 128956026.62585849)), 112: ((2832118.0632, 85380347.38308907), (20488624.91155, 31948283.98737036)), 113: ((4394986.9159, 133687869.86797896), (101188106.3618, 57904594.08856122)), 114: ((2873275.29395, 44840979.41147211), (18169613.7339, 20194168.93140676)), 115: ((13214907.72685, 51385619.122201264), (-1349291.51615, 25950181.28432858)), 116: ((2604606.59215, 55265148.64652302), (24871355.5329, 21837316.761073742)), 117: ((-10906256.30545, 83914325.48939793), (42977338.2222, 30680099.65211122)), 118: ((-2136121.2961, 31730553.155646693), (22943353.39225, 15279834.016994122)), 119: ((5478858.5687, 88231996.94317508), (35453244.50495, 28130813.16177897)), 120: ((-5599822.21195, 57562858.95064005), (38544329.93805, 19838669.94461596)), 121: ((5031183.28425, 44777157.690637596), (12694114.35325, 16292531.152122399)), 122: ((-2275953.1932, 51059941.24641543), (22390142.0752, 19676773.571257774)), 123: ((-11064405.03875, 61982143.05760662), (17438777.38005, 22924051.868452568)), 124: ((-5379942.21575, 44898371.09248622), (27550626.04535, 21676357.023033906)), 125: ((4780411.7252, 86296030.30645907), (37761374.30765, 30198719.555973753)), 126: ((-2080438.2731, 40251016.83041092), (26975499.72635, 17470135.85398724)), 127: ((1946697.0249, 48705501.633204326), (16480824.07895, 22382750.69502195)), 128: ((-1776861.64655, 55567915.25607148), (35517681.779, 22482531.601474132)), 129: ((120817.81165, 102988105.28139505), (64378173.6572, 41072319.52457112)), 130: ((3124232.1215, 81421295.65946823), (24791898.76165, 28954907.871490154)), 131: ((-473273.9427, 214645701.60815024), (113490375.635, 54378648.02462012)), 132: ((-1885979.7805, 75738201.75847898), (28689706.9037, 19651508.82825226))}"
     ]
    }
   ],
   "source": [
    "matching = pymatching.Matching.from_detector_error_model(model)\n",
    "num_errors = cpp_soft_info.decode_IQ_shots_flat(matching._matching_graph, memory, \n",
    "                                           synd_rounds, qubit_mapping, grid_dict, \n",
    "                                           processed_scaler_dict)\n",
    "print(\"num_errors:\", num_errors, \"out of\", len(memory), \"shots\")\n",
    "\n",
    "# takes 1s"
   ]
  },
  {
   "cell_type": "code",
   "execution_count": null,
   "metadata": {},
   "outputs": [],
   "source": [
    "matching = pymatching.Matching.from_detector_error_model(model)\n",
    "\n",
    "def weight_to_prob(weight):\n",
    "    return 1/(1+np.exp(weight))\n",
    "\n",
    "p_data = 6.869e-3 # mean sherbrooke ECR error\n",
    "p_mixed = p_data/1 # Same as weighted\n",
    "p_meas = 9.900e-3 # mean Readout assignment error\n",
    "\n",
    "num_errors = cpp_soft_info.decode_IQ_shots_flat_informed(matching._matching_graph, memory, \n",
    "                                           synd_rounds, qubit_mapping, grid_dict, processed_scaler_dict,\n",
    "                                           p_data, p_mixed, p_meas, common_measure=-1)\n",
    "                                        \n",
    "print(\"num_errors:\", num_errors, \"out of\", len(memory), \"shots\")\n",
    "         \n",
    "# takes 1s"
   ]
  },
  {
   "cell_type": "code",
   "execution_count": null,
   "metadata": {},
   "outputs": [],
   "source": []
  }
 ],
 "metadata": {
  "kernelspec": {
   "display_name": "Soft-Info-fMUpUe5a",
   "language": "python",
   "name": "python3"
  },
  "language_info": {
   "codemirror_mode": {
    "name": "ipython",
    "version": 3
   },
   "file_extension": ".py",
   "mimetype": "text/x-python",
   "name": "python",
   "nbconvert_exporter": "python",
   "pygments_lexer": "ipython3",
   "version": "3.11.4"
  }
 },
 "nbformat": 4,
 "nbformat_minor": 2
}
