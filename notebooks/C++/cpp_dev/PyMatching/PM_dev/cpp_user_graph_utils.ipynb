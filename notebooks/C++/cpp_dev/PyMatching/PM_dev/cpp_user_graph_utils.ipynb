{
 "cells": [
  {
   "cell_type": "code",
   "execution_count": 2,
   "metadata": {},
   "outputs": [
    {
     "ename": "ModuleNotFoundError",
     "evalue": "No module named 'src'",
     "output_type": "error",
     "traceback": [
      "\u001b[1;31m---------------------------------------------------------------------------\u001b[0m",
      "\u001b[1;31mModuleNotFoundError\u001b[0m                       Traceback (most recent call last)",
      "Cell \u001b[1;32mIn[2], line 1\u001b[0m\n\u001b[1;32m----> 1\u001b[0m \u001b[38;5;28;01mfrom\u001b[39;00m \u001b[38;5;21;01msrc\u001b[39;00m \u001b[38;5;28;01mimport\u001b[39;00m cpp_soft_info\n\u001b[0;32m      2\u001b[0m \u001b[38;5;28;01mfrom\u001b[39;00m \u001b[38;5;21;01msrc\u001b[39;00m\u001b[38;5;21;01m.\u001b[39;00m\u001b[38;5;21;01mcpp_soft_info\u001b[39;00m \u001b[38;5;28;01mimport\u001b[39;00m counts_to_det_syndr\n\u001b[0;32m      3\u001b[0m \u001b[38;5;28;01mfrom\u001b[39;00m \u001b[38;5;21;01msoft_info\u001b[39;00m \u001b[38;5;28;01mimport\u001b[39;00m get_counts\n",
      "\u001b[1;31mModuleNotFoundError\u001b[0m: No module named 'src'"
     ]
    }
   ],
   "source": [
    "import cpp_soft_info\n",
    "from cpp_soft_info import counts_to_det_syndr\n",
    "from soft_info import get_counts"
   ]
  },
  {
   "cell_type": "code",
   "execution_count": 2,
   "metadata": {},
   "outputs": [
    {
     "name": "stdout",
     "output_type": "stream",
     "text": [
      "<class 'pymatching._cpp_pymatching.MatchingGraph'>\n"
     ]
    }
   ],
   "source": [
    "import stim\n",
    "import pymatching\n",
    "\n",
    "max_distance = 3\n",
    "d = max_distance\n",
    "T = max_distance\n",
    "\n",
    "circuit = stim.Circuit.generated(\"repetition_code:memory\",\n",
    "                                 distance=d,\n",
    "                                 rounds=T,\n",
    "                                 after_clifford_depolarization=0.1)\n",
    "\n",
    "model = circuit.detector_error_model(decompose_errors=True)\n",
    "matching = pymatching.Matching.from_detector_error_model(model)\n",
    "print(type(matching._matching_graph))"
   ]
  },
  {
   "cell_type": "code",
   "execution_count": 3,
   "metadata": {},
   "outputs": [
    {
     "name": "stdout",
     "output_type": "stream",
     "text": [
      "Processing graph\n"
     ]
    }
   ],
   "source": [
    "cpp_soft_info.processGraph_test(matching._matching_graph)\n",
    "# cpp_soft_info.processGraph_test(2)"
   ]
  },
  {
   "cell_type": "markdown",
   "metadata": {},
   "source": [
    "# syndromeArrayToDetectionEvents"
   ]
  },
  {
   "cell_type": "code",
   "execution_count": 4,
   "metadata": {},
   "outputs": [],
   "source": [
    "from cpp_soft_info import syndromeArrayToDetectionEvents"
   ]
  },
  {
   "cell_type": "markdown",
   "metadata": {},
   "source": [
    "# counts_to_det_syndr"
   ]
  },
  {
   "cell_type": "code",
   "execution_count": 4,
   "metadata": {},
   "outputs": [
    {
     "name": "stdout",
     "output_type": "stream",
     "text": [
      "\n",
      "[0, 0, 1, 1, 1, 0, 0, 1, 0, 0, 1, 1]\n",
      "[0, 0, 1, 1, 1, 0, 0, 1, 0, 0, 1, 1]\n"
     ]
    }
   ],
   "source": [
    "from soft_info import counts_to_det_syndr\n",
    "count = '1101 101 111 100'\n",
    "# print(list(counts_to_det_syndr(count, _resets=False, verbose=True)))\n",
    "# print(cpp_soft_info.counts_to_det_syndr(count, _resets=False))\n",
    "print()\n",
    "print(list(counts_to_det_syndr(count, _resets=True, verbose=False)))\n",
    "print(cpp_soft_info.counts_to_det_syndr(count, _resets=True))\n"
   ]
  },
  {
   "cell_type": "markdown",
   "metadata": {},
   "source": [
    "# Get_edges"
   ]
  },
  {
   "cell_type": "code",
   "execution_count": 5,
   "metadata": {},
   "outputs": [
    {
     "name": "stdout",
     "output_type": "stream",
     "text": [
      "21\n",
      "21\n",
      "[(0, None, {'fault_ids': set(), 'weight': 2.8763855159214238, 'error_probability': 0.05333333333333338}), (0, 1, {'fault_ids': set(), 'weight': 3.568738257010482, 'error_probability': 0.02741843737473918}), (0, 2, {'fault_ids': set(), 'weight': 3.568738257010482, 'error_probability': 0.02741843737473918}), (0, 3, {'fault_ids': set(), 'weight': 2.876385515921424, 'error_probability': 0.05333333333333336}), (1, 3, {'fault_ids': set(), 'weight': 3.568738257010482, 'error_probability': 0.02741843737473918}), (1, None, {'fault_ids': {0}, 'weight': 2.8763855159214238, 'error_probability': 0.05333333333333338}), (2, None, {'fault_ids': set(), 'weight': 2.1864072823588314, 'error_probability': 0.10097777777777785}), (2, 3, {'fault_ids': set(), 'weight': 2.876385515921424, 'error_probability': 0.05333333333333336}), (2, 4, {'fault_ids': set(), 'weight': 3.568738257010482, 'error_probability': 0.02741843737473918}), (2, 5, {'fault_ids': set(), 'weight': 2.876385515921424, 'error_probability': 0.05333333333333336}), (3, 5, {'fault_ids': set(), 'weight': 3.568738257010482, 'error_probability': 0.02741843737473918}), (3, None, {'fault_ids': {0}, 'weight': 2.1864072823588314, 'error_probability': 0.10097777777777785}), (4, None, {'fault_ids': set(), 'weight': 2.1864072823588314, 'error_probability': 0.10097777777777785}), (4, 5, {'fault_ids': set(), 'weight': 2.876385515921424, 'error_probability': 0.05333333333333336}), (4, 6, {'fault_ids': set(), 'weight': 3.568738257010482, 'error_probability': 0.02741843737473918}), (4, 7, {'fault_ids': set(), 'weight': 2.876385515921424, 'error_probability': 0.05333333333333336}), (5, 7, {'fault_ids': set(), 'weight': 3.568738257010482, 'error_probability': 0.02741843737473918}), (5, None, {'fault_ids': {0}, 'weight': 2.1864072823588314, 'error_probability': 0.10097777777777785}), (6, None, {'fault_ids': set(), 'weight': 2.8763855159214238, 'error_probability': 0.05333333333333338}), (6, 7, {'fault_ids': set(), 'weight': 3.568738257010482, 'error_probability': 0.02741843737473918}), (7, None, {'fault_ids': {0}, 'weight': 2.8763855159214238, 'error_probability': 0.05333333333333338})]\n",
      "[(0, None, {'fault_ids': set(), 'weight': 2.8763855159214238, 'error_probability': 0.05333333333333338}), (0, 1, {'fault_ids': set(), 'weight': 3.568738257010482, 'error_probability': 0.02741843737473918}), (0, 2, {'fault_ids': set(), 'weight': 3.568738257010482, 'error_probability': 0.02741843737473918}), (0, 3, {'fault_ids': set(), 'weight': 2.876385515921424, 'error_probability': 0.05333333333333336}), (1, 3, {'fault_ids': set(), 'weight': 3.568738257010482, 'error_probability': 0.02741843737473918}), (1, None, {'fault_ids': {0}, 'weight': 2.8763855159214238, 'error_probability': 0.05333333333333338}), (2, None, {'fault_ids': set(), 'weight': 2.1864072823588314, 'error_probability': 0.10097777777777785}), (2, 3, {'fault_ids': set(), 'weight': 2.876385515921424, 'error_probability': 0.05333333333333336}), (2, 4, {'fault_ids': set(), 'weight': 3.568738257010482, 'error_probability': 0.02741843737473918}), (2, 5, {'fault_ids': set(), 'weight': 2.876385515921424, 'error_probability': 0.05333333333333336}), (3, 5, {'fault_ids': set(), 'weight': 3.568738257010482, 'error_probability': 0.02741843737473918}), (3, None, {'fault_ids': {0}, 'weight': 2.1864072823588314, 'error_probability': 0.10097777777777785}), (4, None, {'fault_ids': set(), 'weight': 2.1864072823588314, 'error_probability': 0.10097777777777785}), (4, 5, {'fault_ids': set(), 'weight': 2.876385515921424, 'error_probability': 0.05333333333333336}), (4, 6, {'fault_ids': set(), 'weight': 3.568738257010482, 'error_probability': 0.02741843737473918}), (4, 7, {'fault_ids': set(), 'weight': 2.876385515921424, 'error_probability': 0.05333333333333336}), (5, 7, {'fault_ids': set(), 'weight': 3.568738257010482, 'error_probability': 0.02741843737473918}), (5, None, {'fault_ids': {0}, 'weight': 2.1864072823588314, 'error_probability': 0.10097777777777785}), (6, None, {'fault_ids': set(), 'weight': 2.8763855159214238, 'error_probability': 0.05333333333333338}), (6, 7, {'fault_ids': set(), 'weight': 3.568738257010482, 'error_probability': 0.02741843737473918}), (7, None, {'fault_ids': {0}, 'weight': 2.8763855159214238, 'error_probability': 0.05333333333333338})]\n"
     ]
    }
   ],
   "source": [
    "assert cpp_soft_info.get_edges(matching._matching_graph) == matching.edges()\n",
    "print(len(matching.edges()))\n",
    "print(len(cpp_soft_info.get_edges(matching._matching_graph)))\n",
    "print(cpp_soft_info.get_edges(matching._matching_graph))\n",
    "print(matching.edges())"
   ]
  },
  {
   "cell_type": "code",
   "execution_count": null,
   "metadata": {},
   "outputs": [],
   "source": []
  },
  {
   "cell_type": "markdown",
   "metadata": {},
   "source": [
    "# add_edges + add_boundary_edges"
   ]
  },
  {
   "cell_type": "code",
   "execution_count": 5,
   "metadata": {},
   "outputs": [
    {
     "name": "stdout",
     "output_type": "stream",
     "text": [
      "[(0, None, {'fault_ids': set(), 'weight': 2.8763855159214238, 'error_probability': 0.05333333333333338}), (0, 1, {'fault_ids': {0, 1, 2}, 'weight': 1.0, 'error_probability': 0.1}), (0, 2, {'fault_ids': set(), 'weight': 3.568738257010482, 'error_probability': 0.02741843737473918}), (0, 3, {'fault_ids': set(), 'weight': 2.876385515921424, 'error_probability': 0.05333333333333336}), (1, 3, {'fault_ids': set(), 'weight': 3.568738257010482, 'error_probability': 0.02741843737473918}), (1, None, {'fault_ids': {0}, 'weight': 2.8763855159214238, 'error_probability': 0.05333333333333338}), (2, None, {'fault_ids': set(), 'weight': 2.1864072823588314, 'error_probability': 0.10097777777777785}), (2, 3, {'fault_ids': set(), 'weight': 2.876385515921424, 'error_probability': 0.05333333333333336}), (2, 4, {'fault_ids': set(), 'weight': 3.568738257010482, 'error_probability': 0.02741843737473918}), (2, 5, {'fault_ids': set(), 'weight': 2.876385515921424, 'error_probability': 0.05333333333333336}), (3, 5, {'fault_ids': set(), 'weight': 3.568738257010482, 'error_probability': 0.02741843737473918}), (3, None, {'fault_ids': {0}, 'weight': 2.1864072823588314, 'error_probability': 0.10097777777777785}), (4, None, {'fault_ids': set(), 'weight': 2.1864072823588314, 'error_probability': 0.10097777777777785}), (4, 5, {'fault_ids': set(), 'weight': 2.876385515921424, 'error_probability': 0.05333333333333336}), (4, 6, {'fault_ids': set(), 'weight': 3.568738257010482, 'error_probability': 0.02741843737473918}), (4, 7, {'fault_ids': set(), 'weight': 2.876385515921424, 'error_probability': 0.05333333333333336}), (5, 7, {'fault_ids': set(), 'weight': 3.568738257010482, 'error_probability': 0.02741843737473918}), (5, None, {'fault_ids': {0}, 'weight': 2.1864072823588314, 'error_probability': 0.10097777777777785}), (6, None, {'fault_ids': set(), 'weight': 2.8763855159214238, 'error_probability': 0.05333333333333338}), (6, 7, {'fault_ids': set(), 'weight': 3.568738257010482, 'error_probability': 0.02741843737473918}), (7, None, {'fault_ids': {0}, 'weight': 2.8763855159214238, 'error_probability': 0.05333333333333338})]\n",
      "[(0, None, {'fault_ids': {0, 1, 2}, 'weight': 1.0, 'error_probability': 0.1}), (0, 1, {'fault_ids': {0, 1, 2}, 'weight': 1.0, 'error_probability': 0.1}), (0, 2, {'fault_ids': set(), 'weight': 3.568738257010482, 'error_probability': 0.02741843737473918}), (0, 3, {'fault_ids': set(), 'weight': 2.876385515921424, 'error_probability': 0.05333333333333336}), (1, 3, {'fault_ids': set(), 'weight': 3.568738257010482, 'error_probability': 0.02741843737473918}), (1, None, {'fault_ids': {0}, 'weight': 2.8763855159214238, 'error_probability': 0.05333333333333338}), (2, None, {'fault_ids': set(), 'weight': 2.1864072823588314, 'error_probability': 0.10097777777777785}), (2, 3, {'fault_ids': set(), 'weight': 2.876385515921424, 'error_probability': 0.05333333333333336}), (2, 4, {'fault_ids': set(), 'weight': 3.568738257010482, 'error_probability': 0.02741843737473918}), (2, 5, {'fault_ids': set(), 'weight': 2.876385515921424, 'error_probability': 0.05333333333333336}), (3, 5, {'fault_ids': set(), 'weight': 3.568738257010482, 'error_probability': 0.02741843737473918}), (3, None, {'fault_ids': {0}, 'weight': 2.1864072823588314, 'error_probability': 0.10097777777777785}), (4, None, {'fault_ids': set(), 'weight': 2.1864072823588314, 'error_probability': 0.10097777777777785}), (4, 5, {'fault_ids': set(), 'weight': 2.876385515921424, 'error_probability': 0.05333333333333336}), (4, 6, {'fault_ids': set(), 'weight': 3.568738257010482, 'error_probability': 0.02741843737473918}), (4, 7, {'fault_ids': set(), 'weight': 2.876385515921424, 'error_probability': 0.05333333333333336}), (5, 7, {'fault_ids': set(), 'weight': 3.568738257010482, 'error_probability': 0.02741843737473918}), (5, None, {'fault_ids': {0}, 'weight': 2.1864072823588314, 'error_probability': 0.10097777777777785}), (6, None, {'fault_ids': set(), 'weight': 2.8763855159214238, 'error_probability': 0.05333333333333338}), (6, 7, {'fault_ids': set(), 'weight': 3.568738257010482, 'error_probability': 0.02741843737473918}), (7, None, {'fault_ids': {0}, 'weight': 2.8763855159214238, 'error_probability': 0.05333333333333338})]\n"
     ]
    }
   ],
   "source": [
    "node1 = 0\n",
    "node2 = 1\n",
    "observables = {0, 1, 2}  # Replace with your set of observables\n",
    "weight = 1.0\n",
    "error_probability = 0.1\n",
    "merge_strategy = \"replace\"  # Replace with your desired merge strategy\n",
    "\n",
    "cpp_soft_info.add_edge(matching._matching_graph, node1, node2, observables, weight, error_probability, merge_strategy)\n",
    "print(matching.edges())\n",
    "\n",
    "cpp_soft_info.add_boundary_edge(matching._matching_graph, node1, observables, weight, error_probability, merge_strategy)\n",
    "print(matching.edges())\n"
   ]
  },
  {
   "cell_type": "code",
   "execution_count": null,
   "metadata": {},
   "outputs": [],
   "source": []
  },
  {
   "cell_type": "code",
   "execution_count": null,
   "metadata": {},
   "outputs": [],
   "source": []
  }
 ],
 "metadata": {
  "kernelspec": {
   "display_name": "Soft-Info-fMUpUe5a",
   "language": "python",
   "name": "python3"
  },
  "language_info": {
   "codemirror_mode": {
    "name": "ipython",
    "version": 3
   },
   "file_extension": ".py",
   "mimetype": "text/x-python",
   "name": "python",
   "nbconvert_exporter": "python",
   "pygments_lexer": "ipython3",
   "version": "3.11.4"
  }
 },
 "nbformat": 4,
 "nbformat_minor": 2
}
