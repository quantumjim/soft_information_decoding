{
 "cells": [
  {
   "cell_type": "code",
   "execution_count": 1,
   "metadata": {},
   "outputs": [],
   "source": [
    "import cpp_soft_info\n",
    "\n",
    "from cpp_soft_info import soft_reweight_pymatching"
   ]
  },
  {
   "cell_type": "markdown",
   "metadata": {},
   "source": [
    "## Load data"
   ]
  },
  {
   "cell_type": "code",
   "execution_count": 2,
   "metadata": {},
   "outputs": [
    {
     "name": "stdout",
     "output_type": "stream",
     "text": [
      "(1000, 9)\n"
     ]
    }
   ],
   "source": [
    "from result_saver import SaverProvider\n",
    "provider = SaverProvider()\n",
    "\n",
    "job = provider.retrieve_job(\"cmyhbrqrmwhg008bs4h0\") # Mumbai job\n",
    "# job = provider.retrieve_job(\"cn6g47862r90008810pg\") # Sherbrooke job\n",
    "\n",
    "memory = job.result().get_memory()\n",
    "print(memory.shape)"
   ]
  },
  {
   "cell_type": "code",
   "execution_count": 3,
   "metadata": {},
   "outputs": [
    {
     "name": "stdout",
     "output_type": "stream",
     "text": [
      "Generating the qubit mapping...\n"
     ]
    }
   ],
   "source": [
    "from soft_info import get_repcode_IQ_map\n",
    "\n",
    "# Mumbai\n",
    "layout = [25, 19, 26, 22, 16] # To implement: into scratch job_data\n",
    "d = 3\n",
    "synd_rounds = 3\n",
    "\n",
    "# # Sherbrooke\n",
    "# layout = get_repcode_layout(30, provider.get_backend('ibm_sherbrooke') )\n",
    "# synd_rounds = 35\n",
    "\n",
    "print(\"Generating the qubit mapping...\")\n",
    "qubit_mapping = get_repcode_IQ_map(layout, synd_rounds) #Hardcoded for repetition codes"
   ]
  },
  {
   "cell_type": "markdown",
   "metadata": {},
   "source": [
    "# How to use"
   ]
  },
  {
   "cell_type": "code",
   "execution_count": 4,
   "metadata": {},
   "outputs": [
    {
     "name": "stdout",
     "output_type": "stream",
     "text": [
      "len of grid_dict (num of qubits): 27\n"
     ]
    }
   ],
   "source": [
    "from Scratch import create_or_load_kde_grid\n",
    "from cpp import process_scaler_dict\n",
    "\n",
    "# Example usage\n",
    "other_date = None # if none then it will find the closest to the tobecalib_job date\n",
    "# other_date = \"2023-11-22T10:30:00\" # \"2023-11-22T\" works too \n",
    "grid_dict, processed_scaler_dict = create_or_load_kde_grid(provider, \"cmyhbrqrmwhg008bs4h0\", 300, 2, other_date=other_date)\n",
    "# grid_dict, processed_scaler_dict = create_or_load_kde_grid(provider, \"cn6g47862r90008810pg\", 300, 2, other_date=other_date)\n",
    "print(\"len of grid_dict (num of qubits):\", len(grid_dict.keys()))\n",
    "\n",
    "counts = cpp_soft_info.get_counts(memory, qubit_mapping, grid_dict, processed_scaler_dict, synd_rounds)\n",
    "# (sorted(counts.items(), key=lambda x: x[1], reverse=True))"
   ]
  },
  {
   "cell_type": "code",
   "execution_count": 5,
   "metadata": {},
   "outputs": [
    {
     "name": "stdout",
     "output_type": "stream",
     "text": [
      "Generating the qubit mapping...\n"
     ]
    }
   ],
   "source": [
    "import numpy as np\n",
    "import stim\n",
    "import pymatching\n",
    "\n",
    "from soft_info import get_repcode_IQ_map\n",
    "\n",
    "circuit = stim.Circuit.generated(\"repetition_code:memory\",\n",
    "                                 distance=d,\n",
    "                                 rounds=synd_rounds,\n",
    "                                 after_clifford_depolarization=0.1)\n",
    "\n",
    "model = circuit.detector_error_model(decompose_errors=True)\n",
    "matching = pymatching.Matching.from_detector_error_model(model)\n",
    "\n",
    "print(\"Generating the qubit mapping...\")\n",
    "qubit_mapping = get_repcode_IQ_map(layout, synd_rounds) #Hardcoded for repetition codes"
   ]
  },
  {
   "cell_type": "markdown",
   "metadata": {},
   "source": [
    "# Test"
   ]
  },
  {
   "cell_type": "code",
   "execution_count": 6,
   "metadata": {},
   "outputs": [
    {
     "name": "stdout",
     "output_type": "stream",
     "text": [
      "21\n",
      "Processing graph\n"
     ]
    }
   ],
   "source": [
    "print(len(cpp_soft_info.get_edges(matching._matching_graph)))\n",
    "cpp_soft_info.processGraph_test(matching._matching_graph)"
   ]
  },
  {
   "cell_type": "code",
   "execution_count": 17,
   "metadata": {},
   "outputs": [
    {
     "name": "stdout",
     "output_type": "stream",
     "text": [
      "(9,)\n",
      "(1, 9)\n"
     ]
    }
   ],
   "source": [
    "IQ_data = memory[0]\n",
    "print(IQ_data.shape)\n",
    "IQ_data = IQ_data.reshape(1, -1)\n",
    "print(IQ_data.shape)\n"
   ]
  },
  {
   "cell_type": "code",
   "execution_count": 20,
   "metadata": {},
   "outputs": [],
   "source": [
    "cpp_soft_info.soft_reweight_pymatching(matching._matching_graph, IQ_data, synd_rounds, qubit_mapping, grid_dict, processed_scaler_dict, 6.836e-3, 0, 0.1) "
   ]
  },
  {
   "cell_type": "markdown",
   "metadata": {},
   "source": [
    "# Decode"
   ]
  },
  {
   "cell_type": "code",
   "execution_count": 23,
   "metadata": {},
   "outputs": [
    {
     "name": "stderr",
     "output_type": "stream",
     "text": [
      "  2%|▏         | 22/1000 [00:00<00:08, 108.78it/s]"
     ]
    },
    {
     "name": "stdout",
     "output_type": "stream",
     "text": [
      "num_errors: 1\n",
      "num_errors: 2\n",
      "num_errors: 3\n"
     ]
    },
    {
     "name": "stderr",
     "output_type": "stream",
     "text": [
      "  6%|▌         | 60/1000 [00:00<00:07, 118.14it/s]"
     ]
    },
    {
     "name": "stdout",
     "output_type": "stream",
     "text": [
      "num_errors: 4\n",
      "num_errors: 5\n",
      "num_errors: 6\n",
      "num_errors: 7\n"
     ]
    },
    {
     "name": "stderr",
     "output_type": "stream",
     "text": [
      " 10%|▉         | 99/1000 [00:00<00:08, 112.59it/s]"
     ]
    },
    {
     "name": "stdout",
     "output_type": "stream",
     "text": [
      "num_errors: 8\n",
      "num_errors: 9\n",
      "num_errors: 10\n"
     ]
    },
    {
     "name": "stderr",
     "output_type": "stream",
     "text": [
      " 12%|█▏        | 123/1000 [00:01<00:08, 109.56it/s]"
     ]
    },
    {
     "name": "stdout",
     "output_type": "stream",
     "text": [
      "num_errors: 11\n",
      "num_errors: 12\n",
      "num_errors: 13\n",
      "num_errors: 14\n"
     ]
    },
    {
     "name": "stderr",
     "output_type": "stream",
     "text": [
      " 15%|█▍        | 147/1000 [00:01<00:07, 110.85it/s]"
     ]
    },
    {
     "name": "stdout",
     "output_type": "stream",
     "text": [
      "num_errors: 15\n",
      "num_errors: 16\n",
      "num_errors: 17\n"
     ]
    },
    {
     "name": "stderr",
     "output_type": "stream",
     "text": [
      " 18%|█▊        | 182/1000 [00:01<00:07, 105.54it/s]"
     ]
    },
    {
     "name": "stdout",
     "output_type": "stream",
     "text": [
      "num_errors: 18\n",
      "num_errors: 19\n",
      "num_errors: 20\n",
      "num_errors: 21\n"
     ]
    },
    {
     "name": "stderr",
     "output_type": "stream",
     "text": [
      " 22%|██▏       | 215/1000 [00:01<00:07, 102.59it/s]"
     ]
    },
    {
     "name": "stdout",
     "output_type": "stream",
     "text": [
      "num_errors: 22\n",
      "num_errors: 23\n",
      "num_errors: 24\n",
      "num_errors: 25\n",
      "num_errors: 26\n"
     ]
    },
    {
     "name": "stderr",
     "output_type": "stream",
     "text": [
      " 26%|██▌       | 255/1000 [00:02<00:06, 121.72it/s]"
     ]
    },
    {
     "name": "stdout",
     "output_type": "stream",
     "text": [
      "num_errors: 27\n",
      "num_errors: 28\n",
      "num_errors: 29\n",
      "num_errors: 30\n"
     ]
    },
    {
     "name": "stderr",
     "output_type": "stream",
     "text": [
      " 30%|██▉       | 295/1000 [00:02<00:05, 120.18it/s]"
     ]
    },
    {
     "name": "stdout",
     "output_type": "stream",
     "text": [
      "num_errors: 31\n",
      "num_errors: 32\n",
      "num_errors: 33\n",
      "num_errors: 34\n"
     ]
    },
    {
     "name": "stderr",
     "output_type": "stream",
     "text": [
      " 33%|███▎      | 334/1000 [00:02<00:05, 111.99it/s]"
     ]
    },
    {
     "name": "stdout",
     "output_type": "stream",
     "text": [
      "num_errors: 35\n",
      "num_errors: 36\n",
      "num_errors: 37\n",
      "num_errors: 38\n",
      "num_errors: 39\n"
     ]
    },
    {
     "name": "stderr",
     "output_type": "stream",
     "text": [
      " 36%|███▌      | 358/1000 [00:03<00:05, 109.26it/s]"
     ]
    },
    {
     "name": "stdout",
     "output_type": "stream",
     "text": [
      "num_errors: 40\n",
      "num_errors: 41\n",
      "num_errors: 42\n",
      "num_errors: 43\n"
     ]
    },
    {
     "name": "stderr",
     "output_type": "stream",
     "text": [
      " 40%|███▉      | 396/1000 [00:03<00:05, 113.33it/s]"
     ]
    },
    {
     "name": "stdout",
     "output_type": "stream",
     "text": [
      "num_errors: 44\n",
      "num_errors: 45\n",
      "num_errors: 46\n",
      "num_errors: 47\n",
      "num_errors: 48\n",
      "num_errors: 49\n"
     ]
    },
    {
     "name": "stderr",
     "output_type": "stream",
     "text": [
      " 42%|████▏     | 419/1000 [00:03<00:05, 101.95it/s]"
     ]
    },
    {
     "name": "stdout",
     "output_type": "stream",
     "text": [
      "num_errors: 50\n",
      "num_errors: 51\n",
      "num_errors: 52\n",
      "num_errors: 53\n",
      "num_errors: 54\n",
      "num_errors: 55\n"
     ]
    },
    {
     "name": "stderr",
     "output_type": "stream",
     "text": [
      " 45%|████▌     | 452/1000 [00:04<00:05, 101.69it/s]"
     ]
    },
    {
     "name": "stdout",
     "output_type": "stream",
     "text": [
      "num_errors: 56\n",
      "num_errors: 57\n",
      "num_errors: 58\n",
      "num_errors: 59\n",
      "num_errors: 60\n",
      "num_errors: 61\n"
     ]
    },
    {
     "name": "stderr",
     "output_type": "stream",
     "text": [
      " 49%|████▉     | 490/1000 [00:04<00:04, 117.07it/s]"
     ]
    },
    {
     "name": "stdout",
     "output_type": "stream",
     "text": [
      "num_errors: 62\n",
      "num_errors: 63\n",
      "num_errors: 64\n"
     ]
    },
    {
     "name": "stderr",
     "output_type": "stream",
     "text": [
      " 51%|█████▏    | 514/1000 [00:04<00:04, 113.37it/s]"
     ]
    },
    {
     "name": "stdout",
     "output_type": "stream",
     "text": [
      "num_errors: 65\n",
      "num_errors: 66\n",
      "num_errors: 67\n",
      "num_errors: 68\n",
      "num_errors: 69\n"
     ]
    },
    {
     "name": "stderr",
     "output_type": "stream",
     "text": [
      " 54%|█████▎    | 537/1000 [00:04<00:04, 103.99it/s]"
     ]
    },
    {
     "name": "stdout",
     "output_type": "stream",
     "text": [
      "num_errors: 70\n",
      "num_errors: 71\n",
      "num_errors: 72\n",
      "num_errors: 73\n",
      "num_errors: 74\n",
      "num_errors: 75\n",
      "num_errors: 76\n"
     ]
    },
    {
     "name": "stderr",
     "output_type": "stream",
     "text": [
      " 56%|█████▌    | 560/1000 [00:05<00:04, 104.64it/s]"
     ]
    },
    {
     "name": "stdout",
     "output_type": "stream",
     "text": [
      "num_errors: 77\n",
      "num_errors: 78\n",
      "num_errors: 79\n",
      "num_errors: 80\n",
      "num_errors: 81\n",
      "num_errors: 82\n"
     ]
    },
    {
     "name": "stderr",
     "output_type": "stream",
     "text": [
      " 60%|█████▉    | 597/1000 [00:05<00:03, 108.68it/s]"
     ]
    },
    {
     "name": "stdout",
     "output_type": "stream",
     "text": [
      "num_errors: 83\n",
      "num_errors: 84\n",
      "num_errors: 85\n"
     ]
    },
    {
     "name": "stderr",
     "output_type": "stream",
     "text": [
      " 65%|██████▌   | 650/1000 [00:05<00:03, 114.50it/s]"
     ]
    },
    {
     "name": "stdout",
     "output_type": "stream",
     "text": [
      "num_errors: 86\n",
      "num_errors: 87\n",
      "num_errors: 88\n",
      "num_errors: 89\n"
     ]
    },
    {
     "name": "stderr",
     "output_type": "stream",
     "text": [
      " 67%|██████▋   | 674/1000 [00:06<00:03, 107.29it/s]"
     ]
    },
    {
     "name": "stdout",
     "output_type": "stream",
     "text": [
      "num_errors: 90\n",
      "num_errors: 91\n",
      "num_errors: 92\n"
     ]
    },
    {
     "name": "stderr",
     "output_type": "stream",
     "text": [
      " 70%|██████▉   | 699/1000 [00:06<00:02, 109.36it/s]"
     ]
    },
    {
     "name": "stdout",
     "output_type": "stream",
     "text": [
      "num_errors: 93\n",
      "num_errors: 94\n"
     ]
    },
    {
     "name": "stderr",
     "output_type": "stream",
     "text": [
      " 72%|███████▏  | 724/1000 [00:06<00:02, 107.74it/s]"
     ]
    },
    {
     "name": "stdout",
     "output_type": "stream",
     "text": [
      "num_errors: 95\n",
      "num_errors: 96\n",
      "num_errors: 97\n"
     ]
    },
    {
     "name": "stderr",
     "output_type": "stream",
     "text": [
      " 75%|███████▌  | 750/1000 [00:06<00:02, 113.28it/s]"
     ]
    },
    {
     "name": "stdout",
     "output_type": "stream",
     "text": [
      "num_errors: 98\n",
      "num_errors: 99\n",
      "num_errors: 100\n",
      "num_errors: 101\n"
     ]
    },
    {
     "name": "stderr",
     "output_type": "stream",
     "text": [
      " 77%|███████▋  | 774/1000 [00:07<00:02, 108.56it/s]"
     ]
    },
    {
     "name": "stdout",
     "output_type": "stream",
     "text": [
      "num_errors: 102\n",
      "num_errors: 103\n"
     ]
    },
    {
     "name": "stderr",
     "output_type": "stream",
     "text": [
      " 82%|████████▎ | 825/1000 [00:07<00:01, 120.26it/s]"
     ]
    },
    {
     "name": "stdout",
     "output_type": "stream",
     "text": [
      "num_errors: 104\n",
      "num_errors: 105\n",
      "num_errors: 106\n",
      "num_errors: 107\n",
      "num_errors: 108\n",
      "num_errors: 109\n"
     ]
    },
    {
     "name": "stderr",
     "output_type": "stream",
     "text": [
      " 86%|████████▋ | 865/1000 [00:07<00:01, 122.59it/s]"
     ]
    },
    {
     "name": "stdout",
     "output_type": "stream",
     "text": [
      "num_errors: 110\n",
      "num_errors: 111\n"
     ]
    },
    {
     "name": "stderr",
     "output_type": "stream",
     "text": [
      " 89%|████████▉ | 890/1000 [00:07<00:00, 111.78it/s]"
     ]
    },
    {
     "name": "stdout",
     "output_type": "stream",
     "text": [
      "num_errors: 112\n",
      "num_errors: 113\n",
      "num_errors: 114\n",
      "num_errors: 115\n"
     ]
    },
    {
     "name": "stderr",
     "output_type": "stream",
     "text": [
      " 91%|█████████▏| 914/1000 [00:08<00:00, 110.93it/s]"
     ]
    },
    {
     "name": "stdout",
     "output_type": "stream",
     "text": [
      "num_errors: 116\n",
      "num_errors: 117\n",
      "num_errors: 118\n"
     ]
    },
    {
     "name": "stderr",
     "output_type": "stream",
     "text": [
      " 96%|█████████▋| 964/1000 [00:08<00:00, 115.83it/s]"
     ]
    },
    {
     "name": "stdout",
     "output_type": "stream",
     "text": [
      "num_errors: 119\n",
      "num_errors: 120\n",
      "num_errors: 121\n",
      "num_errors: 122\n",
      "num_errors: 123\n",
      "num_errors: 124\n",
      "num_errors: 125\n"
     ]
    },
    {
     "name": "stderr",
     "output_type": "stream",
     "text": [
      " 99%|█████████▉| 989/1000 [00:08<00:00, 117.22it/s]"
     ]
    },
    {
     "name": "stdout",
     "output_type": "stream",
     "text": [
      "num_errors: 126\n",
      "num_errors: 127\n",
      "num_errors: 128\n",
      "num_errors: 129\n",
      "num_errors: 130\n"
     ]
    },
    {
     "name": "stderr",
     "output_type": "stream",
     "text": [
      "100%|██████████| 1000/1000 [00:08<00:00, 111.61it/s]"
     ]
    },
    {
     "name": "stdout",
     "output_type": "stream",
     "text": [
      "Num errors: 130\n"
     ]
    },
    {
     "name": "stderr",
     "output_type": "stream",
     "text": [
      "\n"
     ]
    }
   ],
   "source": [
    "from tqdm import tqdm\n",
    "from soft_info import counts_to_det_syndr, draw_matching_graph\n",
    "\n",
    "VERBOSE = False\n",
    "\n",
    "actual_observables = np.array([[False]]) # hardcoded, can be retrieved\n",
    "num_errors = 0\n",
    "\n",
    "i = 0\n",
    "w_idx_lst = []\n",
    "for shot in tqdm(range(len(memory))[:]):\n",
    "    i += 1\n",
    "    IQ_data = memory[shot]\n",
    "    IQ_data = IQ_data.reshape(1, -1)\n",
    "\n",
    "    counts = cpp_soft_info.get_counts(IQ_data, qubit_mapping, grid_dict, processed_scaler_dict, synd_rounds)\n",
    "    count_key = next(iter(counts.keys()))\n",
    "\n",
    "    if count_key == '000 00 00 00':\n",
    "        #print(\"Skipping all zeros\")\n",
    "        continue    \n",
    "\n",
    "    cpp_soft_info.soft_reweight_pymatching(matching._matching_graph, IQ_data, synd_rounds, qubit_mapping, grid_dict, processed_scaler_dict, 6.836e-3, 0, 0.1) \n",
    "\n",
    "\n",
    "    array_processed_string = counts_to_det_syndr(count_key, _resets=False, verbose=False)\n",
    "\n",
    "    predicted_observables = matching.decode(array_processed_string)\n",
    "\n",
    "    actual_observables = [(int(count_key[0])+1)%2]\n",
    "    if predicted_observables == actual_observables: #== [0]:\n",
    "        continue\n",
    "    num_errors += 1\n",
    "    print(\"num_errors:\", num_errors)\n",
    "    \n",
    "    #print(f\"Wrong decoding at index {i}\")\n",
    "    w_idx_lst.append(i)\n",
    "\n",
    "    \n",
    "    if VERBOSE:\n",
    "        print(\"Count key:\", count_key)\n",
    "        print(\"process_string:\", array_processed_string)\n",
    "\n",
    "    if VERBOSE:\n",
    "        draw_matching_graph(matching, d, T)\n",
    "\n",
    "    if VERBOSE:\n",
    "        matched_edges = matching.decode_to_edges_array(array_processed_string)\n",
    "        print(\"matched_edges: \", matched_edges)\n",
    "        print(\"Estimated flip:\", predicted_observables)\n",
    "\n",
    "\n",
    "\n",
    "print(\"Num errors:\", num_errors)"
   ]
  },
  {
   "cell_type": "code",
   "execution_count": null,
   "metadata": {},
   "outputs": [],
   "source": []
  }
 ],
 "metadata": {
  "kernelspec": {
   "display_name": "Soft-Info-fMUpUe5a",
   "language": "python",
   "name": "python3"
  },
  "language_info": {
   "codemirror_mode": {
    "name": "ipython",
    "version": 3
   },
   "file_extension": ".py",
   "mimetype": "text/x-python",
   "name": "python",
   "nbconvert_exporter": "python",
   "pygments_lexer": "ipython3",
   "version": "3.11.4"
  }
 },
 "nbformat": 4,
 "nbformat_minor": 2
}
