{
 "cells": [
  {
   "cell_type": "code",
   "execution_count": 1,
   "metadata": {},
   "outputs": [],
   "source": [
    "import sys\n",
    "sys.path.insert(0, r'/Users/mha/My_Drive/Desktop/Studium/Physik/MSc/Semester_3/IBM/IBM_GIT/Soft-Info/build')\n",
    "\n",
    "# Import your module\n",
    "import cpp_soft_info"
   ]
  },
  {
   "cell_type": "code",
   "execution_count": 2,
   "metadata": {},
   "outputs": [
    {
     "name": "stdout",
     "output_type": "stream",
     "text": [
      "<class 'pymatching._cpp_pymatching.MatchingGraph'>\n"
     ]
    }
   ],
   "source": [
    "import stim\n",
    "import pymatching\n",
    "\n",
    "max_distance = 3\n",
    "d = max_distance\n",
    "T = max_distance\n",
    "\n",
    "circuit = stim.Circuit.generated(\"repetition_code:memory\",\n",
    "                                 distance=d,\n",
    "                                 rounds=T,\n",
    "                                 after_clifford_depolarization=0.1)\n",
    "\n",
    "model = circuit.detector_error_model(decompose_errors=True)\n",
    "matching = pymatching.Matching.from_detector_error_model(model)\n",
    "print(type(matching._matching_graph))"
   ]
  },
  {
   "cell_type": "code",
   "execution_count": 3,
   "metadata": {},
   "outputs": [
    {
     "name": "stdout",
     "output_type": "stream",
     "text": [
      "Processing graph\n"
     ]
    }
   ],
   "source": [
    "cpp_soft_info.processGraph_test(matching._matching_graph)"
   ]
  },
  {
   "cell_type": "code",
   "execution_count": 4,
   "metadata": {},
   "outputs": [
    {
     "name": "stdout",
     "output_type": "stream",
     "text": [
      "21\n",
      "21\n",
      "[(0, None, {'fault_ids': set(), 'weight': 2.8763855159214238, 'error_probability': 0.05333333333333338}), (0, 1, {'fault_ids': set(), 'weight': 3.568738257010482, 'error_probability': 0.02741843737473918}), (0, 2, {'fault_ids': set(), 'weight': 3.568738257010482, 'error_probability': 0.02741843737473918}), (0, 3, {'fault_ids': set(), 'weight': 2.876385515921424, 'error_probability': 0.05333333333333336}), (1, 3, {'fault_ids': set(), 'weight': 3.568738257010482, 'error_probability': 0.02741843737473918}), (1, None, {'fault_ids': {0}, 'weight': 2.8763855159214238, 'error_probability': 0.05333333333333338}), (2, None, {'fault_ids': set(), 'weight': 2.1864072823588314, 'error_probability': 0.10097777777777785}), (2, 3, {'fault_ids': set(), 'weight': 2.876385515921424, 'error_probability': 0.05333333333333336}), (2, 4, {'fault_ids': set(), 'weight': 3.568738257010482, 'error_probability': 0.02741843737473918}), (2, 5, {'fault_ids': set(), 'weight': 2.876385515921424, 'error_probability': 0.05333333333333336}), (3, 5, {'fault_ids': set(), 'weight': 3.568738257010482, 'error_probability': 0.02741843737473918}), (3, None, {'fault_ids': {0}, 'weight': 2.1864072823588314, 'error_probability': 0.10097777777777785}), (4, None, {'fault_ids': set(), 'weight': 2.1864072823588314, 'error_probability': 0.10097777777777785}), (4, 5, {'fault_ids': set(), 'weight': 2.876385515921424, 'error_probability': 0.05333333333333336}), (4, 6, {'fault_ids': set(), 'weight': 3.568738257010482, 'error_probability': 0.02741843737473918}), (4, 7, {'fault_ids': set(), 'weight': 2.876385515921424, 'error_probability': 0.05333333333333336}), (5, 7, {'fault_ids': set(), 'weight': 3.568738257010482, 'error_probability': 0.02741843737473918}), (5, None, {'fault_ids': {0}, 'weight': 2.1864072823588314, 'error_probability': 0.10097777777777785}), (6, None, {'fault_ids': set(), 'weight': 2.8763855159214238, 'error_probability': 0.05333333333333338}), (6, 7, {'fault_ids': set(), 'weight': 3.568738257010482, 'error_probability': 0.02741843737473918}), (7, None, {'fault_ids': {0}, 'weight': 2.8763855159214238, 'error_probability': 0.05333333333333338})]\n",
      "[(0, None, {'fault_ids': set(), 'weight': 2.8763855159214238, 'error_probability': 0.05333333333333338}), (0, 1, {'fault_ids': set(), 'weight': 3.568738257010482, 'error_probability': 0.02741843737473918}), (0, 2, {'fault_ids': set(), 'weight': 3.568738257010482, 'error_probability': 0.02741843737473918}), (0, 3, {'fault_ids': set(), 'weight': 2.876385515921424, 'error_probability': 0.05333333333333336}), (1, 3, {'fault_ids': set(), 'weight': 3.568738257010482, 'error_probability': 0.02741843737473918}), (1, None, {'fault_ids': {0}, 'weight': 2.8763855159214238, 'error_probability': 0.05333333333333338}), (2, None, {'fault_ids': set(), 'weight': 2.1864072823588314, 'error_probability': 0.10097777777777785}), (2, 3, {'fault_ids': set(), 'weight': 2.876385515921424, 'error_probability': 0.05333333333333336}), (2, 4, {'fault_ids': set(), 'weight': 3.568738257010482, 'error_probability': 0.02741843737473918}), (2, 5, {'fault_ids': set(), 'weight': 2.876385515921424, 'error_probability': 0.05333333333333336}), (3, 5, {'fault_ids': set(), 'weight': 3.568738257010482, 'error_probability': 0.02741843737473918}), (3, None, {'fault_ids': {0}, 'weight': 2.1864072823588314, 'error_probability': 0.10097777777777785}), (4, None, {'fault_ids': set(), 'weight': 2.1864072823588314, 'error_probability': 0.10097777777777785}), (4, 5, {'fault_ids': set(), 'weight': 2.876385515921424, 'error_probability': 0.05333333333333336}), (4, 6, {'fault_ids': set(), 'weight': 3.568738257010482, 'error_probability': 0.02741843737473918}), (4, 7, {'fault_ids': set(), 'weight': 2.876385515921424, 'error_probability': 0.05333333333333336}), (5, 7, {'fault_ids': set(), 'weight': 3.568738257010482, 'error_probability': 0.02741843737473918}), (5, None, {'fault_ids': {0}, 'weight': 2.1864072823588314, 'error_probability': 0.10097777777777785}), (6, None, {'fault_ids': set(), 'weight': 2.8763855159214238, 'error_probability': 0.05333333333333338}), (6, 7, {'fault_ids': set(), 'weight': 3.568738257010482, 'error_probability': 0.02741843737473918}), (7, None, {'fault_ids': {0}, 'weight': 2.8763855159214238, 'error_probability': 0.05333333333333338})]\n"
     ]
    }
   ],
   "source": [
    "assert cpp_soft_info.get_edges(matching._matching_graph) == matching.edges()\n",
    "print(len(matching.edges()))\n",
    "print(len(cpp_soft_info.get_edges(matching._matching_graph)))\n",
    "print(cpp_soft_info.get_edges(matching._matching_graph))\n",
    "print(matching.edges())"
   ]
  },
  {
   "cell_type": "code",
   "execution_count": 7,
   "metadata": {},
   "outputs": [
    {
     "ename": "TypeError",
     "evalue": "add_edge(): incompatible function arguments. The following argument types are supported:\n    1. (graph: pm::UserGraph, node1: int, node2: int, observables: set[int], weight: float, error_probability: float, merge_strategy: str) -> None\n\nInvoked with: <pymatching._cpp_pymatching.MatchingGraph object at 0x106364f70>, 0, 1, 1.0, 0.1, 'replace'",
     "output_type": "error",
     "traceback": [
      "\u001b[0;31m---------------------------------------------------------------------------\u001b[0m",
      "\u001b[0;31mTypeError\u001b[0m                                 Traceback (most recent call last)",
      "\u001b[1;32m/Users/mha/My_Drive/Desktop/Studium/Physik/MSc/Semester_3/IBM/IBM_GIT/Soft-Info/notebooks/C++/cpp_dev/PyMatching/PM_dev/cpp_reweighting.ipynb Cell 5\u001b[0m line \u001b[0;36m8\n\u001b[1;32m      <a href='vscode-notebook-cell:/Users/mha/My_Drive/Desktop/Studium/Physik/MSc/Semester_3/IBM/IBM_GIT/Soft-Info/notebooks/C%2B%2B/cpp_dev/PyMatching/PM_dev/cpp_reweighting.ipynb#W5sZmlsZQ%3D%3D?line=4'>5</a>\u001b[0m error_probability \u001b[39m=\u001b[39m \u001b[39m0.1\u001b[39m\n\u001b[1;32m      <a href='vscode-notebook-cell:/Users/mha/My_Drive/Desktop/Studium/Physik/MSc/Semester_3/IBM/IBM_GIT/Soft-Info/notebooks/C%2B%2B/cpp_dev/PyMatching/PM_dev/cpp_reweighting.ipynb#W5sZmlsZQ%3D%3D?line=5'>6</a>\u001b[0m merge_strategy \u001b[39m=\u001b[39m \u001b[39m\"\u001b[39m\u001b[39mreplace\u001b[39m\u001b[39m\"\u001b[39m  \u001b[39m# Replace with your desired merge strategy\u001b[39;00m\n\u001b[0;32m----> <a href='vscode-notebook-cell:/Users/mha/My_Drive/Desktop/Studium/Physik/MSc/Semester_3/IBM/IBM_GIT/Soft-Info/notebooks/C%2B%2B/cpp_dev/PyMatching/PM_dev/cpp_reweighting.ipynb#W5sZmlsZQ%3D%3D?line=7'>8</a>\u001b[0m cpp_soft_info\u001b[39m.\u001b[39;49madd_edge(matching\u001b[39m.\u001b[39;49m_matching_graph, node1, node2, weight, error_probability, merge_strategy)\n\u001b[1;32m      <a href='vscode-notebook-cell:/Users/mha/My_Drive/Desktop/Studium/Physik/MSc/Semester_3/IBM/IBM_GIT/Soft-Info/notebooks/C%2B%2B/cpp_dev/PyMatching/PM_dev/cpp_reweighting.ipynb#W5sZmlsZQ%3D%3D?line=8'>9</a>\u001b[0m \u001b[39mprint\u001b[39m(matching\u001b[39m.\u001b[39medges())\n",
      "\u001b[0;31mTypeError\u001b[0m: add_edge(): incompatible function arguments. The following argument types are supported:\n    1. (graph: pm::UserGraph, node1: int, node2: int, observables: set[int], weight: float, error_probability: float, merge_strategy: str) -> None\n\nInvoked with: <pymatching._cpp_pymatching.MatchingGraph object at 0x106364f70>, 0, 1, 1.0, 0.1, 'replace'"
     ]
    }
   ],
   "source": [
    "node1 = 0\n",
    "node2 = 1\n",
    "observables = {0, 1, 2}  # Replace with your set of observables\n",
    "weight = 1.0\n",
    "error_probability = 0.1\n",
    "merge_strategy = \"replace\"  # Replace with your desired merge strategy\n",
    "\n",
    "cpp_soft_info.add_edge(matching._matching_graph, node1, node2, observables, weight, error_probability, merge_strategy)\n",
    "print(matching.edges())\n"
   ]
  },
  {
   "cell_type": "code",
   "execution_count": null,
   "metadata": {},
   "outputs": [],
   "source": []
  }
 ],
 "metadata": {
  "kernelspec": {
   "display_name": "Soft-Info-fMUpUe5a",
   "language": "python",
   "name": "python3"
  },
  "language_info": {
   "codemirror_mode": {
    "name": "ipython",
    "version": 3
   },
   "file_extension": ".py",
   "mimetype": "text/x-python",
   "name": "python",
   "nbconvert_exporter": "python",
   "pygments_lexer": "ipython3",
   "version": "3.11.4"
  }
 },
 "nbformat": 4,
 "nbformat_minor": 2
}
