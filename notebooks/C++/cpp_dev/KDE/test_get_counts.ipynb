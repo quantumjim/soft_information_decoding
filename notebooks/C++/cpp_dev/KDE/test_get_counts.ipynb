{
 "cells": [
  {
   "cell_type": "code",
   "execution_count": 1,
   "metadata": {},
   "outputs": [],
   "source": [
    "%reload_ext autoreload\n",
    "%autoreload 2"
   ]
  },
  {
   "cell_type": "code",
   "execution_count": 2,
   "metadata": {},
   "outputs": [],
   "source": [
    "import pickle\n",
    "import cpp_soft_info\n",
    "\n",
    "with open('all_memories.pkl', 'rb') as f:\n",
    "    all_memories = pickle.load(f)\n",
    "\n",
    "bandwiths = [0.2]*127\n",
    "\n",
    "kde_dict = cpp_soft_info.get_KDEs(all_memories, bandwiths)"
   ]
  },
  {
   "cell_type": "code",
   "execution_count": 3,
   "metadata": {},
   "outputs": [],
   "source": [
    "import pickle\n",
    "\n",
    "prefix = \"../../../Simulator/\"\n",
    "with open(prefix + 'IQ_data(7,7,1e4).pkl', 'rb') as f:\n",
    "    IQ_data = pickle.load(f)\n",
    "\n",
    "with open(prefix + 'IQ_data_extreme(7,7,1e4).pkl', 'rb') as f:\n",
    "    IQ_data_extreme = pickle.load(f)\n",
    "\n",
    "with open(prefix + 'qubit_mapping(7,7).pkl', 'rb') as f:\n",
    "    qubit_mapping = pickle.load(f)"
   ]
  },
  {
   "cell_type": "code",
   "execution_count": 4,
   "metadata": {},
   "outputs": [],
   "source": [
    "IQ_data_r = IQ_data[:1000]\n",
    "\n",
    "counts = cpp_soft_info.get_count_kde(IQ_data_r, qubit_mapping, kde_dict, 30)"
   ]
  },
  {
   "cell_type": "code",
   "execution_count": null,
   "metadata": {},
   "outputs": [],
   "source": []
  }
 ],
 "metadata": {
  "kernelspec": {
   "display_name": "Soft-Info-fMUpUe5a",
   "language": "python",
   "name": "python3"
  },
  "language_info": {
   "codemirror_mode": {
    "name": "ipython",
    "version": 3
   },
   "file_extension": ".py",
   "mimetype": "text/x-python",
   "name": "python",
   "nbconvert_exporter": "python",
   "pygments_lexer": "ipython3",
   "version": "3.11.4"
  }
 },
 "nbformat": 4,
 "nbformat_minor": 2
}
