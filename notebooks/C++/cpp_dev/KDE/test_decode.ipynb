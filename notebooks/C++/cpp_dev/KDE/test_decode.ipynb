{
 "cells": [
  {
   "cell_type": "code",
   "execution_count": 1,
   "metadata": {},
   "outputs": [],
   "source": [
    "%reload_ext autoreload\n",
    "%autoreload 2"
   ]
  },
  {
   "cell_type": "code",
   "execution_count": 2,
   "metadata": {},
   "outputs": [],
   "source": [
    "import pickle\n",
    "import cpp_soft_info\n",
    "\n",
    "with open('all_memories.pkl', 'rb') as f:\n",
    "    all_memories = pickle.load(f)\n",
    "\n",
    "bandwiths = [0.2]*127\n",
    "\n",
    "kde_dict = cpp_soft_info.get_KDEs(all_memories, bandwiths)"
   ]
  },
  {
   "cell_type": "code",
   "execution_count": 3,
   "metadata": {},
   "outputs": [
    {
     "name": "stdout",
     "output_type": "stream",
     "text": [
      "10000\n"
     ]
    }
   ],
   "source": [
    "import pickle\n",
    "\n",
    "prefix = \"../../../Simulator/\"\n",
    "with open(prefix + 'IQ_data.pkl', 'rb') as f:\n",
    "    IQ_data = pickle.load(f)\n",
    "\n",
    "with open(prefix + 'IQ_data_extreme.pkl', 'rb') as f:\n",
    "    IQ_data_extreme = pickle.load(f)\n",
    "\n",
    "with open(prefix + 'qubit_mapping.pkl', 'rb') as f:\n",
    "    qubit_mapping = pickle.load(f)\n",
    "\n",
    "with open(prefix + \"stim_circ.pkl\", 'rb') as f:\n",
    "    stim_circ = pickle.load(f)\n",
    "\n",
    "print(len(IQ_data))"
   ]
  },
  {
   "cell_type": "code",
   "execution_count": 4,
   "metadata": {},
   "outputs": [],
   "source": [
    "import pymatching \n",
    "import stim\n",
    "\n",
    "model = stim_circ.detector_error_model(decompose_errors=True)\n",
    "matching = pymatching.Matching.from_detector_error_model(model)"
   ]
  },
  {
   "cell_type": "code",
   "execution_count": 8,
   "metadata": {},
   "outputs": [],
   "source": [
    "# result = cpp_soft_info.decode_IQ_kde(matching._matching_graph, IQ_data[:100], 10, 0, False, qubit_mapping, kde_dict, False)\n",
    "result = cpp_soft_info.decode_IQ_kde(model, IQ_data[:], 10, 0, False, qubit_mapping, kde_dict, False)"
   ]
  },
  {
   "cell_type": "code",
   "execution_count": 6,
   "metadata": {},
   "outputs": [
    {
     "name": "stdout",
     "output_type": "stream",
     "text": [
      "2\n"
     ]
    }
   ],
   "source": [
    "print(result.num_errors)"
   ]
  },
  {
   "cell_type": "code",
   "execution_count": 7,
   "metadata": {},
   "outputs": [
    {
     "ename": "TypeError",
     "evalue": "get_count_kde(): incompatible function arguments. The following argument types are supported:\n    1. (not_scaled_IQ_data: numpy.ndarray[numpy.complex128[m, n]], qubit_mapping: dict[int, int], kde_dict: dict[int, cpp_soft_info.KDE_Result], synd_rounds: int) -> dict[str, int]\n\nInvoked with: array([[-1.74544736e+07+2.23955864e+07j, -9.34220845e+07+6.22298233e+07j,\n        -9.74499751e+07-7.16338055e+07j, ...,\n         9.98437606e+07-9.25226500e+07j, -5.40185814e+07+6.52694470e+07j,\n         2.84922972e+07-4.48433084e+07j],\n       [-9.85875944e+06+1.85559952e+07j, -4.91411782e+07+7.24073594e+07j,\n        -4.76165722e+07-6.41140158e+07j, ...,\n         1.09389486e+08-1.03930661e+08j, -4.07151259e+07+7.36177603e+07j,\n        -3.76924132e+07-5.75949954e+07j],\n       [-1.57715139e+07+1.76073818e+07j, -4.56021059e+07+6.83749033e+07j,\n        -9.27123818e+07-8.54153445e+07j, ...,\n        -9.85783422e+07-1.03122992e+08j, -2.03020488e+07+6.17506223e+07j,\n        -4.79710120e+07-6.23733323e+07j],\n       ...,\n       [-9.13337276e+06+1.50995164e+07j, -5.60923043e+07+4.52562998e+07j,\n        -5.71870829e+07-5.62357453e+07j, ...,\n        -1.02108396e+08-1.06873956e+08j, -2.77379940e+07+7.42080703e+07j,\n        -5.32101689e+07-3.35555509e+07j],\n       [-1.26058985e+07+2.00791188e+07j, -6.92594859e+07+6.06285683e+07j,\n        -1.08278836e+08-9.32780240e+07j, ...,\n        -1.07523885e+08-1.12951660e+08j, -2.76545648e+07+6.03470461e+07j,\n        -2.56090295e+07-5.37262615e+07j],\n       [ 8.97113491e+06+8.19834597e+06j,  6.56034356e+07+7.14124403e+07j,\n        -7.94157349e+07-6.96628761e+07j, ...,\n         1.66863597e+07-8.45787139e+07j, -1.46897546e+07+6.12618135e+07j,\n        -6.96699351e+07-4.25300385e+07j]]), {0: 114, 1: 116, 2: 118, 3: 120, 4: 122, 5: 104, 6: 102, 7: 100, 8: 98, 9: 114, 10: 116, 11: 118, 12: 120, 13: 122, 14: 104, 15: 102, 16: 100, 17: 98, 18: 114, 19: 116, 20: 118, 21: 120, 22: 122, 23: 104, 24: 102, 25: 100, 26: 98, 27: 114, 28: 116, 29: 118, 30: 120, 31: 122, 32: 104, 33: 102, 34: 100, 35: 98, 36: 114, 37: 116, 38: 118, 39: 120, 40: 122, 41: 104, 42: 102, 43: 100, 44: 98, 45: 114, 46: 116, 47: 118, 48: 120, 49: 122, 50: 104, 51: 102, 52: 100, 53: 98, 54: 114, 55: 116, 56: 118, 57: 120, 58: 122, 59: 104, 60: 102, 61: 100, 62: 98, 63: 114, 64: 116, 65: 118, 66: 120, 67: 122, 68: 104, 69: 102, 70: 100, 71: 98, 72: 114, 73: 116, 74: 118, 75: 120, 76: 122, 77: 104, 78: 102, 79: 100, 80: 98, 81: 114, 82: 116, 83: 118, 84: 120, 85: 122, 86: 104, 87: 102, 88: 100, 89: 98, 90: 113, 91: 115, 92: 117, 93: 119, 94: 121, 95: 111, 96: 103, 97: 101, 98: 99, 99: 97}, {0: <cpp_soft_info.KDE_Result object at 0x110ca2eb0>, 1: <cpp_soft_info.KDE_Result object at 0x110c94cb0>, 2: <cpp_soft_info.KDE_Result object at 0x1126348b0>, 3: <cpp_soft_info.KDE_Result object at 0x11207d5b0>, 4: <cpp_soft_info.KDE_Result object at 0x1126dcdf0>, 5: <cpp_soft_info.KDE_Result object at 0x1126dce30>, 6: <cpp_soft_info.KDE_Result object at 0x1126dce70>, 7: <cpp_soft_info.KDE_Result object at 0x1126dceb0>, 8: <cpp_soft_info.KDE_Result object at 0x1126dcef0>, 9: <cpp_soft_info.KDE_Result object at 0x1126dcf30>, 10: <cpp_soft_info.KDE_Result object at 0x1126dcf70>, 11: <cpp_soft_info.KDE_Result object at 0x1126dcfb0>, 12: <cpp_soft_info.KDE_Result object at 0x1126dcff0>, 13: <cpp_soft_info.KDE_Result object at 0x1126dd030>, 14: <cpp_soft_info.KDE_Result object at 0x1126dd070>, 15: <cpp_soft_info.KDE_Result object at 0x1126dd0b0>, 16: <cpp_soft_info.KDE_Result object at 0x1126dd0f0>, 17: <cpp_soft_info.KDE_Result object at 0x1126dd130>, 18: <cpp_soft_info.KDE_Result object at 0x1126dd170>, 19: <cpp_soft_info.KDE_Result object at 0x1126dd1b0>, 20: <cpp_soft_info.KDE_Result object at 0x1126dd1f0>, 21: <cpp_soft_info.KDE_Result object at 0x1126dd230>, 22: <cpp_soft_info.KDE_Result object at 0x1126dd270>, 23: <cpp_soft_info.KDE_Result object at 0x1126dd2b0>, 24: <cpp_soft_info.KDE_Result object at 0x1126dd2f0>, 25: <cpp_soft_info.KDE_Result object at 0x1126dd330>, 26: <cpp_soft_info.KDE_Result object at 0x1126dd370>, 27: <cpp_soft_info.KDE_Result object at 0x1126dd3b0>, 28: <cpp_soft_info.KDE_Result object at 0x1126dd3f0>, 29: <cpp_soft_info.KDE_Result object at 0x1126dd430>, 30: <cpp_soft_info.KDE_Result object at 0x1126dd470>, 31: <cpp_soft_info.KDE_Result object at 0x1126dd4b0>, 32: <cpp_soft_info.KDE_Result object at 0x1126dd4f0>, 33: <cpp_soft_info.KDE_Result object at 0x1126dd530>, 34: <cpp_soft_info.KDE_Result object at 0x1126dd570>, 35: <cpp_soft_info.KDE_Result object at 0x1126dd5b0>, 36: <cpp_soft_info.KDE_Result object at 0x1126dd5f0>, 37: <cpp_soft_info.KDE_Result object at 0x1126dd630>, 38: <cpp_soft_info.KDE_Result object at 0x1126dd670>, 39: <cpp_soft_info.KDE_Result object at 0x1126dd6b0>, 40: <cpp_soft_info.KDE_Result object at 0x1126dd6f0>, 41: <cpp_soft_info.KDE_Result object at 0x1126dd730>, 42: <cpp_soft_info.KDE_Result object at 0x1126dd770>, 43: <cpp_soft_info.KDE_Result object at 0x1126dd7b0>, 44: <cpp_soft_info.KDE_Result object at 0x1126dd7f0>, 45: <cpp_soft_info.KDE_Result object at 0x1126dd830>, 46: <cpp_soft_info.KDE_Result object at 0x1126dd870>, 47: <cpp_soft_info.KDE_Result object at 0x1126dd8b0>, 48: <cpp_soft_info.KDE_Result object at 0x1126dd8f0>, 49: <cpp_soft_info.KDE_Result object at 0x1126dd930>, 50: <cpp_soft_info.KDE_Result object at 0x1126dd970>, 51: <cpp_soft_info.KDE_Result object at 0x1126dd9b0>, 52: <cpp_soft_info.KDE_Result object at 0x1126dd9f0>, 53: <cpp_soft_info.KDE_Result object at 0x1126dda30>, 54: <cpp_soft_info.KDE_Result object at 0x1126dda70>, 55: <cpp_soft_info.KDE_Result object at 0x1126ddab0>, 56: <cpp_soft_info.KDE_Result object at 0x1126ddaf0>, 57: <cpp_soft_info.KDE_Result object at 0x1126ddb30>, 58: <cpp_soft_info.KDE_Result object at 0x1126ddb70>, 59: <cpp_soft_info.KDE_Result object at 0x1126ddbb0>, 60: <cpp_soft_info.KDE_Result object at 0x1126ddbf0>, 61: <cpp_soft_info.KDE_Result object at 0x1126ddc30>, 62: <cpp_soft_info.KDE_Result object at 0x1126ddc70>, 63: <cpp_soft_info.KDE_Result object at 0x1126ddcb0>, 64: <cpp_soft_info.KDE_Result object at 0x1126ddcf0>, 65: <cpp_soft_info.KDE_Result object at 0x1126ddd30>, 66: <cpp_soft_info.KDE_Result object at 0x1126ddd70>, 67: <cpp_soft_info.KDE_Result object at 0x1126dddb0>, 68: <cpp_soft_info.KDE_Result object at 0x1126dddf0>, 69: <cpp_soft_info.KDE_Result object at 0x1126dde30>, 70: <cpp_soft_info.KDE_Result object at 0x1126dde70>, 71: <cpp_soft_info.KDE_Result object at 0x1126ddeb0>, 72: <cpp_soft_info.KDE_Result object at 0x1126ddef0>, 73: <cpp_soft_info.KDE_Result object at 0x1126ddf30>, 74: <cpp_soft_info.KDE_Result object at 0x1126ddf70>, 75: <cpp_soft_info.KDE_Result object at 0x1126ddfb0>, 76: <cpp_soft_info.KDE_Result object at 0x1126ddff0>, 77: <cpp_soft_info.KDE_Result object at 0x1126de030>, 78: <cpp_soft_info.KDE_Result object at 0x1126de070>, 79: <cpp_soft_info.KDE_Result object at 0x1126de0b0>, 80: <cpp_soft_info.KDE_Result object at 0x1126de0f0>, 81: <cpp_soft_info.KDE_Result object at 0x1126de130>, 82: <cpp_soft_info.KDE_Result object at 0x1126de170>, 83: <cpp_soft_info.KDE_Result object at 0x1126de1b0>, 84: <cpp_soft_info.KDE_Result object at 0x1126de1f0>, 85: <cpp_soft_info.KDE_Result object at 0x1126de230>, 86: <cpp_soft_info.KDE_Result object at 0x1126de270>, 87: <cpp_soft_info.KDE_Result object at 0x1126de2b0>, 88: <cpp_soft_info.KDE_Result object at 0x1126de2f0>, 89: <cpp_soft_info.KDE_Result object at 0x1126de330>, 90: <cpp_soft_info.KDE_Result object at 0x1126de370>, 91: <cpp_soft_info.KDE_Result object at 0x1126de3b0>, 92: <cpp_soft_info.KDE_Result object at 0x1126de3f0>, 93: <cpp_soft_info.KDE_Result object at 0x1126de430>, 94: <cpp_soft_info.KDE_Result object at 0x1126de470>, 95: <cpp_soft_info.KDE_Result object at 0x1126de4b0>, 96: <cpp_soft_info.KDE_Result object at 0x1126de4f0>, 97: <cpp_soft_info.KDE_Result object at 0x1126de530>, 98: <cpp_soft_info.KDE_Result object at 0x1126de570>, 99: <cpp_soft_info.KDE_Result object at 0x1126de5b0>, 100: <cpp_soft_info.KDE_Result object at 0x1126de5f0>, 101: <cpp_soft_info.KDE_Result object at 0x1126de630>, 102: <cpp_soft_info.KDE_Result object at 0x1126de670>, 103: <cpp_soft_info.KDE_Result object at 0x1126de6b0>, 104: <cpp_soft_info.KDE_Result object at 0x1126de6f0>, 105: <cpp_soft_info.KDE_Result object at 0x1126de730>, 106: <cpp_soft_info.KDE_Result object at 0x1126de770>, 107: <cpp_soft_info.KDE_Result object at 0x1126de7b0>, 108: <cpp_soft_info.KDE_Result object at 0x1126de7f0>, 109: <cpp_soft_info.KDE_Result object at 0x1126de830>, 110: <cpp_soft_info.KDE_Result object at 0x1126de870>, 111: <cpp_soft_info.KDE_Result object at 0x1126de8b0>, 112: <cpp_soft_info.KDE_Result object at 0x1126de8f0>, 113: <cpp_soft_info.KDE_Result object at 0x1126de930>, 114: <cpp_soft_info.KDE_Result object at 0x1126de970>, 115: <cpp_soft_info.KDE_Result object at 0x1126de9b0>, 116: <cpp_soft_info.KDE_Result object at 0x1126de9f0>, 117: <cpp_soft_info.KDE_Result object at 0x1126dea30>, 118: <cpp_soft_info.KDE_Result object at 0x1126dea70>, 119: <cpp_soft_info.KDE_Result object at 0x1126deab0>, 120: <cpp_soft_info.KDE_Result object at 0x1126deaf0>, 121: <cpp_soft_info.KDE_Result object at 0x1126deb30>, 122: <cpp_soft_info.KDE_Result object at 0x1126deb70>, 123: <cpp_soft_info.KDE_Result object at 0x1126debb0>, 124: <cpp_soft_info.KDE_Result object at 0x1126debf0>, 125: <cpp_soft_info.KDE_Result object at 0x1126dec30>, 126: <cpp_soft_info.KDE_Result object at 0x1126dec70>}",
     "output_type": "error",
     "traceback": [
      "\u001b[0;31m---------------------------------------------------------------------------\u001b[0m",
      "\u001b[0;31mTypeError\u001b[0m                                 Traceback (most recent call last)",
      "Cell \u001b[0;32mIn[7], line 1\u001b[0m\n\u001b[0;32m----> 1\u001b[0m count \u001b[38;5;241m=\u001b[39m \u001b[43mcpp_soft_info\u001b[49m\u001b[38;5;241;43m.\u001b[39;49m\u001b[43mget_count_kde\u001b[49m\u001b[43m(\u001b[49m\u001b[43mIQ_data\u001b[49m\u001b[43m,\u001b[49m\u001b[43m \u001b[49m\u001b[43mqubit_mapping\u001b[49m\u001b[43m,\u001b[49m\u001b[43m \u001b[49m\u001b[43mkde_dict\u001b[49m\u001b[43m)\u001b[49m\n",
      "\u001b[0;31mTypeError\u001b[0m: get_count_kde(): incompatible function arguments. The following argument types are supported:\n    1. (not_scaled_IQ_data: numpy.ndarray[numpy.complex128[m, n]], qubit_mapping: dict[int, int], kde_dict: dict[int, cpp_soft_info.KDE_Result], synd_rounds: int) -> dict[str, int]\n\nInvoked with: array([[-1.74544736e+07+2.23955864e+07j, -9.34220845e+07+6.22298233e+07j,\n        -9.74499751e+07-7.16338055e+07j, ...,\n         9.98437606e+07-9.25226500e+07j, -5.40185814e+07+6.52694470e+07j,\n         2.84922972e+07-4.48433084e+07j],\n       [-9.85875944e+06+1.85559952e+07j, -4.91411782e+07+7.24073594e+07j,\n        -4.76165722e+07-6.41140158e+07j, ...,\n         1.09389486e+08-1.03930661e+08j, -4.07151259e+07+7.36177603e+07j,\n        -3.76924132e+07-5.75949954e+07j],\n       [-1.57715139e+07+1.76073818e+07j, -4.56021059e+07+6.83749033e+07j,\n        -9.27123818e+07-8.54153445e+07j, ...,\n        -9.85783422e+07-1.03122992e+08j, -2.03020488e+07+6.17506223e+07j,\n        -4.79710120e+07-6.23733323e+07j],\n       ...,\n       [-9.13337276e+06+1.50995164e+07j, -5.60923043e+07+4.52562998e+07j,\n        -5.71870829e+07-5.62357453e+07j, ...,\n        -1.02108396e+08-1.06873956e+08j, -2.77379940e+07+7.42080703e+07j,\n        -5.32101689e+07-3.35555509e+07j],\n       [-1.26058985e+07+2.00791188e+07j, -6.92594859e+07+6.06285683e+07j,\n        -1.08278836e+08-9.32780240e+07j, ...,\n        -1.07523885e+08-1.12951660e+08j, -2.76545648e+07+6.03470461e+07j,\n        -2.56090295e+07-5.37262615e+07j],\n       [ 8.97113491e+06+8.19834597e+06j,  6.56034356e+07+7.14124403e+07j,\n        -7.94157349e+07-6.96628761e+07j, ...,\n         1.66863597e+07-8.45787139e+07j, -1.46897546e+07+6.12618135e+07j,\n        -6.96699351e+07-4.25300385e+07j]]), {0: 114, 1: 116, 2: 118, 3: 120, 4: 122, 5: 104, 6: 102, 7: 100, 8: 98, 9: 114, 10: 116, 11: 118, 12: 120, 13: 122, 14: 104, 15: 102, 16: 100, 17: 98, 18: 114, 19: 116, 20: 118, 21: 120, 22: 122, 23: 104, 24: 102, 25: 100, 26: 98, 27: 114, 28: 116, 29: 118, 30: 120, 31: 122, 32: 104, 33: 102, 34: 100, 35: 98, 36: 114, 37: 116, 38: 118, 39: 120, 40: 122, 41: 104, 42: 102, 43: 100, 44: 98, 45: 114, 46: 116, 47: 118, 48: 120, 49: 122, 50: 104, 51: 102, 52: 100, 53: 98, 54: 114, 55: 116, 56: 118, 57: 120, 58: 122, 59: 104, 60: 102, 61: 100, 62: 98, 63: 114, 64: 116, 65: 118, 66: 120, 67: 122, 68: 104, 69: 102, 70: 100, 71: 98, 72: 114, 73: 116, 74: 118, 75: 120, 76: 122, 77: 104, 78: 102, 79: 100, 80: 98, 81: 114, 82: 116, 83: 118, 84: 120, 85: 122, 86: 104, 87: 102, 88: 100, 89: 98, 90: 113, 91: 115, 92: 117, 93: 119, 94: 121, 95: 111, 96: 103, 97: 101, 98: 99, 99: 97}, {0: <cpp_soft_info.KDE_Result object at 0x110ca2eb0>, 1: <cpp_soft_info.KDE_Result object at 0x110c94cb0>, 2: <cpp_soft_info.KDE_Result object at 0x1126348b0>, 3: <cpp_soft_info.KDE_Result object at 0x11207d5b0>, 4: <cpp_soft_info.KDE_Result object at 0x1126dcdf0>, 5: <cpp_soft_info.KDE_Result object at 0x1126dce30>, 6: <cpp_soft_info.KDE_Result object at 0x1126dce70>, 7: <cpp_soft_info.KDE_Result object at 0x1126dceb0>, 8: <cpp_soft_info.KDE_Result object at 0x1126dcef0>, 9: <cpp_soft_info.KDE_Result object at 0x1126dcf30>, 10: <cpp_soft_info.KDE_Result object at 0x1126dcf70>, 11: <cpp_soft_info.KDE_Result object at 0x1126dcfb0>, 12: <cpp_soft_info.KDE_Result object at 0x1126dcff0>, 13: <cpp_soft_info.KDE_Result object at 0x1126dd030>, 14: <cpp_soft_info.KDE_Result object at 0x1126dd070>, 15: <cpp_soft_info.KDE_Result object at 0x1126dd0b0>, 16: <cpp_soft_info.KDE_Result object at 0x1126dd0f0>, 17: <cpp_soft_info.KDE_Result object at 0x1126dd130>, 18: <cpp_soft_info.KDE_Result object at 0x1126dd170>, 19: <cpp_soft_info.KDE_Result object at 0x1126dd1b0>, 20: <cpp_soft_info.KDE_Result object at 0x1126dd1f0>, 21: <cpp_soft_info.KDE_Result object at 0x1126dd230>, 22: <cpp_soft_info.KDE_Result object at 0x1126dd270>, 23: <cpp_soft_info.KDE_Result object at 0x1126dd2b0>, 24: <cpp_soft_info.KDE_Result object at 0x1126dd2f0>, 25: <cpp_soft_info.KDE_Result object at 0x1126dd330>, 26: <cpp_soft_info.KDE_Result object at 0x1126dd370>, 27: <cpp_soft_info.KDE_Result object at 0x1126dd3b0>, 28: <cpp_soft_info.KDE_Result object at 0x1126dd3f0>, 29: <cpp_soft_info.KDE_Result object at 0x1126dd430>, 30: <cpp_soft_info.KDE_Result object at 0x1126dd470>, 31: <cpp_soft_info.KDE_Result object at 0x1126dd4b0>, 32: <cpp_soft_info.KDE_Result object at 0x1126dd4f0>, 33: <cpp_soft_info.KDE_Result object at 0x1126dd530>, 34: <cpp_soft_info.KDE_Result object at 0x1126dd570>, 35: <cpp_soft_info.KDE_Result object at 0x1126dd5b0>, 36: <cpp_soft_info.KDE_Result object at 0x1126dd5f0>, 37: <cpp_soft_info.KDE_Result object at 0x1126dd630>, 38: <cpp_soft_info.KDE_Result object at 0x1126dd670>, 39: <cpp_soft_info.KDE_Result object at 0x1126dd6b0>, 40: <cpp_soft_info.KDE_Result object at 0x1126dd6f0>, 41: <cpp_soft_info.KDE_Result object at 0x1126dd730>, 42: <cpp_soft_info.KDE_Result object at 0x1126dd770>, 43: <cpp_soft_info.KDE_Result object at 0x1126dd7b0>, 44: <cpp_soft_info.KDE_Result object at 0x1126dd7f0>, 45: <cpp_soft_info.KDE_Result object at 0x1126dd830>, 46: <cpp_soft_info.KDE_Result object at 0x1126dd870>, 47: <cpp_soft_info.KDE_Result object at 0x1126dd8b0>, 48: <cpp_soft_info.KDE_Result object at 0x1126dd8f0>, 49: <cpp_soft_info.KDE_Result object at 0x1126dd930>, 50: <cpp_soft_info.KDE_Result object at 0x1126dd970>, 51: <cpp_soft_info.KDE_Result object at 0x1126dd9b0>, 52: <cpp_soft_info.KDE_Result object at 0x1126dd9f0>, 53: <cpp_soft_info.KDE_Result object at 0x1126dda30>, 54: <cpp_soft_info.KDE_Result object at 0x1126dda70>, 55: <cpp_soft_info.KDE_Result object at 0x1126ddab0>, 56: <cpp_soft_info.KDE_Result object at 0x1126ddaf0>, 57: <cpp_soft_info.KDE_Result object at 0x1126ddb30>, 58: <cpp_soft_info.KDE_Result object at 0x1126ddb70>, 59: <cpp_soft_info.KDE_Result object at 0x1126ddbb0>, 60: <cpp_soft_info.KDE_Result object at 0x1126ddbf0>, 61: <cpp_soft_info.KDE_Result object at 0x1126ddc30>, 62: <cpp_soft_info.KDE_Result object at 0x1126ddc70>, 63: <cpp_soft_info.KDE_Result object at 0x1126ddcb0>, 64: <cpp_soft_info.KDE_Result object at 0x1126ddcf0>, 65: <cpp_soft_info.KDE_Result object at 0x1126ddd30>, 66: <cpp_soft_info.KDE_Result object at 0x1126ddd70>, 67: <cpp_soft_info.KDE_Result object at 0x1126dddb0>, 68: <cpp_soft_info.KDE_Result object at 0x1126dddf0>, 69: <cpp_soft_info.KDE_Result object at 0x1126dde30>, 70: <cpp_soft_info.KDE_Result object at 0x1126dde70>, 71: <cpp_soft_info.KDE_Result object at 0x1126ddeb0>, 72: <cpp_soft_info.KDE_Result object at 0x1126ddef0>, 73: <cpp_soft_info.KDE_Result object at 0x1126ddf30>, 74: <cpp_soft_info.KDE_Result object at 0x1126ddf70>, 75: <cpp_soft_info.KDE_Result object at 0x1126ddfb0>, 76: <cpp_soft_info.KDE_Result object at 0x1126ddff0>, 77: <cpp_soft_info.KDE_Result object at 0x1126de030>, 78: <cpp_soft_info.KDE_Result object at 0x1126de070>, 79: <cpp_soft_info.KDE_Result object at 0x1126de0b0>, 80: <cpp_soft_info.KDE_Result object at 0x1126de0f0>, 81: <cpp_soft_info.KDE_Result object at 0x1126de130>, 82: <cpp_soft_info.KDE_Result object at 0x1126de170>, 83: <cpp_soft_info.KDE_Result object at 0x1126de1b0>, 84: <cpp_soft_info.KDE_Result object at 0x1126de1f0>, 85: <cpp_soft_info.KDE_Result object at 0x1126de230>, 86: <cpp_soft_info.KDE_Result object at 0x1126de270>, 87: <cpp_soft_info.KDE_Result object at 0x1126de2b0>, 88: <cpp_soft_info.KDE_Result object at 0x1126de2f0>, 89: <cpp_soft_info.KDE_Result object at 0x1126de330>, 90: <cpp_soft_info.KDE_Result object at 0x1126de370>, 91: <cpp_soft_info.KDE_Result object at 0x1126de3b0>, 92: <cpp_soft_info.KDE_Result object at 0x1126de3f0>, 93: <cpp_soft_info.KDE_Result object at 0x1126de430>, 94: <cpp_soft_info.KDE_Result object at 0x1126de470>, 95: <cpp_soft_info.KDE_Result object at 0x1126de4b0>, 96: <cpp_soft_info.KDE_Result object at 0x1126de4f0>, 97: <cpp_soft_info.KDE_Result object at 0x1126de530>, 98: <cpp_soft_info.KDE_Result object at 0x1126de570>, 99: <cpp_soft_info.KDE_Result object at 0x1126de5b0>, 100: <cpp_soft_info.KDE_Result object at 0x1126de5f0>, 101: <cpp_soft_info.KDE_Result object at 0x1126de630>, 102: <cpp_soft_info.KDE_Result object at 0x1126de670>, 103: <cpp_soft_info.KDE_Result object at 0x1126de6b0>, 104: <cpp_soft_info.KDE_Result object at 0x1126de6f0>, 105: <cpp_soft_info.KDE_Result object at 0x1126de730>, 106: <cpp_soft_info.KDE_Result object at 0x1126de770>, 107: <cpp_soft_info.KDE_Result object at 0x1126de7b0>, 108: <cpp_soft_info.KDE_Result object at 0x1126de7f0>, 109: <cpp_soft_info.KDE_Result object at 0x1126de830>, 110: <cpp_soft_info.KDE_Result object at 0x1126de870>, 111: <cpp_soft_info.KDE_Result object at 0x1126de8b0>, 112: <cpp_soft_info.KDE_Result object at 0x1126de8f0>, 113: <cpp_soft_info.KDE_Result object at 0x1126de930>, 114: <cpp_soft_info.KDE_Result object at 0x1126de970>, 115: <cpp_soft_info.KDE_Result object at 0x1126de9b0>, 116: <cpp_soft_info.KDE_Result object at 0x1126de9f0>, 117: <cpp_soft_info.KDE_Result object at 0x1126dea30>, 118: <cpp_soft_info.KDE_Result object at 0x1126dea70>, 119: <cpp_soft_info.KDE_Result object at 0x1126deab0>, 120: <cpp_soft_info.KDE_Result object at 0x1126deaf0>, 121: <cpp_soft_info.KDE_Result object at 0x1126deb30>, 122: <cpp_soft_info.KDE_Result object at 0x1126deb70>, 123: <cpp_soft_info.KDE_Result object at 0x1126debb0>, 124: <cpp_soft_info.KDE_Result object at 0x1126debf0>, 125: <cpp_soft_info.KDE_Result object at 0x1126dec30>, 126: <cpp_soft_info.KDE_Result object at 0x1126dec70>}"
     ]
    }
   ],
   "source": [
    "count = cpp_soft_info.get_count_kde(IQ_data, qubit_mapping, kde_dict)"
   ]
  },
  {
   "cell_type": "markdown",
   "metadata": {},
   "source": [
    "# Parralelization Effort"
   ]
  },
  {
   "cell_type": "code",
   "execution_count": null,
   "metadata": {},
   "outputs": [],
   "source": [
    "# Get usergraph from detector error model\n",
    "\n",
    "matching_graph = cpp_soft_info.detector_error_model_to_user_graph(model)"
   ]
  },
  {
   "cell_type": "code",
   "execution_count": null,
   "metadata": {},
   "outputs": [],
   "source": []
  },
  {
   "cell_type": "markdown",
   "metadata": {},
   "source": [
    "# Trying to profile it"
   ]
  },
  {
   "cell_type": "code",
   "execution_count": null,
   "metadata": {},
   "outputs": [],
   "source": [
    "import ctypes\n",
    "\n",
    "# Load the libprofiler.dylib shared library\n",
    "libprofiler = ctypes.CDLL(\"libprofiler.dylib\")\n",
    "\n",
    "# Start profiling\n",
    "libprofiler.ProfilerStart(b\"output.prof\")\n",
    "\n",
    "result = cpp_soft_info.decode_IQ_kde(matching._matching_graph, IQ_data[:10], 3, 0, False, qubit_mapping, kde_dict, False)\n",
    "\n",
    "# Stop profiling\n",
    "libprofiler.ProfilerStop()\n"
   ]
  },
  {
   "cell_type": "code",
   "execution_count": null,
   "metadata": {},
   "outputs": [],
   "source": []
  },
  {
   "cell_type": "markdown",
   "metadata": {},
   "source": []
  }
 ],
 "metadata": {
  "kernelspec": {
   "display_name": "Soft-Info-fMUpUe5a",
   "language": "python",
   "name": "python3"
  },
  "language_info": {
   "codemirror_mode": {
    "name": "ipython",
    "version": 3
   },
   "file_extension": ".py",
   "mimetype": "text/x-python",
   "name": "python",
   "nbconvert_exporter": "python",
   "pygments_lexer": "ipython3",
   "version": "3.11.4"
  }
 },
 "nbformat": 4,
 "nbformat_minor": 2
}
