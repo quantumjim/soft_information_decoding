{
 "cells": [
  {
   "cell_type": "code",
   "execution_count": 1,
   "metadata": {},
   "outputs": [],
   "source": [
    "%reload_ext autoreload\n",
    "%autoreload 2"
   ]
  },
  {
   "cell_type": "code",
   "execution_count": 2,
   "metadata": {},
   "outputs": [],
   "source": [
    "import pickle\n",
    "import cpp_soft_info\n",
    "\n",
    "with open('all_memories.pkl', 'rb') as f:\n",
    "    all_memories = pickle.load(f)\n",
    "\n",
    "bandwiths = [0.2]*127\n",
    "\n",
    "kde_dict = cpp_soft_info.get_KDEs(all_memories, bandwiths)"
   ]
  },
  {
   "cell_type": "code",
   "execution_count": 3,
   "metadata": {},
   "outputs": [
    {
     "name": "stdout",
     "output_type": "stream",
     "text": [
      "10000\n"
     ]
    }
   ],
   "source": [
    "import pickle\n",
    "\n",
    "prefix = \"../../../Simulator/\"\n",
    "with open(prefix + 'IQ_data(7,7,1e4).pkl', 'rb') as f:\n",
    "    IQ_data = pickle.load(f)\n",
    "\n",
    "with open(prefix + 'IQ_data_extreme(7,7,1e4).pkl', 'rb') as f:\n",
    "    IQ_data_extreme = pickle.load(f)\n",
    "\n",
    "with open(prefix + 'qubit_mapping(7,7).pkl', 'rb') as f:\n",
    "    qubit_mapping = pickle.load(f)\n",
    "\n",
    "with open(prefix + \"stim_circ(7,7).pkl\", 'rb') as f:\n",
    "    stim_circ = pickle.load(f)\n",
    "\n",
    "print(len(IQ_data))"
   ]
  },
  {
   "cell_type": "code",
   "execution_count": 4,
   "metadata": {},
   "outputs": [],
   "source": [
    "import pymatching \n",
    "\n",
    "model = stim_circ.detector_error_model(decompose_errors=True)\n",
    "matching = pymatching.Matching.from_detector_error_model(model)"
   ]
  },
  {
   "cell_type": "code",
   "execution_count": 10,
   "metadata": {},
   "outputs": [
    {
     "name": "stdout",
     "output_type": "stream",
     "text": [
      "Shot 0 timing:\n",
      "get_counts_kde: 1 milliseconds\n",
      "counts_to_det_syndr: 0 milliseconds\n",
      "decode: 0 milliseconds\n",
      "Total shot execution time: 1 milliseconds\n",
      "Shot 1 timing:\n",
      "get_counts_kde: 1 milliseconds\n",
      "counts_to_det_syndr: 0 milliseconds\n",
      "decode: 0 milliseconds\n",
      "Total shot execution time: 1 milliseconds\n",
      "Shot 2 timing:\n",
      "get_counts_kde: 1 milliseconds\n",
      "counts_to_det_syndr: 0 milliseconds\n",
      "decode: 0 milliseconds\n",
      "Total shot execution time: 1 milliseconds\n",
      "Total execution time: 5 milliseconds\n"
     ]
    }
   ],
   "source": [
    "result = cpp_soft_info.decode_IQ_kde(matching._matching_graph, IQ_data[:3], 3, 0, False, qubit_mapping, kde_dict, False)\n",
    "\n"
   ]
  },
  {
   "cell_type": "code",
   "execution_count": 8,
   "metadata": {},
   "outputs": [],
   "source": [
    "count = cpp_soft_info.get_count_kde(IQ_data, qubit_mapping, kde_dict, 3)"
   ]
  },
  {
   "cell_type": "markdown",
   "metadata": {},
   "source": [
    "# Trying to profile it"
   ]
  },
  {
   "cell_type": "code",
   "execution_count": 7,
   "metadata": {},
   "outputs": [
    {
     "name": "stdout",
     "output_type": "stream",
     "text": [
      "Shot 0 timing:\n",
      "get_counts_kde: 106 milliseconds\n",
      "soft_reweight_kde: 106 milliseconds\n",
      "counts_to_det_syndr: 0 milliseconds\n",
      "decode: 0 milliseconds\n",
      "Total shot execution time: 212 milliseconds\n",
      "Shot 1 timing:\n",
      "get_counts_kde: 105 milliseconds\n",
      "soft_reweight_kde: 106 milliseconds\n",
      "counts_to_det_syndr: 0 milliseconds\n",
      "decode: 0 milliseconds\n",
      "Total shot execution time: 212 milliseconds\n",
      "Shot 2 timing:\n",
      "get_counts_kde: 107 milliseconds\n",
      "soft_reweight_kde: 110 milliseconds\n",
      "counts_to_det_syndr: 0 milliseconds\n",
      "decode: 0 milliseconds\n",
      "Total shot execution time: 217 milliseconds\n",
      "Shot 3 timing:\n",
      "get_counts_kde: 105 milliseconds\n",
      "soft_reweight_kde: 107 milliseconds\n",
      "counts_to_det_syndr: 0 milliseconds\n",
      "decode: 0 milliseconds\n",
      "Total shot execution time: 213 milliseconds\n",
      "Shot 4 timing:\n",
      "get_counts_kde: 110 milliseconds\n",
      "soft_reweight_kde: 107 milliseconds\n",
      "counts_to_det_syndr: 0 milliseconds\n",
      "decode: 0 milliseconds\n",
      "Total shot execution time: 217 milliseconds\n",
      "Shot 5 timing:\n",
      "get_counts_kde: 104 milliseconds\n",
      "soft_reweight_kde: 108 milliseconds\n",
      "counts_to_det_syndr: 0 milliseconds\n",
      "decode: 0 milliseconds\n",
      "Total shot execution time: 213 milliseconds\n",
      "Shot 6 timing:\n",
      "get_counts_kde: 107 milliseconds\n",
      "soft_reweight_kde: 107 milliseconds\n",
      "counts_to_det_syndr: 0 milliseconds\n",
      "decode: 0 milliseconds\n",
      "Total shot execution time: 214 milliseconds\n",
      "Shot 7 timing:\n",
      "get_counts_kde: 110 milliseconds\n",
      "soft_reweight_kde: 107 milliseconds\n",
      "counts_to_det_syndr: 0 milliseconds\n",
      "decode: 0 milliseconds\n",
      "Total shot execution time: 217 milliseconds\n",
      "Shot 8 timing:\n",
      "get_counts_kde: 106 milliseconds\n",
      "soft_reweight_kde: 105 milliseconds\n",
      "counts_to_det_syndr: 0 milliseconds\n",
      "decode: 0 milliseconds\n",
      "Total shot execution time: 212 milliseconds\n",
      "Shot 9 timing:\n",
      "get_counts_kde: 107 milliseconds\n",
      "soft_reweight_kde: 107 milliseconds\n",
      "counts_to_det_syndr: 0 milliseconds\n",
      "decode: 0 milliseconds\n",
      "Total shot execution time: 215 milliseconds\n",
      "Total execution time: 2147 milliseconds\n"
     ]
    },
    {
     "name": "stderr",
     "output_type": "stream",
     "text": [
      "PROFILE: interrupts/evictions/bytes = 215/2/85272\n"
     ]
    },
    {
     "data": {
      "text/plain": [
       "1807453272"
      ]
     },
     "execution_count": 7,
     "metadata": {},
     "output_type": "execute_result"
    }
   ],
   "source": [
    "import ctypes\n",
    "\n",
    "# Load the libprofiler.dylib shared library\n",
    "libprofiler = ctypes.CDLL(\"libprofiler.dylib\")\n",
    "\n",
    "# Start profiling\n",
    "libprofiler.ProfilerStart(b\"output.prof\")\n",
    "\n",
    "result = cpp_soft_info.decode_IQ_kde(matching._matching_graph, IQ_data[:10], 3, 0, False, qubit_mapping, kde_dict, False)\n",
    "\n",
    "# Stop profiling\n",
    "libprofiler.ProfilerStop()\n"
   ]
  },
  {
   "cell_type": "code",
   "execution_count": null,
   "metadata": {},
   "outputs": [],
   "source": []
  },
  {
   "cell_type": "markdown",
   "metadata": {},
   "source": []
  }
 ],
 "metadata": {
  "kernelspec": {
   "display_name": "Soft-Info-fMUpUe5a",
   "language": "python",
   "name": "python3"
  },
  "language_info": {
   "codemirror_mode": {
    "name": "ipython",
    "version": 3
   },
   "file_extension": ".py",
   "mimetype": "text/x-python",
   "name": "python",
   "nbconvert_exporter": "python",
   "pygments_lexer": "ipython3",
   "version": "3.11.4"
  }
 },
 "nbformat": 4,
 "nbformat_minor": 2
}
