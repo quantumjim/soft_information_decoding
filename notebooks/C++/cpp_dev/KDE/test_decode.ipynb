{
 "cells": [
  {
   "cell_type": "code",
   "execution_count": 1,
   "metadata": {},
   "outputs": [],
   "source": [
    "%reload_ext autoreload\n",
    "%autoreload 2"
   ]
  },
  {
   "cell_type": "code",
   "execution_count": 2,
   "metadata": {},
   "outputs": [],
   "source": [
    "import pickle\n",
    "import cpp_soft_info\n",
    "\n",
    "with open('all_memories.pkl', 'rb') as f:\n",
    "    all_memories = pickle.load(f)\n",
    "\n",
    "bandwiths = [0.2]*127\n",
    "\n",
    "kde_dict = cpp_soft_info.get_KDEs(all_memories, bandwiths)"
   ]
  },
  {
   "cell_type": "code",
   "execution_count": 3,
   "metadata": {},
   "outputs": [
    {
     "name": "stdout",
     "output_type": "stream",
     "text": [
      "1000\n"
     ]
    }
   ],
   "source": [
    "import pickle\n",
    "\n",
    "prefix = \"../../../Simulator/\"\n",
    "with open(prefix + 'IQ_data.pkl', 'rb') as f:\n",
    "    IQ_data = pickle.load(f)\n",
    "\n",
    "with open(prefix + 'IQ_data_extreme.pkl', 'rb') as f:\n",
    "    IQ_data_extreme = pickle.load(f)\n",
    "\n",
    "with open(prefix + 'qubit_mapping.pkl', 'rb') as f:\n",
    "    qubit_mapping = pickle.load(f)\n",
    "\n",
    "with open(prefix + \"stim_circ.pkl\", 'rb') as f:\n",
    "    stim_circ = pickle.load(f)\n",
    "\n",
    "print(len(IQ_data))"
   ]
  },
  {
   "cell_type": "code",
   "execution_count": 4,
   "metadata": {},
   "outputs": [],
   "source": [
    "import pymatching\n",
    "import stim\n",
    "\n",
    "model = stim_circ.detector_error_model(decompose_errors=True)\n",
    "matching = pymatching.Matching.from_detector_error_model(model)"
   ]
  },
  {
   "cell_type": "code",
   "execution_count": 7,
   "metadata": {},
   "outputs": [
    {
     "ename": "",
     "evalue": "",
     "output_type": "error",
     "traceback": [
      "\u001b[1;31mThe Kernel crashed while executing code in the the current cell or a previous cell. Please review the code in the cell(s) to identify a possible cause of the failure. Click <a href='https://aka.ms/vscodeJupyterKernelCrash'>here</a> for more info. View Jupyter <a href='command:jupyter.viewOutput'>log</a> for further details."
     ]
    }
   ],
   "source": [
    "# IQ_data_extreme_r = [IQ_data_extreme[0], IQ_data_extreme[9999], IQ_data_extreme[8000]]\n",
    "\n",
    "# result = cpp_soft_info.decode_IQ_kde(matching._matching_graph, IQ_data[9980:10000], 3, 0, False, qubit_mapping, kde_dict, False)\n",
    "result = cpp_soft_info.decode_IQ_kde(model, IQ_data_extreme, 3, 0, False, qubit_mapping, kde_dict, True)\n",
    "print(result.num_errors)"
   ]
  },
  {
   "cell_type": "markdown",
   "metadata": {},
   "source": [
    "# Plot decoding"
   ]
  },
  {
   "cell_type": "code",
   "execution_count": 6,
   "metadata": {},
   "outputs": [
    {
     "name": "stdout",
     "output_type": "stream",
     "text": [
      "[]\n"
     ]
    }
   ],
   "source": [
    "print(sorted(result.indices))"
   ]
  },
  {
   "cell_type": "code",
   "execution_count": 8,
   "metadata": {},
   "outputs": [
    {
     "ename": "IndexError",
     "evalue": "list index out of range",
     "output_type": "error",
     "traceback": [
      "\u001b[0;31m---------------------------------------------------------------------------\u001b[0m",
      "\u001b[0;31mIndexError\u001b[0m                                Traceback (most recent call last)",
      "Cell \u001b[0;32mIn[8], line 11\u001b[0m\n\u001b[1;32m      8\u001b[0m scale_factor \u001b[38;5;241m=\u001b[39m \u001b[38;5;241m0.5\u001b[39m\n\u001b[1;32m     10\u001b[0m to_be_result \u001b[38;5;241m=\u001b[39m result\n\u001b[0;32m---> 11\u001b[0m details \u001b[38;5;241m=\u001b[39m \u001b[43mto_be_result\u001b[49m\u001b[38;5;241;43m.\u001b[39;49m\u001b[43merror_details\u001b[49m\u001b[43m[\u001b[49m\u001b[43mindex\u001b[49m\u001b[43m]\u001b[49m\n\u001b[1;32m     12\u001b[0m \u001b[38;5;28mprint\u001b[39m(\u001b[38;5;124mf\u001b[39m\u001b[38;5;124m\"\u001b[39m\u001b[38;5;124m-----IQ \u001b[39m\u001b[38;5;132;01m{\u001b[39;00m\u001b[38;5;28mbool\u001b[39m(\u001b[38;5;129;01mnot\u001b[39;00m\u001b[38;5;250m \u001b[39m(index\u001b[38;5;250m \u001b[39m\u001b[38;5;129;01min\u001b[39;00m\u001b[38;5;250m \u001b[39mto_be_result\u001b[38;5;241m.\u001b[39mindices))\u001b[38;5;132;01m}\u001b[39;00m\u001b[38;5;124m decoding -----\u001b[39m\u001b[38;5;124m\"\u001b[39m)\n\u001b[1;32m     13\u001b[0m draw_matching_graph(matching\u001b[38;5;241m=\u001b[39m\u001b[38;5;28;01mNone\u001b[39;00m, d\u001b[38;5;241m=\u001b[39m\u001b[38;5;241m10\u001b[39m, T\u001b[38;5;241m=\u001b[39m\u001b[38;5;241m10\u001b[39m, syndromes\u001b[38;5;241m=\u001b[39mdetails\u001b[38;5;241m.\u001b[39mdetection_syndromes,\n\u001b[1;32m     14\u001b[0m                         matched_edges\u001b[38;5;241m=\u001b[39mdetails\u001b[38;5;241m.\u001b[39mmatched_edges, figsize\u001b[38;5;241m=\u001b[39mfig_size, scale_factor\u001b[38;5;241m=\u001b[39mscale_factor, edge_list\u001b[38;5;241m=\u001b[39mdetails\u001b[38;5;241m.\u001b[39medges)\n",
      "\u001b[0;31mIndexError\u001b[0m: list index out of range"
     ]
    }
   ],
   "source": [
    "from soft_info import draw_matching_graph\n",
    "\n",
    "\n",
    "index = 0\n",
    "\n",
    "fig_size = (4, 13)\n",
    "fig_size = (8, 8)\n",
    "scale_factor = 0.5\n",
    "\n",
    "to_be_result = result\n",
    "details = to_be_result.error_details[index]\n",
    "print(f\"-----IQ {bool(not (index in to_be_result.indices))} decoding -----\")\n",
    "draw_matching_graph(matching=None, d=10, T=10, syndromes=details.detection_syndromes,\n",
    "                        matched_edges=details.matched_edges, figsize=fig_size, scale_factor=scale_factor, edge_list=details.edges)"
   ]
  },
  {
   "cell_type": "markdown",
   "metadata": {},
   "source": [
    "# Parralelization Effort"
   ]
  },
  {
   "cell_type": "code",
   "execution_count": null,
   "metadata": {},
   "outputs": [],
   "source": [
    "# Get usergraph from detector error model\n",
    "\n",
    "matching_graph = cpp_soft_info.detector_error_model_to_user_graph(model)"
   ]
  },
  {
   "cell_type": "markdown",
   "metadata": {},
   "source": [
    "# Trying to profile it"
   ]
  },
  {
   "cell_type": "code",
   "execution_count": null,
   "metadata": {},
   "outputs": [],
   "source": [
    "import ctypes\n",
    "\n",
    "# Load the libprofiler.dylib shared library\n",
    "libprofiler = ctypes.CDLL(\"libprofiler.dylib\")\n",
    "\n",
    "# Start profiling\n",
    "libprofiler.ProfilerStart(b\"output.prof\")\n",
    "\n",
    "result = cpp_soft_info.decode_IQ_kde(\n",
    "    matching._matching_graph, IQ_data[:10], 3, 0, False, qubit_mapping, kde_dict, False)\n",
    "\n",
    "# Stop profiling\n",
    "libprofiler.ProfilerStop()"
   ]
  },
  {
   "cell_type": "code",
   "execution_count": null,
   "metadata": {},
   "outputs": [],
   "source": []
  },
  {
   "cell_type": "markdown",
   "metadata": {},
   "source": []
  }
 ],
 "metadata": {
  "kernelspec": {
   "display_name": "Soft-Info-fMUpUe5a",
   "language": "python",
   "name": "python3"
  },
  "language_info": {
   "codemirror_mode": {
    "name": "ipython",
    "version": 3
   },
   "file_extension": ".py",
   "mimetype": "text/x-python",
   "name": "python",
   "nbconvert_exporter": "python",
   "pygments_lexer": "ipython3",
   "version": "3.11.4"
  }
 },
 "nbformat": 4,
 "nbformat_minor": 2
}
