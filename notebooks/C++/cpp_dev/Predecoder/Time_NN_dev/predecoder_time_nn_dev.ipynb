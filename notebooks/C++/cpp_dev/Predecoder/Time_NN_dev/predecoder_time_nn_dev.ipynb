{
 "cells": [
  {
   "cell_type": "markdown",
   "metadata": {},
   "source": [
    "# Initialization"
   ]
  },
  {
   "cell_type": "code",
   "execution_count": 1,
   "metadata": {},
   "outputs": [],
   "source": [
    "%reload_ext autoreload\n",
    "%autoreload 2"
   ]
  },
  {
   "cell_type": "code",
   "execution_count": 2,
   "metadata": {},
   "outputs": [],
   "source": [
    "from result_saver import SaverProvider\n",
    "\n",
    "provider = SaverProvider()"
   ]
  },
  {
   "cell_type": "markdown",
   "metadata": {},
   "source": [
    "# Initialize simulator"
   ]
  },
  {
   "cell_type": "code",
   "execution_count": 56,
   "metadata": {},
   "outputs": [],
   "source": [
    "from soft_info import RepCodeIQSimulator\n",
    "\n",
    "DEVICE = 'ibm_sherbrooke'\n",
    "DISTANCE = 25\n",
    "ROUNDS = 25\n",
    "OTHER_DATE = '2023-10-27'\n",
    "_RESETS = False\n",
    "LOGICAL = 0 # NOT NEEDED FOR EXTREME IQ BCS HARDCODED 0\n",
    "\n",
    "_is_hex = True\n",
    "if DEVICE == 'ibmq_mumbai':\n",
    "    _is_hex = False\n",
    "\n",
    "# Initialize simulator\n",
    "simulator = RepCodeIQSimulator(provider, DISTANCE, ROUNDS, DEVICE, _is_hex=_is_hex, _resets = _RESETS, other_date=OTHER_DATE)"
   ]
  },
  {
   "cell_type": "markdown",
   "metadata": {},
   "source": [
    "# Get IQ data"
   ]
  },
  {
   "cell_type": "code",
   "execution_count": 71,
   "metadata": {},
   "outputs": [],
   "source": [
    "SHOTS = int(1e5)\n",
    "NOISE_LIST = [3e-2, 0.8e-2, 1e-2, 3e-2] # [two-qubit-fidelity, reset error, measurement error, idle error]\n",
    "# NOISE_LIST = None\n",
    "P_AMBIG = 0.1\n",
    "\n",
    "IQ_data = simulator.generate_IQ(SHOTS, noise_list=NOISE_LIST)\n",
    "# IQ_data_extreme = simulator.generate_extreme_IQ(SHOTS, P_AMBIG, noise_list=NOISE_LIST)"
   ]
  },
  {
   "cell_type": "markdown",
   "metadata": {},
   "source": [
    "# Decode using predecoder"
   ]
  },
  {
   "cell_type": "code",
   "execution_count": 72,
   "metadata": {},
   "outputs": [],
   "source": [
    "import pymatching\n",
    "import stim\n",
    "import cpp_soft_info\n",
    "import numpy as np\n",
    "\n",
    "model = simulator.stim_circ.detector_error_model(decompose_errors=False)\n",
    "matching = pymatching.Matching.from_detector_error_model(model)"
   ]
  },
  {
   "cell_type": "code",
   "execution_count": null,
   "metadata": {},
   "outputs": [
    {
     "name": "stdout",
     "output_type": "stream",
     "text": [
      "num_errors: 19\n",
      "mean num removed edges: 3.8307\n",
      "num removed edges: 38307\n"
     ]
    }
   ],
   "source": [
    "_DETAILED = False  \n",
    "\n",
    "result_predecoder = cpp_soft_info.decode_time_nn_predecode_grid(model, IQ_data[:], ROUNDS, int(LOGICAL), _RESETS, simulator.qubit_mapping, simulator.grid_dict,\n",
    "                                           simulator.processed_scaler_dict, _detailed=_DETAILED, threshold=0.15, _ntnn_edges = not _RESETS)\n",
    "\n",
    "\n",
    "print(f\"num_errors: {result_predecoder.decode_result.num_errors}\")\n",
    "print(f\"mean num removed edges: {np.mean(result_predecoder.nb_rm_edges)}\")\n",
    "print(f\"num removed edges: {np.sum(result_predecoder.nb_rm_edges)}\")"
   ]
  },
  {
   "cell_type": "code",
   "execution_count": null,
   "metadata": {},
   "outputs": [
    {
     "name": "stdout",
     "output_type": "stream",
     "text": [
      "threshold: 0.0, num_errors: 319, mean num removed edges: 20.0672, num removed edges: 200672\n",
      "threshold: 0.044444444444444446, num_errors: 30, mean num removed edges: 6.2269, num removed edges: 62269\n",
      "threshold: 0.08888888888888889, num_errors: 23, mean num removed edges: 5.3079, num removed edges: 53079\n",
      "threshold: 0.13333333333333333, num_errors: 19, mean num removed edges: 4.2015, num removed edges: 42015\n",
      "threshold: 0.17777777777777778, num_errors: 19, mean num removed edges: 2.993, num removed edges: 29930\n",
      "threshold: 0.22222222222222224, num_errors: 20, mean num removed edges: 2.5514, num removed edges: 25514\n",
      "threshold: 0.26666666666666666, num_errors: 19, mean num removed edges: 2.2554, num removed edges: 22554\n",
      "threshold: 0.3111111111111111, num_errors: 21, mean num removed edges: 1.9726, num removed edges: 19726\n",
      "threshold: 0.35555555555555557, num_errors: 21, mean num removed edges: 1.6847, num removed edges: 16847\n",
      "threshold: 0.4, num_errors: 21, mean num removed edges: 1.3878, num removed edges: 13878\n"
     ]
    }
   ],
   "source": [
    "for threshold in np.linspace(0, 0.4, 20):\n",
    "    result_predecoder = cpp_soft_info.decode_time_nn_predecode_grid(model, IQ_data[:], ROUNDS, int(LOGICAL), _RESETS, simulator.qubit_mapping, simulator.grid_dict,\n",
    "                                               simulator.processed_scaler_dict, _detailed=_DETAILED, threshold=threshold, _ntnn_edges = not _RESETS)\n",
    "    print(f\"threshold: {threshold}, num_errors: {result_predecoder.decode_result.num_errors}, mean num removed edges: {np.mean(result_predecoder.nb_rm_edges)}, num removed edges: {np.sum(result_predecoder.nb_rm_edges)}\")"
   ]
  },
  {
   "cell_type": "code",
   "execution_count": null,
   "metadata": {},
   "outputs": [
    {
     "name": "stdout",
     "output_type": "stream",
     "text": [
      "num_errors: 5\n"
     ]
    }
   ],
   "source": [
    "# Soft Grid info\n",
    "\n",
    "result = cpp_soft_info.decode_IQ_fast(model, IQ_data,\n",
    "                                           ROUNDS, int(LOGICAL), _RESETS, simulator.qubit_mapping, simulator.grid_dict,\n",
    "                                           simulator.processed_scaler_dict, _detailed=_DETAILED, nb_intervals=-1)\n",
    "\n",
    "print(f\"num_errors: {result.num_errors}\")"
   ]
  },
  {
   "cell_type": "code",
   "execution_count": null,
   "metadata": {},
   "outputs": [
    {
     "name": "stdout",
     "output_type": "stream",
     "text": [
      "num_errors: 13\n"
     ]
    }
   ],
   "source": [
    "# Hard decoder\n",
    "# p_meas = 0.02\n",
    "p_meas = -1\n",
    "\n",
    "result_informed = cpp_soft_info.decode_IQ_shots_flat_informed(model, IQ_data[:],\n",
    "                                           ROUNDS, int(LOGICAL), _RESETS, simulator.qubit_mapping, simulator.grid_dict, simulator.processed_scaler_dict,\n",
    "                                           p_data = -1, p_mixed = -1, p_meas = p_meas, common_measure=-1, _detailed=_DETAILED, _ntnn_edges = not _RESETS)\n",
    "\n",
    "print(f\"num_errors: {result_informed.num_errors}\")"
   ]
  },
  {
   "cell_type": "code",
   "execution_count": null,
   "metadata": {},
   "outputs": [],
   "source": []
  }
 ],
 "metadata": {
  "kernelspec": {
   "display_name": "Soft-Info-fMUpUe5a",
   "language": "python",
   "name": "python3"
  },
  "language_info": {
   "codemirror_mode": {
    "name": "ipython",
    "version": 3
   },
   "file_extension": ".py",
   "mimetype": "text/x-python",
   "name": "python",
   "nbconvert_exporter": "python",
   "pygments_lexer": "ipython3",
   "version": "3.11.4"
  }
 },
 "nbformat": 4,
 "nbformat_minor": 2
}
