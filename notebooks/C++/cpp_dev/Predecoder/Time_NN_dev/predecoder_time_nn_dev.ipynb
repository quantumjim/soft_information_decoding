{
 "cells": [
  {
   "cell_type": "markdown",
   "metadata": {},
   "source": [
    "# Initialization"
   ]
  },
  {
   "cell_type": "code",
   "execution_count": 1,
   "metadata": {},
   "outputs": [],
   "source": [
    "%reload_ext autoreload\n",
    "%autoreload 2"
   ]
  },
  {
   "cell_type": "code",
   "execution_count": 2,
   "metadata": {},
   "outputs": [],
   "source": [
    "from result_saver import SaverProvider\n",
    "\n",
    "provider = SaverProvider()"
   ]
  },
  {
   "cell_type": "markdown",
   "metadata": {},
   "source": [
    "# Initialize simulator"
   ]
  },
  {
   "cell_type": "code",
   "execution_count": 44,
   "metadata": {},
   "outputs": [],
   "source": [
    "from soft_info import RepCodeIQSimulator\n",
    "\n",
    "DEVICE = 'ibm_sherbrooke'\n",
    "DISTANCE = 9\n",
    "ROUNDS = 9\n",
    "OTHER_DATE = '2023-10-27'\n",
    "_RESETS = False\n",
    "LOGICAL = 0 # NOT NEEDED FOR EXTREME IQ BCS HARDCODED 0\n",
    "\n",
    "_is_hex = True\n",
    "if DEVICE == 'ibmq_mumbai':\n",
    "    _is_hex = False\n",
    "\n",
    "# Initialize simulator\n",
    "simulator = RepCodeIQSimulator(provider, DISTANCE, ROUNDS, DEVICE, _is_hex=_is_hex, _resets = _RESETS, other_date=OTHER_DATE)"
   ]
  },
  {
   "cell_type": "markdown",
   "metadata": {},
   "source": [
    "# Get IQ data"
   ]
  },
  {
   "cell_type": "code",
   "execution_count": 45,
   "metadata": {},
   "outputs": [],
   "source": [
    "SHOTS = int(2e5)\n",
    "NOISE_LIST = [3e-2, 0.8e-2, 1e-2, 3e-2] # [two-qubit-fidelity, reset error, measurement error, idle error]\n",
    "# NOISE_LIST = None\n",
    "P_AMBIG = 0.1\n",
    "\n",
    "IQ_data = simulator.generate_IQ(SHOTS, noise_list=NOISE_LIST)\n",
    "# IQ_data_extreme = simulator.generate_extreme_IQ(SHOTS, P_AMBIG, noise_list=NOISE_LIST)"
   ]
  },
  {
   "cell_type": "markdown",
   "metadata": {},
   "source": [
    "# Decode using predecoder"
   ]
  },
  {
   "cell_type": "code",
   "execution_count": 46,
   "metadata": {},
   "outputs": [],
   "source": [
    "import pymatching\n",
    "import stim\n",
    "import cpp_soft_info\n",
    "import numpy as np\n",
    "\n",
    "model = simulator.stim_circ.detector_error_model(decompose_errors=False)\n",
    "matching = pymatching.Matching.from_detector_error_model(model)"
   ]
  },
  {
   "cell_type": "code",
   "execution_count": 41,
   "metadata": {},
   "outputs": [
    {
     "name": "stdout",
     "output_type": "stream",
     "text": [
      "num_errors: 5372\n",
      "mean num removed edges: 0.051935\n",
      "num removed edges: 10387\n"
     ]
    }
   ],
   "source": [
    "_DETAILED = False\n",
    "\n",
    "result_predecoder = cpp_soft_info.decode_time_nn_predecode_grid(model, IQ_data, ROUNDS, int(LOGICAL), _RESETS, simulator.qubit_mapping, simulator.grid_dict,\n",
    "                                           simulator.processed_scaler_dict, _detailed=_DETAILED, threshold=0.15, _ntnn_edges = not _RESETS)\n",
    "\n",
    "\n",
    "print(f\"num_errors: {result_predecoder.decode_result.num_errors}\")\n",
    "print(f\"mean num removed edges: {np.mean(result_predecoder.nb_rm_edges)}\")\n",
    "print(f\"num removed edges: {np.sum(result_predecoder.nb_rm_edges)}\")"
   ]
  },
  {
   "cell_type": "code",
   "execution_count": 30,
   "metadata": {},
   "outputs": [
    {
     "name": "stdout",
     "output_type": "stream",
     "text": [
      "threshold: 0.0, num_errors: 520, mean num removed edges: 0.5321, num removed edges: 5321\n",
      "threshold: 0.021052631578947368, num_errors: 268, mean num removed edges: 0.1155, num removed edges: 1155\n",
      "threshold: 0.042105263157894736, num_errors: 264, mean num removed edges: 0.0802, num removed edges: 802\n",
      "threshold: 0.06315789473684211, num_errors: 262, mean num removed edges: 0.0709, num removed edges: 709\n",
      "threshold: 0.08421052631578947, num_errors: 261, mean num removed edges: 0.0622, num removed edges: 622\n",
      "threshold: 0.10526315789473684, num_errors: 262, mean num removed edges: 0.0571, num removed edges: 571\n",
      "threshold: 0.12631578947368421, num_errors: 263, mean num removed edges: 0.0531, num removed edges: 531\n",
      "threshold: 0.14736842105263157, num_errors: 263, mean num removed edges: 0.0504, num removed edges: 504\n",
      "threshold: 0.16842105263157894, num_errors: 265, mean num removed edges: 0.0477, num removed edges: 477\n",
      "threshold: 0.18947368421052632, num_errors: 265, mean num removed edges: 0.0441, num removed edges: 441\n",
      "threshold: 0.21052631578947367, num_errors: 265, mean num removed edges: 0.0413, num removed edges: 413\n",
      "threshold: 0.23157894736842105, num_errors: 265, mean num removed edges: 0.0386, num removed edges: 386\n",
      "threshold: 0.25263157894736843, num_errors: 263, mean num removed edges: 0.0352, num removed edges: 352\n",
      "threshold: 0.2736842105263158, num_errors: 265, mean num removed edges: 0.0319, num removed edges: 319\n",
      "threshold: 0.29473684210526313, num_errors: 264, mean num removed edges: 0.0287, num removed edges: 287\n",
      "threshold: 0.3157894736842105, num_errors: 264, mean num removed edges: 0.0261, num removed edges: 261\n",
      "threshold: 0.3368421052631579, num_errors: 265, mean num removed edges: 0.0227, num removed edges: 227\n",
      "threshold: 0.35789473684210527, num_errors: 265, mean num removed edges: 0.0199, num removed edges: 199\n",
      "threshold: 0.37894736842105264, num_errors: 265, mean num removed edges: 0.0174, num removed edges: 174\n",
      "threshold: 0.4, num_errors: 264, mean num removed edges: 0.0146, num removed edges: 146\n"
     ]
    }
   ],
   "source": [
    "for threshold in np.linspace(0, 0.4, 20):\n",
    "    result_predecoder = cpp_soft_info.decode_time_nn_predecode_grid(model, IQ_data[:], ROUNDS, int(LOGICAL), _RESETS, simulator.qubit_mapping, simulator.grid_dict,\n",
    "                                               simulator.processed_scaler_dict, _detailed=_DETAILED, threshold=threshold, _ntnn_edges = not _RESETS)\n",
    "    print(f\"threshold: {threshold}, num_errors: {result_predecoder.decode_result.num_errors}, mean num removed edges: {np.mean(result_predecoder.nb_rm_edges)}, num removed edges: {np.sum(result_predecoder.nb_rm_edges)}\")"
   ]
  },
  {
   "cell_type": "code",
   "execution_count": 42,
   "metadata": {},
   "outputs": [
    {
     "name": "stdout",
     "output_type": "stream",
     "text": [
      "num_errors: 4890\n"
     ]
    }
   ],
   "source": [
    "# Soft Grid info\n",
    "\n",
    "result = cpp_soft_info.decode_IQ_fast(model, IQ_data,\n",
    "                                           ROUNDS, int(LOGICAL), _RESETS, simulator.qubit_mapping, simulator.grid_dict,\n",
    "                                           simulator.processed_scaler_dict, _detailed=_DETAILED, nb_intervals=-1)\n",
    "\n",
    "print(f\"num_errors: {result.num_errors}\")"
   ]
  },
  {
   "cell_type": "code",
   "execution_count": 47,
   "metadata": {},
   "outputs": [
    {
     "name": "stdout",
     "output_type": "stream",
     "text": [
      "num_errors: 2333\n"
     ]
    }
   ],
   "source": [
    "# Hard decoder\n",
    "# p_meas = 0.02\n",
    "p_meas = -1\n",
    "\n",
    "result_informed = cpp_soft_info.decode_IQ_shots_flat_informed(model, IQ_data[:],\n",
    "                                           ROUNDS, int(LOGICAL), _RESETS, simulator.qubit_mapping, simulator.grid_dict, simulator.processed_scaler_dict,\n",
    "                                           p_data = -1, p_mixed = -1, p_meas = p_meas, common_measure=-1, _detailed=_DETAILED, _ntnn_edges = not _RESETS)\n",
    "\n",
    "print(f\"num_errors: {result_informed.num_errors}\")"
   ]
  }
 ],
 "metadata": {
  "kernelspec": {
   "display_name": "Soft-Info-fMUpUe5a",
   "language": "python",
   "name": "python3"
  },
  "language_info": {
   "codemirror_mode": {
    "name": "ipython",
    "version": 3
   },
   "file_extension": ".py",
   "mimetype": "text/x-python",
   "name": "python",
   "nbconvert_exporter": "python",
   "pygments_lexer": "ipython3",
   "version": "3.11.4"
  }
 },
 "nbformat": 4,
 "nbformat_minor": 2
}
