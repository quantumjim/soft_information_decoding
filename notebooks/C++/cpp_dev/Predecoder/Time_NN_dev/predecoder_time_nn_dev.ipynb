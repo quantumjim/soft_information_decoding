{
 "cells": [
  {
   "cell_type": "markdown",
   "metadata": {},
   "source": [
    "# Initialization"
   ]
  },
  {
   "cell_type": "code",
   "execution_count": 1,
   "metadata": {},
   "outputs": [],
   "source": [
    "%reload_ext autoreload\n",
    "%autoreload 2"
   ]
  },
  {
   "cell_type": "code",
   "execution_count": 2,
   "metadata": {},
   "outputs": [],
   "source": [
    "from result_saver import SaverProvider\n",
    "\n",
    "provider = SaverProvider()"
   ]
  },
  {
   "cell_type": "markdown",
   "metadata": {},
   "source": [
    "# Initialize simulator"
   ]
  },
  {
   "cell_type": "code",
   "execution_count": 88,
   "metadata": {},
   "outputs": [],
   "source": [
    "from soft_info import RepCodeIQSimulator\n",
    "\n",
    "DEVICE = 'ibm_sherbrooke'\n",
    "DISTANCE = 7\n",
    "ROUNDS = 7\n",
    "OTHER_DATE = '2023-10-27'\n",
    "_RESETS = True\n",
    "LOGICAL = 0 # NOT NEEDED FOR EXTREME IQ BCS HARDCODED 0\n",
    "\n",
    "_is_hex = True\n",
    "if DEVICE == 'ibmq_mumbai':\n",
    "    _is_hex = False\n",
    "\n",
    "# Initialize simulator\n",
    "simulator = RepCodeIQSimulator(provider, DISTANCE, ROUNDS, DEVICE, _is_hex=_is_hex, _resets = _RESETS, other_date=OTHER_DATE)"
   ]
  },
  {
   "cell_type": "markdown",
   "metadata": {},
   "source": [
    "# Get IQ data"
   ]
  },
  {
   "cell_type": "code",
   "execution_count": 89,
   "metadata": {},
   "outputs": [],
   "source": [
    "SHOTS = int(1e4)\n",
    "NOISE_LIST = [3e-2, 0.8e-2, 1e-2, 3e-2] # [two-qubit-fidelity, reset error, measurement error, idle error]\n",
    "# NOISE_LIST = None\n",
    "P_AMBIG = 0.1\n",
    "\n",
    "IQ_data = simulator.generate_IQ(SHOTS, noise_list=NOISE_LIST)\n",
    "# IQ_data_extreme = simulator.generate_extreme_IQ(SHOTS, P_AMBIG, noise_list=NOISE_LIST)"
   ]
  },
  {
   "cell_type": "markdown",
   "metadata": {},
   "source": [
    "# Decode using predecoder"
   ]
  },
  {
   "cell_type": "code",
   "execution_count": 91,
   "metadata": {},
   "outputs": [],
   "source": [
    "import pymatching\n",
    "import stim\n",
    "import cpp_soft_info\n",
    "import numpy as np\n",
    "\n",
    "model = simulator.stim_circ.detector_error_model(decompose_errors=False)\n",
    "matching = pymatching.Matching.from_detector_error_model(model)"
   ]
  },
  {
   "cell_type": "code",
   "execution_count": 92,
   "metadata": {},
   "outputs": [
    {
     "name": "stdout",
     "output_type": "stream",
     "text": [
      "num_errors: 122\n",
      "mean num removed edges: 0.0872\n",
      "num removed edges: 872\n"
     ]
    }
   ],
   "source": [
    "_DETAILED = True\n",
    "\n",
    "result_predecoder = cpp_soft_info.decode_time_nn_predecode_grid(model, IQ_data[:], ROUNDS, int(LOGICAL), _RESETS, simulator.qubit_mapping, simulator.grid_dict,\n",
    "                                           simulator.processed_scaler_dict, _detailed=_DETAILED, threshold=0.15, _ntnn_edges = not _RESETS)\n",
    "\n",
    "\n",
    "print(f\"num_errors: {result_predecoder.decode_result.num_errors}\")\n",
    "print(f\"mean num removed edges: {np.mean(result_predecoder.nb_rm_edges)}\")\n",
    "print(f\"num removed edges: {np.sum(result_predecoder.nb_rm_edges)}\")"
   ]
  },
  {
   "cell_type": "code",
   "execution_count": 93,
   "metadata": {},
   "outputs": [
    {
     "name": "stdout",
     "output_type": "stream",
     "text": [
      "threshold: 0.0, num_errors: 259, mean num removed edges: 1.6781, num removed edges: 16781\n",
      "threshold: 0.021052631578947368, num_errors: 132, mean num removed edges: 0.2667, num removed edges: 2667\n",
      "threshold: 0.042105263157894736, num_errors: 120, mean num removed edges: 0.1534, num removed edges: 1534\n",
      "threshold: 0.06315789473684211, num_errors: 121, mean num removed edges: 0.1275, num removed edges: 1275\n",
      "threshold: 0.08421052631578947, num_errors: 123, mean num removed edges: 0.1131, num removed edges: 1131\n",
      "threshold: 0.10526315789473684, num_errors: 122, mean num removed edges: 0.1021, num removed edges: 1021\n",
      "threshold: 0.12631578947368421, num_errors: 122, mean num removed edges: 0.0934, num removed edges: 934\n",
      "threshold: 0.14736842105263157, num_errors: 122, mean num removed edges: 0.0877, num removed edges: 877\n",
      "threshold: 0.16842105263157894, num_errors: 121, mean num removed edges: 0.0823, num removed edges: 823\n",
      "threshold: 0.18947368421052632, num_errors: 121, mean num removed edges: 0.0768, num removed edges: 768\n",
      "threshold: 0.21052631578947367, num_errors: 121, mean num removed edges: 0.0726, num removed edges: 726\n",
      "threshold: 0.23157894736842105, num_errors: 121, mean num removed edges: 0.0684, num removed edges: 684\n",
      "threshold: 0.25263157894736843, num_errors: 122, mean num removed edges: 0.0636, num removed edges: 636\n",
      "threshold: 0.2736842105263158, num_errors: 122, mean num removed edges: 0.0586, num removed edges: 586\n",
      "threshold: 0.29473684210526313, num_errors: 122, mean num removed edges: 0.0528, num removed edges: 528\n",
      "threshold: 0.3157894736842105, num_errors: 122, mean num removed edges: 0.0467, num removed edges: 467\n",
      "threshold: 0.3368421052631579, num_errors: 122, mean num removed edges: 0.042, num removed edges: 420\n",
      "threshold: 0.35789473684210527, num_errors: 122, mean num removed edges: 0.0371, num removed edges: 371\n",
      "threshold: 0.37894736842105264, num_errors: 122, mean num removed edges: 0.0313, num removed edges: 313\n",
      "threshold: 0.4, num_errors: 123, mean num removed edges: 0.0257, num removed edges: 257\n"
     ]
    }
   ],
   "source": [
    "for threshold in np.linspace(0, 0.4, 20):\n",
    "    result_predecoder = cpp_soft_info.decode_time_nn_predecode_grid(model, IQ_data[:], ROUNDS, int(LOGICAL), _RESETS, simulator.qubit_mapping, simulator.grid_dict,\n",
    "                                               simulator.processed_scaler_dict, _detailed=_DETAILED, threshold=threshold, _ntnn_edges = not _RESETS)\n",
    "    print(f\"threshold: {threshold}, num_errors: {result_predecoder.decode_result.num_errors}, mean num removed edges: {np.mean(result_predecoder.nb_rm_edges)}, num removed edges: {np.sum(result_predecoder.nb_rm_edges)}\")"
   ]
  },
  {
   "cell_type": "code",
   "execution_count": 94,
   "metadata": {},
   "outputs": [
    {
     "name": "stdout",
     "output_type": "stream",
     "text": [
      "num_errors: 130\n"
     ]
    }
   ],
   "source": [
    "# Soft Grid info\n",
    "\n",
    "result = cpp_soft_info.decode_IQ_fast(model, IQ_data,\n",
    "                                           ROUNDS, int(LOGICAL), _RESETS, simulator.qubit_mapping, simulator.grid_dict,\n",
    "                                           simulator.processed_scaler_dict, _detailed=_DETAILED, nb_intervals=-1)\n",
    "\n",
    "print(f\"num_errors: {result.num_errors}\")"
   ]
  },
  {
   "cell_type": "code",
   "execution_count": 95,
   "metadata": {},
   "outputs": [
    {
     "name": "stdout",
     "output_type": "stream",
     "text": [
      "num_errors: 125\n"
     ]
    }
   ],
   "source": [
    "# Hard decoder\n",
    "# p_meas = 0.02\n",
    "p_meas = -1\n",
    "\n",
    "result_informed = cpp_soft_info.decode_IQ_shots_flat_informed(model, IQ_data[:],\n",
    "                                           ROUNDS, int(LOGICAL), _RESETS, simulator.qubit_mapping, simulator.grid_dict, simulator.processed_scaler_dict,\n",
    "                                           p_data = -1, p_mixed = -1, p_meas = p_meas, common_measure=-1, _detailed=_DETAILED, _ntnn_edges = not _RESETS)\n",
    "\n",
    "print(f\"num_errors: {result_informed.num_errors}\")"
   ]
  },
  {
   "cell_type": "markdown",
   "metadata": {},
   "source": []
  }
 ],
 "metadata": {
  "kernelspec": {
   "display_name": "Soft-Info-fMUpUe5a",
   "language": "python",
   "name": "python3"
  },
  "language_info": {
   "codemirror_mode": {
    "name": "ipython",
    "version": 3
   },
   "file_extension": ".py",
   "mimetype": "text/x-python",
   "name": "python",
   "nbconvert_exporter": "python",
   "pygments_lexer": "ipython3",
   "version": "3.11.4"
  }
 },
 "nbformat": 4,
 "nbformat_minor": 2
}
