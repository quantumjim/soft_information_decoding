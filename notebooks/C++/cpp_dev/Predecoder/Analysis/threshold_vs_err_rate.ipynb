{
 "cells": [
  {
   "cell_type": "markdown",
   "metadata": {},
   "source": [
    "# Initialization"
   ]
  },
  {
   "cell_type": "code",
   "execution_count": 1,
   "metadata": {},
   "outputs": [],
   "source": [
    "%reload_ext autoreload\n",
    "%autoreload 2"
   ]
  },
  {
   "cell_type": "code",
   "execution_count": 2,
   "metadata": {},
   "outputs": [],
   "source": [
    "from result_saver import SaverProvider\n",
    "\n",
    "provider = SaverProvider()"
   ]
  },
  {
   "cell_type": "markdown",
   "metadata": {},
   "source": [
    "# Initialize simulator"
   ]
  },
  {
   "cell_type": "code",
   "execution_count": 3,
   "metadata": {},
   "outputs": [
    {
     "name": "stdout",
     "output_type": "stream",
     "text": [
      "Found jobs for backend ibm_sherbrooke with closest execution date 2023-10-27 08:32:22.841567+00:00.\n",
      "Found jobs for backend ibm_sherbrooke with closest execution date 2023-10-27 08:32:22.841567+00:00.\n",
      "Searching for ibm_sherbrooke and 23.10.27_07h46_300pts_2std\n"
     ]
    }
   ],
   "source": [
    "from soft_info import RepCodeIQSimulator\n",
    "\n",
    "DEVICE = 'ibm_sherbrooke'\n",
    "DISTANCE = 3\n",
    "ROUNDS = 3\n",
    "OTHER_DATE = '2023-10-27'\n",
    "_RESETS = False\n",
    "LOGICAL = 0 # NOT NEEDED FOR EXTREME IQ BCS HARDCODED 0\n",
    "\n",
    "NOISE_LIST = [3e-2, 0.8e-2, 1e-2, 3e-2] # [two-qubit-fidelity, reset error, measurement error, idle error]\n",
    "# NOISE_LIST = [noise * 2 for noise in NOISE_LIST]\n",
    "\n",
    "_is_hex = True\n",
    "if DEVICE == 'ibmq_mumbai':\n",
    "    _is_hex = False\n",
    "\n",
    "# Initialize simulator\n",
    "simulator = RepCodeIQSimulator(provider, DISTANCE, ROUNDS, DEVICE, _is_hex=_is_hex, _resets = _RESETS, other_date=OTHER_DATE)"
   ]
  },
  {
   "cell_type": "markdown",
   "metadata": {},
   "source": [
    "# Loop function"
   ]
  },
  {
   "cell_type": "code",
   "execution_count": 4,
   "metadata": {},
   "outputs": [],
   "source": [
    "from tqdm import tqdm\n",
    "import json\n",
    "from src import cpp_soft_info\n",
    "import pymatching\n",
    "import numpy as np\n",
    "\n",
    "def func(distance, rounds, resets=False, shots = 1e5, p_meas = -1, thresholds = np.linspace(0, 0.5, 11)):\n",
    "    # Initialize simulator\n",
    "    simulator = RepCodeIQSimulator(provider, distance, rounds, DEVICE, _is_hex=_is_hex, _resets = resets, other_date=OTHER_DATE)\n",
    "    IQ_data= simulator.generate_IQ(int(shots), noise_list=NOISE_LIST, verbose=False)\n",
    "    print(\"Generated IQ data\")\n",
    "\n",
    "    # Run decoding\n",
    "    result_informed = cpp_soft_info.decode_IQ_shots_flat_informed(simulator.stim_circ.detector_error_model(decompose_errors=False), IQ_data,\n",
    "                                        rounds, int(LOGICAL), resets, simulator.qubit_mapping, simulator.grid_dict, simulator.processed_scaler_dict,\n",
    "                                        p_data = -1, p_mixed = -1, p_meas = p_meas, common_measure=-1, _detailed=False, _ntnn_edges = not resets)\n",
    "\n",
    "    result_predecoders = []\n",
    "    for threshold in tqdm(thresholds, desc='Decoding for different thresholds'):\n",
    "        result_predecoders.append(cpp_soft_info.decode_time_nn_predecode_grid(simulator.stim_circ.detector_error_model(decompose_errors=False), IQ_data, rounds, int(LOGICAL), \n",
    "                                                                              resets, simulator.qubit_mapping, simulator.grid_dict, \n",
    "                                                                              simulator.processed_scaler_dict, _detailed=False, \n",
    "                                                                              threshold=threshold, _ntnn_edges = not resets))\n",
    "   \n",
    "    return result_predecoders, result_informed\n",
    "    # return result_informed\n"
   ]
  },
  {
   "cell_type": "code",
   "execution_count": 5,
   "metadata": {},
   "outputs": [
    {
     "data": {
      "text/plain": [
       "[31, 35, 37, 41, 43, 47, 49, 53, 55]"
      ]
     },
     "execution_count": 5,
     "metadata": {},
     "output_type": "execute_result"
    }
   ],
   "source": [
    "import numpy as np\n",
    "\n",
    "# distances = np.linspace(5, 31, 10)\n",
    "distances = [31, 35, 37, 41, 43, 47, 49, 53, 55]\n",
    "distances"
   ]
  },
  {
   "cell_type": "code",
   "execution_count": 7,
   "metadata": {},
   "outputs": [
    {
     "name": "stderr",
     "output_type": "stream",
     "text": [
      "Simulating for distance:   0%|          | 0/9 [00:00<?, ?it/s]"
     ]
    },
    {
     "name": "stdout",
     "output_type": "stream",
     "text": [
      "Generated IQ data\n"
     ]
    },
    {
     "name": "stderr",
     "output_type": "stream",
     "text": [
      "Decoding for different thresholds: 100%|██████████| 31/31 [1:22:11<00:00, 159.08s/it]\n",
      "Simulating for distance:  11%|█         | 1/9 [1:48:26<14:27:32, 6506.51s/it]"
     ]
    },
    {
     "name": "stdout",
     "output_type": "stream",
     "text": [
      "Generated IQ data\n"
     ]
    },
    {
     "name": "stderr",
     "output_type": "stream",
     "text": [
      "Decoding for different thresholds: 100%|██████████| 31/31 [1:50:10<00:00, 213.25s/it]\n",
      "Simulating for distance:  22%|██▏       | 2/9 [4:12:06<15:04:06, 7749.50s/it]"
     ]
    },
    {
     "name": "stdout",
     "output_type": "stream",
     "text": [
      "Generated IQ data\n"
     ]
    },
    {
     "name": "stderr",
     "output_type": "stream",
     "text": [
      "Decoding for different thresholds: 100%|██████████| 31/31 [2:04:43<00:00, 241.41s/it]\n",
      "Simulating for distance:  33%|███▎      | 3/9 [6:54:40<14:26:28, 8664.80s/it]"
     ]
    },
    {
     "name": "stdout",
     "output_type": "stream",
     "text": [
      "Generated IQ data\n"
     ]
    },
    {
     "name": "stderr",
     "output_type": "stream",
     "text": [
      "Decoding for different thresholds: 100%|██████████| 31/31 [2:52:32<00:00, 333.97s/it]\n",
      "Simulating for distance:  44%|████▍     | 4/9 [10:34:39<14:31:14, 10454.81s/it]"
     ]
    },
    {
     "name": "stdout",
     "output_type": "stream",
     "text": [
      "Generated IQ data\n"
     ]
    },
    {
     "name": "stderr",
     "output_type": "stream",
     "text": [
      "Decoding for different thresholds: 100%|██████████| 31/31 [4:16:05<00:00, 495.67s/it]\n",
      "Simulating for distance:  56%|█████▌    | 5/9 [15:57:39<12:46:07, 11491.87s/it]\n"
     ]
    },
    {
     "name": "stdout",
     "output_type": "stream",
     "text": [
      "Unexpected exception formatting exception. Falling back to standard exception\n"
     ]
    },
    {
     "name": "stderr",
     "output_type": "stream",
     "text": [
      "Traceback (most recent call last):\n",
      "  File \"/Users/mha/.local/share/virtualenvs/Soft-Info-fMUpUe5a/lib/python3.11/site-packages/IPython/core/interactiveshell.py\", line 3553, in run_code\n",
      "    exec(code_obj, self.user_global_ns, self.user_ns)\n",
      "  File \"/var/folders/_3/n7zzdff5239886c9gmhrk6yr0000gn/T/ipykernel_7014/1467620110.py\", line 30, in <module>\n",
      "    result_predecoders, result_informed = func(distance, rounds, shots = shots, p_meas=p_meas, thresholds=thresholds, resets=_RESETS)\n",
      "                                          ^^^^^^^^^^^^^^^^^^^^^^^^^^^^^^^^^^^^^^^^^^^^^^^^^^^^^^^^^^^^^^^^^^^^^^^^^^^^^^^^^^^^^^^^^^^\n",
      "  File \"/var/folders/_3/n7zzdff5239886c9gmhrk6yr0000gn/T/ipykernel_7014/2196693173.py\", line 10, in func\n",
      "    IQ_data= simulator.generate_IQ(int(shots), noise_list=NOISE_LIST, verbose=False)\n",
      "             ^^^^^^^^^^^^^^^^^^^^^^^^^^^^^^^^^^^^^^^^^^^^^^^^^^^^^^^^^^^^^^^^^^^^^^^\n",
      "  File \"/Users/mha/My_Drive/Desktop/Studium/Physik/MSc/Semester_3/IBM/IBM_GIT/Soft-Info/src/soft_info/IQ_data/simulator.py\", line 337, in generate_IQ\n",
      "    counts = self.get_counts(shots, self.stim_circ, verbose)\n",
      "             ^^^^^^^^^^^^^^^^^^^^^^^^^^^^^^^^^^^^^^^^^^^^^^^\n",
      "  File \"/Users/mha/My_Drive/Desktop/Studium/Physik/MSc/Semester_3/IBM/IBM_GIT/Soft-Info/src/soft_info/IQ_data/simulator.py\", line -1, in get_counts\n",
      "KeyboardInterrupt\n",
      "\n",
      "During handling of the above exception, another exception occurred:\n",
      "\n",
      "Traceback (most recent call last):\n",
      "  File \"/Users/mha/.local/share/virtualenvs/Soft-Info-fMUpUe5a/lib/python3.11/site-packages/IPython/core/interactiveshell.py\", line 2144, in showtraceback\n",
      "    stb = self.InteractiveTB.structured_traceback(\n",
      "          ^^^^^^^^^^^^^^^^^^^^^^^^^^^^^^^^^^^^^^^^\n",
      "  File \"/Users/mha/.local/share/virtualenvs/Soft-Info-fMUpUe5a/lib/python3.11/site-packages/IPython/core/ultratb.py\", line 1435, in structured_traceback\n",
      "    return FormattedTB.structured_traceback(\n",
      "           ^^^^^^^^^^^^^^^^^^^^^^^^^^^^^^^^^\n",
      "  File \"/Users/mha/.local/share/virtualenvs/Soft-Info-fMUpUe5a/lib/python3.11/site-packages/IPython/core/ultratb.py\", line 1326, in structured_traceback\n",
      "    return VerboseTB.structured_traceback(\n",
      "           ^^^^^^^^^^^^^^^^^^^^^^^^^^^^^^^\n",
      "  File \"/Users/mha/.local/share/virtualenvs/Soft-Info-fMUpUe5a/lib/python3.11/site-packages/IPython/core/ultratb.py\", line 1173, in structured_traceback\n",
      "    formatted_exception = self.format_exception_as_a_whole(etype, evalue, etb, number_of_lines_of_context,\n",
      "                          ^^^^^^^^^^^^^^^^^^^^^^^^^^^^^^^^^^^^^^^^^^^^^^^^^^^^^^^^^^^^^^^^^^^^^^^^^^^^^^^^\n",
      "  File \"/Users/mha/.local/share/virtualenvs/Soft-Info-fMUpUe5a/lib/python3.11/site-packages/IPython/core/ultratb.py\", line 1088, in format_exception_as_a_whole\n",
      "    frames.append(self.format_record(record))\n",
      "                  ^^^^^^^^^^^^^^^^^^^^^^^^^^\n",
      "  File \"/Users/mha/.local/share/virtualenvs/Soft-Info-fMUpUe5a/lib/python3.11/site-packages/IPython/core/ultratb.py\", line 970, in format_record\n",
      "    frame_info.lines, Colors, self.has_colors, lvals\n",
      "    ^^^^^^^^^^^^^^^^\n",
      "  File \"/Users/mha/.local/share/virtualenvs/Soft-Info-fMUpUe5a/lib/python3.11/site-packages/IPython/core/ultratb.py\", line 792, in lines\n",
      "    return self._sd.lines\n",
      "           ^^^^^^^^^^^^^^\n",
      "  File \"/Users/mha/.local/share/virtualenvs/Soft-Info-fMUpUe5a/lib/python3.11/site-packages/stack_data/utils.py\", line 145, in cached_property_wrapper\n",
      "    value = obj.__dict__[self.func.__name__] = self.func(obj)\n",
      "                                               ^^^^^^^^^^^^^^\n",
      "  File \"/Users/mha/.local/share/virtualenvs/Soft-Info-fMUpUe5a/lib/python3.11/site-packages/stack_data/core.py\", line 734, in lines\n",
      "    pieces = self.included_pieces\n",
      "             ^^^^^^^^^^^^^^^^^^^^\n",
      "  File \"/Users/mha/.local/share/virtualenvs/Soft-Info-fMUpUe5a/lib/python3.11/site-packages/stack_data/utils.py\", line 145, in cached_property_wrapper\n",
      "    value = obj.__dict__[self.func.__name__] = self.func(obj)\n",
      "                                               ^^^^^^^^^^^^^^\n",
      "  File \"/Users/mha/.local/share/virtualenvs/Soft-Info-fMUpUe5a/lib/python3.11/site-packages/stack_data/core.py\", line 681, in included_pieces\n",
      "    pos = scope_pieces.index(self.executing_piece)\n",
      "                             ^^^^^^^^^^^^^^^^^^^^\n",
      "  File \"/Users/mha/.local/share/virtualenvs/Soft-Info-fMUpUe5a/lib/python3.11/site-packages/stack_data/utils.py\", line 145, in cached_property_wrapper\n",
      "    value = obj.__dict__[self.func.__name__] = self.func(obj)\n",
      "                                               ^^^^^^^^^^^^^^\n",
      "  File \"/Users/mha/.local/share/virtualenvs/Soft-Info-fMUpUe5a/lib/python3.11/site-packages/stack_data/core.py\", line 660, in executing_piece\n",
      "    return only(\n",
      "           ^^^^^\n",
      "  File \"/Users/mha/.local/share/virtualenvs/Soft-Info-fMUpUe5a/lib/python3.11/site-packages/executing/executing.py\", line 116, in only\n",
      "    raise NotOneValueFound('Expected one value, found 0')\n",
      "executing.executing.NotOneValueFound: Expected one value, found 0\n"
     ]
    }
   ],
   "source": [
    "import numpy as np\n",
    "from tqdm import tqdm\n",
    "\n",
    "shots = int(1e6) \n",
    "p_meas = -1\n",
    "\n",
    "file_str = f'../results/threshold_vs_err_rate.json'\n",
    "\n",
    "for i in tqdm(distances, desc='Simulating for distance'):\n",
    "\n",
    "    if i < 16:\n",
    "        continue\n",
    "\n",
    "    if int(i)%2 == 0: # only simulate odd distances\n",
    "        i = int(i)+1\n",
    "    \n",
    "    i = int(i)\n",
    "\n",
    "    # Save results\n",
    "    with open(file_str, 'r') as f:\n",
    "        data = json.load(f)\n",
    "   \n",
    "\n",
    "    distance = i\n",
    "    rounds = i     \n",
    "\n",
    "\n",
    "    thresholds = np.linspace(0, 0.5, 31)\n",
    "\n",
    "    result_predecoders, result_informed = func(distance, rounds, shots = shots, p_meas=p_meas, thresholds=thresholds, resets=_RESETS)\n",
    "    # result_informed = func(distance, rounds, shots = shots, p_meas=p_meas)\n",
    "\n",
    "    # num errors predecoder\n",
    "    num_errors = [result.decode_result.num_errors for result in result_predecoders]\n",
    "    nb_rm_edges = [np.mean(result.nb_rm_edges) for result in result_predecoders]\n",
    "\n",
    "    data[str((distance, rounds))] = {'predecoder': {'num_errors': num_errors, 'nb_rm_edges': nb_rm_edges, \n",
    "                                                    'thresholds': list(thresholds)}, 'informed': result_informed.num_errors, \n",
    "                                                    'shots': shots, 'p_meas': p_meas, 'resets': _RESETS, 'noise': NOISE_LIST}\n",
    "\n",
    "    # data[str((distance, rounds))] = {'informed': result_informed.num_errors, shots: shots, 'p_meas': p_meas, 'resets': _RESETS, 'noise': NOISE_LIST}\n",
    "\n",
    "    with open(file_str, 'w') as f:\n",
    "        json.dump(data, f, indent=4)\n"
   ]
  },
  {
   "cell_type": "code",
   "execution_count": null,
   "metadata": {},
   "outputs": [],
   "source": []
  }
 ],
 "metadata": {
  "kernelspec": {
   "display_name": "Soft-Info-fMUpUe5a",
   "language": "python",
   "name": "python3"
  },
  "language_info": {
   "codemirror_mode": {
    "name": "ipython",
    "version": 3
   },
   "file_extension": ".py",
   "mimetype": "text/x-python",
   "name": "python",
   "nbconvert_exporter": "python",
   "pygments_lexer": "ipython3",
   "version": "3.11.4"
  }
 },
 "nbformat": 4,
 "nbformat_minor": 2
}
