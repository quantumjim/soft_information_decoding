{
 "cells": [
  {
   "cell_type": "code",
   "execution_count": 1,
   "metadata": {},
   "outputs": [],
   "source": [
    "from qiskit_qec.circuits import RepetitionCodeCircuit"
   ]
  },
  {
   "cell_type": "code",
   "execution_count": 2,
   "metadata": {},
   "outputs": [],
   "source": [
    "code = RepetitionCodeCircuit(3, 2)"
   ]
  },
  {
   "cell_type": "code",
   "execution_count": 5,
   "metadata": {},
   "outputs": [
    {
     "data": {
      "text/html": [
       "<pre style=\"word-wrap: normal;white-space: pre;background: #fff0;line-height: 1.1;font-family: &quot;Courier New&quot;,Courier,monospace\">                    ┌───┐     ┌───┐     ┌─┐   ┌───┐     ┌───┐        ┌─┐         \n",
       "      link_qubit_0: ┤ X ├─────┤ X ├─────┤M├───┤ X ├─────┤ X ├────────┤M├─────────\n",
       "                    └─┬─┘┌───┐└─┬─┘┌───┐└╥┘┌─┐└─┬─┘┌───┐└─┬─┘┌───┐   └╥┘┌─┐      \n",
       "      link_qubit_1: ──┼──┤ X ├──┼──┤ X ├─╫─┤M├──┼──┤ X ├──┼──┤ X ├────╫─┤M├──────\n",
       "                      │  └─┬─┘  │  └─┬─┘ ║ └╥┘  │  └─┬─┘  │  └─┬─┘┌─┐ ║ └╥┘      \n",
       "      code_qubit_0: ──■────┼────┼────┼───╫──╫───■────┼────┼────┼──┤M├─╫──╫───────\n",
       "                           │    │    │   ║  ║        │    │    │  └╥┘ ║  ║ ┌─┐   \n",
       "      code_qubit_1: ───────■────■────┼───╫──╫────────■────■────┼───╫──╫──╫─┤M├───\n",
       "                                     │   ║  ║                  │   ║  ║  ║ └╥┘┌─┐\n",
       "      code_qubit_2: ─────────────────■───╫──╫──────────────────■───╫──╫──╫──╫─┤M├\n",
       "                                         ║  ║                      ║  ║  ║  ║ └╥┘\n",
       "round_0_link_bit: 2/═════════════════════╩══╩══════════════════════╬══╬══╬══╬══╬═\n",
       "                                         0  1                      ║  ║  ║  ║  ║ \n",
       "round_1_link_bit: 2/═══════════════════════════════════════════════╬══╩══╩══╬══╬═\n",
       "                                                                   ║  0  1  ║  ║ \n",
       "        code_bit: 3/═══════════════════════════════════════════════╩════════╩══╩═\n",
       "                                                                   0        1  2 </pre>"
      ],
      "text/plain": [
       "                    ┌───┐     ┌───┐     ┌─┐   ┌───┐     ┌───┐        ┌─┐         \n",
       "      link_qubit_0: ┤ X ├─────┤ X ├─────┤M├───┤ X ├─────┤ X ├────────┤M├─────────\n",
       "                    └─┬─┘┌───┐└─┬─┘┌───┐└╥┘┌─┐└─┬─┘┌───┐└─┬─┘┌───┐   └╥┘┌─┐      \n",
       "      link_qubit_1: ──┼──┤ X ├──┼──┤ X ├─╫─┤M├──┼──┤ X ├──┼──┤ X ├────╫─┤M├──────\n",
       "                      │  └─┬─┘  │  └─┬─┘ ║ └╥┘  │  └─┬─┘  │  └─┬─┘┌─┐ ║ └╥┘      \n",
       "      code_qubit_0: ──■────┼────┼────┼───╫──╫───■────┼────┼────┼──┤M├─╫──╫───────\n",
       "                           │    │    │   ║  ║        │    │    │  └╥┘ ║  ║ ┌─┐   \n",
       "      code_qubit_1: ───────■────■────┼───╫──╫────────■────■────┼───╫──╫──╫─┤M├───\n",
       "                                     │   ║  ║                  │   ║  ║  ║ └╥┘┌─┐\n",
       "      code_qubit_2: ─────────────────■───╫──╫──────────────────■───╫──╫──╫──╫─┤M├\n",
       "                                         ║  ║                      ║  ║  ║  ║ └╥┘\n",
       "round_0_link_bit: 2/═════════════════════╩══╩══════════════════════╬══╬══╬══╬══╬═\n",
       "                                         0  1                      ║  ║  ║  ║  ║ \n",
       "round_1_link_bit: 2/═══════════════════════════════════════════════╬══╩══╩══╬══╬═\n",
       "                                                                   ║  0  1  ║  ║ \n",
       "        code_bit: 3/═══════════════════════════════════════════════╩════════╩══╩═\n",
       "                                                                   0        1  2 "
      ]
     },
     "execution_count": 5,
     "metadata": {},
     "output_type": "execute_result"
    }
   ],
   "source": [
    "qc = code.circuit[\"0\"]\n",
    "qc.draw(fold=-1)"
   ]
  }
 ],
 "metadata": {
  "kernelspec": {
   "display_name": "Soft-Info-fMUpUe5a",
   "language": "python",
   "name": "python3"
  },
  "language_info": {
   "codemirror_mode": {
    "name": "ipython",
    "version": 3
   },
   "file_extension": ".py",
   "mimetype": "text/x-python",
   "name": "python",
   "nbconvert_exporter": "python",
   "pygments_lexer": "ipython3",
   "version": "3.11.4"
  }
 },
 "nbformat": 4,
 "nbformat_minor": 2
}
