{
 "cells": [
  {
   "cell_type": "markdown",
   "metadata": {},
   "source": [
    "# Initialization"
   ]
  },
  {
   "cell_type": "code",
   "execution_count": 1,
   "metadata": {},
   "outputs": [],
   "source": [
    "%reload_ext autoreload\n",
    "%autoreload 2"
   ]
  },
  {
   "cell_type": "code",
   "execution_count": 2,
   "metadata": {},
   "outputs": [],
   "source": [
    "from result_saver import SaverProvider\n",
    "\n",
    "provider = SaverProvider()"
   ]
  },
  {
   "cell_type": "markdown",
   "metadata": {},
   "source": [
    "# Generate IQ data"
   ]
  },
  {
   "cell_type": "code",
   "execution_count": 3,
   "metadata": {},
   "outputs": [
    {
     "name": "stdout",
     "output_type": "stream",
     "text": [
      "Found jobs for backend ibm_sherbrooke with closest execution date 2023-10-27 08:32:22.841567+00:00.\n"
     ]
    }
   ],
   "source": [
    "from soft_info import RepCodeIQSimulator\n",
    "\n",
    "DEVICE = 'ibm_sherbrooke'\n",
    "DISTANCE = 11\n",
    "ROUNDS = 11\n",
    "OTHER_DATE = '2021-11-11'\n",
    "\n",
    "_is_hex = True\n",
    "if DEVICE == 'ibmq_mumbai':\n",
    "    _is_hex = False\n",
    "\n",
    "# Initialize simulator\n",
    "simulator = RepCodeIQSimulator(provider, DISTANCE, ROUNDS, DEVICE, _is_hex=_is_hex, other_date=OTHER_DATE)"
   ]
  },
  {
   "cell_type": "code",
   "execution_count": 4,
   "metadata": {},
   "outputs": [
    {
     "name": "stdout",
     "output_type": "stream",
     "text": [
      "Found jobs for backend ibm_sherbrooke with closest execution date 2023-10-27 08:32:22.841567+00:00.\n",
      "Searching for ibm_sherbrooke and 23.10.27_07h46_300pts_2std\n"
     ]
    }
   ],
   "source": [
    "from Scratch import create_or_load_kde_grid\n",
    "\n",
    "grid_dict, processed_scaler_dict = create_or_load_kde_grid(provider, tobecalib_backend=DEVICE, \n",
    "                                                           num_grid_points=300, num_std_dev=2, other_date=OTHER_DATE)"
   ]
  },
  {
   "cell_type": "code",
   "execution_count": 121,
   "metadata": {},
   "outputs": [],
   "source": [
    "# Get noise model\n",
    "p1Q = 0\n",
    "pZ = 0\n",
    "pRE = 0\n",
    "pXY = 0\n",
    "\n",
    "p2Q = 0.1e-2\n",
    "pRO = 15e-2\n",
    "\n",
    "p1Q = 1e-4\n",
    "p2Q = 6e-3\n",
    "pXY = 1e-4\n",
    "pZ = 1e-4\n",
    "pRO = 1e-1\n",
    "pRE = 0\n",
    "\n",
    "noise_model = simulator.get_noise_model(p1Q, p2Q, pXY, pZ, pRO, pRE)"
   ]
  },
  {
   "cell_type": "code",
   "execution_count": 122,
   "metadata": {},
   "outputs": [
    {
     "name": "stdout",
     "output_type": "stream",
     "text": [
      "19:09:44 Warning: Getting counts via stim. This may take time.... IN FILE: /Users/mha/My_Drive/Desktop/Studium/Physik/MSc/Semester_3/IBM/IBM_GIT/Soft-Info/src/soft_info/IQ_data/simulator.py, LINE: 43\n"
     ]
    },
    {
     "name": "stderr",
     "output_type": "stream",
     "text": [
      "100%|██████████| 10000/10000 [00:00<00:00, 20501.05it/s]\n"
     ]
    }
   ],
   "source": [
    "SHOTS = int(1e4)\n",
    "LOGICAL = 0\n",
    "IQ_data = simulator.generate_IQ(SHOTS, noise_model=noise_model, logical=LOGICAL)"
   ]
  },
  {
   "cell_type": "markdown",
   "metadata": {},
   "source": [
    "# Decode"
   ]
  },
  {
   "cell_type": "code",
   "execution_count": 123,
   "metadata": {},
   "outputs": [],
   "source": [
    "import pymatching\n",
    "import stim\n",
    "\n",
    "\n",
    "circuit = stim.Circuit.generated(\"repetition_code:memory\",\n",
    "                                distance=DISTANCE,\n",
    "                                rounds=ROUNDS,\n",
    "                                after_clifford_depolarization=p2Q, #two-qubit-fidelity,\n",
    "                                after_reset_flip_probability=pRE, #reset error,\n",
    "                                before_measure_flip_probability=pRO, #measurement error,\n",
    "                                before_round_data_depolarization=pXY + pZ) #idle error)\n",
    "# print(circuit)\n",
    "\n",
    "model = circuit.detector_error_model(decompose_errors=True)\n",
    "matching = pymatching.Matching.from_detector_error_model(model)"
   ]
  },
  {
   "cell_type": "code",
   "execution_count": 124,
   "metadata": {},
   "outputs": [
    {
     "name": "stdout",
     "output_type": "stream",
     "text": [
      "num_errors: 29 out of 10000 shots\n"
     ]
    }
   ],
   "source": [
    "import cpp_soft_info\n",
    "\n",
    "matching = pymatching.Matching.from_detector_error_model(model)\n",
    "# cpp_soft_info.reweight_edges_based_on_error_probs(matching._matching_graph, counts, False, \"spitz\")\n",
    "\n",
    "p_data = 6.869e-1 # mean sherbrooke noise\n",
    "num_errors = cpp_soft_info.decode_IQ_shots(matching._matching_graph, IQ_data,\n",
    "                                           ROUNDS, int(LOGICAL), simulator.qubit_mapping, grid_dict,\n",
    "                                           processed_scaler_dict, p_data=-1, p_mixed=-1, #p_mixed=1e-80, for d=30\n",
    "                                           common_measure=-1, _bimodal=False, merge_strategy = \"smallest-weight\")\n",
    "print(\"num_errors:\", num_errors, \"out of\", len(IQ_data), \"shots\")"
   ]
  },
  {
   "cell_type": "code",
   "execution_count": 125,
   "metadata": {},
   "outputs": [
    {
     "name": "stdout",
     "output_type": "stream",
     "text": [
      "num_errors: 139 out of 10000 shots\n"
     ]
    }
   ],
   "source": [
    "matching = pymatching.Matching.from_detector_error_model(model)\n",
    "num_errors = cpp_soft_info.decode_IQ_shots_flat(matching._matching_graph, IQ_data,\n",
    "                                           ROUNDS, int(LOGICAL), simulator.qubit_mapping, grid_dict,\n",
    "                                           processed_scaler_dict)\n",
    "print(\"num_errors:\", num_errors, \"out of\", len(IQ_data), \"shots\")\n"
   ]
  },
  {
   "cell_type": "code",
   "execution_count": 127,
   "metadata": {},
   "outputs": [
    {
     "name": "stdout",
     "output_type": "stream",
     "text": [
      "num_errors: 13 out of 10000 shots\n"
     ]
    }
   ],
   "source": [
    "matching = pymatching.Matching.from_detector_error_model(model)\n",
    "\n",
    "import numpy as np\n",
    "def weight_to_prob(weight):\n",
    "    return 1/(1+np.exp(weight))\n",
    "\n",
    "p_data = 1.869e-3# mean sherbrooke ECR error\n",
    "p_mixed = p_data# Same as weighted\n",
    "# p_meas = 1e-3\n",
    "p_meas = 15.900e-2 # random found number\n",
    "\n",
    "\n",
    "p_data = -1\n",
    "p_mixed = -1\n",
    "p_meas = -1\n",
    "\n",
    "num_errors = cpp_soft_info.decode_IQ_shots_flat_informed(matching._matching_graph, IQ_data, \n",
    "                                           ROUNDS, int(LOGICAL), simulator.qubit_mapping, grid_dict, processed_scaler_dict,\n",
    "                                           p_data = p_data, p_mixed = p_mixed, p_meas = p_meas, common_measure=-1)\n",
    "\n",
    "print(\"num_errors:\", num_errors, \"out of\", len(IQ_data), \"shots\")\n",
    "         \n",
    "# takes 1s"
   ]
  },
  {
   "cell_type": "code",
   "execution_count": null,
   "metadata": {},
   "outputs": [],
   "source": []
  }
 ],
 "metadata": {
  "kernelspec": {
   "display_name": "Soft-Info-fMUpUe5a",
   "language": "python",
   "name": "python3"
  },
  "language_info": {
   "codemirror_mode": {
    "name": "ipython",
    "version": 3
   },
   "file_extension": ".py",
   "mimetype": "text/x-python",
   "name": "python",
   "nbconvert_exporter": "python",
   "pygments_lexer": "ipython3",
   "version": "3.11.4"
  }
 },
 "nbformat": 4,
 "nbformat_minor": 2
}
