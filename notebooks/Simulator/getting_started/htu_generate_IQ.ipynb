{
 "cells": [
  {
   "cell_type": "markdown",
   "metadata": {},
   "source": [
    "# Initialization"
   ]
  },
  {
   "cell_type": "code",
   "execution_count": 2,
   "metadata": {},
   "outputs": [],
   "source": [
    "%reload_ext autoreload\n",
    "%autoreload 2"
   ]
  },
  {
   "cell_type": "code",
   "execution_count": 3,
   "metadata": {},
   "outputs": [],
   "source": [
    "from result_saver import SaverProvider\n",
    "\n",
    "provider = SaverProvider()"
   ]
  },
  {
   "cell_type": "code",
   "execution_count": 6,
   "metadata": {},
   "outputs": [
    {
     "name": "stdout",
     "output_type": "stream",
     "text": [
      "Found jobs for backend ibm_sherbrooke with closest execution date 2023-10-27 08:32:22.841567+00:00.\n",
      "Searching for ibm_sherbrooke and 23.10.27_07h46_300pts_2std\n"
     ]
    }
   ],
   "source": [
    "from Scratch import create_or_load_kde_grid\n",
    "\n",
    "grid_dict, processed_scaler_dict = create_or_load_kde_grid(provider, tobecalib_backend=DEVICE, \n",
    "                                                           num_grid_points=300, num_std_dev=2, other_date=OTHER_DATE)"
   ]
  },
  {
   "cell_type": "markdown",
   "metadata": {},
   "source": [
    "# Generate IQ data"
   ]
  },
  {
   "cell_type": "code",
   "execution_count": 5,
   "metadata": {},
   "outputs": [
    {
     "name": "stdout",
     "output_type": "stream",
     "text": [
      "Found jobs for backend ibm_sherbrooke with closest execution date 2023-10-27 08:32:22.841567+00:00.\n"
     ]
    }
   ],
   "source": [
    "from soft_info import RepCodeIQSimulator\n",
    "\n",
    "DEVICE = 'ibm_sherbrooke'\n",
    "DISTANCE = 3\n",
    "ROUNDS = 3\n",
    "OTHER_DATE = '2021-11-11'\n",
    "_RESETS = False\n",
    "\n",
    "_is_hex = True\n",
    "if DEVICE == 'ibmq_mumbai':\n",
    "    _is_hex = False\n",
    "\n",
    "# Initialize simulator\n",
    "simulator = RepCodeIQSimulator(provider, DISTANCE, ROUNDS, DEVICE, _is_hex=_is_hex, _resets = _RESETS, other_date=OTHER_DATE)"
   ]
  },
  {
   "cell_type": "markdown",
   "metadata": {},
   "source": [
    "circuit = simulator.code.circuit[\"0\"] \n",
    "circuit.draw(fold=-1)"
   ]
  },
  {
   "cell_type": "code",
   "execution_count": 7,
   "metadata": {},
   "outputs": [],
   "source": [
    "# Get noise model\n",
    "p1Q = 0\n",
    "pZ = 0\n",
    "pRE = 0\n",
    "pXY = 0\n",
    "\n",
    "p2Q = 1e-2\n",
    "# pRO = 15e-2\n",
    "pRO = 0\n",
    "\n",
    "\n",
    "# p1Q = 1e-4\n",
    "# p2Q = 6e-3\n",
    "# pXY = 1e-4\n",
    "# pZ = 1e-4\n",
    "# pRO = 1e-1\n",
    "# pRE = 1e-3\n",
    "\n",
    "noise_model = simulator.get_noise_model(p1Q, p2Q, pXY, pZ, pRO, pRE)"
   ]
  },
  {
   "cell_type": "code",
   "execution_count": 8,
   "metadata": {},
   "outputs": [
    {
     "name": "stdout",
     "output_type": "stream",
     "text": [
      "17:38:20 Warning: Getting counts via stim. This may take time.... IN FILE: /Users/mha/My_Drive/Desktop/Studium/Physik/MSc/Semester_3/IBM/IBM_GIT/Soft-Info/src/soft_info/IQ_data/simulator.py, LINE: 46\n"
     ]
    },
    {
     "name": "stderr",
     "output_type": "stream",
     "text": [
      "100%|██████████| 20/20 [00:00<00:00, 484.13it/s]\n"
     ]
    }
   ],
   "source": [
    "SHOTS = int(1e4)\n",
    "LOGICAL = 1\n",
    "IQ_data = simulator.generate_IQ(SHOTS, noise_model=noise_model, logical=LOGICAL)"
   ]
  },
  {
   "cell_type": "markdown",
   "metadata": {},
   "source": [
    "# Decode resets = True"
   ]
  },
  {
   "cell_type": "code",
   "execution_count": 9,
   "metadata": {},
   "outputs": [],
   "source": [
    "import pymatching\n",
    "import stim\n",
    "\n",
    "\n",
    "circuit = stim.Circuit.generated(\"repetition_code:memory\",\n",
    "                                distance=DISTANCE,\n",
    "                                rounds=ROUNDS,\n",
    "                                after_clifford_depolarization=p2Q, #two-qubit-fidelity,\n",
    "                                after_reset_flip_probability=pRE, #reset error,\n",
    "                                before_measure_flip_probability=pRO, #measurement error,\n",
    "                                before_round_data_depolarization=pXY + pZ) #idle error)\n",
    "# print(circuit)\n",
    "\n",
    "model = circuit.detector_error_model(decompose_errors=True)\n",
    "matching = pymatching.Matching.from_detector_error_model(model)"
   ]
  },
  {
   "cell_type": "code",
   "execution_count": 10,
   "metadata": {},
   "outputs": [
    {
     "name": "stdout",
     "output_type": "stream",
     "text": [
      "num_errors: 179 out of 10000 shots\n"
     ]
    }
   ],
   "source": [
    "import cpp_soft_info\n",
    "\n",
    "matching = pymatching.Matching.from_detector_error_model(model)\n",
    "# cpp_soft_info.reweight_edges_based_on_error_probs(matching._matching_graph, counts, False, \"spitz\")\n",
    "\n",
    "p_data = 6.869e-1 # mean sherbrooke noise\n",
    "result = cpp_soft_info.decode_IQ_shots(matching._matching_graph, IQ_data,\n",
    "                                           ROUNDS, int(LOGICAL), True, simulator.qubit_mapping, grid_dict,\n",
    "                                           processed_scaler_dict, p_data=-1, p_mixed=-1, #p_mixed=1e-80, for d=30\n",
    "                                           common_measure=-1, _bimodal=True, merge_strategy = \"replace\")\n",
    "print(\"num_errors:\", result.num_errors, \"out of\", len(IQ_data), \"shots\")"
   ]
  },
  {
   "cell_type": "code",
   "execution_count": 13,
   "metadata": {},
   "outputs": [
    {
     "name": "stdout",
     "output_type": "stream",
     "text": [
      "num_errors: 55 out of 10000 shots\n"
     ]
    }
   ],
   "source": [
    "matching = pymatching.Matching.from_detector_error_model(model)\n",
    "num_errors = cpp_soft_info.decode_IQ_shots_flat(matching._matching_graph, IQ_data,\n",
    "                                           ROUNDS, int(LOGICAL), _RESETS, simulator.qubit_mapping, grid_dict,\n",
    "                                           processed_scaler_dict)\n",
    "print(\"num_errors:\", num_errors.num_errors, \"out of\", len(IQ_data), \"shots\")\n"
   ]
  },
  {
   "cell_type": "code",
   "execution_count": 14,
   "metadata": {},
   "outputs": [
    {
     "name": "stdout",
     "output_type": "stream",
     "text": [
      "num_errors: 53 out of 10000 shots\n"
     ]
    }
   ],
   "source": [
    "matching = pymatching.Matching.from_detector_error_model(model)\n",
    "\n",
    "import numpy as np\n",
    "def weight_to_prob(weight):\n",
    "    return 1/(1+np.exp(weight))\n",
    "\n",
    "p_data = 1.869e-3# mean sherbrooke ECR error\n",
    "p_mixed = p_data/10# Same as weighted\n",
    "# p_meas = 1e-3\n",
    "p_meas = 15.900e-2 # random found number\n",
    "\n",
    "\n",
    "p_data = -1\n",
    "p_mixed = -1\n",
    "p_meas = -1\n",
    "\n",
    "num_errors = cpp_soft_info.decode_IQ_shots_flat_informed(matching._matching_graph, IQ_data, \n",
    "                                           ROUNDS, int(LOGICAL), _RESETS, simulator.qubit_mapping, grid_dict, processed_scaler_dict,\n",
    "                                           p_data = p_data, p_mixed = p_mixed, p_meas = p_meas, common_measure=-1)\n",
    "\n",
    "print(\"num_errors:\", num_errors.num_errors, \"out of\", len(IQ_data), \"shots\")\n",
    "         \n",
    "# takes 1s"
   ]
  },
  {
   "cell_type": "markdown",
   "metadata": {},
   "source": [
    "# Decode resets = False"
   ]
  },
  {
   "cell_type": "code",
   "execution_count": 31,
   "metadata": {},
   "outputs": [],
   "source": [
    "import pymatching\n",
    "import stim\n",
    "\n",
    "\n",
    "circuit = stim.Circuit.generated(\"repetition_code:memory\",\n",
    "                                distance=DISTANCE,\n",
    "                                rounds=ROUNDS,\n",
    "                                after_clifford_depolarization=p2Q, #two-qubit-fidelity,\n",
    "                                after_reset_flip_probability=pRE, #reset error,\n",
    "                                before_measure_flip_probability=pRO, #measurement error,\n",
    "                                before_round_data_depolarization=pXY + pZ) #idle error)\n",
    "# print(circuit)\n",
    "\n",
    "model = circuit.detector_error_model(decompose_errors=True)\n",
    "matching = pymatching.Matching.from_detector_error_model(model)"
   ]
  },
  {
   "cell_type": "code",
   "execution_count": 32,
   "metadata": {},
   "outputs": [
    {
     "name": "stdout",
     "output_type": "stream",
     "text": [
      "num_errors: 1465 out of 10000 shots\n"
     ]
    }
   ],
   "source": [
    "import cpp_soft_info\n",
    "\n",
    "matching = pymatching.Matching.from_detector_error_model(model)\n",
    "# cpp_soft_info.reweight_edges_based_on_error_probs(matching._matching_graph, counts, False, \"spitz\")\n",
    "\n",
    "p_data = 6.869e-1 # mean sherbrooke noise\n",
    "num_errors = cpp_soft_info.decode_IQ_shots(matching._matching_graph, IQ_data,\n",
    "                                           ROUNDS, int(LOGICAL), False, simulator.qubit_mapping, grid_dict,\n",
    "                                           processed_scaler_dict, p_data=-1, p_mixed=-1, #p_mixed=1e-80, for d=30\n",
    "                                           common_measure=-1, _bimodal=True, merge_strategy = \"replace\")\n",
    "print(\"num_errors:\", num_errors.num_errors, \"out of\", len(IQ_data), \"shots\")"
   ]
  },
  {
   "cell_type": "code",
   "execution_count": 33,
   "metadata": {},
   "outputs": [
    {
     "name": "stdout",
     "output_type": "stream",
     "text": [
      "num_errors: 705 out of 10000 shots\n"
     ]
    }
   ],
   "source": [
    "matching = pymatching.Matching.from_detector_error_model(model)\n",
    "num_errors = cpp_soft_info.decode_IQ_shots_flat(matching._matching_graph, IQ_data,\n",
    "                                           ROUNDS, int(LOGICAL), _RESETS, simulator.qubit_mapping, grid_dict,\n",
    "                                           processed_scaler_dict)\n",
    "print(\"num_errors:\", num_errors.num_errors, \"out of\", len(IQ_data), \"shots\")\n"
   ]
  },
  {
   "cell_type": "code",
   "execution_count": null,
   "metadata": {},
   "outputs": [
    {
     "name": "stdout",
     "output_type": "stream",
     "text": [
      "num_errors: 597 out of 10000 shots\n"
     ]
    }
   ],
   "source": [
    "matching = pymatching.Matching.from_detector_error_model(model)\n",
    "\n",
    "import numpy as np\n",
    "def weight_to_prob(weight):\n",
    "    return 1/(1+np.exp(weight))\n",
    "\n",
    "p_data = 1.869e-3# mean sherbrooke ECR error\n",
    "p_mixed = p_data/10# Same as weighted\n",
    "# p_meas = 1e-3\n",
    "p_meas = 15.900e-2 # random found number\n",
    "\n",
    "\n",
    "p_data = -1\n",
    "p_mixed = -1\n",
    "p_meas = -1\n",
    "\n",
    "num_errors = cpp_soft_info.decode_IQ_shots_flat_informed(matching._matching_graph, IQ_data, \n",
    "                                           ROUNDS, int(LOGICAL), _RESETS, simulator.qubit_mapping, grid_dict, processed_scaler_dict,\n",
    "                                           p_data = p_data, p_mixed = p_mixed, p_meas = p_meas, common_measure=-1)\n",
    "\n",
    "print(\"num_errors:\", num_errors.num_errors, \"out of\", len(IQ_data), \"shots\")\n",
    "         \n",
    "# takes 1s"
   ]
  },
  {
   "cell_type": "markdown",
   "metadata": {},
   "source": [
    "# Use the qiskit circuit for stim"
   ]
  },
  {
   "cell_type": "code",
   "execution_count": 26,
   "metadata": {},
   "outputs": [],
   "source": [
    "from qiskit_qec.circuits import RepetitionCodeCircuit\n",
    "\n",
    "code = RepetitionCodeCircuit(DISTANCE, ROUNDS, resets=True)\n",
    "circuit = code.circuit[\"0\"]"
   ]
  },
  {
   "cell_type": "code",
   "execution_count": 27,
   "metadata": {},
   "outputs": [
    {
     "data": {
      "image/png": "[encoded data removed]",
      "text/plain": [
       "<Figure size 1000x1000 with 1 Axes>"
      ]
     },
     "metadata": {},
     "output_type": "display_data"
    },
    {
     "data": {
      "text/plain": [
       "0"
      ]
     },
     "execution_count": 27,
     "metadata": {},
     "output_type": "execute_result"
    }
   ],
   "source": [
    "import pymatching\n",
    "import stim\n",
    "\n",
    "# get the stim circuit from the qiskit circuit\n",
    "from qiskit_qec.utils import get_stim_circuits, noisify_circuit\n",
    "\n",
    "# circuit = simulator.code.circuit[str(LOGICAL)]\n",
    "circuit = noisify_circuit(circuit, noise_model)\n",
    "\n",
    "stim_circuit, _ = get_stim_circuits(circuit)\n",
    "stim_circuit = stim_circuit[0]\n",
    "# print(stim_circuit)\n",
    "model = stim_circuit.detector_error_model(approximate_disjoint_errors=True, decompose_errors=True)\n",
    "matching = pymatching.Matching.from_detector_error_model(model)\n",
    "\n",
    "from soft_info import draw_matching_graph\n",
    "\n",
    "draw_matching_graph(matching, DISTANCE, ROUNDS, figsize=(10, 10))\n",
    "matching._matching_graph.get_num_nodes()"
   ]
  },
  {
   "cell_type": "code",
   "execution_count": null,
   "metadata": {},
   "outputs": [],
   "source": []
  },
  {
   "cell_type": "code",
   "execution_count": null,
   "metadata": {},
   "outputs": [],
   "source": []
  }
 ],
 "metadata": {
  "kernelspec": {
   "display_name": "Soft-Info-fMUpUe5a",
   "language": "python",
   "name": "python3"
  },
  "language_info": {
   "codemirror_mode": {
    "name": "ipython",
    "version": 3
   },
   "file_extension": ".py",
   "mimetype": "text/x-python",
   "name": "python",
   "nbconvert_exporter": "python",
   "pygments_lexer": "ipython3",
   "version": "3.11.4"
  }
 },
 "nbformat": 4,
 "nbformat_minor": 2
}
