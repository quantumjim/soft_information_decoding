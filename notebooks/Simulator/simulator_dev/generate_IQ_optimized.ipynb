{
 "cells": [
  {
   "cell_type": "markdown",
   "metadata": {},
   "source": [
    "# Initialization"
   ]
  },
  {
   "cell_type": "code",
   "execution_count": 2,
   "metadata": {},
   "outputs": [],
   "source": [
    "%reload_ext autoreload\n",
    "%autoreload 2"
   ]
  },
  {
   "cell_type": "code",
   "execution_count": 3,
   "metadata": {},
   "outputs": [],
   "source": [
    "from result_saver import SaverProvider\n",
    "\n",
    "provider = SaverProvider()"
   ]
  },
  {
   "cell_type": "markdown",
   "metadata": {},
   "source": [
    "# Initialize simulator"
   ]
  },
  {
   "cell_type": "code",
   "execution_count": 4,
   "metadata": {},
   "outputs": [
    {
     "name": "stdout",
     "output_type": "stream",
     "text": [
      "Found jobs for backend ibm_sherbrooke with closest execution date 2023-10-27 08:32:22.841567+00:00.\n",
      "Found jobs for backend ibm_sherbrooke with closest execution date 2023-10-27 08:32:22.841567+00:00.\n",
      "Searching for ibm_sherbrooke and 23.10.27_07h46_300pts_2std\n"
     ]
    }
   ],
   "source": [
    "from soft_info import RepCodeIQSimulator\n",
    "\n",
    "DEVICE = 'ibm_sherbrooke'\n",
    "DISTANCE = 3\n",
    "ROUNDS = 30\n",
    "OTHER_DATE = '2023-10-27'\n",
    "_RESETS = True\n",
    "LOGICAL = 0 # NOT NEEDED FOR EXTREME IQ BCS HARDCODED 0\n",
    "\n",
    "_is_hex = True\n",
    "if DEVICE == 'ibmq_mumbai':\n",
    "    _is_hex = False\n",
    "\n",
    "# Initialize simulator\n",
    "simulator = RepCodeIQSimulator(provider, DISTANCE, ROUNDS, DEVICE, _is_hex=_is_hex, _resets = _RESETS, other_date=OTHER_DATE)"
   ]
  },
  {
   "cell_type": "markdown",
   "metadata": {},
   "source": [
    "# Dev get IQ data"
   ]
  },
  {
   "cell_type": "markdown",
   "metadata": {},
   "source": [
    "import numpy as np\n",
    "\n",
    "SHOTS = int(1e3)\n",
    "NOISE_LIST = [3e-2, 0.8e-2, 1e-2, 3e-2] # [two-qubit-fidelity, reset error, measurement error, idle error]\n",
    "\n",
    "\n",
    "stim_circuit = simulator.get_stim_circuit(NOISE_LIST)\n",
    "meas_outcomes = stim_circuit.compile_sampler(seed=42).sample(SHOTS)\n",
    "print(\"generated counts\")\n",
    "\n",
    "if not simulator._resets:\n",
    "    # LOGIC\n",
    "    pass\n",
    "\n",
    "IQ_memory = np.zeros_like(meas_outcomes, dtype=np.complex128)\n",
    "len_IQ_array = len(simulator.qubit_mapping)\n",
    "kde_samples_needed = {qubit_idx: {'0': 0, '1': 0} for qubit_idx in simulator.kde_dict.keys()}\n",
    "sample_counters = {qubit_idx: {'0': 0, '1': 0} for qubit_idx in simulator.kde_dict.keys()}    \n",
    "\n",
    "print(\"starting kde samples needed\")\n",
    "for row in meas_outcomes:\n",
    "    for IQ_idx, bit in enumerate(row):\n",
    "        qubit_idx = simulator.qubit_mapping[IQ_idx]\n",
    "        kde_samples_needed[qubit_idx][str(int(bit))] += 1\n",
    "\n",
    "print(\"starting kde samples\")\n",
    "kde_samples = {}\n",
    "for qubit_idx, needed_nb_samples in kde_samples_needed.items():\n",
    "    [kde0, kde1], scaler = simulator.kde_dict[qubit_idx], simulator.scaler_dict[qubit_idx]\n",
    "    if needed_nb_samples['0'] > 0:\n",
    "        samples0 = scaler.inverse_transform(kde0.sample(needed_nb_samples['0'], random_state=42))\n",
    "    else:\n",
    "        samples0 = np.empty((0, 2)) \n",
    "    if needed_nb_samples['1'] > 0:\n",
    "        samples1 = scaler.inverse_transform(kde1.sample(needed_nb_samples['1'], random_state=42))\n",
    "    else:\n",
    "        samples1 = np.empty((0, 2)) \n",
    "    kde_samples[qubit_idx] = {'0': samples0, '1': samples1}\n",
    "\n",
    "print(\"starting IQ memory\")\n",
    "for row_idx, row in enumerate(meas_outcomes):\n",
    "    for IQ_idx, bit in enumerate(row):\n",
    "        qubit_idx = simulator.qubit_mapping[IQ_idx]\n",
    "        sample_index = sample_counters[qubit_idx][str(int(bit))]\n",
    "        sample = kde_samples[qubit_idx][str(int(bit))][sample_index]   \n",
    "        IQ_memory[row_idx, IQ_idx] = complex(sample[0], sample[1])\n",
    "        sample_counters[qubit_idx][str(int(bit))] += 1\n",
    "\n",
    "assert sample_counters == kde_samples_needed\n",
    "\n",
    "print(IQ_memory.shape)\n",
    "IQ_memory"
   ]
  },
  {
   "cell_type": "markdown",
   "metadata": {},
   "source": [
    "import numpy as np\n",
    "import time\n",
    "\n",
    "SHOTS = int(1e3)\n",
    "NOISE_LIST = [3e-2, 0.8e-2, 1e-2, 3e-2]  # [two-qubit-fidelity, reset error, measurement error, idle error]\n",
    "\n",
    "start_time = time.time()\n",
    "stim_circuit = simulator.get_stim_circuit(NOISE_LIST)\n",
    "meas_outcomes = stim_circuit.compile_sampler(seed=42).sample(SHOTS)\n",
    "print(\"generated counts\", \"Time taken:\", time.time() - start_time, \"seconds\")\n",
    "\n",
    "if not simulator._resets:\n",
    "    # LOGIC\n",
    "    pass\n",
    "\n",
    "IQ_memory = np.zeros_like(meas_outcomes, dtype=np.complex128)\n",
    "\n",
    "len_IQ_array = len(simulator.qubit_mapping)\n",
    "used_qubits = set(simulator.qubit_mapping.values())\n",
    "kde_samples_needed = {qubit_idx: {'0': 0, '1': 0} for qubit_idx in simulator.kde_dict.keys()}\n",
    "sample_counters = {qubit_idx: {'0': 0, '1': 0} for qubit_idx in simulator.kde_dict.keys()}    \n",
    "\n",
    "start_time = time.time()  # Start timing\n",
    "for IQ_idx in range(len_IQ_array):\n",
    "    qubit_idx = simulator.qubit_mapping[IQ_idx]\n",
    "    outcomes = meas_outcomes[:, IQ_idx]\n",
    "    counts = np.bincount(outcomes, minlength=2)\n",
    "    kde_samples_needed[qubit_idx]['0'] += counts[0]\n",
    "    kde_samples_needed[qubit_idx]['1'] += counts[1]\n",
    "print(\"kde samples needed calculated\", \"Time taken:\", time.time() - start_time, \"seconds\")\n",
    "\n",
    "start_time = time.time()  # Start timing\n",
    "kde_samples = {}\n",
    "for qubit_idx, needed_nb_samples in kde_samples_needed.items():\n",
    "    [kde0, kde1], scaler = simulator.kde_dict[qubit_idx], simulator.scaler_dict[qubit_idx]\n",
    "    samples0 = scaler.inverse_transform(kde0.sample(needed_nb_samples['0'], random_state=42)) if needed_nb_samples['0'] > 0 else np.empty((0, 2))\n",
    "    samples1 = scaler.inverse_transform(kde1.sample(needed_nb_samples['1'], random_state=42)) if needed_nb_samples['1'] > 0 else np.empty((0, 2))\n",
    "    kde_samples[qubit_idx] = {'0': samples0, '1': samples1}\n",
    "print(\"kde samples generated\", \"Time taken:\", time.time() - start_time, \"seconds\")\n",
    "\n",
    "start_time = time.time()  # Start timing\n",
    "next_sample_indices = np.zeros((len(simulator.kde_dict), 2), dtype=int)\n",
    "for row_idx, row in enumerate(meas_outcomes):\n",
    "    for IQ_idx, bit in enumerate(row):\n",
    "        qubit_idx = simulator.qubit_mapping[IQ_idx]\n",
    "        sample_index = next_sample_indices[qubit_idx, int(bit)]\n",
    "        sample = kde_samples[qubit_idx][str(int(bit))][sample_index]\n",
    "        IQ_memory[row_idx, IQ_idx] = complex(sample[0], sample[1])\n",
    "        next_sample_indices[qubit_idx, int(bit)] += 1\n",
    "print(\"IQ memory filled\", \"Time taken:\", time.time() - start_time, \"seconds\")\n",
    "\n",
    "print(IQ_memory.shape)\n"
   ]
  },
  {
   "cell_type": "code",
   "execution_count": 33,
   "metadata": {},
   "outputs": [
    {
     "name": "stdout",
     "output_type": "stream",
     "text": [
      "generated counts Time taken: 0.07734799385070801 seconds\n",
      "NO RESET logic applied Time taken: 2.8848648071289062e-05 seconds\n",
      "starting kde samples needed Time taken to initialize variables: 0.010066986083984375 seconds\n",
      "kde samples needed calculated Time taken: 0.026732921600341797 seconds\n",
      "kde samples generated Time taken: 0.43048906326293945 seconds\n",
      "IQ memory filled Time taken: 9.71604609489441 seconds\n",
      "IQ memory shape: (100000, 63)\n"
     ]
    }
   ],
   "source": [
    "import numpy as np\n",
    "import time\n",
    "\n",
    "start_time = time.time()\n",
    "\n",
    "SHOTS = int(1e5)\n",
    "NOISE_LIST = [3e-2, 0.8e-2, 1e-2, 3e-2] # [two-qubit-fidelity, reset error, measurement error, idle error]\n",
    "\n",
    "stim_circuit = simulator.get_stim_circuit(NOISE_LIST)\n",
    "meas_outcomes = stim_circuit.compile_sampler(seed=42).sample(SHOTS)\n",
    "\n",
    "elapsed_time = time.time() - start_time\n",
    "print(\"generated counts\", \"Time taken:\", elapsed_time, \"seconds\")\n",
    "\n",
    "start_time = time.time()\n",
    "if not simulator._resets:\n",
    "    # LOGIC\n",
    "    pass\n",
    "elapsed_time = time.time() - start_time\n",
    "print(\"NO RESET logic applied\", \"Time taken:\", elapsed_time, \"seconds\")\n",
    "\n",
    "start_time = time.time()\n",
    "\n",
    "IQ_memory = np.zeros_like(meas_outcomes, dtype=np.complex128)\n",
    "\n",
    "len_IQ_array = len(simulator.qubit_mapping)\n",
    "used_qubits = set(simulator.qubit_mapping.values())\n",
    "kde_samples_needed = {qubit_idx: {'0': 0, '1': 0} for qubit_idx in simulator.kde_dict.keys()}\n",
    "sample_counters = {qubit_idx: {'0': 0, '1': 0} for qubit_idx in simulator.kde_dict.keys()}    \n",
    "\n",
    "print(\"starting kde samples needed\", \"Time taken to initialize variables:\", time.time() - start_time, \"seconds\")\n",
    "\n",
    "start_time = time.time()\n",
    "for IQ_idx in range(len_IQ_array):\n",
    "    qubit_idx = simulator.qubit_mapping[IQ_idx]\n",
    "    outcomes = meas_outcomes[:, IQ_idx]\n",
    "    counts = np.bincount(outcomes, minlength=2)\n",
    "    kde_samples_needed[qubit_idx]['0'] += counts[0]\n",
    "    kde_samples_needed[qubit_idx]['1'] += counts[1]\n",
    "\n",
    "elapsed_time = time.time() - start_time\n",
    "print(\"kde samples needed calculated\", \"Time taken:\", elapsed_time, \"seconds\")\n",
    "\n",
    "start_time = time.time()\n",
    "kde_samples = {}\n",
    "for qubit_idx, needed_nb_samples in kde_samples_needed.items():\n",
    "    [kde0, kde1], scaler = simulator.kde_dict[qubit_idx], simulator.scaler_dict[qubit_idx]\n",
    "    if needed_nb_samples['0'] > 0:\n",
    "        samples0 = scaler.inverse_transform(kde0.sample(needed_nb_samples['0'], random_state=42))\n",
    "    else:\n",
    "        samples0 = np.empty((0, 2)) \n",
    "    if needed_nb_samples['1'] > 0:\n",
    "        samples1 = scaler.inverse_transform(kde1.sample(needed_nb_samples['1'], random_state=42))\n",
    "    else:\n",
    "        samples1 = np.empty((0, 2)) \n",
    "    kde_samples[qubit_idx] = {'0': samples0, '1': samples1}\n",
    "\n",
    "elapsed_time = time.time() - start_time\n",
    "print(\"kde samples generated\", \"Time taken:\", elapsed_time, \"seconds\")\n",
    "\n",
    "start_time = time.time()\n",
    "next_sample_indices = np.zeros((len(simulator.kde_dict), 2), dtype=int)\n",
    "sample_indices_matrix = np.zeros_like(meas_outcomes, dtype=int)\n",
    "current_sample_indices = np.zeros((len(simulator.kde_dict), 2), dtype=int)\n",
    "\n",
    "for row_idx, row in enumerate(meas_outcomes):\n",
    "    for IQ_idx, bit in enumerate(row):\n",
    "        qubit_idx = simulator.qubit_mapping[IQ_idx]\n",
    "        bit_int = int(bit)\n",
    "        sample_indices_matrix[row_idx, IQ_idx] = current_sample_indices[qubit_idx, bit_int]\n",
    "        current_sample_indices[qubit_idx, bit_int] += 1\n",
    "\n",
    "for row_idx in range(meas_outcomes.shape[0]):\n",
    "    for IQ_idx in range(meas_outcomes.shape[1]):\n",
    "        qubit_idx = simulator.qubit_mapping[IQ_idx]\n",
    "        bit_int = int(meas_outcomes[row_idx, IQ_idx])\n",
    "        sample_index = sample_indices_matrix[row_idx, IQ_idx]\n",
    "        sample = kde_samples[qubit_idx][str(bit_int)][sample_index]\n",
    "        IQ_memory[row_idx, IQ_idx] = complex(sample[0], sample[1])\n",
    "\n",
    "elapsed_time = time.time() - start_time\n",
    "print(\"IQ memory filled\", \"Time taken:\", elapsed_time, \"seconds\")\n",
    "\n",
    "print(\"IQ memory shape:\", IQ_memory.shape)\n"
   ]
  },
  {
   "cell_type": "code",
   "execution_count": 30,
   "metadata": {},
   "outputs": [],
   "source": [
    "max_samples_0 = max(len(samples['0']) for samples in kde_samples.values())\n",
    "max_samples_1 = max(len(samples['1']) for samples in kde_samples.values())\n",
    "max_samples = max(max_samples_0, max_samples_1)\n",
    "\n",
    "num_qubits = len(kde_samples)\n",
    "\n",
    "aligned_samples = np.full((num_qubits, 2, max_samples, 2), fill_value=np.nan)\n",
    "\n",
    "for qubit_idx, outcomes in kde_samples.items():\n",
    "    for outcome_str, samples in outcomes.items():\n",
    "        outcome = int(outcome_str)  # Convert '0' or '1' to 0 or 1\n",
    "        num_samples = len(samples)\n",
    "        # Assuming samples are structured as Nx2 arrays (real and imaginary parts)\n",
    "        aligned_samples[qubit_idx, outcome, :num_samples, :] = samples\n"
   ]
  },
  {
   "cell_type": "code",
   "execution_count": 20,
   "metadata": {},
   "outputs": [
    {
     "name": "stdout",
     "output_type": "stream",
     "text": [
      "(100000, 63)\n"
     ]
    }
   ],
   "source": [
    "# Convert meas_outcomes to boolean for direct indexing (0 or 1)\n",
    "bit_indices = meas_outcomes.astype(np.int64)  # Ensure it has the correct type for indexing\n",
    "\n",
    "\n",
    "# Precompute qubit indices for each IQ index - this assumes that the mapping is static and can be precomputed\n",
    "qubit_indices = np.array([simulator.qubit_mapping[IQ_idx] for IQ_idx in range(meas_outcomes.shape[1])])\n",
    "\n",
    "# Use advanced indexing to retrieve all samples in one operation\n",
    "# This conceptual step assumes alignment of your data as described; actual implementation might vary\n",
    "samples = aligned_samples[qubit_indices, bit_indices, sample_indices_matrix]\n",
    "\n",
    "# Convert samples to complex numbers\n",
    "IQ_memory = samples[:, :, 0] + 1j * samples[:, :, 1]\n",
    "\n",
    "print(IQ_memory.shape)"
   ]
  },
  {
   "cell_type": "markdown",
   "metadata": {},
   "source": [
    "# Get IQ data"
   ]
  },
  {
   "cell_type": "code",
   "execution_count": 26,
   "metadata": {},
   "outputs": [
    {
     "name": "stdout",
     "output_type": "stream",
     "text": [
      "elapsed_time for kde_samples_needed: 0.6326889991760254\n",
      "elapsed_time for kde_samples: 0.4313039779663086\n",
      "elapsed_time for IQ_memory: 2.66249680519104\n",
      "(100000, 63)\n"
     ]
    }
   ],
   "source": [
    "IQ_data_simul = simulator.generate_IQ(SHOTS, noise_list=NOISE_LIST)\n",
    "print(IQ_data_simul.shape)"
   ]
  },
  {
   "cell_type": "markdown",
   "metadata": {},
   "source": [
    "# Decode the data"
   ]
  },
  {
   "cell_type": "code",
   "execution_count": 27,
   "metadata": {},
   "outputs": [],
   "source": [
    "import pymatching\n",
    "import stim\n",
    "\n",
    "model = simulator.stim_circ.detector_error_model(decompose_errors=False)\n",
    "matching = pymatching.Matching.from_detector_error_model(model)"
   ]
  },
  {
   "cell_type": "code",
   "execution_count": 32,
   "metadata": {},
   "outputs": [
    {
     "name": "stdout",
     "output_type": "stream",
     "text": [
      "num_errors IQ: 27667 out of 100000 shots for _RESETS = True\n",
      "num_errors IQ OPTIMIZED: 0 out of 100000 shots for _RESETS = True\n"
     ]
    }
   ],
   "source": [
    "_DETAILED = False\n",
    "\n",
    "from src import cpp_soft_info\n",
    "\n",
    "matching = pymatching.Matching.from_detector_error_model(model)\n",
    "result = cpp_soft_info.decode_IQ_fast(model, IQ_data_simul,\n",
    "                                           ROUNDS, int(LOGICAL), _RESETS, simulator.qubit_mapping, simulator.grid_dict,\n",
    "                                           simulator.processed_scaler_dict, _detailed=_DETAILED, nb_intervals=-1)\n",
    "\n",
    "matching = pymatching.Matching.from_detector_error_model(model)\n",
    "result_IQ_optimized = cpp_soft_info.decode_IQ_fast(model, IQ_memory,\n",
    "                                           ROUNDS, int(LOGICAL), _RESETS, simulator.qubit_mapping, simulator.grid_dict,\n",
    "                                           simulator.processed_scaler_dict, _detailed=_DETAILED, nb_intervals=-1)\n",
    "\n",
    "\n",
    "print(\"num_errors IQ:\", result.num_errors, \"out of\", len(IQ_data_simul), \"shots for _RESETS =\", _RESETS)\n",
    "print(\"num_errors IQ OPTIMIZED:\", result_IQ_optimized.num_errors, \"out of\", len(IQ_memory), \"shots for _RESETS =\", _RESETS)"
   ]
  },
  {
   "cell_type": "code",
   "execution_count": null,
   "metadata": {},
   "outputs": [],
   "source": []
  }
 ],
 "metadata": {
  "kernelspec": {
   "display_name": "Soft-Info-fMUpUe5a",
   "language": "python",
   "name": "python3"
  },
  "language_info": {
   "codemirror_mode": {
    "name": "ipython",
    "version": 3
   },
   "file_extension": ".py",
   "mimetype": "text/x-python",
   "name": "python",
   "nbconvert_exporter": "python",
   "pygments_lexer": "ipython3",
   "version": "3.11.4"
  }
 },
 "nbformat": 4,
 "nbformat_minor": 2
}
