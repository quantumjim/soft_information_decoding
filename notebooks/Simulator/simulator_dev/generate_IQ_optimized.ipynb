{
 "cells": [
  {
   "cell_type": "markdown",
   "metadata": {},
   "source": [
    "# Initialization"
   ]
  },
  {
   "cell_type": "code",
   "execution_count": 25,
   "metadata": {},
   "outputs": [],
   "source": [
    "%reload_ext autoreload\n",
    "%autoreload 2"
   ]
  },
  {
   "cell_type": "code",
   "execution_count": 26,
   "metadata": {},
   "outputs": [],
   "source": [
    "from result_saver import SaverProvider\n",
    "\n",
    "provider = SaverProvider()"
   ]
  },
  {
   "cell_type": "markdown",
   "metadata": {},
   "source": [
    "# Initialize simulator"
   ]
  },
  {
   "cell_type": "code",
   "execution_count": 57,
   "metadata": {},
   "outputs": [
    {
     "name": "stdout",
     "output_type": "stream",
     "text": [
      "Found jobs for backend ibm_sherbrooke with closest execution date 2023-10-27 08:32:22.841567+00:00.\n",
      "Found jobs for backend ibm_sherbrooke with closest execution date 2023-10-27 08:32:22.841567+00:00.\n",
      "Searching for ibm_sherbrooke and 23.10.27_07h46_300pts_2std\n"
     ]
    }
   ],
   "source": [
    "from soft_info import RepCodeIQSimulator\n",
    "\n",
    "DEVICE = 'ibm_sherbrooke'\n",
    "DISTANCE = 30\n",
    "ROUNDS = 30\n",
    "OTHER_DATE = '2023-10-27'\n",
    "_RESETS = False\n",
    "LOGICAL = 0 # NOT NEEDED FOR EXTREME IQ BCS HARDCODED 0\n",
    "\n",
    "_is_hex = True\n",
    "if DEVICE == 'ibmq_mumbai':\n",
    "    _is_hex = False\n",
    "\n",
    "# Initialize simulator\n",
    "simulator = RepCodeIQSimulator(provider, DISTANCE, ROUNDS, DEVICE, _is_hex=_is_hex, _resets = _RESETS, other_date=OTHER_DATE)"
   ]
  },
  {
   "cell_type": "markdown",
   "metadata": {},
   "source": [
    "# Dev get IQ data"
   ]
  },
  {
   "cell_type": "markdown",
   "metadata": {},
   "source": [
    "import numpy as np\n",
    "\n",
    "SHOTS = int(1e3)\n",
    "NOISE_LIST = [3e-2, 0.8e-2, 1e-2, 3e-2] # [two-qubit-fidelity, reset error, measurement error, idle error]\n",
    "\n",
    "\n",
    "stim_circuit = simulator.get_stim_circuit(NOISE_LIST)\n",
    "meas_outcomes = stim_circuit.compile_sampler(seed=42).sample(SHOTS)\n",
    "print(\"generated counts\")\n",
    "\n",
    "if not simulator._resets:\n",
    "    # LOGIC\n",
    "    pass\n",
    "\n",
    "IQ_memory = np.zeros_like(meas_outcomes, dtype=np.complex128)\n",
    "len_IQ_array = len(simulator.qubit_mapping)\n",
    "kde_samples_needed = {qubit_idx: {'0': 0, '1': 0} for qubit_idx in simulator.kde_dict.keys()}\n",
    "sample_counters = {qubit_idx: {'0': 0, '1': 0} for qubit_idx in simulator.kde_dict.keys()}    \n",
    "\n",
    "print(\"starting kde samples needed\")\n",
    "for row in meas_outcomes:\n",
    "    for IQ_idx, bit in enumerate(row):\n",
    "        qubit_idx = simulator.qubit_mapping[IQ_idx]\n",
    "        kde_samples_needed[qubit_idx][str(int(bit))] += 1\n",
    "\n",
    "print(\"starting kde samples\")\n",
    "kde_samples = {}\n",
    "for qubit_idx, needed_nb_samples in kde_samples_needed.items():\n",
    "    [kde0, kde1], scaler = simulator.kde_dict[qubit_idx], simulator.scaler_dict[qubit_idx]\n",
    "    if needed_nb_samples['0'] > 0:\n",
    "        samples0 = scaler.inverse_transform(kde0.sample(needed_nb_samples['0'], random_state=42))\n",
    "    else:\n",
    "        samples0 = np.empty((0, 2)) \n",
    "    if needed_nb_samples['1'] > 0:\n",
    "        samples1 = scaler.inverse_transform(kde1.sample(needed_nb_samples['1'], random_state=42))\n",
    "    else:\n",
    "        samples1 = np.empty((0, 2)) \n",
    "    kde_samples[qubit_idx] = {'0': samples0, '1': samples1}\n",
    "\n",
    "print(\"starting IQ memory\")\n",
    "for row_idx, row in enumerate(meas_outcomes):\n",
    "    for IQ_idx, bit in enumerate(row):\n",
    "        qubit_idx = simulator.qubit_mapping[IQ_idx]\n",
    "        sample_index = sample_counters[qubit_idx][str(int(bit))]\n",
    "        sample = kde_samples[qubit_idx][str(int(bit))][sample_index]   \n",
    "        IQ_memory[row_idx, IQ_idx] = complex(sample[0], sample[1])\n",
    "        sample_counters[qubit_idx][str(int(bit))] += 1\n",
    "\n",
    "assert sample_counters == kde_samples_needed\n",
    "\n",
    "print(IQ_memory.shape)\n",
    "IQ_memory"
   ]
  },
  {
   "cell_type": "code",
   "execution_count": 80,
   "metadata": {},
   "outputs": [
    {
     "name": "stdout",
     "output_type": "stream",
     "text": [
      "generated counts\n",
      "starting kde samples needed\n",
      "starting kde samples\n",
      "starting IQ memory\n",
      "(1000, 900)\n"
     ]
    },
    {
     "data": {
      "text/plain": [
       "array([[-5.18768295e+06+2.63782954e+07j,  4.03449489e+07+8.21901591e+07j,\n",
       "         4.11237248e+07-7.23546076e+07j, ...,\n",
       "        -7.61349458e+06-8.86157230e+06j, -1.00103038e+07-6.34246613e+06j,\n",
       "        -1.18927224e+07-6.54485218e+06j],\n",
       "       [-1.50394372e+07+1.64640372e+07j, -9.44620903e+07+6.48695364e+07j,\n",
       "        -5.07620938e+07-7.43007491e+07j, ...,\n",
       "        -5.99718020e+06-6.75866903e+06j,  5.54395063e+06-9.09808474e+06j,\n",
       "         2.42216856e+06-5.71829960e+06j],\n",
       "       [-7.63041532e+06+2.66804186e+07j, -7.25839250e+07+5.78922010e+07j,\n",
       "        -7.28451288e+07-9.28146204e+07j, ...,\n",
       "        -7.63357051e+06-8.55444300e+06j, -3.94810537e+06-9.28868674e+06j,\n",
       "        -6.54017650e+06-8.06684671e+06j],\n",
       "       ...,\n",
       "       [ 1.71499938e+07+1.46959760e+07j, -5.72242184e+07+8.44821241e+07j,\n",
       "        -4.61100562e+07-1.02343032e+08j, ...,\n",
       "        -5.55623884e+06-6.43533041e+06j,  7.19104994e+06-1.07144996e+07j,\n",
       "        -3.90299078e+06-6.44391675e+06j],\n",
       "       [-8.38007770e+06+2.05636444e+07j, -4.28444562e+07+3.32099209e+07j,\n",
       "        -8.44900992e+07-7.63194451e+07j, ...,\n",
       "        -7.51382876e+06-7.55254664e+06j, -6.28652138e+06-1.02949907e+07j,\n",
       "         5.27519043e+06-1.23870046e+07j],\n",
       "       [-1.22001676e+07+1.64588809e+07j, -8.25667204e+07+6.23635076e+07j,\n",
       "        -1.06137453e+08-8.40975839e+07j, ...,\n",
       "         1.65035695e+06-7.68385171e+06j, -2.99895184e+06-6.43330357e+06j,\n",
       "         4.54830094e+06-1.04373778e+07j]])"
      ]
     },
     "execution_count": 80,
     "metadata": {},
     "output_type": "execute_result"
    }
   ],
   "source": [
    "import numpy as np\n",
    "\n",
    "SHOTS = int(1e3)\n",
    "NOISE_LIST = [3e-2, 0.8e-2, 1e-2, 3e-2] # [two-qubit-fidelity, reset error, measurement error, idle error]\n",
    "\n",
    "\n",
    "stim_circuit = simulator.get_stim_circuit(NOISE_LIST)\n",
    "meas_outcomes = stim_circuit.compile_sampler(seed=42).sample(SHOTS)\n",
    "print(\"generated counts\")\n",
    "\n",
    "if not simulator._resets:\n",
    "    # LOGIC\n",
    "    pass\n",
    "\n",
    "IQ_memory = np.zeros_like(meas_outcomes, dtype=np.complex128)\n",
    "# print(f\"IQ_memory.shape: {IQ_memory.shape}\")\n",
    "# CORRECT \n",
    "\n",
    "\n",
    "len_IQ_array = len(simulator.qubit_mapping)\n",
    "# print(f\"len_IQ_array: {len_IQ_array}\")\n",
    "# CORRECT\n",
    "\n",
    "used_qubits = set(simulator.qubit_mapping.values())\n",
    "kde_samples_needed = {qubit_idx: {'0': 0, '1': 0} for qubit_idx in simulator.kde_dict.keys()}\n",
    "sample_counters = {qubit_idx: {'0': 0, '1': 0} for qubit_idx in simulator.kde_dict.keys()}    \n",
    "# print(\"qubit_mapping: \", simulator.qubit_mapping)  \n",
    "# CORRECT\n",
    "\n",
    "\n",
    "\n",
    "print(\"starting kde samples needed\")\n",
    "for IQ_idx in range(len_IQ_array):\n",
    "    qubit_idx = simulator.qubit_mapping[IQ_idx]  # Find the corresponding qubit index\n",
    "    # Get the binary outcomes for this qubit across all shots\n",
    "    outcomes = meas_outcomes[:, IQ_idx]\n",
    "    # Use np.bincount to count '0's and '1's. Ensure minlength=2 for the case all outcomes are the same.\n",
    "    counts = np.bincount(outcomes, minlength=2)\n",
    "    # print(f\"counts: {counts} at IQ_idx: {IQ_idx} and qubit_idx: {qubit_idx}\")\n",
    "    # Now, update kde_samples_needed directly with these counts.\n",
    "    kde_samples_needed[qubit_idx]['0'] += counts[0]\n",
    "    kde_samples_needed[qubit_idx]['1'] += counts[1]\n",
    "\n",
    "# print(f\"kde_samples_needed: {kde_samples_needed}\")\n",
    "\n",
    "# # add up the samples needed for each qubit\n",
    "# total = 0\n",
    "# for k,v in kde_samples_needed.items():\n",
    "#      total += v['0'] + v['1']\n",
    "\n",
    "# print(f\"total: {total}\")\n",
    "\n",
    "\n",
    "\n",
    "print(\"starting kde samples\")\n",
    "kde_samples = {}\n",
    "for qubit_idx, needed_nb_samples in kde_samples_needed.items():\n",
    "    [kde0, kde1], scaler = simulator.kde_dict[qubit_idx], simulator.scaler_dict[qubit_idx]\n",
    "    if needed_nb_samples['0'] > 0:\n",
    "        samples0 = scaler.inverse_transform(kde0.sample(needed_nb_samples['0'], random_state=42))\n",
    "    else:\n",
    "        samples0 = np.empty((0, 2)) \n",
    "    if needed_nb_samples['1'] > 0:\n",
    "        samples1 = scaler.inverse_transform(kde1.sample(needed_nb_samples['1'], random_state=42))\n",
    "    else:\n",
    "        samples1 = np.empty((0, 2)) \n",
    "    kde_samples[qubit_idx] = {'0': samples0, '1': samples1}\n",
    "\n",
    "print(\"starting IQ memory\")\n",
    "next_sample_indices = np.zeros((len(simulator.kde_dict), 2), dtype=int)\n",
    "\n",
    "# Iterate over meas_outcomes to fill IQ_memory\n",
    "for row_idx, row in enumerate(meas_outcomes):\n",
    "    for IQ_idx, bit in enumerate(row):\n",
    "        qubit_idx = simulator.qubit_mapping[IQ_idx]\n",
    "        bit_int = int(bit)\n",
    "        \n",
    "        # Get the next sample index for this qubit and bit\n",
    "        sample_index = next_sample_indices[qubit_idx, bit_int]\n",
    "        \n",
    "        # Retrieve the sample and update IQ_memory\n",
    "        sample = kde_samples[qubit_idx][str(bit_int)][sample_index]\n",
    "        IQ_memory[row_idx, IQ_idx] = complex(sample[0], sample[1])\n",
    "        \n",
    "        # Increment the sample index for the next use\n",
    "        next_sample_indices[qubit_idx, bit_int] += 1\n",
    "\n",
    "print(IQ_memory.shape)\n",
    "IQ_memory"
   ]
  },
  {
   "cell_type": "code",
   "execution_count": 81,
   "metadata": {},
   "outputs": [
    {
     "name": "stdout",
     "output_type": "stream",
     "text": [
      "generated counts\n",
      "starting kde samples needed\n",
      "starting kde samples\n",
      "starting IQ memory\n",
      "(1000, 900)\n"
     ]
    },
    {
     "data": {
      "text/plain": [
       "array([[-5.18768295e+06+2.63782954e+07j,  4.03449489e+07+8.21901591e+07j,\n",
       "         4.11237248e+07-7.23546076e+07j, ...,\n",
       "        -7.61349458e+06-8.86157230e+06j, -1.00103038e+07-6.34246613e+06j,\n",
       "        -1.18927224e+07-6.54485218e+06j],\n",
       "       [-1.50394372e+07+1.64640372e+07j, -9.44620903e+07+6.48695364e+07j,\n",
       "        -5.07620938e+07-7.43007491e+07j, ...,\n",
       "        -5.99718020e+06-6.75866903e+06j,  5.54395063e+06-9.09808474e+06j,\n",
       "         2.42216856e+06-5.71829960e+06j],\n",
       "       [-7.63041532e+06+2.66804186e+07j, -7.25839250e+07+5.78922010e+07j,\n",
       "        -7.28451288e+07-9.28146204e+07j, ...,\n",
       "        -7.63357051e+06-8.55444300e+06j, -3.94810537e+06-9.28868674e+06j,\n",
       "        -6.54017650e+06-8.06684671e+06j],\n",
       "       ...,\n",
       "       [ 1.71499938e+07+1.46959760e+07j, -5.72242184e+07+8.44821241e+07j,\n",
       "        -4.61100562e+07-1.02343032e+08j, ...,\n",
       "        -5.55623884e+06-6.43533041e+06j,  7.19104994e+06-1.07144996e+07j,\n",
       "        -3.90299078e+06-6.44391675e+06j],\n",
       "       [-8.38007770e+06+2.05636444e+07j, -4.28444562e+07+3.32099209e+07j,\n",
       "        -8.44900992e+07-7.63194451e+07j, ...,\n",
       "        -7.51382876e+06-7.55254664e+06j, -6.28652138e+06-1.02949907e+07j,\n",
       "         5.27519043e+06-1.23870046e+07j],\n",
       "       [-1.22001676e+07+1.64588809e+07j, -8.25667204e+07+6.23635076e+07j,\n",
       "        -1.06137453e+08-8.40975839e+07j, ...,\n",
       "         1.65035695e+06-7.68385171e+06j, -2.99895184e+06-6.43330357e+06j,\n",
       "         4.54830094e+06-1.04373778e+07j]])"
      ]
     },
     "execution_count": 81,
     "metadata": {},
     "output_type": "execute_result"
    }
   ],
   "source": [
    "import numpy as np\n",
    "\n",
    "SHOTS = int(1e3)\n",
    "NOISE_LIST = [3e-2, 0.8e-2, 1e-2, 3e-2] # [two-qubit-fidelity, reset error, measurement error, idle error]\n",
    "\n",
    "\n",
    "stim_circuit = simulator.get_stim_circuit(NOISE_LIST)\n",
    "meas_outcomes = stim_circuit.compile_sampler(seed=42).sample(SHOTS)\n",
    "print(\"generated counts\")\n",
    "\n",
    "if not simulator._resets:\n",
    "    # LOGIC\n",
    "    pass\n",
    "\n",
    "IQ_memory = np.zeros_like(meas_outcomes, dtype=np.complex128)\n",
    "# print(f\"IQ_memory.shape: {IQ_memory.shape}\")\n",
    "# CORRECT \n",
    "\n",
    "\n",
    "len_IQ_array = len(simulator.qubit_mapping)\n",
    "# print(f\"len_IQ_array: {len_IQ_array}\")\n",
    "# CORRECT\n",
    "\n",
    "used_qubits = set(simulator.qubit_mapping.values())\n",
    "kde_samples_needed = {qubit_idx: {'0': 0, '1': 0} for qubit_idx in simulator.kde_dict.keys()}\n",
    "sample_counters = {qubit_idx: {'0': 0, '1': 0} for qubit_idx in simulator.kde_dict.keys()}    \n",
    "# print(\"qubit_mapping: \", simulator.qubit_mapping)  \n",
    "# CORRECT\n",
    "\n",
    "\n",
    "\n",
    "print(\"starting kde samples needed\")\n",
    "for IQ_idx in range(len_IQ_array):\n",
    "    qubit_idx = simulator.qubit_mapping[IQ_idx]  # Find the corresponding qubit index\n",
    "    # Get the binary outcomes for this qubit across all shots\n",
    "    outcomes = meas_outcomes[:, IQ_idx]\n",
    "    # Use np.bincount to count '0's and '1's. Ensure minlength=2 for the case all outcomes are the same.\n",
    "    counts = np.bincount(outcomes, minlength=2)\n",
    "    # print(f\"counts: {counts} at IQ_idx: {IQ_idx} and qubit_idx: {qubit_idx}\")\n",
    "    # Now, update kde_samples_needed directly with these counts.\n",
    "    kde_samples_needed[qubit_idx]['0'] += counts[0]\n",
    "    kde_samples_needed[qubit_idx]['1'] += counts[1]\n",
    "\n",
    "# print(f\"kde_samples_needed: {kde_samples_needed}\")\n",
    "\n",
    "# # add up the samples needed for each qubit\n",
    "# total = 0\n",
    "# for k,v in kde_samples_needed.items():\n",
    "#      total += v['0'] + v['1']\n",
    "\n",
    "# print(f\"total: {total}\")\n",
    "\n",
    "\n",
    "\n",
    "print(\"starting kde samples\")\n",
    "kde_samples = {}\n",
    "for qubit_idx, needed_nb_samples in kde_samples_needed.items():\n",
    "    [kde0, kde1], scaler = simulator.kde_dict[qubit_idx], simulator.scaler_dict[qubit_idx]\n",
    "    if needed_nb_samples['0'] > 0:\n",
    "        samples0 = scaler.inverse_transform(kde0.sample(needed_nb_samples['0'], random_state=42))\n",
    "    else:\n",
    "        samples0 = np.empty((0, 2)) \n",
    "    if needed_nb_samples['1'] > 0:\n",
    "        samples1 = scaler.inverse_transform(kde1.sample(needed_nb_samples['1'], random_state=42))\n",
    "    else:\n",
    "        samples1 = np.empty((0, 2)) \n",
    "    kde_samples[qubit_idx] = {'0': samples0, '1': samples1}\n",
    "\n",
    "print(\"starting IQ memory\")\n",
    "next_sample_indices = np.zeros((len(simulator.kde_dict), 2), dtype=int)\n",
    "\n",
    "# Initialize an array to hold the sample index for each measurement outcome\n",
    "sample_indices_matrix = np.zeros_like(meas_outcomes, dtype=int)\n",
    "\n",
    "# Temporary structure to track the current sample index for each qubit and outcome\n",
    "current_sample_indices = np.zeros((len(simulator.kde_dict), 2), dtype=int)\n",
    "\n",
    "for row_idx, row in enumerate(meas_outcomes):\n",
    "    for IQ_idx, bit in enumerate(row):\n",
    "        qubit_idx = simulator.qubit_mapping[IQ_idx]\n",
    "        bit_int = int(bit)\n",
    "        # Assign the current sample index to the matrix\n",
    "        sample_indices_matrix[row_idx, IQ_idx] = current_sample_indices[qubit_idx, bit_int]\n",
    "        # Increment the index for the next occurrence of this qubit/outcome pair\n",
    "        current_sample_indices[qubit_idx, bit_int] += 1\n",
    "\n",
    "for row_idx in range(meas_outcomes.shape[0]):\n",
    "    for IQ_idx in range(meas_outcomes.shape[1]):\n",
    "        qubit_idx = simulator.qubit_mapping[IQ_idx]\n",
    "        bit_int = int(meas_outcomes[row_idx, IQ_idx])\n",
    "        # Retrieve the precomputed sample index\n",
    "        sample_index = sample_indices_matrix[row_idx, IQ_idx]\n",
    "        # Access the sample directly using the precomputed index\n",
    "        sample = kde_samples[qubit_idx][str(bit_int)][sample_index]\n",
    "        IQ_memory[row_idx, IQ_idx] = complex(sample[0], sample[1])\n",
    "\n",
    "\n",
    "print(IQ_memory.shape)\n",
    "IQ_memory"
   ]
  },
  {
   "cell_type": "code",
   "execution_count": 73,
   "metadata": {},
   "outputs": [
    {
     "name": "stdout",
     "output_type": "stream",
     "text": [
      "generated stim counts\n",
      "correcting counts\n",
      "finished correcting counts\n",
      "(100000, 900)\n"
     ]
    }
   ],
   "source": [
    "IQ_data = simulator.generate_IQ(SHOTS, NOISE_LIST)\n",
    "print(IQ_data.shape)\n",
    "# IQ_data"
   ]
  },
  {
   "cell_type": "markdown",
   "metadata": {},
   "source": [
    "# Get IQ data"
   ]
  },
  {
   "cell_type": "code",
   "execution_count": 63,
   "metadata": {},
   "outputs": [
    {
     "name": "stdout",
     "output_type": "stream",
     "text": [
      "generated stim counts\n",
      "correcting counts\n",
      "finished correcting counts\n"
     ]
    }
   ],
   "source": [
    "IQ_data = simulator.generate_IQ(SHOTS, noise_list=NOISE_LIST)"
   ]
  }
 ],
 "metadata": {
  "kernelspec": {
   "display_name": "Soft-Info-fMUpUe5a",
   "language": "python",
   "name": "python3"
  },
  "language_info": {
   "codemirror_mode": {
    "name": "ipython",
    "version": 3
   },
   "file_extension": ".py",
   "mimetype": "text/x-python",
   "name": "python",
   "nbconvert_exporter": "python",
   "pygments_lexer": "ipython3",
   "version": "3.11.4"
  }
 },
 "nbformat": 4,
 "nbformat_minor": 2
}
