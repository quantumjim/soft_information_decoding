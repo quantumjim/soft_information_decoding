{
 "cells": [
  {
   "cell_type": "markdown",
   "metadata": {},
   "source": [
    "# Initialization"
   ]
  },
  {
   "cell_type": "code",
   "execution_count": 25,
   "metadata": {},
   "outputs": [],
   "source": [
    "%reload_ext autoreload\n",
    "%autoreload 2"
   ]
  },
  {
   "cell_type": "code",
   "execution_count": 26,
   "metadata": {},
   "outputs": [],
   "source": [
    "from result_saver import SaverProvider\n",
    "\n",
    "provider = SaverProvider()"
   ]
  },
  {
   "cell_type": "markdown",
   "metadata": {},
   "source": [
    "# Initialize simulator"
   ]
  },
  {
   "cell_type": "code",
   "execution_count": 27,
   "metadata": {},
   "outputs": [],
   "source": [
    "from soft_info import RepCodeIQSimulator\n",
    "\n",
    "DEVICE = 'ibm_sherbrooke'\n",
    "DISTANCE = 7\n",
    "ROUNDS = 7\n",
    "OTHER_DATE = '2023-10-27'\n",
    "_RESETS = False\n",
    "LOGICAL = 0 # NOT NEEDED FOR EXTREME IQ BCS HARDCODED 0\n",
    "\n",
    "_is_hex = True\n",
    "if DEVICE == 'ibmq_mumbai':\n",
    "    _is_hex = False\n",
    "\n",
    "# Initialize simulator\n",
    "simulator = RepCodeIQSimulator(provider, DISTANCE, ROUNDS, DEVICE, _is_hex=_is_hex, _resets = _RESETS, other_date=OTHER_DATE)"
   ]
  },
  {
   "cell_type": "markdown",
   "metadata": {},
   "source": [
    "# Dev get IQ data"
   ]
  },
  {
   "cell_type": "code",
   "execution_count": 28,
   "metadata": {},
   "outputs": [
    {
     "name": "stdout",
     "output_type": "stream",
     "text": [
      "generated counts\n",
      "starting kde samples needed\n",
      "starting kde samples\n",
      "starting IQ memory\n",
      "(1000, 49)\n"
     ]
    },
    {
     "data": {
      "text/plain": [
       "array([[-1.50232187e+07+2.25052950e+07j, -1.03235821e+08+5.94349540e+07j,\n",
       "        -9.51286138e+07-7.84326738e+07j, ...,\n",
       "         2.95112146e+07-3.72114071e+07j, -1.75257103e+07-1.82129012e+07j,\n",
       "        -3.22184177e+07+7.50352684e+07j],\n",
       "       [-1.19983569e+06+1.54127207e+07j, -5.04871769e+07+7.20190162e+07j,\n",
       "        -4.66470942e+07-7.41325525e+07j, ...,\n",
       "         2.00817472e+07-3.17737481e+07j,  1.33709326e+07-2.99407897e+07j,\n",
       "        -6.60751643e+07+6.26890487e+07j],\n",
       "       [-1.64742047e+07+2.11673800e+07j, -7.17076868e+07+5.90467004e+07j,\n",
       "        -7.85188060e+07-7.33950965e+07j, ...,\n",
       "        -2.05160111e+07-3.31793620e+07j, -2.74901095e+07-2.05009485e+07j,\n",
       "        -6.13858592e+07+6.21946651e+07j],\n",
       "       ...,\n",
       "       [-1.30162782e+07+2.33196434e+07j, -3.50650937e+07+7.45803429e+07j,\n",
       "        -8.31946968e+07-1.05510371e+08j, ...,\n",
       "        -1.80775896e+07-2.25086711e+07j, -3.08294325e+07-1.77899449e+07j,\n",
       "        -4.65463895e+07+7.54711614e+07j],\n",
       "       [-8.18643514e+06+1.80830190e+07j, -6.45715810e+07+7.12193548e+07j,\n",
       "         8.05549437e+07-9.85030606e+07j, ...,\n",
       "        -1.23799555e+07-3.07320603e+07j, -3.90948760e+07-2.24435712e+07j,\n",
       "        -6.25843939e+07+8.27560390e+07j],\n",
       "       [-1.60540964e+07+2.03487935e+07j, -7.31045248e+07+6.68976297e+07j,\n",
       "        -7.40775012e+07-7.07851379e+07j, ...,\n",
       "         1.71960235e+07-3.07992872e+07j, -2.12185358e+07-5.62820250e+06j,\n",
       "        -2.11420732e+07+5.50205214e+07j]])"
      ]
     },
     "execution_count": 28,
     "metadata": {},
     "output_type": "execute_result"
    }
   ],
   "source": [
    "import numpy as np\n",
    "\n",
    "SHOTS = int(1e3)\n",
    "NOISE_LIST = [3e-2, 0.8e-2, 1e-2, 3e-2] # [two-qubit-fidelity, reset error, measurement error, idle error]\n",
    "\n",
    "\n",
    "stim_circuit = simulator.get_stim_circuit(NOISE_LIST)\n",
    "meas_outcomes = stim_circuit.compile_sampler(seed=42).sample(SHOTS)\n",
    "print(\"generated counts\")\n",
    "\n",
    "if not simulator._resets:\n",
    "    # LOGIC\n",
    "    pass\n",
    "\n",
    "IQ_memory = np.zeros_like(meas_outcomes, dtype=np.complex128)\n",
    "len_IQ_array = len(simulator.qubit_mapping)\n",
    "kde_samples_needed = {qubit_idx: {'0': 0, '1': 0} for qubit_idx in simulator.kde_dict.keys()}\n",
    "sample_counters = {qubit_idx: {'0': 0, '1': 0} for qubit_idx in simulator.kde_dict.keys()}    \n",
    "\n",
    "print(\"starting kde samples needed\")\n",
    "for row in meas_outcomes:\n",
    "    for IQ_idx, bit in enumerate(row):\n",
    "        qubit_idx = simulator.qubit_mapping[IQ_idx]\n",
    "        kde_samples_needed[qubit_idx][str(int(bit))] += 1\n",
    "\n",
    "print(\"starting kde samples\")\n",
    "kde_samples = {}\n",
    "for qubit_idx, needed_nb_samples in kde_samples_needed.items():\n",
    "    [kde0, kde1], scaler = simulator.kde_dict[qubit_idx], simulator.scaler_dict[qubit_idx]\n",
    "    if needed_nb_samples['0'] > 0:\n",
    "        samples0 = scaler.inverse_transform(kde0.sample(needed_nb_samples['0'], random_state=42))\n",
    "    else:\n",
    "        samples0 = np.empty((0, 2)) \n",
    "    if needed_nb_samples['1'] > 0:\n",
    "        samples1 = scaler.inverse_transform(kde1.sample(needed_nb_samples['1'], random_state=42))\n",
    "    else:\n",
    "        samples1 = np.empty((0, 2)) \n",
    "    kde_samples[qubit_idx] = {'0': samples0, '1': samples1}\n",
    "\n",
    "print(\"starting IQ memory\")\n",
    "for row_idx, row in enumerate(meas_outcomes):\n",
    "    for IQ_idx, bit in enumerate(row):\n",
    "        qubit_idx = simulator.qubit_mapping[IQ_idx]\n",
    "        sample_index = sample_counters[qubit_idx][str(int(bit))]\n",
    "        sample = kde_samples[qubit_idx][str(int(bit))][sample_index]   \n",
    "        IQ_memory[row_idx, IQ_idx] = complex(sample[0], sample[1])\n",
    "        sample_counters[qubit_idx][str(int(bit))] += 1\n",
    "\n",
    "assert sample_counters == kde_samples_needed\n",
    "\n",
    "print(IQ_memory.shape)\n",
    "IQ_memory"
   ]
  },
  {
   "cell_type": "code",
   "execution_count": 42,
   "metadata": {},
   "outputs": [
    {
     "name": "stdout",
     "output_type": "stream",
     "text": [
      "generated counts\n",
      "starting kde samples needed\n",
      "starting kde samples\n",
      "starting IQ memory\n",
      "(100000, 49)\n"
     ]
    },
    {
     "data": {
      "text/plain": [
       "array([[-12625257.20513788+2.39492004e+07j,\n",
       "         24186833.62788546+7.66390138e+07j,\n",
       "        -52886891.85341469-7.75103778e+07j, ...,\n",
       "        -23357486.65135763-3.14976252e+07j,\n",
       "        -23564967.91028597-2.06558989e+07j,\n",
       "        -53987524.82207315+7.38601625e+07j],\n",
       "       [-24188830.70587259+2.57560592e+07j,\n",
       "        -57942525.7807887 +7.26142978e+07j,\n",
       "        -81952710.03958131-1.20597476e+08j, ...,\n",
       "         17147192.95281468-3.51548997e+07j,\n",
       "        -20711192.38156219-2.11781353e+07j,\n",
       "        -63113631.9239763 +6.25539646e+07j],\n",
       "       [-14989248.62669082+1.84325645e+07j,\n",
       "        -61646914.3020632 +6.31231368e+07j,\n",
       "        -96907597.86149655-9.12244833e+07j, ...,\n",
       "         22352364.41691762-2.79001361e+07j,\n",
       "         12272415.98473733-3.24092084e+07j,\n",
       "        -83818028.6817148 +6.05005086e+07j],\n",
       "       ...,\n",
       "       [-10482074.64167522+1.41710368e+07j,\n",
       "        -45003870.46757969+7.81546774e+07j,\n",
       "        -85519897.81026025-8.48422375e+07j, ...,\n",
       "        -30471063.56802413-1.83424566e+07j,\n",
       "        -24205434.79975262-2.27434338e+07j,\n",
       "        -53343565.5110641 +5.31185717e+07j],\n",
       "       [ -9324256.43210565+2.65973578e+07j,\n",
       "        -75549209.92666012+6.64818219e+07j,\n",
       "        -93127601.70870794-9.14190960e+07j, ...,\n",
       "        -25205470.91676929-1.74699775e+07j,\n",
       "        -25221804.78360574-2.30971375e+07j,\n",
       "         13178363.54106622+7.05225193e+07j],\n",
       "       [-15767047.97730737+2.03293586e+07j,\n",
       "        -83019027.6751839 +5.14468043e+07j,\n",
       "        -95857309.0255294 -7.56857301e+07j, ...,\n",
       "         20855281.03493542-1.28947002e+07j,\n",
       "        -24906123.11293954-2.52461466e+07j,\n",
       "        -36869397.65044449+6.04771837e+07j]])"
      ]
     },
     "execution_count": 42,
     "metadata": {},
     "output_type": "execute_result"
    }
   ],
   "source": [
    "import numpy as np\n",
    "\n",
    "SHOTS = int(1e5)\n",
    "NOISE_LIST = [3e-2, 0.8e-2, 1e-2, 3e-2] # [two-qubit-fidelity, reset error, measurement error, idle error]\n",
    "\n",
    "\n",
    "stim_circuit = simulator.get_stim_circuit(NOISE_LIST)\n",
    "meas_outcomes = stim_circuit.compile_sampler(seed=42).sample(SHOTS)\n",
    "print(\"generated counts\")\n",
    "\n",
    "if not simulator._resets:\n",
    "    # LOGIC\n",
    "    pass\n",
    "\n",
    "IQ_memory = np.zeros_like(meas_outcomes, dtype=np.complex128)\n",
    "# print(f\"IQ_memory.shape: {IQ_memory.shape}\")\n",
    "# CORRECT \n",
    "\n",
    "\n",
    "len_IQ_array = len(simulator.qubit_mapping)\n",
    "# print(f\"len_IQ_array: {len_IQ_array}\")\n",
    "# CORRECT\n",
    "\n",
    "used_qubits = set(simulator.qubit_mapping.values())\n",
    "kde_samples_needed = {qubit_idx: {'0': 0, '1': 0} for qubit_idx in simulator.kde_dict.keys()}\n",
    "sample_counters = {qubit_idx: {'0': 0, '1': 0} for qubit_idx in simulator.kde_dict.keys()}    \n",
    "# print(\"qubit_mapping: \", simulator.qubit_mapping)  \n",
    "# CORRECT\n",
    "\n",
    "\n",
    "\n",
    "print(\"starting kde samples needed\")\n",
    "for IQ_idx in range(len_IQ_array):\n",
    "    qubit_idx = simulator.qubit_mapping[IQ_idx]  # Find the corresponding qubit index\n",
    "    # Get the binary outcomes for this qubit across all shots\n",
    "    outcomes = meas_outcomes[:, IQ_idx]\n",
    "    # Use np.bincount to count '0's and '1's. Ensure minlength=2 for the case all outcomes are the same.\n",
    "    counts = np.bincount(outcomes, minlength=2)\n",
    "    # print(f\"counts: {counts} at IQ_idx: {IQ_idx} and qubit_idx: {qubit_idx}\")\n",
    "    # Now, update kde_samples_needed directly with these counts.\n",
    "    kde_samples_needed[qubit_idx]['0'] += counts[0]\n",
    "    kde_samples_needed[qubit_idx]['1'] += counts[1]\n",
    "\n",
    "# print(f\"kde_samples_needed: {kde_samples_needed}\")\n",
    "\n",
    "# # add up the samples needed for each qubit\n",
    "# total = 0\n",
    "# for k,v in kde_samples_needed.items():\n",
    "#      total += v['0'] + v['1']\n",
    "\n",
    "# print(f\"total: {total}\")\n",
    "\n",
    "\n",
    "\n",
    "print(\"starting kde samples\")\n",
    "kde_samples = {}\n",
    "for qubit_idx, needed_nb_samples in kde_samples_needed.items():\n",
    "    [kde0, kde1], scaler = simulator.kde_dict[qubit_idx], simulator.scaler_dict[qubit_idx]\n",
    "    if needed_nb_samples['0'] > 0:\n",
    "        samples0 = scaler.inverse_transform(kde0.sample(needed_nb_samples['0'], random_state=42))\n",
    "    else:\n",
    "        samples0 = np.empty((0, 2)) \n",
    "    if needed_nb_samples['1'] > 0:\n",
    "        samples1 = scaler.inverse_transform(kde1.sample(needed_nb_samples['1'], random_state=42))\n",
    "    else:\n",
    "        samples1 = np.empty((0, 2)) \n",
    "    kde_samples[qubit_idx] = {'0': samples0, '1': samples1}\n",
    "\n",
    "print(\"starting IQ memory\")\n",
    "next_sample_indices = np.zeros((len(simulator.kde_dict), 2), dtype=int)\n",
    "\n",
    "# Iterate over meas_outcomes to fill IQ_memory\n",
    "for row_idx, row in enumerate(meas_outcomes):\n",
    "    for IQ_idx, bit in enumerate(row):\n",
    "        qubit_idx = simulator.qubit_mapping[IQ_idx]\n",
    "        bit_int = int(bit)\n",
    "        \n",
    "        # Get the next sample index for this qubit and bit\n",
    "        sample_index = next_sample_indices[qubit_idx, bit_int]\n",
    "        \n",
    "        # Retrieve the sample and update IQ_memory\n",
    "        sample = kde_samples[qubit_idx][str(bit_int)][sample_index]\n",
    "        IQ_memory[row_idx, IQ_idx] = complex(sample[0], sample[1])\n",
    "        \n",
    "        # Increment the sample index for the next use\n",
    "        next_sample_indices[qubit_idx, bit_int] += 1\n",
    "\n",
    "print(IQ_memory.shape)\n",
    "IQ_memory"
   ]
  },
  {
   "cell_type": "code",
   "execution_count": 36,
   "metadata": {},
   "outputs": [
    {
     "name": "stdout",
     "output_type": "stream",
     "text": [
      "generated counts\n",
      "correcting counts\n",
      "finished correcting counts\n",
      "(100000, 49)\n"
     ]
    },
    {
     "data": {
      "text/plain": [
       "array([[-1.54573238e+07+21958401.55828892j,\n",
       "         4.10053419e+07+75995596.9591296j ,\n",
       "        -6.06395759e+07-72425347.53439532j, ...,\n",
       "        -2.33574867e+07-31497625.24369372j,\n",
       "        -2.35649679e+07-20655898.92745575j,\n",
       "        -5.39875248e+07+73860162.48295219j],\n",
       "       [-2.38026700e+07+25287198.4659813j ,\n",
       "        -1.00799677e+08+64036703.99002467j,\n",
       "        -4.73661056e+07-65075859.19687505j, ...,\n",
       "         1.71471930e+07-35154899.69432529j,\n",
       "        -2.07111924e+07-21178135.34771013j,\n",
       "        -6.31136319e+07+62553964.56688988j],\n",
       "       [-1.27586701e+07+17223341.25832713j,\n",
       "        -3.07107899e+07+58781514.13314077j,\n",
       "        -8.21088036e+07-92875613.41956146j, ...,\n",
       "         2.23523644e+07-27900136.0509418j ,\n",
       "         1.22724160e+07-32409208.38731221j,\n",
       "        -8.38180287e+07+60500508.56824557j],\n",
       "       ...,\n",
       "       [-9.34108760e+06+20136096.89514977j,\n",
       "        -4.71502959e+07+69105299.11473085j,\n",
       "        -1.02926159e+08-61682721.65112722j, ...,\n",
       "        -2.63755046e+07-20836701.24843341j,\n",
       "        -2.42054348e+07-22743433.84981291j,\n",
       "        -5.33435655e+07+53118571.65360866j],\n",
       "       [-1.40883158e+07+12269962.3514751j ,\n",
       "        -5.91798279e+07+72614927.55574042j,\n",
       "        -9.23781793e+07-70370640.70483297j, ...,\n",
       "        -3.04710636e+07-18342456.61553472j,\n",
       "        -2.52218048e+07-23097137.47882637j,\n",
       "        -3.68693977e+07+60477183.68549193j],\n",
       "       [-2.45005085e+07+23604556.10650493j,\n",
       "        -3.32075559e+07+70932259.71681511j,\n",
       "        -6.04598795e+07-81400641.50369169j, ...,\n",
       "        -2.52054709e+07-17469977.51450875j,\n",
       "        -2.49061231e+07-25246146.57971767j,\n",
       "         1.31783635e+07+70522519.28579175j]])"
      ]
     },
     "execution_count": 36,
     "metadata": {},
     "output_type": "execute_result"
    }
   ],
   "source": [
    "IQ_data = simulator.generate_IQ(SHOTS, NOISE_LIST)\n",
    "print(IQ_data.shape)\n",
    "IQ_data"
   ]
  },
  {
   "cell_type": "markdown",
   "metadata": {},
   "source": [
    "# Get IQ data"
   ]
  },
  {
   "cell_type": "code",
   "execution_count": 41,
   "metadata": {},
   "outputs": [
    {
     "name": "stdout",
     "output_type": "stream",
     "text": [
      "generated counts\n",
      "correcting counts\n",
      "finished correcting counts\n"
     ]
    }
   ],
   "source": [
    "IQ_data = simulator.generate_IQ(SHOTS, noise_list=NOISE_LIST)"
   ]
  }
 ],
 "metadata": {
  "kernelspec": {
   "display_name": "Soft-Info-fMUpUe5a",
   "language": "python",
   "name": "python3"
  },
  "language_info": {
   "codemirror_mode": {
    "name": "ipython",
    "version": 3
   },
   "file_extension": ".py",
   "mimetype": "text/x-python",
   "name": "python",
   "nbconvert_exporter": "python",
   "pygments_lexer": "ipython3",
   "version": "3.11.4"
  }
 },
 "nbformat": 4,
 "nbformat_minor": 2
}
