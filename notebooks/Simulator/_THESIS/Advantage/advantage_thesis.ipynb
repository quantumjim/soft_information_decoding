{
 "cells": [
  {
   "cell_type": "markdown",
   "metadata": {},
   "source": [
    "# Initialization"
   ]
  },
  {
   "cell_type": "code",
   "execution_count": 1,
   "metadata": {},
   "outputs": [],
   "source": [
    "%reload_ext autoreload\n",
    "%autoreload 2"
   ]
  },
  {
   "cell_type": "code",
   "execution_count": 2,
   "metadata": {},
   "outputs": [],
   "source": [
    "from result_saver import SaverProvider\n",
    "\n",
    "provider = SaverProvider()"
   ]
  },
  {
   "cell_type": "markdown",
   "metadata": {},
   "source": [
    "# Initialize simulator"
   ]
  },
  {
   "cell_type": "code",
   "execution_count": 4,
   "metadata": {},
   "outputs": [
    {
     "name": "stdout",
     "output_type": "stream",
     "text": [
      "10:14:52 Warning: Negative T2 error -0.08 % for qubit 38, setting to 0. T1: 6.421500990479847e-05, T2: 0.00015673252358240422. IN FILE: /Users/mha/My_Drive/Desktop/Studium/Physik/MSc/Semester_3/IBM/IBM_GIT/Soft-Info/src/soft_info/Hardware/backend_noise.py, LINE: 54\n",
      "10:14:52 Warning: Negative T2 error -0.01 % for qubit 39, setting to 0. T1: 0.00013169172467058469, T2: 0.00027539403593426396. IN FILE: /Users/mha/My_Drive/Desktop/Studium/Physik/MSc/Semester_3/IBM/IBM_GIT/Soft-Info/src/soft_info/Hardware/backend_noise.py, LINE: 54\n",
      "10:14:52 Warning: Negative T2 error -0.01 % for qubit 111, setting to 0. T1: 0.00016588647661947383, T2: 0.00034179903119965343. IN FILE: /Users/mha/My_Drive/Desktop/Studium/Physik/MSc/Semester_3/IBM/IBM_GIT/Soft-Info/src/soft_info/Hardware/backend_noise.py, LINE: 54\n",
      "Found jobs for backend ibm_sherbrooke with closest execution date 2024-03-23 17:49:53.348518+00:00.\n"
     ]
    }
   ],
   "source": [
    "from soft_info import RepCodeIQSimulator\n",
    "\n",
    "DEVICE = 'ibm_sherbrooke'\n",
    "D = 11\n",
    "T = 50\n",
    "\n",
    "OTHER_DATE = '2024-03-24'\n",
    "DOUBLE_MSMT = True\n",
    "BEST_PATH = False\n",
    "\n",
    "_is_hex = True\n",
    "if DEVICE == 'ibmq_mumbai':\n",
    "    _is_hex = False\n",
    "\n",
    "# Initialize simulator\n",
    "simulator = RepCodeIQSimulator(provider, D, T, DEVICE, _is_hex, OTHER_DATE, DOUBLE_MSMT, best_path=BEST_PATH)"
   ]
  },
  {
   "cell_type": "markdown",
   "metadata": {},
   "source": [
    "# Needed decoding objects"
   ]
  },
  {
   "cell_type": "code",
   "execution_count": 7,
   "metadata": {},
   "outputs": [],
   "source": [
    "import numpy as np\n",
    "import cpp_soft_info as csi\n",
    "from soft_info import inv_qubit_mapping\n",
    "\n",
    "relError = 1\n",
    "bandwidths = [0.6]\n",
    "num_points = 20\n",
    "\n",
    "kde_dict_PS = csi.get_KDEs(simulator.all_memories, bandwidths, relError=relError, absError=-1, num_points = num_points)\n",
    "inverted_q_map = inv_qubit_mapping(simulator.qubit_mapping)"
   ]
  },
  {
   "cell_type": "markdown",
   "metadata": {},
   "source": [
    "# Loop function"
   ]
  },
  {
   "cell_type": "code",
   "execution_count": null,
   "metadata": {},
   "outputs": [],
   "source": [
    "from tqdm import tqdm\n",
    "import json\n",
    "import cpp_soft_info\n",
    "import pymatching\n",
    "from soft_info import RepetitionCodeStimCircuit\n",
    "\n",
    "def funct(distance, rounds, xbasis, resets=False, shots=1e5):\n",
    "    # No logical bcs symm noise model\n",
    "    simulator = RepCodeIQSimulator(provider, distance, rounds, DEVICE, _is_hex, OTHER_DATE, DOUBLE_MSMT, best_path=BEST_PATH)\n",
    "    IQ_data = simulator.generate_IQ(shots, logical='0', xbasis=xbasis, resets=resets, individual=False)\n",
    "\n",
    "    # Get KDEs\n",
    "    pSoft_PS, countMat_PS = csi.iqConvertorEstim(IQ_data, inverted_q_map, kde_dict_PS, relError, -1)\n",
    "\n",
    "    # stim models\n",
    "    circ_soft = RepetitionCodeStimCircuit(distance, rounds, xbasis, resets, noise_list=simulator.noise_list, \n",
    "                                          subsampling=False, no_fin_soft=True)\n",
    "    model_soft = circ_soft.circuits['0'].detector_error_model()\n",
    "\n",
    "    used_msmt_err_dict = {key: value for key, value in simulator.msmt_err_dict.items() if key in simulator.layout}\n",
    "    ps_mean = sum(value['p_soft'] for value in used_msmt_err_dict.values()) / len(used_msmt_err_dict)\n",
    "    noise_list_h = simulator.noise_list.copy()\n",
    "    noise_list_h[-1]=ps_mean\n",
    "    circ_hard = RepetitionCodeStimCircuit(distance, rounds, xbasis, resets, noise_list=simulator.noise_list,\n",
    "                                            subsampling=False, no_fin_soft=False)\n",
    "    model_hard = circ_hard.circuits['0'].detector_error_model()\n",
    "\n",
    "\n",
    "    # Decode\n",
    "    res_s = csi.decodeConvertorAll(model_soft, countMat_PS, pSoft_PS, rounds, 0, resets, decode_hard=False)\n",
    "    res_h = csi.decodeConvertorAll(model_hard, countMat_PS, pSoft_PS, rounds, 0, resets, decode_hard=True)\n",
    "\n",
    "    return res_s, res_h"
   ]
  },
  {
   "cell_type": "code",
   "execution_count": null,
   "metadata": {},
   "outputs": [],
   "source": []
  },
  {
   "cell_type": "code",
   "execution_count": 4,
   "metadata": {},
   "outputs": [],
   "source": [
    "from tqdm import tqdm\n",
    "import json\n",
    "import cpp_soft_info\n",
    "import pymatching\n",
    "\n",
    "def func(distance, rounds, resets=False, shots = 1e5, p_meas = -1):\n",
    "    # Initialize simulator\n",
    "    simulator = RepCodeIQSimulator(provider, distance, rounds, DEVICE, _is_hex=_is_hex, _resets = resets, other_date=OTHER_DATE)\n",
    "    IQ_data= simulator.generate_IQ(int(shots), noise_list=NOISE_LIST, verbose=False)\n",
    "    print(\"Generated IQ data\")\n",
    "\n",
    "    # Run decoding\n",
    "    result_grid = cpp_soft_info.decode_IQ_fast(simulator.stim_circ.detector_error_model(decompose_errors=False), IQ_data,\n",
    "                                        rounds, int(LOGICAL), resets, simulator.qubit_mapping, simulator.grid_dict,\n",
    "                                        simulator.processed_scaler_dict, _detailed=False, nb_intervals=-1, interval_offset=-1)\n",
    "\n",
    "    result_informed = cpp_soft_info.decode_IQ_shots_flat_informed(simulator.stim_circ.detector_error_model(decompose_errors=False), IQ_data,\n",
    "                                           rounds, int(LOGICAL), resets, simulator.qubit_mapping, simulator.grid_dict, simulator.processed_scaler_dict,\n",
    "                                           p_data = -1, p_mixed = -1, p_meas = p_meas, common_measure=-1, _detailed=False, _ntnn_edges = True)\n",
    "\n",
    "    return result_grid, result_informed\n"
   ]
  },
  {
   "cell_type": "code",
   "execution_count": 5,
   "metadata": {},
   "outputs": [
    {
     "data": {
      "text/plain": [
       "array([44.28571429, 47.85714286, 51.42857143, 55.        ])"
      ]
     },
     "execution_count": 5,
     "metadata": {},
     "output_type": "execute_result"
    }
   ],
   "source": [
    "import numpy as np\n",
    "\n",
    "distances = np.linspace(5, 55, 15)\n",
    "distances = distances[11:]\n",
    "distances"
   ]
  },
  {
   "cell_type": "code",
   "execution_count": 6,
   "metadata": {},
   "outputs": [
    {
     "name": "stderr",
     "output_type": "stream",
     "text": [
      "Simulating for distance:   0%|          | 0/4 [00:00<?, ?it/s]"
     ]
    },
    {
     "ename": "",
     "evalue": "",
     "output_type": "error",
     "traceback": [
      "\u001b[1;31mThe Kernel crashed while executing code in the current cell or a previous cell. \n",
      "\u001b[1;31mPlease review the code in the cell(s) to identify a possible cause of the failure. \n",
      "\u001b[1;31mClick <a href='https://aka.ms/vscodeJupyterKernelCrash'>here</a> for more info. \n",
      "\u001b[1;31mView Jupyter <a href='command:jupyter.viewOutput'>log</a> for further details."
     ]
    }
   ],
   "source": [
    "import numpy as np\n",
    "from tqdm import tqdm\n",
    "\n",
    "shots = int(10e6) \n",
    "p_meas = -1\n",
    "\n",
    "i_10 = True\n",
    "i_20 = True\n",
    "i_30 = True\n",
    "i_40 = True\n",
    "i_55 = True\n",
    "# i_30 = False\n",
    "# i_40 = False\n",
    "# i_55 = False\n",
    "\n",
    "file_str = f'../results/soft_vs_informed_simul_WITH_RESETS_v2.json'\n",
    "\n",
    "for i in tqdm(distances, desc='Simulating for distance'):\n",
    "\n",
    "    # Save results\n",
    "    with open(file_str, 'r') as f:\n",
    "        data = json.load(f)\n",
    "\n",
    "\n",
    "    i = int(i)\n",
    "    _redecode = False\n",
    "\n",
    "    if i>=10 and i_10 == True:\n",
    "        distance = 10\n",
    "        rounds = 10\n",
    "        _redecode = True\n",
    "        i_10 = False\n",
    "\n",
    "    if i>=20 and i_20 == True:  \n",
    "        distance = 20\n",
    "        rounds = 20\n",
    "        _redecode = True\n",
    "        i_20 = False\n",
    "\n",
    "    if i >= 30 and i_30 == True:\n",
    "        distance = 30\n",
    "        rounds = 35\n",
    "        _redecode = True\n",
    "        i_30 = False\n",
    "    \n",
    "    if i >=40 and i_40:\n",
    "        distance = i\n",
    "        rounds = 35\n",
    "        _redecode = True\n",
    "        i_40 = False\n",
    "\n",
    "    if i>=55 and i_55 == True:\n",
    "        distance = i\n",
    "        rounds = 35\n",
    "        _redecode = True\n",
    "        i_55 = False\n",
    "\n",
    "\n",
    "    if _redecode:\n",
    "        # Decode\n",
    "        # result_grid, result_informed = func(distance, rounds, shots = shots, p_meas=p_meas)\n",
    "\n",
    "        if str((distance, rounds)) not in data.keys():\n",
    "            result_grid, result_informed = func(distance, rounds, shots = shots, p_meas=p_meas, resets=_RESETS)\n",
    "            data[str((distance, rounds))] = {'grid': result_grid.num_errors, 'informed': result_informed.num_errors, 'shots': shots, 'p_meas': p_meas, 'resets': _RESETS}\n",
    "\n",
    "        with open(file_str, 'w') as f:\n",
    "            json.dump(data, f, indent=4)\n",
    "        \n",
    "\n",
    "\n",
    "   \n",
    "    distance = i\n",
    "    rounds = i\n",
    "\n",
    "    \n",
    "    if str((distance, rounds)) not in data.keys():\n",
    "        # Decode\n",
    "        result_grid, result_informed = func(distance, rounds, shots = shots, p_meas=p_meas, resets=_RESETS)\n",
    "        data[str((distance, rounds))] = {'grid': result_grid.num_errors, 'informed': result_informed.num_errors, 'shots': shots, 'p_meas': p_meas, 'resets': _RESETS}\n",
    "    \n",
    "    with open(file_str, 'w') as f:\n",
    "        json.dump(data, f, indent=4)\n"
   ]
  },
  {
   "cell_type": "code",
   "execution_count": null,
   "metadata": {},
   "outputs": [],
   "source": []
  }
 ],
 "metadata": {
  "kernelspec": {
   "display_name": "Soft-Info-fMUpUe5a",
   "language": "python",
   "name": "python3"
  },
  "language_info": {
   "codemirror_mode": {
    "name": "ipython",
    "version": 3
   },
   "file_extension": ".py",
   "mimetype": "text/x-python",
   "name": "python",
   "nbconvert_exporter": "python",
   "pygments_lexer": "ipython3",
   "version": "3.11.4"
  }
 },
 "nbformat": 4,
 "nbformat_minor": 2
}
