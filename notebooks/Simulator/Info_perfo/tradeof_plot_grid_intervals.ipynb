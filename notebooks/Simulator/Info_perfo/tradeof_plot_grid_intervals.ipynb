{
 "cells": [
  {
   "cell_type": "markdown",
   "metadata": {},
   "source": [
    "# Initialization"
   ]
  },
  {
   "cell_type": "code",
   "execution_count": 1,
   "metadata": {},
   "outputs": [],
   "source": [
    "%reload_ext autoreload\n",
    "%autoreload 2"
   ]
  },
  {
   "cell_type": "code",
   "execution_count": 6,
   "metadata": {},
   "outputs": [],
   "source": [
    "from result_saver import SaverProvider\n",
    "\n",
    "provider = SaverProvider()"
   ]
  },
  {
   "cell_type": "markdown",
   "metadata": {},
   "source": [
    "# Initialize simulator"
   ]
  },
  {
   "cell_type": "code",
   "execution_count": 18,
   "metadata": {},
   "outputs": [],
   "source": [
    "from soft_info import RepCodeIQSimulator\n",
    "\n",
    "DEVICE = 'ibm_sherbrooke'\n",
    "DISTANCE = 7\n",
    "ROUNDS = 7\n",
    "OTHER_DATE = '2023-10-27'\n",
    "_RESETS = False\n",
    "LOGICAL = 0 # NOT NEEDED FOR EXTREME IQ BCS HARDCODED 0\n",
    "\n",
    "NOISE_LIST = [3e-2, 0.8e-2, 1e-2, 3e-2] # [two-qubit-fidelity, reset error, measurement error, idle error]\n",
    "# NOISE_LIST = [noise * 2 for noise in NOISE_LIST]\n",
    "\n",
    "_is_hex = True\n",
    "if DEVICE == 'ibmq_mumbai':\n",
    "    _is_hex = False\n",
    "\n",
    "# Initialize simulator\n",
    "simulator = RepCodeIQSimulator(provider, DISTANCE, ROUNDS, DEVICE, _is_hex=_is_hex, _resets = _RESETS, other_date=OTHER_DATE)"
   ]
  },
  {
   "cell_type": "markdown",
   "metadata": {},
   "source": [
    "# Loop function"
   ]
  },
  {
   "cell_type": "code",
   "execution_count": 27,
   "metadata": {},
   "outputs": [],
   "source": [
    "from tqdm import tqdm\n",
    "import json\n",
    "import cpp_soft_info\n",
    "\n",
    "def func(distance, resets, shots = 1e5, interval_offset = 0.5, nbs_intervals = None):\n",
    "    # Initialize simulator\n",
    "    simulator = RepCodeIQSimulator(provider, distance, distance, DEVICE, _is_hex=_is_hex, _resets = resets, other_date=OTHER_DATE)\n",
    "    IQ_data= simulator.generate_IQ(int(shots), noise_list=NOISE_LIST)\n",
    "\n",
    "    # Run decoding\n",
    "    num_errors = []\n",
    "    bits = list(range(20))\n",
    "    nb_intervals = [2**bit for bit in bits[1:]]\n",
    "    if nbs_intervals is not None:\n",
    "        nb_intervals = [nb for nb in nbs_intervals]\n",
    "    nb_intervals.append(-1)\n",
    "    for nb_intervals in tqdm(nb_intervals):\n",
    "        result = cpp_soft_info.decode_IQ_fast(simulator.stim_circ.detector_error_model(decompose_errors=False), IQ_data,\n",
    "                                            distance, int(LOGICAL), resets, simulator.qubit_mapping, simulator.grid_dict,\n",
    "                                            simulator.processed_scaler_dict, _detailed=False, nb_intervals=nb_intervals, interval_offset=interval_offset)\n",
    "        num_errors.append(result.num_errors)\n",
    "\n",
    "    # Save results\n",
    "    metadata = {\"DEVICE\": DEVICE, \"DISTANCE\": distance, \"ROUNDS\": distance, \"OTHER_DATE\": OTHER_DATE, \n",
    "                \"_RESETS\": resets, \"LOGICAL\": LOGICAL, \"SHOTS\": int(shots), \"interval_offset\": interval_offset}    \n",
    "    with open(f\"result_tradeoff_grid_intervals.json\", \"r\") as f:\n",
    "        data = json.load(f)\n",
    "        data_in_str = [str(d) for d in data]\n",
    "        new_data = {\"metadata\": metadata, \"num_errors\": num_errors, \"bits\": bits[1:]+[-1], \"nbs_intervals\": nbs_intervals}\n",
    "        if str(new_data) not in data_in_str:\n",
    "            data.append(new_data)\n",
    "        else:\n",
    "            print(\"Already in data! Not appending to file\")\n",
    "\n",
    "    with open(f\"result_tradeoff_grid_intervals.json\", \"w\") as f:\n",
    "        json.dump(data, f, indent=1)\n"
   ]
  },
  {
   "cell_type": "code",
   "execution_count": 31,
   "metadata": {},
   "outputs": [
    {
     "name": "stdout",
     "output_type": "stream",
     "text": [
      "[7, 10, 13]\n",
      "[ 2  3  4  5  6  7  8  9 10 11 12 13 14 15 16 17 18 19 20 21]\n"
     ]
    }
   ],
   "source": [
    "import numpy as np\n",
    "distances = np.arange(3, 56, 4)\n",
    "distances = np.arange(5, 13, 2)\n",
    "distances = [7, 10, 13]\n",
    "\n",
    "nbs_intervals = np.linspace(2, 21, 20).astype(int)\n",
    "\n",
    "print(distances)\n",
    "print(nbs_intervals)"
   ]
  },
  {
   "cell_type": "code",
   "execution_count": 32,
   "metadata": {},
   "outputs": [
    {
     "name": "stdout",
     "output_type": "stream",
     "text": [
      "\n",
      "Distance: 13\n"
     ]
    },
    {
     "name": "stderr",
     "output_type": "stream",
     "text": [
      "100%|██████████| 999999/999999 [01:09<00:00, 14373.52it/s]\n",
      "100%|██████████| 21/21 [20:14<00:00, 57.81s/it]\n"
     ]
    },
    {
     "name": "stdout",
     "output_type": "stream",
     "text": [
      "\n",
      "Distance: 10\n"
     ]
    },
    {
     "name": "stderr",
     "output_type": "stream",
     "text": [
      "100%|██████████| 995447/995447 [00:40<00:00, 24454.77it/s]\n",
      "100%|██████████| 21/21 [11:59<00:00, 34.28s/it]\n"
     ]
    },
    {
     "name": "stdout",
     "output_type": "stream",
     "text": [
      "\n",
      "Distance: 7\n"
     ]
    },
    {
     "name": "stderr",
     "output_type": "stream",
     "text": [
      "100%|██████████| 648639/648639 [00:20<00:00, 31238.46it/s]\n",
      "100%|██████████| 21/21 [05:54<00:00, 16.88s/it]\n"
     ]
    }
   ],
   "source": [
    "import numpy as np\n",
    "\n",
    "# distances = [3, 7, 15, 23, 31]\n",
    "\n",
    "\n",
    "for distance in distances[::-1]:\n",
    "    print(f\"\\nDistance: {distance}\")\n",
    "    func(int(distance), resets=True, shots=1e6, interval_offset=0.5, nbs_intervals=nbs_intervals)\n",
    "    # func(int(distance), resets=True, shots=2e5, interval_offset=0.5)"
   ]
  },
  {
   "cell_type": "code",
   "execution_count": null,
   "metadata": {},
   "outputs": [],
   "source": []
  }
 ],
 "metadata": {
  "kernelspec": {
   "display_name": "Soft-Info-fMUpUe5a",
   "language": "python",
   "name": "python3"
  },
  "language_info": {
   "codemirror_mode": {
    "name": "ipython",
    "version": 3
   },
   "file_extension": ".py",
   "mimetype": "text/x-python",
   "name": "python",
   "nbconvert_exporter": "python",
   "pygments_lexer": "ipython3",
   "version": "3.11.4"
  }
 },
 "nbformat": 4,
 "nbformat_minor": 2
}
