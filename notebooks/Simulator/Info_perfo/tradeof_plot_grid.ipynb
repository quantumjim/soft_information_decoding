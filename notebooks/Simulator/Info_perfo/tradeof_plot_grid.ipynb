{
 "cells": [
  {
   "cell_type": "markdown",
   "metadata": {},
   "source": [
    "# Initialization"
   ]
  },
  {
   "cell_type": "code",
   "execution_count": 1,
   "metadata": {},
   "outputs": [],
   "source": [
    "%reload_ext autoreload\n",
    "%autoreload 2"
   ]
  },
  {
   "cell_type": "code",
   "execution_count": 2,
   "metadata": {},
   "outputs": [],
   "source": [
    "from result_saver import SaverProvider\n",
    "\n",
    "provider = SaverProvider()"
   ]
  },
  {
   "cell_type": "markdown",
   "metadata": {},
   "source": [
    "# Initialize simulator"
   ]
  },
  {
   "cell_type": "code",
   "execution_count": 16,
   "metadata": {},
   "outputs": [
    {
     "name": "stdout",
     "output_type": "stream",
     "text": [
      "Found jobs for backend ibm_torino with closest execution date 2023-12-02 09:12:35.042892+00:00.\n",
      "Found jobs for backend ibm_torino with closest execution date 2023-12-02 09:12:35.042892+00:00.\n",
      "Searching for ibm_torino and 23.12.02_09h11_300pts_2std\n"
     ]
    }
   ],
   "source": [
    "from soft_info import RepCodeIQSimulator\n",
    "\n",
    "DEVICE = 'ibm_torino'\n",
    "DISTANCE = 7\n",
    "ROUNDS = 7\n",
    "OTHER_DATE = '2023-10-27'\n",
    "_RESETS = False\n",
    "LOGICAL = 0 # NOT NEEDED FOR EXTREME IQ BCS HARDCODED 0\n",
    "\n",
    "NOISE_LIST = [3e-2, 0.8e-2, 1e-2, 3e-2] # [two-qubit-fidelity, reset error, measurement error, idle error]\n",
    "\n",
    "_is_hex = True\n",
    "if DEVICE == 'ibmq_mumbai':\n",
    "    _is_hex = False\n",
    "\n",
    "# Initialize simulator\n",
    "simulator = RepCodeIQSimulator(provider, DISTANCE, ROUNDS, DEVICE, _is_hex=_is_hex, _resets = _RESETS, other_date=OTHER_DATE)"
   ]
  },
  {
   "cell_type": "markdown",
   "metadata": {},
   "source": [
    "# Loop function"
   ]
  },
  {
   "cell_type": "code",
   "execution_count": 25,
   "metadata": {},
   "outputs": [],
   "source": [
    "from tqdm import tqdm\n",
    "import json\n",
    "import cpp_soft_info\n",
    "\n",
    "def func(distance, resets, shots = 1e5, interval_offset = 0.5, nbs_intervals = None):\n",
    "\n",
    "    _is_hex = True\n",
    "    if DEVICE in ['ibmq_mumbai']:\n",
    "        _is_hex = False\n",
    "    \n",
    "    # Initialize simulator\n",
    "    simulator = RepCodeIQSimulator(provider, distance, distance, DEVICE, _is_hex=_is_hex, _resets = resets, other_date=OTHER_DATE)\n",
    "    IQ_data= simulator.generate_IQ(int(shots), noise_list=NOISE_LIST)\n",
    "\n",
    "\n",
    "\n",
    "    # Run decoding\n",
    "    num_errors = []\n",
    "    bits = list(range(20))\n",
    "    nb_intervals = [2**bit for bit in bits[1:]]\n",
    "    nb_intervals.append(-1)\n",
    "    if nbs_intervals is not None:\n",
    "        nb_intervals = nbs_intervals\n",
    "    for nb_intervals in tqdm(nb_intervals):\n",
    "        result = cpp_soft_info.decode_IQ_fast(simulator.stim_circ.detector_error_model(decompose_errors=False), IQ_data,\n",
    "                                            distance, int(LOGICAL), resets, simulator.qubit_mapping, simulator.grid_dict,\n",
    "                                            simulator.processed_scaler_dict, _detailed=False, nb_intervals=nb_intervals, interval_offset=interval_offset)\n",
    "        num_errors.append(result.num_errors)\n",
    "\n",
    "    # Save results\n",
    "    metadata = {\"DEVICE\": DEVICE, \"DISTANCE\": distance, \"ROUNDS\": distance, \"OTHER_DATE\": OTHER_DATE, \n",
    "                \"_RESETS\": resets, \"LOGICAL\": LOGICAL, \"SHOTS\": int(shots), \"interval_offset\": interval_offset}    \n",
    "    with open(f\"result_tradeoff_grid.json\", \"r\") as f:\n",
    "        data = json.load(f)\n",
    "        data_in_str = [str(d) for d in data]\n",
    "        new_data = {\"metadata\": metadata, \"num_errors\": num_errors, \"bits\": bits[1:]+[-1]}\n",
    "        if str(new_data) not in data_in_str:\n",
    "            data.append(new_data)\n",
    "        else:\n",
    "            print(\"Already in data! Not appending to file\")\n",
    "\n",
    "    with open(f\"result_tradeoff_grid.json\", \"w\") as f:\n",
    "        json.dump(data, f, indent=1)\n"
   ]
  },
  {
   "cell_type": "code",
   "execution_count": 26,
   "metadata": {},
   "outputs": [
    {
     "data": {
      "text/plain": [
       "[3, 4, 5, 6, 7, 8, 9, 10, 11]"
      ]
     },
     "execution_count": 26,
     "metadata": {},
     "output_type": "execute_result"
    }
   ],
   "source": [
    "import numpy as np\n",
    "distances = np.arange(3, 56, 4)\n",
    "\n",
    "distances = [3, 4, 5, 6, 7, 8, 9, 10, 11]\n",
    "\n",
    "distances"
   ]
  },
  {
   "cell_type": "code",
   "execution_count": 29,
   "metadata": {},
   "outputs": [
    {
     "name": "stdout",
     "output_type": "stream",
     "text": [
      "\n",
      "Distance: 11\n"
     ]
    },
    {
     "name": "stderr",
     "output_type": "stream",
     "text": [
      "100%|██████████| 199968/199968 [00:09<00:00, 20487.87it/s]\n",
      "100%|██████████| 20/20 [02:32<00:00,  7.62s/it]\n"
     ]
    },
    {
     "name": "stdout",
     "output_type": "stream",
     "text": [
      "\n",
      "Distance: 10\n"
     ]
    },
    {
     "name": "stderr",
     "output_type": "stream",
     "text": [
      "100%|██████████| 199552/199552 [00:08<00:00, 24087.09it/s]\n",
      "100%|██████████| 20/20 [02:07<00:00,  6.37s/it]\n"
     ]
    },
    {
     "name": "stdout",
     "output_type": "stream",
     "text": [
      "\n",
      "Distance: 9\n"
     ]
    },
    {
     "name": "stderr",
     "output_type": "stream",
     "text": [
      "100%|██████████| 196704/196704 [00:06<00:00, 29492.55it/s]\n",
      "100%|██████████| 20/20 [01:44<00:00,  5.23s/it]\n"
     ]
    },
    {
     "name": "stdout",
     "output_type": "stream",
     "text": [
      "\n",
      "Distance: 8\n"
     ]
    },
    {
     "name": "stderr",
     "output_type": "stream",
     "text": [
      "100%|██████████| 183581/183581 [00:05<00:00, 33553.36it/s]\n",
      "100%|██████████| 20/20 [01:25<00:00,  4.28s/it]\n"
     ]
    },
    {
     "name": "stdout",
     "output_type": "stream",
     "text": [
      "\n",
      "Distance: 7\n"
     ]
    },
    {
     "name": "stderr",
     "output_type": "stream",
     "text": [
      "100%|██████████| 147691/147691 [00:04<00:00, 36312.88it/s]\n",
      "100%|██████████| 20/20 [01:10<00:00,  3.52s/it]\n"
     ]
    },
    {
     "name": "stdout",
     "output_type": "stream",
     "text": [
      "\n",
      "Distance: 6\n"
     ]
    },
    {
     "name": "stderr",
     "output_type": "stream",
     "text": [
      "100%|██████████| 91656/91656 [00:02<00:00, 30786.82it/s]\n",
      "100%|██████████| 20/20 [00:52<00:00,  2.61s/it]\n"
     ]
    },
    {
     "name": "stdout",
     "output_type": "stream",
     "text": [
      "\n",
      "Distance: 5\n"
     ]
    },
    {
     "name": "stderr",
     "output_type": "stream",
     "text": [
      "100%|██████████| 37414/37414 [00:02<00:00, 17970.05it/s]\n",
      "100%|██████████| 20/20 [00:41<00:00,  2.07s/it]\n"
     ]
    },
    {
     "name": "stdout",
     "output_type": "stream",
     "text": [
      "\n",
      "Distance: 4\n"
     ]
    },
    {
     "name": "stderr",
     "output_type": "stream",
     "text": [
      "100%|██████████| 7698/7698 [00:01<00:00, 5668.87it/s] \n",
      "100%|██████████| 20/20 [00:37<00:00,  1.86s/it]\n"
     ]
    },
    {
     "name": "stdout",
     "output_type": "stream",
     "text": [
      "\n",
      "Distance: 3\n"
     ]
    },
    {
     "name": "stderr",
     "output_type": "stream",
     "text": [
      "100%|██████████| 471/471 [00:00<00:00, 602.82it/s]\n",
      "100%|██████████| 20/20 [00:16<00:00,  1.18it/s]\n"
     ]
    }
   ],
   "source": [
    "import numpy as np\n",
    "\n",
    "# distances = [3, 7, 15, 23, 31]\n",
    "\n",
    "for distance in distances[::-1]:\n",
    "    print(f\"\\nDistance: {distance}\")\n",
    "    func(int(distance), resets=True, shots=2e5, interval_offset=0.5)\n",
    "    # func(int(distance), resets=True, shots=2e5, interval_offset=0.5)"
   ]
  },
  {
   "cell_type": "markdown",
   "metadata": {},
   "source": [
    "# Plot the data from the json"
   ]
  },
  {
   "cell_type": "code",
   "execution_count": 21,
   "metadata": {},
   "outputs": [
    {
     "data": {
      "image/png": "[encoded data removed]",
      "text/plain": [
       "<Figure size 640x480 with 1 Axes>"
      ]
     },
     "metadata": {},
     "output_type": "display_data"
    }
   ],
   "source": [
    "import matplotlib.pyplot as plt \n",
    "\n",
    "with open(f\"result_tradeoff_grid.json\", \"r\") as f:\n",
    "    data = json.load(f)\n",
    "\n",
    "for result in data:\n",
    "    if result[\"metadata\"][\"DISTANCE\"] != result[\"metadata\"][\"ROUNDS\"]:\n",
    "        continue\n",
    "    if result[\"metadata\"][\"_RESETS\"] != True:\n",
    "        continue\n",
    "    if result[\"metadata\"][\"SHOTS\"] != 1e4:\n",
    "        continue\n",
    "    if \"interval_offset\" not in result[\"metadata\"].keys():\n",
    "        continue\n",
    "\n",
    "    if result[\"metadata\"][\"interval_offset\"] != 0.5:\n",
    "        continue\n",
    "    \n",
    "    if result[\"metadata\"][\"DISTANCE\"] == 31:\n",
    "        continue\n",
    "    \n",
    "    errors = [result[\"num_errors\"][-1]/(e+1e-8) for e in result[\"num_errors\"][:-1]]\n",
    "    bits = [2**b for b in result[\"bits\"][:-1]]\n",
    "    bits = result[\"bits\"][:-1]\n",
    "    plt.plot(bits[:], errors[:], label=f\"Distance {result['metadata']['DISTANCE']}\")\n",
    "    plt.title(f\"_Resets = {result['metadata']['_RESETS']}, logical = {result['metadata']['LOGICAL']}, shots = {result['metadata']['SHOTS']}, intervall_offset = {result['metadata']['interval_offset']}\")\n",
    "    plt.xlabel(\"Number of bits (2**bits intervals)\")\n",
    "    plt.ylabel(\"Performance ratio\")\n",
    "    plt.xticks(bits)\n",
    "    plt.axhline(y=1, color='grey', linestyle='--', alpha=0.1)\n",
    "    plt.legend()\n",
    "    plt.grid(alpha=0.3)\n"
   ]
  },
  {
   "cell_type": "code",
   "execution_count": null,
   "metadata": {},
   "outputs": [],
   "source": []
  },
  {
   "cell_type": "code",
   "execution_count": null,
   "metadata": {},
   "outputs": [],
   "source": []
  }
 ],
 "metadata": {
  "kernelspec": {
   "display_name": "Soft-Info-fMUpUe5a",
   "language": "python",
   "name": "python3"
  },
  "language_info": {
   "codemirror_mode": {
    "name": "ipython",
    "version": 3
   },
   "file_extension": ".py",
   "mimetype": "text/x-python",
   "name": "python",
   "nbconvert_exporter": "python",
   "pygments_lexer": "ipython3",
   "version": "3.11.4"
  }
 },
 "nbformat": 4,
 "nbformat_minor": 2
}
