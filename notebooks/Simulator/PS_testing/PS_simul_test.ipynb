{
 "cells": [
  {
   "cell_type": "code",
   "execution_count": 1,
   "metadata": {},
   "outputs": [],
   "source": [
    "%reload_ext autoreload\n",
    "%autoreload 2"
   ]
  },
  {
   "cell_type": "code",
   "execution_count": 2,
   "metadata": {},
   "outputs": [],
   "source": [
    "from result_saver import SaverProvider\n",
    "\n",
    "provider = SaverProvider()"
   ]
  },
  {
   "cell_type": "markdown",
   "metadata": {},
   "source": [
    "# Initialize the simulator"
   ]
  },
  {
   "cell_type": "code",
   "execution_count": 19,
   "metadata": {},
   "outputs": [],
   "source": [
    "from soft_info import RepCodeIQSimulator\n",
    "\n",
    "DEVICE = 'ibm_sherbrooke'\n",
    "D = 11\n",
    "T = 11\n",
    "\n",
    "OTHER_DATE = '2024-03-24'\n",
    "DOUBLE_MSMT = True\n",
    "\n",
    "_is_hex = True\n",
    "if DEVICE == 'ibmq_mumbai':\n",
    "    _is_hex = False\n",
    "\n",
    "# Initialize simulator\n",
    "simulator = RepCodeIQSimulator(provider, D, T, DEVICE, _is_hex, OTHER_DATE, DOUBLE_MSMT)"
   ]
  },
  {
   "cell_type": "markdown",
   "metadata": {},
   "source": [
    "# Needed decoding objects"
   ]
  },
  {
   "cell_type": "code",
   "execution_count": 20,
   "metadata": {},
   "outputs": [
    {
     "name": "stdout",
     "output_type": "stream",
     "text": [
      "Found jobs for backend ibm_sherbrooke with closest execution date 2024-03-23 17:49:22.974787+00:00.\n",
      "Found jobs for backend ibm_sherbrooke with closest execution date 2024-03-23 17:49:53.348518+00:00.\n"
     ]
    }
   ],
   "source": [
    "# Get the KDEs\n",
    "import numpy as np\n",
    "from src import cpp_soft_info as csi\n",
    "from Scratch import load_calibration_memory\n",
    "\n",
    "bandwidths = [0.6]\n",
    "num_points = 20\n",
    "rel_error = 1\n",
    "\n",
    "all_memories, gmm_dict, _ = load_calibration_memory(provider, tobecalib_backend=DEVICE, \n",
    "                                                    other_date=OTHER_DATE, post_process=True,\n",
    "                                                    double_msmt=False)\n",
    "kde_dict = csi.get_KDEs(all_memories, bandwidths, relError=rel_error, absError=-1, num_points=num_points)\n",
    "\n",
    "\n",
    "all_memories_PS, gmm_dict_PS, msmt_err_dict_PS = load_calibration_memory(provider, tobecalib_backend=DEVICE, \n",
    "                                                                            other_date=OTHER_DATE, post_process=True,\n",
    "                                                                            double_msmt=True)\n",
    "kde_dict_PS = csi.get_KDEs(all_memories_PS, bandwidths, relError=rel_error, absError=-1, num_points=num_points)"
   ]
  },
  {
   "cell_type": "code",
   "execution_count": 21,
   "metadata": {},
   "outputs": [
    {
     "name": "stdout",
     "output_type": "stream",
     "text": [
      "0.6 0.6 0.6 0.6 0.6 0.6 0.6 0.6 0.6 0.6 0.6 0.6 0.6 0.6 0.6 0.6 0.6 0.6 0.6 0.6 0.6 0.6 0.6 0.6 0.6 0.6 0.6 0.6 0.6 0.6 0.6 0.6 0.6 0.6 0.6 0.6 0.6 0.6 0.6 0.6 0.6 0.6 0.6 0.6 0.6 0.6 0.6 0.6 0.6 0.6 0.6 0.6 0.6 0.6 0.6 0.6 0.6 0.6 0.6 0.6 0.6 0.6 0.6 0.6 0.6 0.6 0.6 0.6 0.6 0.6 0.6 0.6 0.6 0.6 0.6 0.6 0.6 0.6 0.6 0.6 0.6 0.6 0.6 0.6 0.6 0.6 0.6 0.6 0.6 0.6 0.6 0.6 0.6 0.6 0.6 0.6 0.6 0.6 0.6 0.6 0.6 0.6 0.6 0.6 0.6 0.6 0.6 0.6 0.6 0.6 0.6 0.6 0.6 0.6 0.6 0.6 0.6 0.6 0.6 0.6 0.6 0.6 0.6 0.6 0.6 0.6 0.6 \n",
      "0.6 0.6 0.6 0.6 0.6 0.6 0.6 0.6 0.6 0.6 0.6 0.6 0.6 0.6 0.6 0.6 0.6 0.6 0.6 0.6 0.6 0.6 0.6 0.6 0.6 0.6 0.6 0.6 0.6 0.6 0.6 0.6 0.6 0.6 0.6 0.6 0.6 0.6 0.6 0.6 0.6 0.6 0.6 0.6 0.6 0.6 0.6 0.6 0.6 0.6 0.6 0.6 0.6 0.6 0.6 0.6 0.6 0.6 0.6 0.6 0.6 0.6 0.6 0.6 0.6 0.6 0.6 0.6 0.6 0.6 0.6 0.6 0.6 0.6 0.6 0.6 0.6 0.6 0.6 0.6 0.6 0.6 0.6 0.6 0.6 0.6 0.6 0.6 0.6 0.6 0.6 0.6 0.6 0.6 0.6 0.6 0.6 0.6 0.6 0.6 0.6 0.6 0.6 0.6 0.6 0.6 0.6 0.6 0.6 0.6 0.6 0.6 0.6 0.6 0.6 0.6 0.6 0.6 0.6 0.6 0.6 0.6 0.6 0.6 0.6 0.6 0.6 \n",
      "\n",
      "mean normal: 0.5999999999999995\n",
      "mean PS: 0.5999999999999995\n",
      "std normal: 4.440892098500626e-16\n",
      "std PS: 4.440892098500626e-16\n"
     ]
    }
   ],
   "source": [
    "best_bandwidths = []\n",
    "for k, v in kde_dict.items():\n",
    "    print(v.bestBandwidth, end=' ')\n",
    "    best_bandwidths.append(v.bestBandwidth)\n",
    "\n",
    "print()\n",
    "\n",
    "best_bandwidths_PS = []\n",
    "for k, v in kde_dict_PS.items():\n",
    "    print(v.bestBandwidth, end = ' ')\n",
    "    best_bandwidths_PS.append(v.bestBandwidth)\n",
    "\n",
    "print()\n",
    "print()\n",
    "print(f\"mean normal: {np.mean(best_bandwidths)}\")\n",
    "print(f\"mean PS: {np.mean(best_bandwidths_PS)}\")\n",
    "print(f\"std normal: {np.std(best_bandwidths)}\")\n",
    "print(f\"std PS: {np.std(best_bandwidths_PS)}\")"
   ]
  },
  {
   "cell_type": "code",
   "execution_count": 22,
   "metadata": {},
   "outputs": [
    {
     "name": "stdout",
     "output_type": "stream",
     "text": [
      "simulator qubit 20 shape: (9411,)\n",
      "Used memories for PS qubit 20 shape: (9411,)\n"
     ]
    }
   ],
   "source": [
    "from soft_info import inv_qubit_mapping\n",
    "\n",
    "inverted_q_map = inv_qubit_mapping(simulator.qubit_mapping)\n",
    "\n",
    "# Check if the simulator is using post selection\n",
    "print(f\"simulator qubit 20 shape: {simulator.all_memories[20]['mmr_0'].shape}\")\n",
    "print(f\"Used memories for PS qubit 20 shape: {all_memories_PS[20]['mmr_0'].shape}\")\n"
   ]
  },
  {
   "cell_type": "markdown",
   "metadata": {},
   "source": [
    "# Get IQ Data"
   ]
  },
  {
   "cell_type": "code",
   "execution_count": 23,
   "metadata": {},
   "outputs": [],
   "source": [
    "XBASIS = False\n",
    "RESETS = False\n",
    "LOGICAL = '0'\n",
    "\n",
    "SHOTS = int(1e4)\n",
    "INDIVIDUAL = False\n",
    "\n",
    "IQ_data = simulator.generate_IQ(SHOTS, LOGICAL, XBASIS, RESETS, INDIVIDUAL)"
   ]
  },
  {
   "cell_type": "markdown",
   "metadata": {},
   "source": [
    "# Decode"
   ]
  },
  {
   "cell_type": "code",
   "execution_count": 24,
   "metadata": {},
   "outputs": [],
   "source": [
    "# Generate pSoft and countMat\n",
    "HANDLE_OUTLIERS = True\n",
    "\n",
    "pSoft, countMat = csi.iqConvertor(IQ_data, inverted_q_map, kde_dict, rel_error, -1, HANDLE_OUTLIERS)\n",
    "pSoft_PS, countMat_PS = csi.iqConvertor(IQ_data, inverted_q_map, kde_dict_PS, rel_error, -1, HANDLE_OUTLIERS)"
   ]
  },
  {
   "cell_type": "code",
   "execution_count": 25,
   "metadata": {},
   "outputs": [
    {
     "name": "stdout",
     "output_type": "stream",
     "text": [
      "noise_list: [0.012198849629634207, 0.0004089493467995245, 0.0016527862595933853, 0.0020821405014924475, 0.02578180156360313, 0.019907289814579635, 0]\n",
      "[two, single, t1, t2, readout, p_hard, p_soft]\n"
     ]
    }
   ],
   "source": [
    "# Initialize the stim circuits\n",
    "from soft_info import RepetitionCodeStimCircuit\n",
    "\n",
    "if INDIVIDUAL is False:\n",
    "    circ_soft = RepetitionCodeStimCircuit(D, T, XBASIS, RESETS, noise_list=simulator.noise_list, no_fin_soft=True)\n",
    "    model_soft = circ_soft.circuits[LOGICAL].detector_error_model()\n",
    "    circ_hard = RepetitionCodeStimCircuit(D, T, XBASIS, RESETS, noise_list=simulator.noise_list, no_fin_soft=False)\n",
    "    model_hard = circ_hard.circuits[LOGICAL].detector_error_model()\n",
    "else:\n",
    "    circ_soft = RepetitionCodeStimCircuit(D, T, XBASIS, RESETS, noise_list=simulator.noise_list, no_fin_soft=True,\n",
    "                                          msmt_err_dict=simulator.msmt_err_dict, layout=simulator.layout)\n",
    "    model_soft = circ_soft.circuits[LOGICAL].detector_error_model()\n",
    "    circ_hard = RepetitionCodeStimCircuit(D, T, XBASIS, RESETS, noise_list=simulator.noise_list, no_fin_soft=False,\n",
    "                                          msmt_err_dict=simulator.msmt_err_dict, layout=simulator.layout)\n",
    "    model_hard = circ_hard.circuits[LOGICAL].detector_error_model()\n",
    "\n",
    "print(f\"noise_list: {simulator.noise_list}\")\n",
    "print(\"[two, single, t1, t2, readout, p_hard, p_soft]\")"
   ]
  },
  {
   "cell_type": "code",
   "execution_count": 26,
   "metadata": {},
   "outputs": [],
   "source": [
    "# Decode\n",
    "res_s_K = csi.decodeConvertorAll(model_soft, countMat, pSoft, T, int(LOGICAL), RESETS, decode_hard = False)\n",
    "res_h_K = csi.decodeConvertorAll(model_hard, countMat, pSoft, T, int(LOGICAL), RESETS, decode_hard = True)\n",
    "\n",
    "res_s_K_PS = csi.decodeConvertorAll(model_soft, countMat_PS, pSoft_PS, T, int(LOGICAL), RESETS, decode_hard = False)\n",
    "res_h_K_PS = csi.decodeConvertorAll(model_hard, countMat_PS, pSoft_PS, T, int(LOGICAL), RESETS, decode_hard = True)"
   ]
  },
  {
   "cell_type": "code",
   "execution_count": 27,
   "metadata": {},
   "outputs": [
    {
     "name": "stdout",
     "output_type": "stream",
     "text": [
      "D: 11, T: 11, SHOTS: 10000, LOGICAL: 0, XBASIS: False, RESETS: False, INDIVIDUAL: False, DOUBLE_MSMTS: True\n",
      "\n",
      "soft KDE: 243 out of 10000 shots, handleOutliers: True\n",
      "hard KDE: 555 out of 10000 shots, handleOutliers: True\n",
      "\n",
      "soft KDE PS: 501 out of 10000 shots, handleOutliers: True, bandwidth: [0.6]\n",
      "hard KDE PS: 557 out of 10000 shots, handleOutliers: True, bandwidth: [0.6]\n"
     ]
    }
   ],
   "source": [
    "print(f\"D: {D}, T: {T}, SHOTS: {SHOTS}, LOGICAL: {LOGICAL}, XBASIS: {XBASIS}, RESETS: {RESETS}, INDIVIDUAL: {INDIVIDUAL}, DOUBLE_MSMTS: {DOUBLE_MSMT}\\n\")\n",
    "\n",
    "print(f\"soft KDE: {res_s_K.num_errors} out of {len(IQ_data)} shots, handleOutliers: {HANDLE_OUTLIERS}\")\n",
    "print(f\"hard KDE: {res_h_K.num_errors} out of {len(IQ_data)} shots, handleOutliers: {HANDLE_OUTLIERS}\")\n",
    "\n",
    "print()\n",
    "\n",
    "print(f\"soft KDE PS: {res_s_K_PS.num_errors} out of {len(IQ_data)} shots, handleOutliers: {HANDLE_OUTLIERS}, bandwidth: {bandwidths}\")\n",
    "print(f\"hard KDE PS: {res_h_K_PS.num_errors} out of {len(IQ_data)} shots, handleOutliers: {HANDLE_OUTLIERS}, bandwidth: {bandwidths}\")"
   ]
  },
  {
   "cell_type": "markdown",
   "metadata": {},
   "source": [
    "# Get counts"
   ]
  },
  {
   "cell_type": "code",
   "execution_count": 12,
   "metadata": {},
   "outputs": [],
   "source": [
    "counts = simulator.get_counts(SHOTS, simulator.stim_circ, RESETS)"
   ]
  },
  {
   "cell_type": "code",
   "execution_count": 13,
   "metadata": {},
   "outputs": [
    {
     "name": "stdout",
     "output_type": "stream",
     "text": [
      "Hard matching COUNTS: 2 out of 10000 shots\n"
     ]
    }
   ],
   "source": [
    "import pymatching\n",
    "from soft_info import counts_to_det_syndr\n",
    "\n",
    "matching = pymatching.Matching.from_detector_error_model(model_hard)\n",
    "\n",
    "num_errors = 0\n",
    "for count_key, shots in counts.items():\n",
    "\n",
    "    array_processed_str = counts_to_det_syndr(count_key, _resets=RESETS)\n",
    "    predicted_observable = matching.decode(array_processed_str)\n",
    "    actual_observable = [(int(count_key[0])+int(LOGICAL))%2]\n",
    "\n",
    "    if actual_observable != predicted_observable:\n",
    "        num_errors += shots\n",
    "\n",
    "print(f\"Hard matching COUNTS: {num_errors} out of {SHOTS} shots\")"
   ]
  },
  {
   "cell_type": "code",
   "execution_count": null,
   "metadata": {},
   "outputs": [],
   "source": []
  },
  {
   "cell_type": "code",
   "execution_count": null,
   "metadata": {},
   "outputs": [],
   "source": []
  }
 ],
 "metadata": {
  "kernelspec": {
   "display_name": "Soft-Info-fMUpUe5a",
   "language": "python",
   "name": "python3"
  },
  "language_info": {
   "codemirror_mode": {
    "name": "ipython",
    "version": 3
   },
   "file_extension": ".py",
   "mimetype": "text/x-python",
   "name": "python",
   "nbconvert_exporter": "python",
   "pygments_lexer": "ipython3",
   "version": "3.11.4"
  }
 },
 "nbformat": 4,
 "nbformat_minor": 2
}
