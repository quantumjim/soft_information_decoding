{
 "cells": [
  {
   "cell_type": "code",
   "execution_count": 1,
   "metadata": {},
   "outputs": [],
   "source": [
    "%reload_ext autoreload\n",
    "%autoreload 2"
   ]
  },
  {
   "cell_type": "code",
   "execution_count": 2,
   "metadata": {},
   "outputs": [],
   "source": [
    "from result_saver import SaverProvider\n",
    "\n",
    "provider = SaverProvider()"
   ]
  },
  {
   "cell_type": "markdown",
   "metadata": {},
   "source": [
    "# Initialize the simulator"
   ]
  },
  {
   "cell_type": "code",
   "execution_count": 3,
   "metadata": {},
   "outputs": [
    {
     "name": "stdout",
     "output_type": "stream",
     "text": [
      "14:29:14 Warning: Z0 decoding. Negative T2 error -0.08 % for qubit 38, setting to 0.. IN FILE: /Users/mha/My_Drive/Desktop/Studium/Physik/MSc/Semester_3/IBM/IBM_GIT/Soft-Info/src/soft_info/Hardware/backend_noise.py, LINE: 52\n",
      "14:29:14 Warning: Z0 decoding. Negative T2 error -0.01 % for qubit 39, setting to 0.. IN FILE: /Users/mha/My_Drive/Desktop/Studium/Physik/MSc/Semester_3/IBM/IBM_GIT/Soft-Info/src/soft_info/Hardware/backend_noise.py, LINE: 52\n",
      "14:29:14 Warning: Z0 decoding. Negative T2 error -0.01 % for qubit 111, setting to 0.. IN FILE: /Users/mha/My_Drive/Desktop/Studium/Physik/MSc/Semester_3/IBM/IBM_GIT/Soft-Info/src/soft_info/Hardware/backend_noise.py, LINE: 52\n",
      "Found jobs for backend ibm_sherbrooke with closest execution date 2024-03-23 17:49:53.348518+00:00.\n"
     ]
    }
   ],
   "source": [
    "from soft_info import RepCodeIQSimulator\n",
    "\n",
    "DEVICE = 'ibm_sherbrooke'\n",
    "D = 21\n",
    "T = 21\n",
    "\n",
    "OTHER_DATE = '2024-03-24'\n",
    "DOUBLE_MSMT = True\n",
    "BEST_PATH = False\n",
    "\n",
    "_is_hex = True\n",
    "if DEVICE == 'ibmq_mumbai':\n",
    "    _is_hex = False\n",
    "\n",
    "# Initialize simulator\n",
    "simulator = RepCodeIQSimulator(provider, D, T, DEVICE, _is_hex, OTHER_DATE, DOUBLE_MSMT, best_path=BEST_PATH)"
   ]
  },
  {
   "cell_type": "code",
   "execution_count": 4,
   "metadata": {},
   "outputs": [
    {
     "name": "stdout",
     "output_type": "stream",
     "text": [
      "(9411,)\n",
      "(15686,)\n"
     ]
    }
   ],
   "source": [
    "print(simulator.all_memories[20]['mmr_0'].shape)\n",
    "print(simulator.all_memories[1]['mmr_0'].shape)"
   ]
  },
  {
   "cell_type": "markdown",
   "metadata": {},
   "source": [
    "# Needed decoding objects"
   ]
  },
  {
   "cell_type": "code",
   "execution_count": 5,
   "metadata": {},
   "outputs": [
    {
     "name": "stdout",
     "output_type": "stream",
     "text": [
      "Found jobs for backend ibm_sherbrooke with closest execution date 2024-03-23 17:49:22.974787+00:00.\n",
      "Found jobs for backend ibm_sherbrooke with closest execution date 2024-03-23 17:49:53.348518+00:00.\n"
     ]
    }
   ],
   "source": [
    "# Get the KDEs\n",
    "import numpy as np\n",
    "import cpp_soft_info as csi\n",
    "from Scratch import load_calibration_memory\n",
    "\n",
    "bandwidths = [0.6]\n",
    "num_points = 20\n",
    "rel_error = 1\n",
    "\n",
    "all_memories, gmm_dict, _ = load_calibration_memory(provider, tobecalib_backend=DEVICE, \n",
    "                                                    other_date=OTHER_DATE, post_process=True,\n",
    "                                                    double_msmt=False)\n",
    "kde_dict = csi.get_KDEs(all_memories, bandwidths, relError=rel_error, absError=-1, num_points=num_points)\n",
    "\n",
    "\n",
    "all_memories_PS, gmm_dict_PS, msmt_err_dict_PS = load_calibration_memory(provider, tobecalib_backend=DEVICE, \n",
    "                                                                            other_date=OTHER_DATE, post_process=True,\n",
    "                                                                            double_msmt=True)\n",
    "kde_dict_PS = csi.get_KDEs(all_memories_PS, bandwidths, relError=rel_error, absError=-1, num_points=num_points)"
   ]
  },
  {
   "cell_type": "code",
   "execution_count": 6,
   "metadata": {},
   "outputs": [
    {
     "name": "stdout",
     "output_type": "stream",
     "text": [
      "0.6 0.6 0.6 0.6 0.6 0.6 0.6 0.6 0.6 0.6 0.6 0.6 0.6 0.6 0.6 0.6 0.6 0.6 0.6 0.6 0.6 0.6 0.6 0.6 0.6 0.6 0.6 0.6 0.6 0.6 0.6 0.6 0.6 0.6 0.6 0.6 0.6 0.6 0.6 0.6 0.6 0.6 0.6 0.6 0.6 0.6 0.6 0.6 0.6 0.6 0.6 0.6 0.6 0.6 0.6 0.6 0.6 0.6 0.6 0.6 0.6 0.6 0.6 0.6 0.6 0.6 0.6 0.6 0.6 0.6 0.6 0.6 0.6 0.6 0.6 0.6 0.6 0.6 0.6 0.6 0.6 0.6 0.6 0.6 0.6 0.6 0.6 0.6 0.6 0.6 0.6 0.6 0.6 0.6 0.6 0.6 0.6 0.6 0.6 0.6 0.6 0.6 0.6 0.6 0.6 0.6 0.6 0.6 0.6 0.6 0.6 0.6 0.6 0.6 0.6 0.6 0.6 0.6 0.6 0.6 0.6 0.6 0.6 0.6 0.6 0.6 0.6 \n",
      "0.6 0.6 0.6 0.6 0.6 0.6 0.6 0.6 0.6 0.6 0.6 0.6 0.6 0.6 0.6 0.6 0.6 0.6 0.6 0.6 0.6 0.6 0.6 0.6 0.6 0.6 0.6 0.6 0.6 0.6 0.6 0.6 0.6 0.6 0.6 0.6 0.6 0.6 0.6 0.6 0.6 0.6 0.6 0.6 0.6 0.6 0.6 0.6 0.6 0.6 0.6 0.6 0.6 0.6 0.6 0.6 0.6 0.6 0.6 0.6 0.6 0.6 0.6 0.6 0.6 0.6 0.6 0.6 0.6 0.6 0.6 0.6 0.6 0.6 0.6 0.6 0.6 0.6 0.6 0.6 0.6 0.6 0.6 0.6 0.6 0.6 0.6 0.6 0.6 0.6 0.6 0.6 0.6 0.6 0.6 0.6 0.6 0.6 0.6 0.6 0.6 0.6 0.6 0.6 0.6 0.6 0.6 0.6 0.6 0.6 0.6 0.6 0.6 0.6 0.6 0.6 0.6 0.6 0.6 0.6 0.6 0.6 0.6 0.6 0.6 0.6 0.6 \n",
      "\n",
      "mean normal: 0.5999999999999995\n",
      "mean PS: 0.5999999999999995\n",
      "std normal: 4.440892098500626e-16\n",
      "std PS: 4.440892098500626e-16\n"
     ]
    }
   ],
   "source": [
    "best_bandwidths = []\n",
    "for k, v in kde_dict.items():\n",
    "    print(v.bestBandwidth, end=' ')\n",
    "    best_bandwidths.append(v.bestBandwidth)\n",
    "\n",
    "print()\n",
    "\n",
    "best_bandwidths_PS = []\n",
    "for k, v in kde_dict_PS.items():\n",
    "    print(v.bestBandwidth, end = ' ')\n",
    "    best_bandwidths_PS.append(v.bestBandwidth)\n",
    "\n",
    "print()\n",
    "print()\n",
    "print(f\"mean normal: {np.mean(best_bandwidths)}\")\n",
    "print(f\"mean PS: {np.mean(best_bandwidths_PS)}\")\n",
    "print(f\"std normal: {np.std(best_bandwidths)}\")\n",
    "print(f\"std PS: {np.std(best_bandwidths_PS)}\")"
   ]
  },
  {
   "cell_type": "code",
   "execution_count": 7,
   "metadata": {},
   "outputs": [
    {
     "name": "stdout",
     "output_type": "stream",
     "text": [
      "simulator qubit 20 shape: (9411,)\n",
      "Used memories for PS qubit 20 shape: (9411,)\n"
     ]
    }
   ],
   "source": [
    "from soft_info import inv_qubit_mapping\n",
    "\n",
    "inverted_q_map = inv_qubit_mapping(simulator.qubit_mapping)\n",
    "\n",
    "# Check if the simulator is using post selection\n",
    "print(f\"simulator qubit 20 shape: {simulator.all_memories[20]['mmr_0'].shape}\")\n",
    "print(f\"Used memories for PS qubit 20 shape: {all_memories_PS[20]['mmr_0'].shape}\")\n"
   ]
  },
  {
   "cell_type": "markdown",
   "metadata": {},
   "source": [
    "# Get IQ Data"
   ]
  },
  {
   "cell_type": "code",
   "execution_count": 22,
   "metadata": {},
   "outputs": [
    {
     "name": "stdout",
     "output_type": "stream",
     "text": [
      "not correcting the counts for no resets\n"
     ]
    }
   ],
   "source": [
    "XBASIS = False\n",
    "RESETS = False\n",
    "LOGICAL = '0'\n",
    "\n",
    "SHOTS = int(1e4)\n",
    "INDIVIDUAL = False # for individual noise models \n",
    "\n",
    "simulator.noise_list = [rate * 2 for rate in simulator.noise_list]\n",
    "\n",
    "IQ_data = simulator.generate_IQ(SHOTS, LOGICAL, XBASIS, RESETS, INDIVIDUAL)"
   ]
  },
  {
   "cell_type": "code",
   "execution_count": 23,
   "metadata": {},
   "outputs": [
    {
     "name": "stdout",
     "output_type": "stream",
     "text": [
      "[0.06958482383981304, 0.0009208944694935095, 0.003040234708035807, 0.005521021278064551, 0.05156360312720626, 0.03981457962915927, 0]\n"
     ]
    }
   ],
   "source": [
    "# # # Manually modify the simulator\n",
    "# # from soft_info import get_repcode_IQ_map\n",
    "\n",
    "# # print(simulator.noise_list)\n",
    "# # simulator.noise_list = [0]*7\n",
    "# # print(simulator.layout)\n",
    "# # simulator.layout[0] = 20\n",
    "# # simulator.qubit_mapping = get_repcode_IQ_map(simulator.layout, T)\n",
    "# # inverted_q_map = inv_qubit_mapping(simulator.qubit_mapping)\n",
    "\n",
    "# simulator.noise_list = [1e-2]*7\n",
    "# simulator.noise_list[-1] = 0 # no soft\n",
    "# simulator.noise_list[-2] = 0 # no hard\n",
    "print(simulator.noise_list)"
   ]
  },
  {
   "cell_type": "code",
   "execution_count": 24,
   "metadata": {},
   "outputs": [],
   "source": [
    "# stim_circ = simulator.get_stim_circuit(LOGICAL, XBASIS, RESETS, INDIVIDUAL)\n",
    "# counts = simulator.get_counts(SHOTS, stim_circ, RESETS)\n",
    "# # counts = {'111 11 11 11': SHOTS}\n",
    "# IQ_data = simulator.counts_to_IQ(counts)"
   ]
  },
  {
   "cell_type": "code",
   "execution_count": 25,
   "metadata": {},
   "outputs": [],
   "source": [
    "# print(counts) \n",
    "# print(stim_circ)"
   ]
  },
  {
   "cell_type": "code",
   "execution_count": 26,
   "metadata": {},
   "outputs": [],
   "source": [
    "# # Plot the IQ data\n",
    "# from soft_info import plot_IQ_data\n",
    "\n",
    "# for idx, (qubit, cols) in enumerate(inverted_q_map.items()):\n",
    "#     # if idx < 21:\n",
    "#     #     continue\n",
    "#     print(f\"qubit idx: {qubit}\")\n",
    "#     data = IQ_data[:, cols]\n",
    "#     plot_IQ_data(data)"
   ]
  },
  {
   "cell_type": "markdown",
   "metadata": {},
   "source": [
    "# Decode"
   ]
  },
  {
   "cell_type": "code",
   "execution_count": 27,
   "metadata": {},
   "outputs": [],
   "source": [
    "# Generate pSoft and countMat\n",
    "HANDLE_OUTLIERS = True\n",
    "\n",
    "pSoft, countMat = csi.iqConvertor(IQ_data, inverted_q_map, kde_dict, rel_error, -1, HANDLE_OUTLIERS)\n",
    "pSoft_PS, countMat_PS = csi.iqConvertor(IQ_data, inverted_q_map, kde_dict_PS, rel_error, -1, HANDLE_OUTLIERS)"
   ]
  },
  {
   "cell_type": "code",
   "execution_count": 28,
   "metadata": {},
   "outputs": [
    {
     "name": "stdout",
     "output_type": "stream",
     "text": [
      "noise_list: [0.06958482383981304, 0.0009208944694935095, 0.003040234708035807, 0.005521021278064551, 0.05156360312720626, 0.03981457962915927, 0]\n",
      "[two, single, t1, t2, readout, p_hard, p_soft]\n"
     ]
    }
   ],
   "source": [
    "# Initialize the stim circuits\n",
    "from soft_info import RepetitionCodeStimCircuit\n",
    "\n",
    "if INDIVIDUAL is False:\n",
    "    circ_soft = RepetitionCodeStimCircuit(D, T, XBASIS, RESETS, noise_list=simulator.noise_list, no_fin_soft=True)\n",
    "    model_soft = circ_soft.circuits[LOGICAL].detector_error_model()\n",
    "    circ_hard = RepetitionCodeStimCircuit(D, T, XBASIS, RESETS, noise_list=simulator.noise_list, no_fin_soft=False)\n",
    "    model_hard = circ_hard.circuits[LOGICAL].detector_error_model()\n",
    "else:\n",
    "    circ_soft = RepetitionCodeStimCircuit(D, T, XBASIS, RESETS, noise_list=simulator.noise_list, no_fin_soft=True,\n",
    "                                          msmt_err_dict=simulator.msmt_err_dict, layout=simulator.layout)\n",
    "    model_soft = circ_soft.circuits[LOGICAL].detector_error_model()\n",
    "    circ_hard = RepetitionCodeStimCircuit(D, T, XBASIS, RESETS, noise_list=simulator.noise_list, no_fin_soft=False,\n",
    "                                          msmt_err_dict=simulator.msmt_err_dict, layout=simulator.layout)\n",
    "    model_hard = circ_hard.circuits[LOGICAL].detector_error_model()\n",
    "\n",
    "print(f\"noise_list: {simulator.noise_list}\")\n",
    "print(\"[two, single, t1, t2, readout, p_hard, p_soft]\")"
   ]
  },
  {
   "cell_type": "code",
   "execution_count": 29,
   "metadata": {},
   "outputs": [],
   "source": [
    "# from soft_info import draw_matching_graph\n",
    "# import pymatching\n",
    "\n",
    "# matching = pymatching.Matching.from_detector_error_model(model_hard)\n",
    "# draw_matching_graph(matching, figsize=(1.5,1.5), scale_factor=0.3)"
   ]
  },
  {
   "cell_type": "code",
   "execution_count": 30,
   "metadata": {},
   "outputs": [],
   "source": [
    "# Decode\n",
    "res_s_K = csi.decodeConvertorAll(model_soft, countMat, pSoft, T, int(LOGICAL), RESETS, decode_hard = False)\n",
    "res_h_K = csi.decodeConvertorAll(model_hard, countMat, pSoft, T, int(LOGICAL), RESETS, decode_hard = True)\n",
    "\n",
    "res_s_K_PS = csi.decodeConvertorAll(model_soft, countMat_PS, pSoft_PS, T, int(LOGICAL), RESETS, decode_hard = False)\n",
    "res_h_K_PS = csi.decodeConvertorAll(model_hard, countMat_PS, pSoft_PS, T, int(LOGICAL), RESETS, decode_hard = True)"
   ]
  },
  {
   "cell_type": "code",
   "execution_count": 31,
   "metadata": {},
   "outputs": [],
   "source": [
    "# multiplier = 2\n",
    "# pSoft2 = pSoft*multiplier\n",
    "# pSoft_PS2 = pSoft_PS*multiplier\n",
    "\n",
    "offset = 0.01\n",
    "pSoft2 = pSoft + offset\n",
    "pSoft_PS2 = pSoft_PS + offset\n",
    "\n",
    "res_s_K_2 = csi.decodeConvertorAll(model_soft, countMat, pSoft2, T, int(LOGICAL), RESETS, decode_hard = False)\n",
    "res_s_K_PS_2 = csi.decodeConvertorAll(model_soft, countMat_PS, pSoft_PS2, T, int(LOGICAL), RESETS, decode_hard = False)"
   ]
  },
  {
   "cell_type": "code",
   "execution_count": 32,
   "metadata": {},
   "outputs": [
    {
     "name": "stdout",
     "output_type": "stream",
     "text": [
      "D: 21, T: 21, SHOTS: 10000, LOGICAL: 0, XBASIS: False, RESETS: False, INDIVIDUAL: False, DOUBLE_MSMTS: True\n",
      "noise_list: [0.06958482383981304, 0.0009208944694935095, 0.003040234708035807, 0.005521021278064551, 0.05156360312720626, 0.03981457962915927, 0] \n",
      "\n",
      "path_info: None\n",
      "soft KDE: 202 out of 10000 shots, handleOutliers: True, bandwidth: [0.6]\n",
      "soft KDE 2: 242 out of 10000 shots, handleOutliers: True, bandwidth: [0.6]\n",
      "hard KDE: 200 out of 10000 shots, handleOutliers: True, bandwidth: [0.6]\n",
      "\n",
      "soft KDE PS: 168 out of 10000 shots, handleOutliers: True, bandwidth: [0.6]\n",
      "soft KDE PS 2: 176 out of 10000 shots, handleOutliers: True, bandwidth: [0.6]\n",
      "hard KDE PS: 196 out of 10000 shots, handleOutliers: True, bandwidth: [0.6]\n"
     ]
    }
   ],
   "source": [
    "print(f\"D: {D}, T: {T}, SHOTS: {SHOTS}, LOGICAL: {LOGICAL}, XBASIS: {XBASIS}, RESETS: {RESETS}, INDIVIDUAL: {INDIVIDUAL}, DOUBLE_MSMTS: {DOUBLE_MSMT}\")\n",
    "print(f\"noise_list: {simulator.noise_list} \\n\")\n",
    "print(f\"path_info: {simulator.path_info}\") if BEST_PATH else print(f\"path_info: None\")\n",
    "\n",
    "print(f\"soft KDE: {res_s_K.num_errors} out of {len(IQ_data)} shots, handleOutliers: {HANDLE_OUTLIERS}, bandwidth: {bandwidths}\")\n",
    "print(f\"soft KDE 2: {res_s_K_2.num_errors} out of {len(IQ_data)} shots, handleOutliers: {HANDLE_OUTLIERS}, bandwidth: {bandwidths}\")\n",
    "print(f\"hard KDE: {res_h_K.num_errors} out of {len(IQ_data)} shots, handleOutliers: {HANDLE_OUTLIERS}, bandwidth: {bandwidths}\")\n",
    "\n",
    "print()\n",
    "\n",
    "print(f\"soft KDE PS: {res_s_K_PS.num_errors} out of {len(IQ_data)} shots, handleOutliers: {HANDLE_OUTLIERS}, bandwidth: {bandwidths}\")\n",
    "print(f\"soft KDE PS 2: {res_s_K_PS_2.num_errors} out of {len(IQ_data)} shots, handleOutliers: {HANDLE_OUTLIERS}, bandwidth: {bandwidths}\")\n",
    "print(f\"hard KDE PS: {res_h_K_PS.num_errors} out of {len(IQ_data)} shots, handleOutliers: {HANDLE_OUTLIERS}, bandwidth: {bandwidths}\")\n"
   ]
  },
  {
   "cell_type": "markdown",
   "metadata": {},
   "source": [
    "# Analysis of count mat"
   ]
  },
  {
   "cell_type": "code",
   "execution_count": 19,
   "metadata": {},
   "outputs": [
    {
     "name": "stdout",
     "output_type": "stream",
     "text": [
      "countMat nb of 1s: 1614085\n",
      "countMat_PS nb of 1s: 1613118\n",
      "\n",
      "pSoft mean: 0.020866533207708766\n",
      "pSoft_PS mean: 0.005662303220061662\n",
      "\n",
      "pSoft2 mean: 0.030866533207708765\n",
      "pSoft_PS2 mean: 0.015662303220061645\n"
     ]
    }
   ],
   "source": [
    "# Print the number of 1s in countMat vs countMat_PS\n",
    "print(f\"countMat nb of 1s: {np.sum(countMat)}\")\n",
    "print(f\"countMat_PS nb of 1s: {np.sum(countMat_PS)}\")\n",
    "print() \n",
    "print(f\"pSoft mean: {np.mean(pSoft)}\")\n",
    "print(f\"pSoft_PS mean: {np.mean(pSoft_PS)}\")\n",
    "print()\n",
    "print(f\"pSoft2 mean: {np.mean(pSoft2)}\")\n",
    "print(f\"pSoft_PS2 mean: {np.mean(pSoft_PS2)}\")"
   ]
  },
  {
   "cell_type": "markdown",
   "metadata": {},
   "source": [
    "# Get counts"
   ]
  },
  {
   "cell_type": "code",
   "execution_count": 20,
   "metadata": {},
   "outputs": [
    {
     "name": "stdout",
     "output_type": "stream",
     "text": [
      "not correcting the counts for no resets\n"
     ]
    }
   ],
   "source": [
    "counts = simulator.get_counts(SHOTS, simulator.stim_circ, RESETS)"
   ]
  },
  {
   "cell_type": "code",
   "execution_count": 21,
   "metadata": {},
   "outputs": [
    {
     "name": "stdout",
     "output_type": "stream",
     "text": [
      "Hard matching COUNTS: 0 out of 10000 shots\n"
     ]
    }
   ],
   "source": [
    "import pymatching\n",
    "from soft_info import counts_to_det_syndr\n",
    "\n",
    "matching = pymatching.Matching.from_detector_error_model(model_hard)\n",
    "\n",
    "num_errors = 0\n",
    "for count_key, shots in counts.items():\n",
    "\n",
    "    array_processed_str = counts_to_det_syndr(count_key, _resets=RESETS)\n",
    "    predicted_observable = matching.decode(array_processed_str)\n",
    "    actual_observable = [(int(count_key[0])+int(LOGICAL))%2]\n",
    "\n",
    "    if actual_observable != predicted_observable:\n",
    "        num_errors += shots\n",
    "\n",
    "print(f\"Hard matching COUNTS: {num_errors} out of {SHOTS} shots\")"
   ]
  },
  {
   "cell_type": "code",
   "execution_count": null,
   "metadata": {},
   "outputs": [],
   "source": []
  }
 ],
 "metadata": {
  "kernelspec": {
   "display_name": "Soft-Info-fMUpUe5a",
   "language": "python",
   "name": "python3"
  },
  "language_info": {
   "codemirror_mode": {
    "name": "ipython",
    "version": 3
   },
   "file_extension": ".py",
   "mimetype": "text/x-python",
   "name": "python",
   "nbconvert_exporter": "python",
   "pygments_lexer": "ipython3",
   "version": "3.11.4"
  }
 },
 "nbformat": 4,
 "nbformat_minor": 2
}
