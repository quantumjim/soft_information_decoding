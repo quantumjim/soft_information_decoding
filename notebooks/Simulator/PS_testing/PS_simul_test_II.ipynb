{
 "cells": [
  {
   "cell_type": "code",
   "execution_count": 1,
   "metadata": {},
   "outputs": [],
   "source": [
    "%reload_ext autoreload\n",
    "%autoreload 2"
   ]
  },
  {
   "cell_type": "code",
   "execution_count": 2,
   "metadata": {},
   "outputs": [],
   "source": [
    "from result_saver import SaverProvider\n",
    "\n",
    "provider = SaverProvider()"
   ]
  },
  {
   "cell_type": "markdown",
   "metadata": {},
   "source": [
    "# Initialize the simulator"
   ]
  },
  {
   "cell_type": "code",
   "execution_count": 3,
   "metadata": {},
   "outputs": [
    {
     "name": "stdout",
     "output_type": "stream",
     "text": [
      "18:29:02 Warning: Z0 decoding. Negative T2 error -0.08 % for qubit 38, setting to 0.. IN FILE: /Users/mha/My_Drive/Desktop/Studium/Physik/MSc/Semester_3/IBM/IBM_GIT/Soft-Info/src/soft_info/Hardware/backend_noise.py, LINE: 52\n",
      "18:29:02 Warning: Z0 decoding. Negative T2 error -0.01 % for qubit 39, setting to 0.. IN FILE: /Users/mha/My_Drive/Desktop/Studium/Physik/MSc/Semester_3/IBM/IBM_GIT/Soft-Info/src/soft_info/Hardware/backend_noise.py, LINE: 52\n",
      "18:29:02 Warning: Z0 decoding. Negative T2 error -0.01 % for qubit 111, setting to 0.. IN FILE: /Users/mha/My_Drive/Desktop/Studium/Physik/MSc/Semester_3/IBM/IBM_GIT/Soft-Info/src/soft_info/Hardware/backend_noise.py, LINE: 52\n",
      "Found jobs for backend ibm_sherbrooke with closest execution date 2024-03-23 17:49:53.348518+00:00.\n"
     ]
    }
   ],
   "source": [
    "from soft_info import RepCodeIQSimulator\n",
    "\n",
    "DEVICE = 'ibm_sherbrooke'\n",
    "D = 11\n",
    "T = 50\n",
    "\n",
    "OTHER_DATE = '2024-03-24'\n",
    "DOUBLE_MSMT = True\n",
    "BEST_PATH = False\n",
    "\n",
    "_is_hex = True\n",
    "if DEVICE == 'ibmq_mumbai':\n",
    "    _is_hex = False\n",
    "\n",
    "# Initialize simulator\n",
    "simulator = RepCodeIQSimulator(provider, D, T, DEVICE, _is_hex, OTHER_DATE, DOUBLE_MSMT, best_path=BEST_PATH)"
   ]
  },
  {
   "cell_type": "code",
   "execution_count": 4,
   "metadata": {},
   "outputs": [
    {
     "name": "stdout",
     "output_type": "stream",
     "text": [
      "(9411,)\n",
      "(15686,)\n"
     ]
    }
   ],
   "source": [
    "print(simulator.all_memories[20]['mmr_0'].shape)\n",
    "print(simulator.all_memories[1]['mmr_0'].shape)"
   ]
  },
  {
   "cell_type": "markdown",
   "metadata": {},
   "source": [
    "# Needed decoding objects"
   ]
  },
  {
   "cell_type": "code",
   "execution_count": 5,
   "metadata": {},
   "outputs": [
    {
     "name": "stdout",
     "output_type": "stream",
     "text": [
      "Found jobs for backend ibm_sherbrooke with closest execution date 2024-03-23 17:49:22.974787+00:00.\n",
      "Found jobs for backend ibm_sherbrooke with closest execution date 2024-03-23 17:49:53.348518+00:00.\n"
     ]
    }
   ],
   "source": [
    "# Get the KDEs\n",
    "import numpy as np\n",
    "import cpp_soft_info as csi\n",
    "from Scratch import load_calibration_memory\n",
    "\n",
    "bandwidths = [0.6]\n",
    "num_points = 20\n",
    "rel_error = 1\n",
    "\n",
    "all_memories, gmm_dict, _ = load_calibration_memory(provider, tobecalib_backend=DEVICE, \n",
    "                                                    other_date=OTHER_DATE, post_process=True,\n",
    "                                                    double_msmt=False)\n",
    "kde_dict = csi.get_KDEs(all_memories, bandwidths, relError=rel_error, absError=-1, num_points=num_points)\n",
    "\n",
    "\n",
    "all_memories_PS, gmm_dict_PS, msmt_err_dict_PS = load_calibration_memory(provider, tobecalib_backend=DEVICE, \n",
    "                                                                            other_date=OTHER_DATE, post_process=True,\n",
    "                                                                            double_msmt=True)\n",
    "kde_dict_PS = csi.get_KDEs(all_memories_PS, bandwidths, relError=rel_error, absError=-1, num_points=num_points)"
   ]
  },
  {
   "cell_type": "code",
   "execution_count": 6,
   "metadata": {},
   "outputs": [
    {
     "name": "stdout",
     "output_type": "stream",
     "text": [
      "0.6 0.6 0.6 0.6 0.6 0.6 0.6 0.6 0.6 0.6 0.6 0.6 0.6 0.6 0.6 0.6 0.6 0.6 0.6 0.6 0.6 0.6 0.6 0.6 0.6 0.6 0.6 0.6 0.6 0.6 0.6 0.6 0.6 0.6 0.6 0.6 0.6 0.6 0.6 0.6 0.6 0.6 0.6 0.6 0.6 0.6 0.6 0.6 0.6 0.6 0.6 0.6 0.6 0.6 0.6 0.6 0.6 0.6 0.6 0.6 0.6 0.6 0.6 0.6 0.6 0.6 0.6 0.6 0.6 0.6 0.6 0.6 0.6 0.6 0.6 0.6 0.6 0.6 0.6 0.6 0.6 0.6 0.6 0.6 0.6 0.6 0.6 0.6 0.6 0.6 0.6 0.6 0.6 0.6 0.6 0.6 0.6 0.6 0.6 0.6 0.6 0.6 0.6 0.6 0.6 0.6 0.6 0.6 0.6 0.6 0.6 0.6 0.6 0.6 0.6 0.6 0.6 0.6 0.6 0.6 0.6 0.6 0.6 0.6 0.6 0.6 0.6 \n",
      "0.6 0.6 0.6 0.6 0.6 0.6 0.6 0.6 0.6 0.6 0.6 0.6 0.6 0.6 0.6 0.6 0.6 0.6 0.6 0.6 0.6 0.6 0.6 0.6 0.6 0.6 0.6 0.6 0.6 0.6 0.6 0.6 0.6 0.6 0.6 0.6 0.6 0.6 0.6 0.6 0.6 0.6 0.6 0.6 0.6 0.6 0.6 0.6 0.6 0.6 0.6 0.6 0.6 0.6 0.6 0.6 0.6 0.6 0.6 0.6 0.6 0.6 0.6 0.6 0.6 0.6 0.6 0.6 0.6 0.6 0.6 0.6 0.6 0.6 0.6 0.6 0.6 0.6 0.6 0.6 0.6 0.6 0.6 0.6 0.6 0.6 0.6 0.6 0.6 0.6 0.6 0.6 0.6 0.6 0.6 0.6 0.6 0.6 0.6 0.6 0.6 0.6 0.6 0.6 0.6 0.6 0.6 0.6 0.6 0.6 0.6 0.6 0.6 0.6 0.6 0.6 0.6 0.6 0.6 0.6 0.6 0.6 0.6 0.6 0.6 0.6 0.6 \n",
      "\n",
      "mean normal: 0.5999999999999995\n",
      "mean PS: 0.5999999999999995\n",
      "std normal: 4.440892098500626e-16\n",
      "std PS: 4.440892098500626e-16\n"
     ]
    }
   ],
   "source": [
    "best_bandwidths = []\n",
    "for k, v in kde_dict.items():\n",
    "    print(v.bestBandwidth, end=' ')\n",
    "    best_bandwidths.append(v.bestBandwidth)\n",
    "\n",
    "print()\n",
    "\n",
    "best_bandwidths_PS = []\n",
    "for k, v in kde_dict_PS.items():\n",
    "    print(v.bestBandwidth, end = ' ')\n",
    "    best_bandwidths_PS.append(v.bestBandwidth)\n",
    "\n",
    "print()\n",
    "print()\n",
    "print(f\"mean normal: {np.mean(best_bandwidths)}\")\n",
    "print(f\"mean PS: {np.mean(best_bandwidths_PS)}\")\n",
    "print(f\"std normal: {np.std(best_bandwidths)}\")\n",
    "print(f\"std PS: {np.std(best_bandwidths_PS)}\")"
   ]
  },
  {
   "cell_type": "code",
   "execution_count": 7,
   "metadata": {},
   "outputs": [
    {
     "name": "stdout",
     "output_type": "stream",
     "text": [
      "simulator qubit 20 shape: (9411,)\n",
      "Used memories for PS qubit 20 shape: (9411,)\n"
     ]
    }
   ],
   "source": [
    "from soft_info import inv_qubit_mapping\n",
    "\n",
    "inverted_q_map = inv_qubit_mapping(simulator.qubit_mapping)\n",
    "\n",
    "# Check if the simulator is using post selection\n",
    "print(f\"simulator qubit 20 shape: {simulator.all_memories[20]['mmr_0'].shape}\")\n",
    "print(f\"Used memories for PS qubit 20 shape: {all_memories_PS[20]['mmr_0'].shape}\")\n"
   ]
  },
  {
   "cell_type": "markdown",
   "metadata": {},
   "source": [
    "# Get IQ Data"
   ]
  },
  {
   "cell_type": "code",
   "execution_count": 8,
   "metadata": {},
   "outputs": [
    {
     "name": "stdout",
     "output_type": "stream",
     "text": [
      "not correcting the counts for no resets\n"
     ]
    }
   ],
   "source": [
    "XBASIS = True\n",
    "RESETS = False\n",
    "LOGICAL = '0'\n",
    "\n",
    "SHOTS = int(15e3)\n",
    "INDIVIDUAL = False # for individual noise models \n",
    "\n",
    "# simulator.noise_list = [rate * 2 for rate in simulator.noise_list]\n",
    "\n",
    "IQ_data = simulator.generate_IQ(SHOTS, LOGICAL, XBASIS, RESETS, INDIVIDUAL)"
   ]
  },
  {
   "cell_type": "code",
   "execution_count": 9,
   "metadata": {},
   "outputs": [
    {
     "name": "stdout",
     "output_type": "stream",
     "text": [
      "[0.012198849629634207, 0.0004089493467995245, 0.0016527862595933853, 0.0020821405014924475, 0.02578180156360313, 0.019907289814579635, 0]\n"
     ]
    }
   ],
   "source": [
    "# # # Manually modify the simulator\n",
    "# # from soft_info import get_repcode_IQ_map\n",
    "\n",
    "# # print(simulator.noise_list)\n",
    "# # simulator.noise_list = [0]*7\n",
    "# # print(simulator.layout)\n",
    "# # simulator.layout[0] = 20\n",
    "# # simulator.qubit_mapping = get_repcode_IQ_map(simulator.layout, T)\n",
    "# # inverted_q_map = inv_qubit_mapping(simulator.qubit_mapping)\n",
    "\n",
    "# simulator.noise_list = [1e-2]*7\n",
    "# simulator.noise_list[-1] = 0 # no soft\n",
    "# simulator.noise_list[-2] = 0 # no hard\n",
    "print(simulator.noise_list)"
   ]
  },
  {
   "cell_type": "code",
   "execution_count": 10,
   "metadata": {},
   "outputs": [],
   "source": [
    "# stim_circ = simulator.get_stim_circuit(LOGICAL, XBASIS, RESETS, INDIVIDUAL)\n",
    "# counts = simulator.get_counts(SHOTS, stim_circ, RESETS)\n",
    "# # counts = {'111 11 11 11': SHOTS}\n",
    "# IQ_data = simulator.counts_to_IQ(counts)"
   ]
  },
  {
   "cell_type": "code",
   "execution_count": 11,
   "metadata": {},
   "outputs": [],
   "source": [
    "# print(counts) \n",
    "# print(stim_circ)"
   ]
  },
  {
   "cell_type": "code",
   "execution_count": 12,
   "metadata": {},
   "outputs": [],
   "source": [
    "# # Plot the IQ data\n",
    "# from soft_info import plot_IQ_data\n",
    "\n",
    "# for idx, (qubit, cols) in enumerate(inverted_q_map.items()):\n",
    "#     # if idx < 21:\n",
    "#     #     continue\n",
    "#     print(f\"qubit idx: {qubit}\")\n",
    "#     data = IQ_data[:, cols]\n",
    "#     plot_IQ_data(data)"
   ]
  },
  {
   "cell_type": "markdown",
   "metadata": {},
   "source": [
    "# Decode"
   ]
  },
  {
   "cell_type": "code",
   "execution_count": 13,
   "metadata": {},
   "outputs": [],
   "source": [
    "# Generate pSoft and countMat\n",
    "HANDLE_OUTLIERS = True\n",
    "\n",
    "pSoft, countMat = csi.iqConvertor(IQ_data, inverted_q_map, kde_dict, rel_error, -1, HANDLE_OUTLIERS)\n",
    "pSoft_PS, countMat_PS = csi.iqConvertor(IQ_data, inverted_q_map, kde_dict_PS, rel_error, -1, HANDLE_OUTLIERS)"
   ]
  },
  {
   "cell_type": "code",
   "execution_count": 14,
   "metadata": {},
   "outputs": [
    {
     "name": "stdout",
     "output_type": "stream",
     "text": [
      "simulator noise list: [0.012198849629634207, 0.0004089493467995245, 0.0016527862595933853, 0.0020821405014924475, 0.02578180156360313, 0.019907289814579635, 0]\n",
      "noise_list: [0.012198849629634207, 0.0004089493467995245, 0.0016527862595933853, 0.0020821405014924475, 0.02578180156360313, 0.019907289814579635, 0.0019000860351197691]\n",
      "simulator noise list: [0.012198849629634207, 0.0004089493467995245, 0.0016527862595933853, 0.0020821405014924475, 0.02578180156360313, 0.019907289814579635, 0]\n",
      "[two, single, t1, t2, readout, p_hard, p_soft]\n"
     ]
    }
   ],
   "source": [
    "# Initialize the stim circuits\n",
    "from soft_info import RepetitionCodeStimCircuit\n",
    "\n",
    "if INDIVIDUAL is False:\n",
    "    print(f\"simulator noise list: {simulator.noise_list}\")\n",
    "    circ_soft = RepetitionCodeStimCircuit(D, T, XBASIS, RESETS, noise_list=simulator.noise_list, no_fin_soft=True)\n",
    "    model_soft = circ_soft.circuits[LOGICAL].detector_error_model()\n",
    "    noise_list = simulator.noise_list.copy()\n",
    "    noise_list[-1] = np.mean(pSoft_PS)\n",
    "    print(f\"noise_list: {noise_list}\")\n",
    "    print(f\"simulator noise list: {simulator.noise_list}\")\n",
    "    circ_hard = RepetitionCodeStimCircuit(D, T, XBASIS, RESETS, noise_list=noise_list, no_fin_soft=False)\n",
    "    model_hard = circ_hard.circuits[LOGICAL].detector_error_model()\n",
    "else:\n",
    "    raise NotImplementedError\n",
    "    circ_soft = RepetitionCodeStimCircuit(D, T, XBASIS, RESETS, noise_list=simulator.noise_list, no_fin_soft=True,\n",
    "                                          msmt_err_dict=simulator.msmt_err_dict, layout=simulator.layout)\n",
    "    model_soft = circ_soft.circuits[LOGICAL].detector_error_model()\n",
    "    circ_hard = RepetitionCodeStimCircuit(D, T, XBASIS, RESETS, noise_list=simulator.noise_list, no_fin_soft=False,\n",
    "                                          msmt_err_dict=simulator.msmt_err_dict, layout=simulator.layout)\n",
    "    model_hard = circ_hard.circuits[LOGICAL].detector_error_model()\n",
    "\n",
    "print(\"[two, single, t1, t2, readout, p_hard, p_soft]\")"
   ]
  },
  {
   "cell_type": "code",
   "execution_count": 15,
   "metadata": {},
   "outputs": [],
   "source": [
    "# from soft_info import draw_matching_graph\n",
    "# import pymatching\n",
    "\n",
    "# matching = pymatching.Matching.from_detector_error_model(model_hard)\n",
    "# draw_matching_graph(matching, figsize=(1.5,1.5), scale_factor=0.3)"
   ]
  },
  {
   "cell_type": "code",
   "execution_count": 16,
   "metadata": {},
   "outputs": [],
   "source": [
    "# Decode\n",
    "res_s_K = csi.decodeConvertorAll(model_soft, countMat, pSoft, T, int(LOGICAL), RESETS, decode_hard = False)\n",
    "res_h_K = csi.decodeConvertorAll(model_hard, countMat, pSoft, T, int(LOGICAL), RESETS, decode_hard = True)\n",
    "\n",
    "res_s_K_PS = csi.decodeConvertorAll(model_soft, countMat_PS, pSoft_PS, T, int(LOGICAL), RESETS, decode_hard = False)\n",
    "res_h_K_PS = csi.decodeConvertorAll(model_hard, countMat_PS, pSoft_PS, T, int(LOGICAL), RESETS, decode_hard = True)"
   ]
  },
  {
   "cell_type": "code",
   "execution_count": 29,
   "metadata": {},
   "outputs": [],
   "source": [
    "# multiplier = 2\n",
    "# pSoft2 = pSoft*multiplier\n",
    "# pSoft_PS2 = pSoft_PS*multiplier\n",
    "\n",
    "# offset = 0.01\n",
    "# pSoft2 = pSoft + offset\n",
    "# pSoft_PS2 = pSoft_PS + offset\n",
    "\n",
    "\n",
    "offset = 0.1\n",
    "outcome = 1\n",
    "\n",
    "pSoft_new = pSoft.copy()\n",
    "pSoft_PS_new = pSoft_PS.copy()\n",
    "# biased offset\n",
    "pSoft_new[countMat == outcome] += offset\n",
    "pSoft_PS_new[countMat_PS == outcome] += offset\n",
    "# set to 0.5\n",
    "pSoft_new[pSoft_new > 0.5] = 0.5\n",
    "pSoft_new[pSoft_new <= 0] = 1e-8\n",
    "pSoft_PS_new[pSoft_PS_new > 0.5] = 0.5\n",
    "pSoft_PS_new[pSoft_PS_new <= 0] = 1e-8\n",
    "\n",
    "\n",
    "res_s_K_2 = csi.decodeConvertorAll(model_soft, countMat, pSoft_new, T, int(LOGICAL), RESETS, decode_hard = False)\n",
    "res_s_K_PS_2 = csi.decodeConvertorAll(model_soft, countMat_PS, pSoft_PS_new, T, int(LOGICAL), RESETS, decode_hard = False)"
   ]
  },
  {
   "cell_type": "code",
   "execution_count": 30,
   "metadata": {},
   "outputs": [
    {
     "name": "stdout",
     "output_type": "stream",
     "text": [
      "D: 11, T: 50, SHOTS: 15000, LOGICAL: 0, XBASIS: True, RESETS: False, INDIVIDUAL: False, DOUBLE_MSMTS: True\n",
      "noise_list: [0.012198849629634207, 0.0004089493467995245, 0.0016527862595933853, 0.0020821405014924475, 0.02578180156360313, 0.019907289814579635, 0] \n",
      "\n",
      "path_info: None\n",
      "offset 0.1 on outcome 1\n",
      "\n",
      "soft KDE: 2 out of 15000 shots, handlWeOutliers: True, bandwidth: [0.6]\n",
      "soft KDE 2: 7 out of 15000 shots, handleOutliWers: True, bandwidth: [0.6]\n",
      "hard KDE: 2 out of 15000 shots, handleOutliers: True, bandwidth: [0.6]\n",
      "\n",
      "soft KDE PS: 0 out of 15000 shots, handleOutliers: True, bandwidth: [0.6]\n",
      "soft KDE PS 2: 4 out of 15000 shots, handleOutliers: True, bandwidth: [0.6]\n",
      "hard KDE PS: 1 out of 15000 shots, handleOutliers: True, bandwidth: [0.6]\n"
     ]
    }
   ],
   "source": [
    "print(f\"D: {D}, T: {T}, SHOTS: {SHOTS}, LOGICAL: {LOGICAL}, XBASIS: {XBASIS}, RESETS: {RESETS}, INDIVIDUAL: {INDIVIDUAL}, DOUBLE_MSMTS: {DOUBLE_MSMT}\")\n",
    "print(f\"noise_list: {simulator.noise_list} \\n\")\n",
    "print(f\"path_info: {simulator.path_info}\") if BEST_PATH else print(f\"path_info: None\")\n",
    "print(f\"offset {offset} on outcome {outcome}\\n\")\n",
    "\n",
    "print(f\"soft KDE: {res_s_K.num_errors} out of {len(IQ_data)} shots, handlWeOutliers: {HANDLE_OUTLIERS}, bandwidth: {bandwidths}\")\n",
    "print(f\"soft KDE 2: {res_s_K_2.num_errors} out of {len(IQ_data)} shots, handleOutliWers: {HANDLE_OUTLIERS}, bandwidth: {bandwidths}\")\n",
    "print(f\"hard KDE: {res_h_K.num_errors} out of {len(IQ_data)} shots, handleOutliers: {HANDLE_OUTLIERS}, bandwidth: {bandwidths}\")\n",
    "\n",
    "print()\n",
    "\n",
    "print(f\"soft KDE PS: {res_s_K_PS.num_errors} out of {len(IQ_data)} shots, handleOutliers: {HANDLE_OUTLIERS}, bandwidth: {bandwidths}\")\n",
    "print(f\"soft KDE PS 2: {res_s_K_PS_2.num_errors} out of {len(IQ_data)} shots, handleOutliers: {HANDLE_OUTLIERS}, bandwidth: {bandwidths}\")\n",
    "print(f\"hard KDE PS: {res_h_K_PS.num_errors} out of {len(IQ_data)} shots, handleOutliers: {HANDLE_OUTLIERS}, bandwidth: {bandwidths}\")\n"
   ]
  },
  {
   "cell_type": "markdown",
   "metadata": {},
   "source": [
    "# Analysis of count mat"
   ]
  },
  {
   "cell_type": "code",
   "execution_count": 19,
   "metadata": {},
   "outputs": [
    {
     "name": "stdout",
     "output_type": "stream",
     "text": [
      "countMat nb of 1s: 2998744\n",
      "countMat_PS nb of 1s: 2998826\n",
      "\n",
      "pSoft mean: 0.014869031046546861\n",
      "pSoft_PS mean: 0.0019000860351197691\n",
      "\n",
      "pSoft2 mean: 0.024869031046546846\n",
      "pSoft_PS2 mean: 0.011900086035119774\n"
     ]
    }
   ],
   "source": [
    "# Print the number of 1s in countMat vs countMat_PS\n",
    "print(f\"countMat nb of 1s: {np.sum(countMat)}\")\n",
    "print(f\"countMat_PS nb of 1s: {np.sum(countMat_PS)}\")\n",
    "print() \n",
    "print(f\"pSoft mean: {np.mean(pSoft)}\")\n",
    "print(f\"pSoft_PS mean: {np.mean(pSoft_PS)}\")\n",
    "print()\n",
    "print(f\"pSoft2 mean: {np.mean(pSoft2)}\")\n",
    "print(f\"pSoft_PS2 mean: {np.mean(pSoft_PS2)}\")"
   ]
  },
  {
   "cell_type": "markdown",
   "metadata": {},
   "source": [
    "# Get counts"
   ]
  },
  {
   "cell_type": "code",
   "execution_count": 20,
   "metadata": {},
   "outputs": [
    {
     "name": "stdout",
     "output_type": "stream",
     "text": [
      "not correcting the counts for no resets\n"
     ]
    }
   ],
   "source": [
    "counts = simulator.get_counts(SHOTS, simulator.stim_circ, RESETS)"
   ]
  },
  {
   "cell_type": "code",
   "execution_count": 21,
   "metadata": {},
   "outputs": [
    {
     "name": "stdout",
     "output_type": "stream",
     "text": [
      "Hard matching COUNTS: 1 out of 15000 shots\n"
     ]
    }
   ],
   "source": [
    "import pymatching\n",
    "from soft_info import counts_to_det_syndr\n",
    "\n",
    "matching = pymatching.Matching.from_detector_error_model(model_hard)\n",
    "\n",
    "num_errors = 0\n",
    "for count_key, shots in counts.items():\n",
    "\n",
    "    array_processed_str = counts_to_det_syndr(count_key, _resets=RESETS)\n",
    "    predicted_observable = matching.decode(array_processed_str)\n",
    "    actual_observable = [(int(count_key[0])+int(LOGICAL))%2]\n",
    "\n",
    "    if actual_observable != predicted_observable:\n",
    "        num_errors += shots\n",
    "\n",
    "print(f\"Hard matching COUNTS: {num_errors} out of {SHOTS} shots\")"
   ]
  },
  {
   "cell_type": "code",
   "execution_count": null,
   "metadata": {},
   "outputs": [],
   "source": []
  }
 ],
 "metadata": {
  "kernelspec": {
   "display_name": "Soft-Info-fMUpUe5a",
   "language": "python",
   "name": "python3"
  },
  "language_info": {
   "codemirror_mode": {
    "name": "ipython",
    "version": 3
   },
   "file_extension": ".py",
   "mimetype": "text/x-python",
   "name": "python",
   "nbconvert_exporter": "python",
   "pygments_lexer": "ipython3",
   "version": "3.11.4"
  }
 },
 "nbformat": 4,
 "nbformat_minor": 2
}
