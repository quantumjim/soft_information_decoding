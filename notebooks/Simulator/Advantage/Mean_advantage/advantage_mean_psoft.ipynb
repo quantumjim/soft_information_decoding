{
 "cells": [
  {
   "cell_type": "code",
   "execution_count": 1,
   "metadata": {},
   "outputs": [],
   "source": [
    "%reload_ext autoreload\n",
    "%autoreload 2"
   ]
  },
  {
   "cell_type": "code",
   "execution_count": 2,
   "metadata": {},
   "outputs": [],
   "source": [
    "from result_saver import SaverProvider\n",
    "\n",
    "provider = SaverProvider()"
   ]
  },
  {
   "cell_type": "markdown",
   "metadata": {},
   "source": [
    "# Initialize the simulator"
   ]
  },
  {
   "cell_type": "code",
   "execution_count": 3,
   "metadata": {},
   "outputs": [
    {
     "name": "stdout",
     "output_type": "stream",
     "text": [
      "12:27:08 Warning: Z0 decoding. Negative T2 error -0.08 % for qubit 38, setting to 0.. IN FILE: /Users/mha/My_Drive/Desktop/Studium/Physik/MSc/Semester_3/IBM/IBM_GIT/Soft-Info/src/soft_info/Hardware/backend_noise.py, LINE: 52\n",
      "12:27:08 Warning: Z0 decoding. Negative T2 error -0.01 % for qubit 39, setting to 0.. IN FILE: /Users/mha/My_Drive/Desktop/Studium/Physik/MSc/Semester_3/IBM/IBM_GIT/Soft-Info/src/soft_info/Hardware/backend_noise.py, LINE: 52\n",
      "12:27:08 Warning: Z0 decoding. Negative T2 error -0.01 % for qubit 111, setting to 0.. IN FILE: /Users/mha/My_Drive/Desktop/Studium/Physik/MSc/Semester_3/IBM/IBM_GIT/Soft-Info/src/soft_info/Hardware/backend_noise.py, LINE: 52\n",
      "Found jobs for backend ibm_sherbrooke with closest execution date 2024-03-23 17:49:53.348518+00:00.\n"
     ]
    }
   ],
   "source": [
    "from soft_info import RepCodeIQSimulator\n",
    "\n",
    "DEVICE = 'ibm_sherbrooke'\n",
    "D = 11\n",
    "T = 11\n",
    "\n",
    "OTHER_DATE = '2024-03-24'\n",
    "DOUBLE_MSMT = True\n",
    "\n",
    "_is_hex = True\n",
    "if DEVICE == 'ibmq_mumbai':\n",
    "    _is_hex = False\n",
    "\n",
    "# Initialize simulator\n",
    "simulator = RepCodeIQSimulator(provider, D, T, DEVICE, _is_hex, OTHER_DATE, DOUBLE_MSMT)"
   ]
  },
  {
   "cell_type": "code",
   "execution_count": 4,
   "metadata": {},
   "outputs": [
    {
     "data": {
      "text/plain": [
       "[0.012198849629634207,\n",
       " 0.0004089493467995245,\n",
       " 0.0016527862595933853,\n",
       " 0.0020821405014924475,\n",
       " 0.02578180156360313,\n",
       " 0.019907289814579635,\n",
       " 0]"
      ]
     },
     "execution_count": 4,
     "metadata": {},
     "output_type": "execute_result"
    }
   ],
   "source": [
    "simulator.noise_list"
   ]
  },
  {
   "cell_type": "markdown",
   "metadata": {},
   "source": [
    "# Needed decoding objects"
   ]
  },
  {
   "cell_type": "code",
   "execution_count": 5,
   "metadata": {},
   "outputs": [
    {
     "name": "stdout",
     "output_type": "stream",
     "text": [
      "Found jobs for backend ibm_sherbrooke with closest execution date 2024-03-23 17:49:22.974787+00:00.\n",
      "Found jobs for backend ibm_sherbrooke with closest execution date 2024-03-23 17:49:53.348518+00:00.\n"
     ]
    }
   ],
   "source": [
    "# Get the KDEs\n",
    "import numpy as np\n",
    "import cpp_soft_info as csi\n",
    "from Scratch import load_calibration_memory\n",
    "\n",
    "bandwidths = [0.6]\n",
    "num_points = 20\n",
    "rel_error = 1\n",
    "\n",
    "all_memories, gmm_dict, _ = load_calibration_memory(provider, tobecalib_backend=DEVICE, \n",
    "                                                    other_date=OTHER_DATE, post_process=True,\n",
    "                                                    double_msmt=False)\n",
    "kde_dict = csi.get_KDEs(all_memories, bandwidths, relError=rel_error, absError=-1, num_points=num_points)\n",
    "\n",
    "\n",
    "all_memories_PS, gmm_dict_PS, msmt_err_dict_PS = load_calibration_memory(provider, tobecalib_backend=DEVICE, \n",
    "                                                                            other_date=OTHER_DATE, post_process=True,\n",
    "                                                                            double_msmt=True)\n",
    "# kde_dict_PS = csi.get_KDEs(all_memories_PS, bandwidths, relError=rel_error, absError=-1, num_points=num_points)"
   ]
  },
  {
   "cell_type": "code",
   "execution_count": 6,
   "metadata": {},
   "outputs": [
    {
     "name": "stdout",
     "output_type": "stream",
     "text": [
      "simulator qubit 20 shape: (9411,)\n",
      "Used memories for PS qubit 20 shape: (9411,)\n"
     ]
    }
   ],
   "source": [
    "from soft_info import inv_qubit_mapping\n",
    "\n",
    "inverted_q_map = inv_qubit_mapping(simulator.qubit_mapping)\n",
    "\n",
    "# Check if the simulator is using post selection\n",
    "print(f\"simulator qubit 20 shape: {simulator.all_memories[20]['mmr_0'].shape}\")\n",
    "print(f\"Used memories for PS qubit 20 shape: {all_memories_PS[20]['mmr_0'].shape}\")\n"
   ]
  },
  {
   "cell_type": "markdown",
   "metadata": {},
   "source": [
    "# Get IQ Data"
   ]
  },
  {
   "cell_type": "code",
   "execution_count": 7,
   "metadata": {},
   "outputs": [],
   "source": [
    "XBASIS = False\n",
    "RESETS = False\n",
    "LOGICAL = '0'\n",
    "\n",
    "SHOTS = int(1e4)\n",
    "INDIVIDUAL = False\n",
    "\n",
    "IQ_data = simulator.generate_IQ(SHOTS, LOGICAL, XBASIS, RESETS, INDIVIDUAL)"
   ]
  },
  {
   "cell_type": "code",
   "execution_count": 8,
   "metadata": {},
   "outputs": [
    {
     "data": {
      "text/plain": [
       "[0.012198849629634207,\n",
       " 0.0004089493467995245,\n",
       " 0.0016527862595933853,\n",
       " 0.0020821405014924475,\n",
       " 0.02578180156360313,\n",
       " 0.019907289814579635,\n",
       " 0]"
      ]
     },
     "execution_count": 8,
     "metadata": {},
     "output_type": "execute_result"
    }
   ],
   "source": [
    "simulator.noise_list"
   ]
  },
  {
   "cell_type": "markdown",
   "metadata": {},
   "source": [
    "# Decode"
   ]
  },
  {
   "cell_type": "code",
   "execution_count": 9,
   "metadata": {},
   "outputs": [],
   "source": [
    "# Generate pSoft and countMat\n",
    "HANDLE_OUTLIERS = True\n",
    "\n",
    "pSoft, countMat = csi.iqConvertor(IQ_data, inverted_q_map, kde_dict, rel_error, -1, HANDLE_OUTLIERS)\n",
    "# pSoft_PS, countMat_PS = csi.iqConvertor(IQ_data, inverted_q_map, kde_dict_PS, rel_error, -1, HANDLE_OUTLIERS)"
   ]
  },
  {
   "cell_type": "code",
   "execution_count": 10,
   "metadata": {},
   "outputs": [
    {
     "name": "stdout",
     "output_type": "stream",
     "text": [
      "p_soft: 0.005874511749023496, p_hard: 0.019907289814579635\n"
     ]
    }
   ],
   "source": [
    "p_soft, p_hard = 0, 0\n",
    "for value in simulator.msmt_err_dict.values():\n",
    "    p_soft += value['p_soft']\n",
    "    p_hard += value['p_hard']\n",
    "p_soft /= len(simulator.msmt_err_dict)\n",
    "p_hard /= len(simulator.msmt_err_dict)\n",
    "print(f\"p_soft: {p_soft}, p_hard: {p_hard}\")"
   ]
  },
  {
   "cell_type": "code",
   "execution_count": 11,
   "metadata": {},
   "outputs": [
    {
     "name": "stdout",
     "output_type": "stream",
     "text": [
      "simulator noise_list: [0.012198849629634207, 0.0004089493467995245, 0.0016527862595933853, 0.0020821405014924475, 0.02578180156360313, 0.019907289814579635, 0]\n",
      "noise_list_soft: [0.012198849629634207, 0.0004089493467995245, 0.0016527862595933853, 0.0020821405014924475, 0.02578180156360313, 0.019907289814579635, 0]\n",
      "noise_list_hard_mean: [0.012198849629634207, 0.0004089493467995245, 0.0016527862595933853, 0.0020821405014924475, 0.02578180156360313, 0.019907289814579635, 0.01635978004440409]\n",
      "noise_list_hard: [0.012198849629634207, 0.0004089493467995245, 0.0016527862595933853, 0.0020821405014924475, 0.02578180156360313, 0.019907289814579635, 0.005874511749023496]\n",
      "simulator noise_list: [0.012198849629634207, 0.0004089493467995245, 0.0016527862595933853, 0.0020821405014924475, 0.02578180156360313, 0.019907289814579635, 0]\n",
      "[two, single, t1, t2, readout, p_hard, p_soft]\n"
     ]
    }
   ],
   "source": [
    "# Initialize the stim circuits\n",
    "from soft_info import RepetitionCodeStimCircuit\n",
    "\n",
    "print(f\"simulator noise_list: {simulator.noise_list}\")\n",
    "\n",
    "# Soft\n",
    "noise_list_soft = simulator.noise_list.copy()\n",
    "circ_soft = RepetitionCodeStimCircuit(D, T, XBASIS, RESETS, noise_list=noise_list_soft, no_fin_soft=True)\n",
    "model_soft = circ_soft.circuits[LOGICAL].detector_error_model()\n",
    "\n",
    "\n",
    "noise_list_hard_mean = simulator.noise_list.copy()\n",
    "noise_list_hard_mean[-1]=np.mean(pSoft)\n",
    "circ_hard_mean = RepetitionCodeStimCircuit(D, T, XBASIS, RESETS, noise_list=noise_list_hard_mean, no_fin_soft=False)\n",
    "model_hard_mean = circ_hard_mean.circuits[LOGICAL].detector_error_model()\n",
    "\n",
    "noise_list_hard = simulator.noise_list.copy()\n",
    "noise_list_hard[-1]=p_soft\n",
    "circ_hard = RepetitionCodeStimCircuit(D, T, XBASIS, RESETS, noise_list=noise_list_hard, no_fin_soft=False)\n",
    "model_hard = circ_hard.circuits[LOGICAL].detector_error_model()\n",
    "\n",
    "\n",
    "\n",
    "print(f\"noise_list_soft: {noise_list_soft}\")\n",
    "print(f\"noise_list_hard_mean: {noise_list_hard_mean}\")\n",
    "print(f\"noise_list_hard: {noise_list_hard}\")\n",
    "print(f\"simulator noise_list: {simulator.noise_list}\")\n",
    "print(\"[two, single, t1, t2, readout, p_hard, p_soft]\")"
   ]
  },
  {
   "cell_type": "code",
   "execution_count": 12,
   "metadata": {},
   "outputs": [],
   "source": [
    "# Decode\n",
    "res_s_K = csi.decodeConvertorAll(model_soft, countMat, pSoft, T, int(LOGICAL), RESETS, decode_hard = False)\n",
    "res_h_K_mean = csi.decodeConvertorAll(model_hard_mean, countMat, pSoft, T, int(LOGICAL), RESETS, decode_hard = True)\n",
    "res_h_K = csi.decodeConvertorAll(model_hard, countMat, pSoft, T, int(LOGICAL), RESETS, decode_hard = True)"
   ]
  },
  {
   "cell_type": "code",
   "execution_count": 13,
   "metadata": {},
   "outputs": [
    {
     "name": "stdout",
     "output_type": "stream",
     "text": [
      "D: 11, T: 11, SHOTS: 10000, LOGICAL: 0, XBASIS: False, RESETS: False, INDIVIDUAL: False, DOUBLE_MSMTS: True\n",
      "\n",
      "soft KDE: 243 out of 10000 shots, handleOutliers: True\n",
      "hard KDE mean: 195 out of 10000 shots, handleOutliers: True\n",
      "hard KDE: 290 out of 10000 shots, handleOutliers: True\n",
      "\n"
     ]
    }
   ],
   "source": [
    "print(f\"D: {D}, T: {T}, SHOTS: {SHOTS}, LOGICAL: {LOGICAL}, XBASIS: {XBASIS}, RESETS: {RESETS}, INDIVIDUAL: {INDIVIDUAL}, DOUBLE_MSMTS: {DOUBLE_MSMT}\\n\")\n",
    "\n",
    "print(f\"soft KDE: {res_s_K.num_errors} out of {len(IQ_data)} shots, handleOutliers: {HANDLE_OUTLIERS}\")\n",
    "print(f\"hard KDE mean: {res_h_K_mean.num_errors} out of {len(IQ_data)} shots, handleOutliers: {HANDLE_OUTLIERS}\")\n",
    "print(f\"hard KDE: {res_h_K.num_errors} out of {len(IQ_data)} shots, handleOutliers: {HANDLE_OUTLIERS}\")\n",
    "\n",
    "print()"
   ]
  },
  {
   "cell_type": "code",
   "execution_count": null,
   "metadata": {},
   "outputs": [],
   "source": []
  },
  {
   "cell_type": "code",
   "execution_count": null,
   "metadata": {},
   "outputs": [],
   "source": []
  }
 ],
 "metadata": {
  "kernelspec": {
   "display_name": "Soft-Info-fMUpUe5a",
   "language": "python",
   "name": "python3"
  },
  "language_info": {
   "codemirror_mode": {
    "name": "ipython",
    "version": 3
   },
   "file_extension": ".py",
   "mimetype": "text/x-python",
   "name": "python",
   "nbconvert_exporter": "python",
   "pygments_lexer": "ipython3",
   "version": "3.11.4"
  }
 },
 "nbformat": 4,
 "nbformat_minor": 2
}
