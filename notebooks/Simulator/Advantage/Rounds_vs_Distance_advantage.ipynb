{
 "cells": [
  {
   "cell_type": "markdown",
   "metadata": {},
   "source": [
    "# Initialization"
   ]
  },
  {
   "cell_type": "code",
   "execution_count": 1,
   "metadata": {},
   "outputs": [],
   "source": [
    "%reload_ext autoreload\n",
    "%autoreload 2"
   ]
  },
  {
   "cell_type": "code",
   "execution_count": 2,
   "metadata": {},
   "outputs": [],
   "source": [
    "from result_saver import SaverProvider\n",
    "\n",
    "provider = SaverProvider()"
   ]
  },
  {
   "cell_type": "markdown",
   "metadata": {},
   "source": [
    "# Initialize simulator"
   ]
  },
  {
   "cell_type": "code",
   "execution_count": 3,
   "metadata": {},
   "outputs": [
    {
     "name": "stdout",
     "output_type": "stream",
     "text": [
      "Found jobs for backend ibm_sherbrooke with closest execution date 2023-10-27 08:32:22.841567+00:00.\n",
      "Found jobs for backend ibm_sherbrooke with closest execution date 2023-10-27 08:32:22.841567+00:00.\n",
      "Searching for ibm_sherbrooke and 23.10.27_07h46_300pts_2std\n"
     ]
    }
   ],
   "source": [
    "from soft_info import RepCodeIQSimulator\n",
    "\n",
    "DEVICE = 'ibm_sherbrooke'\n",
    "DISTANCE = 3\n",
    "ROUNDS = 3\n",
    "OTHER_DATE = '2023-10-27'\n",
    "_RESETS = False\n",
    "LOGICAL = 0 # NOT NEEDED FOR EXTREME IQ BCS HARDCODED 0\n",
    "\n",
    "NOISE_LIST = [3e-2, 0.8e-2, 1e-2, 3e-2] # [two-qubit-fidelity, reset error, measurement error, idle error]\n",
    "# NOISE_LIST = [noise * 2 for noise in NOISE_LIST]\n",
    "\n",
    "_is_hex = True\n",
    "if DEVICE == 'ibmq_mumbai':\n",
    "    _is_hex = False\n",
    "\n",
    "# Initialize simulator\n",
    "simulator = RepCodeIQSimulator(provider, DISTANCE, ROUNDS, DEVICE, _is_hex=_is_hex, _resets = _RESETS, other_date=OTHER_DATE)"
   ]
  },
  {
   "cell_type": "markdown",
   "metadata": {},
   "source": [
    "# Loop function"
   ]
  },
  {
   "cell_type": "code",
   "execution_count": 4,
   "metadata": {},
   "outputs": [],
   "source": [
    "from tqdm import tqdm\n",
    "import json\n",
    "import cpp_soft_info\n",
    "import pymatching\n",
    "\n",
    "def func(distance, rounds, resets=False, shots = 1e5, p_meas = -1):\n",
    "    # Initialize simulator\n",
    "    simulator = RepCodeIQSimulator(provider, distance, rounds, DEVICE, _is_hex=_is_hex, _resets = resets, other_date=OTHER_DATE)\n",
    "    IQ_data= simulator.generate_IQ(int(shots), noise_list=NOISE_LIST, verbose=False)\n",
    "    # print(\"Generated IQ data\")\n",
    "\n",
    "    # Run decoding\n",
    "    result_grid = cpp_soft_info.decode_IQ_fast(simulator.stim_circ.detector_error_model(decompose_errors=False), IQ_data,\n",
    "                                        rounds, int(LOGICAL), resets, simulator.qubit_mapping, simulator.grid_dict,\n",
    "                                        simulator.processed_scaler_dict, _detailed=False, nb_intervals=-1, interval_offset=-1)\n",
    "\n",
    "    result_informed = cpp_soft_info.decode_IQ_shots_flat_informed(simulator.stim_circ.detector_error_model(decompose_errors=False), IQ_data,\n",
    "                                           rounds, int(LOGICAL), resets, simulator.qubit_mapping, simulator.grid_dict, simulator.processed_scaler_dict,\n",
    "                                           p_data = -1, p_mixed = -1, p_meas = p_meas, common_measure=-1, _detailed=False, _ntnn_edges = True)\n",
    "\n",
    "    return result_grid, result_informed\n"
   ]
  },
  {
   "cell_type": "markdown",
   "metadata": {},
   "source": [
    "# Fixed rounds"
   ]
  },
  {
   "cell_type": "code",
   "execution_count": 9,
   "metadata": {},
   "outputs": [
    {
     "data": {
      "text/plain": [
       "array([ 5.        ,  9.33333333, 13.66666667, 18.        , 22.33333333,\n",
       "       26.66666667, 31.        ])"
      ]
     },
     "execution_count": 9,
     "metadata": {},
     "output_type": "execute_result"
    }
   ],
   "source": [
    "import numpy as np\n",
    "\n",
    "distances = np.linspace(5, 31, 7)\n",
    "distances"
   ]
  },
  {
   "cell_type": "code",
   "execution_count": 13,
   "metadata": {},
   "outputs": [
    {
     "name": "stderr",
     "output_type": "stream",
     "text": [
      "Simulating for distance:   0%|          | 0/7 [00:00<?, ?it/s]"
     ]
    },
    {
     "name": "stdout",
     "output_type": "stream",
     "text": [
      "Generated IQ data\n"
     ]
    },
    {
     "name": "stderr",
     "output_type": "stream",
     "text": [
      "Simulating for distance:  14%|█▍        | 1/7 [00:43<04:21, 43.53s/it]"
     ]
    },
    {
     "name": "stdout",
     "output_type": "stream",
     "text": [
      "Generated IQ data\n"
     ]
    },
    {
     "name": "stderr",
     "output_type": "stream",
     "text": [
      "Simulating for distance:  29%|██▊       | 2/7 [02:06<05:32, 66.50s/it]"
     ]
    },
    {
     "name": "stdout",
     "output_type": "stream",
     "text": [
      "Generated IQ data\n"
     ]
    },
    {
     "name": "stderr",
     "output_type": "stream",
     "text": [
      "Simulating for distance:  43%|████▎     | 3/7 [04:07<06:06, 91.54s/it]"
     ]
    },
    {
     "name": "stdout",
     "output_type": "stream",
     "text": [
      "Generated IQ data\n"
     ]
    },
    {
     "name": "stderr",
     "output_type": "stream",
     "text": [
      "Simulating for distance:  57%|█████▋    | 4/7 [06:57<06:08, 122.70s/it]"
     ]
    },
    {
     "name": "stdout",
     "output_type": "stream",
     "text": [
      "Generated IQ data\n"
     ]
    },
    {
     "name": "stderr",
     "output_type": "stream",
     "text": [
      "Simulating for distance:  71%|███████▏  | 5/7 [10:30<05:10, 155.08s/it]"
     ]
    },
    {
     "name": "stdout",
     "output_type": "stream",
     "text": [
      "Generated IQ data\n"
     ]
    },
    {
     "name": "stderr",
     "output_type": "stream",
     "text": [
      "Simulating for distance:  86%|████████▌ | 6/7 [14:46<03:09, 189.53s/it]"
     ]
    },
    {
     "name": "stdout",
     "output_type": "stream",
     "text": [
      "Generated IQ data\n"
     ]
    },
    {
     "name": "stderr",
     "output_type": "stream",
     "text": [
      "Simulating for distance: 100%|██████████| 7/7 [19:50<00:00, 170.03s/it]\n"
     ]
    }
   ],
   "source": [
    "import numpy as np\n",
    "from tqdm import tqdm\n",
    "\n",
    "shots = int(1e5) \n",
    "p_meas = -1 \n",
    "file_str = f'../results/Rounds_vs_Distance_advantage.json'\n",
    "\n",
    "for i in tqdm(distances, desc='Simulating for distance'):\n",
    "\n",
    "    # Save results\n",
    "    with open(file_str, 'r') as f:\n",
    "        data = json.load(f)\n",
    "        \n",
    "    i = int(i)   \n",
    "    distance = i\n",
    "    rounds = 50 # more rounds for more errors!\n",
    "    \n",
    "    if str((distance, rounds)) not in data.keys():\n",
    "        # Decode\n",
    "        result_grid, result_informed = func(distance, rounds, shots = shots, p_meas=p_meas)\n",
    "        data[str((distance, rounds))] = {'grid': result_grid.num_errors, 'informed': result_informed.num_errors, 'shots': shots, 'p_meas': p_meas}\n",
    "    \n",
    "    with open(file_str, 'w') as f:\n",
    "        json.dump(data, f, indent=4)\n"
   ]
  },
  {
   "cell_type": "markdown",
   "metadata": {},
   "source": [
    "# Fixed distance"
   ]
  },
  {
   "cell_type": "code",
   "execution_count": 25,
   "metadata": {},
   "outputs": [
    {
     "data": {
      "text/plain": [
       "array([ 58.,  65.,  72.,  79.,  86.,  93., 100.])"
      ]
     },
     "execution_count": 25,
     "metadata": {},
     "output_type": "execute_result"
    }
   ],
   "source": [
    "rounds = np.linspace(58, 100, 7)\n",
    "rounds"
   ]
  },
  {
   "cell_type": "code",
   "execution_count": 26,
   "metadata": {},
   "outputs": [
    {
     "name": "stderr",
     "output_type": "stream",
     "text": [
      "Simulating for distance:   0%|          | 0/7 [00:00<?, ?it/s]"
     ]
    },
    {
     "name": "stdout",
     "output_type": "stream",
     "text": [
      "Generated IQ data\n"
     ]
    },
    {
     "name": "stderr",
     "output_type": "stream",
     "text": [
      "Simulating for distance:  14%|█▍        | 1/7 [01:21<08:06, 81.01s/it]"
     ]
    },
    {
     "name": "stdout",
     "output_type": "stream",
     "text": [
      "Generated IQ data\n"
     ]
    },
    {
     "name": "stderr",
     "output_type": "stream",
     "text": [
      "Simulating for distance:  29%|██▊       | 2/7 [02:53<07:19, 87.82s/it]"
     ]
    },
    {
     "name": "stdout",
     "output_type": "stream",
     "text": [
      "Generated IQ data\n"
     ]
    },
    {
     "name": "stderr",
     "output_type": "stream",
     "text": [
      "Simulating for distance:  43%|████▎     | 3/7 [04:37<06:20, 95.19s/it]"
     ]
    },
    {
     "name": "stdout",
     "output_type": "stream",
     "text": [
      "Generated IQ data\n"
     ]
    },
    {
     "name": "stderr",
     "output_type": "stream",
     "text": [
      "Simulating for distance:  57%|█████▋    | 4/7 [06:28<05:04, 101.39s/it]"
     ]
    },
    {
     "name": "stdout",
     "output_type": "stream",
     "text": [
      "Generated IQ data\n"
     ]
    },
    {
     "name": "stderr",
     "output_type": "stream",
     "text": [
      "Simulating for distance:  71%|███████▏  | 5/7 [08:30<03:37, 108.91s/it]"
     ]
    },
    {
     "name": "stdout",
     "output_type": "stream",
     "text": [
      "Generated IQ data\n"
     ]
    },
    {
     "name": "stderr",
     "output_type": "stream",
     "text": [
      "Simulating for distance:  86%|████████▌ | 6/7 [10:40<01:56, 116.06s/it]"
     ]
    },
    {
     "name": "stdout",
     "output_type": "stream",
     "text": [
      "Generated IQ data\n"
     ]
    },
    {
     "name": "stderr",
     "output_type": "stream",
     "text": [
      "Simulating for distance: 100%|██████████| 7/7 [12:59<00:00, 111.42s/it]\n"
     ]
    }
   ],
   "source": [
    "import numpy as np\n",
    "from tqdm import tqdm\n",
    "\n",
    "shots = int(5e4) \n",
    "p_meas = -1 \n",
    "file_str = f'../results/Rounds_vs_Distance_advantage.json'\n",
    "\n",
    "for i in tqdm(rounds, desc='Simulating for distance'):\n",
    "\n",
    "    # Save results\n",
    "    with open(file_str, 'r') as f:\n",
    "        data = json.load(f)\n",
    "        \n",
    "    i = int(i)   \n",
    "    distance = 15 # to have high enough error rates\n",
    "    rounds = i\n",
    "    \n",
    "    if str((distance, rounds)) not in data.keys():\n",
    "        # Decode\n",
    "        result_grid, result_informed = func(distance, rounds, shots = shots, p_meas=p_meas)\n",
    "        data[str((distance, rounds))] = {'grid': result_grid.num_errors, 'informed': result_informed.num_errors, 'shots': shots, 'p_meas': p_meas}\n",
    "    \n",
    "    with open(file_str, 'w') as f:\n",
    "        json.dump(data, f, indent=4)\n"
   ]
  },
  {
   "cell_type": "code",
   "execution_count": null,
   "metadata": {},
   "outputs": [],
   "source": []
  }
 ],
 "metadata": {
  "kernelspec": {
   "display_name": "Soft-Info-fMUpUe5a",
   "language": "python",
   "name": "python3"
  },
  "language_info": {
   "codemirror_mode": {
    "name": "ipython",
    "version": 3
   },
   "file_extension": ".py",
   "mimetype": "text/x-python",
   "name": "python",
   "nbconvert_exporter": "python",
   "pygments_lexer": "ipython3",
   "version": "3.11.4"
  }
 },
 "nbformat": 4,
 "nbformat_minor": 2
}
