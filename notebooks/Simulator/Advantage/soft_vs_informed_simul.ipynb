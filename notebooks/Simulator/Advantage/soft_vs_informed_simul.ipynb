{
 "cells": [
  {
   "cell_type": "markdown",
   "metadata": {},
   "source": [
    "# Initialization"
   ]
  },
  {
   "cell_type": "code",
   "execution_count": 1,
   "metadata": {},
   "outputs": [],
   "source": [
    "%reload_ext autoreload\n",
    "%autoreload 2"
   ]
  },
  {
   "cell_type": "code",
   "execution_count": 2,
   "metadata": {},
   "outputs": [],
   "source": [
    "from result_saver import SaverProvider\n",
    "\n",
    "provider = SaverProvider()"
   ]
  },
  {
   "cell_type": "markdown",
   "metadata": {},
   "source": [
    "# Initialize simulator"
   ]
  },
  {
   "cell_type": "code",
   "execution_count": 19,
   "metadata": {},
   "outputs": [
    {
     "name": "stdout",
     "output_type": "stream",
     "text": [
      "Found jobs for backend ibm_sherbrooke with closest execution date 2023-10-27 08:32:22.841567+00:00.\n",
      "Found jobs for backend ibm_sherbrooke with closest execution date 2023-10-27 08:32:22.841567+00:00.\n",
      "Searching for ibm_sherbrooke and 23.10.27_07h46_300pts_2std\n"
     ]
    }
   ],
   "source": [
    "from soft_info import RepCodeIQSimulator\n",
    "\n",
    "DEVICE = 'ibm_sherbrooke'\n",
    "DISTANCE = 3\n",
    "ROUNDS = 3\n",
    "OTHER_DATE = '2023-10-27'\n",
    "_RESETS = False\n",
    "LOGICAL = 0 # NOT NEEDED FOR EXTREME IQ BCS HARDCODED 0\n",
    "\n",
    "NOISE_LIST = [3e-2, 0.8e-2, 1e-2, 3e-2] # [two-qubit-fidelity, reset error, measurement error, idle error]\n",
    "# NOISE_LIST = [noise * 2 for noise in NOISE_LIST]\n",
    "\n",
    "_is_hex = True\n",
    "if DEVICE == 'ibmq_mumbai':\n",
    "    _is_hex = False\n",
    "\n",
    "# Initialize simulator\n",
    "simulator = RepCodeIQSimulator(provider, DISTANCE, ROUNDS, DEVICE, _is_hex=_is_hex, _resets = _RESETS, other_date=OTHER_DATE)"
   ]
  },
  {
   "cell_type": "markdown",
   "metadata": {},
   "source": [
    "# Loop function"
   ]
  },
  {
   "cell_type": "code",
   "execution_count": 20,
   "metadata": {},
   "outputs": [],
   "source": [
    "from tqdm import tqdm\n",
    "import json\n",
    "import cpp_soft_info\n",
    "import pymatching\n",
    "\n",
    "def func(distance, rounds, resets=False, shots = 1e5, p_meas = -1):\n",
    "    # Initialize simulator\n",
    "    simulator = RepCodeIQSimulator(provider, distance, rounds, DEVICE, _is_hex=_is_hex, _resets = resets, other_date=OTHER_DATE)\n",
    "    IQ_data= simulator.generate_IQ(int(shots), noise_list=NOISE_LIST, verbose=False)\n",
    "    print(\"Generated IQ data\")\n",
    "\n",
    "    # Run decoding\n",
    "    result_grid = cpp_soft_info.decode_IQ_fast(simulator.stim_circ.detector_error_model(decompose_errors=False), IQ_data,\n",
    "                                        rounds, int(LOGICAL), resets, simulator.qubit_mapping, simulator.grid_dict,\n",
    "                                        simulator.processed_scaler_dict, _detailed=False, nb_intervals=-1, interval_offset=-1)\n",
    "\n",
    "    result_informed = cpp_soft_info.decode_IQ_shots_flat_informed(simulator.stim_circ.detector_error_model(decompose_errors=False), IQ_data,\n",
    "                                           rounds, int(LOGICAL), resets, simulator.qubit_mapping, simulator.grid_dict, simulator.processed_scaler_dict,\n",
    "                                           p_data = -1, p_mixed = -1, p_meas = p_meas, common_measure=-1, _detailed=False, _ntnn_edges = True)\n",
    "\n",
    "    return result_grid, result_informed\n"
   ]
  },
  {
   "cell_type": "code",
   "execution_count": 21,
   "metadata": {},
   "outputs": [
    {
     "data": {
      "text/plain": [
       "array([ 5.        ,  8.57142857, 12.14285714, 15.71428571, 19.28571429,\n",
       "       22.85714286, 26.42857143, 30.        , 33.57142857, 37.14285714,\n",
       "       40.71428571, 44.28571429, 47.85714286, 51.42857143, 55.        ])"
      ]
     },
     "execution_count": 21,
     "metadata": {},
     "output_type": "execute_result"
    }
   ],
   "source": [
    "import numpy as np\n",
    "\n",
    "distances = np.linspace(5, 55, 15)\n",
    "distances"
   ]
  },
  {
   "cell_type": "code",
   "execution_count": 35,
   "metadata": {},
   "outputs": [
    {
     "name": "stderr",
     "output_type": "stream",
     "text": [
      "Simulating for distance:   0%|          | 0/15 [00:00<?, ?it/s]"
     ]
    },
    {
     "name": "stdout",
     "output_type": "stream",
     "text": [
      "generated counts\n",
      "correcting counts\n",
      "finished correcting counts\n",
      "Generated IQ data\n",
      "generated counts\n",
      "correcting counts\n",
      "finished correcting counts\n",
      "Generated IQ data\n"
     ]
    },
    {
     "name": "stderr",
     "output_type": "stream",
     "text": [
      "Simulating for distance:  20%|██        | 3/15 [02:17<09:10, 45.88s/it]"
     ]
    },
    {
     "name": "stdout",
     "output_type": "stream",
     "text": [
      "generated counts\n",
      "correcting counts\n",
      "finished correcting counts\n",
      "Generated IQ data\n"
     ]
    },
    {
     "name": "stderr",
     "output_type": "stream",
     "text": [
      "Simulating for distance:  27%|██▋       | 4/15 [04:06<12:09, 66.31s/it]"
     ]
    },
    {
     "name": "stdout",
     "output_type": "stream",
     "text": [
      "generated counts\n",
      "correcting counts\n",
      "finished correcting counts\n",
      "Generated IQ data\n"
     ]
    },
    {
     "name": "stderr",
     "output_type": "stream",
     "text": [
      "Simulating for distance:  33%|███▎      | 5/15 [07:07<17:04, 102.42s/it]"
     ]
    },
    {
     "name": "stdout",
     "output_type": "stream",
     "text": [
      "generated counts\n",
      "correcting counts\n",
      "finished correcting counts\n",
      "Generated IQ data\n",
      "generated counts\n",
      "correcting counts\n",
      "finished correcting counts\n",
      "Generated IQ data\n",
      "generated counts\n",
      "correcting counts\n",
      "finished correcting counts\n",
      "Generated IQ data\n"
     ]
    },
    {
     "name": "stderr",
     "output_type": "stream",
     "text": [
      "Simulating for distance:  40%|████      | 6/15 [20:03<46:43, 311.49s/it]"
     ]
    },
    {
     "name": "stdout",
     "output_type": "stream",
     "text": [
      "generated counts\n",
      "correcting counts\n",
      "finished correcting counts\n",
      "Generated IQ data\n"
     ]
    },
    {
     "name": "stderr",
     "output_type": "stream",
     "text": [
      "Simulating for distance:  47%|████▋     | 7/15 [25:40<42:35, 319.50s/it]"
     ]
    },
    {
     "name": "stdout",
     "output_type": "stream",
     "text": [
      "generated counts\n",
      "correcting counts\n",
      "finished correcting counts\n",
      "Generated IQ data\n",
      "generated counts\n",
      "correcting counts\n",
      "finished correcting counts\n",
      "Generated IQ data\n",
      "generated counts\n",
      "correcting counts\n",
      "finished correcting counts\n",
      "Generated IQ data\n"
     ]
    },
    {
     "name": "stderr",
     "output_type": "stream",
     "text": [
      "Simulating for distance:  53%|█████▎    | 8/15 [57:31<1:33:56, 805.18s/it]"
     ]
    },
    {
     "name": "stdout",
     "output_type": "stream",
     "text": [
      "generated counts\n",
      "correcting counts\n",
      "finished correcting counts\n",
      "Generated IQ data\n"
     ]
    },
    {
     "name": "stderr",
     "output_type": "stream",
     "text": [
      "Simulating for distance:  60%|██████    | 9/15 [1:06:40<1:12:43, 727.24s/it]"
     ]
    },
    {
     "name": "stdout",
     "output_type": "stream",
     "text": [
      "generated counts\n",
      "correcting counts\n",
      "finished correcting counts\n",
      "Generated IQ data\n"
     ]
    },
    {
     "name": "stderr",
     "output_type": "stream",
     "text": [
      "Simulating for distance:  67%|██████▋   | 10/15 [1:18:15<59:47, 717.55s/it] "
     ]
    },
    {
     "name": "stdout",
     "output_type": "stream",
     "text": [
      "generated counts\n",
      "correcting counts\n",
      "finished correcting counts\n",
      "Generated IQ data\n",
      "generated counts\n",
      "correcting counts\n",
      "finished correcting counts\n",
      "Generated IQ data\n",
      "generated counts\n",
      "correcting counts\n",
      "finished correcting counts\n",
      "Generated IQ data\n"
     ]
    },
    {
     "name": "stderr",
     "output_type": "stream",
     "text": [
      "Simulating for distance:  73%|███████▎  | 11/15 [2:06:13<1:31:17, 1369.32s/it]"
     ]
    },
    {
     "name": "stdout",
     "output_type": "stream",
     "text": [
      "generated counts\n",
      "correcting counts\n",
      "finished correcting counts\n",
      "Generated IQ data\n"
     ]
    },
    {
     "name": "stderr",
     "output_type": "stream",
     "text": [
      "Simulating for distance:  80%|████████  | 12/15 [2:22:33<1:02:36, 1252.15s/it]"
     ]
    },
    {
     "name": "stdout",
     "output_type": "stream",
     "text": [
      "generated counts\n",
      "correcting counts\n",
      "finished correcting counts\n",
      "Generated IQ data\n"
     ]
    },
    {
     "name": "stderr",
     "output_type": "stream",
     "text": [
      "Simulating for distance:  87%|████████▋ | 13/15 [2:41:58<40:52, 1226.08s/it]  "
     ]
    },
    {
     "name": "stdout",
     "output_type": "stream",
     "text": [
      "generated counts\n",
      "correcting counts\n",
      "finished correcting counts\n",
      "Generated IQ data\n"
     ]
    },
    {
     "name": "stderr",
     "output_type": "stream",
     "text": [
      "Simulating for distance:  93%|█████████▎| 14/15 [3:05:51<21:28, 1288.24s/it]"
     ]
    },
    {
     "name": "stdout",
     "output_type": "stream",
     "text": [
      "generated counts\n",
      "correcting counts\n",
      "finished correcting counts\n",
      "Generated IQ data\n",
      "generated counts\n",
      "correcting counts\n",
      "finished correcting counts\n",
      "Generated IQ data\n",
      "generated counts\n",
      "correcting counts\n",
      "finished correcting counts\n",
      "Generated IQ data\n"
     ]
    },
    {
     "name": "stderr",
     "output_type": "stream",
     "text": [
      "Simulating for distance: 100%|██████████| 15/15 [4:20:42<00:00, 1042.81s/it]\n"
     ]
    }
   ],
   "source": [
    "import numpy as np\n",
    "from tqdm import tqdm\n",
    "\n",
    "shots = int(2.5e5) \n",
    "p_meas = -1\n",
    "\n",
    "i_10 = True\n",
    "i_20 = True\n",
    "i_30 = True\n",
    "i_40 = True\n",
    "i_55 = True\n",
    "# i_30 = False\n",
    "# i_40 = False\n",
    "# i_55 = False\n",
    "\n",
    "for i in tqdm(distances, desc='Simulating for distance'):\n",
    "\n",
    "    # Save results\n",
    "    with open(f'../results/soft_vs_informed_simul_v2.json', 'r') as f:\n",
    "        data = json.load(f)\n",
    "\n",
    "\n",
    "    i = int(i)\n",
    "    _redecode = False\n",
    "\n",
    "    if i>=10 and i_10 == True:\n",
    "        distance = 10\n",
    "        rounds = 10\n",
    "        _redecode = True\n",
    "        i_10 = False\n",
    "\n",
    "    if i>=20 and i_20 == True:  \n",
    "        distance = 20\n",
    "        rounds = 20\n",
    "        _redecode = True\n",
    "        i_20 = False\n",
    "\n",
    "    if i >= 30 and i_30 == True:\n",
    "        distance = 30\n",
    "        rounds = 35\n",
    "        _redecode = True\n",
    "        i_30 = False\n",
    "    \n",
    "    if i >=40 and i_40:\n",
    "        distance = i\n",
    "        rounds = 35\n",
    "        _redecode = True\n",
    "        i_40 = False\n",
    "\n",
    "    if i>=55 and i_55 == True:\n",
    "        distance = i\n",
    "        rounds = 35\n",
    "        _redecode = True\n",
    "        i_55 = False\n",
    "\n",
    "    if _redecode:\n",
    "        # Decode\n",
    "        result_grid, result_informed = func(distance, rounds, shots = int(4.5e5), p_meas=p_meas)\n",
    "\n",
    "        if str((distance, rounds)) not in data.keys():\n",
    "            result_grid, result_informed = func(distance, rounds, shots = shots)\n",
    "            data[str((distance, rounds))] = {'grid': result_grid.num_errors, 'informed': result_informed.num_errors, 'shots': shots, 'p_meas': p_meas}\n",
    "\n",
    "        with open(f'../results/soft_vs_informed_simul_v2.json', 'w') as f:\n",
    "            json.dump(data, f, indent=4)\n",
    "\n",
    "\n",
    "   \n",
    "    distance = i\n",
    "    rounds = i     \n",
    "\n",
    "    \n",
    "    if str((distance, rounds)) not in data.keys():\n",
    "        # Decode\n",
    "        result_grid, result_informed = func(distance, rounds, shots = shots, p_meas=p_meas)\n",
    "        data[str((distance, rounds))] = {'grid': result_grid.num_errors, 'informed': result_informed.num_errors, 'shots': shots, 'p_meas': p_meas}\n",
    "    \n",
    "    with open(f'../results/soft_vs_informed_simul_v2.json', 'w') as f:\n",
    "        json.dump(data, f, indent=4)\n"
   ]
  },
  {
   "cell_type": "code",
   "execution_count": null,
   "metadata": {},
   "outputs": [],
   "source": []
  }
 ],
 "metadata": {
  "kernelspec": {
   "display_name": "Soft-Info-fMUpUe5a",
   "language": "python",
   "name": "python3"
  },
  "language_info": {
   "codemirror_mode": {
    "name": "ipython",
    "version": 3
   },
   "file_extension": ".py",
   "mimetype": "text/x-python",
   "name": "python",
   "nbconvert_exporter": "python",
   "pygments_lexer": "ipython3",
   "version": "3.11.4"
  }
 },
 "nbformat": 4,
 "nbformat_minor": 2
}
