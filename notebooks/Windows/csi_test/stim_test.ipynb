{
 "cells": [
  {
   "cell_type": "code",
   "execution_count": 1,
   "metadata": {},
   "outputs": [],
   "source": [
    "import cpp_soft_info as csi"
   ]
  },
  {
   "cell_type": "code",
   "execution_count": 5,
   "metadata": {},
   "outputs": [
    {
     "name": "stdout",
     "output_type": "stream",
     "text": [
      "<class 'pymatching._cpp_pymatching.MatchingGraph'>\n"
     ]
    }
   ],
   "source": [
    "import stim\n",
    "import pymatching\n",
    "\n",
    "max_distance = 3\n",
    "d = max_distance\n",
    "T = max_distance\n",
    "\n",
    "circuit = stim.Circuit.generated(\"repetition_code:memory\",\n",
    "                                 distance=d,\n",
    "                                 rounds=T,\n",
    "                                 after_clifford_depolarization=0.1)\n",
    "\n",
    "model = circuit.detector_error_model(decompose_errors=True)\n",
    "matching = pymatching.Matching.from_detector_error_model(model)\n",
    "print(type(matching._matching_graph))"
   ]
  },
  {
   "cell_type": "code",
   "execution_count": 6,
   "metadata": {},
   "outputs": [
    {
     "ename": "TypeError",
     "evalue": "softenCircuit(): incompatible function arguments. The following argument types are supported:\n    1. (circuit: stim::Circuit, pSoftRow: numpy.ndarray[numpy.float64[m, 1]]) -> None\n\nInvoked with: stim.Circuit('''\n    R 0 1 2 3 4\n    TICK\n    CX 0 1 2 3\n    DEPOLARIZE2(0.1) 0 1 2 3\n    TICK\n    CX 2 1 4 3\n    DEPOLARIZE2(0.1) 2 1 4 3\n    TICK\n    MR 1 3\n    DETECTOR(1, 0) rec[-2]\n    DETECTOR(3, 0) rec[-1]\n    REPEAT 2 {\n        TICK\n        CX 0 1 2 3\n        DEPOLARIZE2(0.1) 0 1 2 3\n        TICK\n        CX 2 1 4 3\n        DEPOLARIZE2(0.1) 2 1 4 3\n        TICK\n        MR 1 3\n        SHIFT_COORDS(0, 1)\n        DETECTOR(1, 0) rec[-2] rec[-4]\n        DETECTOR(3, 0) rec[-1] rec[-3]\n    }\n    M 0 2 4\n    DETECTOR(1, 1) rec[-2] rec[-3] rec[-5]\n    DETECTOR(3, 1) rec[-1] rec[-2] rec[-4]\n    OBSERVABLE_INCLUDE(0) rec[-1]\n'''), array([[0, 1, 0, 0, 0, 0, 0, 0, 0, 0],\n       [0, 0, 1, 0, 0, 0, 0, 0, 0, 0],\n       [0, 0, 0, 1, 0, 0, 0, 0, 0, 0],\n       [0, 0, 0, 0, 1, 0, 0, 0, 0, 0],\n       [0, 0, 0, 0, 0, 1, 0, 0, 0, 0],\n       [0, 0, 0, 0, 0, 0, 1, 0, 0, 0],\n       [0, 0, 0, 0, 0, 0, 0, 1, 0, 0],\n       [0, 0, 0, 0, 0, 0, 0, 0, 1, 0],\n       [0, 0, 0, 0, 0, 0, 0, 0, 0, 1],\n       [1, 0, 0, 0, 0, 0, 0, 0, 0, 0]])",
     "output_type": "error",
     "traceback": [
      "\u001b[1;31m---------------------------------------------------------------------------\u001b[0m",
      "\u001b[1;31mTypeError\u001b[0m                                 Traceback (most recent call last)",
      "Cell \u001b[1;32mIn[6], line 14\u001b[0m\n\u001b[0;32m      1\u001b[0m \u001b[38;5;28;01mimport\u001b[39;00m \u001b[38;5;21;01mnumpy\u001b[39;00m \u001b[38;5;28;01mas\u001b[39;00m \u001b[38;5;21;01mnp\u001b[39;00m\n\u001b[0;32m      3\u001b[0m array \u001b[38;5;241m=\u001b[39m np\u001b[38;5;241m.\u001b[39marray([[\u001b[38;5;241m0\u001b[39m, \u001b[38;5;241m1\u001b[39m, \u001b[38;5;241m0\u001b[39m, \u001b[38;5;241m0\u001b[39m, \u001b[38;5;241m0\u001b[39m, \u001b[38;5;241m0\u001b[39m, \u001b[38;5;241m0\u001b[39m, \u001b[38;5;241m0\u001b[39m, \u001b[38;5;241m0\u001b[39m, \u001b[38;5;241m0\u001b[39m],\n\u001b[0;32m      4\u001b[0m                     [\u001b[38;5;241m0\u001b[39m, \u001b[38;5;241m0\u001b[39m, \u001b[38;5;241m1\u001b[39m, \u001b[38;5;241m0\u001b[39m, \u001b[38;5;241m0\u001b[39m, \u001b[38;5;241m0\u001b[39m, \u001b[38;5;241m0\u001b[39m, \u001b[38;5;241m0\u001b[39m, \u001b[38;5;241m0\u001b[39m, \u001b[38;5;241m0\u001b[39m],\n\u001b[0;32m      5\u001b[0m                     [\u001b[38;5;241m0\u001b[39m, \u001b[38;5;241m0\u001b[39m, \u001b[38;5;241m0\u001b[39m, \u001b[38;5;241m1\u001b[39m, \u001b[38;5;241m0\u001b[39m, \u001b[38;5;241m0\u001b[39m, \u001b[38;5;241m0\u001b[39m, \u001b[38;5;241m0\u001b[39m, \u001b[38;5;241m0\u001b[39m, \u001b[38;5;241m0\u001b[39m],\n\u001b[1;32m   (...)\u001b[0m\n\u001b[0;32m     11\u001b[0m                     [\u001b[38;5;241m0\u001b[39m, \u001b[38;5;241m0\u001b[39m, \u001b[38;5;241m0\u001b[39m, \u001b[38;5;241m0\u001b[39m, \u001b[38;5;241m0\u001b[39m, \u001b[38;5;241m0\u001b[39m, \u001b[38;5;241m0\u001b[39m, \u001b[38;5;241m0\u001b[39m, \u001b[38;5;241m0\u001b[39m, \u001b[38;5;241m1\u001b[39m],\n\u001b[0;32m     12\u001b[0m                     [\u001b[38;5;241m1\u001b[39m, \u001b[38;5;241m0\u001b[39m, \u001b[38;5;241m0\u001b[39m, \u001b[38;5;241m0\u001b[39m, \u001b[38;5;241m0\u001b[39m, \u001b[38;5;241m0\u001b[39m, \u001b[38;5;241m0\u001b[39m, \u001b[38;5;241m0\u001b[39m, \u001b[38;5;241m0\u001b[39m, \u001b[38;5;241m0\u001b[39m]])\n\u001b[1;32m---> 14\u001b[0m \u001b[43mcsi\u001b[49m\u001b[38;5;241;43m.\u001b[39;49m\u001b[43msoftenCircuit\u001b[49m\u001b[43m(\u001b[49m\u001b[43mcircuit\u001b[49m\u001b[43m,\u001b[49m\u001b[43m \u001b[49m\u001b[43marray\u001b[49m\u001b[43m)\u001b[49m\n",
      "\u001b[1;31mTypeError\u001b[0m: softenCircuit(): incompatible function arguments. The following argument types are supported:\n    1. (circuit: stim::Circuit, pSoftRow: numpy.ndarray[numpy.float64[m, 1]]) -> None\n\nInvoked with: stim.Circuit('''\n    R 0 1 2 3 4\n    TICK\n    CX 0 1 2 3\n    DEPOLARIZE2(0.1) 0 1 2 3\n    TICK\n    CX 2 1 4 3\n    DEPOLARIZE2(0.1) 2 1 4 3\n    TICK\n    MR 1 3\n    DETECTOR(1, 0) rec[-2]\n    DETECTOR(3, 0) rec[-1]\n    REPEAT 2 {\n        TICK\n        CX 0 1 2 3\n        DEPOLARIZE2(0.1) 0 1 2 3\n        TICK\n        CX 2 1 4 3\n        DEPOLARIZE2(0.1) 2 1 4 3\n        TICK\n        MR 1 3\n        SHIFT_COORDS(0, 1)\n        DETECTOR(1, 0) rec[-2] rec[-4]\n        DETECTOR(3, 0) rec[-1] rec[-3]\n    }\n    M 0 2 4\n    DETECTOR(1, 1) rec[-2] rec[-3] rec[-5]\n    DETECTOR(3, 1) rec[-1] rec[-2] rec[-4]\n    OBSERVABLE_INCLUDE(0) rec[-1]\n'''), array([[0, 1, 0, 0, 0, 0, 0, 0, 0, 0],\n       [0, 0, 1, 0, 0, 0, 0, 0, 0, 0],\n       [0, 0, 0, 1, 0, 0, 0, 0, 0, 0],\n       [0, 0, 0, 0, 1, 0, 0, 0, 0, 0],\n       [0, 0, 0, 0, 0, 1, 0, 0, 0, 0],\n       [0, 0, 0, 0, 0, 0, 1, 0, 0, 0],\n       [0, 0, 0, 0, 0, 0, 0, 1, 0, 0],\n       [0, 0, 0, 0, 0, 0, 0, 0, 1, 0],\n       [0, 0, 0, 0, 0, 0, 0, 0, 0, 1],\n       [1, 0, 0, 0, 0, 0, 0, 0, 0, 0]])"
     ]
    }
   ],
   "source": [
    "import numpy as np\n",
    "\n",
    "array = np.array([[0, 1, 0, 0, 0, 0, 0, 0, 0, 0],\n",
    "                    [0, 0, 1, 0, 0, 0, 0, 0, 0, 0],\n",
    "                    [0, 0, 0, 1, 0, 0, 0, 0, 0, 0],\n",
    "                    [0, 0, 0, 0, 1, 0, 0, 0, 0, 0],\n",
    "                    [0, 0, 0, 0, 0, 1, 0, 0, 0, 0],\n",
    "                    [0, 0, 0, 0, 0, 0, 1, 0, 0, 0],\n",
    "                    [0, 0, 0, 0, 0, 0, 0, 1, 0, 0],\n",
    "                    [0, 0, 0, 0, 0, 0, 0, 0, 1, 0],\n",
    "                    [0, 0, 0, 0, 0, 0, 0, 0, 0, 1],\n",
    "                    [1, 0, 0, 0, 0, 0, 0, 0, 0, 0]])\n",
    "\n",
    "csi.softenCircuit(circuit, array)"
   ]
  }
 ],
 "metadata": {
  "kernelspec": {
   "display_name": "soft_info",
   "language": "python",
   "name": "python3"
  },
  "language_info": {
   "codemirror_mode": {
    "name": "ipython",
    "version": 3
   },
   "file_extension": ".py",
   "mimetype": "text/x-python",
   "name": "python",
   "nbconvert_exporter": "python",
   "pygments_lexer": "ipython3",
   "version": "3.11.4"
  }
 },
 "nbformat": 4,
 "nbformat_minor": 2
}
