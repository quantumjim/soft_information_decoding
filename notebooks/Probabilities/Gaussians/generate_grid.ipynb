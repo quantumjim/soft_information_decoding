{
 "cells": [
  {
   "cell_type": "markdown",
   "metadata": {},
   "source": [
    "# Initialization"
   ]
  },
  {
   "cell_type": "code",
   "execution_count": 1,
   "metadata": {},
   "outputs": [],
   "source": [
    "%reload_ext autoreload\n",
    "%autoreload 2"
   ]
  },
  {
   "cell_type": "code",
   "execution_count": 2,
   "metadata": {},
   "outputs": [],
   "source": [
    "from result_saver import SaverProvider\n",
    "\n",
    "provider = SaverProvider()"
   ]
  },
  {
   "cell_type": "code",
   "execution_count": 3,
   "metadata": {},
   "outputs": [
    {
     "name": "stdout",
     "output_type": "stream",
     "text": [
      "Found jobs for backend ibm_sherbrooke with closest execution date 2023-10-27 08:32:22.841567+00:00.\n"
     ]
    }
   ],
   "source": [
    "from Scratch import load_calibration_memory\n",
    "\n",
    "DEVICE = 'ibm_sherbrooke'\n",
    "OTHER_DATE = '2023-10-30'\n",
    "\n",
    "all_memories = load_calibration_memory(provider, tobecalib_backend=DEVICE, other_date=OTHER_DATE)"
   ]
  },
  {
   "cell_type": "markdown",
   "metadata": {},
   "source": [
    "# Functions:"
   ]
  },
  {
   "cell_type": "code",
   "execution_count": 1,
   "metadata": {},
   "outputs": [],
   "source": [
    "import numpy as np\n",
    "from sklearn.mixture import GaussianMixture\n",
    "from matplotlib.patches import Ellipse\n",
    "import matplotlib.pyplot as plt\n",
    "\n",
    "def fit_gmm(IQ_data, scaler):\n",
    "\n",
    "    data = IQ_data.flatten()\n",
    "    combined_data = np.column_stack((data.real, data.imag))\n",
    "    combined_data = scaler.transform(combined_data)\n",
    "\n",
    "    n_components_range = range(1, 4)  \n",
    "\n",
    "    lowest_bic = np.infty\n",
    "    best_gmm = None\n",
    "\n",
    "    for n_components in n_components_range:\n",
    "\n",
    "        weights_init = [1]\n",
    "\n",
    "        # Distribute the remaining weight equally among other components\n",
    "        if n_components > 1:\n",
    "            # Initialize weights\n",
    "            weights_init = np.zeros(n_components)\n",
    "            primary_weight = 0.95  # Weight for the first component\n",
    "            weights_init = np.zeros(n_components)\n",
    "            weights_init[0] = primary_weight\n",
    "            remaining_weight = (1 - primary_weight) / (n_components-1)\n",
    "            for i in range(1, n_components):\n",
    "                weights_init[i] = remaining_weight\n",
    "\n",
    "        if n_components == 2:\n",
    "            means_init = np.array([[-1e8, 0], [1e8, 0]])\n",
    "            # means_init = None\n",
    "        else:\n",
    "            means_init = None\n",
    "\n",
    "        # Fit a Gaussian mixture with EM\n",
    "        gmm = GaussianMixture(n_components=n_components, init_params='random',\n",
    "                            covariance_type='tied', random_state=0, weights_init=weights_init, means_init=means_init)\n",
    "        gmm.fit(combined_data)\n",
    "        \n",
    "        # Calculate BIC\n",
    "        bic = gmm.bic(combined_data)\n",
    "        \n",
    "        # Check if this is the lowest BIC so far\n",
    "        if bic < lowest_bic and np.all([weight < 0.1 or weight > 0.9 for weight in gmm.weights_]):\n",
    "            lowest_bic = bic\n",
    "            best_gmm = gmm\n",
    "    \n",
    "    return best_gmm\n",
    "\n",
    "def draw_ellipse(mean, cov, n_std=1, ax=None, **kwargs):\n",
    "    \"\"\"Draw an ellipse with a given mean and covariance\"\"\"\n",
    "    ax = ax or plt.gca()\n",
    "\n",
    "    # Eigenvalues and eigenvectors of the covariance matrix\n",
    "    vals, vecs = np.linalg.eigh(cov)\n",
    "    order = vals.argsort()[::-1]\n",
    "    vals, vecs = vals[order], vecs[:, order]\n",
    "\n",
    "    theta = np.degrees(np.arctan2(*vecs[:, 0][::-1]))\n",
    "\n",
    "    # Width and height are \"full\" widths, not radius\n",
    "    width, height = 2 * n_std * np.sqrt(vals)\n",
    "    ellipse = Ellipse(xy=mean, width=width, height=height, angle=theta, **kwargs)\n",
    "\n",
    "    ax.add_patch(ellipse)\n",
    "\n",
    "\n",
    "def plot_gmm(gmm, data_2d, n_std=1):\n",
    "    plt.scatter(data_2d[:, 0], data_2d[:, 1], alpha=0.5)\n",
    "\n",
    "    # Plot each Gaussian component\n",
    "    for mean, covar in zip(gmm.means_, gmm.covariances_):\n",
    "        draw_ellipse(mean, covar, n_std=n_std, alpha=1, edgecolor='red', facecolor='none')\n",
    "\n",
    "    plt.title(\"Data and Fitted Gaussian Components\")\n",
    "    plt.xlabel(\"Real Part\")\n",
    "    plt.ylabel(\"Imaginary Part\")\n",
    "    plt.show()"
   ]
  },
  {
   "cell_type": "markdown",
   "metadata": {},
   "source": [
    "# Scale and fit"
   ]
  },
  {
   "cell_type": "code",
   "execution_count": 5,
   "metadata": {},
   "outputs": [
    {
     "name": "stdout",
     "output_type": "stream",
     "text": [
      "Found jobs for backend ibm_sherbrooke with closest execution date 2023-10-27 08:32:22.841567+00:00.\n"
     ]
    }
   ],
   "source": [
    "from soft_info import get_KDEs\n",
    "\n",
    "kde_dict, scaler_dict = get_KDEs(provider, tobecalib_backend=DEVICE, other_date=OTHER_DATE)"
   ]
  },
  {
   "cell_type": "code",
   "execution_count": 40,
   "metadata": {},
   "outputs": [],
   "source": [
    "gmm_dict = {}\n",
    "for qubit in all_memories.keys():\n",
    "    gmm_dict[qubit] = {}\n",
    "    scaler = scaler_dict[qubit]\n",
    "    for mmr in all_memories[qubit].keys():\n",
    "        data = all_memories[qubit][mmr]\n",
    "        gmm_dict[qubit][mmr] = fit_gmm(data, scaler)\n",
    "\n",
    "# takes 3s"
   ]
  },
  {
   "cell_type": "markdown",
   "metadata": {},
   "source": [
    "# Generate grid"
   ]
  },
  {
   "cell_type": "code",
   "execution_count": 21,
   "metadata": {},
   "outputs": [],
   "source": [
    "import cpp_soft_info\n",
    "from Scratch import process_scaler_dict\n",
    "\n",
    "num_std_dev = 2\n",
    "num_points = 300\n",
    "\n",
    "grid_dict = {}\n",
    "\n",
    "grid_range_real = np.linspace(-num_std_dev, num_std_dev, num_points)\n",
    "grid_range_imag = np.linspace(-num_std_dev, num_std_dev, num_points)\n",
    "grid_x, grid_y = np.meshgrid(grid_range_real, grid_range_imag)\n",
    "grid_points = np.vstack([grid_x.ravel(), grid_y.ravel()]).T\n",
    "\n",
    "for qubit_idx, gmms in gmm_dict.items():\n",
    "    gmm_0 = gmms['mmr_0']\n",
    "    gmm_1 = gmms['mmr_1']\n",
    "    \n",
    "    grid_density_0 = gmms['mmr_0'].score_samples(grid_points).reshape(grid_x.shape)\n",
    "    grid_density_1 = gmms['mmr_1'].score_samples(grid_points).reshape(grid_x.shape)\n",
    "\n",
    "    grid_dict[qubit_idx] = cpp_soft_info.GridData(grid_x, grid_y, grid_density_0, grid_density_1)\n",
    "\n",
    "\n",
    "# Scaler dict \n",
    "processed_scaler_dict = process_scaler_dict(scaler_dict)\n",
    "\n",
    "# takes 3s"
   ]
  },
  {
   "cell_type": "markdown",
   "metadata": {},
   "source": [
    "# Decoding"
   ]
  },
  {
   "cell_type": "code",
   "execution_count": null,
   "metadata": {},
   "outputs": [],
   "source": []
  }
 ],
 "metadata": {
  "kernelspec": {
   "display_name": "Soft-Info-fMUpUe5a",
   "language": "python",
   "name": "python3"
  },
  "language_info": {
   "codemirror_mode": {
    "name": "ipython",
    "version": 3
   },
   "file_extension": ".py",
   "mimetype": "text/x-python",
   "name": "python",
   "nbconvert_exporter": "python",
   "pygments_lexer": "ipython3",
   "version": "3.11.4"
  }
 },
 "nbformat": 4,
 "nbformat_minor": 2
}
