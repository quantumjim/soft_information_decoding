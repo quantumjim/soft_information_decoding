{
 "cells": [
  {
   "cell_type": "markdown",
   "metadata": {},
   "source": [
    "# Initialization"
   ]
  },
  {
   "cell_type": "code",
   "execution_count": 1,
   "metadata": {},
   "outputs": [],
   "source": [
    "%reload_ext autoreload\n",
    "%autoreload 2"
   ]
  },
  {
   "cell_type": "code",
   "execution_count": 2,
   "metadata": {},
   "outputs": [],
   "source": [
    "from result_saver import SaverProvider\n",
    "\n",
    "provider = SaverProvider()"
   ]
  },
  {
   "cell_type": "code",
   "execution_count": 3,
   "metadata": {},
   "outputs": [
    {
     "name": "stdout",
     "output_type": "stream",
     "text": [
      "Found jobs for backend ibm_sherbrooke with closest execution date 2023-10-27 08:32:22.841567+00:00.\n"
     ]
    }
   ],
   "source": [
    "from Scratch import load_calibration_memory\n",
    "\n",
    "DEVICE = 'ibm_sherbrooke'\n",
    "OTHER_DATE = '2023-10-30'\n",
    "\n",
    "all_memories = load_calibration_memory(provider, tobecalib_backend=DEVICE, other_date=OTHER_DATE)"
   ]
  },
  {
   "cell_type": "markdown",
   "metadata": {},
   "source": [
    "# Functions:"
   ]
  },
  {
   "cell_type": "code",
   "execution_count": 4,
   "metadata": {},
   "outputs": [],
   "source": [
    "import numpy as np\n",
    "from sklearn.mixture import GaussianMixture\n",
    "\n",
    "def fit_gmm(IQ_data):\n",
    "    data = IQ_data.flatten().real\n",
    "\n",
    "    gmm = GaussianMixture(n_components=2, covariance_type='tied', random_state=0)\n",
    "    gmm.fit(data.reshape(-1, 1))\n",
    "\n",
    "    return gmm"
   ]
  },
  {
   "cell_type": "markdown",
   "metadata": {},
   "source": [
    "# Fit for each qubit"
   ]
  },
  {
   "cell_type": "code",
   "execution_count": 5,
   "metadata": {},
   "outputs": [],
   "source": [
    "gmm_dict = {}\n",
    "for qubit in all_memories.keys():\n",
    "    gmm_dict[qubit] = {}\n",
    "    IQ_data = np.append(all_memories[qubit]['mmr_0'], all_memories[qubit]['mmr_1'], axis=0)\n",
    "\n",
    "    gmm = fit_gmm(IQ_data)\n",
    "    mean_0 = gmm.means_[0] if gmm.means_[0] < gmm.means_[1] else gmm.means_[1]\n",
    "    mean_1 = gmm.means_[0] if gmm.means_[0] > gmm.means_[1] else gmm.means_[1]\n",
    "    var = gmm.covariances_[0][0]\n",
    "\n",
    "    gmm_dict[qubit]['mean_0'] = mean_0\n",
    "    gmm_dict[qubit]['mean_1'] = mean_1\n",
    "    gmm_dict[qubit]['var'] = var\n",
    "\n",
    "# takes 3.5s"
   ]
  },
  {
   "cell_type": "code",
   "execution_count": 6,
   "metadata": {},
   "outputs": [
    {
     "name": "stdout",
     "output_type": "stream",
     "text": [
      "{0: {'mean_0': array([-35988268.11234397]), 'mean_1': array([29831861.42491607]), 'var': 80426731404453.55}, 1: {'mean_0': array([-2026262.33895329]), 'mean_1': array([2033755.08677977]), 'var': 1078996869668.0481}, 2: {'mean_0': array([-3137837.5737748]), 'mean_1': array([2491744.95759999]), 'var': 1713647691201.2737}, 3: {'mean_0': array([-2646255.16502781]), 'mean_1': array([2455636.33801872]), 'var': 529993330088.8001}, 4: {'mean_0': array([-3406163.64100285]), 'mean_1': array([2834517.13258404]), 'var': 1836487039186.3093}, 5: {'mean_0': array([-4038120.12497526]), 'mean_1': array([1591644.4144473]), 'var': 1749297620613.5388}, 6: {'mean_0': array([-2191067.16113757]), 'mean_1': array([1150667.56668556]), 'var': 1193333707901.1143}, 7: {'mean_0': array([-4467741.50301164]), 'mean_1': array([2867532.64772645]), 'var': 1460684792960.3074}, 8: {'mean_0': array([-3411489.83793801]), 'mean_1': array([3205845.71898854]), 'var': 1762144543071.507}, 9: {'mean_0': array([-1333702.79381388]), 'mean_1': array([1149208.66373354]), 'var': 308488541611.47107}, 10: {'mean_0': array([-2139673.34925975]), 'mean_1': array([1864950.37450892]), 'var': 488484107008.8843}, 11: {'mean_0': array([-3172402.19488711]), 'mean_1': array([3705638.09626817]), 'var': 1491025535702.045}, 12: {'mean_0': array([-1750122.29026106]), 'mean_1': array([1533588.28989982]), 'var': 579938139645.1603}, 13: {'mean_0': array([-1134613.38099592]), 'mean_1': array([1031717.81585447]), 'var': 469689394380.9519}, 14: {'mean_0': array([-26328090.67186785]), 'mean_1': array([28266883.59331972]), 'var': 97747532484669.67}, 15: {'mean_0': array([-1641617.22346593]), 'mean_1': array([1226660.08637495]), 'var': 483061941176.32263}, 16: {'mean_0': array([-1902113.2842184]), 'mean_1': array([2614326.82275578]), 'var': 1856224276915.96}, 17: {'mean_0': array([-2699958.30528037]), 'mean_1': array([2404089.01333876]), 'var': 676977374075.7979}, 18: {'mean_0': array([-13672820.24453623]), 'mean_1': array([16628334.05139635]), 'var': 49106846733204.055}, 19: {'mean_0': array([-1152228.82348716]), 'mean_1': array([714987.18649111]), 'var': 315709699280.6824}, 20: {'mean_0': array([-2526464.76280365]), 'mean_1': array([1302152.54012154]), 'var': 676281865185.409}, 21: {'mean_0': array([-1724453.49661216]), 'mean_1': array([1511187.94557949]), 'var': 421576924137.7757}, 22: {'mean_0': array([-3029357.09608322]), 'mean_1': array([2979090.38772983]), 'var': 823259628427.9174}, 23: {'mean_0': array([-1854383.14219961]), 'mean_1': array([1409698.12907489]), 'var': 706399737158.0641}, 24: {'mean_0': array([-2132494.50624268]), 'mean_1': array([1883560.04924654]), 'var': 858289162097.1278}, 25: {'mean_0': array([-3288572.28088408]), 'mean_1': array([2961830.45012401]), 'var': 2322801686250.2407}, 26: {'mean_0': array([-8654771.53696373]), 'mean_1': array([6049492.71922071]), 'var': 3471904985755.108}, 27: {'mean_0': array([-3801202.6337692]), 'mean_1': array([3425719.50786298]), 'var': 1511318398697.6553}, 28: {'mean_0': array([-3113818.03709034]), 'mean_1': array([2547006.51308959]), 'var': 1573412948272.2688}, 29: {'mean_0': array([-2820308.77353499]), 'mean_1': array([2514527.30768614]), 'var': 916672810860.9624}, 30: {'mean_0': array([-9351282.47837468]), 'mean_1': array([7775370.36211213]), 'var': 4093493727376.1943}, 31: {'mean_0': array([-8276991.78272953]), 'mean_1': array([8326917.53453795]), 'var': 2282689373285.9263}, 32: {'mean_0': array([-2613386.72416889]), 'mean_1': array([2222677.78743272]), 'var': 1356539384844.007}, 33: {'mean_0': array([-5428833.85759158]), 'mean_1': array([4277768.30932032]), 'var': 1067778868121.9392}, 34: {'mean_0': array([-2798023.00797669]), 'mean_1': array([2133860.75714039]), 'var': 1288087264866.9607}, 35: {'mean_0': array([-7747576.65942543]), 'mean_1': array([7499690.03171618]), 'var': 5359440709304.004}, 36: {'mean_0': array([-4127469.11998364]), 'mean_1': array([4072592.66038577]), 'var': 1525939395478.0928}, 37: {'mean_0': array([-24146458.93390911]), 'mean_1': array([25906411.123161]), 'var': 89026841891472.42}, 38: {'mean_0': array([-26784214.48558495]), 'mean_1': array([23484358.60184449]), 'var': 99991280985380.89}, 39: {'mean_0': array([-38412835.45630407]), 'mean_1': array([41027817.91277639]), 'var': 136808123781963.81}, 40: {'mean_0': array([-8500613.58016159]), 'mean_1': array([8023543.99482815]), 'var': 4107871765790.262}, 41: {'mean_0': array([-6962575.56115312]), 'mean_1': array([5635090.79754297]), 'var': 3051625252515.3228}, 42: {'mean_0': array([-3586649.3526481]), 'mean_1': array([3465967.10744691]), 'var': 3274562882743.36}, 43: {'mean_0': array([-7210682.56982373]), 'mean_1': array([6911579.81558558]), 'var': 4649143790098.719}, 44: {'mean_0': array([-6536021.99634013]), 'mean_1': array([5310450.50528452]), 'var': 1443584556871.6096}, 45: {'mean_0': array([-15845122.70072399]), 'mean_1': array([8128298.25622762]), 'var': 8207938490783.92}, 46: {'mean_0': array([-6854347.30200451]), 'mean_1': array([6195486.7280179]), 'var': 3729476543500.319}, 47: {'mean_0': array([-2885415.5948456]), 'mean_1': array([2874325.8483022]), 'var': 1270911892089.4316}, 48: {'mean_0': array([-3969000.70604226]), 'mean_1': array([3082703.94994228]), 'var': 1872026947954.1272}, 49: {'mean_0': array([-34592885.8618713]), 'mean_1': array([32199215.23482615]), 'var': 66845142066210.92}, 50: {'mean_0': array([-30242712.32795799]), 'mean_1': array([29794802.03642209]), 'var': 67539021286444.875}, 51: {'mean_0': array([-2682988.15981443]), 'mean_1': array([3049836.21520416]), 'var': 1463022345592.7979}, 52: {'mean_0': array([-31503814.86326689]), 'mean_1': array([32872733.99775185]), 'var': 76668851542681.95}, 53: {'mean_0': array([-3069900.36781288]), 'mean_1': array([2357617.7616946]), 'var': 1044283207694.0559}, 54: {'mean_0': array([-12205521.50094398]), 'mean_1': array([11799345.38299621]), 'var': 5822311688567.78}, 55: {'mean_0': array([-15789723.09901682]), 'mean_1': array([24551539.96648701]), 'var': 39068401493087.2}, 56: {'mean_0': array([-37782780.60138971]), 'mean_1': array([37150536.20316935]), 'var': 53173595563335.47}, 57: {'mean_0': array([-16111738.16017301]), 'mean_1': array([28681190.92061345]), 'var': 58175086906521.5}, 58: {'mean_0': array([-5844380.70328364]), 'mean_1': array([5406834.10128246]), 'var': 2115073186411.4539}, 59: {'mean_0': array([-4037131.09856259]), 'mean_1': array([2141037.56058111]), 'var': 2207247372274.4688}, 60: {'mean_0': array([-4139306.28112696]), 'mean_1': array([4027356.77354511]), 'var': 1660720408548.0095}, 61: {'mean_0': array([-8131340.41981178]), 'mean_1': array([5920726.82599851]), 'var': 3421407553506.7866}, 62: {'mean_0': array([-5914721.05243044]), 'mean_1': array([4785195.56502715]), 'var': 6644349896431.672}, 63: {'mean_0': array([-27163332.23133862]), 'mean_1': array([27151913.77207589]), 'var': 54806377553088.35}, 64: {'mean_0': array([-26353966.04821756]), 'mean_1': array([28031412.11855305]), 'var': 55914587126008.57}, 65: {'mean_0': array([-7104462.6343503]), 'mean_1': array([7339525.13169475]), 'var': 10435767504375.625}, 66: {'mean_0': array([-44658358.60802911]), 'mean_1': array([34664383.70485115]), 'var': 114756311225072.98}, 67: {'mean_0': array([-32867295.65079878]), 'mean_1': array([29961251.42599729]), 'var': 41602840945707.86}, 68: {'mean_0': array([-37116441.55437672]), 'mean_1': array([78765535.96983863]), 'var': 160682863640919.84}, 69: {'mean_0': array([-32651267.56634562]), 'mean_1': array([31308399.88034444]), 'var': 92616680492728.97}, 70: {'mean_0': array([-24137415.62497585]), 'mean_1': array([19760198.72081968]), 'var': 44340319590579.57}, 71: {'mean_0': array([-18107900.75271034]), 'mean_1': array([15078677.12837902]), 'var': 45150591288261.91}, 72: {'mean_0': array([-2413820.26202437]), 'mean_1': array([1827900.93942877]), 'var': 1378601389480.8198}, 73: {'mean_0': array([-82435396.04964]), 'mean_1': array([63482434.06386057]), 'var': 145293159558623.22}, 74: {'mean_0': array([-1.15445832e+08]), 'mean_1': array([73920030.9467516]), 'var': 288852729799529.2}, 75: {'mean_0': array([-14450883.87819964]), 'mean_1': array([18137198.56349499]), 'var': 68818817923354.24}, 76: {'mean_0': array([-13878026.71903217]), 'mean_1': array([13029178.25086159]), 'var': 39173273716561.8}, 77: {'mean_0': array([-24718916.73415241]), 'mean_1': array([19785384.67553329]), 'var': 30272332816310.31}, 78: {'mean_0': array([-24657277.27596903]), 'mean_1': array([27485490.51936417]), 'var': 78975473549938.8}, 79: {'mean_0': array([-33998146.74422003]), 'mean_1': array([21188263.86440566]), 'var': 48343066055165.04}, 80: {'mean_0': array([-17897908.13639929]), 'mean_1': array([20661969.29790205]), 'var': 42719398216847.78}, 81: {'mean_0': array([-65823478.1992031]), 'mean_1': array([61021850.66166548]), 'var': 127293273654652.16}, 82: {'mean_0': array([-52321056.12594754]), 'mean_1': array([40293250.12449108]), 'var': 90031862513814.77}, 83: {'mean_0': array([-1.19334223e+08]), 'mean_1': array([67381096.67582713]), 'var': 520754986262961.8}, 84: {'mean_0': array([-79195809.79612717]), 'mean_1': array([25262276.72729538]), 'var': 115104584403409.67}, 85: {'mean_0': array([-22033688.94733805]), 'mean_1': array([21613670.65058612]), 'var': 94171625807139.1}, 86: {'mean_0': array([-18806729.47009232]), 'mean_1': array([15448811.7415615]), 'var': 23938325098372.727}, 87: {'mean_0': array([-1.52710666e+08]), 'mean_1': array([92731469.06479403]), 'var': 202085154416698.94}, 88: {'mean_0': array([-39454149.46865153]), 'mean_1': array([29662207.56339378]), 'var': 87087634142521.81}, 89: {'mean_0': array([-24232727.02515417]), 'mean_1': array([26106387.70078071]), 'var': 98756265983102.62}, 90: {'mean_0': array([-23577796.48071411]), 'mean_1': array([17107714.01966337]), 'var': 43332399296163.69}, 91: {'mean_0': array([-60517828.92047958]), 'mean_1': array([47159261.0412714]), 'var': 64503144605821.336}, 92: {'mean_0': array([-23285789.16297897]), 'mean_1': array([22292927.71269334]), 'var': 85985135342112.47}, 93: {'mean_0': array([-40996922.9978688]), 'mean_1': array([32799084.4209593]), 'var': 56729566083745.195}, 94: {'mean_0': array([-28535264.21368043]), 'mean_1': array([34155188.38353659]), 'var': 64640802660665.82}, 95: {'mean_0': array([-20774154.72573765]), 'mean_1': array([23079095.70783453]), 'var': 21094288730579.047}, 96: {'mean_0': array([-17591385.54118522]), 'mean_1': array([22502770.65273114]), 'var': 30493308030289.855}, 97: {'mean_0': array([-40308314.36466262]), 'mean_1': array([34726801.69361531]), 'var': 119587702944798.31}, 98: {'mean_0': array([-42997300.54625426]), 'mean_1': array([32334537.45505128]), 'var': 52127461831156.76}, 99: {'mean_0': array([-38707896.84453948]), 'mean_1': array([28199412.08203191]), 'var': 62091730045273.08}, 100: {'mean_0': array([-28778213.41528056]), 'mean_1': array([17251189.36454351]), 'var': 73264214748978.56}, 101: {'mean_0': array([-1.0024776e+08]), 'mean_1': array([70368497.12546614]), 'var': 252825308227267.78}, 102: {'mean_0': array([-23175993.46962984]), 'mean_1': array([30102776.78608746]), 'var': 56243568987274.16}, 103: {'mean_0': array([-50125672.25592838]), 'mean_1': array([20102483.84816267]), 'var': 68000330439535.86}, 104: {'mean_0': array([-80769829.61895321]), 'mean_1': array([87441434.42430602]), 'var': 156639059795638.66}, 105: {'mean_0': array([-48129745.58722366]), 'mean_1': array([35179973.35323242]), 'var': 60853784499011.97}, 106: {'mean_0': array([-36347798.14725665]), 'mean_1': array([37514712.13384242]), 'var': 52889836129470.055}, 107: {'mean_0': array([-73909566.98016526]), 'mean_1': array([38537733.34587397]), 'var': 148509840266575.53}, 108: {'mean_0': array([-58093734.63437643]), 'mean_1': array([33636501.66812507]), 'var': 82969278203805.72}, 109: {'mean_0': array([-15661714.59944165]), 'mean_1': array([14564290.8102955]), 'var': 32914683955224.094}, 110: {'mean_0': array([-40501869.11414592]), 'mean_1': array([33472914.19766704]), 'var': 68133034809080.52}, 111: {'mean_0': array([-20861613.26567487]), 'mean_1': array([21164497.12572127]), 'var': 39545841058653.77}, 112: {'mean_0': array([-33459892.15708558]), 'mean_1': array([25977588.35844851]), 'var': 63722479741107.305}, 113: {'mean_0': array([-1.11401516e+08]), 'mean_1': array([1.07360489e+08]), 'var': 399139611774725.25}, 114: {'mean_0': array([-13997969.46876623]), 'mean_1': array([11978249.17029103]), 'var': 23897935305682.21}, 115: {'mean_0': array([-39477216.93976192]), 'mean_1': array([29042851.70025464]), 'var': 113676226370200.3}, 116: {'mean_0': array([-59963824.75423526]), 'mean_1': array([41028213.11689855]), 'var': 177589017034779.06}, 117: {'mean_0': array([-46862289.81762277]), 'mean_1': array([32336440.44327794]), 'var': 107332301931750.23}, 118: {'mean_0': array([-76965673.21945524]), 'mean_1': array([73635268.88490985]), 'var': 287718947769626.75}, 119: {'mean_0': array([-92323681.13677159]), 'mean_1': array([89425432.35570593]), 'var': 350203737200518.6}, 120: {'mean_0': array([-74086801.55141188]), 'mean_1': array([87029122.44255348]), 'var': 357555175957297.8}, 121: {'mean_0': array([-20427525.2975054]), 'mean_1': array([18915939.53128298]), 'var': 30412062033973.75}, 122: {'mean_0': array([-40355865.35644833]), 'mean_1': array([49114316.62843257]), 'var': 61361979236744.8}, 123: {'mean_0': array([-63863926.91492167]), 'mean_1': array([69658875.50833724]), 'var': 116368119387788.11}, 124: {'mean_0': array([-32389192.58715047]), 'mean_1': array([25748963.21413826]), 'var': 55321011701073.38}, 125: {'mean_0': array([-64464255.66669657]), 'mean_1': array([43144492.85615692]), 'var': 67520891479015.42}, 126: {'mean_0': array([-13696649.80468381]), 'mean_1': array([5590342.72589351]), 'var': 10920335602646.502}}\n"
     ]
    }
   ],
   "source": [
    "print(gmm_dict)"
   ]
  },
  {
   "cell_type": "markdown",
   "metadata": {},
   "source": [
    "# Decoding"
   ]
  },
  {
   "cell_type": "code",
   "execution_count": 7,
   "metadata": {},
   "outputs": [
    {
     "name": "stdout",
     "output_type": "stream",
     "text": [
      "Found jobs for backend ibm_sherbrooke with closest execution date 2023-10-27 08:32:22.841567+00:00.\n",
      "Found jobs for backend ibm_sherbrooke with closest execution date 2023-10-27 08:32:22.841567+00:00.\n",
      "Searching for ibm_sherbrooke and 23.10.27_07h46_300pts_2std\n"
     ]
    }
   ],
   "source": [
    "from soft_info import RepCodeIQSimulator\n",
    "\n",
    "DISTANCE = 7\n",
    "ROUNDS = 7\n",
    "_RESETS = False\n",
    "LOGICAL = 0 # NOT NEEDED FOR EXTREME IQ BCS HARDCODED 0\n",
    "\n",
    "_is_hex = True\n",
    "if DEVICE == 'ibmq_mumbai':\n",
    "    _is_hex = False\n",
    "\n",
    "# Initialize simulator\n",
    "simulator = RepCodeIQSimulator(provider, DISTANCE, ROUNDS, DEVICE, _is_hex=_is_hex, _resets = _RESETS, other_date=OTHER_DATE)"
   ]
  },
  {
   "cell_type": "code",
   "execution_count": 8,
   "metadata": {},
   "outputs": [
    {
     "name": "stderr",
     "output_type": "stream",
     "text": [
      "100%|██████████| 8871/8871 [00:00<00:00, 41109.81it/s]\n",
      "100%|██████████| 8871/8871 [00:03<00:00, 2816.62it/s]\n"
     ]
    }
   ],
   "source": [
    "SHOTS = int(1e4)\n",
    "NOISE_LIST = [3e-2, 0.8e-2, 1e-2, 3e-2] # [two-qubit-fidelity, reset error, measurement error, idle error]\n",
    "# NOISE_LIST = None\n",
    "P_AMBIG = 0.1\n",
    "\n",
    "IQ_data = simulator.generate_IQ(SHOTS, noise_list=NOISE_LIST)\n",
    "IQ_data_extreme = simulator.generate_extreme_IQ(SHOTS, P_AMBIG, noise_list=NOISE_LIST)"
   ]
  },
  {
   "cell_type": "code",
   "execution_count": 9,
   "metadata": {},
   "outputs": [],
   "source": [
    "import pymatching\n",
    "import stim\n",
    "\n",
    "model = simulator.stim_circ.detector_error_model(decompose_errors=True)\n",
    "matching = pymatching.Matching.from_detector_error_model(model)"
   ]
  },
  {
   "cell_type": "markdown",
   "metadata": {},
   "source": [
    "### SOFT INFO DECODING"
   ]
  },
  {
   "cell_type": "code",
   "execution_count": 10,
   "metadata": {},
   "outputs": [
    {
     "name": "stdout",
     "output_type": "stream",
     "text": [
      "num_errors: 132 out of 10000 shots for _RESETS = False\n",
      "num_errors EXTREME: 126 out of 10000 shots for _RESETS = False\n"
     ]
    }
   ],
   "source": [
    "import cpp_soft_info\n",
    "\n",
    "_DETAILED = True\n",
    "\n",
    "matching = pymatching.Matching.from_detector_error_model(model)\n",
    "result = cpp_soft_info.decode_IQ_shots(matching._matching_graph, IQ_data,\n",
    "                                           ROUNDS, int(LOGICAL), _RESETS, simulator.qubit_mapping, simulator.grid_dict,\n",
    "                                           simulator.processed_scaler_dict, p_data=-1, p_mixed=-1,\n",
    "                                           common_measure=-1, _adv_probs=not _RESETS, _bimodal=_RESETS, merge_strategy = \"replace\", _detailed=_DETAILED,\n",
    "                                            p_offset = 1, p_multiplicator = 1, _ntnn_edges = not _RESETS)\n",
    "\n",
    "matching = pymatching.Matching.from_detector_error_model(model)\n",
    "result_extreme = cpp_soft_info.decode_IQ_shots(matching._matching_graph, IQ_data_extreme,\n",
    "                                             ROUNDS, int(LOGICAL), _RESETS, simulator.qubit_mapping, simulator.grid_dict,\n",
    "                                             simulator.processed_scaler_dict, p_data=-1, p_mixed=-1,\n",
    "                                             common_measure=-1, _adv_probs=not _RESETS, _bimodal=_RESETS, merge_strategy = \"replace\", _detailed=_DETAILED,\n",
    "                                              p_offset = 1, p_multiplicator = 1, _ntnn_edges = not _RESETS)\n",
    "\n",
    "print(\"num_errors:\", result.num_errors, \"out of\", len(IQ_data), \"shots for _RESETS =\", _RESETS)\n",
    "print(\"num_errors EXTREME:\", result_extreme.num_errors, \"out of\", len(IQ_data_extreme), \"shots for _RESETS =\", _RESETS)"
   ]
  },
  {
   "cell_type": "code",
   "execution_count": 11,
   "metadata": {},
   "outputs": [],
   "source": [
    "import cpp_soft_info\n",
    "\n",
    "matching = pymatching.Matching.from_detector_error_model(model)\n",
    "result_gaus = cpp_soft_info.decode_IQ_1Dgauss(matching._matching_graph, IQ_data, ROUNDS, int(LOGICAL), _RESETS,\n",
    "                                         simulator.qubit_mapping, gmm_dict, _DETAILED)\n",
    "\n",
    "matching = pymatching.Matching.from_detector_error_model(model)\n",
    "result_extreme_gaus  = cpp_soft_info.decode_IQ_1Dgauss(matching._matching_graph, IQ_data_extreme, ROUNDS, int(LOGICAL), _RESETS,\n",
    "                                         simulator.qubit_mapping, gmm_dict, _DETAILED)\n",
    "\n",
    "print(\"num_errors:\", result_gaus.num_errors, \"out of\", len(IQ_data), \"shots for _RESETS =\", _RESETS)\n",
    "print(\"num_errors EXTREME:\", result_extreme_gaus.num_errors, \"out of\", len(IQ_data_extreme), \"shots for _RESETS =\", _RESETS)"
   ]
  },
  {
   "cell_type": "markdown",
   "metadata": {},
   "source": [
    "# Plot the results"
   ]
  },
  {
   "cell_type": "code",
   "execution_count": null,
   "metadata": {},
   "outputs": [],
   "source": [
    "print(\"\\nIQ:\", result.indices, \"\\nIQ Gauss:\", result_gaus.indices)\n",
    "print(\"\\nIQ EXTREME:\", result_extreme.indices, \"\\nIQ EXTREME Gauss:\", result_extreme_gaus.indices)"
   ]
  },
  {
   "cell_type": "code",
   "execution_count": null,
   "metadata": {},
   "outputs": [],
   "source": [
    "from soft_info import draw_matching_graph\n",
    "\n",
    "\n",
    "index = 136\n",
    "\n",
    "fig_size = (4, 13)\n",
    "fig_size = (8, 8)\n",
    "scale_factor = 0.5\n",
    "\n",
    "to_be_result = result\n",
    "details = to_be_result.error_details[index]\n",
    "print(f\"-----IQ {bool(not (index in to_be_result.indices))} decoding -----\")\n",
    "draw_matching_graph(matching=None, d=DISTANCE, T=ROUNDS, syndromes=details.detection_syndromes,\n",
    "                        matched_edges=details.matched_edges, figsize=fig_size, scale_factor=scale_factor, edge_list=details.edges)\n",
    "\n",
    "to_be_result = result_gaus\n",
    "details = to_be_result.error_details[index]\n",
    "print(f\"-----flat {bool(not (index in to_be_result.indices))} decoding-----\")\n",
    "draw_matching_graph(matching=None, d=DISTANCE, T=ROUNDS, syndromes=details.detection_syndromes,\n",
    "                        matched_edges=details.matched_edges, figsize=fig_size, scale_factor=scale_factor, edge_list=details.edges)"
   ]
  },
  {
   "cell_type": "code",
   "execution_count": null,
   "metadata": {},
   "outputs": [],
   "source": []
  },
  {
   "cell_type": "code",
   "execution_count": null,
   "metadata": {},
   "outputs": [],
   "source": []
  },
  {
   "cell_type": "code",
   "execution_count": null,
   "metadata": {},
   "outputs": [],
   "source": []
  }
 ],
 "metadata": {
  "kernelspec": {
   "display_name": "Soft-Info-fMUpUe5a",
   "language": "python",
   "name": "python3"
  },
  "language_info": {
   "codemirror_mode": {
    "name": "ipython",
    "version": 3
   },
   "file_extension": ".py",
   "mimetype": "text/x-python",
   "name": "python",
   "nbconvert_exporter": "python",
   "pygments_lexer": "ipython3",
   "version": "3.11.4"
  }
 },
 "nbformat": 4,
 "nbformat_minor": 2
}
