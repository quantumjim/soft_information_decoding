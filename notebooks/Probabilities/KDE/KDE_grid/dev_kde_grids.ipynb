{
 "cells": [
  {
   "cell_type": "code",
   "execution_count": 1,
   "metadata": {},
   "outputs": [],
   "source": [
    "%reload_ext autoreload\n",
    "%autoreload 2\n"
   ]
  },
  {
   "cell_type": "code",
   "execution_count": 2,
   "metadata": {},
   "outputs": [],
   "source": [
    "import sys\n",
    "sys.path.insert(0, r'/Users/mha/My Drive/Desktop/Studium/Physik/MSc/Semester 3/IBM/IBM GIT/Soft-Info/build')\n",
    "\n",
    "import numpy as np\n",
    "\n",
    "import cpp_probabilities"
   ]
  },
  {
   "cell_type": "markdown",
   "metadata": {},
   "source": [
    "## Load data"
   ]
  },
  {
   "cell_type": "code",
   "execution_count": 3,
   "metadata": {},
   "outputs": [
    {
     "name": "stdout",
     "output_type": "stream",
     "text": [
      "(1000, 9)\n"
     ]
    }
   ],
   "source": [
    "from result_saver import SaverProvider\n",
    "provider = SaverProvider()\n",
    "backend = provider.get_backend('ibmq_mumbai') \n",
    "job = provider.retrieve_job(\"cmyhbrqrmwhg008bs4h0\") # Mumbai job\n",
    "# job = provider.retrieve_job(\"cn6g47862r90008810pg\") # Sherbrooke job\n",
    "memory = job.result().get_memory()\n",
    "\n",
    "print(memory.shape)\n"
   ]
  },
  {
   "cell_type": "code",
   "execution_count": 4,
   "metadata": {},
   "outputs": [
    {
     "name": "stdout",
     "output_type": "stream",
     "text": [
      "Generating the qubit mapping...\n"
     ]
    }
   ],
   "source": [
    "from soft_info import get_KDEs, get_repcode_layout, get_repcode_IQ_map\n",
    "\n",
    "## Mumbai\n",
    "layout = [25, 19, 26, 22, 16] # To implement: into scratch job_data\n",
    "kde_dict, scaler_dict = get_KDEs(provider, tobecalib_job=\"cmyhbrqrmwhg008bs4h0\")\n",
    "# kde_dict, scaler_dict = get_KDEs(provider, device='ibmq_mumbai', qubits=list(range(27)), bandwidths=0.2, plot=False)\n",
    "synd_rounds = 3\n",
    "\n",
    "## Sherbrooke\n",
    "# layout = get_repcode_layout(30, provider.get_backend('ibm_sherbrooke') )\n",
    "# kde_dict, scaler_dict = get_KDEs(provider, 'ibm_sdherbrooke', list(range(127)), bandwidths=0.2, plot=False)\n",
    "# synd_rounds = 35\n",
    "\n",
    "print(\"Generating the qubit mapping...\")\n",
    "qubit_mapping = get_repcode_IQ_map(layout, synd_rounds) #Hardcoded for repetition codes"
   ]
  },
  {
   "cell_type": "markdown",
   "metadata": {},
   "source": [
    "# Metadata structure"
   ]
  },
  {
   "cell_type": "code",
   "execution_count": 21,
   "metadata": {},
   "outputs": [
    {
     "name": "stdout",
     "output_type": "stream",
     "text": [
      "<cpp_probabilities.GridData object at 0x2a2126bf0>\n"
     ]
    }
   ],
   "source": [
    "import json\n",
    "import pandas as pd\n",
    "import os\n",
    "from typing import Dict, List, Optional, Union\n",
    "from sklearn.preprocessing import StandardScaler\n",
    "\n",
    "from Scratch import find_and_create_scratch\n",
    "\n",
    "import numpy as np\n",
    "\n",
    "def generate_kde_grid(kde_dict, num_points, num_std_dev=3):\n",
    "    grid_dict = {}\n",
    "\n",
    "    # Define the grid range and create grid points\n",
    "    grid_range_real = np.linspace(-num_std_dev, num_std_dev, num_points)\n",
    "    grid_range_imag = np.linspace(-num_std_dev, num_std_dev, num_points)\n",
    "    grid_x, grid_y = np.meshgrid(grid_range_real, grid_range_imag)\n",
    "    grid_points = np.vstack([grid_x.ravel(), grid_y.ravel()]).T\n",
    "\n",
    "    for qubit_idx, (kde_0, kde_1) in kde_dict.items():\n",
    "        # Evaluate KDE on the grid for both states\n",
    "        grid_density_0 = (kde_0.score_samples(grid_points)).reshape(grid_x.shape)\n",
    "        grid_density_1 = (kde_1.score_samples(grid_points)).reshape(grid_x.shape)\n",
    "        \n",
    "        # Create an instance of GridData and store in dictionary\n",
    "        # grid_dict[qubit_idx] = cpp_probabilities.GridData(grid_x, grid_y, grid_density_0, grid_density_1)\n",
    "        grid_dict[qubit_idx] = (grid_x, grid_y, grid_density_0, grid_density_1)\n",
    "\n",
    "    return grid_dict\n",
    "\n",
    "\n",
    "\n",
    "def update_grid_metadata(metadata_path, job_id, creation_date, grid_file_path):\n",
    "    \"\"\"\n",
    "    Update or create grid metadata.\n",
    "\n",
    "    Args:\n",
    "        metadata_path (str): Path to the metadata file.\n",
    "        job_id (str): The job ID associated with the grid.\n",
    "        creation_date (str): The creation date of the job.\n",
    "        grid_file_path (str): Path to the grid file.\n",
    "\n",
    "    \"\"\"\n",
    "    # Check if the metadata file exists\n",
    "    if os.path.exists(metadata_path):\n",
    "        # Read existing metadata\n",
    "        with open(metadata_path, 'r') as file:\n",
    "            metadata = json.load(file)\n",
    "    else:\n",
    "        # Initialize metadata if file does not exist\n",
    "        metadata = {}\n",
    "\n",
    "    # Update or create the metadata entry\n",
    "    metadata[job_id] = {\n",
    "        'creation_date': creation_date,\n",
    "        'grid_file_path': grid_file_path\n",
    "    }\n",
    "\n",
    "    # Write the updated metadata back to the file\n",
    "    with open(metadata_path, 'w') as file:\n",
    "        json.dump(metadata, file, indent=4)\n",
    "\n",
    "\n",
    "\n",
    "def save_grid(grid_dict, filename):\n",
    "    \"\"\"\n",
    "    Save a grid dictionary as a JSON file.\n",
    "\n",
    "    Args:\n",
    "        grid_dict (dict): Dictionary containing tuples of NumPy arrays.\n",
    "        filename (str): The name of the file to save the grid data.\n",
    "    \"\"\"\n",
    "    serializable_grid_dict = {}\n",
    "    for qubit_idx, (grid_x, grid_y, grid_density_0, grid_density_1) in grid_dict.items():\n",
    "        serializable_grid_dict[qubit_idx] = {\n",
    "            'grid_x': grid_x.tolist(), \n",
    "            'grid_y': grid_y.tolist(), \n",
    "            'grid_density_0': grid_density_0.tolist(), \n",
    "            'grid_density_1': grid_density_1.tolist()\n",
    "        }\n",
    "\n",
    "    with open(filename, 'w') as file:\n",
    "        json.dump(serializable_grid_dict, file, indent=4)\n",
    "\n",
    "def load_grid(filename):\n",
    "    \"\"\"\n",
    "    Load a grid dictionary from a JSON file and create GridData objects.\n",
    "\n",
    "    Args:\n",
    "        filename (str): The name of the file to load the grid data from.\n",
    "\n",
    "    Returns:\n",
    "        dict: Dictionary containing GridData objects.\n",
    "    \"\"\"\n",
    "    with open(filename, 'r') as file:\n",
    "        serializable_grid_dict = json.load(file)\n",
    "\n",
    "    grid_dict = {}\n",
    "    for qubit_idx, grid_data in serializable_grid_dict.items():\n",
    "        grid_x = np.array(grid_data['grid_x'])\n",
    "        grid_y = np.array(grid_data['grid_y'])\n",
    "        grid_density_0 = np.array(grid_data['grid_density_0'])\n",
    "        grid_density_1 = np.array(grid_data['grid_density_1'])\n",
    "\n",
    "        # Create GridData objects\n",
    "        grid_dict[int(qubit_idx)] = cpp_probabilities.GridData(\n",
    "            grid_x, grid_y, grid_density_0, grid_density_1\n",
    "        )\n",
    "\n",
    "    return grid_dict\n",
    "\n",
    "\n",
    "\n",
    "# Example usage\n",
    "root_dir = find_and_create_scratch()\n",
    "grid_dict = generate_kde_grid(kde_dict, 10, num_std_dev=3)  # Replace with actual kde_dict\n",
    "save_grid(grid_dict, root_dir + '/calibration_grids/your_grid_file.json')\n",
    "grid = load_grid(root_dir + '/calibration_grids/your_grid_file.json')\n",
    "print(grid[0])\n",
    "\n"
   ]
  },
  {
   "cell_type": "code",
   "execution_count": null,
   "metadata": {},
   "outputs": [],
   "source": [
    "import os\n",
    "from cpp import process_scaler_dict\n",
    "\n",
    "def create_or_load_kde_grid(provider, tobecalib_job, num_points, num_std_dev=3):\n",
    "    \"\"\"\n",
    "    Create or load a KDE grid. If the grid for the specified job is already generated and saved, it loads the grid.\n",
    "    Otherwise, it creates a new grid, saves it, and updates the metadata.\n",
    "\n",
    "    Args:\n",
    "        provider: Quantum provider for obtaining calibration data.\n",
    "        tobecalib_job (str): The job ID to be calibrated.\n",
    "        grid_folder (str): Folder where grids are saved.\n",
    "        metadata_file (str): Path to the grid metadata file.\n",
    "        num_points (int): Number of points in the grid.\n",
    "        num_std_dev (float): Number of standard deviations for grid range.\n",
    "\n",
    "    Returns:\n",
    "        dict: Dictionary containing GridData objects.\n",
    "    \"\"\"\n",
    "    root_dir = find_and_create_scratch()\n",
    "    grid_folder = root_dir + '/calibration_grids'\n",
    "    metadata_file = root_dir + '/calibration_grid_metadata.json'\n",
    "\n",
    "    if os.path.exists(metadata_file):\n",
    "        with open(metadata_file, 'r') as file:\n",
    "            grid_metadata = json.load(file)\n",
    "    else:\n",
    "        grid_metadata = {}\n",
    "\n",
    "    grid_entry = grid_metadata.get(tobecalib_job) #TODO find the closest job id func\n",
    "\n",
    "    kde_dict, scaler_dict = get_KDEs(provider, tobecalib_job=tobecalib_job)\n",
    "    if grid_entry:\n",
    "        # Load the existing grid\n",
    "        grid_file_path = grid_entry['grid_file_path']\n",
    "        return load_grid(grid_file_path)\n",
    "    else:\n",
    "        # Generate a new grid        \n",
    "        grid_dict = generate_kde_grid(kde_dict, num_points, num_std_dev)\n",
    "\n",
    "        # Save the new grid\n",
    "        grid_file_path = os.path.join(grid_folder, f\"{tobecalib_job}_grid.json\")\n",
    "        save_grid(grid_dict, grid_file_path)\n",
    "\n",
    "        # Update metadata\n",
    "        update_grid_metadata(metadata_file, tobecalib_job, grid_file_path=grid_file_path)\n",
    "\n",
    "        return grid_dict, process_scaler_dict(scaler_dict)\n",
    "\n",
    "# Example usage\n",
    "grid_dict = create_or_load_kde_grid(provider, 'cmyhbrqrmwhg008bs4h0', '/path/to/calibration_grids', '/path/to/calibration_grid_metadata.json', 10, num_std_dev=3)\n"
   ]
  },
  {
   "cell_type": "markdown",
   "metadata": {},
   "source": [
    "# Generate grid data"
   ]
  },
  {
   "cell_type": "code",
   "execution_count": 24,
   "metadata": {},
   "outputs": [
    {
     "name": "stdout",
     "output_type": "stream",
     "text": [
      "27\n"
     ]
    }
   ],
   "source": [
    "import numpy as np\n",
    "\n",
    "def generate_kde_grid(kde_dict, num_points, num_std_dev=10):\n",
    "    grid_dict = {}\n",
    "\n",
    "    # Define the grid range and create grid points\n",
    "    grid_range_real = np.linspace(-num_std_dev, num_std_dev, num_points)\n",
    "    grid_range_imag = np.linspace(-num_std_dev, num_std_dev, num_points)\n",
    "    grid_x, grid_y = np.meshgrid(grid_range_real, grid_range_imag)\n",
    "    grid_points = np.vstack([grid_x.ravel(), grid_y.ravel()]).T\n",
    "\n",
    "    for qubit_idx, (kde_0, kde_1) in kde_dict.items():\n",
    "        # Evaluate KDE on the grid for both states\n",
    "        grid_density_0 = (kde_0.score_samples(grid_points)).reshape(grid_x.shape)\n",
    "        grid_density_1 = (kde_1.score_samples(grid_points)).reshape(grid_x.shape)\n",
    "        \n",
    "        # Create an instance of GridData and store in dictionary\n",
    "        grid_dict[qubit_idx] = cpp_probabilities.GridData(grid_x, grid_y, grid_density_0, grid_density_1)\n",
    "\n",
    "    return grid_dict\n",
    "\n",
    "grid_dict = generate_kde_grid(kde_dict, 10, num_std_dev=3)\n",
    "print(len(grid_dict))\n"
   ]
  },
  {
   "cell_type": "markdown",
   "metadata": {},
   "source": [
    "# Test grid data"
   ]
  },
  {
   "cell_type": "code",
   "execution_count": 25,
   "metadata": {},
   "outputs": [
    {
     "data": {
      "text/plain": [
       "[('000 00 00 00', 866),\n",
       " ('000 01 00 00', 15),\n",
       " ('000 10 10 10', 11),\n",
       " ('000 01 01 01', 10),\n",
       " ('000 00 01 00', 9),\n",
       " ('000 10 00 00', 9),\n",
       " ('100 00 10 00', 8),\n",
       " ('100 10 00 10', 7),\n",
       " ('000 10 10 00', 6),\n",
       " ('001 00 00 00', 5),\n",
       " ('010 11 00 11', 5),\n",
       " ('000 00 10 00', 4),\n",
       " ('001 00 01 00', 4),\n",
       " ('001 01 00 00', 4),\n",
       " ('001 01 00 01', 4),\n",
       " ('100 10 00 00', 4),\n",
       " ('100 00 00 00', 3),\n",
       " ('000 00 10 10', 2),\n",
       " ('000 01 01 00', 2),\n",
       " ('000 10 00 10', 2),\n",
       " ('000 00 00 01', 1),\n",
       " ('000 00 00 10', 1),\n",
       " ('000 01 00 01', 1),\n",
       " ('000 10 11 10', 1),\n",
       " ('000 11 01 01', 1),\n",
       " ('001 01 01 00', 1),\n",
       " ('001 01 01 01', 1),\n",
       " ('001 01 10 00', 1),\n",
       " ('001 10 10 00', 1),\n",
       " ('001 11 10 10', 1),\n",
       " ('010 00 00 00', 1),\n",
       " ('010 00 11 00', 1),\n",
       " ('010 01 00 11', 1),\n",
       " ('010 01 10 01', 1),\n",
       " ('010 10 00 00', 1),\n",
       " ('010 10 01 00', 1),\n",
       " ('010 11 00 00', 1),\n",
       " ('010 11 01 00', 1),\n",
       " ('100 00 10 10', 1),\n",
       " ('100 10 10 00', 1)]"
      ]
     },
     "execution_count": 25,
     "metadata": {},
     "output_type": "execute_result"
    }
   ],
   "source": [
    "from cpp import process_scaler_dict\n",
    "\n",
    "\n",
    "processed_scaler_dict = process_scaler_dict(scaler_dict)\n",
    "\n",
    "counts = cpp_probabilities.get_counts(memory, qubit_mapping, grid_dict, processed_scaler_dict, synd_rounds)\n",
    "(sorted(counts.items(), key=lambda x: x[1], reverse=True))"
   ]
  }
 ],
 "metadata": {
  "kernelspec": {
   "display_name": "Soft-Info-Sk8aHGSa",
   "language": "python",
   "name": "python3"
  },
  "language_info": {
   "codemirror_mode": {
    "name": "ipython",
    "version": 3
   },
   "file_extension": ".py",
   "mimetype": "text/x-python",
   "name": "python",
   "nbconvert_exporter": "python",
   "pygments_lexer": "ipython3",
   "version": "3.11.4"
  }
 },
 "nbformat": 4,
 "nbformat_minor": 2
}
