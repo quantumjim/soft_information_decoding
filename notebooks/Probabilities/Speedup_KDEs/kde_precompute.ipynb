{
 "cells": [
  {
   "cell_type": "markdown",
   "metadata": {},
   "source": [
    "# Testing with grid lookup"
   ]
  },
  {
   "cell_type": "code",
   "execution_count": 76,
   "metadata": {},
   "outputs": [],
   "source": [
    "import numpy as np\n",
    "from sklearn.neighbors import KernelDensity\n",
    "\n",
    "# Example 2D data\n",
    "data = np.random.normal(0, 1, size=(100, 2))\n",
    "\n",
    "# Step 1: Compute KDE on a 2D grid\n",
    "kde = KernelDensity(kernel='gaussian', bandwidth=0.5).fit(data)\n",
    "\n",
    "# Creating a 2D grid to evaluate KDE\n",
    "grid_x, grid_y = np.linspace(data[:, 0].min() - 1, data[:, 0].max() + 1, 10000), \\\n",
    "                 np.linspace(data[:, 1].min() - 1, data[:, 1].max() + 1, 10000)\n",
    "grid_x, grid_y = np.meshgrid(grid_x, grid_y)\n",
    "grid_points = np.vstack([grid_x.ravel(), grid_y.ravel()]).T\n",
    "\n",
    "# Evaluate KDE on the grid\n",
    "grid_density = np.exp(kde.score_samples(grid_points)).reshape(grid_x.shape)"
   ]
  },
  {
   "cell_type": "code",
   "execution_count": 81,
   "metadata": {},
   "outputs": [],
   "source": [
    "def vectorized_grid_lookup(new_points, grid_x, grid_y, grid_density):\n",
    "    # Calculate grid spacing\n",
    "    dx = grid_x[0, 1] - grid_x[0, 0]\n",
    "    dy = grid_y[1, 0] - grid_y[0, 0]\n",
    "\n",
    "    # Vectorized computation of indices\n",
    "    x_indices = np.round((new_points[:, 0] - grid_x[0, 0]) / dx).astype(int)\n",
    "    y_indices = np.round((new_points[:, 1] - grid_y[0, 0]) / dy).astype(int)\n",
    "\n",
    "    # Ensure indices are within the bounds of the grid\n",
    "    x_indices = np.clip(x_indices, 0, grid_x.shape[1] - 1)\n",
    "    y_indices = np.clip(y_indices, 0, grid_y.shape[0] - 1)\n",
    "\n",
    "    # Retrieve densities for all points\n",
    "    return grid_density[y_indices, x_indices]\n",
    "\n",
    "\n",
    "# Step 3: Estimate density at new points\n",
    "new_points = data = np.random.normal(0, 1, size=(int(1e7), 2)) # New 2D points to estimate density"
   ]
  },
  {
   "cell_type": "code",
   "execution_count": 82,
   "metadata": {},
   "outputs": [],
   "source": [
    "estimated_density = vectorized_grid_lookup(new_points, grid_x, grid_y, grid_density)\n",
    "#print(\"Estimated densities using direct grid lookup:\", estimated_density)"
   ]
  },
  {
   "cell_type": "code",
   "execution_count": 83,
   "metadata": {},
   "outputs": [
    {
     "name": "stdout",
     "output_type": "stream",
     "text": [
      "KDE densities: [0.09835393 0.09398805 0.03307916 ... 0.0054666  0.07072101 0.05918098]\n"
     ]
    }
   ],
   "source": [
    "\n",
    "# Using KDE directly for comparison\n",
    "kde_density = np.exp(kde.score_samples(new_points))  # Using KDE directly, converting log density to density\n",
    "print(\"KDE densities:\", kde_density)\n"
   ]
  },
  {
   "cell_type": "code",
   "execution_count": 84,
   "metadata": {},
   "outputs": [
    {
     "name": "stdout",
     "output_type": "stream",
     "text": [
      "Average difference between estimated densities and KDE densities: 1.1556383857985751e-05\n"
     ]
    }
   ],
   "source": [
    "# Calculate average difference\n",
    "average_difference = np.mean(np.abs(estimated_density - kde_density))\n",
    "print(\"Average difference between estimated densities and KDE densities:\", average_difference)"
   ]
  },
  {
   "cell_type": "markdown",
   "metadata": {},
   "source": [
    "# Testing with grid interpolation"
   ]
  },
  {
   "cell_type": "markdown",
   "metadata": {},
   "source": [
    "### 2D KDE\n"
   ]
  },
  {
   "cell_type": "code",
   "execution_count": 14,
   "metadata": {},
   "outputs": [],
   "source": [
    "import numpy as np\n",
    "from sklearn.neighbors import KernelDensity\n",
    "from scipy.interpolate import griddata\n",
    "\n",
    "# Example 2D data\n",
    "data = np.random.normal(0, 1, size=(100, 2))\n",
    "\n",
    "# Step 1: Compute KDE on a 2D grid\n",
    "kde = KernelDensity(kernel='gaussian', bandwidth=0.5).fit(data)\n",
    "\n",
    "# Creating a 2D grid to evaluate KDE\n",
    "grid_x, grid_y = np.linspace(data[:, 0].min() - 1, data[:, 0].max() + 1, 1000), \\\n",
    "                 np.linspace(data[:, 1].min() - 1, data[:, 1].max() + 1, 1000)\n",
    "grid_x, grid_y = np.meshgrid(grid_x, grid_y)\n",
    "grid_points = np.vstack([grid_x.ravel(), grid_y.ravel()]).T\n",
    "\n",
    "# Evaluate KDE on the grid\n",
    "grid_density = (kde.score_samples(grid_points)).reshape(grid_x.shape)  # log density to density\n",
    "\n",
    "# Step 2: Store the computed values (grid_points and grid_density)\n",
    "\n",
    "# Function to estimate density at new points using interpolation in 2D\n",
    "def estimate_density_2d(new_points, grid_x, grid_y, grid_density):\n",
    "    return griddata((grid_x.ravel(), grid_y.ravel()), grid_density.ravel(), new_points, method='linear') # Linear is fast and should be good for smooth gaussian kernels\n",
    "\n",
    "# Step 3: Estimate density at new points\n",
    "new_points = np.array([[0.5, -0.2], [-0.1, 0.3], [1.3, -0.7]])  # New 2D points to estimate density\n"
   ]
  },
  {
   "cell_type": "code",
   "execution_count": 11,
   "metadata": {},
   "outputs": [
    {
     "name": "stdout",
     "output_type": "stream",
     "text": [
      "Estimated densities: [-2.22741194 -2.20622228 -2.80384235]\n"
     ]
    }
   ],
   "source": [
    "estimated_density = estimate_density_2d(new_points, grid_x, grid_y, grid_density)\n",
    "print(\"Estimated densities:\", estimated_density)"
   ]
  },
  {
   "cell_type": "code",
   "execution_count": 10,
   "metadata": {},
   "outputs": [
    {
     "name": "stdout",
     "output_type": "stream",
     "text": [
      "KDE densities: [-2.22740732 -2.2062127  -2.80383375]\n"
     ]
    }
   ],
   "source": [
    "\n",
    "kde_density = kde.score_samples(new_points)  # Using KDE directly\n",
    "print(\"KDE densities:\", kde_density)"
   ]
  },
  {
   "cell_type": "markdown",
   "metadata": {},
   "source": [
    "### 1D KDE"
   ]
  },
  {
   "cell_type": "code",
   "execution_count": 3,
   "metadata": {},
   "outputs": [
    {
     "name": "stdout",
     "output_type": "stream",
     "text": [
      "Estimated densities: [[-1.17870772]\n",
      " [-1.0241159 ]\n",
      " [-1.77600527]]\n",
      "KDE densities: [-1.17870703 -1.02411512 -1.77600509]\n"
     ]
    }
   ],
   "source": [
    "import numpy as np\n",
    "from sklearn.neighbors import KernelDensity\n",
    "from scipy.interpolate import griddata\n",
    "\n",
    "# Example data\n",
    "data = np.random.normal(0, 1, size=(100, 1))\n",
    "\n",
    "# Step 1: Compute KDE on a grid\n",
    "kde = KernelDensity(kernel='gaussian', bandwidth=0.5).fit(data)\n",
    "\n",
    "# Creating a grid to evaluate KDE\n",
    "grid_min, grid_max = data.min() - 1, data.max() + 1\n",
    "grid_points = np.linspace(grid_min, grid_max, 1000)[:, np.newaxis]\n",
    "\n",
    "# Evaluate KDE on the grid\n",
    "grid_density = (kde.score_samples(grid_points))  # log density to density\n",
    "\n",
    "# Step 2: Store the computed values (grid_points and grid_density)\n",
    "\n",
    "# Function to estimate density at new points using interpolation\n",
    "def estimate_density(new_points, grid_points, grid_density):\n",
    "    return griddata(grid_points.ravel(), grid_density, new_points, method='linear')\n",
    "\n",
    "# Step 3: Estimate density at new points\n",
    "new_points = np.array([0.5, -0.2, 1.3])[:, np.newaxis]  # New points to estimate density\n",
    "estimated_density = estimate_density(new_points, grid_points, grid_density)\n",
    "kde_density = kde.score_samples(new_points)  # Using KDE directly\n",
    "\n",
    "print(\"Estimated densities:\", estimated_density)\n",
    "print(\"KDE densities:\", kde_density)\n"
   ]
  },
  {
   "cell_type": "code",
   "execution_count": null,
   "metadata": {},
   "outputs": [],
   "source": []
  }
 ],
 "metadata": {
  "kernelspec": {
   "display_name": "Soft-Info-Sk8aHGSa",
   "language": "python",
   "name": "python3"
  },
  "language_info": {
   "codemirror_mode": {
    "name": "ipython",
    "version": 3
   },
   "file_extension": ".py",
   "mimetype": "text/x-python",
   "name": "python",
   "nbconvert_exporter": "python",
   "pygments_lexer": "ipython3",
   "version": "3.11.4"
  }
 },
 "nbformat": 4,
 "nbformat_minor": 2
}
