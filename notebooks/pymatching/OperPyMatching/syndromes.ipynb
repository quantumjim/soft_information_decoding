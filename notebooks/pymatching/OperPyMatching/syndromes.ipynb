{
 "cells": [
  {
   "cell_type": "code",
   "execution_count": 12,
   "metadata": {},
   "outputs": [
    {
     "name": "stdout",
     "output_type": "stream",
     "text": [
      "Reversed str: 00 01 00 011\n",
      "Count str: 011\n",
      "XOR result: 10\n",
      "First part: 000100\n",
      "Numpy List: [0 0 0 1 0 0 1 0]\n"
     ]
    }
   ],
   "source": [
    "import numpy as np\n",
    "\n",
    "def process_string(input_str, verbose=False):\n",
    "    # Step 1: Invert the order of the string\n",
    "    reversed_str = input_str[::-1]\n",
    "    if verbose:\n",
    "        print(\"Reversed str:\", reversed_str)\n",
    "\n",
    "    # Step 2: Separate the last part of the string\n",
    "    last_part = reversed_str.split(\" \")[-1]\n",
    "    if verbose:\n",
    "        print(\"Count str:\", last_part)\n",
    "    \n",
    "    # Step 3: Perform XOR operations on the last part\n",
    "    xor_result = ''.join([str((int(last_part[i]) + int(last_part[i + 1])) % 2) for i in range(len(last_part) - 1)])\n",
    "    if verbose:\n",
    "        print(\"XOR result:\", xor_result)\n",
    "    \n",
    "    # Step 4: Remove the remaining spaces in the first part of the string\n",
    "    first_part = ''.join(reversed_str.split(\" \")[:-1])\n",
    "    if verbose:\n",
    "        print(\"First part:\", first_part)\n",
    "    \n",
    "    # Step 5: Separate each bit of the string into a list of a NumPy array\n",
    "    numpy_list = np.array([int(bit) for bit in first_part]+ [int(bit) for bit in xor_result])\n",
    "    \n",
    "    return numpy_list\n",
    "\n",
    "# Example usage\n",
    "input_str = \"110 00 10 00\"\n",
    "numpy_list = process_string(input_str, verbose=True)\n",
    "\n",
    "print(\"Numpy List:\", numpy_list)\n"
   ]
  },
  {
   "cell_type": "code",
   "execution_count": null,
   "metadata": {},
   "outputs": [],
   "source": []
  }
 ],
 "metadata": {
  "kernelspec": {
   "display_name": "Soft-Info-Sk8aHGSa",
   "language": "python",
   "name": "python3"
  },
  "language_info": {
   "codemirror_mode": {
    "name": "ipython",
    "version": 3
   },
   "file_extension": ".py",
   "mimetype": "text/x-python",
   "name": "python",
   "nbconvert_exporter": "python",
   "pygments_lexer": "ipython3",
   "version": "3.11.4"
  }
 },
 "nbformat": 4,
 "nbformat_minor": 2
}
