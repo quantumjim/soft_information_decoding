{
 "cells": [
  {
   "cell_type": "markdown",
   "metadata": {},
   "source": [
    "# Load Data"
   ]
  },
  {
   "cell_type": "code",
   "execution_count": 4,
   "metadata": {},
   "outputs": [],
   "source": [
    "import pickle\n",
    "\n",
    "with open('../ibm_sherbrooke-20-False.p', 'rb') as file:\n",
    "    memory_all = pickle.load(file)\n",
    "\n",
    "# Lets load the correct memory\n",
    "memory = memory_all[0] # loads logical = 0"
   ]
  },
  {
   "cell_type": "markdown",
   "metadata": {},
   "source": [
    "# Load code + decoder + KDEs"
   ]
  },
  {
   "cell_type": "code",
   "execution_count": 5,
   "metadata": {},
   "outputs": [],
   "source": [
    "from qiskit_qec.circuits import ArcCircuit\n",
    "\n",
    "links = [(0, 1, 2), (2, 3, 4), (4, 5, 6), (6, 7, 8), (8, 9, 10), (10, 11, 12), (0, 14, 18), (4, 15, 22), (8, 16, 26), (12, 17, 30), (18, 19, 20), (20, 21, 22), (22, 23, 24), (24, 25, 26), (26, 27, 28), (28, 29, 30), (30, 31, 32), (20, 33, 39), (24, 34, 43), (28, 35, 47), (32, 36, 51), (37, 38, 39), (39, 40, 41), (41, 42, 43), (43, 44, 45), (45, 46, 47), (47, 48, 49), (49, 50, 51), (37, 52, 56), (41, 53, 60), (45, 54, 64), (49, 55, 68), (56, 57, 58), (58, 59, 60), (60, 61, 62), (62, 63, 64), (64, 65, 66), (66, 67, 68), (68, 69, 70), (58, 71, 77), (62, 72, 81), (66, 73, 85), (70, 74, 89), (75, 76, 77), (77, 78, 79), (79, 80, 81), (81, 82, 83), (83, 84, 85), (85, 86, 87), (87, 88, 89), (75, 90, 94), (79, 91, 98), (83, 92, 102), (87, 93, 106), (94, 95, 96), (96, 97, 98), (98, 99, 100), (100, 101, 102), (102, 103, 104), (104, 105, 106), (106, 107, 108), (96, 109, 114), (100, 110, 118), (104, 111, 122), (108, 112, 126), (114, 115, 116), (116, 117, 118), (118, 119, 120), (120, 121, 122), (122, 123, 124), (124, 125, 126)]\n",
    "T = 20\n",
    "schedule = [[(0, 14), (2, 3), (4, 15), (6, 7), (8, 16), (10, 11), (12, 17), (18, 19), (22, 23), (26, 27), (30, 31), (20, 33), (24, 34), (28, 35), (32, 36), (39, 40), (43, 44), (47, 48), (37, 52), (41, 53), (45, 54), (49, 55), (56, 57), (60, 61), (64, 65), (68, 69), (58, 71), (62, 72), (66, 73), (70, 74), (77, 78), (81, 82), (85, 86), (75, 90), (79, 91), (83, 92), (87, 93), (94, 95), (98, 99), (102, 103), (106, 107), (96, 109), (100, 110), (104, 111), (108, 112), (114, 115), (118, 119), (122, 123)], [(0, 1), (4, 5), (8, 9), (18, 14), (22, 15), (26, 16), (30, 17), (20, 21), (24, 25), (28, 29), (39, 33), (43, 34), (47, 35), (51, 36), (37, 38), (41, 42), (45, 46), (49, 50), (56, 52), (60, 53), (64, 54), (68, 55), (58, 59), (62, 63), (66, 67), (77, 71), (81, 72), (85, 73), (89, 74), (75, 76), (79, 80), (83, 84), (87, 88), (94, 90), (98, 91), (102, 92), (106, 93), (96, 97), (100, 101), (104, 105), (114, 109), (118, 110), (122, 111), (126, 112), (116, 117), (120, 121), (124, 125)], [(2, 1), (4, 3), (6, 5), (8, 7), (10, 9), (12, 11), (22, 21), (26, 25), (30, 29), (20, 19), (24, 23), (28, 27), (32, 31), (39, 38), (43, 42), (47, 46), (51, 50), (41, 40), (45, 44), (49, 48), (60, 59), (64, 63), (68, 67), (58, 57), (62, 61), (66, 65), (70, 69), (77, 76), (81, 80), (85, 84), (89, 88), (79, 78), (83, 82), (87, 86), (98, 97), (102, 101), (106, 105), (96, 95), (100, 99), (104, 103), (108, 107), (118, 117), (122, 121), (126, 125), (116, 115), (120, 119), (124, 123)]]\n",
    "resets = False\n",
    "run_202 = False\n",
    "basis = 'zx'\n",
    "color = {0: 0, 2: 1, 4: 0, 6: 1, 8: 0, 10: 1, 12: 0, 18: 1, 22: 1, 26: 1, 30: 1, 20: 0, 24: 0, 28: 0, 32: 0, 39: 1, 43: 1, 47: 1, 51: 1, 37: 0, 41: 0, 45: 0, 49: 0, 56: 1, 60: 1, 64: 1, 68: 1, 58: 0, 62: 0, 66: 0, 70: 0, 77: 1, 81: 1, 85: 1, 89: 1, 75: 0, 79: 0, 83: 0, 87: 0, 94: 1, 98: 1, 102: 1, 106: 1, 96: 0, 100: 0, 104: 0, 108: 0, 114: 1, 118: 1, 122: 1, 126: 1, 116: 0, 120: 0, 124: 0}\n",
    "\n",
    "code = {}\n",
    "for logical in ['0', '1']:\n",
    "    code[logical] = ArcCircuit(links, T, schedule=schedule, logical=logical, resets=resets, run_202=run_202, basis=basis, color=color)"
   ]
  },
  {
   "cell_type": "code",
   "execution_count": 6,
   "metadata": {},
   "outputs": [],
   "source": [
    "from soft_info import get_repcode_layout, get_KDEs, get_counts\n",
    "from result_saver import SaverProvider\n",
    "\n",
    "provider = SaverProvider()\n",
    "DEVICE = 'ibm_sherbrooke'\n",
    "qubits = list(range(127))\n",
    "kde_dict, scaler_dict = get_KDEs(provider, DEVICE, qubits)"
   ]
  },
  {
   "cell_type": "code",
   "execution_count": 7,
   "metadata": {},
   "outputs": [],
   "source": [
    "from qiskit_qec.decoders import UnionFindDecoder\n",
    "\n",
    "decoder = UnionFindDecoder(code['0'], use_peeling=False)\n",
    "initial_graph = decoder.decoding_graph.graph"
   ]
  },
  {
   "cell_type": "markdown",
   "metadata": {},
   "source": [
    "# get_counts for ArcCircuit"
   ]
  },
  {
   "cell_type": "code",
   "execution_count": 38,
   "metadata": {},
   "outputs": [],
   "source": [
    "from tqdm import tqdm\n",
    "import warnings\n",
    "from collections import defaultdict\n",
    "\n",
    "from qiskit.result import Counts\n",
    "\n",
    "from soft_info import estimate_outcome\n",
    "\n",
    "\n",
    "def get_counts(IQ_data, kde_dict=None, scaler_dict=None, link_qubits = None, code_qubits = None, synd_rounds=None, verbose=False):\n",
    "    \"\"\"Convert the IQ data to counts using corresponding KDEs for each qubit.\n",
    "\n",
    "    Args:\n",
    "        IQ_data (list of list of floats): The IQ data for multiple shots. \n",
    "            Each inner list contains IQ data for a single shot.\n",
    "        kde_dict (dict, optional): Dictionary mapping qubit index to a tuple containing its KDEs for state 0 and 1.\n",
    "        scaler_dict (dict, optional): Dictionary mapping qubit index to its scaler for normalization.\n",
    "        layout (list of int, optional): List specifying the layout of qubits. [link_qubits, code_qubits]\n",
    "        synd_rounds (int, optional): Number of syndrome rounds.\n",
    "\n",
    "    Returns:\n",
    "        count_dict (qiskit.result.counts.Counts): The counts for the experiments. Ordered by number of shots.\n",
    "    \"\"\"\n",
    "    count_dict = defaultdict(int)\n",
    "\n",
    "    # get qubit mapping\n",
    "    iq_map = {}\n",
    "    for t in range(synd_rounds):\n",
    "        for idx, link_qubit in enumerate(link_qubits):\n",
    "            iq_map[t * len(link_qubits) + idx] = link_qubit\n",
    "            \n",
    "    for idx, code_qubit in enumerate(code_qubits):\n",
    "        iq_map[synd_rounds * len(link_qubits) + idx] = code_qubit\n",
    "\n",
    "        \n",
    "    iterable = tqdm(IQ_data, desc=f\"Processing {len(IQ_data)} shots\") if verbose else IQ_data\n",
    "\n",
    "    for shot in iterable:\n",
    "        outcome_str = \"\"\n",
    "        for idx, IQ_point in enumerate(shot):\n",
    "            if iq_map is not None:\n",
    "\n",
    "                qubit_idx = iq_map[idx] \n",
    "\n",
    "                kde_0, kde_1 = kde_dict.get(qubit_idx, (None, None))\n",
    "                scaler = scaler_dict.get(qubit_idx, None)\n",
    "                # returns None if qubit_idx not in dict => normal outcome estimation\n",
    "                outcome_str += str(estimate_outcome(IQ_point,\n",
    "                                   kde_0, kde_1, scaler))\n",
    "                 \n",
    "                # Insert a space for decoder formatting (not needed for ARC?)\n",
    "                if (idx + 1) % (len(link_qubits)) == 0 and (idx + 1) // (len(link_qubits)) <= synd_rounds:\n",
    "                    outcome_str += \" \"\n",
    "            \n",
    "            else:\n",
    "                outcome_str += str(estimate_outcome(IQ_point))\n",
    "\n",
    "        outcome_str = outcome_str[::-1] # Reverse string to match qiskit format\n",
    "        count_dict[outcome_str] += 1\n",
    "\n",
    "    count_dict = dict(\n",
    "        sorted(count_dict.items(), key=lambda item: item[1], reverse=True))\n",
    "\n",
    "    return Counts(count_dict)"
   ]
  },
  {
   "cell_type": "code",
   "execution_count": 39,
   "metadata": {},
   "outputs": [],
   "source": [
    "# get the layout = [link_qubits, code_qubits]\n",
    "\n",
    "link_qubits = [k for k in code['0'].link_index.keys()]\n",
    "code_qubits = [k for k in code['0'].code_index.keys()]"
   ]
  },
  {
   "cell_type": "code",
   "execution_count": 36,
   "metadata": {},
   "outputs": [
    {
     "name": "stderr",
     "output_type": "stream",
     "text": [
      "Processing 1 shots: 100%|██████████| 1/1 [00:01<00:00,  1.10s/it]\n"
     ]
    },
    {
     "name": "stdout",
     "output_type": "stream",
     "text": [
      "100010100000000000000011100000000110100000100001000000 11000011001000010001011000100100011100100010111000111001101101001000000 11100100011000010001111000011101100100100100001011101101101010101110000 01000001001000010001011000110100011100100000111000111001101101101010000 11100100011000010001111000011001100000100110001011101001001000111110000 11000011001000010001011000100100011000100000111100111001101101101010000 01100100011000010001011000011101100000100010001011001011101100101110000 01000011001000010001011000100101011000100100100100010001101111100010000 11100110011000010001011000000101000000101010001111000001100110100110000 01000011001000010001011000110001011000100100010000000001100101100000000 01100100011000010001011000000101000000101010001111000001100100000111000 11000011001000100001011000110001000000100100010000000001110001000001000 01100111011000010000011000100000000000101010001111000001100000000011000 11000000001000100001011000100001000000100000010000000001100001000111000 01100111011000010100011000100000001000101110001111000001100000000011000 01000010001000100101011000100000100000100000010000000000000011100111000 00000110010000010100010000100000100000001110001111000000000000000011000 11000010000000000000001000000010100000000100010000000000000001000111000 00000010000000000100010000000000100000000110001111000000000000000001000 10000000000000000000000000000000000000000000001000000000000001000011000 10000000000000000000000000000000000000000100000110000000000000000001000\n"
     ]
    },
    {
     "data": {
      "text/plain": [
       "[0]"
      ]
     },
     "execution_count": 36,
     "metadata": {},
     "output_type": "execute_result"
    }
   ],
   "source": [
    "counts = get_counts(memory[:1], kde_dict, scaler_dict, link_qubits, code_qubits, 20, verbose=True)\n",
    "count_key = next(iter(counts.keys()))\n",
    "print(count_key)\n",
    "decoder.process(count_key)"
   ]
  },
  {
   "cell_type": "markdown",
   "metadata": {},
   "source": [
    "# Soft reweight for ArcCircuit"
   ]
  },
  {
   "cell_type": "code",
   "execution_count": 44,
   "metadata": {},
   "outputs": [],
   "source": [
    "from typing import List\n",
    "from copy import deepcopy\n",
    "import warnings\n",
    "\n",
    "import numpy as np\n",
    "\n",
    "from soft_info import llh_ratio\n",
    "\n",
    "def soft_reweight(decoder, code, IQ_data, kde_dict: dict, scaler_dict : dict, p_data : float = None, p_meas : float = None, common_measure = None):\n",
    "    \n",
    "    graph = deepcopy(decoder.decoding_graph.graph)\n",
    "\n",
    "    p_data = p_data if p_data is not None else 6.836e-3  # Sherbrooke median\n",
    "    p_meas = p_meas if p_meas is not None else 0\n",
    "\n",
    "    #tot_nb_checks = decoder.code.d - 1  # hardcoded for RepetitionCode\n",
    "\n",
    "    #if layout is not None:\n",
    "        #qubit_mapping = get_repcode_IQ_map(layout, decoder.code.T)\n",
    "\n",
    "    for edge_idx, edge in enumerate(graph.edges()):\n",
    "\n",
    "        src_node_idx, tgt_node_idx = graph.edge_list()[edge_idx]\n",
    "        src_node, tgt_node = graph.nodes()[src_node_idx], graph.nodes()[\n",
    "            tgt_node_idx]\n",
    "        time_source, time_tgt = src_node['time'], tgt_node['time']\n",
    "\n",
    "        if edge.qubits is not None: # data edges & mixed edges\n",
    "            if time_source != time_tgt: # mixed edges\n",
    "                p_mixed = p_data # find a better ratio! /5, /50 is worse for dist 10\n",
    "                edge.weight = -np.log(p_mixed/(1-p_mixed))\n",
    "            else: # data edges\n",
    "                edge.weight = -np.log(p_data/(1-p_data))\n",
    "\n",
    "        else: # time edges\n",
    "            edge.weight = 0  #TODO -np.log(p_meas/(1-p_meas))\n",
    "\n",
    "            \n",
    "            # if time_source is None or time_tgt is None:\n",
    "            #     continue # skip boundary edges\n",
    "\n",
    "            if time_source > time_tgt: #TODO check if needed \n",
    "                src_node, tgt_node = tgt_node, src_node\n",
    "                time_source, time_tgt = time_tgt, time_source\n",
    "                src_node_idx, tgt_node_idx = tgt_node_idx, src_node_idx\n",
    "                warnings.warn(\"time_source > time_tgt. Reordering them...\") # For debugging purposes.\n",
    "\n",
    "            if time_source != time_tgt: # only time edges but sanity check\n",
    "                \n",
    "                \n",
    "                link_qubit_number = src_node.index # gives the index of the stabilizer measurement => the link qubit number\n",
    "                IQ_point = IQ_data[src_node_idx] # should be ordered [node_1, node_2, ...]\n",
    "\n",
    "                rev_link_dict = {v: k for k, v in code.link_index.items()} #TODO change that to retrieve the code from the decoder\n",
    "                # This gives {nb of qubit in code : hardware_qubit}\n",
    "                hardware_qubit = rev_link_dict[link_qubit_number]    \n",
    "\n",
    "                kde_0, kde_1 = kde_dict.get(hardware_qubit, (None, None))\n",
    "                scaler = scaler_dict.get(hardware_qubit, None)\n",
    "\n",
    "                weight = llh_ratio(IQ_point, kde_0, kde_1, scaler)\n",
    "\n",
    "                edge.weight += weight\n",
    "\n",
    "        # Round the weights to common measure\n",
    "        if common_measure is not None:\n",
    "            edge.weight = round(edge.weight/ common_measure) * common_measure\n",
    "\n",
    "    return graph"
   ]
  },
  {
   "cell_type": "markdown",
   "metadata": {},
   "source": [
    "# Decode"
   ]
  },
  {
   "cell_type": "code",
   "execution_count": 46,
   "metadata": {},
   "outputs": [
    {
     "name": "stderr",
     "output_type": "stream",
     "text": [
      "100%|██████████| 1/1 [00:33<00:00, 33.77s/it]"
     ]
    },
    {
     "name": "stdout",
     "output_type": "stream",
     "text": [
      "\n",
      "Logical_counts: {'0': 1, '1': 0}\n"
     ]
    },
    {
     "name": "stderr",
     "output_type": "stream",
     "text": [
      "\n"
     ]
    }
   ],
   "source": [
    "from tqdm import tqdm\n",
    "\n",
    "VERBOSE = False\n",
    "\n",
    "\n",
    "logical_counts = {'0':0, '1':0}\n",
    "for shot in tqdm(range(len(memory))[:]):\n",
    "    \n",
    "    decoder.decoding_graph.graph = initial_graph.copy()\n",
    "    \n",
    "    decoder = UnionFindDecoder(code['0'], use_peeling=False)\n",
    "    \n",
    "    IQ_data = memory[shot]\n",
    "\n",
    "    counts = get_counts([IQ_data], kde_dict, scaler_dict, link_qubits, code_qubits, 20, verbose=False)\n",
    "    #counts = get_counts([IQ_data], kde_dict, scaler_dict, layout, max_distance, verbose=False)\n",
    "    count_key = next(iter(counts.keys()))\n",
    "    \n",
    "    \n",
    "    reweighted_graph = soft_reweight(decoder, code['0'], IQ_data, kde_dict, scaler_dict)\n",
    "    #reweighted_graph = soft_reweight(decoder, IQ_data, kde_dict, scaler_dict, layout)\n",
    "    decoder.decoding_graph.graph = reweighted_graph\n",
    "\n",
    "    \n",
    "\n",
    "    logical = decoder.process(count_key, _return_err_str = True)\n",
    "    \n",
    "    logical_counts[f\"{logical[0]}\"] += 1\n",
    "\n",
    "    if logical[0] == 0:\n",
    "        continue\n",
    "    \n",
    "    print(logical_counts)\n",
    "\n",
    "    if VERBOSE:\n",
    "        print(\"Decoding graph after reweighting:\")\n",
    "        #rx_draw_2D(decoder.decoding_graph.graph, atypical_nodes=code.string2nodes(count_key))\n",
    "    \n",
    "    if VERBOSE:\n",
    "        print(\"\\nmeas_str:\", count_key)\n",
    "        #print(\"flipped_qubit_dict\", flipped_qubit_dict)\n",
    "        print(\"logical:\", logical, \"\\n\")\n",
    "        if logical[0] == 1:\n",
    "            print(\"------------ Wrong logical! ------------\\n\")\n",
    "\n",
    "    \n",
    "\n",
    "print( \"\\nLogical_counts:\", logical_counts)\n"
   ]
  },
  {
   "cell_type": "code",
   "execution_count": null,
   "metadata": {},
   "outputs": [],
   "source": []
  }
 ],
 "metadata": {
  "kernelspec": {
   "display_name": "Soft-Info-Sk8aHGSa",
   "language": "python",
   "name": "python3"
  },
  "language_info": {
   "codemirror_mode": {
    "name": "ipython",
    "version": 3
   },
   "file_extension": ".py",
   "mimetype": "text/x-python",
   "name": "python",
   "nbconvert_exporter": "python",
   "pygments_lexer": "ipython3",
   "version": "3.11.4"
  }
 },
 "nbformat": 4,
 "nbformat_minor": 2
}
