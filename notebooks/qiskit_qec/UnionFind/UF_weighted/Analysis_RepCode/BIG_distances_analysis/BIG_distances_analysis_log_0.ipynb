{
 "cells": [
  {
   "cell_type": "code",
   "execution_count": 1,
   "metadata": {},
   "outputs": [],
   "source": [
    "%reload_ext autoreload\n",
    "%autoreload 2"
   ]
  },
  {
   "cell_type": "code",
   "execution_count": 2,
   "metadata": {},
   "outputs": [],
   "source": [
    "from result_saver import SaverProvider\n",
    "provider = SaverProvider()"
   ]
  },
  {
   "cell_type": "code",
   "execution_count": 3,
   "metadata": {},
   "outputs": [
    {
     "data": {
      "text/html": [
       "<div>\n",
       "<style scoped>\n",
       "    .dataframe tbody tr th:only-of-type {\n",
       "        vertical-align: middle;\n",
       "    }\n",
       "\n",
       "    .dataframe tbody tr th {\n",
       "        vertical-align: top;\n",
       "    }\n",
       "\n",
       "    .dataframe thead th {\n",
       "        text-align: right;\n",
       "    }\n",
       "</style>\n",
       "<table border=\"1\" class=\"dataframe\">\n",
       "  <thead>\n",
       "    <tr style=\"text-align: right;\">\n",
       "      <th></th>\n",
       "      <th>creation_date</th>\n",
       "      <th>notebook_name</th>\n",
       "      <th>backend_name</th>\n",
       "      <th>job_id</th>\n",
       "      <th>tags</th>\n",
       "      <th>shots</th>\n",
       "      <th>tags_xp</th>\n",
       "      <th>sampled_state</th>\n",
       "      <th>num_qubits</th>\n",
       "      <th>job_status</th>\n",
       "      <th>extra</th>\n",
       "      <th>optimization_level</th>\n",
       "      <th>code</th>\n",
       "      <th>distance</th>\n",
       "      <th>rounds</th>\n",
       "      <th>logical</th>\n",
       "      <th>layout</th>\n",
       "      <th>descr</th>\n",
       "    </tr>\n",
       "  </thead>\n",
       "  <tbody>\n",
       "    <tr>\n",
       "      <th>76</th>\n",
       "      <td>2023-10-29 14:47:58.814875+01:00</td>\n",
       "      <td>bigger_rep_codes</td>\n",
       "      <td>ibm_sherbrooke</td>\n",
       "      <td>cmz653m3r3vg008wf9j0</td>\n",
       "      <td>[]</td>\n",
       "      <td>1111.0</td>\n",
       "      <td>NaN</td>\n",
       "      <td>NaN</td>\n",
       "      <td>NaN</td>\n",
       "      <td>JobStatus.DONE</td>\n",
       "      <td>NaN</td>\n",
       "      <td>NaN</td>\n",
       "      <td>RepetitionCodeCircuit</td>\n",
       "      <td>30.0</td>\n",
       "      <td>30</td>\n",
       "      <td>1</td>\n",
       "      <td>_is_hex=True</td>\n",
       "      <td>Run bigger Repetition codes</td>\n",
       "    </tr>\n",
       "    <tr>\n",
       "      <th>75</th>\n",
       "      <td>2023-10-29 14:47:43.903639+01:00</td>\n",
       "      <td>bigger_rep_codes</td>\n",
       "      <td>ibm_sherbrooke</td>\n",
       "      <td>cmz64zvvcq70008qdxcg</td>\n",
       "      <td>[]</td>\n",
       "      <td>1111.0</td>\n",
       "      <td>NaN</td>\n",
       "      <td>NaN</td>\n",
       "      <td>NaN</td>\n",
       "      <td>JobStatus.DONE</td>\n",
       "      <td>NaN</td>\n",
       "      <td>NaN</td>\n",
       "      <td>RepetitionCodeCircuit</td>\n",
       "      <td>30.0</td>\n",
       "      <td>30</td>\n",
       "      <td>0</td>\n",
       "      <td>_is_hex=True</td>\n",
       "      <td>Run bigger Repetition codes</td>\n",
       "    </tr>\n",
       "  </tbody>\n",
       "</table>\n",
       "</div>"
      ],
      "text/plain": [
       "                       creation_date     notebook_name    backend_name  \\\n",
       "76  2023-10-29 14:47:58.814875+01:00  bigger_rep_codes  ibm_sherbrooke   \n",
       "75  2023-10-29 14:47:43.903639+01:00  bigger_rep_codes  ibm_sherbrooke   \n",
       "\n",
       "                  job_id tags   shots tags_xp sampled_state  num_qubits  \\\n",
       "76  cmz653m3r3vg008wf9j0   []  1111.0     NaN           NaN         NaN   \n",
       "75  cmz64zvvcq70008qdxcg   []  1111.0     NaN           NaN         NaN   \n",
       "\n",
       "        job_status extra  optimization_level                   code  distance  \\\n",
       "76  JobStatus.DONE   NaN                 NaN  RepetitionCodeCircuit      30.0   \n",
       "75  JobStatus.DONE   NaN                 NaN  RepetitionCodeCircuit      30.0   \n",
       "\n",
       "   rounds logical        layout                        descr  \n",
       "76     30       1  _is_hex=True  Run bigger Repetition codes  \n",
       "75     30       0  _is_hex=True  Run bigger Repetition codes  "
      ]
     },
     "execution_count": 3,
     "metadata": {},
     "output_type": "execute_result"
    }
   ],
   "source": [
    "import numpy as np\n",
    "from Scratch import metadata_loader\n",
    "\n",
    "md = metadata_loader(_extract=True, _drop_inutile=True)\n",
    "md = md[md[\"job_status\"] == \"JobStatus.DONE\"]\n",
    "md = md[md[\"notebook_name\"] == \"bigger_rep_codes\"]\n",
    "max_distance = int(max(md.distance))\n",
    "md = md[md[\"distance\"] == max_distance]\n",
    "md = md.sort_values(by='backend_name', ascending=False)\n",
    "\n",
    "md = md[:2]\n",
    "\n",
    "md"
   ]
  },
  {
   "cell_type": "code",
   "execution_count": 4,
   "metadata": {},
   "outputs": [
    {
     "ename": "KeyboardInterrupt",
     "evalue": "",
     "output_type": "error",
     "traceback": [
      "\u001b[0;31m---------------------------------------------------------------------------\u001b[0m",
      "\u001b[0;31mKeyboardInterrupt\u001b[0m                         Traceback (most recent call last)",
      "\u001b[1;32m/Users/mha/My Drive/Desktop/Studium/Physik/MSc/Semester 3/IBM/IBM GIT/Soft-Info/notebooks/UF/UF_weighted/Analysis_RepCode/BIG_distances_analysis_log_0.ipynb Cell 4\u001b[0m line \u001b[0;36m4\n\u001b[1;32m      <a href='vscode-notebook-cell:/Users/mha/My%20Drive/Desktop/Studium/Physik/MSc/Semester%203/IBM/IBM%20GIT/Soft-Info/notebooks/UF/UF_weighted/Analysis_RepCode/BIG_distances_analysis_log_0.ipynb#W3sZmlsZQ%3D%3D?line=1'>2</a>\u001b[0m \u001b[39mfor\u001b[39;00m job_id, logical \u001b[39min\u001b[39;00m \u001b[39mzip\u001b[39m(md\u001b[39m.\u001b[39mjob_id, md\u001b[39m.\u001b[39mlogical):\n\u001b[1;32m      <a href='vscode-notebook-cell:/Users/mha/My%20Drive/Desktop/Studium/Physik/MSc/Semester%203/IBM/IBM%20GIT/Soft-Info/notebooks/UF/UF_weighted/Analysis_RepCode/BIG_distances_analysis_log_0.ipynb#W3sZmlsZQ%3D%3D?line=2'>3</a>\u001b[0m     mmr_name \u001b[39m=\u001b[39m \u001b[39mf\u001b[39m\u001b[39m\"\u001b[39m\u001b[39mmmr_log_\u001b[39m\u001b[39m{\u001b[39;00mlogical\u001b[39m}\u001b[39;00m\u001b[39m\"\u001b[39m\n\u001b[0;32m----> <a href='vscode-notebook-cell:/Users/mha/My%20Drive/Desktop/Studium/Physik/MSc/Semester%203/IBM/IBM%20GIT/Soft-Info/notebooks/UF/UF_weighted/Analysis_RepCode/BIG_distances_analysis_log_0.ipynb#W3sZmlsZQ%3D%3D?line=3'>4</a>\u001b[0m     memories[mmr_name] \u001b[39m=\u001b[39m provider\u001b[39m.\u001b[39;49mretrieve_job(job_id)\u001b[39m.\u001b[39;49mresult()\u001b[39m.\u001b[39;49mget_memory()\n\u001b[1;32m      <a href='vscode-notebook-cell:/Users/mha/My%20Drive/Desktop/Studium/Physik/MSc/Semester%203/IBM/IBM%20GIT/Soft-Info/notebooks/UF/UF_weighted/Analysis_RepCode/BIG_distances_analysis_log_0.ipynb#W3sZmlsZQ%3D%3D?line=5'>6</a>\u001b[0m memories\n",
      "File \u001b[0;32m~/.local/share/virtualenvs/Soft-Info-Sk8aHGSa/lib/python3.11/site-packages/qiskit/result/result.py:231\u001b[0m, in \u001b[0;36mResult.get_memory\u001b[0;34m(self, experiment)\u001b[0m\n\u001b[1;32m    229\u001b[0m     \u001b[39mreturn\u001b[39;00m postprocess\u001b[39m.\u001b[39mformat_level_2_memory(memory, header)\n\u001b[1;32m    230\u001b[0m \u001b[39melif\u001b[39;00m meas_level \u001b[39m==\u001b[39m MeasLevel\u001b[39m.\u001b[39mKERNELED:\n\u001b[0;32m--> 231\u001b[0m     \u001b[39mreturn\u001b[39;00m postprocess\u001b[39m.\u001b[39;49mformat_level_1_memory(memory)\n\u001b[1;32m    232\u001b[0m \u001b[39melif\u001b[39;00m meas_level \u001b[39m==\u001b[39m MeasLevel\u001b[39m.\u001b[39mRAW:\n\u001b[1;32m    233\u001b[0m     \u001b[39mreturn\u001b[39;00m postprocess\u001b[39m.\u001b[39mformat_level_0_memory(memory)\n",
      "File \u001b[0;32m~/.local/share/virtualenvs/Soft-Info-Sk8aHGSa/lib/python3.11/site-packages/qiskit/result/postprocess.py:131\u001b[0m, in \u001b[0;36mformat_level_1_memory\u001b[0;34m(memory)\u001b[0m\n\u001b[1;32m    117\u001b[0m \u001b[39mdef\u001b[39;00m \u001b[39mformat_level_1_memory\u001b[39m(memory):\n\u001b[1;32m    118\u001b[0m \u001b[39m    \u001b[39m\u001b[39m\"\"\"Format an experiment result memory object for measurement level 1.\u001b[39;00m\n\u001b[1;32m    119\u001b[0m \n\u001b[1;32m    120\u001b[0m \u001b[39m    Args:\u001b[39;00m\n\u001b[0;32m   (...)\u001b[0m\n\u001b[1;32m    129\u001b[0m \u001b[39m            indices.\u001b[39;00m\n\u001b[1;32m    130\u001b[0m \u001b[39m    \"\"\"\u001b[39;00m\n\u001b[0;32m--> 131\u001b[0m     formatted_memory \u001b[39m=\u001b[39m _list_to_complex_array(memory)\n\u001b[1;32m    132\u001b[0m     \u001b[39m# infer meas_return from shape of returned data.\u001b[39;00m\n\u001b[1;32m    133\u001b[0m     \u001b[39mif\u001b[39;00m \u001b[39mnot\u001b[39;00m \u001b[39m1\u001b[39m \u001b[39m<\u001b[39m\u001b[39m=\u001b[39m \u001b[39mlen\u001b[39m(formatted_memory\u001b[39m.\u001b[39mshape) \u001b[39m<\u001b[39m\u001b[39m=\u001b[39m \u001b[39m2\u001b[39m:\n",
      "File \u001b[0;32m~/.local/share/virtualenvs/Soft-Info-Sk8aHGSa/lib/python3.11/site-packages/qiskit/result/postprocess.py:89\u001b[0m, in \u001b[0;36m_list_to_complex_array\u001b[0;34m(complex_list)\u001b[0m\n\u001b[1;32m     77\u001b[0m \u001b[39mdef\u001b[39;00m \u001b[39m_list_to_complex_array\u001b[39m(complex_list):\n\u001b[1;32m     78\u001b[0m \u001b[39m    \u001b[39m\u001b[39m\"\"\"Convert nested list of shape (..., 2) to complex numpy array with shape (...)\u001b[39;00m\n\u001b[1;32m     79\u001b[0m \n\u001b[1;32m     80\u001b[0m \u001b[39m    Args:\u001b[39;00m\n\u001b[0;32m   (...)\u001b[0m\n\u001b[1;32m     87\u001b[0m \u001b[39m        QiskitError: If inner most array of input nested list is not of length 2.\u001b[39;00m\n\u001b[1;32m     88\u001b[0m \u001b[39m    \"\"\"\u001b[39;00m\n\u001b[0;32m---> 89\u001b[0m     arr \u001b[39m=\u001b[39m np\u001b[39m.\u001b[39;49masarray(complex_list, dtype\u001b[39m=\u001b[39;49mnp\u001b[39m.\u001b[39;49mcomplex_)\n\u001b[1;32m     90\u001b[0m     \u001b[39mif\u001b[39;00m \u001b[39mnot\u001b[39;00m arr\u001b[39m.\u001b[39mshape[\u001b[39m-\u001b[39m\u001b[39m1\u001b[39m] \u001b[39m==\u001b[39m \u001b[39m2\u001b[39m:\n\u001b[1;32m     91\u001b[0m         \u001b[39mraise\u001b[39;00m QiskitError(\u001b[39m\"\u001b[39m\u001b[39mInner most nested list is not of length 2.\u001b[39m\u001b[39m\"\u001b[39m)\n",
      "\u001b[0;31mKeyboardInterrupt\u001b[0m: "
     ]
    }
   ],
   "source": [
    "memories = {}\n",
    "for job_id, logical in zip(md.job_id, md.logical):\n",
    "    mmr_name = f\"mmr_log_{logical}\"\n",
    "    memories[mmr_name] = provider.retrieve_job(job_id).result().get_memory()\n",
    "\n",
    "memories"
   ]
  },
  {
   "cell_type": "code",
   "execution_count": null,
   "metadata": {},
   "outputs": [
    {
     "name": "stdout",
     "output_type": "stream",
     "text": [
      "{114: [KernelDensity(bandwidth=0.2), KernelDensity(bandwidth=0.2)], 116: [KernelDensity(bandwidth=0.2), KernelDensity(bandwidth=0.2)], 118: [KernelDensity(bandwidth=0.2), KernelDensity(bandwidth=0.2)], 120: [KernelDensity(bandwidth=0.2), KernelDensity(bandwidth=0.2)], 122: [KernelDensity(bandwidth=0.2), KernelDensity(bandwidth=0.2)], 104: [KernelDensity(bandwidth=0.2), KernelDensity(bandwidth=0.2)], 102: [KernelDensity(bandwidth=0.2), KernelDensity(bandwidth=0.2)], 100: [KernelDensity(bandwidth=0.2), KernelDensity(bandwidth=0.2)], 98: [KernelDensity(bandwidth=0.2), KernelDensity(bandwidth=0.2)], 96: [KernelDensity(bandwidth=0.2), KernelDensity(bandwidth=0.2)], 94: [KernelDensity(bandwidth=0.2), KernelDensity(bandwidth=0.2)], 75: [KernelDensity(bandwidth=0.2), KernelDensity(bandwidth=0.2)], 77: [KernelDensity(bandwidth=0.2), KernelDensity(bandwidth=0.2)], 79: [KernelDensity(bandwidth=0.2), KernelDensity(bandwidth=0.2)], 81: [KernelDensity(bandwidth=0.2), KernelDensity(bandwidth=0.2)], 83: [KernelDensity(bandwidth=0.2), KernelDensity(bandwidth=0.2)], 85: [KernelDensity(bandwidth=0.2), KernelDensity(bandwidth=0.2)], 66: [KernelDensity(bandwidth=0.2), KernelDensity(bandwidth=0.2)], 64: [KernelDensity(bandwidth=0.2), KernelDensity(bandwidth=0.2)], 62: [KernelDensity(bandwidth=0.2), KernelDensity(bandwidth=0.2)], 60: [KernelDensity(bandwidth=0.2), KernelDensity(bandwidth=0.2)], 58: [KernelDensity(bandwidth=0.2), KernelDensity(bandwidth=0.2)], 56: [KernelDensity(bandwidth=0.2), KernelDensity(bandwidth=0.2)], 37: [KernelDensity(bandwidth=0.2), KernelDensity(bandwidth=0.2)], 39: [KernelDensity(bandwidth=0.2), KernelDensity(bandwidth=0.2)], 41: [KernelDensity(bandwidth=0.2), KernelDensity(bandwidth=0.2)], 43: [KernelDensity(bandwidth=0.2), KernelDensity(bandwidth=0.2)], 45: [KernelDensity(bandwidth=0.2), KernelDensity(bandwidth=0.2)], 47: [KernelDensity(bandwidth=0.2), KernelDensity(bandwidth=0.2)], 113: [KernelDensity(bandwidth=0.2), KernelDensity(bandwidth=0.2)], 115: [KernelDensity(bandwidth=0.2), KernelDensity(bandwidth=0.2)], 117: [KernelDensity(bandwidth=0.2), KernelDensity(bandwidth=0.2)], 119: [KernelDensity(bandwidth=0.2), KernelDensity(bandwidth=0.2)], 121: [KernelDensity(bandwidth=0.2), KernelDensity(bandwidth=0.2)], 111: [KernelDensity(bandwidth=0.2), KernelDensity(bandwidth=0.2)], 103: [KernelDensity(bandwidth=0.2), KernelDensity(bandwidth=0.2)], 101: [KernelDensity(bandwidth=0.2), KernelDensity(bandwidth=0.2)], 99: [KernelDensity(bandwidth=0.2), KernelDensity(bandwidth=0.2)], 97: [KernelDensity(bandwidth=0.2), KernelDensity(bandwidth=0.2)], 95: [KernelDensity(bandwidth=0.2), KernelDensity(bandwidth=0.2)], 90: [KernelDensity(bandwidth=0.2), KernelDensity(bandwidth=0.2)], 76: [KernelDensity(bandwidth=0.2), KernelDensity(bandwidth=0.2)], 78: [KernelDensity(bandwidth=0.2), KernelDensity(bandwidth=0.2)], 80: [KernelDensity(bandwidth=0.2), KernelDensity(bandwidth=0.2)], 82: [KernelDensity(bandwidth=0.2), KernelDensity(bandwidth=0.2)], 84: [KernelDensity(bandwidth=0.2), KernelDensity(bandwidth=0.2)], 73: [KernelDensity(bandwidth=0.2), KernelDensity(bandwidth=0.2)], 65: [KernelDensity(bandwidth=0.2), KernelDensity(bandwidth=0.2)], 63: [KernelDensity(bandwidth=0.2), KernelDensity(bandwidth=0.2)], 61: [KernelDensity(bandwidth=0.2), KernelDensity(bandwidth=0.2)], 59: [KernelDensity(bandwidth=0.2), KernelDensity(bandwidth=0.2)], 57: [KernelDensity(bandwidth=0.2), KernelDensity(bandwidth=0.2)], 52: [KernelDensity(bandwidth=0.2), KernelDensity(bandwidth=0.2)], 38: [KernelDensity(bandwidth=0.2), KernelDensity(bandwidth=0.2)], 40: [KernelDensity(bandwidth=0.2), KernelDensity(bandwidth=0.2)], 42: [KernelDensity(bandwidth=0.2), KernelDensity(bandwidth=0.2)], 44: [KernelDensity(bandwidth=0.2), KernelDensity(bandwidth=0.2)], 46: [KernelDensity(bandwidth=0.2), KernelDensity(bandwidth=0.2)], 35: [KernelDensity(bandwidth=0.2), KernelDensity(bandwidth=0.2)]}\n"
     ]
    }
   ],
   "source": [
    "import pickle\n",
    "from soft_info import get_repcode_layout, get_KDEs, get_counts\n",
    "from qiskit_qec.circuits import RepetitionCodeCircuit\n",
    "from qiskit_qec.decoders import UnionFindDecoder\n",
    "\n",
    "layout = get_repcode_layout(distance=max_distance, backend=provider.get_backend(\"ibm_sherbrooke\"), _is_hex=True)\n",
    "\n",
    "kde_dict, scaler_dict = get_KDEs(provider, 'ibm_sherbrooke', layout, bandwidths=0.2, plot=False)\n",
    "print(kde_dict)\n",
    "\n",
    "#code = RepetitionCodeCircuit(max_distance, max_distance)\n",
    "#decoder = UnionFindDecoder(code)\n",
    "\n",
    "with open(f'dist_{max_distance}_decoder.pkl', 'rb') as f:\n",
    "    decoder = pickle.load(f)"
   ]
  },
  {
   "cell_type": "code",
   "execution_count": 17,
   "metadata": {},
   "outputs": [
    {
     "name": "stderr",
     "output_type": "stream",
     "text": [
      "Processing 1111 shots: 100%|██████████| 1111/1111 [11:38<00:00,  1.59it/s]\n"
     ]
    }
   ],
   "source": [
    "from soft_info import get_counts\n",
    "\n",
    "counts = get_counts(memories['mmr_log_0'], kde_dict, scaler_dict, layout, max_distance, verbose=True)"
   ]
  },
  {
   "cell_type": "code",
   "execution_count": 14,
   "metadata": {},
   "outputs": [
    {
     "name": "stderr",
     "output_type": "stream",
     "text": [
      "100%|██████████| 20/20 [00:38<00:00,  1.93s/it]"
     ]
    },
    {
     "name": "stdout",
     "output_type": "stream",
     "text": [
      "\n",
      "Logical_counts: {'0': 20, '1': 0}\n"
     ]
    },
    {
     "name": "stderr",
     "output_type": "stream",
     "text": [
      "\n"
     ]
    }
   ],
   "source": [
    "from soft_info import soft_reweight, get_counts, rx_draw_2D\n",
    "from tqdm import tqdm\n",
    "\n",
    "VERBOSE = False\n",
    "\n",
    "memory = memories['mmr_log_0']\n",
    "\n",
    "logical_counts = {'0':0, '1':0}\n",
    "for shot in tqdm(range(len(memory))[:100]):\n",
    "    \n",
    "    with open(f\"dist_{max_distance}_decoder.pkl\", 'rb') as f: # Reload the decoder each time to reset the graph\n",
    "        decoder = pickle.load(f)\n",
    "\n",
    "    IQ_data = memory[shot]\n",
    "\n",
    "    counts = get_counts([IQ_data], kde_dict, scaler_dict, layout, max_distance, verbose=False)\n",
    "    count_key = next(iter(counts.keys()))\n",
    "    \n",
    "    if VERBOSE:\n",
    "        print(\"Decoding graph before reweighting:\")\n",
    "        rx_draw_2D(decoder.graph)\n",
    "\n",
    "    reweighted_graph = soft_reweight(decoder, IQ_data, kde_dict, scaler_dict, layout)\n",
    "    decoder.graph = reweighted_graph\n",
    "\n",
    "    if VERBOSE:\n",
    "        print(\"Decoding graph after reweighting:\")\n",
    "        rx_draw_2D(decoder.graph)\n",
    "\n",
    "    logical, flipped_qubit_dict = decoder.process(count_key, _return_err_str = True)\n",
    "    \n",
    "    if VERBOSE:\n",
    "        print(\"\\nmeas_str:\", count_key)\n",
    "        print(\"flipped_qubit_dict\", flipped_qubit_dict)\n",
    "        print(\"logical:\", logical, \"\\n\")\n",
    "        if logical[0] == 1:\n",
    "            print(\"------------ Wrong logical! ------------\\n\")\n",
    "\n",
    "    logical_counts[f\"{logical[0]}\"] += 1\n",
    "\n",
    "print( \"\\nLogical_counts:\", logical_counts)\n"
   ]
  },
  {
   "cell_type": "code",
   "execution_count": 15,
   "metadata": {},
   "outputs": [
    {
     "name": "stderr",
     "output_type": "stream",
     "text": [
      "100%|██████████| 20/20 [00:15<00:00,  1.29it/s]"
     ]
    },
    {
     "name": "stdout",
     "output_type": "stream",
     "text": [
      "\n",
      "Logical_counts: {'0': 20, '1': 0}\n"
     ]
    },
    {
     "name": "stderr",
     "output_type": "stream",
     "text": [
      "\n"
     ]
    }
   ],
   "source": [
    "from soft_info import soft_reweight, get_counts, rx_draw_2D\n",
    "from tqdm import tqdm\n",
    "\n",
    "VERBOSE = False\n",
    "\n",
    "memory = memories['mmr_log_0']\n",
    "\n",
    "logical_counts = {'0':0, '1':0}\n",
    "for shot in tqdm(range(len(memory))[:20]):\n",
    "    \n",
    "    with open(f\"dist_{max_distance}_decoder.pkl\", 'rb') as f: # Reload the decoder each time to reset the graph\n",
    "        decoder = pickle.load(f)\n",
    "\n",
    "    IQ_data = memory[shot]\n",
    "\n",
    "    counts = get_counts([IQ_data], kde_dict, scaler_dict, layout, max_distance, verbose=False)\n",
    "    count_key = next(iter(counts.keys()))\n",
    "    \n",
    "    if VERBOSE:\n",
    "        print(\"Decoding graph before reweighting:\")\n",
    "        rx_draw_2D(decoder.graph)\n",
    "\n",
    "    #reweighted_graph = soft_reweight(decoder, IQ_data, kde_dict, scaler_dict, layout)\n",
    "    #decoder.graph = reweighted_graph\n",
    "\n",
    "    if VERBOSE:\n",
    "        print(\"Decoding graph after reweighting:\")\n",
    "        rx_draw_2D(decoder.graph)\n",
    "\n",
    "    logical, flipped_qubit_dict = decoder.process(count_key, _return_err_str = True)\n",
    "    \n",
    "    if VERBOSE:\n",
    "        print(\"\\nmeas_str:\", count_key)\n",
    "        print(\"flipped_qubit_dict\", flipped_qubit_dict)\n",
    "        print(\"logical:\", logical, \"\\n\")\n",
    "        if logical[0] == 1:\n",
    "            print(\"------------ Wrong logical! ------------\\n\")\n",
    "\n",
    "    logical_counts[f\"{logical[0]}\"] += 1\n",
    "\n",
    "print( \"\\nLogical_counts:\", logical_counts)\n"
   ]
  },
  {
   "cell_type": "code",
   "execution_count": null,
   "metadata": {},
   "outputs": [],
   "source": []
  }
 ],
 "metadata": {
  "kernelspec": {
   "display_name": "Soft-Info-Sk8aHGSa",
   "language": "python",
   "name": "python3"
  },
  "language_info": {
   "codemirror_mode": {
    "name": "ipython",
    "version": 3
   },
   "file_extension": ".py",
   "mimetype": "text/x-python",
   "name": "python",
   "nbconvert_exporter": "python",
   "pygments_lexer": "ipython3",
   "version": "3.11.4"
  }
 },
 "nbformat": 4,
 "nbformat_minor": 2
}
