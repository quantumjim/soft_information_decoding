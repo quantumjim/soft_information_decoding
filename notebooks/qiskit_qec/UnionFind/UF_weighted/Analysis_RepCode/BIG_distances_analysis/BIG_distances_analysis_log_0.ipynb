{
 "cells": [
  {
   "cell_type": "code",
   "execution_count": 1,
   "metadata": {},
   "outputs": [],
   "source": [
    "%reload_ext autoreload\n",
    "%autoreload 2"
   ]
  },
  {
   "cell_type": "code",
   "execution_count": 2,
   "metadata": {},
   "outputs": [],
   "source": [
    "from result_saver import SaverProvider\n",
    "provider = SaverProvider()"
   ]
  },
  {
   "cell_type": "code",
   "execution_count": 3,
   "metadata": {},
   "outputs": [
    {
     "data": {
      "text/html": [
       "<div>\n",
       "<style scoped>\n",
       "    .dataframe tbody tr th:only-of-type {\n",
       "        vertical-align: middle;\n",
       "    }\n",
       "\n",
       "    .dataframe tbody tr th {\n",
       "        vertical-align: top;\n",
       "    }\n",
       "\n",
       "    .dataframe thead th {\n",
       "        text-align: right;\n",
       "    }\n",
       "</style>\n",
       "<table border=\"1\" class=\"dataframe\">\n",
       "  <thead>\n",
       "    <tr style=\"text-align: right;\">\n",
       "      <th></th>\n",
       "      <th>creation_date</th>\n",
       "      <th>notebook_name</th>\n",
       "      <th>backend_name</th>\n",
       "      <th>job_id</th>\n",
       "      <th>tags</th>\n",
       "      <th>shots</th>\n",
       "      <th>tags_xp</th>\n",
       "      <th>sampled_state</th>\n",
       "      <th>num_qubits</th>\n",
       "      <th>job_status</th>\n",
       "      <th>extra</th>\n",
       "      <th>optimization_level</th>\n",
       "      <th>code</th>\n",
       "      <th>distance</th>\n",
       "      <th>rounds</th>\n",
       "      <th>logical</th>\n",
       "      <th>layout</th>\n",
       "      <th>descr</th>\n",
       "    </tr>\n",
       "  </thead>\n",
       "  <tbody>\n",
       "    <tr>\n",
       "      <th>51</th>\n",
       "      <td>2023-10-29 14:43:41.752908+01:00</td>\n",
       "      <td>bigger_rep_codes</td>\n",
       "      <td>ibm_sherbrooke</td>\n",
       "      <td>cmz633cvayrg008sp2a0</td>\n",
       "      <td>[]</td>\n",
       "      <td>10000.0</td>\n",
       "      <td>NaN</td>\n",
       "      <td>NaN</td>\n",
       "      <td>NaN</td>\n",
       "      <td>JobStatus.DONE</td>\n",
       "      <td>NaN</td>\n",
       "      <td>NaN</td>\n",
       "      <td>RepetitionCodeCircuit</td>\n",
       "      <td>10.0</td>\n",
       "      <td>10</td>\n",
       "      <td>0</td>\n",
       "      <td>_is_hex=True</td>\n",
       "      <td>Run bigger Repetition codes</td>\n",
       "    </tr>\n",
       "    <tr>\n",
       "      <th>242</th>\n",
       "      <td>2023-10-30 09:43:20.984078+01:00</td>\n",
       "      <td>bigger_rep_codes</td>\n",
       "      <td>ibm_sherbrooke</td>\n",
       "      <td>cmzpsa5vayrg008cpk30</td>\n",
       "      <td>[]</td>\n",
       "      <td>10000.0</td>\n",
       "      <td>NaN</td>\n",
       "      <td>NaN</td>\n",
       "      <td>NaN</td>\n",
       "      <td>JobStatus.DONE</td>\n",
       "      <td>NaN</td>\n",
       "      <td>NaN</td>\n",
       "      <td>RepetitionCodeCircuit</td>\n",
       "      <td>10.0</td>\n",
       "      <td>10</td>\n",
       "      <td>0</td>\n",
       "      <td>_is_hex=True</td>\n",
       "      <td>Run bigger Repetition codes v4: new distances ...</td>\n",
       "    </tr>\n",
       "  </tbody>\n",
       "</table>\n",
       "</div>"
      ],
      "text/plain": [
       "                        creation_date     notebook_name    backend_name  \\\n",
       "51   2023-10-29 14:43:41.752908+01:00  bigger_rep_codes  ibm_sherbrooke   \n",
       "242  2023-10-30 09:43:20.984078+01:00  bigger_rep_codes  ibm_sherbrooke   \n",
       "\n",
       "                   job_id tags    shots tags_xp sampled_state  num_qubits  \\\n",
       "51   cmz633cvayrg008sp2a0   []  10000.0     NaN           NaN         NaN   \n",
       "242  cmzpsa5vayrg008cpk30   []  10000.0     NaN           NaN         NaN   \n",
       "\n",
       "         job_status extra  optimization_level                   code  \\\n",
       "51   JobStatus.DONE   NaN                 NaN  RepetitionCodeCircuit   \n",
       "242  JobStatus.DONE   NaN                 NaN  RepetitionCodeCircuit   \n",
       "\n",
       "     distance rounds logical        layout  \\\n",
       "51       10.0     10       0  _is_hex=True   \n",
       "242      10.0     10       0  _is_hex=True   \n",
       "\n",
       "                                                 descr  \n",
       "51                         Run bigger Repetition codes  \n",
       "242  Run bigger Repetition codes v4: new distances ...  "
      ]
     },
     "execution_count": 3,
     "metadata": {},
     "output_type": "execute_result"
    }
   ],
   "source": [
    "import numpy as np\n",
    "from Scratch import metadata_loader\n",
    "\n",
    "md = metadata_loader(_extract=True, _drop_inutile=True)\n",
    "md = md[md[\"job_status\"] == \"JobStatus.DONE\"]\n",
    "md = md[md[\"notebook_name\"] == \"bigger_rep_codes\"]\n",
    "max_distance = int(max(md.distance))\n",
    "max_distance = 10\n",
    "md = md[md[\"distance\"] == max_distance]\n",
    "md = md.sort_values(by='backend_name', ascending=False)\n",
    "\n",
    "md = md[:2]\n",
    "\n",
    "md"
   ]
  },
  {
   "cell_type": "code",
   "execution_count": 4,
   "metadata": {},
   "outputs": [
    {
     "data": {
      "text/plain": [
       "{'mmr_log_0': array([[-1.69043800e+07+1.52777920e+07j, -6.95536570e+07+3.97118220e+07j,\n",
       "         -8.61951720e+07-6.66768820e+07j, ...,\n",
       "         -1.11575833e+08-8.60894400e+07j,  3.03813270e+07+6.08026020e+07j,\n",
       "         -4.81019930e+07-6.95120170e+07j],\n",
       "        [-1.93997510e+07+1.77208380e+07j, -5.59600780e+07+6.58611030e+07j,\n",
       "         -6.72833050e+07-6.30488450e+07j, ...,\n",
       "          6.76670320e+07-9.64343640e+07j,  4.18878580e+07+3.72742840e+07j,\n",
       "         -4.42934960e+07-5.69044300e+07j],\n",
       "        [-2.02618610e+07+2.40441530e+07j, -5.47100890e+07+6.68740870e+07j,\n",
       "         -7.64413350e+07-7.37752260e+07j, ...,\n",
       "         -1.11808223e+08-9.38663590e+07j, -3.56569670e+07+6.30416770e+07j,\n",
       "         -4.44256210e+07-5.80749620e+07j],\n",
       "        ...,\n",
       "        [-1.25824540e+07+1.02028210e+07j,  3.95282030e+07+7.85776400e+07j,\n",
       "         -8.98716200e+07-6.66634720e+07j, ...,\n",
       "          6.82267440e+07-9.14290790e+07j, -4.78136750e+07+7.53373550e+07j,\n",
       "         -4.03697040e+07-3.61357170e+07j],\n",
       "        [-1.14073460e+07+1.80057820e+07j, -8.58289010e+07+7.37505250e+07j,\n",
       "         -9.04587430e+07-5.78581220e+07j, ...,\n",
       "          7.56593580e+07-1.23966599e+08j,  2.01875580e+07+5.00819900e+07j,\n",
       "         -4.80098260e+07-4.46657240e+07j],\n",
       "        [-1.41601970e+07+2.65057760e+07j, -5.97785500e+07+8.37980370e+07j,\n",
       "         -1.12477889e+08-5.94026150e+07j, ...,\n",
       "         -1.18594964e+08-1.30071146e+08j, -5.64271440e+07+4.43220920e+07j,\n",
       "         -3.60716220e+07-6.20443380e+07j]])}"
      ]
     },
     "execution_count": 4,
     "metadata": {},
     "output_type": "execute_result"
    }
   ],
   "source": [
    "memories = {}\n",
    "for job_id, logical in zip(md.job_id, md.logical):\n",
    "    mmr_name = f\"mmr_log_{logical}\"\n",
    "    memories[mmr_name] = provider.retrieve_job(job_id).result().get_memory()\n",
    "\n",
    "memories"
   ]
  },
  {
   "cell_type": "code",
   "execution_count": 5,
   "metadata": {},
   "outputs": [
    {
     "name": "stdout",
     "output_type": "stream",
     "text": [
      "{114: [KernelDensity(bandwidth=0.2), KernelDensity(bandwidth=0.2)], 116: [KernelDensity(bandwidth=0.2), KernelDensity(bandwidth=0.2)], 118: [KernelDensity(bandwidth=0.2), KernelDensity(bandwidth=0.2)], 120: [KernelDensity(bandwidth=0.2), KernelDensity(bandwidth=0.2)], 122: [KernelDensity(bandwidth=0.2), KernelDensity(bandwidth=0.2)], 104: [KernelDensity(bandwidth=0.2), KernelDensity(bandwidth=0.2)], 102: [KernelDensity(bandwidth=0.2), KernelDensity(bandwidth=0.2)], 100: [KernelDensity(bandwidth=0.2), KernelDensity(bandwidth=0.2)], 98: [KernelDensity(bandwidth=0.2), KernelDensity(bandwidth=0.2)], 113: [KernelDensity(bandwidth=0.2), KernelDensity(bandwidth=0.2)], 115: [KernelDensity(bandwidth=0.2), KernelDensity(bandwidth=0.2)], 117: [KernelDensity(bandwidth=0.2), KernelDensity(bandwidth=0.2)], 119: [KernelDensity(bandwidth=0.2), KernelDensity(bandwidth=0.2)], 121: [KernelDensity(bandwidth=0.2), KernelDensity(bandwidth=0.2)], 111: [KernelDensity(bandwidth=0.2), KernelDensity(bandwidth=0.2)], 103: [KernelDensity(bandwidth=0.2), KernelDensity(bandwidth=0.2)], 101: [KernelDensity(bandwidth=0.2), KernelDensity(bandwidth=0.2)], 99: [KernelDensity(bandwidth=0.2), KernelDensity(bandwidth=0.2)], 97: [KernelDensity(bandwidth=0.2), KernelDensity(bandwidth=0.2)]}\n"
     ]
    }
   ],
   "source": [
    "import pickle\n",
    "from soft_info import get_repcode_layout, get_KDEs, get_counts\n",
    "from qiskit_qec.circuits import RepetitionCodeCircuit\n",
    "from qiskit_qec.decoders import UnionFindDecoder\n",
    "\n",
    "layout = get_repcode_layout(distance=max_distance, backend=provider.get_backend(\"ibm_sherbrooke\"), _is_hex=True)\n",
    "\n",
    "kde_dict, scaler_dict = get_KDEs(provider, 'ibm_sherbrooke', layout, bandwidths=0.2, plot=False)\n",
    "print(kde_dict)\n",
    "\n",
    "code = RepetitionCodeCircuit(max_distance, max_distance)\n",
    "#decoder = UnionFindDecoder(code)\n",
    "\n",
    "with open(f'dist_{max_distance}_decoder.pkl', 'rb') as f:\n",
    "    decoder = pickle.load(f)"
   ]
  },
  {
   "cell_type": "code",
   "execution_count": 6,
   "metadata": {},
   "outputs": [
    {
     "name": "stdout",
     "output_type": "stream",
     "text": [
      "[0, 1]\n",
      "{'is_boundary': False, 'time': 1, 'qubits': [4, 5], 'index': 4, 'properties': {}}\n"
     ]
    }
   ],
   "source": [
    "from soft_info import get_counts\n",
    "\n",
    "#counts = get_counts(memories['mmr_log_0'], kde_dict, scaler_dict, layout, max_distance, verbose=True)\n",
    "graph = decoder.decoding_graph.graph\n",
    "\n",
    "print(graph.node_indexes()[:2])\n",
    "print(graph.nodes()[10])"
   ]
  },
  {
   "cell_type": "code",
   "execution_count": 12,
   "metadata": {},
   "outputs": [
    {
     "name": "stderr",
     "output_type": "stream",
     "text": [
      "  1%|          | 100/10000 [00:08<13:45, 11.99it/s]"
     ]
    },
    {
     "name": "stdout",
     "output_type": "stream",
     "text": [
      "{'0': 98, '1': 1}\n"
     ]
    },
    {
     "name": "stderr",
     "output_type": "stream",
     "text": [
      "  1%|          | 110/10000 [00:09<13:17, 12.40it/s]"
     ]
    },
    {
     "name": "stdout",
     "output_type": "stream",
     "text": [
      "{'0': 107, '1': 2}\n"
     ]
    },
    {
     "name": "stderr",
     "output_type": "stream",
     "text": [
      "  3%|▎         | 254/10000 [00:21<13:17, 12.21it/s]"
     ]
    },
    {
     "name": "stdout",
     "output_type": "stream",
     "text": [
      "{'0': 251, '1': 3}\n"
     ]
    },
    {
     "name": "stderr",
     "output_type": "stream",
     "text": [
      "  3%|▎         | 258/10000 [00:21<14:11, 11.44it/s]"
     ]
    },
    {
     "name": "stdout",
     "output_type": "stream",
     "text": [
      "{'0': 253, '1': 4}\n"
     ]
    },
    {
     "name": "stderr",
     "output_type": "stream",
     "text": [
      "  3%|▎         | 262/10000 [00:22<14:02, 11.56it/s]"
     ]
    },
    {
     "name": "stdout",
     "output_type": "stream",
     "text": [
      "{'0': 257, '1': 5}\n"
     ]
    },
    {
     "name": "stderr",
     "output_type": "stream",
     "text": [
      "  4%|▎         | 366/10000 [00:31<12:56, 12.40it/s]"
     ]
    },
    {
     "name": "stdout",
     "output_type": "stream",
     "text": [
      "{'0': 359, '1': 6}\n"
     ]
    },
    {
     "name": "stderr",
     "output_type": "stream",
     "text": [
      "  6%|▌         | 614/10000 [00:51<12:13, 12.79it/s]"
     ]
    },
    {
     "name": "stdout",
     "output_type": "stream",
     "text": [
      "{'0': 607, '1': 7}\n"
     ]
    },
    {
     "name": "stderr",
     "output_type": "stream",
     "text": [
      "  6%|▋         | 646/10000 [00:54<12:08, 12.83it/s]"
     ]
    },
    {
     "name": "stdout",
     "output_type": "stream",
     "text": [
      "{'0': 636, '1': 8}\n"
     ]
    },
    {
     "name": "stderr",
     "output_type": "stream",
     "text": [
      "  7%|▋         | 704/10000 [00:58<13:31, 11.45it/s]"
     ]
    },
    {
     "name": "stdout",
     "output_type": "stream",
     "text": [
      "{'0': 694, '1': 9}\n"
     ]
    },
    {
     "name": "stderr",
     "output_type": "stream",
     "text": [
      "  8%|▊         | 802/10000 [01:06<12:37, 12.15it/s]"
     ]
    },
    {
     "name": "stdout",
     "output_type": "stream",
     "text": [
      "{'0': 791, '1': 10}\n"
     ]
    },
    {
     "name": "stderr",
     "output_type": "stream",
     "text": [
      "  9%|▉         | 905/10000 [01:15<12:50, 11.80it/s]"
     ]
    },
    {
     "name": "stdout",
     "output_type": "stream",
     "text": [
      "{'0': 893, '1': 11}\n"
     ]
    },
    {
     "name": "stderr",
     "output_type": "stream",
     "text": [
      "  9%|▉         | 913/10000 [01:16<12:53, 11.74it/s]"
     ]
    },
    {
     "name": "stdout",
     "output_type": "stream",
     "text": [
      "{'0': 900, '1': 12}\n"
     ]
    },
    {
     "name": "stderr",
     "output_type": "stream",
     "text": [
      "  9%|▉         | 947/10000 [01:19<12:31, 12.04it/s]"
     ]
    },
    {
     "name": "stdout",
     "output_type": "stream",
     "text": [
      "{'0': 933, '1': 13}\n"
     ]
    },
    {
     "name": "stderr",
     "output_type": "stream",
     "text": [
      " 12%|█▏        | 1203/10000 [01:41<12:23, 11.84it/s]"
     ]
    },
    {
     "name": "stdout",
     "output_type": "stream",
     "text": [
      "{'0': 1187, '1': 14}\n"
     ]
    },
    {
     "name": "stderr",
     "output_type": "stream",
     "text": [
      " 13%|█▎        | 1307/10000 [01:49<12:06, 11.97it/s]"
     ]
    },
    {
     "name": "stdout",
     "output_type": "stream",
     "text": [
      "{'0': 1290, '1': 15}\n"
     ]
    },
    {
     "name": "stderr",
     "output_type": "stream",
     "text": [
      " 13%|█▎        | 1339/10000 [01:52<12:12, 11.83it/s]"
     ]
    },
    {
     "name": "stdout",
     "output_type": "stream",
     "text": [
      "{'0': 1321, '1': 16}\n"
     ]
    },
    {
     "name": "stderr",
     "output_type": "stream",
     "text": [
      " 14%|█▍        | 1375/10000 [01:55<13:27, 10.68it/s]"
     ]
    },
    {
     "name": "stdout",
     "output_type": "stream",
     "text": [
      "{'0': 1357, '1': 17}\n"
     ]
    },
    {
     "name": "stderr",
     "output_type": "stream",
     "text": [
      " 14%|█▍        | 1425/10000 [02:00<12:22, 11.55it/s]"
     ]
    },
    {
     "name": "stdout",
     "output_type": "stream",
     "text": [
      "{'0': 1405, '1': 18}\n"
     ]
    },
    {
     "name": "stderr",
     "output_type": "stream",
     "text": [
      " 16%|█▌        | 1613/10000 [02:15<11:06, 12.58it/s]"
     ]
    },
    {
     "name": "stdout",
     "output_type": "stream",
     "text": [
      "{'0': 1592, '1': 19}\n"
     ]
    },
    {
     "name": "stderr",
     "output_type": "stream",
     "text": [
      " 17%|█▋        | 1693/10000 [02:22<11:17, 12.26it/s]"
     ]
    },
    {
     "name": "stdout",
     "output_type": "stream",
     "text": [
      "{'0': 1671, '1': 20}\n"
     ]
    },
    {
     "name": "stderr",
     "output_type": "stream",
     "text": [
      " 19%|█▉        | 1913/10000 [02:40<11:28, 11.74it/s]"
     ]
    },
    {
     "name": "stdout",
     "output_type": "stream",
     "text": [
      "{'0': 1890, '1': 21}\n"
     ]
    },
    {
     "name": "stderr",
     "output_type": "stream",
     "text": [
      " 19%|█▉        | 1921/10000 [02:41<11:21, 11.85it/s]"
     ]
    },
    {
     "name": "stdout",
     "output_type": "stream",
     "text": [
      "{'0': 1897, '1': 22}\n"
     ]
    },
    {
     "name": "stderr",
     "output_type": "stream",
     "text": [
      " 22%|██▏       | 2229/10000 [03:07<10:25, 12.42it/s]"
     ]
    },
    {
     "name": "stdout",
     "output_type": "stream",
     "text": [
      "{'0': 2206, '1': 23}\n"
     ]
    },
    {
     "name": "stderr",
     "output_type": "stream",
     "text": [
      " 24%|██▍       | 2435/10000 [03:24<10:30, 12.00it/s]"
     ]
    },
    {
     "name": "stdout",
     "output_type": "stream",
     "text": [
      "{'0': 2409, '1': 24}\n"
     ]
    },
    {
     "name": "stderr",
     "output_type": "stream",
     "text": [
      " 25%|██▌       | 2545/10000 [03:33<10:28, 11.86it/s]"
     ]
    },
    {
     "name": "stdout",
     "output_type": "stream",
     "text": [
      "{'0': 2519, '1': 25}\n"
     ]
    },
    {
     "name": "stderr",
     "output_type": "stream",
     "text": [
      " 26%|██▌       | 2587/10000 [03:37<10:04, 12.27it/s]"
     ]
    },
    {
     "name": "stdout",
     "output_type": "stream",
     "text": [
      "{'0': 2559, '1': 26}\n"
     ]
    },
    {
     "name": "stderr",
     "output_type": "stream",
     "text": [
      " 27%|██▋       | 2727/10000 [03:49<09:36, 12.61it/s]"
     ]
    },
    {
     "name": "stdout",
     "output_type": "stream",
     "text": [
      "{'0': 2699, '1': 27}\n",
      "{'0': 2699, '1': 28}\n"
     ]
    },
    {
     "name": "stderr",
     "output_type": "stream",
     "text": [
      " 27%|██▋       | 2733/10000 [03:49<10:05, 12.00it/s]"
     ]
    },
    {
     "name": "stdout",
     "output_type": "stream",
     "text": [
      "{'0': 2703, '1': 29}\n"
     ]
    },
    {
     "name": "stderr",
     "output_type": "stream",
     "text": [
      " 29%|██▊       | 2865/10000 [04:00<10:14, 11.61it/s]"
     ]
    },
    {
     "name": "stdout",
     "output_type": "stream",
     "text": [
      "{'0': 2833, '1': 30}\n"
     ]
    },
    {
     "name": "stderr",
     "output_type": "stream",
     "text": [
      " 29%|██▉       | 2909/10000 [04:04<09:40, 12.21it/s]"
     ]
    },
    {
     "name": "stdout",
     "output_type": "stream",
     "text": [
      "{'0': 2876, '1': 31}\n"
     ]
    },
    {
     "name": "stderr",
     "output_type": "stream",
     "text": [
      " 31%|███       | 3067/10000 [04:18<09:40, 11.94it/s]"
     ]
    },
    {
     "name": "stdout",
     "output_type": "stream",
     "text": [
      "{'0': 3033, '1': 32}\n",
      "{'0': 3033, '1': 33}\n"
     ]
    },
    {
     "name": "stderr",
     "output_type": "stream",
     "text": [
      " 32%|███▏      | 3204/10000 [04:30<09:33, 11.86it/s]\n"
     ]
    },
    {
     "ename": "KeyboardInterrupt",
     "evalue": "",
     "output_type": "error",
     "traceback": [
      "\u001b[0;31m---------------------------------------------------------------------------\u001b[0m",
      "\u001b[0;31mKeyboardInterrupt\u001b[0m                         Traceback (most recent call last)",
      "\u001b[1;32m/Users/mha/My Drive/Desktop/Studium/Physik/MSc/Semester 3/IBM/IBM GIT/Soft-Info/notebooks/qiskit_qec/UnionFind/UF_weighted/Analysis_RepCode/BIG_distances_analysis/BIG_distances_analysis_log_0.ipynb Cell 7\u001b[0m line \u001b[0;36m1\n\u001b[1;32m     <a href='vscode-notebook-cell:/Users/mha/My%20Drive/Desktop/Studium/Physik/MSc/Semester%203/IBM/IBM%20GIT/Soft-Info/notebooks/qiskit_qec/UnionFind/UF_weighted/Analysis_RepCode/BIG_distances_analysis/BIG_distances_analysis_log_0.ipynb#W6sZmlsZQ%3D%3D?line=11'>12</a>\u001b[0m     decoder \u001b[39m=\u001b[39m pickle\u001b[39m.\u001b[39mload(f)\n\u001b[1;32m     <a href='vscode-notebook-cell:/Users/mha/My%20Drive/Desktop/Studium/Physik/MSc/Semester%203/IBM/IBM%20GIT/Soft-Info/notebooks/qiskit_qec/UnionFind/UF_weighted/Analysis_RepCode/BIG_distances_analysis/BIG_distances_analysis_log_0.ipynb#W6sZmlsZQ%3D%3D?line=13'>14</a>\u001b[0m IQ_data \u001b[39m=\u001b[39m memory[shot]\n\u001b[0;32m---> <a href='vscode-notebook-cell:/Users/mha/My%20Drive/Desktop/Studium/Physik/MSc/Semester%203/IBM/IBM%20GIT/Soft-Info/notebooks/qiskit_qec/UnionFind/UF_weighted/Analysis_RepCode/BIG_distances_analysis/BIG_distances_analysis_log_0.ipynb#W6sZmlsZQ%3D%3D?line=15'>16</a>\u001b[0m counts \u001b[39m=\u001b[39m get_counts([IQ_data], kde_dict, scaler_dict, layout, max_distance, verbose\u001b[39m=\u001b[39;49m\u001b[39mFalse\u001b[39;49;00m)\n\u001b[1;32m     <a href='vscode-notebook-cell:/Users/mha/My%20Drive/Desktop/Studium/Physik/MSc/Semester%203/IBM/IBM%20GIT/Soft-Info/notebooks/qiskit_qec/UnionFind/UF_weighted/Analysis_RepCode/BIG_distances_analysis/BIG_distances_analysis_log_0.ipynb#W6sZmlsZQ%3D%3D?line=16'>17</a>\u001b[0m count_key \u001b[39m=\u001b[39m \u001b[39mnext\u001b[39m(\u001b[39miter\u001b[39m(counts\u001b[39m.\u001b[39mkeys()))\n\u001b[1;32m     <a href='vscode-notebook-cell:/Users/mha/My%20Drive/Desktop/Studium/Physik/MSc/Semester%203/IBM/IBM%20GIT/Soft-Info/notebooks/qiskit_qec/UnionFind/UF_weighted/Analysis_RepCode/BIG_distances_analysis/BIG_distances_analysis_log_0.ipynb#W6sZmlsZQ%3D%3D?line=20'>21</a>\u001b[0m reweighted_graph \u001b[39m=\u001b[39m soft_reweight(decoder, IQ_data, kde_dict, scaler_dict, layout)\n",
      "File \u001b[0;32m~/My Drive/Desktop/Studium/Physik/MSc/Semester 3/IBM/IBM GIT/Soft-Info/src/soft_info/UnionFind/probabilities.py:80\u001b[0m, in \u001b[0;36mget_counts\u001b[0;34m(IQ_data, kde_dict, scaler_dict, layout, synd_rounds, verbose)\u001b[0m\n\u001b[1;32m     78\u001b[0m scaler \u001b[39m=\u001b[39m scaler_dict\u001b[39m.\u001b[39mget(qubit_idx, \u001b[39mNone\u001b[39;00m)\n\u001b[1;32m     79\u001b[0m \u001b[39m# returns None if qubit_idx not in dict => normal outcome estimation\u001b[39;00m\n\u001b[0;32m---> 80\u001b[0m outcome_str \u001b[39m+\u001b[39m\u001b[39m=\u001b[39m \u001b[39mstr\u001b[39m(estimate_outcome(IQ_point,\n\u001b[1;32m     81\u001b[0m                    kde_0, kde_1, scaler))\n\u001b[1;32m     83\u001b[0m \u001b[39m# Insert a space for decoder formatting\u001b[39;00m\n\u001b[1;32m     84\u001b[0m \u001b[39mif\u001b[39;00m (idx \u001b[39m+\u001b[39m \u001b[39m1\u001b[39m) \u001b[39m%\u001b[39m (\u001b[39mlen\u001b[39m(layout) \u001b[39m/\u001b[39m\u001b[39m/\u001b[39m \u001b[39m2\u001b[39m) \u001b[39m==\u001b[39m \u001b[39m0\u001b[39m \u001b[39mand\u001b[39;00m (idx \u001b[39m+\u001b[39m \u001b[39m1\u001b[39m) \u001b[39m/\u001b[39m\u001b[39m/\u001b[39m (\u001b[39mlen\u001b[39m(layout) \u001b[39m/\u001b[39m\u001b[39m/\u001b[39m \u001b[39m2\u001b[39m) \u001b[39m<\u001b[39m\u001b[39m=\u001b[39m synd_rounds:\n",
      "File \u001b[0;32m~/My Drive/Desktop/Studium/Physik/MSc/Semester 3/IBM/IBM GIT/Soft-Info/src/soft_info/UnionFind/probabilities.py:35\u001b[0m, in \u001b[0;36mestimate_outcome\u001b[0;34m(IQ_point, kde_0, kde_1, scaler)\u001b[0m\n\u001b[1;32m     32\u001b[0m     \u001b[39melse\u001b[39;00m:\n\u001b[1;32m     33\u001b[0m         \u001b[39mreturn\u001b[39;00m \u001b[39m0\u001b[39m\n\u001b[0;32m---> 35\u001b[0m scaled_plane_point \u001b[39m=\u001b[39m scaler\u001b[39m.\u001b[39;49mtransform(\n\u001b[1;32m     36\u001b[0m     [[np\u001b[39m.\u001b[39;49mreal(IQ_point), np\u001b[39m.\u001b[39;49mimag(IQ_point)]])\n\u001b[1;32m     38\u001b[0m \u001b[39mif\u001b[39;00m kde_0\u001b[39m.\u001b[39mscore_samples(scaled_plane_point) \u001b[39m>\u001b[39m kde_1\u001b[39m.\u001b[39mscore_samples(scaled_plane_point):\n\u001b[1;32m     39\u001b[0m     \u001b[39mreturn\u001b[39;00m \u001b[39m0\u001b[39m\n",
      "File \u001b[0;32m~/.local/share/virtualenvs/Soft-Info-Sk8aHGSa/lib/python3.11/site-packages/sklearn/utils/_set_output.py:157\u001b[0m, in \u001b[0;36m_wrap_method_output.<locals>.wrapped\u001b[0;34m(self, X, *args, **kwargs)\u001b[0m\n\u001b[1;32m    155\u001b[0m \u001b[39m@wraps\u001b[39m(f)\n\u001b[1;32m    156\u001b[0m \u001b[39mdef\u001b[39;00m \u001b[39mwrapped\u001b[39m(\u001b[39mself\u001b[39m, X, \u001b[39m*\u001b[39margs, \u001b[39m*\u001b[39m\u001b[39m*\u001b[39mkwargs):\n\u001b[0;32m--> 157\u001b[0m     data_to_wrap \u001b[39m=\u001b[39m f(\u001b[39mself\u001b[39;49m, X, \u001b[39m*\u001b[39;49margs, \u001b[39m*\u001b[39;49m\u001b[39m*\u001b[39;49mkwargs)\n\u001b[1;32m    158\u001b[0m     \u001b[39mif\u001b[39;00m \u001b[39misinstance\u001b[39m(data_to_wrap, \u001b[39mtuple\u001b[39m):\n\u001b[1;32m    159\u001b[0m         \u001b[39m# only wrap the first output for cross decomposition\u001b[39;00m\n\u001b[1;32m    160\u001b[0m         return_tuple \u001b[39m=\u001b[39m (\n\u001b[1;32m    161\u001b[0m             _wrap_data_with_container(method, data_to_wrap[\u001b[39m0\u001b[39m], X, \u001b[39mself\u001b[39m),\n\u001b[1;32m    162\u001b[0m             \u001b[39m*\u001b[39mdata_to_wrap[\u001b[39m1\u001b[39m:],\n\u001b[1;32m    163\u001b[0m         )\n",
      "File \u001b[0;32m~/.local/share/virtualenvs/Soft-Info-Sk8aHGSa/lib/python3.11/site-packages/sklearn/preprocessing/_data.py:1006\u001b[0m, in \u001b[0;36mStandardScaler.transform\u001b[0;34m(self, X, copy)\u001b[0m\n\u001b[1;32m   1003\u001b[0m check_is_fitted(\u001b[39mself\u001b[39m)\n\u001b[1;32m   1005\u001b[0m copy \u001b[39m=\u001b[39m copy \u001b[39mif\u001b[39;00m copy \u001b[39mis\u001b[39;00m \u001b[39mnot\u001b[39;00m \u001b[39mNone\u001b[39;00m \u001b[39melse\u001b[39;00m \u001b[39mself\u001b[39m\u001b[39m.\u001b[39mcopy\n\u001b[0;32m-> 1006\u001b[0m X \u001b[39m=\u001b[39m \u001b[39mself\u001b[39;49m\u001b[39m.\u001b[39;49m_validate_data(\n\u001b[1;32m   1007\u001b[0m     X,\n\u001b[1;32m   1008\u001b[0m     reset\u001b[39m=\u001b[39;49m\u001b[39mFalse\u001b[39;49;00m,\n\u001b[1;32m   1009\u001b[0m     accept_sparse\u001b[39m=\u001b[39;49m\u001b[39m\"\u001b[39;49m\u001b[39mcsr\u001b[39;49m\u001b[39m\"\u001b[39;49m,\n\u001b[1;32m   1010\u001b[0m     copy\u001b[39m=\u001b[39;49mcopy,\n\u001b[1;32m   1011\u001b[0m     dtype\u001b[39m=\u001b[39;49mFLOAT_DTYPES,\n\u001b[1;32m   1012\u001b[0m     force_all_finite\u001b[39m=\u001b[39;49m\u001b[39m\"\u001b[39;49m\u001b[39mallow-nan\u001b[39;49m\u001b[39m\"\u001b[39;49m,\n\u001b[1;32m   1013\u001b[0m )\n\u001b[1;32m   1015\u001b[0m \u001b[39mif\u001b[39;00m sparse\u001b[39m.\u001b[39missparse(X):\n\u001b[1;32m   1016\u001b[0m     \u001b[39mif\u001b[39;00m \u001b[39mself\u001b[39m\u001b[39m.\u001b[39mwith_mean:\n",
      "File \u001b[0;32m~/.local/share/virtualenvs/Soft-Info-Sk8aHGSa/lib/python3.11/site-packages/sklearn/base.py:605\u001b[0m, in \u001b[0;36mBaseEstimator._validate_data\u001b[0;34m(self, X, y, reset, validate_separately, cast_to_ndarray, **check_params)\u001b[0m\n\u001b[1;32m    603\u001b[0m         out \u001b[39m=\u001b[39m X, y\n\u001b[1;32m    604\u001b[0m \u001b[39melif\u001b[39;00m \u001b[39mnot\u001b[39;00m no_val_X \u001b[39mand\u001b[39;00m no_val_y:\n\u001b[0;32m--> 605\u001b[0m     out \u001b[39m=\u001b[39m check_array(X, input_name\u001b[39m=\u001b[39;49m\u001b[39m\"\u001b[39;49m\u001b[39mX\u001b[39;49m\u001b[39m\"\u001b[39;49m, \u001b[39m*\u001b[39;49m\u001b[39m*\u001b[39;49mcheck_params)\n\u001b[1;32m    606\u001b[0m \u001b[39melif\u001b[39;00m no_val_X \u001b[39mand\u001b[39;00m \u001b[39mnot\u001b[39;00m no_val_y:\n\u001b[1;32m    607\u001b[0m     out \u001b[39m=\u001b[39m _check_y(y, \u001b[39m*\u001b[39m\u001b[39m*\u001b[39mcheck_params)\n",
      "File \u001b[0;32m~/.local/share/virtualenvs/Soft-Info-Sk8aHGSa/lib/python3.11/site-packages/sklearn/utils/validation.py:900\u001b[0m, in \u001b[0;36mcheck_array\u001b[0;34m(array, accept_sparse, accept_large_sparse, dtype, order, copy, force_all_finite, ensure_2d, allow_nd, ensure_min_samples, ensure_min_features, estimator, input_name)\u001b[0m\n\u001b[1;32m    898\u001b[0m \u001b[39mtry\u001b[39;00m:\n\u001b[1;32m    899\u001b[0m     warnings\u001b[39m.\u001b[39msimplefilter(\u001b[39m\"\u001b[39m\u001b[39merror\u001b[39m\u001b[39m\"\u001b[39m, ComplexWarning)\n\u001b[0;32m--> 900\u001b[0m     \u001b[39mif\u001b[39;00m dtype \u001b[39mis\u001b[39;00m \u001b[39mnot\u001b[39;00m \u001b[39mNone\u001b[39;00m \u001b[39mand\u001b[39;00m xp\u001b[39m.\u001b[39;49misdtype(dtype, \u001b[39m\"\u001b[39;49m\u001b[39mintegral\u001b[39;49m\u001b[39m\"\u001b[39;49m):\n\u001b[1;32m    901\u001b[0m         \u001b[39m# Conversion float -> int should not contain NaN or\u001b[39;00m\n\u001b[1;32m    902\u001b[0m         \u001b[39m# inf (numpy#14412). We cannot use casting='safe' because\u001b[39;00m\n\u001b[1;32m    903\u001b[0m         \u001b[39m# then conversion float -> int would be disallowed.\u001b[39;00m\n\u001b[1;32m    904\u001b[0m         array \u001b[39m=\u001b[39m _asarray_with_order(array, order\u001b[39m=\u001b[39morder, xp\u001b[39m=\u001b[39mxp)\n\u001b[1;32m    905\u001b[0m         \u001b[39mif\u001b[39;00m xp\u001b[39m.\u001b[39misdtype(array\u001b[39m.\u001b[39mdtype, (\u001b[39m\"\u001b[39m\u001b[39mreal floating\u001b[39m\u001b[39m\"\u001b[39m, \u001b[39m\"\u001b[39m\u001b[39mcomplex floating\u001b[39m\u001b[39m\"\u001b[39m)):\n",
      "File \u001b[0;32m~/.local/share/virtualenvs/Soft-Info-Sk8aHGSa/lib/python3.11/site-packages/sklearn/utils/_array_api.py:283\u001b[0m, in \u001b[0;36m_NumPyAPIWrapper.isdtype\u001b[0;34m(self, dtype, kind)\u001b[0m\n\u001b[1;32m    282\u001b[0m \u001b[39mdef\u001b[39;00m \u001b[39misdtype\u001b[39m(\u001b[39mself\u001b[39m, dtype, kind):\n\u001b[0;32m--> 283\u001b[0m     \u001b[39mreturn\u001b[39;00m isdtype(dtype, kind, xp\u001b[39m=\u001b[39;49m\u001b[39mself\u001b[39;49m)\n",
      "File \u001b[0;32m~/.local/share/virtualenvs/Soft-Info-Sk8aHGSa/lib/python3.11/site-packages/sklearn/utils/_array_api.py:84\u001b[0m, in \u001b[0;36misdtype\u001b[0;34m(dtype, kind, xp)\u001b[0m\n\u001b[1;32m     82\u001b[0m     \u001b[39mreturn\u001b[39;00m \u001b[39many\u001b[39m(_isdtype_single(dtype, k, xp\u001b[39m=\u001b[39mxp) \u001b[39mfor\u001b[39;00m k \u001b[39min\u001b[39;00m kind)\n\u001b[1;32m     83\u001b[0m \u001b[39melse\u001b[39;00m:\n\u001b[0;32m---> 84\u001b[0m     \u001b[39mreturn\u001b[39;00m _isdtype_single(dtype, kind, xp\u001b[39m=\u001b[39;49mxp)\n",
      "File \u001b[0;32m~/.local/share/virtualenvs/Soft-Info-Sk8aHGSa/lib/python3.11/site-packages/sklearn/utils/_array_api.py:96\u001b[0m, in \u001b[0;36m_isdtype_single\u001b[0;34m(dtype, kind, xp)\u001b[0m\n\u001b[1;32m     94\u001b[0m     \u001b[39mreturn\u001b[39;00m dtype \u001b[39min\u001b[39;00m {xp\u001b[39m.\u001b[39muint8, xp\u001b[39m.\u001b[39muint16, xp\u001b[39m.\u001b[39muint32, xp\u001b[39m.\u001b[39muint64}\n\u001b[1;32m     95\u001b[0m \u001b[39melif\u001b[39;00m kind \u001b[39m==\u001b[39m \u001b[39m\"\u001b[39m\u001b[39mintegral\u001b[39m\u001b[39m\"\u001b[39m:\n\u001b[0;32m---> 96\u001b[0m     \u001b[39mreturn\u001b[39;00m \u001b[39many\u001b[39m(\n\u001b[1;32m     97\u001b[0m         _isdtype_single(dtype, k, xp\u001b[39m=\u001b[39mxp)\n\u001b[1;32m     98\u001b[0m         \u001b[39mfor\u001b[39;00m k \u001b[39min\u001b[39;00m (\u001b[39m\"\u001b[39m\u001b[39msigned integer\u001b[39m\u001b[39m\"\u001b[39m, \u001b[39m\"\u001b[39m\u001b[39munsigned integer\u001b[39m\u001b[39m\"\u001b[39m)\n\u001b[1;32m     99\u001b[0m     )\n\u001b[1;32m    100\u001b[0m \u001b[39melif\u001b[39;00m kind \u001b[39m==\u001b[39m \u001b[39m\"\u001b[39m\u001b[39mreal floating\u001b[39m\u001b[39m\"\u001b[39m:\n\u001b[1;32m    101\u001b[0m     \u001b[39mreturn\u001b[39;00m dtype \u001b[39min\u001b[39;00m {xp\u001b[39m.\u001b[39mfloat32, xp\u001b[39m.\u001b[39mfloat64}\n",
      "File \u001b[0;32m~/.local/share/virtualenvs/Soft-Info-Sk8aHGSa/lib/python3.11/site-packages/sklearn/utils/_array_api.py:97\u001b[0m, in \u001b[0;36m<genexpr>\u001b[0;34m(.0)\u001b[0m\n\u001b[1;32m     94\u001b[0m     \u001b[39mreturn\u001b[39;00m dtype \u001b[39min\u001b[39;00m {xp\u001b[39m.\u001b[39muint8, xp\u001b[39m.\u001b[39muint16, xp\u001b[39m.\u001b[39muint32, xp\u001b[39m.\u001b[39muint64}\n\u001b[1;32m     95\u001b[0m \u001b[39melif\u001b[39;00m kind \u001b[39m==\u001b[39m \u001b[39m\"\u001b[39m\u001b[39mintegral\u001b[39m\u001b[39m\"\u001b[39m:\n\u001b[1;32m     96\u001b[0m     \u001b[39mreturn\u001b[39;00m \u001b[39many\u001b[39m(\n\u001b[0;32m---> 97\u001b[0m         _isdtype_single(dtype, k, xp\u001b[39m=\u001b[39;49mxp)\n\u001b[1;32m     98\u001b[0m         \u001b[39mfor\u001b[39;00m k \u001b[39min\u001b[39;00m (\u001b[39m\"\u001b[39m\u001b[39msigned integer\u001b[39m\u001b[39m\"\u001b[39m, \u001b[39m\"\u001b[39m\u001b[39munsigned integer\u001b[39m\u001b[39m\"\u001b[39m)\n\u001b[1;32m     99\u001b[0m     )\n\u001b[1;32m    100\u001b[0m \u001b[39melif\u001b[39;00m kind \u001b[39m==\u001b[39m \u001b[39m\"\u001b[39m\u001b[39mreal floating\u001b[39m\u001b[39m\"\u001b[39m:\n\u001b[1;32m    101\u001b[0m     \u001b[39mreturn\u001b[39;00m dtype \u001b[39min\u001b[39;00m {xp\u001b[39m.\u001b[39mfloat32, xp\u001b[39m.\u001b[39mfloat64}\n",
      "File \u001b[0;32m~/.local/share/virtualenvs/Soft-Info-Sk8aHGSa/lib/python3.11/site-packages/sklearn/utils/_array_api.py:94\u001b[0m, in \u001b[0;36m_isdtype_single\u001b[0;34m(dtype, kind, xp)\u001b[0m\n\u001b[1;32m     92\u001b[0m     \u001b[39mreturn\u001b[39;00m dtype \u001b[39min\u001b[39;00m {xp\u001b[39m.\u001b[39mint8, xp\u001b[39m.\u001b[39mint16, xp\u001b[39m.\u001b[39mint32, xp\u001b[39m.\u001b[39mint64}\n\u001b[1;32m     93\u001b[0m \u001b[39melif\u001b[39;00m kind \u001b[39m==\u001b[39m \u001b[39m\"\u001b[39m\u001b[39munsigned integer\u001b[39m\u001b[39m\"\u001b[39m:\n\u001b[0;32m---> 94\u001b[0m     \u001b[39mreturn\u001b[39;00m dtype \u001b[39min\u001b[39;00m {xp\u001b[39m.\u001b[39muint8, xp\u001b[39m.\u001b[39;49muint16, xp\u001b[39m.\u001b[39muint32, xp\u001b[39m.\u001b[39muint64}\n\u001b[1;32m     95\u001b[0m \u001b[39melif\u001b[39;00m kind \u001b[39m==\u001b[39m \u001b[39m\"\u001b[39m\u001b[39mintegral\u001b[39m\u001b[39m\"\u001b[39m:\n\u001b[1;32m     96\u001b[0m     \u001b[39mreturn\u001b[39;00m \u001b[39many\u001b[39m(\n\u001b[1;32m     97\u001b[0m         _isdtype_single(dtype, k, xp\u001b[39m=\u001b[39mxp)\n\u001b[1;32m     98\u001b[0m         \u001b[39mfor\u001b[39;00m k \u001b[39min\u001b[39;00m (\u001b[39m\"\u001b[39m\u001b[39msigned integer\u001b[39m\u001b[39m\"\u001b[39m, \u001b[39m\"\u001b[39m\u001b[39munsigned integer\u001b[39m\u001b[39m\"\u001b[39m)\n\u001b[1;32m     99\u001b[0m     )\n",
      "File \u001b[0;32m~/.local/share/virtualenvs/Soft-Info-Sk8aHGSa/lib/python3.11/site-packages/sklearn/utils/_array_api.py:227\u001b[0m, in \u001b[0;36m_NumPyAPIWrapper.__getattr__\u001b[0;34m(self, name)\u001b[0m\n\u001b[1;32m    210\u001b[0m \u001b[39m# Data types in spec\u001b[39;00m\n\u001b[1;32m    211\u001b[0m \u001b[39m# https://data-apis.org/array-api/latest/API_specification/data_types.html\u001b[39;00m\n\u001b[1;32m    212\u001b[0m _DTYPES \u001b[39m=\u001b[39m {\n\u001b[1;32m    213\u001b[0m     \u001b[39m\"\u001b[39m\u001b[39mint8\u001b[39m\u001b[39m\"\u001b[39m,\n\u001b[1;32m    214\u001b[0m     \u001b[39m\"\u001b[39m\u001b[39mint16\u001b[39m\u001b[39m\"\u001b[39m,\n\u001b[0;32m   (...)\u001b[0m\n\u001b[1;32m    224\u001b[0m     \u001b[39m\"\u001b[39m\u001b[39mcomplex128\u001b[39m\u001b[39m\"\u001b[39m,\n\u001b[1;32m    225\u001b[0m }\n\u001b[0;32m--> 227\u001b[0m \u001b[39mdef\u001b[39;00m \u001b[39m__getattr__\u001b[39m(\u001b[39mself\u001b[39m, name):\n\u001b[1;32m    228\u001b[0m     attr \u001b[39m=\u001b[39m \u001b[39mgetattr\u001b[39m(numpy, name)\n\u001b[1;32m    230\u001b[0m     \u001b[39m# Support device kwargs and make sure they are on the CPU\u001b[39;00m\n",
      "\u001b[0;31mKeyboardInterrupt\u001b[0m: "
     ]
    }
   ],
   "source": [
    "from soft_info import soft_reweight, get_counts, rx_draw_2D\n",
    "from tqdm import tqdm\n",
    "\n",
    "VERBOSE = False\n",
    "\n",
    "memory = memories['mmr_log_0']\n",
    "\n",
    "logical_counts = {'0':0, '1':0}\n",
    "for shot in tqdm(range(len(memory))[:]):\n",
    "    \n",
    "    with open(f\"dist_{max_distance}_decoder.pkl\", 'rb') as f: # Reload the decoder each time to reset the graph\n",
    "        decoder = pickle.load(f)\n",
    "\n",
    "    IQ_data = memory[shot]\n",
    "\n",
    "    counts = get_counts([IQ_data], kde_dict, scaler_dict, layout, max_distance, verbose=False)\n",
    "    count_key = next(iter(counts.keys()))\n",
    "    \n",
    "    \n",
    "\n",
    "    reweighted_graph = soft_reweight(decoder, IQ_data, kde_dict, scaler_dict, layout)\n",
    "    decoder.decoding_graph.graph = reweighted_graph\n",
    "\n",
    "    \n",
    "\n",
    "    logical, flipped_qubit_dict = decoder.process(count_key, _return_err_str = True)\n",
    "    \n",
    "    logical_counts[f\"{logical[0]}\"] += 1\n",
    "\n",
    "    if logical[0] == 0:\n",
    "        continue\n",
    "    \n",
    "    print(logical_counts)\n",
    "\n",
    "    if VERBOSE:\n",
    "        print(\"Decoding graph after reweighting:\")\n",
    "        rx_draw_2D(decoder.decoding_graph.graph, atypical_nodes=code.string2nodes(count_key))\n",
    "    \n",
    "    if VERBOSE:\n",
    "        print(\"\\nmeas_str:\", count_key)\n",
    "        print(\"flipped_qubit_dict\", flipped_qubit_dict)\n",
    "        print(\"logical:\", logical, \"\\n\")\n",
    "        if logical[0] == 1:\n",
    "            print(\"------------ Wrong logical! ------------\\n\")\n",
    "\n",
    "    \n",
    "\n",
    "print( \"\\nLogical_counts:\", logical_counts)\n"
   ]
  },
  {
   "cell_type": "code",
   "execution_count": null,
   "metadata": {},
   "outputs": [
    {
     "name": "stderr",
     "output_type": "stream",
     "text": [
      "100%|██████████| 20/20 [00:15<00:00,  1.29it/s]"
     ]
    },
    {
     "name": "stdout",
     "output_type": "stream",
     "text": [
      "\n",
      "Logical_counts: {'0': 20, '1': 0}\n"
     ]
    },
    {
     "name": "stderr",
     "output_type": "stream",
     "text": [
      "\n"
     ]
    }
   ],
   "source": [
    "from soft_info import soft_reweight, get_counts, rx_draw_2D\n",
    "from tqdm import tqdm\n",
    "\n",
    "VERBOSE = False\n",
    "\n",
    "memory = memories['mmr_log_0']\n",
    "\n",
    "logical_counts = {'0':0, '1':0}\n",
    "for shot in tqdm(range(len(memory))[:]):\n",
    "    \n",
    "    with open(f\"dist_{max_distance}_decoder.pkl\", 'rb') as f: # Reload the decoder each time to reset the graph\n",
    "        decoder = pickle.load(f)\n",
    "\n",
    "    IQ_data = memory[shot]\n",
    "\n",
    "    counts = get_counts([IQ_data], kde_dict, scaler_dict, layout, max_distance, verbose=False)\n",
    "    count_key = next(iter(counts.keys()))\n",
    "    \n",
    "    if VERBOSE:\n",
    "        print(\"Decoding graph before reweighting:\")\n",
    "        rx_draw_2D(decoder.graph)\n",
    "\n",
    "    #reweighted_graph = soft_reweight(decoder, IQ_data, kde_dict, scaler_dict, layout)\n",
    "    #decoder.graph = reweighted_graph\n",
    "\n",
    "    if VERBOSE:\n",
    "        print(\"Decoding graph after reweighting:\")\n",
    "        rx_draw_2D(decoder.graph)\n",
    "\n",
    "    logical, flipped_qubit_dict = decoder.process(count_key, _return_err_str = True)\n",
    "    \n",
    "    if VERBOSE:\n",
    "        print(\"\\nmeas_str:\", count_key)\n",
    "        print(\"flipped_qubit_dict\", flipped_qubit_dict)\n",
    "        print(\"logical:\", logical, \"\\n\")\n",
    "        if logical[0] == 1:\n",
    "            print(\"------------ Wrong logical! ------------\\n\")\n",
    "\n",
    "    logical_counts[f\"{logical[0]}\"] += 1\n",
    "\n",
    "print( \"\\nLogical_counts:\", logical_counts)\n"
   ]
  },
  {
   "cell_type": "code",
   "execution_count": null,
   "metadata": {},
   "outputs": [],
   "source": []
  }
 ],
 "metadata": {
  "kernelspec": {
   "display_name": "Soft-Info-Sk8aHGSa",
   "language": "python",
   "name": "python3"
  },
  "language_info": {
   "codemirror_mode": {
    "name": "ipython",
    "version": 3
   },
   "file_extension": ".py",
   "mimetype": "text/x-python",
   "name": "python",
   "nbconvert_exporter": "python",
   "pygments_lexer": "ipython3",
   "version": "3.11.4"
  }
 },
 "nbformat": 4,
 "nbformat_minor": 2
}
