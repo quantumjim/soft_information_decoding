{
 "cells": [
  {
   "cell_type": "markdown",
   "metadata": {},
   "source": [
    "# Load Data"
   ]
  },
  {
   "cell_type": "code",
   "execution_count": 1,
   "metadata": {},
   "outputs": [],
   "source": [
    "%reload_ext autoreload\n",
    "%autoreload 2"
   ]
  },
  {
   "cell_type": "code",
   "execution_count": 2,
   "metadata": {},
   "outputs": [],
   "source": [
    "from result_saver import SaverProvider\n",
    "provider = SaverProvider()"
   ]
  },
  {
   "cell_type": "code",
   "execution_count": 3,
   "metadata": {},
   "outputs": [
    {
     "data": {
      "text/html": [
       "<div>\n",
       "<style scoped>\n",
       "    .dataframe tbody tr th:only-of-type {\n",
       "        vertical-align: middle;\n",
       "    }\n",
       "\n",
       "    .dataframe tbody tr th {\n",
       "        vertical-align: top;\n",
       "    }\n",
       "\n",
       "    .dataframe thead th {\n",
       "        text-align: right;\n",
       "    }\n",
       "</style>\n",
       "<table border=\"1\" class=\"dataframe\">\n",
       "  <thead>\n",
       "    <tr style=\"text-align: right;\">\n",
       "      <th></th>\n",
       "      <th>creation_date</th>\n",
       "      <th>notebook_name</th>\n",
       "      <th>backend_name</th>\n",
       "      <th>job_id</th>\n",
       "      <th>tags</th>\n",
       "      <th>shots</th>\n",
       "      <th>tags_xp</th>\n",
       "      <th>sampled_state</th>\n",
       "      <th>num_qubits</th>\n",
       "      <th>job_status</th>\n",
       "      <th>extra</th>\n",
       "      <th>optimization_level</th>\n",
       "      <th>code</th>\n",
       "      <th>distance</th>\n",
       "      <th>rounds</th>\n",
       "      <th>logical</th>\n",
       "      <th>layout</th>\n",
       "      <th>descr</th>\n",
       "    </tr>\n",
       "  </thead>\n",
       "  <tbody>\n",
       "    <tr>\n",
       "      <th>243</th>\n",
       "      <td>2023-10-30 09:43:24.564124+01:00</td>\n",
       "      <td>bigger_rep_codes</td>\n",
       "      <td>ibm_sherbrooke</td>\n",
       "      <td>cmzpsb5daqbg008sjvb0</td>\n",
       "      <td>[]</td>\n",
       "      <td>10000.0</td>\n",
       "      <td>NaN</td>\n",
       "      <td>NaN</td>\n",
       "      <td>NaN</td>\n",
       "      <td>JobStatus.DONE</td>\n",
       "      <td>NaN</td>\n",
       "      <td>NaN</td>\n",
       "      <td>RepetitionCodeCircuit</td>\n",
       "      <td>10.0</td>\n",
       "      <td>10</td>\n",
       "      <td>1</td>\n",
       "      <td>_is_hex=True</td>\n",
       "      <td>Run bigger Repetition codes v4: new distances ...</td>\n",
       "    </tr>\n",
       "    <tr>\n",
       "      <th>242</th>\n",
       "      <td>2023-10-30 09:43:20.984078+01:00</td>\n",
       "      <td>bigger_rep_codes</td>\n",
       "      <td>ibm_sherbrooke</td>\n",
       "      <td>cmzpsa5vayrg008cpk30</td>\n",
       "      <td>[]</td>\n",
       "      <td>10000.0</td>\n",
       "      <td>NaN</td>\n",
       "      <td>NaN</td>\n",
       "      <td>NaN</td>\n",
       "      <td>JobStatus.DONE</td>\n",
       "      <td>NaN</td>\n",
       "      <td>NaN</td>\n",
       "      <td>RepetitionCodeCircuit</td>\n",
       "      <td>10.0</td>\n",
       "      <td>10</td>\n",
       "      <td>0</td>\n",
       "      <td>_is_hex=True</td>\n",
       "      <td>Run bigger Repetition codes v4: new distances ...</td>\n",
       "    </tr>\n",
       "  </tbody>\n",
       "</table>\n",
       "</div>"
      ],
      "text/plain": [
       "                        creation_date     notebook_name    backend_name  \\\n",
       "243  2023-10-30 09:43:24.564124+01:00  bigger_rep_codes  ibm_sherbrooke   \n",
       "242  2023-10-30 09:43:20.984078+01:00  bigger_rep_codes  ibm_sherbrooke   \n",
       "\n",
       "                   job_id tags    shots tags_xp sampled_state  num_qubits  \\\n",
       "243  cmzpsb5daqbg008sjvb0   []  10000.0     NaN           NaN         NaN   \n",
       "242  cmzpsa5vayrg008cpk30   []  10000.0     NaN           NaN         NaN   \n",
       "\n",
       "         job_status extra  optimization_level                   code  \\\n",
       "243  JobStatus.DONE   NaN                 NaN  RepetitionCodeCircuit   \n",
       "242  JobStatus.DONE   NaN                 NaN  RepetitionCodeCircuit   \n",
       "\n",
       "     distance rounds logical        layout  \\\n",
       "243      10.0     10       1  _is_hex=True   \n",
       "242      10.0     10       0  _is_hex=True   \n",
       "\n",
       "                                                 descr  \n",
       "243  Run bigger Repetition codes v4: new distances ...  \n",
       "242  Run bigger Repetition codes v4: new distances ...  "
      ]
     },
     "execution_count": 3,
     "metadata": {},
     "output_type": "execute_result"
    }
   ],
   "source": [
    "import numpy as np\n",
    "from Scratch import metadata_loader\n",
    "\n",
    "DEVICE = 'ibm_sherbrooke'\n",
    "\n",
    "md = metadata_loader(_extract=True, _drop_inutile=True)\n",
    "md = md[md[\"job_status\"] == \"JobStatus.DONE\"]\n",
    "md = md[md[\"notebook_name\"] == \"bigger_rep_codes\"]\n",
    "max_distance = int(max(md.distance))\n",
    "max_distance = 10\n",
    "md = md[md[\"distance\"] == max_distance]\n",
    "md = md[md[\"backend_name\"]==DEVICE]\n",
    "\n",
    "md = md[:2]\n",
    "\n",
    "md"
   ]
  },
  {
   "cell_type": "code",
   "execution_count": 7,
   "metadata": {},
   "outputs": [],
   "source": [
    "memories = {}\n",
    "for job_id, logical in zip(md.job_id, md.logical):\n",
    "    mmr_name = f\"mmr_log_{logical}\"\n",
    "    memories[mmr_name] = provider.retrieve_job(job_id).result().get_memory()\n",
    "\n",
    "memory = memories[\"mmr_log_1\"][:]"
   ]
  },
  {
   "cell_type": "markdown",
   "metadata": {},
   "source": [
    "# UF Decoder"
   ]
  },
  {
   "cell_type": "code",
   "execution_count": 8,
   "metadata": {},
   "outputs": [],
   "source": [
    "import pickle\n",
    "from qiskit_qec.circuits import RepetitionCodeCircuit\n",
    "from soft_info import get_repcode_layout, get_KDEs, get_counts\n",
    "\n",
    "layout = get_repcode_layout(distance=max_distance, backend=provider.get_backend(\"ibm_nazca\"), _is_hex=True)\n",
    "kde_dict, scaler_dict = get_KDEs(provider, DEVICE, layout, bandwidths=0.2, plot=False)\n",
    "code = RepetitionCodeCircuit(max_distance, max_distance)\n"
   ]
  },
  {
   "cell_type": "code",
   "execution_count": 12,
   "metadata": {},
   "outputs": [],
   "source": [
    "from qiskit_qec.decoders.hdrg_decoders import UnionFindDecoder\n",
    "\n",
    "dcd_pkl_str = f\"dist_{max_distance}_decoder.pkl\"\n",
    "\n",
    "try:\n",
    "    with open(f\"dist_{max_distance}_decoder.pkl\", 'rb') as f:\n",
    "        decoder = pickle.load(f)\n",
    "\n",
    "except FileNotFoundError:\n",
    "    print(\"decoder not found, creating a new one...\")\n",
    "    code = RepetitionCodeCircuit(max_distance, max_distance)\n",
    "    decoder = UnionFindDecoder(code)    \n",
    "\n",
    "    print(\"saving the decoder...\")\n",
    "    with open(dcd_pkl_str, 'wb') as f:\n",
    "        pickle.dump(decoder, f)"
   ]
  },
  {
   "cell_type": "code",
   "execution_count": 14,
   "metadata": {},
   "outputs": [
    {
     "name": "stderr",
     "output_type": "stream",
     "text": [
      "  7%|▋         | 672/10000 [00:56<13:10, 11.80it/s]"
     ]
    },
    {
     "name": "stdout",
     "output_type": "stream",
     "text": [
      "\n",
      "meas_str: 0000111111 000101001 000001000 000101001 100000111 010101010 000000110 000000000 000000110 000000000 000000100\n",
      "flipped_qubit_dict {'Cluster_0': [2], 'Cluster_1': [4, 5], 'Cluster_2': [8], 'Cluster_3': [1, 1], 'Cluster_4': [8], 'Cluster_5': [1], 'Cluster_6': [3], 'Cluster_7': [0]}\n",
      "logical: [0] \n",
      "\n",
      "nb of errs: 1\n"
     ]
    },
    {
     "name": "stderr",
     "output_type": "stream",
     "text": [
      "  7%|▋         | 712/10000 [01:00<13:35, 11.39it/s]"
     ]
    },
    {
     "name": "stdout",
     "output_type": "stream",
     "text": [
      "\n",
      "meas_str: 1110111110 010011111 011110000 000001011 001101000 000001011 011100000 000001001 011000000 000011000 000000000\n",
      "flipped_qubit_dict {'Cluster_0': [4], 'Cluster_1': [7], 'Cluster_2': [1], 'Cluster_3': [5, 8, 9], 'Cluster_4': [], 'Cluster_5': [2, 3]}\n",
      "logical: [0] \n",
      "\n",
      "nb of errs: 2\n"
     ]
    },
    {
     "name": "stderr",
     "output_type": "stream",
     "text": [
      "  8%|▊         | 840/10000 [01:10<13:20, 11.45it/s]"
     ]
    },
    {
     "name": "stdout",
     "output_type": "stream",
     "text": [
      "\n",
      "meas_str: 0110111111 101011000 000100000 001011000 000001000 000011000 000001000 000011000 000001000 000011000 000001000\n",
      "flipped_qubit_dict {'Cluster_0': [0, 1, 2, 3, 4], 'Cluster_1': [4, 5, 8, 7], 'Cluster_2': [4]}\n",
      "logical: [0] \n",
      "\n",
      "nb of errs: 3\n"
     ]
    },
    {
     "name": "stderr",
     "output_type": "stream",
     "text": [
      "  9%|▊         | 864/10000 [01:12<12:03, 12.62it/s]"
     ]
    },
    {
     "name": "stdout",
     "output_type": "stream",
     "text": [
      "\n",
      "meas_str: 1111101011 000000100 100011010 110000100 010011010 010101100 110000000 000001100 000000000 000001100 000000000\n",
      "flipped_qubit_dict {'Cluster_0': [3], 'Cluster_1': [5, 9, 6, 7, 8, 9, 6, 7, 7, 6, 8, 8, 9], 'Cluster_2': [2, 3, 0, 1, 2, 3], 'Cluster_3': [], 'Cluster_4': []}\n",
      "logical: [0] \n",
      "\n",
      "nb of errs: 4\n"
     ]
    },
    {
     "name": "stderr",
     "output_type": "stream",
     "text": [
      "  9%|▊         | 874/10000 [01:13<13:34, 11.20it/s]"
     ]
    },
    {
     "name": "stdout",
     "output_type": "stream",
     "text": [
      "\n",
      "meas_str: 1110111110 001101001 001001000 001000001 001101000 001100000 001000000 001100000 001011000 001110000 001010000\n",
      "flipped_qubit_dict {'Cluster_0': [7, 8, 5, 9, 4, 6, 7, 7, 8, 8, 5], 'Cluster_1': [4], 'Cluster_2': [4, 5, 5, 5], 'Cluster_3': [0, 5, 0, 6, 1, 4, 5, 2, 3, 4]}\n",
      "logical: [0] \n",
      "\n",
      "nb of errs: 5\n"
     ]
    },
    {
     "name": "stderr",
     "output_type": "stream",
     "text": [
      " 10%|▉         | 992/10000 [01:23<11:55, 12.59it/s]"
     ]
    },
    {
     "name": "stdout",
     "output_type": "stream",
     "text": [
      "\n",
      "meas_str: 0100111110 101010001 111110000 101100000 011111000 001000000 011000000 001000000 011000000 001000000 000000000\n",
      "flipped_qubit_dict {'Cluster_0': [7, 8, 9, 9, 7], 'Cluster_1': [], 'Cluster_2': [1, 2, 3, 4, 5]}\n",
      "logical: [0] \n",
      "\n",
      "nb of errs: 6\n"
     ]
    },
    {
     "name": "stderr",
     "output_type": "stream",
     "text": [
      " 11%|█▏        | 1132/10000 [01:35<12:22, 11.94it/s]"
     ]
    },
    {
     "name": "stdout",
     "output_type": "stream",
     "text": [
      "\n",
      "meas_str: 0100111101 011010011 001110000 000000001 000110000 000000000 000000000 000000000 000000000 000000000 000000000\n",
      "flipped_qubit_dict {'Cluster_0': [5], 'Cluster_1': [0, 0, 1, 2, 3, 4, 5, 6, 0, 2, 3, 4, 7, 1, 2, 3, 4, 5, 6, 7, 8]}\n",
      "logical: [0] \n",
      "\n",
      "nb of errs: 7\n"
     ]
    },
    {
     "name": "stderr",
     "output_type": "stream",
     "text": [
      " 13%|█▎        | 1256/10000 [01:45<11:25, 12.76it/s]"
     ]
    },
    {
     "name": "stdout",
     "output_type": "stream",
     "text": [
      "\n",
      "meas_str: 1110110111 001001100 000101000 001010110 000111000 001010000 000011000 000010000 000001000 000000000 000011000\n",
      "flipped_qubit_dict {'Cluster_0': [4, 7, 8, 9, 5, 5, 8, 9, 5, 5, 6, 5, 6, 7, 6, 8, 9, 6, 7], 'Cluster_1': [2, 2, 3, 0, 1, 2, 3]}\n",
      "logical: [0] \n",
      "\n",
      "nb of errs: 8\n"
     ]
    },
    {
     "name": "stderr",
     "output_type": "stream",
     "text": [
      " 25%|██▍       | 2470/10000 [03:27<10:20, 12.14it/s]"
     ]
    },
    {
     "name": "stdout",
     "output_type": "stream",
     "text": [
      "\n",
      "meas_str: 1101100011 011000000 001010010 011001000 000001000 000001000 000000000 000011000 000000000 000011000 000000000\n",
      "flipped_qubit_dict {'Cluster_0': [4], 'Cluster_1': [5, 6, 5, 8, 9, 5, 4, 6, 7, 6, 7], 'Cluster_2': [2, 3, 0, 1, 2, 3]}\n",
      "logical: [0] \n",
      "\n",
      "nb of errs: 9\n"
     ]
    },
    {
     "name": "stderr",
     "output_type": "stream",
     "text": [
      " 29%|██▉       | 2914/10000 [04:04<09:23, 12.58it/s]"
     ]
    },
    {
     "name": "stdout",
     "output_type": "stream",
     "text": [
      "\n",
      "meas_str: 0110111001 100011110 001111010 100101111 001111010 011101111 001111010 011000111 001111010 011100000 001000000\n",
      "flipped_qubit_dict {'Cluster_0': [6, 7], 'Cluster_1': [4, 5, 0, 3, 1, 4, 4, 0, 5, 2, 6, 0, 8, 1, 2], 'Cluster_2': [], 'Cluster_3': [5]}\n",
      "logical: [0] \n",
      "\n",
      "nb of errs: 10\n"
     ]
    },
    {
     "name": "stderr",
     "output_type": "stream",
     "text": [
      " 31%|███       | 3118/10000 [04:22<09:10, 12.50it/s]"
     ]
    },
    {
     "name": "stdout",
     "output_type": "stream",
     "text": [
      "\n",
      "meas_str: 1101111011 000000100 111000010 110000100 111011010 100000100 000011010 000000100 000001000 000000100 000000000\n",
      "flipped_qubit_dict {'Cluster_0': [3], 'Cluster_1': [0, 1], 'Cluster_2': [], 'Cluster_3': [5, 6], 'Cluster_4': [4], 'Cluster_5': [8, 9]}\n",
      "logical: [0] \n",
      "\n",
      "nb of errs: 11\n"
     ]
    },
    {
     "name": "stderr",
     "output_type": "stream",
     "text": [
      " 31%|███▏      | 3138/10000 [04:23<09:50, 11.61it/s]"
     ]
    },
    {
     "name": "stdout",
     "output_type": "stream",
     "text": [
      "\n",
      "meas_str: 0111001011 011101110 111000000 011101110 011000000 000000000 000000000 000000000 000000000 000000000 000000000\n",
      "flipped_qubit_dict {'Cluster_0': [7], 'Cluster_1': [1, 0, 3], 'Cluster_2': [6], 'Cluster_3': [8]}\n",
      "logical: [0] \n",
      "\n",
      "nb of errs: 12\n"
     ]
    },
    {
     "name": "stderr",
     "output_type": "stream",
     "text": [
      " 34%|███▍      | 3442/10000 [04:49<09:40, 11.30it/s]"
     ]
    },
    {
     "name": "stdout",
     "output_type": "stream",
     "text": [
      "\n",
      "meas_str: 1100010111 011111110 001100010 001111110 001100010 000110100 001010010 000000100 001010110 000000001 000001100\n",
      "flipped_qubit_dict {'Cluster_0': [3, 4, 1, 4, 5, 6, 4, 5, 6, 7, 8, 9, 5, 5, 6, 6, 7, 8, 9, 8, 9], 'Cluster_1': [0], 'Cluster_2': [2, 3]}\n",
      "logical: [0] \n",
      "\n",
      "nb of errs: 13\n"
     ]
    },
    {
     "name": "stderr",
     "output_type": "stream",
     "text": [
      " 35%|███▍      | 3466/10000 [04:51<09:34, 11.38it/s]"
     ]
    },
    {
     "name": "stdout",
     "output_type": "stream",
     "text": [
      "\n",
      "meas_str: 1110011111 001100010 001110010 001100010 001110010 001100010 001110010 001100001 001110010 001100001 001100001\n",
      "flipped_qubit_dict {'Cluster_0': [], 'Cluster_1': [2, 3, 4, 0], 'Cluster_2': [1], 'Cluster_3': [7, 8, 9]}\n",
      "logical: [0] \n",
      "\n",
      "nb of errs: 14\n"
     ]
    },
    {
     "name": "stderr",
     "output_type": "stream",
     "text": [
      " 36%|███▌      | 3608/10000 [05:03<08:36, 12.38it/s]"
     ]
    },
    {
     "name": "stdout",
     "output_type": "stream",
     "text": [
      "\n",
      "meas_str: 1110110011 111010110 001110110 111101110 101001110 001100110 010001111 100100100 001001011 000100010 000000000\n",
      "flipped_qubit_dict {'Cluster_0': [6], 'Cluster_1': [1, 2, 3], 'Cluster_2': [9], 'Cluster_3': [7], 'Cluster_4': [], 'Cluster_5': [], 'Cluster_6': [0], 'Cluster_7': [], 'Cluster_8': [], 'Cluster_9': [4, 6, 5, 8, 2, 3]}\n",
      "logical: [0] \n",
      "\n",
      "nb of errs: 15\n"
     ]
    },
    {
     "name": "stderr",
     "output_type": "stream",
     "text": [
      " 37%|███▋      | 3696/10000 [05:10<08:19, 12.62it/s]"
     ]
    },
    {
     "name": "stdout",
     "output_type": "stream",
     "text": [
      "\n",
      "meas_str: 1011101011 000100000 110111110 000100100 110111110 000110100 110001110 000010000 000100000 000100000 000000000\n",
      "flipped_qubit_dict {'Cluster_0': [6, 5, 6, 7, 7, 2, 4, 5, 9, 3, 4, 5, 8, 8, 5, 7, 5, 6], 'Cluster_1': [2, 0, 1]}\n",
      "logical: [0] \n",
      "\n",
      "nb of errs: 16\n"
     ]
    },
    {
     "name": "stderr",
     "output_type": "stream",
     "text": [
      " 37%|███▋      | 3702/10000 [05:10<08:34, 12.25it/s]"
     ]
    },
    {
     "name": "stdout",
     "output_type": "stream",
     "text": [
      "\n",
      "meas_str: 1111110011 001001110 001000100 001001110 001000100 001001110 001100000 001000000 001100000 001000000 000000000\n",
      "flipped_qubit_dict {'Cluster_0': [6, 7, 8, 9, 7, 8, 8, 7], 'Cluster_1': [2, 4, 0, 1, 2, 5]}\n",
      "logical: [0] \n",
      "\n",
      "nb of errs: 17\n"
     ]
    },
    {
     "name": "stderr",
     "output_type": "stream",
     "text": [
      " 38%|███▊      | 3760/10000 [05:15<08:40, 11.99it/s]"
     ]
    },
    {
     "name": "stdout",
     "output_type": "stream",
     "text": [
      "\n",
      "meas_str: 1111111111 001010011 001000001 001010001 001011001 001001000 001011001 001011000 001010000 001000000 000110000\n",
      "flipped_qubit_dict {'Cluster_0': [6, 4, 5, 6, 7, 4, 8, 9, 6], 'Cluster_1': [3, 0, 4, 0, 4, 1, 0, 4, 2]}\n",
      "logical: [0] \n",
      "\n",
      "nb of errs: 18\n"
     ]
    },
    {
     "name": "stderr",
     "output_type": "stream",
     "text": [
      " 41%|████      | 4074/10000 [05:41<07:55, 12.47it/s]"
     ]
    },
    {
     "name": "stdout",
     "output_type": "stream",
     "text": [
      "\n",
      "meas_str: 0111110110 000000100 100001001 000100100 100001001 000000100 101101001 000100100 001100001 000000000 001000000\n",
      "flipped_qubit_dict {'Cluster_0': [7, 8, 9, 9], 'Cluster_1': [0, 5, 0, 6, 1, 2, 4]}\n",
      "logical: [0] \n",
      "\n",
      "nb of errs: 19\n"
     ]
    },
    {
     "name": "stderr",
     "output_type": "stream",
     "text": [
      " 41%|████▏     | 4132/10000 [05:46<07:51, 12.44it/s]"
     ]
    },
    {
     "name": "stdout",
     "output_type": "stream",
     "text": [
      "\n",
      "meas_str: 1111001111 000110011 000100011 000110000 000100000 000101000 000100000 000110000 001100000 000110000 000100000\n",
      "flipped_qubit_dict {'Cluster_0': [7, 4, 6, 7, 6, 8, 9, 8, 9, 8, 9, 5, 7, 6], 'Cluster_1': [4], 'Cluster_2': [1, 5, 1, 0, 1, 2, 3]}\n",
      "logical: [0] \n",
      "\n",
      "nb of errs: 20\n"
     ]
    },
    {
     "name": "stderr",
     "output_type": "stream",
     "text": [
      " 42%|████▏     | 4218/10000 [05:54<07:59, 12.05it/s]"
     ]
    },
    {
     "name": "stdout",
     "output_type": "stream",
     "text": [
      "\n",
      "meas_str: 1010111111 100111011 011010011 110101011 000001011 000101011 000010000 000101011 000011000 000010011 000001000\n",
      "flipped_qubit_dict {'Cluster_0': [3, 0, 0, 1, 3, 4, 4, 2, 3, 5, 0, 1], 'Cluster_1': [1], 'Cluster_2': [8, 9, 8, 4, 5, 6, 8, 9, 9, 4, 5, 6, 4, 7, 8]}\n",
      "logical: [0] \n",
      "\n",
      "nb of errs: 21\n"
     ]
    },
    {
     "name": "stderr",
     "output_type": "stream",
     "text": [
      " 43%|████▎     | 4336/10000 [06:03<07:52, 11.99it/s]"
     ]
    },
    {
     "name": "stdout",
     "output_type": "stream",
     "text": [
      "\n",
      "meas_str: 1101011101 010100010 001110011 010100010 001110011 011100010 000100011 001110000 000100011 001110010 000100001\n",
      "flipped_qubit_dict {'Cluster_0': [5, 6], 'Cluster_1': [4, 1, 5, 2, 3, 4, 0, 1, 0, 1, 0, 2, 1, 3, 4, 2, 3], 'Cluster_2': [8, 9]}\n",
      "logical: [0] \n",
      "\n",
      "nb of errs: 22\n"
     ]
    },
    {
     "name": "stderr",
     "output_type": "stream",
     "text": [
      " 45%|████▌     | 4524/10000 [06:19<07:29, 12.18it/s]"
     ]
    },
    {
     "name": "stdout",
     "output_type": "stream",
     "text": [
      "\n",
      "meas_str: 1101000011 001101111 010001101 111101111 000001110 101101101 111101111 011001101 110101111 000000001 010000000\n",
      "flipped_qubit_dict {'Cluster_0': [0, 1], 'Cluster_1': [3], 'Cluster_2': [8, 9, 9, 6, 3, 4, 8, 9, 4, 5, 7, 9, 5, 9, 7, 8, 9, 8, 8, 9], 'Cluster_3': [1], 'Cluster_4': [1]}\n",
      "logical: [0] \n",
      "\n",
      "nb of errs: 23\n"
     ]
    },
    {
     "name": "stderr",
     "output_type": "stream",
     "text": [
      " 46%|████▌     | 4554/10000 [06:22<07:39, 11.85it/s]"
     ]
    },
    {
     "name": "stdout",
     "output_type": "stream",
     "text": [
      "\n",
      "meas_str: 1011011111 010111011 100011011 000111011 000011011 000111011 000011011 000111011 000011011 000011000 000010011\n",
      "flipped_qubit_dict {'Cluster_0': [1], 'Cluster_1': [3, 0, 4, 2, 4, 4, 5], 'Cluster_2': [9, 5, 6, 7, 8, 8]}\n",
      "logical: [0] \n",
      "\n",
      "nb of errs: 24\n"
     ]
    },
    {
     "name": "stderr",
     "output_type": "stream",
     "text": [
      " 46%|████▌     | 4566/10000 [06:23<07:31, 12.04it/s]"
     ]
    },
    {
     "name": "stdout",
     "output_type": "stream",
     "text": [
      "\n",
      "meas_str: 0100001111 000110100 000111000 001000000 000110000 001001000 000111000 001001000 001111000 000001100 000000100\n",
      "flipped_qubit_dict {'Cluster_0': [0, 1, 1, 6, 1, 6, 2, 3, 3, 2, 4, 5, 5, 6, 2, 3], 'Cluster_1': [], 'Cluster_2': [4], 'Cluster_3': [], 'Cluster_4': [6], 'Cluster_5': [8]}\n",
      "logical: [0] \n",
      "\n",
      "nb of errs: 25\n"
     ]
    },
    {
     "name": "stderr",
     "output_type": "stream",
     "text": [
      " 47%|████▋     | 4662/10000 [06:31<06:58, 12.76it/s]"
     ]
    },
    {
     "name": "stdout",
     "output_type": "stream",
     "text": [
      "\n",
      "meas_str: 1100011111 001010010 011000010 001000010 011000010 011000010 001000000 011000000 001000000 000000000 000000000\n",
      "flipped_qubit_dict {'Cluster_0': [7, 8, 7, 9], 'Cluster_1': [], 'Cluster_2': [0, 1, 0, 1, 2, 0, 3, 1, 4]}\n",
      "logical: [0] \n",
      "\n",
      "nb of errs: 26\n"
     ]
    },
    {
     "name": "stderr",
     "output_type": "stream",
     "text": [
      " 56%|█████▋    | 5634/10000 [07:52<06:11, 11.77it/s]"
     ]
    },
    {
     "name": "stdout",
     "output_type": "stream",
     "text": [
      "\n",
      "meas_str: 1110101110 000000001 001111000 000000001 001001000 000000001 000001001 000000010 000000000 000000000 000000000\n",
      "flipped_qubit_dict {'Cluster_0': [1], 'Cluster_1': [], 'Cluster_2': [8, 2, 9, 3, 7, 5]}\n",
      "logical: [0] \n",
      "\n",
      "nb of errs: 27\n"
     ]
    },
    {
     "name": "stderr",
     "output_type": "stream",
     "text": [
      " 57%|█████▋    | 5736/10000 [08:00<05:53, 12.07it/s]"
     ]
    },
    {
     "name": "stdout",
     "output_type": "stream",
     "text": [
      "\n",
      "meas_str: 1100011001 001011010 011001111 001011010 011001100 000000000 000001100 000000000 000001100 000001000 000000100\n",
      "flipped_qubit_dict {'Cluster_0': [3], 'Cluster_1': [], 'Cluster_2': [7, 8, 9, 7, 8, 8], 'Cluster_3': [0, 1, 1], 'Cluster_4': [4]}\n",
      "logical: [0] \n",
      "\n",
      "nb of errs: 28\n"
     ]
    },
    {
     "name": "stderr",
     "output_type": "stream",
     "text": [
      " 57%|█████▊    | 5750/10000 [08:01<05:35, 12.68it/s]"
     ]
    },
    {
     "name": "stdout",
     "output_type": "stream",
     "text": [
      "\n",
      "meas_str: 1110010011 000100000 001111010 000100010 001100010 000100010 001101010 000100010 001000010 000000000 000000000\n",
      "flipped_qubit_dict {'Cluster_0': [], 'Cluster_1': [7, 4, 4, 5, 7, 7, 8, 9, 5, 6, 6], 'Cluster_2': [4], 'Cluster_3': [0, 1]}\n",
      "logical: [0] \n",
      "\n",
      "nb of errs: 29\n"
     ]
    },
    {
     "name": "stderr",
     "output_type": "stream",
     "text": [
      " 60%|██████    | 6020/10000 [08:23<05:13, 12.69it/s]"
     ]
    },
    {
     "name": "stdout",
     "output_type": "stream",
     "text": [
      "\n",
      "meas_str: 0110111111 000100010 101000010 000100010 101000010 000100011 101000011 000101010 101010011 000101011 101010010\n",
      "flipped_qubit_dict {'Cluster_0': [5], 'Cluster_1': [8, 7], 'Cluster_2': [1], 'Cluster_3': [2, 3], 'Cluster_4': [], 'Cluster_5': [0, 0, 0], 'Cluster_6': [4]}\n",
      "logical: [0] \n",
      "\n",
      "nb of errs: 30\n"
     ]
    },
    {
     "name": "stderr",
     "output_type": "stream",
     "text": [
      " 69%|██████▊   | 6868/10000 [09:34<04:39, 11.20it/s]"
     ]
    },
    {
     "name": "stdout",
     "output_type": "stream",
     "text": [
      "\n",
      "meas_str: 0110011111 100110000 001110000 100111000 001111000 100111000 001111000 100111000 001111000 000111000 001000000\n",
      "flipped_qubit_dict {'Cluster_0': [6, 8, 9, 9, 7, 4, 4, 5, 5, 6], 'Cluster_1': [1, 2, 3, 0, 1, 2, 3, 1, 2, 3, 4]}\n",
      "logical: [0] \n",
      "\n",
      "nb of errs: 31\n"
     ]
    },
    {
     "name": "stderr",
     "output_type": "stream",
     "text": [
      " 71%|███████   | 7070/10000 [09:51<03:47, 12.90it/s]"
     ]
    },
    {
     "name": "stdout",
     "output_type": "stream",
     "text": [
      "\n",
      "meas_str: 1111111101 001111010 001111000 001011011 001010000 001011000 001110000 001111000 001010000 001110000 001010000\n",
      "flipped_qubit_dict {'Cluster_0': [7, 5, 5, 4, 5, 6, 6, 8, 9, 6], 'Cluster_1': [2, 1, 3, 4, 5, 0, 1, 4, 5], 'Cluster_2': []}\n",
      "logical: [0] \n",
      "\n",
      "nb of errs: 32\n"
     ]
    },
    {
     "name": "stderr",
     "output_type": "stream",
     "text": [
      " 75%|███████▌  | 7540/10000 [10:30<03:22, 12.18it/s]"
     ]
    },
    {
     "name": "stdout",
     "output_type": "stream",
     "text": [
      "\n",
      "meas_str: 1010111111 000000010 111100010 011111000 111010000 001001010 001010000 001000000 000011000 000000000 000000000\n",
      "flipped_qubit_dict {'Cluster_0': [4], 'Cluster_1': [], 'Cluster_2': [], 'Cluster_3': [9], 'Cluster_4': [5], 'Cluster_5': [0, 1, 2, 3, 1, 2, 3, 5, 2, 3, 5, 1, 7]}\n",
      "logical: [0] \n",
      "\n",
      "nb of errs: 33\n"
     ]
    },
    {
     "name": "stderr",
     "output_type": "stream",
     "text": [
      " 76%|███████▌  | 7586/10000 [10:34<03:35, 11.20it/s]"
     ]
    },
    {
     "name": "stdout",
     "output_type": "stream",
     "text": [
      "\n",
      "meas_str: 1101010011 000101101 000010011 010100011 001000000 011101011 011000010 010110000 011000000 010110000 011000000\n",
      "flipped_qubit_dict {'Cluster_0': [7, 8, 9, 5, 6, 6], 'Cluster_1': [1], 'Cluster_2': [4, 2, 2, 7, 5, 6, 7, 3, 0, 3, 7]}\n",
      "logical: [0] \n",
      "\n",
      "nb of errs: 34\n"
     ]
    },
    {
     "name": "stderr",
     "output_type": "stream",
     "text": [
      " 76%|███████▌  | 7606/10000 [10:36<03:21, 11.87it/s]"
     ]
    },
    {
     "name": "stdout",
     "output_type": "stream",
     "text": [
      "\n",
      "meas_str: 1110001111 001011000 001010000 001011000 001010000 001011000 001010000 001011000 000100000 000000000 000000000\n",
      "flipped_qubit_dict {'Cluster_0': [2, 6, 3, 4, 5, 0, 1, 2, 0, 3, 1, 4, 2, 3, 0, 6, 1, 5], 'Cluster_1': [7, 8, 9]}\n",
      "logical: [0] \n",
      "\n",
      "nb of errs: 35\n"
     ]
    },
    {
     "name": "stderr",
     "output_type": "stream",
     "text": [
      " 77%|███████▋  | 7680/10000 [10:42<03:15, 11.84it/s]"
     ]
    },
    {
     "name": "stdout",
     "output_type": "stream",
     "text": [
      "\n",
      "meas_str: 1110010001 011010000 011001001 011100000 011101001 011000000 011001001 011100000 011001001 011100000 011000001\n",
      "flipped_qubit_dict {'Cluster_0': [0], 'Cluster_1': [7], 'Cluster_2': [8, 9, 6, 7, 7, 5, 5, 6, 7, 6, 6, 4, 7]}\n",
      "logical: [0] \n",
      "\n",
      "nb of errs: 36\n"
     ]
    },
    {
     "name": "stderr",
     "output_type": "stream",
     "text": [
      " 77%|███████▋  | 7698/10000 [10:43<03:14, 11.81it/s]"
     ]
    },
    {
     "name": "stdout",
     "output_type": "stream",
     "text": [
      "\n",
      "meas_str: 1110010011 001110000 001101010 001010000 001001010 001110000 001101010 001011000 001010000 001111000 001000000\n",
      "flipped_qubit_dict {'Cluster_0': [7, 8, 5, 9, 7, 6, 7, 8, 8, 4, 5], 'Cluster_1': [2, 3, 0, 1, 2, 3], 'Cluster_2': [], 'Cluster_3': [], 'Cluster_4': [6]}\n",
      "logical: [0] \n",
      "\n",
      "nb of errs: 37\n"
     ]
    },
    {
     "name": "stderr",
     "output_type": "stream",
     "text": [
      " 78%|███████▊  | 7782/10000 [10:50<03:06, 11.88it/s]"
     ]
    },
    {
     "name": "stdout",
     "output_type": "stream",
     "text": [
      "\n",
      "meas_str: 1111010111 110010000 110111100 001111010 110111100 011110010 111011100 000010010 000001100 000000000 000000000\n",
      "flipped_qubit_dict {'Cluster_0': [1, 3, 0], 'Cluster_1': [], 'Cluster_2': [8, 7, 9, 6, 6, 8], 'Cluster_3': [2, 3, 6, 4], 'Cluster_4': [8]}\n",
      "logical: [0] \n",
      "\n",
      "nb of errs: 38\n"
     ]
    },
    {
     "name": "stderr",
     "output_type": "stream",
     "text": [
      " 78%|███████▊  | 7794/10000 [10:51<02:53, 12.68it/s]"
     ]
    },
    {
     "name": "stdout",
     "output_type": "stream",
     "text": [
      "\n",
      "meas_str: 1110000011 100100000 100100010 101100000 111100010 101100000 111100010 101100000 111000010 100000000 100000000\n",
      "flipped_qubit_dict {'Cluster_0': [0, 1], 'Cluster_1': [7, 9, 9, 8, 8, 7, 8, 9, 6, 6], 'Cluster_2': [7], 'Cluster_3': []}\n",
      "logical: [0] \n",
      "\n",
      "nb of errs: 39\n"
     ]
    },
    {
     "name": "stderr",
     "output_type": "stream",
     "text": [
      " 79%|███████▊  | 7858/10000 [10:56<03:00, 11.88it/s]"
     ]
    },
    {
     "name": "stdout",
     "output_type": "stream",
     "text": [
      "\n",
      "meas_str: 1111101111 001110000 001100000 001000000 001100000 001000000 001100000 001000000 000100000 000000000 000000000\n",
      "flipped_qubit_dict {'Cluster_0': [8, 9, 7, 6], 'Cluster_1': [5, 0, 1, 2, 3]}\n",
      "logical: [0] \n",
      "\n",
      "nb of errs: 40\n"
     ]
    },
    {
     "name": "stderr",
     "output_type": "stream",
     "text": [
      " 79%|███████▊  | 7874/10000 [10:58<02:57, 11.96it/s]"
     ]
    },
    {
     "name": "stdout",
     "output_type": "stream",
     "text": [
      "\n",
      "meas_str: 1011000101 000110001 000010110 000110000 000110110 000111100 000110110 000111100 000110110 000111010 000110110\n",
      "flipped_qubit_dict {'Cluster_0': [], 'Cluster_1': [3], 'Cluster_2': [5], 'Cluster_3': [5], 'Cluster_4': [2], 'Cluster_5': [5, 6, 6, 7, 3, 9, 4, 4, 5, 6], 'Cluster_6': [0]}\n",
      "logical: [0] \n",
      "\n",
      "nb of errs: 41\n"
     ]
    },
    {
     "name": "stderr",
     "output_type": "stream",
     "text": [
      " 79%|███████▉  | 7908/10000 [11:01<02:54, 11.96it/s]"
     ]
    },
    {
     "name": "stdout",
     "output_type": "stream",
     "text": [
      "\n",
      "meas_str: 1100011111 000010011 010010011 100010011 101010001 111010001 101010001 101010011 111010011 011010000 100010000\n",
      "flipped_qubit_dict {'Cluster_0': [], 'Cluster_1': [9], 'Cluster_2': [7], 'Cluster_3': [1], 'Cluster_4': [7], 'Cluster_5': [1], 'Cluster_6': [8], 'Cluster_7': [], 'Cluster_8': [7], 'Cluster_9': [], 'Cluster_10': [0, 1, 0, 2, 7, 1, 3, 4, 0, 1]}\n",
      "logical: [0] \n",
      "\n",
      "nb of errs: 42\n"
     ]
    },
    {
     "name": "stderr",
     "output_type": "stream",
     "text": [
      " 80%|███████▉  | 7990/10000 [11:07<02:39, 12.60it/s]"
     ]
    },
    {
     "name": "stdout",
     "output_type": "stream",
     "text": [
      "\n",
      "meas_str: 1111011001 010011001 010101100 000011001 010001100 000001001 100000110 000001010 000001000 110001000 000000000\n",
      "flipped_qubit_dict {'Cluster_0': [], 'Cluster_1': [8], 'Cluster_2': [], 'Cluster_3': [8, 9], 'Cluster_4': [3], 'Cluster_5': [1, 0, 1], 'Cluster_6': [8], 'Cluster_7': [6, 4, 7]}\n",
      "logical: [0] \n",
      "\n",
      "nb of errs: 43\n"
     ]
    },
    {
     "name": "stderr",
     "output_type": "stream",
     "text": [
      " 81%|████████  | 8104/10000 [11:17<02:38, 11.97it/s]"
     ]
    },
    {
     "name": "stdout",
     "output_type": "stream",
     "text": [
      "\n",
      "meas_str: 1100100011 000011000 010101010 011110010 000101010 010110010 010100010 000111010 000000010 010011010 010000000\n",
      "flipped_qubit_dict {'Cluster_0': [8, 9, 8, 9, 8, 9], 'Cluster_1': [], 'Cluster_2': [4], 'Cluster_3': [], 'Cluster_4': [], 'Cluster_5': [], 'Cluster_6': [7, 7, 0, 1, 4, 5]}\n",
      "logical: [0] \n",
      "\n",
      "nb of errs: 44\n"
     ]
    },
    {
     "name": "stderr",
     "output_type": "stream",
     "text": [
      " 82%|████████▏ | 8204/10000 [11:25<02:32, 11.79it/s]"
     ]
    },
    {
     "name": "stdout",
     "output_type": "stream",
     "text": [
      "\n",
      "meas_str: 1010011111 100110000 011000000 100110000 011000000 101001000 010010000 100011000 010001000 100000000 100010001\n",
      "flipped_qubit_dict {'Cluster_0': [1, 4, 2, 3, 8, 4, 4, 0], 'Cluster_1': [], 'Cluster_2': [5, 6, 7, 4, 4, 5, 6, 6, 6, 8, 9]}\n",
      "logical: [0] \n",
      "\n",
      "nb of errs: 45\n"
     ]
    },
    {
     "name": "stderr",
     "output_type": "stream",
     "text": [
      " 85%|████████▍ | 8452/10000 [11:46<02:04, 12.44it/s]"
     ]
    },
    {
     "name": "stdout",
     "output_type": "stream",
     "text": [
      "\n",
      "meas_str: 1101111110 001100111 011100110 001000111 011100110 001100111 001100110 001000111 001100110 001000111 001000010\n",
      "flipped_qubit_dict {'Cluster_0': [5, 0, 0, 1, 2, 3, 4], 'Cluster_1': [7, 7, 6, 6, 7, 8, 9, 6, 7]}\n",
      "logical: [0] \n",
      "\n",
      "nb of errs: 46\n"
     ]
    },
    {
     "name": "stderr",
     "output_type": "stream",
     "text": [
      " 89%|████████▉ | 8886/10000 [12:23<01:39, 11.16it/s]"
     ]
    },
    {
     "name": "stdout",
     "output_type": "stream",
     "text": [
      "\n",
      "meas_str: 1110011001 001010110 001000011 001010110 001000011 001010101 001000010 000010111 001000010 001100100 000000000\n",
      "flipped_qubit_dict {'Cluster_0': [0, 2, 1, 2, 3, 1, 0, 6, 4, 5, 1, 6, 6, 6, 5, 0, 1], 'Cluster_1': [7, 8, 9]}\n",
      "logical: [0] \n",
      "\n",
      "nb of errs: 47\n"
     ]
    },
    {
     "name": "stderr",
     "output_type": "stream",
     "text": [
      " 90%|████████▉ | 8964/10000 [12:29<01:28, 11.77it/s]"
     ]
    },
    {
     "name": "stdout",
     "output_type": "stream",
     "text": [
      "\n",
      "meas_str: 1100011100 000100000 000110001 010101100 000110101 010001000 000001100 000000000 000000100 000000000 000000100\n",
      "flipped_qubit_dict {'Cluster_0': [0, 2, 0, 1], 'Cluster_1': [], 'Cluster_2': [8, 9], 'Cluster_3': [4], 'Cluster_4': [], 'Cluster_5': [], 'Cluster_6': [3], 'Cluster_7': [], 'Cluster_8': [1]}\n",
      "logical: [0] \n",
      "\n",
      "nb of errs: 48\n"
     ]
    },
    {
     "name": "stderr",
     "output_type": "stream",
     "text": [
      " 93%|█████████▎| 9324/10000 [12:59<00:53, 12.55it/s]"
     ]
    },
    {
     "name": "stdout",
     "output_type": "stream",
     "text": [
      "\n",
      "meas_str: 1111110111 001010000 001011100 010000000 001010101 010000000 001010110 000000000 000010100 000000000 000000110\n",
      "flipped_qubit_dict {'Cluster_0': [2, 3, 2, 4, 6, 3, 8, 9, 5, 2, 4, 5, 5], 'Cluster_1': [1], 'Cluster_2': [0], 'Cluster_3': [4], 'Cluster_4': [7]}\n",
      "logical: [0] \n",
      "\n",
      "nb of errs: 49\n"
     ]
    },
    {
     "name": "stderr",
     "output_type": "stream",
     "text": [
      " 95%|█████████▍| 9490/10000 [13:13<00:42, 12.14it/s]"
     ]
    },
    {
     "name": "stdout",
     "output_type": "stream",
     "text": [
      "\n",
      "meas_str: 1000101101 101001011 001111000 101100011 001011000 001000011 001111000 001000011 011000000 001100001 001000001\n",
      "flipped_qubit_dict {'Cluster_0': [], 'Cluster_1': [4, 6, 5, 7, 3, 2, 4, 4, 5, 5, 0, 6, 7, 4], 'Cluster_2': [9], 'Cluster_3': []}\n",
      "logical: [0] \n",
      "\n",
      "nb of errs: 50\n"
     ]
    },
    {
     "name": "stderr",
     "output_type": "stream",
     "text": [
      "100%|██████████| 10000/10000 [13:56<00:00, 11.95it/s]"
     ]
    },
    {
     "name": "stdout",
     "output_type": "stream",
     "text": [
      "\n",
      "Logical_counts: {'0': 50, '1': 9950}\n"
     ]
    },
    {
     "name": "stderr",
     "output_type": "stream",
     "text": [
      "\n"
     ]
    }
   ],
   "source": [
    "from soft_info import soft_reweight, get_counts, rx_draw_2D\n",
    "from tqdm import tqdm\n",
    "\n",
    "VERBOSE = True\n",
    "\n",
    "logical_counts = {'0':0, '1':0}\n",
    "err = 0\n",
    "for shot in tqdm(range(len(memory))):\n",
    "    \n",
    "    with open(dcd_pkl_str, 'rb') as f: # Reload the decoder each time to reset the graph\n",
    "        decoder = pickle.load(f)\n",
    "\n",
    "    IQ_data = memory[shot]\n",
    "\n",
    "    counts = get_counts([IQ_data], kde_dict, scaler_dict, layout, max_distance, verbose=False)\n",
    "    count_key = next(iter(counts.keys()))\n",
    "    \n",
    "    logical, flipped_qubit_dict = decoder.process(count_key, _return_err_str = True)\n",
    "    \n",
    "    if VERBOSE and logical[0] == 0:\n",
    "        print(\"\\nmeas_str:\", count_key)\n",
    "        print(\"flipped_qubit_dict\", flipped_qubit_dict)\n",
    "        print(\"logical:\", logical, \"\\n\")\n",
    "            \n",
    "    if logical[0] == 0:\n",
    "        err += 1\n",
    "        print(\"nb of errs:\", err)\n",
    "    logical_counts[f\"{logical[0]}\"] += 1\n",
    "\n",
    "print( \"\\nLogical_counts:\", logical_counts)\n"
   ]
  },
  {
   "cell_type": "markdown",
   "metadata": {},
   "source": [
    "# PyMatching"
   ]
  },
  {
   "cell_type": "code",
   "execution_count": 9,
   "metadata": {},
   "outputs": [],
   "source": [
    "import stim\n",
    "import pymatching\n",
    "\n",
    "d = max_distance\n",
    "T = max_distance\n",
    "\n",
    "circuit = stim.Circuit.generated(\"repetition_code:memory\",\n",
    "                                 distance=d,\n",
    "                                 rounds=T,\n",
    "                                 after_clifford_depolarization=0.1)\n",
    "\n",
    "model = circuit.detector_error_model(decompose_errors=True)\n",
    "matching = pymatching.Matching.from_detector_error_model(model)\n"
   ]
  },
  {
   "cell_type": "code",
   "execution_count": 11,
   "metadata": {},
   "outputs": [
    {
     "name": "stderr",
     "output_type": "stream",
     "text": [
      "  7%|▋         | 672/10000 [00:48<11:07, 13.98it/s]"
     ]
    },
    {
     "name": "stdout",
     "output_type": "stream",
     "text": [
      "num_errors: 1\n"
     ]
    },
    {
     "name": "stderr",
     "output_type": "stream",
     "text": [
      "  7%|▋         | 714/10000 [00:51<11:12, 13.81it/s]"
     ]
    },
    {
     "name": "stdout",
     "output_type": "stream",
     "text": [
      "num_errors: 2\n"
     ]
    },
    {
     "name": "stderr",
     "output_type": "stream",
     "text": [
      "  8%|▊         | 842/10000 [01:00<11:12, 13.61it/s]"
     ]
    },
    {
     "name": "stdout",
     "output_type": "stream",
     "text": [
      "num_errors: 3\n"
     ]
    },
    {
     "name": "stderr",
     "output_type": "stream",
     "text": [
      " 35%|███▍      | 3466/10000 [04:08<07:04, 15.41it/s]"
     ]
    },
    {
     "name": "stdout",
     "output_type": "stream",
     "text": [
      "num_errors: 4\n"
     ]
    },
    {
     "name": "stderr",
     "output_type": "stream",
     "text": [
      " 36%|███▌      | 3608/10000 [04:17<07:01, 15.17it/s]"
     ]
    },
    {
     "name": "stdout",
     "output_type": "stream",
     "text": [
      "num_errors: 5\n"
     ]
    },
    {
     "name": "stderr",
     "output_type": "stream",
     "text": [
      " 41%|████▏     | 4134/10000 [04:54<06:37, 14.75it/s]"
     ]
    },
    {
     "name": "stdout",
     "output_type": "stream",
     "text": [
      "num_errors: 6\n"
     ]
    },
    {
     "name": "stderr",
     "output_type": "stream",
     "text": [
      " 43%|████▎     | 4340/10000 [05:08<06:18, 14.97it/s]"
     ]
    },
    {
     "name": "stdout",
     "output_type": "stream",
     "text": [
      "num_errors: 7\n"
     ]
    },
    {
     "name": "stderr",
     "output_type": "stream",
     "text": [
      " 44%|████▍     | 4450/10000 [05:15<06:16, 14.74it/s]"
     ]
    },
    {
     "name": "stdout",
     "output_type": "stream",
     "text": [
      "num_errors: 8\n"
     ]
    },
    {
     "name": "stderr",
     "output_type": "stream",
     "text": [
      " 46%|████▌     | 4556/10000 [05:22<06:06, 14.86it/s]"
     ]
    },
    {
     "name": "stdout",
     "output_type": "stream",
     "text": [
      "num_errors: 9\n"
     ]
    },
    {
     "name": "stderr",
     "output_type": "stream",
     "text": [
      " 47%|████▋     | 4664/10000 [05:30<06:07, 14.51it/s]"
     ]
    },
    {
     "name": "stdout",
     "output_type": "stream",
     "text": [
      "num_errors: 10\n"
     ]
    },
    {
     "name": "stderr",
     "output_type": "stream",
     "text": [
      " 60%|██████    | 6020/10000 [07:03<04:57, 13.37it/s]"
     ]
    },
    {
     "name": "stdout",
     "output_type": "stream",
     "text": [
      "num_errors: 11\n"
     ]
    },
    {
     "name": "stderr",
     "output_type": "stream",
     "text": [
      " 61%|██████    | 6052/10000 [07:05<04:35, 14.31it/s]"
     ]
    },
    {
     "name": "stdout",
     "output_type": "stream",
     "text": [
      "num_errors: 12\n"
     ]
    },
    {
     "name": "stderr",
     "output_type": "stream",
     "text": [
      " 69%|██████▊   | 6870/10000 [08:03<03:51, 13.51it/s]"
     ]
    },
    {
     "name": "stdout",
     "output_type": "stream",
     "text": [
      "num_errors: 13\n"
     ]
    },
    {
     "name": "stderr",
     "output_type": "stream",
     "text": [
      " 77%|███████▋  | 7680/10000 [08:59<02:37, 14.69it/s]"
     ]
    },
    {
     "name": "stdout",
     "output_type": "stream",
     "text": [
      "num_errors: 14\n"
     ]
    },
    {
     "name": "stderr",
     "output_type": "stream",
     "text": [
      " 78%|███████▊  | 7796/10000 [09:07<02:32, 14.46it/s]"
     ]
    },
    {
     "name": "stdout",
     "output_type": "stream",
     "text": [
      "num_errors: 15\n"
     ]
    },
    {
     "name": "stderr",
     "output_type": "stream",
     "text": [
      " 79%|███████▉  | 7876/10000 [09:13<02:29, 14.17it/s]"
     ]
    },
    {
     "name": "stdout",
     "output_type": "stream",
     "text": [
      "num_errors: 16\n"
     ]
    },
    {
     "name": "stderr",
     "output_type": "stream",
     "text": [
      " 79%|███████▉  | 7908/10000 [09:15<02:26, 14.30it/s]"
     ]
    },
    {
     "name": "stdout",
     "output_type": "stream",
     "text": [
      "num_errors: 17\n"
     ]
    },
    {
     "name": "stderr",
     "output_type": "stream",
     "text": [
      " 80%|███████▉  | 7992/10000 [09:21<02:22, 14.06it/s]"
     ]
    },
    {
     "name": "stdout",
     "output_type": "stream",
     "text": [
      "num_errors: 18\n"
     ]
    },
    {
     "name": "stderr",
     "output_type": "stream",
     "text": [
      " 90%|████████▉ | 8964/10000 [10:29<01:13, 14.07it/s]"
     ]
    },
    {
     "name": "stdout",
     "output_type": "stream",
     "text": [
      "num_errors: 19\n"
     ]
    },
    {
     "name": "stderr",
     "output_type": "stream",
     "text": [
      " 99%|█████████▊| 9856/10000 [11:32<00:09, 14.64it/s]"
     ]
    },
    {
     "name": "stdout",
     "output_type": "stream",
     "text": [
      "num_errors: 20\n"
     ]
    },
    {
     "name": "stderr",
     "output_type": "stream",
     "text": [
      "100%|██████████| 10000/10000 [11:43<00:00, 14.22it/s]"
     ]
    },
    {
     "name": "stdout",
     "output_type": "stream",
     "text": [
      "Num errors: 20\n"
     ]
    },
    {
     "name": "stderr",
     "output_type": "stream",
     "text": [
      "\n"
     ]
    }
   ],
   "source": [
    "from tqdm import tqdm\n",
    "from soft_info import get_counts, soft_reweight_pymatching, counts_to_det_syndr, draw_matching_graph, reweight_edges_to_one\n",
    "\n",
    "VERBOSE = False\n",
    "\n",
    "#actual_observables = np.array([[False]]) # hardcoded, can be retrieved\n",
    "num_errors = 0\n",
    "\n",
    "i = 0\n",
    "w_idx_lst = []\n",
    "for shot in tqdm(range(len(memory))[:]):\n",
    "    i += 1\n",
    "    IQ_data = memory[shot]\n",
    "\n",
    "    counts = get_counts([IQ_data], kde_dict, scaler_dict, layout, T, verbose=False)\n",
    "    count_key = next(iter(counts.keys()))\n",
    "    \n",
    "    actual_observables = [(int(count_key[0])+1)%2]\n",
    "    #soft_reweight_pymatching(matching, d, T, IQ_data, kde_dict, layout, scaler_dict, common_measure=0.01, verbose=False)  \n",
    "    reweight_edges_to_one(matching)\n",
    "\n",
    "    array_processed_string = counts_to_det_syndr(count_key, _resets=False, verbose=False)\n",
    "\n",
    "    predicted_observables = matching.decode(array_processed_string)\n",
    "\n",
    "    if predicted_observables == actual_observables: #== [0]:\n",
    "        continue\n",
    "    num_errors += 1\n",
    "    #print(\"actual_observables:\", actual_observables)\n",
    "    #print(\"predicted_observables:\", predicted_observables)\n",
    "    print(\"num_errors:\", num_errors)\n",
    "\n",
    "    #print(f\"Wrong decoding at index {i}\")\n",
    "    w_idx_lst.append(i)\n",
    "\n",
    "    \n",
    "    if VERBOSE:\n",
    "        print(\"Count key:\", count_key)\n",
    "        print(\"count_string_to_syndromes:\", array_processed_string)\n",
    "        print(\"actual_observables:\", actual_observables)\n",
    "        print(\"predicted_observables:\", predicted_observables)\n",
    "\n",
    "    \n",
    "    if VERBOSE:\n",
    "        matched_edges = matching.decode_to_edges_array(array_processed_string)\n",
    "        print(\"matched_edges: \", matched_edges)\n",
    "        print(\"Estimated flip:\", predicted_observables)\n",
    "        \n",
    "    if VERBOSE:\n",
    "        draw_matching_graph(matching, d, T, syndromes=array_processed_string, matched_edges=matched_edges, figsize=(10, 10))\n",
    "\n",
    "\n",
    "    \n",
    "\n",
    "print(\"Num errors:\", num_errors)"
   ]
  },
  {
   "cell_type": "code",
   "execution_count": null,
   "metadata": {},
   "outputs": [],
   "source": []
  },
  {
   "cell_type": "code",
   "execution_count": null,
   "metadata": {},
   "outputs": [],
   "source": []
  }
 ],
 "metadata": {
  "kernelspec": {
   "display_name": "Soft-Info-Sk8aHGSa",
   "language": "python",
   "name": "python3"
  },
  "language_info": {
   "codemirror_mode": {
    "name": "ipython",
    "version": 3
   },
   "file_extension": ".py",
   "mimetype": "text/x-python",
   "name": "python",
   "nbconvert_exporter": "python",
   "pygments_lexer": "ipython3",
   "version": "3.11.4"
  }
 },
 "nbformat": 4,
 "nbformat_minor": 2
}
