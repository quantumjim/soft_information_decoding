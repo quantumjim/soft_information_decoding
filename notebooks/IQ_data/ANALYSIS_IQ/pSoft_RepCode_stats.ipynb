{
 "cells": [
  {
   "cell_type": "code",
   "execution_count": 1,
   "metadata": {},
   "outputs": [
    {
     "name": "stdout",
     "output_type": "stream",
     "text": [
      "state = Z0\n",
      "shape: (40, 18)\n"
     ]
    },
    {
     "data": {
      "text/html": [
       "<div>\n",
       "<style scoped>\n",
       "    .dataframe tbody tr th:only-of-type {\n",
       "        vertical-align: middle;\n",
       "    }\n",
       "\n",
       "    .dataframe tbody tr th {\n",
       "        vertical-align: top;\n",
       "    }\n",
       "\n",
       "    .dataframe thead th {\n",
       "        text-align: right;\n",
       "    }\n",
       "</style>\n",
       "<table border=\"1\" class=\"dataframe\">\n",
       "  <thead>\n",
       "    <tr style=\"text-align: right;\">\n",
       "      <th></th>\n",
       "      <th>creation_date</th>\n",
       "      <th>notebook_name</th>\n",
       "      <th>backend_name</th>\n",
       "      <th>job_id</th>\n",
       "      <th>tags</th>\n",
       "      <th>meas_level</th>\n",
       "      <th>shots</th>\n",
       "      <th>num_qubits</th>\n",
       "      <th>job_status</th>\n",
       "      <th>execution_date</th>\n",
       "      <th>code</th>\n",
       "      <th>distance</th>\n",
       "      <th>rounds</th>\n",
       "      <th>logical</th>\n",
       "      <th>descr</th>\n",
       "      <th>resets</th>\n",
       "      <th>xbasis</th>\n",
       "      <th>path_info</th>\n",
       "    </tr>\n",
       "  </thead>\n",
       "  <tbody>\n",
       "    <tr>\n",
       "      <th>5030</th>\n",
       "      <td>2024-03-23 14:05:45.787000+01:00</td>\n",
       "      <td>Sherbrooke_RepCodes_jobs</td>\n",
       "      <td>ibm_sherbrooke</td>\n",
       "      <td>cqzd7adk5z70008j0810</td>\n",
       "      <td>[Subset 52, 50 rounds, 0 log, xbasis=False]</td>\n",
       "      <td>1.0</td>\n",
       "      <td>1507.0</td>\n",
       "      <td>NaN</td>\n",
       "      <td>JobStatus.DONE</td>\n",
       "      <td>2024-03-23 15:09:21.245239+01:00</td>\n",
       "      <td>RepetitionCodeCircuit</td>\n",
       "      <td>52</td>\n",
       "      <td>50</td>\n",
       "      <td>0</td>\n",
       "      <td>subset RepCodes</td>\n",
       "      <td>NaN</td>\n",
       "      <td>False</td>\n",
       "      <td>{'mean_gate_error': 0.007733045348037, 'min_ga...</td>\n",
       "    </tr>\n",
       "    <tr>\n",
       "      <th>5029</th>\n",
       "      <td>2024-03-23 14:05:37.855000+01:00</td>\n",
       "      <td>Sherbrooke_RepCodes_jobs</td>\n",
       "      <td>ibm_sherbrooke</td>\n",
       "      <td>cqzd78ds9z7g008dpaa0</td>\n",
       "      <td>[Subset 52, 50 rounds, 0 log, xbasis=False]</td>\n",
       "      <td>1.0</td>\n",
       "      <td>1507.0</td>\n",
       "      <td>NaN</td>\n",
       "      <td>JobStatus.DONE</td>\n",
       "      <td>2024-03-23 15:08:51.313737+01:00</td>\n",
       "      <td>RepetitionCodeCircuit</td>\n",
       "      <td>52</td>\n",
       "      <td>50</td>\n",
       "      <td>0</td>\n",
       "      <td>subset RepCodes</td>\n",
       "      <td>NaN</td>\n",
       "      <td>False</td>\n",
       "      <td>{'mean_gate_error': 0.007733045348037, 'min_ga...</td>\n",
       "    </tr>\n",
       "  </tbody>\n",
       "</table>\n",
       "</div>"
      ],
      "text/plain": [
       "                         creation_date             notebook_name  \\\n",
       "5030  2024-03-23 14:05:45.787000+01:00  Sherbrooke_RepCodes_jobs   \n",
       "5029  2024-03-23 14:05:37.855000+01:00  Sherbrooke_RepCodes_jobs   \n",
       "\n",
       "        backend_name                job_id  \\\n",
       "5030  ibm_sherbrooke  cqzd7adk5z70008j0810   \n",
       "5029  ibm_sherbrooke  cqzd78ds9z7g008dpaa0   \n",
       "\n",
       "                                             tags  meas_level   shots  \\\n",
       "5030  [Subset 52, 50 rounds, 0 log, xbasis=False]         1.0  1507.0   \n",
       "5029  [Subset 52, 50 rounds, 0 log, xbasis=False]         1.0  1507.0   \n",
       "\n",
       "      num_qubits      job_status                    execution_date  \\\n",
       "5030         NaN  JobStatus.DONE  2024-03-23 15:09:21.245239+01:00   \n",
       "5029         NaN  JobStatus.DONE  2024-03-23 15:08:51.313737+01:00   \n",
       "\n",
       "                       code  distance  rounds logical            descr resets  \\\n",
       "5030  RepetitionCodeCircuit        52      50       0  subset RepCodes    NaN   \n",
       "5029  RepetitionCodeCircuit        52      50       0  subset RepCodes    NaN   \n",
       "\n",
       "     xbasis                                          path_info  \n",
       "5030  False  {'mean_gate_error': 0.007733045348037, 'min_ga...  \n",
       "5029  False  {'mean_gate_error': 0.007733045348037, 'min_ga...  "
      ]
     },
     "execution_count": 1,
     "metadata": {},
     "output_type": "execute_result"
    }
   ],
   "source": [
    "from Scratch import metadata_loader\n",
    "import numpy as np\n",
    "from tqdm import tqdm\n",
    "\n",
    "DEVICE = \"ibm_sherbrooke\"\n",
    "LOGICAL = str(0)\n",
    "XBASIS = False\n",
    "ROUNDS = 50\n",
    "\n",
    "state = \"X\" if XBASIS else \"Z\"\n",
    "state += LOGICAL\n",
    "print(f\"state = {state}\")\n",
    "\n",
    "\n",
    "# Load the metadata\n",
    "md = metadata_loader(True, True)\n",
    "md = md[md[\"job_status\"] == \"JobStatus.DONE\"]\n",
    "md = md[md[\"code\"] == \"RepetitionCodeCircuit\"]\n",
    "md = md[md[\"descr\"] == 'subset RepCodes']\n",
    "md = md.dropna(subset=[\"rounds\"])\n",
    "md = md[md[\"meas_level\"] == 1]\n",
    "md['rounds'] = md['rounds'].astype(int)\n",
    "md['distance'] = md['distance'].astype(int)\n",
    "\n",
    "md = md[md[\"backend_name\"] == DEVICE]\n",
    "md = md[md[\"logical\"] == LOGICAL]\n",
    "md = md[md[\"xbasis\"] == XBASIS]\n",
    "md = md[md[\"rounds\"] == ROUNDS]\n",
    "\n",
    "# md = md[0:1]\n",
    "print(\"shape:\", md.shape)\n",
    "md[:2]\n"
   ]
  },
  {
   "cell_type": "code",
   "execution_count": 2,
   "metadata": {},
   "outputs": [],
   "source": [
    "from result_saver import SaverProvider\n",
    "\n",
    "provider = SaverProvider()"
   ]
  },
  {
   "cell_type": "code",
   "execution_count": 3,
   "metadata": {},
   "outputs": [
    {
     "name": "stdout",
     "output_type": "stream",
     "text": [
      "Execution date: 2024-03-23 15:09:21.245239+01:00\n"
     ]
    }
   ],
   "source": [
    "md_loc = 0\n",
    "\n",
    "job_id = md.iloc[md_loc][\"job_id\"]\n",
    "job = provider.retrieve_job(job_id) \n",
    "\n",
    "execution_date = job.result().date\n",
    "memory = job.result().get_memory()\n",
    "\n",
    "print(f\"Execution date: {execution_date}\")"
   ]
  },
  {
   "cell_type": "code",
   "execution_count": 4,
   "metadata": {},
   "outputs": [],
   "source": [
    "# assert md_loc == -1\n",
    "# for id in range(-5, -1):\n",
    "#     job = provider.retrieve_job(md.iloc[id][\"job_id\"])\n",
    "#     memory = np.vstack([memory, job.result().get_memory()])\n",
    "\n",
    "assert md_loc == 0\n",
    "for id in range(1, 5):\n",
    "    job = provider.retrieve_job(md.iloc[id][\"job_id\"])\n",
    "    memory = np.vstack([memory, job.result().get_memory()])"
   ]
  },
  {
   "cell_type": "markdown",
   "metadata": {},
   "source": [
    "# Needed decoding objects"
   ]
  },
  {
   "cell_type": "markdown",
   "metadata": {},
   "source": [
    "#### KDE"
   ]
  },
  {
   "cell_type": "code",
   "execution_count": 5,
   "metadata": {},
   "outputs": [],
   "source": [
    "import numpy as np\n",
    "\n",
    "_RESETS = False\n",
    "SOFT_MUL = 0.5\n",
    "T = md.iloc[md_loc][\"rounds\"]\n",
    "d = md.iloc[md_loc][\"distance\"]\n",
    "\n",
    "shots = md.iloc[md_loc][\"shots\"]\n",
    "\n",
    "rel_error = 1\n",
    "\n",
    "# KDE BANDWIDTHS\n",
    "lin = [0.1, 0.7, 30]\n",
    "num_points = 51\n",
    "bandwidths = np.linspace(lin[0], lin[1], lin[2])"
   ]
  },
  {
   "cell_type": "code",
   "execution_count": 6,
   "metadata": {},
   "outputs": [
    {
     "name": "stdout",
     "output_type": "stream",
     "text": [
      "Found jobs for backend ibm_sherbrooke with closest execution date 2024-03-23 14:09:53.452291+00:00.\n",
      "Found jobs for backend ibm_sherbrooke with closest execution date 2024-03-23 10:46:40.066413+00:00.\n"
     ]
    }
   ],
   "source": [
    "from soft_info import get_repcode_IQ_map\n",
    "from soft_info import inv_qubit_mapping\n",
    "from Scratch import load_calibration_memory\n",
    "import cpp_soft_info\n",
    "from datetime import datetime\n",
    "\n",
    "all_memories, gmm_dict, msmt_err_dict = load_calibration_memory(provider, tobecalib_backend=DEVICE, \n",
    "                                                                other_date=execution_date, post_process=True,\n",
    "                                                                double_msmt=False)\n",
    "kde_dict = cpp_soft_info.get_KDEs(all_memories, bandwidths, relError=rel_error, absError=-1, num_points=num_points)\n",
    "\n",
    "all_memories_PS, gmm_dict_PS, msmt_err_dict_PS = load_calibration_memory(provider, tobecalib_backend=DEVICE, \n",
    "                                                                other_date=execution_date, post_process=True,\n",
    "                                                                double_msmt=True)\n",
    "\n",
    "kde_dict_PS = cpp_soft_info.get_KDEs(all_memories_PS, bandwidths, relError=rel_error, absError=-1, num_points=num_points)"
   ]
  },
  {
   "cell_type": "code",
   "execution_count": 7,
   "metadata": {},
   "outputs": [],
   "source": [
    "# Get the layout of the last job (same as previous)\n",
    "layout_des = job.deserialize_layout(job.initial_layouts()[0]) # only 1 layout\n",
    "link_qubits = list(layout_des['link_qubit'].values())\n",
    "code_qubits = list(layout_des['code_qubit'].values())\n",
    "\n",
    "# Get the pSoft and countMat matrices\n",
    "big_layout = link_qubits + code_qubits\n",
    "inverted_q_map = inv_qubit_mapping(get_repcode_IQ_map(big_layout, synd_rounds=T))\n",
    "\n",
    "pSoft, countMat = cpp_soft_info.iqConvertor(memory, inverted_q_map, kde_dict, rel_error, -1, handleOutliers=True)"
   ]
  },
  {
   "cell_type": "markdown",
   "metadata": {},
   "source": [
    "#### KDE_PS"
   ]
  },
  {
   "cell_type": "code",
   "execution_count": 8,
   "metadata": {},
   "outputs": [],
   "source": [
    "pSoftPS, countMatPS = cpp_soft_info.iqConvertor(memory, inverted_q_map, kde_dict_PS, rel_error, -1, handleOutliers = True)"
   ]
  },
  {
   "cell_type": "markdown",
   "metadata": {},
   "source": [
    "#### Gaussian"
   ]
  },
  {
   "cell_type": "code",
   "execution_count": 9,
   "metadata": {},
   "outputs": [
    {
     "name": "stdout",
     "output_type": "stream",
     "text": [
      "19606070\n"
     ]
    }
   ],
   "source": [
    "from soft_info import gaussianIQConvertor\n",
    "\n",
    "countMatG, pSoftG = gaussianIQConvertor(memory, inverted_q_map, gmm_dict)\n",
    "print(pSoftG.shape[0]*pSoftG.shape[1])"
   ]
  },
  {
   "cell_type": "code",
   "execution_count": 10,
   "metadata": {},
   "outputs": [
    {
     "name": "stdout",
     "output_type": "stream",
     "text": [
      "19606070\n",
      "19606070\n"
     ]
    }
   ],
   "source": [
    "# post select high pSoftPS\n",
    "print(pSoftPS.shape[0]*pSoftPS.shape[1])\n",
    "\n",
    "pSoftPSPS = pSoftPS[pSoftPS != 0.5]\n",
    "print(pSoftPSPS.shape[0])\n"
   ]
  },
  {
   "cell_type": "code",
   "execution_count": 11,
   "metadata": {},
   "outputs": [
    {
     "name": "stdout",
     "output_type": "stream",
     "text": [
      "0.49999874434252833\n",
      "0.49999909406811943\n",
      "0\n",
      "0\n"
     ]
    }
   ],
   "source": [
    "print(np.max(pSoftPS))\n",
    "print(np.max(pSoft))\n",
    "\n",
    "# print how many entries are bigger than 0.5\n",
    "print(np.sum(pSoftPS > 0.5))\n",
    "print(np.sum(pSoft > 0.5))"
   ]
  },
  {
   "cell_type": "markdown",
   "metadata": {},
   "source": [
    "# Statistics pSoft"
   ]
  },
  {
   "cell_type": "code",
   "execution_count": 26,
   "metadata": {},
   "outputs": [
    {
     "name": "stdout",
     "output_type": "stream",
     "text": [
      "0.5802342833114841 3.766482417061297\n"
     ]
    },
    {
     "data": {
      "image/png": "[encoded data removed]",
      "text/plain": [
       "<Figure size 960x720 with 1 Axes>"
      ]
     },
     "metadata": {},
     "output_type": "display_data"
    }
   ],
   "source": [
    "import numpy as np\n",
    "import matplotlib.pyplot as plt\n",
    "\n",
    "data1 = pSoft.flatten() * 100  \n",
    "mean1 = np.mean(data1)  \n",
    "std1 = np.std(data1)  \n",
    "\n",
    "data2 = pSoftG.flatten() * 100  \n",
    "mean2 = np.mean(data2)\n",
    "std2 = np.std(data2)\n",
    "print(mean2, std2)\n",
    "\n",
    "data3 = pSoftPS.flatten() * 100  \n",
    "mean3 = np.mean(data3)\n",
    "std3 = np.std(data3)\n",
    "\n",
    "plt.figure(dpi=150)\n",
    "\n",
    "bins = 100\n",
    "alpha = 0.5\n",
    "density = True\n",
    "# plt.hist(data1, bins=bins, density=density, alpha=alpha, color='g', label='pSoft from KDEs')\n",
    "plt.hist(data3, bins=bins, density=density, alpha=alpha, color='r', label='pSoft from KDE_PS')\n",
    "plt.hist(data2, bins=bins, density=density, alpha=alpha, color='b', label='pSoft from GMMs')  \n",
    "\n",
    "\n",
    "plt.ylabel(\"Density\")\n",
    "plt.xlabel(\"pSoft (%)\")\n",
    "plt.grid()\n",
    "\n",
    "# # Plot the means as vertical lines\n",
    "# plt.axvline(mean1, color='green', linestyle='dashed', linewidth=1, label=f'Mean: {mean1:.2f}%')\n",
    "# plt.axvline(mean3, color='red', linestyle='dashed', linewidth=1, label=f'Mean: {mean3:.2f}%')\n",
    "# plt.axvline(mean2, color='blue', linestyle='dashed', linewidth=1, label=f'Mean: {mean2:.2f}%')  \n",
    "\n",
    "# # Plot the standard deviations as error bars\n",
    "# plt.errorbar(mean1, plt.ylim()[1] * 0.9, xerr=std1, fmt='o', color='green', capsize=5, label=f'Std: {std1:.2f}')\n",
    "# plt.errorbar(mean3, plt.ylim()[1] * 0.7, xerr=std3, fmt='o', color='red', capsize=5, label=f'Std: {std3:.2f}')\n",
    "# plt.errorbar(mean2, plt.ylim()[1] * 0.8, xerr=std2, fmt='o', color='blue', capsize=5, label=f'Std: {std2:.2f}')  \n",
    "\n",
    "# plt.ylim(0, 0.02)\n",
    "# plt.xlim(0, 0.15)\n",
    "\n",
    "plt.yscale('log')\n",
    "\n",
    "date_str = md.iloc[md_loc]['execution_date']\n",
    "execution_date = datetime.fromisoformat(date_str)\n",
    "formatted_date = execution_date.strftime('%Y-%m-%d')\n",
    "plt.title(f\"{formatted_date} {DEVICE}, {state}, Rounds {ROUNDS},  \\nshots: {memory.shape[0]}\")\n",
    "plt.legend()\n",
    "plt.show()\n"
   ]
  },
  {
   "cell_type": "code",
   "execution_count": 13,
   "metadata": {},
   "outputs": [],
   "source": [
    "# # Compare with the mean errors \n",
    "\n",
    "# p_soft = 0\n",
    "# p_hard = 0\n",
    "# for k, v in msmt_err_dict_PS.items():\n",
    "#     p_soft += v[\"p_soft\"]\n",
    "#     p_hard += v[\"p_hard\"]\n",
    "\n",
    "# p_soft /= len(msmt_err_dict_PS)\n",
    "# p_hard /= len(msmt_err_dict_PS)\n",
    "\n",
    "# print(f\"p_soft: {p_soft}, p_hard: {p_hard}\")"
   ]
  },
  {
   "cell_type": "markdown",
   "metadata": {},
   "source": [
    "# Sample from data"
   ]
  },
  {
   "cell_type": "code",
   "execution_count": 41,
   "metadata": {},
   "outputs": [],
   "source": [
    "import numpy as np\n",
    "import matplotlib.pyplot as plt\n",
    "\n",
    "# Let's assume 'data' is the array from which the histogram was created\n",
    "data = pSoftPS.flatten()\n",
    "\n",
    "# Compute the histogram\n",
    "count, bin_edges = np.histogram(data, bins=100)\n",
    "bin_centers = (bin_edges[:-1] + bin_edges[1:]) / 2\n",
    "\n",
    "# Normalize the histogram to create a PMF\n",
    "pmf = count / np.sum(count)\n",
    "\n",
    "# Compute the CDF from the PMF\n",
    "cdf = np.cumsum(pmf)\n",
    "\n",
    "def sample_from_histogram(bin_centers, cdf, size=1):\n",
    "    # Generate uniform random numbers\n",
    "    random_numbers = np.random.rand(size)\n",
    "    # Find the bin corresponding to each random number\n",
    "    sampled_indices = np.searchsorted(cdf, random_numbers)\n",
    "    # Return the sampled bin centers\n",
    "    return bin_centers[sampled_indices]"
   ]
  },
  {
   "cell_type": "code",
   "execution_count": 45,
   "metadata": {},
   "outputs": [
    {
     "data": {
      "image/png": "[encoded data removed]",
      "text/plain": [
       "<Figure size 960x720 with 1 Axes>"
      ]
     },
     "metadata": {},
     "output_type": "display_data"
    }
   ],
   "source": [
    "\n",
    "# Sample from the histogram\n",
    "sampled_data = sample_from_histogram(bin_centers, cdf, size=int(5e6))\n",
    "\n",
    "# Plot the original histogram and the sampled data\n",
    "plt.figure(dpi=150)\n",
    "plt.hist(data, bins=100, density=True, alpha=0.6, label='Original Data')\n",
    "plt.hist(sampled_data, bins=100, density=True, alpha=0.6, label='Sampled Data', edgecolor='black')\n",
    "plt.yscale('log')\n",
    "plt.xlabel('Value')\n",
    "plt.ylabel('Density')\n",
    "plt.legend()\n",
    "plt.show()"
   ]
  }
 ],
 "metadata": {
  "kernelspec": {
   "display_name": "Soft-Info-fMUpUe5a",
   "language": "python",
   "name": "python3"
  },
  "language_info": {
   "codemirror_mode": {
    "name": "ipython",
    "version": 3
   },
   "file_extension": ".py",
   "mimetype": "text/x-python",
   "name": "python",
   "nbconvert_exporter": "python",
   "pygments_lexer": "ipython3",
   "version": "3.11.4"
  }
 },
 "nbformat": 4,
 "nbformat_minor": 2
}
