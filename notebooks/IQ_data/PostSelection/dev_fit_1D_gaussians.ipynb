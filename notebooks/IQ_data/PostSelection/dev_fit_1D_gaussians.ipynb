{
 "cells": [
  {
   "cell_type": "code",
   "execution_count": 1,
   "metadata": {},
   "outputs": [],
   "source": [
    "%reload_ext autoreload\n",
    "%autoreload 2"
   ]
  },
  {
   "cell_type": "markdown",
   "metadata": {},
   "source": [
    "# Load the memories"
   ]
  },
  {
   "cell_type": "code",
   "execution_count": 2,
   "metadata": {},
   "outputs": [],
   "source": [
    "from result_saver import SaverProvider\n",
    "\n",
    "provider = SaverProvider()"
   ]
  },
  {
   "cell_type": "code",
   "execution_count": 8,
   "metadata": {},
   "outputs": [
    {
     "name": "stdout",
     "output_type": "stream",
     "text": [
      "shape of mmr_0: (15748, 254)\n",
      "shape of mmr_1: (15748, 254)\n"
     ]
    }
   ],
   "source": [
    "# Manually load the two memories\n",
    "job_id_0 = \"cqz92ybczq6g0081h1t0\"\n",
    "job_id_1 = \"cqz92zvdvs8g008j5y9g\"\n",
    "\n",
    "job_0 = provider.retrieve_job(job_id_0)\n",
    "job_1 = provider.retrieve_job(job_id_1)\n",
    "\n",
    "mmr_0 = job_0.result().get_memory()\n",
    "mmr_1 = job_1.result().get_memory()\n",
    "\n",
    "print(f\"shape of mmr_0: {mmr_0.shape}\")\n",
    "print(f\"shape of mmr_1: {mmr_1.shape}\")"
   ]
  },
  {
   "cell_type": "code",
   "execution_count": 10,
   "metadata": {},
   "outputs": [
    {
     "name": "stdout",
     "output_type": "stream",
     "text": [
      "layout_0: [{\"Qubit(QuantumRegister(127, 'q'), 0)\": '0', \"Qubit(QuantumRegister(127, 'q'), 1)\": '1', \"Qubit(QuantumRegister(127, 'q'), 2)\": '2', \"Qubit(QuantumRegister(127, 'q'), 3)\": '3', \"Qubit(QuantumRegister(127, 'q'), 4)\": '4', \"Qubit(QuantumRegister(127, 'q'), 5)\": '5', \"Qubit(QuantumRegister(127, 'q'), 6)\": '6', \"Qubit(QuantumRegister(127, 'q'), 7)\": '7', \"Qubit(QuantumRegister(127, 'q'), 8)\": '8', \"Qubit(QuantumRegister(127, 'q'), 9)\": '9', \"Qubit(QuantumRegister(127, 'q'), 10)\": '10', \"Qubit(QuantumRegister(127, 'q'), 11)\": '11', \"Qubit(QuantumRegister(127, 'q'), 12)\": '12', \"Qubit(QuantumRegister(127, 'q'), 13)\": '13', \"Qubit(QuantumRegister(127, 'q'), 14)\": '14', \"Qubit(QuantumRegister(127, 'q'), 15)\": '15', \"Qubit(QuantumRegister(127, 'q'), 16)\": '16', \"Qubit(QuantumRegister(127, 'q'), 17)\": '17', \"Qubit(QuantumRegister(127, 'q'), 18)\": '18', \"Qubit(QuantumRegister(127, 'q'), 19)\": '19', \"Qubit(QuantumRegister(127, 'q'), 20)\": '20', \"Qubit(QuantumRegister(127, 'q'), 21)\": '21', \"Qubit(QuantumRegister(127, 'q'), 22)\": '22', \"Qubit(QuantumRegister(127, 'q'), 23)\": '23', \"Qubit(QuantumRegister(127, 'q'), 24)\": '24', \"Qubit(QuantumRegister(127, 'q'), 25)\": '25', \"Qubit(QuantumRegister(127, 'q'), 26)\": '26', \"Qubit(QuantumRegister(127, 'q'), 27)\": '27', \"Qubit(QuantumRegister(127, 'q'), 28)\": '28', \"Qubit(QuantumRegister(127, 'q'), 29)\": '29', \"Qubit(QuantumRegister(127, 'q'), 30)\": '30', \"Qubit(QuantumRegister(127, 'q'), 31)\": '31', \"Qubit(QuantumRegister(127, 'q'), 32)\": '32', \"Qubit(QuantumRegister(127, 'q'), 33)\": '33', \"Qubit(QuantumRegister(127, 'q'), 34)\": '34', \"Qubit(QuantumRegister(127, 'q'), 35)\": '35', \"Qubit(QuantumRegister(127, 'q'), 36)\": '36', \"Qubit(QuantumRegister(127, 'q'), 37)\": '37', \"Qubit(QuantumRegister(127, 'q'), 38)\": '38', \"Qubit(QuantumRegister(127, 'q'), 39)\": '39', \"Qubit(QuantumRegister(127, 'q'), 40)\": '40', \"Qubit(QuantumRegister(127, 'q'), 41)\": '41', \"Qubit(QuantumRegister(127, 'q'), 42)\": '42', \"Qubit(QuantumRegister(127, 'q'), 43)\": '43', \"Qubit(QuantumRegister(127, 'q'), 44)\": '44', \"Qubit(QuantumRegister(127, 'q'), 45)\": '45', \"Qubit(QuantumRegister(127, 'q'), 46)\": '46', \"Qubit(QuantumRegister(127, 'q'), 47)\": '47', \"Qubit(QuantumRegister(127, 'q'), 48)\": '48', \"Qubit(QuantumRegister(127, 'q'), 49)\": '49', \"Qubit(QuantumRegister(127, 'q'), 50)\": '50', \"Qubit(QuantumRegister(127, 'q'), 51)\": '51', \"Qubit(QuantumRegister(127, 'q'), 52)\": '52', \"Qubit(QuantumRegister(127, 'q'), 53)\": '53', \"Qubit(QuantumRegister(127, 'q'), 54)\": '54', \"Qubit(QuantumRegister(127, 'q'), 55)\": '55', \"Qubit(QuantumRegister(127, 'q'), 56)\": '56', \"Qubit(QuantumRegister(127, 'q'), 57)\": '57', \"Qubit(QuantumRegister(127, 'q'), 58)\": '58', \"Qubit(QuantumRegister(127, 'q'), 59)\": '59', \"Qubit(QuantumRegister(127, 'q'), 60)\": '60', \"Qubit(QuantumRegister(127, 'q'), 61)\": '61', \"Qubit(QuantumRegister(127, 'q'), 62)\": '62', \"Qubit(QuantumRegister(127, 'q'), 63)\": '63', \"Qubit(QuantumRegister(127, 'q'), 64)\": '64', \"Qubit(QuantumRegister(127, 'q'), 65)\": '65', \"Qubit(QuantumRegister(127, 'q'), 66)\": '66', \"Qubit(QuantumRegister(127, 'q'), 67)\": '67', \"Qubit(QuantumRegister(127, 'q'), 68)\": '68', \"Qubit(QuantumRegister(127, 'q'), 69)\": '69', \"Qubit(QuantumRegister(127, 'q'), 70)\": '70', \"Qubit(QuantumRegister(127, 'q'), 71)\": '71', \"Qubit(QuantumRegister(127, 'q'), 72)\": '72', \"Qubit(QuantumRegister(127, 'q'), 73)\": '73', \"Qubit(QuantumRegister(127, 'q'), 74)\": '74', \"Qubit(QuantumRegister(127, 'q'), 75)\": '75', \"Qubit(QuantumRegister(127, 'q'), 76)\": '76', \"Qubit(QuantumRegister(127, 'q'), 77)\": '77', \"Qubit(QuantumRegister(127, 'q'), 78)\": '78', \"Qubit(QuantumRegister(127, 'q'), 79)\": '79', \"Qubit(QuantumRegister(127, 'q'), 80)\": '80', \"Qubit(QuantumRegister(127, 'q'), 81)\": '81', \"Qubit(QuantumRegister(127, 'q'), 82)\": '82', \"Qubit(QuantumRegister(127, 'q'), 83)\": '83', \"Qubit(QuantumRegister(127, 'q'), 84)\": '84', \"Qubit(QuantumRegister(127, 'q'), 85)\": '85', \"Qubit(QuantumRegister(127, 'q'), 86)\": '86', \"Qubit(QuantumRegister(127, 'q'), 87)\": '87', \"Qubit(QuantumRegister(127, 'q'), 88)\": '88', \"Qubit(QuantumRegister(127, 'q'), 89)\": '89', \"Qubit(QuantumRegister(127, 'q'), 90)\": '90', \"Qubit(QuantumRegister(127, 'q'), 91)\": '91', \"Qubit(QuantumRegister(127, 'q'), 92)\": '92', \"Qubit(QuantumRegister(127, 'q'), 93)\": '93', \"Qubit(QuantumRegister(127, 'q'), 94)\": '94', \"Qubit(QuantumRegister(127, 'q'), 95)\": '95', \"Qubit(QuantumRegister(127, 'q'), 96)\": '96', \"Qubit(QuantumRegister(127, 'q'), 97)\": '97', \"Qubit(QuantumRegister(127, 'q'), 98)\": '98', \"Qubit(QuantumRegister(127, 'q'), 99)\": '99', \"Qubit(QuantumRegister(127, 'q'), 100)\": '100', \"Qubit(QuantumRegister(127, 'q'), 101)\": '101', \"Qubit(QuantumRegister(127, 'q'), 102)\": '102', \"Qubit(QuantumRegister(127, 'q'), 103)\": '103', \"Qubit(QuantumRegister(127, 'q'), 104)\": '104', \"Qubit(QuantumRegister(127, 'q'), 105)\": '105', \"Qubit(QuantumRegister(127, 'q'), 106)\": '106', \"Qubit(QuantumRegister(127, 'q'), 107)\": '107', \"Qubit(QuantumRegister(127, 'q'), 108)\": '108', \"Qubit(QuantumRegister(127, 'q'), 109)\": '109', \"Qubit(QuantumRegister(127, 'q'), 110)\": '110', \"Qubit(QuantumRegister(127, 'q'), 111)\": '111', \"Qubit(QuantumRegister(127, 'q'), 112)\": '112', \"Qubit(QuantumRegister(127, 'q'), 113)\": '113', \"Qubit(QuantumRegister(127, 'q'), 114)\": '114', \"Qubit(QuantumRegister(127, 'q'), 115)\": '115', \"Qubit(QuantumRegister(127, 'q'), 116)\": '116', \"Qubit(QuantumRegister(127, 'q'), 117)\": '117', \"Qubit(QuantumRegister(127, 'q'), 118)\": '118', \"Qubit(QuantumRegister(127, 'q'), 119)\": '119', \"Qubit(QuantumRegister(127, 'q'), 120)\": '120', \"Qubit(QuantumRegister(127, 'q'), 121)\": '121', \"Qubit(QuantumRegister(127, 'q'), 122)\": '122', \"Qubit(QuantumRegister(127, 'q'), 123)\": '123', \"Qubit(QuantumRegister(127, 'q'), 124)\": '124', \"Qubit(QuantumRegister(127, 'q'), 125)\": '125', \"Qubit(QuantumRegister(127, 'q'), 126)\": '126'}]\n",
      "layout_1: [{\"Qubit(QuantumRegister(127, 'q'), 0)\": '0', \"Qubit(QuantumRegister(127, 'q'), 1)\": '1', \"Qubit(QuantumRegister(127, 'q'), 2)\": '2', \"Qubit(QuantumRegister(127, 'q'), 3)\": '3', \"Qubit(QuantumRegister(127, 'q'), 4)\": '4', \"Qubit(QuantumRegister(127, 'q'), 5)\": '5', \"Qubit(QuantumRegister(127, 'q'), 6)\": '6', \"Qubit(QuantumRegister(127, 'q'), 7)\": '7', \"Qubit(QuantumRegister(127, 'q'), 8)\": '8', \"Qubit(QuantumRegister(127, 'q'), 9)\": '9', \"Qubit(QuantumRegister(127, 'q'), 10)\": '10', \"Qubit(QuantumRegister(127, 'q'), 11)\": '11', \"Qubit(QuantumRegister(127, 'q'), 12)\": '12', \"Qubit(QuantumRegister(127, 'q'), 13)\": '13', \"Qubit(QuantumRegister(127, 'q'), 14)\": '14', \"Qubit(QuantumRegister(127, 'q'), 15)\": '15', \"Qubit(QuantumRegister(127, 'q'), 16)\": '16', \"Qubit(QuantumRegister(127, 'q'), 17)\": '17', \"Qubit(QuantumRegister(127, 'q'), 18)\": '18', \"Qubit(QuantumRegister(127, 'q'), 19)\": '19', \"Qubit(QuantumRegister(127, 'q'), 20)\": '20', \"Qubit(QuantumRegister(127, 'q'), 21)\": '21', \"Qubit(QuantumRegister(127, 'q'), 22)\": '22', \"Qubit(QuantumRegister(127, 'q'), 23)\": '23', \"Qubit(QuantumRegister(127, 'q'), 24)\": '24', \"Qubit(QuantumRegister(127, 'q'), 25)\": '25', \"Qubit(QuantumRegister(127, 'q'), 26)\": '26', \"Qubit(QuantumRegister(127, 'q'), 27)\": '27', \"Qubit(QuantumRegister(127, 'q'), 28)\": '28', \"Qubit(QuantumRegister(127, 'q'), 29)\": '29', \"Qubit(QuantumRegister(127, 'q'), 30)\": '30', \"Qubit(QuantumRegister(127, 'q'), 31)\": '31', \"Qubit(QuantumRegister(127, 'q'), 32)\": '32', \"Qubit(QuantumRegister(127, 'q'), 33)\": '33', \"Qubit(QuantumRegister(127, 'q'), 34)\": '34', \"Qubit(QuantumRegister(127, 'q'), 35)\": '35', \"Qubit(QuantumRegister(127, 'q'), 36)\": '36', \"Qubit(QuantumRegister(127, 'q'), 37)\": '37', \"Qubit(QuantumRegister(127, 'q'), 38)\": '38', \"Qubit(QuantumRegister(127, 'q'), 39)\": '39', \"Qubit(QuantumRegister(127, 'q'), 40)\": '40', \"Qubit(QuantumRegister(127, 'q'), 41)\": '41', \"Qubit(QuantumRegister(127, 'q'), 42)\": '42', \"Qubit(QuantumRegister(127, 'q'), 43)\": '43', \"Qubit(QuantumRegister(127, 'q'), 44)\": '44', \"Qubit(QuantumRegister(127, 'q'), 45)\": '45', \"Qubit(QuantumRegister(127, 'q'), 46)\": '46', \"Qubit(QuantumRegister(127, 'q'), 47)\": '47', \"Qubit(QuantumRegister(127, 'q'), 48)\": '48', \"Qubit(QuantumRegister(127, 'q'), 49)\": '49', \"Qubit(QuantumRegister(127, 'q'), 50)\": '50', \"Qubit(QuantumRegister(127, 'q'), 51)\": '51', \"Qubit(QuantumRegister(127, 'q'), 52)\": '52', \"Qubit(QuantumRegister(127, 'q'), 53)\": '53', \"Qubit(QuantumRegister(127, 'q'), 54)\": '54', \"Qubit(QuantumRegister(127, 'q'), 55)\": '55', \"Qubit(QuantumRegister(127, 'q'), 56)\": '56', \"Qubit(QuantumRegister(127, 'q'), 57)\": '57', \"Qubit(QuantumRegister(127, 'q'), 58)\": '58', \"Qubit(QuantumRegister(127, 'q'), 59)\": '59', \"Qubit(QuantumRegister(127, 'q'), 60)\": '60', \"Qubit(QuantumRegister(127, 'q'), 61)\": '61', \"Qubit(QuantumRegister(127, 'q'), 62)\": '62', \"Qubit(QuantumRegister(127, 'q'), 63)\": '63', \"Qubit(QuantumRegister(127, 'q'), 64)\": '64', \"Qubit(QuantumRegister(127, 'q'), 65)\": '65', \"Qubit(QuantumRegister(127, 'q'), 66)\": '66', \"Qubit(QuantumRegister(127, 'q'), 67)\": '67', \"Qubit(QuantumRegister(127, 'q'), 68)\": '68', \"Qubit(QuantumRegister(127, 'q'), 69)\": '69', \"Qubit(QuantumRegister(127, 'q'), 70)\": '70', \"Qubit(QuantumRegister(127, 'q'), 71)\": '71', \"Qubit(QuantumRegister(127, 'q'), 72)\": '72', \"Qubit(QuantumRegister(127, 'q'), 73)\": '73', \"Qubit(QuantumRegister(127, 'q'), 74)\": '74', \"Qubit(QuantumRegister(127, 'q'), 75)\": '75', \"Qubit(QuantumRegister(127, 'q'), 76)\": '76', \"Qubit(QuantumRegister(127, 'q'), 77)\": '77', \"Qubit(QuantumRegister(127, 'q'), 78)\": '78', \"Qubit(QuantumRegister(127, 'q'), 79)\": '79', \"Qubit(QuantumRegister(127, 'q'), 80)\": '80', \"Qubit(QuantumRegister(127, 'q'), 81)\": '81', \"Qubit(QuantumRegister(127, 'q'), 82)\": '82', \"Qubit(QuantumRegister(127, 'q'), 83)\": '83', \"Qubit(QuantumRegister(127, 'q'), 84)\": '84', \"Qubit(QuantumRegister(127, 'q'), 85)\": '85', \"Qubit(QuantumRegister(127, 'q'), 86)\": '86', \"Qubit(QuantumRegister(127, 'q'), 87)\": '87', \"Qubit(QuantumRegister(127, 'q'), 88)\": '88', \"Qubit(QuantumRegister(127, 'q'), 89)\": '89', \"Qubit(QuantumRegister(127, 'q'), 90)\": '90', \"Qubit(QuantumRegister(127, 'q'), 91)\": '91', \"Qubit(QuantumRegister(127, 'q'), 92)\": '92', \"Qubit(QuantumRegister(127, 'q'), 93)\": '93', \"Qubit(QuantumRegister(127, 'q'), 94)\": '94', \"Qubit(QuantumRegister(127, 'q'), 95)\": '95', \"Qubit(QuantumRegister(127, 'q'), 96)\": '96', \"Qubit(QuantumRegister(127, 'q'), 97)\": '97', \"Qubit(QuantumRegister(127, 'q'), 98)\": '98', \"Qubit(QuantumRegister(127, 'q'), 99)\": '99', \"Qubit(QuantumRegister(127, 'q'), 100)\": '100', \"Qubit(QuantumRegister(127, 'q'), 101)\": '101', \"Qubit(QuantumRegister(127, 'q'), 102)\": '102', \"Qubit(QuantumRegister(127, 'q'), 103)\": '103', \"Qubit(QuantumRegister(127, 'q'), 104)\": '104', \"Qubit(QuantumRegister(127, 'q'), 105)\": '105', \"Qubit(QuantumRegister(127, 'q'), 106)\": '106', \"Qubit(QuantumRegister(127, 'q'), 107)\": '107', \"Qubit(QuantumRegister(127, 'q'), 108)\": '108', \"Qubit(QuantumRegister(127, 'q'), 109)\": '109', \"Qubit(QuantumRegister(127, 'q'), 110)\": '110', \"Qubit(QuantumRegister(127, 'q'), 111)\": '111', \"Qubit(QuantumRegister(127, 'q'), 112)\": '112', \"Qubit(QuantumRegister(127, 'q'), 113)\": '113', \"Qubit(QuantumRegister(127, 'q'), 114)\": '114', \"Qubit(QuantumRegister(127, 'q'), 115)\": '115', \"Qubit(QuantumRegister(127, 'q'), 116)\": '116', \"Qubit(QuantumRegister(127, 'q'), 117)\": '117', \"Qubit(QuantumRegister(127, 'q'), 118)\": '118', \"Qubit(QuantumRegister(127, 'q'), 119)\": '119', \"Qubit(QuantumRegister(127, 'q'), 120)\": '120', \"Qubit(QuantumRegister(127, 'q'), 121)\": '121', \"Qubit(QuantumRegister(127, 'q'), 122)\": '122', \"Qubit(QuantumRegister(127, 'q'), 123)\": '123', \"Qubit(QuantumRegister(127, 'q'), 124)\": '124', \"Qubit(QuantumRegister(127, 'q'), 125)\": '125', \"Qubit(QuantumRegister(127, 'q'), 126)\": '126'}]\n"
     ]
    }
   ],
   "source": [
    "# Check the layouts\n",
    "layout_0 = job_0.initial_layouts()\n",
    "layout_1 = job_1.initial_layouts()\n",
    "\n",
    "print(f\"layout_0: {layout_0}\")\n",
    "print(f\"layout_1: {layout_1}\")"
   ]
  },
  {
   "cell_type": "markdown",
   "metadata": {},
   "source": [
    "# Fit 1D gaussian"
   ]
  },
  {
   "cell_type": "code",
   "execution_count": 158,
   "metadata": {},
   "outputs": [
    {
     "name": "stdout",
     "output_type": "stream",
     "text": [
      "mmr_0_q shape: (15748, 2)\n",
      "mmr_1_q shape: (15748, 2)\n",
      "(62992,)\n"
     ]
    }
   ],
   "source": [
    "# Take data for 1 qubit\n",
    "import numpy as np\n",
    "\n",
    "QUBIT = 20\n",
    "\n",
    "# HARDCODED for 127 qubits\n",
    "mmr_0_q = mmr_0[:, [QUBIT, QUBIT+127]]\n",
    "mmr_1_q = mmr_1[:, [QUBIT, QUBIT+127]]\n",
    "\n",
    "print(f\"mmr_0_q shape: {mmr_0_q.shape}\")\n",
    "print(f\"mmr_1_q shape: {mmr_1_q.shape}\")\n",
    "\n",
    "mmr_0_1D = mmr_0_q.flatten().real\n",
    "mmr_1_1D = mmr_1_q.flatten().real\n",
    "\n",
    "mmr_total = np.concatenate((mmr_0_1D, mmr_1_1D))\n",
    "\n",
    "print(mmr_total.shape)"
   ]
  },
  {
   "cell_type": "code",
   "execution_count": 159,
   "metadata": {},
   "outputs": [
    {
     "name": "stdout",
     "output_type": "stream",
     "text": [
      "Means: [[ 0.92489397]\n",
      " [-0.92002144]]\n",
      "Coefs: [0.49867947 0.50132053]\n",
      "cov: [[0.14907872]]\n"
     ]
    }
   ],
   "source": [
    "from sklearn.mixture import GaussianMixture\n",
    "from sklearn.preprocessing import StandardScaler\n",
    "\n",
    "# Rescale the data\n",
    "scaler = StandardScaler()\n",
    "mmr_tot_scaled = scaler.fit_transform(mmr_total.reshape(-1, 1))\n",
    "\n",
    "# Fit the gmm\n",
    "gmm = GaussianMixture(n_components=2, covariance_type='tied', random_state=42)\n",
    "gmm.fit(mmr_tot_scaled)\n",
    "\n",
    "print(f\"Means: {gmm.means_}\")\n",
    "print(f\"Coefs: {gmm.weights_}\")\n",
    "print(f\"cov: {gmm.covariances_}\")"
   ]
  },
  {
   "cell_type": "markdown",
   "metadata": {},
   "source": [
    "# Plot the gaussians"
   ]
  },
  {
   "cell_type": "code",
   "execution_count": 160,
   "metadata": {},
   "outputs": [
    {
     "data": {
      "image/png": "[encoded data removed]",
      "text/plain": [
       "<Figure size 1000x500 with 1 Axes>"
      ]
     },
     "metadata": {},
     "output_type": "display_data"
    }
   ],
   "source": [
    "import matplotlib.pyplot as plt\n",
    "\n",
    "plt.figure(figsize=(10, 5))\n",
    "plt.hist(scaler.transform(mmr_0_1D.reshape(-1, 1)),\n",
    "         bins=200, alpha=0.5, label=\"mmr_0\")\n",
    "plt.hist(scaler.transform(mmr_1_1D.reshape(-1, 1)),\n",
    "         bins=200, alpha=0.5, label=\"mmr_1\")\n",
    "plt.axvline(gmm.means_[0], color='r', linestyle='dashed', linewidth=2)\n",
    "plt.axvline(gmm.means_[1], color='r', linestyle='dashed', linewidth=2)\n",
    "plt.axvline(gmm.means_[0] + np.sqrt(gmm.covariances_[0]),\n",
    "            color='g', linestyle='dashed', linewidth=2)\n",
    "plt.axvline(gmm.means_[0] - np.sqrt(gmm.covariances_[0]),\n",
    "            color='g', linestyle='dashed', linewidth=2)\n",
    "plt.axvline(gmm.means_[1] + np.sqrt(gmm.covariances_[0]),\n",
    "            color='g', linestyle='dashed', linewidth=2)\n",
    "plt.axvline(gmm.means_[1] - np.sqrt(gmm.covariances_[0]),\n",
    "            color='g', linestyle='dashed', linewidth=2)\n",
    "plt.xlabel(\"Rescaled Quadrature\")\n",
    "plt.ylabel(\"Counts\")\n",
    "plt.title(\"Histogram of the memory\")\n",
    "plt.legend()\n",
    "plt.show()"
   ]
  },
  {
   "cell_type": "markdown",
   "metadata": {},
   "source": [
    "# calculate countMat and pSoft"
   ]
  },
  {
   "cell_type": "code",
   "execution_count": 161,
   "metadata": {},
   "outputs": [
    {
     "name": "stdout",
     "output_type": "stream",
     "text": [
      "misassignment_probs_0: [1.08209740e-06 1.03674843e-05 1.00116594e-07 ... 1.07011218e-09\n",
      " 3.57577425e-03 7.38785301e-04]\n",
      "misassignment_probs_1: [9.17444874e-05 2.13298118e-09 1.91983826e-08 ... 1.82377273e-05\n",
      " 1.78535151e-06 3.30106190e-02]\n"
     ]
    }
   ],
   "source": [
    "# rescale the flat memories\n",
    "resc_0 = scaler.transform(mmr_0_1D.reshape(-1, 1))\n",
    "resc_1 = scaler.transform(mmr_1_1D.reshape(-1, 1))\n",
    "\n",
    "# Predict the labels\n",
    "countMat_0 = gmm.predict(resc_0)\n",
    "countMat_1 = gmm.predict(resc_1)\n",
    "\n",
    "# Get probs\n",
    "probs_0 = gmm.predict_proba(resc_0)\n",
    "probs_1 = gmm.predict_proba(resc_1)\n",
    "\n",
    "# Get pSoft\n",
    "\n",
    "\n",
    "def compute_misassignment_probs(probs):\n",
    "    p_high = np.max(probs, axis=1)\n",
    "    p_lower = np.min(probs, axis=1)\n",
    "    misassignment_probs = 1 / (1 + (p_high / p_lower))\n",
    "    return misassignment_probs\n",
    "\n",
    "\n",
    "pSoft_0 = compute_misassignment_probs(probs_0)\n",
    "pSoft_1 = compute_misassignment_probs(probs_1)\n",
    "\n",
    "print(f\"misassignment_probs_0: {pSoft_0}\")\n",
    "print(f\"misassignment_probs_1: {pSoft_1}\")"
   ]
  },
  {
   "cell_type": "markdown",
   "metadata": {},
   "source": [
    "# post select sure scnd msmt"
   ]
  },
  {
   "cell_type": "code",
   "execution_count": 171,
   "metadata": {},
   "outputs": [
    {
     "name": "stdout",
     "output_type": "stream",
     "text": [
      "Original data shapes: (15748, 2), (15748, 2)\n",
      "Filtered original data shapes: (14156, 2), (14153, 2)\n"
     ]
    }
   ],
   "source": [
    "threshold = 0.5e-2  # it is more certain then 0.5% misassignment\n",
    "\n",
    "# Reshape the pSoft arrays to match the original shape (N_shots, 2)\n",
    "pSoft_0_reshaped = pSoft_0.reshape(-1, 2)\n",
    "pSoft_1_reshaped = pSoft_1.reshape(-1, 2)\n",
    "\n",
    "# Apply the threshold to the second measurement's misassignment probability\n",
    "# We're interested in filtering based on the second measurement\n",
    "mask_0 = pSoft_0_reshaped[:, 1] <= threshold\n",
    "mask_1 = pSoft_1_reshaped[:, 1] <= threshold\n",
    "\n",
    "# Filter the original and scaled data based on this mask\n",
    "# Remember, each \"row\" in your reshaped arrays corresponds to two flattened points in your 1D arrays\n",
    "filtered_mmr_0_q = mmr_0_q[mask_0, :]\n",
    "filtered_mmr_1_q = mmr_1_q[mask_1, :]\n",
    "\n",
    "filtered_resc_0 = resc_0.reshape(-1, 2)[mask_0, :].flatten().reshape(-1, 1)\n",
    "filtered_resc_1 = resc_1.reshape(-1, 2)[mask_1, :].flatten().reshape(-1, 1)\n",
    "\n",
    "\n",
    "print(f\"Original data shapes: {mmr_0_q.shape}, {mmr_1_q.shape}\")\n",
    "print(f\"Filtered original data shapes: {filtered_mmr_0_q.shape}, {filtered_mmr_1_q.shape}\")\n"
   ]
  },
  {
   "cell_type": "markdown",
   "metadata": {},
   "source": [
    "# Filter the data where m2 = x'  == KDE_READY"
   ]
  },
  {
   "cell_type": "code",
   "execution_count": 174,
   "metadata": {},
   "outputs": [
    {
     "name": "stdout",
     "output_type": "stream",
     "text": [
      "mmr_0_q_KDEready shape: (6179, 2)\n",
      "mmr_1_q_KDEready shape: (6401, 2)\n"
     ]
    }
   ],
   "source": [
    "countMat_0_reshaped = countMat_0.reshape(-1, 2)\n",
    "countMat_1_reshaped = countMat_1.reshape(-1, 2)\n",
    "\n",
    "countMat_0_filtered = countMat_0_reshaped[mask_0, :]  # Apply the same mask used for pSoft_0 filtering\n",
    "countMat_1_filtered = countMat_1_reshaped[mask_1, :]  # Apply the same mask used for pSoft_1 filtering\n",
    "\n",
    "# Apply the mask to original data to align with the soft probability filtering\n",
    "mmr_0_q_filtered = mmr_0_q[mask_0]\n",
    "mmr_1_q_filtered = mmr_1_q[mask_1]\n",
    "\n",
    "mmr_0_q_KDEready = mmr_0_q_filtered[countMat_0_filtered[:, 1] == 0]\n",
    "\n",
    "# Similarly, for mmr_1_q, we filter where the prediction of the second measurement is 1\n",
    "mmr_1_q_KDEready = mmr_1_q_filtered[countMat_1_filtered[:, 1] == 1]\n",
    "\n",
    "print(f\"mmr_0_q_KDEready shape: {mmr_0_q_KDEready.shape}\")\n",
    "print(f\"mmr_1_q_KDEready shape: {mmr_1_q_KDEready.shape}\")\n"
   ]
  },
  {
   "cell_type": "markdown",
   "metadata": {},
   "source": [
    "# Get p_hard and p_soft"
   ]
  },
  {
   "cell_type": "code",
   "execution_count": 181,
   "metadata": {},
   "outputs": [
    {
     "name": "stdout",
     "output_type": "stream",
     "text": [
      "mmr_0_q_hard shape: (7754, 2)\n",
      "mmr_1_q_hard shape: (7632, 2)\n",
      "mmr_0_q_correct shape: (6112, 2)\n",
      "mmr_1_q_correct shape: (6140, 2)\n",
      "\n",
      "Previous sahpes (just psoft filtered)\n",
      "mmr_0_q_filtered shape: (14156, 2)\n",
      "mmr_1_q_filtered shape: (14153, 2)\n"
     ]
    }
   ],
   "source": [
    "mmr_0_q_hard = mmr_0_q_filtered[(countMat_0_filtered[:, 0] == 1) & (countMat_0_filtered[:, 1] == 1)]\n",
    "mmr_1_q_hard = mmr_1_q_filtered[(countMat_1_filtered[:, 0] == 0) & (countMat_1_filtered[:, 1] == 0)]\n",
    "\n",
    "mmr_0_q_correct = mmr_0_q_filtered[(countMat_0_filtered[:, 0] == 0) & (countMat_0_filtered[:, 1] == 0)]\n",
    "mmr_1_q_correct = mmr_1_q_filtered[(countMat_1_filtered[:, 0] == 1) & (countMat_1_filtered[:, 1] == 1)]\n",
    "\n",
    "print(f\"mmr_0_q_hard shape: {mmr_0_q_hard.shape}\")\n",
    "print(f\"mmr_1_q_hard shape: {mmr_1_q_hard.shape}\")\n",
    "\n",
    "\n",
    "print(f\"mmr_0_q_correct shape: {mmr_0_q_correct.shape}\")\n",
    "print(f\"mmr_1_q_correct shape: {mmr_1_q_correct.shape}\")\n",
    "\n",
    "print(\"\\nPrevious sahpes (just psoft filtered)\")\n",
    "print(f\"mmr_0_q_filtered shape: {mmr_0_q_filtered.shape}\")\n",
    "print(f\"mmr_1_q_filtered shape: {mmr_1_q_filtered.shape}\")"
   ]
  },
  {
   "cell_type": "code",
   "execution_count": 178,
   "metadata": {},
   "outputs": [
    {
     "name": "stdout",
     "output_type": "stream",
     "text": [
      "mmr_0_q_soft shape: (67, 2)\n",
      "mmr_1_q_soft shape: (261, 2)\n",
      "mmr_0_q_filtered shape: (14156, 2)\n",
      "mmr_1_q_filtered shape: (14153, 2)\n"
     ]
    }
   ],
   "source": [
    "mmr_0_q_soft = mmr_0_q_filtered[(countMat_0_filtered[:, 0] == 1) & (countMat_0_filtered[:, 1] == 0)]\n",
    "mmr_1_q_soft = mmr_1_q_filtered[(countMat_1_filtered[:, 0] == 0) & (countMat_1_filtered[:, 1] == 1)]\n",
    "\n",
    "print(f\"mmr_0_q_soft shape: {mmr_0_q_soft.shape}\")\n",
    "print(f\"mmr_1_q_soft shape: {mmr_1_q_soft.shape}\")\n",
    "\n",
    "print(f\"mmr_0_q_filtered shape: {mmr_0_q_filtered.shape}\")\n",
    "print(f\"mmr_1_q_filtered shape: {mmr_1_q_filtered.shape}\")"
   ]
  }
 ],
 "metadata": {
  "kernelspec": {
   "display_name": "Soft-Info-fMUpUe5a",
   "language": "python",
   "name": "python3"
  },
  "language_info": {
   "codemirror_mode": {
    "name": "ipython",
    "version": 3
   },
   "file_extension": ".py",
   "mimetype": "text/x-python",
   "name": "python",
   "nbconvert_exporter": "python",
   "pygments_lexer": "ipython3",
   "version": "3.11.4"
  }
 },
 "nbformat": 4,
 "nbformat_minor": 2
}
