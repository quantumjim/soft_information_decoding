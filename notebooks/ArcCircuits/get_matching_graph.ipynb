{
 "cells": [
  {
   "cell_type": "code",
   "execution_count": 1,
   "metadata": {},
   "outputs": [],
   "source": [
    "%reload_ext autoreload\n",
    "%autoreload 2"
   ]
  },
  {
   "cell_type": "code",
   "execution_count": 2,
   "metadata": {},
   "outputs": [],
   "source": [
    "from qiskit_qec.circuits import ArcCircuit\n",
    "\n",
    "links = [(0, 1, 2), (2, 3, 4), (4, 5, 6), (6, 7, 8), (8, 9, 10), (10, 11, 12), (0, 14, 18), (4, 15, 22), (8, 16, 26), (12, 17, 30), (18, 19, 20), (20, 21, 22), (22, 23, 24), (24, 25, 26), (26, 27, 28), (28, 29, 30), (30, 31, 32), (20, 33, 39), (24, 34, 43), (28, 35, 47), (32, 36, 51), (37, 38, 39), (39, 40, 41), (41, 42, 43), (43, 44, 45), (45, 46, 47), (47, 48, 49), (49, 50, 51), (37, 52, 56), (41, 53, 60), (45, 54, 64), (49, 55, 68), (56, 57, 58), (58, 59, 60), (60, 61, 62), (62, 63, 64), (64, 65, 66), (66, 67, 68), (68, 69, 70), (58, 71, 77), (62, 72, 81), (66, 73, 85), (70, 74, 89), (75, 76, 77), (77, 78, 79), (79, 80, 81), (81, 82, 83), (83, 84, 85), (85, 86, 87), (87, 88, 89), (75, 90, 94), (79, 91, 98), (83, 92, 102), (87, 93, 106), (94, 95, 96), (96, 97, 98), (98, 99, 100), (100, 101, 102), (102, 103, 104), (104, 105, 106), (106, 107, 108), (96, 109, 114), (100, 110, 118), (104, 111, 122), (108, 112, 126), (114, 115, 116), (116, 117, 118), (118, 119, 120), (120, 121, 122), (122, 123, 124), (124, 125, 126)]\n",
    "T = 20\n",
    "schedule = [[(0, 14), (2, 3), (4, 15), (6, 7), (8, 16), (10, 11), (12, 17), (18, 19), (22, 23), (26, 27), (30, 31), (20, 33), (24, 34), (28, 35), (32, 36), (39, 40), (43, 44), (47, 48), (37, 52), (41, 53), (45, 54), (49, 55), (56, 57), (60, 61), (64, 65), (68, 69), (58, 71), (62, 72), (66, 73), (70, 74), (77, 78), (81, 82), (85, 86), (75, 90), (79, 91), (83, 92), (87, 93), (94, 95), (98, 99), (102, 103), (106, 107), (96, 109), (100, 110), (104, 111), (108, 112), (114, 115), (118, 119), (122, 123)], [(0, 1), (4, 5), (8, 9), (18, 14), (22, 15), (26, 16), (30, 17), (20, 21), (24, 25), (28, 29), (39, 33), (43, 34), (47, 35), (51, 36), (37, 38), (41, 42), (45, 46), (49, 50), (56, 52), (60, 53), (64, 54), (68, 55), (58, 59), (62, 63), (66, 67), (77, 71), (81, 72), (85, 73), (89, 74), (75, 76), (79, 80), (83, 84), (87, 88), (94, 90), (98, 91), (102, 92), (106, 93), (96, 97), (100, 101), (104, 105), (114, 109), (118, 110), (122, 111), (126, 112), (116, 117), (120, 121), (124, 125)], [(2, 1), (4, 3), (6, 5), (8, 7), (10, 9), (12, 11), (22, 21), (26, 25), (30, 29), (20, 19), (24, 23), (28, 27), (32, 31), (39, 38), (43, 42), (47, 46), (51, 50), (41, 40), (45, 44), (49, 48), (60, 59), (64, 63), (68, 67), (58, 57), (62, 61), (66, 65), (70, 69), (77, 76), (81, 80), (85, 84), (89, 88), (79, 78), (83, 82), (87, 86), (98, 97), (102, 101), (106, 105), (96, 95), (100, 99), (104, 103), (108, 107), (118, 117), (122, 121), (126, 125), (116, 115), (120, 119), (124, 123)]]\n",
    "resets = False\n",
    "run_202 = False\n",
    "basis = 'zx'\n",
    "color = {0: 0, 2: 1, 4: 0, 6: 1, 8: 0, 10: 1, 12: 0, 18: 1, 22: 1, 26: 1, 30: 1, 20: 0, 24: 0, 28: 0, 32: 0, 39: 1, 43: 1, 47: 1, 51: 1, 37: 0, 41: 0, 45: 0, 49: 0, 56: 1, 60: 1, 64: 1, 68: 1, 58: 0, 62: 0, 66: 0, 70: 0, 77: 1, 81: 1, 85: 1, 89: 1, 75: 0, 79: 0, 83: 0, 87: 0, 94: 1, 98: 1, 102: 1, 106: 1, 96: 0, 100: 0, 104: 0, 108: 0, 114: 1, 118: 1, 122: 1, 126: 1, 116: 0, 120: 0, 124: 0}\n",
    "\n",
    "code = {}\n",
    "for logical in ['0', '1']:\n",
    "    code[logical] = ArcCircuit(links, T, schedule=schedule, logical=logical, resets=resets, run_202=run_202, basis=basis, color=color)"
   ]
  },
  {
   "cell_type": "code",
   "execution_count": 9,
   "metadata": {},
   "outputs": [
    {
     "ename": "AttributeError",
     "evalue": "'int' object has no attribute 'time'",
     "output_type": "error",
     "traceback": [
      "\u001b[0;31m---------------------------------------------------------------------------\u001b[0m",
      "\u001b[0;31mAttributeError\u001b[0m                            Traceback (most recent call last)",
      "\u001b[1;32m/Users/mha/My Drive/Desktop/Studium/Physik/MSc/Semester 3/IBM/IBM GIT/Soft-Info/notebooks/ArcCircuits/get_matching_graph.ipynb Cell 3\u001b[0m line \u001b[0;36m4\n\u001b[1;32m      <a href='vscode-notebook-cell:/Users/mha/My%20Drive/Desktop/Studium/Physik/MSc/Semester%203/IBM/IBM%20GIT/Soft-Info/notebooks/ArcCircuits/get_matching_graph.ipynb#W2sZmlsZQ%3D%3D?line=0'>1</a>\u001b[0m code[\u001b[39m'\u001b[39m\u001b[39m0\u001b[39m\u001b[39m'\u001b[39m]\u001b[39m.\u001b[39m_get_link_graph()\n\u001b[1;32m      <a href='vscode-notebook-cell:/Users/mha/My%20Drive/Desktop/Studium/Physik/MSc/Semester%203/IBM/IBM%20GIT/Soft-Info/notebooks/ArcCircuits/get_matching_graph.ipynb#W2sZmlsZQ%3D%3D?line=1'>2</a>\u001b[0m \u001b[39mfrom\u001b[39;00m \u001b[39msoft_info\u001b[39;00m \u001b[39mimport\u001b[39;00m rx_draw_2D\n\u001b[0;32m----> <a href='vscode-notebook-cell:/Users/mha/My%20Drive/Desktop/Studium/Physik/MSc/Semester%203/IBM/IBM%20GIT/Soft-Info/notebooks/ArcCircuits/get_matching_graph.ipynb#W2sZmlsZQ%3D%3D?line=3'>4</a>\u001b[0m rx_draw_2D(code[\u001b[39m'\u001b[39;49m\u001b[39m0\u001b[39;49m\u001b[39m'\u001b[39;49m]\u001b[39m.\u001b[39;49m_get_link_graph())\n",
      "File \u001b[0;32m~/My Drive/Desktop/Studium/Physik/MSc/Semester 3/IBM/IBM GIT/Soft-Info/src/soft_info/UnionFind/decoding_graph.py:94\u001b[0m, in \u001b[0;36mrx_draw_2D\u001b[0;34m(graph, atypical_nodes)\u001b[0m\n\u001b[1;32m     92\u001b[0m index_max \u001b[39m=\u001b[39m \u001b[39mfloat\u001b[39m(\u001b[39m'\u001b[39m\u001b[39m-inf\u001b[39m\u001b[39m'\u001b[39m)\n\u001b[1;32m     93\u001b[0m \u001b[39mfor\u001b[39;00m node \u001b[39min\u001b[39;00m graph\u001b[39m.\u001b[39mnodes():\n\u001b[0;32m---> 94\u001b[0m     time \u001b[39m=\u001b[39m node\u001b[39m.\u001b[39;49mtime\n\u001b[1;32m     95\u001b[0m     index \u001b[39m=\u001b[39m node\u001b[39m.\u001b[39mindex\n\u001b[1;32m     97\u001b[0m     \u001b[39mif\u001b[39;00m time \u001b[39mis\u001b[39;00m \u001b[39mnot\u001b[39;00m \u001b[39mNone\u001b[39;00m:\n",
      "\u001b[0;31mAttributeError\u001b[0m: 'int' object has no attribute 'time'"
     ]
    },
    {
     "data": {
      "image/png": "[encoded data removed]",
      "text/plain": [
       "<Figure size 640x480 with 1 Axes>"
      ]
     },
     "metadata": {},
     "output_type": "display_data"
    }
   ],
   "source": [
    "code['0']._get_link_graph()\n",
    "from soft_info import rx_draw_2D\n",
    "\n",
    "rx_draw_2D(code['0']._get_link_graph())"
   ]
  }
 ],
 "metadata": {
  "kernelspec": {
   "display_name": "Soft-Info-Sk8aHGSa",
   "language": "python",
   "name": "python3"
  },
  "language_info": {
   "codemirror_mode": {
    "name": "ipython",
    "version": 3
   },
   "file_extension": ".py",
   "mimetype": "text/x-python",
   "name": "python",
   "nbconvert_exporter": "python",
   "pygments_lexer": "ipython3",
   "version": "3.11.4"
  }
 },
 "nbformat": 4,
 "nbformat_minor": 2
}
