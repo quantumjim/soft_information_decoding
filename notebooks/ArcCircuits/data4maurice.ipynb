{
 "cells": [
  {
   "cell_type": "markdown",
   "metadata": {},
   "source": [
    "First we set up code circuits that should be identical to those used to generate the data. They are for ARCs that run on the whole of `'ibm_sherbrooke'`, for 20 syndrome measurement rounds without resets."
   ]
  },
  {
   "cell_type": "code",
   "execution_count": null,
   "metadata": {},
   "outputs": [],
   "source": [
    "from qiskit_qec.circuits import ArcCircuit\n",
    "\n",
    "links = [(0, 1, 2), (2, 3, 4), (4, 5, 6), (6, 7, 8), (8, 9, 10), (10, 11, 12), (0, 14, 18), (4, 15, 22), (8, 16, 26), (12, 17, 30), (18, 19, 20), (20, 21, 22), (22, 23, 24), (24, 25, 26), (26, 27, 28), (28, 29, 30), (30, 31, 32), (20, 33, 39), (24, 34, 43), (28, 35, 47), (32, 36, 51), (37, 38, 39), (39, 40, 41), (41, 42, 43), (43, 44, 45), (45, 46, 47), (47, 48, 49), (49, 50, 51), (37, 52, 56), (41, 53, 60), (45, 54, 64), (49, 55, 68), (56, 57, 58), (58, 59, 60), (60, 61, 62), (62, 63, 64), (64, 65, 66), (66, 67, 68), (68, 69, 70), (58, 71, 77), (62, 72, 81), (66, 73, 85), (70, 74, 89), (75, 76, 77), (77, 78, 79), (79, 80, 81), (81, 82, 83), (83, 84, 85), (85, 86, 87), (87, 88, 89), (75, 90, 94), (79, 91, 98), (83, 92, 102), (87, 93, 106), (94, 95, 96), (96, 97, 98), (98, 99, 100), (100, 101, 102), (102, 103, 104), (104, 105, 106), (106, 107, 108), (96, 109, 114), (100, 110, 118), (104, 111, 122), (108, 112, 126), (114, 115, 116), (116, 117, 118), (118, 119, 120), (120, 121, 122), (122, 123, 124), (124, 125, 126)]\n",
    "T = 20\n",
    "schedule = [[(0, 14), (2, 3), (4, 15), (6, 7), (8, 16), (10, 11), (12, 17), (18, 19), (22, 23), (26, 27), (30, 31), (20, 33), (24, 34), (28, 35), (32, 36), (39, 40), (43, 44), (47, 48), (37, 52), (41, 53), (45, 54), (49, 55), (56, 57), (60, 61), (64, 65), (68, 69), (58, 71), (62, 72), (66, 73), (70, 74), (77, 78), (81, 82), (85, 86), (75, 90), (79, 91), (83, 92), (87, 93), (94, 95), (98, 99), (102, 103), (106, 107), (96, 109), (100, 110), (104, 111), (108, 112), (114, 115), (118, 119), (122, 123)], [(0, 1), (4, 5), (8, 9), (18, 14), (22, 15), (26, 16), (30, 17), (20, 21), (24, 25), (28, 29), (39, 33), (43, 34), (47, 35), (51, 36), (37, 38), (41, 42), (45, 46), (49, 50), (56, 52), (60, 53), (64, 54), (68, 55), (58, 59), (62, 63), (66, 67), (77, 71), (81, 72), (85, 73), (89, 74), (75, 76), (79, 80), (83, 84), (87, 88), (94, 90), (98, 91), (102, 92), (106, 93), (96, 97), (100, 101), (104, 105), (114, 109), (118, 110), (122, 111), (126, 112), (116, 117), (120, 121), (124, 125)], [(2, 1), (4, 3), (6, 5), (8, 7), (10, 9), (12, 11), (22, 21), (26, 25), (30, 29), (20, 19), (24, 23), (28, 27), (32, 31), (39, 38), (43, 42), (47, 46), (51, 50), (41, 40), (45, 44), (49, 48), (60, 59), (64, 63), (68, 67), (58, 57), (62, 61), (66, 65), (70, 69), (77, 76), (81, 80), (85, 84), (89, 88), (79, 78), (83, 82), (87, 86), (98, 97), (102, 101), (106, 105), (96, 95), (100, 99), (104, 103), (108, 107), (118, 117), (122, 121), (126, 125), (116, 115), (120, 119), (124, 123)]]\n",
    "resets = False\n",
    "run_202 = False\n",
    "basis = 'zx'\n",
    "color = {0: 0, 2: 1, 4: 0, 6: 1, 8: 0, 10: 1, 12: 0, 18: 1, 22: 1, 26: 1, 30: 1, 20: 0, 24: 0, 28: 0, 32: 0, 39: 1, 43: 1, 47: 1, 51: 1, 37: 0, 41: 0, 45: 0, 49: 0, 56: 1, 60: 1, 64: 1, 68: 1, 58: 0, 62: 0, 66: 0, 70: 0, 77: 1, 81: 1, 85: 1, 89: 1, 75: 0, 79: 0, 83: 0, 87: 0, 94: 1, 98: 1, 102: 1, 106: 1, 96: 0, 100: 0, 104: 0, 108: 0, 114: 1, 118: 1, 122: 1, 126: 1, 116: 0, 120: 0, 124: 0}\n",
    "\n",
    "code = {}\n",
    "for logical in ['0', '1']:\n",
    "    code[logical] = ArcCircuit(links, T, schedule=schedule, resets=resets, run_202=run_202, basis=basis, color=color)"
   ]
  },
  {
   "cell_type": "code",
   "execution_count": null,
   "metadata": {},
   "outputs": [],
   "source": [
    "code['0'].num_qubits"
   ]
  },
  {
   "cell_type": "markdown",
   "metadata": {},
   "source": [
    "Then we get the data."
   ]
  },
  {
   "cell_type": "code",
   "execution_count": null,
   "metadata": {},
   "outputs": [],
   "source": [
    "import pickle\n",
    "\n",
    "with open('ibm_sherbrooke-20-False.p', 'rb') as file:\n",
    "    memory = pickle.load(file)"
   ]
  },
  {
   "cell_type": "markdown",
   "metadata": {},
   "source": [
    "The jobs used to generate this had 6 separate circuits. "
   ]
  },
  {
   "cell_type": "code",
   "execution_count": null,
   "metadata": {},
   "outputs": [],
   "source": [
    "len(memory)"
   ]
  },
  {
   "cell_type": "markdown",
   "metadata": {},
   "source": [
    "For each, we have 1000 shots."
   ]
  },
  {
   "cell_type": "code",
   "execution_count": null,
   "metadata": {},
   "outputs": [],
   "source": [
    "len(memory[0])"
   ]
  },
  {
   "cell_type": "markdown",
   "metadata": {},
   "source": [
    "For the first four circuits, the results are from ARCs. Those with indices `0` and `1` are two variants of the circuit with logical `0`, and those with indices `2` and `3` have logical `1`.\n",
    "\n",
    "For these there are 71 ancilla qubits measured over 20 rounds, and 54 data qubits measured at the end. This makes $71\\times 20+54$ measurements for every shot."
   ]
  },
  {
   "cell_type": "code",
   "execution_count": null,
   "metadata": {},
   "outputs": [],
   "source": [
    "71*20+54"
   ]
  },
  {
   "cell_type": "code",
   "execution_count": null,
   "metadata": {},
   "outputs": [],
   "source": [
    "len(memory[0][0])"
   ]
  },
  {
   "cell_type": "markdown",
   "metadata": {},
   "source": [
    "The last two circuits are those used for calibration. For the circuit at index `4`, all 127 qubits are initialized as $|0\\rangle$ and then measured. For that at `5`, they are initialized as $|1\\rangle$. So in both cases, there are only 127 measurements per shot."
   ]
  },
  {
   "cell_type": "code",
   "execution_count": null,
   "metadata": {},
   "outputs": [],
   "source": [
    "len(memory[4][0])"
   ]
  },
  {
   "cell_type": "markdown",
   "metadata": {},
   "source": [
    "I use something along the lines of the following to navigate the data."
   ]
  },
  {
   "cell_type": "code",
   "execution_count": 48,
   "metadata": {},
   "outputs": [],
   "source": [
    "class MemoryWrangler():\n",
    "    def __init__(self, code, memory):\n",
    "        self.code = code['0']\n",
    "        self.memory = memory\n",
    "        self.shots = len(memory[0])\n",
    "\n",
    "    def get_point(self, j, s, q, t=0):\n",
    "        '''\n",
    "        Get the IQ plane point for the given parameters.\n",
    "        \n",
    "        Args:\n",
    "            j: index of circuit\n",
    "            s: shot\n",
    "            q: qubit\n",
    "            t: syndrome measurment round (for j!= 4 or 5)  \n",
    "\n",
    "        Returns:\n",
    "            x,y: real and imaginary parts of the point \n",
    "        '''\n",
    "        iq_list = self.memory[j]\n",
    "        if j in range(4):\n",
    "            if q in self.code.code_index:\n",
    "                k = - self.code.num_qubits[0] + self.code.code_index[q]\n",
    "            elif q in self.code.link_index:\n",
    "                k = t*self.code.num_qubits[1] + self.code.link_index[q]\n",
    "        else:\n",
    "            k = q\n",
    "        x = iq_list[s][k].real\n",
    "        y = iq_list[s][k].imag\n",
    "        return x,y\n",
    "    \n",
    "    def get_bit_memory(self, j):\n",
    "        '''\n",
    "        Get the bit memory for the given circuit.\n",
    "\n",
    "        Args:\n",
    "            j: index of circuit\n",
    "\n",
    "        Returns:\n",
    "            bit_memory: list of bit strings for each shot\n",
    "        '''\n",
    "        bit_memory = []\n",
    "        for s in range(self.shots):\n",
    "            rawstring = ''\n",
    "            iqs = self.memory[j][s]\n",
    "            for c in iqs:\n",
    "                rawstring = str(int(c.real>0)) + rawstring\n",
    "            string = ''\n",
    "            for b, bit in enumerate(rawstring):\n",
    "                string += bit\n",
    "                if j in range(4): # put spaces in the correct places for an ARC circuit run\n",
    "                    if b == self.code.num_qubits[0]-1:\n",
    "                        string += ' '\n",
    "                    elif b > self.code.num_qubits[0] and (b-self.code.num_qubits[0]+1)%self.code.num_qubits[1] == 0:\n",
    "                        string += ' '\n",
    "            \n",
    "            if j in range(4):\n",
    "                string = string[0:-1]\n",
    "            bit_memory.append(string)\n",
    "        return bit_memory"
   ]
  },
  {
   "cell_type": "markdown",
   "metadata": {},
   "source": [
    "For example, here are the first samples of the calibration data. The first is where all qubits are prepared as $|0\\rangle$, and the second where all are prepared as $|1\\rangle$. All qubits except 13 and 113, that is, which are not measured."
   ]
  },
  {
   "cell_type": "code",
   "execution_count": 49,
   "metadata": {},
   "outputs": [
    {
     "name": "stdout",
     "output_type": "stream",
     "text": [
      "0000000000000000000000000000000000000000000100000000000000000000000000000000000000000000000000000000000000000000000000000000000\n",
      "0111111111111011111111111111111111111111111011111111111111111111011011111011111111111111111111111111111111111111101111100111111\n"
     ]
    }
   ],
   "source": [
    "wrangler = MemoryWrangler(code, memory)\n",
    "\n",
    "print(wrangler.get_bit_memory(4)[0])\n",
    "print(wrangler.get_bit_memory(5)[0])\n"
   ]
  },
  {
   "cell_type": "markdown",
   "metadata": {},
   "source": [
    "Note that the data comes in two classical registers. The right one is that for ancilla qubits, and the left one is for data qubits.\n",
    "\n",
    "Now let's do some decoding. Here's the decoder that works for ARCs."
   ]
  },
  {
   "cell_type": "code",
   "execution_count": null,
   "metadata": {},
   "outputs": [],
   "source": [
    "from qiskit_qec.decoders import UnionFindDecoder\n",
    "dec = UnionFindDecoder(code['0'], use_peeling=False)"
   ]
  },
  {
   "cell_type": "markdown",
   "metadata": {},
   "source": [
    "It's much too slow, so we'll only apply it to the first 10 samples from each circuit (this takes around 14 mins to run)."
   ]
  },
  {
   "cell_type": "code",
   "execution_count": null,
   "metadata": {},
   "outputs": [],
   "source": [
    "counts = {logical:{'0':0, '1':0} for logical in ['0', '1']}\n",
    "\n",
    "for logical in counts:\n",
    "    j0 = 2*int(logical)\n",
    "    for s in range(10):\n",
    "        for dj in [0, 1]:\n",
    "            string = wrangler.get_bit_memory(j0+dj)[s]\n",
    "            logicals = dec.process(string)\n",
    "            counts[logical][str(logicals[0])] += 1\n",
    "\n",
    "print('Logical codes for encoded 0')\n",
    "print(counts['0'])\n",
    "\n",
    "print('\\nLogical codes for encoded 1')\n",
    "print(counts['1'])"
   ]
  },
  {
   "cell_type": "code",
   "execution_count": null,
   "metadata": {},
   "outputs": [],
   "source": []
  }
 ],
 "metadata": {
  "kernelspec": {
   "display_name": "arc-decoder",
   "language": "python",
   "name": "python3"
  },
  "language_info": {
   "codemirror_mode": {
    "name": "ipython",
    "version": 3
   },
   "file_extension": ".py",
   "mimetype": "text/x-python",
   "name": "python",
   "nbconvert_exporter": "python",
   "pygments_lexer": "ipython3",
   "version": "3.10.6"
  }
 },
 "nbformat": 4,
 "nbformat_minor": 2
}
