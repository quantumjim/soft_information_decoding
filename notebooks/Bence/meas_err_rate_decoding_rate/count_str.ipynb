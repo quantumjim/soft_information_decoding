{
 "cells": [
  {
   "cell_type": "code",
   "execution_count": 4,
   "metadata": {},
   "outputs": [
    {
     "name": "stdout",
     "output_type": "stream",
     "text": [
      "Reversed string: 1 1 1 01\n",
      "Count string: 01\n",
      "Check string: 1 1 1\n",
      "Number of measurement rounds (T):3\n",
      "Check string parts T (not T):1\n",
      "1\n",
      "1\n",
      "_reset = True: Detector str parts:1\n",
      "0\n",
      "0\n",
      "XOR result: 1\n",
      "Detector str parts after count detector:1000"
     ]
    },
    {
     "data": {
      "text/plain": [
       "[1, 0, 0, 0]"
      ]
     },
     "execution_count": 4,
     "metadata": {},
     "output_type": "execute_result"
    }
   ],
   "source": [
    "from cpp_soft_info import counts_to_det_syndr\n",
    "\n",
    "count_str = \"10 1 1 1\"\n",
    "counts_to_det_syndr(count_str, True, True)"
   ]
  }
 ],
 "metadata": {
  "kernelspec": {
   "display_name": "Soft-Info-fMUpUe5a",
   "language": "python",
   "name": "python3"
  },
  "language_info": {
   "codemirror_mode": {
    "name": "ipython",
    "version": 3
   },
   "file_extension": ".py",
   "mimetype": "text/x-python",
   "name": "python",
   "nbconvert_exporter": "python",
   "pygments_lexer": "ipython3",
   "version": "3.11.4"
  }
 },
 "nbformat": 4,
 "nbformat_minor": 2
}
