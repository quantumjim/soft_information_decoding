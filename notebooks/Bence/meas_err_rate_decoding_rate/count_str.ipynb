{
 "cells": [
  {
   "cell_type": "code",
   "execution_count": 6,
   "metadata": {},
   "outputs": [
    {
     "name": "stdout",
     "output_type": "stream",
     "text": [
      "Reversed string: 10 00 10 010\n",
      "Count string: 010\n",
      "Check string: 10 00 10\n",
      "Number of measurement rounds (T):3\n",
      "Check string parts T (not T):10\n",
      "00\n",
      "10\n",
      "_reset = False: Syndrome meas outcomes:10\n",
      "10\n",
      "10\n",
      "_reset = False: Detector str parts:10\n",
      "00\n",
      "00\n",
      "XOR result: 11\n",
      "_reset = False: meas_str_parts[T-1]:10\n",
      "Detector str parts after count detector:10000001"
     ]
    },
    {
     "data": {
      "text/plain": [
       "[1, 0, 0, 0, 0, 0, 0, 1]"
      ]
     },
     "execution_count": 6,
     "metadata": {},
     "output_type": "execute_result"
    }
   ],
   "source": [
    "from src.cpp_soft_info import counts_to_det_syndr\n",
    "\n",
    "count_str = '010 01 00 01'\n",
    "counts_to_det_syndr(count_str, False, True)"
   ]
  },
  {
   "cell_type": "code",
   "execution_count": 7,
   "metadata": {},
   "outputs": [
    {
     "name": "stdout",
     "output_type": "stream",
     "text": [
      "Reversed string: 10 00 01 100\n",
      "Count string: 100\n",
      "Check string: 10 00 01\n",
      "Number of measurement rounds (T):3\n",
      "Check string parts T (not T):"
     ]
    },
    {
     "data": {
      "text/plain": [
       "[1, 0, 1, 0, 0, 1, 1, 1]"
      ]
     },
     "execution_count": 7,
     "metadata": {},
     "output_type": "execute_result"
    },
    {
     "name": "stdout",
     "output_type": "stream",
     "text": [
      "10\n",
      "00\n",
      "01\n",
      "_reset = True: Detector str parts:10\n",
      "10\n",
      "01\n",
      "XOR result: 10\n",
      "Detector str parts after count detector:10100111"
     ]
    }
   ],
   "source": [
    "count_str = \"001 10 00 01\"\n",
    "counts_to_det_syndr(count_str, True, True)"
   ]
  },
  {
   "cell_type": "code",
   "execution_count": null,
   "metadata": {},
   "outputs": [],
   "source": [
    "\"010 11 00 00\" # counts\n",
    "'010 01 00 00' # counts to no reset"
   ]
  },
  {
   "cell_type": "code",
   "execution_count": null,
   "metadata": {},
   "outputs": [],
   "source": []
  }
 ],
 "metadata": {
  "kernelspec": {
   "display_name": "Soft-Info-fMUpUe5a",
   "language": "python",
   "name": "python3"
  },
  "language_info": {
   "codemirror_mode": {
    "name": "ipython",
    "version": 3
   },
   "file_extension": ".py",
   "mimetype": "text/x-python",
   "name": "python",
   "nbconvert_exporter": "python",
   "pygments_lexer": "ipython3",
   "version": "3.11.4"
  }
 },
 "nbformat": 4,
 "nbformat_minor": 2
}
