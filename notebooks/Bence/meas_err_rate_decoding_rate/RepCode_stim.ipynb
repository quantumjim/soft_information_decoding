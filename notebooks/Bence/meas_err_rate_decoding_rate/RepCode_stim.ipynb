{
 "cells": [
  {
   "cell_type": "code",
   "execution_count": 104,
   "metadata": {},
   "outputs": [],
   "source": [
    "import stim\n",
    "import pymatching\n",
    "\n",
    "\n",
    "DISTANCE = 6\n",
    "ROUNDS = 20\n",
    "\n",
    "after_clifford_depolarization = 1e-2\n",
    "after_reset_flip_probability = 1e-2\n",
    "before_measure_flip_probability = 1e-2 \n",
    "before_round_data_depolarization = 1e-2\n",
    "\n",
    "circuit = stim.Circuit.generated(\"repetition_code:memory\",\n",
    "                                distance=DISTANCE,\n",
    "                                rounds=ROUNDS,\n",
    "                                after_clifford_depolarization=after_clifford_depolarization, #two-qubit-fidelity,\n",
    "                                after_reset_flip_probability=after_reset_flip_probability, #reset error,\n",
    "                                before_measure_flip_probability=before_measure_flip_probability, #measurement error,\n",
    "                                before_round_data_depolarization=before_round_data_depolarization) #idle error)\n",
    "# print(circuit)\n",
    "\n",
    "model = circuit.detector_error_model(decompose_errors=True)\n",
    "matching = pymatching.Matching.from_detector_error_model(model)"
   ]
  },
  {
   "cell_type": "code",
   "execution_count": 105,
   "metadata": {},
   "outputs": [
    {
     "name": "stdout",
     "output_type": "stream",
     "text": [
      "(10000, 106)\n",
      "[[False False False ... False False False]\n",
      " [False False False ... False  True False]\n",
      " [False False False ... False False False]\n",
      " ...\n",
      " [False False False ... False False False]\n",
      " [False False  True ... False False False]\n",
      " [False False False ... False  True False]]\n"
     ]
    }
   ],
   "source": [
    "syndromes = circuit.compile_detector_sampler().sample(int(1e4), append_observables=True)\n",
    "print(syndromes.shape)\n",
    "print(syndromes)\n",
    "\n"
   ]
  },
  {
   "cell_type": "code",
   "execution_count": 126,
   "metadata": {},
   "outputs": [],
   "source": [
    "circuit = stim.Circuit.generated(\"repetition_code:memory\",\n",
    "                                distance=DISTANCE,\n",
    "                                rounds=ROUNDS,\n",
    "                                after_clifford_depolarization=after_clifford_depolarization, #two-qubit-fidelity,\n",
    "                                after_reset_flip_probability=after_reset_flip_probability, #reset error,\n",
    "                                before_measure_flip_probability=30e-2, #measurement error,\n",
    "                                before_round_data_depolarization=before_round_data_depolarization) #idle error)\n",
    "\n",
    "\n",
    "model = circuit.detector_error_model(decompose_errors=True)\n",
    "matching = pymatching.Matching.from_detector_error_model(model)"
   ]
  },
  {
   "cell_type": "code",
   "execution_count": 127,
   "metadata": {},
   "outputs": [
    {
     "name": "stdout",
     "output_type": "stream",
     "text": [
      "Error rate: 163 out of: 10000 total\n"
     ]
    }
   ],
   "source": [
    "num_err = 0\n",
    "\n",
    "for i in range(len(syndromes))[:]:\n",
    "    predicted_flip = matching.decode(syndromes[i][:-1])\n",
    "    if bool(predicted_flip[0]) != (syndromes[i][-1]):\n",
    "        num_err += 1\n",
    "\n",
    "print(\"Error rate:\", num_err, \"out of:\", len(syndromes), \"total\")  \n",
    "\n"
   ]
  },
  {
   "cell_type": "code",
   "execution_count": null,
   "metadata": {},
   "outputs": [],
   "source": []
  },
  {
   "cell_type": "code",
   "execution_count": null,
   "metadata": {},
   "outputs": [],
   "source": []
  }
 ],
 "metadata": {
  "kernelspec": {
   "display_name": "Soft-Info-fMUpUe5a",
   "language": "python",
   "name": "python3"
  },
  "language_info": {
   "codemirror_mode": {
    "name": "ipython",
    "version": 3
   },
   "file_extension": ".py",
   "mimetype": "text/x-python",
   "name": "python",
   "nbconvert_exporter": "python",
   "pygments_lexer": "ipython3",
   "version": "3.11.4"
  }
 },
 "nbformat": 4,
 "nbformat_minor": 2
}
