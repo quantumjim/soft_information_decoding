{
 "cells": [
  {
   "cell_type": "code",
   "execution_count": 1,
   "metadata": {},
   "outputs": [
    {
     "name": "stdout",
     "output_type": "stream",
     "text": [
      "R 0 1 2 3 4 5 6 7 8 9 10 11 12\n",
      "X_ERROR(0.01) 0 1 2 3 4 5 6 7 8 9 10 11 12\n",
      "TICK\n",
      "DEPOLARIZE1(0.01) 0 2 4 6 8 10 12\n",
      "CX 0 1 2 3 4 5 6 7 8 9 10 11\n",
      "DEPOLARIZE2(0.08) 0 1 2 3 4 5 6 7 8 9 10 11\n",
      "TICK\n",
      "CX 2 1 4 3 6 5 8 7 10 9 12 11\n",
      "DEPOLARIZE2(0.08) 2 1 4 3 6 5 8 7 10 9 12 11\n",
      "TICK\n",
      "X_ERROR(0.01) 1 3 5 7 9 11\n",
      "M 1 3 5 7 9 11\n",
      "X_ERROR(0.01) 1 3 5 7 9 11\n",
      "DETECTOR(1, 0) rec[-6]\n",
      "DETECTOR(3, 0) rec[-5]\n",
      "DETECTOR(5, 0) rec[-4]\n",
      "DETECTOR(7, 0) rec[-3]\n",
      "DETECTOR(9, 0) rec[-2]\n",
      "DETECTOR(11, 0) rec[-1]\n",
      "REPEAT 6 {\n",
      "    TICK\n",
      "    DEPOLARIZE1(0.01) 0 2 4 6 8 10 12\n",
      "    CX 0 1 2 3 4 5 6 7 8 9 10 11\n",
      "    DEPOLARIZE2(0.08) 0 1 2 3 4 5 6 7 8 9 10 11\n",
      "    TICK\n",
      "    CX 2 1 4 3 6 5 8 7 10 9 12 11\n",
      "    DEPOLARIZE2(0.08) 2 1 4 3 6 5 8 7 10 9 12 11\n",
      "    TICK\n",
      "    X_ERROR(0.01) 1 3 5 7 9 11\n",
      "    M 1 3 5 7 9 11\n",
      "    X_ERROR(0.01) 1 3 5 7 9 11\n",
      "    SHIFT_COORDS(0, 1)\n",
      "    DETECTOR(1, 0) rec[-6] rec[-12]\n",
      "    DETECTOR(3, 0) rec[-5] rec[-11]\n",
      "    DETECTOR(5, 0) rec[-4] rec[-10]\n",
      "    DETECTOR(7, 0) rec[-3] rec[-9]\n",
      "    DETECTOR(9, 0) rec[-2] rec[-8]\n",
      "    DETECTOR(11, 0) rec[-1] rec[-7]\n",
      "}\n",
      "X_ERROR(0.01) 0 2 4 6 8 10 12\n",
      "M 0 2 4 6 8 10 12\n",
      "DETECTOR(1, 1) rec[-6] rec[-7] rec[-13]\n",
      "DETECTOR(3, 1) rec[-5] rec[-6] rec[-12]\n",
      "DETECTOR(5, 1) rec[-4] rec[-5] rec[-11]\n",
      "DETECTOR(7, 1) rec[-3] rec[-4] rec[-10]\n",
      "DETECTOR(9, 1) rec[-2] rec[-3] rec[-9]\n",
      "DETECTOR(11, 1) rec[-1] rec[-2] rec[-8]\n",
      "OBSERVABLE_INCLUDE(0) rec[-1]\n"
     ]
    }
   ],
   "source": [
    "import stim\n",
    "import pymatching\n",
    "from soft_info import RepCodeIQSimulator\n",
    "\n",
    "\n",
    "DISTANCE = 7\n",
    "ROUNDS = 7\n",
    "\n",
    "after_clifford_depolarization = 8e-2\n",
    "after_reset_flip_probability = 1e-2\n",
    "before_measure_flip_probability = 1e-2 \n",
    "before_round_data_depolarization = 1e-2\n",
    "\n",
    "# circuit = stim.Circuit.generated(\"repetition_code:memory\",\n",
    "#                                 distance=DISTANCE,\n",
    "#                                 rounds=ROUNDS,\n",
    "#                                 after_clifford_depolarization=after_clifford_depolarization, #two-qubit-fidelity,\n",
    "#                                 after_reset_flip_probability=after_reset_flip_probability, #reset error,\n",
    "#                                 before_measure_flip_probability=before_measure_flip_probability, #measurement error,\n",
    "#                                 before_round_data_depolarization=before_round_data_depolarization) #idle error)\n",
    "\n",
    "\n",
    "model = circuit.detector_error_model(decompose_errors=True)\n",
    "matching = pymatching.Matching.from_detector_error_model(model)\n",
    "# print(circuit)\n",
    "\n",
    "\n",
    "# circuit.to_file(\"stim\")\n",
    "for i in circuit:\n",
    "    if i.name == 'MR':\n",
    "        continue\n",
    "\n",
    "\n",
    "\n",
    "circuit2 = stim.Circuit.from_file(\"stim\")\n",
    "print(circuit2)"
   ]
  },
  {
   "cell_type": "code",
   "execution_count": 15,
   "metadata": {},
   "outputs": [
    {
     "data": {
      "text/plain": [
       "array([[False, False, False, ..., False, False, False],\n",
       "       [ True, False, False, ..., False,  True, False],\n",
       "       [ True,  True, False, ..., False,  True, False],\n",
       "       ...,\n",
       "       [False,  True, False, ..., False,  True, False],\n",
       "       [False, False,  True, ..., False,  True,  True],\n",
       "       [False, False, False, ..., False, False, False]])"
      ]
     },
     "execution_count": 15,
     "metadata": {},
     "output_type": "execute_result"
    }
   ],
   "source": [
    "meas = circuit2.compile_sampler().sample(1000)\n",
    "meas"
   ]
  },
  {
   "cell_type": "code",
   "execution_count": 13,
   "metadata": {},
   "outputs": [
    {
     "name": "stdout",
     "output_type": "stream",
     "text": [
      "(1000, 49)\n",
      "[[False  True  True ... False False False]\n",
      " [False False False ... False False False]\n",
      " [ True False  True ... False False  True]\n",
      " ...\n",
      " [ True False  True ...  True False False]\n",
      " [False False False ...  True False  True]\n",
      " [False False False ... False False False]]\n"
     ]
    }
   ],
   "source": [
    "syndromes = circuit.compile_detector_sampler().sample(1000, append_observables=True)\n",
    "print(syndromes.shape)\n",
    "print(syndromes)\n",
    "\n"
   ]
  },
  {
   "cell_type": "code",
   "execution_count": 61,
   "metadata": {},
   "outputs": [],
   "source": [
    "circuit = stim.Circuit.generated(\"repetition_code:memory\",\n",
    "                                distance=DISTANCE,\n",
    "                                rounds=ROUNDS,\n",
    "                                after_clifford_depolarization=after_clifford_depolarization, #two-qubit-fidelity,\n",
    "                                after_reset_flip_probability=after_reset_flip_probability, #reset error,\n",
    "                                before_measure_flip_probability=1e-8, #measurement error,\n",
    "                                before_round_data_depolarization=before_round_data_depolarization) #idle error)\n",
    "# print(circuit)\n",
    "\n",
    "model = circuit.detector_error_model(decompose_errors=True)\n",
    "matching = pymatching.Matching.from_detector_error_model(model)"
   ]
  },
  {
   "cell_type": "code",
   "execution_count": 62,
   "metadata": {},
   "outputs": [
    {
     "name": "stdout",
     "output_type": "stream",
     "text": [
      "Error rate: 74 out of: 1000 total\n"
     ]
    }
   ],
   "source": [
    "num_err = 0\n",
    "\n",
    "for i in range(len(syndromes)):\n",
    "    predicted_flip = matching.decode(syndromes[i][:-1])\n",
    "    if bool(predicted_flip[0]) != (syndromes[i][-1]):\n",
    "\n",
    "        num_err += 1\n",
    "\n",
    "print(\"Error rate:\", num_err, \"out of:\", len(syndromes), \"total\")  \n",
    "\n"
   ]
  },
  {
   "cell_type": "code",
   "execution_count": null,
   "metadata": {},
   "outputs": [],
   "source": []
  }
 ],
 "metadata": {
  "kernelspec": {
   "display_name": "Soft-Info-fMUpUe5a",
   "language": "python",
   "name": "python3"
  },
  "language_info": {
   "codemirror_mode": {
    "name": "ipython",
    "version": 3
   },
   "file_extension": ".py",
   "mimetype": "text/x-python",
   "name": "python",
   "nbconvert_exporter": "python",
   "pygments_lexer": "ipython3",
   "version": "3.11.4"
  }
 },
 "nbformat": 4,
 "nbformat_minor": 2
}
