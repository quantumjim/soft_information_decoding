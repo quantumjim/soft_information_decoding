{
 "cells": [
  {
   "cell_type": "code",
   "execution_count": 7,
   "metadata": {},
   "outputs": [],
   "source": [
    "import stim\n",
    "import numpy as np\n",
    "\n",
    "distance = 3\n",
    "rounds = 1\n",
    "noise_list = np.array([1, 1, 2, 1])* 1e-2\n",
    "\n",
    "circuit = stim.Circuit.generated(\"repetition_code:memory\",\n",
    "                                distance=distance,\n",
    "                                rounds=rounds)"
   ]
  },
  {
   "cell_type": "code",
   "execution_count": 8,
   "metadata": {},
   "outputs": [
    {
     "name": "stdout",
     "output_type": "stream",
     "text": [
      "R 0 1 2 3 4\n",
      "TICK\n",
      "CX 0 1 2 3\n",
      "TICK\n",
      "CX 2 1 4 3\n",
      "TICK\n",
      "MR 1 3\n",
      "DETECTOR(1, 0) rec[-2]\n",
      "DETECTOR(3, 0) rec[-1]\n",
      "M 0 2 4\n",
      "DETECTOR(1, 1) rec[-2] rec[-3] rec[-5]\n",
      "DETECTOR(3, 1) rec[-1] rec[-2] rec[-4]\n",
      "OBSERVABLE_INCLUDE(0) rec[-1]\n"
     ]
    }
   ],
   "source": [
    "print(circuit)"
   ]
  },
  {
   "cell_type": "code",
   "execution_count": 9,
   "metadata": {},
   "outputs": [],
   "source": [
    "import stim\n",
    "import numpy as np\n",
    "\n",
    "distance = 5\n",
    "rounds = 1\n",
    "noise_list = np.array([1, 1, 2, 1])* 1e-2\n",
    "\n",
    "circuit = stim.Circuit.generated(\"repetition_code:memory\",\n",
    "                                distance=distance,\n",
    "                                rounds=rounds,\n",
    "                                after_clifford_depolarization=noise_list[0], #two-qubit-fidelity,\n",
    "                                after_reset_flip_probability=noise_list[1], #reset error,\n",
    "                                before_measure_flip_probability=noise_list[2], #measurement error,\n",
    "                                before_round_data_depolarization=noise_list[3]) #idle error)"
   ]
  },
  {
   "cell_type": "code",
   "execution_count": 10,
   "metadata": {},
   "outputs": [
    {
     "name": "stdout",
     "output_type": "stream",
     "text": [
      "R 0 1 2 3 4 5 6 7 8\n",
      "X_ERROR(0.01) 0 1 2 3 4 5 6 7 8\n",
      "TICK\n",
      "DEPOLARIZE1(0.01) 0 2 4 6 8\n",
      "CX 0 1 2 3 4 5 6 7\n",
      "DEPOLARIZE2(0.01) 0 1 2 3 4 5 6 7\n",
      "TICK\n",
      "CX 2 1 4 3 6 5 8 7\n",
      "DEPOLARIZE2(0.01) 2 1 4 3 6 5 8 7\n",
      "TICK\n",
      "X_ERROR(0.02) 1 3 5 7\n",
      "MR 1 3 5 7\n",
      "X_ERROR(0.01) 1 3 5 7\n",
      "DETECTOR(1, 0) rec[-4]\n",
      "DETECTOR(3, 0) rec[-3]\n",
      "DETECTOR(5, 0) rec[-2]\n",
      "DETECTOR(7, 0) rec[-1]\n",
      "X_ERROR(0.02) 0 2 4 6 8\n",
      "M 0 2 4 6 8\n",
      "DETECTOR(1, 1) rec[-4] rec[-5] rec[-9]\n",
      "DETECTOR(3, 1) rec[-3] rec[-4] rec[-8]\n",
      "DETECTOR(5, 1) rec[-2] rec[-3] rec[-7]\n",
      "DETECTOR(7, 1) rec[-1] rec[-2] rec[-6]\n",
      "OBSERVABLE_INCLUDE(0) rec[-1]\n"
     ]
    }
   ],
   "source": [
    "print(circuit)"
   ]
  },
  {
   "cell_type": "code",
   "execution_count": 11,
   "metadata": {},
   "outputs": [
    {
     "name": "stdout",
     "output_type": "stream",
     "text": [
      "R 0 1 2 3 4 5 6 7 8\n",
      "X_ERROR(0.01) 0 1 2 3 4 5 6 7 8\n",
      "TICK\n",
      "DEPOLARIZE1(0.01) 0 2 4 6 8\n",
      "CX 0 1 2 3 4 5 6 7\n",
      "DEPOLARIZE1(0.001) 0\n",
      "DEPOLARIZE2(0.01) 0 1 2 3 4 5 6 7\n",
      "TICK\n",
      "CX 2 1 4 3 6 5 8 7\n",
      "DEPOLARIZE2(0.01) 2 1 4 3 6 5 8 7\n",
      "TICK\n",
      "X_ERROR(0.02) 1 3 5 7\n",
      "MR 1 3 5 7\n",
      "X_ERROR(0.01) 1 3 5 7\n",
      "DETECTOR(1, 0) rec[-4]\n",
      "DETECTOR(3, 0) rec[-3]\n",
      "DETECTOR(5, 0) rec[-2]\n",
      "DETECTOR(7, 0) rec[-1]\n",
      "X_ERROR(0.02) 0 2 4 6 8\n",
      "M 0 2 4 6 8\n",
      "DETECTOR(1, 1) rec[-4] rec[-5] rec[-9]\n",
      "DETECTOR(3, 1) rec[-3] rec[-4] rec[-8]\n",
      "DETECTOR(5, 1) rec[-2] rec[-3] rec[-7]\n",
      "DETECTOR(7, 1) rec[-1] rec[-2] rec[-6]\n",
      "OBSERVABLE_INCLUDE(0) rec[-1]\n"
     ]
    }
   ],
   "source": [
    "new_circuit = stim.Circuit()\n",
    "\n",
    "for instr in circuit:\n",
    "    new_circuit.append_operation(instr)\n",
    "    if instr.name == 'CX' and stim.GateTarget(0) in instr.targets_copy():\n",
    "        new_circuit.append_operation('DEPOLARIZE1', 0, arg=0.001) \n",
    "        \n",
    "\n",
    "\n",
    "print(new_circuit)\n",
    "\n",
    "    \n"
   ]
  },
  {
   "cell_type": "code",
   "execution_count": 6,
   "metadata": {},
   "outputs": [
    {
     "data": {
      "image/png": "[encoded data removed]",
      "text/plain": [
       "<Figure size 300x300 with 1 Axes>"
      ]
     },
     "metadata": {},
     "output_type": "display_data"
    }
   ],
   "source": [
    "from soft_info import draw_matching_graph\n",
    "import pymatching\n",
    "\n",
    "matching = pymatching.Matching(circuit.detector_error_model())\n",
    "\n",
    "draw_matching_graph(matching, distance, rounds, figsize=(3,3), scale_factor=0.5)\n"
   ]
  },
  {
   "cell_type": "code",
   "execution_count": 7,
   "metadata": {},
   "outputs": [
    {
     "data": {
      "image/png": "[encoded data removed]",
      "text/plain": [
       "<Figure size 300x300 with 1 Axes>"
      ]
     },
     "metadata": {},
     "output_type": "display_data"
    }
   ],
   "source": [
    "from soft_info import draw_matching_graph\n",
    "import pymatching\n",
    "\n",
    "matching = pymatching.Matching(new_circuit.detector_error_model())\n",
    "\n",
    "draw_matching_graph(matching, distance, rounds, figsize=(3,3), scale_factor=0.5)\n"
   ]
  },
  {
   "cell_type": "code",
   "execution_count": null,
   "metadata": {},
   "outputs": [],
   "source": []
  }
 ],
 "metadata": {
  "kernelspec": {
   "display_name": "Soft-Info-fMUpUe5a",
   "language": "python",
   "name": "python3"
  },
  "language_info": {
   "codemirror_mode": {
    "name": "ipython",
    "version": 3
   },
   "file_extension": ".py",
   "mimetype": "text/x-python",
   "name": "python",
   "nbconvert_exporter": "python",
   "pygments_lexer": "ipython3",
   "version": "3.11.4"
  }
 },
 "nbformat": 4,
 "nbformat_minor": 2
}
