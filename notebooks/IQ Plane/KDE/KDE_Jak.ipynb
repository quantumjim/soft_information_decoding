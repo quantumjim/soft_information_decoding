{
 "cells": [
  {
   "cell_type": "code",
   "execution_count": 1,
   "metadata": {},
   "outputs": [
    {
     "ename": "ModuleNotFoundError",
     "evalue": "No module named 'scratch'",
     "output_type": "error",
     "traceback": [
      "\u001b[0;31m---------------------------------------------------------------------------\u001b[0m",
      "\u001b[0;31mModuleNotFoundError\u001b[0m                       Traceback (most recent call last)",
      "\u001b[1;32m/Users/mha/My Drive/Desktop/Studium/Physik/Master/Semester 3/IBM/IBM GIT/Soft-Info/soft-info/IQ Plane/KDE/KDE_Jak.ipynb Cell 1\u001b[0m line \u001b[0;36m6\n\u001b[1;32m      <a href='vscode-notebook-cell:/Users/mha/My%20Drive/Desktop/Studium/Physik/Master/Semester%203/IBM/IBM%20GIT/Soft-Info/soft-info/IQ%20Plane/KDE/KDE_Jak.ipynb#W0sZmlsZQ%3D%3D?line=3'>4</a>\u001b[0m sys\u001b[39m.\u001b[39mpath\u001b[39m.\u001b[39mappend(\u001b[39m\"\u001b[39m\u001b[39m../UF\u001b[39m\u001b[39m\"\u001b[39m)\n\u001b[1;32m      <a href='vscode-notebook-cell:/Users/mha/My%20Drive/Desktop/Studium/Physik/Master/Semester%203/IBM/IBM%20GIT/Soft-Info/soft-info/IQ%20Plane/KDE/KDE_Jak.ipynb#W0sZmlsZQ%3D%3D?line=4'>5</a>\u001b[0m sys\u001b[39m.\u001b[39mpath\u001b[39m.\u001b[39mappend(\u001b[39m\"\u001b[39m\u001b[39m../.Scratch/\u001b[39m\u001b[39m\"\u001b[39m)\n\u001b[0;32m----> <a href='vscode-notebook-cell:/Users/mha/My%20Drive/Desktop/Studium/Physik/Master/Semester%203/IBM/IBM%20GIT/Soft-Info/soft-info/IQ%20Plane/KDE/KDE_Jak.ipynb#W0sZmlsZQ%3D%3D?line=5'>6</a>\u001b[0m \u001b[39mfrom\u001b[39;00m \u001b[39mscratch\u001b[39;00m \u001b[39mimport\u001b[39;00m get_job_data, load_memory_from_json\n\u001b[1;32m      <a href='vscode-notebook-cell:/Users/mha/My%20Drive/Desktop/Studium/Physik/Master/Semester%203/IBM/IBM%20GIT/Soft-Info/soft-info/IQ%20Plane/KDE/KDE_Jak.ipynb#W0sZmlsZQ%3D%3D?line=6'>7</a>\u001b[0m get_ipython()\u001b[39m.\u001b[39mrun_line_magic(\u001b[39m'\u001b[39m\u001b[39mload_ext\u001b[39m\u001b[39m'\u001b[39m, \u001b[39m'\u001b[39m\u001b[39mautoreload\u001b[39m\u001b[39m'\u001b[39m)\n\u001b[1;32m      <a href='vscode-notebook-cell:/Users/mha/My%20Drive/Desktop/Studium/Physik/Master/Semester%203/IBM/IBM%20GIT/Soft-Info/soft-info/IQ%20Plane/KDE/KDE_Jak.ipynb#W0sZmlsZQ%3D%3D?line=7'>8</a>\u001b[0m get_ipython()\u001b[39m.\u001b[39mrun_line_magic(\u001b[39m'\u001b[39m\u001b[39mautoreload\u001b[39m\u001b[39m'\u001b[39m, \u001b[39m'\u001b[39m\u001b[39m'\u001b[39m)\n",
      "\u001b[0;31mModuleNotFoundError\u001b[0m: No module named 'scratch'"
     ]
    }
   ],
   "source": [
    "import sys\n",
    "sys.path.append(\"UF\")\n",
    "sys.path.append(\"..\")\n",
    "sys.path.append(\"../UF\")\n",
    "sys.path.append(\"../.Scratch/\")\n",
    "from scratch import get_job_data, load_memory_from_json\n",
    "%load_ext autoreload\n",
    "%autoreload \n",
    "%reload_ext autoreload"
   ]
  },
  {
   "cell_type": "code",
   "execution_count": null,
   "metadata": {},
   "outputs": [],
   "source": []
  }
 ],
 "metadata": {
  "kernelspec": {
   "display_name": "Soft-Info-kp2AnOc1",
   "language": "python",
   "name": "python3"
  },
  "language_info": {
   "codemirror_mode": {
    "name": "ipython",
    "version": 3
   },
   "file_extension": ".py",
   "mimetype": "text/x-python",
   "name": "python",
   "nbconvert_exporter": "python",
   "pygments_lexer": "ipython3",
   "version": "3.11.4"
  }
 },
 "nbformat": 4,
 "nbformat_minor": 2
}
