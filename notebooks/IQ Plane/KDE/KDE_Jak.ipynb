{
 "cells": [
  {
   "cell_type": "code",
   "execution_count": 37,
   "metadata": {},
   "outputs": [
    {
     "name": "stdout",
     "output_type": "stream",
     "text": [
      "The autoreload extension is already loaded. To reload it, use:\n",
      "  %reload_ext autoreload\n"
     ]
    }
   ],
   "source": [
    "%load_ext autoreload\n",
    "%autoreload "
   ]
  },
  {
   "cell_type": "code",
   "execution_count": 9,
   "metadata": {},
   "outputs": [],
   "source": [
    "from Scratch import get_job_data, load_memory_from_json\n",
    "from soft_info.UnionFind import get_counts"
   ]
  },
  {
   "cell_type": "markdown",
   "metadata": {},
   "source": [
    "# Generate data"
   ]
  },
  {
   "cell_type": "code",
   "execution_count": 3,
   "metadata": {},
   "outputs": [],
   "source": [
    "from qiskit_ibm_provider import IBMProvider\n",
    "\n",
    "provider = IBMProvider()\n",
    "backend = provider.get_backend('ibmq_jakarta')"
   ]
  },
  {
   "cell_type": "code",
   "execution_count": 49,
   "metadata": {},
   "outputs": [
    {
     "name": "stdout",
     "output_type": "stream",
     "text": [
      "     ┌───┐┌─┐\n",
      "  q: ┤ X ├┤M├\n",
      "     └───┘└╥┘\n",
      "c: 1/══════╩═\n",
      "           0 \n",
      "                       \n",
      "ancilla_0 -> 0 ────────\n",
      "                       \n",
      "ancilla_1 -> 1 ────────\n",
      "                       \n",
      "ancilla_2 -> 2 ────────\n",
      "                       \n",
      "ancilla_3 -> 3 ────────\n",
      "                       \n",
      "ancilla_4 -> 4 ────────\n",
      "                       \n",
      "ancilla_5 -> 5 ────────\n",
      "               ┌───┐┌─┐\n",
      "      q_0 -> 6 ┤ X ├┤M├\n",
      "               └───┘└╥┘\n",
      "          c: 1/══════╩═\n",
      "                     0 \n"
     ]
    }
   ],
   "source": [
    "from qiskit import QuantumCircuit, QuantumRegister, ClassicalRegister, transpile\n",
    "\n",
    "qc = QuantumCircuit(1, 1)\n",
    "qc.x(0)\n",
    "qc.measure(0, 0)\n",
    "print(qc.draw(fold=-1))\n",
    "\n",
    "initial_layout = [6]\n",
    "transpiled_qc = transpile(qc, backend, initial_layout=initial_layout)\n",
    "\n",
    "print(transpiled_qc.draw(fold=-1))"
   ]
  },
  {
   "cell_type": "code",
   "execution_count": 40,
   "metadata": {},
   "outputs": [],
   "source": [
    "job_id = backend.run(transpiled_qc, shots=1e6, meas_level=1, meas_return='single').job_id() "
   ]
  },
  {
   "cell_type": "code",
   "execution_count": 41,
   "metadata": {},
   "outputs": [],
   "source": [
    "job_id = \"cmv3wdhfwrrg00884yng\""
   ]
  },
  {
   "cell_type": "code",
   "execution_count": 47,
   "metadata": {},
   "outputs": [
    {
     "name": "stdout",
     "output_type": "stream",
     "text": [
      "Job result has memory, getting memory...\n",
      "Memory is complex/IQ Data: True\n",
      "Data saved to 2023/10-Oct/23.10.23/11:41-KDE_Jak-jak-('1e06', 1)-cmv3wdhfwrrg00884yng.json\n",
      "Updating metadata...\n"
     ]
    }
   ],
   "source": [
    "sampled_memory_up = get_job_data(job_id, provider, {'IQ_sample_state': 0})"
   ]
  },
  {
   "cell_type": "code",
   "execution_count": 48,
   "metadata": {},
   "outputs": [
    {
     "name": "stdout",
     "output_type": "stream",
     "text": [
      "Looking for a file matching the string:  11:05\n",
      "Data loaded from 2023/10-Oct/23.10.23/11:05KDE_Jak-jak-('1e06', 1)-cmv3ag2421n00081pt90.json.\n",
      "Looking for a file matching the string:  11:41\n",
      "Data loaded from 2023/10-Oct/23.10.23/11:41-KDE_Jak-jak-('1e06', 1)-cmv3wdhfwrrg00884yng.json.\n"
     ]
    }
   ],
   "source": [
    "sampled_memory_up = load_memory_from_json(\"11:05\")\n",
    "sampled_memory_down = load_memory_from_json(\"11:41\")"
   ]
  },
  {
   "cell_type": "code",
   "execution_count": null,
   "metadata": {},
   "outputs": [],
   "source": []
  }
 ],
 "metadata": {
  "kernelspec": {
   "display_name": "Soft-Info-kp2AnOc1",
   "language": "python",
   "name": "python3"
  },
  "language_info": {
   "codemirror_mode": {
    "name": "ipython",
    "version": 3
   },
   "file_extension": ".py",
   "mimetype": "text/x-python",
   "name": "python",
   "nbconvert_exporter": "python",
   "pygments_lexer": "ipython3",
   "version": "3.11.4"
  }
 },
 "nbformat": 4,
 "nbformat_minor": 2
}
