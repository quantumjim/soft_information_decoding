{
 "cells": [
  {
   "cell_type": "code",
   "execution_count": 1,
   "metadata": {},
   "outputs": [],
   "source": [
    "%load_ext autoreload\n",
    "%autoreload "
   ]
  },
  {
   "cell_type": "code",
   "execution_count": 2,
   "metadata": {},
   "outputs": [],
   "source": [
    "from result_saver import SaverProvider, metadata_helper, metadata_loader\n",
    "from soft_info.UnionFind import get_counts\n",
    "import pandas as pd"
   ]
  },
  {
   "cell_type": "markdown",
   "metadata": {},
   "source": [
    "# Generate data"
   ]
  },
  {
   "cell_type": "code",
   "execution_count": 3,
   "metadata": {},
   "outputs": [],
   "source": [
    "provider = SaverProvider()\n",
    "backend = provider.get_backend('ibmq_jakarta')"
   ]
  },
  {
   "cell_type": "code",
   "execution_count": 4,
   "metadata": {},
   "outputs": [
    {
     "name": "stdout",
     "output_type": "stream",
     "text": [
      "     ┌─┐\n",
      "  q: ┤M├\n",
      "     └╥┘\n",
      "c: 1/═╩═\n",
      "      0 \n",
      "                  \n",
      "ancilla_0 -> 0 ───\n",
      "                  \n",
      "ancilla_1 -> 1 ───\n",
      "                  \n",
      "ancilla_2 -> 2 ───\n",
      "                  \n",
      "ancilla_3 -> 3 ───\n",
      "                  \n",
      "ancilla_4 -> 4 ───\n",
      "                  \n",
      "ancilla_5 -> 5 ───\n",
      "               ┌─┐\n",
      "      q_0 -> 6 ┤M├\n",
      "               └╥┘\n",
      "          c: 1/═╩═\n",
      "                0 \n"
     ]
    }
   ],
   "source": [
    "from qiskit import QuantumCircuit, QuantumRegister, ClassicalRegister, transpile\n",
    "\n",
    "qc = QuantumCircuit(1, 1)\n",
    "#qc.x(0)\n",
    "qc.measure(0, 0)\n",
    "print(qc.draw(fold=-1))\n",
    "\n",
    "initial_layout = [6]\n",
    "transpiled_qc = transpile(qc, backend, initial_layout=initial_layout)\n",
    "\n",
    "print(transpiled_qc.draw(fold=-1))"
   ]
  },
  {
   "cell_type": "code",
   "execution_count": 8,
   "metadata": {},
   "outputs": [
    {
     "name": "stdout",
     "output_type": "stream",
     "text": [
      "Custom Warning: updating metadata\n",
      "\n"
     ]
    }
   ],
   "source": [
    "job_metadata = metadata_helper(n_shots=1e6, meas_level=1, sampled_state=0, num_qubits=1)\n",
    "job_id = backend.run(job_metadata, transpiled_qc, shots=1e6, meas_level=1, meas_return='single').job_id() "
   ]
  },
  {
   "cell_type": "code",
   "execution_count": 5,
   "metadata": {},
   "outputs": [
    {
     "data": {
      "text/plain": [
       "{'memory_1_state': array([[38845461.-36435344.j],\n",
       "        [19906178.-41771744.j],\n",
       "        [10636813.-47942273.j],\n",
       "        ...,\n",
       "        [15644804.-45668296.j],\n",
       "        [38471320.-35815594.j],\n",
       "        [16732111.-29547949.j]]),\n",
       " 'memory_0_state': array([[-47030367.-56241506.j],\n",
       "        [-30773028.-51585687.j],\n",
       "        [-70253546.-60719018.j],\n",
       "        ...,\n",
       "        [-34120294.-81646139.j],\n",
       "        [-38576581.-35055936.j],\n",
       "        [ -6236616.-51748192.j]])}"
      ]
     },
     "execution_count": 5,
     "metadata": {},
     "output_type": "execute_result"
    }
   ],
   "source": [
    "job_metadata = metadata_loader()\n",
    "memories = {}\n",
    "for i, job_id in enumerate(job_metadata[job_metadata['notebook_name'] == 'KDE_Jak']['job_id']):\n",
    "    memory_name = 'memory_' + str((i + 1) % 2) + \"_state\"\n",
    "    memories[memory_name] = provider.retrieve_job(job_id).result().get_memory()\n",
    "memories"
   ]
  },
  {
   "cell_type": "markdown",
   "metadata": {},
   "source": [
    "# KDE Fitting"
   ]
  },
  {
   "cell_type": "code",
   "execution_count": null,
   "metadata": {},
   "outputs": [],
   "source": []
  },
  {
   "cell_type": "code",
   "execution_count": null,
   "metadata": {},
   "outputs": [],
   "source": []
  }
 ],
 "metadata": {
  "kernelspec": {
   "display_name": "Soft-Info-kp2AnOc1",
   "language": "python",
   "name": "python3"
  },
  "language_info": {
   "codemirror_mode": {
    "name": "ipython",
    "version": 3
   },
   "file_extension": ".py",
   "mimetype": "text/x-python",
   "name": "python",
   "nbconvert_exporter": "python",
   "pygments_lexer": "ipython3",
   "version": "3.11.4"
  }
 },
 "nbformat": 4,
 "nbformat_minor": 2
}
