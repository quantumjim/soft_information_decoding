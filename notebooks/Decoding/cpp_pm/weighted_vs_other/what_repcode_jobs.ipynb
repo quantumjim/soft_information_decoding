{
 "cells": [
  {
   "cell_type": "code",
   "execution_count": 35,
   "metadata": {},
   "outputs": [
    {
     "data": {
      "text/html": [
       "<div>\n",
       "<style scoped>\n",
       "    .dataframe tbody tr th:only-of-type {\n",
       "        vertical-align: middle;\n",
       "    }\n",
       "\n",
       "    .dataframe tbody tr th {\n",
       "        vertical-align: top;\n",
       "    }\n",
       "\n",
       "    .dataframe thead th {\n",
       "        text-align: right;\n",
       "    }\n",
       "</style>\n",
       "<table border=\"1\" class=\"dataframe\">\n",
       "  <thead>\n",
       "    <tr style=\"text-align: right;\">\n",
       "      <th></th>\n",
       "      <th>creation_date</th>\n",
       "      <th>notebook_name</th>\n",
       "      <th>backend_name</th>\n",
       "      <th>job_id</th>\n",
       "      <th>shots</th>\n",
       "      <th>distance</th>\n",
       "      <th>rounds</th>\n",
       "      <th>logical</th>\n",
       "      <th>layout</th>\n",
       "      <th>descr</th>\n",
       "    </tr>\n",
       "  </thead>\n",
       "  <tbody>\n",
       "    <tr>\n",
       "      <th>250</th>\n",
       "      <td>2023-10-30 09:44:03.169748+01:00</td>\n",
       "      <td>bigger_rep_codes</td>\n",
       "      <td>ibm_sherbrooke</td>\n",
       "      <td>cmzpsmyrmwhg008btx3g</td>\n",
       "      <td>2500.0</td>\n",
       "      <td>20.0</td>\n",
       "      <td>20</td>\n",
       "      <td>0</td>\n",
       "      <td>_is_hex=True</td>\n",
       "      <td>Run bigger Repetition codes v4: new distances ...</td>\n",
       "    </tr>\n",
       "    <tr>\n",
       "      <th>67</th>\n",
       "      <td>2023-10-29 14:46:14.619023+01:00</td>\n",
       "      <td>bigger_rep_codes</td>\n",
       "      <td>ibm_sherbrooke</td>\n",
       "      <td>cmz649hp1am0008q1f7g</td>\n",
       "      <td>2500.0</td>\n",
       "      <td>20.0</td>\n",
       "      <td>20</td>\n",
       "      <td>0</td>\n",
       "      <td>_is_hex=True</td>\n",
       "      <td>Run bigger Repetition codes</td>\n",
       "    </tr>\n",
       "  </tbody>\n",
       "</table>\n",
       "</div>"
      ],
      "text/plain": [
       "                        creation_date     notebook_name    backend_name  \\\n",
       "250  2023-10-30 09:44:03.169748+01:00  bigger_rep_codes  ibm_sherbrooke   \n",
       "67   2023-10-29 14:46:14.619023+01:00  bigger_rep_codes  ibm_sherbrooke   \n",
       "\n",
       "                   job_id   shots  distance rounds logical        layout  \\\n",
       "250  cmzpsmyrmwhg008btx3g  2500.0      20.0     20       0  _is_hex=True   \n",
       "67   cmz649hp1am0008q1f7g  2500.0      20.0     20       0  _is_hex=True   \n",
       "\n",
       "                                                 descr  \n",
       "250  Run bigger Repetition codes v4: new distances ...  \n",
       "67                         Run bigger Repetition codes  "
      ]
     },
     "execution_count": 35,
     "metadata": {},
     "output_type": "execute_result"
    }
   ],
   "source": [
    "from Scratch import metadata_loader\n",
    "\n",
    "DEVICE = \"ibm_sherbrooke\"\n",
    "DISTANCE = int(20)\n",
    "ROUNDS = str(30)\n",
    "LOGICAL = str(0)\n",
    "\n",
    "md = metadata_loader(True, True)\n",
    "md = md[md[\"job_status\"] == \"JobStatus.DONE\"]\n",
    "md = md[md[\"code\"] == \"RepetitionCodeCircuit\"]\n",
    "md = md.drop(columns=[\"sampled_state\", \"num_qubits\", \"code\",  \"job_status\", \"optimization_level\", \"extra\", \"tags_xp\", \"tags\"])\n",
    "md = md[md[\"backend_name\"] == DEVICE]\n",
    "\n",
    "\n",
    "md = md[md[\"distance\"]==DISTANCE]\n",
    "# md = md[md[\"rounds\"]==ROUNDS]\n",
    "md = md[md[\"logical\"]==LOGICAL]\n",
    "\n",
    "md"
   ]
  }
 ],
 "metadata": {
  "kernelspec": {
   "display_name": "Soft-Info-fMUpUe5a",
   "language": "python",
   "name": "python3"
  },
  "language_info": {
   "codemirror_mode": {
    "name": "ipython",
    "version": 3
   },
   "file_extension": ".py",
   "mimetype": "text/x-python",
   "name": "python",
   "nbconvert_exporter": "python",
   "pygments_lexer": "ipython3",
   "version": "3.11.4"
  }
 },
 "nbformat": 4,
 "nbformat_minor": 2
}
