{
 "cells": [
  {
   "cell_type": "markdown",
   "metadata": {},
   "source": [
    "# Load the data"
   ]
  },
  {
   "cell_type": "code",
   "execution_count": 22,
   "metadata": {},
   "outputs": [],
   "source": [
    "from result_saver import SaverProvider\n",
    "provider = SaverProvider()"
   ]
  },
  {
   "cell_type": "code",
   "execution_count": 23,
   "metadata": {},
   "outputs": [],
   "source": [
    "from Scratch import metadata_loader\n",
    "\n",
    "DEVICE = \"ibm_sherbrooke\"\n",
    "DISTANCE = int(30)\n",
    "ROUNDS = str(30) \n",
    "LOGICAL = str(0)\n",
    "\n",
    "md = metadata_loader(True, True)\n",
    "md = md[md[\"job_status\"] == \"JobStatus.DONE\"]\n",
    "md = md[md[\"code\"] == \"RepetitionCodeCircuit\"]\n",
    "md = md.drop(columns=[\"sampled_state\", \"num_qubits\", \"code\",  \"job_status\", \"optimization_level\", \"extra\", \"tags_xp\", \"tags\"])\n",
    "md = md[md[\"backend_name\"] == DEVICE]\n",
    "\n",
    "\n",
    "md = md[md[\"distance\"]==DISTANCE]\n",
    "# md = md[md[\"rounds\"]==ROUNDS]\n",
    "md = md[md[\"logical\"]==LOGICAL]\n",
    "\n",
    "# md"
   ]
  },
  {
   "cell_type": "code",
   "execution_count": 24,
   "metadata": {},
   "outputs": [
    {
     "data": {
      "text/plain": [
       "[5, 7, 8, 9, 10, 11, 13, 15, 17, 19, 21, 23, 25, 27, 29, 30, 31, 33, 35]"
      ]
     },
     "execution_count": 24,
     "metadata": {},
     "output_type": "execute_result"
    }
   ],
   "source": [
    "unique_rounds = md['rounds'].unique().tolist()\n",
    "unique_rounds = [int(r) for r in unique_rounds]\n",
    "unique_rounds.sort(reverse=True)\n",
    "unique_rounds"
   ]
  },
  {
   "cell_type": "code",
   "execution_count": 33,
   "metadata": {},
   "outputs": [
    {
     "name": "stderr",
     "output_type": "stream",
     "text": [
      "Retrieving memory data: 100%|██████████| 38/38 [00:22<00:00,  1.73it/s]\n",
      "Concatenating memory data: 100%|██████████| 19/19 [00:00<00:00, 505.87it/s]"
     ]
    },
    {
     "name": "stdout",
     "output_type": "stream",
     "text": [
      "dict_keys([5, 7, 8, 9, 10, 11, 13, 15, 17, 19, 21, 23, 25, 27, 29, 30, 31, 33, 35])\n",
      "(15391, 1045)\n"
     ]
    },
    {
     "name": "stderr",
     "output_type": "stream",
     "text": [
      "\n"
     ]
    }
   ],
   "source": [
    "from tqdm import tqdm\n",
    "import numpy as np\n",
    "\n",
    "memories_by_rounds = {rounds: [] for rounds in unique_rounds}\n",
    "for index, row in tqdm(md.iterrows(), total=md.shape[0], desc=\"Retrieving memory data\"):\n",
    "    job_id = row['job_id']\n",
    "    rounds = int(row['rounds'])\n",
    "    \n",
    "    # Retrieve the job's memory data. Assuming provider.retrieve_job() is a function that does this.\n",
    "    memory_data = provider.retrieve_job(job_id).result().get_memory()\n",
    "    \n",
    "    # Append the memory data to the corresponding list in the dictionary\n",
    "    memories_by_rounds[rounds].append(memory_data)\n",
    "\n",
    "for rounds in tqdm(memories_by_rounds, desc=\"Concatenating memory data\"):\n",
    "    if len(memories_by_rounds[rounds]) > 1:\n",
    "        # Concatenate arrays along the first axis\n",
    "        memories_by_rounds[rounds] = np.concatenate(memories_by_rounds[rounds], axis=0)\n",
    "    elif len(memories_by_rounds[rounds]) == 1:\n",
    "        # Just take the single array out of the list\n",
    "        memories_by_rounds[rounds] = memories_by_rounds[rounds][0]\n",
    "\n",
    "print(memories_by_rounds.keys())\n",
    "print(memories_by_rounds[35].shape)"
   ]
  },
  {
   "cell_type": "markdown",
   "metadata": {},
   "source": [
    "# Initialize the code"
   ]
  },
  {
   "cell_type": "code",
   "execution_count": 34,
   "metadata": {},
   "outputs": [],
   "source": [
    "import stim\n",
    "import pymatching\n",
    "\n",
    "from soft_info import get_repcode_layout, get_repcode_IQ_map\n",
    "from Scratch import create_or_load_kde_grid\n",
    "\n",
    "layout = get_repcode_layout(distance=DISTANCE, backend=provider.get_backend(DEVICE), _is_hex=True)\n",
    "grid_dict, processed_scaler_dict = create_or_load_kde_grid(provider, 'cn6hk3mxhnxg008djq30', 2, 0.3, other_date=None) # rndm first sherbrooke job"
   ]
  },
  {
   "cell_type": "markdown",
   "metadata": {},
   "source": [
    "# Decode each round"
   ]
  },
  {
   "cell_type": "code",
   "execution_count": 39,
   "metadata": {},
   "outputs": [
    {
     "name": "stderr",
     "output_type": "stream",
     "text": [
      "100%|██████████| 19/19 [03:45<00:00, 11.89s/it]\n"
     ]
    }
   ],
   "source": [
    "import cpp_soft_info\n",
    "\n",
    "p_data = 6.869e-3  # mean sherbrooke noise\n",
    "\n",
    "# Initialize your dictionary to store results\n",
    "results_dict_weighted = {rounds: [0, 0] for rounds in unique_rounds}\n",
    "results_dict_flat_one = {rounds: [0, 0] for rounds in unique_rounds}\n",
    "results_dict_flat_informed = {rounds: [0, 0] for rounds in unique_rounds}\n",
    "\n",
    "for synd_rounds in tqdm(memories_by_rounds.keys()):\n",
    "    circuit = stim.Circuit.generated(\"repetition_code:memory\",\n",
    "                                     distance=DISTANCE,\n",
    "                                     rounds=synd_rounds,\n",
    "                                     after_clifford_depolarization=0.1)\n",
    "    model = circuit.detector_error_model(decompose_errors=True)\n",
    "    matching = pymatching.Matching.from_detector_error_model(model)\n",
    "    qubit_mapping = get_repcode_IQ_map(layout, synd_rounds)\n",
    "\n",
    "    memory = memories_by_rounds[synd_rounds]\n",
    "\n",
    "    num_errors_weighted  = cpp_soft_info.decode_IQ_shots(matching._matching_graph, memory, \n",
    "                                               synd_rounds, qubit_mapping, grid_dict, \n",
    "                                               processed_scaler_dict, p_data=p_data, \n",
    "                                               p_mixed=p_data/10,  \n",
    "                                               common_measure=-1)\n",
    "    \n",
    "    num_errors_flat = cpp_soft_info.decode_IQ_shots_flat(matching._matching_graph, memory, \n",
    "                                                        synd_rounds, qubit_mapping, grid_dict, \n",
    "                                                        processed_scaler_dict)\n",
    "    \n",
    "    num_errors_informed = cpp_soft_info.decode_IQ_shots_flat_informed(matching._matching_graph, memory, \n",
    "                                           synd_rounds, qubit_mapping, grid_dict, processed_scaler_dict,\n",
    "                                           p_data, p_data/1, p_data/10, common_measure=-1) \n",
    "                    \n",
    "    \n",
    "    # Store the results in the dictionary\n",
    "    results_dict_weighted[synd_rounds][0] += num_errors_weighted\n",
    "    results_dict_weighted[synd_rounds][1] += len(memory)\n",
    "    results_dict_flat_one[synd_rounds][0] += num_errors_flat\n",
    "    results_dict_flat_one[synd_rounds][1] += len(memory)\n",
    "    results_dict_flat_informed[synd_rounds][0] += num_errors_informed\n",
    "    results_dict_flat_informed[synd_rounds][1] += len(memory)"
   ]
  },
  {
   "cell_type": "code",
   "execution_count": 38,
   "metadata": {},
   "outputs": [
    {
     "name": "stdout",
     "output_type": "stream",
     "text": [
      "{5: [0, 1111], 7: [0, 5872], 8: [0, 1111], 9: [0, 1111], 10: [0, 1111], 11: [0, 1111], 13: [0, 1111], 15: [2, 1111], 17: [0, 1111], 19: [1, 1111], 21: [0, 1111], 23: [0, 1111], 25: [2, 2222], 27: [3, 2222], 29: [2, 1111], 30: [20, 2222], 31: [2, 1111], 33: [8, 1111], 35: [118, 15391]}\n",
      "{5: [0, 1111], 7: [0, 5872], 8: [0, 1111], 9: [0, 1111], 10: [0, 1111], 11: [0, 1111], 13: [1, 1111], 15: [0, 1111], 17: [1, 1111], 19: [3, 1111], 21: [8, 1111], 23: [6, 1111], 25: [28, 2222], 27: [37, 2222], 29: [11, 1111], 30: [109, 2222], 31: [11, 1111], 33: [37, 1111], 35: [803, 15391]}\n",
      "{5: [0, 1111], 7: [0, 5872], 8: [0, 1111], 9: [0, 1111], 10: [0, 1111], 11: [0, 1111], 13: [1, 1111], 15: [0, 1111], 17: [1, 1111], 19: [3, 1111], 21: [8, 1111], 23: [6, 1111], 25: [28, 2222], 27: [37, 2222], 29: [11, 1111], 30: [109, 2222], 31: [11, 1111], 33: [37, 1111], 35: [803, 15391]}\n"
     ]
    }
   ],
   "source": [
    "print(results_dict_weighted)\n",
    "print(results_dict_flat_one)\n",
    "print(results_dict_flat_informed)"
   ]
  }
 ],
 "metadata": {
  "kernelspec": {
   "display_name": "Soft-Info-fMUpUe5a",
   "language": "python",
   "name": "python3"
  },
  "language_info": {
   "codemirror_mode": {
    "name": "ipython",
    "version": 3
   },
   "file_extension": ".py",
   "mimetype": "text/x-python",
   "name": "python",
   "nbconvert_exporter": "python",
   "pygments_lexer": "ipython3",
   "version": "3.11.4"
  }
 },
 "nbformat": 4,
 "nbformat_minor": 2
}
