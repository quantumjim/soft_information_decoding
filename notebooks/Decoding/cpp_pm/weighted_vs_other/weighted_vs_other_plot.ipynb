{
 "cells": [
  {
   "cell_type": "markdown",
   "metadata": {},
   "source": [
    "# Load the data"
   ]
  },
  {
   "cell_type": "code",
   "execution_count": 17,
   "metadata": {},
   "outputs": [],
   "source": [
    "from result_saver import SaverProvider\n",
    "provider = SaverProvider()"
   ]
  },
  {
   "cell_type": "code",
   "execution_count": 18,
   "metadata": {},
   "outputs": [],
   "source": [
    "from Scratch import metadata_loader\n",
    "\n",
    "DEVICE = \"ibm_sherbrooke\"\n",
    "DISTANCE = int(40)\n",
    "ROUNDS = str(30) \n",
    "LOGICAL = str(0)\n",
    "\n",
    "md = metadata_loader(True, True)\n",
    "md = md[md[\"job_status\"] == \"JobStatus.DONE\"]\n",
    "md = md[md[\"code\"] == \"RepetitionCodeCircuit\"]\n",
    "md = md.drop(columns=[\"sampled_state\", \"num_qubits\", \"code\",  \"job_status\", \"optimization_level\", \"extra\", \"tags_xp\", \"tags\"])\n",
    "md = md[md[\"backend_name\"] == DEVICE]\n",
    "\n",
    "md = md.dropna(subset=[\"rounds\"])\n",
    "\n",
    "md = md[md[\"distance\"]==DISTANCE]\n",
    "# md = md[md[\"rounds\"]==ROUNDS]\n",
    "md = md[md[\"logical\"]==LOGICAL]\n",
    "\n",
    "# md"
   ]
  },
  {
   "cell_type": "code",
   "execution_count": 32,
   "metadata": {},
   "outputs": [
    {
     "name": "stdout",
     "output_type": "stream",
     "text": [
      "[35, 34, 33, 32, 31, 30, 29, 28, 27, 26, 25, 24, 23, 22, 21, 20, 19, 17, 15, 13, 11, 9, 8, 7, 5]\n"
     ]
    }
   ],
   "source": [
    "unique_rounds = md['rounds'].unique().tolist()\n",
    "unique_rounds = [int(r) for r in unique_rounds]\n",
    "unique_rounds.sort(reverse=True)\n",
    "print(unique_rounds)"
   ]
  },
  {
   "cell_type": "code",
   "execution_count": 33,
   "metadata": {},
   "outputs": [
    {
     "name": "stderr",
     "output_type": "stream",
     "text": [
      "Retrieving memory data: 100%|██████████| 45/45 [00:26<00:00,  1.67it/s]\n",
      "Concatenating memory data: 100%|██████████| 25/25 [00:00<00:00, 709.14it/s]"
     ]
    },
    {
     "name": "stdout",
     "output_type": "stream",
     "text": [
      "dict_keys([35, 34, 33, 32, 31, 30, 29, 28, 27, 26, 25, 24, 23, 22, 21, 20, 19, 17, 15, 13, 11, 9, 8, 7, 5])\n",
      "{35: 10621, 34: 1875, 33: 625, 32: 625, 31: 625, 30: 625, 29: 625, 28: 625, 27: 1250, 26: 625, 25: 1250, 24: 625, 23: 625, 22: 625, 21: 625, 20: 625, 19: 625, 17: 625, 15: 625, 13: 625, 11: 625, 9: 1250, 8: 625, 7: 4196, 5: 625}\n"
     ]
    },
    {
     "name": "stderr",
     "output_type": "stream",
     "text": [
      "\n"
     ]
    }
   ],
   "source": [
    "from tqdm import tqdm\n",
    "import numpy as np\n",
    "\n",
    "memories_by_rounds = {rounds: [] for rounds in unique_rounds}\n",
    "for index, row in tqdm(md.iterrows(), total=md.shape[0], desc=\"Retrieving memory data\"):\n",
    "    job_id = row['job_id']\n",
    "    rounds = int(row['rounds'])\n",
    "    \n",
    "    # Retrieve the job's memory data. Assuming provider.retrieve_job() is a function that does this.\n",
    "    memory_data = provider.retrieve_job(job_id).result().get_memory()\n",
    "    \n",
    "    # Append the memory data to the corresponding list in the dictionary\n",
    "    memories_by_rounds[rounds].append(memory_data)\n",
    "\n",
    "for rounds in tqdm(memories_by_rounds, desc=\"Concatenating memory data\"):\n",
    "    if len(memories_by_rounds[rounds]) > 1:\n",
    "        # Concatenate arrays along the first axis\n",
    "        memories_by_rounds[rounds] = np.concatenate(memories_by_rounds[rounds], axis=0)\n",
    "    elif len(memories_by_rounds[rounds]) == 1:\n",
    "        # Just take the single array out of the list\n",
    "        memories_by_rounds[rounds] = memories_by_rounds[rounds][0]\n",
    "\n",
    "print(memories_by_rounds.keys())\n",
    "\n",
    "shot_dict = {rounds: memories_by_rounds[rounds].shape[0] for rounds in memories_by_rounds}\n",
    "print(shot_dict)"
   ]
  },
  {
   "cell_type": "markdown",
   "metadata": {},
   "source": [
    "# Initialize the code"
   ]
  },
  {
   "cell_type": "code",
   "execution_count": 34,
   "metadata": {},
   "outputs": [],
   "source": [
    "import stim\n",
    "import pymatching\n",
    "\n",
    "from soft_info import get_repcode_layout, get_repcode_IQ_map\n",
    "from Scratch import create_or_load_kde_grid\n",
    "\n",
    "layout = get_repcode_layout(distance=DISTANCE, backend=provider.get_backend(DEVICE), _is_hex=True)\n",
    "grid_dict, processed_scaler_dict = create_or_load_kde_grid(provider, 'cn6hk3mxhnxg008djq30', 300, 2, other_date=None) # rndm first sherbrooke job\n",
    "\n",
    "# takes ~6s"
   ]
  },
  {
   "cell_type": "markdown",
   "metadata": {},
   "source": [
    "# Decode each round"
   ]
  },
  {
   "cell_type": "code",
   "execution_count": 35,
   "metadata": {},
   "outputs": [
    {
     "name": "stderr",
     "output_type": "stream",
     "text": [
      "100%|██████████| 25/25 [04:21<00:00, 10.46s/it]\n"
     ]
    }
   ],
   "source": [
    "import cpp_soft_info\n",
    "\n",
    "p_data = 6.869e-3  # mean sherbrooke noise\n",
    "\n",
    "# Initialize your dictionary to store results\n",
    "results_dict_weighted = {rounds: [0, 0] for rounds in unique_rounds}\n",
    "results_dict_flat_one = {rounds: [0, 0] for rounds in unique_rounds}\n",
    "results_dict_flat_informed = {rounds: [0, 0] for rounds in unique_rounds}\n",
    "\n",
    "for synd_rounds in tqdm(memories_by_rounds.keys()):\n",
    "    circuit = stim.Circuit.generated(\"repetition_code:memory\",\n",
    "                                     distance=DISTANCE,\n",
    "                                     rounds=synd_rounds,\n",
    "                                     after_clifford_depolarization=0.1)\n",
    "    model = circuit.detector_error_model(decompose_errors=True)\n",
    "    matching = pymatching.Matching.from_detector_error_model(model)\n",
    "    qubit_mapping = get_repcode_IQ_map(layout, synd_rounds)\n",
    "\n",
    "    memory = memories_by_rounds[synd_rounds]\n",
    "\n",
    "    num_errors_weighted  = cpp_soft_info.decode_IQ_shots(matching._matching_graph, memory, \n",
    "                                               synd_rounds, qubit_mapping, grid_dict, \n",
    "                                               processed_scaler_dict, p_data=p_data, \n",
    "                                               p_mixed=p_data/10,  \n",
    "                                               common_measure=-1)\n",
    "    \n",
    "    num_errors_flat = cpp_soft_info.decode_IQ_shots_flat(matching._matching_graph, memory, \n",
    "                                                        synd_rounds, qubit_mapping, grid_dict, \n",
    "                                                        processed_scaler_dict)\n",
    "    \n",
    "    num_errors_informed = cpp_soft_info.decode_IQ_shots_flat_informed(matching._matching_graph, memory, \n",
    "                                           synd_rounds, qubit_mapping, grid_dict, processed_scaler_dict,\n",
    "                                           p_data, p_data/1, p_data/10, common_measure=-1) \n",
    "                    \n",
    "    \n",
    "    # Store the results in the dictionary\n",
    "    results_dict_weighted[synd_rounds][0] += num_errors_weighted\n",
    "    results_dict_weighted[synd_rounds][1] += len(memory)\n",
    "    results_dict_flat_one[synd_rounds][0] += num_errors_flat\n",
    "    results_dict_flat_one[synd_rounds][1] += len(memory)\n",
    "    results_dict_flat_informed[synd_rounds][0] += num_errors_informed\n",
    "    results_dict_flat_informed[synd_rounds][1] += len(memory)"
   ]
  },
  {
   "cell_type": "code",
   "execution_count": 36,
   "metadata": {},
   "outputs": [
    {
     "name": "stdout",
     "output_type": "stream",
     "text": [
      "{35: [30, 10621], 34: [0, 1875], 33: [1, 625], 32: [1, 625], 31: [0, 625], 30: [0, 625], 29: [0, 625], 28: [0, 625], 27: [4, 1250], 26: [1, 625], 25: [1, 1250], 24: [0, 625], 23: [0, 625], 22: [0, 625], 21: [0, 625], 20: [0, 625], 19: [0, 625], 17: [0, 625], 15: [0, 625], 13: [0, 625], 11: [0, 625], 9: [0, 1250], 8: [0, 625], 7: [0, 4196], 5: [0, 625]}\n",
      "{35: [358, 10621], 34: [16, 1875], 33: [18, 625], 32: [4, 625], 31: [7, 625], 30: [6, 625], 29: [3, 625], 28: [2, 625], 27: [19, 1250], 26: [2, 625], 25: [13, 1250], 24: [0, 625], 23: [1, 625], 22: [2, 625], 21: [0, 625], 20: [1, 625], 19: [2, 625], 17: [0, 625], 15: [0, 625], 13: [0, 625], 11: [1, 625], 9: [0, 1250], 8: [0, 625], 7: [0, 4196], 5: [0, 625]}\n",
      "{35: [727, 10621], 34: [66, 1875], 33: [48, 625], 32: [19, 625], 31: [16, 625], 30: [19, 625], 29: [12, 625], 28: [10, 625], 27: [53, 1250], 26: [7, 625], 25: [39, 1250], 24: [7, 625], 23: [10, 625], 22: [6, 625], 21: [5, 625], 20: [4, 625], 19: [9, 625], 17: [3, 625], 15: [5, 625], 13: [1, 625], 11: [1, 625], 9: [0, 1250], 8: [0, 625], 7: [0, 4196], 5: [0, 625]}\n"
     ]
    }
   ],
   "source": [
    "print(results_dict_weighted)\n",
    "print(results_dict_flat_one)\n",
    "print(results_dict_flat_informed)\n"
   ]
  },
  {
   "cell_type": "code",
   "execution_count": null,
   "metadata": {},
   "outputs": [],
   "source": []
  }
 ],
 "metadata": {
  "kernelspec": {
   "display_name": "Soft-Info-fMUpUe5a",
   "language": "python",
   "name": "python3"
  },
  "language_info": {
   "codemirror_mode": {
    "name": "ipython",
    "version": 3
   },
   "file_extension": ".py",
   "mimetype": "text/x-python",
   "name": "python",
   "nbconvert_exporter": "python",
   "pygments_lexer": "ipython3",
   "version": "3.11.4"
  }
 },
 "nbformat": 4,
 "nbformat_minor": 2
}
