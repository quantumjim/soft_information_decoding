{
 "cells": [
  {
   "cell_type": "code",
   "execution_count": 1,
   "metadata": {},
   "outputs": [],
   "source": [
    "%reload_ext autoreload\n",
    "%autoreload 2"
   ]
  },
  {
   "cell_type": "code",
   "execution_count": 2,
   "metadata": {},
   "outputs": [],
   "source": [
    "from result_saver import SaverProvider\n",
    "\n",
    "provider = SaverProvider()"
   ]
  },
  {
   "cell_type": "code",
   "execution_count": 3,
   "metadata": {},
   "outputs": [
    {
     "data": {
      "text/html": [
       "<div>\n",
       "<style scoped>\n",
       "    .dataframe tbody tr th:only-of-type {\n",
       "        vertical-align: middle;\n",
       "    }\n",
       "\n",
       "    .dataframe tbody tr th {\n",
       "        vertical-align: top;\n",
       "    }\n",
       "\n",
       "    .dataframe thead th {\n",
       "        text-align: right;\n",
       "    }\n",
       "</style>\n",
       "<table border=\"1\" class=\"dataframe\">\n",
       "  <thead>\n",
       "    <tr style=\"text-align: right;\">\n",
       "      <th></th>\n",
       "      <th>creation_date</th>\n",
       "      <th>notebook_name</th>\n",
       "      <th>backend_name</th>\n",
       "      <th>job_id</th>\n",
       "      <th>tags</th>\n",
       "      <th>meas_level</th>\n",
       "      <th>shots</th>\n",
       "      <th>tags_xp</th>\n",
       "      <th>rep_delay</th>\n",
       "      <th>sampled_state</th>\n",
       "      <th>...</th>\n",
       "      <th>logical</th>\n",
       "      <th>layout</th>\n",
       "      <th>descr</th>\n",
       "      <th>num_CNOTS_layers</th>\n",
       "      <th>num_CNOT_layers</th>\n",
       "      <th>resets</th>\n",
       "      <th>num_qubit</th>\n",
       "      <th>double_msmt</th>\n",
       "      <th>xbasis</th>\n",
       "      <th>path_info</th>\n",
       "    </tr>\n",
       "  </thead>\n",
       "  <tbody>\n",
       "    <tr>\n",
       "      <th>2667</th>\n",
       "      <td>2024-03-11 12:51:17.882000+01:00</td>\n",
       "      <td>mean_pos_sherbrooke</td>\n",
       "      <td>ibm_sherbrooke</td>\n",
       "      <td>cqqf0d9v78p0008mdt3g</td>\n",
       "      <td>[1*1e6/d*T, RepCode Mean Positions]</td>\n",
       "      <td>1.0</td>\n",
       "      <td>111.0</td>\n",
       "      <td>NaN</td>\n",
       "      <td>0.0005</td>\n",
       "      <td>NaN</td>\n",
       "      <td>...</td>\n",
       "      <td>0</td>\n",
       "      <td>NaN</td>\n",
       "      <td>Mean positions</td>\n",
       "      <td>NaN</td>\n",
       "      <td>NaN</td>\n",
       "      <td>False</td>\n",
       "      <td>NaN</td>\n",
       "      <td>NaN</td>\n",
       "      <td>NaN</td>\n",
       "      <td>NaN</td>\n",
       "    </tr>\n",
       "    <tr>\n",
       "      <th>2666</th>\n",
       "      <td>2024-03-11 12:51:11.681000+01:00</td>\n",
       "      <td>mean_pos_sherbrooke</td>\n",
       "      <td>ibm_sherbrooke</td>\n",
       "      <td>cqqf0bsr43fg008x5td0</td>\n",
       "      <td>[1*1e6/d*T, RepCode Mean Positions]</td>\n",
       "      <td>1.0</td>\n",
       "      <td>111.0</td>\n",
       "      <td>NaN</td>\n",
       "      <td>0.0005</td>\n",
       "      <td>NaN</td>\n",
       "      <td>...</td>\n",
       "      <td>0</td>\n",
       "      <td>NaN</td>\n",
       "      <td>Mean positions</td>\n",
       "      <td>NaN</td>\n",
       "      <td>NaN</td>\n",
       "      <td>False</td>\n",
       "      <td>NaN</td>\n",
       "      <td>NaN</td>\n",
       "      <td>NaN</td>\n",
       "      <td>NaN</td>\n",
       "    </tr>\n",
       "    <tr>\n",
       "      <th>2665</th>\n",
       "      <td>2024-03-11 12:51:05.921000+01:00</td>\n",
       "      <td>mean_pos_sherbrooke</td>\n",
       "      <td>ibm_sherbrooke</td>\n",
       "      <td>cqqf0a9v78p0008mdt30</td>\n",
       "      <td>[1*1e6/d*T, RepCode Mean Positions]</td>\n",
       "      <td>1.0</td>\n",
       "      <td>111.0</td>\n",
       "      <td>NaN</td>\n",
       "      <td>0.0005</td>\n",
       "      <td>NaN</td>\n",
       "      <td>...</td>\n",
       "      <td>0</td>\n",
       "      <td>NaN</td>\n",
       "      <td>Mean positions</td>\n",
       "      <td>NaN</td>\n",
       "      <td>NaN</td>\n",
       "      <td>False</td>\n",
       "      <td>NaN</td>\n",
       "      <td>NaN</td>\n",
       "      <td>NaN</td>\n",
       "      <td>NaN</td>\n",
       "    </tr>\n",
       "    <tr>\n",
       "      <th>2664</th>\n",
       "      <td>2024-03-11 12:50:59.625000+01:00</td>\n",
       "      <td>mean_pos_sherbrooke</td>\n",
       "      <td>ibm_sherbrooke</td>\n",
       "      <td>cqqf08s4td0g008cqmk0</td>\n",
       "      <td>[1*1e6/d*T, RepCode Mean Positions]</td>\n",
       "      <td>1.0</td>\n",
       "      <td>111.0</td>\n",
       "      <td>NaN</td>\n",
       "      <td>0.0005</td>\n",
       "      <td>NaN</td>\n",
       "      <td>...</td>\n",
       "      <td>0</td>\n",
       "      <td>NaN</td>\n",
       "      <td>Mean positions</td>\n",
       "      <td>NaN</td>\n",
       "      <td>NaN</td>\n",
       "      <td>False</td>\n",
       "      <td>NaN</td>\n",
       "      <td>NaN</td>\n",
       "      <td>NaN</td>\n",
       "      <td>NaN</td>\n",
       "    </tr>\n",
       "    <tr>\n",
       "      <th>2663</th>\n",
       "      <td>2024-03-11 12:50:53.619000+01:00</td>\n",
       "      <td>mean_pos_sherbrooke</td>\n",
       "      <td>ibm_sherbrooke</td>\n",
       "      <td>cqqf078267h0008gdks0</td>\n",
       "      <td>[1*1e6/d*T, RepCode Mean Positions]</td>\n",
       "      <td>1.0</td>\n",
       "      <td>111.0</td>\n",
       "      <td>NaN</td>\n",
       "      <td>0.0005</td>\n",
       "      <td>NaN</td>\n",
       "      <td>...</td>\n",
       "      <td>0</td>\n",
       "      <td>NaN</td>\n",
       "      <td>Mean positions</td>\n",
       "      <td>NaN</td>\n",
       "      <td>NaN</td>\n",
       "      <td>False</td>\n",
       "      <td>NaN</td>\n",
       "      <td>NaN</td>\n",
       "      <td>NaN</td>\n",
       "      <td>NaN</td>\n",
       "    </tr>\n",
       "    <tr>\n",
       "      <th>2662</th>\n",
       "      <td>2024-03-11 12:50:47.103000+01:00</td>\n",
       "      <td>mean_pos_sherbrooke</td>\n",
       "      <td>ibm_sherbrooke</td>\n",
       "      <td>cqqf05gv78p0008mdt2g</td>\n",
       "      <td>[1*1e6/d*T, RepCode Mean Positions]</td>\n",
       "      <td>1.0</td>\n",
       "      <td>111.0</td>\n",
       "      <td>NaN</td>\n",
       "      <td>0.0005</td>\n",
       "      <td>NaN</td>\n",
       "      <td>...</td>\n",
       "      <td>0</td>\n",
       "      <td>NaN</td>\n",
       "      <td>Mean positions</td>\n",
       "      <td>NaN</td>\n",
       "      <td>NaN</td>\n",
       "      <td>False</td>\n",
       "      <td>NaN</td>\n",
       "      <td>NaN</td>\n",
       "      <td>NaN</td>\n",
       "      <td>NaN</td>\n",
       "    </tr>\n",
       "    <tr>\n",
       "      <th>2661</th>\n",
       "      <td>2024-03-11 12:50:35.810000+01:00</td>\n",
       "      <td>mean_pos_sherbrooke</td>\n",
       "      <td>ibm_sherbrooke</td>\n",
       "      <td>cqqf02r417q0008ytz9g</td>\n",
       "      <td>[1*1e6/d*T, RepCode Mean Positions]</td>\n",
       "      <td>1.0</td>\n",
       "      <td>111.0</td>\n",
       "      <td>NaN</td>\n",
       "      <td>0.0005</td>\n",
       "      <td>NaN</td>\n",
       "      <td>...</td>\n",
       "      <td>0</td>\n",
       "      <td>NaN</td>\n",
       "      <td>Mean positions</td>\n",
       "      <td>NaN</td>\n",
       "      <td>NaN</td>\n",
       "      <td>False</td>\n",
       "      <td>NaN</td>\n",
       "      <td>NaN</td>\n",
       "      <td>NaN</td>\n",
       "      <td>NaN</td>\n",
       "    </tr>\n",
       "    <tr>\n",
       "      <th>2660</th>\n",
       "      <td>2024-03-11 12:50:29.775000+01:00</td>\n",
       "      <td>mean_pos_sherbrooke</td>\n",
       "      <td>ibm_sherbrooke</td>\n",
       "      <td>cqqf018v78p0008mdt20</td>\n",
       "      <td>[1*1e6/d*T, RepCode Mean Positions]</td>\n",
       "      <td>1.0</td>\n",
       "      <td>111.0</td>\n",
       "      <td>NaN</td>\n",
       "      <td>0.0005</td>\n",
       "      <td>NaN</td>\n",
       "      <td>...</td>\n",
       "      <td>0</td>\n",
       "      <td>NaN</td>\n",
       "      <td>Mean positions</td>\n",
       "      <td>NaN</td>\n",
       "      <td>NaN</td>\n",
       "      <td>False</td>\n",
       "      <td>NaN</td>\n",
       "      <td>NaN</td>\n",
       "      <td>NaN</td>\n",
       "      <td>NaN</td>\n",
       "    </tr>\n",
       "    <tr>\n",
       "      <th>2659</th>\n",
       "      <td>2024-03-11 12:50:22.473000+01:00</td>\n",
       "      <td>mean_pos_sherbrooke</td>\n",
       "      <td>ibm_sherbrooke</td>\n",
       "      <td>cqqezzq417q0008ytz8g</td>\n",
       "      <td>[1*1e6/d*T, RepCode Mean Positions]</td>\n",
       "      <td>1.0</td>\n",
       "      <td>111.0</td>\n",
       "      <td>NaN</td>\n",
       "      <td>0.0005</td>\n",
       "      <td>NaN</td>\n",
       "      <td>...</td>\n",
       "      <td>0</td>\n",
       "      <td>NaN</td>\n",
       "      <td>Mean positions</td>\n",
       "      <td>NaN</td>\n",
       "      <td>NaN</td>\n",
       "      <td>False</td>\n",
       "      <td>NaN</td>\n",
       "      <td>NaN</td>\n",
       "      <td>NaN</td>\n",
       "      <td>NaN</td>\n",
       "    </tr>\n",
       "    <tr>\n",
       "      <th>2658</th>\n",
       "      <td>2024-03-11 12:50:16.452000+01:00</td>\n",
       "      <td>mean_pos_sherbrooke</td>\n",
       "      <td>ibm_sherbrooke</td>\n",
       "      <td>cqqezy7r43fg008x5tc0</td>\n",
       "      <td>[1*1e6/d*T, RepCode Mean Positions]</td>\n",
       "      <td>1.0</td>\n",
       "      <td>111.0</td>\n",
       "      <td>NaN</td>\n",
       "      <td>0.0005</td>\n",
       "      <td>NaN</td>\n",
       "      <td>...</td>\n",
       "      <td>0</td>\n",
       "      <td>NaN</td>\n",
       "      <td>Mean positions</td>\n",
       "      <td>NaN</td>\n",
       "      <td>NaN</td>\n",
       "      <td>False</td>\n",
       "      <td>NaN</td>\n",
       "      <td>NaN</td>\n",
       "      <td>NaN</td>\n",
       "      <td>NaN</td>\n",
       "    </tr>\n",
       "  </tbody>\n",
       "</table>\n",
       "<p>10 rows × 28 columns</p>\n",
       "</div>"
      ],
      "text/plain": [
       "                         creation_date        notebook_name    backend_name  \\\n",
       "2667  2024-03-11 12:51:17.882000+01:00  mean_pos_sherbrooke  ibm_sherbrooke   \n",
       "2666  2024-03-11 12:51:11.681000+01:00  mean_pos_sherbrooke  ibm_sherbrooke   \n",
       "2665  2024-03-11 12:51:05.921000+01:00  mean_pos_sherbrooke  ibm_sherbrooke   \n",
       "2664  2024-03-11 12:50:59.625000+01:00  mean_pos_sherbrooke  ibm_sherbrooke   \n",
       "2663  2024-03-11 12:50:53.619000+01:00  mean_pos_sherbrooke  ibm_sherbrooke   \n",
       "2662  2024-03-11 12:50:47.103000+01:00  mean_pos_sherbrooke  ibm_sherbrooke   \n",
       "2661  2024-03-11 12:50:35.810000+01:00  mean_pos_sherbrooke  ibm_sherbrooke   \n",
       "2660  2024-03-11 12:50:29.775000+01:00  mean_pos_sherbrooke  ibm_sherbrooke   \n",
       "2659  2024-03-11 12:50:22.473000+01:00  mean_pos_sherbrooke  ibm_sherbrooke   \n",
       "2658  2024-03-11 12:50:16.452000+01:00  mean_pos_sherbrooke  ibm_sherbrooke   \n",
       "\n",
       "                    job_id                                 tags  meas_level  \\\n",
       "2667  cqqf0d9v78p0008mdt3g  [1*1e6/d*T, RepCode Mean Positions]         1.0   \n",
       "2666  cqqf0bsr43fg008x5td0  [1*1e6/d*T, RepCode Mean Positions]         1.0   \n",
       "2665  cqqf0a9v78p0008mdt30  [1*1e6/d*T, RepCode Mean Positions]         1.0   \n",
       "2664  cqqf08s4td0g008cqmk0  [1*1e6/d*T, RepCode Mean Positions]         1.0   \n",
       "2663  cqqf078267h0008gdks0  [1*1e6/d*T, RepCode Mean Positions]         1.0   \n",
       "2662  cqqf05gv78p0008mdt2g  [1*1e6/d*T, RepCode Mean Positions]         1.0   \n",
       "2661  cqqf02r417q0008ytz9g  [1*1e6/d*T, RepCode Mean Positions]         1.0   \n",
       "2660  cqqf018v78p0008mdt20  [1*1e6/d*T, RepCode Mean Positions]         1.0   \n",
       "2659  cqqezzq417q0008ytz8g  [1*1e6/d*T, RepCode Mean Positions]         1.0   \n",
       "2658  cqqezy7r43fg008x5tc0  [1*1e6/d*T, RepCode Mean Positions]         1.0   \n",
       "\n",
       "      shots tags_xp  rep_delay sampled_state  ...  logical layout  \\\n",
       "2667  111.0     NaN     0.0005           NaN  ...        0    NaN   \n",
       "2666  111.0     NaN     0.0005           NaN  ...        0    NaN   \n",
       "2665  111.0     NaN     0.0005           NaN  ...        0    NaN   \n",
       "2664  111.0     NaN     0.0005           NaN  ...        0    NaN   \n",
       "2663  111.0     NaN     0.0005           NaN  ...        0    NaN   \n",
       "2662  111.0     NaN     0.0005           NaN  ...        0    NaN   \n",
       "2661  111.0     NaN     0.0005           NaN  ...        0    NaN   \n",
       "2660  111.0     NaN     0.0005           NaN  ...        0    NaN   \n",
       "2659  111.0     NaN     0.0005           NaN  ...        0    NaN   \n",
       "2658  111.0     NaN     0.0005           NaN  ...        0    NaN   \n",
       "\n",
       "               descr num_CNOTS_layers  num_CNOT_layers resets  num_qubit  \\\n",
       "2667  Mean positions              NaN              NaN  False        NaN   \n",
       "2666  Mean positions              NaN              NaN  False        NaN   \n",
       "2665  Mean positions              NaN              NaN  False        NaN   \n",
       "2664  Mean positions              NaN              NaN  False        NaN   \n",
       "2663  Mean positions              NaN              NaN  False        NaN   \n",
       "2662  Mean positions              NaN              NaN  False        NaN   \n",
       "2661  Mean positions              NaN              NaN  False        NaN   \n",
       "2660  Mean positions              NaN              NaN  False        NaN   \n",
       "2659  Mean positions              NaN              NaN  False        NaN   \n",
       "2658  Mean positions              NaN              NaN  False        NaN   \n",
       "\n",
       "     double_msmt xbasis path_info  \n",
       "2667         NaN    NaN       NaN  \n",
       "2666         NaN    NaN       NaN  \n",
       "2665         NaN    NaN       NaN  \n",
       "2664         NaN    NaN       NaN  \n",
       "2663         NaN    NaN       NaN  \n",
       "2662         NaN    NaN       NaN  \n",
       "2661         NaN    NaN       NaN  \n",
       "2660         NaN    NaN       NaN  \n",
       "2659         NaN    NaN       NaN  \n",
       "2658         NaN    NaN       NaN  \n",
       "\n",
       "[10 rows x 28 columns]"
      ]
     },
     "execution_count": 3,
     "metadata": {},
     "output_type": "execute_result"
    }
   ],
   "source": [
    "from Scratch import metadata_loader\n",
    "\n",
    "DEVICE = 'ibm_sherbrooke'\n",
    "DISTANCE = 10\n",
    "ROUNDS = 10\n",
    "LOGICAL = 0\n",
    "_RESETS = False\n",
    "\n",
    "md = metadata_loader(True, True)\n",
    "md = md[md[\"job_status\"] == \"JobStatus.DONE\"]\n",
    "md = md[md[\"code\"] == \"RepetitionCodeCircuit\"]\n",
    "md = md[md['meas_level'] == 1]\n",
    "md = md[md['distance']==DISTANCE]\n",
    "md = md[md['rounds']==ROUNDS]\n",
    "md = md[md['logical']==LOGICAL]\n",
    "\n",
    "md = md[md['notebook_name']=='mean_pos_sherbrooke']\n",
    "\n",
    "md"
   ]
  },
  {
   "cell_type": "markdown",
   "metadata": {},
   "source": [
    "# Initialize the decoder"
   ]
  },
  {
   "cell_type": "code",
   "execution_count": 4,
   "metadata": {},
   "outputs": [
    {
     "name": "stdout",
     "output_type": "stream",
     "text": [
      "Specified job execution date: 2024-03-11 13:49:38.212792+01:00\n",
      "Found jobs for backend ibm_sherbrooke with closest execution date 2024-03-11 10:59:11.387273+00:00.\n"
     ]
    }
   ],
   "source": [
    "import numpy as np\n",
    "from soft_info import get_noise_dict_from_backend, get_avgs_from_dict\n",
    "from Scratch import load_calibration_memory\n",
    "import cpp_soft_info\n",
    "\n",
    "rel_error = 1\n",
    "lin = [0.4, 0.7, 20]\n",
    "num_points = 51\n",
    "# lin = [0.4, 0.7, 1]\n",
    "# num_points = 1\n",
    "bandwidths = np.linspace(lin[0], lin[1], lin[2])\n",
    "\n",
    "noise_dict = get_noise_dict_from_backend(provider, DEVICE, date = md.iloc[0]['execution_date'])\n",
    "\n",
    "# Get the KDEs\n",
    "all_memories = load_calibration_memory(provider, md.iloc[0][\"job_id\"])\n",
    "kde_dict = cpp_soft_info.get_KDEs(all_memories, bandwidths, relError=1, absError=-1, num_points=num_points)"
   ]
  },
  {
   "cell_type": "code",
   "execution_count": 23,
   "metadata": {},
   "outputs": [
    {
     "name": "stderr",
     "output_type": "stream",
     "text": [
      "90it [00:20,  4.31it/s]00:00<?, ?it/s]\n",
      " 10%|█         | 1/10 [00:21<03:13, 21.46s/it]"
     ]
    },
    {
     "name": "stdout",
     "output_type": "stream",
     "text": [
      "Job cqqf0d9v78p0008mdt3g had [1, 1, 2, 0, 1, 0, 0, 0, 0, 0, 0, 0, 0, 0, 0, 0, 0, 0, 0, 0, 0, 1, 0, 3, 0, 5, 0, 6, 0, 3, 1, 8, 5, 4, 1, 1, 0, 0, 0, 0, 0, 2, 0, 0, 0, 0, 0, 0, 0, 1, 0, 1, 0, 0, 0, 0, 0, 0, 2, 0, 4, 0, 3, 1, 2, 0, 2, 1, 4, 0, 6, 0, 7, 1, 4, 0, 4, 0, 1, 0, 2, 1, 1, 0, 0, 0, 1, 2, 0, 1] errors per layout out of total [9990] shots\n"
     ]
    },
    {
     "name": "stderr",
     "output_type": "stream",
     "text": [
      "90it [00:20,  4.30it/s]\n",
      " 20%|██        | 2/10 [00:43<02:52, 21.52s/it]"
     ]
    },
    {
     "name": "stdout",
     "output_type": "stream",
     "text": [
      "Job cqqf0bsr43fg008x5td0 had [0, 0, 0, 1, 0, 0, 0, 1, 0, 1, 0, 0, 0, 0, 0, 1, 0, 0, 0, 0, 0, 3, 0, 5, 0, 1, 1, 2, 1, 4, 3, 2, 7, 1, 1, 0, 1, 0, 2, 0, 0, 0, 0, 1, 1, 1, 0, 0, 0, 1, 0, 0, 0, 1, 0, 0, 0, 1, 1, 0, 2, 0, 5, 0, 2, 0, 6, 1, 4, 1, 2, 2, 4, 1, 4, 1, 1, 0, 0, 2, 1, 1, 1, 2, 0, 0, 0, 0, 0, 1] errors per layout out of total [9990, 9990] shots\n"
     ]
    },
    {
     "name": "stderr",
     "output_type": "stream",
     "text": [
      "90it [00:20,  4.29it/s]\n",
      " 30%|███       | 3/10 [01:04<02:30, 21.48s/it]"
     ]
    },
    {
     "name": "stdout",
     "output_type": "stream",
     "text": [
      "Job cqqf0a9v78p0008mdt30 had [0, 0, 0, 1, 1, 0, 1, 1, 0, 0, 1, 1, 0, 3, 0, 2, 0, 0, 0, 1, 0, 1, 0, 0, 1, 2, 0, 2, 0, 3, 4, 6, 3, 3, 2, 0, 2, 0, 0, 0, 1, 0, 0, 0, 1, 0, 0, 0, 1, 0, 0, 0, 1, 0, 0, 0, 0, 0, 1, 0, 2, 1, 2, 0, 4, 1, 6, 0, 8, 0, 4, 0, 2, 0, 0, 0, 1, 0, 1, 2, 1, 0, 0, 0, 0, 0, 0, 0, 0, 0] errors per layout out of total [9990, 9990, 9990] shots\n"
     ]
    },
    {
     "name": "stderr",
     "output_type": "stream",
     "text": [
      "90it [00:21,  4.14it/s]\n",
      " 40%|████      | 4/10 [01:26<02:11, 21.87s/it]"
     ]
    },
    {
     "name": "stdout",
     "output_type": "stream",
     "text": [
      "Job cqqf08s4td0g008cqmk0 had [1, 0, 0, 1, 0, 2, 1, 0, 1, 0, 0, 0, 0, 1, 0, 2, 0, 1, 0, 0, 0, 2, 0, 1, 0, 6, 0, 4, 1, 7, 1, 3, 1, 4, 0, 2, 2, 1, 0, 1, 0, 2, 1, 1, 0, 1, 0, 0, 0, 0, 0, 1, 0, 0, 0, 0, 1, 2, 1, 0, 2, 0, 0, 0, 5, 0, 5, 0, 3, 0, 2, 0, 2, 0, 3, 0, 0, 1, 3, 0, 1, 0, 0, 0, 0, 0, 0, 0, 0, 0] errors per layout out of total [9990, 9990, 9990, 9990] shots\n"
     ]
    },
    {
     "name": "stderr",
     "output_type": "stream",
     "text": [
      "90it [00:21,  4.16it/s]\n",
      " 50%|█████     | 5/10 [01:49<01:50, 22.01s/it]"
     ]
    },
    {
     "name": "stdout",
     "output_type": "stream",
     "text": [
      "Job cqqf078267h0008gdks0 had [0, 0, 0, 0, 0, 0, 0, 0, 0, 0, 0, 0, 0, 1, 0, 0, 0, 0, 0, 0, 0, 0, 0, 0, 0, 3, 0, 2, 0, 5, 0, 10, 3, 1, 1, 3, 0, 0, 1, 0, 0, 0, 0, 0, 1, 0, 0, 0, 0, 1, 0, 0, 0, 0, 0, 1, 0, 0, 1, 1, 0, 0, 0, 0, 1, 1, 4, 0, 0, 0, 5, 0, 2, 1, 2, 1, 0, 0, 0, 0, 3, 0, 0, 0, 2, 0, 0, 0, 0, 0] errors per layout out of total [9990, 9990, 9990, 9990, 9990] shots\n"
     ]
    },
    {
     "name": "stderr",
     "output_type": "stream",
     "text": [
      "90it [00:22,  4.05it/s]\n",
      " 60%|██████    | 6/10 [02:12<01:29, 22.31s/it]"
     ]
    },
    {
     "name": "stdout",
     "output_type": "stream",
     "text": [
      "Job cqqf05gv78p0008mdt2g had [0, 0, 0, 0, 0, 0, 0, 1, 0, 1, 0, 0, 0, 0, 0, 0, 0, 2, 1, 2, 1, 1, 1, 1, 0, 0, 0, 3, 0, 5, 2, 3, 5, 2, 1, 2, 1, 0, 2, 0, 0, 0, 2, 0, 2, 0, 0, 0, 0, 0, 0, 0, 1, 0, 0, 0, 0, 3, 0, 0, 3, 0, 2, 0, 2, 0, 3, 1, 4, 3, 3, 3, 4, 1, 4, 0, 3, 0, 3, 1, 2, 0, 1, 1, 1, 0, 0, 0, 2, 0] errors per layout out of total [9990, 9990, 9990, 9990, 9990, 9990] shots\n"
     ]
    },
    {
     "name": "stderr",
     "output_type": "stream",
     "text": [
      "90it [00:20,  4.31it/s]\n",
      " 70%|███████   | 7/10 [02:33<01:06, 22.04s/it]"
     ]
    },
    {
     "name": "stdout",
     "output_type": "stream",
     "text": [
      "Job cqqf02r417q0008ytz9g had [0, 0, 1, 0, 0, 0, 1, 0, 0, 0, 0, 1, 0, 0, 0, 1, 0, 1, 0, 1, 0, 5, 0, 2, 0, 3, 0, 0, 0, 6, 2, 6, 2, 3, 2, 2, 4, 1, 0, 0, 2, 0, 0, 0, 1, 0, 0, 0, 0, 1, 0, 2, 0, 0, 0, 0, 1, 2, 0, 0, 1, 0, 1, 0, 1, 0, 2, 0, 3, 1, 2, 1, 4, 0, 3, 0, 1, 1, 1, 0, 0, 0, 0, 1, 0, 0, 1, 0, 0, 0] errors per layout out of total [9990, 9990, 9990, 9990, 9990, 9990, 9990] shots\n"
     ]
    },
    {
     "name": "stderr",
     "output_type": "stream",
     "text": [
      "90it [00:20,  4.32it/s]\n",
      " 80%|████████  | 8/10 [02:54<00:43, 21.84s/it]"
     ]
    },
    {
     "name": "stdout",
     "output_type": "stream",
     "text": [
      "Job cqqf018v78p0008mdt20 had [0, 0, 1, 1, 0, 0, 1, 0, 0, 1, 0, 0, 0, 0, 0, 1, 0, 0, 0, 0, 0, 2, 0, 0, 0, 1, 0, 3, 0, 2, 2, 5, 3, 4, 1, 2, 0, 3, 0, 0, 0, 0, 0, 0, 0, 0, 0, 0, 0, 1, 0, 0, 0, 0, 0, 1, 0, 1, 0, 0, 2, 0, 1, 0, 2, 1, 4, 1, 5, 0, 1, 0, 3, 1, 4, 1, 0, 0, 0, 1, 1, 0, 0, 1, 0, 0, 0, 0, 0, 0] errors per layout out of total [9990, 9990, 9990, 9990, 9990, 9990, 9990, 9990] shots\n"
     ]
    },
    {
     "name": "stderr",
     "output_type": "stream",
     "text": [
      "90it [00:20,  4.43it/s]\n",
      " 90%|█████████ | 9/10 [03:15<00:21, 21.59s/it]"
     ]
    },
    {
     "name": "stdout",
     "output_type": "stream",
     "text": [
      "Job cqqezzq417q0008ytz8g had [0, 0, 0, 0, 0, 0, 2, 0, 0, 1, 1, 0, 0, 0, 0, 2, 0, 1, 0, 2, 0, 3, 0, 1, 0, 1, 0, 2, 1, 5, 3, 14, 2, 3, 0, 1, 1, 0, 0, 0, 0, 0, 0, 2, 0, 0, 0, 0, 0, 0, 0, 1, 0, 1, 0, 1, 0, 1, 0, 0, 1, 0, 4, 0, 3, 1, 5, 0, 5, 0, 4, 0, 5, 1, 1, 0, 0, 1, 1, 0, 1, 0, 0, 1, 1, 1, 0, 0, 0, 0] errors per layout out of total [9990, 9990, 9990, 9990, 9990, 9990, 9990, 9990, 9990] shots\n"
     ]
    },
    {
     "name": "stderr",
     "output_type": "stream",
     "text": [
      "90it [00:20,  4.45it/s]\n",
      "100%|██████████| 10/10 [03:36<00:00, 21.68s/it]"
     ]
    },
    {
     "name": "stdout",
     "output_type": "stream",
     "text": [
      "Job cqqezy7r43fg008x5tc0 had [0, 0, 0, 0, 0, 0, 0, 1, 0, 0, 0, 0, 0, 0, 1, 1, 0, 1, 0, 0, 0, 3, 0, 2, 0, 3, 0, 5, 0, 3, 2, 8, 2, 5, 0, 2, 0, 1, 1, 0, 0, 0, 0, 1, 1, 1, 0, 0, 0, 0, 1, 0, 0, 0, 0, 1, 0, 3, 3, 0, 1, 0, 2, 0, 2, 0, 7, 0, 3, 1, 5, 0, 1, 0, 7, 0, 3, 0, 3, 0, 3, 1, 0, 0, 0, 0, 0, 0, 0, 0] errors per layout out of total [9990, 9990, 9990, 9990, 9990, 9990, 9990, 9990, 9990, 9990] shots\n"
     ]
    },
    {
     "name": "stderr",
     "output_type": "stream",
     "text": [
      "\n"
     ]
    }
   ],
   "source": [
    "from soft_info import get_repcode_IQ_map, counts_to_det_syndr\n",
    "import stim\n",
    "import pymatching\n",
    "from tqdm import tqdm\n",
    "import numpy as np\n",
    "import time\n",
    "\n",
    "_DETAILED = False\n",
    "\n",
    "num_errors_per_job = []\n",
    "num_shots_per_job = []\n",
    "\n",
    "num_errors_in_first_layout = []\n",
    "num_shots_in_first_layout = []\n",
    "\n",
    "for job_id in tqdm(md['job_id']):\n",
    "    num_shots_per_job_ = 0\n",
    "    job = provider.retrieve_job(job_id)\n",
    "    layouts = job.initial_layouts()\n",
    "\n",
    "    num_errors_per_layout = []\n",
    "    for idx, layout in tqdm(enumerate(list(layouts))):\n",
    "        \n",
    "        # Get the layout + noise\n",
    "        layout_des = job.deserialize_layout(layout)    \n",
    "        layout = list(layout_des['link_qubit'].values()) + list(layout_des['code_qubit'].values())\n",
    "        qubit_mapping = get_repcode_IQ_map(layout, synd_rounds=ROUNDS)\n",
    "        avgs = get_avgs_from_dict(noise_dict, layout)\n",
    "\n",
    "        # Initialize the stim model\n",
    "        circuit = stim.Circuit.generated(\"repetition_code:memory\",\n",
    "                                distance=DISTANCE,\n",
    "                                rounds=ROUNDS,\n",
    "                                after_clifford_depolarization=avgs[\"two_gate\"], #two-qubit-fidelity,\n",
    "                                after_reset_flip_probability = 0, #if not _RESETS else avgs[\"readout\"], #reset error\n",
    "                                before_measure_flip_probability=avgs[\"readout\"], #measurement error,\n",
    "                                before_round_data_depolarization=avgs[\"idle\"]) #idle error)\n",
    "        model = circuit.detector_error_model(decompose_errors=False)\n",
    "\n",
    "        # Decode the counts\n",
    "        memory = job.result().get_memory(idx)\n",
    "        result_kde = cpp_soft_info.decode_IQ_kde(model, memory, ROUNDS, int(LOGICAL), _RESETS, \n",
    "                                                qubit_mapping, kde_dict, _DETAILED, relError=rel_error, absError=-1,\n",
    "                                                nb_intervals=-1)\n",
    "        \n",
    "        num_errors_per_layout.append(result_kde.num_errors)\n",
    "        num_shots_per_job_ += memory.shape[0]\n",
    "        if idx == 0:\n",
    "            num_shots_in_first_layout.append(memory.shape[0])\n",
    "    num_shots_per_job.append(num_shots_per_job_)\n",
    "    num_errors_per_job.append(np.sum(num_errors_per_layout))\n",
    "\n",
    "    num_errors_in_first_layout.append(num_errors_per_layout[0])\n",
    "\n",
    "    print(f\"Job {job_id} had {num_errors_per_layout} errors per layout out of total {num_shots_per_job} shots\")\n",
    "\n",
    "\n"
   ]
  },
  {
   "cell_type": "code",
   "execution_count": 24,
   "metadata": {},
   "outputs": [
    {
     "name": "stdout",
     "output_type": "stream",
     "text": [
      "num_errors_per_job [97, 89, 81, 83, 57, 92, 77, 65, 88, 91]\n",
      "num_shots_per_job [9990, 9990, 9990, 9990, 9990, 9990, 9990, 9990, 9990, 9990]\n",
      "sum(num_errors_per_job) 820\n",
      "sum(num_shots_per_job) 99900\n",
      "The error rate is 0.82 %\n"
     ]
    }
   ],
   "source": [
    "# Calculate the error rate\n",
    "print('num_errors_per_job', num_errors_per_job)\n",
    "print('num_shots_per_job', num_shots_per_job)\n",
    "print('sum(num_errors_per_job)', np.sum(num_errors_per_job))\n",
    "print('sum(num_shots_per_job)', np.sum(num_shots_per_job))\n",
    "\n",
    "error_rate = np.sum(num_errors_per_job) / np.sum(num_shots_per_job)\n",
    "\n",
    "print(f\"The error rate is {error_rate*100:.2f} %\")"
   ]
  },
  {
   "cell_type": "code",
   "execution_count": 25,
   "metadata": {},
   "outputs": [
    {
     "name": "stdout",
     "output_type": "stream",
     "text": [
      "num_errors_in_first_layout 2\n",
      "num_shots_in_first_layout 1110\n",
      "The error rate on the first layout is 0.18 %\n"
     ]
    }
   ],
   "source": [
    "# Individual error rates on first layout\n",
    "\n",
    "print('num_errors_in_first_layout', np.sum(num_errors_in_first_layout))\n",
    "print('num_shots_in_first_layout', np.sum(num_shots_in_first_layout))\n",
    "\n",
    "error_rate_first_layout = np.sum(num_errors_in_first_layout) / np.sum(num_shots_in_first_layout)\n",
    "\n",
    "print(f\"The error rate on the first layout is {error_rate_first_layout*100:.2f} %\")"
   ]
  }
 ],
 "metadata": {
  "kernelspec": {
   "display_name": "Soft-Info-fMUpUe5a",
   "language": "python",
   "name": "python3"
  },
  "language_info": {
   "codemirror_mode": {
    "name": "ipython",
    "version": 3
   },
   "file_extension": ".py",
   "mimetype": "text/x-python",
   "name": "python",
   "nbconvert_exporter": "python",
   "pygments_lexer": "ipython3",
   "version": "3.11.4"
  }
 },
 "nbformat": 4,
 "nbformat_minor": 2
}
