{
 "cells": [
  {
   "cell_type": "markdown",
   "metadata": {},
   "source": [
    "# Load the data"
   ]
  },
  {
   "cell_type": "code",
   "execution_count": 1,
   "metadata": {},
   "outputs": [],
   "source": [
    "from result_saver import SaverProvider\n",
    "\n",
    "provider = SaverProvider()"
   ]
  },
  {
   "cell_type": "code",
   "execution_count": 2,
   "metadata": {},
   "outputs": [
    {
     "data": {
      "text/html": [
       "<div>\n",
       "<style scoped>\n",
       "    .dataframe tbody tr th:only-of-type {\n",
       "        vertical-align: middle;\n",
       "    }\n",
       "\n",
       "    .dataframe tbody tr th {\n",
       "        vertical-align: top;\n",
       "    }\n",
       "\n",
       "    .dataframe thead th {\n",
       "        text-align: right;\n",
       "    }\n",
       "</style>\n",
       "<table border=\"1\" class=\"dataframe\">\n",
       "  <thead>\n",
       "    <tr style=\"text-align: right;\">\n",
       "      <th></th>\n",
       "      <th>creation_date</th>\n",
       "      <th>notebook_name</th>\n",
       "      <th>backend_name</th>\n",
       "      <th>job_id</th>\n",
       "      <th>tags</th>\n",
       "      <th>meas_level</th>\n",
       "      <th>shots</th>\n",
       "      <th>tags_xp</th>\n",
       "      <th>rep_delay</th>\n",
       "      <th>sampled_state</th>\n",
       "      <th>...</th>\n",
       "      <th>optimization_level</th>\n",
       "      <th>code</th>\n",
       "      <th>distance</th>\n",
       "      <th>rounds</th>\n",
       "      <th>logical</th>\n",
       "      <th>layout</th>\n",
       "      <th>descr</th>\n",
       "      <th>num_CNOTS_layers</th>\n",
       "      <th>num_CNOT_layers</th>\n",
       "      <th>resets</th>\n",
       "    </tr>\n",
       "  </thead>\n",
       "  <tbody>\n",
       "    <tr>\n",
       "      <th>2607</th>\n",
       "      <td>2024-03-10 18:36:49.567000+01:00</td>\n",
       "      <td>mean_pos_mumbai</td>\n",
       "      <td>ibmq_mumbai</td>\n",
       "      <td>cqpyzcd2b6ng008y69pg</td>\n",
       "      <td>[RepCode Mean Positions]</td>\n",
       "      <td>1.0</td>\n",
       "      <td>6944.0</td>\n",
       "      <td>NaN</td>\n",
       "      <td>0.0005</td>\n",
       "      <td>NaN</td>\n",
       "      <td>...</td>\n",
       "      <td>NaN</td>\n",
       "      <td>RepetitionCodeCircuit</td>\n",
       "      <td>3</td>\n",
       "      <td>3</td>\n",
       "      <td>0</td>\n",
       "      <td>NaN</td>\n",
       "      <td>Mean positions</td>\n",
       "      <td>NaN</td>\n",
       "      <td>NaN</td>\n",
       "      <td>False</td>\n",
       "    </tr>\n",
       "  </tbody>\n",
       "</table>\n",
       "<p>1 rows × 24 columns</p>\n",
       "</div>"
      ],
      "text/plain": [
       "                         creation_date    notebook_name backend_name  \\\n",
       "2607  2024-03-10 18:36:49.567000+01:00  mean_pos_mumbai  ibmq_mumbai   \n",
       "\n",
       "                    job_id                      tags  meas_level   shots  \\\n",
       "2607  cqpyzcd2b6ng008y69pg  [RepCode Mean Positions]         1.0  6944.0   \n",
       "\n",
       "     tags_xp  rep_delay sampled_state  ...  optimization_level  \\\n",
       "2607     NaN     0.0005           NaN  ...                 NaN   \n",
       "\n",
       "                       code distance rounds  logical layout           descr  \\\n",
       "2607  RepetitionCodeCircuit        3      3        0    NaN  Mean positions   \n",
       "\n",
       "      num_CNOTS_layers num_CNOT_layers resets  \n",
       "2607               NaN             NaN  False  \n",
       "\n",
       "[1 rows x 24 columns]"
      ]
     },
     "execution_count": 2,
     "metadata": {},
     "output_type": "execute_result"
    }
   ],
   "source": [
    "from Scratch import metadata_loader\n",
    "import numpy as np\n",
    "from tqdm import tqdm\n",
    "\n",
    "DEVICE = \"ibmq_mumbai\"\n",
    "LOGICAL = 0\n",
    "DISTANCE = 3\n",
    "ROUNDS = 3\n",
    "\n",
    "# Load the metadata\n",
    "md = metadata_loader(True, True)\n",
    "md = md[md[\"job_status\"] == \"JobStatus.DONE\"]\n",
    "md = md[md[\"code\"] == \"RepetitionCodeCircuit\"]\n",
    "md = md.dropna(subset=[\"rounds\"])\n",
    "md = md[md[\"meas_level\"] == 1]\n",
    "md['rounds'] = md['rounds'].astype(int)\n",
    "md['distance'] = md['distance'].astype(int)\n",
    "\n",
    "md = md[md[\"backend_name\"] == DEVICE]\n",
    "md = md[md[\"logical\"] == LOGICAL]\n",
    "md = md[md[\"rounds\"] == DISTANCE]\n",
    "md = md[md[\"distance\"] == ROUNDS]\n",
    "md"
   ]
  },
  {
   "cell_type": "markdown",
   "metadata": {},
   "source": [
    "# Analyze the job"
   ]
  },
  {
   "cell_type": "code",
   "execution_count": 3,
   "metadata": {},
   "outputs": [],
   "source": [
    "job = provider.retrieve_job(md.iloc[0][\"job_id\"])"
   ]
  },
  {
   "cell_type": "code",
   "execution_count": 4,
   "metadata": {},
   "outputs": [
    {
     "name": "stdout",
     "output_type": "stream",
     "text": [
      "16\n",
      "{\"Qubit(QuantumRegister(22, 'ancilla'), 0)\": '0', \"Qubit(QuantumRegister(2, 'link_qubit'), 1)\": '1', \"Qubit(QuantumRegister(3, 'code_qubit'), 1)\": '2', \"Qubit(QuantumRegister(2, 'link_qubit'), 0)\": '3', \"Qubit(QuantumRegister(3, 'code_qubit'), 2)\": '4', \"Qubit(QuantumRegister(3, 'code_qubit'), 0)\": '5', \"Qubit(QuantumRegister(22, 'ancilla'), 1)\": '6', \"Qubit(QuantumRegister(22, 'ancilla'), 2)\": '7', \"Qubit(QuantumRegister(22, 'ancilla'), 3)\": '8', \"Qubit(QuantumRegister(22, 'ancilla'), 4)\": '9', \"Qubit(QuantumRegister(22, 'ancilla'), 5)\": '10', \"Qubit(QuantumRegister(22, 'ancilla'), 6)\": '11', \"Qubit(QuantumRegister(22, 'ancilla'), 7)\": '12', \"Qubit(QuantumRegister(22, 'ancilla'), 8)\": '13', \"Qubit(QuantumRegister(22, 'ancilla'), 9)\": '14', \"Qubit(QuantumRegister(22, 'ancilla'), 10)\": '15', \"Qubit(QuantumRegister(22, 'ancilla'), 11)\": '16', \"Qubit(QuantumRegister(22, 'ancilla'), 12)\": '17', \"Qubit(QuantumRegister(22, 'ancilla'), 13)\": '18', \"Qubit(QuantumRegister(22, 'ancilla'), 14)\": '19', \"Qubit(QuantumRegister(22, 'ancilla'), 15)\": '20', \"Qubit(QuantumRegister(22, 'ancilla'), 16)\": '21', \"Qubit(QuantumRegister(22, 'ancilla'), 17)\": '22', \"Qubit(QuantumRegister(22, 'ancilla'), 18)\": '23', \"Qubit(QuantumRegister(22, 'ancilla'), 19)\": '24', \"Qubit(QuantumRegister(22, 'ancilla'), 20)\": '25', \"Qubit(QuantumRegister(22, 'ancilla'), 21)\": '26'}\n",
      "{'ancilla': {0: 0, 1: 6, 2: 7, 3: 8, 4: 9, 5: 10, 6: 11, 7: 12, 8: 13, 9: 14, 10: 15, 11: 16, 12: 17, 13: 18, 14: 19, 15: 20, 16: 21, 17: 22, 18: 23, 19: 24, 20: 25, 21: 26}, 'link_qubit': {0: 3, 1: 1}, 'code_qubit': {0: 5, 1: 2, 2: 4}}\n"
     ]
    }
   ],
   "source": [
    "print(len(job.initial_layouts()))\n",
    "layout = job.initial_layouts()[8]\n",
    "print(layout)\n",
    "print(job.deserialize_layout(layout))\n"
   ]
  },
  {
   "cell_type": "code",
   "execution_count": 5,
   "metadata": {},
   "outputs": [
    {
     "name": "stdout",
     "output_type": "stream",
     "text": [
      "(6944, 9)\n"
     ]
    }
   ],
   "source": [
    "print(job.result().get_memory(11).shape)"
   ]
  },
  {
   "cell_type": "markdown",
   "metadata": {},
   "source": [
    "# Decode"
   ]
  },
  {
   "cell_type": "code",
   "execution_count": 6,
   "metadata": {},
   "outputs": [
    {
     "name": "stdout",
     "output_type": "stream",
     "text": [
      "18:36:41 Warning: Could not get two gate error of ECR due to 'Could not find the desired property for ecr', taking CX instead.. IN FILE: /Users/mha/My_Drive/Desktop/Studium/Physik/MSc/Semester_3/IBM/IBM_GIT/Soft-Info/src/soft_info/Hardware/backend_noise.py, LINE: 49\n",
      "Specified job execution date: 2024-03-10 18:37:54.874642+01:00\n",
      "Found jobs for backend ibmq_mumbai with closest execution date 2024-03-10 16:56:34.510733+00:00.\n"
     ]
    }
   ],
   "source": [
    "import json\n",
    "\n",
    "import pymatching\n",
    "import stim \n",
    "from soft_info import get_noise_dict_from_backend, get_avgs_from_dict, get_repcode_IQ_map, create_or_load_kde_grid\n",
    "from src import cpp_soft_info\n",
    "from Scratch import load_calibration_memory\n",
    "\n",
    "_DETAILED = False\n",
    "\n",
    "rel_error = 1\n",
    "_RESETS = False\n",
    "\n",
    "# KDE BANDWIDTHS\n",
    "lin = [0.4, 0.7, 20]\n",
    "num_points = 51\n",
    "lin = [0.4, 0.7, 2]\n",
    "num_points = 2\n",
    "\n",
    "bandwidths = np.linspace(lin[0], lin[1], lin[2])\n",
    "\n",
    "# bandwidths = [0.6]\n",
    "num_points = 4\n",
    "\n",
    "\n",
    "# Get the date and noise\n",
    "date = md.iloc[0][\"creation_date\"]\n",
    "noise_dict = get_noise_dict_from_backend(provider, DEVICE, date=date)\n",
    "\n",
    "# Get the KDEs\n",
    "all_memories = load_calibration_memory(provider, md.iloc[0][\"job_id\"])\n",
    "\n",
    "kde_dict = cpp_soft_info.get_KDEs(all_memories, bandwidths, relError=1, absError=-1, num_points=num_points)\n",
    "\n",
    "# Get kde grids\n",
    "# grid_dict, scaler_dict = create_or_load_kde_grid(provider, md.iloc[0][\"job_id\"], num_grid_points=10, num_std_dev=2)"
   ]
  },
  {
   "cell_type": "code",
   "execution_count": 8,
   "metadata": {},
   "outputs": [
    {
     "name": "stderr",
     "output_type": "stream",
     "text": [
      "Decoding circuits: 0it [00:00, ?it/s]"
     ]
    },
    {
     "name": "stderr",
     "output_type": "stream",
     "text": [
      "Decoding circuits: 1it [00:01,  1.48s/it]"
     ]
    },
    {
     "name": "stdout",
     "output_type": "stream",
     "text": [
      "num_errors: 10 out of 6944\n"
     ]
    },
    {
     "name": "stderr",
     "output_type": "stream",
     "text": [
      "Decoding circuits: 2it [00:02,  1.44s/it]"
     ]
    },
    {
     "name": "stdout",
     "output_type": "stream",
     "text": [
      "num_errors: 16 out of 6944\n"
     ]
    },
    {
     "name": "stderr",
     "output_type": "stream",
     "text": [
      "Decoding circuits: 3it [00:04,  1.46s/it]"
     ]
    },
    {
     "name": "stdout",
     "output_type": "stream",
     "text": [
      "num_errors: 19 out of 6944\n"
     ]
    },
    {
     "name": "stderr",
     "output_type": "stream",
     "text": [
      "Decoding circuits: 4it [00:05,  1.47s/it]"
     ]
    },
    {
     "name": "stdout",
     "output_type": "stream",
     "text": [
      "num_errors: 30 out of 6944\n"
     ]
    },
    {
     "name": "stderr",
     "output_type": "stream",
     "text": [
      "Decoding circuits: 5it [00:07,  1.46s/it]"
     ]
    },
    {
     "name": "stdout",
     "output_type": "stream",
     "text": [
      "num_errors: 33 out of 6944\n"
     ]
    },
    {
     "name": "stderr",
     "output_type": "stream",
     "text": [
      "Decoding circuits: 6it [00:08,  1.44s/it]"
     ]
    },
    {
     "name": "stdout",
     "output_type": "stream",
     "text": [
      "num_errors: 22 out of 6944\n"
     ]
    },
    {
     "name": "stderr",
     "output_type": "stream",
     "text": [
      "Decoding circuits: 7it [00:10,  1.39s/it]"
     ]
    },
    {
     "name": "stdout",
     "output_type": "stream",
     "text": [
      "num_errors: 54 out of 6944\n"
     ]
    },
    {
     "name": "stderr",
     "output_type": "stream",
     "text": [
      "Decoding circuits: 8it [00:11,  1.38s/it]"
     ]
    },
    {
     "name": "stdout",
     "output_type": "stream",
     "text": [
      "num_errors: 9 out of 6944\n"
     ]
    },
    {
     "name": "stderr",
     "output_type": "stream",
     "text": [
      "Decoding circuits: 9it [00:12,  1.35s/it]"
     ]
    },
    {
     "name": "stdout",
     "output_type": "stream",
     "text": [
      "num_errors: 40 out of 6944\n"
     ]
    },
    {
     "name": "stderr",
     "output_type": "stream",
     "text": [
      "Decoding circuits: 10it [00:13,  1.33s/it]"
     ]
    },
    {
     "name": "stdout",
     "output_type": "stream",
     "text": [
      "num_errors: 5 out of 6944\n"
     ]
    },
    {
     "name": "stderr",
     "output_type": "stream",
     "text": [
      "Decoding circuits: 11it [00:15,  1.35s/it]"
     ]
    },
    {
     "name": "stdout",
     "output_type": "stream",
     "text": [
      "num_errors: 34 out of 6944\n"
     ]
    },
    {
     "name": "stderr",
     "output_type": "stream",
     "text": [
      "Decoding circuits: 12it [00:16,  1.36s/it]"
     ]
    },
    {
     "name": "stdout",
     "output_type": "stream",
     "text": [
      "num_errors: 16 out of 6944\n"
     ]
    },
    {
     "name": "stderr",
     "output_type": "stream",
     "text": [
      "Decoding circuits: 13it [00:18,  1.38s/it]"
     ]
    },
    {
     "name": "stdout",
     "output_type": "stream",
     "text": [
      "num_errors: 47 out of 6944\n"
     ]
    },
    {
     "name": "stderr",
     "output_type": "stream",
     "text": [
      "Decoding circuits: 14it [00:19,  1.37s/it]"
     ]
    },
    {
     "name": "stdout",
     "output_type": "stream",
     "text": [
      "num_errors: 30 out of 6944\n"
     ]
    },
    {
     "name": "stderr",
     "output_type": "stream",
     "text": [
      "Decoding circuits: 15it [00:20,  1.37s/it]"
     ]
    },
    {
     "name": "stdout",
     "output_type": "stream",
     "text": [
      "num_errors: 12 out of 6944\n"
     ]
    },
    {
     "name": "stderr",
     "output_type": "stream",
     "text": [
      "Decoding circuits: 16it [00:22,  1.39s/it]"
     ]
    },
    {
     "name": "stdout",
     "output_type": "stream",
     "text": [
      "num_errors: 59 out of 6944\n",
      "num_errors: [10, 16, 19, 30, 33, 22, 54, 9, 40, 5, 34, 16, 47, 30, 12, 59]\n"
     ]
    },
    {
     "name": "stderr",
     "output_type": "stream",
     "text": [
      "\n"
     ]
    }
   ],
   "source": [
    "import time \n",
    "\n",
    "layouts = list(job.initial_layouts())\n",
    "\n",
    "num_errors = []\n",
    "for idx, layout_dict in tqdm(enumerate(layouts[:]), desc=\"Decoding circuits\"):\n",
    "\n",
    "    layout_dict_des = job.deserialize_layout(layout_dict)\n",
    "\n",
    "    layout = list(layout_dict_des['link_qubit'].values()) + list(layout_dict_des['code_qubit'].values())\n",
    "\n",
    "    qubit_mapping = get_repcode_IQ_map(layout, synd_rounds=ROUNDS)\n",
    "    avgs = get_avgs_from_dict(noise_dict, layout)\n",
    "\n",
    "    # Initialize the stim model\n",
    "    circuit = stim.Circuit.generated(\"repetition_code:memory\",\n",
    "                            distance=DISTANCE,\n",
    "                            rounds=ROUNDS,\n",
    "                            after_clifford_depolarization=avgs[\"two_gate\"], #two-qubit-fidelity,\n",
    "                            after_reset_flip_probability=0 if not _RESETS else avgs[\"readout\"], #reset error\n",
    "                            before_measure_flip_probability=avgs[\"readout\"], #measurement error,\n",
    "                            before_round_data_depolarization=avgs[\"idle\"]) #idle error)\n",
    "    model = circuit.detector_error_model(decompose_errors=False)\n",
    "\n",
    "    memory = job.result().get_memory(idx)\n",
    "    result_kde = cpp_soft_info.decode_IQ_kde(model, memory, ROUNDS, int(LOGICAL), _RESETS, \n",
    "                                                qubit_mapping, kde_dict, _DETAILED, relError=rel_error, absError=-1)\n",
    "    \n",
    "    num_errors.append(result_kde.num_errors)\n",
    "    print(f\"num_errors: {result_kde.num_errors} out of {len(memory)}\")\n",
    "\n",
    "print(f\"num_errors: {num_errors}\")"
   ]
  },
  {
   "cell_type": "markdown",
   "metadata": {},
   "source": [
    "# Performance analysis"
   ]
  },
  {
   "cell_type": "markdown",
   "metadata": {},
   "source": [
    "import cProfile\n",
    "\n",
    "def f():\n",
    "    num_errors = []\n",
    "    for idx, layout_dict in tqdm(enumerate(job.initial_layouts()), desc=\"Decoding circuits\"):\n",
    "\n",
    "        layout_dict_des = job.deserialize_layout(layout_dict)\n",
    "\n",
    "        layout = list(layout_dict_des['link_qubit'].values()) + list(layout_dict_des['code_qubit'].values())\n",
    "\n",
    "        qubit_mapping = get_repcode_IQ_map(layout, synd_rounds=3)\n",
    "        avgs = get_avgs_from_dict(noise_dict, layout)\n",
    "\n",
    "        # Initialize the stim model\n",
    "        circuit = stim.Circuit.generated(\"repetition_code:memory\",\n",
    "                                distance=3,\n",
    "                                rounds=3,\n",
    "                                after_clifford_depolarization=avgs[\"two_gate\"], #two-qubit-fidelity,\n",
    "                                after_reset_flip_probability=0 if not _RESETS else avgs[\"readout\"], #reset error\n",
    "                                before_measure_flip_probability=avgs[\"readout\"], #measurement error,\n",
    "                                before_round_data_depolarization=avgs[\"idle\"]) #idle error)\n",
    "        model = circuit.detector_error_model(decompose_errors=False)\n",
    "\n",
    "        memory = job.result().get_memory(idx)\n",
    "        result_kde = cpp_soft_info.decode_IQ_kde(model, memory, 3, int(LOGICAL), _RESETS, \n",
    "                                                    qubit_mapping, kde_dict, _DETAILED, relError=rel_error, absError=-1,\n",
    "                                                    nb_intervals=-1)\n",
    "        \n",
    "        num_errors.append(result_kde.num_errors)\n",
    "\n",
    "\n",
    "cProfile.run(\"f()\")\n"
   ]
  }
 ],
 "metadata": {
  "kernelspec": {
   "display_name": "Soft-Info-fMUpUe5a",
   "language": "python",
   "name": "python3"
  },
  "language_info": {
   "codemirror_mode": {
    "name": "ipython",
    "version": 3
   },
   "file_extension": ".py",
   "mimetype": "text/x-python",
   "name": "python",
   "nbconvert_exporter": "python",
   "pygments_lexer": "ipython3",
   "version": "3.11.4"
  }
 },
 "nbformat": 4,
 "nbformat_minor": 2
}
