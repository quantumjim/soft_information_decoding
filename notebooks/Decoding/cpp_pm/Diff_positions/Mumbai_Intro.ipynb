{
 "cells": [
  {
   "cell_type": "code",
   "execution_count": 1,
   "metadata": {},
   "outputs": [],
   "source": [
    "%reload_ext autoreload\n",
    "%autoreload 2"
   ]
  },
  {
   "cell_type": "markdown",
   "metadata": {},
   "source": [
    "# Load the data"
   ]
  },
  {
   "cell_type": "code",
   "execution_count": 2,
   "metadata": {},
   "outputs": [],
   "source": [
    "from result_saver import SaverProvider\n",
    "\n",
    "provider = SaverProvider()"
   ]
  },
  {
   "cell_type": "code",
   "execution_count": 3,
   "metadata": {},
   "outputs": [
    {
     "data": {
      "text/html": [
       "<div>\n",
       "<style scoped>\n",
       "    .dataframe tbody tr th:only-of-type {\n",
       "        vertical-align: middle;\n",
       "    }\n",
       "\n",
       "    .dataframe tbody tr th {\n",
       "        vertical-align: top;\n",
       "    }\n",
       "\n",
       "    .dataframe thead th {\n",
       "        text-align: right;\n",
       "    }\n",
       "</style>\n",
       "<table border=\"1\" class=\"dataframe\">\n",
       "  <thead>\n",
       "    <tr style=\"text-align: right;\">\n",
       "      <th></th>\n",
       "      <th>creation_date</th>\n",
       "      <th>notebook_name</th>\n",
       "      <th>backend_name</th>\n",
       "      <th>job_id</th>\n",
       "      <th>tags</th>\n",
       "      <th>meas_level</th>\n",
       "      <th>shots</th>\n",
       "      <th>tags_xp</th>\n",
       "      <th>rep_delay</th>\n",
       "      <th>sampled_state</th>\n",
       "      <th>...</th>\n",
       "      <th>optimization_level</th>\n",
       "      <th>code</th>\n",
       "      <th>distance</th>\n",
       "      <th>rounds</th>\n",
       "      <th>logical</th>\n",
       "      <th>layout</th>\n",
       "      <th>descr</th>\n",
       "      <th>num_CNOTS_layers</th>\n",
       "      <th>num_CNOT_layers</th>\n",
       "      <th>resets</th>\n",
       "    </tr>\n",
       "  </thead>\n",
       "  <tbody>\n",
       "    <tr>\n",
       "      <th>2607</th>\n",
       "      <td>2024-03-10 18:36:49.567000+01:00</td>\n",
       "      <td>mean_pos_mumbai</td>\n",
       "      <td>ibmq_mumbai</td>\n",
       "      <td>cqpyzcd2b6ng008y69pg</td>\n",
       "      <td>[RepCode Mean Positions]</td>\n",
       "      <td>1.0</td>\n",
       "      <td>6944.0</td>\n",
       "      <td>NaN</td>\n",
       "      <td>0.0005</td>\n",
       "      <td>NaN</td>\n",
       "      <td>...</td>\n",
       "      <td>NaN</td>\n",
       "      <td>RepetitionCodeCircuit</td>\n",
       "      <td>3</td>\n",
       "      <td>3</td>\n",
       "      <td>0</td>\n",
       "      <td>NaN</td>\n",
       "      <td>Mean positions</td>\n",
       "      <td>NaN</td>\n",
       "      <td>NaN</td>\n",
       "      <td>False</td>\n",
       "    </tr>\n",
       "  </tbody>\n",
       "</table>\n",
       "<p>1 rows × 24 columns</p>\n",
       "</div>"
      ],
      "text/plain": [
       "                         creation_date    notebook_name backend_name  \\\n",
       "2607  2024-03-10 18:36:49.567000+01:00  mean_pos_mumbai  ibmq_mumbai   \n",
       "\n",
       "                    job_id                      tags  meas_level   shots  \\\n",
       "2607  cqpyzcd2b6ng008y69pg  [RepCode Mean Positions]         1.0  6944.0   \n",
       "\n",
       "     tags_xp  rep_delay sampled_state  ...  optimization_level  \\\n",
       "2607     NaN     0.0005           NaN  ...                 NaN   \n",
       "\n",
       "                       code distance rounds  logical layout           descr  \\\n",
       "2607  RepetitionCodeCircuit        3      3        0    NaN  Mean positions   \n",
       "\n",
       "      num_CNOTS_layers num_CNOT_layers resets  \n",
       "2607               NaN             NaN  False  \n",
       "\n",
       "[1 rows x 24 columns]"
      ]
     },
     "execution_count": 3,
     "metadata": {},
     "output_type": "execute_result"
    }
   ],
   "source": [
    "from Scratch import metadata_loader\n",
    "import numpy as np\n",
    "from tqdm import tqdm\n",
    "\n",
    "DEVICE = \"ibmq_mumbai\"\n",
    "LOGICAL = str(0)\n",
    "\n",
    "# Load the metadata\n",
    "md = metadata_loader(True, True)\n",
    "md = md[md[\"job_status\"] == \"JobStatus.DONE\"]\n",
    "md = md[md[\"code\"] == \"RepetitionCodeCircuit\"]\n",
    "md = md.dropna(subset=[\"rounds\"])\n",
    "md = md[md[\"meas_level\"] == 1]\n",
    "md['rounds'] = md['rounds'].astype(int)\n",
    "md['distance'] = md['distance'].astype(int)\n",
    "\n",
    "md = md[md[\"backend_name\"] == DEVICE]\n",
    "md = md[md[\"logical\"] == 0]\n",
    "md = md[md[\"rounds\"] == 3]\n",
    "md = md[md[\"distance\"] == 3]\n",
    "md"
   ]
  },
  {
   "cell_type": "markdown",
   "metadata": {},
   "source": [
    "# Analyze the job"
   ]
  },
  {
   "cell_type": "code",
   "execution_count": 28,
   "metadata": {},
   "outputs": [],
   "source": [
    "job = provider.retrieve_job(md.iloc[0][\"job_id\"])"
   ]
  },
  {
   "cell_type": "code",
   "execution_count": 23,
   "metadata": {},
   "outputs": [
    {
     "name": "stdout",
     "output_type": "stream",
     "text": [
      "16\n",
      "{\"Qubit(QuantumRegister(22, 'ancilla'), 0)\": '0', \"Qubit(QuantumRegister(2, 'link_qubit'), 1)\": '1', \"Qubit(QuantumRegister(3, 'code_qubit'), 1)\": '2', \"Qubit(QuantumRegister(2, 'link_qubit'), 0)\": '3', \"Qubit(QuantumRegister(3, 'code_qubit'), 2)\": '4', \"Qubit(QuantumRegister(3, 'code_qubit'), 0)\": '5', \"Qubit(QuantumRegister(22, 'ancilla'), 1)\": '6', \"Qubit(QuantumRegister(22, 'ancilla'), 2)\": '7', \"Qubit(QuantumRegister(22, 'ancilla'), 3)\": '8', \"Qubit(QuantumRegister(22, 'ancilla'), 4)\": '9', \"Qubit(QuantumRegister(22, 'ancilla'), 5)\": '10', \"Qubit(QuantumRegister(22, 'ancilla'), 6)\": '11', \"Qubit(QuantumRegister(22, 'ancilla'), 7)\": '12', \"Qubit(QuantumRegister(22, 'ancilla'), 8)\": '13', \"Qubit(QuantumRegister(22, 'ancilla'), 9)\": '14', \"Qubit(QuantumRegister(22, 'ancilla'), 10)\": '15', \"Qubit(QuantumRegister(22, 'ancilla'), 11)\": '16', \"Qubit(QuantumRegister(22, 'ancilla'), 12)\": '17', \"Qubit(QuantumRegister(22, 'ancilla'), 13)\": '18', \"Qubit(QuantumRegister(22, 'ancilla'), 14)\": '19', \"Qubit(QuantumRegister(22, 'ancilla'), 15)\": '20', \"Qubit(QuantumRegister(22, 'ancilla'), 16)\": '21', \"Qubit(QuantumRegister(22, 'ancilla'), 17)\": '22', \"Qubit(QuantumRegister(22, 'ancilla'), 18)\": '23', \"Qubit(QuantumRegister(22, 'ancilla'), 19)\": '24', \"Qubit(QuantumRegister(22, 'ancilla'), 20)\": '25', \"Qubit(QuantumRegister(22, 'ancilla'), 21)\": '26'}\n",
      "{'ancilla': {0: 0, 1: 6, 2: 7, 3: 8, 4: 9, 5: 10, 6: 11, 7: 12, 8: 13, 9: 14, 10: 15, 11: 16, 12: 17, 13: 18, 14: 19, 15: 20, 16: 21, 17: 22, 18: 23, 19: 24, 20: 25, 21: 26}, 'link_qubit': {0: 3, 1: 1}, 'code_qubit': {0: 5, 1: 2, 2: 4}}\n"
     ]
    }
   ],
   "source": [
    "print(len(job.initial_layouts()))\n",
    "layout = job.initial_layouts()[8]\n",
    "print(layout)\n",
    "print(job.deserialize_layout(layout))\n"
   ]
  },
  {
   "cell_type": "code",
   "execution_count": 22,
   "metadata": {},
   "outputs": [
    {
     "name": "stdout",
     "output_type": "stream",
     "text": [
      "(6944, 9)\n"
     ]
    }
   ],
   "source": [
    "print(job.result().get_memory(11).shape)"
   ]
  },
  {
   "cell_type": "markdown",
   "metadata": {},
   "source": [
    "# Decode"
   ]
  },
  {
   "cell_type": "code",
   "execution_count": 25,
   "metadata": {},
   "outputs": [
    {
     "name": "stdout",
     "output_type": "stream",
     "text": [
      "19:15:25 Warning: Could not get two gate error of ECR due to 'Could not find the desired property for ecr', taking CX instead.. IN FILE: /Users/mha/My_Drive/Desktop/Studium/Physik/MSc/Semester_3/IBM/IBM_GIT/Soft-Info/src/soft_info/Hardware/backend_noise.py, LINE: 49\n",
      "Specified job execution date: 2024-03-10 18:37:54.874642+01:00\n",
      "Found jobs for backend ibmq_mumbai with closest execution date 2024-03-10 16:56:34.510733+00:00.\n"
     ]
    }
   ],
   "source": [
    "import json\n",
    "\n",
    "import pymatching\n",
    "import stim \n",
    "from soft_info import get_noise_dict_from_backend, get_avgs_from_dict, find_longest_path_in_hex, get_repcode_IQ_map\n",
    "import cpp_soft_info\n",
    "from Scratch import load_calibration_memory, create_or_load_kde_grid\n",
    "\n",
    "_DETAILED = False\n",
    "\n",
    "rel_error = 1\n",
    "_RESETS = False\n",
    "\n",
    "# KDE BANDWIDTHS\n",
    "lin = [0.4, 0.7, 20]\n",
    "num_points = 51\n",
    "\n",
    "bandwidths = np.linspace(lin[0], lin[1], lin[2])\n",
    "\n",
    "\n",
    "# Get the date and noise\n",
    "date = md.iloc[0][\"creation_date\"]\n",
    "noise_dict = get_noise_dict_from_backend(provider, DEVICE, date=date)\n",
    "\n",
    "# Get the KDEs\n",
    "all_memories = load_calibration_memory(provider, md.iloc[0][\"job_id\"])\n",
    "kde_dict = cpp_soft_info.get_KDEs(all_memories, bandwidths, relError=1, absError=-1, num_points=num_points)"
   ]
  },
  {
   "cell_type": "code",
   "execution_count": 36,
   "metadata": {},
   "outputs": [
    {
     "name": "stderr",
     "output_type": "stream",
     "text": [
      "Decoding circuits: 0it [00:00, ?it/s]"
     ]
    },
    {
     "name": "stdout",
     "output_type": "stream",
     "text": [
      "[25, 19, 26, 22, 16]\n"
     ]
    },
    {
     "name": "stderr",
     "output_type": "stream",
     "text": [
      "Decoding circuits: 1it [00:01,  1.60s/it]"
     ]
    },
    {
     "name": "stdout",
     "output_type": "stream",
     "text": [
      "[22, 16, 25, 19, 14]\n"
     ]
    },
    {
     "name": "stderr",
     "output_type": "stream",
     "text": [
      "Decoding circuits: 2it [00:02,  1.46s/it]"
     ]
    },
    {
     "name": "stdout",
     "output_type": "stream",
     "text": [
      "[19, 14, 22, 16, 11]\n"
     ]
    },
    {
     "name": "stderr",
     "output_type": "stream",
     "text": [
      "Decoding circuits: 3it [00:04,  1.49s/it]"
     ]
    },
    {
     "name": "stdout",
     "output_type": "stream",
     "text": [
      "[16, 11, 19, 14, 8]\n"
     ]
    },
    {
     "name": "stderr",
     "output_type": "stream",
     "text": [
      "Decoding circuits: 4it [00:06,  1.50s/it]"
     ]
    },
    {
     "name": "stdout",
     "output_type": "stream",
     "text": [
      "[14, 8, 16, 11, 5]\n"
     ]
    },
    {
     "name": "stderr",
     "output_type": "stream",
     "text": [
      "Decoding circuits: 5it [00:07,  1.51s/it]"
     ]
    },
    {
     "name": "stdout",
     "output_type": "stream",
     "text": [
      "[11, 5, 14, 8, 3]\n"
     ]
    },
    {
     "name": "stderr",
     "output_type": "stream",
     "text": [
      "Decoding circuits: 6it [00:08,  1.46s/it]"
     ]
    },
    {
     "name": "stdout",
     "output_type": "stream",
     "text": [
      "[8, 3, 11, 5, 2]\n"
     ]
    },
    {
     "name": "stderr",
     "output_type": "stream",
     "text": [
      "Decoding circuits: 7it [00:10,  1.45s/it]"
     ]
    },
    {
     "name": "stdout",
     "output_type": "stream",
     "text": [
      "[5, 2, 8, 3, 1]\n"
     ]
    },
    {
     "name": "stderr",
     "output_type": "stream",
     "text": [
      "Decoding circuits: 8it [00:11,  1.41s/it]"
     ]
    },
    {
     "name": "stdout",
     "output_type": "stream",
     "text": [
      "[3, 1, 5, 2, 4]\n"
     ]
    },
    {
     "name": "stderr",
     "output_type": "stream",
     "text": [
      "Decoding circuits: 9it [00:12,  1.37s/it]"
     ]
    },
    {
     "name": "stdout",
     "output_type": "stream",
     "text": [
      "[2, 4, 3, 1, 7]\n"
     ]
    },
    {
     "name": "stderr",
     "output_type": "stream",
     "text": [
      "Decoding circuits: 10it [00:14,  1.38s/it]"
     ]
    },
    {
     "name": "stdout",
     "output_type": "stream",
     "text": [
      "[1, 7, 2, 4, 10]\n"
     ]
    },
    {
     "name": "stderr",
     "output_type": "stream",
     "text": [
      "Decoding circuits: 11it [00:15,  1.39s/it]"
     ]
    },
    {
     "name": "stdout",
     "output_type": "stream",
     "text": [
      "[4, 10, 1, 7, 12]\n"
     ]
    },
    {
     "name": "stderr",
     "output_type": "stream",
     "text": [
      "Decoding circuits: 12it [00:17,  1.45s/it]"
     ]
    },
    {
     "name": "stdout",
     "output_type": "stream",
     "text": [
      "[7, 12, 4, 10, 15]\n"
     ]
    },
    {
     "name": "stderr",
     "output_type": "stream",
     "text": [
      "Decoding circuits: 13it [00:18,  1.50s/it]"
     ]
    },
    {
     "name": "stdout",
     "output_type": "stream",
     "text": [
      "[10, 15, 7, 12, 18]\n"
     ]
    },
    {
     "name": "stderr",
     "output_type": "stream",
     "text": [
      "Decoding circuits: 15it [00:21,  1.48s/it]"
     ]
    },
    {
     "name": "stdout",
     "output_type": "stream",
     "text": [
      "[12, 18, 10, 15, 21]\n",
      "[15, 21, 12, 18, 23]\n"
     ]
    },
    {
     "name": "stderr",
     "output_type": "stream",
     "text": [
      "Decoding circuits: 16it [00:23,  1.46s/it]"
     ]
    },
    {
     "name": "stdout",
     "output_type": "stream",
     "text": [
      "num_errors: [10, 16, 19, 30, 33, 22, 54, 9, 40, 5, 34, 16, 47, 30, 12, 59]\n"
     ]
    },
    {
     "name": "stderr",
     "output_type": "stream",
     "text": [
      "\n"
     ]
    }
   ],
   "source": [
    "layouts = list(job.initial_layouts())\n",
    "\n",
    "num_errors = []\n",
    "for idx, layout_dict in tqdm(enumerate(layouts), desc=\"Decoding circuits\"):\n",
    "\n",
    "    layout_dict_des = job.deserialize_layout(layout_dict)\n",
    "\n",
    "    layout = list(layout_dict_des['link_qubit'].values()) + list(layout_dict_des['code_qubit'].values())\n",
    "\n",
    "    qubit_mapping = get_repcode_IQ_map(layout, synd_rounds=3)\n",
    "    avgs = get_avgs_from_dict(noise_dict, layout)\n",
    "\n",
    "    # Initialize the stim model\n",
    "    circuit = stim.Circuit.generated(\"repetition_code:memory\",\n",
    "                            distance=3,\n",
    "                            rounds=3,\n",
    "                            after_clifford_depolarization=avgs[\"two_gate\"], #two-qubit-fidelity,\n",
    "                            after_reset_flip_probability=0 if not _RESETS else avgs[\"readout\"], #reset error\n",
    "                            before_measure_flip_probability=avgs[\"readout\"], #measurement error,\n",
    "                            before_round_data_depolarization=avgs[\"idle\"]) #idle error)\n",
    "    model = circuit.detector_error_model(decompose_errors=False)\n",
    "\n",
    "    memory = job.result().get_memory(idx)\n",
    "    result_kde = cpp_soft_info.decode_IQ_kde(model, memory, 3, int(LOGICAL), _RESETS, \n",
    "                                                qubit_mapping, kde_dict, _DETAILED, relError=rel_error, absError=-1,\n",
    "                                                nb_intervals=-1)\n",
    "    \n",
    "    num_errors.append(result_kde.num_errors)\n",
    "\n",
    "print(f\"num_errors: {num_errors}\")"
   ]
  },
  {
   "cell_type": "code",
   "execution_count": 35,
   "metadata": {},
   "outputs": [
    {
     "name": "stderr",
     "output_type": "stream",
     "text": [
      "Decoding circuits: 16it [00:22,  1.41s/it]"
     ]
    },
    {
     "name": "stdout",
     "output_type": "stream",
     "text": [
      "         7815 function calls in 22.520 seconds\n",
      "\n",
      "   Ordered by: standard name\n",
      "\n",
      "   ncalls  tottime  percall  cumtime  percall filename:lineno(function)\n",
      "        1    0.010    0.010   22.519   22.519 2418759594.py:3(f)\n",
      "        1    0.000    0.000    0.000    0.000 <frozen os>:674(__getitem__)\n",
      "        1    0.000    0.000    0.000    0.000 <frozen os>:756(encode)\n",
      "        1    0.001    0.001   22.520   22.520 <string>:1(<module>)\n",
      "      432    0.000    0.000    0.001    0.000 __init__.py:173(search)\n",
      "      432    0.000    0.000    0.000    0.000 __init__.py:272(_compile)\n",
      "       64    0.000    0.000    0.001    0.000 _methods.py:101(_mean)\n",
      "       64    0.000    0.000    0.000    0.000 _methods.py:67(_count_reduce_items)\n",
      "        1    0.000    0.000    0.000    0.000 _monitor.py:94(report)\n",
      "        1    0.000    0.000    0.000    0.000 _weakrefset.py:110(remove)\n",
      "        2    0.000    0.000    0.000    0.000 _weakrefset.py:17(__init__)\n",
      "        2    0.000    0.000    0.000    0.000 _weakrefset.py:21(__enter__)\n",
      "        2    0.000    0.000    0.000    0.000 _weakrefset.py:27(__exit__)\n",
      "        2    0.000    0.000    0.000    0.000 _weakrefset.py:53(_commit_removals)\n",
      "        3    0.000    0.000    0.000    0.000 _weakrefset.py:63(__iter__)\n",
      "        1    0.000    0.000    0.000    0.000 _weakrefset.py:85(add)\n",
      "       16    0.000    0.000    0.001    0.000 backend_noise.py:59(get_avgs_from_dict)\n",
      "       16    0.000    0.000    0.000    0.000 backend_noise.py:66(<listcomp>)\n",
      "       16    0.000    0.000    0.000    0.000 backend_noise.py:67(<listcomp>)\n",
      "       16    0.000    0.000    0.000    0.000 backend_noise.py:68(<listcomp>)\n",
      "       16    0.000    0.000    0.000    0.000 backend_noise.py:69(<listcomp>)\n",
      "       16    0.000    0.000    0.000    0.000 common.py:33(to_dict)\n",
      "       64    0.000    0.000    0.000    0.000 function_base.py:393(_average_dispatcher)\n",
      "       64    0.000    0.000    0.001    0.000 function_base.py:398(average)\n",
      "        1    0.000    0.000    0.000    0.000 functools.py:393(__get__)\n",
      "       59    0.000    0.000    0.000    0.000 iostream.py:137(_event_pipe)\n",
      "       59    0.000    0.000    0.001    0.000 iostream.py:259(schedule)\n",
      "        1    0.000    0.000    0.000    0.000 iostream.py:364(fileno)\n",
      "       20    0.000    0.000    0.000    0.000 iostream.py:521(_is_master_process)\n",
      "       20    0.000    0.000    0.001    0.000 iostream.py:548(_schedule_flush)\n",
      "       20    0.000    0.000    0.005    0.000 iostream.py:563(flush)\n",
      "       20    0.000    0.000    0.001    0.000 iostream.py:626(write)\n",
      "       16    0.000    0.000    0.000    0.000 models.py:72(to_dict)\n",
      "       16    0.002    0.000    0.187    0.012 postprocess.py:117(format_level_1_memory)\n",
      "       16    0.006    0.000    0.185    0.012 postprocess.py:77(_list_to_complex_array)\n",
      "       16    0.000    0.000    0.000    0.000 result.py:138(data)\n",
      "       16    0.000    0.000    0.187    0.012 result.py:191(get_memory)\n",
      "       32    0.000    0.000    0.000    0.000 result.py:340(_get_experiment)\n",
      "       48    0.000    0.000    0.000    0.000 saved_job.py:128(<dictcomp>)\n",
      "       16    0.000    0.000    0.000    0.000 saved_job.py:42(result)\n",
      "        1    0.000    0.000    0.000    0.000 saved_job.py:48(initial_layouts)\n",
      "       16    0.001    0.000    0.001    0.000 saved_job.py:97(deserialize_layout)\n",
      "       59    0.001    0.000    0.001    0.000 socket.py:621(send)\n",
      "       21    0.000    0.000    0.000    0.000 std.py:102(acquire)\n",
      "       21    0.000    0.000    0.000    0.000 std.py:106(release)\n",
      "        4    0.000    0.000    0.000    0.000 std.py:110(__enter__)\n",
      "        4    0.000    0.000    0.000    0.000 std.py:113(__exit__)\n",
      "        1    0.000    0.000    0.000    0.000 std.py:1148(__del__)\n",
      "       18    0.000    0.000    0.001    0.000 std.py:1151(__str__)\n",
      "        2    0.000    0.000    0.000    0.000 std.py:1154(_comparable)\n",
      "        2    0.000    0.000    0.000    0.000 std.py:1158(__hash__)\n",
      "       17    0.000    0.000    0.007    0.000 std.py:1161(__iter__)\n",
      "       16    0.000    0.000    0.007    0.000 std.py:1199(update)\n",
      "        2    0.000    0.000    0.000    0.000 std.py:1266(close)\n",
      "        2    0.000    0.000    0.000    0.000 std.py:1287(fp_write)\n",
      "        1    0.000    0.000    0.000    0.000 std.py:1302(<lambda>)\n",
      "       17    0.000    0.000    0.007    0.000 std.py:1326(refresh)\n",
      "       18    0.000    0.000    0.000    0.000 std.py:1447(format_dict)\n",
      "       18    0.000    0.000    0.007    0.000 std.py:1465(display)\n",
      "        3    0.000    0.000    0.000    0.000 std.py:226(__init__)\n",
      "       97    0.000    0.000    0.000    0.000 std.py:231(__call__)\n",
      "       35    0.000    0.000    0.000    0.000 std.py:400(format_interval)\n",
      "        1    0.000    0.000    0.000    0.000 std.py:441(status_printer)\n",
      "       18    0.000    0.000    0.006    0.000 std.py:454(fp_write)\n",
      "       18    0.000    0.000    0.006    0.000 std.py:460(print_status)\n",
      "       18    0.000    0.000    0.000    0.000 std.py:467(format_meter)\n",
      "        1    0.000    0.000    0.000    0.000 std.py:666(__new__)\n",
      "        1    0.000    0.000    0.000    0.000 std.py:682(_get_free_pos)\n",
      "        1    0.000    0.000    0.000    0.000 std.py:685(<setcomp>)\n",
      "        1    0.000    0.000    0.000    0.000 std.py:689(_decr_instances)\n",
      "        1    0.000    0.000    0.000    0.000 std.py:763(get_lock)\n",
      "        1    0.000    0.000    0.001    0.001 std.py:953(__init__)\n",
      "       79    0.000    0.000    0.000    0.000 threading.py:1118(_wait_for_tstate_lock)\n",
      "       40    0.000    0.000    0.000    0.000 threading.py:1161(ident)\n",
      "       79    0.000    0.000    0.000    0.000 threading.py:1185(is_alive)\n",
      "       20    0.000    0.000    0.000    0.000 threading.py:1446(current_thread)\n",
      "       20    0.000    0.000    0.000    0.000 threading.py:236(__init__)\n",
      "       20    0.000    0.000    0.000    0.000 threading.py:264(__enter__)\n",
      "       20    0.000    0.000    0.000    0.000 threading.py:267(__exit__)\n",
      "       20    0.000    0.000    0.000    0.000 threading.py:273(_release_save)\n",
      "       20    0.000    0.000    0.000    0.000 threading.py:276(_acquire_restore)\n",
      "       20    0.000    0.000    0.000    0.000 threading.py:279(_is_owned)\n",
      "       20    0.000    0.000    0.004    0.000 threading.py:288(wait)\n",
      "       20    0.000    0.000    0.000    0.000 threading.py:555(__init__)\n",
      "       80    0.000    0.000    0.000    0.000 threading.py:568(is_set)\n",
      "       20    0.000    0.000    0.005    0.000 threading.py:604(wait)\n",
      "       16    0.000    0.000    0.000    0.000 transpile_rep_code.py:35(get_repcode_IQ_map)\n",
      "        1    0.000    0.000    0.000    0.000 utils.py:124(__eq__)\n",
      "        2    0.000    0.000    0.000    0.000 utils.py:138(__getattr__)\n",
      "        3    0.000    0.000    0.000    0.000 utils.py:151(wrapper_setattr)\n",
      "        1    0.000    0.000    0.000    0.000 utils.py:155(__init__)\n",
      "        2    0.000    0.000    0.000    0.000 utils.py:186(disable_on_exception)\n",
      "       38    0.000    0.000    0.006    0.000 utils.py:193(inner)\n",
      "        1    0.000    0.000    0.000    0.000 utils.py:212(__init__)\n",
      "        2    0.000    0.000    0.000    0.000 utils.py:221(__eq__)\n",
      "        1    0.000    0.000    0.000    0.000 utils.py:251(_is_utf)\n",
      "        1    0.000    0.000    0.000    0.000 utils.py:265(_supports_unicode)\n",
      "        1    0.000    0.000    0.000    0.000 utils.py:281(_screen_shape_wrapper)\n",
      "        1    0.000    0.000    0.000    0.000 utils.py:332(_screen_shape_linux)\n",
      "        1    0.000    0.000    0.000    0.000 utils.py:346(<listcomp>)\n",
      "       18    0.000    0.000    0.000    0.000 utils.py:373(_text_width)\n",
      "      760    0.000    0.000    0.000    0.000 utils.py:374(<genexpr>)\n",
      "       18    0.000    0.000    0.000    0.000 utils.py:377(disp_len)\n",
      "        1    0.000    0.000    0.000    0.000 {built-in method __new__ of type object at 0x1016d3ca8}\n",
      "       40    0.000    0.000    0.000    0.000 {built-in method _thread.allocate_lock}\n",
      "       20    0.000    0.000    0.000    0.000 {built-in method _thread.get_ident}\n",
      "        2    0.000    0.000    0.000    0.000 {built-in method _weakref.proxy}\n",
      "       20    0.000    0.000    0.000    0.000 {built-in method builtins.abs}\n",
      "       70    0.000    0.000    0.000    0.000 {built-in method builtins.divmod}\n",
      "        1    0.000    0.000   22.520   22.520 {built-in method builtins.exec}\n",
      "       60    0.000    0.000    0.000    0.000 {built-in method builtins.getattr}\n",
      "      104    0.000    0.000    0.000    0.000 {built-in method builtins.hasattr}\n",
      "        2    0.000    0.000    0.000    0.000 {built-in method builtins.id}\n",
      "      581    0.000    0.000    0.000    0.000 {built-in method builtins.isinstance}\n",
      "      128    0.000    0.000    0.000    0.000 {built-in method builtins.issubclass}\n",
      "       86    0.000    0.000    0.000    0.000 {built-in method builtins.len}\n",
      "       18    0.000    0.000    0.000    0.000 {built-in method builtins.max}\n",
      "        1    0.000    0.000    0.000    0.000 {built-in method builtins.min}\n",
      "       48    0.000    0.000    0.000    0.000 {built-in method builtins.sorted}\n",
      "       18    0.000    0.000    0.000    0.000 {built-in method builtins.sum}\n",
      "       16   22.308    1.394   22.308    1.394 {built-in method cpp_soft_info.decode_IQ_kde}\n",
      "        1    0.000    0.000    0.000    0.000 {built-in method fcntl.ioctl}\n",
      "      192    0.000    0.000    0.000    0.000 {built-in method numpy.asanyarray}\n",
      "       16    0.179    0.011    0.179    0.011 {built-in method numpy.asarray}\n",
      "       64    0.000    0.000    0.000    0.000 {built-in method numpy.core._multiarray_umath.normalize_axis_index}\n",
      "       20    0.000    0.000    0.000    0.000 {built-in method posix.getpid}\n",
      "       16    0.001    0.000    0.001    0.000 {built-in method stim._stim_polyfill.detector_error_model}\n",
      "       16    0.001    0.000    0.001    0.000 {built-in method stim._stim_polyfill.generated}\n",
      "       66    0.000    0.000    0.000    0.000 {built-in method time.time}\n",
      "      742    0.000    0.000    0.000    0.000 {built-in method unicodedata.east_asian_width}\n",
      "       18    0.000    0.000    0.000    0.000 {built-in method utcfromtimestamp}\n",
      "       20    0.000    0.000    0.000    0.000 {method '__enter__' of '_thread.lock' objects}\n",
      "       20    0.000    0.000    0.000    0.000 {method '__exit__' of '_thread.RLock' objects}\n",
      "       20    0.000    0.000    0.000    0.000 {method '__exit__' of '_thread.lock' objects}\n",
      "       21    0.000    0.000    0.000    0.000 {method 'acquire' of '_multiprocessing.SemLock' objects}\n",
      "       21    0.000    0.000    0.000    0.000 {method 'acquire' of '_thread.RLock' objects}\n",
      "      159    0.004    0.000    0.004    0.000 {method 'acquire' of '_thread.lock' objects}\n",
      "        3    0.000    0.000    0.000    0.000 {method 'add' of 'set' objects}\n",
      "       79    0.000    0.000    0.000    0.000 {method 'append' of 'collections.deque' objects}\n",
      "       16    0.000    0.000    0.000    0.000 {method 'append' of 'list' objects}\n",
      "        1    0.000    0.000    0.000    0.000 {method 'difference' of 'set' objects}\n",
      "        1    0.000    0.000    0.000    0.000 {method 'disable' of '_lsprof.Profiler' objects}\n",
      "        2    0.000    0.000    0.000    0.000 {method 'encode' of 'str' objects}\n",
      "       69    0.000    0.000    0.000    0.000 {method 'format' of 'str' objects}\n",
      "      864    0.000    0.000    0.000    0.000 {method 'group' of 're.Match' objects}\n",
      "       64    0.000    0.000    0.000    0.000 {method 'items' of 'dict' objects}\n",
      "       64    0.000    0.000    0.001    0.000 {method 'mean' of 'numpy.ndarray' objects}\n",
      "        2    0.000    0.000    0.000    0.000 {method 'pop' of 'list' objects}\n",
      "       64    0.000    0.000    0.000    0.000 {method 'reduce' of 'numpy.ufunc' objects}\n",
      "       21    0.000    0.000    0.000    0.000 {method 'release' of '_multiprocessing.SemLock' objects}\n",
      "       21    0.000    0.000    0.000    0.000 {method 'release' of '_thread.RLock' objects}\n",
      "       20    0.000    0.000    0.000    0.000 {method 'release' of '_thread.lock' objects}\n",
      "        3    0.000    0.000    0.000    0.000 {method 'remove' of 'set' objects}\n",
      "      432    0.000    0.000    0.000    0.000 {method 'search' of 're.Pattern' objects}\n",
      "       18    0.000    0.000    0.000    0.000 {method 'sub' of 're.Pattern' objects}\n",
      "       32    0.000    0.000    0.000    0.000 {method 'values' of 'dict' objects}\n",
      "       20    0.000    0.000    0.000    0.000 {method 'write' of '_io.StringIO' objects}\n",
      "\n",
      "\n"
     ]
    },
    {
     "name": "stderr",
     "output_type": "stream",
     "text": [
      "\n"
     ]
    }
   ],
   "source": [
    "import cProfile\n",
    "\n",
    "def f():\n",
    "    num_errors = []\n",
    "    for idx, layout_dict in tqdm(enumerate(job.initial_layouts()), desc=\"Decoding circuits\"):\n",
    "\n",
    "        layout_dict_des = job.deserialize_layout(layout_dict)\n",
    "\n",
    "        layout = list(layout_dict_des['link_qubit'].values()) + list(layout_dict_des['code_qubit'].values())\n",
    "\n",
    "        qubit_mapping = get_repcode_IQ_map(layout, synd_rounds=3)\n",
    "        avgs = get_avgs_from_dict(noise_dict, layout)\n",
    "\n",
    "        # Initialize the stim model\n",
    "        circuit = stim.Circuit.generated(\"repetition_code:memory\",\n",
    "                                distance=3,\n",
    "                                rounds=3,\n",
    "                                after_clifford_depolarization=avgs[\"two_gate\"], #two-qubit-fidelity,\n",
    "                                after_reset_flip_probability=0 if not _RESETS else avgs[\"readout\"], #reset error\n",
    "                                before_measure_flip_probability=avgs[\"readout\"], #measurement error,\n",
    "                                before_round_data_depolarization=avgs[\"idle\"]) #idle error)\n",
    "        model = circuit.detector_error_model(decompose_errors=False)\n",
    "\n",
    "        memory = job.result().get_memory(idx)\n",
    "        result_kde = cpp_soft_info.decode_IQ_kde(model, memory, 3, int(LOGICAL), _RESETS, \n",
    "                                                    qubit_mapping, kde_dict, _DETAILED, relError=rel_error, absError=-1,\n",
    "                                                    nb_intervals=-1)\n",
    "        \n",
    "        num_errors.append(result_kde.num_errors)\n",
    "\n",
    "\n",
    "cProfile.run(\"f()\")\n"
   ]
  }
 ],
 "metadata": {
  "kernelspec": {
   "display_name": "Soft-Info-fMUpUe5a",
   "language": "python",
   "name": "python3"
  },
  "language_info": {
   "codemirror_mode": {
    "name": "ipython",
    "version": 3
   },
   "file_extension": ".py",
   "mimetype": "text/x-python",
   "name": "python",
   "nbconvert_exporter": "python",
   "pygments_lexer": "ipython3",
   "version": "3.11.4"
  }
 },
 "nbformat": 4,
 "nbformat_minor": 2
}
