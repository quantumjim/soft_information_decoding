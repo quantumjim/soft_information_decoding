{
 "cells": [
  {
   "cell_type": "code",
   "execution_count": 1,
   "metadata": {},
   "outputs": [],
   "source": [
    "%reload_ext autoreload\n",
    "%autoreload 2"
   ]
  },
  {
   "cell_type": "code",
   "execution_count": 2,
   "metadata": {},
   "outputs": [],
   "source": [
    "from result_saver import SaverProvider\n",
    "\n",
    "provider = SaverProvider()"
   ]
  },
  {
   "cell_type": "code",
   "execution_count": 22,
   "metadata": {},
   "outputs": [
    {
     "data": {
      "text/html": [
       "<div>\n",
       "<style scoped>\n",
       "    .dataframe tbody tr th:only-of-type {\n",
       "        vertical-align: middle;\n",
       "    }\n",
       "\n",
       "    .dataframe tbody tr th {\n",
       "        vertical-align: top;\n",
       "    }\n",
       "\n",
       "    .dataframe thead th {\n",
       "        text-align: right;\n",
       "    }\n",
       "</style>\n",
       "<table border=\"1\" class=\"dataframe\">\n",
       "  <thead>\n",
       "    <tr style=\"text-align: right;\">\n",
       "      <th></th>\n",
       "      <th>creation_date</th>\n",
       "      <th>notebook_name</th>\n",
       "      <th>backend_name</th>\n",
       "      <th>job_id</th>\n",
       "      <th>tags</th>\n",
       "      <th>meas_level</th>\n",
       "      <th>shots</th>\n",
       "      <th>tags_xp</th>\n",
       "      <th>rep_delay</th>\n",
       "      <th>sampled_state</th>\n",
       "      <th>...</th>\n",
       "      <th>optimization_level</th>\n",
       "      <th>code</th>\n",
       "      <th>distance</th>\n",
       "      <th>rounds</th>\n",
       "      <th>logical</th>\n",
       "      <th>layout</th>\n",
       "      <th>descr</th>\n",
       "      <th>num_CNOTS_layers</th>\n",
       "      <th>num_CNOT_layers</th>\n",
       "      <th>resets</th>\n",
       "    </tr>\n",
       "  </thead>\n",
       "  <tbody>\n",
       "    <tr>\n",
       "      <th>2620</th>\n",
       "      <td>2024-03-10 20:58:28.709000+01:00</td>\n",
       "      <td>mean_pos_sherbrooke</td>\n",
       "      <td>ibm_sherbrooke</td>\n",
       "      <td>cqq11s7jx32g008542tg</td>\n",
       "      <td>[50*1e6/d*T, RepCode Mean Positions]</td>\n",
       "      <td>0.0</td>\n",
       "      <td>5555.0</td>\n",
       "      <td>NaN</td>\n",
       "      <td>0.0005</td>\n",
       "      <td>NaN</td>\n",
       "      <td>...</td>\n",
       "      <td>NaN</td>\n",
       "      <td>RepetitionCodeCircuit</td>\n",
       "      <td>10.0</td>\n",
       "      <td>10</td>\n",
       "      <td>0</td>\n",
       "      <td>NaN</td>\n",
       "      <td>Mean positions</td>\n",
       "      <td>NaN</td>\n",
       "      <td>NaN</td>\n",
       "      <td>False</td>\n",
       "    </tr>\n",
       "    <tr>\n",
       "      <th>2619</th>\n",
       "      <td>2024-03-10 20:57:46.022000+01:00</td>\n",
       "      <td>mean_pos_sherbrooke</td>\n",
       "      <td>ibm_sherbrooke</td>\n",
       "      <td>cqq11edjx32g008542s0</td>\n",
       "      <td>[RepCode Mean Positions, 10*1e6/d*T]</td>\n",
       "      <td>0.0</td>\n",
       "      <td>1111.0</td>\n",
       "      <td>NaN</td>\n",
       "      <td>0.0005</td>\n",
       "      <td>NaN</td>\n",
       "      <td>...</td>\n",
       "      <td>NaN</td>\n",
       "      <td>RepetitionCodeCircuit</td>\n",
       "      <td>10.0</td>\n",
       "      <td>10</td>\n",
       "      <td>0</td>\n",
       "      <td>NaN</td>\n",
       "      <td>Mean positions</td>\n",
       "      <td>NaN</td>\n",
       "      <td>NaN</td>\n",
       "      <td>False</td>\n",
       "    </tr>\n",
       "    <tr>\n",
       "      <th>2618</th>\n",
       "      <td>2024-03-10 20:57:39.190000+01:00</td>\n",
       "      <td>mean_pos_sherbrooke</td>\n",
       "      <td>ibm_sherbrooke</td>\n",
       "      <td>cqq11cn4td0g008cp2sg</td>\n",
       "      <td>[RepCode Mean Positions, 10*1e6/d*T]</td>\n",
       "      <td>0.0</td>\n",
       "      <td>1111.0</td>\n",
       "      <td>NaN</td>\n",
       "      <td>0.0005</td>\n",
       "      <td>NaN</td>\n",
       "      <td>...</td>\n",
       "      <td>NaN</td>\n",
       "      <td>RepetitionCodeCircuit</td>\n",
       "      <td>10.0</td>\n",
       "      <td>10</td>\n",
       "      <td>0</td>\n",
       "      <td>NaN</td>\n",
       "      <td>Mean positions</td>\n",
       "      <td>NaN</td>\n",
       "      <td>NaN</td>\n",
       "      <td>False</td>\n",
       "    </tr>\n",
       "    <tr>\n",
       "      <th>2617</th>\n",
       "      <td>2024-03-10 20:56:36.833000+01:00</td>\n",
       "      <td>mean_pos_sherbrooke</td>\n",
       "      <td>ibm_sherbrooke</td>\n",
       "      <td>cqq10x3jx32g008542r0</td>\n",
       "      <td>[RepCode Mean Positions, 1e6/d*T]</td>\n",
       "      <td>0.0</td>\n",
       "      <td>111.0</td>\n",
       "      <td>NaN</td>\n",
       "      <td>0.0005</td>\n",
       "      <td>NaN</td>\n",
       "      <td>...</td>\n",
       "      <td>NaN</td>\n",
       "      <td>RepetitionCodeCircuit</td>\n",
       "      <td>10.0</td>\n",
       "      <td>10</td>\n",
       "      <td>0</td>\n",
       "      <td>NaN</td>\n",
       "      <td>Mean positions</td>\n",
       "      <td>NaN</td>\n",
       "      <td>NaN</td>\n",
       "      <td>False</td>\n",
       "    </tr>\n",
       "    <tr>\n",
       "      <th>2616</th>\n",
       "      <td>2024-03-10 20:56:30.367000+01:00</td>\n",
       "      <td>mean_pos_sherbrooke</td>\n",
       "      <td>ibm_sherbrooke</td>\n",
       "      <td>cqq10vkv78p00084kpk0</td>\n",
       "      <td>[RepCode Mean Positions, 1e6/d*T]</td>\n",
       "      <td>0.0</td>\n",
       "      <td>111.0</td>\n",
       "      <td>NaN</td>\n",
       "      <td>0.0005</td>\n",
       "      <td>NaN</td>\n",
       "      <td>...</td>\n",
       "      <td>NaN</td>\n",
       "      <td>RepetitionCodeCircuit</td>\n",
       "      <td>10.0</td>\n",
       "      <td>10</td>\n",
       "      <td>0</td>\n",
       "      <td>NaN</td>\n",
       "      <td>Mean positions</td>\n",
       "      <td>NaN</td>\n",
       "      <td>NaN</td>\n",
       "      <td>False</td>\n",
       "    </tr>\n",
       "    <tr>\n",
       "      <th>2615</th>\n",
       "      <td>2024-03-10 20:56:12.756000+01:00</td>\n",
       "      <td>mean_pos_sherbrooke</td>\n",
       "      <td>ibm_sherbrooke</td>\n",
       "      <td>cqq10q24td0g008cp2ng</td>\n",
       "      <td>[RepCode Mean Positions, 1e6/d*T]</td>\n",
       "      <td>0.0</td>\n",
       "      <td>111.0</td>\n",
       "      <td>NaN</td>\n",
       "      <td>0.0005</td>\n",
       "      <td>NaN</td>\n",
       "      <td>...</td>\n",
       "      <td>NaN</td>\n",
       "      <td>RepetitionCodeCircuit</td>\n",
       "      <td>10.0</td>\n",
       "      <td>10</td>\n",
       "      <td>0</td>\n",
       "      <td>NaN</td>\n",
       "      <td>Mean positions</td>\n",
       "      <td>NaN</td>\n",
       "      <td>NaN</td>\n",
       "      <td>False</td>\n",
       "    </tr>\n",
       "    <tr>\n",
       "      <th>2614</th>\n",
       "      <td>2024-03-10 20:56:05.331000+01:00</td>\n",
       "      <td>mean_pos_sherbrooke</td>\n",
       "      <td>ibm_sherbrooke</td>\n",
       "      <td>cqq10na417q0008ysdp0</td>\n",
       "      <td>[RepCode Mean Positions, 1e6/d*T]</td>\n",
       "      <td>0.0</td>\n",
       "      <td>111.0</td>\n",
       "      <td>NaN</td>\n",
       "      <td>0.0005</td>\n",
       "      <td>NaN</td>\n",
       "      <td>...</td>\n",
       "      <td>NaN</td>\n",
       "      <td>RepetitionCodeCircuit</td>\n",
       "      <td>10.0</td>\n",
       "      <td>10</td>\n",
       "      <td>0</td>\n",
       "      <td>NaN</td>\n",
       "      <td>Mean positions</td>\n",
       "      <td>NaN</td>\n",
       "      <td>NaN</td>\n",
       "      <td>False</td>\n",
       "    </tr>\n",
       "    <tr>\n",
       "      <th>2613</th>\n",
       "      <td>2024-03-10 20:55:59.348000+01:00</td>\n",
       "      <td>mean_pos_sherbrooke</td>\n",
       "      <td>ibm_sherbrooke</td>\n",
       "      <td>cqq10ktv78p00084kph0</td>\n",
       "      <td>[RepCode Mean Positions, 1e6/d*T]</td>\n",
       "      <td>0.0</td>\n",
       "      <td>111.0</td>\n",
       "      <td>NaN</td>\n",
       "      <td>0.0005</td>\n",
       "      <td>NaN</td>\n",
       "      <td>...</td>\n",
       "      <td>NaN</td>\n",
       "      <td>RepetitionCodeCircuit</td>\n",
       "      <td>10.0</td>\n",
       "      <td>10</td>\n",
       "      <td>0</td>\n",
       "      <td>NaN</td>\n",
       "      <td>Mean positions</td>\n",
       "      <td>NaN</td>\n",
       "      <td>NaN</td>\n",
       "      <td>False</td>\n",
       "    </tr>\n",
       "    <tr>\n",
       "      <th>2612</th>\n",
       "      <td>2024-03-10 20:55:53.329000+01:00</td>\n",
       "      <td>mean_pos_sherbrooke</td>\n",
       "      <td>ibm_sherbrooke</td>\n",
       "      <td>cqq10ja4td0g008cp2mg</td>\n",
       "      <td>[RepCode Mean Positions, 1e6/d*T]</td>\n",
       "      <td>0.0</td>\n",
       "      <td>111.0</td>\n",
       "      <td>NaN</td>\n",
       "      <td>0.0005</td>\n",
       "      <td>NaN</td>\n",
       "      <td>...</td>\n",
       "      <td>NaN</td>\n",
       "      <td>RepetitionCodeCircuit</td>\n",
       "      <td>10.0</td>\n",
       "      <td>10</td>\n",
       "      <td>0</td>\n",
       "      <td>NaN</td>\n",
       "      <td>Mean positions</td>\n",
       "      <td>NaN</td>\n",
       "      <td>NaN</td>\n",
       "      <td>False</td>\n",
       "    </tr>\n",
       "    <tr>\n",
       "      <th>2611</th>\n",
       "      <td>2024-03-10 20:55:45.511000+01:00</td>\n",
       "      <td>mean_pos_sherbrooke</td>\n",
       "      <td>ibm_sherbrooke</td>\n",
       "      <td>cqq10ga267h0008fj8r0</td>\n",
       "      <td>[RepCode Mean Positions, 1e6/d*T]</td>\n",
       "      <td>0.0</td>\n",
       "      <td>111.0</td>\n",
       "      <td>NaN</td>\n",
       "      <td>0.0005</td>\n",
       "      <td>NaN</td>\n",
       "      <td>...</td>\n",
       "      <td>NaN</td>\n",
       "      <td>RepetitionCodeCircuit</td>\n",
       "      <td>10.0</td>\n",
       "      <td>10</td>\n",
       "      <td>0</td>\n",
       "      <td>NaN</td>\n",
       "      <td>Mean positions</td>\n",
       "      <td>NaN</td>\n",
       "      <td>NaN</td>\n",
       "      <td>False</td>\n",
       "    </tr>\n",
       "    <tr>\n",
       "      <th>2610</th>\n",
       "      <td>2024-03-10 20:55:39.862000+01:00</td>\n",
       "      <td>mean_pos_sherbrooke</td>\n",
       "      <td>ibm_sherbrooke</td>\n",
       "      <td>cqq10es267h0008fj8qg</td>\n",
       "      <td>[RepCode Mean Positions, 1e6/d*T]</td>\n",
       "      <td>0.0</td>\n",
       "      <td>111.0</td>\n",
       "      <td>NaN</td>\n",
       "      <td>0.0005</td>\n",
       "      <td>NaN</td>\n",
       "      <td>...</td>\n",
       "      <td>NaN</td>\n",
       "      <td>RepetitionCodeCircuit</td>\n",
       "      <td>10.0</td>\n",
       "      <td>10</td>\n",
       "      <td>0</td>\n",
       "      <td>NaN</td>\n",
       "      <td>Mean positions</td>\n",
       "      <td>NaN</td>\n",
       "      <td>NaN</td>\n",
       "      <td>False</td>\n",
       "    </tr>\n",
       "    <tr>\n",
       "      <th>2609</th>\n",
       "      <td>2024-03-10 20:55:34.160000+01:00</td>\n",
       "      <td>mean_pos_sherbrooke</td>\n",
       "      <td>ibm_sherbrooke</td>\n",
       "      <td>cqq10d9417q0008ysdmg</td>\n",
       "      <td>[RepCode Mean Positions, 1e6/d*T]</td>\n",
       "      <td>0.0</td>\n",
       "      <td>111.0</td>\n",
       "      <td>NaN</td>\n",
       "      <td>0.0005</td>\n",
       "      <td>NaN</td>\n",
       "      <td>...</td>\n",
       "      <td>NaN</td>\n",
       "      <td>RepetitionCodeCircuit</td>\n",
       "      <td>10.0</td>\n",
       "      <td>10</td>\n",
       "      <td>0</td>\n",
       "      <td>NaN</td>\n",
       "      <td>Mean positions</td>\n",
       "      <td>NaN</td>\n",
       "      <td>NaN</td>\n",
       "      <td>False</td>\n",
       "    </tr>\n",
       "    <tr>\n",
       "      <th>2608</th>\n",
       "      <td>2024-03-10 20:55:27.623000+01:00</td>\n",
       "      <td>mean_pos_sherbrooke</td>\n",
       "      <td>ibm_sherbrooke</td>\n",
       "      <td>cqq10bsjx32g008542ng</td>\n",
       "      <td>[RepCode Mean Positions, 1e6/d*T]</td>\n",
       "      <td>0.0</td>\n",
       "      <td>111.0</td>\n",
       "      <td>NaN</td>\n",
       "      <td>0.0005</td>\n",
       "      <td>NaN</td>\n",
       "      <td>...</td>\n",
       "      <td>NaN</td>\n",
       "      <td>RepetitionCodeCircuit</td>\n",
       "      <td>10.0</td>\n",
       "      <td>10</td>\n",
       "      <td>0</td>\n",
       "      <td>NaN</td>\n",
       "      <td>Mean positions</td>\n",
       "      <td>NaN</td>\n",
       "      <td>NaN</td>\n",
       "      <td>False</td>\n",
       "    </tr>\n",
       "  </tbody>\n",
       "</table>\n",
       "<p>13 rows × 24 columns</p>\n",
       "</div>"
      ],
      "text/plain": [
       "                         creation_date        notebook_name    backend_name  \\\n",
       "2620  2024-03-10 20:58:28.709000+01:00  mean_pos_sherbrooke  ibm_sherbrooke   \n",
       "2619  2024-03-10 20:57:46.022000+01:00  mean_pos_sherbrooke  ibm_sherbrooke   \n",
       "2618  2024-03-10 20:57:39.190000+01:00  mean_pos_sherbrooke  ibm_sherbrooke   \n",
       "2617  2024-03-10 20:56:36.833000+01:00  mean_pos_sherbrooke  ibm_sherbrooke   \n",
       "2616  2024-03-10 20:56:30.367000+01:00  mean_pos_sherbrooke  ibm_sherbrooke   \n",
       "2615  2024-03-10 20:56:12.756000+01:00  mean_pos_sherbrooke  ibm_sherbrooke   \n",
       "2614  2024-03-10 20:56:05.331000+01:00  mean_pos_sherbrooke  ibm_sherbrooke   \n",
       "2613  2024-03-10 20:55:59.348000+01:00  mean_pos_sherbrooke  ibm_sherbrooke   \n",
       "2612  2024-03-10 20:55:53.329000+01:00  mean_pos_sherbrooke  ibm_sherbrooke   \n",
       "2611  2024-03-10 20:55:45.511000+01:00  mean_pos_sherbrooke  ibm_sherbrooke   \n",
       "2610  2024-03-10 20:55:39.862000+01:00  mean_pos_sherbrooke  ibm_sherbrooke   \n",
       "2609  2024-03-10 20:55:34.160000+01:00  mean_pos_sherbrooke  ibm_sherbrooke   \n",
       "2608  2024-03-10 20:55:27.623000+01:00  mean_pos_sherbrooke  ibm_sherbrooke   \n",
       "\n",
       "                    job_id                                  tags  meas_level  \\\n",
       "2620  cqq11s7jx32g008542tg  [50*1e6/d*T, RepCode Mean Positions]         0.0   \n",
       "2619  cqq11edjx32g008542s0  [RepCode Mean Positions, 10*1e6/d*T]         0.0   \n",
       "2618  cqq11cn4td0g008cp2sg  [RepCode Mean Positions, 10*1e6/d*T]         0.0   \n",
       "2617  cqq10x3jx32g008542r0     [RepCode Mean Positions, 1e6/d*T]         0.0   \n",
       "2616  cqq10vkv78p00084kpk0     [RepCode Mean Positions, 1e6/d*T]         0.0   \n",
       "2615  cqq10q24td0g008cp2ng     [RepCode Mean Positions, 1e6/d*T]         0.0   \n",
       "2614  cqq10na417q0008ysdp0     [RepCode Mean Positions, 1e6/d*T]         0.0   \n",
       "2613  cqq10ktv78p00084kph0     [RepCode Mean Positions, 1e6/d*T]         0.0   \n",
       "2612  cqq10ja4td0g008cp2mg     [RepCode Mean Positions, 1e6/d*T]         0.0   \n",
       "2611  cqq10ga267h0008fj8r0     [RepCode Mean Positions, 1e6/d*T]         0.0   \n",
       "2610  cqq10es267h0008fj8qg     [RepCode Mean Positions, 1e6/d*T]         0.0   \n",
       "2609  cqq10d9417q0008ysdmg     [RepCode Mean Positions, 1e6/d*T]         0.0   \n",
       "2608  cqq10bsjx32g008542ng     [RepCode Mean Positions, 1e6/d*T]         0.0   \n",
       "\n",
       "       shots tags_xp  rep_delay sampled_state  ...  optimization_level  \\\n",
       "2620  5555.0     NaN     0.0005           NaN  ...                 NaN   \n",
       "2619  1111.0     NaN     0.0005           NaN  ...                 NaN   \n",
       "2618  1111.0     NaN     0.0005           NaN  ...                 NaN   \n",
       "2617   111.0     NaN     0.0005           NaN  ...                 NaN   \n",
       "2616   111.0     NaN     0.0005           NaN  ...                 NaN   \n",
       "2615   111.0     NaN     0.0005           NaN  ...                 NaN   \n",
       "2614   111.0     NaN     0.0005           NaN  ...                 NaN   \n",
       "2613   111.0     NaN     0.0005           NaN  ...                 NaN   \n",
       "2612   111.0     NaN     0.0005           NaN  ...                 NaN   \n",
       "2611   111.0     NaN     0.0005           NaN  ...                 NaN   \n",
       "2610   111.0     NaN     0.0005           NaN  ...                 NaN   \n",
       "2609   111.0     NaN     0.0005           NaN  ...                 NaN   \n",
       "2608   111.0     NaN     0.0005           NaN  ...                 NaN   \n",
       "\n",
       "                       code distance rounds  logical layout           descr  \\\n",
       "2620  RepetitionCodeCircuit     10.0     10        0    NaN  Mean positions   \n",
       "2619  RepetitionCodeCircuit     10.0     10        0    NaN  Mean positions   \n",
       "2618  RepetitionCodeCircuit     10.0     10        0    NaN  Mean positions   \n",
       "2617  RepetitionCodeCircuit     10.0     10        0    NaN  Mean positions   \n",
       "2616  RepetitionCodeCircuit     10.0     10        0    NaN  Mean positions   \n",
       "2615  RepetitionCodeCircuit     10.0     10        0    NaN  Mean positions   \n",
       "2614  RepetitionCodeCircuit     10.0     10        0    NaN  Mean positions   \n",
       "2613  RepetitionCodeCircuit     10.0     10        0    NaN  Mean positions   \n",
       "2612  RepetitionCodeCircuit     10.0     10        0    NaN  Mean positions   \n",
       "2611  RepetitionCodeCircuit     10.0     10        0    NaN  Mean positions   \n",
       "2610  RepetitionCodeCircuit     10.0     10        0    NaN  Mean positions   \n",
       "2609  RepetitionCodeCircuit     10.0     10        0    NaN  Mean positions   \n",
       "2608  RepetitionCodeCircuit     10.0     10        0    NaN  Mean positions   \n",
       "\n",
       "     num_CNOTS_layers num_CNOT_layers resets  \n",
       "2620              NaN             NaN  False  \n",
       "2619              NaN             NaN  False  \n",
       "2618              NaN             NaN  False  \n",
       "2617              NaN             NaN  False  \n",
       "2616              NaN             NaN  False  \n",
       "2615              NaN             NaN  False  \n",
       "2614              NaN             NaN  False  \n",
       "2613              NaN             NaN  False  \n",
       "2612              NaN             NaN  False  \n",
       "2611              NaN             NaN  False  \n",
       "2610              NaN             NaN  False  \n",
       "2609              NaN             NaN  False  \n",
       "2608              NaN             NaN  False  \n",
       "\n",
       "[13 rows x 24 columns]"
      ]
     },
     "execution_count": 22,
     "metadata": {},
     "output_type": "execute_result"
    }
   ],
   "source": [
    "from Scratch import metadata_loader\n",
    "\n",
    "DEVICE = 'ibm_sherbrooke'\n",
    "DISTANCE = 10\n",
    "ROUNDS = 10\n",
    "LOGICAL = 0\n",
    "\n",
    "md = metadata_loader(True, True)\n",
    "md = md[md['meas_level'] == 0]\n",
    "md = md[md['distance']==DISTANCE]\n",
    "md = md[md['rounds']==ROUNDS]\n",
    "md = md[md['logical']==LOGICAL]\n",
    "\n",
    "md = md[md['notebook_name']=='mean_pos_sherbrooke']\n",
    "\n",
    "md"
   ]
  },
  {
   "cell_type": "markdown",
   "metadata": {},
   "source": [
    "# Initialize the decoder"
   ]
  },
  {
   "cell_type": "code",
   "execution_count": 23,
   "metadata": {},
   "outputs": [],
   "source": [
    "from soft_info import get_noise_dict_from_backend, get_avgs_from_dict\n",
    "\n",
    "noise_dict = get_noise_dict_from_backend(provider, DEVICE, date = md.iloc[0]['creation_date'])"
   ]
  },
  {
   "cell_type": "code",
   "execution_count": 24,
   "metadata": {},
   "outputs": [
    {
     "name": "stderr",
     "output_type": "stream",
     "text": [
      "  8%|▊         | 1/13 [00:35<07:04, 35.37s/it]"
     ]
    },
    {
     "name": "stdout",
     "output_type": "stream",
     "text": [
      "Job cqq11s7jx32g008542tg had [39, 22, 21, 31, 10, 21, 46, 22, 11, 19, 9, 18, 2, 47, 9, 34, 3, 35, 8, 31, 17, 137, 27, 132, 46, 284, 64, 388, 149, 399, 296, 587, 243, 247, 101, 178, 30, 82, 27, 31, 25, 53, 37, 44, 70, 28, 13, 18, 19, 40, 21, 57, 39, 64, 34, 64, 41, 183, 87, 46, 113, 64, 158, 70, 312, 53, 368, 53, 291, 113, 206, 100, 295, 68, 165, 101, 98, 81, 36, 44, 36, 36, 13, 36, 11, 30, 3, 15, 2, 31] errors per layout out of total [499950] shots\n"
     ]
    },
    {
     "name": "stderr",
     "output_type": "stream",
     "text": [
      " 15%|█▌        | 2/13 [00:42<03:27, 18.85s/it]"
     ]
    },
    {
     "name": "stdout",
     "output_type": "stream",
     "text": [
      "Job cqq11edjx32g008542s0 had [5, 9, 5, 3, 5, 5, 4, 3, 2, 3, 2, 6, 2, 14, 3, 8, 0, 5, 2, 5, 1, 21, 6, 20, 6, 63, 14, 72, 30, 81, 48, 118, 53, 39, 11, 33, 5, 10, 7, 4, 3, 7, 3, 8, 16, 3, 7, 5, 2, 8, 2, 15, 3, 18, 10, 11, 3, 38, 19, 21, 29, 17, 33, 11, 56, 11, 65, 4, 56, 19, 38, 18, 69, 14, 36, 20, 7, 16, 8, 13, 7, 10, 2, 11, 1, 3, 2, 3, 1, 4] errors per layout out of total [499950, 99990] shots\n"
     ]
    },
    {
     "name": "stderr",
     "output_type": "stream",
     "text": [
      " 23%|██▎       | 3/13 [00:49<02:15, 13.56s/it]"
     ]
    },
    {
     "name": "stdout",
     "output_type": "stream",
     "text": [
      "Job cqq11cn4td0g008cp2sg had [14, 8, 11, 6, 5, 2, 5, 4, 4, 3, 3, 4, 1, 12, 0, 7, 1, 8, 2, 10, 3, 35, 8, 29, 13, 63, 14, 92, 34, 93, 52, 131, 39, 61, 17, 34, 11, 20, 9, 3, 0, 7, 3, 5, 11, 9, 2, 1, 2, 7, 8, 7, 4, 10, 5, 16, 5, 36, 13, 9, 24, 19, 44, 23, 74, 9, 79, 15, 61, 23, 51, 21, 48, 11, 41, 16, 16, 11, 12, 8, 9, 5, 2, 9, 2, 2, 1, 1, 1, 6] errors per layout out of total [499950, 99990, 99990] shots\n"
     ]
    },
    {
     "name": "stderr",
     "output_type": "stream",
     "text": [
      " 31%|███       | 4/13 [00:50<01:16,  8.52s/it]"
     ]
    },
    {
     "name": "stdout",
     "output_type": "stream",
     "text": [
      "Job cqq10x3jx32g008542r0 had [1, 0, 1, 0, 0, 0, 0, 0, 1, 0, 0, 0, 0, 1, 0, 0, 0, 2, 2, 0, 0, 6, 0, 3, 1, 10, 1, 13, 3, 8, 7, 10, 5, 3, 1, 3, 2, 4, 1, 1, 0, 1, 0, 2, 3, 1, 0, 0, 0, 0, 0, 1, 0, 4, 2, 1, 0, 1, 1, 1, 1, 3, 2, 0, 5, 0, 6, 1, 7, 1, 5, 0, 9, 1, 1, 1, 1, 1, 1, 0, 1, 1, 0, 0, 0, 1, 1, 0, 0, 1] errors per layout out of total [499950, 99990, 99990, 9990] shots\n"
     ]
    },
    {
     "name": "stderr",
     "output_type": "stream",
     "text": [
      " 38%|███▊      | 5/13 [00:51<00:45,  5.74s/it]"
     ]
    },
    {
     "name": "stdout",
     "output_type": "stream",
     "text": [
      "Job cqq10vkv78p00084kpk0 had [0, 0, 2, 0, 1, 0, 0, 1, 2, 1, 1, 0, 0, 2, 0, 2, 0, 1, 0, 2, 1, 4, 0, 2, 1, 9, 4, 10, 3, 13, 4, 17, 8, 4, 4, 5, 1, 3, 0, 0, 0, 2, 0, 1, 2, 2, 0, 1, 0, 1, 0, 0, 0, 2, 0, 4, 0, 3, 0, 3, 2, 3, 5, 1, 3, 1, 5, 0, 9, 0, 2, 3, 5, 1, 5, 1, 3, 2, 1, 1, 2, 1, 0, 1, 0, 0, 0, 1, 0, 1] errors per layout out of total [499950, 99990, 99990, 9990, 9990] shots\n"
     ]
    },
    {
     "name": "stderr",
     "output_type": "stream",
     "text": [
      " 46%|████▌     | 6/13 [00:52<00:28,  4.09s/it]"
     ]
    },
    {
     "name": "stdout",
     "output_type": "stream",
     "text": [
      "Job cqq10q24td0g008cp2ng had [0, 1, 1, 0, 0, 0, 1, 1, 1, 0, 0, 0, 0, 1, 0, 1, 0, 1, 0, 2, 0, 2, 3, 5, 2, 9, 2, 14, 3, 12, 4, 15, 6, 9, 2, 4, 1, 1, 1, 0, 0, 0, 0, 1, 1, 1, 0, 1, 0, 2, 1, 1, 0, 1, 0, 0, 1, 1, 1, 1, 2, 2, 0, 2, 4, 1, 11, 1, 3, 4, 6, 1, 2, 1, 8, 1, 2, 1, 1, 3, 1, 0, 0, 0, 0, 2, 0, 0, 0, 0] errors per layout out of total [499950, 99990, 99990, 9990, 9990, 9990] shots\n"
     ]
    },
    {
     "name": "stderr",
     "output_type": "stream",
     "text": [
      " 54%|█████▍    | 7/13 [00:53<00:18,  3.01s/it]"
     ]
    },
    {
     "name": "stdout",
     "output_type": "stream",
     "text": [
      "Job cqq10na417q0008ysdp0 had [0, 0, 1, 0, 0, 0, 2, 0, 0, 0, 0, 0, 0, 2, 0, 1, 0, 1, 0, 0, 0, 1, 1, 6, 1, 7, 1, 10, 6, 8, 3, 8, 3, 7, 3, 5, 1, 2, 0, 2, 0, 1, 0, 1, 0, 1, 0, 1, 0, 0, 0, 1, 0, 1, 1, 4, 0, 5, 3, 2, 1, 1, 2, 0, 5, 3, 5, 1, 2, 1, 6, 1, 6, 2, 4, 3, 0, 2, 1, 0, 0, 1, 0, 1, 0, 0, 0, 0, 0, 0] errors per layout out of total [499950, 99990, 99990, 9990, 9990, 9990, 9990] shots\n"
     ]
    },
    {
     "name": "stderr",
     "output_type": "stream",
     "text": [
      " 62%|██████▏   | 8/13 [00:53<00:11,  2.31s/it]"
     ]
    },
    {
     "name": "stdout",
     "output_type": "stream",
     "text": [
      "Job cqq10ktv78p00084kph0 had [1, 0, 3, 0, 0, 0, 0, 0, 0, 1, 0, 1, 0, 1, 0, 0, 0, 2, 0, 0, 0, 6, 0, 4, 2, 7, 4, 13, 4, 13, 6, 10, 5, 6, 2, 2, 0, 0, 0, 0, 0, 3, 1, 0, 4, 1, 0, 0, 0, 0, 0, 1, 1, 3, 0, 3, 1, 2, 3, 0, 6, 1, 2, 1, 5, 2, 2, 1, 3, 6, 2, 1, 3, 1, 3, 4, 1, 1, 2, 0, 0, 0, 0, 2, 0, 0, 0, 0, 0, 0] errors per layout out of total [499950, 99990, 99990, 9990, 9990, 9990, 9990, 9990] shots\n"
     ]
    },
    {
     "name": "stderr",
     "output_type": "stream",
     "text": [
      " 69%|██████▉   | 9/13 [00:54<00:07,  1.84s/it]"
     ]
    },
    {
     "name": "stdout",
     "output_type": "stream",
     "text": [
      "Job cqq10ja4td0g008cp2mg had [1, 0, 0, 1, 0, 0, 0, 1, 0, 0, 0, 0, 0, 0, 0, 1, 0, 2, 0, 2, 1, 2, 1, 4, 2, 13, 1, 11, 4, 8, 1, 12, 5, 6, 4, 2, 2, 0, 0, 1, 1, 3, 0, 2, 2, 0, 1, 0, 1, 1, 0, 1, 1, 2, 0, 1, 2, 2, 0, 2, 1, 1, 1, 1, 6, 0, 6, 1, 0, 0, 5, 3, 10, 1, 5, 0, 3, 2, 0, 1, 0, 0, 1, 0, 0, 0, 0, 0, 1, 1] errors per layout out of total [499950, 99990, 99990, 9990, 9990, 9990, 9990, 9990, 9990] shots\n"
     ]
    },
    {
     "name": "stderr",
     "output_type": "stream",
     "text": [
      " 77%|███████▋  | 10/13 [00:55<00:04,  1.52s/it]"
     ]
    },
    {
     "name": "stdout",
     "output_type": "stream",
     "text": [
      "Job cqq10ga267h0008fj8r0 had [0, 0, 0, 0, 0, 0, 0, 0, 0, 0, 0, 1, 0, 3, 0, 1, 0, 1, 0, 2, 1, 3, 0, 4, 1, 12, 0, 10, 1, 16, 7, 13, 3, 4, 0, 3, 0, 0, 1, 0, 0, 3, 1, 3, 1, 1, 0, 0, 0, 1, 0, 2, 0, 1, 0, 2, 0, 4, 0, 1, 4, 3, 3, 0, 3, 2, 5, 2, 4, 1, 6, 1, 5, 1, 1, 0, 1, 2, 1, 3, 1, 0, 0, 0, 0, 0, 0, 0, 0, 0] errors per layout out of total [499950, 99990, 99990, 9990, 9990, 9990, 9990, 9990, 9990, 9990] shots\n",
      "Job cqq10es267h0008fj8qg had [0, 0, 0, 2, 0, 0, 1, 0, 0, 0, 0, 0, 0, 1, 0, 2, 0, 1, 0, 0, 0, 2, 1, 4, 2, 9, 3, 11, 5, 13, 8, 17, 3, 5, 0, 3, 1, 0, 1, 0, 0, 0, 1, 1, 2, 2, 0, 0, 0, 1, 0, 1, 0, 1, 0, 1, 2, 6, 2, 1, 2, 0, 3, 0, 1, 1, 6, 0, 7, 2, 3, 1, 4, 1, 5, 3, 0, 1, 0, 1, 1, 0, 0, 2, 1, 0, 1, 0, 0, 4] errors per layout out of total [499950, 99990, 99990, 9990, 9990, 9990, 9990, 9990, 9990, 9990, 9990] shots\n"
     ]
    },
    {
     "name": "stderr",
     "output_type": "stream",
     "text": [
      " 92%|█████████▏| 12/13 [00:57<00:01,  1.16s/it]"
     ]
    },
    {
     "name": "stdout",
     "output_type": "stream",
     "text": [
      "Job cqq10d9417q0008ysdmg had [1, 1, 0, 1, 1, 0, 0, 0, 1, 0, 0, 1, 1, 0, 0, 2, 1, 2, 0, 3, 0, 4, 0, 3, 2, 13, 2, 9, 7, 7, 6, 17, 9, 9, 1, 2, 0, 3, 1, 0, 0, 0, 0, 1, 1, 2, 0, 0, 0, 1, 0, 1, 0, 2, 1, 1, 0, 3, 2, 2, 2, 3, 1, 1, 7, 1, 10, 2, 7, 5, 5, 1, 7, 1, 3, 1, 4, 2, 0, 1, 4, 1, 0, 0, 0, 2, 0, 0, 0, 2] errors per layout out of total [499950, 99990, 99990, 9990, 9990, 9990, 9990, 9990, 9990, 9990, 9990, 9990] shots\n"
     ]
    },
    {
     "name": "stderr",
     "output_type": "stream",
     "text": [
      "100%|██████████| 13/13 [00:58<00:00,  4.47s/it]"
     ]
    },
    {
     "name": "stdout",
     "output_type": "stream",
     "text": [
      "Job cqq10bsjx32g008542ng had [0, 1, 1, 0, 1, 3, 2, 1, 2, 0, 1, 0, 0, 1, 0, 2, 0, 1, 1, 2, 0, 6, 1, 4, 1, 10, 1, 9, 6, 9, 7, 13, 7, 8, 5, 4, 1, 2, 0, 0, 0, 4, 0, 0, 0, 0, 0, 0, 0, 1, 2, 1, 0, 0, 1, 0, 1, 2, 1, 1, 4, 2, 7, 0, 9, 2, 3, 2, 5, 3, 10, 0, 8, 1, 4, 1, 2, 0, 0, 1, 1, 0, 1, 1, 0, 0, 0, 0, 0, 0] errors per layout out of total [499950, 99990, 99990, 9990, 9990, 9990, 9990, 9990, 9990, 9990, 9990, 9990, 9990] shots\n"
     ]
    },
    {
     "name": "stderr",
     "output_type": "stream",
     "text": [
      "\n"
     ]
    }
   ],
   "source": [
    "from soft_info import get_repcode_IQ_map, counts_to_det_syndr\n",
    "import stim\n",
    "import pymatching\n",
    "from tqdm import tqdm\n",
    "import numpy as np\n",
    "\n",
    "num_errors_per_job = []\n",
    "num_shots_per_job = []\n",
    "\n",
    "for job_id in tqdm(md['job_id']):\n",
    "    num_shots_per_job_ = 0\n",
    "    job = provider.retrieve_job(job_id)\n",
    "    layouts = job.initial_layouts()\n",
    "\n",
    "    num_errors_per_layout = []\n",
    "    for idx, layout in enumerate(layouts):\n",
    "        \n",
    "        # Get the layout + noise\n",
    "        layout_des = job.deserialize_layout(layout)    \n",
    "        layout = list(layout_des['link_qubit'].values()) + list(layout_des['code_qubit'].values())\n",
    "        qubit_mapping = get_repcode_IQ_map(layout, synd_rounds=3)\n",
    "        avgs = get_avgs_from_dict(noise_dict, layout)\n",
    "\n",
    "        # Initialize the stim model\n",
    "        circuit = stim.Circuit.generated(\"repetition_code:memory\",\n",
    "                                distance=DISTANCE,\n",
    "                                rounds=ROUNDS,\n",
    "                                after_clifford_depolarization=avgs[\"two_gate\"], #two-qubit-fidelity,\n",
    "                                after_reset_flip_probability = 0, #if not _RESETS else avgs[\"readout\"], #reset error\n",
    "                                before_measure_flip_probability=avgs[\"readout\"], #measurement error,\n",
    "                                before_round_data_depolarization=avgs[\"idle\"]) #idle error)\n",
    "        model = circuit.detector_error_model(decompose_errors=False)\n",
    "        matching = pymatching.Matching.from_detector_error_model(model)\n",
    "\n",
    "        # Decode the counts\n",
    "        counts = job.result().get_counts(idx)\n",
    "        num_errors = 0\n",
    "        for count_key, shots in counts.items():\n",
    "\n",
    "            array_processed_string = counts_to_det_syndr(count_key, _resets=False, verbose=False)\n",
    "            predicted_observables = matching.decode(array_processed_string)\n",
    "            actual_observables = [(int(count_key[0])+0)%2]\n",
    "\n",
    "            if actual_observables != predicted_observables:\n",
    "                num_errors += shots\n",
    "        \n",
    "        num_errors_per_layout.append(num_errors)\n",
    "        num_shots = sum(counts.values())\n",
    "        num_shots_per_job_ += num_shots\n",
    "    num_shots_per_job.append(num_shots_per_job_)\n",
    "    num_errors_per_job.append(np.sum(num_errors_per_layout))\n",
    "\n",
    "    print(f\"Job {job_id} had {num_errors_per_layout} errors per layout out of total {num_shots_per_job} shots\")\n",
    "\n",
    "\n"
   ]
  },
  {
   "cell_type": "code",
   "execution_count": 25,
   "metadata": {},
   "outputs": [
    {
     "name": "stdout",
     "output_type": "stream",
     "text": [
      "num_errors_per_job [7888, 1519, 1675, 159, 188, 177, 151, 165, 160, 156, 166, 200, 194]\n",
      "num_shots_per_job [499950, 99990, 99990, 9990, 9990, 9990, 9990, 9990, 9990, 9990, 9990, 9990, 9990]\n",
      "sum(num_errors_per_job) 12798\n",
      "sum(num_shots_per_job) 799830\n",
      "The error rate is 1.60e-02\n"
     ]
    }
   ],
   "source": [
    "# Calculate the error rate\n",
    "print('num_errors_per_job', num_errors_per_job)\n",
    "print('num_shots_per_job', num_shots_per_job)\n",
    "print('sum(num_errors_per_job)', np.sum(num_errors_per_job))\n",
    "print('sum(num_shots_per_job)', np.sum(num_shots_per_job))\n",
    "\n",
    "error_rate = np.sum(num_errors_per_job) / np.sum(num_shots_per_job)\n",
    "\n",
    "print(f\"The error rate is {error_rate:.2e}\")"
   ]
  },
  {
   "cell_type": "code",
   "execution_count": null,
   "metadata": {},
   "outputs": [],
   "source": []
  },
  {
   "cell_type": "code",
   "execution_count": null,
   "metadata": {},
   "outputs": [],
   "source": []
  }
 ],
 "metadata": {
  "kernelspec": {
   "display_name": "Soft-Info-fMUpUe5a",
   "language": "python",
   "name": "python3"
  },
  "language_info": {
   "codemirror_mode": {
    "name": "ipython",
    "version": 3
   },
   "file_extension": ".py",
   "mimetype": "text/x-python",
   "name": "python",
   "nbconvert_exporter": "python",
   "pygments_lexer": "ipython3",
   "version": "3.11.4"
  }
 },
 "nbformat": 4,
 "nbformat_minor": 2
}
