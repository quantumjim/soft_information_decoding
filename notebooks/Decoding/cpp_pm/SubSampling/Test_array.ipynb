{
 "cells": [
  {
   "cell_type": "code",
   "execution_count": 2,
   "metadata": {},
   "outputs": [],
   "source": [
    "from result_saver import SaverProvider\n",
    "\n",
    "provider = SaverProvider()"
   ]
  },
  {
   "cell_type": "code",
   "execution_count": 3,
   "metadata": {},
   "outputs": [],
   "source": [
    "job = provider.retrieve_job(\"cqvaz6m36d60008j16hg\")\n",
    "\n",
    "DISTANCE = 56\n",
    "ROUNDS = 100\n",
    "SHOTS = 712"
   ]
  },
  {
   "cell_type": "code",
   "execution_count": 4,
   "metadata": {},
   "outputs": [
    {
     "name": "stdout",
     "output_type": "stream",
     "text": [
      "(712, 5556)\n"
     ]
    }
   ],
   "source": [
    "memory = job.result().get_memory()\n",
    "print(memory.shape)"
   ]
  },
  {
   "cell_type": "code",
   "execution_count": 5,
   "metadata": {},
   "outputs": [
    {
     "name": "stdout",
     "output_type": "stream",
     "text": [
      "5556\n"
     ]
    }
   ],
   "source": [
    "print(ROUNDS * (DISTANCE - 1) + DISTANCE)"
   ]
  },
  {
   "cell_type": "code",
   "execution_count": 37,
   "metadata": {},
   "outputs": [
    {
     "name": "stdout",
     "output_type": "stream",
     "text": [
      "55\n",
      "56\n"
     ]
    }
   ],
   "source": [
    "layout = job.initial_layouts()[0]\n",
    "layout_des = job.deserialize_layout(layout)\n",
    "\n",
    "link_qubits = list(layout_des[\"link_qubit\"].values())\n",
    "code_qubits = list(layout_des[\"code_qubit\"].values())\n",
    "print(len(link_qubits))\n",
    "print(len(code_qubits))"
   ]
  },
  {
   "cell_type": "markdown",
   "metadata": {},
   "source": [
    "# All possible combinations"
   ]
  },
  {
   "cell_type": "code",
   "execution_count": 42,
   "metadata": {},
   "outputs": [
    {
     "name": "stdout",
     "output_type": "stream",
     "text": [
      "[0, 1, 55, 56, 110, 111, 165, 166, 220, 221, 275, 276, 330, 331, 385, 386, 440, 441, 495, 496, 550, 551, 605, 606, 660, 661, 715, 716, 770, 771, 825, 826, 880, 881, 935, 936, 990, 991, 1045, 1046, 1100, 1101, 1155, 1156, 1210, 1211, 1265, 1266, 1320, 1321, 1375, 1376, 1430, 1431, 1485, 1486, 1540, 1541, 1595, 1596, 1650, 1651, 1705, 1706, 1760, 1761, 1815, 1816, 1870, 1871, 1925, 1926, 1980, 1981, 2035, 2036, 2090, 2091, 2145, 2146, 2200, 2201, 2255, 2256, 2310, 2311, 2365, 2366, 2420, 2421, 2475, 2476, 2530, 2531, 2585, 2586, 2640, 2641, 2695, 2696, 2750, 2751, 2805, 2806, 2860, 2861, 2915, 2916, 2970, 2971, 3025, 3026, 3080, 3081, 3135, 3136, 3190, 3191, 3245, 3246, 3300, 3301, 3355, 3356, 3410, 3411, 3465, 3466, 3520, 3521, 3575, 3576, 3630, 3631, 3685, 3686, 3740, 3741, 3795, 3796, 3850, 3851, 3905, 3906, 3960, 3961, 4015, 4016, 4070, 4071, 4125, 4126, 4180, 4181, 4235, 4236, 4290, 4291, 4345, 4346, 4400, 4401, 4455, 4456, 4510, 4511, 4565, 4566, 4620, 4621, 4675, 4676, 4730, 4731, 4785, 4786, 4840, 4841, 4895, 4896, 4950, 4951, 5005, 5006, 5060, 5061, 5115, 5116, 5170, 5171, 5225, 5226, 5280, 5281, 5335, 5336, 5390, 5391, 5445, 5446, 5500, 5501, 5502]\n",
      "203\n",
      "203\n"
     ]
    }
   ],
   "source": [
    "d_new = 3\n",
    "cols_to_keep = []\n",
    "for i in range(ROUNDS):\n",
    "    first_combi_ancilla_blocks = range(i*(DISTANCE-1), i*(DISTANCE-1)+d_new-1)\n",
    "    cols_to_keep.extend(first_combi_ancilla_blocks)\n",
    "first_combi_code_block = range(ROUNDS*(DISTANCE-1), ROUNDS*(DISTANCE-1)+d_new)\n",
    "cols_to_keep.extend(first_combi_code_block)\n",
    "\n",
    "print(cols_to_keep)\n",
    "print(len(cols_to_keep))\n",
    "print((d_new-1)*ROUNDS + d_new)"
   ]
  },
  {
   "cell_type": "markdown",
   "metadata": {},
   "source": [
    "# Adapt the layout"
   ]
  },
  {
   "cell_type": "code",
   "execution_count": 38,
   "metadata": {},
   "outputs": [],
   "source": [
    "link_qubits_ = [1, 3, 5, 7, 9]\n",
    "code_qubits_ = [0, 2, 4, 6, 8, 10]\n",
    "\n",
    "new_link = link_qubits_[:d_new-1]\n",
    "new_code = code_qubits_[:d_new]"
   ]
  },
  {
   "cell_type": "markdown",
   "metadata": {},
   "source": [
    "# All together "
   ]
  },
  {
   "cell_type": "code",
   "execution_count": 46,
   "metadata": {},
   "outputs": [
    {
     "name": "stderr",
     "output_type": "stream",
     "text": [
      "100%|██████████| 54/54 [00:00<00:00, 2095.52it/s]"
     ]
    },
    {
     "name": "stdout",
     "output_type": "stream",
     "text": [
      "[103, 105]\n",
      "[102, 104, 106]\n",
      "[53, 54, 108, 109, 163, 164, 218, 219, 273, 274, 328, 329, 383, 384, 438, 439, 493, 494, 548, 549, 603, 604, 658, 659, 713, 714, 768, 769, 823, 824, 878, 879, 933, 934, 988, 989, 1043, 1044, 1098, 1099, 1153, 1154, 1208, 1209, 1263, 1264, 1318, 1319, 1373, 1374, 1428, 1429, 1483, 1484, 1538, 1539, 1593, 1594, 1648, 1649, 1703, 1704, 1758, 1759, 1813, 1814, 1868, 1869, 1923, 1924, 1978, 1979, 2033, 2034, 2088, 2089, 2143, 2144, 2198, 2199, 2253, 2254, 2308, 2309, 2363, 2364, 2418, 2419, 2473, 2474, 2528, 2529, 2583, 2584, 2638, 2639, 2693, 2694, 2748, 2749, 2803, 2804, 2858, 2859, 2913, 2914, 2968, 2969, 3023, 3024, 3078, 3079, 3133, 3134, 3188, 3189, 3243, 3244, 3298, 3299, 3353, 3354, 3408, 3409, 3463, 3464, 3518, 3519, 3573, 3574, 3628, 3629, 3683, 3684, 3738, 3739, 3793, 3794, 3848, 3849, 3903, 3904, 3958, 3959, 4013, 4014, 4068, 4069, 4123, 4124, 4178, 4179, 4233, 4234, 4288, 4289, 4343, 4344, 4398, 4399, 4453, 4454, 4508, 4509, 4563, 4564, 4618, 4619, 4673, 4674, 4728, 4729, 4783, 4784, 4838, 4839, 4893, 4894, 4948, 4949, 5003, 5004, 5058, 5059, 5113, 5114, 5168, 5169, 5223, 5224, 5278, 5279, 5333, 5334, 5388, 5389, 5443, 5444, 5498, 5499, 5553, 5554, 5555]\n"
     ]
    },
    {
     "name": "stderr",
     "output_type": "stream",
     "text": [
      "\n"
     ]
    }
   ],
   "source": [
    "from tqdm import tqdm\n",
    "# [0, 1, 2], [1, 2, 3], [2, 3, 4] etc => +1 until last element = DISTANCE - 1. But last element = d_new - 1 => repeat DISTANCE - d_new times\n",
    "\n",
    "# print(DISTANCE - d_new + 1)\n",
    "for i in tqdm(range(DISTANCE - d_new + 1)): # + 1 to have the original in there as well\n",
    "\n",
    "    cols_to_keep_new = [x + i  for x in cols_to_keep]\n",
    "    mmr = memory[:, cols_to_keep_new]\n",
    "\n",
    "    # Layout\n",
    "    new_link = link_qubits[i:d_new-1+i]\n",
    "    new_code = code_qubits[i:d_new+i]\n",
    "\n",
    "print(new_link)\n",
    "print(new_code)\n",
    "\n",
    "print(cols_to_keep_new)"
   ]
  },
  {
   "cell_type": "markdown",
   "metadata": {},
   "source": [
    "# Remove the last collumn in each block and code msmt block"
   ]
  },
  {
   "cell_type": "code",
   "execution_count": 17,
   "metadata": {},
   "outputs": [
    {
     "name": "stdout",
     "output_type": "stream",
     "text": [
      "(712, 5455)\n",
      "5455\n"
     ]
    }
   ],
   "source": [
    "import numpy as np\n",
    "\n",
    "def remove_columns(arr, T, d):    \n",
    "    # Initialize an empty list to hold the indices of columns to keep\n",
    "    cols_to_keep = []\n",
    "    \n",
    "    # Iterate through the first T blocks\n",
    "    for i in range(T):\n",
    "        # For each block, add indices of the first (d-2) columns to the list\n",
    "        cols_to_keep.extend(range(i*(d-1), i*(d-1) + (d-1) - 1))\n",
    "    \n",
    "    # Add the indices of the first (d-1) columns of the last block\n",
    "    cols_to_keep.extend(range(T*(d-1), T*(d-1) + d - 1))\n",
    "    \n",
    "    # Use np.ix_ to keep rows unchanged and filter columns\n",
    "    result = arr[:, cols_to_keep]\n",
    "    \n",
    "    return result\n",
    "\n",
    "\n",
    "mmr_2 = remove_columns(memory, ROUNDS, DISTANCE)\n",
    "print(mmr_2.shape)\n",
    "d = DISTANCE - 1\n",
    "T = ROUNDS\n",
    "print((d-1)*T + d)"
   ]
  }
 ],
 "metadata": {
  "kernelspec": {
   "display_name": "Soft-Info-fMUpUe5a",
   "language": "python",
   "name": "python3"
  },
  "language_info": {
   "codemirror_mode": {
    "name": "ipython",
    "version": 3
   },
   "file_extension": ".py",
   "mimetype": "text/x-python",
   "name": "python",
   "nbconvert_exporter": "python",
   "pygments_lexer": "ipython3",
   "version": "3.11.4"
  }
 },
 "nbformat": 4,
 "nbformat_minor": 2
}
