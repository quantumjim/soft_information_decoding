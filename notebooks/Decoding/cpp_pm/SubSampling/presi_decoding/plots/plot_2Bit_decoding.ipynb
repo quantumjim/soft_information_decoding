{
 "cells": [
  {
   "cell_type": "markdown",
   "metadata": {},
   "source": [
    "# What jobs?"
   ]
  },
  {
   "cell_type": "markdown",
   "metadata": {},
   "source": [
    "# Load the data"
   ]
  },
  {
   "cell_type": "code",
   "execution_count": 39,
   "metadata": {},
   "outputs": [
    {
     "name": "stdout",
     "output_type": "stream",
     "text": [
      "1\n"
     ]
    }
   ],
   "source": [
    "import json\n",
    "\n",
    "DEVICE = 'ibm_torino'\n",
    "state = \"Z0\"\n",
    "ROUNDS = 50\n",
    "\n",
    "\n",
    "SOFT_MUL = 0.5\n",
    "\n",
    "# file_name = f'../results/{state}_{ROUNDS}.json'\n",
    "file_name = f'../results/2BIT_{DEVICE}_{state}_{ROUNDS}_soft_{SOFT_MUL}_v2.json'\n",
    "\n",
    "\n",
    "with open(file_name, 'r') as f:\n",
    "    decoding_data = json.load(f)\n",
    "\n",
    "print(len(decoding_data.keys()))"
   ]
  },
  {
   "cell_type": "markdown",
   "metadata": {},
   "source": [
    "# Get the cummulative error dict"
   ]
  },
  {
   "cell_type": "code",
   "execution_count": 40,
   "metadata": {},
   "outputs": [
    {
     "name": "stdout",
     "output_type": "stream",
     "text": [
      "dict_keys([55, 51, 47, 43, 39, 35, 31, 27, 23, 19, 15, 11, 7, 3])\n",
      "{55: {'mean_err_per_bit': 0.0, 'shots': 55920}, 51: {'mean_err_per_bit': 0.0, 'shots': 55920}, 47: {'mean_err_per_bit': 1.0, 'shots': 55920}, 43: {'mean_err_per_bit': 2.0, 'shots': 55920}, 39: {'mean_err_per_bit': 3.5, 'shots': 55920}, 35: {'mean_err_per_bit': 8.5, 'shots': 55920}, 31: {'mean_err_per_bit': 15.5, 'shots': 55920}, 27: {'mean_err_per_bit': 29.333333333333332, 'shots': 83880}, 23: {'mean_err_per_bit': 52.0, 'shots': 83880}, 19: {'mean_err_per_bit': 153.0, 'shots': 111840}, 15: {'mean_err_per_bit': 319.75, 'shots': 111840}, 11: {'mean_err_per_bit': 598.5, 'shots': 167760}, 7: {'mean_err_per_bit': 1379.9, 'shots': 279600}, 3: {'mean_err_per_bit': 3426.285714285714, 'shots': 782880}}\n",
      "{55: 0.0, 51: 0.0, 47: 1.78826895565093e-05, 43: 3.57653791130186e-05, 39: 6.258941344778254e-05, 35: 0.00015200286123032904, 31: 0.00027718168812589414, 27: 0.0003497059291050707, 23: 0.000619933237958989, 19: 0.0013680257510729613, 15: 0.002858994992846924, 11: 0.003567596566523605, 7: 0.004935264663805437, 3: 0.004376514554319582}\n"
     ]
    }
   ],
   "source": [
    "import numpy as np\n",
    "\n",
    "d_new_dict = {}\n",
    "for key, result_list in decoding_data.items():\n",
    "    for result in result_list:\n",
    "        if result.get(\"totshots\", 0) != 0:\n",
    "            shots = result[\"totshots\"]\n",
    "            continue\n",
    "        else:\n",
    "            d_new = int(result[\"d_new\"])\n",
    "            error_list = result[\"error_list\"]\n",
    "            nb_subsets = len(error_list)\n",
    "            mean_err = np.mean(error_list)\n",
    "        if d_new in d_new_dict:\n",
    "            d_new_dict[d_new][\"mean_err_per_bit\"] += mean_err\n",
    "            d_new_dict[d_new][\"shots\"] += shots * nb_subsets\n",
    "        else:\n",
    "            d_new_dict[d_new] = {\n",
    "                \"mean_err_per_bit\": mean_err,\n",
    "                \"shots\": shots * nb_subsets,\n",
    "            }\n",
    "\n",
    "print(d_new_dict.keys())\n",
    "print(d_new_dict)\n",
    "\n",
    "err_rate_dict = {}\n",
    "\n",
    "for d_new, data in d_new_dict.items():\n",
    "    err_rate_dict[d_new] = data[\"mean_err_per_bit\"] / data[\"shots\"] \n",
    "\n",
    "print(err_rate_dict)"
   ]
  },
  {
   "cell_type": "markdown",
   "metadata": {},
   "source": [
    "# Plot"
   ]
  },
  {
   "cell_type": "code",
   "execution_count": 41,
   "metadata": {},
   "outputs": [
    {
     "data": {
      "image/png": "[encoded data removed]",
      "text/plain": [
       "<Figure size 640x480 with 1 Axes>"
      ]
     },
     "metadata": {},
     "output_type": "display_data"
    }
   ],
   "source": [
    "import matplotlib.pyplot as plt\n",
    "\n",
    "plt.plot(err_rate_dict.keys(), err_rate_dict.values(), 'o-')\n",
    "plt.ylabel('Error rate')\n",
    "plt.xlabel('distance')\n",
    "plt.yscale('log')"
   ]
  },
  {
   "cell_type": "code",
   "execution_count": null,
   "metadata": {},
   "outputs": [],
   "source": []
  }
 ],
 "metadata": {
  "kernelspec": {
   "display_name": "Soft-Info-fMUpUe5a",
   "language": "python",
   "name": "python3"
  },
  "language_info": {
   "codemirror_mode": {
    "name": "ipython",
    "version": 3
   },
   "file_extension": ".py",
   "mimetype": "text/x-python",
   "name": "python",
   "nbconvert_exporter": "python",
   "pygments_lexer": "ipython3",
   "version": "3.11.4"
  }
 },
 "nbformat": 4,
 "nbformat_minor": 2
}
