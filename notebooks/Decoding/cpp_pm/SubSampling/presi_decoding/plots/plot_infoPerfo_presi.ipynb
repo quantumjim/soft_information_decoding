{
 "cells": [
  {
   "cell_type": "markdown",
   "metadata": {},
   "source": [
    "# What jobs?"
   ]
  },
  {
   "cell_type": "code",
   "execution_count": 27,
   "metadata": {},
   "outputs": [
    {
     "name": "stdout",
     "output_type": "stream",
     "text": [
      "state = Z0\n",
      "shape: (40, 18)\n"
     ]
    },
    {
     "data": {
      "text/html": [
       "<div>\n",
       "<style scoped>\n",
       "    .dataframe tbody tr th:only-of-type {\n",
       "        vertical-align: middle;\n",
       "    }\n",
       "\n",
       "    .dataframe tbody tr th {\n",
       "        vertical-align: top;\n",
       "    }\n",
       "\n",
       "    .dataframe thead th {\n",
       "        text-align: right;\n",
       "    }\n",
       "</style>\n",
       "<table border=\"1\" class=\"dataframe\">\n",
       "  <thead>\n",
       "    <tr style=\"text-align: right;\">\n",
       "      <th></th>\n",
       "      <th>creation_date</th>\n",
       "      <th>notebook_name</th>\n",
       "      <th>backend_name</th>\n",
       "      <th>job_id</th>\n",
       "      <th>tags</th>\n",
       "      <th>meas_level</th>\n",
       "      <th>shots</th>\n",
       "      <th>num_qubits</th>\n",
       "      <th>job_status</th>\n",
       "      <th>execution_date</th>\n",
       "      <th>code</th>\n",
       "      <th>distance</th>\n",
       "      <th>rounds</th>\n",
       "      <th>logical</th>\n",
       "      <th>descr</th>\n",
       "      <th>resets</th>\n",
       "      <th>xbasis</th>\n",
       "      <th>path_info</th>\n",
       "    </tr>\n",
       "  </thead>\n",
       "  <tbody>\n",
       "    <tr>\n",
       "      <th>5483</th>\n",
       "      <td>2024-03-24 15:59:50.864000+01:00</td>\n",
       "      <td>Torino_RepCodes_jobs</td>\n",
       "      <td>ibm_torino</td>\n",
       "      <td>cr03zsqdvs8g008j7ra0</td>\n",
       "      <td>[Subset 56, 50 rounds, 0 log, xbasis=False]</td>\n",
       "      <td>1.0</td>\n",
       "      <td>1398.0</td>\n",
       "      <td>NaN</td>\n",
       "      <td>JobStatus.DONE</td>\n",
       "      <td>2024-03-24 16:51:12.990431+01:00</td>\n",
       "      <td>RepetitionCodeCircuit</td>\n",
       "      <td>56</td>\n",
       "      <td>50</td>\n",
       "      <td>0</td>\n",
       "      <td>subset RepCodes</td>\n",
       "      <td>NaN</td>\n",
       "      <td>False</td>\n",
       "      <td>{'mean_gate_error': 0.006452510204489, 'min_ga...</td>\n",
       "    </tr>\n",
       "    <tr>\n",
       "      <th>5482</th>\n",
       "      <td>2024-03-24 15:59:44.592000+01:00</td>\n",
       "      <td>Torino_RepCodes_jobs</td>\n",
       "      <td>ibm_torino</td>\n",
       "      <td>cr03zr7k5z700081s2tg</td>\n",
       "      <td>[Subset 56, 50 rounds, 0 log, xbasis=False]</td>\n",
       "      <td>1.0</td>\n",
       "      <td>1398.0</td>\n",
       "      <td>NaN</td>\n",
       "      <td>JobStatus.DONE</td>\n",
       "      <td>2024-03-24 16:50:44.865382+01:00</td>\n",
       "      <td>RepetitionCodeCircuit</td>\n",
       "      <td>56</td>\n",
       "      <td>50</td>\n",
       "      <td>0</td>\n",
       "      <td>subset RepCodes</td>\n",
       "      <td>NaN</td>\n",
       "      <td>False</td>\n",
       "      <td>{'mean_gate_error': 0.006452510204489, 'min_ga...</td>\n",
       "    </tr>\n",
       "  </tbody>\n",
       "</table>\n",
       "</div>"
      ],
      "text/plain": [
       "                         creation_date         notebook_name backend_name  \\\n",
       "5483  2024-03-24 15:59:50.864000+01:00  Torino_RepCodes_jobs   ibm_torino   \n",
       "5482  2024-03-24 15:59:44.592000+01:00  Torino_RepCodes_jobs   ibm_torino   \n",
       "\n",
       "                    job_id                                         tags  \\\n",
       "5483  cr03zsqdvs8g008j7ra0  [Subset 56, 50 rounds, 0 log, xbasis=False]   \n",
       "5482  cr03zr7k5z700081s2tg  [Subset 56, 50 rounds, 0 log, xbasis=False]   \n",
       "\n",
       "      meas_level   shots  num_qubits      job_status  \\\n",
       "5483         1.0  1398.0         NaN  JobStatus.DONE   \n",
       "5482         1.0  1398.0         NaN  JobStatus.DONE   \n",
       "\n",
       "                        execution_date                   code  distance  \\\n",
       "5483  2024-03-24 16:51:12.990431+01:00  RepetitionCodeCircuit        56   \n",
       "5482  2024-03-24 16:50:44.865382+01:00  RepetitionCodeCircuit        56   \n",
       "\n",
       "      rounds logical            descr resets xbasis  \\\n",
       "5483      50       0  subset RepCodes    NaN  False   \n",
       "5482      50       0  subset RepCodes    NaN  False   \n",
       "\n",
       "                                              path_info  \n",
       "5483  {'mean_gate_error': 0.006452510204489, 'min_ga...  \n",
       "5482  {'mean_gate_error': 0.006452510204489, 'min_ga...  "
      ]
     },
     "execution_count": 27,
     "metadata": {},
     "output_type": "execute_result"
    }
   ],
   "source": [
    "from Scratch import metadata_loader\n",
    "\n",
    "\n",
    "DEVICE = \"ibm_torino\"\n",
    "LOGICAL = str(0)\n",
    "XBASIS = False\n",
    "ROUNDS = 50\n",
    "\n",
    "state = \"X\" if XBASIS else \"Z\"\n",
    "state += LOGICAL\n",
    "print(f\"state = {state}\")\n",
    "\n",
    "# Load the metadata\n",
    "md = metadata_loader(True, True)\n",
    "md = md[md[\"job_status\"] == \"JobStatus.DONE\"]\n",
    "md = md[md[\"code\"] == \"RepetitionCodeCircuit\"]\n",
    "md = md[md[\"descr\"] == 'subset RepCodes']\n",
    "md = md.dropna(subset=[\"rounds\"])\n",
    "md = md[md[\"meas_level\"] == 1]\n",
    "md['rounds'] = md['rounds'].astype(int)\n",
    "md['distance'] = md['distance'].astype(int)\n",
    "\n",
    "md = md[md[\"backend_name\"] == DEVICE]\n",
    "md = md[md[\"logical\"] == LOGICAL]\n",
    "md = md[md[\"xbasis\"] == XBASIS]\n",
    "md = md[md[\"rounds\"] == ROUNDS]\n",
    "\n",
    "md = md[:]\n",
    "print(\"shape:\", md.shape)\n",
    "md[:2]"
   ]
  },
  {
   "cell_type": "markdown",
   "metadata": {},
   "source": [
    "# Load the data"
   ]
  },
  {
   "cell_type": "code",
   "execution_count": 28,
   "metadata": {},
   "outputs": [
    {
     "name": "stdout",
     "output_type": "stream",
     "text": [
      "3\n"
     ]
    }
   ],
   "source": [
    "import json\n",
    "\n",
    "SOFT_MUL = 0.5\n",
    "\n",
    "# file_name = f'../results/{state}_{ROUNDS}.json'\n",
    "file_name = f'../results/InfoPerfo_{DEVICE}_{state}_{ROUNDS}_soft_{SOFT_MUL}.json'\n",
    "\n",
    "\n",
    "with open(file_name, 'r') as f:\n",
    "    decoding_data = json.load(f)\n",
    "\n",
    "print(len(decoding_data.keys()))"
   ]
  },
  {
   "cell_type": "markdown",
   "metadata": {},
   "source": [
    "# Get the cummulative error dict"
   ]
  },
  {
   "cell_type": "code",
   "execution_count": 29,
   "metadata": {},
   "outputs": [
    {
     "name": "stdout",
     "output_type": "stream",
     "text": [
      "dict_keys([3, 55, 51, 47, 43, 39, 35, 31, 27, 23, 19, 15, 11, 7])\n"
     ]
    }
   ],
   "source": [
    "import numpy as np\n",
    "\n",
    "d_new_dict = {}\n",
    "for key, result_list in decoding_data.items():\n",
    "    for result in result_list:\n",
    "        if result.get(\"shots\", 0) != 0:\n",
    "            shots = result[\"shots\"]\n",
    "        elif result.get(\"nb_of_bits\", 0) != 0:\n",
    "            nb_of_bits = result[\"nb_of_bits\"]\n",
    "        else:\n",
    "            d_new = int(result[\"d_new\"])\n",
    "            error_list = result[\"error_list\"]\n",
    "            nb_subsets = len(error_list)\n",
    "            mean_err_per_bit = np.zeros(len(error_list[0]))\n",
    "            for error_per_bit in error_list:\n",
    "                mean_err_per_bit += np.array(error_per_bit)\n",
    "            mean_err_per_bit /= nb_subsets\n",
    "        if d_new in d_new_dict:\n",
    "            d_new_dict[d_new][\"mean_err_per_bit\"] += mean_err_per_bit\n",
    "            d_new_dict[d_new][\"shots\"] += shots * nb_subsets\n",
    "        else:\n",
    "            d_new_dict[d_new] = {\n",
    "                \"mean_err_per_bit\": mean_err_per_bit,\n",
    "                \"shots\": shots * nb_subsets,\n",
    "                \"nb_of_bits\": nb_of_bits,\n",
    "            }\n",
    "\n",
    "print(d_new_dict.keys())\n",
    "# print(d_new_dict)"
   ]
  },
  {
   "cell_type": "markdown",
   "metadata": {},
   "source": [
    "# Plot"
   ]
  },
  {
   "cell_type": "code",
   "execution_count": 35,
   "metadata": {},
   "outputs": [
    {
     "name": "stdout",
     "output_type": "stream",
     "text": [
      "[4.47067239e-05 3.57653791e-05 1.52002861e-04 3.53183119e-04\n",
      " 4.24713877e-04 5.32010014e-04 5.99070100e-04 6.48247496e-04\n",
      " 6.34835479e-04 6.52718169e-04 6.48247496e-04 6.39306152e-04\n",
      " 6.39306152e-04 6.43776824e-04 6.43776824e-04 6.43776824e-04\n",
      " 6.43776824e-04 6.43776824e-04 6.43776824e-04]\n"
     ]
    },
    {
     "data": {
      "text/plain": [
       "Text(0, 0.5, 'Error rate')"
      ]
     },
     "execution_count": 35,
     "metadata": {},
     "output_type": "execute_result"
    },
    {
     "data": {
      "image/png": "[encoded data removed]",
      "text/plain": [
       "<Figure size 640x480 with 1 Axes>"
      ]
     },
     "metadata": {},
     "output_type": "display_data"
    }
   ],
   "source": [
    "import matplotlib.pyplot as plt\n",
    "\n",
    "for d_new, data in d_new_dict.items():\n",
    "    if d_new != 43:\n",
    "        continue\n",
    "\n",
    "    errs = data[\"mean_err_per_bit\"]/data[\"shots\"]\n",
    "    bits = data[\"nb_of_bits\"]\n",
    "\n",
    "    print(errs)\n",
    "\n",
    "    plt.plot(bits, errs, label=f\"d_new = {d_new}\")\n",
    "    plt.legend(fontsize=3)\n",
    "    plt.grid()\n",
    "\n",
    "plt.xlabel(\"Number of bits\")\n",
    "plt.xticks(nb_of_bits)\n",
    "plt.ylabel(\"Error rate\")\n"
   ]
  },
  {
   "cell_type": "code",
   "execution_count": null,
   "metadata": {},
   "outputs": [],
   "source": []
  }
 ],
 "metadata": {
  "kernelspec": {
   "display_name": "Soft-Info-fMUpUe5a",
   "language": "python",
   "name": "python3"
  },
  "language_info": {
   "codemirror_mode": {
    "name": "ipython",
    "version": 3
   },
   "file_extension": ".py",
   "mimetype": "text/x-python",
   "name": "python",
   "nbconvert_exporter": "python",
   "pygments_lexer": "ipython3",
   "version": "3.11.4"
  }
 },
 "nbformat": 4,
 "nbformat_minor": 2
}
