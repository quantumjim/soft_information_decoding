{
 "cells": [
  {
   "cell_type": "code",
   "execution_count": 1,
   "metadata": {},
   "outputs": [],
   "source": [
    "%reload_ext autoreload\n",
    "%autoreload 2"
   ]
  },
  {
   "cell_type": "markdown",
   "metadata": {},
   "source": [
    "# Load the data"
   ]
  },
  {
   "cell_type": "code",
   "execution_count": 2,
   "metadata": {},
   "outputs": [],
   "source": [
    "from result_saver import SaverProvider\n",
    "provider = SaverProvider()"
   ]
  },
  {
   "cell_type": "code",
   "execution_count": 3,
   "metadata": {},
   "outputs": [
    {
     "name": "stdout",
     "output_type": "stream",
     "text": [
      "state = Z0\n",
      "shape: (40, 18)\n"
     ]
    },
    {
     "data": {
      "text/html": [
       "<div>\n",
       "<style scoped>\n",
       "    .dataframe tbody tr th:only-of-type {\n",
       "        vertical-align: middle;\n",
       "    }\n",
       "\n",
       "    .dataframe tbody tr th {\n",
       "        vertical-align: top;\n",
       "    }\n",
       "\n",
       "    .dataframe thead th {\n",
       "        text-align: right;\n",
       "    }\n",
       "</style>\n",
       "<table border=\"1\" class=\"dataframe\">\n",
       "  <thead>\n",
       "    <tr style=\"text-align: right;\">\n",
       "      <th></th>\n",
       "      <th>creation_date</th>\n",
       "      <th>notebook_name</th>\n",
       "      <th>backend_name</th>\n",
       "      <th>job_id</th>\n",
       "      <th>tags</th>\n",
       "      <th>meas_level</th>\n",
       "      <th>shots</th>\n",
       "      <th>num_qubits</th>\n",
       "      <th>job_status</th>\n",
       "      <th>execution_date</th>\n",
       "      <th>code</th>\n",
       "      <th>distance</th>\n",
       "      <th>rounds</th>\n",
       "      <th>logical</th>\n",
       "      <th>descr</th>\n",
       "      <th>resets</th>\n",
       "      <th>xbasis</th>\n",
       "      <th>path_info</th>\n",
       "    </tr>\n",
       "  </thead>\n",
       "  <tbody>\n",
       "    <tr>\n",
       "      <th>5483</th>\n",
       "      <td>2024-03-24 15:59:50.864000+01:00</td>\n",
       "      <td>Torino_RepCodes_jobs</td>\n",
       "      <td>ibm_torino</td>\n",
       "      <td>cr03zsqdvs8g008j7ra0</td>\n",
       "      <td>[Subset 56, 50 rounds, 0 log, xbasis=False]</td>\n",
       "      <td>1.0</td>\n",
       "      <td>1398.0</td>\n",
       "      <td>NaN</td>\n",
       "      <td>JobStatus.DONE</td>\n",
       "      <td>2024-03-24 16:51:12.990431+01:00</td>\n",
       "      <td>RepetitionCodeCircuit</td>\n",
       "      <td>56</td>\n",
       "      <td>50</td>\n",
       "      <td>0</td>\n",
       "      <td>subset RepCodes</td>\n",
       "      <td>NaN</td>\n",
       "      <td>False</td>\n",
       "      <td>{'mean_gate_error': 0.006452510204489, 'min_ga...</td>\n",
       "    </tr>\n",
       "    <tr>\n",
       "      <th>5482</th>\n",
       "      <td>2024-03-24 15:59:44.592000+01:00</td>\n",
       "      <td>Torino_RepCodes_jobs</td>\n",
       "      <td>ibm_torino</td>\n",
       "      <td>cr03zr7k5z700081s2tg</td>\n",
       "      <td>[Subset 56, 50 rounds, 0 log, xbasis=False]</td>\n",
       "      <td>1.0</td>\n",
       "      <td>1398.0</td>\n",
       "      <td>NaN</td>\n",
       "      <td>JobStatus.DONE</td>\n",
       "      <td>2024-03-24 16:50:44.865382+01:00</td>\n",
       "      <td>RepetitionCodeCircuit</td>\n",
       "      <td>56</td>\n",
       "      <td>50</td>\n",
       "      <td>0</td>\n",
       "      <td>subset RepCodes</td>\n",
       "      <td>NaN</td>\n",
       "      <td>False</td>\n",
       "      <td>{'mean_gate_error': 0.006452510204489, 'min_ga...</td>\n",
       "    </tr>\n",
       "  </tbody>\n",
       "</table>\n",
       "</div>"
      ],
      "text/plain": [
       "                         creation_date         notebook_name backend_name  \\\n",
       "5483  2024-03-24 15:59:50.864000+01:00  Torino_RepCodes_jobs   ibm_torino   \n",
       "5482  2024-03-24 15:59:44.592000+01:00  Torino_RepCodes_jobs   ibm_torino   \n",
       "\n",
       "                    job_id                                         tags  \\\n",
       "5483  cr03zsqdvs8g008j7ra0  [Subset 56, 50 rounds, 0 log, xbasis=False]   \n",
       "5482  cr03zr7k5z700081s2tg  [Subset 56, 50 rounds, 0 log, xbasis=False]   \n",
       "\n",
       "      meas_level   shots  num_qubits      job_status  \\\n",
       "5483         1.0  1398.0         NaN  JobStatus.DONE   \n",
       "5482         1.0  1398.0         NaN  JobStatus.DONE   \n",
       "\n",
       "                        execution_date                   code  distance  \\\n",
       "5483  2024-03-24 16:51:12.990431+01:00  RepetitionCodeCircuit        56   \n",
       "5482  2024-03-24 16:50:44.865382+01:00  RepetitionCodeCircuit        56   \n",
       "\n",
       "      rounds logical            descr resets xbasis  \\\n",
       "5483      50       0  subset RepCodes    NaN  False   \n",
       "5482      50       0  subset RepCodes    NaN  False   \n",
       "\n",
       "                                              path_info  \n",
       "5483  {'mean_gate_error': 0.006452510204489, 'min_ga...  \n",
       "5482  {'mean_gate_error': 0.006452510204489, 'min_ga...  "
      ]
     },
     "execution_count": 3,
     "metadata": {},
     "output_type": "execute_result"
    }
   ],
   "source": [
    "from Scratch import metadata_loader\n",
    "import numpy as np\n",
    "from tqdm import tqdm\n",
    "\n",
    "DEVICE = \"ibm_torino\"\n",
    "LOGICAL = str(0)\n",
    "XBASIS = False\n",
    "ROUNDS = 50\n",
    "\n",
    "state = \"X\" if XBASIS else \"Z\"\n",
    "state += LOGICAL\n",
    "print(f\"state = {state}\")\n",
    "\n",
    "\n",
    "# Load the metadata\n",
    "md = metadata_loader(True, True)\n",
    "md = md[md[\"job_status\"] == \"JobStatus.DONE\"]\n",
    "md = md[md[\"code\"] == \"RepetitionCodeCircuit\"]\n",
    "md = md[md[\"descr\"] == 'subset RepCodes']\n",
    "md = md.dropna(subset=[\"rounds\"])\n",
    "md = md[md[\"meas_level\"] == 1]\n",
    "md['rounds'] = md['rounds'].astype(int)\n",
    "md['distance'] = md['distance'].astype(int)\n",
    "\n",
    "md = md[md[\"backend_name\"] == DEVICE]\n",
    "md = md[md[\"logical\"] == LOGICAL]\n",
    "md = md[md[\"xbasis\"] == XBASIS]\n",
    "md = md[md[\"rounds\"] == ROUNDS]\n",
    "\n",
    "# md = md[1:6]\n",
    "print(\"shape:\", md.shape)\n",
    "md[:2]"
   ]
  },
  {
   "cell_type": "markdown",
   "metadata": {},
   "source": [
    "# Group job ids by closest calibration date"
   ]
  },
  {
   "cell_type": "code",
   "execution_count": 4,
   "metadata": {},
   "outputs": [],
   "source": [
    "from datetime import datetime\n",
    "from Scratch import find_closest_calib_jobs\n",
    "import pandas as pd\n",
    "\n",
    "jobs_by_calibration_date = {}\n",
    "for index, row in md.iterrows():\n",
    "    job_id = row['job_id']\n",
    "\n",
    "    _, _, calib_creation_date = find_closest_calib_jobs(tobecalib_job=job_id, verbose=False)\n",
    "\n",
    "    if calib_creation_date not in jobs_by_calibration_date.keys():\n",
    "        jobs_by_calibration_date[calib_creation_date] = [job_id]\n",
    "    else:\n",
    "        jobs_by_calibration_date[calib_creation_date].append(job_id)\n",
    "\n",
    "# Takes 15s"
   ]
  },
  {
   "cell_type": "code",
   "execution_count": 5,
   "metadata": {},
   "outputs": [
    {
     "name": "stdout",
     "output_type": "stream",
     "text": [
      "{datetime.datetime(2024, 3, 23, 9, 58, 21, 614000, tzinfo=datetime.timezone.utc): ['cr03zsqdvs8g008j7ra0', 'cr03zr7k5z700081s2tg', 'cr03zppdvs8g008j7r90', 'cr03zn6dvs8g008j7r80', 'cr03zkp8gdp0008fxbtg', 'cr03zj6czq6g0081jwe0', 'cr03zgek5z700081s2r0', 'cr03zexdvs8g008j7r70', 'cr03zdds9z7g008dqshg', 'cr03zbxs9z7g008dqsh0', 'cr03zandvs8g008j7r6g', 'cr03z8xdvs8g008j7r60', 'cr03z7cdvs8g008j7r5g', 'cr03z5wdvs8g008j7r50', 'cr03z4ck5z700081s2pg', 'cr03z2wczq6g0081jwbg', 'cr03z1cdvs8g008j7r4g', 'cr03yzk8gdp0008fxbr0', 'cr03yybk5z700081s2ng', 'cr03ywk8gdp0008fxbqg'], datetime.datetime(2024, 3, 16, 15, 5, 33, 808000, tzinfo=datetime.timezone.utc): ['cqtvae1pkcdg008e3py0', 'cqtvachpkcdg008e3pxg', 'cqtvab988ev000813aeg', 'cqtva9s4x0mg008acne0', 'cqtva8988ev000813ae0', 'cqtva6r88ev000813ad0', 'cqtva10txzj0008y0a30', 'cqtv9zz9nfw0008ht1y0', 'cqtv9yq88ev000813ac0', 'cqtv9wq4x0mg008acncg', 'cqtv9vf9nfw0008ht1xg'], datetime.datetime(2024, 3, 16, 15, 3, 15, 271000, tzinfo=datetime.timezone.utc): ['cqtv9sz4x0mg008acnc0', 'cqtv9rf88ev000813abg', 'cqtv9py4x0mg008acnb0', 'cqtv9nptxzj0008y0a2g', 'cqtv9metxzj0008y0a20', 'cqtv9jy88ev000813aag', 'cqtv9he4x0mg008acnag', 'cqtv9g636d60008j01ag', 'cqtv9entxzj0008y0a1g']}\n",
      "\n",
      "num of calibrations: 3\n",
      "num of jobs per calibration: [20, 11, 9]\n"
     ]
    }
   ],
   "source": [
    "print(jobs_by_calibration_date)\n",
    "print()\n",
    "print(f\"num of calibrations: {len(jobs_by_calibration_date)}\")\n",
    "print(f\"num of jobs per calibration: {([len(jobs) for jobs in jobs_by_calibration_date.values()])}\")"
   ]
  },
  {
   "cell_type": "markdown",
   "metadata": {},
   "source": [
    "# Decode data"
   ]
  },
  {
   "cell_type": "code",
   "execution_count": 8,
   "metadata": {},
   "outputs": [
    {
     "data": {
      "text/plain": [
       "[3]"
      ]
     },
     "execution_count": 8,
     "metadata": {},
     "output_type": "execute_result"
    }
   ],
   "source": [
    "d = md[\"distance\"].values[0]\n",
    "\n",
    "distances = np.arange(7, d+1, 4)\n",
    "distances = distances[::-1]\n",
    "\n",
    "distances = [3]\n",
    "distances"
   ]
  },
  {
   "cell_type": "code",
   "execution_count": 9,
   "metadata": {},
   "outputs": [
    {
     "name": "stdout",
     "output_type": "stream",
     "text": [
      "08:03:53 Warning: Z0 decoding. Negative T2 error -0.06 % for qubit 90, setting to 0.. IN FILE: /Users/mha/My_Drive/Desktop/Studium/Physik/MSc/Semester_3/IBM/IBM_GIT/Soft-Info/src/soft_info/Hardware/backend_noise.py, LINE: 52\n",
      "08:03:55 Warning: Could not get two gate error of ECR due to 'Could not find the desired property for ecr', taking CX instead.. IN FILE: /Users/mha/My_Drive/Desktop/Studium/Physik/MSc/Semester_3/IBM/IBM_GIT/Soft-Info/src/soft_info/Hardware/backend_noise.py, LINE: 67\n",
      "08:03:55 Warning: Could not get two gate error of CX due to 'Could not find the desired property for cx', taking 0.5 instead.. IN FILE: /Users/mha/My_Drive/Desktop/Studium/Physik/MSc/Semester_3/IBM/IBM_GIT/Soft-Info/src/soft_info/Hardware/backend_noise.py, LINE: 71\n",
      "Found jobs for backend ibm_torino with closest execution date 2024-03-23 09:55:40.182587+00:00.\n"
     ]
    },
    {
     "name": "stderr",
     "output_type": "stream",
     "text": [
      "Decoding jobs of 2024-03-23 09:58:21.614000+00:00 calibration: 100%|██████████| 20/20 [22:48<00:00, 68.42s/it]\n"
     ]
    },
    {
     "name": "stdout",
     "output_type": "stream",
     "text": [
      "08:28:02 Warning: Z0 decoding. Negative T2 error -0.00 % for qubit 12, setting to 0.. IN FILE: /Users/mha/My_Drive/Desktop/Studium/Physik/MSc/Semester_3/IBM/IBM_GIT/Soft-Info/src/soft_info/Hardware/backend_noise.py, LINE: 52\n",
      "08:28:05 Warning: Could not get two gate error of ECR due to 'Could not find the desired property for ecr', taking CX instead.. IN FILE: /Users/mha/My_Drive/Desktop/Studium/Physik/MSc/Semester_3/IBM/IBM_GIT/Soft-Info/src/soft_info/Hardware/backend_noise.py, LINE: 67\n",
      "08:28:05 Warning: Could not get two gate error of CX due to 'Could not find the desired property for cx', taking 0.5 instead.. IN FILE: /Users/mha/My_Drive/Desktop/Studium/Physik/MSc/Semester_3/IBM/IBM_GIT/Soft-Info/src/soft_info/Hardware/backend_noise.py, LINE: 71\n",
      "Found jobs for backend ibm_torino with closest execution date 2024-03-16 14:56:22.522112+00:00.\n"
     ]
    },
    {
     "name": "stderr",
     "output_type": "stream",
     "text": [
      "Decoding jobs of 2024-03-16 15:05:33.808000+00:00 calibration: 100%|██████████| 11/11 [12:55<00:00, 70.46s/it]\n"
     ]
    },
    {
     "name": "stdout",
     "output_type": "stream",
     "text": [
      "08:46:33 Warning: Z0 decoding. Negative T2 error -0.00 % for qubit 12, setting to 0.. IN FILE: /Users/mha/My_Drive/Desktop/Studium/Physik/MSc/Semester_3/IBM/IBM_GIT/Soft-Info/src/soft_info/Hardware/backend_noise.py, LINE: 52\n",
      "08:46:37 Warning: Could not get two gate error of ECR due to 'Could not find the desired property for ecr', taking CX instead.. IN FILE: /Users/mha/My_Drive/Desktop/Studium/Physik/MSc/Semester_3/IBM/IBM_GIT/Soft-Info/src/soft_info/Hardware/backend_noise.py, LINE: 67\n",
      "08:46:37 Warning: Could not get two gate error of CX due to 'Could not find the desired property for cx', taking 0.5 instead.. IN FILE: /Users/mha/My_Drive/Desktop/Studium/Physik/MSc/Semester_3/IBM/IBM_GIT/Soft-Info/src/soft_info/Hardware/backend_noise.py, LINE: 71\n",
      "Found jobs for backend ibm_torino with closest execution date 2024-03-16 14:56:22.522112+00:00.\n"
     ]
    },
    {
     "name": "stderr",
     "output_type": "stream",
     "text": [
      "Decoding jobs of 2024-03-16 15:03:15.271000+00:00 calibration: 100%|██████████| 9/9 [10:47<00:00, 71.91s/it]\n"
     ]
    }
   ],
   "source": [
    "import json\n",
    "import os\n",
    "\n",
    "import pymatching\n",
    "import stim\n",
    "\n",
    "from soft_info import get_noise_dict_from_backend, get_avgs_from_dict, get_repcode_IQ_map\n",
    "from soft_info import RepetitionCodeStimCircuit\n",
    "from soft_info import get_cols_to_keep, generate_subsets_with_center, get_subsample_layout\n",
    "from Scratch import load_calibration_memory\n",
    "import cpp_soft_info\n",
    "\n",
    "SOFT_MUL = 0.5\n",
    "file_name  = f'./results/{DEVICE}_{state}_{ROUNDS}_soft_{SOFT_MUL}.json'\n",
    "\n",
    "rel_error = 1\n",
    "_RESETS = False\n",
    "nb_intervals = -1\n",
    "\n",
    "# KDE BANDWIDTHS\n",
    "lin = [0.4, 0.7, 20]\n",
    "num_points = 51\n",
    "bandwidths = np.linspace(lin[0], lin[1], lin[2])\n",
    "\n",
    "\n",
    "for calib_date in jobs_by_calibration_date.keys():\n",
    "    # get the noise dict of that date\n",
    "    noise_dict = get_noise_dict_from_backend(provider, DEVICE, date = calib_date)\n",
    "\n",
    "    # get the KDE of that date\n",
    "    nb_shots_calib = None\n",
    "    all_memories = load_calibration_memory(provider, tobecalib_backend=DEVICE, other_date=calib_date, nb_shots=nb_shots_calib)\n",
    "    kde_dict = cpp_soft_info.get_KDEs(all_memories, bandwidths, relError=rel_error, absError=-1, num_points=51) # Less num_points bcs just 1 bandwidth\n",
    "\n",
    "    for job_id in tqdm(jobs_by_calibration_date[calib_date], desc=f\"Decoding jobs of {calib_date} calibration\"):\n",
    "        d = md[md[\"job_id\"] == job_id][\"distance\"].values[0] \n",
    "        T = md[md[\"job_id\"] == job_id][\"rounds\"].values[0] # Should be 10\n",
    "\n",
    "        # Get the job\n",
    "        job = provider.retrieve_job(job_id)\n",
    "        memory = job.result().get_memory()\n",
    "\n",
    "        # Get the layout \n",
    "        layout_des = job.deserialize_layout(job.initial_layouts()[0]) # only 1 layout\n",
    "        link_qubits = list(layout_des['link_qubit'].values())\n",
    "        code_qubits = list(layout_des['code_qubit'].values())\n",
    "        \n",
    "\n",
    "        for D_NEW in distances:\n",
    "            subsets = generate_subsets_with_center(d, D_NEW)\n",
    "\n",
    "            num_errors_kde = []\n",
    "            num_errors_hard = []\n",
    "            for subset in subsets: \n",
    "                # print(f\"subset nb {subsets.index(subset)} out of {len(subsets)}\")\n",
    "                \n",
    "                cols_to_keep = get_cols_to_keep(subset, T, d)\n",
    "                IQ_data = memory[:, cols_to_keep]\n",
    "\n",
    "                # Get the layout\n",
    "                layout = get_subsample_layout(subset, link_qubits, code_qubits)\n",
    "                qubit_mapping = get_repcode_IQ_map(layout, synd_rounds=T)\n",
    "\n",
    "                # Get the noise avgs\n",
    "                avgs = get_avgs_from_dict(noise_dict, layout)\n",
    "                noise_list = [avgs[\"two_gate\"], avgs[\"single_gate\"], avgs[\"t1_err\"], avgs[\"t2_err\"]]\n",
    "                readout = avgs[\"readout\"]\n",
    "                noise_list += [readout, readout*(1-SOFT_MUL), readout*SOFT_MUL]    \n",
    "                #[twog_err, sglg_err, t1_err, t2_err, readout_err, hard_err, soft_err]\n",
    "\n",
    "                # Stim model\n",
    "                subsampling = (D_NEW != d)\n",
    "                code = RepetitionCodeStimCircuit(D_NEW, T, xbasis=XBASIS, resets=_RESETS, \n",
    "                                                noise_list=noise_list, subsampling=subsampling)\n",
    "                model = code.circuits[LOGICAL].detector_error_model(decompose_errors=False)\n",
    "\n",
    "                result_soft, result_hard = cpp_soft_info.decode_all_kde(model, IQ_data, T, int(LOGICAL), _RESETS,\n",
    "                                                                        qubit_mapping, kde_dict, relError=rel_error, \n",
    "                                                                        absError=-1, nb_intervals=nb_intervals)\n",
    "                \n",
    "                num_errors_kde.append(result_soft.num_errors)\n",
    "                num_errors_hard.append(result_hard.num_errors)\n",
    "        \n",
    "            result_kde_json = {\n",
    "                \"decoding\": \"kde\",\n",
    "                \"d_new\": str(D_NEW),\n",
    "                \"num_errors\": np.mean(num_errors_kde),\n",
    "                \"error_list\": num_errors_kde,\n",
    "                \"additional_info\": {\n",
    "                    \"rel_error\": rel_error,\n",
    "                    \"bandwidth_linspace\": lin,\n",
    "                    \"num_points_bandwidths\": num_points,\n",
    "                    \"soft_multiplicator\": SOFT_MUL,\n",
    "                },\n",
    "            }\n",
    "\n",
    "            result_hard_json = {\n",
    "                \"decoding\": \"hard\",\n",
    "                \"d_new\": str(D_NEW),\n",
    "                \"num_errors\": np.mean(num_errors_hard),\n",
    "                \"error_list\": num_errors_hard,\n",
    "                \"noise_list\": noise_list,\n",
    "            }\n",
    "\n",
    "            if not os.path.exists(file_name):\n",
    "                data = {}\n",
    "            else:\n",
    "                with open(file_name, \"r\") as f:\n",
    "                    data = json.load(f)\n",
    "\n",
    "            if job_id not in data.keys():\n",
    "                data[job_id] = [result_kde_json, result_hard_json]\n",
    "            else:\n",
    "                data[job_id].append(result_kde_json)\n",
    "                data[job_id].append(result_hard_json)\n",
    "            \n",
    "            with open(file_name, \"w\") as f:\n",
    "                json.dump(data, f, indent=4)"
   ]
  },
  {
   "cell_type": "markdown",
   "metadata": {},
   "source": [
    "# Next state"
   ]
  },
  {
   "cell_type": "code",
   "execution_count": 5,
   "metadata": {},
   "outputs": [
    {
     "name": "stdout",
     "output_type": "stream",
     "text": [
      "state = Z0\n",
      "shape: (20, 18)\n"
     ]
    },
    {
     "data": {
      "text/html": [
       "<div>\n",
       "<style scoped>\n",
       "    .dataframe tbody tr th:only-of-type {\n",
       "        vertical-align: middle;\n",
       "    }\n",
       "\n",
       "    .dataframe tbody tr th {\n",
       "        vertical-align: top;\n",
       "    }\n",
       "\n",
       "    .dataframe thead th {\n",
       "        text-align: right;\n",
       "    }\n",
       "</style>\n",
       "<table border=\"1\" class=\"dataframe\">\n",
       "  <thead>\n",
       "    <tr style=\"text-align: right;\">\n",
       "      <th></th>\n",
       "      <th>creation_date</th>\n",
       "      <th>notebook_name</th>\n",
       "      <th>backend_name</th>\n",
       "      <th>job_id</th>\n",
       "      <th>tags</th>\n",
       "      <th>meas_level</th>\n",
       "      <th>shots</th>\n",
       "      <th>num_qubits</th>\n",
       "      <th>job_status</th>\n",
       "      <th>execution_date</th>\n",
       "      <th>code</th>\n",
       "      <th>distance</th>\n",
       "      <th>rounds</th>\n",
       "      <th>logical</th>\n",
       "      <th>descr</th>\n",
       "      <th>resets</th>\n",
       "      <th>xbasis</th>\n",
       "      <th>path_info</th>\n",
       "    </tr>\n",
       "  </thead>\n",
       "  <tbody>\n",
       "    <tr>\n",
       "      <th>3798</th>\n",
       "      <td>2024-03-16 17:21:10.225000+01:00</td>\n",
       "      <td>Sherbrooke_RepCodes_jobs</td>\n",
       "      <td>ibm_sherbrooke</td>\n",
       "      <td>cqtwdxf9nfw0008ht470</td>\n",
       "      <td>[Subset 50, 100 rounds, 0 log, xbasis=False]</td>\n",
       "      <td>1.0</td>\n",
       "      <td>800.0</td>\n",
       "      <td>NaN</td>\n",
       "      <td>JobStatus.DONE</td>\n",
       "      <td>2024-03-16 18:02:29.395104+01:00</td>\n",
       "      <td>RepetitionCodeCircuit</td>\n",
       "      <td>50</td>\n",
       "      <td>100</td>\n",
       "      <td>0</td>\n",
       "      <td>subset RepCodes</td>\n",
       "      <td>NaN</td>\n",
       "      <td>False</td>\n",
       "      <td>{'mean_gate_error': 0.008060744241925, 'min_ga...</td>\n",
       "    </tr>\n",
       "    <tr>\n",
       "      <th>3797</th>\n",
       "      <td>2024-03-16 17:19:48.934000+01:00</td>\n",
       "      <td>Sherbrooke_RepCodes_jobs</td>\n",
       "      <td>ibm_sherbrooke</td>\n",
       "      <td>cqtwd9588ev000813cv0</td>\n",
       "      <td>[Subset 50, 100 rounds, 0 log, xbasis=False]</td>\n",
       "      <td>1.0</td>\n",
       "      <td>800.0</td>\n",
       "      <td>NaN</td>\n",
       "      <td>JobStatus.DONE</td>\n",
       "      <td>2024-03-16 18:01:45.077899+01:00</td>\n",
       "      <td>RepetitionCodeCircuit</td>\n",
       "      <td>50</td>\n",
       "      <td>100</td>\n",
       "      <td>0</td>\n",
       "      <td>subset RepCodes</td>\n",
       "      <td>NaN</td>\n",
       "      <td>False</td>\n",
       "      <td>{'mean_gate_error': 0.008060744241925, 'min_ga...</td>\n",
       "    </tr>\n",
       "  </tbody>\n",
       "</table>\n",
       "</div>"
      ],
      "text/plain": [
       "                         creation_date             notebook_name  \\\n",
       "3798  2024-03-16 17:21:10.225000+01:00  Sherbrooke_RepCodes_jobs   \n",
       "3797  2024-03-16 17:19:48.934000+01:00  Sherbrooke_RepCodes_jobs   \n",
       "\n",
       "        backend_name                job_id  \\\n",
       "3798  ibm_sherbrooke  cqtwdxf9nfw0008ht470   \n",
       "3797  ibm_sherbrooke  cqtwd9588ev000813cv0   \n",
       "\n",
       "                                              tags  meas_level  shots  \\\n",
       "3798  [Subset 50, 100 rounds, 0 log, xbasis=False]         1.0  800.0   \n",
       "3797  [Subset 50, 100 rounds, 0 log, xbasis=False]         1.0  800.0   \n",
       "\n",
       "      num_qubits      job_status                    execution_date  \\\n",
       "3798         NaN  JobStatus.DONE  2024-03-16 18:02:29.395104+01:00   \n",
       "3797         NaN  JobStatus.DONE  2024-03-16 18:01:45.077899+01:00   \n",
       "\n",
       "                       code  distance  rounds logical            descr resets  \\\n",
       "3798  RepetitionCodeCircuit        50     100       0  subset RepCodes    NaN   \n",
       "3797  RepetitionCodeCircuit        50     100       0  subset RepCodes    NaN   \n",
       "\n",
       "     xbasis                                          path_info  \n",
       "3798  False  {'mean_gate_error': 0.008060744241925, 'min_ga...  \n",
       "3797  False  {'mean_gate_error': 0.008060744241925, 'min_ga...  "
      ]
     },
     "execution_count": 5,
     "metadata": {},
     "output_type": "execute_result"
    }
   ],
   "source": [
    "from Scratch import metadata_loader\n",
    "import numpy as np\n",
    "from tqdm import tqdm\n",
    "\n",
    "DEVICE = \"ibm_sherbrooke\"\n",
    "LOGICAL = str(1)\n",
    "XBASIS = False\n",
    "ROUNDS = 50\n",
    "\n",
    "state = \"X\" if XBASIS else \"Z\"\n",
    "state += LOGICAL\n",
    "print(f\"state = {state}\")\n",
    "\n",
    "\n",
    "# Load the metadata\n",
    "md = metadata_loader(True, True)\n",
    "md = md[md[\"job_status\"] == \"JobStatus.DONE\"]\n",
    "md = md[md[\"code\"] == \"RepetitionCodeCircuit\"]\n",
    "md = md[md[\"descr\"] == 'subset RepCodes']\n",
    "md = md.dropna(subset=[\"rounds\"])\n",
    "md = md[md[\"meas_level\"] == 1]\n",
    "md['rounds'] = md['rounds'].astype(int)\n",
    "md['distance'] = md['distance'].astype(int)\n",
    "\n",
    "md = md[md[\"backend_name\"] == DEVICE]\n",
    "md = md[md[\"logical\"] == LOGICAL]\n",
    "md = md[md[\"xbasis\"] == XBASIS]\n",
    "md = md[md[\"rounds\"] == ROUNDS]\n",
    "\n",
    "md = md[:20]\n",
    "print(\"shape:\", md.shape)\n",
    "md[:2]"
   ]
  },
  {
   "cell_type": "markdown",
   "metadata": {},
   "source": [
    "# Group job ids by closest calibration date"
   ]
  },
  {
   "cell_type": "code",
   "execution_count": 9,
   "metadata": {},
   "outputs": [],
   "source": [
    "from datetime import datetime\n",
    "from Scratch import find_closest_calib_jobs\n",
    "import pandas as pd\n",
    "\n",
    "jobs_by_calibration_date = {}\n",
    "for index, row in md.iterrows():\n",
    "    job_id = row['job_id']\n",
    "\n",
    "    _, _, calib_creation_date = find_closest_calib_jobs(tobecalib_job=job_id, verbose=False)\n",
    "\n",
    "    if calib_creation_date not in jobs_by_calibration_date.keys():\n",
    "        jobs_by_calibration_date[calib_creation_date] = [job_id]\n",
    "    else:\n",
    "        jobs_by_calibration_date[calib_creation_date].append(job_id)\n",
    "\n",
    "# Takes 15s"
   ]
  },
  {
   "cell_type": "code",
   "execution_count": 10,
   "metadata": {},
   "outputs": [
    {
     "name": "stdout",
     "output_type": "stream",
     "text": [
      "{datetime.datetime(2024, 3, 16, 16, 21, 37, 454000, tzinfo=datetime.timezone.utc): ['cqtwdxf9nfw0008ht470', 'cqtwd9588ev000813cv0', 'cqtwd5c88ev000813ct0', 'cqtwd1m4x0mg008acsm0', 'cqtwcxb4x0mg008acsk0', 'cqtwcsktxzj0008y0d1g'], datetime.datetime(2024, 3, 16, 16, 14, 6, 659000, tzinfo=datetime.timezone.utc): ['cqtwcnt4x0mg008acsh0', 'cqtwcjatxzj0008y0d0g', 'cqtwcehpkcdg008e3sqg', 'cqtwcastxzj0008y0d00', 'cqtwc7036d60008j02vg', 'cqtwc3836d60008j02tg', 'cqtwbz7txzj0008y0czg', 'cqtwbvf4x0mg008acscg', 'cqtwbqp88ev000813cs0', 'cqtwbky88ev000813crg', 'cqtwb244x0mg008acsa0', 'cqtwayb36d60008j02qg', 'cqtwatkpkcdg008e3sj0', 'cqtwap24x0mg008acs8g']}\n",
      "\n",
      "num of calibrations: 2\n",
      "num of jobs per calibration: [6, 14]\n"
     ]
    }
   ],
   "source": [
    "print(jobs_by_calibration_date)\n",
    "print()\n",
    "print(f\"num of calibrations: {len(jobs_by_calibration_date)}\")\n",
    "print(f\"num of jobs per calibration: {([len(jobs) for jobs in jobs_by_calibration_date.values()])}\")"
   ]
  },
  {
   "cell_type": "markdown",
   "metadata": {},
   "source": [
    "# Decode data"
   ]
  },
  {
   "cell_type": "code",
   "execution_count": 13,
   "metadata": {},
   "outputs": [
    {
     "data": {
      "text/plain": [
       "array([47, 43, 39, 35, 31, 27, 23, 19, 15, 11,  7])"
      ]
     },
     "execution_count": 13,
     "metadata": {},
     "output_type": "execute_result"
    }
   ],
   "source": [
    "d = md[\"distance\"].values[0]\n",
    "\n",
    "distances = np.arange(7, d+1, 4)\n",
    "distances = distances[::-1]\n",
    "distances"
   ]
  },
  {
   "cell_type": "code",
   "execution_count": 15,
   "metadata": {},
   "outputs": [
    {
     "name": "stdout",
     "output_type": "stream",
     "text": [
      "06:02:24 Warning: Z0 decoding. Negative T2 error -0.08 % for qubit 46, setting to 0.. IN FILE: /Users/mha/My_Drive/Desktop/Studium/Physik/MSc/Semester_3/IBM/IBM_GIT/Soft-Info/src/soft_info/Hardware/backend_noise.py, LINE: 52\n",
      "06:02:24 Warning: Z0 decoding. Negative T2 error -2.03 % for qubit 55, setting to 0.. IN FILE: /Users/mha/My_Drive/Desktop/Studium/Physik/MSc/Semester_3/IBM/IBM_GIT/Soft-Info/src/soft_info/Hardware/backend_noise.py, LINE: 52\n",
      "06:02:24 Warning: Z0 decoding. Negative T2 error -0.21 % for qubit 90, setting to 0.. IN FILE: /Users/mha/My_Drive/Desktop/Studium/Physik/MSc/Semester_3/IBM/IBM_GIT/Soft-Info/src/soft_info/Hardware/backend_noise.py, LINE: 52\n",
      "Found jobs for backend ibm_sherbrooke with closest execution date 2024-03-16 16:48:40.204724+00:00.\n"
     ]
    },
    {
     "name": "stderr",
     "output_type": "stream",
     "text": [
      "Decoding jobs of 2024-03-16 16:21:37.454000+00:00 calibration: 100%|██████████| 6/6 [1:08:53<00:00, 688.91s/it]\n"
     ]
    },
    {
     "name": "stdout",
     "output_type": "stream",
     "text": [
      "07:12:36 Warning: Z0 decoding. Negative T2 error -0.08 % for qubit 46, setting to 0.. IN FILE: /Users/mha/My_Drive/Desktop/Studium/Physik/MSc/Semester_3/IBM/IBM_GIT/Soft-Info/src/soft_info/Hardware/backend_noise.py, LINE: 52\n",
      "07:12:36 Warning: Z0 decoding. Negative T2 error -2.03 % for qubit 55, setting to 0.. IN FILE: /Users/mha/My_Drive/Desktop/Studium/Physik/MSc/Semester_3/IBM/IBM_GIT/Soft-Info/src/soft_info/Hardware/backend_noise.py, LINE: 52\n",
      "07:12:36 Warning: Z0 decoding. Negative T2 error -0.21 % for qubit 90, setting to 0.. IN FILE: /Users/mha/My_Drive/Desktop/Studium/Physik/MSc/Semester_3/IBM/IBM_GIT/Soft-Info/src/soft_info/Hardware/backend_noise.py, LINE: 52\n",
      "Found jobs for backend ibm_sherbrooke with closest execution date 2024-03-16 16:48:40.204724+00:00.\n"
     ]
    },
    {
     "name": "stderr",
     "output_type": "stream",
     "text": [
      "Decoding jobs of 2024-03-16 16:14:06.659000+00:00 calibration: 100%|██████████| 14/14 [2:41:58<00:00, 694.16s/it] \n"
     ]
    }
   ],
   "source": [
    "import json\n",
    "\n",
    "import pymatching\n",
    "import stim\n",
    "\n",
    "from soft_info import get_noise_dict_from_backend, get_avgs_from_dict, get_repcode_IQ_map\n",
    "from soft_info import RepetitionCodeStimCircuit\n",
    "from soft_info import get_cols_to_keep, generate_subsets_with_center, get_subsample_layout\n",
    "from Scratch import load_calibration_memory\n",
    "import cpp_soft_info\n",
    "\n",
    "SOFT_MUL = 0.5\n",
    "file_name  = f'./results/{state}_{ROUNDS}_soft_{SOFT_MUL}.json'\n",
    "\n",
    "rel_error = 1\n",
    "_RESETS = False\n",
    "nb_intervals = -1\n",
    "\n",
    "# KDE BANDWIDTHS\n",
    "lin = [0.4, 0.7, 20]\n",
    "num_points = 51\n",
    "bandwidths = np.linspace(lin[0], lin[1], lin[2])\n",
    "\n",
    "\n",
    "for calib_date in jobs_by_calibration_date.keys():\n",
    "    # get the noise dict of that date\n",
    "    noise_dict = get_noise_dict_from_backend(provider, DEVICE, date = calib_date)\n",
    "\n",
    "    # get the KDE of that date\n",
    "    nb_shots_calib = None #int(1e4)\n",
    "    all_memories = load_calibration_memory(provider, tobecalib_backend=DEVICE, other_date=calib_date, nb_shots=nb_shots_calib)\n",
    "    kde_dict = cpp_soft_info.get_KDEs(all_memories, bandwidths, relError=rel_error, absError=-1, num_points=51) # Less num_points bcs just 1 bandwidth\n",
    "\n",
    "    for job_id in tqdm(jobs_by_calibration_date[calib_date], desc=f\"Decoding jobs of {calib_date} calibration\"):\n",
    "        d = md[md[\"job_id\"] == job_id][\"distance\"].values[0] \n",
    "        T = md[md[\"job_id\"] == job_id][\"rounds\"].values[0] # Should be 10\n",
    "\n",
    "        # Get the job\n",
    "        job = provider.retrieve_job(job_id)\n",
    "        memory = job.result().get_memory()\n",
    "\n",
    "        # Get the layout \n",
    "        layout_des = job.deserialize_layout(job.initial_layouts()[0]) # only 1 layout\n",
    "        link_qubits = list(layout_des['link_qubit'].values())\n",
    "        code_qubits = list(layout_des['code_qubit'].values())\n",
    "        \n",
    "\n",
    "        for D_NEW in distances:\n",
    "            subsets = generate_subsets_with_center(d, D_NEW)\n",
    "\n",
    "            num_errors_kde = []\n",
    "            num_errors_hard = []\n",
    "            for subset in subsets: \n",
    "                # print(f\"subset nb {subsets.index(subset)} out of {len(subsets)}\")\n",
    "                \n",
    "                cols_to_keep = get_cols_to_keep(subset, T, d)\n",
    "                IQ_data = memory[:, cols_to_keep]\n",
    "\n",
    "                # Get the layout\n",
    "                layout = get_subsample_layout(subset, link_qubits, code_qubits)\n",
    "                qubit_mapping = get_repcode_IQ_map(layout, synd_rounds=T)\n",
    "\n",
    "                # Get the noise avgs\n",
    "                avgs = get_avgs_from_dict(noise_dict, layout)\n",
    "                noise_list = [avgs[\"two_gate\"], avgs[\"single_gate\"], avgs[\"t1_err\"], avgs[\"t2_err\"]]\n",
    "                readout = avgs[\"readout\"]\n",
    "                noise_list += [readout, readout*(1-SOFT_MUL), readout*SOFT_MUL]    \n",
    "                #[twog_err, sglg_err, t1_err, t2_err, readout_err, hard_err, soft_err]\n",
    "\n",
    "                # Stim model\n",
    "                subsampling = (D_NEW != d)\n",
    "                code = RepetitionCodeStimCircuit(D_NEW, T, xbasis=XBASIS, resets=_RESETS, \n",
    "                                                noise_list=noise_list, subsampling=subsampling)\n",
    "                model = code.circuits[LOGICAL].detector_error_model(decompose_errors=False)\n",
    "\n",
    "                result_soft, result_hard = cpp_soft_info.decode_all_kde(model, IQ_data, T, int(LOGICAL), _RESETS,\n",
    "                                                                        qubit_mapping, kde_dict, relError=rel_error, \n",
    "                                                                        absError=-1, nb_intervals=nb_intervals)\n",
    "                \n",
    "                num_errors_kde.append(result_soft.num_errors)\n",
    "                num_errors_hard.append(result_hard.num_errors)\n",
    "                \n",
    "            result_kde_json = {\n",
    "                \"decoding\": \"kde\",\n",
    "                \"d_new\": str(D_NEW),\n",
    "                \"num_errors\": np.mean(num_errors_kde),\n",
    "                \"error_list\": num_errors_kde,\n",
    "                \"additional_info\": {\n",
    "                    \"rel_error\": rel_error,\n",
    "                    \"bandwidth_linspace\": lin,\n",
    "                    \"num_points_bandwidths\": num_points,\n",
    "                    \"soft_multiplicator\": SOFT_MUL,\n",
    "                },\n",
    "            }\n",
    "\n",
    "            result_hard_json = {\n",
    "                \"decoding\": \"hard\",\n",
    "                \"d_new\": str(D_NEW),\n",
    "                \"num_errors\": np.mean(num_errors_hard),\n",
    "                \"error_list\": num_errors_hard,\n",
    "                \"noise_list\": noise_list,\n",
    "            }\n",
    "\n",
    "            if not os.path.exists(file_name):\n",
    "                data = {}\n",
    "            else:\n",
    "                with open(file_name, \"r\") as f:\n",
    "                    data = json.load(f)\n",
    "\n",
    "            if job_id not in data.keys():\n",
    "                data[job_id] = [result_kde_json, result_hard_json]\n",
    "            else:\n",
    "                data[job_id].append(result_kde_json)\n",
    "                data[job_id].append(result_hard_json)\n",
    "            \n",
    "            with open(file_name, \"w\") as f:\n",
    "                json.dump(data, f, indent=4)"
   ]
  },
  {
   "cell_type": "markdown",
   "metadata": {},
   "source": [
    "# Next batch"
   ]
  },
  {
   "cell_type": "code",
   "execution_count": 6,
   "metadata": {},
   "outputs": [
    {
     "name": "stdout",
     "output_type": "stream",
     "text": [
      "state = Z0\n",
      "shape: (20, 18)\n"
     ]
    },
    {
     "data": {
      "text/html": [
       "<div>\n",
       "<style scoped>\n",
       "    .dataframe tbody tr th:only-of-type {\n",
       "        vertical-align: middle;\n",
       "    }\n",
       "\n",
       "    .dataframe tbody tr th {\n",
       "        vertical-align: top;\n",
       "    }\n",
       "\n",
       "    .dataframe thead th {\n",
       "        text-align: right;\n",
       "    }\n",
       "</style>\n",
       "<table border=\"1\" class=\"dataframe\">\n",
       "  <thead>\n",
       "    <tr style=\"text-align: right;\">\n",
       "      <th></th>\n",
       "      <th>creation_date</th>\n",
       "      <th>notebook_name</th>\n",
       "      <th>backend_name</th>\n",
       "      <th>job_id</th>\n",
       "      <th>tags</th>\n",
       "      <th>meas_level</th>\n",
       "      <th>shots</th>\n",
       "      <th>num_qubits</th>\n",
       "      <th>job_status</th>\n",
       "      <th>execution_date</th>\n",
       "      <th>code</th>\n",
       "      <th>distance</th>\n",
       "      <th>rounds</th>\n",
       "      <th>logical</th>\n",
       "      <th>descr</th>\n",
       "      <th>resets</th>\n",
       "      <th>xbasis</th>\n",
       "      <th>path_info</th>\n",
       "    </tr>\n",
       "  </thead>\n",
       "  <tbody>\n",
       "    <tr>\n",
       "      <th>4805</th>\n",
       "      <td>2024-03-23 11:49:25.322000+01:00</td>\n",
       "      <td>Sherbrooke_RepCodes_jobs</td>\n",
       "      <td>ibm_sherbrooke</td>\n",
       "      <td>cqzb7dds9z7g008dp66g</td>\n",
       "      <td>[Subset 52, 30 rounds, 0 log, xbasis=False]</td>\n",
       "      <td>1.0</td>\n",
       "      <td>2449.0</td>\n",
       "      <td>NaN</td>\n",
       "      <td>JobStatus.DONE</td>\n",
       "      <td>2024-03-23 13:06:58.719157+01:00</td>\n",
       "      <td>RepetitionCodeCircuit</td>\n",
       "      <td>52</td>\n",
       "      <td>30</td>\n",
       "      <td>0</td>\n",
       "      <td>subset RepCodes</td>\n",
       "      <td>NaN</td>\n",
       "      <td>False</td>\n",
       "      <td>{'mean_gate_error': 0.007733045348037, 'min_ga...</td>\n",
       "    </tr>\n",
       "    <tr>\n",
       "      <th>4804</th>\n",
       "      <td>2024-03-23 11:49:21.286000+01:00</td>\n",
       "      <td>Sherbrooke_RepCodes_jobs</td>\n",
       "      <td>ibm_sherbrooke</td>\n",
       "      <td>cqzb7cds9z7g008dp660</td>\n",
       "      <td>[Subset 52, 30 rounds, 0 log, xbasis=False]</td>\n",
       "      <td>1.0</td>\n",
       "      <td>2449.0</td>\n",
       "      <td>NaN</td>\n",
       "      <td>JobStatus.DONE</td>\n",
       "      <td>2024-03-23 13:06:14.983523+01:00</td>\n",
       "      <td>RepetitionCodeCircuit</td>\n",
       "      <td>52</td>\n",
       "      <td>30</td>\n",
       "      <td>0</td>\n",
       "      <td>subset RepCodes</td>\n",
       "      <td>NaN</td>\n",
       "      <td>False</td>\n",
       "      <td>{'mean_gate_error': 0.007733045348037, 'min_ga...</td>\n",
       "    </tr>\n",
       "  </tbody>\n",
       "</table>\n",
       "</div>"
      ],
      "text/plain": [
       "                         creation_date             notebook_name  \\\n",
       "4805  2024-03-23 11:49:25.322000+01:00  Sherbrooke_RepCodes_jobs   \n",
       "4804  2024-03-23 11:49:21.286000+01:00  Sherbrooke_RepCodes_jobs   \n",
       "\n",
       "        backend_name                job_id  \\\n",
       "4805  ibm_sherbrooke  cqzb7dds9z7g008dp66g   \n",
       "4804  ibm_sherbrooke  cqzb7cds9z7g008dp660   \n",
       "\n",
       "                                             tags  meas_level   shots  \\\n",
       "4805  [Subset 52, 30 rounds, 0 log, xbasis=False]         1.0  2449.0   \n",
       "4804  [Subset 52, 30 rounds, 0 log, xbasis=False]         1.0  2449.0   \n",
       "\n",
       "      num_qubits      job_status                    execution_date  \\\n",
       "4805         NaN  JobStatus.DONE  2024-03-23 13:06:58.719157+01:00   \n",
       "4804         NaN  JobStatus.DONE  2024-03-23 13:06:14.983523+01:00   \n",
       "\n",
       "                       code  distance  rounds logical            descr resets  \\\n",
       "4805  RepetitionCodeCircuit        52      30       0  subset RepCodes    NaN   \n",
       "4804  RepetitionCodeCircuit        52      30       0  subset RepCodes    NaN   \n",
       "\n",
       "     xbasis                                          path_info  \n",
       "4805  False  {'mean_gate_error': 0.007733045348037, 'min_ga...  \n",
       "4804  False  {'mean_gate_error': 0.007733045348037, 'min_ga...  "
      ]
     },
     "execution_count": 6,
     "metadata": {},
     "output_type": "execute_result"
    }
   ],
   "source": [
    "from Scratch import metadata_loader\n",
    "import numpy as np\n",
    "from tqdm import tqdm\n",
    "\n",
    "DEVICE = \"ibm_sherbrooke\"\n",
    "LOGICAL = str(0)\n",
    "XBASIS = False\n",
    "ROUNDS = 30\n",
    "\n",
    "state = \"X\" if XBASIS else \"Z\"\n",
    "state += LOGICAL\n",
    "print(f\"state = {state}\")\n",
    "\n",
    "\n",
    "# Load the metadata\n",
    "md = metadata_loader(True, True)\n",
    "md = md[md[\"job_status\"] == \"JobStatus.DONE\"]\n",
    "md = md[md[\"code\"] == \"RepetitionCodeCircuit\"]\n",
    "md = md[md[\"descr\"] == 'subset RepCodes']\n",
    "md = md.dropna(subset=[\"rounds\"])\n",
    "md = md[md[\"meas_level\"] == 1]\n",
    "md['rounds'] = md['rounds'].astype(int)\n",
    "md['distance'] = md['distance'].astype(int)\n",
    "\n",
    "md = md[md[\"backend_name\"] == DEVICE]\n",
    "md = md[md[\"logical\"] == LOGICAL]\n",
    "md = md[md[\"xbasis\"] == XBASIS]\n",
    "md = md[md[\"rounds\"] == ROUNDS]\n",
    "\n",
    "md = md[:20]\n",
    "print(\"shape:\", md.shape)\n",
    "md[:2]"
   ]
  },
  {
   "cell_type": "markdown",
   "metadata": {},
   "source": [
    "# Group job ids by closest calibration date"
   ]
  },
  {
   "cell_type": "code",
   "execution_count": 17,
   "metadata": {},
   "outputs": [],
   "source": [
    "from datetime import datetime\n",
    "from Scratch import find_closest_calib_jobs\n",
    "import pandas as pd\n",
    "\n",
    "jobs_by_calibration_date = {}\n",
    "for index, row in md.iterrows():\n",
    "    job_id = row['job_id']\n",
    "\n",
    "    _, _, calib_creation_date = find_closest_calib_jobs(tobecalib_job=job_id, verbose=False)\n",
    "\n",
    "    if calib_creation_date not in jobs_by_calibration_date.keys():\n",
    "        jobs_by_calibration_date[calib_creation_date] = [job_id]\n",
    "    else:\n",
    "        jobs_by_calibration_date[calib_creation_date].append(job_id)\n",
    "\n",
    "# Takes 15s"
   ]
  },
  {
   "cell_type": "code",
   "execution_count": 18,
   "metadata": {},
   "outputs": [
    {
     "name": "stdout",
     "output_type": "stream",
     "text": [
      "{datetime.datetime(2024, 3, 15, 22, 22, 45, 907000, tzinfo=datetime.timezone.utc): ['cqtcmchtxzj0008xz2dg', 'cqtcmb9txzj0008xz2d0', 'cqtcma988ev000811y6g', 'cqtcm9936d60008hyr20', 'cqtcm8988ev000811y60', 'cqtcm7088ev000811y5g', 'cqtcm6088ev000811y50', 'cqtcm50ch2mg008qvbjg', 'cqtcm409nfw0008hrvmg', 'cqtcm2r36d60008hyr1g'], datetime.datetime(2024, 3, 15, 22, 21, 14, 43000, tzinfo=datetime.timezone.utc): ['cqtcm1rtxzj0008xz2cg', 'cqtcm0rtxzj0008xz2c0', 'cqtckzzch2mg008qvbh0', 'cqtckyz88ev000811y4g', 'cqtckxq36d60008hyr10', 'cqtckwq88ev000811y40', 'cqtckvqch2mg008qvbg0', 'cqtcktftxzj0008xz2bg', 'cqtcksf4x0mg008ah0eg', 'cqtckr788ev000811y30']}\n",
      "\n",
      "num of calibrations: 2\n",
      "num of jobs per calibration: [10, 10]\n"
     ]
    }
   ],
   "source": [
    "print(jobs_by_calibration_date)\n",
    "print()\n",
    "print(f\"num of calibrations: {len(jobs_by_calibration_date)}\")\n",
    "print(f\"num of jobs per calibration: {([len(jobs) for jobs in jobs_by_calibration_date.values()])}\")"
   ]
  },
  {
   "cell_type": "markdown",
   "metadata": {},
   "source": [
    "# Decode data"
   ]
  },
  {
   "cell_type": "code",
   "execution_count": 19,
   "metadata": {},
   "outputs": [
    {
     "data": {
      "text/plain": [
       "array([51, 47, 43, 39, 35, 31, 27, 23, 19, 15, 11,  7])"
      ]
     },
     "execution_count": 19,
     "metadata": {},
     "output_type": "execute_result"
    }
   ],
   "source": [
    "d = md[\"distance\"].values[0]\n",
    "\n",
    "distances = np.arange(7, d+1, 4)\n",
    "distances = distances[::-1]\n",
    "distances"
   ]
  },
  {
   "cell_type": "code",
   "execution_count": 20,
   "metadata": {},
   "outputs": [
    {
     "name": "stdout",
     "output_type": "stream",
     "text": [
      "09:56:08 Warning: Z0 decoding. Negative T2 error -0.06 % for qubit 123, setting to 0.. IN FILE: /Users/mha/My_Drive/Desktop/Studium/Physik/MSc/Semester_3/IBM/IBM_GIT/Soft-Info/src/soft_info/Hardware/backend_noise.py, LINE: 52\n",
      "Found jobs for backend ibm_sherbrooke with closest execution date 2024-03-15 22:55:22.958957+00:00.\n"
     ]
    },
    {
     "name": "stderr",
     "output_type": "stream",
     "text": [
      "Decoding jobs of 2024-03-15 22:22:45.907000+00:00 calibration: 100%|██████████| 10/10 [1:59:46<00:00, 718.61s/it]\n"
     ]
    },
    {
     "name": "stdout",
     "output_type": "stream",
     "text": [
      "11:57:12 Warning: Z0 decoding. Negative T2 error -0.06 % for qubit 123, setting to 0.. IN FILE: /Users/mha/My_Drive/Desktop/Studium/Physik/MSc/Semester_3/IBM/IBM_GIT/Soft-Info/src/soft_info/Hardware/backend_noise.py, LINE: 52\n",
      "Found jobs for backend ibm_sherbrooke with closest execution date 2024-03-15 22:55:22.958957+00:00.\n"
     ]
    },
    {
     "name": "stderr",
     "output_type": "stream",
     "text": [
      "Decoding jobs of 2024-03-15 22:21:14.043000+00:00 calibration: 100%|██████████| 10/10 [3:25:42<00:00, 1234.24s/it] \n"
     ]
    }
   ],
   "source": [
    "import json\n",
    "\n",
    "import pymatching\n",
    "import stim\n",
    "\n",
    "from soft_info import get_noise_dict_from_backend, get_avgs_from_dict, get_repcode_IQ_map\n",
    "from soft_info import RepetitionCodeStimCircuit\n",
    "from soft_info import get_cols_to_keep, generate_subsets_with_center, get_subsample_layout\n",
    "from Scratch import load_calibration_memory\n",
    "import cpp_soft_info\n",
    "\n",
    "SOFT_MUL = 0.5\n",
    "file_name  = f'./results/{state}_{ROUNDS}_soft_{SOFT_MUL}.json'\n",
    "\n",
    "rel_error = 1\n",
    "_RESETS = False\n",
    "nb_intervals = -1\n",
    "\n",
    "# KDE BANDWIDTHS\n",
    "lin = [0.4, 0.7, 20]\n",
    "num_points = 51\n",
    "bandwidths = np.linspace(lin[0], lin[1], lin[2])\n",
    "\n",
    "\n",
    "for calib_date in jobs_by_calibration_date.keys():\n",
    "    # get the noise dict of that date\n",
    "    noise_dict = get_noise_dict_from_backend(provider, DEVICE, date = calib_date)\n",
    "\n",
    "    # get the KDE of that date\n",
    "    nb_shots_calib = None #int(1e4)\n",
    "    all_memories = load_calibration_memory(provider, tobecalib_backend=DEVICE, other_date=calib_date, nb_shots=nb_shots_calib)\n",
    "    kde_dict = cpp_soft_info.get_KDEs(all_memories, bandwidths, relError=rel_error, absError=-1, num_points=51) # Less num_points bcs just 1 bandwidth\n",
    "\n",
    "    for job_id in tqdm(jobs_by_calibration_date[calib_date], desc=f\"Decoding jobs of {calib_date} calibration\"):\n",
    "        d = md[md[\"job_id\"] == job_id][\"distance\"].values[0] \n",
    "        T = md[md[\"job_id\"] == job_id][\"rounds\"].values[0] # Should be 10\n",
    "\n",
    "        # Get the job\n",
    "        job = provider.retrieve_job(job_id)\n",
    "        memory = job.result().get_memory()\n",
    "\n",
    "        # Get the layout \n",
    "        layout_des = job.deserialize_layout(job.initial_layouts()[0]) # only 1 layout\n",
    "        link_qubits = list(layout_des['link_qubit'].values())\n",
    "        code_qubits = list(layout_des['code_qubit'].values())\n",
    "        \n",
    "\n",
    "        for D_NEW in distances:\n",
    "            subsets = generate_subsets_with_center(d, D_NEW)\n",
    "\n",
    "            num_errors_kde = []\n",
    "            num_errors_hard = []\n",
    "            for subset in subsets: \n",
    "                # print(f\"subset nb {subsets.index(subset)} out of {len(subsets)}\")\n",
    "                \n",
    "                cols_to_keep = get_cols_to_keep(subset, T, d)\n",
    "                IQ_data = memory[:, cols_to_keep]\n",
    "\n",
    "                # Get the layout\n",
    "                layout = get_subsample_layout(subset, link_qubits, code_qubits)\n",
    "                qubit_mapping = get_repcode_IQ_map(layout, synd_rounds=T)\n",
    "\n",
    "                # Get the noise avgs\n",
    "                avgs = get_avgs_from_dict(noise_dict, layout)\n",
    "                noise_list = [avgs[\"two_gate\"], avgs[\"single_gate\"], avgs[\"t1_err\"], avgs[\"t2_err\"]]\n",
    "                readout = avgs[\"readout\"]\n",
    "                noise_list += [readout, readout*(1-SOFT_MUL), readout*SOFT_MUL]    \n",
    "                #[twog_err, sglg_err, t1_err, t2_err, readout_err, hard_err, soft_err]\n",
    "\n",
    "                # Stim model\n",
    "                subsampling = (D_NEW != d)\n",
    "                code = RepetitionCodeStimCircuit(D_NEW, T, xbasis=XBASIS, resets=_RESETS, \n",
    "                                                noise_list=noise_list, subsampling=subsampling)\n",
    "                model = code.circuits[LOGICAL].detector_error_model(decompose_errors=False)\n",
    "\n",
    "                result_soft, result_hard = cpp_soft_info.decode_all_kde(model, IQ_data, T, int(LOGICAL), _RESETS,\n",
    "                                                                        qubit_mapping, kde_dict, relError=rel_error, \n",
    "                                                                        absError=-1, nb_intervals=nb_intervals)\n",
    "                \n",
    "                num_errors_kde.append(result_soft.num_errors)\n",
    "                num_errors_hard.append(result_hard.num_errors)\n",
    "                \n",
    "            result_kde_json = {\n",
    "                \"decoding\": \"kde\",\n",
    "                \"d_new\": str(D_NEW),\n",
    "                \"num_errors\": np.mean(num_errors_kde),\n",
    "                \"error_list\": num_errors_kde,\n",
    "                \"additional_info\": {\n",
    "                    \"rel_error\": rel_error,\n",
    "                    \"bandwidth_linspace\": lin,\n",
    "                    \"num_points_bandwidths\": num_points,\n",
    "                    \"soft_multiplicator\": SOFT_MUL,\n",
    "                },\n",
    "            }\n",
    "\n",
    "            result_hard_json = {\n",
    "                \"decoding\": \"hard\",\n",
    "                \"d_new\": str(D_NEW),\n",
    "                \"num_errors\": np.mean(num_errors_hard),\n",
    "                \"error_list\": num_errors_hard,\n",
    "                \"noise_list\": noise_list,\n",
    "            }\n",
    "\n",
    "            if not os.path.exists(file_name):\n",
    "                data = {}\n",
    "            else:\n",
    "                with open(file_name, \"r\") as f:\n",
    "                    data = json.load(f)\n",
    "\n",
    "            if job_id not in data.keys():\n",
    "                data[job_id] = [result_kde_json, result_hard_json]\n",
    "            else:\n",
    "                data[job_id].append(result_kde_json)\n",
    "                data[job_id].append(result_hard_json)\n",
    "            \n",
    "            with open(file_name, \"w\") as f:\n",
    "                json.dump(data, f, indent=4)"
   ]
  },
  {
   "cell_type": "code",
   "execution_count": null,
   "metadata": {},
   "outputs": [],
   "source": []
  },
  {
   "cell_type": "code",
   "execution_count": null,
   "metadata": {},
   "outputs": [],
   "source": []
  },
  {
   "cell_type": "code",
   "execution_count": null,
   "metadata": {},
   "outputs": [],
   "source": []
  }
 ],
 "metadata": {
  "kernelspec": {
   "display_name": "Soft-Info-fMUpUe5a",
   "language": "python",
   "name": "python3"
  },
  "language_info": {
   "codemirror_mode": {
    "name": "ipython",
    "version": 3
   },
   "file_extension": ".py",
   "mimetype": "text/x-python",
   "name": "python",
   "nbconvert_exporter": "python",
   "pygments_lexer": "ipython3",
   "version": "3.11.4"
  }
 },
 "nbformat": 4,
 "nbformat_minor": 2
}
