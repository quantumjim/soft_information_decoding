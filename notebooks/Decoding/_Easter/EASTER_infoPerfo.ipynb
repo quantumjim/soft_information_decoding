{
 "cells": [
  {
   "cell_type": "code",
   "execution_count": 1,
   "metadata": {},
   "outputs": [],
   "source": [
    "%reload_ext autoreload\n",
    "%autoreload 2"
   ]
  },
  {
   "cell_type": "markdown",
   "metadata": {},
   "source": [
    "# Load the data"
   ]
  },
  {
   "cell_type": "code",
   "execution_count": 2,
   "metadata": {},
   "outputs": [],
   "source": [
    "from result_saver import SaverProvider\n",
    "provider = SaverProvider()"
   ]
  },
  {
   "cell_type": "code",
   "execution_count": 8,
   "metadata": {},
   "outputs": [
    {
     "name": "stdout",
     "output_type": "stream",
     "text": [
      "state = X0\n",
      "shape: (1, 18)\n"
     ]
    },
    {
     "data": {
      "text/html": [
       "<div>\n",
       "<style scoped>\n",
       "    .dataframe tbody tr th:only-of-type {\n",
       "        vertical-align: middle;\n",
       "    }\n",
       "\n",
       "    .dataframe tbody tr th {\n",
       "        vertical-align: top;\n",
       "    }\n",
       "\n",
       "    .dataframe thead th {\n",
       "        text-align: right;\n",
       "    }\n",
       "</style>\n",
       "<table border=\"1\" class=\"dataframe\">\n",
       "  <thead>\n",
       "    <tr style=\"text-align: right;\">\n",
       "      <th></th>\n",
       "      <th>creation_date</th>\n",
       "      <th>notebook_name</th>\n",
       "      <th>backend_name</th>\n",
       "      <th>job_id</th>\n",
       "      <th>tags</th>\n",
       "      <th>meas_level</th>\n",
       "      <th>shots</th>\n",
       "      <th>num_qubits</th>\n",
       "      <th>job_status</th>\n",
       "      <th>execution_date</th>\n",
       "      <th>code</th>\n",
       "      <th>distance</th>\n",
       "      <th>rounds</th>\n",
       "      <th>logical</th>\n",
       "      <th>descr</th>\n",
       "      <th>resets</th>\n",
       "      <th>xbasis</th>\n",
       "      <th>path_info</th>\n",
       "    </tr>\n",
       "  </thead>\n",
       "  <tbody>\n",
       "    <tr>\n",
       "      <th>5086</th>\n",
       "      <td>2024-03-23 14:11:49.436000+01:00</td>\n",
       "      <td>Sherbrooke_RepCodes_jobs</td>\n",
       "      <td>ibm_sherbrooke</td>\n",
       "      <td>cqzda58czq6g0081he8g</td>\n",
       "      <td>[Subset 52, 50 rounds, 0 log, xbasis=True]</td>\n",
       "      <td>1.0</td>\n",
       "      <td>1507.0</td>\n",
       "      <td>NaN</td>\n",
       "      <td>JobStatus.DONE</td>\n",
       "      <td>2024-03-23 15:41:07.958655+01:00</td>\n",
       "      <td>RepetitionCodeCircuit</td>\n",
       "      <td>52</td>\n",
       "      <td>50</td>\n",
       "      <td>0</td>\n",
       "      <td>subset RepCodes</td>\n",
       "      <td>NaN</td>\n",
       "      <td>True</td>\n",
       "      <td>{'mean_gate_error': 0.007733045348037, 'min_ga...</td>\n",
       "    </tr>\n",
       "  </tbody>\n",
       "</table>\n",
       "</div>"
      ],
      "text/plain": [
       "                         creation_date             notebook_name  \\\n",
       "5086  2024-03-23 14:11:49.436000+01:00  Sherbrooke_RepCodes_jobs   \n",
       "\n",
       "        backend_name                job_id  \\\n",
       "5086  ibm_sherbrooke  cqzda58czq6g0081he8g   \n",
       "\n",
       "                                            tags  meas_level   shots  \\\n",
       "5086  [Subset 52, 50 rounds, 0 log, xbasis=True]         1.0  1507.0   \n",
       "\n",
       "      num_qubits      job_status                    execution_date  \\\n",
       "5086         NaN  JobStatus.DONE  2024-03-23 15:41:07.958655+01:00   \n",
       "\n",
       "                       code  distance  rounds logical            descr resets  \\\n",
       "5086  RepetitionCodeCircuit        52      50       0  subset RepCodes    NaN   \n",
       "\n",
       "     xbasis                                          path_info  \n",
       "5086   True  {'mean_gate_error': 0.007733045348037, 'min_ga...  "
      ]
     },
     "execution_count": 8,
     "metadata": {},
     "output_type": "execute_result"
    }
   ],
   "source": [
    "from Scratch import metadata_loader\n",
    "import numpy as np\n",
    "from tqdm import tqdm\n",
    "from time import sleep\n",
    "\n",
    "DEVICE = \"ibm_sherbrooke\"\n",
    "LOGICAL = str(0)\n",
    "XBASIS = True\n",
    "ROUNDS = 50\n",
    "\n",
    "state = \"X\" if XBASIS else \"Z\"\n",
    "state += LOGICAL\n",
    "print(f\"state = {state}\")\n",
    "\n",
    "\n",
    "# Load the metadata\n",
    "while True:\n",
    "    try:\n",
    "        md = metadata_loader(True, True)\n",
    "        break\n",
    "    except:\n",
    "        sleep(5)\n",
    "md = md[md[\"job_status\"] == \"JobStatus.DONE\"]\n",
    "md = md[md[\"code\"] == \"RepetitionCodeCircuit\"]\n",
    "md = md[md[\"descr\"] == 'subset RepCodes']\n",
    "md = md.dropna(subset=[\"rounds\"])\n",
    "md = md[md[\"meas_level\"] == 1]\n",
    "md['rounds'] = md['rounds'].astype(int)\n",
    "md['distance'] = md['distance'].astype(int)\n",
    "\n",
    "md = md[md[\"backend_name\"] == DEVICE]\n",
    "md = md[md[\"logical\"] == LOGICAL]\n",
    "md = md[md[\"xbasis\"] == XBASIS]\n",
    "md = md[md[\"rounds\"] == ROUNDS]\n",
    "\n",
    "\n",
    "\n",
    "md = md[0:1]\n",
    "print(\"shape:\", md.shape)\n",
    "md"
   ]
  },
  {
   "cell_type": "markdown",
   "metadata": {},
   "source": [
    "# Group job ids by closest calibration date"
   ]
  },
  {
   "cell_type": "code",
   "execution_count": 9,
   "metadata": {},
   "outputs": [],
   "source": [
    "from datetime import datetime\n",
    "from Scratch import find_closest_calib_jobs\n",
    "import pandas as pd\n",
    "\n",
    "DOUBLE_MSMT = False # to get also 03-16\n",
    "\n",
    "jobs_by_calibration_date = {}\n",
    "for index, row in md.iterrows():\n",
    "    job_id = row['job_id']\n",
    "\n",
    "    while True:\n",
    "        try:\n",
    "            _, _, calib_creation_date = find_closest_calib_jobs(tobecalib_job=job_id, verbose=False, double_msmt=DOUBLE_MSMT)\n",
    "            break\n",
    "        except:\n",
    "            sleep(5)\n",
    "\n",
    "    if calib_creation_date not in jobs_by_calibration_date.keys():\n",
    "        jobs_by_calibration_date[calib_creation_date] = [job_id]\n",
    "    else:\n",
    "        jobs_by_calibration_date[calib_creation_date].append(job_id)\n",
    "\n",
    "# Takes 15s"
   ]
  },
  {
   "cell_type": "code",
   "execution_count": 10,
   "metadata": {},
   "outputs": [
    {
     "name": "stdout",
     "output_type": "stream",
     "text": [
      "{datetime.datetime(2024, 3, 23, 13, 12, 1, 375000, tzinfo=datetime.timezone.utc): ['cqzda58czq6g0081he8g']}\n",
      "\n",
      "num of calibrations: 1\n",
      "num of jobs per calibration: [1]\n"
     ]
    }
   ],
   "source": [
    "print(jobs_by_calibration_date)\n",
    "print()\n",
    "print(f\"num of calibrations: {len(jobs_by_calibration_date)}\")\n",
    "print(f\"num of jobs per calibration: {([len(jobs) for jobs in jobs_by_calibration_date.values()])}\")"
   ]
  },
  {
   "cell_type": "markdown",
   "metadata": {},
   "source": [
    "# Decode data"
   ]
  },
  {
   "cell_type": "code",
   "execution_count": 12,
   "metadata": {},
   "outputs": [
    {
     "data": {
      "text/plain": [
       "array([35, 31, 27, 23, 19, 15, 11,  7])"
      ]
     },
     "execution_count": 12,
     "metadata": {},
     "output_type": "execute_result"
    }
   ],
   "source": [
    "d = md[\"distance\"].values[0]\n",
    "\n",
    "distances = np.arange(7, d+1, 4)\n",
    "distances = np.arange(7, 39, 4)\n",
    "distances = distances[::-1]\n",
    "\n",
    "distances"
   ]
  },
  {
   "cell_type": "code",
   "execution_count": 15,
   "metadata": {},
   "outputs": [
    {
     "name": "stdout",
     "output_type": "stream",
     "text": [
      "17:20:08 Warning: Z0 decoding. Negative T2 error -0.08 % for qubit 38, setting to 0.. IN FILE: /Users/mha/My_Drive/Desktop/Studium/Physik/MSc/Semester_3/IBM/IBM_GIT/Soft-Info/src/soft_info/Hardware/backend_noise.py, LINE: 52\n",
      "17:20:08 Warning: Z0 decoding. Negative T2 error -0.01 % for qubit 39, setting to 0.. IN FILE: /Users/mha/My_Drive/Desktop/Studium/Physik/MSc/Semester_3/IBM/IBM_GIT/Soft-Info/src/soft_info/Hardware/backend_noise.py, LINE: 52\n",
      "17:20:08 Warning: Z0 decoding. Negative T2 error -0.01 % for qubit 111, setting to 0.. IN FILE: /Users/mha/My_Drive/Desktop/Studium/Physik/MSc/Semester_3/IBM/IBM_GIT/Soft-Info/src/soft_info/Hardware/backend_noise.py, LINE: 52\n",
      "Found jobs for backend ibm_sherbrooke with closest execution date 2024-03-23 13:11:56.380893+00:00.\n",
      "Found jobs for backend ibm_sherbrooke with closest execution date 2024-03-23 13:12:25.263713+00:00.\n",
      "{0: {'p_hard': 0.005111760223520447, 'p_soft': 0.000476250952501905}, 1: {'p_hard': 0.00444500889001778, 'p_soft': 0.005238760477520955}, 2: {'p_hard': 0.013049276098552196, 'p_soft': 0.013144526289052577}, 3: {'p_hard': 0.007239014478028955, 'p_soft': 0.000190500381000762}, 4: {'p_hard': 0.00730251460502921, 'p_soft': 0.002413004826009652}, 5: {'p_hard': 0.015144780289560579, 'p_soft': 0.039528829057658116}, 6: {'p_hard': 0.019240538481076964, 'p_soft': 0.018891287782575567}, 7: {'p_hard': 0.010350520701041402, 'p_soft': 0.0030797561595123186}, 8: {'p_hard': 0.005842011684023368, 'p_soft': 0.02943230886461773}, 9: {'p_hard': 0.033305816611633225, 'p_soft': 0.016795783591567182}, 10: {'p_hard': 0.0056832613665227325, 'p_soft': 0.004349758699517399}, 11: {'p_hard': 0.006953263906527812, 'p_soft': 0.002127254254508509}, 12: {'p_hard': 0.0075565151130302256, 'p_soft': 0.007524765049530099}, 13: {'p_hard': 0.009493268986537972, 'p_soft': 0.02590805181610363}, 14: {'p_hard': 0.015589281178562358, 'p_soft': 0.0031750063500127}, 15: {'p_hard': 0.050292100584201166, 'p_soft': 0.06584963169926339}, 16: {'p_hard': 0.012033274066548133, 'p_soft': 0.047053594107188214}, 17: {'p_hard': 0.00879476758953518, 'p_soft': 0.001301752603505207}, 18: {'p_hard': 0.008032766065532132, 'p_soft': 0.012668275336550672}, 19: {'p_hard': 0.014287528575057152, 'p_soft': 0.04822834645669291}, 20: {'p_hard': 0.42503810007620013, 'p_soft': 0.01663703327406655}, 21: {'p_hard': 0.30588011176022356, 'p_soft': 0.011080772161544322}, 22: {'p_hard': 0.012795275590551181, 'p_soft': 0.010287020574041149}, 23: {'p_hard': 0.007874015748031496, 'p_soft': 0.003556007112014224}, 24: {'p_hard': 0.010191770383540768, 'p_soft': 0.0029210058420116843}, 25: {'p_hard': 0.004603759207518415, 'p_soft': 0.018034036068072135}, 26: {'p_hard': 0.004476758953517907, 'p_soft': 0.000222250444500889}, 27: {'p_hard': 0.005143510287020574, 'p_soft': 0.001651003302006604}, 28: {'p_hard': 0.07258064516129033, 'p_soft': 0.021240792481584964}, 29: {'p_hard': 0.006858013716027432, 'p_soft': 0.001333502667005334}, 30: {'p_hard': 0.013208026416052832, 'p_soft': 0.000254000508001016}, 31: {'p_hard': 0.009874269748539496, 'p_soft': 0.002444754889509779}, 32: {'p_hard': 0.008128016256032513, 'p_soft': 0.01866903733807468}, 33: {'p_hard': 0.01101727203454407, 'p_soft': 0.00015875031750063498}, 34: {'p_hard': 0.0503238506477013, 'p_soft': 0.005873761747523494}, 35: {'p_hard': 0.008286766573533147, 'p_soft': 0.000444500889001778}, 36: {'p_hard': 0.006159512319024638, 'p_soft': 0.0005080010160020321}, 37: {'p_hard': 0.007842265684531368, 'p_soft': 0.004254508509017018}, 38: {'p_hard': 0.01533528067056134, 'p_soft': 0.005175260350520701}, 39: {'p_hard': 0.006223012446024892, 'p_soft': 0.0007937515875031749}, 40: {'p_hard': 0.015398780797561596, 'p_soft': 0.000476250952501905}, 41: {'p_hard': 0.007270764541529083, 'p_soft': 0.000127000254000508}, 42: {'p_hard': 0.007207264414528829, 'p_soft': 0.025685801371602743}, 43: {'p_hard': 0.009239268478536957, 'p_soft': 0.000476250952501905}, 44: {'p_hard': 0.005873761747523495, 'p_soft': 9.5250190500381e-05}, 45: {'p_hard': 0.006604013208026416, 'p_soft': 6.3500127000254e-05}, 46: {'p_hard': 0.007810515621031242, 'p_soft': 0.0005080010160020321}, 47: {'p_hard': 0.0050482600965201935, 'p_soft': 0.004508509017018034}, 48: {'p_hard': 0.004635509271018542, 'p_soft': 0.004635509271018542}, 49: {'p_hard': 0.006477012954025908, 'p_soft': 0.00015875031750063498}, 50: {'p_hard': 0.0069215138430276865, 'p_soft': 0.000539751079502159}, 51: {'p_hard': 0.005619761239522479, 'p_soft': 0.005842011684023368}, 52: {'p_hard': 0.012255524511049021, 'p_soft': 0.000539751079502159}, 53: {'p_hard': 0.010509271018542037, 'p_soft': 0.0039052578105156213}, 54: {'p_hard': 0.005365760731521463, 'p_soft': 0.000190500381000762}, 55: {'p_hard': 0.043497586995174, 'p_soft': 0.004889509779019557}, 56: {'p_hard': 0.019970789941579883, 'p_soft': 0.002063754127508255}, 57: {'p_hard': 0.013271526543053086, 'p_soft': 0.0020320040640081282}, 58: {'p_hard': 0.006445262890525781, 'p_soft': 0.000127000254000508}, 59: {'p_hard': 0.004191008382016764, 'p_soft': 0.008540767081534163}, 60: {'p_hard': 0.005143510287020574, 'p_soft': 0.000539751079502159}, 61: {'p_hard': 0.005524511049022098, 'p_soft': 0.000127000254000508}, 62: {'p_hard': 0.0064770129540259085, 'p_soft': 0.016859283718567437}, 63: {'p_hard': 0.058007366014732026, 'p_soft': 0.025336550673101345}, 64: {'p_hard': 0.01682753365506731, 'p_soft': 0.000698501397002794}, 65: {'p_hard': 0.005619761239522479, 'p_soft': 0.011144272288544577}, 66: {'p_hard': 0.006794513589027178, 'p_soft': 9.5250190500381e-05}, 67: {'p_hard': 0.004794259588519177, 'p_soft': 0.00044450088900177797}, 68: {'p_hard': 0.010096520193040385, 'p_soft': 9.5250190500381e-05}, 69: {'p_hard': 0.009683769367538736, 'p_soft': 0.0008572517145034289}, 70: {'p_hard': 0.007175514351028702, 'p_soft': 0.00031750063500126996}, 71: {'p_hard': 0.2618110236220472, 'p_soft': 0.006064262128524257}, 72: {'p_hard': 0.01660528321056642, 'p_soft': 0.0352743205486411}, 73: {'p_hard': 0.004921259842519685, 'p_soft': 9.5250190500381e-05}, 74: {'p_hard': 0.003270256540513081, 'p_soft': 3.1750063500127e-05}, 75: {'p_hard': 0.02508255016510033, 'p_soft': 0.023780797561595124}, 76: {'p_hard': 0.006445262890525781, 'p_soft': 0.014128778257556516}, 77: {'p_hard': 0.014668529337058674, 'p_soft': 0.000254000508001016}, 78: {'p_hard': 0.017272034544069087, 'p_soft': 0.00190500381000762}, 79: {'p_hard': 0.008445516891033782, 'p_soft': 0.000127000254000508}, 80: {'p_hard': 0.00984251968503937, 'p_soft': 0.0028892557785115567}, 81: {'p_hard': 0.0037782575565151128, 'p_soft': 0.0}, 82: {'p_hard': 0.0060325120650241305, 'p_soft': 3.1750063500127e-05}, 83: {'p_hard': 0.07534290068580138, 'p_soft': 0.002794005588011176}, 84: {'p_hard': 0.006572263144526289, 'p_soft': 0.000127000254000508}, 85: {'p_hard': 0.004508509017018034, 'p_soft': 0.012033274066548133}, 86: {'p_hard': 0.012509525019050038, 'p_soft': 0.00047625095250190504}, 87: {'p_hard': 0.011398272796545594, 'p_soft': 9.5250190500381e-05}, 88: {'p_hard': 0.005461010922021844, 'p_soft': 0.000190500381000762}, 89: {'p_hard': 0.011715773431546863, 'p_soft': 0.005016510033020066}, 90: {'p_hard': 0.01120777241554483, 'p_soft': 0.000825501651003302}, 91: {'p_hard': 0.0034607569215138433, 'p_soft': 0.0}, 92: {'p_hard': 0.01343027686055372, 'p_soft': 0.007366014732029464}, 93: {'p_hard': 0.014382778765557531, 'p_soft': 0.000190500381000762}, 94: {'p_hard': 0.005016510033020066, 'p_soft': 3.1750063500127e-05}, 95: {'p_hard': 0.009874269748539498, 'p_soft': 0.000349250698501397}, 96: {'p_hard': 0.008731267462534924, 'p_soft': 0.000190500381000762}, 97: {'p_hard': 0.011588773177546356, 'p_soft': 0.0011747523495046989}, 98: {'p_hard': 0.01809753619507239, 'p_soft': 0.000285750571501143}, 99: {'p_hard': 0.009937769875539751, 'p_soft': 0.00031750063500127}, 100: {'p_hard': 0.010858521717043434, 'p_soft': 0.004254508509017018}, 101: {'p_hard': 0.005207010414020828, 'p_soft': 0.000222250444500889}, 102: {'p_hard': 0.04041783083566167, 'p_soft': 0.000698501397002794}, 103: {'p_hard': 0.02794005588011176, 'p_soft': 0.000825501651003302}, 104: {'p_hard': 0.0033337566675133348, 'p_soft': 3.1750063500127e-05}, 105: {'p_hard': 0.017272034544069087, 'p_soft': 0.000190500381000762}, 106: {'p_hard': 0.005969011938023876, 'p_soft': 6.3500127000254e-05}, 107: {'p_hard': 0.008128016256032513, 'p_soft': 3.1750063500127e-05}, 108: {'p_hard': 0.008509017018034037, 'p_soft': 6.3500127000254e-05}, 109: {'p_hard': 0.021748793497586995, 'p_soft': 0.00444500889001778}, 110: {'p_hard': 0.005810261620523241, 'p_soft': 3.1750063500127e-05}, 111: {'p_hard': 0.004826009652019304, 'p_soft': 0.00031750063500127}, 112: {'p_hard': 0.01165227330454661, 'p_soft': 0.000127000254000508}, 113: {'p_hard': 0.015525781051562104, 'p_soft': 0.000222250444500889}, 114: {'p_hard': 0.007778765557531115, 'p_soft': 0.003683007366014732}, 115: {'p_hard': 0.00476250952501905, 'p_soft': 0.000698501397002794}, 116: {'p_hard': 0.00930276860553721, 'p_soft': 3.1750063500127e-05}, 117: {'p_hard': 0.009239268478536957, 'p_soft': 0.000889001778003556}, 118: {'p_hard': 0.004953009906019812, 'p_soft': 3.1750063500127e-05}, 119: {'p_hard': 0.015176530353060706, 'p_soft': 0.0006667513335026669}, 120: {'p_hard': 0.009715519431038863, 'p_soft': 9.5250190500381e-05}, 121: {'p_hard': 0.043783337566675136, 'p_soft': 0.0028892557785115567}, 122: {'p_hard': 0.007143764287528575, 'p_soft': 0.000127000254000508}, 123: {'p_hard': 0.005492760985521971, 'p_soft': 3.1750063500127e-05}, 124: {'p_hard': 0.004730759461518923, 'p_soft': 0.000190500381000762}, 125: {'p_hard': 0.01809753619507239, 'p_soft': 0.000666751333502667}, 126: {'p_hard': 0.04584709169418339, 'p_soft': 0.002063754127508255}} 0.0057832615665231275 0.020283290566581146\n"
     ]
    },
    {
     "name": "stderr",
     "output_type": "stream",
     "text": [
      "Retrieving jobs of 2024-03-23 13:12:01.375000+00:00 calibration: 100%|██████████| 1/1 [00:02<00:00,  2.54s/it]\n",
      "  0%|          | 0/8 [00:00<?, ?it/s]"
     ]
    },
    {
     "name": "stdout",
     "output_type": "stream",
     "text": [
      "next subset\n",
      "nBits = 1 nBits = 2 nBits = 3 nBits = 4 nBits = 5 nBits = 6 nBits = 7 nBits = 8 nBits = 9 nBits = 10 nBits = 11 nBits = 12 nBits = 13 nBits = 14 nBits = 15 nBits = 16 nBits = 17 nBits = 18 nBits = 19 next subset\n",
      "nBits = 1 nBits = 2 nBits = 3 nBits = 4 nBits = 5 nBits = 6 nBits = 7 nBits = 8 nBits = 9 nBits = 10 nBits = 11 nBits = 12 nBits = 13 nBits = 14 nBits = 15 nBits = 16 nBits = 17 nBits = 18 nBits = 19 "
     ]
    },
    {
     "name": "stderr",
     "output_type": "stream",
     "text": [
      " 12%|█▎        | 1/8 [01:51<13:02, 111.85s/it]"
     ]
    },
    {
     "name": "stdout",
     "output_type": "stream",
     "text": [
      "next subset\n",
      "nBits = 1 nBits = 2 nBits = 3 nBits = 4 nBits = 5 nBits = 6 nBits = 7 nBits = 8 nBits = 9 nBits = 10 nBits = 11 nBits = 12 nBits = 13 nBits = 14 nBits = 15 nBits = 16 nBits = 17 nBits = 18 nBits = 19 next subset\n",
      "nBits = 1 nBits = 2 nBits = 3 nBits = 4 nBits = 5 nBits = 6 nBits = 7 nBits = 8 nBits = 9 nBits = 10 nBits = 11 nBits = 12 nBits = 13 nBits = 14 nBits = 15 nBits = 16 nBits = 17 nBits = 18 nBits = 19 "
     ]
    },
    {
     "name": "stderr",
     "output_type": "stream",
     "text": [
      " 25%|██▌       | 2/8 [03:31<10:27, 104.60s/it]"
     ]
    },
    {
     "name": "stdout",
     "output_type": "stream",
     "text": [
      "next subset\n",
      "nBits = 1 nBits = 2 nBits = 3 nBits = 4 nBits = 5 nBits = 6 nBits = 7 nBits = 8 nBits = 9 nBits = 10 nBits = 11 nBits = 12 nBits = 13 nBits = 14 nBits = 15 nBits = 16 nBits = 17 nBits = 18 nBits = 19 next subset\n",
      "nBits = 1 nBits = 2 nBits = 3 nBits = 4 nBits = 5 nBits = 6 nBits = 7 nBits = 8 nBits = 9 nBits = 10 nBits = 11 nBits = 12 nBits = 13 nBits = 14 nBits = 15 nBits = 16 nBits = 17 nBits = 18 nBits = 19 "
     ]
    },
    {
     "name": "stderr",
     "output_type": "stream",
     "text": [
      " 38%|███▊      | 3/8 [05:01<08:09, 97.83s/it] "
     ]
    },
    {
     "name": "stdout",
     "output_type": "stream",
     "text": [
      "next subset\n",
      "nBits = 1 nBits = 2 nBits = 3 nBits = 4 nBits = 5 nBits = 6 nBits = 7 nBits = 8 nBits = 9 nBits = 10 nBits = 11 nBits = 12 nBits = 13 nBits = 14 nBits = 15 nBits = 16 nBits = 17 nBits = 18 nBits = 19 next subset\n",
      "nBits = 1 nBits = 2 nBits = 3 nBits = 4 nBits = 5 nBits = 6 nBits = 7 nBits = 8 nBits = 9 nBits = 10 nBits = 11 nBits = 12 nBits = 13 nBits = 14 nBits = 15 nBits = 16 nBits = 17 nBits = 18 nBits = 19 next subset\n",
      "nBits = 1 nBits = 2 nBits = 3 nBits = 4 nBits = 5 nBits = 6 nBits = 7 nBits = 8 nBits = 9 nBits = 10 nBits = 11 nBits = 12 nBits = 13 nBits = 14 nBits = 15 nBits = 16 nBits = 17 nBits = 18 nBits = 19 "
     ]
    },
    {
     "name": "stderr",
     "output_type": "stream",
     "text": [
      " 50%|█████     | 4/8 [06:53<06:54, 103.55s/it]"
     ]
    },
    {
     "name": "stdout",
     "output_type": "stream",
     "text": [
      "next subset\n",
      "nBits = 1 nBits = 2 nBits = 3 nBits = 4 nBits = 5 nBits = 6 nBits = 7 nBits = 8 nBits = 9 nBits = 10 nBits = 11 nBits = 12 nBits = 13 nBits = 14 nBits = 15 nBits = 16 nBits = 17 nBits = 18 nBits = 19 next subset\n",
      "nBits = 1 nBits = 2 nBits = 3 nBits = 4 nBits = 5 nBits = 6 nBits = 7 nBits = 8 nBits = 9 nBits = 10 nBits = 11 nBits = 12 nBits = 13 nBits = 14 nBits = 15 nBits = 16 nBits = 17 nBits = 18 nBits = 19 next subset\n",
      "nBits = 1 nBits = 2 nBits = 3 nBits = 4 nBits = 5 nBits = 6 nBits = 7 nBits = 8 nBits = 9 nBits = 10 nBits = 11 nBits = 12 nBits = 13 nBits = 14 nBits = 15 nBits = 16 nBits = 17 nBits = 18 nBits = 19 "
     ]
    },
    {
     "name": "stderr",
     "output_type": "stream",
     "text": [
      " 62%|██████▎   | 5/8 [08:31<05:05, 101.68s/it]"
     ]
    },
    {
     "name": "stdout",
     "output_type": "stream",
     "text": [
      "next subset\n",
      "nBits = 1 nBits = 2 nBits = 3 nBits = 4 nBits = 5 nBits = 6 nBits = 7 nBits = 8 nBits = 9 nBits = 10 nBits = 11 nBits = 12 nBits = 13 nBits = 14 nBits = 15 nBits = 16 nBits = 17 nBits = 18 nBits = 19 next subset\n",
      "nBits = 1 nBits = 2 nBits = 3 nBits = 4 nBits = 5 nBits = 6 nBits = 7 nBits = 8 nBits = 9 nBits = 10 nBits = 11 nBits = 12 nBits = 13 nBits = 14 nBits = 15 nBits = 16 nBits = 17 nBits = 18 nBits = 19 next subset\n",
      "nBits = 1 nBits = 2 nBits = 3 nBits = 4 nBits = 5 nBits = 6 nBits = 7 nBits = 8 nBits = 9 nBits = 10 nBits = 11 nBits = 12 nBits = 13 nBits = 14 nBits = 15 nBits = 16 nBits = 17 nBits = 18 nBits = 19 next subset\n",
      "nBits = 1 nBits = 2 nBits = 3 nBits = 4 nBits = 5 nBits = 6 nBits = 7 nBits = 8 nBits = 9 nBits = 10 nBits = 11 nBits = 12 nBits = 13 nBits = 14 nBits = 15 nBits = 16 nBits = 17 nBits = 18 nBits = 19 "
     ]
    },
    {
     "name": "stderr",
     "output_type": "stream",
     "text": [
      " 75%|███████▌  | 6/8 [10:07<03:19, 99.57s/it] "
     ]
    },
    {
     "name": "stdout",
     "output_type": "stream",
     "text": [
      "next subset\n",
      "nBits = 1 nBits = 2 nBits = 3 nBits = 4 nBits = 5 nBits = 6 nBits = 7 nBits = 8 nBits = 9 nBits = 10 nBits = 11 nBits = 12 nBits = 13 nBits = 14 nBits = 15 nBits = 16 nBits = 17 nBits = 18 nBits = 19 next subset\n",
      "nBits = 1 nBits = 2 nBits = 3 nBits = 4 nBits = 5 nBits = 6 nBits = 7 nBits = 8 nBits = 9 nBits = 10 nBits = 11 nBits = 12 nBits = 13 nBits = 14 nBits = 15 nBits = 16 nBits = 17 nBits = 18 nBits = 19 next subset\n",
      "nBits = 1 nBits = 2 nBits = 3 nBits = 4 nBits = 5 nBits = 6 nBits = 7 nBits = 8 nBits = 9 nBits = 10 nBits = 11 nBits = 12 nBits = 13 nBits = 14 nBits = 15 nBits = 16 nBits = 17 nBits = 18 nBits = 19 next subset\n",
      "nBits = 1 nBits = 2 nBits = 3 nBits = 4 nBits = 5 nBits = 6 nBits = 7 nBits = 8 nBits = 9 nBits = 10 nBits = 11 nBits = 12 nBits = 13 nBits = 14 nBits = 15 nBits = 16 nBits = 17 nBits = 18 nBits = 19 next subset\n",
      "nBits = 1 nBits = 2 nBits = 3 nBits = 4 nBits = 5 nBits = 6 nBits = 7 nBits = 8 nBits = 9 nBits = 10 nBits = 11 nBits = 12 nBits = 13 nBits = 14 nBits = 15 nBits = 16 nBits = 17 nBits = 18 nBits = 19 next subset\n",
      "nBits = 1 nBits = 2 nBits = 3 nBits = 4 nBits = 5 nBits = 6 nBits = 7 nBits = 8 nBits = 9 nBits = 10 nBits = 11 nBits = 12 nBits = 13 nBits = 14 nBits = 15 nBits = 16 nBits = 17 nBits = 18 nBits = 19 "
     ]
    },
    {
     "name": "stderr",
     "output_type": "stream",
     "text": [
      " 88%|████████▊ | 7/8 [11:54<01:42, 102.12s/it]"
     ]
    },
    {
     "name": "stdout",
     "output_type": "stream",
     "text": [
      "next subset\n",
      "nBits = 1 nBits = 2 nBits = 3 nBits = 4 nBits = 5 nBits = 6 nBits = 7 nBits = 8 nBits = 9 nBits = 10 nBits = 11 nBits = 12 nBits = 13 nBits = 14 nBits = 15 nBits = 16 nBits = 17 nBits = 18 nBits = 19 next subset\n",
      "nBits = 1 nBits = 2 nBits = 3 nBits = 4 nBits = 5 nBits = 6 nBits = 7 nBits = 8 nBits = 9 nBits = 10 nBits = 11 nBits = 12 nBits = 13 nBits = 14 nBits = 15 nBits = 16 nBits = 17 nBits = 18 nBits = 19 next subset\n",
      "nBits = 1 nBits = 2 nBits = 3 nBits = 4 nBits = 5 nBits = 6 nBits = 7 nBits = 8 nBits = 9 nBits = 10 nBits = 11 nBits = 12 nBits = 13 nBits = 14 nBits = 15 nBits = 16 nBits = 17 nBits = 18 nBits = 19 next subset\n",
      "nBits = 1 nBits = 2 nBits = 3 nBits = 4 nBits = 5 nBits = 6 nBits = 7 nBits = 8 nBits = 9 nBits = 10 nBits = 11 nBits = 12 nBits = 13 nBits = 14 nBits = 15 nBits = 16 nBits = 17 nBits = 18 nBits = 19 next subset\n",
      "nBits = 1 nBits = 2 nBits = 3 nBits = 4 nBits = 5 nBits = 6 nBits = 7 nBits = 8 nBits = 9 nBits = 10 nBits = 11 nBits = 12 nBits = 13 nBits = 14 nBits = 15 nBits = 16 nBits = 17 nBits = 18 nBits = 19 next subset\n",
      "nBits = 1 nBits = 2 nBits = 3 nBits = 4 nBits = 5 nBits = 6 nBits = 7 nBits = 8 nBits = 9 nBits = 10 nBits = 11 nBits = 12 nBits = 13 nBits = 14 nBits = 15 nBits = 16 nBits = 17 nBits = 18 nBits = 19 next subset\n",
      "nBits = 1 nBits = 2 nBits = 3 nBits = 4 nBits = 5 nBits = 6 nBits = 7 nBits = 8 nBits = 9 nBits = 10 nBits = 11 nBits = 12 nBits = 13 nBits = 14 nBits = 15 nBits = 16 nBits = 17 nBits = 18 nBits = 19 next subset\n",
      "nBits = 1 nBits = 2 nBits = 3 nBits = 4 nBits = 5 nBits = 6 nBits = 7 nBits = 8 nBits = 9 nBits = 10 nBits = 11 nBits = 12 nBits = 13 nBits = 14 nBits = 15 nBits = 16 nBits = 17 nBits = 18 nBits = 19 next subset\n",
      "nBits = 1 nBits = 2 nBits = 3 nBits = 4 nBits = 5 nBits = 6 nBits = 7 nBits = 8 nBits = 9 nBits = 10 nBits = 11 nBits = 12 nBits = 13 nBits = 14 nBits = 15 nBits = 16 nBits = 17 nBits = 18 nBits = 19 "
     ]
    },
    {
     "name": "stderr",
     "output_type": "stream",
     "text": [
      "100%|██████████| 8/8 [13:32<00:00, 101.57s/it]\n"
     ]
    }
   ],
   "source": [
    "import json\n",
    "import os\n",
    "import time\n",
    "\n",
    "import pymatching\n",
    "import stim\n",
    "\n",
    "from soft_info import get_noise_dict_from_backend, get_avgs_from_dict, get_repcode_IQ_map\n",
    "from soft_info import RepetitionCodeStimCircuit, inv_qubit_mapping, gaussianIQConvertor\n",
    "from soft_info import get_cols_to_keep, generate_subsets_with_center, get_subsample_layout\n",
    "from Scratch import load_calibration_memory\n",
    "from src import cpp_soft_info as csi\n",
    "\n",
    "file_name  = f'./results/result_day2/infoPerfo{DEVICE}_{state}_{ROUNDS}.json'\n",
    "\n",
    "HANDLE_OUTLIERS = True\n",
    "\n",
    "rel_error = 1\n",
    "_RESETS = False\n",
    "nb_intervals = -1\n",
    "\n",
    "# KDE BANDWIDTHS\n",
    "lin = [0.6, 1.2, 1]\n",
    "num_points = 20\n",
    "bandwidths = np.linspace(lin[0], lin[1], lin[2])\n",
    "\n",
    "\n",
    "for calib_date in jobs_by_calibration_date.keys():\n",
    "    # get the noise dict of that date\n",
    "    noise_dict = get_noise_dict_from_backend(provider, DEVICE, date = calib_date)\n",
    "\n",
    "    # get the KDE of that date\n",
    "\n",
    "    while True:\n",
    "        try:\n",
    "            all_memories, gmm_dict, _ = load_calibration_memory(provider, tobecalib_backend=DEVICE, \n",
    "                                                                        other_date=calib_date, post_process=True,\n",
    "                                                                        double_msmt=False)\n",
    "            break\n",
    "        except:\n",
    "            sleep(5)\n",
    "\n",
    "    kde_dict = csi.get_KDEs(all_memories, bandwidths, relError=rel_error, absError=-1, num_points=num_points)\n",
    "\n",
    "    while True:\n",
    "        try:\n",
    "            all_memories_PS, gmm_dict_PS, msmt_err_dict_PS = load_calibration_memory(provider, tobecalib_backend=DEVICE, \n",
    "                                                                            other_date=calib_date, post_process=True,\n",
    "                                                                            double_msmt=True)\n",
    "            break\n",
    "        except:\n",
    "            sleep(5)\n",
    "\n",
    "    # Get the mean msmt errors\n",
    "    p_soft_mean = 0\n",
    "    p_hard_mean = 0\n",
    "    for key, value in msmt_err_dict_PS.items():\n",
    "        p_soft_mean += value['p_soft']\n",
    "        p_hard_mean += value['p_hard']\n",
    "    p_soft_mean /= len(msmt_err_dict_PS)\n",
    "    p_hard_mean /= len(msmt_err_dict_PS)\n",
    "    print(msmt_err_dict_PS, p_soft_mean, p_hard_mean)\n",
    "\n",
    "\n",
    "    # Retrieve the memories\n",
    "    memories = []\n",
    "    for job_id in tqdm(jobs_by_calibration_date[calib_date], desc=f\"Retrieving jobs of {calib_date} calibration\"):\n",
    "        d = md[md[\"job_id\"] == job_id][\"distance\"].values[0] \n",
    "        T = md[md[\"job_id\"] == job_id][\"rounds\"].values[0] # Should be 10\n",
    "\n",
    "        # Get the job\n",
    "        job = provider.retrieve_job(job_id)\n",
    "        memory = job.result().get_memory()\n",
    "        memories.append(memory)\n",
    "\n",
    "    # Stack the memories vertically\n",
    "    big_memory = np.vstack(memories)\n",
    "    NB_SHOTS = big_memory.shape[0]\n",
    "\n",
    "    # Get the layout of the last job (same as previous)\n",
    "    layout_des = job.deserialize_layout(job.initial_layouts()[0]) # only 1 layout\n",
    "    link_qubits = list(layout_des['link_qubit'].values())\n",
    "    code_qubits = list(layout_des['code_qubit'].values())\n",
    "\n",
    "    # Get the pSoft and countMat matrices\n",
    "    big_layout = link_qubits + code_qubits\n",
    "    inverted_q_map = inv_qubit_mapping(get_repcode_IQ_map(big_layout, synd_rounds=T))\n",
    "\n",
    "    pSoft, countMat = csi.iqConvertor(big_memory, inverted_q_map, kde_dict, rel_error, -1,\n",
    "                                                handleOutliers = HANDLE_OUTLIERS)\n",
    "\n",
    "\n",
    "    # Subsample decoding\n",
    "    for D_NEW in tqdm(distances):\n",
    "        subsets = generate_subsets_with_center(d, D_NEW)\n",
    "\n",
    "        err_s_K_mean_new = []\n",
    "        err_s_K_indiv_new = []\n",
    "        err_s_K_mean_old = []\n",
    "        err_s_K_indiv_old = []\n",
    "        for subset in (subsets):             \n",
    "            cols_to_keep = get_cols_to_keep(subset, T, d)\n",
    "\n",
    "            # Get the subset of pSoft and countMat\n",
    "            pSoft_sub = pSoft[:, cols_to_keep]\n",
    "            countMat_sub = countMat[:, cols_to_keep]\n",
    "\n",
    "            # Means for hard decoding\n",
    "            pSoft_mean = np.mean(pSoft_sub)\n",
    "\n",
    "            # Get the layout\n",
    "            layout = get_subsample_layout(subset, link_qubits, code_qubits)\n",
    "            qubit_mapping = get_repcode_IQ_map(layout, synd_rounds=T)\n",
    "\n",
    "            # Get the noise avgs\n",
    "            avgs = get_avgs_from_dict(noise_dict, layout)\n",
    "            noise_list = [avgs[\"two_gate\"], avgs[\"single_gate\"], avgs[\"t1_err\"], avgs[\"t2_err\"]]\n",
    "            readout = avgs[\"readout\"]\n",
    "            noise_list += [(p_hard_mean+p_soft_mean), p_hard_mean, p_soft_mean]\n",
    "            #[twog_err, sglg_err, t1_err, t2_err, readout_err, hard_err, soft_err]\n",
    "\n",
    "            # Stim models\n",
    "            subsampling = (D_NEW != d)\n",
    "\n",
    "            code_indiv_for_soft = RepetitionCodeStimCircuit(D_NEW, T, XBASIS, _RESETS, noise_list=noise_list,\n",
    "                                                            subsampling=subsampling, no_fin_soft=True, layout=layout,\n",
    "                                                            msmt_err_dict=msmt_err_dict_PS)\n",
    "            model_indiv_for_soft = code_indiv_for_soft.circuits[LOGICAL].detector_error_model()\n",
    "\n",
    "            code_mean_for_soft = RepetitionCodeStimCircuit(D_NEW, T, XBASIS, _RESETS, noise_list=noise_list,\n",
    "                                                            subsampling=subsampling, no_fin_soft=True, layout=None,\n",
    "                                                            msmt_err_dict=None)\n",
    "            model_mean_for_soft = code_mean_for_soft.circuits[LOGICAL].detector_error_model()            \n",
    "\n",
    "            # Decoding\n",
    "            num_err_per_bit_mean_new= []\n",
    "            num_err_per_bit_mean_old = []\n",
    "            num_err_per_bit_indiv_new = []\n",
    "            num_err_per_bit_indiv_old = []\n",
    "            nb_bits = list(range(1, 20, 1))\n",
    "            print()\n",
    "            for nBits in (nb_bits):\n",
    "                print(f\"nBits = {nBits}\", end=\" \")\n",
    "                pSoft_trunc_new = csi.quantizeMatrixVectorized(pSoft_sub, nBits)\n",
    "                pSoft_trunc_old = csi.quantizeMatrixEntrywise(pSoft_sub, nBits)\n",
    "\n",
    "                res_new_mean = csi.decodeConvertorAll(model_mean_for_soft, countMat_sub, pSoft_trunc_new, T,\n",
    "                                                      int(LOGICAL), _RESETS, decode_hard=False)\n",
    "                res_old_mean = csi.decodeConvertorAll(model_mean_for_soft, countMat_sub, pSoft_trunc_old, T,\n",
    "                                                        int(LOGICAL), _RESETS, decode_hard=False)\n",
    "                res_new_indiv = csi.decodeConvertorAll(model_indiv_for_soft, countMat_sub, pSoft_trunc_new, T,\n",
    "                                                        int(LOGICAL), _RESETS, decode_hard=False)\n",
    "                res_old_indiv = csi.decodeConvertorAll(model_indiv_for_soft, countMat_sub, pSoft_trunc_old, T,\n",
    "                                                        int(LOGICAL), _RESETS, decode_hard=False)\n",
    "                \n",
    "                num_err_per_bit_mean_new.append(res_new_mean.num_errors)\n",
    "                num_err_per_bit_mean_old.append(res_old_mean.num_errors)\n",
    "                num_err_per_bit_indiv_new.append(res_new_indiv.num_errors)\n",
    "                num_err_per_bit_indiv_old.append(res_old_indiv.num_errors)\n",
    "            \n",
    "            err_s_K_mean_new.append(num_err_per_bit_mean_new)\n",
    "            err_s_K_indiv_new.append(num_err_per_bit_indiv_new)\n",
    "            err_s_K_mean_old.append(num_err_per_bit_mean_old)\n",
    "            err_s_K_indiv_old.append(num_err_per_bit_indiv_old)\n",
    "\n",
    "            \n",
    "  \n",
    "        # Save the results\n",
    "        old_trunc = {\n",
    "            \"decoding\": \"trunc_old\",\n",
    "            \"d_new\": str(D_NEW),\n",
    "            \"nb_bits\": nb_bits,\n",
    "            \"error_list_dict\": {\n",
    "                \"soft_mean\": err_s_K_mean_old,\n",
    "                \"soft_indiv\": err_s_K_indiv_old,\n",
    "            },\n",
    "            \"error_mean_dict\": {\n",
    "                # do the mean over the subsets\n",
    "                \"soft_mean\": np.mean(np.array(err_s_K_mean_old), axis=0).tolist(), \n",
    "                \"soft_indiv\": np.mean(np.array(err_s_K_indiv_old), axis=0).tolist(),\n",
    "            },\n",
    "            \"additional_info\": {\n",
    "                \"rel_error\": rel_error,\n",
    "                \"pSoft_mean\": pSoft_mean,\n",
    "                \"bandwidth_linspace\": lin,\n",
    "                \"num_points_bandwidths\": num_points,\n",
    "                \"offset\": 0.5,\n",
    "            },\n",
    "        }\n",
    "\n",
    "        new_trunc = {\n",
    "            \"decoding\": \"trunc_new\",\n",
    "            \"d_new\": str(D_NEW),\n",
    "            \"nb_bits\": nb_bits,\n",
    "            \"error_list_dict\": {\n",
    "                \"soft_mean\": err_s_K_mean_new,\n",
    "                \"soft_indiv\": err_s_K_indiv_new,\n",
    "            },\n",
    "            \"error_mean_dict\": {\n",
    "                # do the mean over the subsets\n",
    "                \"soft_mean\": np.mean(np.array(err_s_K_mean_new), axis=0).tolist(),\n",
    "                \"soft_indiv\": np.mean(np.array(err_s_K_indiv_new), axis=0).tolist(),\n",
    "            },\n",
    "        }\n",
    "\n",
    "\n",
    "        if not os.path.exists(file_name):\n",
    "            data = {}\n",
    "        else:\n",
    "            with open(file_name, \"r\") as f:\n",
    "                data = json.load(f)\n",
    "\n",
    "        if job_id not in data.keys():\n",
    "            data[job_id] = [{'totshots': NB_SHOTS}, old_trunc, new_trunc]\n",
    "        else:\n",
    "            data[job_id].append(old_trunc)\n",
    "            data[job_id].append(new_trunc)\n",
    "        \n",
    "        with open(file_name, \"w\") as f:\n",
    "            json.dump(data, f, indent=4)"
   ]
  }
 ],
 "metadata": {
  "kernelspec": {
   "display_name": "Soft-Info-fMUpUe5a",
   "language": "python",
   "name": "python3"
  },
  "language_info": {
   "codemirror_mode": {
    "name": "ipython",
    "version": 3
   },
   "file_extension": ".py",
   "mimetype": "text/x-python",
   "name": "python",
   "nbconvert_exporter": "python",
   "pygments_lexer": "ipython3",
   "version": "3.11.4"
  }
 },
 "nbformat": 4,
 "nbformat_minor": 2
}
