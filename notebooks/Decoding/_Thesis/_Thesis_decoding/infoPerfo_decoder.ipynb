{
 "cells": [
  {
   "cell_type": "code",
   "execution_count": 1,
   "metadata": {},
   "outputs": [],
   "source": [
    "%reload_ext autoreload\n",
    "%autoreload 2\n",
    "\n",
    "import dev.dec as dec\n",
    "from result_saver import SaverProvider\n",
    "from qiskit_ibm_provider import IBMProvider\n",
    "\n",
    "provider = SaverProvider()\n",
    "# provider = IBMProvider()"
   ]
  },
  {
   "cell_type": "code",
   "execution_count": 4,
   "metadata": {},
   "outputs": [
    {
     "name": "stdout",
     "output_type": "stream",
     "text": [
      "not correcting the counts for no resets\n",
      "Finished getting pSofts at 2024-04-25 23:11:05.075533\n",
      "\n",
      "[17, 19, 21, 27, 33, 39]\n"
     ]
    },
    {
     "name": "stderr",
     "output_type": "stream",
     "text": [
      "distance:   0%|          | 0/6 [00:00<?, ?it/s]"
     ]
    },
    {
     "name": "stdout",
     "output_type": "stream",
     "text": [
      "\n",
      "noise_list simulator: [0.057240126994929134, 0.0007420244161946203, 0.002799697114380337, 0.008212375992894684, 0.05156360312720626, 0.03981457962915927, 0]\n"
     ]
    },
    {
     "name": "stderr",
     "output_type": "stream",
     "text": [
      "distance:  17%|█▋        | 1/6 [22:40<1:53:24, 1360.80s/it]"
     ]
    },
    {
     "name": "stdout",
     "output_type": "stream",
     "text": [
      "\n",
      "noise_list simulator: [0.057240126994929134, 0.0007420244161946203, 0.002799697114380337, 0.008212375992894684, 0.05156360312720626, 0.03981457962915927, 0]\n"
     ]
    },
    {
     "name": "stderr",
     "output_type": "stream",
     "text": [
      "distance:  33%|███▎      | 2/6 [46:02<1:32:19, 1384.76s/it]"
     ]
    },
    {
     "name": "stdout",
     "output_type": "stream",
     "text": [
      "\n",
      "noise_list simulator: [0.057240126994929134, 0.0007420244161946203, 0.002799697114380337, 0.008212375992894684, 0.05156360312720626, 0.03981457962915927, 0]\n"
     ]
    },
    {
     "name": "stderr",
     "output_type": "stream",
     "text": [
      "distance:  50%|█████     | 3/6 [1:10:34<1:11:14, 1424.83s/it]"
     ]
    },
    {
     "name": "stdout",
     "output_type": "stream",
     "text": [
      "\n",
      "noise_list simulator: [0.057240126994929134, 0.0007420244161946203, 0.002799697114380337, 0.008212375992894684, 0.05156360312720626, 0.03981457962915927, 0]\n"
     ]
    },
    {
     "name": "stderr",
     "output_type": "stream",
     "text": [
      "distance:  67%|██████▋   | 4/6 [1:37:58<50:22, 1511.08s/it]  "
     ]
    },
    {
     "name": "stdout",
     "output_type": "stream",
     "text": [
      "\n",
      "noise_list simulator: [0.057240126994929134, 0.0007420244161946203, 0.002799697114380337, 0.008212375992894684, 0.05156360312720626, 0.03981457962915927, 0]\n"
     ]
    },
    {
     "name": "stderr",
     "output_type": "stream",
     "text": [
      "distance:  83%|████████▎ | 5/6 [2:04:27<25:39, 1539.28s/it]"
     ]
    },
    {
     "name": "stdout",
     "output_type": "stream",
     "text": [
      "\n",
      "noise_list simulator: [0.057240126994929134, 0.0007420244161946203, 0.002799697114380337, 0.008212375992894684, 0.05156360312720626, 0.03981457962915927, 0]\n"
     ]
    },
    {
     "name": "stderr",
     "output_type": "stream",
     "text": [
      "distance: 100%|██████████| 6/6 [2:26:56<00:00, 1469.40s/it]\n"
     ]
    }
   ],
   "source": [
    "import os \n",
    "\n",
    "logicals = ['0']\n",
    "xbasis = [False]\n",
    "rounds = [50]\n",
    "devices = [\"ibm_sherbrooke\"]\n",
    "\n",
    "threshold = 0\n",
    "multiplier = 2\n",
    "shots_mult = 10 # should take rouhgly 4h per state\n",
    "distances = [17, 19, 21, 27, 33, 39] \n",
    "\n",
    "for DEVICE in devices:\n",
    "    for XBASIS in xbasis:\n",
    "        for LOGICAL in logicals:\n",
    "            for ROUNDS in rounds:\n",
    "                state = \"X\" if XBASIS else \"Z\"\n",
    "                state = f\"{state}{LOGICAL}_{ROUNDS}\"\n",
    "                file_name = f'./results/simulations/InfoPerfo/{multiplier}_{DEVICE}_{state}.json'\n",
    "\n",
    "                # if os.path.exists(file_name):\n",
    "                #     print(f\"skipping {state} because file already exists\")\n",
    "                #     continue\n",
    "            \n",
    "                dec.decoderSimulInfoPerfo(provider, DEVICE, LOGICAL, XBASIS, ROUNDS, file_name, threshold, multiplier=multiplier,\n",
    "                                 shots_mult=shots_mult, distances=distances)\n"
   ]
  },
  {
   "cell_type": "code",
   "execution_count": 5,
   "metadata": {},
   "outputs": [
    {
     "name": "stdout",
     "output_type": "stream",
     "text": [
      "not correcting the counts for no resets\n",
      "Finished getting pSofts at 2024-04-26 01:39:49.840149\n",
      "\n",
      "[3, 5, 7, 9, 11, 13, 15, 17, 19, 21, 27, 33, 39]\n"
     ]
    },
    {
     "name": "stderr",
     "output_type": "stream",
     "text": [
      "distance:   0%|          | 0/13 [00:00<?, ?it/s]"
     ]
    },
    {
     "name": "stdout",
     "output_type": "stream",
     "text": [
      "\n",
      "noise_list simulator: [0.0858601904923937, 0.0011130366242919304, 0.004199545671570506, 0.012318563989342026, 0.07734540469080939, 0.059721869443738904, 0]\n"
     ]
    },
    {
     "name": "stderr",
     "output_type": "stream",
     "text": [
      "distance:   8%|▊         | 1/13 [02:19<27:59, 139.99s/it]"
     ]
    },
    {
     "name": "stdout",
     "output_type": "stream",
     "text": [
      "\n",
      "noise_list simulator: [0.0858601904923937, 0.0011130366242919304, 0.004199545671570506, 0.012318563989342026, 0.07734540469080939, 0.059721869443738904, 0]\n"
     ]
    },
    {
     "name": "stderr",
     "output_type": "stream",
     "text": [
      "distance:  15%|█▌        | 2/13 [06:24<36:53, 201.22s/it]"
     ]
    },
    {
     "name": "stdout",
     "output_type": "stream",
     "text": [
      "\n",
      "noise_list simulator: [0.0858601904923937, 0.0011130366242919304, 0.004199545671570506, 0.012318563989342026, 0.07734540469080939, 0.059721869443738904, 0]\n"
     ]
    },
    {
     "name": "stderr",
     "output_type": "stream",
     "text": [
      "distance:  23%|██▎       | 3/13 [12:05<44:14, 265.44s/it]"
     ]
    },
    {
     "name": "stdout",
     "output_type": "stream",
     "text": [
      "\n",
      "noise_list simulator: [0.0858601904923937, 0.0011130366242919304, 0.004199545671570506, 0.012318563989342026, 0.07734540469080939, 0.059721869443738904, 0]\n"
     ]
    },
    {
     "name": "stderr",
     "output_type": "stream",
     "text": [
      "distance:  31%|███       | 4/13 [19:19<49:46, 331.85s/it]"
     ]
    },
    {
     "name": "stdout",
     "output_type": "stream",
     "text": [
      "\n",
      "noise_list simulator: [0.0858601904923937, 0.0011130366242919304, 0.004199545671570506, 0.012318563989342026, 0.07734540469080939, 0.059721869443738904, 0]\n"
     ]
    },
    {
     "name": "stderr",
     "output_type": "stream",
     "text": [
      "distance:  38%|███▊      | 5/13 [27:54<53:03, 397.97s/it]"
     ]
    },
    {
     "name": "stdout",
     "output_type": "stream",
     "text": [
      "\n",
      "noise_list simulator: [0.0858601904923937, 0.0011130366242919304, 0.004199545671570506, 0.012318563989342026, 0.07734540469080939, 0.059721869443738904, 0]\n"
     ]
    },
    {
     "name": "stderr",
     "output_type": "stream",
     "text": [
      "distance:  46%|████▌     | 6/13 [37:43<54:00, 462.98s/it]"
     ]
    },
    {
     "name": "stdout",
     "output_type": "stream",
     "text": [
      "\n",
      "noise_list simulator: [0.0858601904923937, 0.0011130366242919304, 0.004199545671570506, 0.012318563989342026, 0.07734540469080939, 0.059721869443738904, 0]\n"
     ]
    },
    {
     "name": "stderr",
     "output_type": "stream",
     "text": [
      "distance:  54%|█████▍    | 7/13 [48:39<52:34, 525.79s/it]"
     ]
    },
    {
     "name": "stdout",
     "output_type": "stream",
     "text": [
      "\n",
      "noise_list simulator: [0.0858601904923937, 0.0011130366242919304, 0.004199545671570506, 0.012318563989342026, 0.07734540469080939, 0.059721869443738904, 0]\n"
     ]
    },
    {
     "name": "stderr",
     "output_type": "stream",
     "text": [
      "distance:  62%|██████▏   | 8/13 [1:00:30<48:44, 584.84s/it]"
     ]
    },
    {
     "name": "stdout",
     "output_type": "stream",
     "text": [
      "\n",
      "noise_list simulator: [0.0858601904923937, 0.0011130366242919304, 0.004199545671570506, 0.012318563989342026, 0.07734540469080939, 0.059721869443738904, 0]\n"
     ]
    },
    {
     "name": "stderr",
     "output_type": "stream",
     "text": [
      "distance:  69%|██████▉   | 9/13 [1:13:11<42:39, 639.91s/it]"
     ]
    },
    {
     "name": "stdout",
     "output_type": "stream",
     "text": [
      "\n",
      "noise_list simulator: [0.0858601904923937, 0.0011130366242919304, 0.004199545671570506, 0.012318563989342026, 0.07734540469080939, 0.059721869443738904, 0]\n"
     ]
    },
    {
     "name": "stderr",
     "output_type": "stream",
     "text": [
      "distance:  77%|███████▋  | 10/13 [1:26:31<34:28, 689.49s/it]"
     ]
    },
    {
     "name": "stdout",
     "output_type": "stream",
     "text": [
      "\n",
      "noise_list simulator: [0.0858601904923937, 0.0011130366242919304, 0.004199545671570506, 0.012318563989342026, 0.07734540469080939, 0.059721869443738904, 0]\n"
     ]
    },
    {
     "name": "stderr",
     "output_type": "stream",
     "text": [
      "distance:  85%|████████▍ | 11/13 [1:41:26<25:04, 752.25s/it]"
     ]
    },
    {
     "name": "stdout",
     "output_type": "stream",
     "text": [
      "\n",
      "noise_list simulator: [0.0858601904923937, 0.0011130366242919304, 0.004199545671570506, 0.012318563989342026, 0.07734540469080939, 0.059721869443738904, 0]\n"
     ]
    },
    {
     "name": "stderr",
     "output_type": "stream",
     "text": [
      "distance:  92%|█████████▏| 12/13 [1:55:51<13:06, 786.52s/it]"
     ]
    },
    {
     "name": "stdout",
     "output_type": "stream",
     "text": [
      "\n",
      "noise_list simulator: [0.0858601904923937, 0.0011130366242919304, 0.004199545671570506, 0.012318563989342026, 0.07734540469080939, 0.059721869443738904, 0]\n"
     ]
    },
    {
     "name": "stderr",
     "output_type": "stream",
     "text": [
      "distance: 100%|██████████| 13/13 [2:08:09<00:00, 591.52s/it]\n"
     ]
    },
    {
     "name": "stdout",
     "output_type": "stream",
     "text": [
      "not correcting the counts for no resets\n",
      "Finished getting pSofts at 2024-04-26 03:49:47.442666\n",
      "\n",
      "[3, 5, 7, 9, 11, 13, 15, 17, 19, 21, 27, 33, 39]\n"
     ]
    },
    {
     "name": "stderr",
     "output_type": "stream",
     "text": [
      "distance:   0%|          | 0/13 [00:00<?, ?it/s]"
     ]
    },
    {
     "name": "stdout",
     "output_type": "stream",
     "text": [
      "\n",
      "noise_list simulator: [0.0858601904923937, 0.0011130366242919304, 0.004199545671570506, 0.012318563989342026, 0.07734540469080939, 0.059721869443738904, 0]\n"
     ]
    },
    {
     "name": "stderr",
     "output_type": "stream",
     "text": [
      "distance:   8%|▊         | 1/13 [02:20<28:02, 140.25s/it]"
     ]
    },
    {
     "name": "stdout",
     "output_type": "stream",
     "text": [
      "\n",
      "noise_list simulator: [0.0858601904923937, 0.0011130366242919304, 0.004199545671570506, 0.012318563989342026, 0.07734540469080939, 0.059721869443738904, 0]\n"
     ]
    },
    {
     "name": "stderr",
     "output_type": "stream",
     "text": [
      "distance:  15%|█▌        | 2/13 [06:25<37:00, 201.86s/it]"
     ]
    },
    {
     "name": "stdout",
     "output_type": "stream",
     "text": [
      "\n",
      "noise_list simulator: [0.0858601904923937, 0.0011130366242919304, 0.004199545671570506, 0.012318563989342026, 0.07734540469080939, 0.059721869443738904, 0]\n"
     ]
    },
    {
     "name": "stderr",
     "output_type": "stream",
     "text": [
      "distance:  23%|██▎       | 3/13 [12:07<44:20, 266.02s/it]"
     ]
    },
    {
     "name": "stdout",
     "output_type": "stream",
     "text": [
      "\n",
      "noise_list simulator: [0.0858601904923937, 0.0011130366242919304, 0.004199545671570506, 0.012318563989342026, 0.07734540469080939, 0.059721869443738904, 0]\n"
     ]
    },
    {
     "name": "stderr",
     "output_type": "stream",
     "text": [
      "distance:  31%|███       | 4/13 [19:21<49:51, 332.40s/it]"
     ]
    },
    {
     "name": "stdout",
     "output_type": "stream",
     "text": [
      "\n",
      "noise_list simulator: [0.0858601904923937, 0.0011130366242919304, 0.004199545671570506, 0.012318563989342026, 0.07734540469080939, 0.059721869443738904, 0]\n"
     ]
    },
    {
     "name": "stderr",
     "output_type": "stream",
     "text": [
      "distance:  38%|███▊      | 5/13 [27:58<53:10, 398.75s/it]"
     ]
    },
    {
     "name": "stdout",
     "output_type": "stream",
     "text": [
      "\n",
      "noise_list simulator: [0.0858601904923937, 0.0011130366242919304, 0.004199545671570506, 0.012318563989342026, 0.07734540469080939, 0.059721869443738904, 0]\n"
     ]
    },
    {
     "name": "stderr",
     "output_type": "stream",
     "text": [
      "distance:  46%|████▌     | 6/13 [37:49<54:10, 464.33s/it]"
     ]
    },
    {
     "name": "stdout",
     "output_type": "stream",
     "text": [
      "\n",
      "noise_list simulator: [0.0858601904923937, 0.0011130366242919304, 0.004199545671570506, 0.012318563989342026, 0.07734540469080939, 0.059721869443738904, 0]\n"
     ]
    },
    {
     "name": "stderr",
     "output_type": "stream",
     "text": [
      "distance:  54%|█████▍    | 7/13 [48:47<52:44, 527.41s/it]"
     ]
    },
    {
     "name": "stdout",
     "output_type": "stream",
     "text": [
      "\n",
      "noise_list simulator: [0.0858601904923937, 0.0011130366242919304, 0.004199545671570506, 0.012318563989342026, 0.07734540469080939, 0.059721869443738904, 0]\n"
     ]
    },
    {
     "name": "stderr",
     "output_type": "stream",
     "text": [
      "distance:  62%|██████▏   | 8/13 [1:00:37<48:48, 585.69s/it]"
     ]
    },
    {
     "name": "stdout",
     "output_type": "stream",
     "text": [
      "\n",
      "noise_list simulator: [0.0858601904923937, 0.0011130366242919304, 0.004199545671570506, 0.012318563989342026, 0.07734540469080939, 0.059721869443738904, 0]\n"
     ]
    },
    {
     "name": "stderr",
     "output_type": "stream",
     "text": [
      "distance:  69%|██████▉   | 9/13 [1:13:17<42:40, 640.17s/it]"
     ]
    },
    {
     "name": "stdout",
     "output_type": "stream",
     "text": [
      "\n",
      "noise_list simulator: [0.0858601904923937, 0.0011130366242919304, 0.004199545671570506, 0.012318563989342026, 0.07734540469080939, 0.059721869443738904, 0]\n"
     ]
    },
    {
     "name": "stderr",
     "output_type": "stream",
     "text": [
      "distance:  77%|███████▋  | 10/13 [1:26:39<34:30, 690.09s/it]"
     ]
    },
    {
     "name": "stdout",
     "output_type": "stream",
     "text": [
      "\n",
      "noise_list simulator: [0.0858601904923937, 0.0011130366242919304, 0.004199545671570506, 0.012318563989342026, 0.07734540469080939, 0.059721869443738904, 0]\n"
     ]
    },
    {
     "name": "stderr",
     "output_type": "stream",
     "text": [
      "distance:  85%|████████▍ | 11/13 [1:41:37<25:07, 753.85s/it]"
     ]
    },
    {
     "name": "stdout",
     "output_type": "stream",
     "text": [
      "\n",
      "noise_list simulator: [0.0858601904923937, 0.0011130366242919304, 0.004199545671570506, 0.012318563989342026, 0.07734540469080939, 0.059721869443738904, 0]\n"
     ]
    },
    {
     "name": "stderr",
     "output_type": "stream",
     "text": [
      "distance:  92%|█████████▏| 12/13 [1:56:10<13:09, 789.94s/it]"
     ]
    },
    {
     "name": "stdout",
     "output_type": "stream",
     "text": [
      "\n",
      "noise_list simulator: [0.0858601904923937, 0.0011130366242919304, 0.004199545671570506, 0.012318563989342026, 0.07734540469080939, 0.059721869443738904, 0]\n"
     ]
    },
    {
     "name": "stderr",
     "output_type": "stream",
     "text": [
      "distance: 100%|██████████| 13/13 [2:08:34<00:00, 593.44s/it]\n"
     ]
    }
   ],
   "source": [
    "import os \n",
    "\n",
    "logicals = ['0']\n",
    "xbasis = [False, True]\n",
    "rounds = [50]\n",
    "devices = [\"ibm_sherbrooke\"]\n",
    "\n",
    "threshold = 0\n",
    "multiplier = 3\n",
    "shots_mult = 5 # should take rouhgly 4h per state\n",
    "\n",
    "for DEVICE in devices:\n",
    "    for XBASIS in xbasis:\n",
    "        for LOGICAL in logicals:\n",
    "            for ROUNDS in rounds:\n",
    "                state = \"X\" if XBASIS else \"Z\"\n",
    "                state = f\"{state}{LOGICAL}_{ROUNDS}\"\n",
    "                file_name = f'./results/simulations/InfoPerfo/{multiplier}_{DEVICE}_{state}.json'\n",
    "\n",
    "                # if os.path.exists(file_name):\n",
    "                #     print(f\"skipping {state} because file already exists\")\n",
    "                #     continue\n",
    "            \n",
    "                dec.decoderSimulInfoPerfo(provider, DEVICE, LOGICAL, XBASIS, ROUNDS, file_name, threshold, multiplier=multiplier,\n",
    "                                 shots_mult=shots_mult)\n"
   ]
  },
  {
   "cell_type": "code",
   "execution_count": null,
   "metadata": {},
   "outputs": [],
   "source": []
  }
 ],
 "metadata": {
  "kernelspec": {
   "display_name": "Soft-Info-fMUpUe5a",
   "language": "python",
   "name": "python3"
  },
  "language_info": {
   "codemirror_mode": {
    "name": "ipython",
    "version": 3
   },
   "file_extension": ".py",
   "mimetype": "text/x-python",
   "name": "python",
   "nbconvert_exporter": "python",
   "pygments_lexer": "ipython3",
   "version": "3.11.4"
  }
 },
 "nbformat": 4,
 "nbformat_minor": 2
}
