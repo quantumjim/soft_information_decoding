{
 "cells": [
  {
   "cell_type": "code",
   "execution_count": 1,
   "metadata": {},
   "outputs": [],
   "source": [
    "%reload_ext autoreload\n",
    "%autoreload 2\n",
    "\n",
    "import dev.dec as dec\n",
    "from result_saver import SaverProvider\n",
    "\n",
    "provider = SaverProvider()\n",
    "# provider = IBMProvider()"
   ]
  },
  {
   "cell_type": "code",
   "execution_count": 2,
   "metadata": {},
   "outputs": [
    {
     "name": "stdout",
     "output_type": "stream",
     "text": [
      "19:32:40 Warning: Negative T2 error -0.08 % for qubit 38, setting to 0. T1: 6.421500990479847e-05, T2: 0.00015673252358240422. IN FILE: /Users/mha/My_Drive/Desktop/Studium/Physik/MSc/Semester_3/IBM/IBM_GIT/Soft-Info/src/soft_info/Hardware/backend_noise.py, LINE: 54\n",
      "19:32:40 Warning: Negative T2 error -0.01 % for qubit 39, setting to 0. T1: 0.00013169172467058469, T2: 0.00027539403593426396. IN FILE: /Users/mha/My_Drive/Desktop/Studium/Physik/MSc/Semester_3/IBM/IBM_GIT/Soft-Info/src/soft_info/Hardware/backend_noise.py, LINE: 54\n",
      "19:32:40 Warning: Negative T2 error -0.01 % for qubit 111, setting to 0. T1: 0.00016588647661947383, T2: 0.00034179903119965343. IN FILE: /Users/mha/My_Drive/Desktop/Studium/Physik/MSc/Semester_3/IBM/IBM_GIT/Soft-Info/src/soft_info/Hardware/backend_noise.py, LINE: 54\n",
      "Found jobs for backend ibm_sherbrooke with closest execution date 2024-03-23 17:49:53.348518+00:00.\n",
      "not correcting the counts for no resets\n",
      "Finished getting pSofts at 2024-04-24 19:45:40.487610\n",
      "\n"
     ]
    },
    {
     "name": "stderr",
     "output_type": "stream",
     "text": [
      "distance:   0%|          | 0/25 [00:00<?, ?it/s]"
     ]
    },
    {
     "name": "stdout",
     "output_type": "stream",
     "text": [
      "\n",
      "noise_list simulator: [0.028620063497464567, 0.00037101220809731015, 0.0013998485571901685, 0.004106187996447342, 0.02578180156360313, 0.019907289814579635, 0]\n"
     ]
    },
    {
     "name": "stderr",
     "output_type": "stream",
     "text": [
      "distance:   4%|▍         | 1/25 [01:55<46:07, 115.30s/it]"
     ]
    },
    {
     "name": "stdout",
     "output_type": "stream",
     "text": [
      "\n",
      "noise_list simulator: [0.028620063497464567, 0.00037101220809731015, 0.0013998485571901685, 0.004106187996447342, 0.02578180156360313, 0.019907289814579635, 0]\n"
     ]
    },
    {
     "name": "stderr",
     "output_type": "stream",
     "text": [
      "distance:   8%|▊         | 2/25 [05:18<1:03:57, 166.83s/it]"
     ]
    },
    {
     "name": "stdout",
     "output_type": "stream",
     "text": [
      "\n",
      "noise_list simulator: [0.028620063497464567, 0.00037101220809731015, 0.0013998485571901685, 0.004106187996447342, 0.02578180156360313, 0.019907289814579635, 0]\n"
     ]
    },
    {
     "name": "stderr",
     "output_type": "stream",
     "text": [
      "distance:  12%|█▏        | 3/25 [09:38<1:16:50, 209.57s/it]"
     ]
    },
    {
     "name": "stdout",
     "output_type": "stream",
     "text": [
      "\n",
      "noise_list simulator: [0.028620063497464567, 0.00037101220809731015, 0.0013998485571901685, 0.004106187996447342, 0.02578180156360313, 0.019907289814579635, 0]\n"
     ]
    },
    {
     "name": "stderr",
     "output_type": "stream",
     "text": [
      "distance:  16%|█▌        | 4/25 [15:41<1:34:31, 270.06s/it]"
     ]
    },
    {
     "name": "stdout",
     "output_type": "stream",
     "text": [
      "\n",
      "noise_list simulator: [0.028620063497464567, 0.00037101220809731015, 0.0013998485571901685, 0.004106187996447342, 0.02578180156360313, 0.019907289814579635, 0]\n"
     ]
    },
    {
     "name": "stderr",
     "output_type": "stream",
     "text": [
      "distance:  20%|██        | 5/25 [23:02<1:50:33, 331.67s/it]"
     ]
    },
    {
     "name": "stdout",
     "output_type": "stream",
     "text": [
      "\n",
      "noise_list simulator: [0.028620063497464567, 0.00037101220809731015, 0.0013998485571901685, 0.004106187996447342, 0.02578180156360313, 0.019907289814579635, 0]\n"
     ]
    },
    {
     "name": "stderr",
     "output_type": "stream",
     "text": [
      "distance:  24%|██▍       | 6/25 [31:31<2:04:09, 392.07s/it]"
     ]
    },
    {
     "name": "stdout",
     "output_type": "stream",
     "text": [
      "\n",
      "noise_list simulator: [0.028620063497464567, 0.00037101220809731015, 0.0013998485571901685, 0.004106187996447342, 0.02578180156360313, 0.019907289814579635, 0]\n"
     ]
    },
    {
     "name": "stderr",
     "output_type": "stream",
     "text": [
      "distance:  28%|██▊       | 7/25 [41:28<2:17:43, 459.07s/it]"
     ]
    },
    {
     "name": "stdout",
     "output_type": "stream",
     "text": [
      "\n",
      "noise_list simulator: [0.028620063497464567, 0.00037101220809731015, 0.0013998485571901685, 0.004106187996447342, 0.02578180156360313, 0.019907289814579635, 0]\n"
     ]
    },
    {
     "name": "stderr",
     "output_type": "stream",
     "text": [
      "distance:  32%|███▏      | 8/25 [51:15<2:21:38, 499.89s/it]"
     ]
    },
    {
     "name": "stdout",
     "output_type": "stream",
     "text": [
      "\n",
      "noise_list simulator: [0.028620063497464567, 0.00037101220809731015, 0.0013998485571901685, 0.004106187996447342, 0.02578180156360313, 0.019907289814579635, 0]\n"
     ]
    },
    {
     "name": "stderr",
     "output_type": "stream",
     "text": [
      "distance:  36%|███▌      | 9/25 [1:00:35<2:18:14, 518.40s/it]"
     ]
    },
    {
     "name": "stdout",
     "output_type": "stream",
     "text": [
      "\n",
      "noise_list simulator: [0.028620063497464567, 0.00037101220809731015, 0.0013998485571901685, 0.004106187996447342, 0.02578180156360313, 0.019907289814579635, 0]\n"
     ]
    },
    {
     "name": "stderr",
     "output_type": "stream",
     "text": [
      "distance:  40%|████      | 10/25 [1:09:52<2:12:35, 530.39s/it]"
     ]
    },
    {
     "name": "stdout",
     "output_type": "stream",
     "text": [
      "\n",
      "noise_list simulator: [0.028620063497464567, 0.00037101220809731015, 0.0013998485571901685, 0.004106187996447342, 0.02578180156360313, 0.019907289814579635, 0]\n"
     ]
    },
    {
     "name": "stderr",
     "output_type": "stream",
     "text": [
      "distance:  44%|████▍     | 11/25 [1:20:52<2:13:02, 570.16s/it]"
     ]
    },
    {
     "name": "stdout",
     "output_type": "stream",
     "text": [
      "\n",
      "noise_list simulator: [0.028620063497464567, 0.00037101220809731015, 0.0013998485571901685, 0.004106187996447342, 0.02578180156360313, 0.019907289814579635, 0]\n"
     ]
    },
    {
     "name": "stderr",
     "output_type": "stream",
     "text": [
      "distance:  48%|████▊     | 12/25 [1:32:28<2:11:49, 608.41s/it]"
     ]
    },
    {
     "name": "stdout",
     "output_type": "stream",
     "text": [
      "\n",
      "noise_list simulator: [0.028620063497464567, 0.00037101220809731015, 0.0013998485571901685, 0.004106187996447342, 0.02578180156360313, 0.019907289814579635, 0]\n"
     ]
    },
    {
     "name": "stderr",
     "output_type": "stream",
     "text": [
      "distance:  52%|█████▏    | 13/25 [1:42:38<2:01:48, 609.02s/it]"
     ]
    },
    {
     "name": "stdout",
     "output_type": "stream",
     "text": [
      "\n",
      "noise_list simulator: [0.028620063497464567, 0.00037101220809731015, 0.0013998485571901685, 0.004106187996447342, 0.02578180156360313, 0.019907289814579635, 0]\n"
     ]
    },
    {
     "name": "stderr",
     "output_type": "stream",
     "text": [
      "distance:  56%|█████▌    | 14/25 [1:52:38<1:51:08, 606.24s/it]"
     ]
    },
    {
     "name": "stdout",
     "output_type": "stream",
     "text": [
      "\n",
      "noise_list simulator: [0.028620063497464567, 0.00037101220809731015, 0.0013998485571901685, 0.004106187996447342, 0.02578180156360313, 0.019907289814579635, 0]\n"
     ]
    },
    {
     "name": "stderr",
     "output_type": "stream",
     "text": [
      "distance:  60%|██████    | 15/25 [2:02:21<1:39:52, 599.26s/it]"
     ]
    },
    {
     "name": "stdout",
     "output_type": "stream",
     "text": [
      "\n",
      "noise_list simulator: [0.028620063497464567, 0.00037101220809731015, 0.0013998485571901685, 0.004106187996447342, 0.02578180156360313, 0.019907289814579635, 0]\n"
     ]
    },
    {
     "name": "stderr",
     "output_type": "stream",
     "text": [
      "distance:  64%|██████▍   | 16/25 [2:11:24<1:27:19, 582.17s/it]"
     ]
    },
    {
     "name": "stdout",
     "output_type": "stream",
     "text": [
      "\n",
      "noise_list simulator: [0.028620063497464567, 0.00037101220809731015, 0.0013998485571901685, 0.004106187996447342, 0.02578180156360313, 0.019907289814579635, 0]\n"
     ]
    },
    {
     "name": "stderr",
     "output_type": "stream",
     "text": [
      "distance:  68%|██████▊   | 17/25 [2:19:40<1:14:10, 556.33s/it]"
     ]
    },
    {
     "name": "stdout",
     "output_type": "stream",
     "text": [
      "\n",
      "noise_list simulator: [0.028620063497464567, 0.00037101220809731015, 0.0013998485571901685, 0.004106187996447342, 0.02578180156360313, 0.019907289814579635, 0]\n"
     ]
    },
    {
     "name": "stderr",
     "output_type": "stream",
     "text": [
      "distance:  72%|███████▏  | 18/25 [2:26:59<1:00:48, 521.15s/it]"
     ]
    },
    {
     "name": "stdout",
     "output_type": "stream",
     "text": [
      "\n",
      "noise_list simulator: [0.028620063497464567, 0.00037101220809731015, 0.0013998485571901685, 0.004106187996447342, 0.02578180156360313, 0.019907289814579635, 0]\n"
     ]
    },
    {
     "name": "stderr",
     "output_type": "stream",
     "text": [
      "distance:  76%|███████▌  | 19/25 [2:33:26<48:04, 480.79s/it]  "
     ]
    },
    {
     "name": "stdout",
     "output_type": "stream",
     "text": [
      "\n",
      "noise_list simulator: [0.028620063497464567, 0.00037101220809731015, 0.0013998485571901685, 0.004106187996447342, 0.02578180156360313, 0.019907289814579635, 0]\n"
     ]
    },
    {
     "name": "stderr",
     "output_type": "stream",
     "text": [
      "distance:  80%|████████  | 20/25 [2:39:03<36:27, 437.59s/it]"
     ]
    },
    {
     "name": "stdout",
     "output_type": "stream",
     "text": [
      "\n",
      "noise_list simulator: [0.028620063497464567, 0.00037101220809731015, 0.0013998485571901685, 0.004106187996447342, 0.02578180156360313, 0.019907289814579635, 0]\n"
     ]
    },
    {
     "name": "stderr",
     "output_type": "stream",
     "text": [
      "distance:  84%|████████▍ | 21/25 [2:44:01<26:22, 395.74s/it]"
     ]
    },
    {
     "name": "stdout",
     "output_type": "stream",
     "text": [
      "\n",
      "noise_list simulator: [0.028620063497464567, 0.00037101220809731015, 0.0013998485571901685, 0.004106187996447342, 0.02578180156360313, 0.019907289814579635, 0]\n"
     ]
    },
    {
     "name": "stderr",
     "output_type": "stream",
     "text": [
      "distance:  88%|████████▊ | 22/25 [2:48:19<17:43, 354.35s/it]"
     ]
    },
    {
     "name": "stdout",
     "output_type": "stream",
     "text": [
      "\n",
      "noise_list simulator: [0.028620063497464567, 0.00037101220809731015, 0.0013998485571901685, 0.004106187996447342, 0.02578180156360313, 0.019907289814579635, 0]\n"
     ]
    },
    {
     "name": "stderr",
     "output_type": "stream",
     "text": [
      "distance:  92%|█████████▏| 23/25 [2:51:50<10:22, 311.35s/it]"
     ]
    },
    {
     "name": "stdout",
     "output_type": "stream",
     "text": [
      "\n",
      "noise_list simulator: [0.028620063497464567, 0.00037101220809731015, 0.0013998485571901685, 0.004106187996447342, 0.02578180156360313, 0.019907289814579635, 0]\n"
     ]
    },
    {
     "name": "stderr",
     "output_type": "stream",
     "text": [
      "distance:  96%|█████████▌| 24/25 [2:54:29<04:25, 265.48s/it]"
     ]
    },
    {
     "name": "stdout",
     "output_type": "stream",
     "text": [
      "\n",
      "noise_list simulator: [0.028620063497464567, 0.00037101220809731015, 0.0013998485571901685, 0.004106187996447342, 0.02578180156360313, 0.019907289814579635, 0]\n"
     ]
    },
    {
     "name": "stderr",
     "output_type": "stream",
     "text": [
      "distance: 100%|██████████| 25/25 [2:56:11<00:00, 422.86s/it]\n"
     ]
    }
   ],
   "source": [
    "import os \n",
    "\n",
    "logicals = ['0']\n",
    "xbasis = [True]\n",
    "rounds = [50]\n",
    "devices = [\"ibm_sherbrooke\"]\n",
    "\n",
    "threshold = 0\n",
    "multiplier = 1\n",
    "shots_mult = 40\n",
    "\n",
    "for DEVICE in devices:\n",
    "    for XBASIS in xbasis:\n",
    "        for LOGICAL in logicals:\n",
    "            for ROUNDS in rounds:\n",
    "                state = \"X\" if XBASIS else \"Z\"\n",
    "                state = f\"{state}{LOGICAL}_{ROUNDS}\"\n",
    "                file_name = f'./results/simulations/{multiplier}_{DEVICE}_{state}.json'\n",
    "\n",
    "                # if os.path.exists(file_name):\n",
    "                #     print(f\"skipping {state} because file already exists\")\n",
    "                #     continue\n",
    "            \n",
    "                dec.decoderSimul(provider, DEVICE, LOGICAL, XBASIS, ROUNDS, file_name, threshold, multiplier=multiplier,\n",
    "                                 shots_mult=shots_mult)\n"
   ]
  },
  {
   "cell_type": "code",
   "execution_count": 1,
   "metadata": {},
   "outputs": [
    {
     "ename": "SyntaxError",
     "evalue": "invalid syntax (1473851633.py, line 16)",
     "output_type": "error",
     "traceback": [
      "\u001b[0;36m  Cell \u001b[0;32mIn[1], line 16\u001b[0;36m\u001b[0m\n\u001b[0;31m    state = \"X\" if XBASIS else \"Z\"`\u001b[0m\n\u001b[0m                                  ^\u001b[0m\n\u001b[0;31mSyntaxError\u001b[0m\u001b[0;31m:\u001b[0m invalid syntax\n"
     ]
    }
   ],
   "source": [
    "import os \n",
    "\n",
    "logicals = ['0']\n",
    "xbasis = [True, False]\n",
    "rounds = [50]\n",
    "devices = [\"ibm_sherbrooke\"]\n",
    "\n",
    "threshold = 0\n",
    "multiplier = 2\n",
    "shots_mult = 10 # should take rouhgly 4h per state\n",
    "\n",
    "for DEVICE in devices:\n",
    "    for XBASIS in xbasis:\n",
    "        for LOGICAL in logicals:\n",
    "            for ROUNDS in rounds:\n",
    "                state = \"X\" if XBASIS else \"Z\"`\n",
    "                state = f\"{state}{LOGICAL}_{ROUNDS}\"\n",
    "                file_name = f'./results/simulations/InfoPerfo/{multiplier}_{DEVICE}_{state}.json'\n",
    "\n",
    "                # if os.path.exists(file_name):\n",
    "                #     print(f\"skipping {state} because file already exists\")\n",
    "                #     continue\n",
    "            \n",
    "                dec.decoderSimulInfoPerfo(provider, DEVICE, LOGICAL, XBASIS, ROUNDS, file_name, threshold, multiplier=multiplier,\n",
    "                                 shots_mult=shots_mult)\n"
   ]
  },
  {
   "cell_type": "code",
   "execution_count": null,
   "metadata": {},
   "outputs": [],
   "source": [
    "import os \n",
    "\n",
    "logicals = ['0', '1']\n",
    "xbasis = [True, False]\n",
    "rounds = [50, 20, 30, 40, 10, 75, 100]\n",
    "devices = [\"ibm_sherbrooke\"]\n",
    "\n",
    "threshold = 0.01\n",
    "\n",
    "\n",
    "for DEVICE in devices:\n",
    "    for XBASIS in xbasis:\n",
    "        for LOGICAL in logicals:\n",
    "            for ROUNDS in rounds:\n",
    "                state = \"X\" if XBASIS else \"Z\"\n",
    "                state = f\"{state}{LOGICAL}_{ROUNDS}\"\n",
    "                file_name = f'./results/{DEVICE}_{state}.json'\n",
    "\n",
    "                if os.path.exists(file_name):\n",
    "                    print(f\"skipping {state} because file already exists\")\n",
    "                    continue\n",
    "\n",
    "                dec.decoder(provider, DEVICE, LOGICAL, XBASIS, ROUNDS, file_name, threshold)\n"
   ]
  },
  {
   "cell_type": "code",
   "execution_count": null,
   "metadata": {},
   "outputs": [],
   "source": []
  }
 ],
 "metadata": {
  "kernelspec": {
   "display_name": "Soft-Info-fMUpUe5a",
   "language": "python",
   "name": "python3"
  },
  "language_info": {
   "codemirror_mode": {
    "name": "ipython",
    "version": 3
   },
   "file_extension": ".py",
   "mimetype": "text/x-python",
   "name": "python",
   "nbconvert_exporter": "python",
   "pygments_lexer": "ipython3",
   "version": "3.11.4"
  }
 },
 "nbformat": 4,
 "nbformat_minor": 2
}
