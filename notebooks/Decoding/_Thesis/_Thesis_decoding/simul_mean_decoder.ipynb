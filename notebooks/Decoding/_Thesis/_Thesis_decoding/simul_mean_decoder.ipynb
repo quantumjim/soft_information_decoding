{
 "cells": [
  {
   "cell_type": "code",
   "execution_count": null,
   "metadata": {},
   "outputs": [],
   "source": [
    "%reload_ext autoreload\n",
    "%autoreload 2\n",
    "\n",
    "import dev.dec as dec\n",
    "from result_saver import SaverProvider\n",
    "\n",
    "provider = SaverProvider()"
   ]
  },
  {
   "cell_type": "code",
   "execution_count": null,
   "metadata": {},
   "outputs": [],
   "source": [
    "import os \n",
    "\n",
    "logicals = ['0', '1']\n",
    "xbasis = [True, False]\n",
    "rounds = [50]\n",
    "devices = [\"ibm_sherbrooke\"]\n",
    "\n",
    "threshold = 0.01\n",
    "\n",
    "shots = 100\n",
    "\n",
    "for DEVICE in devices:\n",
    "    for XBASIS in xbasis:\n",
    "        for LOGICAL in logicals:\n",
    "            for ROUNDS in rounds:\n",
    "                state = \"X\" if XBASIS else \"Z\"\n",
    "                state = f\"{state}{LOGICAL}_{ROUNDS}\"\n",
    "                file_name = f'./results/simulations/{DEVICE}_{state}.json'\n",
    "\n",
    "                # if os.path.exists(file_name):\n",
    "                #     print(f\"skipping {state} because file already exists\")\n",
    "                #     continue\n",
    "\n",
    "                dec.decoderSimul(provider, DEVICE, LOGICAL, XBASIS, ROUNDS, file_name, threshold, shots)\n"
   ]
  }
 ],
 "metadata": {
  "kernelspec": {
   "display_name": "Soft-Info-fMUpUe5a",
   "language": "python",
   "name": "python3"
  },
  "language_info": {
   "codemirror_mode": {
    "name": "ipython",
    "version": 3
   },
   "file_extension": ".py",
   "mimetype": "text/x-python",
   "name": "python",
   "nbconvert_exporter": "python",
   "pygments_lexer": "ipython3",
   "version": "3.11.4"
  }
 },
 "nbformat": 4,
 "nbformat_minor": 2
}
