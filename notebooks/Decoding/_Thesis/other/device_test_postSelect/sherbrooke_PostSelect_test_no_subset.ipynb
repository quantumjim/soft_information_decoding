{
 "cells": [
  {
   "cell_type": "code",
   "execution_count": 1,
   "metadata": {},
   "outputs": [],
   "source": [
    "%reload_ext autoreload\n",
    "%autoreload 2"
   ]
  },
  {
   "cell_type": "markdown",
   "metadata": {},
   "source": [
    "# Load the data"
   ]
  },
  {
   "cell_type": "code",
   "execution_count": 2,
   "metadata": {},
   "outputs": [],
   "source": [
    "from result_saver import SaverProvider\n",
    "provider = SaverProvider()"
   ]
  },
  {
   "cell_type": "code",
   "execution_count": 69,
   "metadata": {},
   "outputs": [
    {
     "name": "stdout",
     "output_type": "stream",
     "text": [
      "state = Z1\n",
      "shape: (1, 18)\n"
     ]
    },
    {
     "data": {
      "text/html": [
       "<div>\n",
       "<style scoped>\n",
       "    .dataframe tbody tr th:only-of-type {\n",
       "        vertical-align: middle;\n",
       "    }\n",
       "\n",
       "    .dataframe tbody tr th {\n",
       "        vertical-align: top;\n",
       "    }\n",
       "\n",
       "    .dataframe thead th {\n",
       "        text-align: right;\n",
       "    }\n",
       "</style>\n",
       "<table border=\"1\" class=\"dataframe\">\n",
       "  <thead>\n",
       "    <tr style=\"text-align: right;\">\n",
       "      <th></th>\n",
       "      <th>creation_date</th>\n",
       "      <th>notebook_name</th>\n",
       "      <th>backend_name</th>\n",
       "      <th>job_id</th>\n",
       "      <th>tags</th>\n",
       "      <th>meas_level</th>\n",
       "      <th>shots</th>\n",
       "      <th>num_qubits</th>\n",
       "      <th>job_status</th>\n",
       "      <th>execution_date</th>\n",
       "      <th>code</th>\n",
       "      <th>distance</th>\n",
       "      <th>rounds</th>\n",
       "      <th>logical</th>\n",
       "      <th>descr</th>\n",
       "      <th>resets</th>\n",
       "      <th>xbasis</th>\n",
       "      <th>path_info</th>\n",
       "    </tr>\n",
       "  </thead>\n",
       "  <tbody>\n",
       "    <tr>\n",
       "      <th>4498</th>\n",
       "      <td>2024-03-23 10:55:31.224000+01:00</td>\n",
       "      <td>Torino_RepCodes_jobs</td>\n",
       "      <td>ibm_torino</td>\n",
       "      <td>cqzae4rktf3g00883ew0</td>\n",
       "      <td>[Subset 56, 20 rounds, 1 log, xbasis=False]</td>\n",
       "      <td>1.0</td>\n",
       "      <td>3303.0</td>\n",
       "      <td>NaN</td>\n",
       "      <td>JobStatus.DONE</td>\n",
       "      <td>2024-03-23 11:35:10.771175+01:00</td>\n",
       "      <td>RepetitionCodeCircuit</td>\n",
       "      <td>56</td>\n",
       "      <td>20</td>\n",
       "      <td>1</td>\n",
       "      <td>subset RepCodes</td>\n",
       "      <td>NaN</td>\n",
       "      <td>False</td>\n",
       "      <td>{'mean_gate_error': 0.006839442881539001, 'min...</td>\n",
       "    </tr>\n",
       "  </tbody>\n",
       "</table>\n",
       "</div>"
      ],
      "text/plain": [
       "                         creation_date         notebook_name backend_name  \\\n",
       "4498  2024-03-23 10:55:31.224000+01:00  Torino_RepCodes_jobs   ibm_torino   \n",
       "\n",
       "                    job_id                                         tags  \\\n",
       "4498  cqzae4rktf3g00883ew0  [Subset 56, 20 rounds, 1 log, xbasis=False]   \n",
       "\n",
       "      meas_level   shots  num_qubits      job_status  \\\n",
       "4498         1.0  3303.0         NaN  JobStatus.DONE   \n",
       "\n",
       "                        execution_date                   code  distance  \\\n",
       "4498  2024-03-23 11:35:10.771175+01:00  RepetitionCodeCircuit        56   \n",
       "\n",
       "      rounds logical            descr resets xbasis  \\\n",
       "4498      20       1  subset RepCodes    NaN  False   \n",
       "\n",
       "                                              path_info  \n",
       "4498  {'mean_gate_error': 0.006839442881539001, 'min...  "
      ]
     },
     "execution_count": 69,
     "metadata": {},
     "output_type": "execute_result"
    }
   ],
   "source": [
    "from Scratch import metadata_loader\n",
    "import numpy as np\n",
    "from tqdm import tqdm\n",
    "from time import sleep\n",
    "\n",
    "DEVICE = \"ibm_torino\"\n",
    "LOGICAL = str(1)\n",
    "XBASIS = False\n",
    "ROUNDS = 20\n",
    "\n",
    "state = \"X\" if XBASIS else \"Z\"\n",
    "state += LOGICAL\n",
    "print(f\"state = {state}\")\n",
    "\n",
    "\n",
    "# Load the metadata\n",
    "while True:\n",
    "    try:\n",
    "        md = metadata_loader(True, True)\n",
    "        break\n",
    "    except:\n",
    "        sleep(5)\n",
    "md = md[md[\"job_status\"] == \"JobStatus.DONE\"]\n",
    "md = md[md[\"code\"] == \"RepetitionCodeCircuit\"]\n",
    "md = md[md[\"descr\"] == 'subset RepCodes']\n",
    "md = md.dropna(subset=[\"rounds\"])\n",
    "md = md[md[\"meas_level\"] == 1]\n",
    "md['rounds'] = md['rounds'].astype(int)\n",
    "md['distance'] = md['distance'].astype(int)\n",
    "\n",
    "md = md[md[\"backend_name\"] == DEVICE]\n",
    "md = md[md[\"logical\"] == LOGICAL]\n",
    "md = md[md[\"xbasis\"] == XBASIS]\n",
    "md = md[md[\"rounds\"] == ROUNDS]\n",
    "\n",
    "md = md[0:1]\n",
    "print(\"shape:\", md.shape)\n",
    "# md[18:]\n",
    "md"
   ]
  },
  {
   "cell_type": "markdown",
   "metadata": {},
   "source": [
    "# Take single job"
   ]
  },
  {
   "cell_type": "code",
   "execution_count": 70,
   "metadata": {},
   "outputs": [
    {
     "name": "stdout",
     "output_type": "stream",
     "text": [
      "nb of shots: 3303\n"
     ]
    }
   ],
   "source": [
    "job_id = md[\"job_id\"].values[0]\n",
    "d = md[\"distance\"].values[0]\n",
    "T = md[\"rounds\"].values[0]\n",
    "\n",
    "job = provider.retrieve_job(job_id)\n",
    "memory = job.result().get_memory()\n",
    "\n",
    "print(f\"nb of shots: {len(memory)}\")"
   ]
  },
  {
   "cell_type": "markdown",
   "metadata": {},
   "source": [
    "# Get needed decoding objects"
   ]
  },
  {
   "cell_type": "code",
   "execution_count": 71,
   "metadata": {},
   "outputs": [
    {
     "name": "stdout",
     "output_type": "stream",
     "text": [
      "Specified job execution date: 2024-03-23 11:35:10.771175+01:00\n",
      "Found jobs for backend ibm_torino with closest execution date 2024-03-23 10:35:40.641635+00:00.\n",
      "Specified job execution date: 2024-03-23 11:35:10.771175+01:00\n",
      "Found jobs for backend ibm_torino with closest execution date 2024-03-23 10:36:07.872547+00:00.\n"
     ]
    }
   ],
   "source": [
    "from soft_info import load_calibration_memory\n",
    "from src import cpp_soft_info as csi\n",
    "\n",
    "lin = [0.6, 1.2, 1]\n",
    "num_points = 20\n",
    "bandwidths = np.linspace(lin[0], lin[1], lin[2])\n",
    "rel_error = 1\n",
    "\n",
    "all_memories, gmm_dict, _ = load_calibration_memory(provider, tobecalib_job=job_id, \n",
    "                                             double_msmt=False, post_process=True)\n",
    "kde_dict = csi.get_KDEs(all_memories, bandwidths, relError=rel_error, absError=-1, num_points=num_points)\n",
    "\n",
    "\n",
    "all_memories_PS, _, msmt_err_dict_PS = load_calibration_memory(provider, tobecalib_job=job_id, \n",
    "                                                         double_msmt=True, post_process=True)\n",
    "kde_dict_PS = csi.get_KDEs(all_memories_PS, bandwidths, relError=rel_error, absError=-1, num_points=num_points)\n"
   ]
  },
  {
   "cell_type": "code",
   "execution_count": 72,
   "metadata": {},
   "outputs": [
    {
     "name": "stdout",
     "output_type": "stream",
     "text": [
      "dict_keys(['mmr_0', 'mmr_1'])\n",
      "dict_keys(['mmr_0', 'mmr_1', 'mmr_0_scnd', 'mmr_1_scnd'])\n"
     ]
    }
   ],
   "source": [
    "print(all_memories[0].keys())\n",
    "print(all_memories_PS[0].keys())"
   ]
  },
  {
   "cell_type": "code",
   "execution_count": 73,
   "metadata": {},
   "outputs": [
    {
     "name": "stdout",
     "output_type": "stream",
     "text": [
      "p_soft_mean = 0.008314078406097044\n",
      "p_hard_mean = 0.02450996814374167\n"
     ]
    }
   ],
   "source": [
    "# Get the msmt errors\n",
    "p_soft_mean = 0\n",
    "p_hard_mean = 0\n",
    "for key, value in msmt_err_dict_PS.items():\n",
    "    p_soft_mean += value['p_soft']\n",
    "    p_hard_mean += value['p_hard']\n",
    "p_soft_mean /= len(msmt_err_dict_PS)\n",
    "p_hard_mean /= len(msmt_err_dict_PS)\n",
    "\n",
    "print(f\"p_soft_mean = {p_soft_mean}\")\n",
    "print(f\"p_hard_mean = {p_hard_mean}\")"
   ]
  },
  {
   "cell_type": "code",
   "execution_count": 74,
   "metadata": {},
   "outputs": [],
   "source": [
    "from soft_info import inv_qubit_mapping, get_repcode_IQ_map\n",
    "\n",
    "layout_des = job.deserialize_layout(job.initial_layouts()[0]) # only 1 layout\n",
    "link_qubits = list(layout_des['link_qubit'].values())\n",
    "code_qubits = list(layout_des['code_qubit'].values())\n",
    "\n",
    "big_layout = link_qubits + code_qubits\n",
    "inverted_q_map = inv_qubit_mapping(get_repcode_IQ_map(big_layout, synd_rounds=T))\n"
   ]
  },
  {
   "cell_type": "markdown",
   "metadata": {},
   "source": [
    "# Get countMat and pSoft"
   ]
  },
  {
   "cell_type": "code",
   "execution_count": 75,
   "metadata": {},
   "outputs": [
    {
     "name": "stdout",
     "output_type": "stream",
     "text": [
      "Starting to get pSoft and countMat at 2024-04-09 19:19:37.271853\n",
      "Starting to get pSoft_PS and countMat_PS at 2024-04-09 19:20:10.248013\n"
     ]
    }
   ],
   "source": [
    "from datetime import datetime\n",
    "from soft_info import gaussianIQConvertor\n",
    "\n",
    "HANDLE_OUTLIERS = True\n",
    "\n",
    "print(f\"Starting to get pSoft and countMat at {datetime.now()}\")\n",
    "pSoft, countMat = csi.iqConvertor(memory, inverted_q_map, kde_dict, rel_error, -1,\n",
    "                                            handleOutliers = HANDLE_OUTLIERS)\n",
    "\n",
    "print(f\"Starting to get pSoft_PS and countMat_PS at {datetime.now()}\")\n",
    "pSoft_PS, countMat_PS = csi.iqConvertor(memory, inverted_q_map, kde_dict_PS, rel_error, -1,\n",
    "                                                handleOutliers = HANDLE_OUTLIERS)\n",
    "\n",
    "# print(f\"Starting to get pSoftG at {datetime.now()}\")\n",
    "# countMatG, pSoftG = gaussianIQConvertor(memory, inverted_q_map, gmm_dict)"
   ]
  },
  {
   "cell_type": "markdown",
   "metadata": {},
   "source": [
    "# Get the noise model "
   ]
  },
  {
   "cell_type": "code",
   "execution_count": 76,
   "metadata": {},
   "outputs": [
    {
     "name": "stdout",
     "output_type": "stream",
     "text": [
      "19:20:33 Warning: Z0 decoding. Negative T2 error -0.06 % for qubit 90, setting to 0.. IN FILE: /Users/mha/My_Drive/Desktop/Studium/Physik/MSc/Semester_3/IBM/IBM_GIT/Soft-Info/src/soft_info/Hardware/backend_noise.py, LINE: 52\n",
      "19:20:36 Warning: Could not get two gate error of ECR due to 'Could not find the desired property for ecr', taking CX instead.. IN FILE: /Users/mha/My_Drive/Desktop/Studium/Physik/MSc/Semester_3/IBM/IBM_GIT/Soft-Info/src/soft_info/Hardware/backend_noise.py, LINE: 67\n",
      "19:20:36 Warning: Could not get two gate error of CX due to 'Could not find the desired property for cx', taking 0.5 instead.. IN FILE: /Users/mha/My_Drive/Desktop/Studium/Physik/MSc/Semester_3/IBM/IBM_GIT/Soft-Info/src/soft_info/Hardware/backend_noise.py, LINE: 71\n",
      "noise_list = [0.006824523916809919, 0.0005384309815914904, 0.0038028275581356076, 0.0050524243666174445, 0.03282404654983871, 0.02450996814374167, 0.008314078406097044]\n",
      "readout = 0.027490990990990994\n"
     ]
    }
   ],
   "source": [
    "from soft_info import get_noise_dict_from_backend, get_avgs_from_dict\n",
    "\n",
    "\n",
    "noise_dict = get_noise_dict_from_backend(provider, DEVICE, date = md[\"execution_date\"].values[0])\n",
    "avgs = get_avgs_from_dict(noise_dict, big_layout)\n",
    "noise_list = [avgs[\"two_gate\"], avgs[\"single_gate\"], avgs[\"t1_err\"], avgs[\"t2_err\"]]\n",
    "readout = avgs[\"readout\"]\n",
    "noise_list += [(p_hard_mean+p_soft_mean), p_hard_mean, p_soft_mean]\n",
    "\n",
    "print(f\"noise_list = {noise_list}\")\n",
    "print(f\"readout = {readout}\")"
   ]
  },
  {
   "cell_type": "code",
   "execution_count": 77,
   "metadata": {},
   "outputs": [],
   "source": [
    "# Stim codes\n",
    "from soft_info import RepetitionCodeStimCircuit\n",
    "\n",
    "subsampling = False\n",
    "_RESETS = True\n",
    "\n",
    "noise_list_new = noise_list.copy()\n",
    "# noise_list_new = [err*10 for err in noise_list_new]\n",
    "\n",
    "code_mean_for_soft = RepetitionCodeStimCircuit(d, T, XBASIS, _RESETS, noise_list=noise_list_new,\n",
    "                                                subsampling=subsampling, no_fin_soft=True, layout=None,\n",
    "                                                msmt_err_dict=None)\n",
    "model_mean_for_soft = code_mean_for_soft.circuits[LOGICAL].detector_error_model()\n",
    "\n",
    "code_mean_for_hard = RepetitionCodeStimCircuit(d, T, XBASIS, _RESETS, noise_list=noise_list_new,\n",
    "                                                subsampling=subsampling, no_fin_soft=False, layout=None,\n",
    "                                                msmt_err_dict=None)\n",
    "model_mean_for_hard = code_mean_for_hard.circuits[LOGICAL].detector_error_model()"
   ]
  },
  {
   "cell_type": "markdown",
   "metadata": {},
   "source": [
    "# Decoding"
   ]
  },
  {
   "cell_type": "code",
   "execution_count": 78,
   "metadata": {},
   "outputs": [],
   "source": [
    "_RESETS_new = False\n",
    "\n",
    "offset = 0.005\n",
    "pSoft_new = pSoft + offset\n",
    "pSoft_PS_new = pSoft_PS + offset\n",
    "\n",
    "res_s_K_mean = csi.decodeConvertorAll(model_mean_for_soft, countMat, pSoft, T,\n",
    "                                      int(LOGICAL), _RESETS_new, decode_hard=False)\n",
    "res_h_K_mean = csi.decodeConvertorAll(model_mean_for_hard, countMat, pSoft, T,\n",
    "                                      int(LOGICAL), _RESETS_new, decode_hard=True)\n",
    "\n",
    "res_s_K_mean_PS = csi.decodeConvertorAll(model_mean_for_soft, countMat_PS, pSoft_PS, T,\n",
    "                                        int(LOGICAL), _RESETS_new, decode_hard=False)\n",
    "res_h_K_mean_PS = csi.decodeConvertorAll(model_mean_for_hard, countMat_PS, pSoft_PS, T,\n",
    "                                        int(LOGICAL), _RESETS_new, decode_hard=True)\n",
    "\n",
    "res_s_K_mean_new = csi.decodeConvertorAll(model_mean_for_soft, countMat, pSoft_new, T,\n",
    "                                            int(LOGICAL), _RESETS_new, decode_hard=False)\n",
    "res_s_K_mean_PS_new = csi.decodeConvertorAll(model_mean_for_hard, countMat, pSoft_new, T,\n",
    "                                            int(LOGICAL), _RESETS_new, decode_hard=False)"
   ]
  },
  {
   "cell_type": "code",
   "execution_count": 79,
   "metadata": {},
   "outputs": [
    {
     "name": "stdout",
     "output_type": "stream",
     "text": [
      "d: 56, T: 20, SHOTS: 3303, LOGICAL: 1, XBASIS: False, RESETS: True, DOUBLE_MSMTS: True\n",
      "noise_list_new: [0.006824523916809919, 0.0005384309815914904, 0.0038028275581356076, 0.0050524243666174445, 0.03282404654983871, 0.02450996814374167, 0.008314078406097044]\n",
      "\n",
      "soft KDE: 0 out of 3303 shots, handleOutliers: True, bandwidth: [0.6]\n",
      "soft KDE_new: 2 out of 3303 shots, handleOutliers: True, bandwidth: [0.6]\n",
      "hard KDE: 3 out of 3303 shots, handleOutliers: True, bandwidth: [0.6]\n",
      "\n",
      "soft KDE_PS: 1 out of 3303 shots, handleOutliers: True, bandwidth: [0.6]\n",
      "soft KDE_new_PS: 3 out of 3303 shots, handleOutliers: True, bandwidth: [0.6]\n",
      "hard KDE_PS: 3 out of 3303 shots, handleOutliers: True, bandwidth: [0.6]\n"
     ]
    }
   ],
   "source": [
    "print(f\"d: {d}, T: {T}, SHOTS: {len(pSoft)}, LOGICAL: {LOGICAL}, XBASIS: {XBASIS}, RESETS: {_RESETS}, DOUBLE_MSMTS: {True}\")\n",
    "print(f\"noise_list_new: {noise_list_new}\\n\")\n",
    "\n",
    "print(f\"soft KDE: {res_s_K_mean.num_errors} out of {len(pSoft)} shots, handleOutliers: {HANDLE_OUTLIERS}, bandwidth: {bandwidths}\")\n",
    "print(f\"soft KDE_new: {res_s_K_mean_new.num_errors} out of {len(pSoft)} shots, handleOutliers: {HANDLE_OUTLIERS}, bandwidth: {bandwidths}\")\n",
    "print(f\"hard KDE: {res_h_K_mean.num_errors} out of {len(pSoft)} shots, handleOutliers: {HANDLE_OUTLIERS}, bandwidth: {bandwidths}\")\n",
    "\n",
    "print() \n",
    "\n",
    "print(f\"soft KDE_PS: {res_s_K_mean_PS.num_errors} out of {len(pSoft_PS)} shots, handleOutliers: {HANDLE_OUTLIERS}, bandwidth: {bandwidths}\")\n",
    "print(f\"soft KDE_new_PS: {res_s_K_mean_PS_new.num_errors} out of {len(pSoft_PS)} shots, handleOutliers: {HANDLE_OUTLIERS}, bandwidth: {bandwidths}\")\n",
    "print(f\"hard KDE_PS: {res_h_K_mean_PS.num_errors} out of {len(pSoft_PS)} shots, handleOutliers: {HANDLE_OUTLIERS}, bandwidth: {bandwidths}\")\n"
   ]
  },
  {
   "cell_type": "code",
   "execution_count": 80,
   "metadata": {},
   "outputs": [
    {
     "name": "stdout",
     "output_type": "stream",
     "text": [
      "p_soft_mean: 0.008314078406097044, p_hard_mean: 0.02450996814374167\n",
      "mean pSoft: 0.06042932388898831, mean pSoft_PS: 0.02489950177745181\n",
      "mean pSoft_new: 0.06542932388898831, mean pSoft_PS_new: 0.029899501777451796\n"
     ]
    }
   ],
   "source": [
    "print(f\"p_soft_mean: {p_soft_mean}, p_hard_mean: {p_hard_mean}\")\n",
    "print(f\"mean pSoft: {np.mean(pSoft)}, mean pSoft_PS: {np.mean(pSoft_PS)}\")\n",
    "\n",
    "\n",
    "print(f\"mean pSoft_new: {np.mean(pSoft_new)}, mean pSoft_PS_new: {np.mean(pSoft_PS_new)}\")"
   ]
  },
  {
   "cell_type": "code",
   "execution_count": null,
   "metadata": {},
   "outputs": [],
   "source": []
  },
  {
   "cell_type": "code",
   "execution_count": null,
   "metadata": {},
   "outputs": [],
   "source": []
  }
 ],
 "metadata": {
  "kernelspec": {
   "display_name": "Soft-Info-fMUpUe5a",
   "language": "python",
   "name": "python3"
  },
  "language_info": {
   "codemirror_mode": {
    "name": "ipython",
    "version": 3
   },
   "file_extension": ".py",
   "mimetype": "text/x-python",
   "name": "python",
   "nbconvert_exporter": "python",
   "pygments_lexer": "ipython3",
   "version": "3.11.4"
  }
 },
 "nbformat": 4,
 "nbformat_minor": 2
}
