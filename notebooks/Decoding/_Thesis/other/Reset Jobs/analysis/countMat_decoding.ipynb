{
 "cells": [
  {
   "cell_type": "code",
   "execution_count": 3,
   "metadata": {},
   "outputs": [],
   "source": [
    "%reload_ext autoreload\n",
    "%autoreload 2"
   ]
  },
  {
   "cell_type": "code",
   "execution_count": 4,
   "metadata": {},
   "outputs": [],
   "source": [
    "from result_saver import SaverProvider\n",
    "\n",
    "provider = SaverProvider()"
   ]
  },
  {
   "cell_type": "code",
   "execution_count": null,
   "metadata": {},
   "outputs": [
    {
     "name": "stdout",
     "output_type": "stream",
     "text": [
      "(0, 18)\n"
     ]
    },
    {
     "data": {
      "text/html": [
       "<div>\n",
       "<style scoped>\n",
       "    .dataframe tbody tr th:only-of-type {\n",
       "        vertical-align: middle;\n",
       "    }\n",
       "\n",
       "    .dataframe tbody tr th {\n",
       "        vertical-align: top;\n",
       "    }\n",
       "\n",
       "    .dataframe thead th {\n",
       "        text-align: right;\n",
       "    }\n",
       "</style>\n",
       "<table border=\"1\" class=\"dataframe\">\n",
       "  <thead>\n",
       "    <tr style=\"text-align: right;\">\n",
       "      <th></th>\n",
       "      <th>creation_date</th>\n",
       "      <th>notebook_name</th>\n",
       "      <th>backend_name</th>\n",
       "      <th>job_id</th>\n",
       "      <th>tags</th>\n",
       "      <th>meas_level</th>\n",
       "      <th>shots</th>\n",
       "      <th>num_qubits</th>\n",
       "      <th>job_status</th>\n",
       "      <th>execution_date</th>\n",
       "      <th>code</th>\n",
       "      <th>distance</th>\n",
       "      <th>rounds</th>\n",
       "      <th>logical</th>\n",
       "      <th>descr</th>\n",
       "      <th>resets</th>\n",
       "      <th>xbasis</th>\n",
       "      <th>path_info</th>\n",
       "    </tr>\n",
       "  </thead>\n",
       "  <tbody>\n",
       "  </tbody>\n",
       "</table>\n",
       "</div>"
      ],
      "text/plain": [
       "Empty DataFrame\n",
       "Columns: [creation_date, notebook_name, backend_name, job_id, tags, meas_level, shots, num_qubits, job_status, execution_date, code, distance, rounds, logical, descr, resets, xbasis, path_info]\n",
       "Index: []"
      ]
     },
     "execution_count": 134,
     "metadata": {},
     "output_type": "execute_result"
    }
   ],
   "source": [
    "from Scratch import metadata_loader\n",
    "\n",
    "DEVICE = 'ibm_sherbrooke'\n",
    "LOGICAL = '0'\n",
    "XBASIS = False\n",
    "\n",
    "ROUNDS = 50\n",
    "RESETS = True\n",
    "\n",
    "\n",
    "md = metadata_loader(True, True)\n",
    "\n",
    "md = md[md[\"job_status\"] == \"JobStatus.DONE\"]\n",
    "md = md[md[\"code\"] == \"RepetitionCodeCircuit\"]\n",
    "# # md = md[md[\"descr\"] == 'subset RepCodes']\n",
    "md = md.dropna(subset=[\"rounds\"])\n",
    "md = md[md[\"meas_level\"] == 1]\n",
    "md['rounds'] = md['rounds'].astype(int)\n",
    "md['distance'] = md['distance'].astype(int)\n",
    "\n",
    "md = md[md[\"backend_name\"] == DEVICE]\n",
    "# md = md[md[\"logical\"] == LOGICAL]\n",
    "md = md[md[\"logical\"] == int(LOGICAL)]\n",
    "md = md[md[\"xbasis\"] == XBASIS]\n",
    "md = md[md[\"rounds\"] == ROUNDS]\n",
    "md = md[md[\"resets\"] == RESETS]\n",
    "\n",
    "md = md[md['notebook_name']=='Kyoto_retrieve_jobs.ipynb']\n",
    "\n",
    "\n",
    "print(md.shape)\n",
    "md[-1:]\n",
    "# md"
   ]
  },
  {
   "cell_type": "code",
   "execution_count": null,
   "metadata": {},
   "outputs": [
    {
     "ename": "IndexError",
     "evalue": "single positional indexer is out-of-bounds",
     "output_type": "error",
     "traceback": [
      "\u001b[0;31m---------------------------------------------------------------------------\u001b[0m",
      "\u001b[0;31mIndexError\u001b[0m                                Traceback (most recent call last)",
      "Cell \u001b[0;32mIn[135], line 3\u001b[0m\n\u001b[1;32m      1\u001b[0m md_loc \u001b[38;5;241m=\u001b[39m \u001b[38;5;241m0\u001b[39m\n\u001b[0;32m----> 3\u001b[0m job \u001b[38;5;241m=\u001b[39m provider\u001b[38;5;241m.\u001b[39mretrieve_job(\u001b[43mmd\u001b[49m\u001b[38;5;241;43m.\u001b[39;49m\u001b[43miloc\u001b[49m\u001b[43m[\u001b[49m\u001b[43mmd_loc\u001b[49m\u001b[43m]\u001b[49m[\u001b[38;5;124m\"\u001b[39m\u001b[38;5;124mjob_id\u001b[39m\u001b[38;5;124m\"\u001b[39m])\n",
      "File \u001b[0;32m~/.local/share/virtualenvs/Soft-Info-fMUpUe5a/lib/python3.11/site-packages/pandas/core/indexing.py:1153\u001b[0m, in \u001b[0;36m_LocationIndexer.__getitem__\u001b[0;34m(self, key)\u001b[0m\n\u001b[1;32m   1150\u001b[0m axis \u001b[38;5;241m=\u001b[39m \u001b[38;5;28mself\u001b[39m\u001b[38;5;241m.\u001b[39maxis \u001b[38;5;129;01mor\u001b[39;00m \u001b[38;5;241m0\u001b[39m\n\u001b[1;32m   1152\u001b[0m maybe_callable \u001b[38;5;241m=\u001b[39m com\u001b[38;5;241m.\u001b[39mapply_if_callable(key, \u001b[38;5;28mself\u001b[39m\u001b[38;5;241m.\u001b[39mobj)\n\u001b[0;32m-> 1153\u001b[0m \u001b[38;5;28;01mreturn\u001b[39;00m \u001b[38;5;28;43mself\u001b[39;49m\u001b[38;5;241;43m.\u001b[39;49m\u001b[43m_getitem_axis\u001b[49m\u001b[43m(\u001b[49m\u001b[43mmaybe_callable\u001b[49m\u001b[43m,\u001b[49m\u001b[43m \u001b[49m\u001b[43maxis\u001b[49m\u001b[38;5;241;43m=\u001b[39;49m\u001b[43maxis\u001b[49m\u001b[43m)\u001b[49m\n",
      "File \u001b[0;32m~/.local/share/virtualenvs/Soft-Info-fMUpUe5a/lib/python3.11/site-packages/pandas/core/indexing.py:1714\u001b[0m, in \u001b[0;36m_iLocIndexer._getitem_axis\u001b[0;34m(self, key, axis)\u001b[0m\n\u001b[1;32m   1711\u001b[0m     \u001b[38;5;28;01mraise\u001b[39;00m \u001b[38;5;167;01mTypeError\u001b[39;00m(\u001b[38;5;124m\"\u001b[39m\u001b[38;5;124mCannot index by location index with a non-integer key\u001b[39m\u001b[38;5;124m\"\u001b[39m)\n\u001b[1;32m   1713\u001b[0m \u001b[38;5;66;03m# validate the location\u001b[39;00m\n\u001b[0;32m-> 1714\u001b[0m \u001b[38;5;28;43mself\u001b[39;49m\u001b[38;5;241;43m.\u001b[39;49m\u001b[43m_validate_integer\u001b[49m\u001b[43m(\u001b[49m\u001b[43mkey\u001b[49m\u001b[43m,\u001b[49m\u001b[43m \u001b[49m\u001b[43maxis\u001b[49m\u001b[43m)\u001b[49m\n\u001b[1;32m   1716\u001b[0m \u001b[38;5;28;01mreturn\u001b[39;00m \u001b[38;5;28mself\u001b[39m\u001b[38;5;241m.\u001b[39mobj\u001b[38;5;241m.\u001b[39m_ixs(key, axis\u001b[38;5;241m=\u001b[39maxis)\n",
      "File \u001b[0;32m~/.local/share/virtualenvs/Soft-Info-fMUpUe5a/lib/python3.11/site-packages/pandas/core/indexing.py:1647\u001b[0m, in \u001b[0;36m_iLocIndexer._validate_integer\u001b[0;34m(self, key, axis)\u001b[0m\n\u001b[1;32m   1645\u001b[0m len_axis \u001b[38;5;241m=\u001b[39m \u001b[38;5;28mlen\u001b[39m(\u001b[38;5;28mself\u001b[39m\u001b[38;5;241m.\u001b[39mobj\u001b[38;5;241m.\u001b[39m_get_axis(axis))\n\u001b[1;32m   1646\u001b[0m \u001b[38;5;28;01mif\u001b[39;00m key \u001b[38;5;241m>\u001b[39m\u001b[38;5;241m=\u001b[39m len_axis \u001b[38;5;129;01mor\u001b[39;00m key \u001b[38;5;241m<\u001b[39m \u001b[38;5;241m-\u001b[39mlen_axis:\n\u001b[0;32m-> 1647\u001b[0m     \u001b[38;5;28;01mraise\u001b[39;00m \u001b[38;5;167;01mIndexError\u001b[39;00m(\u001b[38;5;124m\"\u001b[39m\u001b[38;5;124msingle positional indexer is out-of-bounds\u001b[39m\u001b[38;5;124m\"\u001b[39m)\n",
      "\u001b[0;31mIndexError\u001b[0m: single positional indexer is out-of-bounds"
     ]
    }
   ],
   "source": [
    "md_loc = 0\n",
    "\n",
    "job = provider.retrieve_job(md.iloc[md_loc][\"job_id\"])"
   ]
  },
  {
   "cell_type": "code",
   "execution_count": null,
   "metadata": {},
   "outputs": [
    {
     "name": "stdout",
     "output_type": "stream",
     "text": [
      "2500\n"
     ]
    },
    {
     "data": {
      "text/plain": [
       "(1569, 2500)"
      ]
     },
     "execution_count": 124,
     "metadata": {},
     "output_type": "execute_result"
    }
   ],
   "source": [
    "DISTANCE = md.iloc[md_loc][\"distance\"]\n",
    "RESETS = False\n",
    "\n",
    "mmr = job.result().get_memory()\n",
    "\n",
    "print((DISTANCE-1)*ROUNDS + DISTANCE)\n",
    "mmr.shape"
   ]
  },
  {
   "cell_type": "code",
   "execution_count": null,
   "metadata": {},
   "outputs": [
    {
     "name": "stdout",
     "output_type": "stream",
     "text": [
      "1818717 2103783\n",
      "number of 1s: 1818717\n",
      "number of 0s: 2103783\n",
      "total number of elements: 3922500\n"
     ]
    }
   ],
   "source": [
    "import numpy as np\n",
    "\n",
    "# put a 1 where the real part of mmr is > 0 and 0 otherwise\n",
    "countMat = np.where(np.real(mmr)>0, 1, 0)\n",
    "\n",
    "# Print the number of ones vs the number of zeros\n",
    "print(np.sum(countMat), countMat.size - np.sum(countMat))\n",
    "print(f\"number of 1s: {np.sum(countMat)}\")\n",
    "print(f\"number of 0s: {countMat.size - np.sum(countMat)}\")\n",
    "print(f\"total number of elements: {countMat.size}\")"
   ]
  },
  {
   "cell_type": "code",
   "execution_count": null,
   "metadata": {},
   "outputs": [
    {
     "name": "stdout",
     "output_type": "stream",
     "text": [
      "[0 0 0 1]\n"
     ]
    }
   ],
   "source": [
    "arr = np.array([-1, -1, -1 , 1])\n",
    "count = np.where(np.real(arr)>0, 1, 0)\n",
    "\n",
    "print(count)"
   ]
  },
  {
   "cell_type": "markdown",
   "metadata": {},
   "source": [
    "# Decode counts"
   ]
  },
  {
   "cell_type": "code",
   "execution_count": null,
   "metadata": {},
   "outputs": [],
   "source": [
    "import pymatching\n",
    "import stim\n",
    "from soft_info import RepetitionCodeStimCircuit\n",
    "\n",
    "# noise_list = [2e-2, 1e-3, 1e-2, 1e-2, 2e-2, 1e-2, 1e-2]\n",
    "# noise_list = [1e-2]*7\n",
    "# code = RepetitionCodeStimCircuit(DISTANCE, ROUNDS, XBASIS, resets=RESETS, noise_list=noise_list)\n",
    "\n",
    "# stim_circ = code.circuits[LOGICAL]\n",
    "\n",
    "stim_circ = stim.Circuit.generated(\"repetition_code:memory\",\n",
    "                                distance=DISTANCE,\n",
    "                                rounds=ROUNDS,\n",
    "                                after_clifford_depolarization=1e-2, #two-qubit-fidelity,\n",
    "                                after_reset_flip_probability=45e-2, #reset error,\n",
    "                                before_measure_flip_probability=3e-2, #measurement error,\n",
    "                                before_round_data_depolarization=1e-2) #idle error)\n",
    "\n",
    "\n",
    "matching = pymatching.Matching.from_detector_error_model(stim_circ.detector_error_model())"
   ]
  },
  {
   "cell_type": "code",
   "execution_count": null,
   "metadata": {},
   "outputs": [
    {
     "name": "stderr",
     "output_type": "stream",
     "text": [
      "  0%|          | 0/1569 [00:00<?, ?it/s]"
     ]
    },
    {
     "name": "stderr",
     "output_type": "stream",
     "text": [
      "100%|██████████| 1569/1569 [00:07<00:00, 219.21it/s]"
     ]
    },
    {
     "name": "stdout",
     "output_type": "stream",
     "text": [
      "\n",
      "state Z1 50\n",
      "num_errors: 15 out of 1569\n"
     ]
    },
    {
     "name": "stderr",
     "output_type": "stream",
     "text": [
      "\n"
     ]
    }
   ],
   "source": [
    "from tqdm import tqdm\n",
    "from soft_info import counts_to_det_syndr\n",
    "\n",
    "def countrow_to_count_str(countrow):\n",
    "    count_str = ''\n",
    "    for idx, i in enumerate(countrow):\n",
    "        if i == 1:\n",
    "            bit = '1'\n",
    "        else:\n",
    "            bit = '0'\n",
    "        \n",
    "        if (idx+1) % (DISTANCE-1) == 0 and idx <= (DISTANCE-1)*ROUNDS:\n",
    "            count_str += bit + ' '\n",
    "        else:\n",
    "            count_str += bit\n",
    "\n",
    "    # invert the count string\n",
    "    count_str = count_str[::-1]\n",
    "\n",
    "    return count_str\n",
    "\n",
    "num_errors = 0\n",
    "count_key_first = []\n",
    "for countrow in tqdm(countMat):\n",
    "    count_key = countrow_to_count_str(countrow)\n",
    "\n",
    "    array_processed_str = counts_to_det_syndr(count_key, _resets=RESETS)\n",
    "\n",
    "    predicted_observable = matching.decode(array_processed_str)\n",
    "\n",
    "    count_key_first.append(count_key[0])\n",
    "    actual_observable = [(int(count_key[0])+int(LOGICAL))%2]\n",
    "    # actual_observable = [(int(count_key[0])+1)%2]\n",
    "\n",
    "    if actual_observable != predicted_observable:\n",
    "        num_errors += 1\n",
    "\n",
    "state = 'X' if XBASIS else 'Z'\n",
    "state += f\"{LOGICAL} {ROUNDS}\"\n",
    "print(f\"\\nstate {state}\")\n",
    "print(f\"num_errors: {num_errors} out of {countMat.shape[0]}\")\n"
   ]
  },
  {
   "cell_type": "code",
   "execution_count": null,
   "metadata": {},
   "outputs": [
    {
     "name": "stdout",
     "output_type": "stream",
     "text": [
      "1501\n",
      "1569\n"
     ]
    }
   ],
   "source": [
    "print(np.sum(countMat[:, -1]))\n",
    "print(len(countMat))"
   ]
  },
  {
   "cell_type": "code",
   "execution_count": null,
   "metadata": {},
   "outputs": [
    {
     "data": {
      "text/html": [
       "<pre style=\"word-wrap: normal;white-space: pre;background: #fff0;line-height: 1.1;font-family: &quot;Courier New&quot;,Courier,monospace\">                    ┌───┐     ┌───┐     ┌─┐          ┌───┐     ┌───┐        ┌─┐         \n",
       "      link_qubit_0: ┤ X ├─────┤ X ├─────┤M├─|0>──────┤ X ├─────┤ X ├────────┤M├─────────\n",
       "                    └─┬─┘┌───┐└─┬─┘┌───┐└╥┘ ┌─┐      └─┬─┘┌───┐└─┬─┘┌───┐   └╥┘┌─┐      \n",
       "      link_qubit_1: ──┼──┤ X ├──┼──┤ X ├─╫──┤M├──|0>───┼──┤ X ├──┼──┤ X ├────╫─┤M├──────\n",
       "                      │  └─┬─┘  │  └─┬─┘ ║  └╥┘        │  └─┬─┘  │  └─┬─┘┌─┐ ║ └╥┘      \n",
       "      code_qubit_0: ──■────┼────┼────┼───╫───╫─────────■────┼────┼────┼──┤M├─╫──╫───────\n",
       "                           │    │    │   ║   ║              │    │    │  └╥┘ ║  ║ ┌─┐   \n",
       "      code_qubit_1: ───────■────■────┼───╫───╫──────────────■────■────┼───╫──╫──╫─┤M├───\n",
       "                                     │   ║   ║                        │   ║  ║  ║ └╥┘┌─┐\n",
       "      code_qubit_2: ─────────────────■───╫───╫────────────────────────■───╫──╫──╫──╫─┤M├\n",
       "                                         ║   ║                            ║  ║  ║  ║ └╥┘\n",
       "round_0_link_bit: 2/═════════════════════╩═══╩════════════════════════════╬══╬══╬══╬══╬═\n",
       "                                         0   1                            ║  ║  ║  ║  ║ \n",
       "round_1_link_bit: 2/══════════════════════════════════════════════════════╬══╩══╩══╬══╬═\n",
       "                                                                          ║  0  1  ║  ║ \n",
       "        code_bit: 3/══════════════════════════════════════════════════════╩════════╩══╩═\n",
       "                                                                          0        1  2 </pre>"
      ],
      "text/plain": [
       "                    ┌───┐     ┌───┐     ┌─┐          ┌───┐     ┌───┐        ┌─┐         \n",
       "      link_qubit_0: ┤ X ├─────┤ X ├─────┤M├─|0>──────┤ X ├─────┤ X ├────────┤M├─────────\n",
       "                    └─┬─┘┌───┐└─┬─┘┌───┐└╥┘ ┌─┐      └─┬─┘┌───┐└─┬─┘┌───┐   └╥┘┌─┐      \n",
       "      link_qubit_1: ──┼──┤ X ├──┼──┤ X ├─╫──┤M├──|0>───┼──┤ X ├──┼──┤ X ├────╫─┤M├──────\n",
       "                      │  └─┬─┘  │  └─┬─┘ ║  └╥┘        │  └─┬─┘  │  └─┬─┘┌─┐ ║ └╥┘      \n",
       "      code_qubit_0: ──■────┼────┼────┼───╫───╫─────────■────┼────┼────┼──┤M├─╫──╫───────\n",
       "                           │    │    │   ║   ║              │    │    │  └╥┘ ║  ║ ┌─┐   \n",
       "      code_qubit_1: ───────■────■────┼───╫───╫──────────────■────■────┼───╫──╫──╫─┤M├───\n",
       "                                     │   ║   ║                        │   ║  ║  ║ └╥┘┌─┐\n",
       "      code_qubit_2: ─────────────────■───╫───╫────────────────────────■───╫──╫──╫──╫─┤M├\n",
       "                                         ║   ║                            ║  ║  ║  ║ └╥┘\n",
       "round_0_link_bit: 2/═════════════════════╩═══╩════════════════════════════╬══╬══╬══╬══╬═\n",
       "                                         0   1                            ║  ║  ║  ║  ║ \n",
       "round_1_link_bit: 2/══════════════════════════════════════════════════════╬══╩══╩══╬══╬═\n",
       "                                                                          ║  0  1  ║  ║ \n",
       "        code_bit: 3/══════════════════════════════════════════════════════╩════════╩══╩═\n",
       "                                                                          0        1  2 "
      ]
     },
     "execution_count": 137,
     "metadata": {},
     "output_type": "execute_result"
    }
   ],
   "source": [
    "from qiskit_qec.circuits import RepetitionCodeCircuit\n",
    "\n",
    "code = RepetitionCodeCircuit(3, 2, xbasis=XBASIS, resets=RESETS)\n",
    "qc = code.circuit[LOGICAL]\n",
    "\n",
    "qc.draw(fold=-1)"
   ]
  },
  {
   "cell_type": "code",
   "execution_count": null,
   "metadata": {},
   "outputs": [],
   "source": []
  },
  {
   "cell_type": "code",
   "execution_count": null,
   "metadata": {},
   "outputs": [],
   "source": []
  }
 ],
 "metadata": {
  "kernelspec": {
   "display_name": "Soft-Info-fMUpUe5a",
   "language": "python",
   "name": "python3"
  },
  "language_info": {
   "codemirror_mode": {
    "name": "ipython",
    "version": 3
   },
   "file_extension": ".py",
   "mimetype": "text/x-python",
   "name": "python",
   "nbconvert_exporter": "python",
   "pygments_lexer": "ipython3",
   "version": "3.11.4"
  }
 },
 "nbformat": 4,
 "nbformat_minor": 2
}
