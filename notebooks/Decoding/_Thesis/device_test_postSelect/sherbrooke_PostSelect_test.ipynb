{
 "cells": [
  {
   "cell_type": "code",
   "execution_count": 1,
   "metadata": {},
   "outputs": [],
   "source": [
    "%reload_ext autoreload\n",
    "%autoreload 2"
   ]
  },
  {
   "cell_type": "markdown",
   "metadata": {},
   "source": [
    "# Load the data"
   ]
  },
  {
   "cell_type": "code",
   "execution_count": 2,
   "metadata": {},
   "outputs": [],
   "source": [
    "from result_saver import SaverProvider\n",
    "provider = SaverProvider()"
   ]
  },
  {
   "cell_type": "code",
   "execution_count": 3,
   "metadata": {},
   "outputs": [
    {
     "name": "stdout",
     "output_type": "stream",
     "text": [
      "state = X1\n",
      "shape: (1, 18)\n"
     ]
    },
    {
     "data": {
      "text/html": [
       "<div>\n",
       "<style scoped>\n",
       "    .dataframe tbody tr th:only-of-type {\n",
       "        vertical-align: middle;\n",
       "    }\n",
       "\n",
       "    .dataframe tbody tr th {\n",
       "        vertical-align: top;\n",
       "    }\n",
       "\n",
       "    .dataframe thead th {\n",
       "        text-align: right;\n",
       "    }\n",
       "</style>\n",
       "<table border=\"1\" class=\"dataframe\">\n",
       "  <thead>\n",
       "    <tr style=\"text-align: right;\">\n",
       "      <th></th>\n",
       "      <th>creation_date</th>\n",
       "      <th>notebook_name</th>\n",
       "      <th>backend_name</th>\n",
       "      <th>job_id</th>\n",
       "      <th>tags</th>\n",
       "      <th>meas_level</th>\n",
       "      <th>shots</th>\n",
       "      <th>num_qubits</th>\n",
       "      <th>job_status</th>\n",
       "      <th>execution_date</th>\n",
       "      <th>code</th>\n",
       "      <th>distance</th>\n",
       "      <th>rounds</th>\n",
       "      <th>logical</th>\n",
       "      <th>descr</th>\n",
       "      <th>resets</th>\n",
       "      <th>xbasis</th>\n",
       "      <th>path_info</th>\n",
       "    </tr>\n",
       "  </thead>\n",
       "  <tbody>\n",
       "    <tr>\n",
       "      <th>5114</th>\n",
       "      <td>2024-03-23 14:14:43.354000+01:00</td>\n",
       "      <td>Sherbrooke_RepCodes_jobs</td>\n",
       "      <td>ibm_sherbrooke</td>\n",
       "      <td>cqzdbgydvs8g008j69y0</td>\n",
       "      <td>[Subset 52, 50 rounds, 1 log, xbasis=True]</td>\n",
       "      <td>1.0</td>\n",
       "      <td>1507.0</td>\n",
       "      <td>NaN</td>\n",
       "      <td>JobStatus.DONE</td>\n",
       "      <td>2024-03-23 15:55:36.002897+01:00</td>\n",
       "      <td>RepetitionCodeCircuit</td>\n",
       "      <td>52</td>\n",
       "      <td>50</td>\n",
       "      <td>1</td>\n",
       "      <td>subset RepCodes</td>\n",
       "      <td>NaN</td>\n",
       "      <td>True</td>\n",
       "      <td>{'mean_gate_error': 0.007733045348037, 'min_ga...</td>\n",
       "    </tr>\n",
       "  </tbody>\n",
       "</table>\n",
       "</div>"
      ],
      "text/plain": [
       "                         creation_date             notebook_name  \\\n",
       "5114  2024-03-23 14:14:43.354000+01:00  Sherbrooke_RepCodes_jobs   \n",
       "\n",
       "        backend_name                job_id  \\\n",
       "5114  ibm_sherbrooke  cqzdbgydvs8g008j69y0   \n",
       "\n",
       "                                            tags  meas_level   shots  \\\n",
       "5114  [Subset 52, 50 rounds, 1 log, xbasis=True]         1.0  1507.0   \n",
       "\n",
       "      num_qubits      job_status                    execution_date  \\\n",
       "5114         NaN  JobStatus.DONE  2024-03-23 15:55:36.002897+01:00   \n",
       "\n",
       "                       code  distance  rounds logical            descr resets  \\\n",
       "5114  RepetitionCodeCircuit        52      50       1  subset RepCodes    NaN   \n",
       "\n",
       "     xbasis                                          path_info  \n",
       "5114   True  {'mean_gate_error': 0.007733045348037, 'min_ga...  "
      ]
     },
     "execution_count": 3,
     "metadata": {},
     "output_type": "execute_result"
    }
   ],
   "source": [
    "from Scratch import metadata_loader\n",
    "import numpy as np\n",
    "from tqdm import tqdm\n",
    "from time import sleep\n",
    "\n",
    "DEVICE = \"ibm_sherbrooke\"\n",
    "LOGICAL = str(1)\n",
    "XBASIS = True\n",
    "ROUNDS = 50\n",
    "\n",
    "state = \"X\" if XBASIS else \"Z\"\n",
    "state += LOGICAL\n",
    "print(f\"state = {state}\")\n",
    "\n",
    "\n",
    "# Load the metadata\n",
    "while True:\n",
    "    try:\n",
    "        md = metadata_loader(True, True)\n",
    "        break\n",
    "    except:\n",
    "        sleep(5)\n",
    "md = md[md[\"job_status\"] == \"JobStatus.DONE\"]\n",
    "md = md[md[\"code\"] == \"RepetitionCodeCircuit\"]\n",
    "md = md[md[\"descr\"] == 'subset RepCodes']\n",
    "md = md.dropna(subset=[\"rounds\"])\n",
    "md = md[md[\"meas_level\"] == 1]\n",
    "md['rounds'] = md['rounds'].astype(int)\n",
    "md['distance'] = md['distance'].astype(int)\n",
    "\n",
    "md = md[md[\"backend_name\"] == DEVICE]\n",
    "md = md[md[\"logical\"] == LOGICAL]\n",
    "md = md[md[\"xbasis\"] == XBASIS]\n",
    "md = md[md[\"rounds\"] == ROUNDS]\n",
    "\n",
    "md = md[0:1]\n",
    "print(\"shape:\", md.shape)\n",
    "# md[18:]\n",
    "md"
   ]
  },
  {
   "cell_type": "markdown",
   "metadata": {},
   "source": [
    "# Take single job"
   ]
  },
  {
   "cell_type": "code",
   "execution_count": 4,
   "metadata": {},
   "outputs": [
    {
     "name": "stdout",
     "output_type": "stream",
     "text": [
      "nb of shots: 1507\n"
     ]
    }
   ],
   "source": [
    "job_id = md[\"job_id\"].values[0]\n",
    "d = md[\"distance\"].values[0]\n",
    "T = md[\"rounds\"].values[0]\n",
    "\n",
    "job = provider.retrieve_job(job_id)\n",
    "memory = job.result().get_memory()\n",
    "\n",
    "print(f\"nb of shots: {len(memory)}\")"
   ]
  },
  {
   "cell_type": "markdown",
   "metadata": {},
   "source": [
    "# Get needed decoding objects"
   ]
  },
  {
   "cell_type": "code",
   "execution_count": 5,
   "metadata": {},
   "outputs": [
    {
     "name": "stdout",
     "output_type": "stream",
     "text": [
      "Specified job execution date: 2024-03-23 15:55:36.002897+01:00\n",
      "Found jobs for backend ibm_sherbrooke with closest execution date 2024-03-23 14:56:07.669856+00:00.\n",
      "Specified job execution date: 2024-03-23 15:55:36.002897+01:00\n",
      "Found jobs for backend ibm_sherbrooke with closest execution date 2024-03-23 14:56:37.347221+00:00.\n"
     ]
    }
   ],
   "source": [
    "from soft_info import load_calibration_memory\n",
    "import cpp_soft_info as csi\n",
    "\n",
    "lin = [0.6, 1.2, 1]\n",
    "num_points = 20\n",
    "bandwidths = np.linspace(lin[0], lin[1], lin[2])\n",
    "rel_error = 1\n",
    "\n",
    "all_memories, gmm_dict, _ = load_calibration_memory(provider, tobecalib_job=job_id, \n",
    "                                             double_msmt=False, post_process=True)\n",
    "kde_dict = csi.get_KDEs(all_memories, bandwidths, relError=rel_error, absError=-1, num_points=num_points)\n",
    "\n",
    "\n",
    "all_memories_PS, _, msmt_err_dict_PS = load_calibration_memory(provider, tobecalib_job=job_id, \n",
    "                                                         double_msmt=True, post_process=True)\n",
    "kde_dict_PS = csi.get_KDEs(all_memories_PS, bandwidths, relError=rel_error, absError=-1, num_points=num_points)\n"
   ]
  },
  {
   "cell_type": "code",
   "execution_count": 6,
   "metadata": {},
   "outputs": [
    {
     "name": "stdout",
     "output_type": "stream",
     "text": [
      "dict_keys(['mmr_0', 'mmr_1'])\n",
      "dict_keys(['mmr_0', 'mmr_1', 'mmr_0_scnd', 'mmr_1_scnd'])\n"
     ]
    }
   ],
   "source": [
    "print(all_memories[0].keys())\n",
    "print(all_memories_PS[0].keys())"
   ]
  },
  {
   "cell_type": "code",
   "execution_count": 7,
   "metadata": {},
   "outputs": [
    {
     "name": "stdout",
     "output_type": "stream",
     "text": [
      "p_soft_mean = 0.008409516819033635\n",
      "p_hard_mean = 0.021719793439586875\n"
     ]
    }
   ],
   "source": [
    "# Get the msmt errors\n",
    "p_soft_mean = 0\n",
    "p_hard_mean = 0\n",
    "for key, value in msmt_err_dict_PS.items():\n",
    "    p_soft_mean += value['p_soft']\n",
    "    p_hard_mean += value['p_hard']\n",
    "p_soft_mean /= len(msmt_err_dict_PS)\n",
    "p_hard_mean /= len(msmt_err_dict_PS)\n",
    "\n",
    "print(f\"p_soft_mean = {p_soft_mean}\")\n",
    "print(f\"p_hard_mean = {p_hard_mean}\")"
   ]
  },
  {
   "cell_type": "code",
   "execution_count": 8,
   "metadata": {},
   "outputs": [
    {
     "name": "stdout",
     "output_type": "stream",
     "text": [
      "[23, 25, 27, 35, 48, 50, 36, 31, 17, 11, 9, 7, 5, 3, 1, 14, 19, 33, 40, 42, 44, 54, 65, 67, 69, 74, 88, 86, 84, 92, 103, 105, 107, 112, 125, 123, 121, 119, 110, 99, 91, 80, 72, 61, 59, 71, 76, 90, 95, 109, 115, 22, 24, 26, 28, 47, 49, 51, 32, 30, 12, 10, 8, 6, 4, 2, 0, 18, 20, 39, 41, 43, 45, 64, 66, 68, 70, 89, 87, 85, 83, 102, 104, 106, 108, 126, 124, 122, 120, 118, 100, 98, 79, 81, 62, 60, 58, 77, 75, 94, 96, 114, 116]\n",
      "{23: [0, 51, 102, 153, 204, 255, 306, 357, 408, 459, 510, 561, 612, 663, 714, 765, 816, 867, 918, 969, 1020, 1071, 1122, 1173, 1224, 1275, 1326, 1377, 1428, 1479, 1530, 1581, 1632, 1683, 1734, 1785, 1836, 1887, 1938, 1989, 2040, 2091, 2142, 2193, 2244, 2295, 2346, 2397, 2448, 2499], 25: [1, 52, 103, 154, 205, 256, 307, 358, 409, 460, 511, 562, 613, 664, 715, 766, 817, 868, 919, 970, 1021, 1072, 1123, 1174, 1225, 1276, 1327, 1378, 1429, 1480, 1531, 1582, 1633, 1684, 1735, 1786, 1837, 1888, 1939, 1990, 2041, 2092, 2143, 2194, 2245, 2296, 2347, 2398, 2449, 2500], 27: [2, 53, 104, 155, 206, 257, 308, 359, 410, 461, 512, 563, 614, 665, 716, 767, 818, 869, 920, 971, 1022, 1073, 1124, 1175, 1226, 1277, 1328, 1379, 1430, 1481, 1532, 1583, 1634, 1685, 1736, 1787, 1838, 1889, 1940, 1991, 2042, 2093, 2144, 2195, 2246, 2297, 2348, 2399, 2450, 2501], 35: [3, 54, 105, 156, 207, 258, 309, 360, 411, 462, 513, 564, 615, 666, 717, 768, 819, 870, 921, 972, 1023, 1074, 1125, 1176, 1227, 1278, 1329, 1380, 1431, 1482, 1533, 1584, 1635, 1686, 1737, 1788, 1839, 1890, 1941, 1992, 2043, 2094, 2145, 2196, 2247, 2298, 2349, 2400, 2451, 2502], 48: [4, 55, 106, 157, 208, 259, 310, 361, 412, 463, 514, 565, 616, 667, 718, 769, 820, 871, 922, 973, 1024, 1075, 1126, 1177, 1228, 1279, 1330, 1381, 1432, 1483, 1534, 1585, 1636, 1687, 1738, 1789, 1840, 1891, 1942, 1993, 2044, 2095, 2146, 2197, 2248, 2299, 2350, 2401, 2452, 2503], 50: [5, 56, 107, 158, 209, 260, 311, 362, 413, 464, 515, 566, 617, 668, 719, 770, 821, 872, 923, 974, 1025, 1076, 1127, 1178, 1229, 1280, 1331, 1382, 1433, 1484, 1535, 1586, 1637, 1688, 1739, 1790, 1841, 1892, 1943, 1994, 2045, 2096, 2147, 2198, 2249, 2300, 2351, 2402, 2453, 2504], 36: [6, 57, 108, 159, 210, 261, 312, 363, 414, 465, 516, 567, 618, 669, 720, 771, 822, 873, 924, 975, 1026, 1077, 1128, 1179, 1230, 1281, 1332, 1383, 1434, 1485, 1536, 1587, 1638, 1689, 1740, 1791, 1842, 1893, 1944, 1995, 2046, 2097, 2148, 2199, 2250, 2301, 2352, 2403, 2454, 2505], 31: [7, 58, 109, 160, 211, 262, 313, 364, 415, 466, 517, 568, 619, 670, 721, 772, 823, 874, 925, 976, 1027, 1078, 1129, 1180, 1231, 1282, 1333, 1384, 1435, 1486, 1537, 1588, 1639, 1690, 1741, 1792, 1843, 1894, 1945, 1996, 2047, 2098, 2149, 2200, 2251, 2302, 2353, 2404, 2455, 2506], 17: [8, 59, 110, 161, 212, 263, 314, 365, 416, 467, 518, 569, 620, 671, 722, 773, 824, 875, 926, 977, 1028, 1079, 1130, 1181, 1232, 1283, 1334, 1385, 1436, 1487, 1538, 1589, 1640, 1691, 1742, 1793, 1844, 1895, 1946, 1997, 2048, 2099, 2150, 2201, 2252, 2303, 2354, 2405, 2456, 2507], 11: [9, 60, 111, 162, 213, 264, 315, 366, 417, 468, 519, 570, 621, 672, 723, 774, 825, 876, 927, 978, 1029, 1080, 1131, 1182, 1233, 1284, 1335, 1386, 1437, 1488, 1539, 1590, 1641, 1692, 1743, 1794, 1845, 1896, 1947, 1998, 2049, 2100, 2151, 2202, 2253, 2304, 2355, 2406, 2457, 2508], 9: [10, 61, 112, 163, 214, 265, 316, 367, 418, 469, 520, 571, 622, 673, 724, 775, 826, 877, 928, 979, 1030, 1081, 1132, 1183, 1234, 1285, 1336, 1387, 1438, 1489, 1540, 1591, 1642, 1693, 1744, 1795, 1846, 1897, 1948, 1999, 2050, 2101, 2152, 2203, 2254, 2305, 2356, 2407, 2458, 2509], 7: [11, 62, 113, 164, 215, 266, 317, 368, 419, 470, 521, 572, 623, 674, 725, 776, 827, 878, 929, 980, 1031, 1082, 1133, 1184, 1235, 1286, 1337, 1388, 1439, 1490, 1541, 1592, 1643, 1694, 1745, 1796, 1847, 1898, 1949, 2000, 2051, 2102, 2153, 2204, 2255, 2306, 2357, 2408, 2459, 2510], 5: [12, 63, 114, 165, 216, 267, 318, 369, 420, 471, 522, 573, 624, 675, 726, 777, 828, 879, 930, 981, 1032, 1083, 1134, 1185, 1236, 1287, 1338, 1389, 1440, 1491, 1542, 1593, 1644, 1695, 1746, 1797, 1848, 1899, 1950, 2001, 2052, 2103, 2154, 2205, 2256, 2307, 2358, 2409, 2460, 2511], 3: [13, 64, 115, 166, 217, 268, 319, 370, 421, 472, 523, 574, 625, 676, 727, 778, 829, 880, 931, 982, 1033, 1084, 1135, 1186, 1237, 1288, 1339, 1390, 1441, 1492, 1543, 1594, 1645, 1696, 1747, 1798, 1849, 1900, 1951, 2002, 2053, 2104, 2155, 2206, 2257, 2308, 2359, 2410, 2461, 2512], 1: [14, 65, 116, 167, 218, 269, 320, 371, 422, 473, 524, 575, 626, 677, 728, 779, 830, 881, 932, 983, 1034, 1085, 1136, 1187, 1238, 1289, 1340, 1391, 1442, 1493, 1544, 1595, 1646, 1697, 1748, 1799, 1850, 1901, 1952, 2003, 2054, 2105, 2156, 2207, 2258, 2309, 2360, 2411, 2462, 2513], 14: [15, 66, 117, 168, 219, 270, 321, 372, 423, 474, 525, 576, 627, 678, 729, 780, 831, 882, 933, 984, 1035, 1086, 1137, 1188, 1239, 1290, 1341, 1392, 1443, 1494, 1545, 1596, 1647, 1698, 1749, 1800, 1851, 1902, 1953, 2004, 2055, 2106, 2157, 2208, 2259, 2310, 2361, 2412, 2463, 2514], 19: [16, 67, 118, 169, 220, 271, 322, 373, 424, 475, 526, 577, 628, 679, 730, 781, 832, 883, 934, 985, 1036, 1087, 1138, 1189, 1240, 1291, 1342, 1393, 1444, 1495, 1546, 1597, 1648, 1699, 1750, 1801, 1852, 1903, 1954, 2005, 2056, 2107, 2158, 2209, 2260, 2311, 2362, 2413, 2464, 2515], 33: [17, 68, 119, 170, 221, 272, 323, 374, 425, 476, 527, 578, 629, 680, 731, 782, 833, 884, 935, 986, 1037, 1088, 1139, 1190, 1241, 1292, 1343, 1394, 1445, 1496, 1547, 1598, 1649, 1700, 1751, 1802, 1853, 1904, 1955, 2006, 2057, 2108, 2159, 2210, 2261, 2312, 2363, 2414, 2465, 2516], 40: [18, 69, 120, 171, 222, 273, 324, 375, 426, 477, 528, 579, 630, 681, 732, 783, 834, 885, 936, 987, 1038, 1089, 1140, 1191, 1242, 1293, 1344, 1395, 1446, 1497, 1548, 1599, 1650, 1701, 1752, 1803, 1854, 1905, 1956, 2007, 2058, 2109, 2160, 2211, 2262, 2313, 2364, 2415, 2466, 2517], 42: [19, 70, 121, 172, 223, 274, 325, 376, 427, 478, 529, 580, 631, 682, 733, 784, 835, 886, 937, 988, 1039, 1090, 1141, 1192, 1243, 1294, 1345, 1396, 1447, 1498, 1549, 1600, 1651, 1702, 1753, 1804, 1855, 1906, 1957, 2008, 2059, 2110, 2161, 2212, 2263, 2314, 2365, 2416, 2467, 2518], 44: [20, 71, 122, 173, 224, 275, 326, 377, 428, 479, 530, 581, 632, 683, 734, 785, 836, 887, 938, 989, 1040, 1091, 1142, 1193, 1244, 1295, 1346, 1397, 1448, 1499, 1550, 1601, 1652, 1703, 1754, 1805, 1856, 1907, 1958, 2009, 2060, 2111, 2162, 2213, 2264, 2315, 2366, 2417, 2468, 2519], 54: [21, 72, 123, 174, 225, 276, 327, 378, 429, 480, 531, 582, 633, 684, 735, 786, 837, 888, 939, 990, 1041, 1092, 1143, 1194, 1245, 1296, 1347, 1398, 1449, 1500, 1551, 1602, 1653, 1704, 1755, 1806, 1857, 1908, 1959, 2010, 2061, 2112, 2163, 2214, 2265, 2316, 2367, 2418, 2469, 2520], 65: [22, 73, 124, 175, 226, 277, 328, 379, 430, 481, 532, 583, 634, 685, 736, 787, 838, 889, 940, 991, 1042, 1093, 1144, 1195, 1246, 1297, 1348, 1399, 1450, 1501, 1552, 1603, 1654, 1705, 1756, 1807, 1858, 1909, 1960, 2011, 2062, 2113, 2164, 2215, 2266, 2317, 2368, 2419, 2470, 2521], 67: [23, 74, 125, 176, 227, 278, 329, 380, 431, 482, 533, 584, 635, 686, 737, 788, 839, 890, 941, 992, 1043, 1094, 1145, 1196, 1247, 1298, 1349, 1400, 1451, 1502, 1553, 1604, 1655, 1706, 1757, 1808, 1859, 1910, 1961, 2012, 2063, 2114, 2165, 2216, 2267, 2318, 2369, 2420, 2471, 2522], 69: [24, 75, 126, 177, 228, 279, 330, 381, 432, 483, 534, 585, 636, 687, 738, 789, 840, 891, 942, 993, 1044, 1095, 1146, 1197, 1248, 1299, 1350, 1401, 1452, 1503, 1554, 1605, 1656, 1707, 1758, 1809, 1860, 1911, 1962, 2013, 2064, 2115, 2166, 2217, 2268, 2319, 2370, 2421, 2472, 2523], 74: [25, 76, 127, 178, 229, 280, 331, 382, 433, 484, 535, 586, 637, 688, 739, 790, 841, 892, 943, 994, 1045, 1096, 1147, 1198, 1249, 1300, 1351, 1402, 1453, 1504, 1555, 1606, 1657, 1708, 1759, 1810, 1861, 1912, 1963, 2014, 2065, 2116, 2167, 2218, 2269, 2320, 2371, 2422, 2473, 2524], 88: [26, 77, 128, 179, 230, 281, 332, 383, 434, 485, 536, 587, 638, 689, 740, 791, 842, 893, 944, 995, 1046, 1097, 1148, 1199, 1250, 1301, 1352, 1403, 1454, 1505, 1556, 1607, 1658, 1709, 1760, 1811, 1862, 1913, 1964, 2015, 2066, 2117, 2168, 2219, 2270, 2321, 2372, 2423, 2474, 2525], 86: [27, 78, 129, 180, 231, 282, 333, 384, 435, 486, 537, 588, 639, 690, 741, 792, 843, 894, 945, 996, 1047, 1098, 1149, 1200, 1251, 1302, 1353, 1404, 1455, 1506, 1557, 1608, 1659, 1710, 1761, 1812, 1863, 1914, 1965, 2016, 2067, 2118, 2169, 2220, 2271, 2322, 2373, 2424, 2475, 2526], 84: [28, 79, 130, 181, 232, 283, 334, 385, 436, 487, 538, 589, 640, 691, 742, 793, 844, 895, 946, 997, 1048, 1099, 1150, 1201, 1252, 1303, 1354, 1405, 1456, 1507, 1558, 1609, 1660, 1711, 1762, 1813, 1864, 1915, 1966, 2017, 2068, 2119, 2170, 2221, 2272, 2323, 2374, 2425, 2476, 2527], 92: [29, 80, 131, 182, 233, 284, 335, 386, 437, 488, 539, 590, 641, 692, 743, 794, 845, 896, 947, 998, 1049, 1100, 1151, 1202, 1253, 1304, 1355, 1406, 1457, 1508, 1559, 1610, 1661, 1712, 1763, 1814, 1865, 1916, 1967, 2018, 2069, 2120, 2171, 2222, 2273, 2324, 2375, 2426, 2477, 2528], 103: [30, 81, 132, 183, 234, 285, 336, 387, 438, 489, 540, 591, 642, 693, 744, 795, 846, 897, 948, 999, 1050, 1101, 1152, 1203, 1254, 1305, 1356, 1407, 1458, 1509, 1560, 1611, 1662, 1713, 1764, 1815, 1866, 1917, 1968, 2019, 2070, 2121, 2172, 2223, 2274, 2325, 2376, 2427, 2478, 2529], 105: [31, 82, 133, 184, 235, 286, 337, 388, 439, 490, 541, 592, 643, 694, 745, 796, 847, 898, 949, 1000, 1051, 1102, 1153, 1204, 1255, 1306, 1357, 1408, 1459, 1510, 1561, 1612, 1663, 1714, 1765, 1816, 1867, 1918, 1969, 2020, 2071, 2122, 2173, 2224, 2275, 2326, 2377, 2428, 2479, 2530], 107: [32, 83, 134, 185, 236, 287, 338, 389, 440, 491, 542, 593, 644, 695, 746, 797, 848, 899, 950, 1001, 1052, 1103, 1154, 1205, 1256, 1307, 1358, 1409, 1460, 1511, 1562, 1613, 1664, 1715, 1766, 1817, 1868, 1919, 1970, 2021, 2072, 2123, 2174, 2225, 2276, 2327, 2378, 2429, 2480, 2531], 112: [33, 84, 135, 186, 237, 288, 339, 390, 441, 492, 543, 594, 645, 696, 747, 798, 849, 900, 951, 1002, 1053, 1104, 1155, 1206, 1257, 1308, 1359, 1410, 1461, 1512, 1563, 1614, 1665, 1716, 1767, 1818, 1869, 1920, 1971, 2022, 2073, 2124, 2175, 2226, 2277, 2328, 2379, 2430, 2481, 2532], 125: [34, 85, 136, 187, 238, 289, 340, 391, 442, 493, 544, 595, 646, 697, 748, 799, 850, 901, 952, 1003, 1054, 1105, 1156, 1207, 1258, 1309, 1360, 1411, 1462, 1513, 1564, 1615, 1666, 1717, 1768, 1819, 1870, 1921, 1972, 2023, 2074, 2125, 2176, 2227, 2278, 2329, 2380, 2431, 2482, 2533], 123: [35, 86, 137, 188, 239, 290, 341, 392, 443, 494, 545, 596, 647, 698, 749, 800, 851, 902, 953, 1004, 1055, 1106, 1157, 1208, 1259, 1310, 1361, 1412, 1463, 1514, 1565, 1616, 1667, 1718, 1769, 1820, 1871, 1922, 1973, 2024, 2075, 2126, 2177, 2228, 2279, 2330, 2381, 2432, 2483, 2534], 121: [36, 87, 138, 189, 240, 291, 342, 393, 444, 495, 546, 597, 648, 699, 750, 801, 852, 903, 954, 1005, 1056, 1107, 1158, 1209, 1260, 1311, 1362, 1413, 1464, 1515, 1566, 1617, 1668, 1719, 1770, 1821, 1872, 1923, 1974, 2025, 2076, 2127, 2178, 2229, 2280, 2331, 2382, 2433, 2484, 2535], 119: [37, 88, 139, 190, 241, 292, 343, 394, 445, 496, 547, 598, 649, 700, 751, 802, 853, 904, 955, 1006, 1057, 1108, 1159, 1210, 1261, 1312, 1363, 1414, 1465, 1516, 1567, 1618, 1669, 1720, 1771, 1822, 1873, 1924, 1975, 2026, 2077, 2128, 2179, 2230, 2281, 2332, 2383, 2434, 2485, 2536], 110: [38, 89, 140, 191, 242, 293, 344, 395, 446, 497, 548, 599, 650, 701, 752, 803, 854, 905, 956, 1007, 1058, 1109, 1160, 1211, 1262, 1313, 1364, 1415, 1466, 1517, 1568, 1619, 1670, 1721, 1772, 1823, 1874, 1925, 1976, 2027, 2078, 2129, 2180, 2231, 2282, 2333, 2384, 2435, 2486, 2537], 99: [39, 90, 141, 192, 243, 294, 345, 396, 447, 498, 549, 600, 651, 702, 753, 804, 855, 906, 957, 1008, 1059, 1110, 1161, 1212, 1263, 1314, 1365, 1416, 1467, 1518, 1569, 1620, 1671, 1722, 1773, 1824, 1875, 1926, 1977, 2028, 2079, 2130, 2181, 2232, 2283, 2334, 2385, 2436, 2487, 2538], 91: [40, 91, 142, 193, 244, 295, 346, 397, 448, 499, 550, 601, 652, 703, 754, 805, 856, 907, 958, 1009, 1060, 1111, 1162, 1213, 1264, 1315, 1366, 1417, 1468, 1519, 1570, 1621, 1672, 1723, 1774, 1825, 1876, 1927, 1978, 2029, 2080, 2131, 2182, 2233, 2284, 2335, 2386, 2437, 2488, 2539], 80: [41, 92, 143, 194, 245, 296, 347, 398, 449, 500, 551, 602, 653, 704, 755, 806, 857, 908, 959, 1010, 1061, 1112, 1163, 1214, 1265, 1316, 1367, 1418, 1469, 1520, 1571, 1622, 1673, 1724, 1775, 1826, 1877, 1928, 1979, 2030, 2081, 2132, 2183, 2234, 2285, 2336, 2387, 2438, 2489, 2540], 72: [42, 93, 144, 195, 246, 297, 348, 399, 450, 501, 552, 603, 654, 705, 756, 807, 858, 909, 960, 1011, 1062, 1113, 1164, 1215, 1266, 1317, 1368, 1419, 1470, 1521, 1572, 1623, 1674, 1725, 1776, 1827, 1878, 1929, 1980, 2031, 2082, 2133, 2184, 2235, 2286, 2337, 2388, 2439, 2490, 2541], 61: [43, 94, 145, 196, 247, 298, 349, 400, 451, 502, 553, 604, 655, 706, 757, 808, 859, 910, 961, 1012, 1063, 1114, 1165, 1216, 1267, 1318, 1369, 1420, 1471, 1522, 1573, 1624, 1675, 1726, 1777, 1828, 1879, 1930, 1981, 2032, 2083, 2134, 2185, 2236, 2287, 2338, 2389, 2440, 2491, 2542], 59: [44, 95, 146, 197, 248, 299, 350, 401, 452, 503, 554, 605, 656, 707, 758, 809, 860, 911, 962, 1013, 1064, 1115, 1166, 1217, 1268, 1319, 1370, 1421, 1472, 1523, 1574, 1625, 1676, 1727, 1778, 1829, 1880, 1931, 1982, 2033, 2084, 2135, 2186, 2237, 2288, 2339, 2390, 2441, 2492, 2543], 71: [45, 96, 147, 198, 249, 300, 351, 402, 453, 504, 555, 606, 657, 708, 759, 810, 861, 912, 963, 1014, 1065, 1116, 1167, 1218, 1269, 1320, 1371, 1422, 1473, 1524, 1575, 1626, 1677, 1728, 1779, 1830, 1881, 1932, 1983, 2034, 2085, 2136, 2187, 2238, 2289, 2340, 2391, 2442, 2493, 2544], 76: [46, 97, 148, 199, 250, 301, 352, 403, 454, 505, 556, 607, 658, 709, 760, 811, 862, 913, 964, 1015, 1066, 1117, 1168, 1219, 1270, 1321, 1372, 1423, 1474, 1525, 1576, 1627, 1678, 1729, 1780, 1831, 1882, 1933, 1984, 2035, 2086, 2137, 2188, 2239, 2290, 2341, 2392, 2443, 2494, 2545], 90: [47, 98, 149, 200, 251, 302, 353, 404, 455, 506, 557, 608, 659, 710, 761, 812, 863, 914, 965, 1016, 1067, 1118, 1169, 1220, 1271, 1322, 1373, 1424, 1475, 1526, 1577, 1628, 1679, 1730, 1781, 1832, 1883, 1934, 1985, 2036, 2087, 2138, 2189, 2240, 2291, 2342, 2393, 2444, 2495, 2546], 95: [48, 99, 150, 201, 252, 303, 354, 405, 456, 507, 558, 609, 660, 711, 762, 813, 864, 915, 966, 1017, 1068, 1119, 1170, 1221, 1272, 1323, 1374, 1425, 1476, 1527, 1578, 1629, 1680, 1731, 1782, 1833, 1884, 1935, 1986, 2037, 2088, 2139, 2190, 2241, 2292, 2343, 2394, 2445, 2496, 2547], 109: [49, 100, 151, 202, 253, 304, 355, 406, 457, 508, 559, 610, 661, 712, 763, 814, 865, 916, 967, 1018, 1069, 1120, 1171, 1222, 1273, 1324, 1375, 1426, 1477, 1528, 1579, 1630, 1681, 1732, 1783, 1834, 1885, 1936, 1987, 2038, 2089, 2140, 2191, 2242, 2293, 2344, 2395, 2446, 2497, 2548], 115: [50, 101, 152, 203, 254, 305, 356, 407, 458, 509, 560, 611, 662, 713, 764, 815, 866, 917, 968, 1019, 1070, 1121, 1172, 1223, 1274, 1325, 1376, 1427, 1478, 1529, 1580, 1631, 1682, 1733, 1784, 1835, 1886, 1937, 1988, 2039, 2090, 2141, 2192, 2243, 2294, 2345, 2396, 2447, 2498, 2549], 22: [2550], 24: [2551], 26: [2552], 28: [2553], 47: [2554], 49: [2555], 51: [2556], 32: [2557], 30: [2558], 12: [2559], 10: [2560], 8: [2561], 6: [2562], 4: [2563], 2: [2564], 0: [2565], 18: [2566], 20: [2567], 39: [2568], 41: [2569], 43: [2570], 45: [2571], 64: [2572], 66: [2573], 68: [2574], 70: [2575], 89: [2576], 87: [2577], 85: [2578], 83: [2579], 102: [2580], 104: [2581], 106: [2582], 108: [2583], 126: [2584], 124: [2585], 122: [2586], 120: [2587], 118: [2588], 100: [2589], 98: [2590], 79: [2591], 81: [2592], 62: [2593], 60: [2594], 58: [2595], 77: [2596], 75: [2597], 94: [2598], 96: [2599], 114: [2600], 116: [2601]}\n"
     ]
    }
   ],
   "source": [
    "from soft_info import inv_qubit_mapping, get_repcode_IQ_map\n",
    "\n",
    "layout_des = job.deserialize_layout(job.initial_layouts()[0]) # only 1 layout\n",
    "link_qubits = list(layout_des['link_qubit'].values())\n",
    "code_qubits = list(layout_des['code_qubit'].values())\n",
    "\n",
    "big_layout = link_qubits + code_qubits\n",
    "print(big_layout)\n",
    "inverted_q_map = inv_qubit_mapping(get_repcode_IQ_map(big_layout, synd_rounds=T))\n",
    "print(inverted_q_map)"
   ]
  },
  {
   "cell_type": "markdown",
   "metadata": {},
   "source": [
    "# Get countMat and pSoft"
   ]
  },
  {
   "cell_type": "code",
   "execution_count": 9,
   "metadata": {},
   "outputs": [
    {
     "name": "stdout",
     "output_type": "stream",
     "text": [
      "Starting to get pSoft and countMat at 2024-04-10 08:53:33.707732\n",
      "Starting to get pSoft_PS and countMat_PS at 2024-04-10 08:54:05.458632\n"
     ]
    }
   ],
   "source": [
    "from datetime import datetime\n",
    "from soft_info import gaussianIQConvertor\n",
    "\n",
    "HANDLE_OUTLIERS = True\n",
    "\n",
    "print(f\"Starting to get pSoft and countMat at {datetime.now()}\")\n",
    "pSoft, countMat = csi.iqConvertor(memory, inverted_q_map, kde_dict, rel_error, -1,\n",
    "                                            handleOutliers = HANDLE_OUTLIERS)\n",
    "\n",
    "print(f\"Starting to get pSoft_PS and countMat_PS at {datetime.now()}\")\n",
    "pSoft_PS, countMat_PS = csi.iqConvertor(memory, inverted_q_map, kde_dict_PS, rel_error, -1,\n",
    "                                                handleOutliers = HANDLE_OUTLIERS)\n",
    "\n",
    "# print(f\"Starting to get pSoftG at {datetime.now()}\")\n",
    "# countMatG, pSoftG = gaussianIQConvertor(memory, inverted_q_map, gmm_dict)"
   ]
  },
  {
   "cell_type": "markdown",
   "metadata": {},
   "source": [
    "# Decode 1 subset, 1 distance"
   ]
  },
  {
   "cell_type": "code",
   "execution_count": 10,
   "metadata": {},
   "outputs": [],
   "source": [
    "from soft_info import generate_subsets_with_center, get_cols_to_keep, get_subsample_layout\n",
    "\n",
    "D_NEW = 11\n",
    "subsets = generate_subsets_with_center(d, D_NEW)\n",
    "subset = subsets[0]\n",
    "cols = get_cols_to_keep(subset, T, d)\n",
    "# cols = np.random.permutation(cols)\n",
    "cols = [c+1 for c in cols] # because the first column is the syndrome\n",
    "\n",
    "pSoft_sub = pSoft[:, cols]\n",
    "pSoft_PS_sub = pSoft_PS[:, cols]\n",
    "countMat_sub = countMat[:, cols]\n",
    "countMat_PS_sub = countMat_PS[:,  cols]"
   ]
  },
  {
   "cell_type": "code",
   "execution_count": 11,
   "metadata": {},
   "outputs": [
    {
     "name": "stdout",
     "output_type": "stream",
     "text": [
      "shape pSoft: (1507, 2602)\n",
      "subset: [0, 1, 2, 3, 4, 5, 6, 7, 8, 9, 10]\n",
      "cols: [1, 2, 3, 4, 5, 6, 7, 8, 9, 10, 52, 53, 54, 55, 56, 57, 58, 59, 60, 61, 103, 104, 105, 106, 107, 108, 109, 110, 111, 112, 154, 155, 156, 157, 158, 159, 160, 161, 162, 163, 205, 206, 207, 208, 209, 210, 211, 212, 213, 214, 256, 257, 258, 259, 260, 261, 262, 263, 264, 265, 307, 308, 309, 310, 311, 312, 313, 314, 315, 316, 358, 359, 360, 361, 362, 363, 364, 365, 366, 367, 409, 410, 411, 412, 413, 414, 415, 416, 417, 418, 460, 461, 462, 463, 464, 465, 466, 467, 468, 469, 511, 512, 513, 514, 515, 516, 517, 518, 519, 520, 562, 563, 564, 565, 566, 567, 568, 569, 570, 571, 613, 614, 615, 616, 617, 618, 619, 620, 621, 622, 664, 665, 666, 667, 668, 669, 670, 671, 672, 673, 715, 716, 717, 718, 719, 720, 721, 722, 723, 724, 766, 767, 768, 769, 770, 771, 772, 773, 774, 775, 817, 818, 819, 820, 821, 822, 823, 824, 825, 826, 868, 869, 870, 871, 872, 873, 874, 875, 876, 877, 919, 920, 921, 922, 923, 924, 925, 926, 927, 928, 970, 971, 972, 973, 974, 975, 976, 977, 978, 979, 1021, 1022, 1023, 1024, 1025, 1026, 1027, 1028, 1029, 1030, 1072, 1073, 1074, 1075, 1076, 1077, 1078, 1079, 1080, 1081, 1123, 1124, 1125, 1126, 1127, 1128, 1129, 1130, 1131, 1132, 1174, 1175, 1176, 1177, 1178, 1179, 1180, 1181, 1182, 1183, 1225, 1226, 1227, 1228, 1229, 1230, 1231, 1232, 1233, 1234, 1276, 1277, 1278, 1279, 1280, 1281, 1282, 1283, 1284, 1285, 1327, 1328, 1329, 1330, 1331, 1332, 1333, 1334, 1335, 1336, 1378, 1379, 1380, 1381, 1382, 1383, 1384, 1385, 1386, 1387, 1429, 1430, 1431, 1432, 1433, 1434, 1435, 1436, 1437, 1438, 1480, 1481, 1482, 1483, 1484, 1485, 1486, 1487, 1488, 1489, 1531, 1532, 1533, 1534, 1535, 1536, 1537, 1538, 1539, 1540, 1582, 1583, 1584, 1585, 1586, 1587, 1588, 1589, 1590, 1591, 1633, 1634, 1635, 1636, 1637, 1638, 1639, 1640, 1641, 1642, 1684, 1685, 1686, 1687, 1688, 1689, 1690, 1691, 1692, 1693, 1735, 1736, 1737, 1738, 1739, 1740, 1741, 1742, 1743, 1744, 1786, 1787, 1788, 1789, 1790, 1791, 1792, 1793, 1794, 1795, 1837, 1838, 1839, 1840, 1841, 1842, 1843, 1844, 1845, 1846, 1888, 1889, 1890, 1891, 1892, 1893, 1894, 1895, 1896, 1897, 1939, 1940, 1941, 1942, 1943, 1944, 1945, 1946, 1947, 1948, 1990, 1991, 1992, 1993, 1994, 1995, 1996, 1997, 1998, 1999, 2041, 2042, 2043, 2044, 2045, 2046, 2047, 2048, 2049, 2050, 2092, 2093, 2094, 2095, 2096, 2097, 2098, 2099, 2100, 2101, 2143, 2144, 2145, 2146, 2147, 2148, 2149, 2150, 2151, 2152, 2194, 2195, 2196, 2197, 2198, 2199, 2200, 2201, 2202, 2203, 2245, 2246, 2247, 2248, 2249, 2250, 2251, 2252, 2253, 2254, 2296, 2297, 2298, 2299, 2300, 2301, 2302, 2303, 2304, 2305, 2347, 2348, 2349, 2350, 2351, 2352, 2353, 2354, 2355, 2356, 2398, 2399, 2400, 2401, 2402, 2403, 2404, 2405, 2406, 2407, 2449, 2450, 2451, 2452, 2453, 2454, 2455, 2456, 2457, 2458, 2500, 2501, 2502, 2503, 2504, 2505, 2506, 2507, 2508, 2509, 2551, 2552, 2553, 2554, 2555, 2556, 2557, 2558, 2559, 2560, 2561]\n"
     ]
    }
   ],
   "source": [
    "print(f\"shape pSoft: {pSoft.shape}\")\n",
    "print(f\"subset: {subset}\")\n",
    "print(f\"cols: {cols}\")"
   ]
  },
  {
   "cell_type": "markdown",
   "metadata": {},
   "source": [
    "# Get the noise model "
   ]
  },
  {
   "cell_type": "code",
   "execution_count": 12,
   "metadata": {},
   "outputs": [
    {
     "name": "stdout",
     "output_type": "stream",
     "text": [
      "08:54:31 Warning: Z0 decoding. Negative T2 error -0.08 % for qubit 38, setting to 0.. IN FILE: /Users/mha/My_Drive/Desktop/Studium/Physik/MSc/Semester_3/IBM/IBM_GIT/Soft-Info/src/soft_info/Hardware/backend_noise.py, LINE: 52\n",
      "08:54:31 Warning: Z0 decoding. Negative T2 error -0.01 % for qubit 39, setting to 0.. IN FILE: /Users/mha/My_Drive/Desktop/Studium/Physik/MSc/Semester_3/IBM/IBM_GIT/Soft-Info/src/soft_info/Hardware/backend_noise.py, LINE: 52\n",
      "08:54:31 Warning: Z0 decoding. Negative T2 error -0.01 % for qubit 111, setting to 0.. IN FILE: /Users/mha/My_Drive/Desktop/Studium/Physik/MSc/Semester_3/IBM/IBM_GIT/Soft-Info/src/soft_info/Hardware/backend_noise.py, LINE: 52\n",
      "noise_list = [0.007633334953803748, 0.0003265154690155472, 0.0012358423164544369, 0.004311102659255508, 0.03012931025862051, 0.021719793439586875, 0.008409516819033635]\n",
      "readout = 0.012728571428571433\n"
     ]
    }
   ],
   "source": [
    "from soft_info import get_noise_dict_from_backend, get_avgs_from_dict\n",
    "\n",
    "layout = get_subsample_layout(subset, link_qubits, code_qubits)\n",
    "\n",
    "\n",
    "noise_dict = get_noise_dict_from_backend(provider, DEVICE, date = md[\"execution_date\"].values[0])\n",
    "avgs = get_avgs_from_dict(noise_dict, layout)\n",
    "noise_list = [avgs[\"two_gate\"], avgs[\"single_gate\"], avgs[\"t1_err\"], avgs[\"t2_err\"]]\n",
    "readout = avgs[\"readout\"]\n",
    "noise_list += [(p_hard_mean+p_soft_mean), p_hard_mean, p_soft_mean]\n",
    "\n",
    "print(f\"noise_list = {noise_list}\")\n",
    "print(f\"readout = {readout}\")"
   ]
  },
  {
   "cell_type": "code",
   "execution_count": 13,
   "metadata": {},
   "outputs": [],
   "source": [
    "# Stim codes\n",
    "from soft_info import RepetitionCodeStimCircuit\n",
    "\n",
    "subsampling = True\n",
    "_RESETS = False\n",
    "\n",
    "noise_list_new = noise_list.copy()\n",
    "# noise_list_new = [err*3 for err in noise_list_new]\n",
    "# noise_list_new[2] = 30e-2 # t1 error\n",
    "\n",
    "code_mean_for_soft = RepetitionCodeStimCircuit(D_NEW, T, XBASIS, _RESETS, noise_list=noise_list_new,\n",
    "                                                subsampling=subsampling, no_fin_soft=True, layout=None,\n",
    "                                                msmt_err_dict=None)\n",
    "model_mean_for_soft = code_mean_for_soft.circuits[LOGICAL].detector_error_model()\n",
    "\n",
    "code_mean_for_hard = RepetitionCodeStimCircuit(D_NEW, T, XBASIS, _RESETS, noise_list=noise_list_new,\n",
    "                                                subsampling=subsampling, no_fin_soft=False, layout=None,\n",
    "                                                msmt_err_dict=None)\n",
    "model_mean_for_hard = code_mean_for_hard.circuits[LOGICAL].detector_error_model()"
   ]
  },
  {
   "cell_type": "markdown",
   "metadata": {},
   "source": [
    "# Decoding"
   ]
  },
  {
   "cell_type": "code",
   "execution_count": 14,
   "metadata": {},
   "outputs": [],
   "source": [
    "_RESETS_new = False\n",
    "\n",
    "offset = 0.01\n",
    "outcome = 1\n",
    "# pSoft_new = pSoft_sub + offset\n",
    "# pSoft_PS_new = pSoft_PS_sub + offset\n",
    "\n",
    "pSoft_new = pSoft_sub.copy()\n",
    "pSoft_PS_new = pSoft_PS_sub.copy()\n",
    "# biased offset\n",
    "pSoft_new[countMat_sub == outcome] += offset\n",
    "pSoft_PS_new[countMat_PS_sub == outcome] += offset\n",
    "# set to 0.5\n",
    "pSoft_new[pSoft_new > 0.5] = 0.5\n",
    "pSoft_new[pSoft_new <= 0] = 1e-8\n",
    "pSoft_PS_new[pSoft_PS_new > 0.5] = 0.5\n",
    "pSoft_PS_new[pSoft_PS_new <= 0] = 1e-8\n",
    "\n",
    "\n",
    "res_s_K_mean = csi.decodeConvertorAll(model_mean_for_soft, countMat_sub, pSoft_sub, T,\n",
    "                                      int(LOGICAL), _RESETS_new, decode_hard=False)\n",
    "res_h_K_mean = csi.decodeConvertorAll(model_mean_for_hard, countMat_sub, pSoft_sub, T,\n",
    "                                      int(LOGICAL), _RESETS_new, decode_hard=True)\n",
    "\n",
    "res_s_K_mean_PS = csi.decodeConvertorAll(model_mean_for_soft, countMat_PS_sub, pSoft_PS_sub, T,\n",
    "                                        int(LOGICAL), _RESETS_new, decode_hard=False)\n",
    "res_h_K_mean_PS = csi.decodeConvertorAll(model_mean_for_hard, countMat_PS_sub, pSoft_PS_sub, T,\n",
    "                                        int(LOGICAL), _RESETS_new, decode_hard=True)\n",
    "\n",
    "res_s_K_mean_new = csi.decodeConvertorAll(model_mean_for_soft, countMat_sub, pSoft_new, T,\n",
    "                                            int(LOGICAL), _RESETS_new, decode_hard=False)\n",
    "res_s_K_mean_PS_new = csi.decodeConvertorAll(model_mean_for_hard, countMat_sub, pSoft_new, T,\n",
    "                                            int(LOGICAL), _RESETS_new, decode_hard=False)"
   ]
  },
  {
   "cell_type": "code",
   "execution_count": 15,
   "metadata": {},
   "outputs": [],
   "source": [
    "res_s_K_mean = csi.decodeConvertorAll(model_mean_for_soft, countMat_sub, pSoft_sub, T,\n",
    "                                      int(LOGICAL), _RESETS_new, decode_hard=False)\n",
    "res_h_K_mean = csi.decodeConvertorAll(model_mean_for_hard, countMat_sub, pSoft_sub, T,\n",
    "                                      int(LOGICAL), _RESETS_new, decode_hard=True)\n",
    "\n",
    "res_s_K_mean_PS = csi.decodeConvertorAll(model_mean_for_soft, countMat_PS_sub, pSoft_PS_sub, T,\n",
    "                                        int(LOGICAL), _RESETS_new, decode_hard=False)\n",
    "res_h_K_mean_PS = csi.decodeConvertorAll(model_mean_for_hard, countMat_PS_sub, pSoft_PS_sub, T,\n",
    "                                        int(LOGICAL), _RESETS_new, decode_hard=True)\n",
    "\n",
    "res_s_K_mean_new = csi.decodeConvertorAll(model_mean_for_soft, countMat_sub, pSoft_new, T,\n",
    "                                            int(LOGICAL), _RESETS_new, decode_hard=False)\n",
    "res_s_K_mean_PS_new = csi.decodeConvertorAll(model_mean_for_hard, countMat_sub, pSoft_new, T,\n",
    "                                            int(LOGICAL), _RESETS_new, decode_hard=False)"
   ]
  },
  {
   "cell_type": "code",
   "execution_count": 16,
   "metadata": {},
   "outputs": [
    {
     "name": "stdout",
     "output_type": "stream",
     "text": [
      "D_NEW: 11, T: 50, SHOTS: 1507, LOGICAL: 1, XBASIS: True, RESETS: False, DOUBLE_MSMTS: True\n",
      "noise_list: [0.007633334953803748, 0.0003265154690155472, 0.0012358423164544369, 0.004311102659255508, 0.03012931025862051, 0.021719793439586875, 0.008409516819033635]\n",
      "offset 0.01 on outcome 1\n",
      "\n",
      "soft KDE: 137 out of 1507 shots, handlWeOutliers: True, bandwidth: [0.6]\n",
      "soft KDE_new: 133 out of 1507 shots, handlWeOutliers: True, bandwidth: [0.6]\n",
      "hard KDE: 180 out of 1507 shots, handlWeOutliers: True, bandwidth: [0.6]\n",
      "\n",
      "soft KDE_PS: 192 out of 1507 shots, handlWeOutliers: True, bandwidth: [0.6]\n",
      "soft KDE_new_PS: 133 out of 1507 shots, handlWeOutliers: True, bandwidth: [0.6]\n",
      "hard KDE_PS: 180 out of 1507 shots, handlWeOutliers: True, bandwidth: [0.6]\n"
     ]
    }
   ],
   "source": [
    "print(f\"D_NEW: {D_NEW}, T: {T}, SHOTS: {len(pSoft)}, LOGICAL: {LOGICAL}, XBASIS: {XBASIS}, RESETS: {_RESETS}, DOUBLE_MSMTS: {True}\")\n",
    "print(f\"noise_list: {noise_list}\")\n",
    "print(f\"offset {offset} on outcome {outcome}\\n\")\n",
    "\n",
    "print(f\"soft KDE: {res_s_K_mean.num_errors} out of {len(pSoft)} shots, handlWeOutliers: {HANDLE_OUTLIERS}, bandwidth: {bandwidths}\")\n",
    "print(f\"soft KDE_new: {res_s_K_mean_new.num_errors} out of {len(pSoft)} shots, handlWeOutliers: {HANDLE_OUTLIERS}, bandwidth: {bandwidths}\")\n",
    "print(f\"hard KDE: {res_h_K_mean.num_errors} out of {len(pSoft)} shots, handlWeOutliers: {HANDLE_OUTLIERS}, bandwidth: {bandwidths}\")\n",
    "\n",
    "print() \n",
    "\n",
    "print(f\"soft KDE_PS: {res_s_K_mean_PS.num_errors} out of {len(pSoft_PS)} shots, handlWeOutliers: {HANDLE_OUTLIERS}, bandwidth: {bandwidths}\")\n",
    "print(f\"soft KDE_new_PS: {res_s_K_mean_PS_new.num_errors} out of {len(pSoft_PS)} shots, handlWeOutliers: {HANDLE_OUTLIERS}, bandwidth: {bandwidths}\")\n",
    "print(f\"hard KDE_PS: {res_h_K_mean_PS.num_errors} out of {len(pSoft_PS)} shots, handlWeOutliers: {HANDLE_OUTLIERS}, bandwidth: {bandwidths}\")\n"
   ]
  },
  {
   "cell_type": "code",
   "execution_count": 17,
   "metadata": {},
   "outputs": [
    {
     "name": "stdout",
     "output_type": "stream",
     "text": [
      "p_soft_mean: 0.008409516819033635, p_hard_mean: 0.021719793439586875\n",
      "mean pSoft: 0.029747324059849346, mean pSoft_PS: 0.010276452570038673\n",
      "mean pSoft_new: 0.026470830398796236, mean pSoft_PS_new: 0.013601674332388004\n",
      "mean pSoft_sub: 0.022463922487557388, mean pSoft_PS_sub: 0.009590898728967777\n"
     ]
    }
   ],
   "source": [
    "print(f\"p_soft_mean: {p_soft_mean}, p_hard_mean: {p_hard_mean}\")\n",
    "print(f\"mean pSoft: {np.mean(pSoft)}, mean pSoft_PS: {np.mean(pSoft_PS)}\")\n",
    "print(f\"mean pSoft_new: {np.mean(pSoft_new)}, mean pSoft_PS_new: {np.mean(pSoft_PS_new)}\")\n",
    "print(f\"mean pSoft_sub: {np.mean(pSoft_sub)}, mean pSoft_PS_sub: {np.mean(pSoft_PS_sub)}\")"
   ]
  },
  {
   "cell_type": "code",
   "execution_count": null,
   "metadata": {},
   "outputs": [],
   "source": []
  },
  {
   "cell_type": "code",
   "execution_count": null,
   "metadata": {},
   "outputs": [],
   "source": []
  }
 ],
 "metadata": {
  "kernelspec": {
   "display_name": "Soft-Info-fMUpUe5a",
   "language": "python",
   "name": "python3"
  },
  "language_info": {
   "codemirror_mode": {
    "name": "ipython",
    "version": 3
   },
   "file_extension": ".py",
   "mimetype": "text/x-python",
   "name": "python",
   "nbconvert_exporter": "python",
   "pygments_lexer": "ipython3",
   "version": "3.11.4"
  }
 },
 "nbformat": 4,
 "nbformat_minor": 2
}
