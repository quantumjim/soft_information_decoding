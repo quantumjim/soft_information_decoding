{
 "cells": [
  {
   "cell_type": "code",
   "execution_count": 92,
   "metadata": {},
   "outputs": [],
   "source": [
    "import stim\n",
    "import pymatching\n",
    "\n",
    "\n",
    "DISTANCE = 3\n",
    "ROUNDS = 3\n",
    "SHOTS = int(1e5)\n",
    "\n",
    "after_clifford_depolarization = 2e-2\n",
    "after_reset_flip_probability = 0.1e-2\n",
    "before_measure_flip_probability = 0.5e-2 \n",
    "before_round_data_depolarization = 0.8e-2\n",
    "\n",
    "circuit = stim.Circuit.generated(\"repetition_code:memory\",\n",
    "                                distance=DISTANCE,\n",
    "                                rounds=ROUNDS,\n",
    "                                after_clifford_depolarization=after_clifford_depolarization, #two-qubit-fidelity,\n",
    "                                after_reset_flip_probability=after_reset_flip_probability, #reset error,\n",
    "                                before_measure_flip_probability=before_measure_flip_probability, #measurement error,\n",
    "                                before_round_data_depolarization=before_round_data_depolarization) #idle error)\n",
    "# print(circuit)\n",
    "\n",
    "model = circuit.detector_error_model(decompose_errors=True)\n",
    "matching = pymatching.Matching.from_detector_error_model(model)"
   ]
  },
  {
   "cell_type": "markdown",
   "metadata": {},
   "source": [
    "# Meas Sampling"
   ]
  },
  {
   "cell_type": "code",
   "execution_count": 93,
   "metadata": {},
   "outputs": [
    {
     "name": "stdout",
     "output_type": "stream",
     "text": [
      "[[False False False ... False False False]\n",
      " [False False False ... False False False]\n",
      " [ True False  True ...  True False False]\n",
      " ...\n",
      " [False False False ... False False False]\n",
      " [False False False ... False False False]\n",
      " [False False False ... False False False]]\n",
      "\n",
      "(100000, 9)\n",
      "\n",
      "9\n",
      "9\n"
     ]
    }
   ],
   "source": [
    "meas_outcomes = circuit.compile_sampler().sample(SHOTS)\n",
    "print(meas_outcomes)\n",
    "print()\n",
    "print(meas_outcomes.shape)\n",
    "print()\n",
    "print(len(meas_outcomes[0]))\n",
    "print(DISTANCE + ROUNDS*(DISTANCE-1))"
   ]
  },
  {
   "cell_type": "code",
   "execution_count": 94,
   "metadata": {},
   "outputs": [
    {
     "name": "stdout",
     "output_type": "stream",
     "text": [
      "{'000 00 00 00': 74520, '001 11 01 01': 18, '100 10 00 00': 1187, '000 00 01 00': 1363, '000 00 00 10': 1254, '010 00 00 00': 733, '000 01 00 00': 1247, '100 00 00 00': 737, '010 00 00 01': 14, '000 10 00 00': 1323, '001 01 01 00': 1302, '001 01 01 01': 842, '000 00 11 01': 16, '000 00 10 00': 1319, '010 01 00 00': 852, '110 01 01 00': 29, '010 11 00 01': 24, '010 11 00 00': 1227, '110 11 10 10': 14, '101 11 10 00': 27, '001 00 00 10': 14, '010 11 01 00': 876, '100 10 10 00': 1216, '001 01 00 00': 1263, '001 11 01 00': 25, '000 00 11 00': 34, '010 11 11 11': 893, '001 00 00 00': 766, '000 00 00 01': 1265, '000 01 01 00': 39, '010 11 11 00': 1242, '011 10 10 10': 16, '101 10 10 10': 12, '010 11 11 01': 862, '101 11 11 00': 36, '110 11 11 01': 8, '101 11 01 00': 26, '110 11 00 00': 27, '010 11 11 10': 35, '100 10 10 10': 936, '000 00 10 10': 36, '000 00 01 01': 41, '110 11 10 11': 1, '110 01 10 10': 13, '101 11 01 01': 13, '011 10 10 00': 19, '010 00 01 00': 13, '010 10 00 00': 40, '100 00 00 10': 9, '000 00 11 11': 9, '110 11 11 00': 14, '000 01 00 01': 29, '100 11 10 10': 17, '010 01 11 00': 18, '011 10 11 01': 15, '110 01 11 00': 40, '011 11 01 01': 4, '110 01 00 00': 25, '000 01 01 01': 12, '001 00 01 01': 13, '011 10 11 00': 22, '001 01 11 00': 18, '000 00 01 11': 2, '000 11 00 00': 39, '000 00 00 11': 36, '010 11 01 11': 24, '000 10 10 00': 29, '011 10 01 00': 32, '010 11 10 10': 1, '000 10 11 01': 7, '000 11 01 00': 7, '011 10 00 00': 26, '110 01 01 11': 24, '001 10 10 00': 1, '100 11 00 00': 19, '101 11 00 00': 19, '110 01 11 11': 9, '100 10 00 10': 32, '100 10 10 01': 23, '001 01 00 10': 28, '110 01 11 10': 8, '001 01 01 10': 18, '000 10 11 11': 9, '110 01 10 00': 21, '110 11 11 10': 1, '110 00 01 00': 1, '100 00 10 00': 38, '011 10 10 11': 24, '110 11 10 00': 16, '000 01 10 00': 22, '000 00 10 01': 27, '110 01 01 10': 13, '011 10 01 01': 11, '000 10 01 00': 39, '001 11 00 00': 25, '100 01 10 10': 1, '100 11 11 01': 1, '011 11 11 01': 13, '010 00 10 00': 10, '000 10 11 00': 9, '100 00 01 00': 13, '000 01 00 10': 25, '010 11 01 10': 18, '010 01 11 11': 24, '110 00 00 00': 7, '001 10 01 00': 1, '101 11 11 10': 11, '011 00 01 01': 15, '101 01 01 00': 12, '011 10 10 01': 30, '010 10 11 00': 15, '010 10 11 11': 13, '101 00 00 00': 8, '100 11 10 00': 18, '110 10 00 00': 21, '010 11 10 01': 16, '110 11 11 11': 9, '001 00 01 00': 33, '010 11 10 11': 10, '101 10 10 00': 9, '001 10 00 00': 13, '000 10 10 10': 14, '010 10 11 01': 11, '100 01 01 00': 1, '001 01 01 11': 18, '001 01 10 00': 29, '001 01 00 01': 41, '100 10 00 01': 14, '011 01 01 00': 16, '110 00 01 01': 1, '000 11 11 00': 14, '101 11 11 01': 13, '000 11 11 01': 8, '011 10 00 01': 11, '010 01 00 10': 15, '000 10 00 01': 18, '110 10 10 10': 10, '110 00 01 10': 1, '010 01 01 00': 36, '011 00 01 00': 13, '010 01 10 10': 1, '000 10 00 10': 25, '010 01 11 01': 9, '011 10 00 11': 1, '010 00 01 01': 1, '010 11 10 00': 25, '110 01 01 01': 17, '011 11 11 00': 12, '011 00 00 00': 18, '000 11 11 11': 8, '000 00 01 10': 16, '100 00 00 01': 15, '001 11 00 10': 2, '110 10 10 00': 16, '001 01 11 01': 15, '010 10 01 00': 13, '010 11 00 10': 17, '010 11 01 01': 26, '010 00 00 10': 14, '111 00 11 11': 2, '011 01 00 00': 26, '010 01 10 00': 13, '000 11 11 10': 1, '001 00 00 01': 13, '100 10 11 10': 19, '010 01 00 01': 12, '000 00 11 10': 4, '011 11 00 00': 17, '110 11 01 00': 7, '011 10 00 10': 2, '001 01 11 11': 2, '000 00 10 11': 18, '011 11 11 11': 11, '100 10 01 00': 24, '101 10 00 00': 13, '011 01 01 01': 9, '100 10 11 00': 24, '101 11 10 10': 14, '011 01 10 00': 1, '001 00 10 00': 10, '001 01 10 10': 3, '110 01 10 11': 1, '000 10 10 01': 1, '100 10 10 11': 14, '001 00 10 01': 1, '110 01 11 01': 7, '011 11 01 00': 13, '110 01 00 10': 1, '100 01 00 00': 13, '000 11 01 01': 1, '101 01 01 01': 5, '111 00 10 00': 1, '111 01 01 00': 1, '001 01 00 11': 3, '110 11 10 01': 1, '101 01 00 00': 12, '001 11 11 00': 3, '101 11 10 01': 2, '010 10 01 01': 1, '011 10 01 11': 2, '001 11 00 11': 1, '010 10 10 00': 4, '110 10 01 00': 1, '101 11 11 11': 8, '011 01 00 01': 2, '011 10 11 11': 7, '111 10 10 00': 1, '101 00 00 01': 1, '100 00 10 10': 6, '000 01 11 01': 1, '000 01 00 11': 2, '001 00 10 10': 1, '100 10 00 11': 2, '111 00 00 00': 1, '010 11 00 11': 1, '010 10 10 11': 1, '110 01 00 01': 2, '110 11 01 10': 1, '000 10 01 11': 1, '100 00 11 10': 2, '011 10 01 10': 1, '100 00 11 00': 1, '000 11 01 11': 1, '110 10 00 01': 2, '101 01 00 10': 1, '000 01 01 10': 2, '011 00 11 00': 1, '100 11 10 11': 1, '100 00 00 11': 1, '000 11 00 01': 1, '111 00 01 11': 1, '110 10 11 01': 1, '001 01 10 01': 2, '001 00 11 00': 2, '011 11 10 11': 1, '101 10 10 11': 1, '010 01 00 11': 1, '010 00 11 00': 1, '000 10 11 10': 1, '100 10 11 01': 1, '101 10 01 01': 1, '010 01 10 01': 1, '100 00 10 01': 1, '011 01 00 10': 1, '011 01 11 11': 1, '011 11 10 00': 1, '111 00 01 01': 1, '110 00 10 00': 1, '100 00 01 01': 1, '011 10 11 10': 1, '000 11 10 11': 1, '101 10 11 00': 2, '001 00 01 10': 1, '001 11 11 11': 1, '000 11 01 10': 1, '111 10 01 00': 1, '101 10 11 10': 1, '000 01 11 00': 1, '010 10 01 10': 1, '111 11 10 00': 1}\n"
     ]
    }
   ],
   "source": [
    "counts = {}\n",
    "for row in meas_outcomes:\n",
    "    count_str = ''\n",
    "    for nb, bit in enumerate(row):\n",
    "        count_str += '0' if bit == False else '1'\n",
    "        if (nb+1) % (DISTANCE-1) == 0 and nb < ROUNDS*(DISTANCE-1):\n",
    "            count_str += ' ' \n",
    "    \n",
    "    count_str = count_str[::-1]\n",
    "    if count_str in counts:\n",
    "        counts[count_str] += 1\n",
    "    else:\n",
    "        counts[count_str] = 1\n",
    "print(counts)"
   ]
  },
  {
   "cell_type": "code",
   "execution_count": 116,
   "metadata": {},
   "outputs": [],
   "source": [
    "circuit = stim.Circuit.generated(\"repetition_code:memory\",\n",
    "                                distance=DISTANCE,\n",
    "                                rounds=ROUNDS,\n",
    "                                after_clifford_depolarization=after_clifford_depolarization, #two-qubit-fidelity,\n",
    "                                after_reset_flip_probability=after_reset_flip_probability, #reset error,\n",
    "                                before_measure_flip_probability=0.5e-2, #measurement error,\n",
    "                                before_round_data_depolarization=before_round_data_depolarization) #idle error)\n",
    "\n",
    "\n",
    "model = circuit.detector_error_model(decompose_errors=True)\n",
    "matching = pymatching.Matching.from_detector_error_model(model)"
   ]
  },
  {
   "cell_type": "code",
   "execution_count": 117,
   "metadata": {},
   "outputs": [
    {
     "name": "stdout",
     "output_type": "stream",
     "text": [
      "Num errors: 806 out of 100000 shots\n"
     ]
    }
   ],
   "source": [
    "# decode the meas outcomes\n",
    "from cpp_soft_info import counts_to_det_syndr\n",
    "\n",
    "num_err = 0\n",
    "for count_key, val in counts.items():\n",
    "    syndr = counts_to_det_syndr(count_key, _resets = True, verbose = False)\n",
    "    predicted_flip = matching.decode(syndr)\n",
    "    # print(count_key[0])\n",
    "    # print(predicted_flip[0])\n",
    "    if int(predicted_flip[0]) != int(count_key[0]):\n",
    "        num_err += val\n",
    "\n",
    "print(f\"Num errors: {num_err} out of {sum(counts.values())} shots\")"
   ]
  },
  {
   "cell_type": "markdown",
   "metadata": {},
   "source": [
    "# Detector sampling"
   ]
  },
  {
   "cell_type": "code",
   "execution_count": 96,
   "metadata": {},
   "outputs": [
    {
     "name": "stdout",
     "output_type": "stream",
     "text": [
      "(100000, 9)\n",
      "[[False False False ... False False False]\n",
      " [False False False ... False False False]\n",
      " [False False False ... False False False]\n",
      " ...\n",
      " [False False False ... False False False]\n",
      " [False False False ... False False False]\n",
      " [False False False ... False False  True]]\n"
     ]
    }
   ],
   "source": [
    "syndromes = circuit.compile_detector_sampler().sample(SHOTS, append_observables=True)\n",
    "print(syndromes.shape)\n",
    "print(syndromes)\n",
    "\n"
   ]
  },
  {
   "cell_type": "markdown",
   "metadata": {},
   "source": [
    "### Generate second stim for decoding"
   ]
  },
  {
   "cell_type": "code",
   "execution_count": 97,
   "metadata": {},
   "outputs": [],
   "source": [
    "circuit = stim.Circuit.generated(\"repetition_code:memory\",\n",
    "                                distance=DISTANCE,\n",
    "                                rounds=ROUNDS,\n",
    "                                after_clifford_depolarization=after_clifford_depolarization, #two-qubit-fidelity,\n",
    "                                after_reset_flip_probability=after_reset_flip_probability, #reset error,\n",
    "                                before_measure_flip_probability=before_measure_flip_probability, #measurement error,\n",
    "                                before_round_data_depolarization=before_round_data_depolarization) #idle error)\n",
    "\n",
    "\n",
    "model = circuit.detector_error_model(decompose_errors=True)\n",
    "matching = pymatching.Matching.from_detector_error_model(model)"
   ]
  },
  {
   "cell_type": "code",
   "execution_count": 98,
   "metadata": {},
   "outputs": [
    {
     "name": "stdout",
     "output_type": "stream",
     "text": [
      "Error rate: 824 out of: 100000 total\n"
     ]
    }
   ],
   "source": [
    "num_err = 0\n",
    "\n",
    "for i in range(len(syndromes))[:]:\n",
    "    predicted_flip = matching.decode(syndromes[i][:-1])\n",
    "    if bool(predicted_flip[0]) != (syndromes[i][-1]):\n",
    "        num_err += 1\n",
    "\n",
    "print(\"Error rate:\", num_err, \"out of:\", len(syndromes), \"total\")  \n",
    "\n"
   ]
  },
  {
   "cell_type": "code",
   "execution_count": null,
   "metadata": {},
   "outputs": [],
   "source": []
  },
  {
   "cell_type": "code",
   "execution_count": null,
   "metadata": {},
   "outputs": [],
   "source": []
  }
 ],
 "metadata": {
  "kernelspec": {
   "display_name": "Soft-Info-fMUpUe5a",
   "language": "python",
   "name": "python3"
  },
  "language_info": {
   "codemirror_mode": {
    "name": "ipython",
    "version": 3
   },
   "file_extension": ".py",
   "mimetype": "text/x-python",
   "name": "python",
   "nbconvert_exporter": "python",
   "pygments_lexer": "ipython3",
   "version": "3.11.4"
  }
 },
 "nbformat": 4,
 "nbformat_minor": 2
}
