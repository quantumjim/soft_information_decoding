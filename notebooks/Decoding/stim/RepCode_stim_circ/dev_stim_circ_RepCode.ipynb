{
 "cells": [
  {
   "cell_type": "code",
   "execution_count": 1,
   "metadata": {},
   "outputs": [],
   "source": [
    "%reload_ext autoreload\n",
    "%autoreload 2"
   ]
  },
  {
   "cell_type": "markdown",
   "metadata": {},
   "source": [
    "# Stim class"
   ]
  },
  {
   "cell_type": "code",
   "execution_count": 5,
   "metadata": {},
   "outputs": [],
   "source": [
    "from soft_info import RepetitionCodeStimCircuit\n",
    "\n",
    "d = 4\n",
    "T = 4\n",
    "resets = False\n",
    "xbasis = False\n",
    "logical = '0'\n",
    "subsampling = False\n",
    "\n",
    "noise_list = [2e-2, 1e-3, 3e-2, 2e-2, 2e-2/2, 2e-2/2] # [twog_err, sglg_err, idle_err, readout_err, hard_err, soft_err]\n",
    "noise_list = [0, 0, 0, 0, 0, 1e-1]\n",
    "\n",
    "\n",
    "code = RepetitionCodeStimCircuit(d, T, xbasis=xbasis, resets=resets, noise_list=noise_list, subsampling=subsampling)\n",
    "\n",
    "circuit = code.circuits[logical]\n",
    "# print(circuit)"
   ]
  },
  {
   "cell_type": "code",
   "execution_count": 7,
   "metadata": {},
   "outputs": [
    {
     "name": "stdout",
     "output_type": "stream",
     "text": [
      "resets: False, xbasis: False, logical: 0, subsampling: False\n"
     ]
    },
    {
     "data": {
      "image/png": "[encoded data removed]",
      "text/plain": [
       "<Figure size 500x500 with 1 Axes>"
      ]
     },
     "metadata": {},
     "output_type": "display_data"
    }
   ],
   "source": [
    "from soft_info import draw_matching_graph\n",
    "import pymatching\n",
    "\n",
    "model = circuit.detector_error_model()\n",
    "matching = pymatching.Matching(model)\n",
    "\n",
    "print(f\"resets: {resets}, xbasis: {xbasis}, logical: {logical}, subsampling: {subsampling}\")\n",
    "draw_matching_graph(matching, d, T, figsize=(5, 5), scale_factor=0.5)"
   ]
  },
  {
   "cell_type": "code",
   "execution_count": 7,
   "metadata": {},
   "outputs": [
    {
     "name": "stdout",
     "output_type": "stream",
     "text": [
      "DEPOLARIZE1(0) 0\n"
     ]
    }
   ],
   "source": [
    "import stim\n",
    "\n",
    "circ = stim.Circuit()\n",
    "circ.append('DEPOLARIZE1', 0, arg=0.0)\n",
    "\n",
    "print(circ)"
   ]
  },
  {
   "cell_type": "markdown",
   "metadata": {},
   "source": [
    "# Own stim circ"
   ]
  },
  {
   "cell_type": "code",
   "execution_count": null,
   "metadata": {},
   "outputs": [],
   "source": [
    "import stim\n",
    "import pymatching\n",
    "from soft_info import draw_matching_graph\n",
    "\n",
    "d = 5\n",
    "T = 0\n",
    "resets = False\n",
    "\n",
    "# Readability\n",
    "rec = stim.target_rec\n",
    "\n",
    "# Qubit registers\n",
    "qubits = list(range(2*d-1))\n",
    "code_qubits = qubits[0::2]\n",
    "link_qubits = qubits[1::2]\n",
    "\n",
    "print(f\"Qubits: {qubits}\")\n",
    "print(f\"Code qubits: {code_qubits}\")\n",
    "print(f\"Link qubits: {link_qubits}\")\n",
    "\n",
    "\n",
    "\n",
    "### BLOCKS\n",
    "# Entangling block\n",
    "ent_block = stim.Circuit()\n",
    "LtR_indices = [t for tuple in zip(code_qubits[:-1], link_qubits) for t in tuple]\n",
    "ent_block.append('CX', LtR_indices)\n",
    "ent_block.append('TICK')\n",
    "# R->L CXs\n",
    "RtL_indices = [t for tuple in zip(code_qubits[1:], link_qubits) for t in tuple]\n",
    "ent_block.append('CX', RtL_indices)\n",
    "ent_block.append('TICK')\n",
    "# Measure \n",
    "ent_block.append('MR', link_qubits)\n",
    "\n",
    "# Detector block\n",
    "det_block = stim.Circuit()\n",
    "det_block.append('SHIFT_COORDS', [], (0, 1)) # Shift the coords in time\n",
    "for idx, l_qubit in enumerate(link_qubits):\n",
    "    det_block.append('DETECTOR', [rec(-(d-1)+idx), rec(-2*(d-1)+idx)], [1+idx*2, 0])\n",
    "\n",
    "\n",
    "\n",
    "\n",
    "\n",
    "### START CIRCUIT\n",
    "# Initialize the circuit\n",
    "own_circ = stim.Circuit()\n",
    "own_circ.append('R', qubits)\n",
    "own_circ.append('TICK')\n",
    "\n",
    "# First round\n",
    "own_circ += ent_block\n",
    "for idx, l_qubit in enumerate(link_qubits):\n",
    "        own_circ.append('DETECTOR', [rec(-(d-1)+idx)], [1+idx*2, 0])\n",
    "\n",
    "# Consecutive rounds\n",
    "own_circ += (ent_block + det_block) * (T-1)\n",
    "\n",
    "# Final msmt\n",
    "own_circ.append('MR', code_qubits)\n",
    "for idx, l_qubit in enumerate(link_qubits):\n",
    "    rec_list = [-d+idx, -d+idx+1, -d+idx-(d-1)] # [code_1, code_2, link]\n",
    "    own_circ.append('DETECTOR', [rec(idx) for idx in rec_list], [1+idx*2, 1])\n",
    "\n",
    "# Logical\n",
    "own_circ.append('OBSERVABLE_INCLUDE', [rec(-1)], [0])\n",
    "\n",
    "\n",
    "\n",
    "print(\"\\nStim circuit:\\n\")\n",
    "print(own_circ)\n",
    "\n",
    "own_circ.diagram()\n",
    "own_circ.diagram('timeline-svg')"
   ]
  },
  {
   "cell_type": "markdown",
   "metadata": {},
   "source": [
    "# Stim circuit"
   ]
  },
  {
   "cell_type": "code",
   "execution_count": 8,
   "metadata": {},
   "outputs": [
    {
     "ename": "NameError",
     "evalue": "name 'd' is not defined",
     "output_type": "error",
     "traceback": [
      "\u001b[0;31m---------------------------------------------------------------------------\u001b[0m",
      "\u001b[0;31mNameError\u001b[0m                                 Traceback (most recent call last)",
      "Cell \u001b[0;32mIn[8], line 3\u001b[0m\n\u001b[1;32m      1\u001b[0m \u001b[38;5;28;01mimport\u001b[39;00m \u001b[38;5;21;01mstim\u001b[39;00m \n\u001b[0;32m----> 3\u001b[0m circuit_nf \u001b[38;5;241m=\u001b[39m stim\u001b[38;5;241m.\u001b[39mCircuit\u001b[38;5;241m.\u001b[39mgenerated(\u001b[38;5;124m\"\u001b[39m\u001b[38;5;124mrepetition_code:memory\u001b[39m\u001b[38;5;124m\"\u001b[39m, distance\u001b[38;5;241m=\u001b[39m\u001b[43md\u001b[49m, rounds\u001b[38;5;241m=\u001b[39mT)\n\u001b[1;32m      4\u001b[0m \u001b[38;5;28mprint\u001b[39m(circuit_nf)\n",
      "\u001b[0;31mNameError\u001b[0m: name 'd' is not defined"
     ]
    }
   ],
   "source": [
    "import stim \n",
    "\n",
    "circuit_nf = stim.Circuit.generated(\"repetition_code:memory\", distance=d, rounds=T)\n",
    "print(circuit_nf)"
   ]
  },
  {
   "cell_type": "code",
   "execution_count": 16,
   "metadata": {},
   "outputs": [
    {
     "name": "stdout",
     "output_type": "stream",
     "text": [
      "R 0 1 2 3 4\n",
      "TICK\n",
      "DEPOLARIZE1(0.01) 0 2 4\n",
      "CX 0 1 2 3\n",
      "DEPOLARIZE2(0.01) 0 1 2 3\n",
      "TICK\n",
      "CX 2 1 4 3\n",
      "DEPOLARIZE2(0.01) 2 1 4 3\n",
      "TICK\n",
      "X_ERROR(0.01) 1 3\n",
      "MR 1 3\n",
      "DETECTOR(1, 0) rec[-2]\n",
      "DETECTOR(3, 0) rec[-1]\n",
      "TICK\n",
      "DEPOLARIZE1(0.01) 0 2 4\n",
      "CX 0 1 2 3\n",
      "DEPOLARIZE2(0.01) 0 1 2 3\n",
      "TICK\n",
      "CX 2 1 4 3\n",
      "DEPOLARIZE2(0.01) 2 1 4 3\n",
      "TICK\n",
      "X_ERROR(0.01) 1 3\n",
      "MR 1 3\n",
      "SHIFT_COORDS(0, 1)\n",
      "DETECTOR(1, 0) rec[-2] rec[-4]\n",
      "DETECTOR(3, 0) rec[-1] rec[-3]\n",
      "X_ERROR(0.01) 0 2 4\n",
      "M 0 2 4\n",
      "DETECTOR(1, 1) rec[-2] rec[-3] rec[-5]\n",
      "DETECTOR(3, 1) rec[-1] rec[-2] rec[-4]\n",
      "OBSERVABLE_INCLUDE(0) rec[-1]\n"
     ]
    }
   ],
   "source": [
    "import pymatching\n",
    "d=3\n",
    "T=2\n",
    "\n",
    "avg_noise = {\"two_gate\": 0.01, \"readout\": 0.01, \"idle\": 0.01}\n",
    "\n",
    "circuit = stim.Circuit.generated(\"repetition_code:memory\",\n",
    "                                distance=d,\n",
    "                                rounds=T,\n",
    "                                after_clifford_depolarization=avg_noise[\"two_gate\"], #two-qubit-fidelity,\n",
    "                                after_reset_flip_probability=0, #reset error,\n",
    "                                before_measure_flip_probability=avg_noise[\"readout\"], #measurement error,\n",
    "                                before_round_data_depolarization=avg_noise[\"idle\"]) #idle error)\n",
    "\n",
    "model = circuit.detector_error_model(decompose_errors=False)\n",
    "matching = pymatching.Matching.from_detector_error_model(model)\n",
    "\n",
    "# draw_matching_graph(matching, d, T, figsize=(2,2), scale_factor=0.5)\n",
    "print(circuit)"
   ]
  },
  {
   "cell_type": "code",
   "execution_count": null,
   "metadata": {},
   "outputs": [],
   "source": [
    "print(circuit)"
   ]
  },
  {
   "cell_type": "markdown",
   "metadata": {},
   "source": [
    "# Get backend noise"
   ]
  },
  {
   "cell_type": "code",
   "execution_count": null,
   "metadata": {},
   "outputs": [],
   "source": [
    "from soft_info import get_avgs_from_dict, get_noise_dict_from_backend, get_repcode_layout\n",
    "from result_saver import SaverProvider\n",
    "\n",
    "provider = SaverProvider()\n",
    "layout = get_repcode_layout(distance=50, backend=provider.get_backend(\"ibm_sherbrooke\"), _is_hex=True)"
   ]
  },
  {
   "cell_type": "code",
   "execution_count": null,
   "metadata": {},
   "outputs": [],
   "source": [
    "avg_noise = get_avgs_from_dict(get_noise_dict_from_backend(provider, device=\"ibm_sherbrooke\", \n",
    "                                                           used_qubits=None, date='2023-10-30'), used_qubits=layout)\n",
    "print(avg_noise)"
   ]
  },
  {
   "cell_type": "code",
   "execution_count": null,
   "metadata": {},
   "outputs": [],
   "source": [
    "avg_noise = get_avgs_from_dict(get_noise_dict_from_backend(provider, device=\"ibm_sherbrooke\", \n",
    "                                                           used_qubits=layout, date='2023-10-30'), used_qubits=layout)\n",
    "print(avg_noise)"
   ]
  },
  {
   "cell_type": "code",
   "execution_count": null,
   "metadata": {},
   "outputs": [],
   "source": []
  }
 ],
 "metadata": {
  "kernelspec": {
   "display_name": "Soft-Info-fMUpUe5a",
   "language": "python",
   "name": "python3"
  },
  "language_info": {
   "codemirror_mode": {
    "name": "ipython",
    "version": 3
   },
   "file_extension": ".py",
   "mimetype": "text/x-python",
   "name": "python",
   "nbconvert_exporter": "python",
   "pygments_lexer": "ipython3",
   "version": "3.11.4"
  }
 },
 "nbformat": 4,
 "nbformat_minor": 2
}
