{
 "cells": [
  {
   "cell_type": "code",
   "execution_count": 1,
   "metadata": {},
   "outputs": [],
   "source": [
    "%reload_ext autoreload\n",
    "%autoreload 2"
   ]
  },
  {
   "cell_type": "markdown",
   "metadata": {},
   "source": [
    "# Get msmt err dict"
   ]
  },
  {
   "cell_type": "code",
   "execution_count": 2,
   "metadata": {},
   "outputs": [],
   "source": [
    "from result_saver import SaverProvider\n",
    "\n",
    "provider = SaverProvider()"
   ]
  },
  {
   "cell_type": "code",
   "execution_count": 3,
   "metadata": {},
   "outputs": [
    {
     "name": "stdout",
     "output_type": "stream",
     "text": [
      "Found jobs for backend ibm_sherbrooke with closest execution date 2024-03-23 10:46:40.066413+00:00.\n"
     ]
    }
   ],
   "source": [
    "from Scratch import load_calibration_memory\n",
    "\n",
    "DEVICE = 'ibm_sherbrooke'\n",
    "DATE = '2024-03-24'\n",
    "\n",
    "all_mmrs, gmm_dict, msmt_err_dict = load_calibration_memory(provider, tobecalib_backend=DEVICE, other_date=DATE,\n",
    "                                                            double_msmt=True, post_process=True)"
   ]
  },
  {
   "cell_type": "code",
   "execution_count": 4,
   "metadata": {},
   "outputs": [
    {
     "name": "stdout",
     "output_type": "stream",
     "text": [
      "{0: {'p_hard': 0.004889509779019557, 'p_soft': 9.5250190500381e-05}, 1: {'p_hard': 0.004826009652019304, 'p_soft': 0.005143510287020574}, 2: {'p_hard': 0.013398526797053594, 'p_soft': 0.013049276098552196}, 3: {'p_hard': 0.006159512319024637, 'p_soft': 0.0012700025400050798}, 4: {'p_hard': 0.007207264414528829, 'p_soft': 0.0016827533655067312}, 5: {'p_hard': 0.011366522733045465, 'p_soft': 0.03349631699263399}, 6: {'p_hard': 0.018954787909575818, 'p_soft': 0.01936753873507747}, 7: {'p_hard': 0.007048514097028193, 'p_soft': 0.0013970027940055881}, 8: {'p_hard': 0.006318262636525273, 'p_soft': 0.03273431546863094}, 9: {'p_hard': 0.026638303276606552, 'p_soft': 0.01660528321056642}, 10: {'p_hard': 0.004730759461518923, 'p_soft': 0.0028257556515113033}, 11: {'p_hard': 0.007429514859029719, 'p_soft': 0.00158750317500635}, 12: {'p_hard': 0.014509779019558038, 'p_soft': 0.01908178816357633}, 13: {'p_hard': 0.008382016764033528, 'p_soft': 0.02867030734061468}, 14: {'p_hard': 0.014636779273558546, 'p_soft': 0.003238506477012954}, 15: {'p_hard': 0.04657734315468631, 'p_soft': 0.05635636271272543}, 16: {'p_hard': 0.012223774447548894, 'p_soft': 0.04498983997967996}, 17: {'p_hard': 0.009556769113538227, 'p_soft': 0.000889001778003556}, 18: {'p_hard': 0.010953771907543815, 'p_soft': 0.013938277876555754}, 19: {'p_hard': 0.014097028194056387, 'p_soft': 0.049752349504699006}, 20: {'p_hard': 0.4121158242316485, 'p_soft': 0.019431038862077726}, 21: {'p_hard': 0.3025781051562103, 'p_soft': 0.010541021082042164}, 22: {'p_hard': 0.014478028956057912, 'p_soft': 0.010541021082042164}, 23: {'p_hard': 0.006540513081026162, 'p_soft': 0.004286258572517145}, 24: {'p_hard': 0.009715519431038863, 'p_soft': 0.002762255524511049}, 25: {'p_hard': 0.0039687579375158755, 'p_soft': 0.018383286766573533}, 26: {'p_hard': 0.005238760477520955, 'p_soft': 0.000381000762001524}, 27: {'p_hard': 0.004730759461518923, 'p_soft': 0.002127254254508509}, 28: {'p_hard': 0.021018542037084073, 'p_soft': 0.014700279400558802}, 29: {'p_hard': 0.007524765049530099, 'p_soft': 0.001428752857505715}, 30: {'p_hard': 0.012033274066548133, 'p_soft': 0.000127000254000508}, 31: {'p_hard': 0.009398018796037593, 'p_soft': 0.002508255016510033}, 32: {'p_hard': 0.009588519177038353, 'p_soft': 0.019208788417576835}, 33: {'p_hard': 0.01301752603505207, 'p_soft': 3.1750063500127e-05}, 34: {'p_hard': 0.08334391668783338, 'p_soft': 0.009588519177038355}, 35: {'p_hard': 0.00847726695453391, 'p_soft': 0.000476250952501905}, 36: {'p_hard': 0.006223012446024892, 'p_soft': 0.00022225044450088899}, 37: {'p_hard': 0.009017018034036069, 'p_soft': 0.0039052578105156213}, 38: {'p_hard': 0.014700279400558802, 'p_soft': 0.00539751079502159}, 39: {'p_hard': 0.00793751587503175, 'p_soft': 0.000412750825501651}, 40: {'p_hard': 0.005207010414020828, 'p_soft': 0.000190500381000762}, 41: {'p_hard': 0.004254508509017018, 'p_soft': 9.5250190500381e-05}, 42: {'p_hard': 0.0070167640335280675, 'p_soft': 0.02679705359410719}, 43: {'p_hard': 0.008001016002032003, 'p_soft': 0.000412750825501651}, 44: {'p_hard': 0.0075565151130302256, 'p_soft': 9.5250190500381e-05}, 45: {'p_hard': 0.009334518669037338, 'p_soft': 0.000285750571501143}, 46: {'p_hard': 0.006858013716027431, 'p_soft': 0.000444500889001778}, 47: {'p_hard': 0.00466725933451867, 'p_soft': 0.00444500889001778}, 48: {'p_hard': 0.004000508001016002, 'p_soft': 0.004667259334518669}, 49: {'p_hard': 0.007651765303530607, 'p_soft': 0.000190500381000762}, 50: {'p_hard': 0.007112014224028448, 'p_soft': 0.00044450088900177797}, 51: {'p_hard': 0.007080264160528321, 'p_soft': 0.005111760223520447}, 52: {'p_hard': 0.013176276352552706, 'p_soft': 0.00047625095250190504}, 53: {'p_hard': 0.02190754381508763, 'p_soft': 0.005969011938023876}, 54: {'p_hard': 0.00539751079502159, 'p_soft': 9.5250190500381e-05}, 55: {'p_hard': 0.023114046228092454, 'p_soft': 0.001111252222504445}, 56: {'p_hard': 0.01492252984505969, 'p_soft': 0.001333502667005334}, 57: {'p_hard': 0.014827279654559308, 'p_soft': 0.002730505461010922}, 58: {'p_hard': 0.006318262636525273, 'p_soft': 6.3500127000254e-05}, 59: {'p_hard': 0.004286258572517145, 'p_soft': 0.008699517399034799}, 60: {'p_hard': 0.004762509525019051, 'p_soft': 0.000539751079502159}, 61: {'p_hard': 0.00666751333502667, 'p_soft': 0.000476250952501905}, 62: {'p_hard': 0.007842265684531368, 'p_soft': 0.01609728219456439}, 63: {'p_hard': 0.07515240030480061, 'p_soft': 0.03829057658115317}, 64: {'p_hard': 0.02447929895859792, 'p_soft': 0.000666751333502667}, 65: {'p_hard': 0.005429260858521717, 'p_soft': 0.011461772923545846}, 66: {'p_hard': 0.006572263144526289, 'p_soft': 0.000127000254000508}, 67: {'p_hard': 0.007683515367030734, 'p_soft': 0.00031750063500127}, 68: {'p_hard': 0.009810769621539244, 'p_soft': 3.1750063500127e-05}, 69: {'p_hard': 0.008223266446532894, 'p_soft': 0.000571501143002286}, 70: {'p_hard': 0.006540513081026162, 'p_soft': 0.000381000762001524}, 71: {'p_hard': 0.26041402082804166, 'p_soft': 0.006159512319024638}, 72: {'p_hard': 0.008985267970535941, 'p_soft': 0.03159131318262636}, 73: {'p_hard': 0.006381762763525527, 'p_soft': 6.3500127000254e-05}, 74: {'p_hard': 0.00412750825501651, 'p_soft': 0.0}, 75: {'p_hard': 0.02543180086360173, 'p_soft': 0.026352552705105413}, 76: {'p_hard': 0.006159512319024638, 'p_soft': 0.014636779273558546}, 77: {'p_hard': 0.015621031242062485, 'p_soft': 0.000254000508001016}, 78: {'p_hard': 0.01663703327406655, 'p_soft': 0.0015875031750063502}, 79: {'p_hard': 0.007080264160528321, 'p_soft': 9.5250190500381e-05}, 80: {'p_hard': 0.009588519177038353, 'p_soft': 0.0023495046990093978}, 81: {'p_hard': 0.004254508509017018, 'p_soft': 0.000476250952501905}, 82: {'p_hard': 0.00698501397002794, 'p_soft': 6.3500127000254e-05}, 83: {'p_hard': 0.08229616459232919, 'p_soft': 0.0025400050800101596}, 84: {'p_hard': 0.006064262128524257, 'p_soft': 6.3500127000254e-05}, 85: {'p_hard': 0.005588011176022352, 'p_soft': 0.011652273304546608}, 86: {'p_hard': 0.0127000254000508, 'p_soft': 0.002603505207010414}, 87: {'p_hard': 0.008604267208534418, 'p_soft': 0.00015875031750063498}, 88: {'p_hard': 0.008921767843535686, 'p_soft': 0.000825501651003302}, 89: {'p_hard': 0.009969519939039878, 'p_soft': 0.005461010922021844}, 90: {'p_hard': 0.009144018288036576, 'p_soft': 0.001174752349504699}, 91: {'p_hard': 0.00508001016002032, 'p_soft': 0.00025400050800101603}, 92: {'p_hard': 0.01758953517907036, 'p_soft': 0.007175514351028702}, 93: {'p_hard': 0.03067056134112268, 'p_soft': 0.001016002032004064}, 94: {'p_hard': 0.0050482600965201935, 'p_soft': 3.1750063500127e-05}, 95: {'p_hard': 0.012509525019050036, 'p_soft': 0.00015875031750063498}, 96: {'p_hard': 0.009048768097536195, 'p_soft': 0.00044450088900177797}, 97: {'p_hard': 0.012096774193548387, 'p_soft': 0.001333502667005334}, 98: {'p_hard': 0.02212979425958852, 'p_soft': 0.000476250952501905}, 99: {'p_hard': 0.010033020066040132, 'p_soft': 0.000412750825501651}, 100: {'p_hard': 0.013303276606553213, 'p_soft': 0.003556007112014224}, 101: {'p_hard': 0.004508509017018034, 'p_soft': 6.3500127000254e-05}, 102: {'p_hard': 0.0421005842011684, 'p_soft': 0.001524003048006096}, 103: {'p_hard': 0.029400558801117603, 'p_soft': 0.000857251714503429}, 104: {'p_hard': 0.003238506477012954, 'p_soft': 0.0}, 105: {'p_hard': 0.021653543307086617, 'p_soft': 0.000285750571501143}, 106: {'p_hard': 0.006127762255524511, 'p_soft': 6.3500127000254e-05}, 107: {'p_hard': 0.013112776225552451, 'p_soft': 9.5250190500381e-05}, 108: {'p_hard': 0.008159766319532639, 'p_soft': 9.5250190500381e-05}, 109: {'p_hard': 0.021653543307086614, 'p_soft': 0.004826009652019304}, 110: {'p_hard': 0.005588011176022352, 'p_soft': 9.5250190500381e-05}, 111: {'p_hard': 0.0056832613665227325, 'p_soft': 0.000444500889001778}, 112: {'p_hard': 0.019653289306578614, 'p_soft': 0.00044450088900177797}, 113: {'p_hard': 0.011557023114046229, 'p_soft': 0.000222250444500889}, 114: {'p_hard': 0.007080264160528321, 'p_soft': 0.0032702565405130814}, 115: {'p_hard': 0.005111760223520447, 'p_soft': 0.0005080010160020321}, 116: {'p_hard': 0.009080518161036322, 'p_soft': 3.1750063500127e-05}, 117: {'p_hard': 0.008318516637033275, 'p_soft': 0.000539751079502159}, 118: {'p_hard': 0.00698501397002794, 'p_soft': 3.1750063500127e-05}, 119: {'p_hard': 0.014446278892557786, 'p_soft': 0.000762001524003048}, 120: {'p_hard': 0.008763017526035052, 'p_soft': 0.000190500381000762}, 121: {'p_hard': 0.019780289560579124, 'p_soft': 0.000793751587503175}, 122: {'p_hard': 0.006826263652527305, 'p_soft': 0.000190500381000762}, 123: {'p_hard': 0.004730759461518923, 'p_soft': 0.0}, 124: {'p_hard': 0.00539751079502159, 'p_soft': 0.00015875031750063498}, 125: {'p_hard': 0.010922021844043688, 'p_soft': 0.000476250952501905}, 126: {'p_hard': 0.04959359918719838, 'p_soft': 0.0024447548895097787}}\n",
      "p_soft_mean: 0.005879011758023522\n",
      "p_hard_mean: 0.0201522903045806\n"
     ]
    }
   ],
   "source": [
    "print(msmt_err_dict)\n",
    "\n",
    "# get mean of the msmt errors\n",
    "p_soft_mean = 0\n",
    "p_hard_mean = 0\n",
    "for key, value in msmt_err_dict.items():\n",
    "    p_soft_mean += value['p_soft']\n",
    "    p_hard_mean += value['p_hard']\n",
    "p_soft_mean /= len(msmt_err_dict)\n",
    "p_hard_mean /= len(msmt_err_dict)\n",
    "\n",
    "print(f\"p_soft_mean: {p_soft_mean}\")\n",
    "print(f\"p_hard_mean: {p_hard_mean}\")"
   ]
  },
  {
   "cell_type": "markdown",
   "metadata": {},
   "source": [
    "# Create stim circuit"
   ]
  },
  {
   "cell_type": "code",
   "execution_count": 21,
   "metadata": {},
   "outputs": [],
   "source": [
    "msmt_err_dict = {\n",
    "    0: {'p_soft': 0.0, 'p_hard': 0.09},\n",
    "    1: {'p_soft': 0.18, 'p_hard': 0.19},\n",
    "    2: {'p_soft': 0.28, 'p_hard': 0.29},\n",
    "    3: {'p_soft': 0.38, 'p_hard': 0.39},\n",
    "    4: {'p_soft': 0.48, 'p_hard': 0.49},\n",
    "}"
   ]
  },
  {
   "cell_type": "code",
   "execution_count": 23,
   "metadata": {},
   "outputs": [
    {
     "name": "stdout",
     "output_type": "stream",
     "text": [
      "R 0 1 2 3 4\n",
      "TICK\n",
      "X_ERROR(0.001) 0 2 4\n",
      "Y_ERROR(0.001) 0 2 4\n",
      "Z_ERROR(0.005) 0 2 4\n",
      "CX 0 1 2 3\n",
      "DEPOLARIZE2(0.02) 0 1 2 3\n",
      "DEPOLARIZE1(0.02) 4\n",
      "TICK\n",
      "CX 2 1 4 3\n",
      "DEPOLARIZE2(0.02) 2 1 4 3\n",
      "DEPOLARIZE1(0.02) 0\n",
      "TICK\n",
      "X_ERROR(0.19) 1\n",
      "M(0.18) 1\n",
      "X_ERROR(0.39) 3\n",
      "M(0.38) 3\n",
      "DETECTOR(2, 0) rec[-2]\n",
      "DETECTOR(4, 0) rec[-1]\n",
      "SHIFT_COORDS(0, 1)\n",
      "X_ERROR(0.001) 0 2 4\n",
      "Y_ERROR(0.001) 0 2 4\n",
      "Z_ERROR(0.005) 0 2 4\n",
      "CX 0 1 2 3\n",
      "DEPOLARIZE2(0.02) 0 1 2 3\n",
      "DEPOLARIZE1(0.02) 4\n",
      "TICK\n",
      "CX 2 1 4 3\n",
      "DEPOLARIZE2(0.02) 2 1 4 3\n",
      "DEPOLARIZE1(0.02) 0\n",
      "TICK\n",
      "X_ERROR(0.19) 1\n",
      "M(0.18) 1\n",
      "X_ERROR(0.39) 3\n",
      "M(0.38) 3\n",
      "DETECTOR(2, 0) rec[-2]\n",
      "DETECTOR(4, 0) rec[-1]\n",
      "SHIFT_COORDS(0, 1)\n",
      "X_ERROR(0.09) 0\n",
      "M(0) 0\n",
      "X_ERROR(0.29) 2\n",
      "M(0) 2\n",
      "X_ERROR(0.49) 4\n",
      "M(0) 4\n",
      "DETECTOR(2, 0) rec[-3] rec[-2] rec[-5] rec[-7]\n",
      "DETECTOR(4, 0) rec[-2] rec[-1] rec[-4] rec[-6]\n",
      "OBSERVABLE_INCLUDE(0) rec[-1]\n"
     ]
    }
   ],
   "source": [
    "from soft_info import RepetitionCodeStimCircuit\n",
    "\n",
    "d = 3\n",
    "T = 2\n",
    "resets = False\n",
    "xbasis = False\n",
    "logical = '0'\n",
    "subsampling = True\n",
    "\n",
    "s_m = 0.5\n",
    "noise_list = [2e-2, 1e-3, 0.2e-2, 0.5e-2, 2e-2, 2e-2*(1-s_m), 2e-2*s_m] # [twog_err, sglg_err, t1_err, t2_err, readout_err, hard_err, soft_err]\n",
    "noise_list[-2:] = [p_hard_mean, p_soft_mean]\n",
    "# noise_list = None\n",
    "\n",
    "layout = [1, 3, 0, 2, 4]\n",
    "\n",
    "code = RepetitionCodeStimCircuit(d, T, xbasis=xbasis, resets=resets, noise_list=noise_list, \n",
    "                                 subsampling=subsampling, msmt_err_dict=msmt_err_dict, layout=layout,\n",
    "                                 no_fin_soft=True)\n",
    "\n",
    "circuit = code.circuits[logical]\n",
    "print(circuit)"
   ]
  },
  {
   "cell_type": "code",
   "execution_count": 10,
   "metadata": {},
   "outputs": [
    {
     "data": {
      "image/png": "[encoded data removed]",
      "text/plain": [
       "<Figure size 300x300 with 1 Axes>"
      ]
     },
     "metadata": {},
     "output_type": "display_data"
    }
   ],
   "source": [
    "import pymatching\n",
    "from soft_info import draw_matching_graph\n",
    "\n",
    "model = circuit.detector_error_model()\n",
    "matching = pymatching.Matching.from_detector_error_model(model)\n",
    "\n",
    "draw_matching_graph(matching, d, T, figsize=(2,2), scale_factor=0.6)"
   ]
  }
 ],
 "metadata": {
  "kernelspec": {
   "display_name": "Soft-Info-fMUpUe5a",
   "language": "python",
   "name": "python3"
  },
  "language_info": {
   "codemirror_mode": {
    "name": "ipython",
    "version": 3
   },
   "file_extension": ".py",
   "mimetype": "text/x-python",
   "name": "python",
   "nbconvert_exporter": "python",
   "pygments_lexer": "ipython3",
   "version": "3.11.4"
  }
 },
 "nbformat": 4,
 "nbformat_minor": 2
}
