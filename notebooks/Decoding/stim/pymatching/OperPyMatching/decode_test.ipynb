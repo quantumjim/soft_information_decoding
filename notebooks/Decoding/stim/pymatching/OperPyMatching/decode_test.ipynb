{
 "cells": [
  {
   "cell_type": "markdown",
   "metadata": {},
   "source": [
    "# Load functions"
   ]
  },
  {
   "cell_type": "code",
   "execution_count": 32,
   "metadata": {},
   "outputs": [],
   "source": [
    "import pymatching\n",
    "import numpy as np\n",
    "import networkx as nx\n",
    "import matplotlib.pyplot as plt\n",
    "\n",
    "from soft_info import get_repcode_IQ_map, llh_ratio\n",
    "\n",
    "def process_string(input_str, verbose=False):\n",
    "    # Step 1: Invert the order of the string\n",
    "    reversed_str = input_str[::-1]\n",
    "    if verbose:\n",
    "        print(\"Reversed str:\", reversed_str)\n",
    "\n",
    "    # Step 2: Separate the last part of the string\n",
    "    last_part = reversed_str.split(\" \")[-1]\n",
    "    if verbose:\n",
    "        print(\"Count str:\", last_part)\n",
    "    \n",
    "    # Step 3: Perform XOR operations on the last part\n",
    "    xor_result = ''.join([str((int(last_part[i]) + int(last_part[i + 1])) % 2) for i in range(len(last_part) - 1)])\n",
    "    if verbose:\n",
    "        print(\"XOR result:\", xor_result)\n",
    "    \n",
    "    # Step 4: Remove the remaining spaces in the first part of the string\n",
    "    first_part = ''.join(reversed_str.split(\" \")[:-1])\n",
    "    if verbose:\n",
    "        print(\"First part:\", first_part)\n",
    "    \n",
    "    # Step 5: Separate each bit of the string into a list of a NumPy array\n",
    "    numpy_list = np.array([int(bit) for bit in first_part]+ [int(bit) for bit in xor_result])\n",
    "    if verbose:\n",
    "        print(\"Numpy list:\", numpy_list)\n",
    "    \n",
    "    return numpy_list\n",
    "\n",
    "\n",
    "def reweight_edges_to_one(matching: pymatching.Matching):\n",
    "    for edge in matching.edges():\n",
    "        src_node, tgt_node, edge_data = edge\n",
    "        fault_ids = edge_data.get('fault_ids', set())\n",
    "        error_probability = edge_data.get('error_probability', -1.0)\n",
    "        \n",
    "        if tgt_node is None:\n",
    "            matching.add_boundary_edge(src_node, weight=1, fault_ids=fault_ids, \n",
    "                              error_probability=error_probability, merge_strategy=\"replace\")\n",
    "        else:\n",
    "            matching.add_edge(src_node, tgt_node, weight=1, fault_ids=fault_ids, \n",
    "                          error_probability=error_probability, merge_strategy=\"replace\")\n",
    "\n",
    "\n",
    "def soft_reweight_pymatching(matching : pymatching.Matching,  d : int, T : int, IQ_data, \n",
    "                             kde_dict: dict, layout : list, scaler_dict : dict,\n",
    "                             p_data : float = None, p_meas : float = None, common_measure = None,\n",
    "                             verbose : bool = False):\n",
    "\n",
    "    p_data = p_data if p_data is not None else 6.836e-3  # Sherbrooke median\n",
    "    p_meas = p_meas if p_meas is not None else 0\n",
    "\n",
    "    if layout is not None:\n",
    "        qubit_mapping = get_repcode_IQ_map(layout, T)\n",
    "\n",
    "    for edge in matching.edges():\n",
    "        src_node, tgt_node, edge_data = edge\n",
    "        if verbose:\n",
    "            print(\"\\nEdge:\", (src_node, tgt_node))\n",
    "        fault_ids = edge_data.get('fault_ids', set())\n",
    "        error_probability = edge_data.get('error_probability', -1.0)\n",
    "        \n",
    "        if tgt_node is None:  # always second pose None\n",
    "            # Boundary edge (logical on it)\n",
    "            new_weight = -np.log(p_data / (1 - p_data))\n",
    "\n",
    "            if common_measure is not None:\n",
    "                new_weight = round(new_weight / common_measure) * common_measure\n",
    "                \n",
    "            matching.add_boundary_edge(src_node, weight=new_weight, fault_ids=fault_ids, \n",
    "                              error_probability=error_probability, merge_strategy=\"replace\")\n",
    "            if verbose:\n",
    "                print(\"Boundary edge weight: \", new_weight)\n",
    "\n",
    "            _has_time_component = False\n",
    "            continue\n",
    "        elif tgt_node == src_node + 1:  # always first pos the smaller\n",
    "            # Data edge\n",
    "            new_weight = -np.log(p_data / (1 - p_data))\n",
    "            if common_measure is not None:\n",
    "                new_weight = round(new_weight / common_measure) * common_measure\n",
    "            if verbose:\n",
    "                print(\"Data edge weight: \", new_weight)\n",
    "        elif tgt_node == src_node + (d-1):\n",
    "            # Time edge\n",
    "            #TODO implement adding a new edge for hard meas flip\n",
    "            new_weight = 0 #-np.log(p_meas / (1 - p_meas))\n",
    "            _has_time_component = True\n",
    "            if verbose:\n",
    "                print(\"Time edge weight: \", new_weight)\n",
    "        elif tgt_node == src_node + (d-1) + 1:\n",
    "            # mixed edge\n",
    "            # TODO implement adding a new DIAG edge for hard meas flip\n",
    "            new_weight = -np.log(p_data / (1 - p_data))# - np.log(p_meas / (1 - p_meas))\n",
    "            _has_time_component = True\n",
    "            if verbose:\n",
    "                print(\"Mixed edge weight: \", new_weight)\n",
    "\n",
    "        if _has_time_component: \n",
    "            #Structure of IQ data = [link_0, link_1, link_3, link_0, link_1, .., code_qubit_1, ...]\n",
    "            # equivalent to       = [node_0, node_1, node_3, node_4, node_5, .. ]\n",
    "            # =>\n",
    "            IQ_point = IQ_data[src_node]\n",
    "            layout_qubit_idx = qubit_mapping[src_node]\n",
    "            kde_0, kde_1 = kde_dict.get(layout_qubit_idx, (None, None))\n",
    "            scaler = scaler_dict.get(layout_qubit_idx, None)\n",
    "            llh_weight = llh_ratio(IQ_point, kde_0, kde_1, scaler)\n",
    "            \n",
    "            if verbose:\n",
    "                print(\"LLH weight: \", llh_weight)\n",
    "        \n",
    "            new_weight += llh_weight\n",
    "\n",
    "            # Round the weights to common measure\n",
    "            if common_measure is not None:\n",
    "                new_weight = round(new_weight / common_measure) * common_measure\n",
    "\n",
    "        # Update the edge weight\n",
    "        matching.add_edge(src_node, tgt_node, weight=new_weight, fault_ids=fault_ids, \n",
    "                          error_probability=error_probability, merge_strategy=\"replace\")\n",
    "\n",
    "\n",
    "\n",
    "def draw_matching_graph(matching, d, T):\n",
    "    G = nx.Graph()\n",
    "    pos = {}\n",
    "    edge_colors = []\n",
    "    \n",
    "    for edge in matching.edges():\n",
    "        src_node, tgt_node, edge_data = edge\n",
    "        if tgt_node is not None:\n",
    "            G.add_edge(src_node, tgt_node, weight=edge_data['weight'])\n",
    "            if edge_data.get('fault_ids'):\n",
    "                edge_colors.append('r')\n",
    "            else:\n",
    "                edge_colors.append('k')\n",
    "        \n",
    "        x_src = src_node % (d-1)\n",
    "        y_src = src_node // (d-1)\n",
    "        pos[src_node] = (x_src, -y_src)\n",
    "    \n",
    "    nx.draw(G, pos, with_labels=True, node_color='white', edge_color=edge_colors, font_weight='bold', node_size=700, font_size=18)\n",
    "    \n",
    "    edge_weights = nx.get_edge_attributes(G, 'weight')\n",
    "    labels = {k: f\"{v:.2f}\" for k, v in edge_weights.items()}\n",
    "    \n",
    "    nx.draw_networkx_edge_labels(G, pos, edge_labels=labels)\n",
    "\n",
    "    for edge in matching.edges():\n",
    "        src_node, tgt_node, edge_data = edge\n",
    "        if tgt_node is None:\n",
    "            x_src = src_node % (d-1)\n",
    "            y_src = src_node // (d-1)\n",
    "            color = 'r' if edge_data.get('fault_ids') == set() else 'k'\n",
    "            weight_text = f\"{edge_data.get('weight'):.2f}\"\n",
    "            if x_src == 0:\n",
    "                plt.plot([x_src, x_src - 0.5], [-y_src, -y_src], color=color)\n",
    "                plt.text(x_src - 0.3, -y_src + 0.05, weight_text)\n",
    "            elif x_src == d - 2:\n",
    "                plt.plot([x_src, x_src + 0.5], [-y_src, -y_src], color=color)\n",
    "                plt.text(x_src + 0.2, -y_src + 0.05, weight_text)\n",
    "\n",
    "    nx.draw_networkx_nodes(G, pos, node_color='skyblue', node_size=700)\n",
    "    \n",
    "    plt.show()      \n"
   ]
  },
  {
   "cell_type": "markdown",
   "metadata": {},
   "source": [
    "# Load data"
   ]
  },
  {
   "cell_type": "code",
   "execution_count": 7,
   "metadata": {},
   "outputs": [],
   "source": [
    "import numpy as np\n",
    "import stim\n",
    "import pymatching\n",
    "\n",
    "# Code parameters\n",
    "d=3\n",
    "T=3\n",
    "layout = [25, 19, 26, 22, 16] # Hardcoded for testing purposes, can be retrieved\n",
    "\n",
    "\n",
    "circuit = stim.Circuit.generated(\"repetition_code:memory\",\n",
    "                                 distance=d,\n",
    "                                 rounds=T,\n",
    "                                 after_clifford_depolarization=0.1)\n",
    "\n",
    "model = circuit.detector_error_model(decompose_errors=True)\n",
    "matching = pymatching.Matching.from_detector_error_model(model)\n",
    "\n",
    "#draw_matching_graph(matching, d, T)"
   ]
  },
  {
   "cell_type": "code",
   "execution_count": 9,
   "metadata": {},
   "outputs": [],
   "source": [
    "from result_saver import SaverProvider\n",
    "from soft_info import get_counts, get_KDEs\n",
    "provider = SaverProvider()\n",
    "\n",
    "\n",
    "job = provider.retrieve_job(\"cmyhbrqrmwhg008bs4h0\")\n",
    "memory = job.result().get_memory()\n",
    "\n",
    "kde_dict, scaler_dict = get_KDEs(provider, 'ibmq_mumbai', layout, bandwidths=0.2, plot=False)\n"
   ]
  },
  {
   "cell_type": "code",
   "execution_count": 13,
   "metadata": {},
   "outputs": [
    {
     "name": "stdout",
     "output_type": "stream",
     "text": [
      "Memory: (1000, 9)\n"
     ]
    }
   ],
   "source": [
    "print(\"Memory:\", memory.shape)"
   ]
  },
  {
   "cell_type": "code",
   "execution_count": 81,
   "metadata": {},
   "outputs": [
    {
     "name": "stderr",
     "output_type": "stream",
     "text": [
      "100%|██████████| 1000/1000 [01:10<00:00, 14.23it/s]"
     ]
    },
    {
     "name": "stdout",
     "output_type": "stream",
     "text": [
      "Num errors: 35\n"
     ]
    },
    {
     "name": "stderr",
     "output_type": "stream",
     "text": [
      "\n"
     ]
    }
   ],
   "source": [
    "from tqdm import tqdm\n",
    "\n",
    "VERBOSE = False\n",
    "\n",
    "actual_observables = np.array([[False]]) # hardcoded, can be retrieved\n",
    "num_errors = 0\n",
    "\n",
    "i = 0\n",
    "w_idx_lst = []\n",
    "for shot in tqdm(range(len(memory))[:]):\n",
    "    i += 1\n",
    "    IQ_data = memory[shot]\n",
    "\n",
    "    counts = get_counts([IQ_data], kde_dict, scaler_dict, layout, T, verbose=False)\n",
    "    count_key = next(iter(counts.keys()))\n",
    "\n",
    "    if count_key == '000 00 00 00':\n",
    "        #print(\"Skipping all zeros\")\n",
    "        continue    \n",
    "\n",
    "    soft_reweight_pymatching(matching, d, T, IQ_data, kde_dict, layout, scaler_dict, common_measure=0.0001, verbose=False)  \n",
    "\n",
    "    array_processed_string = process_string(count_key, verbose=False)\n",
    "\n",
    "    predicted_observables = matching.decode(array_processed_string)\n",
    "\n",
    "\n",
    "\n",
    "    if predicted_observables == [0]:\n",
    "        continue\n",
    "    \n",
    "    #print(f\"Wrong decoding at index {i}\")\n",
    "    w_idx_lst.append(i)\n",
    "\n",
    "    \n",
    "    if VERBOSE:\n",
    "        print(\"Count key:\", count_key)\n",
    "        print(\"process_string:\", array_processed_string)\n",
    "\n",
    "    if VERBOSE:\n",
    "        draw_matching_graph(matching, d, T)\n",
    "\n",
    "    if VERBOSE:\n",
    "        matched_edges = matching.decode_to_edges_array(array_processed_string)\n",
    "        print(\"matched_edges: \", matched_edges)\n",
    "        print(\"Estimated flip:\", predicted_observables)\n",
    "\n",
    "    num_errors += not np.array_equal(actual_observables[0, :], predicted_observables) # 0 can be changed to i if multiple observables and multiple syndromes per ovbservable\n",
    "\n",
    "print(\"Num errors:\", num_errors)"
   ]
  },
  {
   "cell_type": "code",
   "execution_count": 72,
   "metadata": {},
   "outputs": [
    {
     "name": "stderr",
     "output_type": "stream",
     "text": [
      " 70%|███████   | 14/20 [00:00<00:00, 18.13it/s]"
     ]
    },
    {
     "name": "stdout",
     "output_type": "stream",
     "text": [
      "Count key: 001 01 10 00\n",
      "process_string: [0 0 0 1 1 0 1 0]\n"
     ]
    },
    {
     "data": {
      "image/png": "[encoded data removed]",
      "text/plain": [
       "<Figure size 640x480 with 1 Axes>"
      ]
     },
     "metadata": {},
     "output_type": "display_data"
    },
    {
     "name": "stderr",
     "output_type": "stream",
     "text": [
      " 90%|█████████ | 18/20 [00:01<00:00, 15.18it/s]"
     ]
    },
    {
     "name": "stdout",
     "output_type": "stream",
     "text": [
      "matched_edges:  [[ 3 -1]\n",
      " [ 4  6]]\n",
      "Estimated flip: [1]\n"
     ]
    },
    {
     "name": "stderr",
     "output_type": "stream",
     "text": [
      "100%|██████████| 20/20 [00:01<00:00, 16.03it/s]"
     ]
    },
    {
     "name": "stdout",
     "output_type": "stream",
     "text": [
      "Num errors: 1\n"
     ]
    },
    {
     "name": "stderr",
     "output_type": "stream",
     "text": [
      "\n"
     ]
    }
   ],
   "source": [
    "from tqdm import tqdm\n",
    "\n",
    "VERBOSE = True\n",
    "\n",
    "actual_observables = np.array([[False]]) # hardcoded, can be retrieved\n",
    "num_errors = 0\n",
    "\n",
    "i = 0\n",
    "nw_idx_lst = []\n",
    "for shot in tqdm(range(len(memory))[510:530]):\n",
    "    i += 1\n",
    "    IQ_data = memory[shot]\n",
    "\n",
    "    counts = get_counts([IQ_data], kde_dict, scaler_dict, layout, T, verbose=False)\n",
    "    count_key = next(iter(counts.keys()))\n",
    "\n",
    "    if count_key == '000 00 00 00':\n",
    "        #print(\"Skipping all zeros\")\n",
    "        continue    \n",
    "\n",
    "    reweight_edges_to_one(matching)  \n",
    "\n",
    "    array_processed_string = process_string(count_key, verbose=False)\n",
    "\n",
    "    predicted_observables = matching.decode(array_processed_string)\n",
    "\n",
    "    if predicted_observables == [0]:\n",
    "        continue\n",
    "    \n",
    "    #print(f\"Wrong decoding at index {i}\")\n",
    "    nw_idx_lst.append(i)\n",
    "    \n",
    "    if VERBOSE:\n",
    "        print(\"Count key:\", count_key)\n",
    "        print(\"process_string:\", array_processed_string)\n",
    "\n",
    "    if VERBOSE:\n",
    "        draw_matching_graph(matching, d, T)\n",
    "\n",
    "    if VERBOSE:\n",
    "        matched_edges = matching.decode_to_edges_array(array_processed_string)\n",
    "        print(\"matched_edges: \", matched_edges)\n",
    "        print(\"Estimated flip:\", predicted_observables)\n",
    "\n",
    "    num_errors += not np.array_equal(actual_observables[0, :], predicted_observables) # 0 can be changed to i if multiple observables and multiple syndromes per ovbservable\n",
    "\n",
    "print(\"Num errors:\", num_errors)"
   ]
  },
  {
   "cell_type": "code",
   "execution_count": 62,
   "metadata": {},
   "outputs": [
    {
     "name": "stdout",
     "output_type": "stream",
     "text": [
      "Different wrong indices: [525]\n",
      "w_idx_lst: {388, 262, 136, 392, 780, 911, 656, 401, 657, 660, 917, 536, 409, 413, 802, 547, 420, 808, 431, 563, 949, 313, 831, 962, 579, 453, 456, 712, 973, 469, 488, 240, 756, 506, 895}\n",
      "nw_idx_lst: {388, 262, 136, 392, 780, 525, 911, 656, 401, 657, 660, 917, 536, 409, 413, 802, 547, 420, 808, 431, 563, 949, 313, 831, 962, 579, 453, 456, 712, 973, 469, 488, 240, 756, 506, 895}\n"
     ]
    }
   ],
   "source": [
    "# find the indices that are just in one list\n",
    "w_idx_lst = set(w_idx_lst)\n",
    "nw_idx_lst = set(nw_idx_lst)\n",
    "unique_idx_list = list(w_idx_lst.symmetric_difference(nw_idx_lst))\n",
    "\n",
    "print(\"Different wrong indices:\", unique_idx_list)\n",
    "print(\"w_idx_lst:\", w_idx_lst)\n",
    "print(\"nw_idx_lst:\", nw_idx_lst)"
   ]
  },
  {
   "cell_type": "code",
   "execution_count": null,
   "metadata": {},
   "outputs": [],
   "source": []
  }
 ],
 "metadata": {
  "kernelspec": {
   "display_name": "Soft-Info-Sk8aHGSa",
   "language": "python",
   "name": "python3"
  },
  "language_info": {
   "codemirror_mode": {
    "name": "ipython",
    "version": 3
   },
   "file_extension": ".py",
   "mimetype": "text/x-python",
   "name": "python",
   "nbconvert_exporter": "python",
   "pygments_lexer": "ipython3",
   "version": "3.11.4"
  }
 },
 "nbformat": 4,
 "nbformat_minor": 2
}
