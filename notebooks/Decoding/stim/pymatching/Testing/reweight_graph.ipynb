{
 "cells": [
  {
   "cell_type": "code",
   "execution_count": 1,
   "metadata": {},
   "outputs": [],
   "source": [
    "%reload_ext autoreload\n",
    "%autoreload 2"
   ]
  },
  {
   "cell_type": "code",
   "execution_count": 2,
   "metadata": {},
   "outputs": [],
   "source": [
    "from result_saver import SaverProvider\n",
    "from soft_info import get_counts, get_KDEs\n",
    "provider = SaverProvider()\n",
    "\n",
    "# Code params\n",
    "d = 3\n",
    "T = 3\n",
    "layout = [25, 19, 26, 22, 16] # Hardcoded for testing purposes, can be retrieved\n",
    "\n",
    "\n",
    "job = provider.retrieve_job(\"cmyhbrqrmwhg008bs4h0\")\n",
    "memory = job.result().get_memory()\n",
    "\n",
    "kde_dict, scaler_dict = get_KDEs(provider, 'ibmq_mumbai', layout, bandwidths=0.2, plot=False)"
   ]
  },
  {
   "cell_type": "code",
   "execution_count": 3,
   "metadata": {},
   "outputs": [],
   "source": [
    "from qiskit_qec.circuits import RepetitionCodeCircuit, ArcCircuit\n",
    "from qiskit_qec.decoders import UnionFindDecoder\n",
    "from soft_info import rx_draw_2D, soft_reweight\n",
    "\n",
    "decoder = UnionFindDecoder(RepetitionCodeCircuit(d, T))\n",
    "\n",
    "shot = 0\n",
    "\n",
    "IQ_data = memory[shot]\n",
    "\n",
    "counts = get_counts([IQ_data], kde_dict, scaler_dict, layout, T, verbose=False)\n",
    "count_key = next(iter(counts.keys()))\n",
    "\n",
    "reweighted_graph = soft_reweight(decoder, IQ_data, kde_dict, scaler_dict, layout)\n",
    "decoder.graph = reweighted_graph"
   ]
  },
  {
   "cell_type": "code",
   "execution_count": 4,
   "metadata": {},
   "outputs": [
    {
     "data": {
      "text/plain": [
       "{'qubits': [], 'weight': 7.715909642347404, 'properties': {}}"
      ]
     },
     "execution_count": 4,
     "metadata": {},
     "output_type": "execute_result"
    }
   ],
   "source": [
    "graph = decoder.graph\n",
    "\n",
    "graph.edges()[0]"
   ]
  },
  {
   "cell_type": "code",
   "execution_count": 5,
   "metadata": {},
   "outputs": [
    {
     "ename": "QiskitQECError",
     "evalue": "\"'fault_ids' is not an an attribute or property of the edge.\"",
     "output_type": "error",
     "traceback": [
      "\u001b[0;31m---------------------------------------------------------------------------\u001b[0m",
      "\u001b[0;31mQiskitQECError\u001b[0m                            Traceback (most recent call last)",
      "\u001b[1;32m/Users/mha/My Drive/Desktop/Studium/Physik/MSc/Semester 3/IBM/IBM GIT/Soft-Info/notebooks/pymatching/Intro_pymatching.ipynb Cell 5\u001b[0m line \u001b[0;36m3\n\u001b[1;32m      <a href='vscode-notebook-cell:/Users/mha/My%20Drive/Desktop/Studium/Physik/MSc/Semester%203/IBM/IBM%20GIT/Soft-Info/notebooks/pymatching/Intro_pymatching.ipynb#W4sZmlsZQ%3D%3D?line=0'>1</a>\u001b[0m \u001b[39mimport\u001b[39;00m \u001b[39mpymatching\u001b[39;00m\n\u001b[0;32m----> <a href='vscode-notebook-cell:/Users/mha/My%20Drive/Desktop/Studium/Physik/MSc/Semester%203/IBM/IBM%20GIT/Soft-Info/notebooks/pymatching/Intro_pymatching.ipynb#W4sZmlsZQ%3D%3D?line=2'>3</a>\u001b[0m matching \u001b[39m=\u001b[39m pymatching\u001b[39m.\u001b[39;49mMatching(decoder\u001b[39m.\u001b[39;49mgraph)\n",
      "File \u001b[0;32m~/.local/share/virtualenvs/Soft-Info-Sk8aHGSa/lib/python3.11/site-packages/pymatching/matching.py:142\u001b[0m, in \u001b[0;36mMatching.__init__\u001b[0;34m(self, graph, weights, error_probabilities, repetitions, timelike_weights, measurement_error_probabilities, **kwargs)\u001b[0m\n\u001b[1;32m    140\u001b[0m     \u001b[39mself\u001b[39m\u001b[39m.\u001b[39mload_from_networkx(graph)\n\u001b[1;32m    141\u001b[0m \u001b[39melif\u001b[39;00m \u001b[39misinstance\u001b[39m(graph, rx\u001b[39m.\u001b[39mPyGraph):\n\u001b[0;32m--> 142\u001b[0m     \u001b[39mself\u001b[39;49m\u001b[39m.\u001b[39;49mload_from_retworkx(graph)\n\u001b[1;32m    143\u001b[0m \u001b[39melif\u001b[39;00m \u001b[39mtype\u001b[39m(graph)\u001b[39m.\u001b[39m\u001b[39m__name__\u001b[39m \u001b[39m==\u001b[39m \u001b[39m\"\u001b[39m\u001b[39mDetectorErrorModel\u001b[39m\u001b[39m\"\u001b[39m:\n\u001b[1;32m    144\u001b[0m     \u001b[39mself\u001b[39m\u001b[39m.\u001b[39m_load_from_detector_error_model(graph)\n",
      "File \u001b[0;32m~/.local/share/virtualenvs/Soft-Info-Sk8aHGSa/lib/python3.11/site-packages/pymatching/matching.py:1535\u001b[0m, in \u001b[0;36mMatching.load_from_retworkx\u001b[0;34m(self, graph, min_num_fault_ids)\u001b[0m\n\u001b[1;32m   1533\u001b[0m     fault_ids \u001b[39m=\u001b[39m attr[\u001b[39m\"\u001b[39m\u001b[39mqubit_id\u001b[39m\u001b[39m\"\u001b[39m]  \u001b[39m# Still accept qubit_id as well for now\u001b[39;00m\n\u001b[1;32m   1534\u001b[0m \u001b[39melse\u001b[39;00m:\n\u001b[0;32m-> 1535\u001b[0m     fault_ids \u001b[39m=\u001b[39m attr\u001b[39m.\u001b[39;49mget(\u001b[39m\"\u001b[39;49m\u001b[39mfault_ids\u001b[39;49m\u001b[39m\"\u001b[39;49m, \u001b[39mset\u001b[39;49m())\n\u001b[1;32m   1536\u001b[0m \u001b[39mif\u001b[39;00m \u001b[39misinstance\u001b[39m(fault_ids, (\u001b[39mint\u001b[39m, np\u001b[39m.\u001b[39minteger)):\n\u001b[1;32m   1537\u001b[0m     fault_ids \u001b[39m=\u001b[39m {\u001b[39mint\u001b[39m(fault_ids)} \u001b[39mif\u001b[39;00m fault_ids \u001b[39m!=\u001b[39m \u001b[39m-\u001b[39m\u001b[39m1\u001b[39m \u001b[39melse\u001b[39;00m \u001b[39mset\u001b[39m()\n",
      "File \u001b[0;32m~/My Drive/Desktop/Studium/Physik/MSc/Semester 3/IBM/IBM GIT/Soft-Info/libs/qiskit-qec/src/qiskit_qec/utils/decoding_graph_attributes.py:127\u001b[0m, in \u001b[0;36mDecodingGraphEdge.get\u001b[0;34m(self, key, _)\u001b[0m\n\u001b[1;32m    125\u001b[0m \u001b[39m\u001b[39m\u001b[39m\"\"\"A dummy docstring.\"\"\"\u001b[39;00m\n\u001b[1;32m    126\u001b[0m \u001b[39m# pylint: disable=unnecessary-dunder-call\u001b[39;00m\n\u001b[0;32m--> 127\u001b[0m \u001b[39mreturn\u001b[39;00m \u001b[39mself\u001b[39;49m\u001b[39m.\u001b[39;49m\u001b[39m__getitem__\u001b[39;49m(key)\n",
      "File \u001b[0;32m~/My Drive/Desktop/Studium/Physik/MSc/Semester 3/IBM/IBM GIT/Soft-Info/libs/qiskit-qec/src/qiskit_qec/utils/decoding_graph_attributes.py:120\u001b[0m, in \u001b[0;36mDecodingGraphEdge.__getitem__\u001b[0;34m(self, key)\u001b[0m\n\u001b[1;32m    118\u001b[0m     \u001b[39mreturn\u001b[39;00m \u001b[39mself\u001b[39m\u001b[39m.\u001b[39mproperties[key]\n\u001b[1;32m    119\u001b[0m \u001b[39melse\u001b[39;00m:\n\u001b[0;32m--> 120\u001b[0m     \u001b[39mraise\u001b[39;00m QiskitQECError(\n\u001b[1;32m    121\u001b[0m         \u001b[39m\"\u001b[39m\u001b[39m'\u001b[39m\u001b[39m\"\u001b[39m \u001b[39m+\u001b[39m \u001b[39mstr\u001b[39m(key) \u001b[39m+\u001b[39m \u001b[39m\"\u001b[39m\u001b[39m'\u001b[39m\u001b[39m\"\u001b[39m \u001b[39m+\u001b[39m \u001b[39m\"\u001b[39m\u001b[39m is not an an attribute or property of the edge.\u001b[39m\u001b[39m\"\u001b[39m\n\u001b[1;32m    122\u001b[0m     )\n",
      "\u001b[0;31mQiskitQECError\u001b[0m: \"'fault_ids' is not an an attribute or property of the edge.\""
     ]
    }
   ],
   "source": [
    "import pymatching\n",
    "\n",
    "matching = pymatching.Matching(decoder.graph)"
   ]
  },
  {
   "cell_type": "code",
   "execution_count": null,
   "metadata": {},
   "outputs": [],
   "source": []
  }
 ],
 "metadata": {
  "kernelspec": {
   "display_name": "Soft-Info-Sk8aHGSa",
   "language": "python",
   "name": "python3"
  },
  "language_info": {
   "codemirror_mode": {
    "name": "ipython",
    "version": 3
   },
   "file_extension": ".py",
   "mimetype": "text/x-python",
   "name": "python",
   "nbconvert_exporter": "python",
   "pygments_lexer": "ipython3",
   "version": "3.11.4"
  }
 },
 "nbformat": 4,
 "nbformat_minor": 2
}
