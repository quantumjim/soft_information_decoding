{
 "cells": [
  {
   "cell_type": "code",
   "execution_count": 1,
   "metadata": {},
   "outputs": [],
   "source": [
    "%reload_ext autoreload\n",
    "%autoreload 2"
   ]
  },
  {
   "cell_type": "code",
   "execution_count": 11,
   "metadata": {},
   "outputs": [],
   "source": [
    "from soft_info import get_avgs_from_dict, get_noise_dict_from_backend, get_repcode_layout\n",
    "from result_saver import SaverProvider\n",
    "\n",
    "provider = SaverProvider()\n",
    "backend = provider.get_backend('ibm_sherbrooke')\n",
    "backend.properties\n",
    "layout = get_repcode_layout(distance=50, backend=backend, _is_hex=True)"
   ]
  },
  {
   "cell_type": "code",
   "execution_count": 20,
   "metadata": {},
   "outputs": [
    {
     "name": "stdout",
     "output_type": "stream",
     "text": [
      "{'idle': 0.03856061563096524, 'readout': 0.017703367003367002, 'single_gate': 0.000264015469870808, 'two_gate': 0.019068341733019405}\n"
     ]
    }
   ],
   "source": [
    "avg_noise = get_avgs_from_dict(get_noise_dict_from_backend(backend, used_qubits=layout, date='2023-10-30'))\n",
    "print(avg_noise)"
   ]
  }
 ],
 "metadata": {
  "kernelspec": {
   "display_name": "Soft-Info-fMUpUe5a",
   "language": "python",
   "name": "python3"
  },
  "language_info": {
   "codemirror_mode": {
    "name": "ipython",
    "version": 3
   },
   "file_extension": ".py",
   "mimetype": "text/x-python",
   "name": "python",
   "nbconvert_exporter": "python",
   "pygments_lexer": "ipython3",
   "version": "3.11.4"
  }
 },
 "nbformat": 4,
 "nbformat_minor": 2
}
