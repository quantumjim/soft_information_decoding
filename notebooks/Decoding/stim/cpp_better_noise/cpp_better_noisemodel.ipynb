{
 "cells": [
  {
   "cell_type": "code",
   "execution_count": 1,
   "metadata": {},
   "outputs": [],
   "source": [
    "import cpp_soft_info"
   ]
  },
  {
   "cell_type": "markdown",
   "metadata": {},
   "source": [
    "# Load Data"
   ]
  },
  {
   "cell_type": "code",
   "execution_count": 2,
   "metadata": {},
   "outputs": [],
   "source": [
    "%reload_ext autoreload\n",
    "%autoreload 2"
   ]
  },
  {
   "cell_type": "code",
   "execution_count": 3,
   "metadata": {},
   "outputs": [],
   "source": [
    "from result_saver import SaverProvider\n",
    "provider = SaverProvider()"
   ]
  },
  {
   "cell_type": "code",
   "execution_count": 4,
   "metadata": {},
   "outputs": [
    {
     "data": {
      "text/html": [
       "<div>\n",
       "<style scoped>\n",
       "    .dataframe tbody tr th:only-of-type {\n",
       "        vertical-align: middle;\n",
       "    }\n",
       "\n",
       "    .dataframe tbody tr th {\n",
       "        vertical-align: top;\n",
       "    }\n",
       "\n",
       "    .dataframe thead th {\n",
       "        text-align: right;\n",
       "    }\n",
       "</style>\n",
       "<table border=\"1\" class=\"dataframe\">\n",
       "  <thead>\n",
       "    <tr style=\"text-align: right;\">\n",
       "      <th></th>\n",
       "      <th>creation_date</th>\n",
       "      <th>notebook_name</th>\n",
       "      <th>backend_name</th>\n",
       "      <th>job_id</th>\n",
       "      <th>tags</th>\n",
       "      <th>shots</th>\n",
       "      <th>tags_xp</th>\n",
       "      <th>sampled_state</th>\n",
       "      <th>num_qubits</th>\n",
       "      <th>job_status</th>\n",
       "      <th>extra</th>\n",
       "      <th>optimization_level</th>\n",
       "      <th>code</th>\n",
       "      <th>distance</th>\n",
       "      <th>rounds</th>\n",
       "      <th>logical</th>\n",
       "      <th>layout</th>\n",
       "      <th>descr</th>\n",
       "    </tr>\n",
       "  </thead>\n",
       "  <tbody>\n",
       "    <tr>\n",
       "      <th>258</th>\n",
       "      <td>2023-10-30 09:45:17.340386+01:00</td>\n",
       "      <td>bigger_rep_codes</td>\n",
       "      <td>ibm_sherbrooke</td>\n",
       "      <td>cmzpt78vcq70008qf1ag</td>\n",
       "      <td>[]</td>\n",
       "      <td>1111.0</td>\n",
       "      <td>NaN</td>\n",
       "      <td>NaN</td>\n",
       "      <td>NaN</td>\n",
       "      <td>JobStatus.DONE</td>\n",
       "      <td>NaN</td>\n",
       "      <td>NaN</td>\n",
       "      <td>RepetitionCodeCircuit</td>\n",
       "      <td>30.0</td>\n",
       "      <td>30</td>\n",
       "      <td>0</td>\n",
       "      <td>_is_hex=True</td>\n",
       "      <td>Run bigger Repetition codes v4: new distances ...</td>\n",
       "    </tr>\n",
       "    <tr>\n",
       "      <th>76</th>\n",
       "      <td>2023-10-29 14:47:58.814875+01:00</td>\n",
       "      <td>bigger_rep_codes</td>\n",
       "      <td>ibm_sherbrooke</td>\n",
       "      <td>cmz653m3r3vg008wf9j0</td>\n",
       "      <td>[]</td>\n",
       "      <td>1111.0</td>\n",
       "      <td>NaN</td>\n",
       "      <td>NaN</td>\n",
       "      <td>NaN</td>\n",
       "      <td>JobStatus.DONE</td>\n",
       "      <td>NaN</td>\n",
       "      <td>NaN</td>\n",
       "      <td>RepetitionCodeCircuit</td>\n",
       "      <td>30.0</td>\n",
       "      <td>30</td>\n",
       "      <td>1</td>\n",
       "      <td>_is_hex=True</td>\n",
       "      <td>Run bigger Repetition codes</td>\n",
       "    </tr>\n",
       "  </tbody>\n",
       "</table>\n",
       "</div>"
      ],
      "text/plain": [
       "                        creation_date     notebook_name    backend_name  \\\n",
       "258  2023-10-30 09:45:17.340386+01:00  bigger_rep_codes  ibm_sherbrooke   \n",
       "76   2023-10-29 14:47:58.814875+01:00  bigger_rep_codes  ibm_sherbrooke   \n",
       "\n",
       "                   job_id tags   shots tags_xp sampled_state  num_qubits  \\\n",
       "258  cmzpt78vcq70008qf1ag   []  1111.0     NaN           NaN         NaN   \n",
       "76   cmz653m3r3vg008wf9j0   []  1111.0     NaN           NaN         NaN   \n",
       "\n",
       "         job_status extra  optimization_level                   code  \\\n",
       "258  JobStatus.DONE   NaN                 NaN  RepetitionCodeCircuit   \n",
       "76   JobStatus.DONE   NaN                 NaN  RepetitionCodeCircuit   \n",
       "\n",
       "     distance rounds logical        layout  \\\n",
       "258      30.0     30       0  _is_hex=True   \n",
       "76       30.0     30       1  _is_hex=True   \n",
       "\n",
       "                                                 descr  \n",
       "258  Run bigger Repetition codes v4: new distances ...  \n",
       "76                         Run bigger Repetition codes  "
      ]
     },
     "execution_count": 4,
     "metadata": {},
     "output_type": "execute_result"
    }
   ],
   "source": [
    "import numpy as np\n",
    "from Scratch import metadata_loader\n",
    "\n",
    "DEVICE = 'ibm_sherbrooke'\n",
    "\n",
    "md = metadata_loader(_extract=True, _drop_inutile=True)\n",
    "md = md[md[\"job_status\"] == \"JobStatus.DONE\"]\n",
    "md = md[md[\"notebook_name\"] == \"bigger_rep_codes\"]\n",
    "max_distance = int(max(md.distance))\n",
    "max_distance = 30\n",
    "md = md[md[\"distance\"] == max_distance]\n",
    "md = md[md[\"backend_name\"]==DEVICE]\n",
    "\n",
    "md = md[:2]\n",
    "\n",
    "md"
   ]
  },
  {
   "cell_type": "code",
   "execution_count": 5,
   "metadata": {},
   "outputs": [
    {
     "name": "stdout",
     "output_type": "stream",
     "text": [
      "(1111, 900)\n"
     ]
    }
   ],
   "source": [
    "memories = {}\n",
    "jobs = {}\n",
    "for job_id, logical in zip(md.job_id, md.logical):\n",
    "    mmr_name = f\"mmr_log_{logical}\"\n",
    "    memories[mmr_name] = provider.retrieve_job(job_id).result().get_memory()\n",
    "    jobs[mmr_name] = job_id\n",
    "\n",
    "memory_str = \"mmr_log_0\"\n",
    "memory = memories[memory_str][:]\n",
    "job_id = jobs[memory_str]\n",
    "print(memory.shape)"
   ]
  },
  {
   "cell_type": "markdown",
   "metadata": {},
   "source": [
    "# Initialize the code"
   ]
  },
  {
   "cell_type": "code",
   "execution_count": 6,
   "metadata": {},
   "outputs": [
    {
     "name": "stdout",
     "output_type": "stream",
     "text": [
      "layout: [114, 116, 118, 120, 122, 104, 102, 100, 98, 96, 94, 75, 77, 79, 81, 83, 85, 66, 64, 62, 60, 58, 56, 37, 39, 41, 43, 45, 47, 113, 115, 117, 119, 121, 111, 103, 101, 99, 97, 95, 90, 76, 78, 80, 82, 84, 73, 65, 63, 61, 59, 57, 52, 38, 40, 42, 44, 46, 35]\n",
      "len(layout): 59  = distance * code qubits + (distance-1) * link qubits\n"
     ]
    }
   ],
   "source": [
    "import stim\n",
    "import pymatching\n",
    "\n",
    "from soft_info import get_repcode_layout, get_repcode_IQ_map\n",
    "from Scratch import create_or_load_kde_grid\n",
    "\n",
    "d = max_distance\n",
    "synd_rounds = max_distance\n",
    "\n",
    "layout = get_repcode_layout(distance=max_distance, backend=provider.get_backend(DEVICE), _is_hex=True)\n",
    "qubit_mapping = get_repcode_IQ_map(layout, synd_rounds) #Hardcoded for repetition codes\n",
    "print(\"layout:\", layout)\n",
    "print(\"len(layout):\", len(layout), \" = distance * code qubits + (distance-1) * link qubits\")"
   ]
  },
  {
   "cell_type": "code",
   "execution_count": 7,
   "metadata": {},
   "outputs": [],
   "source": [
    "other_date = None # if none then it will find the closest to the tobecalib_job date\n",
    "# other_date = \"2023-11-22T10:30:00\" # \"2023-11-22T\" works too\n",
    "grid_dict, processed_scaler_dict = create_or_load_kde_grid(provider, job_id, 2, 0.3, other_date=other_date)\n",
    "\n",
    "# takes 10s"
   ]
  },
  {
   "cell_type": "markdown",
   "metadata": {},
   "source": [
    "#### Noise model stim"
   ]
  },
  {
   "cell_type": "code",
   "execution_count": 57,
   "metadata": {},
   "outputs": [],
   "source": [
    "from datetime import datetime\n",
    "\n",
    "def get_avgs_from_dict(noise_dict):\n",
    "    '''\n",
    "    Takes noise dictionary as an argument then returns length 5\n",
    "    array defining average noise levels: [init, idle, RO, single-, two-qubit gate]\n",
    "    '''\n",
    "    init_avg = np.average([noise_dict[qubit]['init'] for qubit in noise_dict])\n",
    "    idle_avg = np.average([noise_dict[qubit]['idle'] for qubit in noise_dict])\n",
    "    RO_avg = np.average([noise_dict[qubit]['RO'] for qubit in noise_dict])\n",
    "    single_avg = 1e-4#np.average([noise_dict[qubit]['init'] for qubit in noise_dict])\n",
    "    two_gate_avg = np.average([noise_dict[qubit]['2-gate'][connection]\n",
    "                        for qubit in noise_dict\n",
    "                        for connection in noise_dict[qubit]['2-gate']\n",
    "                        if connection != 'default'])\n",
    "    return [init_avg, idle_avg, RO_avg, single_avg, two_gate_avg]\n",
    "# End get_avgs_from_dict\n",
    "\n",
    "\n",
    "def get_noise_dict_from_backend(backend, layout, date=None):\n",
    "    '''\n",
    "    Takes a given backend and a mapping object and returns a noise dictionary\n",
    "    to pass to a new Cross_Platform_Code/Hex_Code to have accurate backend\n",
    "    specific noise information based on calibration data.\n",
    "    '''\n",
    "    # Pre-reqs\n",
    "    noise_dict = {}\n",
    "    round_time = 1000e-9\n",
    "    if date is None:\n",
    "        t = None\n",
    "    else:\n",
    "        t = datetime(day=int(date[-2:]), month=int(date[-4:-2]), year=int(date[:4]))\n",
    "    properties = backend.properties(datetime=t)\n",
    "    # Initializing each qubit with single qubit noise\n",
    "    for qubit in layout:\n",
    "        # Defining ROI error\n",
    "        ROI_error = properties.readout_error(qubit)\n",
    "        # Defining idle error\n",
    "        t1 = properties.t1(qubit)\n",
    "        t2 = properties.t2(qubit)\n",
    "        t_time = min(t1, t2)\n",
    "        idle_error = 1 - np.exp(-round_time / t_time)\n",
    "        # Updating dictionary\n",
    "        noise_dict[qubit] = {}\n",
    "        noise_dict[qubit]['init'] = ROI_error\n",
    "        noise_dict[qubit]['idle'] = idle_error\n",
    "        noise_dict[qubit]['RO'] = ROI_error\n",
    "        noise_dict[qubit]['gate'] = 1e-4\n",
    "        noise_dict[qubit]['2-gate'] = {'default': 1e-2}\n",
    "    # Two qubit gate noise\n",
    "    all_qiskit_indexes = layout \n",
    "    for pair in backend.coupling_map:\n",
    "        # Making sure connection is in circuit\n",
    "        if pair[0] in all_qiskit_indexes and pair[1] in all_qiskit_indexes:\n",
    "            # Getting two qubit gate error\n",
    "            two_gate_error = properties.gate_error('ecr', pair)\n",
    "            if two_gate_error > .5:\n",
    "                two_gate_error = .5\n",
    "            # # Updating dictionary\n",
    "            # stim_index_0 = map.get_stim_index(qiskit_index=pair[0])\n",
    "            # stim_index_1 = map.get_stim_index(qiskit_index=pair[1])\n",
    "            noise_dict[pair[0]]['2-gate'][pair[1]] = two_gate_error\n",
    "            noise_dict[pair[1]]['2-gate'][pair[0]] = two_gate_error\n",
    "    return noise_dict\n",
    "# End get_noise_dict_from_backend"
   ]
  },
  {
   "cell_type": "code",
   "execution_count": 58,
   "metadata": {},
   "outputs": [
    {
     "name": "stdout",
     "output_type": "stream",
     "text": [
      "noise_dict: {114: {'init': 0.010699999999999932, 'idle': 0.15346092555106883, 'RO': 0.010699999999999932, 'gate': 0.0001, '2-gate': {'default': 0.01, 113: 0.01666706160541684, 115: 0.011202109723584597}}, 116: {'init': 0.007800000000000029, 'idle': 0.0033685444613582582, 'RO': 0.007800000000000029, 'gate': 0.0001, '2-gate': {'default': 0.01, 115: 0.005299141666250423, 117: 0.009472109700021825}}, 118: {'init': 0.0040999999999999925, 'idle': 0.006538236419785903, 'RO': 0.0040999999999999925, 'gate': 0.0001, '2-gate': {'default': 0.01, 117: 0.005124439549544002, 119: 0.010705232101479611}}, 120: {'init': 0.009500000000000064, 'idle': 0.005861836570091539, 'RO': 0.009500000000000064, 'gate': 0.0001, '2-gate': {'default': 0.01, 119: 0.005897252627263511, 121: 0.00712729697649056}}, 122: {'init': 0.006399999999999961, 'idle': 0.002952201971033963, 'RO': 0.006399999999999961, 'gate': 0.0001, '2-gate': {'default': 0.01, 121: 0.008979214352661996, 111: 0.019453439591175847}}, 104: {'init': 0.0035000000000000586, 'idle': 0.003441729726602505, 'RO': 0.0035000000000000586, 'gate': 0.0001, '2-gate': {'default': 0.01, 103: 0.006562345735496716, 111: 0.005559739242046391}}, 102: {'init': 0.026499999999999968, 'idle': 0.005134283206023493, 'RO': 0.026499999999999968, 'gate': 0.0001, '2-gate': {'default': 0.01, 101: 0.007002833159260952, 103: 0.005973521216251582}}, 100: {'init': 0.009199999999999986, 'idle': 0.011805899187135593, 'RO': 0.009199999999999986, 'gate': 0.0001, '2-gate': {'default': 0.01, 99: 0.007928113481008164, 101: 0.0062085216068085425}}, 98: {'init': 0.0131, 'idle': 0.0047385067308705064, 'RO': 0.0131, 'gate': 0.0001, '2-gate': {'default': 0.01, 97: 0.006670678982262285, 99: 0.007866687820271251}}, 96: {'init': 0.014399999999999968, 'idle': 0.005736520986979854, 'RO': 0.014399999999999968, 'gate': 0.0001, '2-gate': {'default': 0.01, 95: 0.008189519049196764, 97: 0.007461058569357137}}, 94: {'init': 0.0049000000000000155, 'idle': 0.004072832710262597, 'RO': 0.0049000000000000155, 'gate': 0.0001, '2-gate': {'default': 0.01, 90: 0.009804907724742018, 95: 0.005964067067139811}}, 75: {'init': 0.04479999999999995, 'idle': 0.004820922220054702, 'RO': 0.04479999999999995, 'gate': 0.0001, '2-gate': {'default': 0.01, 76: 0.0063151368071974745, 90: 0.024637309046792677}}, 77: {'init': 0.006799999999999917, 'idle': 0.0039018453804940956, 'RO': 0.006799999999999917, 'gate': 0.0001, '2-gate': {'default': 0.01, 76: 0.005787300341180829, 78: 0.005296110936610782}}, 79: {'init': 0.0047999999999999154, 'idle': 0.03980485560539626, 'RO': 0.0047999999999999154, 'gate': 0.0001, '2-gate': {'default': 0.01, 78: 0.006888258339512399, 80: 0.008079056796432255}}, 81: {'init': 0.0037000000000000366, 'idle': 0.004812623414639172, 'RO': 0.0037000000000000366, 'gate': 0.0001, '2-gate': {'default': 0.01, 80: 0.006336333289011703, 82: 0.013974253932611563}}, 83: {'init': 0.07529999999999992, 'idle': 0.0166486383161204, 'RO': 0.07529999999999992, 'gate': 0.0001, '2-gate': {'default': 0.01, 82: 0.006587073146530481, 84: 0.006774324941220877}}, 85: {'init': 0.017199999999999993, 'idle': 0.005635230296893834, 'RO': 0.017199999999999993, 'gate': 0.0001, '2-gate': {'default': 0.01, 73: 0.0036231328273914343, 84: 0.003579107660915959}}, 66: {'init': 0.006599999999999939, 'idle': 0.0032468556902106593, 'RO': 0.006599999999999939, 'gate': 0.0001, '2-gate': {'default': 0.01, 65: 0.005459947252720143, 73: 0.005660164267529105}}, 64: {'init': 0.006099999999999994, 'idle': 0.007356075495190684, 'RO': 0.006099999999999994, 'gate': 0.0001, '2-gate': {'default': 0.01, 63: 0.015717078972804027, 65: 0.005950678687679178}}, 62: {'init': 0.021399999999999975, 'idle': 0.005339696381091219, 'RO': 0.021399999999999975, 'gate': 0.0001, '2-gate': {'default': 0.01, 61: 0.0028382704682421156, 63: 0.01217734400113693}}, 60: {'init': 0.05666666666666664, 'idle': 0.003262978377598924, 'RO': 0.05666666666666664, 'gate': 0.0001, '2-gate': {'default': 0.01, 59: 0.5, 61: 0.5}}, 58: {'init': 0.004899999999999904, 'idle': 0.005809378549961219, 'RO': 0.004899999999999904, 'gate': 0.0001, '2-gate': {'default': 0.01, 57: 0.0060584155657212035, 59: 0.013181180992048958}}, 56: {'init': 0.01859999999999995, 'idle': 0.05788707604083132, 'RO': 0.01859999999999995, 'gate': 0.0001, '2-gate': {'default': 0.01, 52: 0.019040127643487642, 57: 0.02174926656512738}}, 37: {'init': 0.01089999999999991, 'idle': 0.004609334534912413, 'RO': 0.01089999999999991, 'gate': 0.0001, '2-gate': {'default': 0.01, 38: 0.038211258127222786, 52: 0.020398433363660345}}, 39: {'init': 0.005199999999999982, 'idle': 0.006983899684125383, 'RO': 0.005199999999999982, 'gate': 0.0001, '2-gate': {'default': 0.01, 38: 0.005251102929727469, 40: 0.005338504146671863}}, 41: {'init': 0.0043999999999999595, 'idle': 0.006169812658609608, 'RO': 0.0043999999999999595, 'gate': 0.0001, '2-gate': {'default': 0.01, 40: 0.00759106151996905, 42: 0.0054298044205636775}}, 43: {'init': 0.007199999999999984, 'idle': 0.00681136416035566, 'RO': 0.007199999999999984, 'gate': 0.0001, '2-gate': {'default': 0.01, 42: 0.00667847755988385, 44: 0.005676073123089959}}, 45: {'init': 0.007099999999999995, 'idle': 0.005998721859817202, 'RO': 0.007099999999999995, 'gate': 0.0001, '2-gate': {'default': 0.01, 44: 0.005724256320149529, 46: 0.005333395382244865}}, 47: {'init': 0.01200000000000001, 'idle': 0.004300270909034953, 'RO': 0.01200000000000001, 'gate': 0.0001, '2-gate': {'default': 0.01, 35: 0.008969122135109642, 46: 0.0047248387789161905}}, 113: {'init': 0.008299999999999974, 'idle': 0.012547488827661768, 'RO': 0.008299999999999974, 'gate': 0.0001, '2-gate': {'default': 0.01, 114: 0.01666706160541684}}, 115: {'init': 0.005300000000000082, 'idle': 0.006782165643253513, 'RO': 0.005300000000000082, 'gate': 0.0001, '2-gate': {'default': 0.01, 114: 0.011202109723584597, 116: 0.005299141666250423}}, 117: {'init': 0.008199999999999985, 'idle': 0.004460127137259962, 'RO': 0.008199999999999985, 'gate': 0.0001, '2-gate': {'default': 0.01, 116: 0.009472109700021825, 118: 0.005124439549544002}}, 119: {'init': 0.007600000000000051, 'idle': 0.008166604188099336, 'RO': 0.007600000000000051, 'gate': 0.0001, '2-gate': {'default': 0.01, 118: 0.010705232101479611, 120: 0.005897252627263511}}, 121: {'init': 0.0050000000000000044, 'idle': 0.007850830350552007, 'RO': 0.0050000000000000044, 'gate': 0.0001, '2-gate': {'default': 0.01, 120: 0.00712729697649056, 122: 0.008979214352661996}}, 111: {'init': 0.005400000000000071, 'idle': 0.005437665480515497, 'RO': 0.005400000000000071, 'gate': 0.0001, '2-gate': {'default': 0.01, 104: 0.005559739242046391, 122: 0.019453439591175847}}, 103: {'init': 0.0051000000000001044, 'idle': 0.004463243868678801, 'RO': 0.0051000000000001044, 'gate': 0.0001, '2-gate': {'default': 0.01, 102: 0.005973521216251582, 104: 0.006562345735496716}}, 101: {'init': 0.005400000000000071, 'idle': 0.013878011714690053, 'RO': 0.005400000000000071, 'gate': 0.0001, '2-gate': {'default': 0.01, 100: 0.0062085216068085425, 102: 0.007002833159260952}}, 99: {'init': 0.010299999999999976, 'idle': 0.004700112069375151, 'RO': 0.010299999999999976, 'gate': 0.0001, '2-gate': {'default': 0.01, 98: 0.007866687820271251, 100: 0.007928113481008164}}, 97: {'init': 0.011500000000000066, 'idle': 0.007266538362998176, 'RO': 0.011500000000000066, 'gate': 0.0001, '2-gate': {'default': 0.01, 96: 0.007461058569357137, 98: 0.006670678982262285}}, 95: {'init': 0.009199999999999986, 'idle': 0.007731948815785983, 'RO': 0.009199999999999986, 'gate': 0.0001, '2-gate': {'default': 0.01, 94: 0.005964067067139811, 96: 0.008189519049196764}}, 90: {'init': 0.014100000000000001, 'idle': 0.008512692092910723, 'RO': 0.014100000000000001, 'gate': 0.0001, '2-gate': {'default': 0.01, 75: 0.024637309046792677, 94: 0.009804907724742018}}, 76: {'init': 0.020299999999999985, 'idle': 0.012563648871497302, 'RO': 0.020299999999999985, 'gate': 0.0001, '2-gate': {'default': 0.01, 75: 0.0063151368071974745, 77: 0.005787300341180829}}, 78: {'init': 0.019199999999999995, 'idle': 0.002993966729756603, 'RO': 0.019199999999999995, 'gate': 0.0001, '2-gate': {'default': 0.01, 77: 0.005296110936610782, 79: 0.006888258339512399}}, 80: {'init': 0.008199999999999985, 'idle': 0.006930097968600557, 'RO': 0.008199999999999985, 'gate': 0.0001, '2-gate': {'default': 0.01, 79: 0.008079056796432255, 81: 0.006336333289011703}}, 82: {'init': 0.0043999999999999595, 'idle': 0.009349208933696174, 'RO': 0.0043999999999999595, 'gate': 0.0001, '2-gate': {'default': 0.01, 81: 0.013974253932611563, 83: 0.006587073146530481}}, 84: {'init': 0.00550000000000006, 'idle': 0.004552731823854739, 'RO': 0.00550000000000006, 'gate': 0.0001, '2-gate': {'default': 0.01, 83: 0.006774324941220877, 85: 0.003579107660915959}}, 73: {'init': 0.007000000000000006, 'idle': 0.006554988172632004, 'RO': 0.007000000000000006, 'gate': 0.0001, '2-gate': {'default': 0.01, 66: 0.005660164267529105, 85: 0.0036231328273914343}}, 65: {'init': 0.019100000000000006, 'idle': 0.004794978524577109, 'RO': 0.019100000000000006, 'gate': 0.0001, '2-gate': {'default': 0.01, 64: 0.005950678687679178, 66: 0.005459947252720143}}, 63: {'init': 0.007600000000000051, 'idle': 0.0044235002601211715, 'RO': 0.007600000000000051, 'gate': 0.0001, '2-gate': {'default': 0.01, 62: 0.01217734400113693, 64: 0.015717078972804027}}, 61: {'init': 0.0036000000000000476, 'idle': 0.003085531399846353, 'RO': 0.0036000000000000476, 'gate': 0.0001, '2-gate': {'default': 0.01, 60: 0.5, 62: 0.0028382704682421156}}, 59: {'init': 0.011399999999999966, 'idle': 0.0037253003046598954, 'RO': 0.011399999999999966, 'gate': 0.0001, '2-gate': {'default': 0.01, 58: 0.013181180992048958, 60: 0.5}}, 57: {'init': 0.019199999999999995, 'idle': 0.013864565986327793, 'RO': 0.019199999999999995, 'gate': 0.0001, '2-gate': {'default': 0.01, 56: 0.02174926656512738, 58: 0.0060584155657212035}}, 52: {'init': 0.01200000000000001, 'idle': 0.014153195635973503, 'RO': 0.01200000000000001, 'gate': 0.0001, '2-gate': {'default': 0.01, 37: 0.020398433363660345, 56: 0.019040127643487642}}, 38: {'init': 0.012800000000000034, 'idle': 0.0048495658014746645, 'RO': 0.012800000000000034, 'gate': 0.0001, '2-gate': {'default': 0.01, 37: 0.038211258127222786, 39: 0.005251102929727469}}, 40: {'init': 0.0036000000000000476, 'idle': 0.0029642555153112093, 'RO': 0.0036000000000000476, 'gate': 0.0001, '2-gate': {'default': 0.01, 39: 0.005338504146671863, 41: 0.00759106151996905}}, 42: {'init': 0.026000000000000023, 'idle': 0.005143548475597948, 'RO': 0.026000000000000023, 'gate': 0.0001, '2-gate': {'default': 0.01, 41: 0.0054298044205636775, 43: 0.00667847755988385}}, 44: {'init': 0.005400000000000071, 'idle': 0.003816544605431793, 'RO': 0.005400000000000071, 'gate': 0.0001, '2-gate': {'default': 0.01, 43: 0.005676073123089959, 45: 0.005724256320149529}}, 46: {'init': 0.007199999999999984, 'idle': 0.002438741616625606, 'RO': 0.007199999999999984, 'gate': 0.0001, '2-gate': {'default': 0.01, 45: 0.005333395382244865, 47: 0.0047248387789161905}}, 35: {'init': 0.012499999999999956, 'idle': 0.016961088595387253, 'RO': 0.012499999999999956, 'gate': 0.0001, '2-gate': {'default': 0.01, 47: 0.008969122135109642}}}\n",
      "avgs_noise [init_avg, idle_avg, RO_avg, single_avg, two_gate_avg]: [0.012274011299435025, 0.010431762455418702, 0.012274011299435025, 0.0001, 0.026037163652359398]\n"
     ]
    }
   ],
   "source": [
    "\n",
    "date = \"2023-10-30 09:45:17.340386+01:00\" #md.creation_date[0] # md[0] for log 1\n",
    "noise_dict = get_noise_dict_from_backend(provider.get_backend(DEVICE), layout, date=other_date)\n",
    "print(\"noise_dict:\", noise_dict)\n",
    "avgs_noise = get_avgs_from_dict(noise_dict)\n",
    "print(\"avgs_noise [init_avg, idle_avg, RO_avg, single_avg, two_gate_avg]:\", avgs_noise)"
   ]
  },
  {
   "cell_type": "code",
   "execution_count": 59,
   "metadata": {},
   "outputs": [],
   "source": [
    "from soft_info import draw_matching_graph\n",
    "\n",
    "circuit = stim.Circuit.generated(\"repetition_code:memory\",\n",
    "                                distance=d,\n",
    "                                rounds=synd_rounds,\n",
    "                                after_clifford_depolarization= avgs_noise[4], #two-qubit-fidelity,\n",
    "                                after_reset_flip_probability= 0, #reset error,\n",
    "                                before_measure_flip_probability= avgs_noise[2], #measurement error,\n",
    "                                before_round_data_depolarization= avgs_noise[1]) #idle error)\n",
    "\n",
    "model = circuit.detector_error_model(decompose_errors=True)\n",
    "matching = pymatching.Matching.from_detector_error_model(model)\n",
    "# draw_matching_graph(matching, d, synd_rounds, figsize=(20, 20)) \n",
    "# takes 10s"
   ]
  },
  {
   "cell_type": "markdown",
   "metadata": {},
   "source": [
    "# Decode"
   ]
  },
  {
   "cell_type": "code",
   "execution_count": 60,
   "metadata": {},
   "outputs": [
    {
     "name": "stdout",
     "output_type": "stream",
     "text": [
      "num_errors: 7 out of 1111 shots\n"
     ]
    }
   ],
   "source": [
    "matching = pymatching.Matching.from_detector_error_model(model)\n",
    "p_data = 6.869e-3 # mean sherbrooke noise\n",
    "num_errors = cpp_soft_info.decode_IQ_shots(matching._matching_graph, memory, \n",
    "                                           synd_rounds, qubit_mapping, grid_dict, \n",
    "                                           processed_scaler_dict, p_data=-1, p_mixed=-1, #p_mixed=1e-80, for d=30 \n",
    "                                           common_measure=-1)\n",
    "print(\"num_errors:\", num_errors, \"out of\", len(memory), \"shots\")\n",
    " \n",
    "# takes 5s"
   ]
  },
  {
   "cell_type": "code",
   "execution_count": 61,
   "metadata": {},
   "outputs": [
    {
     "name": "stdout",
     "output_type": "stream",
     "text": [
      "num_errors: 45 out of 1111 shots\n"
     ]
    }
   ],
   "source": [
    "matching = pymatching.Matching.from_detector_error_model(model)\n",
    "num_errors = cpp_soft_info.decode_IQ_shots_flat(matching._matching_graph, memory, \n",
    "                                           synd_rounds, qubit_mapping, grid_dict, \n",
    "                                           processed_scaler_dict)\n",
    "print(\"num_errors:\", num_errors, \"out of\", len(memory), \"shots\")\n",
    "\n",
    "# takes 1s"
   ]
  },
  {
   "cell_type": "code",
   "execution_count": 62,
   "metadata": {},
   "outputs": [
    {
     "name": "stdout",
     "output_type": "stream",
     "text": [
      "num_errors: 32 out of 1111 shots\n"
     ]
    }
   ],
   "source": [
    "matching = pymatching.Matching.from_detector_error_model(model)\n",
    "\n",
    "def weight_to_prob(weight):\n",
    "    return 1/(1+np.exp(weight))\n",
    "\n",
    "p_data = 6.869e-3 # mean sherbrooke ECR error\n",
    "p_mixed = p_data/100 # Same as weighted\n",
    "p_meas = 9.900e-3 # mean Readout assignment error\n",
    "\n",
    "p_data = -1\n",
    "p_mixed = -1\n",
    "p_meas = -1\n",
    "\n",
    "num_errors = cpp_soft_info.decode_IQ_shots_flat_informed(matching._matching_graph, memory, \n",
    "                                           synd_rounds, qubit_mapping, grid_dict, processed_scaler_dict,\n",
    "                                           p_data, p_mixed, p_meas, common_measure=-1)\n",
    "                                        \n",
    "print(\"num_errors:\", num_errors, \"out of\", len(memory), \"shots\")\n",
    "         \n",
    "# takes 1s"
   ]
  },
  {
   "cell_type": "code",
   "execution_count": null,
   "metadata": {},
   "outputs": [],
   "source": []
  }
 ],
 "metadata": {
  "kernelspec": {
   "display_name": "Soft-Info-fMUpUe5a",
   "language": "python",
   "name": "python3"
  },
  "language_info": {
   "codemirror_mode": {
    "name": "ipython",
    "version": 3
   },
   "file_extension": ".py",
   "mimetype": "text/x-python",
   "name": "python",
   "nbconvert_exporter": "python",
   "pygments_lexer": "ipython3",
   "version": "3.11.4"
  }
 },
 "nbformat": 4,
 "nbformat_minor": 2
}
