{
 "cells": [
  {
   "cell_type": "code",
   "execution_count": 1,
   "metadata": {},
   "outputs": [],
   "source": [
    "import cpp_soft_info"
   ]
  },
  {
   "cell_type": "markdown",
   "metadata": {},
   "source": [
    "# Load Data"
   ]
  },
  {
   "cell_type": "code",
   "execution_count": 2,
   "metadata": {},
   "outputs": [],
   "source": [
    "%reload_ext autoreload\n",
    "%autoreload 2"
   ]
  },
  {
   "cell_type": "code",
   "execution_count": 3,
   "metadata": {},
   "outputs": [],
   "source": [
    "from result_saver import SaverProvider\n",
    "provider = SaverProvider()"
   ]
  },
  {
   "cell_type": "code",
   "execution_count": 8,
   "metadata": {},
   "outputs": [
    {
     "data": {
      "text/html": [
       "<div>\n",
       "<style scoped>\n",
       "    .dataframe tbody tr th:only-of-type {\n",
       "        vertical-align: middle;\n",
       "    }\n",
       "\n",
       "    .dataframe tbody tr th {\n",
       "        vertical-align: top;\n",
       "    }\n",
       "\n",
       "    .dataframe thead th {\n",
       "        text-align: right;\n",
       "    }\n",
       "</style>\n",
       "<table border=\"1\" class=\"dataframe\">\n",
       "  <thead>\n",
       "    <tr style=\"text-align: right;\">\n",
       "      <th></th>\n",
       "      <th>creation_date</th>\n",
       "      <th>notebook_name</th>\n",
       "      <th>backend_name</th>\n",
       "      <th>job_id</th>\n",
       "      <th>job_name</th>\n",
       "      <th>job_metadata</th>\n",
       "      <th>tags</th>\n",
       "      <th>meas_level</th>\n",
       "      <th>init_qubits</th>\n",
       "      <th>meas_return</th>\n",
       "      <th>...</th>\n",
       "      <th>job_status</th>\n",
       "      <th>execution_date</th>\n",
       "      <th>extra</th>\n",
       "      <th>optimization_level</th>\n",
       "      <th>code</th>\n",
       "      <th>distance</th>\n",
       "      <th>rounds</th>\n",
       "      <th>logical</th>\n",
       "      <th>layout</th>\n",
       "      <th>descr</th>\n",
       "    </tr>\n",
       "  </thead>\n",
       "  <tbody>\n",
       "    <tr>\n",
       "      <th>258</th>\n",
       "      <td>2023-10-30 09:45:17.340386+01:00</td>\n",
       "      <td>bigger_rep_codes</td>\n",
       "      <td>ibm_sherbrooke</td>\n",
       "      <td>cmzpt78vcq70008qf1ag</td>\n",
       "      <td>NaN</td>\n",
       "      <td>{}</td>\n",
       "      <td>[]</td>\n",
       "      <td>1.0</td>\n",
       "      <td>True</td>\n",
       "      <td>single</td>\n",
       "      <td>...</td>\n",
       "      <td>JobStatus.DONE</td>\n",
       "      <td>2023-10-31 17:07:46.121619+01:00</td>\n",
       "      <td>NaN</td>\n",
       "      <td>NaN</td>\n",
       "      <td>RepetitionCodeCircuit</td>\n",
       "      <td>30.0</td>\n",
       "      <td>30</td>\n",
       "      <td>0</td>\n",
       "      <td>_is_hex=True</td>\n",
       "      <td>Run bigger Repetition codes v4: new distances ...</td>\n",
       "    </tr>\n",
       "    <tr>\n",
       "      <th>76</th>\n",
       "      <td>2023-10-29 14:47:58.814875+01:00</td>\n",
       "      <td>bigger_rep_codes</td>\n",
       "      <td>ibm_sherbrooke</td>\n",
       "      <td>cmz653m3r3vg008wf9j0</td>\n",
       "      <td>NaN</td>\n",
       "      <td>{}</td>\n",
       "      <td>[]</td>\n",
       "      <td>1.0</td>\n",
       "      <td>True</td>\n",
       "      <td>single</td>\n",
       "      <td>...</td>\n",
       "      <td>JobStatus.DONE</td>\n",
       "      <td>2023-10-29 15:12:44.092651+01:00</td>\n",
       "      <td>NaN</td>\n",
       "      <td>NaN</td>\n",
       "      <td>RepetitionCodeCircuit</td>\n",
       "      <td>30.0</td>\n",
       "      <td>30</td>\n",
       "      <td>1</td>\n",
       "      <td>_is_hex=True</td>\n",
       "      <td>Run bigger Repetition codes</td>\n",
       "    </tr>\n",
       "    <tr>\n",
       "      <th>75</th>\n",
       "      <td>2023-10-29 14:47:43.903639+01:00</td>\n",
       "      <td>bigger_rep_codes</td>\n",
       "      <td>ibm_sherbrooke</td>\n",
       "      <td>cmz64zvvcq70008qdxcg</td>\n",
       "      <td>NaN</td>\n",
       "      <td>{}</td>\n",
       "      <td>[]</td>\n",
       "      <td>1.0</td>\n",
       "      <td>True</td>\n",
       "      <td>single</td>\n",
       "      <td>...</td>\n",
       "      <td>JobStatus.DONE</td>\n",
       "      <td>2023-10-29 15:11:38.373711+01:00</td>\n",
       "      <td>NaN</td>\n",
       "      <td>NaN</td>\n",
       "      <td>RepetitionCodeCircuit</td>\n",
       "      <td>30.0</td>\n",
       "      <td>30</td>\n",
       "      <td>0</td>\n",
       "      <td>_is_hex=True</td>\n",
       "      <td>Run bigger Repetition codes</td>\n",
       "    </tr>\n",
       "  </tbody>\n",
       "</table>\n",
       "<p>3 rows × 27 columns</p>\n",
       "</div>"
      ],
      "text/plain": [
       "                        creation_date     notebook_name    backend_name  \\\n",
       "258  2023-10-30 09:45:17.340386+01:00  bigger_rep_codes  ibm_sherbrooke   \n",
       "76   2023-10-29 14:47:58.814875+01:00  bigger_rep_codes  ibm_sherbrooke   \n",
       "75   2023-10-29 14:47:43.903639+01:00  bigger_rep_codes  ibm_sherbrooke   \n",
       "\n",
       "                   job_id  job_name job_metadata tags  meas_level init_qubits  \\\n",
       "258  cmzpt78vcq70008qf1ag       NaN           {}   []         1.0        True   \n",
       "76   cmz653m3r3vg008wf9j0       NaN           {}   []         1.0        True   \n",
       "75   cmz64zvvcq70008qdxcg       NaN           {}   []         1.0        True   \n",
       "\n",
       "    meas_return  ...      job_status                    execution_date extra  \\\n",
       "258      single  ...  JobStatus.DONE  2023-10-31 17:07:46.121619+01:00   NaN   \n",
       "76       single  ...  JobStatus.DONE  2023-10-29 15:12:44.092651+01:00   NaN   \n",
       "75       single  ...  JobStatus.DONE  2023-10-29 15:11:38.373711+01:00   NaN   \n",
       "\n",
       "    optimization_level                   code distance  rounds logical  \\\n",
       "258                NaN  RepetitionCodeCircuit     30.0      30       0   \n",
       "76                 NaN  RepetitionCodeCircuit     30.0      30       1   \n",
       "75                 NaN  RepetitionCodeCircuit     30.0      30       0   \n",
       "\n",
       "           layout                                              descr  \n",
       "258  _is_hex=True  Run bigger Repetition codes v4: new distances ...  \n",
       "76   _is_hex=True                        Run bigger Repetition codes  \n",
       "75   _is_hex=True                        Run bigger Repetition codes  \n",
       "\n",
       "[3 rows x 27 columns]"
      ]
     },
     "execution_count": 8,
     "metadata": {},
     "output_type": "execute_result"
    }
   ],
   "source": [
    "import numpy as np\n",
    "from Scratch import metadata_loader\n",
    "\n",
    "DEVICE = 'ibm_sherbrooke'\n",
    "\n",
    "md = metadata_loader(_extract=True, _drop_inutile=False)\n",
    "# print(md.head())\n",
    "md = md[md[\"job_status\"] == \"JobStatus.DONE\"]\n",
    "md = md[md[\"notebook_name\"] == \"bigger_rep_codes\"]\n",
    "max_distance = int(max(md.distance))\n",
    "max_distance = 30\n",
    "md = md[md[\"distance\"] == max_distance]\n",
    "md = md[md[\"backend_name\"]==DEVICE]\n",
    "\n",
    "\n",
    "md = md[md[\"meas_level\"] == 1]\n",
    "# md = md[:2]\n",
    "\n",
    "d = 30\n",
    "synd_rounds = 30\n",
    "\n",
    "md"
   ]
  },
  {
   "cell_type": "code",
   "execution_count": 5,
   "metadata": {},
   "outputs": [
    {
     "name": "stdout",
     "output_type": "stream",
     "text": [
      "(1111, 900)\n"
     ]
    }
   ],
   "source": [
    "memories = {}\n",
    "jobs = {}\n",
    "for job_id, logical in zip(md.job_id, md.logical):\n",
    "    mmr_name = f\"mmr_log_{logical}\"\n",
    "    memories[mmr_name] = provider.retrieve_job(job_id).result().get_memory()\n",
    "    jobs[mmr_name] = job_id\n",
    "\n",
    "memory_str = \"mmr_log_0\"\n",
    "memory = memories[memory_str][:]\n",
    "job_id = jobs[memory_str]\n",
    "print(memory.shape)"
   ]
  },
  {
   "cell_type": "markdown",
   "metadata": {},
   "source": [
    "# Initialize the code"
   ]
  },
  {
   "cell_type": "code",
   "execution_count": 6,
   "metadata": {},
   "outputs": [
    {
     "name": "stdout",
     "output_type": "stream",
     "text": [
      "layout: [114, 116, 118, 120, 122, 104, 102, 100, 98, 96, 94, 75, 77, 79, 81, 83, 85, 66, 64, 62, 60, 58, 56, 37, 39, 41, 43, 45, 47, 113, 115, 117, 119, 121, 111, 103, 101, 99, 97, 95, 90, 76, 78, 80, 82, 84, 73, 65, 63, 61, 59, 57, 52, 38, 40, 42, 44, 46, 35]\n",
      "len(layout): 59  = distance * code qubits + (distance-1) * link qubits\n"
     ]
    }
   ],
   "source": [
    "import stim\n",
    "import pymatching\n",
    "\n",
    "from soft_info import get_repcode_layout, get_repcode_IQ_map\n",
    "from Scratch import create_or_load_kde_grid\n",
    "\n",
    "\n",
    "layout = get_repcode_layout(distance=max_distance, backend=provider.get_backend(DEVICE), _is_hex=True)\n",
    "qubit_mapping = get_repcode_IQ_map(layout, synd_rounds) #Hardcoded for repetition codes\n",
    "print(\"layout:\", layout)\n",
    "print(\"len(layout):\", len(layout), \" = distance * code qubits + (distance-1) * link qubits\")"
   ]
  },
  {
   "cell_type": "code",
   "execution_count": 7,
   "metadata": {},
   "outputs": [
    {
     "name": "stdout",
     "output_type": "stream",
     "text": [
      "Specified job execution date: 2023-10-31 17:07:46.121619+01:00\n",
      "Found jobs for backend ibm_sherbrooke with closest execution date 2023-10-27 08:32:22.841567+00:00. Retrieving kde grid...\n",
      "Creation dates: 2023-10-27 07:46:44.189709+00:00 and 2023-10-27 07:46:41.326236+00:00\n",
      "Execution dates: 2023-10-27 08:32:22.841567+00:00 and 2023-10-27 08:32:04.977564+00:00\n",
      "Searching for ibm_sherbrooke and 23.10.27_07h46_300pts_2std\n"
     ]
    }
   ],
   "source": [
    "other_date = None # if none then it will find the closest to the tobecalib_job date\n",
    "# other_date = \"2023-11-10T10:30:00\" # \"2023-11-22T\" works to\n",
    "grid_dict, processed_scaler_dict = create_or_load_kde_grid(provider, job_id, 300, 2, other_date=other_date)\n",
    "\n",
    "# takes 10s"
   ]
  },
  {
   "cell_type": "markdown",
   "metadata": {},
   "source": [
    "#### Noise model stim"
   ]
  },
  {
   "cell_type": "code",
   "execution_count": 9,
   "metadata": {},
   "outputs": [],
   "source": [
    "from datetime import datetime\n",
    "\n",
    "def get_avgs_from_dict(noise_dict):\n",
    "    '''\n",
    "    Takes noise dictionary as an argument then returns length 5\n",
    "    array defining average noise levels: [init, idle, RO, single-, two-qubit gate]\n",
    "    '''\n",
    "    init_avg = np.average([noise_dict[qubit]['init'] for qubit in noise_dict])\n",
    "    idle_avg = np.average([noise_dict[qubit]['idle'] for qubit in noise_dict])\n",
    "    RO_avg = np.average([noise_dict[qubit]['RO'] for qubit in noise_dict])\n",
    "    single_avg = 1e-4#np.average([noise_dict[qubit]['init'] for qubit in noise_dict])\n",
    "    two_gate_avg = np.average([noise_dict[qubit]['2-gate'][connection]\n",
    "                        for qubit in noise_dict\n",
    "                        for connection in noise_dict[qubit]['2-gate']\n",
    "                        if connection != 'default'])\n",
    "    return [init_avg, idle_avg, RO_avg, single_avg, two_gate_avg]\n",
    "# End get_avgs_from_dict\n",
    "\n",
    "\n",
    "def get_noise_dict_from_backend(backend, layout, date=None):\n",
    "    '''\n",
    "    Takes a given backend and a mapping object and returns a noise dictionary\n",
    "    to pass to a new Cross_Platform_Code/Hex_Code to have accurate backend\n",
    "    specific noise information based on calibration data.\n",
    "    '''\n",
    "    # Pre-reqs\n",
    "    noise_dict = {}\n",
    "    round_time = 1000e-9\n",
    "    if date is None:\n",
    "        t = None\n",
    "    else:\n",
    "        t = datetime(day=int(date[-2:]), month=int(date[-4:-2]), year=int(date[:4]))\n",
    "    properties = backend.properties(datetime=t)\n",
    "    # Initializing each qubit with single qubit noise\n",
    "    for qubit in layout:\n",
    "        # Defining ROI error\n",
    "        ROI_error = properties.readout_error(qubit)\n",
    "        # Defining idle error\n",
    "        t1 = properties.t1(qubit)\n",
    "        t2 = properties.t2(qubit)\n",
    "        t_time = min(t1, t2)\n",
    "        idle_error = 1 - np.exp(-round_time / t_time)\n",
    "        # Updating dictionary\n",
    "        noise_dict[qubit] = {}\n",
    "        noise_dict[qubit]['init'] = ROI_error\n",
    "        noise_dict[qubit]['idle'] = idle_error\n",
    "        noise_dict[qubit]['RO'] = ROI_error\n",
    "        noise_dict[qubit]['gate'] = 1e-4\n",
    "        noise_dict[qubit]['2-gate'] = {'default': 1e-2}\n",
    "    # Two qubit gate noise\n",
    "    all_qiskit_indexes = layout \n",
    "    for pair in backend.coupling_map:\n",
    "        # Making sure connection is in circuit\n",
    "        if pair[0] in all_qiskit_indexes and pair[1] in all_qiskit_indexes:\n",
    "            # Getting two qubit gate error\n",
    "            two_gate_error = properties.gate_error('ecr', pair)\n",
    "            if two_gate_error > .5:\n",
    "                two_gate_error = .5\n",
    "            # # Updating dictionary\n",
    "            # stim_index_0 = map.get_stim_index(qiskit_index=pair[0])\n",
    "            # stim_index_1 = map.get_stim_index(qiskit_index=pair[1])\n",
    "            noise_dict[pair[0]]['2-gate'][pair[1]] = two_gate_error\n",
    "            noise_dict[pair[1]]['2-gate'][pair[0]] = two_gate_error\n",
    "    return noise_dict\n",
    "# End get_noise_dict_from_backend"
   ]
  },
  {
   "cell_type": "code",
   "execution_count": 10,
   "metadata": {},
   "outputs": [
    {
     "name": "stdout",
     "output_type": "stream",
     "text": [
      "noise_dict: {114: {'init': 0.012799999999999923, 'idle': 0.0036593906155806266, 'RO': 0.012799999999999923, 'gate': 0.0001, '2-gate': {'default': 0.01, 113: 0.005452106269309642, 115: 0.009751021836470197}}, 116: {'init': 0.00770000000000004, 'idle': 0.005675580168901018, 'RO': 0.00770000000000004, 'gate': 0.0001, '2-gate': {'default': 0.01, 115: 0.006665310149900822, 117: 0.01269433701778852}}, 118: {'init': 0.0040000000000000036, 'idle': 0.004544406240744481, 'RO': 0.0040000000000000036, 'gate': 0.0001, '2-gate': {'default': 0.01, 117: 0.005921658318412182, 119: 0.010853065924460586}}, 120: {'init': 0.010000000000000009, 'idle': 0.00352197246803454, 'RO': 0.010000000000000009, 'gate': 0.0001, '2-gate': {'default': 0.01, 119: 0.006469636251456773, 121: 0.005020561482665692}}, 122: {'init': 0.010199999999999987, 'idle': 0.0037506010734535966, 'RO': 0.010199999999999987, 'gate': 0.0001, '2-gate': {'default': 0.01, 121: 0.007181297829149641, 111: 0.010637920476153251}}, 104: {'init': 0.0040999999999999925, 'idle': 0.005077432221821221, 'RO': 0.0040999999999999925, 'gate': 0.0001, '2-gate': {'default': 0.01, 103: 0.007242994765414457, 111: 0.008401218943928063}}, 102: {'init': 0.03420000000000001, 'idle': 0.006414555756656948, 'RO': 0.03420000000000001, 'gate': 0.0001, '2-gate': {'default': 0.01, 101: 0.006067592145423878, 103: 0.005166185231697984}}, 100: {'init': 0.009300000000000086, 'idle': 0.004908519628381014, 'RO': 0.009300000000000086, 'gate': 0.0001, '2-gate': {'default': 0.01, 99: 0.009270637964396061, 101: 0.006864964245204358}}, 98: {'init': 0.012599999999999945, 'idle': 0.004069389924180822, 'RO': 0.012599999999999945, 'gate': 0.0001, '2-gate': {'default': 0.01, 97: 0.03218662902600192, 99: 0.010981005114957282}}, 96: {'init': 0.009600000000000053, 'idle': 0.005119097027378228, 'RO': 0.009600000000000053, 'gate': 0.0001, '2-gate': {'default': 0.01, 95: 0.007811084543112051, 97: 0.02156592503890828}}, 94: {'init': 0.00550000000000006, 'idle': 0.006751393817288065, 'RO': 0.00550000000000006, 'gate': 0.0001, '2-gate': {'default': 0.01, 90: 0.008123079571960123, 95: 0.005183432154029888}}, 75: {'init': 0.04919999999999991, 'idle': 0.006286494259173492, 'RO': 0.04919999999999991, 'gate': 0.0001, '2-gate': {'default': 0.01, 76: 0.00957538464187832, 90: 0.016463467928899522}}, 77: {'init': 0.009199999999999986, 'idle': 0.0045818109461295276, 'RO': 0.009199999999999986, 'gate': 0.0001, '2-gate': {'default': 0.01, 76: 0.008271311052275215, 78: 0.006113175643229912}}, 79: {'init': 0.006399999999999961, 'idle': 0.035589491472445944, 'RO': 0.006399999999999961, 'gate': 0.0001, '2-gate': {'default': 0.01, 78: 0.006981247317358913, 80: 0.007380130498641696}}, 81: {'init': 0.0050000000000000044, 'idle': 0.0064660658808705085, 'RO': 0.0050000000000000044, 'gate': 0.0001, '2-gate': {'default': 0.01, 80: 0.008795145437141216, 82: 0.01710458241768048}}, 83: {'init': 0.05400000000000005, 'idle': 0.030266864798007775, 'RO': 0.05400000000000005, 'gate': 0.0001, '2-gate': {'default': 0.01, 82: 0.005322772711281204, 84: 0.00924238516921927}}, 85: {'init': 0.02400000000000002, 'idle': 0.011598450365327362, 'RO': 0.02400000000000002, 'gate': 0.0001, '2-gate': {'default': 0.01, 73: 0.012908323070538102, 84: 0.014970308576576608}}, 66: {'init': 0.007299999999999973, 'idle': 0.03989235888601439, 'RO': 0.007299999999999973, 'gate': 0.0001, '2-gate': {'default': 0.01, 65: 0.0047955458315630806, 73: 0.013476446491766048}}, 64: {'init': 0.007099999999999995, 'idle': 0.008172895791021206, 'RO': 0.007099999999999995, 'gate': 0.0001, '2-gate': {'default': 0.01, 63: 0.1173308488109312, 65: 0.006237319916683137}}, 62: {'init': 0.027100000000000013, 'idle': 0.011217321053392237, 'RO': 0.027100000000000013, 'gate': 0.0001, '2-gate': {'default': 0.01, 61: 0.009926264377265126, 63: 0.1053128661511294}}, 60: {'init': 0.008900000000000019, 'idle': 0.004768766478623121, 'RO': 0.008900000000000019, 'gate': 0.0001, '2-gate': {'default': 0.01, 59: 0.005156513214168129, 61: 0.007021119813741317}}, 58: {'init': 0.0041999999999999815, 'idle': 0.00471930214504368, 'RO': 0.0041999999999999815, 'gate': 0.0001, '2-gate': {'default': 0.01, 57: 0.009664987262182262, 59: 0.0053152091321481965}}, 56: {'init': 0.0121, 'idle': 0.05361000389087012, 'RO': 0.0121, 'gate': 0.0001, '2-gate': {'default': 0.01, 52: 0.011341905822168818, 57: 0.017163501896664435}}, 37: {'init': 0.011199999999999988, 'idle': 0.0036839710898877165, 'RO': 0.011199999999999988, 'gate': 0.0001, '2-gate': {'default': 0.01, 38: 0.007631923260891488, 52: 0.015978183730295692}}, 39: {'init': 0.006399999999999961, 'idle': 0.006664525495014062, 'RO': 0.006399999999999961, 'gate': 0.0001, '2-gate': {'default': 0.01, 38: 0.00873947196907185, 40: 0.007049283884497243}}, 41: {'init': 0.0040999999999999925, 'idle': 0.003882605617495871, 'RO': 0.0040999999999999925, 'gate': 0.0001, '2-gate': {'default': 0.01, 40: 0.0070087017327890855, 42: 0.0058653141592987235}}, 43: {'init': 0.007299999999999973, 'idle': 0.003827701548399065, 'RO': 0.007299999999999973, 'gate': 0.0001, '2-gate': {'default': 0.01, 42: 0.004625417776682572, 44: 0.0030148821593801722}}, 45: {'init': 0.014799999999999924, 'idle': 0.003556581383039381, 'RO': 0.014799999999999924, 'gate': 0.0001, '2-gate': {'default': 0.01, 44: 0.003620246924909948, 46: 0.005866379280439038}}, 47: {'init': 0.016100000000000003, 'idle': 0.005855921949979193, 'RO': 0.016100000000000003, 'gate': 0.0001, '2-gate': {'default': 0.01, 35: 0.007795475691239173, 46: 0.008508156381018012}}, 113: {'init': 0.0048000000000000265, 'idle': 0.015055486885402924, 'RO': 0.0048000000000000265, 'gate': 0.0001, '2-gate': {'default': 0.01, 114: 0.005452106269309642}}, 115: {'init': 0.0052000000000000934, 'idle': 0.0042292481538446225, 'RO': 0.0052000000000000934, 'gate': 0.0001, '2-gate': {'default': 0.01, 114: 0.009751021836470197, 116: 0.006665310149900822}}, 117: {'init': 0.008900000000000019, 'idle': 0.01034466619105845, 'RO': 0.008900000000000019, 'gate': 0.0001, '2-gate': {'default': 0.01, 116: 0.01269433701778852, 118: 0.005921658318412182}}, 119: {'init': 0.007000000000000006, 'idle': 0.004613176013542719, 'RO': 0.007000000000000006, 'gate': 0.0001, '2-gate': {'default': 0.01, 118: 0.010853065924460586, 120: 0.006469636251456773}}, 121: {'init': 0.011099999999999999, 'idle': 0.010422751772432237, 'RO': 0.011099999999999999, 'gate': 0.0001, '2-gate': {'default': 0.01, 120: 0.005020561482665692, 122: 0.007181297829149641}}, 111: {'init': 0.005600000000000049, 'idle': 0.005161032475867966, 'RO': 0.005600000000000049, 'gate': 0.0001, '2-gate': {'default': 0.01, 104: 0.008401218943928063, 122: 0.010637920476153251}}, 103: {'init': 0.01639999999999997, 'idle': 0.004117209629868612, 'RO': 0.01639999999999997, 'gate': 0.0001, '2-gate': {'default': 0.01, 102: 0.005166185231697984, 104: 0.007242994765414457}}, 101: {'init': 0.005600000000000049, 'idle': 0.013174282524672232, 'RO': 0.005600000000000049, 'gate': 0.0001, '2-gate': {'default': 0.01, 100: 0.006864964245204358, 102: 0.006067592145423878}}, 99: {'init': 0.011800000000000033, 'idle': 0.008568566963503055, 'RO': 0.011800000000000033, 'gate': 0.0001, '2-gate': {'default': 0.01, 98: 0.010981005114957282, 100: 0.009270637964396061}}, 97: {'init': 0.09600000000000009, 'idle': 0.012179037833312534, 'RO': 0.09600000000000009, 'gate': 0.0001, '2-gate': {'default': 0.01, 96: 0.02156592503890828, 98: 0.03218662902600192}}, 95: {'init': 0.012299999999999978, 'idle': 0.010912050856097255, 'RO': 0.012299999999999978, 'gate': 0.0001, '2-gate': {'default': 0.01, 94: 0.005183432154029888, 96: 0.007811084543112051}}, 90: {'init': 0.009399999999999964, 'idle': 0.013213486993783663, 'RO': 0.009399999999999964, 'gate': 0.0001, '2-gate': {'default': 0.01, 75: 0.016463467928899522, 94: 0.008123079571960123}}, 76: {'init': 0.024900000000000033, 'idle': 0.015952311945541142, 'RO': 0.024900000000000033, 'gate': 0.0001, '2-gate': {'default': 0.01, 75: 0.00957538464187832, 77: 0.008271311052275215}}, 78: {'init': 0.023800000000000043, 'idle': 0.003210460763982459, 'RO': 0.023800000000000043, 'gate': 0.0001, '2-gate': {'default': 0.01, 77: 0.006113175643229912, 79: 0.006981247317358913}}, 80: {'init': 0.015600000000000058, 'idle': 0.0078162895095093, 'RO': 0.015600000000000058, 'gate': 0.0001, '2-gate': {'default': 0.01, 79: 0.007380130498641696, 81: 0.008795145437141216}}, 82: {'init': 0.0040999999999999925, 'idle': 0.005975670698534774, 'RO': 0.0040999999999999925, 'gate': 0.0001, '2-gate': {'default': 0.01, 81: 0.01710458241768048, 83: 0.005322772711281204}}, 84: {'init': 0.005400000000000071, 'idle': 0.0037492906701983575, 'RO': 0.005400000000000071, 'gate': 0.0001, '2-gate': {'default': 0.01, 83: 0.00924238516921927, 85: 0.014970308576576608}}, 73: {'init': 0.005900000000000016, 'idle': 0.005488336746366063, 'RO': 0.005900000000000016, 'gate': 0.0001, '2-gate': {'default': 0.01, 66: 0.013476446491766048, 85: 0.012908323070538102}}, 65: {'init': 0.02410000000000001, 'idle': 0.0039054925469078627, 'RO': 0.02410000000000001, 'gate': 0.0001, '2-gate': {'default': 0.01, 64: 0.006237319916683137, 66: 0.0047955458315630806}}, 63: {'init': 0.02839999999999998, 'idle': 0.010479780097335967, 'RO': 0.02839999999999998, 'gate': 0.0001, '2-gate': {'default': 0.01, 62: 0.1053128661511294, 64: 0.1173308488109312}}, 61: {'init': 0.005900000000000016, 'idle': 0.0046163265562056965, 'RO': 0.005900000000000016, 'gate': 0.0001, '2-gate': {'default': 0.01, 60: 0.007021119813741317, 62: 0.009926264377265126}}, 59: {'init': 0.018399999999999972, 'idle': 0.003260678704569586, 'RO': 0.018399999999999972, 'gate': 0.0001, '2-gate': {'default': 0.01, 58: 0.0053152091321481965, 60: 0.005156513214168129}}, 57: {'init': 0.018899999999999917, 'idle': 0.012374921030786079, 'RO': 0.018899999999999917, 'gate': 0.0001, '2-gate': {'default': 0.01, 56: 0.017163501896664435, 58: 0.009664987262182262}}, 52: {'init': 0.01859999999999995, 'idle': 0.013075552430612314, 'RO': 0.01859999999999995, 'gate': 0.0001, '2-gate': {'default': 0.01, 37: 0.015978183730295692, 56: 0.011341905822168818}}, 38: {'init': 0.011199999999999988, 'idle': 0.005823928693705738, 'RO': 0.011199999999999988, 'gate': 0.0001, '2-gate': {'default': 0.01, 37: 0.007631923260891488, 39: 0.00873947196907185}}, 40: {'init': 0.0036000000000000476, 'idle': 0.003201725407879552, 'RO': 0.0036000000000000476, 'gate': 0.0001, '2-gate': {'default': 0.01, 39: 0.007049283884497243, 41: 0.0070087017327890855}}, 42: {'init': 0.032200000000000006, 'idle': 0.003964430157431864, 'RO': 0.032200000000000006, 'gate': 0.0001, '2-gate': {'default': 0.01, 41: 0.0058653141592987235, 43: 0.004625417776682572}}, 44: {'init': 0.0050000000000000044, 'idle': 0.004894477908528039, 'RO': 0.0050000000000000044, 'gate': 0.0001, '2-gate': {'default': 0.01, 43: 0.0030148821593801722, 45: 0.003620246924909948}}, 46: {'init': 0.008299999999999974, 'idle': 0.0030204393738555435, 'RO': 0.008299999999999974, 'gate': 0.0001, '2-gate': {'default': 0.01, 45: 0.005866379280439038, 47: 0.008508156381018012}}, 35: {'init': 0.010099999999999998, 'idle': 0.015264089016283622, 'RO': 0.010099999999999998, 'gate': 0.0001, '2-gate': {'default': 0.01, 47: 0.007795475691239173}}}\n",
      "avgs_noise [init_avg, idle_avg, RO_avg, single_avg, two_gate_avg]: [0.014455932203389834, 0.00908811306008094, 0.014455932203389834, 0.0001, 0.012604928697180107]\n"
     ]
    }
   ],
   "source": [
    "\n",
    "date = \"2023-10-30 09:45:17.340386+01:00\" #md.creation_date[0] # md[0] for log 1\n",
    "noise_dict = get_noise_dict_from_backend(provider.get_backend(DEVICE), layout, date=None) # takes noise closest to today\n",
    "print(\"noise_dict:\", noise_dict)\n",
    "avgs_noise = get_avgs_from_dict(noise_dict)\n",
    "print(\"avgs_noise [init_avg, idle_avg, RO_avg, single_avg, two_gate_avg]:\", avgs_noise)\n",
    "\n",
    "# takes 4s"
   ]
  },
  {
   "cell_type": "code",
   "execution_count": 11,
   "metadata": {},
   "outputs": [],
   "source": [
    "from soft_info import draw_matching_graph\n",
    "\n",
    "\n",
    "\n",
    "circuit = stim.Circuit.generated(\"repetition_code:memory\",\n",
    "                                distance=d,\n",
    "                                rounds=synd_rounds,\n",
    "                                after_clifford_depolarization= avgs_noise[4], #two-qubit-fidelity,\n",
    "                                after_reset_flip_probability= 0, #reset error,\n",
    "                                before_measure_flip_probability= avgs_noise[2], #measurement error,\n",
    "                                before_round_data_depolarization= 0)#avgs_noise[1]) #idle error)\n",
    "# print(circuit)\n",
    "\n",
    "model = circuit.detector_error_model(decompose_errors=True)\n",
    "matching = pymatching.Matching.from_detector_error_model(model)\n",
    "# draw_matching_graph(matching, d, synd_rounds, figsize=(20, 20))   \n",
    "# takes 10s"
   ]
  },
  {
   "cell_type": "markdown",
   "metadata": {},
   "source": [
    "# Decode"
   ]
  },
  {
   "cell_type": "code",
   "execution_count": 12,
   "metadata": {},
   "outputs": [],
   "source": [
    "counts = cpp_soft_info.get_counts(memory[:], qubit_mapping, grid_dict, processed_scaler_dict, synd_rounds)"
   ]
  },
  {
   "cell_type": "code",
   "execution_count": 13,
   "metadata": {},
   "outputs": [
    {
     "name": "stdout",
     "output_type": "stream",
     "text": [
      "num_errors: 15 out of 1111 shots\n"
     ]
    }
   ],
   "source": [
    "matching = pymatching.Matching.from_detector_error_model(model)\n",
    "# cpp_soft_info.reweight_edges_based_on_error_probs(matching._matching_graph, counts, False, \"spitz\")\n",
    "\n",
    "p_data = 6.869e-3 # mean sherbrooke noise\n",
    "num_errors = cpp_soft_info.decode_IQ_shots(matching._matching_graph, memory,\n",
    "                                           synd_rounds, qubit_mapping, grid_dict,\n",
    "                                           processed_scaler_dict, p_data=-1, p_mixed=-1, #p_mixed=1e-80, for d=30 \n",
    "                                           common_measure=-1, _bimodal=False, merge_strategy = \"replace\")\n",
    "print(\"num_errors:\", num_errors, \"out of\", len(memory), \"shots\")\n",
    " \n",
    "# takes 5s"
   ]
  },
  {
   "cell_type": "code",
   "execution_count": 14,
   "metadata": {},
   "outputs": [
    {
     "name": "stdout",
     "output_type": "stream",
     "text": [
      "num_errors: 46 out of 1111 shots\n"
     ]
    }
   ],
   "source": [
    "matching = pymatching.Matching.from_detector_error_model(model)\n",
    "num_errors = cpp_soft_info.decode_IQ_shots_flat(matching._matching_graph, memory,\n",
    "                                           synd_rounds, qubit_mapping, grid_dict,\n",
    "                                           processed_scaler_dict)\n",
    "print(\"num_errors:\", num_errors, \"out of\", len(memory), \"shots\")\n",
    "\n",
    "# takes 1s"
   ]
  },
  {
   "cell_type": "code",
   "execution_count": 17,
   "metadata": {},
   "outputs": [
    {
     "name": "stdout",
     "output_type": "stream",
     "text": [
      "num_errors: 21 out of 1111 shots\n"
     ]
    }
   ],
   "source": [
    "matching = pymatching.Matching.from_detector_error_model(model)\n",
    "\n",
    "def weight_to_prob(weight):\n",
    "    return 1/(1+np.exp(weight))\n",
    "\n",
    "p_data = 6.869e-3 # mean sherbrooke ECR error\n",
    "p_mixed = p_data/1 # Same as weighted\n",
    "# p_meas = 1e-3\n",
    "p_meas = 15.900e-2 # random found number\n",
    "\n",
    "\n",
    "p_data = -1\n",
    "p_mixed = -1\n",
    "p_meas = -1\n",
    "\n",
    "num_errors = cpp_soft_info.decode_IQ_shots_flat_informed(matching._matching_graph, memory, \n",
    "                                           synd_rounds, qubit_mapping, grid_dict, processed_scaler_dict,\n",
    "                                           p_data, p_mixed, p_meas, common_measure=-1)\n",
    "\n",
    "print(\"num_errors:\", num_errors, \"out of\", len(memory), \"shots\")\n",
    "         \n",
    "# takes 1s"
   ]
  },
  {
   "cell_type": "code",
   "execution_count": null,
   "metadata": {},
   "outputs": [],
   "source": []
  },
  {
   "cell_type": "code",
   "execution_count": null,
   "metadata": {},
   "outputs": [],
   "source": []
  }
 ],
 "metadata": {
  "kernelspec": {
   "display_name": "Soft-Info-fMUpUe5a",
   "language": "python",
   "name": "python3"
  },
  "language_info": {
   "codemirror_mode": {
    "name": "ipython",
    "version": 3
   },
   "file_extension": ".py",
   "mimetype": "text/x-python",
   "name": "python",
   "nbconvert_exporter": "python",
   "pygments_lexer": "ipython3",
   "version": "3.11.4"
  }
 },
 "nbformat": 4,
 "nbformat_minor": 2
}
