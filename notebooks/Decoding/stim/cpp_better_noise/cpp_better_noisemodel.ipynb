{
 "cells": [
  {
   "cell_type": "code",
   "execution_count": 1,
   "metadata": {},
   "outputs": [],
   "source": [
    "import cpp_soft_info"
   ]
  },
  {
   "cell_type": "markdown",
   "metadata": {},
   "source": [
    "# Load Data"
   ]
  },
  {
   "cell_type": "code",
   "execution_count": 2,
   "metadata": {},
   "outputs": [],
   "source": [
    "%reload_ext autoreload\n",
    "%autoreload 2"
   ]
  },
  {
   "cell_type": "code",
   "execution_count": 3,
   "metadata": {},
   "outputs": [],
   "source": [
    "from result_saver import SaverProvider\n",
    "provider = SaverProvider()"
   ]
  },
  {
   "cell_type": "code",
   "execution_count": 14,
   "metadata": {},
   "outputs": [
    {
     "data": {
      "text/html": [
       "<div>\n",
       "<style scoped>\n",
       "    .dataframe tbody tr th:only-of-type {\n",
       "        vertical-align: middle;\n",
       "    }\n",
       "\n",
       "    .dataframe tbody tr th {\n",
       "        vertical-align: top;\n",
       "    }\n",
       "\n",
       "    .dataframe thead th {\n",
       "        text-align: right;\n",
       "    }\n",
       "</style>\n",
       "<table border=\"1\" class=\"dataframe\">\n",
       "  <thead>\n",
       "    <tr style=\"text-align: right;\">\n",
       "      <th></th>\n",
       "      <th>creation_date</th>\n",
       "      <th>notebook_name</th>\n",
       "      <th>backend_name</th>\n",
       "      <th>job_id</th>\n",
       "      <th>tags</th>\n",
       "      <th>shots</th>\n",
       "      <th>tags_xp</th>\n",
       "      <th>rep_delay</th>\n",
       "      <th>sampled_state</th>\n",
       "      <th>num_qubits</th>\n",
       "      <th>job_status</th>\n",
       "      <th>extra</th>\n",
       "      <th>optimization_level</th>\n",
       "      <th>code</th>\n",
       "      <th>distance</th>\n",
       "      <th>rounds</th>\n",
       "      <th>logical</th>\n",
       "      <th>layout</th>\n",
       "      <th>descr</th>\n",
       "    </tr>\n",
       "  </thead>\n",
       "  <tbody>\n",
       "    <tr>\n",
       "      <th>243</th>\n",
       "      <td>2023-10-30 09:43:24.564124+01:00</td>\n",
       "      <td>bigger_rep_codes</td>\n",
       "      <td>ibm_sherbrooke</td>\n",
       "      <td>cmzpsb5daqbg008sjvb0</td>\n",
       "      <td>[]</td>\n",
       "      <td>10000.0</td>\n",
       "      <td>NaN</td>\n",
       "      <td>NaN</td>\n",
       "      <td>NaN</td>\n",
       "      <td>NaN</td>\n",
       "      <td>JobStatus.DONE</td>\n",
       "      <td>NaN</td>\n",
       "      <td>NaN</td>\n",
       "      <td>RepetitionCodeCircuit</td>\n",
       "      <td>10.0</td>\n",
       "      <td>10</td>\n",
       "      <td>1</td>\n",
       "      <td>_is_hex=True</td>\n",
       "      <td>Run bigger Repetition codes v4: new distances ...</td>\n",
       "    </tr>\n",
       "    <tr>\n",
       "      <th>242</th>\n",
       "      <td>2023-10-30 09:43:20.984078+01:00</td>\n",
       "      <td>bigger_rep_codes</td>\n",
       "      <td>ibm_sherbrooke</td>\n",
       "      <td>cmzpsa5vayrg008cpk30</td>\n",
       "      <td>[]</td>\n",
       "      <td>10000.0</td>\n",
       "      <td>NaN</td>\n",
       "      <td>NaN</td>\n",
       "      <td>NaN</td>\n",
       "      <td>NaN</td>\n",
       "      <td>JobStatus.DONE</td>\n",
       "      <td>NaN</td>\n",
       "      <td>NaN</td>\n",
       "      <td>RepetitionCodeCircuit</td>\n",
       "      <td>10.0</td>\n",
       "      <td>10</td>\n",
       "      <td>0</td>\n",
       "      <td>_is_hex=True</td>\n",
       "      <td>Run bigger Repetition codes v4: new distances ...</td>\n",
       "    </tr>\n",
       "  </tbody>\n",
       "</table>\n",
       "</div>"
      ],
      "text/plain": [
       "                        creation_date     notebook_name    backend_name  \\\n",
       "243  2023-10-30 09:43:24.564124+01:00  bigger_rep_codes  ibm_sherbrooke   \n",
       "242  2023-10-30 09:43:20.984078+01:00  bigger_rep_codes  ibm_sherbrooke   \n",
       "\n",
       "                   job_id tags    shots tags_xp  rep_delay sampled_state  \\\n",
       "243  cmzpsb5daqbg008sjvb0   []  10000.0     NaN        NaN           NaN   \n",
       "242  cmzpsa5vayrg008cpk30   []  10000.0     NaN        NaN           NaN   \n",
       "\n",
       "     num_qubits      job_status extra  optimization_level  \\\n",
       "243         NaN  JobStatus.DONE   NaN                 NaN   \n",
       "242         NaN  JobStatus.DONE   NaN                 NaN   \n",
       "\n",
       "                      code  distance rounds logical        layout  \\\n",
       "243  RepetitionCodeCircuit      10.0     10       1  _is_hex=True   \n",
       "242  RepetitionCodeCircuit      10.0     10       0  _is_hex=True   \n",
       "\n",
       "                                                 descr  \n",
       "243  Run bigger Repetition codes v4: new distances ...  \n",
       "242  Run bigger Repetition codes v4: new distances ...  "
      ]
     },
     "execution_count": 14,
     "metadata": {},
     "output_type": "execute_result"
    }
   ],
   "source": [
    "import numpy as np\n",
    "from Scratch import metadata_loader\n",
    "\n",
    "DEVICE = 'ibm_sherbrooke'\n",
    "\n",
    "md = metadata_loader(_extract=True, _drop_inutile=True)\n",
    "md = md[md[\"job_status\"] == \"JobStatus.DONE\"]\n",
    "md = md[md[\"notebook_name\"] == \"bigger_rep_codes\"]\n",
    "max_distance = int(max(md.distance))\n",
    "max_distance = 10\n",
    "md = md[md[\"distance\"] == max_distance]\n",
    "md = md[md[\"backend_name\"]==DEVICE]\n",
    "\n",
    "md = md[:2]\n",
    "\n",
    "md"
   ]
  },
  {
   "cell_type": "code",
   "execution_count": 15,
   "metadata": {},
   "outputs": [
    {
     "name": "stdout",
     "output_type": "stream",
     "text": [
      "(10000, 100)\n"
     ]
    }
   ],
   "source": [
    "memories = {}\n",
    "jobs = {}\n",
    "for job_id, logical in zip(md.job_id, md.logical):\n",
    "    mmr_name = f\"mmr_log_{logical}\"\n",
    "    memories[mmr_name] = provider.retrieve_job(job_id).result().get_memory()\n",
    "    jobs[mmr_name] = job_id\n",
    "\n",
    "memory_str = \"mmr_log_1\"\n",
    "memory = memories[memory_str][:]\n",
    "job_id = jobs[memory_str]\n",
    "print(memory.shape)"
   ]
  },
  {
   "cell_type": "markdown",
   "metadata": {},
   "source": [
    "# Initialize the code"
   ]
  },
  {
   "cell_type": "code",
   "execution_count": 16,
   "metadata": {},
   "outputs": [
    {
     "name": "stdout",
     "output_type": "stream",
     "text": [
      "layout: [114, 116, 118, 120, 122, 104, 102, 100, 98, 113, 115, 117, 119, 121, 111, 103, 101, 99, 97]\n",
      "len(layout): 19  = distance * code qubits + (distance-1) * link qubits\n"
     ]
    }
   ],
   "source": [
    "import stim\n",
    "import pymatching\n",
    "\n",
    "from soft_info import get_repcode_layout, get_repcode_IQ_map\n",
    "from Scratch import create_or_load_kde_grid\n",
    "\n",
    "d = max_distance\n",
    "synd_rounds = max_distance\n",
    "\n",
    "layout = get_repcode_layout(distance=max_distance, backend=provider.get_backend(DEVICE), _is_hex=True)\n",
    "qubit_mapping = get_repcode_IQ_map(layout, synd_rounds) #Hardcoded for repetition codes\n",
    "print(\"layout:\", layout)\n",
    "print(\"len(layout):\", len(layout), \" = distance * code qubits + (distance-1) * link qubits\")"
   ]
  },
  {
   "cell_type": "code",
   "execution_count": 28,
   "metadata": {},
   "outputs": [],
   "source": [
    "other_date = None # if none then it will find the closest to the tobecalib_job date\n",
    "# other_date = \"2023-11-22T10:30:00\" # \"2023-11-22T\" works too\n",
    "grid_dict, processed_scaler_dict = create_or_load_kde_grid(provider, job_id, 2**3, 0.3, other_date=other_date)\n",
    "\n",
    "# takes 10s"
   ]
  },
  {
   "cell_type": "markdown",
   "metadata": {},
   "source": [
    "#### Noise model stim"
   ]
  },
  {
   "cell_type": "code",
   "execution_count": 29,
   "metadata": {},
   "outputs": [],
   "source": [
    "from datetime import datetime\n",
    "\n",
    "def get_avgs_from_dict(noise_dict):\n",
    "    '''\n",
    "    Takes noise dictionary as an argument then returns length 5\n",
    "    array defining average noise levels: [init, idle, RO, single-, two-qubit gate]\n",
    "    '''\n",
    "    init_avg = np.average([noise_dict[qubit]['init'] for qubit in noise_dict])\n",
    "    idle_avg = np.average([noise_dict[qubit]['idle'] for qubit in noise_dict])\n",
    "    RO_avg = np.average([noise_dict[qubit]['RO'] for qubit in noise_dict])\n",
    "    single_avg = 1e-4#np.average([noise_dict[qubit]['init'] for qubit in noise_dict])\n",
    "    two_gate_avg = np.average([noise_dict[qubit]['2-gate'][connection]\n",
    "                        for qubit in noise_dict\n",
    "                        for connection in noise_dict[qubit]['2-gate']\n",
    "                        if connection != 'default'])\n",
    "    return [init_avg, idle_avg, RO_avg, single_avg, two_gate_avg]\n",
    "# End get_avgs_from_dict\n",
    "\n",
    "\n",
    "def get_noise_dict_from_backend(backend, layout, date=None):\n",
    "    '''\n",
    "    Takes a given backend and a mapping object and returns a noise dictionary\n",
    "    to pass to a new Cross_Platform_Code/Hex_Code to have accurate backend\n",
    "    specific noise information based on calibration data.\n",
    "    '''\n",
    "    # Pre-reqs\n",
    "    noise_dict = {}\n",
    "    round_time = 1000e-9\n",
    "    if date is None:\n",
    "        t = None\n",
    "    else:\n",
    "        t = datetime(day=int(date[-2:]), month=int(date[-4:-2]), year=int(date[:4]))\n",
    "    properties = backend.properties(datetime=t)\n",
    "    # Initializing each qubit with single qubit noise\n",
    "    for qubit in layout:\n",
    "        # Defining ROI error\n",
    "        ROI_error = properties.readout_error(qubit)\n",
    "        # Defining idle error\n",
    "        t1 = properties.t1(qubit)\n",
    "        t2 = properties.t2(qubit)\n",
    "        t_time = min(t1, t2)\n",
    "        idle_error = 1 - np.exp(-round_time / t_time)\n",
    "        # Updating dictionary\n",
    "        noise_dict[qubit] = {}\n",
    "        noise_dict[qubit]['init'] = ROI_error\n",
    "        noise_dict[qubit]['idle'] = idle_error\n",
    "        noise_dict[qubit]['RO'] = ROI_error\n",
    "        noise_dict[qubit]['gate'] = 1e-4\n",
    "        noise_dict[qubit]['2-gate'] = {'default': 1e-2}\n",
    "    # Two qubit gate noise\n",
    "    all_qiskit_indexes = layout \n",
    "    for pair in backend.coupling_map:\n",
    "        # Making sure connection is in circuit\n",
    "        if pair[0] in all_qiskit_indexes and pair[1] in all_qiskit_indexes:\n",
    "            # Getting two qubit gate error\n",
    "            two_gate_error = properties.gate_error('ecr', pair)\n",
    "            if two_gate_error > .5:\n",
    "                two_gate_error = .5\n",
    "            # # Updating dictionary\n",
    "            # stim_index_0 = map.get_stim_index(qiskit_index=pair[0])\n",
    "            # stim_index_1 = map.get_stim_index(qiskit_index=pair[1])\n",
    "            noise_dict[pair[0]]['2-gate'][pair[1]] = two_gate_error\n",
    "            noise_dict[pair[1]]['2-gate'][pair[0]] = two_gate_error\n",
    "    return noise_dict\n",
    "# End get_noise_dict_from_backend"
   ]
  },
  {
   "cell_type": "code",
   "execution_count": 30,
   "metadata": {},
   "outputs": [
    {
     "name": "stdout",
     "output_type": "stream",
     "text": [
      "noise_dict: {114: {'init': 0.012799999999999923, 'idle': 0.0036593906155806266, 'RO': 0.012799999999999923, 'gate': 0.0001, '2-gate': {'default': 0.01, 113: 0.005452106269309642, 115: 0.009751021836470197}}, 116: {'init': 0.00770000000000004, 'idle': 0.005675580168901018, 'RO': 0.00770000000000004, 'gate': 0.0001, '2-gate': {'default': 0.01, 115: 0.006665310149900822, 117: 0.01269433701778852}}, 118: {'init': 0.0040000000000000036, 'idle': 0.004544406240744481, 'RO': 0.0040000000000000036, 'gate': 0.0001, '2-gate': {'default': 0.01, 117: 0.005921658318412182, 119: 0.010853065924460586}}, 120: {'init': 0.010000000000000009, 'idle': 0.00352197246803454, 'RO': 0.010000000000000009, 'gate': 0.0001, '2-gate': {'default': 0.01, 119: 0.006469636251456773, 121: 0.005020561482665692}}, 122: {'init': 0.010199999999999987, 'idle': 0.0037506010734535966, 'RO': 0.010199999999999987, 'gate': 0.0001, '2-gate': {'default': 0.01, 121: 0.007181297829149641, 111: 0.010637920476153251}}, 104: {'init': 0.0040999999999999925, 'idle': 0.005077432221821221, 'RO': 0.0040999999999999925, 'gate': 0.0001, '2-gate': {'default': 0.01, 103: 0.007242994765414457, 111: 0.008401218943928063}}, 102: {'init': 0.03420000000000001, 'idle': 0.006414555756656948, 'RO': 0.03420000000000001, 'gate': 0.0001, '2-gate': {'default': 0.01, 101: 0.006067592145423878, 103: 0.005166185231697984}}, 100: {'init': 0.009300000000000086, 'idle': 0.004908519628381014, 'RO': 0.009300000000000086, 'gate': 0.0001, '2-gate': {'default': 0.01, 99: 0.009270637964396061, 101: 0.006864964245204358}}, 98: {'init': 0.012599999999999945, 'idle': 0.004069389924180822, 'RO': 0.012599999999999945, 'gate': 0.0001, '2-gate': {'default': 0.01, 97: 0.03218662902600192, 99: 0.010981005114957282}}, 113: {'init': 0.0048000000000000265, 'idle': 0.015055486885402924, 'RO': 0.0048000000000000265, 'gate': 0.0001, '2-gate': {'default': 0.01, 114: 0.005452106269309642}}, 115: {'init': 0.0052000000000000934, 'idle': 0.0042292481538446225, 'RO': 0.0052000000000000934, 'gate': 0.0001, '2-gate': {'default': 0.01, 114: 0.009751021836470197, 116: 0.006665310149900822}}, 117: {'init': 0.008900000000000019, 'idle': 0.01034466619105845, 'RO': 0.008900000000000019, 'gate': 0.0001, '2-gate': {'default': 0.01, 116: 0.01269433701778852, 118: 0.005921658318412182}}, 119: {'init': 0.007000000000000006, 'idle': 0.004613176013542719, 'RO': 0.007000000000000006, 'gate': 0.0001, '2-gate': {'default': 0.01, 118: 0.010853065924460586, 120: 0.006469636251456773}}, 121: {'init': 0.011099999999999999, 'idle': 0.010422751772432237, 'RO': 0.011099999999999999, 'gate': 0.0001, '2-gate': {'default': 0.01, 120: 0.005020561482665692, 122: 0.007181297829149641}}, 111: {'init': 0.005600000000000049, 'idle': 0.005161032475867966, 'RO': 0.005600000000000049, 'gate': 0.0001, '2-gate': {'default': 0.01, 104: 0.008401218943928063, 122: 0.010637920476153251}}, 103: {'init': 0.01639999999999997, 'idle': 0.004117209629868612, 'RO': 0.01639999999999997, 'gate': 0.0001, '2-gate': {'default': 0.01, 102: 0.005166185231697984, 104: 0.007242994765414457}}, 101: {'init': 0.005600000000000049, 'idle': 0.013174282524672232, 'RO': 0.005600000000000049, 'gate': 0.0001, '2-gate': {'default': 0.01, 100: 0.006864964245204358, 102: 0.006067592145423878}}, 99: {'init': 0.011800000000000033, 'idle': 0.008568566963503055, 'RO': 0.011800000000000033, 'gate': 0.0001, '2-gate': {'default': 0.01, 98: 0.010981005114957282, 100: 0.009270637964396061}}, 97: {'init': 0.09600000000000009, 'idle': 0.012179037833312534, 'RO': 0.09600000000000009, 'gate': 0.0001, '2-gate': {'default': 0.01, 98: 0.03218662902600192}}}\n",
      "avgs_noise [init_avg, idle_avg, RO_avg, single_avg, two_gate_avg]: [0.01459473684210528, 0.006815121396908401, 0.01459473684210528, 0.0001, 0.009268230166266184]\n"
     ]
    }
   ],
   "source": [
    "\n",
    "date = \"2023-10-30 09:45:17.340386+01:00\" #md.creation_date[0] # md[0] for log 1\n",
    "noise_dict = get_noise_dict_from_backend(provider.get_backend(DEVICE), layout, date=other_date)\n",
    "print(\"noise_dict:\", noise_dict)\n",
    "avgs_noise = get_avgs_from_dict(noise_dict)\n",
    "print(\"avgs_noise [init_avg, idle_avg, RO_avg, single_avg, two_gate_avg]:\", avgs_noise)\n",
    "\n",
    "# takes 4s"
   ]
  },
  {
   "cell_type": "code",
   "execution_count": 31,
   "metadata": {},
   "outputs": [],
   "source": [
    "from soft_info import draw_matching_graph\n",
    "\n",
    "# d = 3\n",
    "# synd_rounds = 3\n",
    "\n",
    "circuit = stim.Circuit.generated(\"repetition_code:memory\",\n",
    "                                distance=d,\n",
    "                                rounds=synd_rounds,\n",
    "                                after_clifford_depolarization= avgs_noise[4], #two-qubit-fidelity,\n",
    "                                after_reset_flip_probability= 0, #reset error,\n",
    "                                before_measure_flip_probability= avgs_noise[2], #measurement error,\n",
    "                                before_round_data_depolarization= 0)#avgs_noise[1]) #idle error)\n",
    "# print(circuit)\n",
    "\n",
    "model = circuit.detector_error_model(decompose_errors=True)\n",
    "matching = pymatching.Matching.from_detector_error_model(model)\n",
    "# draw_matching_graph(matching, d, synd_rounds, figsize=(20, 20))   \n",
    "# takes 10s"
   ]
  },
  {
   "cell_type": "markdown",
   "metadata": {},
   "source": [
    "# Decode"
   ]
  },
  {
   "cell_type": "code",
   "execution_count": null,
   "metadata": {},
   "outputs": [],
   "source": []
  },
  {
   "cell_type": "code",
   "execution_count": 42,
   "metadata": {},
   "outputs": [
    {
     "name": "stdout",
     "output_type": "stream",
     "text": [
      "num_errors: 9986 out of 10000 shots\n"
     ]
    }
   ],
   "source": [
    "matching = pymatching.Matching.from_detector_error_model(model)\n",
    "p_data = 6.869e-3 # mean sherbrooke noise\n",
    "num_errors = cpp_soft_info.decode_IQ_shots(matching._matching_graph, memory,\n",
    "                                           synd_rounds, qubit_mapping, grid_dict,\n",
    "                                           processed_scaler_dict, p_data=-1, p_mixed=-1, #p_mixed=1e-80, for d=30 \n",
    "                                           common_measure=-1, _bimodal=False, merge_strategy = \"replace\")\n",
    "print(\"num_errors:\", num_errors, \"out of\", len(memory), \"shots\")\n",
    " \n",
    "# takes 5s"
   ]
  },
  {
   "cell_type": "code",
   "execution_count": 40,
   "metadata": {},
   "outputs": [
    {
     "name": "stdout",
     "output_type": "stream",
     "text": [
      "num_errors: 9983 out of 10000 shots\n"
     ]
    }
   ],
   "source": [
    "matching = pymatching.Matching.from_detector_error_model(model)\n",
    "num_errors = cpp_soft_info.decode_IQ_shots_flat(matching._matching_graph, memory,\n",
    "                                           synd_rounds, qubit_mapping, grid_dict,\n",
    "                                           processed_scaler_dict)\n",
    "print(\"num_errors:\", num_errors, \"out of\", len(memory), \"shots\")\n",
    "\n",
    "# takes 1s"
   ]
  },
  {
   "cell_type": "code",
   "execution_count": 41,
   "metadata": {},
   "outputs": [
    {
     "name": "stdout",
     "output_type": "stream",
     "text": [
      "num_errors: 9986 out of 10000 shots\n"
     ]
    }
   ],
   "source": [
    "matching = pymatching.Matching.from_detector_error_model(model)\n",
    "\n",
    "def weight_to_prob(weight):\n",
    "    return 1/(1+np.exp(weight))\n",
    "\n",
    "p_data = 6.869e-3 # mean sherbrooke ECR error\n",
    "p_mixed = p_data/1 # Same as weighted\n",
    "# p_meas = 1e-3\n",
    "p_meas = 15.900e-2 # random found number\n",
    "\n",
    "\n",
    "p_data = -1\n",
    "p_mixed = -1\n",
    "p_meas = -1\n",
    "\n",
    "num_errors = cpp_soft_info.decode_IQ_shots_flat_informed(matching._matching_graph, memory, \n",
    "                                           synd_rounds, qubit_mapping, grid_dict, processed_scaler_dict,\n",
    "                                           p_data, p_mixed, p_meas, common_measure=-1)\n",
    "\n",
    "print(\"num_errors:\", num_errors, \"out of\", len(memory), \"shots\")\n",
    "         \n",
    "# takes 1s"
   ]
  },
  {
   "cell_type": "code",
   "execution_count": null,
   "metadata": {},
   "outputs": [],
   "source": []
  }
 ],
 "metadata": {
  "kernelspec": {
   "display_name": "Soft-Info-fMUpUe5a",
   "language": "python",
   "name": "python3"
  },
  "language_info": {
   "codemirror_mode": {
    "name": "ipython",
    "version": 3
   },
   "file_extension": ".py",
   "mimetype": "text/x-python",
   "name": "python",
   "nbconvert_exporter": "python",
   "pygments_lexer": "ipython3",
   "version": "3.11.4"
  }
 },
 "nbformat": 4,
 "nbformat_minor": 2
}
