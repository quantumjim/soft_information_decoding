{
 "cells": [
  {
   "cell_type": "code",
   "execution_count": 1,
   "metadata": {},
   "outputs": [],
   "source": [
    "import cpp_soft_info"
   ]
  },
  {
   "cell_type": "markdown",
   "metadata": {},
   "source": [
    "# Load Data"
   ]
  },
  {
   "cell_type": "code",
   "execution_count": 3,
   "metadata": {},
   "outputs": [],
   "source": [
    "%reload_ext autoreload\n",
    "%autoreload 2"
   ]
  },
  {
   "cell_type": "code",
   "execution_count": 4,
   "metadata": {},
   "outputs": [],
   "source": [
    "from result_saver import SaverProvider\n",
    "provider = SaverProvider()"
   ]
  },
  {
   "cell_type": "code",
   "execution_count": 5,
   "metadata": {},
   "outputs": [
    {
     "data": {
      "text/html": [
       "<div>\n",
       "<style scoped>\n",
       "    .dataframe tbody tr th:only-of-type {\n",
       "        vertical-align: middle;\n",
       "    }\n",
       "\n",
       "    .dataframe tbody tr th {\n",
       "        vertical-align: top;\n",
       "    }\n",
       "\n",
       "    .dataframe thead th {\n",
       "        text-align: right;\n",
       "    }\n",
       "</style>\n",
       "<table border=\"1\" class=\"dataframe\">\n",
       "  <thead>\n",
       "    <tr style=\"text-align: right;\">\n",
       "      <th></th>\n",
       "      <th>creation_date</th>\n",
       "      <th>notebook_name</th>\n",
       "      <th>backend_name</th>\n",
       "      <th>job_id</th>\n",
       "      <th>job_name</th>\n",
       "      <th>job_metadata</th>\n",
       "      <th>tags</th>\n",
       "      <th>meas_level</th>\n",
       "      <th>init_qubits</th>\n",
       "      <th>meas_return</th>\n",
       "      <th>...</th>\n",
       "      <th>job_status</th>\n",
       "      <th>execution_date</th>\n",
       "      <th>extra</th>\n",
       "      <th>optimization_level</th>\n",
       "      <th>code</th>\n",
       "      <th>distance</th>\n",
       "      <th>rounds</th>\n",
       "      <th>logical</th>\n",
       "      <th>layout</th>\n",
       "      <th>descr</th>\n",
       "    </tr>\n",
       "  </thead>\n",
       "  <tbody>\n",
       "    <tr>\n",
       "      <th>242</th>\n",
       "      <td>2023-10-30 09:43:20.984078+01:00</td>\n",
       "      <td>bigger_rep_codes</td>\n",
       "      <td>ibm_sherbrooke</td>\n",
       "      <td>cmzpsa5vayrg008cpk30</td>\n",
       "      <td>NaN</td>\n",
       "      <td>{}</td>\n",
       "      <td>[]</td>\n",
       "      <td>1.0</td>\n",
       "      <td>True</td>\n",
       "      <td>single</td>\n",
       "      <td>...</td>\n",
       "      <td>JobStatus.DONE</td>\n",
       "      <td>2023-10-31 17:04:50.381134+01:00</td>\n",
       "      <td>NaN</td>\n",
       "      <td>NaN</td>\n",
       "      <td>RepetitionCodeCircuit</td>\n",
       "      <td>10.0</td>\n",
       "      <td>10</td>\n",
       "      <td>0</td>\n",
       "      <td>_is_hex=True</td>\n",
       "      <td>Run bigger Repetition codes v4: new distances ...</td>\n",
       "    </tr>\n",
       "    <tr>\n",
       "      <th>235</th>\n",
       "      <td>2023-10-30 09:42:31.121190+01:00</td>\n",
       "      <td>bigger_rep_codes</td>\n",
       "      <td>ibm_sherbrooke</td>\n",
       "      <td>cmzprxv3r3vg008wg7w0</td>\n",
       "      <td>NaN</td>\n",
       "      <td>{}</td>\n",
       "      <td>[]</td>\n",
       "      <td>1.0</td>\n",
       "      <td>True</td>\n",
       "      <td>single</td>\n",
       "      <td>...</td>\n",
       "      <td>JobStatus.DONE</td>\n",
       "      <td>2023-10-31 17:05:53.332697+01:00</td>\n",
       "      <td>NaN</td>\n",
       "      <td>NaN</td>\n",
       "      <td>RepetitionCodeCircuit</td>\n",
       "      <td>10.0</td>\n",
       "      <td>10</td>\n",
       "      <td>1</td>\n",
       "      <td>_is_hex=True</td>\n",
       "      <td>Run bigger Repetition codes v4: new distances ...</td>\n",
       "    </tr>\n",
       "  </tbody>\n",
       "</table>\n",
       "<p>2 rows × 27 columns</p>\n",
       "</div>"
      ],
      "text/plain": [
       "                        creation_date     notebook_name    backend_name  \\\n",
       "242  2023-10-30 09:43:20.984078+01:00  bigger_rep_codes  ibm_sherbrooke   \n",
       "235  2023-10-30 09:42:31.121190+01:00  bigger_rep_codes  ibm_sherbrooke   \n",
       "\n",
       "                   job_id  job_name job_metadata tags  meas_level init_qubits  \\\n",
       "242  cmzpsa5vayrg008cpk30       NaN           {}   []         1.0        True   \n",
       "235  cmzprxv3r3vg008wg7w0       NaN           {}   []         1.0        True   \n",
       "\n",
       "    meas_return  ...      job_status                    execution_date extra  \\\n",
       "242      single  ...  JobStatus.DONE  2023-10-31 17:04:50.381134+01:00   NaN   \n",
       "235      single  ...  JobStatus.DONE  2023-10-31 17:05:53.332697+01:00   NaN   \n",
       "\n",
       "    optimization_level                   code distance  rounds logical  \\\n",
       "242                NaN  RepetitionCodeCircuit     10.0      10       0   \n",
       "235                NaN  RepetitionCodeCircuit     10.0      10       1   \n",
       "\n",
       "           layout                                              descr  \n",
       "242  _is_hex=True  Run bigger Repetition codes v4: new distances ...  \n",
       "235  _is_hex=True  Run bigger Repetition codes v4: new distances ...  \n",
       "\n",
       "[2 rows x 27 columns]"
      ]
     },
     "execution_count": 5,
     "metadata": {},
     "output_type": "execute_result"
    }
   ],
   "source": [
    "import numpy as np\n",
    "from Scratch import metadata_loader\n",
    "\n",
    "DEVICE = 'ibm_sherbrooke'\n",
    "\n",
    "md = metadata_loader(_extract=True, _drop_inutile=False)\n",
    "# print(md.head())\n",
    "md = md[md[\"job_status\"] == \"JobStatus.DONE\"]\n",
    "md = md[md[\"notebook_name\"] == \"bigger_rep_codes\"]\n",
    "max_distance = int(max(md.distance))\n",
    "max_distance = 10\n",
    "md = md[md[\"distance\"] == max_distance]\n",
    "md = md[md[\"backend_name\"]==DEVICE]\n",
    "\n",
    "\n",
    "md = md[md[\"meas_level\"] == 1]\n",
    "md = md[1:3]\n",
    "\n",
    "d = max_distance\n",
    "synd_rounds = max_distance\n",
    "\n",
    "md"
   ]
  },
  {
   "cell_type": "code",
   "execution_count": 6,
   "metadata": {},
   "outputs": [
    {
     "name": "stdout",
     "output_type": "stream",
     "text": [
      "(10000, 100)\n"
     ]
    }
   ],
   "source": [
    "memories = {}\n",
    "jobs = {}\n",
    "for job_id, logical in zip(md.job_id, md.logical):\n",
    "    mmr_name = f\"mmr_log_{logical}\"\n",
    "    memories[mmr_name] = provider.retrieve_job(job_id).result().get_memory()\n",
    "    jobs[mmr_name] = job_id\n",
    "\n",
    "memory_str = \"mmr_log_0\"\n",
    "memory = memories[memory_str][:]\n",
    "job_id = jobs[memory_str]\n",
    "print(memory.shape)"
   ]
  },
  {
   "cell_type": "markdown",
   "metadata": {},
   "source": [
    "# Initialize the code"
   ]
  },
  {
   "cell_type": "code",
   "execution_count": 7,
   "metadata": {},
   "outputs": [
    {
     "name": "stdout",
     "output_type": "stream",
     "text": [
      "layout: [114, 116, 118, 120, 122, 104, 102, 100, 98, 113, 115, 117, 119, 121, 111, 103, 101, 99, 97]\n",
      "len(layout): 19  = distance * code qubits + (distance-1) * link qubits\n"
     ]
    }
   ],
   "source": [
    "import stim\n",
    "import pymatching\n",
    "\n",
    "from soft_info import get_repcode_layout, get_repcode_IQ_map\n",
    "from Scratch import create_or_load_kde_grid\n",
    "\n",
    "\n",
    "layout = get_repcode_layout(distance=max_distance, backend=provider.get_backend(DEVICE), _is_hex=True)\n",
    "qubit_mapping = get_repcode_IQ_map(layout, synd_rounds) #Hardcoded for repetition codes\n",
    "print(\"layout:\", layout)\n",
    "print(\"len(layout):\", len(layout), \" = distance * code qubits + (distance-1) * link qubits\")"
   ]
  },
  {
   "cell_type": "code",
   "execution_count": 8,
   "metadata": {},
   "outputs": [
    {
     "name": "stdout",
     "output_type": "stream",
     "text": [
      "Specified job execution date: 2023-10-31 17:04:50.381134+01:00\n",
      "Found jobs for backend ibm_sherbrooke with closest execution date 2023-10-27 08:32:22.841567+00:00.\n",
      "Searching for ibm_sherbrooke and 23.10.27_07h46_2pts_3std\n"
     ]
    }
   ],
   "source": [
    "other_date = None # if none then it will find the closest to the tobecalib_job date\n",
    "# other_date = \"2023-11-10T10:30:00\" # \"2023-11-22T\" works to\n",
    "grid_dict, processed_scaler_dict = create_or_load_kde_grid(provider, job_id, 300, 2, other_date=other_date)\n",
    "\n",
    "# takes 10s"
   ]
  },
  {
   "cell_type": "markdown",
   "metadata": {},
   "source": [
    "#### Noise model stim"
   ]
  },
  {
   "cell_type": "code",
   "execution_count": null,
   "metadata": {},
   "outputs": [],
   "source": [
    "from datetime import datetime\n",
    "\n",
    "def get_avgs_from_dict(noise_dict):\n",
    "    '''\n",
    "    Takes noise dictionary as an argument then returns length 5\n",
    "    array defining average noise levels: [init, idle, RO, single-, two-qubit gate]\n",
    "    '''\n",
    "    init_avg = np.average([noise_dict[qubit]['init'] for qubit in noise_dict])\n",
    "    idle_avg = np.average([noise_dict[qubit]['idle'] for qubit in noise_dict])\n",
    "    RO_avg = np.average([noise_dict[qubit]['RO'] for qubit in noise_dict])\n",
    "    single_avg = 1e-4#np.average([noise_dict[qubit]['init'] for qubit in noise_dict])\n",
    "    two_gate_avg = np.average([noise_dict[qubit]['2-gate'][connection]\n",
    "                        for qubit in noise_dict\n",
    "                        for connection in noise_dict[qubit]['2-gate']\n",
    "                        if connection != 'default'])\n",
    "    return [init_avg, idle_avg, RO_avg, single_avg, two_gate_avg]\n",
    "# End get_avgs_from_dict\n",
    "\n",
    "\n",
    "def get_noise_dict_from_backend(backend, layout, date=None):\n",
    "    '''\n",
    "    Takes a given backend and a mapping object and returns a noise dictionary\n",
    "    to pass to a new Cross_Platform_Code/Hex_Code to have accurate backend\n",
    "    specific noise information based on calibration data.\n",
    "    '''\n",
    "    # Pre-reqs\n",
    "    noise_dict = {}\n",
    "    round_time = 1000e-9\n",
    "    if date is None:\n",
    "        t = None\n",
    "    else:\n",
    "        t = datetime(day=int(date[-2:]), month=int(date[-4:-2]), year=int(date[:4]))\n",
    "    properties = backend.properties(datetime=t)\n",
    "    # Initializing each qubit with single qubit noise\n",
    "    for qubit in layout:\n",
    "        # Defining ROI error\n",
    "        ROI_error = properties.readout_error(qubit)\n",
    "        # Defining idle error\n",
    "        t1 = properties.t1(qubit)\n",
    "        t2 = properties.t2(qubit)\n",
    "        t_time = min(t1, t2)\n",
    "        idle_error = 1 - np.exp(-round_time / t_time)\n",
    "        # Updating dictionary\n",
    "        noise_dict[qubit] = {}\n",
    "        noise_dict[qubit]['init'] = ROI_error\n",
    "        noise_dict[qubit]['idle'] = idle_error\n",
    "        noise_dict[qubit]['RO'] = ROI_error\n",
    "        noise_dict[qubit]['gate'] = 1e-4\n",
    "        noise_dict[qubit]['2-gate'] = {'default': 1e-2}\n",
    "    # Two qubit gate noise\n",
    "    all_qiskit_indexes = layout \n",
    "    for pair in backend.coupling_map:\n",
    "        # Making sure connection is in circuit\n",
    "        if pair[0] in all_qiskit_indexes and pair[1] in all_qiskit_indexes:\n",
    "            # Getting two qubit gate error\n",
    "            two_gate_error = properties.gate_error('ecr', pair)\n",
    "            if two_gate_error > .5:\n",
    "                two_gate_error = .5\n",
    "            # # Updating dictionary\n",
    "            # stim_index_0 = map.get_stim_index(qiskit_index=pair[0])\n",
    "            # stim_index_1 = map.get_stim_index(qiskit_index=pair[1])\n",
    "            noise_dict[pair[0]]['2-gate'][pair[1]] = two_gate_error\n",
    "            noise_dict[pair[1]]['2-gate'][pair[0]] = two_gate_error\n",
    "    return noise_dict\n",
    "# End get_noise_dict_from_backend"
   ]
  },
  {
   "cell_type": "code",
   "execution_count": null,
   "metadata": {},
   "outputs": [
    {
     "name": "stdout",
     "output_type": "stream",
     "text": [
      "noise_dict: {114: {'init': 0.012899999999999912, 'idle': 0.004346196426116666, 'RO': 0.012899999999999912, 'gate': 0.0001, '2-gate': {'default': 0.01, 113: 0.0047563347934007905, 115: 0.009703241315324962}}, 116: {'init': 0.007000000000000006, 'idle': 0.0038247043118020407, 'RO': 0.007000000000000006, 'gate': 0.0001, '2-gate': {'default': 0.01, 115: 0.00393754614228195, 117: 0.0119017196933624}}, 118: {'init': 0.012299999999999978, 'idle': 0.003967615521162093, 'RO': 0.012299999999999978, 'gate': 0.0001, '2-gate': {'default': 0.01, 117: 0.006117238332777608, 119: 0.012474770199112584}}, 120: {'init': 0.009800000000000031, 'idle': 0.004334195683942554, 'RO': 0.009800000000000031, 'gate': 0.0001, '2-gate': {'default': 0.01, 119: 0.01096375917945358, 121: 0.00895255723476518}}, 122: {'init': 0.007900000000000018, 'idle': 0.00408632614978377, 'RO': 0.007900000000000018, 'gate': 0.0001, '2-gate': {'default': 0.01, 121: 0.007386859695892589, 111: 0.009660706469946018}}, 104: {'init': 0.0030000000000000027, 'idle': 0.004359183111376619, 'RO': 0.0030000000000000027, 'gate': 0.0001, '2-gate': {'default': 0.01, 103: 0.006124317940681856, 111: 0.007591634270709052}}, 102: {'init': 0.06040000000000001, 'idle': 0.006576240199374972, 'RO': 0.06040000000000001, 'gate': 0.0001, '2-gate': {'default': 0.01, 101: 0.008159198427073161, 103: 0.008428191625922732}}, 100: {'init': 0.008900000000000019, 'idle': 0.004547416776290669, 'RO': 0.008900000000000019, 'gate': 0.0001, '2-gate': {'default': 0.01, 99: 0.009320782153315083, 101: 0.007712767812062121}}, 98: {'init': 0.014799999999999924, 'idle': 0.004261337371921581, 'RO': 0.014799999999999924, 'gate': 0.0001, '2-gate': {'default': 0.01, 97: 0.005194607002478119, 99: 0.011007988927519197}}, 113: {'init': 0.0040000000000000036, 'idle': 0.014803998825940523, 'RO': 0.0040000000000000036, 'gate': 0.0001, '2-gate': {'default': 0.01, 114: 0.0047563347934007905}}, 115: {'init': 0.0037000000000000366, 'idle': 0.004645202266510329, 'RO': 0.0037000000000000366, 'gate': 0.0001, '2-gate': {'default': 0.01, 114: 0.009703241315324962, 116: 0.00393754614228195}}, 117: {'init': 0.009199999999999986, 'idle': 0.00867791958549402, 'RO': 0.009199999999999986, 'gate': 0.0001, '2-gate': {'default': 0.01, 116: 0.0119017196933624, 118: 0.006117238332777608}}, 119: {'init': 0.011600000000000055, 'idle': 0.03240812915443336, 'RO': 0.011600000000000055, 'gate': 0.0001, '2-gate': {'default': 0.01, 118: 0.012474770199112584, 120: 0.01096375917945358}}, 121: {'init': 0.011399999999999966, 'idle': 0.008583628658731968, 'RO': 0.011399999999999966, 'gate': 0.0001, '2-gate': {'default': 0.01, 120: 0.00895255723476518, 122: 0.007386859695892589}}, 111: {'init': 0.010299999999999976, 'idle': 0.0068245949415861595, 'RO': 0.010299999999999976, 'gate': 0.0001, '2-gate': {'default': 0.01, 104: 0.007591634270709052, 122: 0.009660706469946018}}, 103: {'init': 0.0043999999999999595, 'idle': 0.004080750809744016, 'RO': 0.0043999999999999595, 'gate': 0.0001, '2-gate': {'default': 0.01, 102: 0.008428191625922732, 104: 0.006124317940681856}}, 101: {'init': 0.0040999999999999925, 'idle': 0.013602272775133706, 'RO': 0.0040999999999999925, 'gate': 0.0001, '2-gate': {'default': 0.01, 100: 0.007712767812062121, 102: 0.008159198427073161}}, 99: {'init': 0.010700000000000043, 'idle': 0.005086714555523675, 'RO': 0.010700000000000043, 'gate': 0.0001, '2-gate': {'default': 0.01, 98: 0.011007988927519197, 100: 0.009320782153315083}}, 97: {'init': 0.009600000000000053, 'idle': 0.004363810922424327, 'RO': 0.009600000000000053, 'gate': 0.0001, '2-gate': {'default': 0.01, 98: 0.005194607002478119}}}\n",
      "avgs_noise [init_avg, idle_avg, RO_avg, single_avg, two_gate_avg]: [0.011368421052631578, 0.007546328318278582, 0.011368421052631578, 0.0001, 0.008299678956448833]\n"
     ]
    }
   ],
   "source": [
    "\n",
    "date = \"2023-10-30 09:45:17.340386+01:00\" #md.creation_date[0] # md[0] for log 1\n",
    "noise_dict = get_noise_dict_from_backend(provider.get_backend(DEVICE), layout, date=None) # takes noise closest to today\n",
    "print(\"noise_dict:\", noise_dict)\n",
    "avgs_noise = get_avgs_from_dict(noise_dict)\n",
    "print(\"avgs_noise [init_avg, idle_avg, RO_avg, single_avg, two_gate_avg]:\", avgs_noise)\n",
    "\n",
    "# takes 4s"
   ]
  },
  {
   "cell_type": "code",
   "execution_count": null,
   "metadata": {},
   "outputs": [],
   "source": [
    "from soft_info import draw_matching_graph\n",
    "\n",
    "\n",
    "\n",
    "circuit = stim.Circuit.generated(\"repetition_code:memory\",\n",
    "                                distance=d,\n",
    "                                rounds=synd_rounds,\n",
    "                                after_clifford_depolarization= avgs_noise[4], #two-qubit-fidelity,\n",
    "                                after_reset_flip_probability= 0,# avgs_noise[0], #reset error,\n",
    "                                before_measure_flip_probability= avgs_noise[2]*5, #measurement error,\n",
    "                                before_round_data_depolarization= avgs_noise[1]) #idle error)\n",
    "# print(circuit)\n",
    "\n",
    "model = circuit.detector_error_model(decompose_errors=True)\n",
    "matching = pymatching.Matching.from_detector_error_model(model)"
   ]
  },
  {
   "cell_type": "markdown",
   "metadata": {},
   "source": [
    "# Decode"
   ]
  },
  {
   "cell_type": "code",
   "execution_count": null,
   "metadata": {},
   "outputs": [],
   "source": [
    "class sm:\n",
    "    def __init__(self, qubit_mapping, grid_dict, processed_scaler_dict):\n",
    "        self.qubit_mapping = qubit_mapping\n",
    "        self.grid_dict = grid_dict\n",
    "        self.processed_scaler_dict = processed_scaler_dict\n",
    "\n",
    "simulator = sm(qubit_mapping, grid_dict, processed_scaler_dict)\n",
    "\n",
    "IQ_data = memory"
   ]
  },
  {
   "cell_type": "code",
   "execution_count": null,
   "metadata": {},
   "outputs": [
    {
     "name": "stdout",
     "output_type": "stream",
     "text": [
      "num_errors: 96 out of 10000 shots for _RESETS = False\n"
     ]
    }
   ],
   "source": [
    "import cpp_soft_info\n",
    "\n",
    "_RESETS = False\n",
    "LOGICAL = '0'\n",
    "ROUNDS = synd_rounds\n",
    "\n",
    "_DETAILED = False\n",
    "\n",
    "matching = pymatching.Matching.from_detector_error_model(model)\n",
    "# cpp_soft_info.reweight_edges_based_on_error_probs(matching._matching_graph, counts, False, \"spitz\")\n",
    "\n",
    "result = cpp_soft_info.decode_IQ_shots(matching._matching_graph, IQ_data,\n",
    "                                           ROUNDS, int(\"0\"), _RESETS, simulator.qubit_mapping, simulator.grid_dict,\n",
    "                                           simulator.processed_scaler_dict, p_data=-1, p_mixed=-1,\n",
    "                                           common_measure=-1, _adv_probs=not _RESETS, _bimodal=_RESETS, merge_strategy = \"replace\", _detailed=_DETAILED,\n",
    "                                            p_offset = 1, p_multiplicator = 1)\n",
    "print(\"num_errors:\", result.num_errors, \"out of\", len(IQ_data), \"shots for _RESETS =\", _RESETS)"
   ]
  },
  {
   "cell_type": "code",
   "execution_count": null,
   "metadata": {},
   "outputs": [
    {
     "name": "stdout",
     "output_type": "stream",
     "text": [
      "num_errors: 263 out of 10000 shots for _RESETS = False\n"
     ]
    }
   ],
   "source": [
    "matching = pymatching.Matching.from_detector_error_model(model)\n",
    "\n",
    "p_meas = -1\n",
    "# p_meas = 16e-2 \n",
    "\n",
    "\n",
    "result_informed = cpp_soft_info.decode_IQ_shots_flat_informed(matching._matching_graph, IQ_data[:],\n",
    "                                           ROUNDS, int(LOGICAL), _RESETS, simulator.qubit_mapping, simulator.grid_dict, simulator.processed_scaler_dict,\n",
    "                                           p_data = -1, p_mixed = -1, p_meas = p_meas, common_measure=-1, _detailed=_DETAILED)\n",
    "\n",
    "print(\"num_errors:\", result_informed.num_errors, \"out of\", len(IQ_data), \"shots for _RESETS =\", _RESETS)\n",
    "         \n",
    "# takes 1s"
   ]
  },
  {
   "cell_type": "code",
   "execution_count": null,
   "metadata": {},
   "outputs": [
    {
     "name": "stdout",
     "output_type": "stream",
     "text": [
      "num_errors: 405 out of 10000 shots for _RESETS = False\n"
     ]
    }
   ],
   "source": [
    "matching = pymatching.Matching.from_detector_error_model(model)\n",
    "result_flat = cpp_soft_info.decode_IQ_shots_flat(matching._matching_graph, IQ_data,\n",
    "                                           ROUNDS, int(LOGICAL), _RESETS, simulator.qubit_mapping, simulator.grid_dict,\n",
    "                                           simulator.processed_scaler_dict, _detailed=_DETAILED)\n",
    "print(\"num_errors:\", result_flat.num_errors, \"out of\", len(IQ_data), \"shots for _RESETS =\", _RESETS)\n"
   ]
  }
 ],
 "metadata": {
  "kernelspec": {
   "display_name": "Soft-Info-fMUpUe5a",
   "language": "python",
   "name": "python3"
  },
  "language_info": {
   "codemirror_mode": {
    "name": "ipython",
    "version": 3
   },
   "file_extension": ".py",
   "mimetype": "text/x-python",
   "name": "python",
   "nbconvert_exporter": "python",
   "pygments_lexer": "ipython3",
   "version": "3.11.4"
  }
 },
 "nbformat": 4,
 "nbformat_minor": 2
}
