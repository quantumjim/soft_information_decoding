{
 "cells": [
  {
   "cell_type": "code",
   "execution_count": 249,
   "metadata": {},
   "outputs": [],
   "source": [
    "import cpp_soft_info"
   ]
  },
  {
   "cell_type": "markdown",
   "metadata": {},
   "source": [
    "# Load Data"
   ]
  },
  {
   "cell_type": "code",
   "execution_count": 250,
   "metadata": {},
   "outputs": [],
   "source": [
    "%reload_ext autoreload\n",
    "%autoreload 2"
   ]
  },
  {
   "cell_type": "code",
   "execution_count": 251,
   "metadata": {},
   "outputs": [],
   "source": [
    "from result_saver import SaverProvider\n",
    "from qiskit_ibm_provider import IBMProvider\n",
    "# provider = SaverProvider()\n",
    "provider = IBMProvider()"
   ]
  },
  {
   "cell_type": "code",
   "execution_count": 252,
   "metadata": {},
   "outputs": [
    {
     "data": {
      "text/html": [
       "<div>\n",
       "<style scoped>\n",
       "    .dataframe tbody tr th:only-of-type {\n",
       "        vertical-align: middle;\n",
       "    }\n",
       "\n",
       "    .dataframe tbody tr th {\n",
       "        vertical-align: top;\n",
       "    }\n",
       "\n",
       "    .dataframe thead th {\n",
       "        text-align: right;\n",
       "    }\n",
       "</style>\n",
       "<table border=\"1\" class=\"dataframe\">\n",
       "  <thead>\n",
       "    <tr style=\"text-align: right;\">\n",
       "      <th></th>\n",
       "      <th>creation_date</th>\n",
       "      <th>notebook_name</th>\n",
       "      <th>backend_name</th>\n",
       "      <th>job_id</th>\n",
       "      <th>job_name</th>\n",
       "      <th>job_metadata</th>\n",
       "      <th>tags</th>\n",
       "      <th>meas_level</th>\n",
       "      <th>init_qubits</th>\n",
       "      <th>meas_return</th>\n",
       "      <th>...</th>\n",
       "      <th>job_status</th>\n",
       "      <th>execution_date</th>\n",
       "      <th>extra</th>\n",
       "      <th>optimization_level</th>\n",
       "      <th>code</th>\n",
       "      <th>distance</th>\n",
       "      <th>rounds</th>\n",
       "      <th>logical</th>\n",
       "      <th>layout</th>\n",
       "      <th>descr</th>\n",
       "    </tr>\n",
       "  </thead>\n",
       "  <tbody>\n",
       "    <tr>\n",
       "      <th>242</th>\n",
       "      <td>2023-10-30 09:43:20.984078+01:00</td>\n",
       "      <td>bigger_rep_codes</td>\n",
       "      <td>ibm_sherbrooke</td>\n",
       "      <td>cmzpsa5vayrg008cpk30</td>\n",
       "      <td>NaN</td>\n",
       "      <td>{}</td>\n",
       "      <td>[]</td>\n",
       "      <td>1.0</td>\n",
       "      <td>True</td>\n",
       "      <td>single</td>\n",
       "      <td>...</td>\n",
       "      <td>JobStatus.DONE</td>\n",
       "      <td>2023-10-31 17:04:50.381134+01:00</td>\n",
       "      <td>NaN</td>\n",
       "      <td>NaN</td>\n",
       "      <td>RepetitionCodeCircuit</td>\n",
       "      <td>10.0</td>\n",
       "      <td>10</td>\n",
       "      <td>0</td>\n",
       "      <td>_is_hex=True</td>\n",
       "      <td>Run bigger Repetition codes v4: new distances ...</td>\n",
       "    </tr>\n",
       "    <tr>\n",
       "      <th>235</th>\n",
       "      <td>2023-10-30 09:42:31.121190+01:00</td>\n",
       "      <td>bigger_rep_codes</td>\n",
       "      <td>ibm_sherbrooke</td>\n",
       "      <td>cmzprxv3r3vg008wg7w0</td>\n",
       "      <td>NaN</td>\n",
       "      <td>{}</td>\n",
       "      <td>[]</td>\n",
       "      <td>1.0</td>\n",
       "      <td>True</td>\n",
       "      <td>single</td>\n",
       "      <td>...</td>\n",
       "      <td>JobStatus.DONE</td>\n",
       "      <td>2023-10-31 17:05:53.332697+01:00</td>\n",
       "      <td>NaN</td>\n",
       "      <td>NaN</td>\n",
       "      <td>RepetitionCodeCircuit</td>\n",
       "      <td>10.0</td>\n",
       "      <td>10</td>\n",
       "      <td>1</td>\n",
       "      <td>_is_hex=True</td>\n",
       "      <td>Run bigger Repetition codes v4: new distances ...</td>\n",
       "    </tr>\n",
       "  </tbody>\n",
       "</table>\n",
       "<p>2 rows × 27 columns</p>\n",
       "</div>"
      ],
      "text/plain": [
       "                        creation_date     notebook_name    backend_name  \\\n",
       "242  2023-10-30 09:43:20.984078+01:00  bigger_rep_codes  ibm_sherbrooke   \n",
       "235  2023-10-30 09:42:31.121190+01:00  bigger_rep_codes  ibm_sherbrooke   \n",
       "\n",
       "                   job_id  job_name job_metadata tags  meas_level init_qubits  \\\n",
       "242  cmzpsa5vayrg008cpk30       NaN           {}   []         1.0        True   \n",
       "235  cmzprxv3r3vg008wg7w0       NaN           {}   []         1.0        True   \n",
       "\n",
       "    meas_return  ...      job_status                    execution_date extra  \\\n",
       "242      single  ...  JobStatus.DONE  2023-10-31 17:04:50.381134+01:00   NaN   \n",
       "235      single  ...  JobStatus.DONE  2023-10-31 17:05:53.332697+01:00   NaN   \n",
       "\n",
       "    optimization_level                   code distance  rounds logical  \\\n",
       "242                NaN  RepetitionCodeCircuit     10.0      10       0   \n",
       "235                NaN  RepetitionCodeCircuit     10.0      10       1   \n",
       "\n",
       "           layout                                              descr  \n",
       "242  _is_hex=True  Run bigger Repetition codes v4: new distances ...  \n",
       "235  _is_hex=True  Run bigger Repetition codes v4: new distances ...  \n",
       "\n",
       "[2 rows x 27 columns]"
      ]
     },
     "execution_count": 252,
     "metadata": {},
     "output_type": "execute_result"
    }
   ],
   "source": [
    "import numpy as np\n",
    "from Scratch import metadata_loader\n",
    "\n",
    "DEVICE = 'ibm_sherbrooke'\n",
    "DISTANCE = 3\n",
    "ROUNDS = 3\n",
    "_RESETS = True\n",
    "\n",
    "\n",
    "\n",
    "md = metadata_loader(_extract=True, _drop_inutile=False)\n",
    "# print(md.head())\n",
    "md = md[md[\"job_status\"] == \"JobStatus.DONE\"]\n",
    "md = md[md[\"notebook_name\"] == \"bigger_rep_codes\"]\n",
    "max_distance = int(max(md.distance))\n",
    "max_distance = 10\n",
    "md = md[md[\"distance\"] == max_distance]\n",
    "md = md[md[\"backend_name\"]==DEVICE]\n",
    "\n",
    "\n",
    "md = md[md[\"meas_level\"] == 1]\n",
    "md = md[1:3]\n",
    "\n",
    "d = max_distance\n",
    "synd_rounds = max_distance\n",
    "\n",
    "md"
   ]
  },
  {
   "cell_type": "markdown",
   "metadata": {},
   "source": [
    "# Initialize the code"
   ]
  },
  {
   "cell_type": "code",
   "execution_count": 253,
   "metadata": {},
   "outputs": [
    {
     "ename": "KeyboardInterrupt",
     "evalue": "",
     "output_type": "error",
     "traceback": [
      "\u001b[0;31m---------------------------------------------------------------------------\u001b[0m",
      "\u001b[0;31mKeyboardInterrupt\u001b[0m                         Traceback (most recent call last)",
      "Cell \u001b[0;32mIn[253], line 8\u001b[0m\n\u001b[1;32m      4\u001b[0m \u001b[38;5;28;01mfrom\u001b[39;00m \u001b[38;5;21;01msoft_info\u001b[39;00m \u001b[38;5;28;01mimport\u001b[39;00m get_repcode_layout, get_repcode_IQ_map\n\u001b[1;32m      5\u001b[0m \u001b[38;5;28;01mfrom\u001b[39;00m \u001b[38;5;21;01mScratch\u001b[39;00m \u001b[38;5;28;01mimport\u001b[39;00m create_or_load_kde_grid\n\u001b[0;32m----> 8\u001b[0m layout \u001b[38;5;241m=\u001b[39m \u001b[43mget_repcode_layout\u001b[49m\u001b[43m(\u001b[49m\u001b[43mdistance\u001b[49m\u001b[38;5;241;43m=\u001b[39;49m\u001b[43mDISTANCE\u001b[49m\u001b[43m,\u001b[49m\u001b[43m \u001b[49m\u001b[43mbackend\u001b[49m\u001b[38;5;241;43m=\u001b[39;49m\u001b[43mprovider\u001b[49m\u001b[38;5;241;43m.\u001b[39;49m\u001b[43mget_backend\u001b[49m\u001b[43m(\u001b[49m\u001b[43mDEVICE\u001b[49m\u001b[43m)\u001b[49m\u001b[43m,\u001b[49m\u001b[43m \u001b[49m\u001b[43m_is_hex\u001b[49m\u001b[38;5;241;43m=\u001b[39;49m\u001b[38;5;28;43;01mTrue\u001b[39;49;00m\u001b[43m)\u001b[49m\n\u001b[1;32m      9\u001b[0m qubit_mapping \u001b[38;5;241m=\u001b[39m get_repcode_IQ_map(layout, synd_rounds) \u001b[38;5;66;03m#Hardcoded for repetition codes\u001b[39;00m\n\u001b[1;32m     10\u001b[0m \u001b[38;5;28mprint\u001b[39m(\u001b[38;5;124m\"\u001b[39m\u001b[38;5;124mlayout:\u001b[39m\u001b[38;5;124m\"\u001b[39m, layout)\n",
      "File \u001b[0;32m~/My_Drive/Desktop/Studium/Physik/MSc/Semester_3/IBM/IBM_GIT/Soft-Info/src/soft_info/Hardware/transpile_rep_code.py:22\u001b[0m, in \u001b[0;36mget_repcode_layout\u001b[0;34m(distance, backend, _is_hex, plot)\u001b[0m\n\u001b[1;32m     10\u001b[0m \u001b[38;5;250m\u001b[39m\u001b[38;5;124;03m\"\"\"Get the layout of repetition code based on the longest path and distance.\u001b[39;00m\n\u001b[1;32m     11\u001b[0m \n\u001b[1;32m     12\u001b[0m \u001b[38;5;124;03mArgs:\u001b[39;00m\n\u001b[0;32m   (...)\u001b[0m\n\u001b[1;32m     19\u001b[0m \u001b[38;5;124;03m    list: The layout of physical qubit indices consisting of link qubits followed by code qubits.\u001b[39;00m\n\u001b[1;32m     20\u001b[0m \u001b[38;5;124;03m\"\"\"\u001b[39;00m\n\u001b[1;32m     21\u001b[0m find_path \u001b[38;5;241m=\u001b[39m find_longest_path_in_hex \u001b[38;5;28;01mif\u001b[39;00m _is_hex \u001b[38;5;28;01melse\u001b[39;00m find_longest_path_general\n\u001b[0;32m---> 22\u001b[0m path, _, _ \u001b[38;5;241m=\u001b[39m \u001b[43mfind_path\u001b[49m\u001b[43m(\u001b[49m\u001b[43mbackend\u001b[49m\u001b[43m,\u001b[49m\u001b[43m \u001b[49m\u001b[43mplot\u001b[49m\u001b[38;5;241;43m=\u001b[39;49m\u001b[43mplot\u001b[49m\u001b[43m)\u001b[49m\n\u001b[1;32m     24\u001b[0m \u001b[38;5;28;01mif\u001b[39;00m \u001b[38;5;241m2\u001b[39m \u001b[38;5;241m*\u001b[39m distance \u001b[38;5;241m-\u001b[39m \u001b[38;5;241m1\u001b[39m \u001b[38;5;241m>\u001b[39m \u001b[38;5;28mlen\u001b[39m(path):\n\u001b[1;32m     25\u001b[0m     \u001b[38;5;28;01mraise\u001b[39;00m \u001b[38;5;167;01mValueError\u001b[39;00m(\n\u001b[1;32m     26\u001b[0m         \u001b[38;5;124mf\u001b[39m\u001b[38;5;124m\"\u001b[39m\u001b[38;5;124mThe distance: \u001b[39m\u001b[38;5;132;01m{\u001b[39;00mdistance\u001b[38;5;132;01m}\u001b[39;00m\u001b[38;5;124m is larger than the max distance: \u001b[39m\u001b[38;5;124m\"\u001b[39m\n\u001b[1;32m     27\u001b[0m         \u001b[38;5;124mf\u001b[39m\u001b[38;5;124m\"\u001b[39m\u001b[38;5;132;01m{\u001b[39;00m\u001b[38;5;28mint\u001b[39m((\u001b[38;5;28mlen\u001b[39m(path)\u001b[38;5;250m \u001b[39m\u001b[38;5;241m+\u001b[39m\u001b[38;5;250m \u001b[39m\u001b[38;5;241m1\u001b[39m)\u001b[38;5;250m \u001b[39m\u001b[38;5;241m/\u001b[39m\u001b[38;5;250m \u001b[39m\u001b[38;5;241m2\u001b[39m)\u001b[38;5;132;01m}\u001b[39;00m\u001b[38;5;124m for the given path of length: \u001b[39m\u001b[38;5;132;01m{\u001b[39;00m\u001b[38;5;28mlen\u001b[39m(path)\u001b[38;5;132;01m}\u001b[39;00m\u001b[38;5;124m\"\u001b[39m\n\u001b[1;32m     28\u001b[0m     )\n",
      "File \u001b[0;32m~/My_Drive/Desktop/Studium/Physik/MSc/Semester_3/IBM/IBM_GIT/Soft-Info/src/soft_info/Hardware/coupling_map.py:142\u001b[0m, in \u001b[0;36mfind_longest_path_in_hex\u001b[0;34m(backend, plot)\u001b[0m\n\u001b[1;32m    140\u001b[0m visited \u001b[38;5;241m=\u001b[39m \u001b[38;5;28mset\u001b[39m()\n\u001b[1;32m    141\u001b[0m longest_path_info \u001b[38;5;241m=\u001b[39m [\u001b[38;5;241m0\u001b[39m, [], \u001b[38;5;28;01mNone\u001b[39;00m]\n\u001b[0;32m--> 142\u001b[0m \u001b[43mfind_longest_path_dfs\u001b[49m\u001b[43m(\u001b[49m\u001b[43mG\u001b[49m\u001b[43m,\u001b[49m\u001b[43m \u001b[49m\u001b[43mcorner_nodes\u001b[49m\u001b[43m[\u001b[49m\u001b[38;5;241;43m-\u001b[39;49m\u001b[38;5;241;43m1\u001b[39;49m\u001b[43m]\u001b[49m\u001b[43m,\u001b[49m\u001b[43m \u001b[49m\u001b[43mvisited\u001b[49m\u001b[43m,\u001b[49m\u001b[43m \u001b[49m\u001b[43m[\u001b[49m\u001b[43m]\u001b[49m\u001b[43m,\u001b[49m\u001b[43m \u001b[49m\u001b[43mlongest_path_info\u001b[49m\u001b[43m)\u001b[49m\n\u001b[1;32m    144\u001b[0m length, path, start_qubit \u001b[38;5;241m=\u001b[39m longest_path_info\n\u001b[1;32m    146\u001b[0m \u001b[38;5;28;01mif\u001b[39;00m plot:\n",
      "File \u001b[0;32m~/My_Drive/Desktop/Studium/Physik/MSc/Semester_3/IBM/IBM_GIT/Soft-Info/src/soft_info/Hardware/coupling_map.py:74\u001b[0m, in \u001b[0;36mfind_longest_path_dfs\u001b[0;34m(G, start, visited, path, longest_path_info)\u001b[0m\n\u001b[1;32m     72\u001b[0m \u001b[38;5;28;01mfor\u001b[39;00m neighbor \u001b[38;5;129;01min\u001b[39;00m G\u001b[38;5;241m.\u001b[39mneighbors(start):\n\u001b[1;32m     73\u001b[0m     \u001b[38;5;28;01mif\u001b[39;00m neighbor \u001b[38;5;129;01mnot\u001b[39;00m \u001b[38;5;129;01min\u001b[39;00m visited:\n\u001b[0;32m---> 74\u001b[0m         \u001b[43mfind_longest_path_dfs\u001b[49m\u001b[43m(\u001b[49m\u001b[43mG\u001b[49m\u001b[43m,\u001b[49m\u001b[43m \u001b[49m\u001b[43mneighbor\u001b[49m\u001b[43m,\u001b[49m\u001b[43m \u001b[49m\u001b[43mvisited\u001b[49m\u001b[43m,\u001b[49m\n\u001b[1;32m     75\u001b[0m \u001b[43m                              \u001b[49m\u001b[43mpath\u001b[49m\u001b[43m,\u001b[49m\u001b[43m \u001b[49m\u001b[43mlongest_path_info\u001b[49m\u001b[43m)\u001b[49m\n\u001b[1;32m     77\u001b[0m visited\u001b[38;5;241m.\u001b[39mremove(start)\n\u001b[1;32m     78\u001b[0m path\u001b[38;5;241m.\u001b[39mpop()\n",
      "File \u001b[0;32m~/My_Drive/Desktop/Studium/Physik/MSc/Semester_3/IBM/IBM_GIT/Soft-Info/src/soft_info/Hardware/coupling_map.py:74\u001b[0m, in \u001b[0;36mfind_longest_path_dfs\u001b[0;34m(G, start, visited, path, longest_path_info)\u001b[0m\n\u001b[1;32m     72\u001b[0m \u001b[38;5;28;01mfor\u001b[39;00m neighbor \u001b[38;5;129;01min\u001b[39;00m G\u001b[38;5;241m.\u001b[39mneighbors(start):\n\u001b[1;32m     73\u001b[0m     \u001b[38;5;28;01mif\u001b[39;00m neighbor \u001b[38;5;129;01mnot\u001b[39;00m \u001b[38;5;129;01min\u001b[39;00m visited:\n\u001b[0;32m---> 74\u001b[0m         \u001b[43mfind_longest_path_dfs\u001b[49m\u001b[43m(\u001b[49m\u001b[43mG\u001b[49m\u001b[43m,\u001b[49m\u001b[43m \u001b[49m\u001b[43mneighbor\u001b[49m\u001b[43m,\u001b[49m\u001b[43m \u001b[49m\u001b[43mvisited\u001b[49m\u001b[43m,\u001b[49m\n\u001b[1;32m     75\u001b[0m \u001b[43m                              \u001b[49m\u001b[43mpath\u001b[49m\u001b[43m,\u001b[49m\u001b[43m \u001b[49m\u001b[43mlongest_path_info\u001b[49m\u001b[43m)\u001b[49m\n\u001b[1;32m     77\u001b[0m visited\u001b[38;5;241m.\u001b[39mremove(start)\n\u001b[1;32m     78\u001b[0m path\u001b[38;5;241m.\u001b[39mpop()\n",
      "    \u001b[0;31m[... skipping similar frames: find_longest_path_dfs at line 74 (53 times)]\u001b[0m\n",
      "File \u001b[0;32m~/My_Drive/Desktop/Studium/Physik/MSc/Semester_3/IBM/IBM_GIT/Soft-Info/src/soft_info/Hardware/coupling_map.py:74\u001b[0m, in \u001b[0;36mfind_longest_path_dfs\u001b[0;34m(G, start, visited, path, longest_path_info)\u001b[0m\n\u001b[1;32m     72\u001b[0m \u001b[38;5;28;01mfor\u001b[39;00m neighbor \u001b[38;5;129;01min\u001b[39;00m G\u001b[38;5;241m.\u001b[39mneighbors(start):\n\u001b[1;32m     73\u001b[0m     \u001b[38;5;28;01mif\u001b[39;00m neighbor \u001b[38;5;129;01mnot\u001b[39;00m \u001b[38;5;129;01min\u001b[39;00m visited:\n\u001b[0;32m---> 74\u001b[0m         \u001b[43mfind_longest_path_dfs\u001b[49m\u001b[43m(\u001b[49m\u001b[43mG\u001b[49m\u001b[43m,\u001b[49m\u001b[43m \u001b[49m\u001b[43mneighbor\u001b[49m\u001b[43m,\u001b[49m\u001b[43m \u001b[49m\u001b[43mvisited\u001b[49m\u001b[43m,\u001b[49m\n\u001b[1;32m     75\u001b[0m \u001b[43m                              \u001b[49m\u001b[43mpath\u001b[49m\u001b[43m,\u001b[49m\u001b[43m \u001b[49m\u001b[43mlongest_path_info\u001b[49m\u001b[43m)\u001b[49m\n\u001b[1;32m     77\u001b[0m visited\u001b[38;5;241m.\u001b[39mremove(start)\n\u001b[1;32m     78\u001b[0m path\u001b[38;5;241m.\u001b[39mpop()\n",
      "File \u001b[0;32m~/My_Drive/Desktop/Studium/Physik/MSc/Semester_3/IBM/IBM_GIT/Soft-Info/src/soft_info/Hardware/coupling_map.py:61\u001b[0m, in \u001b[0;36mfind_longest_path_dfs\u001b[0;34m(G, start, visited, path, longest_path_info)\u001b[0m\n\u001b[1;32m     56\u001b[0m     nx\u001b[38;5;241m.\u001b[39mdraw_networkx_edges(G, pos, edgelist\u001b[38;5;241m=\u001b[39mpath_edges,\n\u001b[1;32m     57\u001b[0m                            edge_color\u001b[38;5;241m=\u001b[39m\u001b[38;5;124m'\u001b[39m\u001b[38;5;124mred\u001b[39m\u001b[38;5;124m'\u001b[39m, width\u001b[38;5;241m=\u001b[39m\u001b[38;5;241m4\u001b[39m)\n\u001b[1;32m     58\u001b[0m     plt\u001b[38;5;241m.\u001b[39mshow()\n\u001b[0;32m---> 61\u001b[0m \u001b[38;5;28;01mdef\u001b[39;00m \u001b[38;5;21mfind_longest_path_dfs\u001b[39m(G, start, visited, path, longest_path_info):\n\u001b[1;32m     62\u001b[0m     visited\u001b[38;5;241m.\u001b[39madd(start)\n\u001b[1;32m     63\u001b[0m     path\u001b[38;5;241m.\u001b[39mappend(start)\n",
      "\u001b[0;31mKeyboardInterrupt\u001b[0m: "
     ]
    }
   ],
   "source": [
    "import stim\n",
    "import pymatching\n",
    "\n",
    "from soft_info import get_repcode_layout, get_repcode_IQ_map\n",
    "from Scratch import create_or_load_kde_grid\n",
    "\n",
    "\n",
    "layout = get_repcode_layout(distance=DISTANCE, backend=provider.get_backend(DEVICE), _is_hex=True)\n",
    "qubit_mapping = get_repcode_IQ_map(layout, synd_rounds) #Hardcoded for repetition codes\n",
    "print(\"layout:\", layout)\n",
    "print(\"len(layout):\", len(layout), \" = distance * code qubits + (distance-1) * link qubits\")"
   ]
  },
  {
   "cell_type": "code",
   "execution_count": null,
   "metadata": {},
   "outputs": [
    {
     "name": "stdout",
     "output_type": "stream",
     "text": [
      "Specified job execution date: 2023-10-31 17:04:50.381134+01:00\n",
      "Found jobs for backend ibm_sherbrooke with closest execution date 2023-10-27 08:32:22.841567+00:00.\n",
      "Searching for ibm_sherbrooke and 23.10.27_07h46_2pts_3std\n"
     ]
    }
   ],
   "source": [
    "other_date = None # if none then it will find the closest to the tobecalib_job date\n",
    "# other_date = \"2023-11-10T10:30:00\" # \"2023-11-22T\" works to\n",
    "grid_dict, processed_scaler_dict = create_or_load_kde_grid(provider, job_id, 300, 2, other_date=other_date)\n",
    "\n",
    "# takes 10s"
   ]
  },
  {
   "cell_type": "markdown",
   "metadata": {},
   "source": [
    "# Test backend.properties"
   ]
  },
  {
   "cell_type": "code",
   "execution_count": 264,
   "metadata": {},
   "outputs": [
    {
     "name": "stdout",
     "output_type": "stream",
     "text": [
      "2023-10-29 23:00:00+00:00\n",
      "<qiskit.providers.models.backendproperties.BackendProperties object at 0x2ce55c9d0>\n"
     ]
    }
   ],
   "source": [
    "from datetime import datetime\n",
    "from dateutil import parser\n",
    "import pytz\n",
    "\n",
    "\n",
    "backend = provider.get_backend(\"ibm_sherbrooke\")\n",
    "\n",
    "date_str = \"2023-10-30\"\n",
    "date_with_tz = parser.parse(date_str)\n",
    "\n",
    "# Convert to UTC\n",
    "date_utc = date_with_tz.astimezone(pytz.utc)\n",
    "print(date_utc)\n",
    "properties = backend.properties(datetime=date_utc)\n",
    "print(properties)"
   ]
  },
  {
   "cell_type": "code",
   "execution_count": null,
   "metadata": {},
   "outputs": [
    {
     "name": "stdout",
     "output_type": "stream",
     "text": [
      "0.012599999999999945\n",
      "1.2444444444444443e-06\n",
      "7.811163179704282e-05\n",
      "7.811163179704282e-05\n",
      "7.811163179704282e-05\n",
      "{'T1': (0.00045493532791432667, datetime.datetime(2024, 1, 12, 15, 47, 51, tzinfo=tzlocal())), 'T2': (0.00024131978207207186, datetime.datetime(2024, 1, 14, 7, 16, 29, tzinfo=tzlocal())), 'frequency': (4635666685.722814, datetime.datetime(2024, 1, 14, 10, 29, 18, tzinfo=tzlocal())), 'anharmonicity': (-313276039.4092362, datetime.datetime(2024, 1, 14, 10, 29, 18, tzinfo=tzlocal())), 'readout_error': (0.005299999999999971, datetime.datetime(2024, 1, 14, 6, 40, 13, tzinfo=tzlocal())), 'prob_meas0_prep1': (0.0074, datetime.datetime(2024, 1, 14, 6, 40, 13, tzinfo=tzlocal())), 'prob_meas1_prep0': (0.0031999999999999806, datetime.datetime(2024, 1, 14, 6, 40, 13, tzinfo=tzlocal())), 'readout_length': (1.2444444444444443e-06, datetime.datetime(2024, 1, 14, 6, 40, 13, tzinfo=tzlocal()))}\n"
     ]
    }
   ],
   "source": [
    "print(properties.readout_error(1))\n",
    "print(properties.readout_length(1))\n",
    "\n",
    "\n",
    "print(properties.gate_error(\"sx\", 0))\n",
    "print(properties.gate_error(\"id\", 0))\n",
    "print(properties.gate_error(\"x\", 0))\n",
    "\n",
    "print(properties.qubit_property(0))\n",
    "\n"
   ]
  },
  {
   "cell_type": "markdown",
   "metadata": {},
   "source": [
    "# Get round time "
   ]
  },
  {
   "cell_type": "code",
   "execution_count": null,
   "metadata": {},
   "outputs": [],
   "source": [
    "from qiskit import transpile\n",
    "from qiskit_qec.circuits import RepetitionCodeCircuit\n",
    "\n",
    "\n",
    "synd_rounds = 50\n",
    "distance = 50\n",
    "layout = get_repcode_layout(distance, backend, _is_hex=True)\n",
    "\n",
    "code = RepetitionCodeCircuit(distance, synd_rounds , xbasis=False, resets=_RESETS)\n",
    "circ = code.circuit[\"0\"]\n",
    "\n",
    "transpiled_qc = transpile(circ, backend, initial_layout=layout, optimization_level=3, scheduling_method=\"alap\")\n"
   ]
  },
  {
   "cell_type": "code",
   "execution_count": null,
   "metadata": {},
   "outputs": [
    {
     "name": "stdout",
     "output_type": "stream",
     "text": [
      "965024\n",
      "2.2222222222222221e-10\n",
      "total duration per round (mean): 4288.995555555555 ns\n"
     ]
    }
   ],
   "source": [
    "from qiskit.visualization import timeline_drawer\n",
    "\n",
    "print(transpiled_qc.duration)\n",
    "print(backend.configuration().dt)\n",
    "# print(properties.gate_length(\"ecr\", (0, 1)))\n",
    "\n",
    "print(\"total duration per round (mean):\", transpiled_qc.duration * backend.configuration().dt * 1e9 / synd_rounds, \"ns\")\n",
    "\n",
    "# timeline_drawer(transpiled_qc)\n"
   ]
  },
  {
   "cell_type": "code",
   "execution_count": null,
   "metadata": {},
   "outputs": [
    {
     "name": "stdout",
     "output_type": "stream",
     "text": [
      "mean ecr time: 5.394074074074071e-07\n",
      "[5.333333333333332e-07, 5.333333333333332e-07, 5.333333333333332e-07, 5.333333333333332e-07, 5.333333333333332e-07, 5.333333333333332e-07, 5.333333333333332e-07, 5.333333333333332e-07, 5.333333333333332e-07, 5.333333333333332e-07, 5.333333333333332e-07, 5.333333333333332e-07, 5.333333333333332e-07, 5.333333333333332e-07, 5.333333333333332e-07, 5.333333333333332e-07, 5.333333333333332e-07, 5.333333333333332e-07, 5.333333333333332e-07, 5.333333333333332e-07, 5.333333333333332e-07, 5.333333333333332e-07, 5.333333333333332e-07, 8.035555555555555e-07, 5.333333333333332e-07, 5.333333333333332e-07, 5.333333333333332e-07, 5.333333333333332e-07, 5.333333333333332e-07, 5.333333333333332e-07, 5.333333333333332e-07, 5.333333333333332e-07, 5.333333333333332e-07, 5.333333333333332e-07, 5.333333333333332e-07, 5.333333333333332e-07, 5.333333333333332e-07, 5.333333333333332e-07, 5.333333333333332e-07, 5.333333333333332e-07, 5.333333333333332e-07, 5.333333333333332e-07, 5.333333333333332e-07, 5.333333333333332e-07, 5.333333333333332e-07, 5.333333333333332e-07, 5.333333333333332e-07, 5.333333333333332e-07, 5.333333333333332e-07, 5.333333333333332e-07, 5.333333333333332e-07, 5.333333333333332e-07, 5.333333333333332e-07, 5.333333333333332e-07, 5.333333333333332e-07, 5.333333333333332e-07, 5.333333333333332e-07, 3.413333333333333e-07, 5.333333333333332e-07, 5.333333333333332e-07, 5.333333333333332e-07, 5.333333333333332e-07, 8.817777777777777e-07, 7.68e-07, 5.333333333333332e-07, 5.333333333333332e-07, 5.333333333333332e-07, 5.333333333333332e-07, 5.333333333333332e-07, 5.333333333333332e-07, 5.333333333333332e-07, 5.333333333333332e-07, 5.902222222222222e-07, 5.333333333333332e-07, 5.333333333333332e-07, 7.751111111111111e-07, 5.333333333333332e-07, 5.333333333333332e-07, 5.333333333333332e-07, 5.333333333333332e-07, 5.333333333333332e-07, 5.333333333333332e-07, 5.333333333333332e-07, 5.333333333333332e-07, 5.333333333333332e-07, 5.333333333333332e-07, 5.333333333333332e-07, 5.333333333333332e-07, 5.333333333333332e-07, 5.333333333333332e-07, 5.333333333333332e-07, 5.333333333333332e-07, 5.333333333333332e-07, 5.333333333333332e-07, 5.333333333333332e-07, 4.48e-07, 5.333333333333332e-07, 5.333333333333332e-07, 5.333333333333332e-07, 5.333333333333332e-07, 5.333333333333332e-07, 5.333333333333332e-07, 5.333333333333332e-07, 5.333333333333332e-07, 5.333333333333332e-07, 5.333333333333332e-07, 5.333333333333332e-07, 5.333333333333332e-07, 5.333333333333332e-07, 5.333333333333332e-07, 5.333333333333332e-07, 5.333333333333332e-07, 5.333333333333332e-07, 5.333333333333332e-07, 5.333333333333332e-07, 5.333333333333332e-07, 5.333333333333332e-07, 5.333333333333332e-07, 5.333333333333332e-07, 5.333333333333332e-07, 5.333333333333332e-07, 5.333333333333332e-07, 5.333333333333332e-07, 5.333333333333332e-07, 5.333333333333332e-07, 5.333333333333332e-07, 5.333333333333332e-07, 5.333333333333332e-07, 5.333333333333332e-07, 5.333333333333332e-07, 5.333333333333332e-07, 5.333333333333332e-07, 5.333333333333332e-07, 5.333333333333332e-07, 5.333333333333332e-07, 5.333333333333332e-07, 5.333333333333332e-07, 5.333333333333332e-07, 5.333333333333332e-07, 5.333333333333332e-07, 5.333333333333332e-07, 5.333333333333332e-07, 5.333333333333332e-07, 5.333333333333332e-07]\n"
     ]
    }
   ],
   "source": [
    "# lets get the mean ecr time for the backend\n",
    "\n",
    "ecr_times = []\n",
    "for pair in backend.coupling_map:\n",
    "    ecr_times.append(properties.gate_length('ecr', pair))\n",
    "\n",
    "print(\"mean ecr time:\", np.mean(ecr_times))\n",
    "print(ecr_times)"
   ]
  },
  {
   "cell_type": "code",
   "execution_count": null,
   "metadata": {},
   "outputs": [
    {
     "name": "stdout",
     "output_type": "stream",
     "text": [
      "14\n",
      "None\n",
      "Estimated runtime (in seconds): 7.551703703703699e-06\n",
      "1.0000000000000002e-06\n"
     ]
    }
   ],
   "source": [
    "# transpiled_qc.draw(fold=-1)\n",
    "print(transpiled_qc.depth())\n",
    "print(transpiled_qc.duration)\n",
    "\n",
    "circuit_depth_per_round = transpiled_qc.depth()/synd_rounds\n",
    "estimated_runtime = circuit_depth_per_round * np.mean(ecr_times)\n",
    "\n",
    "print(\"Estimated runtime (in seconds):\", estimated_runtime)\n",
    "print(1000*1e-9)"
   ]
  },
  {
   "cell_type": "code",
   "execution_count": 256,
   "metadata": {},
   "outputs": [
    {
     "data": {
      "text/plain": [
       "'rz73'"
      ]
     },
     "execution_count": 256,
     "metadata": {},
     "output_type": "execute_result"
    }
   ],
   "source": [
    "properties.gates[200].name"
   ]
  },
  {
   "cell_type": "code",
   "execution_count": null,
   "metadata": {},
   "outputs": [],
   "source": [
    "# transpiled_qc.draw(fold=-1)"
   ]
  },
  {
   "cell_type": "markdown",
   "metadata": {},
   "source": [
    "#### Noise model stim"
   ]
  },
  {
   "cell_type": "code",
   "execution_count": null,
   "metadata": {},
   "outputs": [],
   "source": [
    "from datetime import datetime\n",
    "\n",
    "def get_avgs_from_dict(noise_dict):\n",
    "    '''\n",
    "    Takes noise dictionary as an argument then returns length 5\n",
    "    array defining average noise levels: [init, idle, RO, single-, two-qubit gate]\n",
    "    '''\n",
    "    init_avg = np.average([noise_dict[qubit]['init'] for qubit in noise_dict])\n",
    "    idle_avg = np.average([noise_dict[qubit]['idle'] for qubit in noise_dict])\n",
    "    RO_avg = np.average([noise_dict[qubit]['RO'] for qubit in noise_dict])\n",
    "    single_avg = 1e-4#np.average([noise_dict[qubit]['init'] for qubit in noise_dict])\n",
    "    two_gate_avg = np.average([noise_dict[qubit]['2-gate'][connection]\n",
    "                        for qubit in noise_dict\n",
    "                        for connection in noise_dict[qubit]['2-gate']\n",
    "                        if connection != 'default'])\n",
    "    return [init_avg, idle_avg, RO_avg, single_avg, two_gate_avg]\n",
    "# End get_avgs_from_dict\n",
    "\n",
    "\n",
    "def get_noise_dict_from_backend(backend, layout, date=None):\n",
    "    '''\n",
    "    Takes a given backend and a mapping object and returns a noise dictionary\n",
    "    to pass to a new Cross_Platform_Code/Hex_Code to have accurate backend\n",
    "    specific noise information based on calibration data.\n",
    "    '''\n",
    "    # Pre-reqs\n",
    "    noise_dict = {}\n",
    "    round_time = 1000e-9\n",
    "    if date is None:\n",
    "        t = None\n",
    "    else:\n",
    "        t = datetime(day=int(date[-2:]), month=int(date[-4:-2]), year=int(date[:4]))\n",
    "    properties = backend.properties(datetime=date)\n",
    "    # Initializing each qubit with single qubit noise\n",
    "    for qubit in layout:\n",
    "        # Defining ROI error\n",
    "        ROI_error = properties.readout_error(qubit)\n",
    "        # Defining idle error\n",
    "        t1 = properties.t1(qubit)\n",
    "        t2 = properties.t2(qubit)\n",
    "        t_time = min(t1, t2)\n",
    "        idle_error = 1 - np.exp(-round_time / t_time)\n",
    "        # Updating dictionary\n",
    "        noise_dict[qubit] = {}\n",
    "        noise_dict[qubit]['init'] = ROI_error\n",
    "        noise_dict[qubit]['idle'] = idle_error\n",
    "        noise_dict[qubit]['RO'] = ROI_error\n",
    "        noise_dict[qubit]['gate'] = 1e-4\n",
    "        noise_dict[qubit]['2-gate'] = {'default': 1e-2}\n",
    "    # Two qubit gate noise\n",
    "    all_qiskit_indexes = layout \n",
    "    for pair in backend.coupling_map:\n",
    "        # Making sure connection is in circuit\n",
    "        if pair[0] in all_qiskit_indexes and pair[1] in all_qiskit_indexes:\n",
    "            # Getting two qubit gate error\n",
    "            two_gate_error = properties.gate_error('ecr', pair)\n",
    "            if two_gate_error > .5:\n",
    "                two_gate_error = .5\n",
    "            # # Updating dictionary\n",
    "            # stim_index_0 = map.get_stim_index(qiskit_index=pair[0])\n",
    "            # stim_index_1 = map.get_stim_index(qiskit_index=pair[1])\n",
    "            noise_dict[pair[0]]['2-gate'][pair[1]] = two_gate_error\n",
    "            noise_dict[pair[1]]['2-gate'][pair[0]] = two_gate_error\n",
    "    return noise_dict\n",
    "# End get_noise_dict_from_backend"
   ]
  },
  {
   "cell_type": "code",
   "execution_count": null,
   "metadata": {},
   "outputs": [
    {
     "name": "stdout",
     "output_type": "stream",
     "text": [
      "noise_dict: {114: {'init': 0.010800000000000032, 'idle': 0.004715134260089182, 'RO': 0.010800000000000032, 'gate': 0.0001, '2-gate': {'default': 0.01, 113: 0.014721939501277842, 115: 0.022587926276817327}}, 116: {'init': 0.01330000000000009, 'idle': 0.005265778063089477, 'RO': 0.01330000000000009, 'gate': 0.0001, '2-gate': {'default': 0.01, 115: 0.004367094280224915, 117: 0.009455025576278975}}, 118: {'init': 0.0040999999999999925, 'idle': 0.005581224104389326, 'RO': 0.0040999999999999925, 'gate': 0.0001, '2-gate': {'default': 0.01, 117: 0.007327570066070099, 119: 0.009963833140667261}}, 120: {'init': 0.007000000000000006, 'idle': 0.005101770918414905, 'RO': 0.007000000000000006, 'gate': 0.0001, '2-gate': {'default': 0.01, 119: 0.02178150644472393, 121: 0.007173375924125536}}, 122: {'init': 0.005099999999999993, 'idle': 0.003119260580129568, 'RO': 0.005099999999999993, 'gate': 0.0001, '2-gate': {'default': 0.01, 121: 0.00769794866438675, 111: 0.00842212142256385}}, 104: {'init': 0.0030000000000000027, 'idle': 0.008816589733152136, 'RO': 0.0030000000000000027, 'gate': 0.0001, '2-gate': {'default': 0.01, 103: 0.005958293920984403, 111: 0.008771056364481805}}, 102: {'init': 0.06230000000000002, 'idle': 0.0056125584067512335, 'RO': 0.06230000000000002, 'gate': 0.0001, '2-gate': {'default': 0.01, 101: 0.006263045583343729, 103: 0.006347732800165956}}, 100: {'init': 0.008900000000000019, 'idle': 0.0038032218693755393, 'RO': 0.008900000000000019, 'gate': 0.0001, '2-gate': {'default': 0.01, 99: 0.008067389552951193, 101: 0.005993073875297378}}, 98: {'init': 0.012899999999999912, 'idle': 0.004292445351978924, 'RO': 0.012899999999999912, 'gate': 0.0001, '2-gate': {'default': 0.01, 97: 0.005143095715703899, 99: 0.007336153622191255}}, 113: {'init': 0.0045999999999999375, 'idle': 0.013041739040512201, 'RO': 0.0045999999999999375, 'gate': 0.0001, '2-gate': {'default': 0.01, 114: 0.014721939501277842}}, 115: {'init': 0.0044999999999999485, 'idle': 0.005247988168824325, 'RO': 0.0044999999999999485, 'gate': 0.0001, '2-gate': {'default': 0.01, 114: 0.022587926276817327, 116: 0.004367094280224915}}, 117: {'init': 0.008599999999999941, 'idle': 0.005114749610942715, 'RO': 0.008599999999999941, 'gate': 0.0001, '2-gate': {'default': 0.01, 116: 0.009455025576278975, 118: 0.007327570066070099}}, 119: {'init': 0.01200000000000001, 'idle': 0.009003474982285375, 'RO': 0.01200000000000001, 'gate': 0.0001, '2-gate': {'default': 0.01, 118: 0.009963833140667261, 120: 0.02178150644472393}}, 121: {'init': 0.007099999999999995, 'idle': 0.007597324582274134, 'RO': 0.007099999999999995, 'gate': 0.0001, '2-gate': {'default': 0.01, 120: 0.007173375924125536, 122: 0.00769794866438675}}, 111: {'init': 0.012199999999999989, 'idle': 0.008015111663920549, 'RO': 0.012199999999999989, 'gate': 0.0001, '2-gate': {'default': 0.01, 104: 0.008771056364481805, 122: 0.00842212142256385}}, 103: {'init': 0.010800000000000032, 'idle': 0.005039545058582062, 'RO': 0.010800000000000032, 'gate': 0.0001, '2-gate': {'default': 0.01, 102: 0.006347732800165956, 104: 0.005958293920984403}}, 101: {'init': 0.0052000000000000934, 'idle': 0.01255474541506052, 'RO': 0.0052000000000000934, 'gate': 0.0001, '2-gate': {'default': 0.01, 100: 0.005993073875297378, 102: 0.006263045583343729}}, 99: {'init': 0.026799999999999935, 'idle': 0.007876786007961045, 'RO': 0.026799999999999935, 'gate': 0.0001, '2-gate': {'default': 0.01, 98: 0.007336153622191255, 100: 0.008067389552951193}}, 97: {'init': 0.00869999999999993, 'idle': 0.006441310986364246, 'RO': 0.00869999999999993, 'gate': 0.0001, '2-gate': {'default': 0.01, 98: 0.005143095715703899}}}\n",
      "avgs_noise [init_avg, idle_avg, RO_avg, single_avg, two_gate_avg]: [0.011994736842105258, 0.0066442504633735504, 0.011994736842105258, 0.0001, 0.009298787929569785]\n"
     ]
    }
   ],
   "source": [
    "\n",
    "date = \"2023-10-30 09:45:17.340386+01:00\" #md.creation_date[0] # md[0] for log 1\n",
    "noise_dict = get_noise_dict_from_backend(provider.get_backend(DEVICE), layout, date=None) # takes noise closest to today\n",
    "print(\"noise_dict:\", noise_dict)\n",
    "avgs_noise = get_avgs_from_dict(noise_dict)\n",
    "print(\"avgs_noise [init_avg, idle_avg, RO_avg, single_avg, two_gate_avg]:\", avgs_noise)\n",
    "\n",
    "# takes 4s"
   ]
  },
  {
   "cell_type": "code",
   "execution_count": null,
   "metadata": {},
   "outputs": [
    {
     "name": "stdout",
     "output_type": "stream",
     "text": [
      "R 0 1 2 3 4 5 6 7 8 9 10 11 12 13 14 15 16 17 18\n",
      "TICK\n",
      "DEPOLARIZE1(0.00664425) 0 2 4 6 8 10 12 14 16 18\n",
      "CX 0 1 2 3 4 5 6 7 8 9 10 11 12 13 14 15 16 17\n",
      "DEPOLARIZE2(0.00929879) 0 1 2 3 4 5 6 7 8 9 10 11 12 13 14 15 16 17\n",
      "TICK\n",
      "CX 2 1 4 3 6 5 8 7 10 9 12 11 14 13 16 15 18 17\n",
      "DEPOLARIZE2(0.00929879) 2 1 4 3 6 5 8 7 10 9 12 11 14 13 16 15 18 17\n",
      "TICK\n",
      "X_ERROR(0.0599737) 1 3 5 7 9 11 13 15 17\n",
      "MR 1 3 5 7 9 11 13 15 17\n",
      "DETECTOR(1, 0) rec[-9]\n",
      "DETECTOR(3, 0) rec[-8]\n",
      "DETECTOR(5, 0) rec[-7]\n",
      "DETECTOR(7, 0) rec[-6]\n",
      "DETECTOR(9, 0) rec[-5]\n",
      "DETECTOR(11, 0) rec[-4]\n",
      "DETECTOR(13, 0) rec[-3]\n",
      "DETECTOR(15, 0) rec[-2]\n",
      "DETECTOR(17, 0) rec[-1]\n",
      "REPEAT 9 {\n",
      "    TICK\n",
      "    DEPOLARIZE1(0.00664425) 0 2 4 6 8 10 12 14 16 18\n",
      "    CX 0 1 2 3 4 5 6 7 8 9 10 11 12 13 14 15 16 17\n",
      "    DEPOLARIZE2(0.00929879) 0 1 2 3 4 5 6 7 8 9 10 11 12 13 14 15 16 17\n",
      "    TICK\n",
      "    CX 2 1 4 3 6 5 8 7 10 9 12 11 14 13 16 15 18 17\n",
      "    DEPOLARIZE2(0.00929879) 2 1 4 3 6 5 8 7 10 9 12 11 14 13 16 15 18 17\n",
      "    TICK\n",
      "    X_ERROR(0.0599737) 1 3 5 7 9 11 13 15 17\n",
      "    MR 1 3 5 7 9 11 13 15 17\n",
      "    SHIFT_COORDS(0, 1)\n",
      "    DETECTOR(1, 0) rec[-9] rec[-18]\n",
      "    DETECTOR(3, 0) rec[-8] rec[-17]\n",
      "    DETECTOR(5, 0) rec[-7] rec[-16]\n",
      "    DETECTOR(7, 0) rec[-6] rec[-15]\n",
      "    DETECTOR(9, 0) rec[-5] rec[-14]\n",
      "    DETECTOR(11, 0) rec[-4] rec[-13]\n",
      "    DETECTOR(13, 0) rec[-3] rec[-12]\n",
      "    DETECTOR(15, 0) rec[-2] rec[-11]\n",
      "    DETECTOR(17, 0) rec[-1] rec[-10]\n",
      "}\n",
      "X_ERROR(0.0599737) 0 2 4 6 8 10 12 14 16 18\n",
      "M 0 2 4 6 8 10 12 14 16 18\n",
      "DETECTOR(1, 1) rec[-9] rec[-10] rec[-19]\n",
      "DETECTOR(3, 1) rec[-8] rec[-9] rec[-18]\n",
      "DETECTOR(5, 1) rec[-7] rec[-8] rec[-17]\n",
      "DETECTOR(7, 1) rec[-6] rec[-7] rec[-16]\n",
      "DETECTOR(9, 1) rec[-5] rec[-6] rec[-15]\n",
      "DETECTOR(11, 1) rec[-4] rec[-5] rec[-14]\n",
      "DETECTOR(13, 1) rec[-3] rec[-4] rec[-13]\n",
      "DETECTOR(15, 1) rec[-2] rec[-3] rec[-12]\n",
      "DETECTOR(17, 1) rec[-1] rec[-2] rec[-11]\n",
      "OBSERVABLE_INCLUDE(0) rec[-1]\n"
     ]
    }
   ],
   "source": [
    "from soft_info import draw_matching_graph\n",
    "\n",
    "\n",
    "\n",
    "circuit = stim.Circuit.generated(\"repetition_code:memory\",\n",
    "                                distance=d,\n",
    "                                rounds=synd_rounds,\n",
    "                                after_clifford_depolarization= avgs_noise[4], #two-qubit-fidelity,\n",
    "                                after_reset_flip_probability= 0,# avgs_noise[0], #reset error,\n",
    "                                before_measure_flip_probability= avgs_noise[2]*5, #measurement error,\n",
    "                                before_round_data_depolarization= avgs_noise[1]) #idle error)\n",
    "# print(circuit)\n",
    "\n",
    "model = circuit.detector_error_model(decompose_errors=True)\n",
    "matching = pymatching.Matching.from_detector_error_model(model)\n",
    "\n",
    "print(circuit)"
   ]
  }
 ],
 "metadata": {
  "kernelspec": {
   "display_name": "Soft-Info-fMUpUe5a",
   "language": "python",
   "name": "python3"
  },
  "language_info": {
   "codemirror_mode": {
    "name": "ipython",
    "version": 3
   },
   "file_extension": ".py",
   "mimetype": "text/x-python",
   "name": "python",
   "nbconvert_exporter": "python",
   "pygments_lexer": "ipython3",
   "version": "3.11.4"
  }
 },
 "nbformat": 4,
 "nbformat_minor": 2
}
