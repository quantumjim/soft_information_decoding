{
 "cells": [
  {
   "cell_type": "code",
   "execution_count": 1,
   "metadata": {},
   "outputs": [],
   "source": [
    "%reload_ext autoreload\n",
    "%autoreload 2"
   ]
  },
  {
   "cell_type": "code",
   "execution_count": 2,
   "metadata": {},
   "outputs": [],
   "source": [
    "from result_saver import SaverProvider\n",
    "provider = SaverProvider()"
   ]
  },
  {
   "cell_type": "code",
   "execution_count": 41,
   "metadata": {},
   "outputs": [
    {
     "name": "stdout",
     "output_type": "stream",
     "text": [
      "{'000 00 00 00': 602, '000 10 00 00': 93, '000 00 10 00': 62, '000 00 00 10': 48, '000 10 10 10': 34, '000 10 10 00': 22, '000 10 00 10': 14, '100 10 00 00': 10, '100 00 00 00': 9, '100 10 00 10': 8, '000 00 01 00': 8, '000 01 00 00': 6, '100 10 10 00': 6, '000 00 00 01': 5, '100 00 10 00': 5, '001 00 00 00': 5, '001 00 01 00': 5, '001 01 00 01': 5, '100 00 00 10': 4, '100 00 10 10': 2, '000 01 01 01': 2, '000 10 00 01': 2, '001 00 01 10': 2, '001 01 00 00': 2, '010 00 00 00': 2, '010 01 00 00': 2, '010 01 10 01': 2, '000 00 10 10': 2, '010 11 00 00': 2, '100 10 10 10': 1, '100 11 00 00': 1, '000 01 01 00': 1, '101 10 00 00': 1, '000 01 01 11': 1, '110 11 00 00': 1, '000 01 11 00': 1, '000 10 01 10': 1, '000 11 00 00': 1, '000 11 11 10': 1, '000 11 11 11': 1, '001 00 00 10': 1, '001 00 10 00': 1, '001 10 10 10': 1, '001 10 11 10': 1, '001 11 00 00': 1, '001 11 01 11': 1, '010 00 10 00': 1, '010 00 11 00': 1, '000 00 10 01': 1, '010 01 10 00': 1, '010 10 00 11': 1, '010 10 01 00': 1, '010 10 01 10': 1, '010 10 10 00': 1, '010 10 10 10': 1, '010 10 11 00': 1, '010 11 00 11': 1, '000 00 11 00': 1}\n"
     ]
    }
   ],
   "source": [
    "job = provider.retrieve_job(\"cmyk2vbrmwhg008bs57g\")\n",
    "counts = job.result().get_counts()\n",
    "\n",
    "counts = dict(sorted(counts.items(), key=lambda x: x[1], reverse=True))\n",
    "print(counts)"
   ]
  },
  {
   "cell_type": "markdown",
   "metadata": {},
   "source": [
    "# my d=3, T=3 result\n",
    "counts = {'000 00 00 00': 602, '000 10 00 00': 93, '000 00 10 00': 62, '000 00 00 10': 48, '000 10 10 10': 34, '000 10 10 00': 22, '000 10 00 10': 14, '100 10 00 00': 10, '100 00 00 00': 9, '100 10 00 10': 8, '000 00 01 00': 8, '000 01 00 00': 6, '100 10 10 00': 6, '000 00 00 01': 5, '100 00 10 00': 5, '001 00 00 00': 5, '001 00 01 00': 5, '001 01 00 01': 5, '100 00 00 10': 4, '100 00 10 10': 2, '000 01 01 01': 2, '000 10 00 01': 2, '001 00 01 10': 2, '001 01 00 00': 2, '010 00 00 00': 2, '010 01 00 00': 2, '010 01 10 01': 2, '000 00 10 10': 2, '010 11 00 00': 2, '100 10 10 10': 1, '100 11 00 00': 1, '000 01 01 00': 1, '101 10 00 00': 1, '000 01 01 11': 1, '110 11 00 00': 1, '000 01 11 00': 1, '000 10 01 10': 1, '000 11 00 00': 1, '000 11 11 10': 1, '000 11 11 11': 1, '001 00 00 10': 1, '001 00 10 00': 1, '001 10 10 10': 1, '001 10 11 10': 1, '001 11 00 00': 1, '001 11 01 11': 1, '010 00 10 00': 1, '010 00 11 00': 1, '000 00 10 01': 1, '010 01 10 00': 1, '010 10 00 11': 1, '010 10 01 00': 1, '010 10 01 10': 1, '010 10 10 00': 1, '010 10 10 10': 1, '010 10 11 00': 1, '010 11 00 11': 1, '000 00 11 00': 1}"
   ]
  },
  {
   "cell_type": "code",
   "execution_count": 33,
   "metadata": {},
   "outputs": [],
   "source": [
    "from qiskit_qec.circuits import RepetitionCodeCircuit\n",
    "from qiskit_qec.decoders import UnionFindDecoder\n",
    "\n",
    "# Code params\n",
    "d = 3\n",
    "T = 3\n",
    "\n",
    "code = RepetitionCodeCircuit(d, T)\n",
    "UF_decoder = UnionFindDecoder(code)\n"
   ]
  },
  {
   "cell_type": "code",
   "execution_count": 34,
   "metadata": {},
   "outputs": [
    {
     "name": "stdout",
     "output_type": "stream",
     "text": [
      "Original string: 001 01 00 01\n",
      "Reordered string: 100 01 00 01\n"
     ]
    }
   ],
   "source": [
    "def reorder_string(input_string):\n",
    "        # Step 1: Split the string by spaces\n",
    "        split_string = input_string.split()\n",
    "\n",
    "        # Step 2: Reverse the order of the characters in the first part\n",
    "        split_string[0] = split_string[0][::-1]\n",
    "\n",
    "        # Step 3: Join the modified first part with the rest of the split string\n",
    "        output_string = ' '.join(split_string)\n",
    "\n",
    "        return output_string\n",
    "\n",
    "string = '001 01 00 01'\n",
    "print(\"Original string:\", string)\n",
    "print(\"Reordered string:\", reorder_string(string))"
   ]
  },
  {
   "cell_type": "code",
   "execution_count": 37,
   "metadata": {},
   "outputs": [
    {
     "name": "stdout",
     "output_type": "stream",
     "text": [
      "Logical counts without reordering the final measurement string: {'0': 991, '1': 9}\n",
      "Logical counts with reordering the final measurement string: {'0': 957, '1': 43}\n"
     ]
    }
   ],
   "source": [
    "logical_counts_without = {'0':0, '1':0}\n",
    "logical_counts_with = {'0':0, '1':0}\n",
    "\n",
    "for string, shots in counts.items():  \n",
    "\n",
    "    logical, flipped_qubit_dict = UF_decoder.process(string, _return_err_str = True, growth=0.5)    \n",
    "    logical_counts_without[f\"{logical[0]}\"] += shots\n",
    "\n",
    "    reordered_string = reorder_string(string)\n",
    "    logical, flipped_qubit_dict = UF_decoder.process(reordered_string, _return_err_str = True, growth=0.5)\n",
    "    logical_counts_with[f\"{logical[0]}\"] += shots\n",
    "    \n",
    "print(\"Logical counts without reordering the final measurement string:\", logical_counts_without)\n",
    "print(\"Logical counts with reordering the final measurement string:\", logical_counts_with)"
   ]
  },
  {
   "cell_type": "code",
   "execution_count": 46,
   "metadata": {},
   "outputs": [
    {
     "name": "stdout",
     "output_type": "stream",
     "text": [
      "logical counts WITH reordering: {'0': 991, '1': 9}\n"
     ]
    }
   ],
   "source": [
    "logical_counts_with = {'0':0, '1':0}\n",
    "\n",
    "for string, shots in counts.items():  \n",
    "\n",
    "    logical = UF_decoder.process(string)    \n",
    "    logical_counts_with[f\"{logical[0]}\"] += shots\n",
    "\n",
    "\n",
    "print(\"logical counts WITH reordering:\", logical_counts_with)"
   ]
  },
  {
   "cell_type": "code",
   "execution_count": null,
   "metadata": {},
   "outputs": [],
   "source": []
  }
 ],
 "metadata": {
  "kernelspec": {
   "display_name": "Soft-Info-Sk8aHGSa",
   "language": "python",
   "name": "python3"
  },
  "language_info": {
   "codemirror_mode": {
    "name": "ipython",
    "version": 3
   },
   "file_extension": ".py",
   "mimetype": "text/x-python",
   "name": "python",
   "nbconvert_exporter": "python",
   "pygments_lexer": "ipython3",
   "version": "3.11.4"
  }
 },
 "nbformat": 4,
 "nbformat_minor": 2
}
