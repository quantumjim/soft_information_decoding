{
 "cells": [
  {
   "cell_type": "code",
   "execution_count": 18,
   "metadata": {},
   "outputs": [
    {
     "name": "stdout",
     "output_type": "stream",
     "text": [
      "The autoreload extension is already loaded. To reload it, use:\n",
      "  %reload_ext autoreload\n"
     ]
    }
   ],
   "source": [
    "%load_ext autoreload\n",
    "%autoreload 2"
   ]
  },
  {
   "cell_type": "code",
   "execution_count": 19,
   "metadata": {},
   "outputs": [],
   "source": [
    "from result_saver import SaverProvider\n",
    "provider = SaverProvider()\n",
    "backend = provider.get_backend('ibmq_mumbai')"
   ]
  },
  {
   "cell_type": "code",
   "execution_count": 20,
   "metadata": {},
   "outputs": [
    {
     "name": "stdout",
     "output_type": "stream",
     "text": [
      "(1000, 9)\n"
     ]
    }
   ],
   "source": [
    "job = provider.retrieve_job(\"cmyhbrqrmwhg008bs4h0\")\n",
    "memory = job.result().get_memory()\n",
    "\n",
    "print(memory.shape)"
   ]
  },
  {
   "cell_type": "code",
   "execution_count": 21,
   "metadata": {},
   "outputs": [
    {
     "name": "stdout",
     "output_type": "stream",
     "text": [
      "13:46:05 Warning: Missing layout or synd_rounds, estimating outcomes without KDEs.. IN FILE: /Users/mha/My Drive/Desktop/Studium/Physik/Master/Semester 3/IBM/IBM GIT/Soft-Info/src/soft_info/UnionFind/probabilities.py, LINE: 65\n",
      "13:46:05 Warning: Not enough kernels or no scaler provided. Using the magnitude of the real part for estimation... IN FILE: /Users/mha/My Drive/Desktop/Studium/Physik/Master/Semester 3/IBM/IBM GIT/Soft-Info/src/soft_info/UnionFind/probabilities.py, LINE: 28\n",
      "{'000000000': 622, '000100000': 95, '000000010': 65, '000001000': 61, '000101000': 20, '000101010': 15, '000100010': 12, '000001010': 9, '001000000': 9, '000010101': 7, '010000000': 6, '010110011': 5, '100101000': 5, '100100010': 5, '000010000': 5, '000000100': 5, '100001000': 5, '001000100': 4, '001010001': 3, '001010000': 3, '100100000': 3, '010100100': 2, '000110101': 2, '000000110': 2, '100101010': 2, '100000000': 2, '100001010': 2, '001011000': 2, '000011000': 2, '000010100': 2, '010110010': 1, '010011011': 1, '001010101': 1, '000011101': 1, '010011001': 1, '000100100': 1, '001101000': 1, '001001000': 1, '010001100': 1, '000110111': 1, '000010010': 1, '001010100': 1, '001100000': 1, '000010001': 1, '010101000': 1, '001110001': 1, '010100010': 1, '001111010': 1}\n"
     ]
    }
   ],
   "source": [
    "from soft_info import get_counts\n",
    "\n",
    "counts_default = get_counts(memory)\n",
    "print(counts_default)"
   ]
  },
  {
   "cell_type": "code",
   "execution_count": 22,
   "metadata": {},
   "outputs": [
    {
     "name": "stderr",
     "output_type": "stream",
     "text": [
      "Processing 1000 shots: 100%|██████████| 1000/1000 [00:53<00:00, 18.78it/s]"
     ]
    },
    {
     "name": "stdout",
     "output_type": "stream",
     "text": [
      "{'000 00 00 00': 870, '000 01 00 00': 14, '000 10 10 10': 11, '000 01 01 01': 10, '000 00 01 00': 9, '100 00 10 00': 8, '100 10 00 10': 7, '000 10 00 00': 7, '000 10 10 00': 6, '010 11 00 11': 5, '001 00 00 00': 5, '001 01 00 01': 4, '001 01 00 00': 4, '001 00 01 00': 4, '100 10 00 00': 4, '100 00 00 00': 3, '000 00 10 00': 3, '000 10 00 10': 2, '000 00 10 10': 2, '000 01 01 00': 2, '010 11 01 00': 1, '010 00 00 00': 1, '010 11 00 00': 1, '010 01 00 11': 1, '001 01 01 01': 1, '010 01 10 01': 1, '010 10 01 00': 1, '001 10 10 00': 1, '000 00 00 01': 1, '010 00 11 00': 1, '000 10 11 10': 1, '000 11 01 01': 1, '100 00 10 10': 1, '001 01 10 00': 1, '001 01 01 00': 1, '000 00 00 10': 1, '000 01 00 01': 1, '010 10 00 00': 1, '001 11 10 10': 1, '100 10 10 00': 1}\n"
     ]
    },
    {
     "name": "stderr",
     "output_type": "stream",
     "text": [
      "\n"
     ]
    }
   ],
   "source": [
    "from soft_info import get_KDEs\n",
    "\n",
    "layout = [25, 19, 26, 22, 16] # To implement: into scratch job_data\n",
    "kde_dict, scaler_dict = get_KDEs(provider, 'ibmq_mumbai', layout, bandwidths=0.2, plot=False)\n",
    "\n",
    "counts_kde = get_counts(memory, kde_dict, scaler_dict, layout, 3, verbose=True) # hardcoded num of rounds can be retrieved from metadata\n",
    "print(counts_kde)"
   ]
  },
  {
   "cell_type": "markdown",
   "metadata": {},
   "source": [
    "# Generate rep code data"
   ]
  },
  {
   "cell_type": "code",
   "execution_count": 12,
   "metadata": {},
   "outputs": [
    {
     "name": "stderr",
     "output_type": "stream",
     "text": [
      "from qiskit_qec.analysis._c_analysis import _CErrorPropagator             failed, raising No module named 'qiskit_qec.analysis._c_analysis'\n",
      "Traceback (most recent call last):\n",
      "  File \"/Users/mha/My Drive/Desktop/Studium/Physik/Master/Semester 3/IBM/IBM GIT/Soft-Info/libs/qiskit-qec/src/qiskit_qec/analysis/extensions.py\", line 21, in <module>\n",
      "    from qiskit_qec.analysis._c_analysis import _CErrorPropagator  # pylint: disable=unused-import\n",
      "    ^^^^^^^^^^^^^^^^^^^^^^^^^^^^^^^^^^^^^^^^^^^^^^^^^^^^^^^^^^^^^\n",
      "ModuleNotFoundError: No module named 'qiskit_qec.analysis._c_analysis'\n",
      "from qiskit_qec.analysis._c_analysis import _CFaultEnumerator             failed, raising No module named 'qiskit_qec.analysis._c_analysis'\n",
      "Traceback (most recent call last):\n",
      "  File \"/Users/mha/My Drive/Desktop/Studium/Physik/Master/Semester 3/IBM/IBM GIT/Soft-Info/libs/qiskit-qec/src/qiskit_qec/analysis/extensions.py\", line 32, in <module>\n",
      "    from qiskit_qec.analysis._c_analysis import _CFaultEnumerator  # pylint: disable=unused-import\n",
      "    ^^^^^^^^^^^^^^^^^^^^^^^^^^^^^^^^^^^^^^^^^^^^^^^^^^^^^^^^^^^^^\n",
      "ModuleNotFoundError: No module named 'qiskit_qec.analysis._c_analysis'\n",
      "from qiskit_qec.analysis._c_analysis import _CFaultSampler failed,             raising No module named 'qiskit_qec.analysis._c_analysis'\n",
      "Traceback (most recent call last):\n",
      "  File \"/Users/mha/My Drive/Desktop/Studium/Physik/Master/Semester 3/IBM/IBM GIT/Soft-Info/libs/qiskit-qec/src/qiskit_qec/analysis/extensions.py\", line 43, in <module>\n",
      "    from qiskit_qec.analysis._c_analysis import _CFaultSampler  # pylint: disable=unused-import\n",
      "    ^^^^^^^^^^^^^^^^^^^^^^^^^^^^^^^^^^^^^^^^^^^^^^^^^^^^^^^^^^\n",
      "ModuleNotFoundError: No module named 'qiskit_qec.analysis._c_analysis'\n",
      "from qiskit_qec.analysis._c_analysis import _c_minimum_distance             failed, raising No module named 'qiskit_qec.analysis._c_analysis'\n",
      "Traceback (most recent call last):\n",
      "  File \"/Users/mha/My Drive/Desktop/Studium/Physik/Master/Semester 3/IBM/IBM GIT/Soft-Info/libs/qiskit-qec/src/qiskit_qec/analysis/extensions.py\", line 54, in <module>\n",
      "    from qiskit_qec.analysis._c_analysis import _c_minimum_distance  # pylint: disable=unused-import\n",
      "    ^^^^^^^^^^^^^^^^^^^^^^^^^^^^^^^^^^^^^^^^^^^^^^^^^^^^^^^^^^^^^^^\n",
      "ModuleNotFoundError: No module named 'qiskit_qec.analysis._c_analysis'\n",
      "from qiskit_qec.analysis._c_analysis import _c_minimum_distance_by_tests             failed, raising No module named 'qiskit_qec.analysis._c_analysis'\n",
      "Traceback (most recent call last):\n",
      "  File \"/Users/mha/My Drive/Desktop/Studium/Physik/Master/Semester 3/IBM/IBM GIT/Soft-Info/libs/qiskit-qec/src/qiskit_qec/analysis/extensions.py\", line 66, in <module>\n",
      "    from qiskit_qec.analysis._c_analysis import _c_minimum_distance_by_tests\n",
      "ModuleNotFoundError: No module named 'qiskit_qec.analysis._c_analysis'\n",
      "from qiskit_qec.analysis._c_analysis import _c_rank failed,             raising No module named 'qiskit_qec.analysis._c_analysis'\n",
      "Traceback (most recent call last):\n",
      "  File \"/Users/mha/My Drive/Desktop/Studium/Physik/Master/Semester 3/IBM/IBM GIT/Soft-Info/libs/qiskit-qec/src/qiskit_qec/analysis/extensions.py\", line 77, in <module>\n",
      "    from qiskit_qec.analysis._c_analysis import _c_rank  # pylint: disable=unused-import\n",
      "    ^^^^^^^^^^^^^^^^^^^^^^^^^^^^^^^^^^^^^^^^^^^^^^^^^^^\n",
      "ModuleNotFoundError: No module named 'qiskit_qec.analysis._c_analysis'\n",
      "from qiskit_qec.analysis._c_analysis import _c_isotropic failed,             raising No module named 'qiskit_qec.analysis._c_analysis'\n",
      "Traceback (most recent call last):\n",
      "  File \"/Users/mha/My Drive/Desktop/Studium/Physik/Master/Semester 3/IBM/IBM GIT/Soft-Info/libs/qiskit-qec/src/qiskit_qec/analysis/extensions.py\", line 88, in <module>\n",
      "    from qiskit_qec.analysis._c_analysis import _c_isotropic  # pylint: disable=unused-import\n",
      "    ^^^^^^^^^^^^^^^^^^^^^^^^^^^^^^^^^^^^^^^^^^^^^^^^^^^^^^^^\n",
      "ModuleNotFoundError: No module named 'qiskit_qec.analysis._c_analysis'\n"
     ]
    },
    {
     "name": "stdout",
     "output_type": "stream",
     "text": [
      "18:04:08 Warning: Not a valid heavy hex map, found 6 cornernodes instead of 2. Looking for longest path starting with the last corner node.. IN FILE: /Users/mha/My Drive/Desktop/Studium/Physik/Master/Semester 3/IBM/IBM GIT/Soft-Info/src/soft_info/Hardware/coupling_map.py, LINE: 118\n"
     ]
    },
    {
     "data": {
      "image/png": "[encoded data removed]",
      "text/plain": [
       "<Figure size 640x480 with 1 Axes>"
      ]
     },
     "metadata": {},
     "output_type": "display_data"
    },
    {
     "name": "stdout",
     "output_type": "stream",
     "text": [
      "18:04:09 Warning: divide by zero encountered in det. IN FILE: /Users/mha/.local/share/virtualenvs/Soft-Info-kp2AnOc1/lib/python3.11/site-packages/numpy/linalg/linalg.py, LINE: 2180\n",
      "18:04:09 Warning: invalid value encountered in det. IN FILE: /Users/mha/.local/share/virtualenvs/Soft-Info-kp2AnOc1/lib/python3.11/site-packages/numpy/linalg/linalg.py, LINE: 2180\n"
     ]
    }
   ],
   "source": [
    "from qiskit_qec.circuits import RepetitionCodeCircuit\n",
    "from qiskit import transpile\n",
    "from soft_info import get_repcode_layout\n",
    "\n",
    "# Code Params\n",
    "distance = 3\n",
    "rounds = 3\n",
    "logical = '0'\n",
    "\n",
    "code = RepetitionCodeCircuit(distance, rounds)\n",
    "qc = code.circuit[logical]\n",
    "\n",
    "layout = get_repcode_layout(distance, backend, _is_hex=True, plot=True)\n",
    "\n",
    "transpiled_qc = transpile(qc, backend, initial_layout=layout, optimization_level=3)"
   ]
  },
  {
   "cell_type": "code",
   "execution_count": 14,
   "metadata": {},
   "outputs": [
    {
     "data": {
      "text/plain": [
       "<IBMCircuitJob('cmyk2vbrmwhg008bs57g')>"
      ]
     },
     "execution_count": 14,
     "metadata": {},
     "output_type": "execute_result"
    }
   ],
   "source": [
    "from Scratch import metadata_helper\n",
    "\n",
    "metadata = metadata_helper(descr=\"Testing the shots to compare IQ\" ,code=\"RepetitionCodeCircuit\", distance=distance, rounds=rounds, logical=logical, layout='_is_hex=True')\n",
    "\n",
    "backend.run(metadata, transpiled_qc, shots=1000, meas_level=0, meas_return='single') # meas_level=1 for IQ"
   ]
  },
  {
   "cell_type": "markdown",
   "metadata": {},
   "source": [
    "# Comparing with counts job"
   ]
  },
  {
   "cell_type": "code",
   "execution_count": 17,
   "metadata": {},
   "outputs": [
    {
     "name": "stdout",
     "output_type": "stream",
     "text": [
      "{'000 00 00 00': 602, '000 10 00 00': 93, '000 00 10 00': 62, '000 00 00 10': 48, '000 10 10 10': 34, '000 10 10 00': 22, '000 10 00 10': 14, '100 10 00 00': 10, '100 00 00 00': 9, '100 10 00 10': 8, '000 00 01 00': 8, '000 01 00 00': 6, '100 10 10 00': 6, '000 00 00 01': 5, '100 00 10 00': 5, '001 00 00 00': 5, '001 00 01 00': 5, '001 01 00 01': 5, '100 00 00 10': 4, '100 00 10 10': 2, '000 01 01 01': 2, '000 10 00 01': 2, '001 00 01 10': 2, '001 01 00 00': 2, '010 00 00 00': 2, '010 01 00 00': 2, '010 01 10 01': 2, '000 00 10 10': 2, '010 11 00 00': 2, '100 10 10 10': 1, '100 11 00 00': 1, '000 01 01 00': 1, '101 10 00 00': 1, '000 01 01 11': 1, '110 11 00 00': 1, '000 01 11 00': 1, '000 10 01 10': 1, '000 11 00 00': 1, '000 11 11 10': 1, '000 11 11 11': 1, '001 00 00 10': 1, '001 00 10 00': 1, '001 10 10 10': 1, '001 10 11 10': 1, '001 11 00 00': 1, '001 11 01 11': 1, '010 00 10 00': 1, '010 00 11 00': 1, '000 00 10 01': 1, '010 01 10 00': 1, '010 10 00 11': 1, '010 10 01 00': 1, '010 10 01 10': 1, '010 10 10 00': 1, '010 10 10 10': 1, '010 10 11 00': 1, '010 11 00 11': 1, '000 00 11 00': 1}\n"
     ]
    }
   ],
   "source": [
    "job = provider.retrieve_job(\"cmyk2vbrmwhg008bs57g\")\n",
    "counts = job.result().get_counts()\n",
    "\n",
    "counts = dict(sorted(counts.items(), key=lambda x: x[1], reverse=True))\n",
    "print(counts)"
   ]
  },
  {
   "cell_type": "code",
   "execution_count": null,
   "metadata": {},
   "outputs": [],
   "source": []
  }
 ],
 "metadata": {
  "kernelspec": {
   "display_name": "Soft-Info-kp2AnOc1",
   "language": "python",
   "name": "python3"
  },
  "language_info": {
   "codemirror_mode": {
    "name": "ipython",
    "version": 3
   },
   "file_extension": ".py",
   "mimetype": "text/x-python",
   "name": "python",
   "nbconvert_exporter": "python",
   "pygments_lexer": "ipython3",
   "version": "3.11.4"
  }
 },
 "nbformat": 4,
 "nbformat_minor": 2
}
