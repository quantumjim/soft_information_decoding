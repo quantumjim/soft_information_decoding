{
 "cells": [
  {
   "cell_type": "code",
   "execution_count": 1,
   "metadata": {},
   "outputs": [],
   "source": [
    "%reload_ext autoreload\n",
    "%autoreload 2"
   ]
  },
  {
   "cell_type": "code",
   "execution_count": 2,
   "metadata": {},
   "outputs": [],
   "source": [
    "from result_saver import SaverProvider\n",
    "provider = SaverProvider()"
   ]
  },
  {
   "cell_type": "code",
   "execution_count": 3,
   "metadata": {},
   "outputs": [
    {
     "data": {
      "text/html": [
       "<div>\n",
       "<style scoped>\n",
       "    .dataframe tbody tr th:only-of-type {\n",
       "        vertical-align: middle;\n",
       "    }\n",
       "\n",
       "    .dataframe tbody tr th {\n",
       "        vertical-align: top;\n",
       "    }\n",
       "\n",
       "    .dataframe thead th {\n",
       "        text-align: right;\n",
       "    }\n",
       "</style>\n",
       "<table border=\"1\" class=\"dataframe\">\n",
       "  <thead>\n",
       "    <tr style=\"text-align: right;\">\n",
       "      <th></th>\n",
       "      <th>creation_date</th>\n",
       "      <th>notebook_name</th>\n",
       "      <th>backend_name</th>\n",
       "      <th>job_id</th>\n",
       "      <th>tags</th>\n",
       "      <th>shots</th>\n",
       "      <th>tags_xp</th>\n",
       "      <th>sampled_state</th>\n",
       "      <th>num_qubits</th>\n",
       "      <th>job_status</th>\n",
       "      <th>extra</th>\n",
       "      <th>optimization_level</th>\n",
       "      <th>code</th>\n",
       "      <th>distance</th>\n",
       "      <th>rounds</th>\n",
       "      <th>logical</th>\n",
       "      <th>layout</th>\n",
       "      <th>descr</th>\n",
       "    </tr>\n",
       "  </thead>\n",
       "  <tbody>\n",
       "    <tr>\n",
       "      <th>263</th>\n",
       "      <td>2023-10-30 09:46:26.097483+01:00</td>\n",
       "      <td>bigger_rep_codes</td>\n",
       "      <td>ibm_nazca</td>\n",
       "      <td>cmzptrk3r3vg008wg80g</td>\n",
       "      <td>[]</td>\n",
       "      <td>1111.0</td>\n",
       "      <td>NaN</td>\n",
       "      <td>NaN</td>\n",
       "      <td>NaN</td>\n",
       "      <td>JobStatus.DONE</td>\n",
       "      <td>NaN</td>\n",
       "      <td>NaN</td>\n",
       "      <td>RepetitionCodeCircuit</td>\n",
       "      <td>30.0</td>\n",
       "      <td>30</td>\n",
       "      <td>1</td>\n",
       "      <td>_is_hex=True</td>\n",
       "      <td>Run bigger Repetition codes v4: new distances ...</td>\n",
       "    </tr>\n",
       "    <tr>\n",
       "      <th>262</th>\n",
       "      <td>2023-10-30 09:46:11.556401+01:00</td>\n",
       "      <td>bigger_rep_codes</td>\n",
       "      <td>ibm_nazca</td>\n",
       "      <td>cmzptmtrmwhg008btx50</td>\n",
       "      <td>[]</td>\n",
       "      <td>1111.0</td>\n",
       "      <td>NaN</td>\n",
       "      <td>NaN</td>\n",
       "      <td>NaN</td>\n",
       "      <td>JobStatus.DONE</td>\n",
       "      <td>NaN</td>\n",
       "      <td>NaN</td>\n",
       "      <td>RepetitionCodeCircuit</td>\n",
       "      <td>30.0</td>\n",
       "      <td>30</td>\n",
       "      <td>0</td>\n",
       "      <td>_is_hex=True</td>\n",
       "      <td>Run bigger Repetition codes v4: new distances ...</td>\n",
       "    </tr>\n",
       "  </tbody>\n",
       "</table>\n",
       "</div>"
      ],
      "text/plain": [
       "                        creation_date     notebook_name backend_name  \\\n",
       "263  2023-10-30 09:46:26.097483+01:00  bigger_rep_codes    ibm_nazca   \n",
       "262  2023-10-30 09:46:11.556401+01:00  bigger_rep_codes    ibm_nazca   \n",
       "\n",
       "                   job_id tags   shots tags_xp sampled_state  num_qubits  \\\n",
       "263  cmzptrk3r3vg008wg80g   []  1111.0     NaN           NaN         NaN   \n",
       "262  cmzptmtrmwhg008btx50   []  1111.0     NaN           NaN         NaN   \n",
       "\n",
       "         job_status extra  optimization_level                   code  \\\n",
       "263  JobStatus.DONE   NaN                 NaN  RepetitionCodeCircuit   \n",
       "262  JobStatus.DONE   NaN                 NaN  RepetitionCodeCircuit   \n",
       "\n",
       "     distance rounds logical        layout  \\\n",
       "263      30.0     30       1  _is_hex=True   \n",
       "262      30.0     30       0  _is_hex=True   \n",
       "\n",
       "                                                 descr  \n",
       "263  Run bigger Repetition codes v4: new distances ...  \n",
       "262  Run bigger Repetition codes v4: new distances ...  "
      ]
     },
     "execution_count": 3,
     "metadata": {},
     "output_type": "execute_result"
    }
   ],
   "source": [
    "import numpy as np\n",
    "from Scratch import metadata_loader\n",
    "\n",
    "md = metadata_loader(_extract=True, _drop_inutile=True)\n",
    "md = md[md[\"job_status\"] == \"JobStatus.DONE\"]\n",
    "md = md[md[\"notebook_name\"] == \"bigger_rep_codes\"]\n",
    "max_distance = int(max(md.distance))\n",
    "md = md[md[\"distance\"] == max_distance]\n",
    "md = md[md[\"backend_name\"]==\"ibm_nazca\"]\n",
    "\n",
    "md = md[:2]\n",
    "\n",
    "md"
   ]
  },
  {
   "cell_type": "code",
   "execution_count": 4,
   "metadata": {},
   "outputs": [
    {
     "data": {
      "text/plain": [
       "{'mmr_log_1': array([[-2.10987040e+08+2.01455872e+08j,  1.30088154e+09+6.82949312e+08j,\n",
       "          5.98131904e+08+6.70468352e+08j, ...,\n",
       "         -9.45496240e+07+1.57469312e+08j,  2.29619360e+08+1.99911616e+08j,\n",
       "          4.36935080e+07+4.38464000e+07j],\n",
       "        [-1.68063568e+08+2.78854720e+08j, -2.95173376e+08+6.52242496e+08j,\n",
       "         -1.23631373e+09+1.24843738e+09j, ...,\n",
       "         -8.85305840e+07+1.35946992e+08j,  1.96290160e+08+1.84739872e+08j,\n",
       "          2.35458600e+07+3.16501920e+07j],\n",
       "        [-1.83406048e+08+2.13624368e+08j, -3.55282880e+08+9.36650048e+08j,\n",
       "         -7.51106304e+08+8.00764992e+08j, ...,\n",
       "         -6.71421360e+07+1.73355968e+08j, -1.83950032e+08+1.39195520e+08j,\n",
       "          4.87485360e+07+2.68846420e+07j],\n",
       "        ...,\n",
       "        [-1.60805168e+08+2.32577440e+08j, -1.55093072e+08+4.31105632e+08j,\n",
       "         -7.70330240e+08+8.24059712e+08j, ...,\n",
       "         -7.64113280e+07+2.02612976e+08j,  2.24089568e+08+2.49044448e+08j,\n",
       "         -3.60105080e+07+2.44794040e+07j],\n",
       "        [-1.62466432e+08+2.10218144e+08j, -4.93803392e+08+8.12129664e+08j,\n",
       "         -9.51705792e+08+7.59732160e+08j, ...,\n",
       "         -6.93166480e+07+1.15235944e+08j,  1.65246592e+08+1.17333296e+08j,\n",
       "          4.74494600e+07+3.72485040e+07j],\n",
       "        [-2.06226848e+08+2.20818160e+08j, -4.30308320e+08+4.94104096e+08j,\n",
       "         -4.87918272e+08+6.65750912e+08j, ...,\n",
       "         -9.93395120e+07+1.84963872e+08j,  1.37131024e+08+1.72453744e+08j,\n",
       "         -6.91352640e+07+5.19514360e+07j]]),\n",
       " 'mmr_log_0': array([[-9.63305440e+07+1.61939472e+08j, -7.30168576e+08+6.04467008e+08j,\n",
       "         -8.30503040e+08+6.93438656e+08j, ...,\n",
       "         -9.64914880e+07+1.87597728e+08j,  1.59154256e+08+1.52724512e+08j,\n",
       "         -3.48625600e+07+1.05526184e+08j],\n",
       "        [-1.41207360e+08+1.56880208e+08j, -3.89830880e+08+6.15153216e+08j,\n",
       "         -5.99869952e+08+7.68121536e+08j, ...,\n",
       "          2.91205280e+07+1.72772448e+08j,  1.35013504e+08+2.21715792e+08j,\n",
       "          3.09864440e+07-4.34898000e+05j],\n",
       "        [-8.94074480e+07+9.22477040e+07j, -8.12582336e+08+5.36150912e+08j,\n",
       "         -5.28907296e+08+1.02411552e+09j, ...,\n",
       "          4.19447040e+07+9.81647600e+07j, -8.54614400e+07+2.24557024e+08j,\n",
       "         -2.47310600e+07+5.25036120e+07j],\n",
       "        ...,\n",
       "        [-2.06123488e+08+2.55871792e+08j,  1.14340685e+09+3.43025088e+08j,\n",
       "         -8.76996160e+08+8.15154880e+08j, ...,\n",
       "          1.11080736e+08+1.64739952e+08j,  2.23856800e+08+9.11108480e+07j,\n",
       "          8.15524700e+06+1.02897400e+06j],\n",
       "        [-1.03259408e+08+1.65628352e+08j, -5.06683776e+08+2.55720544e+08j,\n",
       "         -7.47181952e+08+8.30914240e+08j, ...,\n",
       "          1.19552520e+08+1.40609920e+08j, -1.37044112e+08+1.04211456e+08j,\n",
       "          3.42657200e+07+2.92263320e+07j],\n",
       "        [-1.74923824e+08+2.16205776e+08j, -4.89025056e+08+5.47451968e+08j,\n",
       "         -7.67479872e+08+1.35890419e+09j, ...,\n",
       "          9.10653120e+07+1.63341056e+08j,  1.16833152e+08+6.85512000e+07j,\n",
       "         -4.03421840e+07+5.90607400e+07j]])}"
      ]
     },
     "execution_count": 4,
     "metadata": {},
     "output_type": "execute_result"
    }
   ],
   "source": [
    "memories = {}\n",
    "for job_id, logical in zip(md.job_id, md.logical):\n",
    "    mmr_name = f\"mmr_log_{logical}\"\n",
    "    memories[mmr_name] = provider.retrieve_job(job_id).result().get_memory()\n",
    "\n",
    "memories"
   ]
  },
  {
   "cell_type": "code",
   "execution_count": 5,
   "metadata": {},
   "outputs": [
    {
     "name": "stderr",
     "output_type": "stream",
     "text": [
      "from qiskit_qec.analysis._c_analysis import _CErrorPropagator             failed, raising No module named 'qiskit_qec.analysis._c_analysis'\n",
      "Traceback (most recent call last):\n",
      "  File \"/Users/mha/My Drive/Desktop/Studium/Physik/MSc/Semester 3/IBM/IBM GIT/Soft-Info/libs/qiskit-qec/src/qiskit_qec/analysis/extensions.py\", line 21, in <module>\n",
      "    from qiskit_qec.analysis._c_analysis import _CErrorPropagator  # pylint: disable=unused-import\n",
      "    ^^^^^^^^^^^^^^^^^^^^^^^^^^^^^^^^^^^^^^^^^^^^^^^^^^^^^^^^^^^^^\n",
      "ModuleNotFoundError: No module named 'qiskit_qec.analysis._c_analysis'\n",
      "from qiskit_qec.analysis._c_analysis import _CFaultEnumerator             failed, raising No module named 'qiskit_qec.analysis._c_analysis'\n",
      "Traceback (most recent call last):\n",
      "  File \"/Users/mha/My Drive/Desktop/Studium/Physik/MSc/Semester 3/IBM/IBM GIT/Soft-Info/libs/qiskit-qec/src/qiskit_qec/analysis/extensions.py\", line 32, in <module>\n",
      "    from qiskit_qec.analysis._c_analysis import _CFaultEnumerator  # pylint: disable=unused-import\n",
      "    ^^^^^^^^^^^^^^^^^^^^^^^^^^^^^^^^^^^^^^^^^^^^^^^^^^^^^^^^^^^^^\n",
      "ModuleNotFoundError: No module named 'qiskit_qec.analysis._c_analysis'\n",
      "from qiskit_qec.analysis._c_analysis import _CFaultSampler failed,             raising No module named 'qiskit_qec.analysis._c_analysis'\n",
      "Traceback (most recent call last):\n",
      "  File \"/Users/mha/My Drive/Desktop/Studium/Physik/MSc/Semester 3/IBM/IBM GIT/Soft-Info/libs/qiskit-qec/src/qiskit_qec/analysis/extensions.py\", line 43, in <module>\n",
      "    from qiskit_qec.analysis._c_analysis import _CFaultSampler  # pylint: disable=unused-import\n",
      "    ^^^^^^^^^^^^^^^^^^^^^^^^^^^^^^^^^^^^^^^^^^^^^^^^^^^^^^^^^^\n",
      "ModuleNotFoundError: No module named 'qiskit_qec.analysis._c_analysis'\n",
      "from qiskit_qec.analysis._c_analysis import _c_minimum_distance             failed, raising No module named 'qiskit_qec.analysis._c_analysis'\n",
      "Traceback (most recent call last):\n",
      "  File \"/Users/mha/My Drive/Desktop/Studium/Physik/MSc/Semester 3/IBM/IBM GIT/Soft-Info/libs/qiskit-qec/src/qiskit_qec/analysis/extensions.py\", line 54, in <module>\n",
      "    from qiskit_qec.analysis._c_analysis import _c_minimum_distance  # pylint: disable=unused-import\n",
      "    ^^^^^^^^^^^^^^^^^^^^^^^^^^^^^^^^^^^^^^^^^^^^^^^^^^^^^^^^^^^^^^^\n",
      "ModuleNotFoundError: No module named 'qiskit_qec.analysis._c_analysis'\n",
      "from qiskit_qec.analysis._c_analysis import _c_minimum_distance_by_tests             failed, raising No module named 'qiskit_qec.analysis._c_analysis'\n",
      "Traceback (most recent call last):\n",
      "  File \"/Users/mha/My Drive/Desktop/Studium/Physik/MSc/Semester 3/IBM/IBM GIT/Soft-Info/libs/qiskit-qec/src/qiskit_qec/analysis/extensions.py\", line 66, in <module>\n",
      "    from qiskit_qec.analysis._c_analysis import _c_minimum_distance_by_tests\n",
      "ModuleNotFoundError: No module named 'qiskit_qec.analysis._c_analysis'\n",
      "from qiskit_qec.analysis._c_analysis import _c_rank failed,             raising No module named 'qiskit_qec.analysis._c_analysis'\n",
      "Traceback (most recent call last):\n",
      "  File \"/Users/mha/My Drive/Desktop/Studium/Physik/MSc/Semester 3/IBM/IBM GIT/Soft-Info/libs/qiskit-qec/src/qiskit_qec/analysis/extensions.py\", line 77, in <module>\n",
      "    from qiskit_qec.analysis._c_analysis import _c_rank  # pylint: disable=unused-import\n",
      "    ^^^^^^^^^^^^^^^^^^^^^^^^^^^^^^^^^^^^^^^^^^^^^^^^^^^\n",
      "ModuleNotFoundError: No module named 'qiskit_qec.analysis._c_analysis'\n",
      "from qiskit_qec.analysis._c_analysis import _c_isotropic failed,             raising No module named 'qiskit_qec.analysis._c_analysis'\n",
      "Traceback (most recent call last):\n",
      "  File \"/Users/mha/My Drive/Desktop/Studium/Physik/MSc/Semester 3/IBM/IBM GIT/Soft-Info/libs/qiskit-qec/src/qiskit_qec/analysis/extensions.py\", line 88, in <module>\n",
      "    from qiskit_qec.analysis._c_analysis import _c_isotropic  # pylint: disable=unused-import\n",
      "    ^^^^^^^^^^^^^^^^^^^^^^^^^^^^^^^^^^^^^^^^^^^^^^^^^^^^^^^^\n",
      "ModuleNotFoundError: No module named 'qiskit_qec.analysis._c_analysis'\n"
     ]
    },
    {
     "name": "stdout",
     "output_type": "stream",
     "text": [
      "{114: [KernelDensity(bandwidth=0.2), KernelDensity(bandwidth=0.2)], 116: [KernelDensity(bandwidth=0.2), KernelDensity(bandwidth=0.2)], 118: [KernelDensity(bandwidth=0.2), KernelDensity(bandwidth=0.2)], 120: [KernelDensity(bandwidth=0.2), KernelDensity(bandwidth=0.2)], 122: [KernelDensity(bandwidth=0.2), KernelDensity(bandwidth=0.2)], 104: [KernelDensity(bandwidth=0.2), KernelDensity(bandwidth=0.2)], 102: [KernelDensity(bandwidth=0.2), KernelDensity(bandwidth=0.2)], 100: [KernelDensity(bandwidth=0.2), KernelDensity(bandwidth=0.2)], 98: [KernelDensity(bandwidth=0.2), KernelDensity(bandwidth=0.2)], 96: [KernelDensity(bandwidth=0.2), KernelDensity(bandwidth=0.2)], 94: [KernelDensity(bandwidth=0.2), KernelDensity(bandwidth=0.2)], 75: [KernelDensity(bandwidth=0.2), KernelDensity(bandwidth=0.2)], 77: [KernelDensity(bandwidth=0.2), KernelDensity(bandwidth=0.2)], 79: [KernelDensity(bandwidth=0.2), KernelDensity(bandwidth=0.2)], 81: [KernelDensity(bandwidth=0.2), KernelDensity(bandwidth=0.2)], 83: [KernelDensity(bandwidth=0.2), KernelDensity(bandwidth=0.2)], 85: [KernelDensity(bandwidth=0.2), KernelDensity(bandwidth=0.2)], 66: [KernelDensity(bandwidth=0.2), KernelDensity(bandwidth=0.2)], 64: [KernelDensity(bandwidth=0.2), KernelDensity(bandwidth=0.2)], 62: [KernelDensity(bandwidth=0.2), KernelDensity(bandwidth=0.2)], 60: [KernelDensity(bandwidth=0.2), KernelDensity(bandwidth=0.2)], 58: [KernelDensity(bandwidth=0.2), KernelDensity(bandwidth=0.2)], 56: [KernelDensity(bandwidth=0.2), KernelDensity(bandwidth=0.2)], 37: [KernelDensity(bandwidth=0.2), KernelDensity(bandwidth=0.2)], 39: [KernelDensity(bandwidth=0.2), KernelDensity(bandwidth=0.2)], 41: [KernelDensity(bandwidth=0.2), KernelDensity(bandwidth=0.2)], 43: [KernelDensity(bandwidth=0.2), KernelDensity(bandwidth=0.2)], 45: [KernelDensity(bandwidth=0.2), KernelDensity(bandwidth=0.2)], 47: [KernelDensity(bandwidth=0.2), KernelDensity(bandwidth=0.2)], 113: [KernelDensity(bandwidth=0.2), KernelDensity(bandwidth=0.2)], 115: [KernelDensity(bandwidth=0.2), KernelDensity(bandwidth=0.2)], 117: [KernelDensity(bandwidth=0.2), KernelDensity(bandwidth=0.2)], 119: [KernelDensity(bandwidth=0.2), KernelDensity(bandwidth=0.2)], 121: [KernelDensity(bandwidth=0.2), KernelDensity(bandwidth=0.2)], 111: [KernelDensity(bandwidth=0.2), KernelDensity(bandwidth=0.2)], 103: [KernelDensity(bandwidth=0.2), KernelDensity(bandwidth=0.2)], 101: [KernelDensity(bandwidth=0.2), KernelDensity(bandwidth=0.2)], 99: [KernelDensity(bandwidth=0.2), KernelDensity(bandwidth=0.2)], 97: [KernelDensity(bandwidth=0.2), KernelDensity(bandwidth=0.2)], 95: [KernelDensity(bandwidth=0.2), KernelDensity(bandwidth=0.2)], 90: [KernelDensity(bandwidth=0.2), KernelDensity(bandwidth=0.2)], 76: [KernelDensity(bandwidth=0.2), KernelDensity(bandwidth=0.2)], 78: [KernelDensity(bandwidth=0.2), KernelDensity(bandwidth=0.2)], 80: [KernelDensity(bandwidth=0.2), KernelDensity(bandwidth=0.2)], 82: [KernelDensity(bandwidth=0.2), KernelDensity(bandwidth=0.2)], 84: [KernelDensity(bandwidth=0.2), KernelDensity(bandwidth=0.2)], 73: [KernelDensity(bandwidth=0.2), KernelDensity(bandwidth=0.2)], 65: [KernelDensity(bandwidth=0.2), KernelDensity(bandwidth=0.2)], 63: [KernelDensity(bandwidth=0.2), KernelDensity(bandwidth=0.2)], 61: [KernelDensity(bandwidth=0.2), KernelDensity(bandwidth=0.2)], 59: [KernelDensity(bandwidth=0.2), KernelDensity(bandwidth=0.2)], 57: [KernelDensity(bandwidth=0.2), KernelDensity(bandwidth=0.2)], 52: [KernelDensity(bandwidth=0.2), KernelDensity(bandwidth=0.2)], 38: [KernelDensity(bandwidth=0.2), KernelDensity(bandwidth=0.2)], 40: [KernelDensity(bandwidth=0.2), KernelDensity(bandwidth=0.2)], 42: [KernelDensity(bandwidth=0.2), KernelDensity(bandwidth=0.2)], 44: [KernelDensity(bandwidth=0.2), KernelDensity(bandwidth=0.2)], 46: [KernelDensity(bandwidth=0.2), KernelDensity(bandwidth=0.2)], 35: [KernelDensity(bandwidth=0.2), KernelDensity(bandwidth=0.2)]}\n"
     ]
    },
    {
     "ename": "KeyboardInterrupt",
     "evalue": "",
     "output_type": "error",
     "traceback": [
      "\u001b[0;31m---------------------------------------------------------------------------\u001b[0m",
      "\u001b[0;31mKeyboardInterrupt\u001b[0m                         Traceback (most recent call last)",
      "\u001b[1;32m/Users/mha/My Drive/Desktop/Studium/Physik/MSc/Semester 3/IBM/IBM GIT/Soft-Info/notebooks/UF/UF_weighted/Analysis_RepCode/BIG_distances_analysis_log_1 nazca.ipynb Cell 5\u001b[0m line \u001b[0;36m1\n\u001b[1;32m      <a href='vscode-notebook-cell:/Users/mha/My%20Drive/Desktop/Studium/Physik/MSc/Semester%203/IBM/IBM%20GIT/Soft-Info/notebooks/UF/UF_weighted/Analysis_RepCode/BIG_distances_analysis_log_1%20nazca.ipynb#W4sZmlsZQ%3D%3D?line=7'>8</a>\u001b[0m \u001b[39mprint\u001b[39m(kde_dict)\n\u001b[1;32m     <a href='vscode-notebook-cell:/Users/mha/My%20Drive/Desktop/Studium/Physik/MSc/Semester%203/IBM/IBM%20GIT/Soft-Info/notebooks/UF/UF_weighted/Analysis_RepCode/BIG_distances_analysis_log_1%20nazca.ipynb#W4sZmlsZQ%3D%3D?line=9'>10</a>\u001b[0m code \u001b[39m=\u001b[39m RepetitionCodeCircuit(max_distance, max_distance)\n\u001b[0;32m---> <a href='vscode-notebook-cell:/Users/mha/My%20Drive/Desktop/Studium/Physik/MSc/Semester%203/IBM/IBM%20GIT/Soft-Info/notebooks/UF/UF_weighted/Analysis_RepCode/BIG_distances_analysis_log_1%20nazca.ipynb#W4sZmlsZQ%3D%3D?line=10'>11</a>\u001b[0m decoder \u001b[39m=\u001b[39m UnionFindDecoder(code)\n",
      "File \u001b[0;32m~/My Drive/Desktop/Studium/Physik/MSc/Semester 3/IBM/IBM GIT/Soft-Info/libs/qiskit-qec/src/qiskit_qec/decoders/hdrg_decoders.py:311\u001b[0m, in \u001b[0;36mUnionFindDecoder.__init__\u001b[0;34m(self, code, decoding_graph, use_peeling)\u001b[0m\n\u001b[1;32m    310\u001b[0m \u001b[39mdef\u001b[39;00m \u001b[39m__init__\u001b[39m(\u001b[39mself\u001b[39m, code, decoding_graph: DecodingGraph \u001b[39m=\u001b[39m \u001b[39mNone\u001b[39;00m, use_peeling\u001b[39m=\u001b[39m\u001b[39mTrue\u001b[39;00m) \u001b[39m-\u001b[39m\u001b[39m>\u001b[39m \u001b[39mNone\u001b[39;00m:\n\u001b[0;32m--> 311\u001b[0m     \u001b[39msuper\u001b[39;49m()\u001b[39m.\u001b[39;49m\u001b[39m__init__\u001b[39;49m(code, decoding_graph\u001b[39m=\u001b[39;49mdecoding_graph)\n\u001b[1;32m    312\u001b[0m     \u001b[39mself\u001b[39m\u001b[39m.\u001b[39mgraph \u001b[39m=\u001b[39m deepcopy(\u001b[39mself\u001b[39m\u001b[39m.\u001b[39mdecoding_graph\u001b[39m.\u001b[39mgraph)\n\u001b[1;32m    313\u001b[0m     \u001b[39mself\u001b[39m\u001b[39m.\u001b[39mclusters: Dict[\u001b[39mint\u001b[39m, UnionFindDecoderCluster] \u001b[39m=\u001b[39m {}\n",
      "File \u001b[0;32m~/My Drive/Desktop/Studium/Physik/MSc/Semester 3/IBM/IBM GIT/Soft-Info/libs/qiskit-qec/src/qiskit_qec/decoders/hdrg_decoders.py:58\u001b[0m, in \u001b[0;36mClusteringDecoder.__init__\u001b[0;34m(self, code_circuit, decoding_graph)\u001b[0m\n\u001b[1;32m     56\u001b[0m     \u001b[39mself\u001b[39m\u001b[39m.\u001b[39mdecoding_graph \u001b[39m=\u001b[39m decoding_graph\n\u001b[1;32m     57\u001b[0m \u001b[39melse\u001b[39;00m:\n\u001b[0;32m---> 58\u001b[0m     \u001b[39mself\u001b[39m\u001b[39m.\u001b[39mdecoding_graph \u001b[39m=\u001b[39m DecodingGraph(\u001b[39mself\u001b[39;49m\u001b[39m.\u001b[39;49mcode)\n",
      "File \u001b[0;32m~/My Drive/Desktop/Studium/Physik/MSc/Semester 3/IBM/IBM GIT/Soft-Info/libs/qiskit-qec/src/qiskit_qec/decoders/decoding_graph.py:62\u001b[0m, in \u001b[0;36mDecodingGraph.__init__\u001b[0;34m(self, code, brute, graph)\u001b[0m\n\u001b[1;32m     60\u001b[0m     \u001b[39mself\u001b[39m\u001b[39m.\u001b[39mgraph \u001b[39m=\u001b[39m graph\n\u001b[1;32m     61\u001b[0m \u001b[39melse\u001b[39;00m:\n\u001b[0;32m---> 62\u001b[0m     \u001b[39mself\u001b[39;49m\u001b[39m.\u001b[39;49m_make_syndrome_graph()\n\u001b[1;32m     64\u001b[0m \u001b[39mself\u001b[39m\u001b[39m.\u001b[39m_logical_nodes \u001b[39m=\u001b[39m []\n\u001b[1;32m     65\u001b[0m \u001b[39mfor\u001b[39;00m node \u001b[39min\u001b[39;00m \u001b[39mself\u001b[39m\u001b[39m.\u001b[39mgraph\u001b[39m.\u001b[39mnodes():\n",
      "File \u001b[0;32m~/My Drive/Desktop/Studium/Physik/MSc/Semester 3/IBM/IBM GIT/Soft-Info/libs/qiskit-qec/src/qiskit_qec/decoders/decoding_graph.py:88\u001b[0m, in \u001b[0;36mDecodingGraph._make_syndrome_graph\u001b[0;34m(self)\u001b[0m\n\u001b[1;32m     85\u001b[0m     qc \u001b[39m=\u001b[39m \u001b[39mself\u001b[39m\u001b[39m.\u001b[39mcode\u001b[39m.\u001b[39mcircuit\n\u001b[1;32m     87\u001b[0m fe \u001b[39m=\u001b[39m FaultEnumerator(qc, method\u001b[39m=\u001b[39m\u001b[39m\"\u001b[39m\u001b[39mstabilizer\u001b[39m\u001b[39m\"\u001b[39m)\n\u001b[0;32m---> 88\u001b[0m blocks \u001b[39m=\u001b[39m \u001b[39mlist\u001b[39;49m(fe\u001b[39m.\u001b[39;49mgenerate_blocks())\n\u001b[1;32m     89\u001b[0m fault_paths \u001b[39m=\u001b[39m \u001b[39mlist\u001b[39m(itertools\u001b[39m.\u001b[39mchain(\u001b[39m*\u001b[39mblocks))\n\u001b[1;32m     91\u001b[0m \u001b[39mfor\u001b[39;00m _, _, _, output \u001b[39min\u001b[39;00m fault_paths:\n",
      "File \u001b[0;32m~/My Drive/Desktop/Studium/Physik/MSc/Semester 3/IBM/IBM GIT/Soft-Info/libs/qiskit-qec/src/qiskit_qec/analysis/faultenumerator.py:257\u001b[0m, in \u001b[0;36mFaultEnumerator.generate_blocks\u001b[0;34m(self, blocksize)\u001b[0m\n\u001b[1;32m    255\u001b[0m block \u001b[39m=\u001b[39m []\n\u001b[1;32m    256\u001b[0m count \u001b[39m=\u001b[39m \u001b[39m0\u001b[39m\n\u001b[0;32m--> 257\u001b[0m \u001b[39mfor\u001b[39;49;00m x \u001b[39min\u001b[39;49;00m \u001b[39mself\u001b[39;49m\u001b[39m.\u001b[39;49mgenerate():\n\u001b[1;32m    258\u001b[0m     block\u001b[39m.\u001b[39;49mappend(x)\n\u001b[1;32m    259\u001b[0m     count \u001b[39m+\u001b[39;49m\u001b[39m=\u001b[39;49m \u001b[39m1\u001b[39;49m\n",
      "File \u001b[0;32m~/My Drive/Desktop/Studium/Physik/MSc/Semester 3/IBM/IBM GIT/Soft-Info/libs/qiskit-qec/src/qiskit_qec/analysis/faultenumerator.py:212\u001b[0m, in \u001b[0;36mFaultEnumerator.generate\u001b[0;34m(self)\u001b[0m\n\u001b[1;32m    210\u001b[0m \u001b[39mfor\u001b[39;00m error \u001b[39min\u001b[39;00m product(\u001b[39m*\u001b[39miterable):\n\u001b[1;32m    211\u001b[0m     fcirc \u001b[39m=\u001b[39m \u001b[39mself\u001b[39m\u001b[39m.\u001b[39m_faulty_circuit(nodes, error)\n\u001b[0;32m--> 212\u001b[0m     outcome \u001b[39m=\u001b[39m \u001b[39mself\u001b[39;49m\u001b[39m.\u001b[39;49m_stabilizer_simulation(fcirc)\n\u001b[1;32m    213\u001b[0m     \u001b[39myield\u001b[39;00m (index, labels, \u001b[39mlist\u001b[39m(error), outcome)\n\u001b[1;32m    214\u001b[0m     index \u001b[39m+\u001b[39m\u001b[39m=\u001b[39m \u001b[39m1\u001b[39m\n",
      "File \u001b[0;32m~/My Drive/Desktop/Studium/Physik/MSc/Semester 3/IBM/IBM GIT/Soft-Info/libs/qiskit-qec/src/qiskit_qec/analysis/faultenumerator.py:190\u001b[0m, in \u001b[0;36mFaultEnumerator._stabilizer_simulation\u001b[0;34m(self, circ)\u001b[0m\n\u001b[1;32m    188\u001b[0m backend \u001b[39m=\u001b[39m Aer\u001b[39m.\u001b[39mget_backend(\u001b[39m\"\u001b[39m\u001b[39maer_simulator\u001b[39m\u001b[39m\"\u001b[39m)\n\u001b[1;32m    189\u001b[0m options \u001b[39m=\u001b[39m {\u001b[39m\"\u001b[39m\u001b[39mmethod\u001b[39m\u001b[39m\"\u001b[39m: \u001b[39m\"\u001b[39m\u001b[39mstabilizer\u001b[39m\u001b[39m\"\u001b[39m, \u001b[39m\"\u001b[39m\u001b[39mshots\u001b[39m\u001b[39m\"\u001b[39m: \u001b[39m1\u001b[39m, \u001b[39m\"\u001b[39m\u001b[39mseed_simulator\u001b[39m\u001b[39m\"\u001b[39m: \u001b[39mself\u001b[39m\u001b[39m.\u001b[39msim_seed}\n\u001b[0;32m--> 190\u001b[0m result \u001b[39m=\u001b[39m backend\u001b[39m.\u001b[39;49mrun(circ, \u001b[39m*\u001b[39;49m\u001b[39m*\u001b[39;49moptions)\u001b[39m.\u001b[39;49mresult()\n\u001b[1;32m    191\u001b[0m outcomes \u001b[39m=\u001b[39m result\u001b[39m.\u001b[39mget_counts(circ)\n\u001b[1;32m    192\u001b[0m raw_outcome \u001b[39m=\u001b[39m \u001b[39mlist\u001b[39m(outcomes\u001b[39m.\u001b[39mkeys())[\u001b[39m0\u001b[39m]\n",
      "File \u001b[0;32m~/.local/share/virtualenvs/Soft-Info-Sk8aHGSa/lib/python3.11/site-packages/qiskit_aer/jobs/utils.py:42\u001b[0m, in \u001b[0;36mrequires_submit.<locals>._wrapper\u001b[0;34m(self, *args, **kwargs)\u001b[0m\n\u001b[1;32m     40\u001b[0m \u001b[39mif\u001b[39;00m \u001b[39mself\u001b[39m\u001b[39m.\u001b[39m_future \u001b[39mis\u001b[39;00m \u001b[39mNone\u001b[39;00m:\n\u001b[1;32m     41\u001b[0m     \u001b[39mraise\u001b[39;00m JobError(\u001b[39m\"\u001b[39m\u001b[39mJob not submitted yet!. You have to .submit() first!\u001b[39m\u001b[39m\"\u001b[39m)\n\u001b[0;32m---> 42\u001b[0m \u001b[39mreturn\u001b[39;00m func(\u001b[39mself\u001b[39;49m, \u001b[39m*\u001b[39;49margs, \u001b[39m*\u001b[39;49m\u001b[39m*\u001b[39;49mkwargs)\n",
      "File \u001b[0;32m~/.local/share/virtualenvs/Soft-Info-Sk8aHGSa/lib/python3.11/site-packages/qiskit_aer/jobs/aerjob.py:114\u001b[0m, in \u001b[0;36mAerJob.result\u001b[0;34m(self, timeout)\u001b[0m\n\u001b[1;32m     96\u001b[0m \u001b[39m@requires_submit\u001b[39m\n\u001b[1;32m     97\u001b[0m \u001b[39mdef\u001b[39;00m \u001b[39mresult\u001b[39m(\u001b[39mself\u001b[39m, timeout\u001b[39m=\u001b[39m\u001b[39mNone\u001b[39;00m):\n\u001b[1;32m     98\u001b[0m     \u001b[39m# pylint: disable=arguments-differ\u001b[39;00m\n\u001b[1;32m     99\u001b[0m \u001b[39m    \u001b[39m\u001b[39m\"\"\"Get job result. The behavior is the same as the underlying\u001b[39;00m\n\u001b[1;32m    100\u001b[0m \u001b[39m    concurrent Future objects,\u001b[39;00m\n\u001b[1;32m    101\u001b[0m \n\u001b[0;32m   (...)\u001b[0m\n\u001b[1;32m    112\u001b[0m \u001b[39m        concurrent.futures.CancelledError: if job cancelled before completed.\u001b[39;00m\n\u001b[1;32m    113\u001b[0m \u001b[39m    \"\"\"\u001b[39;00m\n\u001b[0;32m--> 114\u001b[0m     \u001b[39mreturn\u001b[39;00m \u001b[39mself\u001b[39;49m\u001b[39m.\u001b[39;49m_future\u001b[39m.\u001b[39;49mresult(timeout\u001b[39m=\u001b[39;49mtimeout)\n",
      "File \u001b[0;32m~/.pyenv/versions/3.11.4/lib/python3.11/concurrent/futures/_base.py:451\u001b[0m, in \u001b[0;36mFuture.result\u001b[0;34m(self, timeout)\u001b[0m\n\u001b[1;32m    448\u001b[0m \u001b[39melif\u001b[39;00m \u001b[39mself\u001b[39m\u001b[39m.\u001b[39m_state \u001b[39m==\u001b[39m FINISHED:\n\u001b[1;32m    449\u001b[0m     \u001b[39mreturn\u001b[39;00m \u001b[39mself\u001b[39m\u001b[39m.\u001b[39m__get_result()\n\u001b[0;32m--> 451\u001b[0m \u001b[39mself\u001b[39;49m\u001b[39m.\u001b[39;49m_condition\u001b[39m.\u001b[39;49mwait(timeout)\n\u001b[1;32m    453\u001b[0m \u001b[39mif\u001b[39;00m \u001b[39mself\u001b[39m\u001b[39m.\u001b[39m_state \u001b[39min\u001b[39;00m [CANCELLED, CANCELLED_AND_NOTIFIED]:\n\u001b[1;32m    454\u001b[0m     \u001b[39mraise\u001b[39;00m CancelledError()\n",
      "File \u001b[0;32m~/.pyenv/versions/3.11.4/lib/python3.11/threading.py:320\u001b[0m, in \u001b[0;36mCondition.wait\u001b[0;34m(self, timeout)\u001b[0m\n\u001b[1;32m    318\u001b[0m \u001b[39mtry\u001b[39;00m:    \u001b[39m# restore state no matter what (e.g., KeyboardInterrupt)\u001b[39;00m\n\u001b[1;32m    319\u001b[0m     \u001b[39mif\u001b[39;00m timeout \u001b[39mis\u001b[39;00m \u001b[39mNone\u001b[39;00m:\n\u001b[0;32m--> 320\u001b[0m         waiter\u001b[39m.\u001b[39;49macquire()\n\u001b[1;32m    321\u001b[0m         gotit \u001b[39m=\u001b[39m \u001b[39mTrue\u001b[39;00m\n\u001b[1;32m    322\u001b[0m     \u001b[39melse\u001b[39;00m:\n",
      "\u001b[0;31mKeyboardInterrupt\u001b[0m: "
     ]
    }
   ],
   "source": [
    "from soft_info import get_repcode_layout, get_KDEs, get_counts\n",
    "from qiskit_qec.circuits import RepetitionCodeCircuit\n",
    "from qiskit_qec.decoders import UnionFindDecoder\n",
    "\n",
    "layout = get_repcode_layout(distance=max_distance, backend=provider.get_backend(\"ibm_sherbrooke\"), _is_hex=True)\n",
    "\n",
    "kde_dict, scaler_dict = get_KDEs(provider, 'ibm_sherbrooke', layout, bandwidths=0.2, plot=False)\n",
    "print(kde_dict)\n",
    "\n",
    "code = RepetitionCodeCircuit(max_distance, max_distance)\n",
    "decoder = UnionFindDecoder(code)"
   ]
  },
  {
   "cell_type": "code",
   "execution_count": null,
   "metadata": {},
   "outputs": [
    {
     "name": "stderr",
     "output_type": "stream",
     "text": [
      "  0%|          | 1/1111 [00:01<36:33,  1.98s/it]"
     ]
    },
    {
     "name": "stdout",
     "output_type": "stream",
     "text": [
      "\n",
      "meas_str: 100110111111110110011110101101 10011000000001110110011111000 01000100000001011100010000011 10001010000001110110011001001 10000110000001011100100001001 11001010000001010110010010011 01100110000001011100101101011 10101110000000010110010010000 01100010000000011100100001011 11100010000000011010010010000 01000010000000011100100001011 11100010000000011010010010000 11100010000000011100100001011 11100010000000010101010010010 11100010000000011101100001001 11100010000000011011010110010 01100010000010011101100101001 10100010000000001011010110010 10100010000000001101100101001 01100010000000001110010110010 11000010000000001101100011001 00100001000000000000010110000 01000010000000001100000011011 00100001000000000000000110011 01000000000000001100000011000 01000000000000000000000110011 10000000000000000000000011000 01000000000000000000000110011 10000000000000000000000011000 01000000010000000000000000011 00000000000000000000000000000\n",
      "flipped_qubit_dict {'Cluster_0': [1], 'Cluster_1': [28], 'Cluster_2': [4], 'Cluster_3': [5], 'Cluster_4': [], 'Cluster_5': [12], 'Cluster_6': [28], 'Cluster_7': [22], 'Cluster_8': [27], 'Cluster_9': [1], 'Cluster_10': [1], 'Cluster_11': [8], 'Cluster_12': [], 'Cluster_13': [10], 'Cluster_14': [12], 'Cluster_15': [22], 'Cluster_16': [28, 27], 'Cluster_17': [5], 'Cluster_18': [10, 11], 'Cluster_19': [28], 'Cluster_20': [], 'Cluster_21': [28], 'Cluster_22': [28], 'Cluster_23': [], 'Cluster_24': [], 'Cluster_25': [12], 'Cluster_26': [], 'Cluster_27': [10, 10], 'Cluster_28': [12], 'Cluster_29': [29, 27, 28, 29, 27], 'Cluster_30': [12], 'Cluster_31': [24], 'Cluster_32': [6], 'Cluster_33': [], 'Cluster_34': [], 'Cluster_35': [1, 1, 1, 1], 'Cluster_36': [], 'Cluster_37': [28], 'Cluster_38': [], 'Cluster_39': [4, 4, 5], 'Cluster_40': [15], 'Cluster_41': [8], 'Cluster_42': [], 'Cluster_43': [28], 'Cluster_44': [5], 'Cluster_45': [], 'Cluster_46': [27]}\n",
      "logical: [1] \n",
      "\n"
     ]
    },
    {
     "name": "stderr",
     "output_type": "stream",
     "text": [
      "  0%|          | 2/1111 [00:04<37:44,  2.04s/it]"
     ]
    },
    {
     "name": "stdout",
     "output_type": "stream",
     "text": [
      "\n",
      "meas_str: 100111011110110110011011111110 01110011000110011100110110011 11010101001011110110100110010 01110101000110011100000110011 11001011000011111010000110000 00110101000011111100000110001 10001001000011111010000110000 00100111000011111100000110001 11100011000011110110000000000 01100101000011111100000110001 01100010010011111010000000011 01100100000010010000000111010 01100010000001111010000001011 01100100000010001000001011010 01100100000011100011000010001 01100011000010001001000111000 01100101000010100011000001001 01000101000011001001000111000 10100011000010100011000001001 01100101000010101001000111000 11000100000010100011000001001 00000100000011101001000111000 11000100000011100011000010001 00000000000010000101000111000 00000000000011100011000100000 00100000000011100110000111000 01100000000011100011000000000 10100000000010000110000000000 01100000000001100011000000000 11000000000000000100000000000 01000000000001000000000000000\n",
      "flipped_qubit_dict {'Cluster_0': [11, 10], 'Cluster_1': [15], 'Cluster_2': [27, 27, 28], 'Cluster_3': [4], 'Cluster_4': [], 'Cluster_5': [15], 'Cluster_6': [27, 27, 28], 'Cluster_7': [10], 'Cluster_8': [15], 'Cluster_9': [0], 'Cluster_10': [5], 'Cluster_11': [], 'Cluster_12': [28], 'Cluster_13': [12], 'Cluster_14': [15], 'Cluster_15': [4], 'Cluster_16': [], 'Cluster_17': [], 'Cluster_18': [23], 'Cluster_19': [15], 'Cluster_20': [23], 'Cluster_21': [], 'Cluster_22': [23], 'Cluster_23': [28], 'Cluster_24': [4], 'Cluster_25': [], 'Cluster_26': [], 'Cluster_27': [6], 'Cluster_28': [], 'Cluster_29': [23], 'Cluster_30': [4], 'Cluster_31': [13], 'Cluster_32': [23], 'Cluster_33': [6], 'Cluster_34': [13], 'Cluster_35': [], 'Cluster_36': [], 'Cluster_37': [1], 'Cluster_38': [12], 'Cluster_39': [15], 'Cluster_40': [], 'Cluster_41': [1], 'Cluster_42': [12], 'Cluster_43': [], 'Cluster_44': [], 'Cluster_45': [28, 27], 'Cluster_46': [5], 'Cluster_47': [12], 'Cluster_48': [25], 'Cluster_49': [], 'Cluster_50': [], 'Cluster_51': [], 'Cluster_52': [15], 'Cluster_53': [18], 'Cluster_54': [12], 'Cluster_55': [23], 'Cluster_56': [25], 'Cluster_57': [8], 'Cluster_58': [23]}\n",
      "logical: [1] \n",
      "\n"
     ]
    },
    {
     "name": "stderr",
     "output_type": "stream",
     "text": [
      "  0%|          | 3/1111 [00:06<37:14,  2.02s/it]"
     ]
    },
    {
     "name": "stdout",
     "output_type": "stream",
     "text": [
      "\n",
      "meas_str: 100110011111010011111111111001 01000111001010001010110001000 11101111001100011010110001101 01000101000111101010110000010 11101100001100001010110001101 01100000000101101010110000011 10001100001010001110110001101 01101010000111101110110000000 01101100001010001110110001111 01101100000111101110110000011 01101010001001100000110001111 00001110010011001100001100011 01100010000000001100110000101 01101100000011000000001010011 11000000000000001100110000101 00101100000011000011001010011 10000100000001001101110000101 11101000000010000011001001011 10001000000001000000011010101 11101000000010000010101001011 01101000000001010000011100101 10100000000010010010001010011 01100000000001010001001100101 01000000000010010011101010011 01000000000001010000101100100 01100000000010010011011010001 11100000000001010001001100000 00100000000010001010111100011 11100000000001001001000000000 01000000000010000000100000011 00000000000001000000100000000\n",
      "flipped_qubit_dict {'Cluster_0': [16], 'Cluster_1': [1], 'Cluster_2': [], 'Cluster_3': [27, 28, 27], 'Cluster_4': [10, 6, 8, 6, 5, 6, 6, 9, 5, 9, 5, 6, 10, 12, 4], 'Cluster_5': [13], 'Cluster_6': [2], 'Cluster_7': [13], 'Cluster_8': [28], 'Cluster_9': [], 'Cluster_10': [1], 'Cluster_11': [], 'Cluster_12': [28], 'Cluster_13': [], 'Cluster_14': [4], 'Cluster_15': [], 'Cluster_16': [27, 28], 'Cluster_17': [24], 'Cluster_18': [], 'Cluster_19': [], 'Cluster_20': [5], 'Cluster_21': [2, 3], 'Cluster_22': [15], 'Cluster_23': [6], 'Cluster_24': [8], 'Cluster_25': [], 'Cluster_26': [], 'Cluster_27': [19, 18, 19, 16], 'Cluster_28': [12], 'Cluster_29': [29, 28, 29, 28, 29, 27, 28, 23, 23, 27, 28, 29, 25, 26, 27, 23, 24, 25, 26, 23, 23], 'Cluster_30': [1, 0, 1, 1, 0], 'Cluster_31': [28], 'Cluster_32': [], 'Cluster_33': [17], 'Cluster_34': [23, 24], 'Cluster_35': [], 'Cluster_36': [27], 'Cluster_37': [23], 'Cluster_38': [14], 'Cluster_39': [2, 3], 'Cluster_40': [], 'Cluster_41': [18], 'Cluster_42': []}\n",
      "logical: [1] \n",
      "\n"
     ]
    },
    {
     "name": "stderr",
     "output_type": "stream",
     "text": [
      "  0%|          | 4/1111 [00:08<37:29,  2.03s/it]"
     ]
    },
    {
     "name": "stdout",
     "output_type": "stream",
     "text": [
      "\n",
      "meas_str: 101111111111110010011011101111 01000100001110100010110011000 10000100001111111000110000000 01000100001111000010100011000 11000000000011101000110000000 01000000001110110010000011000 01000001000010101110110000000 01000001001101010010100011000 01000001000010100010110100011 00100001001100010110101011000 01000001000010110010110100011 00100001001101110010101010000 01000001000011010010110101011 11100001001111110010101100011 00000001000010010010110101000 10100001001111110010101100011 00100001001110110010110110000 11100001001110110010101100000 00000001001100110010110110000 00000000000010110010101100000 00000000001110110010110110000 11000000000011010010101010000 01000000001111110010110110000 10000000000010010010101100000 01000000001111110010110110000 00000000001110010000101100000 00000000000011110000110000000 00000000001110010000101100000 00000000000011110000110000000 00000000001110010000101100000 00000000000000010000000000000\n",
      "flipped_qubit_dict {'Cluster_0': [17, 0, 18, 1, 2, 3, 8, 4, 5, 0, 7, 7, 1, 8, 2, 5, 16, 3, 14, 15, 15, 16, 17, 17, 18, 4, 5, 6, 7, 8, 9, 10, 11, 7, 8, 14, 4, 15, 5, 16, 6, 7, 8, 9, 10, 11, 12, 13, 4, 5, 6, 12, 13, 14, 15, 0, 2, 3, 4, 5, 12, 0, 1, 2, 9, 10, 11, 12, 13, 6, 14, 7, 8, 16, 9, 10, 3, 5, 6, 7, 5, 8, 9, 6, 10, 7, 8, 12, 9, 13, 10, 14, 15, 4, 9, 5, 10, 11, 12, 13, 9, 14, 10, 9, 11, 12, 13, 15, 15, 10, 11, 12, 13, 5, 14, 6, 7, 13, 8, 14, 9, 15, 10, 16, 11, 13, 12, 13, 17, 14, 18, 17, 18, 6, 7, 16, 17, 15], 'Cluster_1': [18], 'Cluster_2': [28], 'Cluster_3': [18], 'Cluster_4': [5], 'Cluster_5': [], 'Cluster_6': [5], 'Cluster_7': [28], 'Cluster_8': [], 'Cluster_9': [1], 'Cluster_10': [4], 'Cluster_11': [28, 27, 28], 'Cluster_12': [27], 'Cluster_13': [], 'Cluster_14': [], 'Cluster_15': [29, 28, 29]}\n",
      "logical: [1] \n",
      "\n"
     ]
    },
    {
     "name": "stderr",
     "output_type": "stream",
     "text": [
      "  0%|          | 5/1111 [00:10<37:41,  2.04s/it]"
     ]
    },
    {
     "name": "stdout",
     "output_type": "stream",
     "text": [
      "\n",
      "meas_str: 111111111111111110111111011011 11001100010001001110001011010 11001100010000100010001101100 11011100010000101110001011010 00011100010000100010001111100 11011100000000101110001100010 10011010010000100010001111100 01000100010000101110001100010 10011100010000001010001111100 01000100010000000110001100010 11011010010000001010001111100 00000100010000000110001110010 00000100010000001110000001110 11000010010000000000001101000 10000100010000000000001001110 10000100010000000100000011000 10000100010000000000001001100 10000000010000000000000011010 01000000010000000000000100110 01000000010000000000000011010 01000000010000000000000110101 01000000010000000000000000010 00011000010000000000000110100 01010000010001000000000000010 10001000010001000000000000100 10010000000001000000000001000 01001000000000000000001101110 10000000010000000000000001000 01000000010000000000001100100 00000000010000000000000001000 00000000010000000000000001100\n",
      "flipped_qubit_dict {'Cluster_0': [3], 'Cluster_1': [], 'Cluster_2': [], 'Cluster_3': [6], 'Cluster_4': [28], 'Cluster_5': [2, 3], 'Cluster_6': [], 'Cluster_7': [25], 'Cluster_8': [], 'Cluster_9': [], 'Cluster_10': [], 'Cluster_11': [6], 'Cluster_12': [], 'Cluster_13': [], 'Cluster_14': [5], 'Cluster_15': [], 'Cluster_16': [29, 29, 29, 26, 25, 26, 27, 27, 28, 29], 'Cluster_17': [1, 3, 2, 2, 3, 4, 4], 'Cluster_18': [1], 'Cluster_19': [28], 'Cluster_20': [6], 'Cluster_21': [], 'Cluster_22': [28], 'Cluster_23': [5], 'Cluster_24': [], 'Cluster_25': [23], 'Cluster_26': [28], 'Cluster_27': [], 'Cluster_28': [12], 'Cluster_29': [], 'Cluster_30': [4], 'Cluster_31': [], 'Cluster_32': [23], 'Cluster_33': [28], 'Cluster_34': [], 'Cluster_35': [6], 'Cluster_36': [23], 'Cluster_37': [25], 'Cluster_38': [28], 'Cluster_39': [], 'Cluster_40': [23], 'Cluster_41': [], 'Cluster_42': [], 'Cluster_43': [23], 'Cluster_44': [25], 'Cluster_45': [], 'Cluster_46': [23], 'Cluster_47': [4, 5], 'Cluster_48': [], 'Cluster_49': [], 'Cluster_50': [28], 'Cluster_51': [15], 'Cluster_52': [15]}\n",
      "logical: [1] \n",
      "\n"
     ]
    },
    {
     "name": "stderr",
     "output_type": "stream",
     "text": [
      "  1%|          | 6/1111 [00:12<37:59,  2.06s/it]"
     ]
    },
    {
     "name": "stdout",
     "output_type": "stream",
     "text": [
      "\n",
      "meas_str: 111111111110111010111111111111 00101101000011000111000100000 01101111001011011011001100000 10101001010111010111000000010 00001100001010101011001100001 10101111000111110111000000010 11001100001010101001000001001 10101011000111010110000001010 11001110001011101001001101001 01000101000110100110000001010 10000000011011011001001101001 01001111000110000110000011010 11001110011111111001001111001 11100111000011110110001101010 01000010001110111001000111001 01100011000111101110001110010 01000000001010010100000010010 01100011000111001110001110010 01000000001110011000000010010 01000000000011110110001110010 01000000001111110000000100010 01000000000010110110001110010 01000000001111000000000011001 00000000001010110010001111011 00000000000110100000000000010 00000000001010100000001100010 11000000000100000000000000010 11000000001000110000000000010 11000000000101110000000000010 10000000001000100000000000010 01000000000000000000000000010\n",
      "flipped_qubit_dict {'Cluster_0': [], 'Cluster_1': [28, 29, 28, 28, 29, 29, 29, 29, 29, 29, 27, 29, 28, 29, 28, 29], 'Cluster_2': [14, 15], 'Cluster_3': [18], 'Cluster_4': [15], 'Cluster_5': [6], 'Cluster_6': [], 'Cluster_7': [1], 'Cluster_8': [4], 'Cluster_9': [], 'Cluster_10': [4], 'Cluster_11': [], 'Cluster_12': [], 'Cluster_13': [], 'Cluster_14': [1], 'Cluster_15': [5], 'Cluster_16': [15, 14, 11, 15], 'Cluster_17': [5], 'Cluster_18': [], 'Cluster_19': [15], 'Cluster_20': [14], 'Cluster_21': [], 'Cluster_22': [22], 'Cluster_23': [1], 'Cluster_24': [5], 'Cluster_25': [23, 23, 23], 'Cluster_26': [5], 'Cluster_27': [27], 'Cluster_28': [12, 18, 10, 11, 14, 19, 14, 15, 16, 17, 18, 19, 16, 17], 'Cluster_29': [], 'Cluster_30': [24], 'Cluster_31': [24], 'Cluster_32': [27, 28], 'Cluster_33': [6], 'Cluster_34': [23], 'Cluster_35': [], 'Cluster_36': [10], 'Cluster_37': [6], 'Cluster_38': [28], 'Cluster_39': [23], 'Cluster_40': [1], 'Cluster_41': [23], 'Cluster_42': [28], 'Cluster_43': [6], 'Cluster_44': [], 'Cluster_45': [22], 'Cluster_46': [27]}\n",
      "logical: [1] \n",
      "\n"
     ]
    },
    {
     "name": "stderr",
     "output_type": "stream",
     "text": [
      "  1%|          | 7/1111 [00:14<37:16,  2.03s/it]"
     ]
    },
    {
     "name": "stdout",
     "output_type": "stream",
     "text": [
      "\n",
      "meas_str: 111101011111110110001110001111 01000110000001011001001000000 01011000000000110000000001000 11100100000000011001000100000 11011000000001111001000001000 01100010000001110000000100000 01101100000010111001000001000 01100101000000110000001000000 01101011000001111001000001000 01100011000001110000001000000 01001101000000111001000001000 01000001000000110000001000000 01001001000001110101000001000 01100001000001110000001000000 01101001000000110101000001000 01110001100000110000000100000 01111001100001110101000001000 01110001000001110000000100000 01111001000000110101000001000 01110001000000110000000101100 01111001000001100000000000000 01110001000000100000000101000 01111001000000100000000000000 01000001010001100000001001000 01100001000001100000000001000 01000001000000100000001000000 01100001000000100000000010000 01000001000001100000001100000 01000001000001100000000110000 01000000000000100000001100000 01000000010000000000000000000\n",
      "flipped_qubit_dict {'Cluster_0': [], 'Cluster_1': [6], 'Cluster_2': [5], 'Cluster_3': [], 'Cluster_4': [], 'Cluster_5': [], 'Cluster_6': [28, 29, 29, 27, 28, 29, 29, 27], 'Cluster_7': [4], 'Cluster_8': [], 'Cluster_9': [25], 'Cluster_10': [6], 'Cluster_11': [], 'Cluster_12': [26], 'Cluster_13': [3], 'Cluster_14': [14, 15, 10, 11, 14, 15], 'Cluster_15': [3], 'Cluster_16': [], 'Cluster_17': [], 'Cluster_18': [], 'Cluster_19': [6], 'Cluster_20': [], 'Cluster_21': [], 'Cluster_22': [12], 'Cluster_23': [], 'Cluster_24': [], 'Cluster_25': [23, 23], 'Cluster_26': [16], 'Cluster_27': [], 'Cluster_28': [6], 'Cluster_29': [23, 22, 22], 'Cluster_30': [16], 'Cluster_31': [26], 'Cluster_32': [], 'Cluster_33': [], 'Cluster_34': [], 'Cluster_35': [15], 'Cluster_36': [], 'Cluster_37': [6]}\n",
      "logical: [1] \n",
      "\n"
     ]
    },
    {
     "name": "stderr",
     "output_type": "stream",
     "text": [
      "  1%|          | 8/1111 [00:16<37:25,  2.04s/it]"
     ]
    },
    {
     "name": "stdout",
     "output_type": "stream",
     "text": [
      "\n",
      "meas_str: 100011101111011111111111000100 01000100000011101100000011110 11010111000101101100000111000 01000010000010001100000011110 11010100000101101100000110010 00000100000010001100000011010 10010100000101101100000110010 11000100000010001000000101000 10010010000101101100000110010 00000100000010000000110011000 01010010000101101100000000010 00000110000011100000111111010 01010010000100001100000001001 01000010000011100000111110010 00010100000001101100000010001 01000100000001100000111110010 00010100000001100000000010001 01000100000001000000111100010 01010010000001000000010000001 11000010000001000000001100010 01010000000001000000000000000 11000010000001000100001100000 00110010000001000000000000000 11000010000001000000000000000 01110010000000000000000001000 01000000000000000000000000000 01110110000000000000001100000 01100000000000000000000000000 00010110000000000000001100000 11100000000000000000000000000 00110000000000000000000000000\n",
      "flipped_qubit_dict {'Cluster_0': [26], 'Cluster_1': [], 'Cluster_2': [28], 'Cluster_3': [6], 'Cluster_4': [23], 'Cluster_5': [27, 27, 28], 'Cluster_6': [6], 'Cluster_7': [], 'Cluster_8': [23], 'Cluster_9': [], 'Cluster_10': [28], 'Cluster_11': [6], 'Cluster_12': [27], 'Cluster_13': [], 'Cluster_14': [1], 'Cluster_15': [8], 'Cluster_16': [], 'Cluster_17': [23], 'Cluster_18': [], 'Cluster_19': [], 'Cluster_20': [23], 'Cluster_21': [28], 'Cluster_22': [12], 'Cluster_23': [17], 'Cluster_24': [23], 'Cluster_25': [4], 'Cluster_26': [15], 'Cluster_27': [], 'Cluster_28': [], 'Cluster_29': [1, 0, 1], 'Cluster_30': [15], 'Cluster_31': [6], 'Cluster_32': [15], 'Cluster_33': [5], 'Cluster_34': [28], 'Cluster_35': [5], 'Cluster_36': [8], 'Cluster_37': [28], 'Cluster_38': [23], 'Cluster_39': [3], 'Cluster_40': [5], 'Cluster_41': [12], 'Cluster_42': [28], 'Cluster_43': [], 'Cluster_44': [23], 'Cluster_45': [22], 'Cluster_46': [15], 'Cluster_47': [23]}\n",
      "logical: [1] \n",
      "\n"
     ]
    },
    {
     "name": "stderr",
     "output_type": "stream",
     "text": [
      "  1%|          | 9/1111 [00:18<36:38,  2.00s/it]"
     ]
    },
    {
     "name": "stdout",
     "output_type": "stream",
     "text": [
      "\n",
      "meas_str: 111110111111110010110010001011 11000000001001110100111100111 11001100001000101001100101001 01101010001000011100111010111 01000110001000100001100101011 11001100001000011100111010101 11100000001000100001100101011 01001100001000011100111010001 01000000000000110001100101011 11001100000000001100111010000 11000000000000110001100101011 01001110000000001100111010011 01100100000000000001100101000 11001110000000001100111010011 11100100000000000001100101000 11101000000000001100111110000 11101000010000000001100111000 11101000000000001100111110000 11001000000000001101100111000 01101000000000000000001110000 01101000000000001101100111000 11101010000000000000001110000 11110010000000000001100100000 01101010000000001000001110000 01010010000000000001100100000 11101000000000000000001110000 01000000000000000000000100000 11000000000000000000001110000 01000000000000000000000100000 11000010000000000000001110000 00000010000000000000000000000\n",
      "flipped_qubit_dict {'Cluster_0': [], 'Cluster_1': [5, 6], 'Cluster_2': [29, 28, 28, 29, 29, 29], 'Cluster_3': [], 'Cluster_4': [9], 'Cluster_5': [], 'Cluster_6': [25, 26, 26], 'Cluster_7': [12], 'Cluster_8': [4], 'Cluster_9': [], 'Cluster_10': [25], 'Cluster_11': [], 'Cluster_12': [8], 'Cluster_13': [12], 'Cluster_14': [12], 'Cluster_15': [], 'Cluster_16': [5], 'Cluster_17': [], 'Cluster_18': [1], 'Cluster_19': [23], 'Cluster_20': [1], 'Cluster_21': [14], 'Cluster_22': [24, 28, 27, 28, 27], 'Cluster_23': [1], 'Cluster_24': [23], 'Cluster_25': [], 'Cluster_26': [], 'Cluster_27': [27, 28, 27, 28, 25, 26, 25, 26], 'Cluster_28': [1, 2], 'Cluster_29': [23], 'Cluster_30': [], 'Cluster_31': [23], 'Cluster_32': [], 'Cluster_33': [], 'Cluster_34': [5], 'Cluster_35': [15]}\n",
      "logical: [1] \n",
      "\n"
     ]
    },
    {
     "name": "stderr",
     "output_type": "stream",
     "text": [
      "  1%|          | 10/1111 [00:20<36:26,  1.99s/it]"
     ]
    },
    {
     "name": "stdout",
     "output_type": "stream",
     "text": [
      "\n",
      "meas_str: 100110011110110111111010101001 01000100000010110000110011100 01101110001111111000101100001 01101110001011111100110011100 11111010000110111100101100001 01100100000010111100110010000 11111100000011111100101101001 01100010000011101100110000000 11111100000010100000101101001 01100000000010111100110000000 11111100000010111000101101101 01101110000011110100000000010 11011000000011111000001101110 01001110000000110100000000010 11010100010000111000001100100 01001110000001110100000000010 11010110000001111000001100100 01001100001000110100000000010 11110100000100111000001100100 11001100001001110100000000010 11111000000101111000001100100 11001100001000111100000000010 11110010000100111100000000000 11000000001001111100000000000 11111110000101101100000000000 11000110000100100000000000000 11111110000100101100000000000 01000000000001100000000000000 11000100000001101100000000000 01000100000000101100000000000 00000000000000000000000000000\n",
      "flipped_qubit_dict {'Cluster_0': [12], 'Cluster_1': [], 'Cluster_2': [], 'Cluster_3': [12], 'Cluster_4': [], 'Cluster_5': [12], 'Cluster_6': [24], 'Cluster_7': [], 'Cluster_8': [], 'Cluster_9': [26], 'Cluster_10': [29, 29, 29, 28, 28, 29], 'Cluster_11': [], 'Cluster_12': [12], 'Cluster_13': [], 'Cluster_14': [18], 'Cluster_15': [], 'Cluster_16': [27, 23, 28], 'Cluster_17': [2], 'Cluster_18': [6], 'Cluster_19': [12], 'Cluster_20': [], 'Cluster_21': [], 'Cluster_22': [], 'Cluster_23': [18], 'Cluster_24': [], 'Cluster_25': [16], 'Cluster_26': [16], 'Cluster_27': [], 'Cluster_28': [1], 'Cluster_29': [2, 3, 12, 14, 15, 9, 10, 11, 12, 12, 6, 7, 15, 14, 8, 15, 6, 7, 14, 15, 9, 10, 11, 12, 18, 12, 13, 14, 15, 13], 'Cluster_30': [2], 'Cluster_31': [4, 3], 'Cluster_32': [], 'Cluster_33': [26], 'Cluster_34': [24, 23, 24, 23]}\n",
      "logical: [1] \n",
      "\n"
     ]
    },
    {
     "name": "stderr",
     "output_type": "stream",
     "text": [
      "  1%|          | 11/1111 [00:22<36:18,  1.98s/it]"
     ]
    },
    {
     "name": "stdout",
     "output_type": "stream",
     "text": [
      "\n",
      "meas_str: 100111111110011111011100101111 01000100000110101010100101110 11101100001100101100110011110 01101000000110100010100101110 01101110010000101100110110110 11111000000110101010100010110 11011100000000100100110000110 01011100010111001010001000110 01111100010001001000001000110 11110000010111001000001000110 11101100010001001000001000110 01100000010111001000001000110 01001100010001001000001000101 11000110010111001000001000110 11101100010001001000001000101 01000000010111001000001100110 01111100010001000000001100101 01000000000111000000001101110 01111000000001001000000001001 01000000000111001000001101100 11011000000001000000000001001 11000000000110000000001101100 11001000000000001000000000000 01000000000110001000000001100 01000000000000001000000001000 11100000000110000000000000000 11000000000000000000000000000 01000000000010001000000000000 11000000000010101000000000000 11100000000010101000001100000 00000000000001000000000000000\n",
      "flipped_qubit_dict {'Cluster_0': [16], 'Cluster_1': [6], 'Cluster_2': [], 'Cluster_3': [], 'Cluster_4': [16], 'Cluster_5': [28, 28, 28, 27], 'Cluster_6': [6], 'Cluster_7': [], 'Cluster_8': [], 'Cluster_9': [17], 'Cluster_10': [], 'Cluster_11': [27, 28], 'Cluster_12': [1, 2], 'Cluster_13': [], 'Cluster_14': [6], 'Cluster_15': [], 'Cluster_16': [], 'Cluster_17': [], 'Cluster_18': [2], 'Cluster_19': [], 'Cluster_20': [], 'Cluster_21': [6], 'Cluster_22': [], 'Cluster_23': [], 'Cluster_24': [], 'Cluster_25': [23], 'Cluster_26': [23], 'Cluster_27': [1], 'Cluster_28': [], 'Cluster_29': [], 'Cluster_30': [24], 'Cluster_31': [], 'Cluster_32': [8, 4, 5, 7, 8, 5, 6, 4, 4], 'Cluster_33': [15], 'Cluster_34': [15], 'Cluster_35': [], 'Cluster_36': [11, 12, 12], 'Cluster_37': [27, 18, 29, 20, 27, 21, 28, 22, 23, 27, 28, 28, 29, 27, 28, 20, 25, 20, 21, 22, 24, 26, 26, 28, 27, 29, 29, 23, 20, 24, 21, 24, 25, 22, 27, 26, 27, 28, 24, 27, 27, 27, 28, 29, 21, 22, 28, 28, 29, 24, 25, 25, 29, 26, 27, 29]}\n",
      "logical: [1] \n",
      "\n"
     ]
    },
    {
     "name": "stderr",
     "output_type": "stream",
     "text": [
      "  1%|          | 12/1111 [00:24<35:48,  1.95s/it]"
     ]
    },
    {
     "name": "stdout",
     "output_type": "stream",
     "text": [
      "\n",
      "meas_str: 110001100101111111011010111011 01000011011001100100100010010 01001001100001100010011110100 11000011011101000100100010010 11101001101001100010011111100 01000001011101000100100100010 01001011101001100010011100110 11000001011101000000100100010 01001011101001000000011100110 11010011011101000000100100010 01000011101001000000011100110 11010011011101000000100110010 01000001101001000000011101110 11010010011101000000100111010 01000000111001000000011010110 11010000001101000000100111010 01000000111001000000011010110 11000010100001000000100100010 01010010011001000000011010110 11000000100001000000100100010 11011010011001000000011001110 11000110100001000000000101010 11001010000001000000001000110 11000101000001000000000101010 11001110000001000000001001000 10000001000001000000000101000 01001110010000000000000001000 10000001000000000000110000000 01000010000000000000000000000 11000001000000000000000000000 00000000000000000000000000000\n",
      "flipped_qubit_dict {'Cluster_0': [22], 'Cluster_1': [28], 'Cluster_2': [], 'Cluster_3': [8], 'Cluster_4': [], 'Cluster_5': [24], 'Cluster_6': [6], 'Cluster_7': [8], 'Cluster_8': [], 'Cluster_9': [], 'Cluster_10': [28], 'Cluster_11': [3], 'Cluster_12': [], 'Cluster_13': [8], 'Cluster_14': [4], 'Cluster_15': [29, 20, 23, 24, 20, 21, 23, 21, 24, 22, 23, 24, 21, 29, 22, 29, 23, 29, 24, 19, 25, 23], 'Cluster_16': [], 'Cluster_17': [], 'Cluster_18': [4], 'Cluster_19': [18], 'Cluster_20': [], 'Cluster_21': [], 'Cluster_22': [5], 'Cluster_23': [22, 22], 'Cluster_24': [4], 'Cluster_25': [25], 'Cluster_26': [11], 'Cluster_27': [4], 'Cluster_28': [], 'Cluster_29': [27, 28, 24, 28, 25, 26, 23], 'Cluster_30': [5], 'Cluster_31': [2, 3], 'Cluster_32': [18]}\n",
      "logical: [1] \n",
      "\n"
     ]
    },
    {
     "name": "stderr",
     "output_type": "stream",
     "text": [
      "  1%|          | 13/1111 [00:25<35:09,  1.92s/it]"
     ]
    },
    {
     "name": "stdout",
     "output_type": "stream",
     "text": [
      "\n",
      "meas_str: 100111101111111110011001110010 11110110000001001110111000000 01010111000001001100010001011 11010100000001001110110100011 01010001000001000100010001000 11110010000000001010111100000 01010011000000001100011001000 11110000000000001010111100011 01010011000000001100011001000 11110011000001000010111100011 11010100000001001100011001010 01101011000001001100001100011 11010000000001001100011001010 11101001000001110000001100011 11000010000000000100000001010 01100001000000100100001100000 11000010000000101100000000010 01100001000000101000001100000 11000011100000100100000001000 01100011000000100000001101000 11000001100001001100000001000 01100011000000100000001100000 11000010000000000000000000000 00000010000000000000001100000 00000010000000000000000000000 01000010000000000000001100000 01000010000000000000000000000 01000010000000000000000000000 01000010000000000000000000000 01000000000000000000000000000 00000000000000000000000000000\n",
      "flipped_qubit_dict {'Cluster_0': [], 'Cluster_1': [], 'Cluster_2': [6], 'Cluster_3': [], 'Cluster_4': [28], 'Cluster_5': [15], 'Cluster_6': [27], 'Cluster_7': [], 'Cluster_8': [12], 'Cluster_9': [21, 22], 'Cluster_10': [13, 14], 'Cluster_11': [15], 'Cluster_12': [], 'Cluster_13': [], 'Cluster_14': [21], 'Cluster_15': [12], 'Cluster_16': [2, 3], 'Cluster_17': [13], 'Cluster_18': [1], 'Cluster_19': [12], 'Cluster_20': [25], 'Cluster_21': [29, 29], 'Cluster_22': [7], 'Cluster_23': [12], 'Cluster_24': [14], 'Cluster_25': [8], 'Cluster_26': [12], 'Cluster_27': [], 'Cluster_28': [0, 1], 'Cluster_29': [], 'Cluster_30': [11, 12], 'Cluster_31': [22, 22, 25], 'Cluster_32': [1], 'Cluster_33': [], 'Cluster_34': [], 'Cluster_35': [12], 'Cluster_36': [], 'Cluster_37': [1], 'Cluster_38': [23], 'Cluster_39': [1], 'Cluster_40': [23], 'Cluster_41': [1], 'Cluster_42': [6], 'Cluster_43': [], 'Cluster_44': []}\n",
      "logical: [1] \n",
      "\n"
     ]
    },
    {
     "name": "stderr",
     "output_type": "stream",
     "text": [
      "  1%|▏         | 14/1111 [00:27<35:51,  1.96s/it]"
     ]
    },
    {
     "name": "stdout",
     "output_type": "stream",
     "text": [
      "\n",
      "meas_str: 110110011110100110011100110101 11100110110111101000010001000 11001100111001101010000100111 11100110110111101000010001011 11001100111001100010010100100 11100110100111100000000001011 11001101001001101010010100111 11100001000100001000000001000 11001111001001001010010101101 11100101000101001000000001000 01001001001001001010010101101 11100101000101001000000001000 11001111001001000010010100101 11000101000101000000000000000 11100101001001000010010100101 11000101001001101000000000000 11000001001001001010011000011 11000101101001001100000000000 11000101101001001000011000000 01000011101001001100000000000 11000101111001001000010100000 01000111111001001100000000000 11000001111001001000010100000 11000111110001001100000000000 11000101010001001000010100000 11000011010001001100000000000 01000100000001001000010100000 11000110000001000100000001000 00000000000000001000010101000 00000000000000001000000000000 00000000000000001000000000000\n",
      "flipped_qubit_dict {'Cluster_0': [23], 'Cluster_1': [], 'Cluster_2': [], 'Cluster_3': [29, 29, 29, 29, 29, 29, 28, 28, 29, 29, 28], 'Cluster_4': [], 'Cluster_5': [], 'Cluster_6': [6], 'Cluster_7': [1], 'Cluster_8': [], 'Cluster_9': [2], 'Cluster_10': [6], 'Cluster_11': [27, 28], 'Cluster_12': [], 'Cluster_13': [11, 13, 15, 13, 14, 14, 15, 14, 16, 4, 5, 8, 9, 10, 11, 12, 17, 14, 15, 16, 4, 5, 6, 7, 8, 9, 18, 10, 23, 11, 16, 17, 17, 18, 17, 18, 18, 19, 18, 19, 19, 24, 19, 20, 23, 20, 21, 22, 23, 21, 22, 23], 'Cluster_14': [1, 2, 3], 'Cluster_15': [1], 'Cluster_16': [], 'Cluster_17': [1], 'Cluster_18': [1]}\n",
      "logical: [1] \n",
      "\n"
     ]
    },
    {
     "name": "stderr",
     "output_type": "stream",
     "text": [
      "  1%|▏         | 15/1111 [00:29<35:59,  1.97s/it]"
     ]
    },
    {
     "name": "stdout",
     "output_type": "stream",
     "text": [
      "\n",
      "meas_str: 101111011100010111111010001000 01000000000111111100010111000 11000110010101011100101110110 01100110000111111100010001010 11000100000101000000100010110 01100010010111101000010001110 11000110000101001000100010000 01100100011011100000010001110 11000110010111000011100010000 01000010001001101000010001110 11000110010111000111100010010 01000000001001100100010001110 11000110011111000111100010010 01000110010011100100011011110 11000000010011000111100011010 01000100010011100100011010000 11000010010011000111100011010 01000000010011100100010110000 11000000010011000111100101001 11000010010011100101010100000 11001010010011000110100011001 01000110010011101101010000000 01001000010011001010100100000 01000100010001101001010100000 01001110010001001000100100000 01000110010001101100010100000 01000110010001001000100100000 01000110010001101000010100000 01000000010001000100000100000 01000100010001000100000100000 01000010000001001000000100000\n",
      "flipped_qubit_dict {'Cluster_0': [23], 'Cluster_1': [], 'Cluster_2': [], 'Cluster_3': [8, 10, 0, 1, 15, 3, 2, 16, 4, 5, 7, 2, 8, 9, 10, 11, 12, 6, 12, 13, 5, 14, 3, 15, 16, 5, 9, 1, 2, 3, 5, 0, 6, 1, 4, 9, 12], 'Cluster_4': [23, 23, 24, 23], 'Cluster_5': [], 'Cluster_6': [24], 'Cluster_7': [], 'Cluster_8': [29], 'Cluster_9': [1], 'Cluster_10': [5], 'Cluster_11': [23], 'Cluster_12': [6], 'Cluster_13': [], 'Cluster_14': [19], 'Cluster_15': [5, 6, 2], 'Cluster_16': [17], 'Cluster_17': [], 'Cluster_18': [23, 12, 12, 14, 14, 15, 16, 17, 18, 24, 19, 10, 16, 11, 17, 18, 13, 19, 25, 20, 18, 21, 12, 22, 14, 15, 16, 17, 27, 18, 26, 19, 11, 12, 13, 14]}\n",
      "logical: [0] \n",
      "\n",
      "------------ Wrong logical! ------------\n",
      "\n"
     ]
    },
    {
     "name": "stderr",
     "output_type": "stream",
     "text": [
      "  1%|▏         | 16/1111 [00:31<35:58,  1.97s/it]"
     ]
    },
    {
     "name": "stdout",
     "output_type": "stream",
     "text": [
      "\n",
      "meas_str: 111011110111110110011100110110 10110001010100001000000001001 10000001000101101010010100100 01110001000101101000000100001 11100001000101101010010001100 01110001000101101000000100001 11100001000101100010011010100 01110000000101101000001100001 11100000001001101010011010100 01110000000101101000001101101 00100000001001101010011011000 01110000001101101000001110101 00000000000001100010011011000 00110010001101100000001110101 11000100000001101100011010000 00110000001101001000001010001 00000100000001001100011110000 10110011001101101000000000001 01000001000000001100011110001 11010011001100101000000110011 01100011000001001100011110011 11110011000000101000000000011 01100011000001001100011110001 10110011000000101100001101001 00100001000000100000011111001 11110001000001101100001101001 11100001000001101000001111001 01110001000001101100000011001 01100000000001101000001100001 11000000001000101000000011001 01000000000000000000000001000\n",
      "flipped_qubit_dict {'Cluster_0': [], 'Cluster_1': [27, 28, 26], 'Cluster_2': [4, 6, 7, 8, 9, 10, 11, 12, 11, 15, 16, 17, 18, 6, 7, 8, 9, 10, 11, 12, 15, 6, 7, 8, 9, 10, 11, 15, 7, 16, 8, 17, 9, 18, 10, 11, 7, 12, 7, 8, 9, 10, 11, 12, 8, 7, 9, 13, 14, 15, 10, 12, 13, 14, 15, 11, 12, 15, 12, 18, 15], 'Cluster_3': [], 'Cluster_4': [], 'Cluster_5': [4], 'Cluster_6': [5], 'Cluster_7': [], 'Cluster_8': [], 'Cluster_9': [], 'Cluster_10': [], 'Cluster_11': [], 'Cluster_12': [], 'Cluster_13': [6], 'Cluster_14': [5], 'Cluster_15': [], 'Cluster_16': [], 'Cluster_17': [5], 'Cluster_18': [27], 'Cluster_19': [0], 'Cluster_20': [28], 'Cluster_21': [5, 6], 'Cluster_22': [28], 'Cluster_23': [3], 'Cluster_24': [28, 29, 23, 26, 28, 29, 24, 25, 26, 29, 27, 28, 28, 23, 24, 29, 25], 'Cluster_25': [], 'Cluster_26': [4], 'Cluster_27': [3], 'Cluster_28': [3], 'Cluster_29': [18], 'Cluster_30': [], 'Cluster_31': [4], 'Cluster_32': [], 'Cluster_33': [], 'Cluster_34': [27], 'Cluster_35': [28], 'Cluster_36': [21]}\n",
      "logical: [1] \n",
      "\n"
     ]
    },
    {
     "name": "stderr",
     "output_type": "stream",
     "text": [
      "  2%|▏         | 17/1111 [00:33<36:04,  1.98s/it]"
     ]
    },
    {
     "name": "stdout",
     "output_type": "stream",
     "text": [
      "\n",
      "meas_str: 110111011111111111011110000101 01000101010000011001001011001 01100010010000011111000010110 11000110010000011001001010001 11100110010000011111000000010 01000110010000011001001010010 01000000010000011111000110010 11100100010000011001001010010 01000100010000011111001110010 11100010010000010001000010010 01000100010000011111001110000 11000010010000001001000010000 11100100010000001111001110000 11000110010000001001000100000 11000000010000001111001110000 11000010010000001011000100000 11100000000000001110001110000 10100010010000001011000001000 10100010010000001001001110000 10100011010000001000000101011 00100011010000011100001111000 11100010000000011001000110011 00100010000000010101001111000 11000010000000011001000000000 01100000000000010100000011000 11000000000000010001000011000 00000000000000011100000000000 00000000000000001001000000000 11000000000000001011000000000 00000000010000001000000000000 00000000000000001000000000000\n",
      "flipped_qubit_dict {'Cluster_0': [28], 'Cluster_1': [], 'Cluster_2': [28], 'Cluster_3': [4], 'Cluster_4': [28], 'Cluster_5': [4], 'Cluster_6': [27], 'Cluster_7': [4], 'Cluster_8': [], 'Cluster_9': [6], 'Cluster_10': [1], 'Cluster_11': [5], 'Cluster_12': [27], 'Cluster_13': [20, 21, 20, 21, 23], 'Cluster_14': [], 'Cluster_15': [28], 'Cluster_16': [10, 10, 10, 11, 12, 10, 12, 11, 11, 10], 'Cluster_17': [1], 'Cluster_18': [5], 'Cluster_19': [], 'Cluster_20': [], 'Cluster_21': [4, 5], 'Cluster_22': [], 'Cluster_23': [10], 'Cluster_24': [], 'Cluster_25': [5], 'Cluster_26': [], 'Cluster_27': [], 'Cluster_28': [27, 28], 'Cluster_29': [], 'Cluster_30': [], 'Cluster_31': [], 'Cluster_32': [5], 'Cluster_33': [23], 'Cluster_34': [3, 4, 1], 'Cluster_35': [22, 22, 23], 'Cluster_36': [29, 29, 29, 29, 29, 28, 29]}\n",
      "logical: [1] \n",
      "\n"
     ]
    },
    {
     "name": "stderr",
     "output_type": "stream",
     "text": [
      "  2%|▏         | 18/1111 [00:35<35:52,  1.97s/it]"
     ]
    },
    {
     "name": "stdout",
     "output_type": "stream",
     "text": [
      "\n",
      "meas_str: 100100111111111111101010101111 01110101011001110011100111011 11000001011001110000001001010 01110101011000110011000010010 01000001011100110000001101011 00110101010001100011000000010 01000111011101100000000000010 01110101010000100011000000011 01000111011100100000000000011 01110011010001100011001100010 01100101011100100000001000011 00010001011100100011000100011 01100111010001100000001000010 00010111011101100011000100011 01100111010000100000001000011 01110011011100100011001000010 01100101010001100000001000010 00010001011100100011001000010 01101111001100100000000100010 01110010001101100011001000000 01001100000001100000000100000 01000110001101100011001000000 01000010000001000000000100000 01000100001101000110001000000 01000100001101000000000100000 01000000001100000011001100000 11000000001100000000000110000 10000000001100000000001100000 10000000000000000000000000000 10000000000000000000001100000 01000000000000000000000000000\n",
      "flipped_qubit_dict {'Cluster_0': [28], 'Cluster_1': [6], 'Cluster_2': [28], 'Cluster_3': [18], 'Cluster_4': [5], 'Cluster_5': [18], 'Cluster_6': [], 'Cluster_7': [10], 'Cluster_8': [], 'Cluster_9': [5], 'Cluster_10': [], 'Cluster_11': [], 'Cluster_12': [10, 11], 'Cluster_13': [18], 'Cluster_14': [23], 'Cluster_15': [10, 11], 'Cluster_16': [], 'Cluster_17': [25], 'Cluster_18': [], 'Cluster_19': [], 'Cluster_20': [6], 'Cluster_21': [26, 28, 28, 16, 15, 16, 17, 29, 18, 15, 16, 19, 20, 20, 23, 24, 24, 16, 17, 27, 28, 29, 23, 24, 25, 27, 16, 25, 17, 19, 23, 24, 28, 25, 29, 22, 26, 23, 28, 28, 25, 16, 26, 16, 23, 18, 16, 26, 17, 27, 18, 28, 17, 29, 24, 22, 17], 'Cluster_22': [0, 0, 0, 0, 0, 0], 'Cluster_23': [6], 'Cluster_24': [], 'Cluster_25': [], 'Cluster_26': [], 'Cluster_27': [6], 'Cluster_28': [23], 'Cluster_29': [], 'Cluster_30': [4], 'Cluster_31': [6], 'Cluster_32': [23], 'Cluster_33': [], 'Cluster_34': [], 'Cluster_35': [8]}\n",
      "logical: [1] \n",
      "\n"
     ]
    },
    {
     "name": "stderr",
     "output_type": "stream",
     "text": [
      "  2%|▏         | 19/1111 [00:37<35:30,  1.95s/it]"
     ]
    },
    {
     "name": "stdout",
     "output_type": "stream",
     "text": [
      "\n",
      "meas_str: 110111111101110111011100011111 10101111001001011011001110011 11001111010000111101011100011 01100101001000110011001010000 01101001010000101101011000011 11100101001000101111001010001 11001111010000100101011000010 01100101001000101110001100010 01101001110000100100011000010 01100101101000101110001100000 01100111010000100100011000001 01000001011000100010001100001 01100111010000100100011000001 01000001101111000010001100010 01000111010000100100011000010 11000011001111000010001100010 11000001010000100100011000010 11000001001111000010001100010 11000001010000100100011000010 11000011001111000010000000010 11100011010000110100011000010 11000011001110010010000000010 01000000010000110100011000010 11000000011001010010000000000 01100010000000110100011000000 11000010011001010010000000010 01100000010001010000011000010 11000000010001010000000000010 01000010010011010000011000010 11000010010000000000000000010 01000010010001000000011000010\n",
      "flipped_qubit_dict {'Cluster_0': [], 'Cluster_1': [7], 'Cluster_2': [], 'Cluster_3': [], 'Cluster_4': [], 'Cluster_5': [16], 'Cluster_6': [16], 'Cluster_7': [], 'Cluster_8': [11], 'Cluster_9': [19], 'Cluster_10': [], 'Cluster_11': [], 'Cluster_12': [15], 'Cluster_13': [], 'Cluster_14': [], 'Cluster_15': [], 'Cluster_16': [17], 'Cluster_17': [22], 'Cluster_18': [22], 'Cluster_19': [27, 28], 'Cluster_20': [], 'Cluster_21': [], 'Cluster_22': [], 'Cluster_23': [], 'Cluster_24': [6], 'Cluster_25': [23], 'Cluster_26': [], 'Cluster_27': [1], 'Cluster_28': [1], 'Cluster_29': [15], 'Cluster_30': [], 'Cluster_31': [12], 'Cluster_32': [], 'Cluster_33': [], 'Cluster_34': [22, 23, 21, 22, 21, 17, 24], 'Cluster_35': [], 'Cluster_36': [23], 'Cluster_37': [1], 'Cluster_38': [5], 'Cluster_39': [], 'Cluster_40': [23], 'Cluster_41': [], 'Cluster_42': [], 'Cluster_43': [], 'Cluster_44': [24], 'Cluster_45': [1], 'Cluster_46': [12, 15], 'Cluster_47': [28, 27, 27, 28, 27, 29, 29, 29, 28, 27, 29, 28, 29, 28, 29]}\n",
      "logical: [1] \n",
      "\n"
     ]
    },
    {
     "name": "stderr",
     "output_type": "stream",
     "text": [
      "  2%|▏         | 20/1111 [00:39<35:30,  1.95s/it]"
     ]
    },
    {
     "name": "stdout",
     "output_type": "stream",
     "text": [
      "\n",
      "meas_str: 101110011111111110001111111111 11010010000010001101000100111 01010010000010001100000100111 11010110000010001101000100100 01010100000010001110000100111 11010100000010001000000100100 01010110000010000111000100111 11000110000010001000000100100 01100100000010001111001100111 11011000010010000000001100111 01100110000010001111001100100 11011110000010000000001100100 01100000000010001111001100000 11001110000010001010001100000 01101010000010000101001100000 11001010000010000000001100011 01101100000000001100001100011 11001110000000000100000000010 01101000000001001100001100011 11001110000001001100000100001 10100100000001001100001000011 11000110000011001100000100000 01100010000000001100001000001 00100100000000001100000100010 01100010000000000100001000001 01100110000000001000000100010 01100000000000001100001000001 11000000000000000100000100010 11100010000000000000001000000 01100100000000001100000100010 01000010000000000000000000000\n",
      "flipped_qubit_dict {'Cluster_0': [23], 'Cluster_1': [0, 1, 0, 1, 0, 1, 1, 0, 1, 0, 0], 'Cluster_2': [6], 'Cluster_3': [12], 'Cluster_4': [], 'Cluster_5': [], 'Cluster_6': [], 'Cluster_7': [23, 23], 'Cluster_8': [], 'Cluster_9': [12], 'Cluster_10': [27], 'Cluster_11': [16], 'Cluster_12': [], 'Cluster_13': [16], 'Cluster_14': [24], 'Cluster_15': [26, 27, 28, 29, 27, 28, 27, 28, 27, 28, 28, 29, 27, 28, 23, 23, 24, 23, 25, 23, 24], 'Cluster_16': [], 'Cluster_17': [24], 'Cluster_18': [28], 'Cluster_19': [], 'Cluster_20': [], 'Cluster_21': [6], 'Cluster_22': [], 'Cluster_23': [10], 'Cluster_24': [12], 'Cluster_25': [1], 'Cluster_26': [], 'Cluster_27': [23, 23], 'Cluster_28': [25], 'Cluster_29': [], 'Cluster_30': [23], 'Cluster_31': [1], 'Cluster_32': [23], 'Cluster_33': [1], 'Cluster_34': [], 'Cluster_35': [1], 'Cluster_36': [], 'Cluster_37': [], 'Cluster_38': [], 'Cluster_39': [24], 'Cluster_40': [26], 'Cluster_41': [], 'Cluster_42': [], 'Cluster_43': [11, 12], 'Cluster_44': [12], 'Cluster_45': [1]}\n",
      "logical: [1] \n",
      "\n"
     ]
    },
    {
     "name": "stderr",
     "output_type": "stream",
     "text": [
      "  2%|▏         | 21/1111 [00:41<35:29,  1.95s/it]"
     ]
    },
    {
     "name": "stdout",
     "output_type": "stream",
     "text": [
      "\n",
      "meas_str: 100011011110110011111010011101 01100000001001101000011110001 11110000010100111000100100010 11000010001001101000011110001 01100010000100111000100100010 11000000001000000000011110001 11100010010100111000100010010 01100010011000001000011110001 01000010010100111000010100010 11100010011000001000000110010 11100000010100111000010010000 01100000011000000000001010000 01100000010100111000010010000 11100000011000001000001010000 11100000010100111000000010000 01100000011000011000011010011 01100010010100111000000110011 11000010011001111000011110011 11000010010101101000000110000 01000010011001111000010110011 01100000010101101000001000000 01000000010000001000010110010 01100000011001101000001000000 01000000010101111100011110011 00100010011001101000000100000 10000000011000100100011100000 01100000011010001000001000000 11000010011000000100011100000 11100000010000001000001000000 01000000010000010100001100000 01000000010000000000000000000\n",
      "flipped_qubit_dict {'Cluster_0': [], 'Cluster_1': [6], 'Cluster_2': [12, 13, 13], 'Cluster_3': [7], 'Cluster_4': [], 'Cluster_5': [], 'Cluster_6': [], 'Cluster_7': [29, 28, 29, 27, 29, 28, 28, 27, 29, 28, 28, 29, 28, 28, 29, 28, 29, 29, 27, 29, 28, 29], 'Cluster_8': [6], 'Cluster_9': [1], 'Cluster_10': [5], 'Cluster_11': [13], 'Cluster_12': [16, 16, 18], 'Cluster_13': [], 'Cluster_14': [0, 0], 'Cluster_15': [], 'Cluster_16': [], 'Cluster_17': [], 'Cluster_18': [5], 'Cluster_19': [], 'Cluster_20': [1], 'Cluster_21': [], 'Cluster_22': [], 'Cluster_23': [], 'Cluster_24': [], 'Cluster_25': [1], 'Cluster_26': [1], 'Cluster_27': [], 'Cluster_28': [14, 15, 14, 12, 13, 14, 15], 'Cluster_29': [], 'Cluster_30': [], 'Cluster_31': [], 'Cluster_32': [6], 'Cluster_33': [], 'Cluster_34': [5], 'Cluster_35': [1], 'Cluster_36': [7], 'Cluster_37': [5], 'Cluster_38': [8], 'Cluster_39': [], 'Cluster_40': [], 'Cluster_41': [5], 'Cluster_42': [], 'Cluster_43': [15], 'Cluster_44': [], 'Cluster_45': [26], 'Cluster_46': [], 'Cluster_47': [], 'Cluster_48': [23]}\n",
      "logical: [1] \n",
      "\n"
     ]
    },
    {
     "name": "stderr",
     "output_type": "stream",
     "text": [
      "  2%|▏         | 22/1111 [00:43<35:25,  1.95s/it]"
     ]
    },
    {
     "name": "stdout",
     "output_type": "stream",
     "text": [
      "\n",
      "meas_str: 111001111111100001111011001101 01101000001100101010010011100 01000000001110101010100110011 11001000001101101010010011110 11100000001110001010100110011 01001000000001101010010101101 01100000001110001010000110011 01001000001101101100000111101 01100010001101101100001111001 01001010001100001100000111101 01100010000010101100001111001 01001010001111101000001100101 01110000000010100100000111001 01000000001111101100001001101 01010000000010101100000111001 01000000001111101100001110111 01010000001110100100000110001 01000010001111110000001111111 01010010000011111000000000001 01100010001110011000001111111 00110010000011111000000000011 01111010001111100000001111011 00110010000011100000000000001 11011000001100101000001111001 01100000000010001000000000001 11110000001100100000001111001 01100000001100101000000110001 10010000001101001000001111011 01100000000001001000000000011 11010000001101001100001100000 00000000000001001100000000000\n",
      "flipped_qubit_dict {'Cluster_0': [12], 'Cluster_1': [], 'Cluster_2': [6], 'Cluster_3': [18], 'Cluster_4': [26], 'Cluster_5': [28], 'Cluster_6': [1], 'Cluster_7': [], 'Cluster_8': [1], 'Cluster_9': [4], 'Cluster_10': [], 'Cluster_11': [5], 'Cluster_12': [18], 'Cluster_13': [27], 'Cluster_14': [5], 'Cluster_15': [], 'Cluster_16': [25, 26, 28, 26], 'Cluster_17': [2], 'Cluster_18': [18, 2, 3, 7, 8, 9, 11, 12, 13, 15, 16, 18, 10, 11, 13, 14, 6, 7, 11, 13, 14, 18, 5, 6, 7, 8, 12, 14, 15, 6, 7, 8, 14, 9, 15, 16, 17, 10, 11, 12, 14, 15, 16, 17], 'Cluster_19': [5], 'Cluster_20': [], 'Cluster_21': [5], 'Cluster_22': [27, 25, 26, 25, 26, 28, 29, 28, 29], 'Cluster_23': [], 'Cluster_24': [5, 2, 4, 3], 'Cluster_25': [4], 'Cluster_26': [], 'Cluster_27': [], 'Cluster_28': [1], 'Cluster_29': [5], 'Cluster_30': [18], 'Cluster_31': [15], 'Cluster_32': [], 'Cluster_33': [], 'Cluster_34': [2]}\n",
      "logical: [1] \n",
      "\n"
     ]
    },
    {
     "name": "stderr",
     "output_type": "stream",
     "text": [
      "  2%|▏         | 23/1111 [00:45<35:47,  1.97s/it]"
     ]
    },
    {
     "name": "stdout",
     "output_type": "stream",
     "text": [
      "\n",
      "meas_str: 101110111101111110101110101111 01111011100010110001000111010 11000111111010111110001100010 01111111100010111001001011010 11011011111010111110000100010 01110011100010111011001011010 11010101111010111111000100010 01110111100010111011001011010 00010011111010110111000010010 00110111100010111011001001010 00011011111010110111000000010 00101011100010111011001001010 01111101111010111100000000010 00100011100011010011001111010 10111111111010111100000110010 01100101100011001011001001010 11111000001010101100000101010 10000111101011001011001001010 10111010001010101100000101010 01000111100011001000001001000 01111010000010101100000101000 01100110000011001000001001000 11010010000010101000000101000 11100010000010101000001001000 10010000000010001000100101000 01000000010010001000101001000 01000010010010001000100100000 01000000010010001000101000000 01000000010010000000000100000 01000010000010000000001000000 00000010000010000000000000000\n",
      "flipped_qubit_dict {'Cluster_0': [], 'Cluster_1': [], 'Cluster_2': [6], 'Cluster_3': [], 'Cluster_4': [], 'Cluster_5': [], 'Cluster_6': [], 'Cluster_7': [], 'Cluster_8': [24], 'Cluster_9': [28, 26, 27, 28, 27], 'Cluster_10': [], 'Cluster_11': [15], 'Cluster_12': [27], 'Cluster_13': [21], 'Cluster_14': [], 'Cluster_15': [4], 'Cluster_16': [15, 12, 10], 'Cluster_17': [24, 25, 26, 24, 25, 25, 26, 26, 27, 27, 28, 23, 29, 23, 24, 27, 24, 25, 28, 23, 28, 19, 29, 24, 23, 24, 21], 'Cluster_18': [5], 'Cluster_19': [5], 'Cluster_20': [5], 'Cluster_21': [10], 'Cluster_22': [], 'Cluster_23': [5], 'Cluster_24': [], 'Cluster_25': [], 'Cluster_26': [10]}\n",
      "logical: [1] \n",
      "\n"
     ]
    },
    {
     "name": "stderr",
     "output_type": "stream",
     "text": [
      "  2%|▏         | 24/1111 [00:47<35:31,  1.96s/it]"
     ]
    },
    {
     "name": "stdout",
     "output_type": "stream",
     "text": [
      "\n",
      "meas_str: 111110111110011110101111110010 01100110001011111011011101010 01101010000001111100011100001 01100110001010010011011101010 01101010000001111100011100001 01100000001011111011011101010 01101000000000011100011111001 01100000001011111111011100010 01100110000000011100011100110 01000110001011111111011100010 01000100000000011100011100110 01000000001001111111010000010 01100110000000011100011100110 01000000001010111011010000010 01000110000001011100011100110 01000010001010111111010000010 01000100100000111100011100111 01000010101010111111010000010 01000110100001111100011100100 01000100101010111111011100010 01000110101001001100010110101 01000100100010001100011010010 01000000101000001100010110100 01000110100010000100011010010 01000110101000001000010000000 01000110000010001100011010000 01000110001000001000010100000 01000110001111001000011101000 01000110000111000100010001000 01000110000010000100010001000 01000000000011001000010001000\n",
      "flipped_qubit_dict {'Cluster_0': [], 'Cluster_1': [], 'Cluster_2': [], 'Cluster_3': [17], 'Cluster_4': [23], 'Cluster_5': [23], 'Cluster_6': [18], 'Cluster_7': [], 'Cluster_8': [18], 'Cluster_9': [6, 4, 5, 4], 'Cluster_10': [18], 'Cluster_11': [], 'Cluster_12': [2], 'Cluster_13': [5], 'Cluster_14': [], 'Cluster_15': [6], 'Cluster_16': [10], 'Cluster_17': [], 'Cluster_18': [], 'Cluster_19': [6], 'Cluster_20': [23, 23, 23], 'Cluster_21': [12, 16, 12, 16, 15], 'Cluster_22': [], 'Cluster_23': [], 'Cluster_24': [], 'Cluster_25': [6], 'Cluster_26': [23], 'Cluster_27': [], 'Cluster_28': [1, 2, 3, 0, 0, 4, 2, 4, 0, 1], 'Cluster_29': [24], 'Cluster_30': [15], 'Cluster_31': [12], 'Cluster_32': [15], 'Cluster_33': [], 'Cluster_34': [15]}\n",
      "logical: [1] \n",
      "\n"
     ]
    },
    {
     "name": "stderr",
     "output_type": "stream",
     "text": [
      "  2%|▏         | 25/1111 [00:49<36:04,  1.99s/it]"
     ]
    },
    {
     "name": "stdout",
     "output_type": "stream",
     "text": [
      "\n",
      "meas_str: 110100111101110111111111111101 11111100010000100101000001011 11001010111000001101000000000 11111110110001001101000001011 11001010001000101001000101011 11111110100001010001001111011 11001010111000101001000101011 11011100100000100001000010011 11100000011001100001100100011 11011100010001100001100010000 11100100111000100001100100000 11011000111000100001000010000 11011100111001100001110100011 11000010011001000101001001100 01011100001001000001111110010 11000100000001000001001001110 11000010110001000001111111010 01000100100000000001101110110 00000010010000000001011111010 11000100000000000001101110110 00000100000000000001111111010 11000100100000000001101111100 00000110000000000001111001010 11000100000000000001101111110 11000011010000000001111110010 11000101110000000001101000010 11000110000000010001111110011 01000000010000010001100010001 00000100110000010001110010011 00000100010000010000100000000 00100110000000000000000000000\n",
      "flipped_qubit_dict {'Cluster_0': [], 'Cluster_1': [], 'Cluster_2': [], 'Cluster_3': [], 'Cluster_4': [0, 1, 2, 3, 4, 4, 5, 5, 3, 6, 6, 7, 8, 5, 1, 0, 1, 0, 5, 6, 7, 9, 3, 0, 5, 6, 7, 8, 9, 3, 4, 6], 'Cluster_5': [], 'Cluster_6': [5], 'Cluster_7': [20, 21, 22, 21, 22, 22, 23, 22], 'Cluster_8': [28], 'Cluster_9': [2, 4, 6, 8, 7], 'Cluster_10': [], 'Cluster_11': [], 'Cluster_12': [5], 'Cluster_13': [], 'Cluster_14': [], 'Cluster_15': [], 'Cluster_16': [], 'Cluster_17': [], 'Cluster_18': [1], 'Cluster_19': [8], 'Cluster_20': [], 'Cluster_21': [1], 'Cluster_22': [1], 'Cluster_23': [], 'Cluster_24': [], 'Cluster_25': [], 'Cluster_26': [13], 'Cluster_27': [29, 23, 24, 24, 25, 29, 26, 28, 26, 29, 20, 28, 21, 29, 19, 26, 23, 24, 21, 25, 20, 21, 24, 22, 23, 27, 27, 25, 28, 29, 28, 29, 29, 20, 20, 21, 22, 22, 23, 24, 24, 25, 26, 28, 29, 20, 22, 23, 24, 25, 26, 26, 27], 'Cluster_28': [6], 'Cluster_29': [15], 'Cluster_30': [20], 'Cluster_31': [5, 6], 'Cluster_32': [], 'Cluster_33': [13], 'Cluster_34': [], 'Cluster_35': [1], 'Cluster_36': [], 'Cluster_37': [], 'Cluster_38': [], 'Cluster_39': [], 'Cluster_40': [], 'Cluster_41': [], 'Cluster_42': [20]}\n",
      "logical: [1] \n",
      "\n"
     ]
    },
    {
     "name": "stderr",
     "output_type": "stream",
     "text": [
      "  2%|▏         | 26/1111 [00:51<36:04,  1.99s/it]"
     ]
    },
    {
     "name": "stdout",
     "output_type": "stream",
     "text": [
      "\n",
      "meas_str: 111111111111100111011111010101 01110001010010011101110101111 01110001100000111011010010000 01100001000010011101100100011 01100011110001101111010010011 01100101010011001001100101011 01000011110000001011011100001 01000101010011001001100101011 01100011100000001011111010011 01000111000011001001000110000 01100000010000001011111100011 01000110010000000001000110000 01000110110000001011111100000 01000100110000010100000110000 01000010110000011001111100000 01000100100000011000000110000 01000100010000011001111100000 01100100100000001000000110000 01000001110000001001011100000 01000111110000001000010110010 01000001000000001011011010010 01000101000000001010010110010 01100101010000001011011100010 01000101000000001110011110010 01100111110000000011010011010 01000011000000000110000011010 01000100110000000011000000000 01000010010000000110001100000 01000000000000000011000000000 01000000010000000110001100000 01000000010000000011000000000\n",
      "flipped_qubit_dict {'Cluster_0': [10], 'Cluster_1': [], 'Cluster_2': [23], 'Cluster_3': [20], 'Cluster_4': [23], 'Cluster_5': [], 'Cluster_6': [20, 21, 22, 6, 8, 11, 11, 12, 13, 14, 15, 16, 17, 18, 19, 9, 10, 11, 12, 13, 14, 15, 16, 17, 18, 19, 21, 0, 1, 8, 4, 11, 12, 6, 13, 11, 12, 1, 13, 3, 5, 6, 7, 1, 19, 20, 3, 12, 6, 8, 9, 10, 19, 11, 12, 1, 2, 0, 1, 0, 6, 2, 3, 4, 1, 2, 3, 1, 13, 14, 15, 16, 17, 18, 19, 20, 3, 4, 5, 6, 12, 13, 14, 15, 16, 17, 18, 19, 20, 4, 5, 20, 21, 22, 23, 5, 8, 9, 10], 'Cluster_7': [], 'Cluster_8': [23], 'Cluster_9': [21], 'Cluster_10': [], 'Cluster_11': [10, 12], 'Cluster_12': [1], 'Cluster_13': [16], 'Cluster_14': [], 'Cluster_15': [5], 'Cluster_16': [21], 'Cluster_17': [], 'Cluster_18': [4], 'Cluster_19': [5], 'Cluster_20': [23, 21, 22, 24, 21, 23, 25, 26, 27, 27, 27, 27, 28, 29, 27, 28, 29, 28, 29], 'Cluster_21': [6], 'Cluster_22': [23, 13, 16, 17, 18, 19, 23, 24, 25, 15, 20, 21, 22, 23, 24, 20, 12, 25, 14, 15, 20, 21, 22], 'Cluster_23': [3], 'Cluster_24': [8]}\n",
      "logical: [0] \n",
      "\n",
      "------------ Wrong logical! ------------\n",
      "\n"
     ]
    },
    {
     "name": "stderr",
     "output_type": "stream",
     "text": [
      "  2%|▏         | 27/1111 [00:53<36:01,  1.99s/it]"
     ]
    },
    {
     "name": "stdout",
     "output_type": "stream",
     "text": [
      "\n",
      "meas_str: 110111101110111100101111001101 01101101011111011110000111010 01001110010011000001000010010 01101101011111011110001011001 01001110010011001011000011010 01100001010011010100001100001 01001110000011000011000011010 01100001000011011100001111001 01001110010011001011000000010 01100100010011011100001111001 01001000010011001111000001010 01001100010010011100000010010 01101010010001000011000001010 01100000010010010100000010010 01001010010001001011000001010 01100100010010011000000010010 01001000000001000111000001010 01000100010001011000000010010 01001110010001000111001101010 01000000010001011100000010000 01001100010001001111001101000 01000110010000011100000010000 01001011010000000111000001000 01000101010000011100001110001 01001001010000000111000001000 01000101010000001100001110000 01000010000000000011000001000 01000100000000000000000000000 01000100000000000011000000000 01000010000000000000000000000 01000010000000000011000000000\n",
      "flipped_qubit_dict {'Cluster_0': [10], 'Cluster_1': [], 'Cluster_2': [], 'Cluster_3': [23], 'Cluster_4': [23], 'Cluster_5': [4], 'Cluster_6': [23], 'Cluster_7': [6], 'Cluster_8': [], 'Cluster_9': [24, 23], 'Cluster_10': [0, 0], 'Cluster_11': [], 'Cluster_12': [6], 'Cluster_13': [], 'Cluster_14': [6], 'Cluster_15': [23], 'Cluster_16': [23], 'Cluster_17': [], 'Cluster_18': [6], 'Cluster_19': [23, 29, 27, 23, 28, 29, 28], 'Cluster_20': [], 'Cluster_21': [23], 'Cluster_22': [24], 'Cluster_23': [], 'Cluster_24': [1], 'Cluster_25': [], 'Cluster_26': [6], 'Cluster_27': [16], 'Cluster_28': [23, 24], 'Cluster_29': [], 'Cluster_30': [22], 'Cluster_31': [4], 'Cluster_32': [4], 'Cluster_33': [], 'Cluster_34': [], 'Cluster_35': [5], 'Cluster_36': [18], 'Cluster_37': [24], 'Cluster_38': [1], 'Cluster_39': [6], 'Cluster_40': [1], 'Cluster_41': [12, 12, 11, 13, 12, 14, 14, 15, 15, 16, 11]}\n",
      "logical: [1] \n",
      "\n"
     ]
    },
    {
     "name": "stderr",
     "output_type": "stream",
     "text": [
      "  3%|▎         | 28/1111 [00:55<36:48,  2.04s/it]"
     ]
    },
    {
     "name": "stdout",
     "output_type": "stream",
     "text": [
      "\n",
      "meas_str: 101001111110010111111111110001 01001000100011101100101011001 11101000101001001100101010000 01001000101111100000100011001 01111000101001001100100100000 00111000101111100000100011001 00011000101001001100100110000 11111010101111100000100001001 01111000100101010100100110000 11111000101111111000100001001 01111010100101010100100111010 11111100101111110100100111001 01011010100101010100100110010 01011110100011111100100110001 01011000100101011100100110011 01011100100011111100100110011 01010100100101011100101001001 11011110100011111100000110001 01111110110101011100111111011 11001110110011111100000100000 01111010110101011100111100000 10101100010011110001000110000 00100000010101010001111100000 11100010010011110001000000000 00100010010101010001111100000 11100010000011110001000000000 01000010000101110000010000000 11100010000011010001000000000 01000010000001110000010000000 10000000000001010000000000000 01000010000001010000000000000\n",
      "flipped_qubit_dict {'Cluster_0': [27, 28, 14, 16, 14, 14, 17, 15, 16, 19, 17, 20, 23, 16, 17, 18, 18, 19, 15, 18, 20, 21, 18, 19, 20, 24, 27, 15, 15, 28, 29, 19, 20, 21, 16, 21, 19, 22, 21, 22, 25, 20, 26, 27, 22, 23, 29, 5, 6, 7, 21, 22, 17, 23, 20, 25, 22, 27, 23, 23, 24, 27, 28, 29, 23, 6, 24, 7, 8, 8, 26, 23, 12, 24, 13, 13, 25, 26, 27, 16, 29, 17, 18, 24, 19, 19, 21, 28, 29, 22, 23, 23, 24, 23, 23, 29, 28, 28, 23, 12, 13, 13, 14, 13, 15, 13, 16, 18, 19], 'Cluster_1': [28], 'Cluster_2': [8, 9], 'Cluster_3': [], 'Cluster_4': [27], 'Cluster_5': [6], 'Cluster_6': [9], 'Cluster_7': [27], 'Cluster_8': [], 'Cluster_9': [], 'Cluster_10': [12], 'Cluster_11': [], 'Cluster_12': [12], 'Cluster_13': [0, 1, 2, 3, 4, 5, 0, 2, 3, 4, 0, 4, 5, 0], 'Cluster_14': [], 'Cluster_15': [8], 'Cluster_16': [], 'Cluster_17': [4], 'Cluster_18': [6], 'Cluster_19': [], 'Cluster_20': [], 'Cluster_21': [18], 'Cluster_22': [], 'Cluster_23': [5], 'Cluster_24': [2, 3], 'Cluster_25': []}\n",
      "logical: [1] \n",
      "\n"
     ]
    },
    {
     "name": "stderr",
     "output_type": "stream",
     "text": [
      "  3%|▎         | 29/1111 [00:57<36:53,  2.05s/it]"
     ]
    },
    {
     "name": "stdout",
     "output_type": "stream",
     "text": [
      "\n",
      "meas_str: 100110011110110110101011101101 01011101101001000001111000001 11111101100101101100001011010 11011011101001001000111011011 01011011100101001100001111011 01111101101001001100011111011 01011001100101001100011010001 11011001111001001000011011001 11111011110101001100011011001 01011001111001101000011011001 01011100110101001100010011001 11011001011001100000011100001 11111010110101001100010011001 01011101011001101000011100001 01111010110101001000010111001 01001000111001101100010110001 01101100110101001100011111001 01001010111001001000010110001 01101000110101001000111110001 01101110111001001100110010001 01101010110001001100001110001 01101010101101101000100010001 01101110101101001000101110001 01001000010001101000100010010 01101000101101001100100110011 01101110010001101100100000000 01001010101101000000100110000 01001000010001101000100000000 01001100000101001100000110000 01001010001001100100000000000 01001000000101001000000000000\n",
      "flipped_qubit_dict {'Cluster_0': [], 'Cluster_1': [], 'Cluster_2': [13, 18, 20, 14, 21, 22, 23, 18, 20, 21, 22, 22, 23, 13, 26, 14, 15, 16, 17, 18, 19, 26, 20, 21, 22, 23, 18, 20, 22], 'Cluster_3': [5], 'Cluster_4': [], 'Cluster_5': [1], 'Cluster_6': [], 'Cluster_7': [], 'Cluster_8': [], 'Cluster_9': [5, 6], 'Cluster_10': [], 'Cluster_11': [1], 'Cluster_12': [18], 'Cluster_13': [20], 'Cluster_14': [], 'Cluster_15': [18], 'Cluster_16': [], 'Cluster_17': [], 'Cluster_18': [8, 8], 'Cluster_19': [], 'Cluster_20': [23, 24, 25, 26], 'Cluster_21': [5, 4], 'Cluster_22': [], 'Cluster_23': [], 'Cluster_24': [], 'Cluster_25': [23, 21, 21, 20, 21, 23, 20, 21, 24], 'Cluster_26': [], 'Cluster_27': [], 'Cluster_28': [], 'Cluster_29': [], 'Cluster_30': [], 'Cluster_31': [1], 'Cluster_32': [29, 29, 29], 'Cluster_33': [7, 2, 4, 5, 11, 9, 10, 11, 2, 3, 6, 7, 8, 9, 10, 11, 12, 13, 14, 3, 4, 10, 11, 12, 11, 12, 13, 14, 15, 4, 5, 6, 11, 12, 13, 14, 0, 1, 2, 3, 0, 1, 6, 7, 8, 9, 10, 11, 0, 1, 6]}\n",
      "logical: [0] \n",
      "\n",
      "------------ Wrong logical! ------------\n",
      "\n"
     ]
    },
    {
     "name": "stderr",
     "output_type": "stream",
     "text": [
      "  3%|▎         | 30/1111 [00:59<36:13,  2.01s/it]"
     ]
    },
    {
     "name": "stdout",
     "output_type": "stream",
     "text": [
      "\n",
      "meas_str: 100110111111110110011111011100 11100000011000111110001110001 01001100011011011000001001011 11001100011010111110001111011 01100110011011011100001001001 11100100011010111010101111011 11100010011011011000011001011 11100110011010111110100111000 11101100011111011000010010011 11100000011111010000100111011 11101100010011011000010010001 11100000011111010100100111001 01100100011111011000010110001 11100000010011011100100011001 01100110011001011100010110001 11100000001111001000100011001 01100110001001001000010011010 01000100000111100000101111001 01000010000000001000010011010 11000000000111101000101111011 01000000000000001000010011000 11000000000111101000101111011 01000000000000000000010011000 11100010000111101000101111011 01000010000000000000010011000 11100010000111101000101101001 01100010000000001000010000010 11000000000111101000101100001 01100000000001101100010000000 01000010000110001100100011000 00000010000001101000010000000\n",
      "flipped_qubit_dict {'Cluster_0': [8], 'Cluster_1': [], 'Cluster_2': [15], 'Cluster_3': [], 'Cluster_4': [4], 'Cluster_5': [], 'Cluster_6': [17], 'Cluster_7': [], 'Cluster_8': [27, 28], 'Cluster_9': [1], 'Cluster_10': [4], 'Cluster_11': [6], 'Cluster_12': [15], 'Cluster_13': [15], 'Cluster_14': [], 'Cluster_15': [], 'Cluster_16': [], 'Cluster_17': [], 'Cluster_18': [], 'Cluster_19': [], 'Cluster_20': [23], 'Cluster_21': [18, 17], 'Cluster_22': [], 'Cluster_23': [], 'Cluster_24': [6, 4, 5], 'Cluster_25': [15], 'Cluster_26': [], 'Cluster_27': [1], 'Cluster_28': [], 'Cluster_29': [12], 'Cluster_30': [], 'Cluster_31': [18], 'Cluster_32': [18], 'Cluster_33': [23, 24], 'Cluster_34': [], 'Cluster_35': [18], 'Cluster_36': [1], 'Cluster_37': [12, 11], 'Cluster_38': [15], 'Cluster_39': [], 'Cluster_40': [4], 'Cluster_41': [], 'Cluster_42': [1, 0, 1], 'Cluster_43': [], 'Cluster_44': [8], 'Cluster_45': [], 'Cluster_46': [23, 24, 23, 23, 24, 29, 25, 25, 27, 23, 27, 24, 27, 28, 29, 28, 29, 24, 27, 28, 29, 28], 'Cluster_47': [], 'Cluster_48': [], 'Cluster_49': [], 'Cluster_50': [12]}\n",
      "logical: [1] \n",
      "\n"
     ]
    },
    {
     "name": "stderr",
     "output_type": "stream",
     "text": [
      "  3%|▎         | 31/1111 [01:01<36:18,  2.02s/it]"
     ]
    },
    {
     "name": "stdout",
     "output_type": "stream",
     "text": [
      "\n",
      "meas_str: 111011111111100110101110001100 01101000011101101100011001101 01000000011101001111010000111 11001000001100100100011001101 11000000001100101111010001111 01010010001100100100010011010 01001010011100101111010101011 01101110000001100000010011010 01000000001101101111010101011 01101110000000101100010011010 01000000001100101111011001011 01101110010001101100010011010 01000010011101101111011111011 01101100010001101100010000010 01000100011100101111011100010 01101100010000101100010000000 01000000011101101111011100001 01101100010001001100010000000 01000010001101001011011100001 01101100000000000110010000000 01000010001100001010011100000 01001100000000001110110000000 01000110001101001010001100000 01000110000001000010110000000 01000110001100000010001100000 01000010001100001110110000000 01000010001100000010001100000 01000010001100001110110000000 01000000010000000010000000000 01000010001100001101110000000 01000010000000001000000000000\n",
      "flipped_qubit_dict {'Cluster_0': [], 'Cluster_1': [], 'Cluster_2': [8], 'Cluster_3': [10], 'Cluster_4': [12, 13, 13], 'Cluster_5': [18, 18, 19, 19], 'Cluster_6': [10], 'Cluster_7': [6], 'Cluster_8': [], 'Cluster_9': [], 'Cluster_10': [18], 'Cluster_11': [], 'Cluster_12': [23], 'Cluster_13': [8, 12, 12, 12, 10, 11, 12, 12, 11], 'Cluster_14': [25, 26], 'Cluster_15': [0, 0, 4, 4, 1, 0, 1], 'Cluster_16': [], 'Cluster_17': [], 'Cluster_18': [], 'Cluster_19': [], 'Cluster_20': [23], 'Cluster_21': [], 'Cluster_22': [23], 'Cluster_23': [], 'Cluster_24': [5], 'Cluster_25': [], 'Cluster_26': [], 'Cluster_27': [6], 'Cluster_28': [], 'Cluster_29': [], 'Cluster_30': [12], 'Cluster_31': [18], 'Cluster_32': [23, 24, 26, 24, 25, 26], 'Cluster_33': [6], 'Cluster_34': [], 'Cluster_35': [], 'Cluster_36': [1], 'Cluster_37': [3], 'Cluster_38': [3, 4], 'Cluster_39': [15], 'Cluster_40': [], 'Cluster_41': [16]}\n",
      "logical: [1] \n",
      "\n"
     ]
    },
    {
     "name": "stderr",
     "output_type": "stream",
     "text": [
      "  3%|▎         | 32/1111 [01:03<36:24,  2.02s/it]"
     ]
    },
    {
     "name": "stdout",
     "output_type": "stream",
     "text": [
      "\n",
      "meas_str: 111111011111110110101100001111 01100000010001111100000011001 01100010010001001011010011000 01100000010001111100000001001 01000000010001001111001011011 01000000010001101000000000010 01000000010001011111001001011 01000000010001111100000000011 01000000010001001111001001011 01100000010001101101000000000 01100000000001001011001001000 01000000000001101001000001000 01100000000001011111001000100 01100000000001111101010001111 01100000000001011011011000110 01100000000001101001010001111 01100000000001101110011000111 01100000000001110000010010100 01100000000001111010010100111 01000000000001111000010010100 01000000000001100110010100111 01000000000001100000010010100 01000000000001001110010110100 01000000000001000100010100000 01000000000001000110010111000 01000000000001000100010100000 11000000000001000010010100000 01000000000001000100000000000 00000000000000000010000000000 00000100000000000000001100000 00000000000000000000000000000\n",
      "flipped_qubit_dict {'Cluster_0': [6], 'Cluster_1': [11], 'Cluster_2': [6], 'Cluster_3': [], 'Cluster_4': [], 'Cluster_5': [], 'Cluster_6': [], 'Cluster_7': [29, 29, 28, 28], 'Cluster_8': [4], 'Cluster_9': [], 'Cluster_10': [12], 'Cluster_11': [4, 5], 'Cluster_12': [12], 'Cluster_13': [], 'Cluster_14': [1], 'Cluster_15': [13], 'Cluster_16': [], 'Cluster_17': [6], 'Cluster_18': [1, 4], 'Cluster_19': [14, 13, 10, 11, 12, 13, 10, 11], 'Cluster_20': [], 'Cluster_21': [], 'Cluster_22': [], 'Cluster_23': [], 'Cluster_24': [], 'Cluster_25': [1], 'Cluster_26': [1], 'Cluster_27': [14, 15, 10, 11, 13], 'Cluster_28': [0, 0], 'Cluster_29': [1], 'Cluster_30': [4], 'Cluster_31': [], 'Cluster_32': [], 'Cluster_33': [1], 'Cluster_34': [7], 'Cluster_35': [4], 'Cluster_36': [23]}\n",
      "logical: [1] \n",
      "\n"
     ]
    },
    {
     "name": "stderr",
     "output_type": "stream",
     "text": [
      "  3%|▎         | 33/1111 [01:05<36:18,  2.02s/it]"
     ]
    },
    {
     "name": "stdout",
     "output_type": "stream",
     "text": [
      "\n",
      "meas_str: 010111111101111111111101011110 01000010011011000010000110011 11100000000011000010011000010 01000000011001000010000110011 11100000000011000010011111001 01000000011010100010000001011 11100000001011000010011111011 01000000010010100010000111001 11100000001011000010011111000 01000000010010100010000001001 11100010001011010010011111000 01000000010011110010000001001 11100000001011110010011111000 11000000010010010010000111001 11100010001011110010011111000 11000000010010010010000111001 11000000001011110010011001000 11000000010011110010000111001 11000000010010010010000011000 11000000010011110010001110001 11000010010011100010000100000 11000010010011000010001110010 01000000010011000010000010000 11000000010001100010001110010 11000000010000010110000100000 01000010000001110000001110011 01000010000001010110000010000 01000000000001110000001111011 01000000000001010000000011000 01000000000001110000000011011 01000000000001000000000010000\n",
      "flipped_qubit_dict {'Cluster_0': [], 'Cluster_1': [], 'Cluster_2': [1], 'Cluster_3': [], 'Cluster_4': [6], 'Cluster_5': [], 'Cluster_6': [11], 'Cluster_7': [], 'Cluster_8': [5], 'Cluster_9': [], 'Cluster_10': [], 'Cluster_11': [0], 'Cluster_12': [11], 'Cluster_13': [5], 'Cluster_14': [14, 14], 'Cluster_15': [], 'Cluster_16': [5], 'Cluster_17': [29, 27, 29, 28, 29, 28, 29, 29, 29, 29], 'Cluster_18': [1], 'Cluster_19': [], 'Cluster_20': [], 'Cluster_21': [4], 'Cluster_22': [6], 'Cluster_23': [15], 'Cluster_24': [4], 'Cluster_25': [7], 'Cluster_26': [15], 'Cluster_27': [19], 'Cluster_28': [15], 'Cluster_29': [5], 'Cluster_30': [], 'Cluster_31': [5], 'Cluster_32': [15], 'Cluster_33': [15], 'Cluster_34': [], 'Cluster_35': [], 'Cluster_36': [5], 'Cluster_37': [1], 'Cluster_38': [], 'Cluster_39': [5], 'Cluster_40': [], 'Cluster_41': [], 'Cluster_42': [5], 'Cluster_43': [16], 'Cluster_44': [1], 'Cluster_45': [5], 'Cluster_46': [15, 16], 'Cluster_47': []}\n",
      "logical: [1] \n",
      "\n"
     ]
    },
    {
     "name": "stderr",
     "output_type": "stream",
     "text": [
      "  3%|▎         | 34/1111 [01:07<36:03,  2.01s/it]"
     ]
    },
    {
     "name": "stdout",
     "output_type": "stream",
     "text": [
      "\n",
      "meas_str: 011010111111110110111010101111 11101100010001001011111000000 11110010010000100111000111000 10101110010001001011111011000 01110100011000100111000111000 01000100011001001011111011000 11110100011000100111000001000 01110110001000101001111011000 10100000011000100100100001000 01000110001001101000010000000 11100010001000000100101001000 01100100001001101000010000000 11100100000000001100100101000 11100110000001100000010001000 11100000000000000000100101000 01100110000001100000010000000 01100110000000000000100101000 11100110000001100000010000000 11100000000000010000100101000 01100110000001110000010000000 01100010000001010000000101000 11100000000000110000000000000 11100000000001000000000101000 01100000000001000000000000000 01000000000000000000000101000 01100000000000000000000001000 01000010000000000000000100000 01100010000000000000000001000 01000010000000000000000101010 01000010000000000000000000010 01000000000000000000000000000\n",
      "flipped_qubit_dict {'Cluster_0': [], 'Cluster_1': [], 'Cluster_2': [4, 5], 'Cluster_3': [], 'Cluster_4': [], 'Cluster_5': [], 'Cluster_6': [], 'Cluster_7': [], 'Cluster_8': [15], 'Cluster_9': [23], 'Cluster_10': [8], 'Cluster_11': [], 'Cluster_12': [], 'Cluster_13': [], 'Cluster_14': [23], 'Cluster_15': [23], 'Cluster_16': [], 'Cluster_17': [12], 'Cluster_18': [], 'Cluster_19': [], 'Cluster_20': [6], 'Cluster_21': [23, 23], 'Cluster_22': [], 'Cluster_23': [27], 'Cluster_24': [], 'Cluster_25': [15], 'Cluster_26': [], 'Cluster_27': [4], 'Cluster_28': [9], 'Cluster_29': [], 'Cluster_30': [27], 'Cluster_31': [9], 'Cluster_32': [], 'Cluster_33': [15], 'Cluster_34': [23], 'Cluster_35': [26], 'Cluster_36': [5], 'Cluster_37': [], 'Cluster_38': [29, 23, 29, 23, 24, 25, 29, 25, 27, 26, 28, 29, 26, 27, 28, 28, 29, 29, 27, 29, 28, 29, 29, 29, 29, 29, 29], 'Cluster_39': [27], 'Cluster_40': [4], 'Cluster_41': []}\n",
      "logical: [1] \n",
      "\n"
     ]
    },
    {
     "name": "stderr",
     "output_type": "stream",
     "text": [
      "  3%|▎         | 35/1111 [01:09<35:51,  2.00s/it]"
     ]
    },
    {
     "name": "stdout",
     "output_type": "stream",
     "text": [
      "\n",
      "meas_str: 101101011111100111001100001111 11110100000101000000111011011 01001010000111100101100010011 11010100000101000000111011000 01001000000111100101110010011 11010110000100100010111011011 01001110000110001000110010011 11110010000100100010111011011 01001010000010001000110110011 11110000010000100010111111011 01001000000010001000110000011 11110000000001100010111111011 11001000000010101000110000011 11110000000001100010111111011 01101000010100101000110000011 11010000000001100010110001011 01101000010100101000010110010 11010000000000000010100101011 01101000000100101100001110010 11010000000001000000100101010 00101000000101100000001110000 11110000000001100000100101000 01001000000101000000001110000 11010000000001100000100101000 00001000000101000000001111000 11000000000000000000010100000 01000000000101000000001111000 00000000000000000000010100000 01000000000010000000001100000 11000000000001000000010000000 00000010000011000000001000000\n",
      "flipped_qubit_dict {'Cluster_0': [7], 'Cluster_1': [16], 'Cluster_2': [], 'Cluster_3': [], 'Cluster_4': [], 'Cluster_5': [], 'Cluster_6': [4], 'Cluster_7': [17], 'Cluster_8': [28], 'Cluster_9': [25], 'Cluster_10': [], 'Cluster_11': [8], 'Cluster_12': [15], 'Cluster_13': [], 'Cluster_14': [27, 27], 'Cluster_15': [], 'Cluster_16': [27], 'Cluster_17': [12], 'Cluster_18': [], 'Cluster_19': [0, 0], 'Cluster_20': [11], 'Cluster_21': [7], 'Cluster_22': [], 'Cluster_23': [8], 'Cluster_24': [15], 'Cluster_25': [], 'Cluster_26': [6], 'Cluster_27': [], 'Cluster_28': [17], 'Cluster_29': [29, 29], 'Cluster_30': [15], 'Cluster_31': [5], 'Cluster_32': [], 'Cluster_33': [], 'Cluster_34': [], 'Cluster_35': [], 'Cluster_36': [], 'Cluster_37': [27], 'Cluster_38': [10], 'Cluster_39': [12], 'Cluster_40': [15], 'Cluster_41': [23], 'Cluster_42': [1], 'Cluster_43': [15], 'Cluster_44': [], 'Cluster_45': [7], 'Cluster_46': [1]}\n",
      "logical: [1] \n",
      "\n"
     ]
    },
    {
     "name": "stderr",
     "output_type": "stream",
     "text": [
      "  3%|▎         | 36/1111 [01:11<35:17,  1.97s/it]"
     ]
    },
    {
     "name": "stdout",
     "output_type": "stream",
     "text": [
      "\n",
      "meas_str: 110111111111111110111100110101 01001001001000000110101001111 01101001001000001010111100000 11001001001001100110011000101 11001001001001101010111100010 01101000001000100110011000111 01001000001001011000111100001 11101000001000000000011000111 11001000001001001000111100001 01101010001000010100011000111 01101010001001001000111100010 11111010000100110100000000111 11101010001001101000111100001 01011010000101000100000000111 01001010001001100000111100001 11011000000101100000000000101 11001010001001010000110000001 01111010000100000000000000111 01001001001010100000110000001 11011011000101100000000000111 11001011001011100000110000010 01101111000100000100000000111 11001001000011000000110000010 01101101000000000000000000111 11001011000000000000110000010 01001101000000000000000000111 11001101000000000000110000010 01001011000000000000000000000 11001111000000000000110000000 00000100000000000000000000000 00000000000000000000110000000\n",
      "flipped_qubit_dict {'Cluster_0': [8], 'Cluster_1': [27, 28, 29, 26, 27, 28, 29, 28, 29, 29, 22, 29, 23, 29, 28, 28, 29, 22, 27, 29, 27, 28, 28, 28, 23, 24, 23, 25, 24, 26, 27, 25], 'Cluster_2': [1, 2], 'Cluster_3': [16], 'Cluster_4': [], 'Cluster_5': [18], 'Cluster_6': [], 'Cluster_7': [], 'Cluster_8': [], 'Cluster_9': [26], 'Cluster_10': [1], 'Cluster_11': [23, 22, 22], 'Cluster_12': [15], 'Cluster_13': [16], 'Cluster_14': [], 'Cluster_15': [], 'Cluster_16': [6], 'Cluster_17': [], 'Cluster_18': [], 'Cluster_19': [14, 15, 13, 15, 12, 13], 'Cluster_20': [], 'Cluster_21': [], 'Cluster_22': [1], 'Cluster_23': [], 'Cluster_24': [7], 'Cluster_25': [18], 'Cluster_26': [26], 'Cluster_27': [1], 'Cluster_28': [], 'Cluster_29': [], 'Cluster_30': [12, 14, 13], 'Cluster_31': [], 'Cluster_32': [], 'Cluster_33': [12, 14, 13, 14, 15], 'Cluster_34': [], 'Cluster_35': [15], 'Cluster_36': [1, 1, 1, 2, 3], 'Cluster_37': [8], 'Cluster_38': [15]}\n",
      "logical: [1] \n",
      "\n"
     ]
    },
    {
     "name": "stderr",
     "output_type": "stream",
     "text": [
      "  3%|▎         | 37/1111 [01:13<35:26,  1.98s/it]"
     ]
    },
    {
     "name": "stdout",
     "output_type": "stream",
     "text": [
      "\n",
      "meas_str: 100110111100111110001001111111 10101010011100101100001010100 01001110001000110101100010100 11001010011100110100001010100 11001000000100110111010010100 01101010011101010100001110100 01001000001000110111011010100 11001010011101000100001110100 01001010001000100111011010100 11101000010000100100001110100 00011010001000100011011010100 10101000010001000100001110100 01011010001000100111011010100 11101000010001000100001110100 01011010001001000111011100100 11101010010001000100001101111 11011000001001000010010001111 01001000010001000100001100111 11011010000101000010011001100 01001010010001000100000100111 11001000000101100010011001100 01001010010001100100000010111 11001000000100110010000001100 01001000010001100100000010111 11001010010100100010000001100 11001000010001110100000000111 10001010001001110010000000111 01001000010000000100000000110 10001010011000010010000000110 01001100000000000100000000110 00001010011000010010000000000\n",
      "flipped_qubit_dict {'Cluster_0': [11], 'Cluster_1': [2], 'Cluster_2': [2], 'Cluster_3': [19, 24, 26, 27, 23, 29, 26, 25, 27, 27, 26, 25, 25, 28, 29], 'Cluster_4': [], 'Cluster_5': [14, 18, 19, 15], 'Cluster_6': [1], 'Cluster_7': [4], 'Cluster_8': [19], 'Cluster_9': [], 'Cluster_10': [], 'Cluster_11': [7], 'Cluster_12': [14, 15], 'Cluster_13': [5], 'Cluster_14': [], 'Cluster_15': [], 'Cluster_16': [1], 'Cluster_17': [18], 'Cluster_18': [], 'Cluster_19': [], 'Cluster_20': [26], 'Cluster_21': [1], 'Cluster_22': [6], 'Cluster_23': [10, 11], 'Cluster_24': [], 'Cluster_25': [1], 'Cluster_26': [4], 'Cluster_27': [5], 'Cluster_28': [15], 'Cluster_29': [], 'Cluster_30': [15], 'Cluster_31': [], 'Cluster_32': [], 'Cluster_33': [15], 'Cluster_34': [18], 'Cluster_35': [], 'Cluster_36': [], 'Cluster_37': [26, 28, 25, 28, 26, 23, 24, 24], 'Cluster_38': [18], 'Cluster_39': [6], 'Cluster_40': [15], 'Cluster_41': [8], 'Cluster_42': [18], 'Cluster_43': [13, 12, 11, 13]}\n",
      "logical: [1] \n",
      "\n"
     ]
    },
    {
     "name": "stderr",
     "output_type": "stream",
     "text": [
      "  3%|▎         | 38/1111 [01:15<35:03,  1.96s/it]"
     ]
    },
    {
     "name": "stdout",
     "output_type": "stream",
     "text": [
      "\n",
      "meas_str: 101110010111010111111101101101 11100000011001110010011001011 01101011111111010010000010000 01100010000100110010000101011 11101001100111010010001010011 01000011000101010010000011011 11101000100111010010001001011 11100011010101010010000011000 01101000110111010010001001011 01000011001101010010000011000 11001000110111000010001001011 11000111001101000010001011000 01101110110111000010000001011 01000101011101000010001000011 11001110110111000010000010011 11100101011101000010001000011 01101100100111000010000110011 01100001001101010010000000011 01101100100111010010000000011 11100001011111010010000000000 01001100110111010010000000011 01000101010111010010000000011 11001010101111010010000000011 11100111000101010100000000000 01000100100110010010000000011 01000001000100010100000000011 11000101000111010010000000000 11100111001100010100000000000 01000001000100000010000000000 01000101000100000000000000000 00000000000100000000000000000\n",
      "flipped_qubit_dict {'Cluster_0': [], 'Cluster_1': [11], 'Cluster_2': [], 'Cluster_3': [16], 'Cluster_4': [1], 'Cluster_5': [1], 'Cluster_6': [], 'Cluster_7': [1], 'Cluster_8': [16], 'Cluster_9': [1], 'Cluster_10': [11], 'Cluster_11': [1], 'Cluster_12': [1], 'Cluster_13': [18, 19, 24, 28, 29, 25, 28, 19, 23, 26, 27, 19, 29, 20, 20, 27, 28, 21, 19, 20, 21, 23, 24, 27, 28, 20, 22, 27, 23, 24, 25, 28, 19, 21, 20, 22, 21, 23, 22, 25, 28, 26, 29, 27, 29, 15, 16, 20, 21, 22, 24, 25, 25, 26, 23, 27, 24, 28, 27, 19, 29, 21, 22, 16, 17, 28, 19, 20, 23, 24, 19, 25, 20, 28, 29, 16, 16, 17, 27, 18, 19, 19, 21, 22, 23, 23, 24, 25, 25, 27, 26, 28, 27, 28, 29, 29, 29, 29, 17], 'Cluster_14': [6], 'Cluster_15': [], 'Cluster_16': [5], 'Cluster_17': [23], 'Cluster_18': [4], 'Cluster_19': [], 'Cluster_20': [1], 'Cluster_21': [4], 'Cluster_22': [], 'Cluster_23': [28, 28], 'Cluster_24': [], 'Cluster_25': [1], 'Cluster_26': [7, 4, 5, 6], 'Cluster_27': [1]}\n",
      "logical: [1] \n",
      "\n"
     ]
    },
    {
     "name": "stderr",
     "output_type": "stream",
     "text": [
      "  4%|▎         | 39/1111 [01:17<34:56,  1.96s/it]"
     ]
    },
    {
     "name": "stdout",
     "output_type": "stream",
     "text": [
      "\n",
      "meas_str: 000100111110111111111100101100 11011000001100110000000001110 11101100000000110000000110100 01010100001100100000010001110 01001100000000100000010110100 11011100001101000000000001110 11101110000000100000001110100 11011100001101000000000111110 01101010000000100000001000100 01011100001101000000000111110 11101000000000100000001000100 11011100000001000000000111000 11101001000000100000001000100 01010001000000000000000111000 01101001000000000000001110100 11010011000000000000000111000 01101011000000000000001110100 01000001000000000000000110000 11100001000000000000001111111 01000001000000000000001011000 01100001000000000000101110111 01000001000000000000101101000 11100001000000000000101110101 01000001000000000000101110010 01100001000000000000101110100 11000001000010000000001110010 11000001000000000000001000100 11000001000000000000001000010 01000000000000000000001001000 11000000000000000000001000010 01000000000000000000001000000\n",
      "flipped_qubit_dict {'Cluster_0': [], 'Cluster_1': [2, 3], 'Cluster_2': [], 'Cluster_3': [3], 'Cluster_4': [5], 'Cluster_5': [5], 'Cluster_6': [], 'Cluster_7': [], 'Cluster_8': [29, 28, 27, 29, 29, 29, 28, 28, 29, 29, 29, 29, 29], 'Cluster_9': [1, 0, 1], 'Cluster_10': [4], 'Cluster_11': [5], 'Cluster_12': [], 'Cluster_13': [], 'Cluster_14': [], 'Cluster_15': [6], 'Cluster_16': [1], 'Cluster_17': [], 'Cluster_18': [], 'Cluster_19': [25], 'Cluster_20': [], 'Cluster_21': [], 'Cluster_22': [5], 'Cluster_23': [15], 'Cluster_24': [], 'Cluster_25': [24], 'Cluster_26': [2], 'Cluster_27': [18], 'Cluster_28': [], 'Cluster_29': [], 'Cluster_30': [5], 'Cluster_31': [23], 'Cluster_32': [5], 'Cluster_33': [7], 'Cluster_34': [], 'Cluster_35': [15], 'Cluster_36': [], 'Cluster_37': [25, 27, 28, 26, 27, 23, 28, 24, 25, 26], 'Cluster_38': [], 'Cluster_39': [24]}\n",
      "logical: [1] \n",
      "\n"
     ]
    },
    {
     "name": "stderr",
     "output_type": "stream",
     "text": [
      "  4%|▎         | 40/1111 [01:19<35:24,  1.98s/it]"
     ]
    },
    {
     "name": "stdout",
     "output_type": "stream",
     "text": [
      "\n",
      "meas_str: 111010111111111010111010000011 11111110000000110001000000101 11000010000000001101111000111 11111110000000110001000000111 11001110000000001101110000101 11111110000000111101001000111 11001110000000001101110000100 11111010000000010001001000101 11000000010000011101110001100 11101010010000010001001000101 11010000000000010101110000100 11101010000010011001001000101 11010000000000010001110000101 10100100010000001001001000100 00110000010000000101110001101 11100110010000001001001001100 10000110000010010101110001101 00100010000000011001001011110 01000100000000010101110001111 11000100000000000101001001010 11000000000000000101000001001 11100010000000000101001100010 11000100000000010101000000001 11100100000000010101001101001 01000010000010010101000000001 00100100000010010101001100001 01000010000010010101000000001 01000000000010010100000000001 01000000000010010100000000001 01000000000000010100000000001 01000010000000010100000000001\n",
      "flipped_qubit_dict {'Cluster_0': [], 'Cluster_1': [], 'Cluster_2': [], 'Cluster_3': [], 'Cluster_4': [], 'Cluster_5': [], 'Cluster_6': [], 'Cluster_7': [23], 'Cluster_8': [6], 'Cluster_9': [27], 'Cluster_10': [], 'Cluster_11': [29, 28, 29, 29, 29], 'Cluster_12': [23, 23, 24, 25, 26, 27], 'Cluster_13': [1], 'Cluster_14': [], 'Cluster_15': [3, 4, 0, 1, 0, 0, 1, 2, 3, 4, 5, 0, 1, 8, 3, 4], 'Cluster_16': [23], 'Cluster_17': [], 'Cluster_18': [12], 'Cluster_19': [], 'Cluster_20': [], 'Cluster_21': [], 'Cluster_22': [], 'Cluster_23': [], 'Cluster_24': [], 'Cluster_25': [], 'Cluster_26': [], 'Cluster_27': [], 'Cluster_28': [], 'Cluster_29': [23, 26, 27, 28, 25, 26, 27], 'Cluster_30': [], 'Cluster_31': [], 'Cluster_32': [], 'Cluster_33': [], 'Cluster_34': [], 'Cluster_35': [], 'Cluster_36': [], 'Cluster_37': [14], 'Cluster_38': [23, 24], 'Cluster_39': [12], 'Cluster_40': [], 'Cluster_41': [12], 'Cluster_42': [], 'Cluster_43': [24]}\n",
      "logical: [1] \n",
      "\n"
     ]
    },
    {
     "name": "stderr",
     "output_type": "stream",
     "text": [
      "  4%|▎         | 41/1111 [01:21<35:09,  1.97s/it]"
     ]
    },
    {
     "name": "stdout",
     "output_type": "stream",
     "text": [
      "\n",
      "meas_str: 100000001111110111000100011110 11111111001010000010001010001 01001110101010100110111000011 01111101101010000000001010001 11001001001011100111111000001 11110001000111000000001001001 01001000001010100111111000001 01110000100111000000001010000 11101001001010100111111000010 11110001010111000000001010000 11101001001011000110011000000 11111001000111000000001010010 11100000001011000110011110000 11100000000101000000000010010 01100000001000000110010110000 11100000000100000000000100010 01100000000000000110000000000 11100000001110000000001100010 01100000000001000110000000000 11100000000011000000001100010 01100000000001100110001100000 11000000000010100000001100010 01100000000001100110001100011 11100000000011100000000000000 10100000000000100110001100011 01100000000011100000000000000 01100000000000100110000000011 01100000010011100000000000000 00100000010001000000000000011 00000000010010000000000001000 00000000000000000000000001000\n",
      "flipped_qubit_dict {'Cluster_0': [], 'Cluster_1': [], 'Cluster_2': [1], 'Cluster_3': [], 'Cluster_4': [16, 15], 'Cluster_5': [11], 'Cluster_6': [15], 'Cluster_7': [], 'Cluster_8': [6], 'Cluster_9': [27, 29, 29, 29, 29, 29, 27, 28, 29, 27, 29, 28, 29, 28], 'Cluster_10': [], 'Cluster_11': [6], 'Cluster_12': [15], 'Cluster_13': [], 'Cluster_14': [6], 'Cluster_15': [15], 'Cluster_16': [18], 'Cluster_17': [16], 'Cluster_18': [7], 'Cluster_19': [], 'Cluster_20': [5], 'Cluster_21': [5], 'Cluster_22': [], 'Cluster_23': [], 'Cluster_24': [], 'Cluster_25': [], 'Cluster_26': [25], 'Cluster_27': [5], 'Cluster_28': [], 'Cluster_29': [23, 22, 24], 'Cluster_30': [9], 'Cluster_31': [15], 'Cluster_32': [0, 0, 1, 0, 1, 4, 1, 1, 1, 1, 0, 0, 1], 'Cluster_33': [], 'Cluster_34': [4], 'Cluster_35': [18], 'Cluster_36': [10], 'Cluster_37': [], 'Cluster_38': [], 'Cluster_39': [26]}\n",
      "logical: [1] \n",
      "\n"
     ]
    },
    {
     "name": "stderr",
     "output_type": "stream",
     "text": [
      "  4%|▍         | 42/1111 [01:23<35:01,  1.97s/it]"
     ]
    },
    {
     "name": "stdout",
     "output_type": "stream",
     "text": [
      "\n",
      "meas_str: 100111011110110110111110001101 11101000001011001100001111000 01001100000111100000000110011 11101100001011001100001001011 01001100000110100000000110001 11101000001011001100001001011 01001100010111010000000110001 11101100000111011100001001001 00001010000111010000000110001 01101110000111011100001111001 01101000000001010000000000001 11101110000111011100001001001 11101110000000010000000000001 11101010000101011000000001001 01001100000001011000001001001 11101110000100011000000001001 11001100000010011000001000001 01101000000100010000000001001 10101100000010010000001000001 01101010000101010000000001001 11000110000010110000001000001 01101100000101010000000001011 00000000000010110000000000011 01100000000101010000001001011 01100000000010110000000000011 11100000000101000000001011011 00100000000010100000000100011 11100000010101000000001011011 01000000010011000000000010000 01100000000001000000000010000 01100000000000000000000010000\n",
      "flipped_qubit_dict {'Cluster_0': [], 'Cluster_1': [], 'Cluster_2': [17], 'Cluster_3': [], 'Cluster_4': [1], 'Cluster_5': [1], 'Cluster_6': [6, 4], 'Cluster_7': [15], 'Cluster_8': [], 'Cluster_9': [27], 'Cluster_10': [], 'Cluster_11': [28], 'Cluster_12': [5], 'Cluster_13': [], 'Cluster_14': [24, 24, 25, 27, 26, 26, 28, 28, 29, 29, 27, 23, 24, 27, 28, 27, 28, 29, 23, 24, 25, 26, 27, 28, 29, 27, 29, 27, 24, 25, 29, 23, 23], 'Cluster_15': [], 'Cluster_16': [15], 'Cluster_17': [], 'Cluster_18': [], 'Cluster_19': [16, 17, 16], 'Cluster_20': [23, 23, 24, 25, 26], 'Cluster_21': [], 'Cluster_22': [], 'Cluster_23': [12], 'Cluster_24': [23], 'Cluster_25': [5], 'Cluster_26': [5], 'Cluster_27': [28], 'Cluster_28': [5], 'Cluster_29': [27], 'Cluster_30': [], 'Cluster_31': [18], 'Cluster_32': [15], 'Cluster_33': [23, 23], 'Cluster_34': [0, 0, 1, 1, 1], 'Cluster_35': [5], 'Cluster_36': []}\n",
      "logical: [1] \n",
      "\n"
     ]
    },
    {
     "name": "stderr",
     "output_type": "stream",
     "text": [
      "  4%|▍         | 43/1111 [01:25<35:31,  2.00s/it]"
     ]
    },
    {
     "name": "stdout",
     "output_type": "stream",
     "text": [
      "\n",
      "meas_str: 110101001111011111111111111101 11011011010010111100000110001 10101110010100101111000110010 11011111010011101100000000001 01101010010100101111001010100 10111011010011100000000000011 01101011010101101111001010110 10111010010010100000000000011 01101011010100101111001010101 10111110010011100000000000010 01101100010101101111001010001 10111010010010100000000000111 01101101000100101111001010001 01111110000011100000000000111 11101101000100101111001010001 11101000000011100000000000101 11101101000101101111001010011 01101000000010100000000001111 01101101000100001100001101001 11001110000001001100000001101 01101011000110001100001101011 11001010000100001100001101111 01001010000010001100001101000 11001010000000000000001100111 01001110000000000000001101000 11001100010000001000001101101 01001000010000000000001101000 11001010000000001000001101011 00001010000000000000001000000 00001010000000001100001000000 00001010000000000000001000000\n",
      "flipped_qubit_dict {'Cluster_0': [], 'Cluster_1': [], 'Cluster_2': [], 'Cluster_3': [1], 'Cluster_4': [], 'Cluster_5': [], 'Cluster_6': [29, 28, 28, 29, 29, 29], 'Cluster_7': [], 'Cluster_8': [], 'Cluster_9': [], 'Cluster_10': [], 'Cluster_11': [], 'Cluster_12': [], 'Cluster_13': [1, 2, 2, 3, 0, 1, 2, 3, 1, 0, 1, 6, 1, 2, 0, 1, 2, 0], 'Cluster_14': [22, 23, 23], 'Cluster_15': [23], 'Cluster_16': [], 'Cluster_17': [], 'Cluster_18': [], 'Cluster_19': [5], 'Cluster_20': [12, 14, 15, 10, 10, 17, 14, 15, 12], 'Cluster_21': [], 'Cluster_22': [], 'Cluster_23': [], 'Cluster_24': [24, 25, 28, 22], 'Cluster_25': [22], 'Cluster_26': [], 'Cluster_27': [], 'Cluster_28': [], 'Cluster_29': [27], 'Cluster_30': [2], 'Cluster_31': [6], 'Cluster_32': [28], 'Cluster_33': [5], 'Cluster_34': [24]}\n",
      "logical: [1] \n",
      "\n"
     ]
    },
    {
     "name": "stderr",
     "output_type": "stream",
     "text": [
      "  4%|▍         | 44/1111 [01:27<35:01,  1.97s/it]"
     ]
    },
    {
     "name": "stdout",
     "output_type": "stream",
     "text": [
      "\n",
      "meas_str: 110101001101111110101111000101 11101100010011110011000111101 11011011001011111100000010010 01001010000011110011000111011 01111111000011111100000100011 11001110000010110011000111011 11101011000000111100000110011 11001000000011111111000101011 01001101000000111100000001011 01101110010010110011000100011 01001011010001111100000001011 01001110000011110011000100011 11001111000000111101000001001 11011010000010110000000100001 11001011010011111100000001101 11011110000010110000000100101 11001111010001111100000001101 11011010010000110000000100101 01001011010000110000000010101 10011100010001100000000100101 10001011010001100000000011010 01011010000000100000000100100 10001110000000100000000011000 11011100000001100000000101100 10001000000001100000000010000 11011000000000100000000101100 00001000000000100000000011000 00001000000000100000000110000 00001000000001100000000011000 11001000000001100000000000000 00001000000000100000000000000\n",
      "flipped_qubit_dict {'Cluster_0': [], 'Cluster_1': [], 'Cluster_2': [28], 'Cluster_3': [4], 'Cluster_4': [5], 'Cluster_5': [28], 'Cluster_6': [3, 4], 'Cluster_7': [26, 27], 'Cluster_8': [], 'Cluster_9': [], 'Cluster_10': [], 'Cluster_11': [], 'Cluster_12': [0, 0, 1, 1], 'Cluster_13': [], 'Cluster_14': [28], 'Cluster_15': [3], 'Cluster_16': [], 'Cluster_17': [28], 'Cluster_18': [28], 'Cluster_19': [4], 'Cluster_20': [12], 'Cluster_21': [], 'Cluster_22': [10], 'Cluster_23': [], 'Cluster_24': [], 'Cluster_25': [], 'Cluster_26': [28, 29, 20, 21, 23, 16, 17, 18, 21, 22, 23, 24, 16, 17, 20, 16, 19, 22, 20, 24, 25, 26, 21, 23, 25, 29, 16, 18, 21, 24, 22, 26, 29, 22, 24, 25, 16, 20, 26, 22, 19, 29, 27, 27], 'Cluster_27': [], 'Cluster_28': [12], 'Cluster_29': [], 'Cluster_30': [5], 'Cluster_31': [], 'Cluster_32': [12], 'Cluster_33': [16], 'Cluster_34': [], 'Cluster_35': [], 'Cluster_36': [1], 'Cluster_37': [5], 'Cluster_38': [19], 'Cluster_39': [3], 'Cluster_40': []}\n",
      "logical: [1] \n",
      "\n"
     ]
    },
    {
     "name": "stderr",
     "output_type": "stream",
     "text": [
      "  4%|▍         | 45/1111 [01:29<34:56,  1.97s/it]"
     ]
    },
    {
     "name": "stdout",
     "output_type": "stream",
     "text": [
      "\n",
      "meas_str: 111101011011111111011001001101 10111110011011001000101001010 10100010111011001110100100011 10111100001011000100101001010 01100100111011001110100100001 10110000001001001000101001011 01100100111011001110100100011 11110100001001101000101001000 01000110111011001010100100011 01110110001001001000101000010 10001000111011001110100010011 00110110001001001000101111010 01001000111011001110110010001 00110100001001010100110011010 01001110111011011110110010001 00010000001001010000110011010 11001110111011011100100110001 00010000000010010000111111011 00001110110010011100100110011 11000100000010000000111111011 11000100110001001100100000000 11000010000000001100111100000 11000110110000000000100000000 01001100000000001100111100000 01001010110000000000100001000 01001100001100000000110001000 01001100110011000000100000000 01001100011100000000110000000 01000000000000000000100000000 01001100000000000000000000000 01000000000000000000000000000\n",
      "flipped_qubit_dict {'Cluster_0': [], 'Cluster_1': [24], 'Cluster_2': [18], 'Cluster_3': [20], 'Cluster_4': [16], 'Cluster_5': [], 'Cluster_6': [24], 'Cluster_7': [], 'Cluster_8': [16], 'Cluster_9': [23], 'Cluster_10': [], 'Cluster_11': [6], 'Cluster_12': [18], 'Cluster_13': [24], 'Cluster_14': [], 'Cluster_15': [], 'Cluster_16': [24], 'Cluster_17': [1], 'Cluster_18': [4], 'Cluster_19': [23], 'Cluster_20': [1], 'Cluster_21': [5], 'Cluster_22': [23], 'Cluster_23': [25], 'Cluster_24': [28], 'Cluster_25': [28], 'Cluster_26': [28], 'Cluster_27': [1], 'Cluster_28': [], 'Cluster_29': [7], 'Cluster_30': [13, 14, 15, 8, 9, 16, 10, 11], 'Cluster_31': [], 'Cluster_32': [27, 29, 28, 29], 'Cluster_33': [], 'Cluster_34': [6], 'Cluster_35': [], 'Cluster_36': [28], 'Cluster_37': [], 'Cluster_38': [5, 2, 5, 3], 'Cluster_39': [], 'Cluster_40': [24], 'Cluster_41': [], 'Cluster_42': [2, 3], 'Cluster_43': [23], 'Cluster_44': [27], 'Cluster_45': [11, 12, 13, 14, 12, 15, 16, 9, 10, 11], 'Cluster_46': [24], 'Cluster_47': [23], 'Cluster_48': [28], 'Cluster_49': [], 'Cluster_50': [1, 0, 1, 1, 0, 1]}\n",
      "logical: [1] \n",
      "\n"
     ]
    },
    {
     "name": "stderr",
     "output_type": "stream",
     "text": [
      "  4%|▍         | 46/1111 [01:31<35:24,  1.99s/it]"
     ]
    },
    {
     "name": "stdout",
     "output_type": "stream",
     "text": [
      "\n",
      "meas_str: 111110011011011111111010110111 11001110100111001100110001110 11101100010001001100001010010 11100110100111000000000000010 11100000010001001100000000010 11100110000110001100000000010 11000000110111000000000000010 11000111000011101100000000010 01001011110111000100000000010 11000111000011101100000000010 01101101110110101100000000010 11001011000011100000000000010 01100011010111001100000000010 11001001100011101000000000010 11101101010111000100000000010 11001011100010100000000000010 11101101010100001100000000010 11000011100010000000000000010 11101111010100001100001100001 11001110100010001100001000010 11101010010100001100000101001 00001100100010001010001001010 00001100000100010100000101001 00001000110010010010000101010 00001110010000010000000101001 00001000100000000000000101011 00001100010000000000000100000 00000000100000000000000100011 11001100010000000000000100000 00001100100000000000000100000 01000100010000000000000000000\n",
      "flipped_qubit_dict {'Cluster_0': [20], 'Cluster_1': [], 'Cluster_2': [], 'Cluster_3': [], 'Cluster_4': [28], 'Cluster_5': [1], 'Cluster_6': [28], 'Cluster_7': [], 'Cluster_8': [], 'Cluster_9': [], 'Cluster_10': [23, 24, 24, 23], 'Cluster_11': [11], 'Cluster_12': [17], 'Cluster_13': [], 'Cluster_14': [6], 'Cluster_15': [13], 'Cluster_16': [], 'Cluster_17': [13], 'Cluster_18': [23], 'Cluster_19': [], 'Cluster_20': [11], 'Cluster_21': [23], 'Cluster_22': [27, 25, 28, 26, 26, 27, 28, 29, 29, 24, 24, 25], 'Cluster_23': [], 'Cluster_24': [24, 23], 'Cluster_25': [12], 'Cluster_26': [24], 'Cluster_27': [1], 'Cluster_28': [6], 'Cluster_29': [], 'Cluster_30': [15, 16], 'Cluster_31': [], 'Cluster_32': [], 'Cluster_33': [24], 'Cluster_34': [], 'Cluster_35': [], 'Cluster_36': [15], 'Cluster_37': [12], 'Cluster_38': [15], 'Cluster_39': [23], 'Cluster_40': [], 'Cluster_41': [23, 24], 'Cluster_42': [15], 'Cluster_43': [16], 'Cluster_44': [], 'Cluster_45': [], 'Cluster_46': [12], 'Cluster_47': [24], 'Cluster_48': [3], 'Cluster_49': [5, 8, 6], 'Cluster_50': [12], 'Cluster_51': [], 'Cluster_52': [], 'Cluster_53': [5]}\n",
      "logical: [1] \n",
      "\n"
     ]
    },
    {
     "name": "stderr",
     "output_type": "stream",
     "text": [
      "  4%|▍         | 47/1111 [01:33<35:42,  2.01s/it]"
     ]
    },
    {
     "name": "stdout",
     "output_type": "stream",
     "text": [
      "\n",
      "meas_str: 111110111110111111101101011010 00001011011111110000001011001 00000111010011100011010101110 11000001011110100000001011001 01000101010010110011010100101 01100101011111110000001010011 01101001010011110011011100100 01101001010000110000000010011 01101001011100110011010001100 01101001010000110000001110001 01101001011101110011010001100 11001001010001110000000110000 11001001011100110011011110100 11101001010001110000000111000 11001001001100110011011010100 11101001010001010000000111000 11010001001100100011010111110 11101001010001000000000000000 01010001011100100011010011010 11101001011100000000000101000 01010000010001100011010010010 11101000011101100000001101011 01010000010000100011011001001 11101010011100100000001101011 01011100010001100000011001001 11100010010000100000001101011 01011110010001100000011001000 11100110000001100000001110000 01011010000000100000011111010 11000100000000000000001110010 01000100000000000000000001000\n",
      "flipped_qubit_dict {'Cluster_0': [4], 'Cluster_1': [6], 'Cluster_2': [5], 'Cluster_3': [7], 'Cluster_4': [19, 29, 28, 29, 20, 29, 21, 14, 14, 28, 29, 15, 16, 17, 15, 16, 17, 26, 18, 15, 20, 16, 17, 18, 27, 20, 21, 29, 27, 18, 28, 19, 21, 22, 23, 27, 28, 28, 16, 24, 17, 18, 20, 24, 21, 22, 22, 23, 27, 29, 24, 27, 19, 28, 29, 23, 23, 25, 25, 25, 29, 28, 16, 29, 20, 21, 22, 23, 26, 15, 16, 17, 17, 22, 23, 24, 27, 16, 18, 22, 23, 23, 24, 25, 25, 28, 29, 16, 19, 20, 21], 'Cluster_5': [5], 'Cluster_6': [], 'Cluster_7': [4], 'Cluster_8': [10], 'Cluster_9': [1], 'Cluster_10': [4], 'Cluster_11': [], 'Cluster_12': [1], 'Cluster_13': [], 'Cluster_14': [25], 'Cluster_15': [0, 1, 0, 5, 1, 0, 1, 0, 1, 2, 3, 6, 0, 1, 0, 2, 3, 5, 0, 6, 1, 2, 0, 1, 2, 3, 5, 0, 1, 6, 4], 'Cluster_16': [6], 'Cluster_17': [2, 3], 'Cluster_18': [6], 'Cluster_19': [16], 'Cluster_20': [18], 'Cluster_21': [], 'Cluster_22': [16], 'Cluster_23': [18], 'Cluster_24': [1], 'Cluster_25': [], 'Cluster_26': [], 'Cluster_27': [], 'Cluster_28': [1], 'Cluster_29': [], 'Cluster_30': []}\n",
      "logical: [1] \n",
      "\n"
     ]
    },
    {
     "name": "stderr",
     "output_type": "stream",
     "text": [
      "  4%|▍         | 48/1111 [01:35<35:41,  2.01s/it]"
     ]
    },
    {
     "name": "stdout",
     "output_type": "stream",
     "text": [
      "\n",
      "meas_str: 110110111110111110011110110100 01101100010001010000100000110 01001000010001001010101111000 01101100010001110000100010110 01001010010000000110101111000 01100100010000000000100010110 01000000000000110110101111000 01100100000000000000100100110 01001010000000010110001111000 01001100000000010000110101100 01001100000000100110001110010 01101000000000000000110101100 01001100000000110110001110001 01100101000000110000110101100 01001001000000010110001111011 01001011000000100000111010100 01000011000001100110001111011 01001011000101100000111010100 01101011000100100000001111011 01001011000100000000111001110 00101111000100000000001111001 10000001000100000000111010110 10101111000100000000001011001 11000111000101000000111110110 10101011000101000000001110001 11001111000101000000111111000 10101111000100000000001000001 00000101010111000000111110000 10101011010100000000000000000 00001101000000000000110000000 00000000000000000000000000000\n",
      "flipped_qubit_dict {'Cluster_0': [8], 'Cluster_1': [29, 24, 24, 25, 25, 24, 25, 23, 24, 29, 20, 28, 24, 25, 26, 27, 27, 29, 23, 20, 21, 26, 23, 28, 29, 21, 27, 22, 28, 28, 23, 22, 24, 23, 24, 28], 'Cluster_2': [5], 'Cluster_3': [], 'Cluster_4': [16], 'Cluster_5': [0], 'Cluster_6': [], 'Cluster_7': [28], 'Cluster_8': [4, 5, 5], 'Cluster_9': [16], 'Cluster_10': [2], 'Cluster_11': [], 'Cluster_12': [], 'Cluster_13': [4], 'Cluster_14': [], 'Cluster_15': [4], 'Cluster_16': [11], 'Cluster_17': [], 'Cluster_18': [14, 14, 15, 15, 14], 'Cluster_19': [], 'Cluster_20': [4, 6, 2, 3, 1], 'Cluster_21': [], 'Cluster_22': [26, 25, 26, 25, 26, 24, 22, 23, 22, 24, 26], 'Cluster_23': [], 'Cluster_24': [], 'Cluster_25': [14], 'Cluster_26': [8], 'Cluster_27': [14], 'Cluster_28': [5], 'Cluster_29': [], 'Cluster_30': [14], 'Cluster_31': [], 'Cluster_32': [14], 'Cluster_33': [], 'Cluster_34': [12], 'Cluster_35': [], 'Cluster_36': [14], 'Cluster_37': [18]}\n",
      "logical: [1] \n",
      "\n"
     ]
    },
    {
     "name": "stderr",
     "output_type": "stream",
     "text": [
      "  4%|▍         | 49/1111 [01:37<35:38,  2.01s/it]"
     ]
    },
    {
     "name": "stdout",
     "output_type": "stream",
     "text": [
      "\n",
      "meas_str: 110101011111111111011110111000 11101001001010100110000101010 01011101001000100000001001110 01101001001000100000001101011 11011001001000100000001101111 11101101000100100000001101010 01011011001000100000001101110 01001011000100100000001100010 11111101001000100000001100111 11001001000100100000001110011 11011001001001100000000010111 11001101000101100000001110010 01011111001000100000000100110 01101011000101100000000110010 11011001001101100000000000111 11001011000000100000000110011 01101101001100000000000110110 01101011000000000000000110011 11001101001100000000000110111 11101111000000000000000010010 01001111001100000000000100000 01101001000000000000000010000 11000110000000000000000100000 11101010000000000000000010000 01101010001100000000000000010 01001110000000000000000000000 01001100000000000000000000000 01000010000000000000000000000 01001100000000000000000000000 01001000000000000000000000000 01001000000000000000000000000\n",
      "flipped_qubit_dict {'Cluster_0': [], 'Cluster_1': [], 'Cluster_2': [24, 27, 28, 23, 24, 24, 24, 26, 27, 28, 23, 25, 25, 26, 28, 23, 23, 24, 24, 24, 26, 27, 29, 29, 25, 26, 28, 29, 29, 27, 29, 27, 28, 29], 'Cluster_3': [18], 'Cluster_4': [5], 'Cluster_5': [], 'Cluster_6': [18], 'Cluster_7': [24], 'Cluster_8': [], 'Cluster_9': [], 'Cluster_10': [18], 'Cluster_11': [23, 24], 'Cluster_12': [23], 'Cluster_13': [], 'Cluster_14': [1, 2], 'Cluster_15': [5], 'Cluster_16': [23], 'Cluster_17': [], 'Cluster_18': [0, 0, 0], 'Cluster_19': [5], 'Cluster_20': [], 'Cluster_21': [6], 'Cluster_22': [], 'Cluster_23': [5], 'Cluster_24': [], 'Cluster_25': [23], 'Cluster_26': [], 'Cluster_27': [], 'Cluster_28': [6], 'Cluster_29': [], 'Cluster_30': [], 'Cluster_31': [], 'Cluster_32': [], 'Cluster_33': [], 'Cluster_34': [], 'Cluster_35': [], 'Cluster_36': [], 'Cluster_37': [18], 'Cluster_38': [], 'Cluster_39': [], 'Cluster_40': [6], 'Cluster_41': [], 'Cluster_42': [11], 'Cluster_43': [], 'Cluster_44': [23, 24], 'Cluster_45': [28]}\n",
      "logical: [1] \n",
      "\n"
     ]
    },
    {
     "name": "stderr",
     "output_type": "stream",
     "text": [
      "  5%|▍         | 50/1111 [01:39<35:21,  2.00s/it]"
     ]
    },
    {
     "name": "stdout",
     "output_type": "stream",
     "text": [
      "\n",
      "meas_str: 110110101111110111111011101111 01100101000011100110101011000 01000110000010000110011000000 01100111000011101110101010000 01000110000011101110011001000 01101111000011101100100110000 01001110000010001100011001000 01100100000011101100100110000 01001000000000000000011001000 01101000000011101100100110000 01001000000010000000011101000 01100100001111101100000010000 01001110000010100000000001000 01101010001100100100000010000 01001100001100100100000001000 01100000001100101100000010000 01000000001100100000000001000 01100000001100101100000000000 01000000001100100000000000000 01100000000000001100000000000 01000000001100000000000000000 01100000000000001100000000000 01000000001100000000000000000 01100000000000001100000000000 01000000010000001000000000000 01100000000000000100000000000 01000011000000001000000000000 01100010000000000100000000000 01100001010000001000000000000 01000010000000001100000000000 01000011000000000000000000000\n",
      "flipped_qubit_dict {'Cluster_0': [22], 'Cluster_1': [12], 'Cluster_2': [], 'Cluster_3': [], 'Cluster_4': [], 'Cluster_5': [18], 'Cluster_6': [22], 'Cluster_7': [], 'Cluster_8': [], 'Cluster_9': [18], 'Cluster_10': [4], 'Cluster_11': [12], 'Cluster_12': [23], 'Cluster_13': [12], 'Cluster_14': [24], 'Cluster_15': [6], 'Cluster_16': [8], 'Cluster_17': [], 'Cluster_18': [18], 'Cluster_19': [12], 'Cluster_20': [18, 15], 'Cluster_21': [23, 28, 25, 29, 26, 26, 28, 29, 28, 29, 27, 27, 22, 28, 29, 23, 27, 28, 29, 28, 23, 29, 24, 24, 25], 'Cluster_22': [], 'Cluster_23': [15], 'Cluster_24': [6], 'Cluster_25': [], 'Cluster_26': [], 'Cluster_27': [15]}\n",
      "logical: [1] \n",
      "\n"
     ]
    },
    {
     "name": "stderr",
     "output_type": "stream",
     "text": [
      "  5%|▍         | 51/1111 [01:41<35:03,  1.98s/it]"
     ]
    },
    {
     "name": "stdout",
     "output_type": "stream",
     "text": [
      "\n",
      "meas_str: 110111111111110111011111010001 11100001000011101011001001010 11000001000000001101001110111 11100001010001101011001111101 11000001010001101101001101101 01100000010000001011000011111 11000000010001101101001110011 01000000010000101101000010001 11000000010001100001001110011 01000000010001101101001110011 11000000000000100000000110001 01100000010001001100000110001 11000000010001000000000110011 01100000010001001100000110000 11000000010001000000000110001 10100010010001000000000110011 11001010010001000000000000011 11101010010001000000000110001 01001000011101000000000110000 01101010010001000000000110000 11001000011101000000000110000 01100110000001000000000000000 11001100011100000000000110011 11000000010000001000000000000 10100000011110000000000000000 11000000001100000000000000000 10100000011000000000000000011 11000000000000000000000000000 11000000011000000000000000011 10000000000000000000000000000 01000000011000000000000000000\n",
      "flipped_qubit_dict {'Cluster_0': [19], 'Cluster_1': [28, 27, 29, 28, 29, 29, 28, 29, 28, 27, 28, 29, 28, 28, 27, 29], 'Cluster_2': [1], 'Cluster_3': [18], 'Cluster_4': [1], 'Cluster_5': [19], 'Cluster_6': [1], 'Cluster_7': [5], 'Cluster_8': [17, 17], 'Cluster_9': [], 'Cluster_10': [28], 'Cluster_11': [], 'Cluster_12': [], 'Cluster_13': [1], 'Cluster_14': [5], 'Cluster_15': [28], 'Cluster_16': [0, 1, 1, 0, 4, 1, 0, 1, 1, 2, 2, 1, 0, 1, 0, 0, 1, 0, 1, 0, 1, 0, 1, 0, 1, 3, 2, 4, 0, 1, 6, 0], 'Cluster_17': [5], 'Cluster_18': [18], 'Cluster_19': [24, 23, 23, 24], 'Cluster_20': [5], 'Cluster_21': [12], 'Cluster_22': [28], 'Cluster_23': [], 'Cluster_24': [], 'Cluster_25': [], 'Cluster_26': [6], 'Cluster_27': [12, 11, 15], 'Cluster_28': [], 'Cluster_29': [], 'Cluster_30': [5], 'Cluster_31': []}\n",
      "logical: [1] \n",
      "\n"
     ]
    },
    {
     "name": "stderr",
     "output_type": "stream",
     "text": [
      "  5%|▍         | 52/1111 [01:43<35:12,  1.99s/it]"
     ]
    },
    {
     "name": "stdout",
     "output_type": "stream",
     "text": [
      "\n",
      "meas_str: 111110011100110010101011101111 00001010011001111000100111001 01000000000100101111010100001 11001010010000111000100110001 11001000001001000111010011001 01101100010001111000101010001 01101010011000101111110011001 11101100000000011000011010001 01101000011000101111100011001 11101000000000010000011010001 11101000011000101111101111001 11101000000000011001011010001 10101000011000101101101110111 11101000000000111101010111011 00101000011000001101101110110 11101100000000111101010001011 01101100011000001101100011101 00101010000000111001010001001 10001110011000001001100010111 11101100000000111001010001001 10000111011000001001100010111 11101001000000111001010001001 10000011011000001000100000111 11101011000000000000010000000 10001101011000000000100000110 00101001010000000000010000100 01000101010000000000100000010 10001001000000000000010000110 01000101100000000000000000000 11000011000000000000000000110 00000101000000000000000000010\n",
      "flipped_qubit_dict {'Cluster_0': [2], 'Cluster_1': [22, 23], 'Cluster_2': [], 'Cluster_3': [28], 'Cluster_4': [], 'Cluster_5': [8], 'Cluster_6': [], 'Cluster_7': [], 'Cluster_8': [19], 'Cluster_9': [22, 21, 22, 23, 24, 20, 22, 24, 20, 21, 27, 28, 27, 27], 'Cluster_10': [], 'Cluster_11': [], 'Cluster_12': [4], 'Cluster_13': [], 'Cluster_14': [14], 'Cluster_15': [28], 'Cluster_16': [], 'Cluster_17': [], 'Cluster_18': [27], 'Cluster_19': [], 'Cluster_20': [], 'Cluster_21': [1], 'Cluster_22': [6], 'Cluster_23': [5], 'Cluster_24': [], 'Cluster_25': [29, 29, 29, 29], 'Cluster_26': [0, 0, 2, 3, 1, 3], 'Cluster_27': [6], 'Cluster_28': [6], 'Cluster_29': [28], 'Cluster_30': [15, 13, 13, 14, 11, 12, 14, 10, 11], 'Cluster_31': [], 'Cluster_32': [23], 'Cluster_33': [], 'Cluster_34': [], 'Cluster_35': [], 'Cluster_36': [], 'Cluster_37': [6], 'Cluster_38': [24], 'Cluster_39': [], 'Cluster_40': [5], 'Cluster_41': [18], 'Cluster_42': [], 'Cluster_43': [], 'Cluster_44': [], 'Cluster_45': []}\n",
      "logical: [1] \n",
      "\n"
     ]
    },
    {
     "name": "stderr",
     "output_type": "stream",
     "text": [
      "  5%|▍         | 53/1111 [01:45<34:48,  1.97s/it]"
     ]
    },
    {
     "name": "stdout",
     "output_type": "stream",
     "text": [
      "\n",
      "meas_str: 010110011111111110101010100001 10101010101001001001100111100 10101000101000001110011001101 01101010101000000001100110100 11101000101000001110011000101 11001010101000001001000110100 01001100101000001110001011101 11101110101000001001000110001 11101010101100001110001010011 01001110101100011001000110000 01001110101100010101001100011 11101000101100011001000110000 11001100101100011101000000011 01101110101100011000000000000 01001000101100011100000000011 11101110101100010100000000000 11000010101100001100000000011 01101010101100000000000000011 01000110101100001000000000011 11001101101100001100000000011 11101101100000001000000000000 01100001001100001100000000011 01100001001100000000000000011 11000011001100000100000000010 11000010000000000000000011001 01000000000000000000000000010 11000000000000000000000011011 01000000000000000100000000000 11000001010000000000000001000 01000001000000000000000001000 10000010000000000000000000000\n",
      "flipped_qubit_dict {'Cluster_0': [29], 'Cluster_1': [], 'Cluster_2': [], 'Cluster_3': [23, 23], 'Cluster_4': [4], 'Cluster_5': [], 'Cluster_6': [1], 'Cluster_7': [], 'Cluster_8': [], 'Cluster_9': [], 'Cluster_10': [0, 2, 4, 5, 6, 7, 8, 9, 11, 1, 2, 0, 1, 2, 3, 5, 8, 6, 7, 8, 9, 10, 11, 12, 17, 15, 16, 13, 14, 15, 16, 17, 13, 14, 15, 18, 18, 15], 'Cluster_11': [], 'Cluster_12': [], 'Cluster_13': [4], 'Cluster_14': [], 'Cluster_15': [], 'Cluster_16': [], 'Cluster_17': [1, 1], 'Cluster_18': [], 'Cluster_19': [], 'Cluster_20': [], 'Cluster_21': [25, 26], 'Cluster_22': [], 'Cluster_23': [1], 'Cluster_24': [22], 'Cluster_25': [22], 'Cluster_26': [], 'Cluster_27': [], 'Cluster_28': [1], 'Cluster_29': [24], 'Cluster_30': [], 'Cluster_31': [], 'Cluster_32': [], 'Cluster_33': [5], 'Cluster_34': [], 'Cluster_35': [6], 'Cluster_36': [], 'Cluster_37': [], 'Cluster_38': [], 'Cluster_39': [], 'Cluster_40': [5], 'Cluster_41': [], 'Cluster_42': [], 'Cluster_43': [], 'Cluster_44': [23], 'Cluster_45': [], 'Cluster_46': [], 'Cluster_47': [], 'Cluster_48': [27], 'Cluster_49': [], 'Cluster_50': [28], 'Cluster_51': [28, 25, 26]}\n",
      "logical: [1] \n",
      "\n"
     ]
    },
    {
     "name": "stderr",
     "output_type": "stream",
     "text": [
      "  5%|▍         | 54/1111 [01:47<34:38,  1.97s/it]"
     ]
    },
    {
     "name": "stdout",
     "output_type": "stream",
     "text": [
      "\n",
      "meas_str: 101010111111110110011101011111 00011101001100111011000011011 11101001001101110001011011011 01111001000001111011000000001 10001101011001110001011011010 10111111010100011011000001001 10001011011001110010011010011 11111001010101011011000001000 11001111011000110010011010011 10101011010101010111000000011 11001011011000110010011000011 10101001010101011111000000000 00001111011000111010011000011 01101101010101001111000000000 01101001011010101100011000011 01101011010111011100000000000 01101101011010011100011000000 00001101010101001100000000000 01101101011010000000011000000 11101111010110001100000000000 00101101000110001100011000000 11101101000110001100000000000 01001111000110001000011000000 01101010000110001100000000000 01001010000110001100011000000 00101100000110001100000000000 01001110000110001100011000000 01001000000110001100000000000 01001010000010000000011000000 00001100010000000000000000000 00001000000000000000011000000\n",
      "flipped_qubit_dict {'Cluster_0': [7], 'Cluster_1': [], 'Cluster_2': [], 'Cluster_3': [12], 'Cluster_4': [], 'Cluster_5': [12], 'Cluster_6': [27], 'Cluster_7': [], 'Cluster_8': [18], 'Cluster_9': [27, 28], 'Cluster_10': [12, 12, 15, 16, 16], 'Cluster_11': [], 'Cluster_12': [27], 'Cluster_13': [1], 'Cluster_14': [10], 'Cluster_15': [23], 'Cluster_16': [11], 'Cluster_17': [], 'Cluster_18': [23], 'Cluster_19': [27], 'Cluster_20': [28], 'Cluster_21': [], 'Cluster_22': [28], 'Cluster_23': [1], 'Cluster_24': [1], 'Cluster_25': [4], 'Cluster_26': [12], 'Cluster_27': [], 'Cluster_28': [], 'Cluster_29': [24, 27, 23, 23, 28, 24, 24, 28, 25, 26, 23, 20, 23, 23, 27, 25, 28, 29, 21, 29, 22, 22, 23, 23, 20, 28, 20, 23, 23, 22, 26, 26, 23, 24, 24, 28, 28, 25, 29, 21, 27, 20, 29, 21, 23, 21, 24, 25, 23, 25, 24, 29, 25, 22, 27, 28, 28, 29], 'Cluster_30': [], 'Cluster_31': [10], 'Cluster_32': [15], 'Cluster_33': [], 'Cluster_34': [1], 'Cluster_35': [4], 'Cluster_36': [18], 'Cluster_37': [5], 'Cluster_38': [15]}\n",
      "logical: [1] \n",
      "\n"
     ]
    },
    {
     "name": "stderr",
     "output_type": "stream",
     "text": [
      "  5%|▍         | 55/1111 [01:49<35:11,  2.00s/it]"
     ]
    },
    {
     "name": "stdout",
     "output_type": "stream",
     "text": [
      "\n",
      "meas_str: 110110011111111111111111111101 01100111010111011100000000000 01001111010111011100000000011 01101001010111010000000010001 01001100010111011100000000010 01000001010111011100000000001 01001101010111011100000000100 01001001010111011100000100001 01100011010111011100000100100 01001011010111011100000100010 01100001010111011100000100100 11001011010001011100000100010 11100001010111010000000100100 01001001000001011100000100010 11101111000111011100000100100 01000011001001011100000100010 11101111000011011000000100100 01100111001101011000000100010 11001101000001001000000100100 01000001001101001000000100010 11000001000001001000000100100 01100001001101001000000000010 11000001000001001000000000110 01100001001101001000000000000 11000001000011001000000000110 01000001001100001000000000000 11000001000011001000000001100 01000000001100010000000000000 11000000000000011000000000000 00000000001100000000000000000 01000000000000000000000000000\n",
      "flipped_qubit_dict {'Cluster_0': [18], 'Cluster_1': [13], 'Cluster_2': [], 'Cluster_3': [29, 29, 27, 28, 29, 28, 28, 29, 29, 28, 29, 29, 29], 'Cluster_4': [3], 'Cluster_5': [16], 'Cluster_6': [], 'Cluster_7': [13], 'Cluster_8': [2, 3], 'Cluster_9': [16], 'Cluster_10': [], 'Cluster_11': [], 'Cluster_12': [24], 'Cluster_13': [], 'Cluster_14': [23], 'Cluster_15': [], 'Cluster_16': [17], 'Cluster_17': [23], 'Cluster_18': [], 'Cluster_19': [18], 'Cluster_20': [23, 24, 24], 'Cluster_21': [12], 'Cluster_22': [], 'Cluster_23': [], 'Cluster_24': [12], 'Cluster_25': [17], 'Cluster_26': [], 'Cluster_27': [1], 'Cluster_28': [], 'Cluster_29': [23, 25, 26, 23, 24, 22, 24, 25, 26, 22], 'Cluster_30': [2], 'Cluster_31': [12], 'Cluster_32': [], 'Cluster_33': [], 'Cluster_34': [12]}\n",
      "logical: [1] \n",
      "\n"
     ]
    },
    {
     "name": "stderr",
     "output_type": "stream",
     "text": [
      "  5%|▌         | 56/1111 [01:51<35:15,  2.01s/it]"
     ]
    },
    {
     "name": "stdout",
     "output_type": "stream",
     "text": [
      "\n",
      "meas_str: 111110101111011111111011011101 01110001000000100001010011110 01111110000110100000100101100 11111011000000100000110010000 11111110000010100001000101101 01110001000010100001010010001 01011110000011100001000101101 11110011000001100000110010001 11111100000000100000000101101 01111001010000100001010000000 01110001000001100000000001100 11110100000000110001110001001 11110001000000100000000000100 01110100000010010000010001001 01111011000000100001000001101 11110110000001110000010000000 11111111000001000001000001111 01001111000001110000010000010 01011010000001000000100001110 01001000000001111000010000011 01011010000000101000100001110 01000100010001111000010011001 01001010010000101000100001110 01001100010001111000010010011 00001100010001101000100001101 00000000010000011000010010011 01001101010000101000100000100 01000001010000010000010001011 00000000000000100000110000100 00000010000000010000010000011 00000000000000000000000000010\n",
      "flipped_qubit_dict {'Cluster_0': [14], 'Cluster_1': [8], 'Cluster_2': [], 'Cluster_3': [], 'Cluster_4': [], 'Cluster_5': [22, 22, 24], 'Cluster_6': [], 'Cluster_7': [], 'Cluster_8': [15], 'Cluster_9': [24], 'Cluster_10': [], 'Cluster_11': [23], 'Cluster_12': [0, 0, 1, 1, 1, 4, 2, 3, 3, 0, 0, 4, 0, 0, 0, 0, 0, 1, 3, 0, 1, 2, 3], 'Cluster_13': [25], 'Cluster_14': [], 'Cluster_15': [24], 'Cluster_16': [], 'Cluster_17': [15], 'Cluster_18': [], 'Cluster_19': [9], 'Cluster_20': [25, 27, 23, 28, 22, 23, 28, 28, 27, 28], 'Cluster_21': [], 'Cluster_22': [], 'Cluster_23': [], 'Cluster_24': [], 'Cluster_25': [9, 9, 9], 'Cluster_26': [24], 'Cluster_27': [], 'Cluster_28': [15, 15, 16, 16, 15], 'Cluster_29': [], 'Cluster_30': [], 'Cluster_31': [24, 24, 23, 24], 'Cluster_32': [14, 15], 'Cluster_33': [], 'Cluster_34': [5], 'Cluster_35': [], 'Cluster_36': [], 'Cluster_37': [], 'Cluster_38': [], 'Cluster_39': [], 'Cluster_40': [], 'Cluster_41': [], 'Cluster_42': [17], 'Cluster_43': [23, 24], 'Cluster_44': [], 'Cluster_45': [23, 24]}\n",
      "logical: [1] \n",
      "\n"
     ]
    },
    {
     "name": "stderr",
     "output_type": "stream",
     "text": [
      "  5%|▌         | 57/1111 [01:53<35:02,  2.00s/it]"
     ]
    },
    {
     "name": "stdout",
     "output_type": "stream",
     "text": [
      "\n",
      "meas_str: 111110111111110111011111010101 11001000000100101111000111111 10001100000101001001000000000 10001100000100101111000111111 11001010000101000101000110011 11001100010100101111000001001 11101100000101000101000110011 11101100000100101111000000001 11101000000101000101000110001 00101100000100101111000000001 10101100000001000101000000011 01101010000000101111000000001 11001100000000000101000000001 00100000000001101111000000001 10001110000001101001000000001 00101110000001000010000100001 01100100100001000001000100011 00001000100000000010000100011 00000110010000000001000100000 11000010000000000010000100011 00000100000000000001000100011 00000100000000000000000100010 11000110000000000000000100010 11001010000000000000000100010 11001000000000000000000100000 01000110000000000000000100000 00000110000000000000000100000 11000000000000000000000100011 10000000000000000000000000000 00000000000000000000000000000 00000000000000000000000000000\n",
      "flipped_qubit_dict {'Cluster_0': [1], 'Cluster_1': [], 'Cluster_2': [23, 23], 'Cluster_3': [], 'Cluster_4': [1], 'Cluster_5': [29, 28, 29, 28], 'Cluster_6': [], 'Cluster_7': [28], 'Cluster_8': [], 'Cluster_9': [10], 'Cluster_10': [28], 'Cluster_11': [28], 'Cluster_12': [1], 'Cluster_13': [20], 'Cluster_14': [1], 'Cluster_15': [], 'Cluster_16': [20], 'Cluster_17': [], 'Cluster_18': [], 'Cluster_19': [], 'Cluster_20': [], 'Cluster_21': [12, 10, 11], 'Cluster_22': [15], 'Cluster_23': [], 'Cluster_24': [], 'Cluster_25': [23, 23, 24, 26, 24, 28, 27, 26, 27, 28], 'Cluster_26': [], 'Cluster_27': [5], 'Cluster_28': [28], 'Cluster_29': [2, 3], 'Cluster_30': [], 'Cluster_31': [23], 'Cluster_32': [2], 'Cluster_33': [5], 'Cluster_34': [], 'Cluster_35': [], 'Cluster_36': [1], 'Cluster_37': [5], 'Cluster_38': [12], 'Cluster_39': [23], 'Cluster_40': [24], 'Cluster_41': []}\n",
      "logical: [1] \n",
      "\n"
     ]
    },
    {
     "name": "stderr",
     "output_type": "stream",
     "text": [
      "  5%|▌         | 58/1111 [01:55<35:32,  2.02s/it]"
     ]
    },
    {
     "name": "stdout",
     "output_type": "stream",
     "text": [
      "\n",
      "meas_str: 110111101111110111111100011101 01101111001101010101110110010 01001100001100110101100100001 01000101001001010101100110001 01001010001000110101100100001 01001001001101010101100110001 01000110001100110101100110001 01101111000001010101100100001 01001010001100110101100010001 01101011000001010101100000001 01101110001100110101100010001 01001101000001010101100000001 01101110001100110001100010001 01001100000001010001100000001 01101100101100110001101010001 00001100100001010001101001001 11001000101100110100101111001 10101010100000110000101110001 11001110101100110000101001001 11101000101101010000101110001 11001110101100110000101001001 11101000101101010001011110001 01101010001100100001000110001 01001100001101000001011110000 11101110000000100001000000000 01001110101101110001000110000 11101100000000010001000110000 11001010000010000000000000000 01101010000000000000000000000 11001100000000000000000000000 00001000000000000000000000000\n",
      "flipped_qubit_dict {'Cluster_0': [5], 'Cluster_1': [], 'Cluster_2': [5], 'Cluster_3': [5], 'Cluster_4': [7], 'Cluster_5': [17, 18, 19, 20, 23, 24, 24, 25, 25, 23, 28, 29, 24, 18, 26, 14, 16, 24, 18, 23, 24, 29, 26, 27, 28, 29, 23, 24, 24, 29, 25, 14, 27, 28, 29, 29, 17, 26, 18, 19, 20, 27, 28, 29, 28, 29, 23, 25, 26, 24, 27, 29, 28, 29, 14, 14, 15, 16], 'Cluster_6': [], 'Cluster_7': [], 'Cluster_8': [15], 'Cluster_9': [18], 'Cluster_10': [23], 'Cluster_11': [27, 27], 'Cluster_12': [5], 'Cluster_13': [], 'Cluster_14': [4], 'Cluster_15': [], 'Cluster_16': [], 'Cluster_17': [15], 'Cluster_18': [], 'Cluster_19': [], 'Cluster_20': [], 'Cluster_21': [], 'Cluster_22': [21], 'Cluster_23': [21, 22], 'Cluster_24': [], 'Cluster_25': [18], 'Cluster_26': [], 'Cluster_27': [24], 'Cluster_28': [], 'Cluster_29': [], 'Cluster_30': [24], 'Cluster_31': [0, 0, 1, 2, 3, 5, 4, 0, 0, 4, 0, 1, 6, 2, 3, 9, 4, 1, 5, 2, 3, 4, 0, 5, 1, 6, 2, 7, 3, 4, 9, 5, 0, 2, 0, 3, 1, 4, 2, 5, 3, 6, 4, 7], 'Cluster_32': [27]}\n",
      "logical: [1] \n",
      "\n"
     ]
    },
    {
     "name": "stderr",
     "output_type": "stream",
     "text": [
      "  5%|▌         | 59/1111 [01:57<35:03,  2.00s/it]"
     ]
    },
    {
     "name": "stdout",
     "output_type": "stream",
     "text": [
      "\n",
      "meas_str: 110011111110111010011110011101 01001000111000101110101010000 01011000110100010100100010011 01001000001000101110101110011 01111000000101110100100010011 01001000001000101110101110000 01111000100101110100100010011 01001000100101000010100010011 01011000100101110100100010000 01001000100100100010101111011 01011100000101110100100011000 01101000000100100010101110011 01011100000100010100100011011 01101010000100100010101110000 01011100000100010100100001011 01001000000100100010101110000 01001100000100010100100111011 01001000100100000010101000000 01001110100101000100100100011 01001110100101000010101000011 01101000100100000100101100011 01001101110100000010010000011 01101001100100000100101100011 01001001100000000010010000011 01101001000000000100100000011 01001001100000000010010000011 01101001000000000000100000000 01001000000000000000010000011 01101000000000000000100000000 01001100000000000000010000000 01001000000000000000000000000\n",
      "flipped_qubit_dict {'Cluster_0': [], 'Cluster_1': [8], 'Cluster_2': [1], 'Cluster_3': [11], 'Cluster_4': [1], 'Cluster_5': [6], 'Cluster_6': [21, 24, 26, 24, 26, 27, 23, 28, 24, 29, 25, 18, 22, 23, 24, 21, 24, 25, 26, 24, 25, 28, 29, 26, 18, 23, 19, 24, 25, 20, 25, 25, 26, 27, 22, 24, 26, 25, 27, 27, 26, 28, 29, 28, 23, 29, 27, 19, 28, 28, 20, 24, 21, 25, 24, 22, 23, 21, 23, 25, 25, 26, 27, 22], 'Cluster_7': [], 'Cluster_8': [8], 'Cluster_9': [], 'Cluster_10': [1], 'Cluster_11': [], 'Cluster_12': [4], 'Cluster_13': [14], 'Cluster_14': [], 'Cluster_15': [26], 'Cluster_16': [5, 6, 5, 4, 1, 1, 2, 2], 'Cluster_17': [15], 'Cluster_18': [], 'Cluster_19': [15], 'Cluster_20': [1], 'Cluster_21': [1], 'Cluster_22': [6], 'Cluster_23': [12], 'Cluster_24': [15], 'Cluster_25': [18], 'Cluster_26': [], 'Cluster_27': [1], 'Cluster_28': [15], 'Cluster_29': [20], 'Cluster_30': [1], 'Cluster_31': [20], 'Cluster_32': [5], 'Cluster_33': [27]}\n",
      "logical: [1] \n",
      "\n"
     ]
    },
    {
     "name": "stderr",
     "output_type": "stream",
     "text": [
      "  5%|▌         | 60/1111 [01:59<35:01,  2.00s/it]"
     ]
    },
    {
     "name": "stdout",
     "output_type": "stream",
     "text": [
      "\n",
      "meas_str: 000110011110111110001110011111 10100000111001101000000000011 10001010111101100001001010011 01101000111101101000000011000 11101110111000000001001100011 01000100011001101000000011000 10101000011100000001001111000 10000100010001101000000011000 10101110011100000001001111000 01101000001000001000000000000 01101110011100000001001111000 01100100010100000101100001000 11001000010100000011000010000 11100100001100000000100001000 11001110010100000001000010000 11001000000100000000100011000 11000010011100000001000011000 11000110010100000000100011000 10000010011100000001000011000 01000110000000000000100011000 00000110010100000001000011000 11000110000000000000100000000 01000100011100000001000011000 10000000001000000000100000000 01000100011100000001000011000 01001110000100000000000000000 01000100001100000001100011000 01001000001100000000001100000 01001000000000000001100000000 01000100001100000000000000000 00001000000000000000000000000\n",
      "flipped_qubit_dict {'Cluster_0': [18], 'Cluster_1': [24, 25, 25], 'Cluster_2': [], 'Cluster_3': [9], 'Cluster_4': [6], 'Cluster_5': [24], 'Cluster_6': [4], 'Cluster_7': [18], 'Cluster_8': [24], 'Cluster_9': [6], 'Cluster_10': [19], 'Cluster_11': [], 'Cluster_12': [18], 'Cluster_13': [28], 'Cluster_14': [], 'Cluster_15': [4], 'Cluster_16': [19], 'Cluster_17': [18, 19], 'Cluster_18': [4], 'Cluster_19': [], 'Cluster_20': [11], 'Cluster_21': [23], 'Cluster_22': [10], 'Cluster_23': [19, 19, 18], 'Cluster_24': [], 'Cluster_25': [6], 'Cluster_26': [23], 'Cluster_27': [9], 'Cluster_28': [12], 'Cluster_29': [24], 'Cluster_30': [4], 'Cluster_31': [15], 'Cluster_32': [19], 'Cluster_33': [24], 'Cluster_34': [23, 29, 24, 28, 28, 29, 27, 25, 24, 26, 25, 26, 28, 23, 24, 24, 26, 28, 28, 29, 29, 23, 24, 23, 25, 24, 25, 25, 27, 28, 29, 23, 26, 24, 25, 24, 25, 25, 26, 26, 26, 27, 25, 26, 26, 23, 29, 29, 27, 28, 28, 26, 28, 27, 29, 24, 28, 29, 29, 24, 25, 29], 'Cluster_35': [23], 'Cluster_36': [1], 'Cluster_37': [4], 'Cluster_38': [18], 'Cluster_39': [], 'Cluster_40': [5], 'Cluster_41': [15], 'Cluster_42': [1], 'Cluster_43': [4], 'Cluster_44': [18]}\n",
      "logical: [1] \n",
      "\n"
     ]
    },
    {
     "name": "stderr",
     "output_type": "stream",
     "text": [
      "  5%|▌         | 61/1111 [02:01<34:46,  1.99s/it]"
     ]
    },
    {
     "name": "stdout",
     "output_type": "stream",
     "text": [
      "\n",
      "meas_str: 110100111110110110111101101110 11011000000100100100100001001 10101100001001101000101010000 11010010000101100100100001001 10101110001000101000111011000 11010000000100100100110000111 10101100001001101000101011011 11011100010101101100110010111 11100010001000100000100110011 01011100000101101100110010110 01100110001101101100100110000 11010100000000101100110100001 11001010001100000000100110000 01101000000000001100100000001 01000000001100000000100110010 11001010000000001100100000000 11100010001100000000100110011 01001000000000000000010000000 01000010001100001100000110000 01001010000000000000000000000 11101000001100001100000000000 11000010000000000000000000000 01001000001100001100000000000 11001110000000000000000000000 01000010001100001100000100000 11001100000000000000000000000 01000110001100001100000000000 10000010000000000000000000000 00000000001100000000000000000 00000000000000000000000000000 00000000000000000000000000000\n",
      "flipped_qubit_dict {'Cluster_0': [18], 'Cluster_1': [12], 'Cluster_2': [23, 25, 23, 24, 25, 26, 26, 27, 29, 28, 29, 29, 29, 29, 28, 29, 23], 'Cluster_3': [], 'Cluster_4': [], 'Cluster_5': [5], 'Cluster_6': [], 'Cluster_7': [8], 'Cluster_8': [1], 'Cluster_9': [12], 'Cluster_10': [], 'Cluster_11': [], 'Cluster_12': [8], 'Cluster_13': [12], 'Cluster_14': [1, 0], 'Cluster_15': [], 'Cluster_16': [], 'Cluster_17': [], 'Cluster_18': [6, 7], 'Cluster_19': [15, 12], 'Cluster_20': [], 'Cluster_21': [1, 2], 'Cluster_22': [5], 'Cluster_23': [], 'Cluster_24': [12], 'Cluster_25': [4], 'Cluster_26': [6], 'Cluster_27': [], 'Cluster_28': [], 'Cluster_29': [1], 'Cluster_30': [], 'Cluster_31': [2], 'Cluster_32': [], 'Cluster_33': [24, 25, 23, 24]}\n",
      "logical: [1] \n",
      "\n"
     ]
    },
    {
     "name": "stderr",
     "output_type": "stream",
     "text": [
      "  6%|▌         | 62/1111 [02:03<34:34,  1.98s/it]"
     ]
    },
    {
     "name": "stdout",
     "output_type": "stream",
     "text": [
      "\n",
      "meas_str: 011111000110111110111110101111 01010111001000000011001001010 11010011100101001111000110010 01110111001001001011001010110 11010011100101000111000110000 01010000011001001011001010110 11110011000011001011000110000 01010000000000001011001010110 11111101000000001011000110000 01010000000000001011001100110 11111111000000001011000110000 01101010000000001011001100110 11010001000000001011000111010 01101010000000001011001000000 11010001000000011000001111000 01100110000000011011000011000 11010111000000011000001111000 01100000000000001011000000000 11010111000000001000001111000 01100110000000001011000111000 11010110000000001000001110000 01001110000000001011000111000 11001000000000001000001000000 01101110000000001011000111000 10100110000000001000001110000 00101110000000001011000001000 11000010000000001000000000000 00100010000000001011000000010 00100010000000001001000000010 00100010000000000000000000010 01000000000000000000000000010\n",
      "flipped_qubit_dict {'Cluster_0': [], 'Cluster_1': [], 'Cluster_2': [10], 'Cluster_3': [], 'Cluster_4': [28, 28], 'Cluster_5': [], 'Cluster_6': [], 'Cluster_7': [4], 'Cluster_8': [6], 'Cluster_9': [5], 'Cluster_10': [], 'Cluster_11': [5], 'Cluster_12': [], 'Cluster_13': [5], 'Cluster_14': [], 'Cluster_15': [5], 'Cluster_16': [28, 29, 27, 23, 29, 24, 24, 26, 28, 29, 28, 29, 24, 25, 24, 27, 25, 26, 25, 26, 26, 27, 28, 28, 23, 25, 25, 26, 22, 23, 23, 23, 25, 25, 26, 26, 27, 27, 28, 29, 23, 24, 25, 27, 28, 29, 23, 24, 27, 28, 29, 23, 24, 25, 28, 29, 24, 25, 26, 16, 17, 17, 23, 24, 26, 27, 16, 19, 20, 20, 24, 25, 27, 28, 29, 18, 19, 21, 25, 26, 27], 'Cluster_17': [], 'Cluster_18': [4], 'Cluster_19': [], 'Cluster_20': [10], 'Cluster_21': [4, 2, 3, 2, 2, 3, 4, 5], 'Cluster_22': [5], 'Cluster_23': [12], 'Cluster_24': [2], 'Cluster_25': [], 'Cluster_26': [4], 'Cluster_27': []}\n",
      "logical: [1] \n",
      "\n"
     ]
    },
    {
     "name": "stderr",
     "output_type": "stream",
     "text": [
      "  6%|▌         | 63/1111 [02:05<35:06,  2.01s/it]"
     ]
    },
    {
     "name": "stdout",
     "output_type": "stream",
     "text": [
      "\n",
      "meas_str: 111110111111011110111110010111 11110110010001100000010110001 11111010010111101000011100101 11110111010000100100010111010 11111011000111001000011100101 11111011000010100100010110011 11111011001000101000011100001 11110111000010101100010110011 11111100001001001100011010001 11100010000011100000010110011 11111100001001001100011100001 11100100000010100000010110010 11110010011000101100011010001 11100000010011000000010110010 01110110011000101100011010001 11101000010010100000010110001 01111010011000101100011010001 01101110000010100000101110001 11101100001001101100010010001 11101010000110100000101110001 01001110001100101100010010000 01001100000111001100101110000 01000110001001001100010010001 11100000000011001100101100000 11000010000101001100000000000 01100100000011000000111100001 01000010000100001100000000000 01000010000010000000110000001 01000100000000001100000000001 01001110000000000000000000001 01000110000000000000000000001\n",
      "flipped_qubit_dict {'Cluster_0': [], 'Cluster_1': [23], 'Cluster_2': [], 'Cluster_3': [], 'Cluster_4': [24], 'Cluster_5': [12], 'Cluster_6': [8], 'Cluster_7': [17], 'Cluster_8': [0, 0, 0, 0, 0, 0, 0, 0], 'Cluster_9': [23], 'Cluster_10': [6], 'Cluster_11': [], 'Cluster_12': [24, 29, 25, 27, 28, 25, 29, 26, 26], 'Cluster_13': [], 'Cluster_14': [12], 'Cluster_15': [23, 24, 25, 23, 24, 22, 25, 22], 'Cluster_16': [], 'Cluster_17': [18], 'Cluster_18': [], 'Cluster_19': [], 'Cluster_20': [15, 15], 'Cluster_21': [12], 'Cluster_22': [], 'Cluster_23': [27, 28], 'Cluster_24': [], 'Cluster_25': [], 'Cluster_26': [8], 'Cluster_27': [1], 'Cluster_28': [15], 'Cluster_29': [], 'Cluster_30': [5], 'Cluster_31': [5], 'Cluster_32': [12], 'Cluster_33': [15, 15, 15], 'Cluster_34': [5], 'Cluster_35': [12], 'Cluster_36': [3], 'Cluster_37': [15], 'Cluster_38': [], 'Cluster_39': [18], 'Cluster_40': [], 'Cluster_41': [24], 'Cluster_42': [15], 'Cluster_43': [], 'Cluster_44': [1], 'Cluster_45': [], 'Cluster_46': []}\n",
      "logical: [1] \n",
      "\n"
     ]
    },
    {
     "name": "stderr",
     "output_type": "stream",
     "text": [
      "  6%|▌         | 64/1111 [02:07<34:44,  1.99s/it]"
     ]
    },
    {
     "name": "stdout",
     "output_type": "stream",
     "text": [
      "\n",
      "meas_str: 110110011111111011111111111101 11000101010010001000000000011 01101101010000001000000000000 11001101010010001000001010011 01100111010010001000001100011 11001101010010001000001010011 01011101010010001000001100011 11010101010010001000001010000 01101011010010001000001101011 11100111010010001000001011000 01101011010010001000001101011 11000111010010001000001000011 11101101010010001000000000011 11001011010010001000000101011 01101101010010000100000001011 11000001010010001000000100011 01101101000010000100000001000 11001011000000001000000100011 01101101000000000100000001000 11001101000000000000001000000 01101011000000000000000001000 11001101000000000000001000000 01100001000000000000000001000 01000001000000000000001000000 11000001000000000000000010000 01000000000000000000001100000 11000000000000000000000000000 10000000000000000000001100000 10000000000000000000000000000 10000000000000000000001100000 01000010000000000000000000000\n",
      "flipped_qubit_dict {'Cluster_0': [6], 'Cluster_1': [], 'Cluster_2': [5], 'Cluster_3': [], 'Cluster_4': [4], 'Cluster_5': [29, 27, 28, 29, 29, 29, 29, 28, 29, 29, 28, 29, 28, 28, 29, 29], 'Cluster_6': [23], 'Cluster_7': [12], 'Cluster_8': [23], 'Cluster_9': [1], 'Cluster_10': [6], 'Cluster_11': [23], 'Cluster_12': [], 'Cluster_13': [], 'Cluster_14': [23, 24], 'Cluster_15': [1], 'Cluster_16': [], 'Cluster_17': [23, 24], 'Cluster_18': [12], 'Cluster_19': [], 'Cluster_20': [6], 'Cluster_21': [24], 'Cluster_22': [6], 'Cluster_23': [23], 'Cluster_24': [1], 'Cluster_25': [4], 'Cluster_26': [], 'Cluster_27': [26], 'Cluster_28': [23], 'Cluster_29': [1], 'Cluster_30': [], 'Cluster_31': [26], 'Cluster_32': [1], 'Cluster_33': [], 'Cluster_34': [5], 'Cluster_35': [14], 'Cluster_36': [], 'Cluster_37': [], 'Cluster_38': [28]}\n",
      "logical: [1] \n",
      "\n"
     ]
    },
    {
     "name": "stderr",
     "output_type": "stream",
     "text": [
      "  6%|▌         | 65/1111 [02:09<35:04,  2.01s/it]"
     ]
    },
    {
     "name": "stdout",
     "output_type": "stream",
     "text": [
      "\n",
      "meas_str: 111111110110110110011011101101 11010000110101100010100000000 11010000001000101000110011011 11010000000110100010100000000 11010000001001101000110010011 10010000000100100010100001000 01010000000000101000100110011 00011110001101100100110011011 10011010001101111000100111000 01010100000000111000110111011 01011000001100110011100100000 01010100000101111100110111011 01010100001001111111100010000 01010000000100111100100001011 11010110001000110011110010000 11010110000101111100100001011 11010000001001110011110010000 01010100000100111100100001000 11010010001000110000001100000 11010100010101101100000000000 10010110001001110000001100000 10000011000100111100000000000 10000110001000110000000000000 01000111000001111100000000000 11000100000001110000000000000 11001001000000111100000000000 11001100000000110000000000000 11000101000001110000000000000 11001101000000110000000001000 10001100000000000000000001000 00000000000000000000000001000\n",
      "flipped_qubit_dict {'Cluster_0': [], 'Cluster_1': [], 'Cluster_2': [24, 22, 23], 'Cluster_3': [], 'Cluster_4': [], 'Cluster_5': [14, 14, 15, 15], 'Cluster_6': [12], 'Cluster_7': [23, 24, 23], 'Cluster_8': [18], 'Cluster_9': [22], 'Cluster_10': [], 'Cluster_11': [29, 28, 28, 29, 26, 26, 27, 28, 29, 27, 29, 28, 29, 29, 29, 29, 29, 28, 29], 'Cluster_12': [], 'Cluster_13': [4, 3, 4, 5, 1, 3, 0, 2, 5, 0, 1, 6, 2, 7, 3, 4, 3, 5, 7, 6, 8, 7, 9, 10, 4, 11, 12, 13, 14, 15, 5, 6, 14, 15, 0, 1, 16, 2, 3, 4, 7, 5, 8, 6, 7, 8, 9, 10, 11, 12, 15, 13, 14, 15, 4, 5, 6, 7, 8, 14, 15, 5, 7, 9, 11, 12, 13, 14, 15, 0, 2, 3, 4, 5, 11, 12, 13, 14, 15, 3, 4, 5, 6, 7, 8, 9, 10, 11, 12, 13, 14, 15, 3, 4, 6, 7, 8, 9, 10, 11, 12, 13, 14, 15, 5, 8, 9, 10, 11, 13, 14, 15, 5, 6, 7, 11, 12, 13, 14, 15, 12], 'Cluster_14': [], 'Cluster_15': [23], 'Cluster_16': [23], 'Cluster_17': [], 'Cluster_18': [23], 'Cluster_19': [5], 'Cluster_20': [], 'Cluster_21': [], 'Cluster_22': [24], 'Cluster_23': [12], 'Cluster_24': [10], 'Cluster_25': [], 'Cluster_26': [], 'Cluster_27': [], 'Cluster_28': [12], 'Cluster_29': [], 'Cluster_30': [18], 'Cluster_31': [], 'Cluster_32': [], 'Cluster_33': [18], 'Cluster_34': [], 'Cluster_35': [28], 'Cluster_36': [11], 'Cluster_37': [], 'Cluster_38': [24], 'Cluster_39': [16], 'Cluster_40': [], 'Cluster_41': [21]}\n",
      "logical: [1] \n",
      "\n"
     ]
    },
    {
     "name": "stderr",
     "output_type": "stream",
     "text": [
      "  6%|▌         | 66/1111 [02:11<35:29,  2.04s/it]"
     ]
    },
    {
     "name": "stdout",
     "output_type": "stream",
     "text": [
      "\n",
      "meas_str: 100111011111110111111110001101 11100110000110011110100000110 01000010000111111110101001101 11000110000110010010100000110 01100110000110110110100101110 11100000000111011010101100110 01101110001110110110100101110 11101110001111011111000001110 01101000001110010110100100110 11101100001110011011000001110 01101100001110011110100100110 11101100001110010001000001101 01100110001110011100100100000 11101100001110010001000001011 01101100001110010000100100000 11100100001110010001000010011 01101100001110010000100100011 11101010001110010001000010011 01101100000010000000100100000 10100000001110000001110010011 01101100000010000000100100000 10100110000010000001110110011 01101100000010000000100000000 10000000000010000001110111011 00100000000010000000100001011 10001110000010000000010110000 00100100000010000000100000000 11001000000010000000010110000 00000100000000000000100110000 11000000000000000000000000000 01000000000000000000110000000\n",
      "flipped_qubit_dict {'Cluster_0': [8], 'Cluster_1': [28], 'Cluster_2': [], 'Cluster_3': [5], 'Cluster_4': [], 'Cluster_5': [24], 'Cluster_6': [5], 'Cluster_7': [], 'Cluster_8': [5], 'Cluster_9': [27], 'Cluster_10': [1], 'Cluster_11': [], 'Cluster_12': [1], 'Cluster_13': [9], 'Cluster_14': [1], 'Cluster_15': [], 'Cluster_16': [23, 23], 'Cluster_17': [23], 'Cluster_18': [27], 'Cluster_19': [], 'Cluster_20': [18], 'Cluster_21': [8], 'Cluster_22': [], 'Cluster_23': [1], 'Cluster_24': [18], 'Cluster_25': [23, 24, 23, 23, 25, 26, 27], 'Cluster_26': [1], 'Cluster_27': [4], 'Cluster_28': [12], 'Cluster_29': [2], 'Cluster_30': [2], 'Cluster_31': [], 'Cluster_32': [1], 'Cluster_33': [], 'Cluster_34': [], 'Cluster_35': [15], 'Cluster_36': [6], 'Cluster_37': [9], 'Cluster_38': [], 'Cluster_39': [], 'Cluster_40': [6], 'Cluster_41': [], 'Cluster_42': [], 'Cluster_43': [23, 24, 24, 25, 26], 'Cluster_44': [1], 'Cluster_45': [6], 'Cluster_46': [12]}\n",
      "logical: [1] \n",
      "\n"
     ]
    },
    {
     "name": "stderr",
     "output_type": "stream",
     "text": [
      "  6%|▌         | 67/1111 [02:13<35:12,  2.02s/it]"
     ]
    },
    {
     "name": "stdout",
     "output_type": "stream",
     "text": [
      "\n",
      "meas_str: 110010001101110111011011011111 01001011000000001010100100011 01010000011001101100010010011 01101111001001101010100101000 11101110010001001000010011011 11000001001001001000100110001 11101110010001001000010011011 11000101010001001000100110010 11101010010001001000010011010 01001001010001001000100101000 11100100010000101000010011000 01001101010001001000100101000 11100110000000101000010011010 01000101010000101000001010010 11100000010000101000000011010 01100111010001000000001010010 11100001010000100000000011010 01100111010000100000001010010 11101011010001000000000011010 01100111010001000000001010010 11000001010000000000000011000 01000111010001000000001010000 11000011010001000000000111000 01100101010001000000001110000 11101011010000000000000011000 11000001010000000000000010000 11101011010000000000000000000 11001101010000000000000000000 01100001000000000000000000000 11001101000000000000000000000 01000011000000000000000000000\n",
      "flipped_qubit_dict {'Cluster_0': [22], 'Cluster_1': [22], 'Cluster_2': [24], 'Cluster_3': [], 'Cluster_4': [23, 24, 24], 'Cluster_5': [27, 28], 'Cluster_6': [4], 'Cluster_7': [5, 6], 'Cluster_8': [], 'Cluster_9': [24], 'Cluster_10': [27, 28], 'Cluster_11': [], 'Cluster_12': [], 'Cluster_13': [], 'Cluster_14': [], 'Cluster_15': [15], 'Cluster_16': [23, 24], 'Cluster_17': [15], 'Cluster_18': [15], 'Cluster_19': [], 'Cluster_20': [15], 'Cluster_21': [8], 'Cluster_22': [], 'Cluster_23': [4], 'Cluster_24': [6], 'Cluster_25': [15], 'Cluster_26': [], 'Cluster_27': [15], 'Cluster_28': [4], 'Cluster_29': [0, 1, 0], 'Cluster_30': [19], 'Cluster_31': [4], 'Cluster_32': [11], 'Cluster_33': [], 'Cluster_34': [26, 28, 23, 29, 29, 27, 28, 25, 28, 29, 29, 26, 23, 21, 29, 23, 24, 25, 25, 20, 27, 22, 29, 22, 23, 25, 25, 26, 21, 26, 28, 28, 23, 23, 23, 24, 22, 23, 26, 24, 27, 29, 23, 25, 28, 29, 20, 24], 'Cluster_35': [], 'Cluster_36': [], 'Cluster_37': [1], 'Cluster_38': [15]}\n",
      "logical: [1] \n",
      "\n"
     ]
    },
    {
     "name": "stderr",
     "output_type": "stream",
     "text": [
      "  6%|▌         | 68/1111 [02:15<35:05,  2.02s/it]"
     ]
    },
    {
     "name": "stdout",
     "output_type": "stream",
     "text": [
      "\n",
      "meas_str: 111110111111111110011111110101 01000011010101001000010011110 01001111010101000100010110001 01001111010101001000010111100 01000101011101000100010111001 11001001010101001000010111101 01100101010101000100010111011 10101001010111001000010111101 01100101010101000100010011001 11000011010101001000010010101 01100111010101001100010010011 11000001010101000000010010101 01100111010101001100010011011 11000011000101000000000000001 01101011000101001100000011111 11000101000101000000000000001 01101101000101000000000001111 10101001000101000000000000001 01100010000101000000000011101 11001111000111000100000010101 01101001000101000000000000001 11001111000100000000000010101 01101001000100000000000000001 10100101000100000000000001111 10101101000100000000000000011 01101011000000000000000001100 10001101000000000000000000000 01001101000000000000000001100 10000011000000000100000000000 00000011000000000000000000000 00000000000000000000000000000\n",
      "flipped_qubit_dict {'Cluster_0': [22], 'Cluster_1': [22], 'Cluster_2': [3], 'Cluster_3': [], 'Cluster_4': [24], 'Cluster_5': [28], 'Cluster_6': [], 'Cluster_7': [24], 'Cluster_8': [23], 'Cluster_9': [], 'Cluster_10': [1], 'Cluster_11': [], 'Cluster_12': [1], 'Cluster_13': [28], 'Cluster_14': [], 'Cluster_15': [28], 'Cluster_16': [4], 'Cluster_17': [27], 'Cluster_18': [], 'Cluster_19': [4], 'Cluster_20': [23, 24, 27, 24, 23, 25, 24, 24, 25, 26, 23, 23, 22, 25, 25, 26, 26, 27, 27, 27, 23, 27, 29, 26, 27, 28, 29, 22, 24], 'Cluster_21': [], 'Cluster_22': [], 'Cluster_23': [2, 3, 4], 'Cluster_24': [12], 'Cluster_25': [], 'Cluster_26': [], 'Cluster_27': [3], 'Cluster_28': [3, 4], 'Cluster_29': [], 'Cluster_30': [], 'Cluster_31': [], 'Cluster_32': [], 'Cluster_33': [27], 'Cluster_34': [], 'Cluster_35': [], 'Cluster_36': [], 'Cluster_37': [24], 'Cluster_38': [2, 3], 'Cluster_39': [], 'Cluster_40': [1], 'Cluster_41': [], 'Cluster_42': [24], 'Cluster_43': [11]}\n",
      "logical: [1] \n",
      "\n"
     ]
    },
    {
     "name": "stderr",
     "output_type": "stream",
     "text": [
      "  6%|▌         | 69/1111 [02:17<36:03,  2.08s/it]"
     ]
    },
    {
     "name": "stdout",
     "output_type": "stream",
     "text": [
      "\n",
      "meas_str: 100110011111010111101010100011 00101101000001100001010010110 11000111000011010010101100000 01101101000101110001010000000 11000011000011010010101100000 01101111000101110001010000000 11100011000011010010101100000 10001001000101110001010000000 10100011000011010010101100000 11001001000001110001010000000 00101111000001010010101100000 01000101000001110001010000010 11101001001101010010101100010 01000101000001110001010000010 11100011001101010010101100010 01000111000001110001010010010 00100111001101000010101000010 10100001001101100001010100010 01000001001101000010101001010 11100001001111100001010101010 01100001001101000010101001010 10100001000001100001010101010 01100001011101000010101101010 11000001000001001001010001000 01100000001101001000100001000 10000000000001001000010001000 01100000001101001000100001000 11000000000001001000010001000 00000000001101001000100010000 00000000000001000000010001000 00000000000001000000000000000\n",
      "flipped_qubit_dict {'Cluster_0': [], 'Cluster_1': [4], 'Cluster_2': [8], 'Cluster_3': [18], 'Cluster_4': [4], 'Cluster_5': [27, 28], 'Cluster_6': [], 'Cluster_7': [], 'Cluster_8': [27], 'Cluster_9': [17, 14, 18, 19, 15, 26, 19, 20, 22, 20, 23, 27, 22, 25, 6, 24, 27, 28, 10, 14, 24, 15, 15, 26, 27, 14, 18, 19, 15, 28, 20, 16, 20, 21, 29, 21, 23, 24, 25, 20, 13, 15, 21, 22, 16, 19, 23, 24, 18, 21, 19, 25, 22, 26, 23, 21, 14, 22, 24, 16, 13], 'Cluster_10': [27], 'Cluster_11': [28], 'Cluster_12': [28], 'Cluster_13': [], 'Cluster_14': [], 'Cluster_15': [24], 'Cluster_16': [], 'Cluster_17': [], 'Cluster_18': [28], 'Cluster_19': [], 'Cluster_20': [11, 12, 13, 16, 17, 0, 1, 3, 4, 14, 15, 16, 17, 8, 3, 4, 5, 9, 6, 7, 17, 18, 10]}\n",
      "logical: [0] \n",
      "\n",
      "------------ Wrong logical! ------------\n",
      "\n"
     ]
    },
    {
     "name": "stderr",
     "output_type": "stream",
     "text": [
      "  6%|▋         | 70/1111 [02:19<35:30,  2.05s/it]"
     ]
    },
    {
     "name": "stdout",
     "output_type": "stream",
     "text": [
      "\n",
      "meas_str: 101100011110110111111011001000 00110011000011000000110100001 11100001001110100000000001101 01110111000111000000110101001 11010101001011010000000000101 01111111000111010000110101111 11011111001011010000000000101 01101011000011010000000100011 01011111000011010000000010101 10001001000010110000000110011 00001011000011000000000100110 11001011000010101000000110011 01000101000101001000000100110 11000001000000101000000111011 01000101000001001000000110101 11000011000000101000000111011 01000001000000101000000110101 11001101010000101000000001011 11000010000000100000000101101 10000000000000100000000001011 11000010001100100000000101110 10100000000001100000000001000 11001110001100100000000000110 10101110000000100000000011000 11000000001101100000000000110 11001100010001100000000000000 11000110000000100000000000100 00000110000000000000000000010 11000000000000000000000000110 01100110000000000000000000000 00000000000000000000000000000\n",
      "flipped_qubit_dict {'Cluster_0': [23], 'Cluster_1': [27], 'Cluster_2': [2], 'Cluster_3': [28], 'Cluster_4': [], 'Cluster_5': [27], 'Cluster_6': [], 'Cluster_7': [20, 19, 21, 22, 23, 24, 18, 16, 17, 18], 'Cluster_8': [28], 'Cluster_9': [27], 'Cluster_10': [], 'Cluster_11': [], 'Cluster_12': [24], 'Cluster_13': [1, 4, 1, 4, 4, 0, 5, 1, 2, 3], 'Cluster_14': [], 'Cluster_15': [4], 'Cluster_16': [5], 'Cluster_17': [15], 'Cluster_18': [1], 'Cluster_19': [4], 'Cluster_20': [], 'Cluster_21': [17, 17], 'Cluster_22': [], 'Cluster_23': [1], 'Cluster_24': [5], 'Cluster_25': [], 'Cluster_26': [15], 'Cluster_27': [23, 24, 25, 27, 20, 28, 21, 29, 16, 24, 23, 24, 25, 24, 26, 20, 25, 25, 21, 22, 17, 23, 21, 26, 22, 23, 27, 24, 28, 25, 19, 19, 22, 23, 23, 24, 23, 25, 23, 27, 24, 25, 27, 29, 18, 23, 19, 24, 20, 26, 26, 27, 28, 29, 24, 29], 'Cluster_28': [3], 'Cluster_29': [8], 'Cluster_30': [2], 'Cluster_31': [], 'Cluster_32': [], 'Cluster_33': [15], 'Cluster_34': []}\n",
      "logical: [1] \n",
      "\n"
     ]
    },
    {
     "name": "stderr",
     "output_type": "stream",
     "text": [
      "  6%|▋         | 71/1111 [02:21<35:06,  2.03s/it]"
     ]
    },
    {
     "name": "stdout",
     "output_type": "stream",
     "text": [
      "\n",
      "meas_str: 100001001110110111110111101101 01110001000100000111000110000 11111100000100100110100101011 01111001000101000111000110000 11111110000100100010100011011 00011001000101000101000110011 11110010000100100010100011011 01110101000100100001000110011 10110010000101000100100011011 01000101000100100001000110001 11010010100100100010000011010 00000101100100100111010010001 11010110100100100000000110010 11000001100100000111000101010 11011010100100000100100110010 11000000000100000101000101010 11111010100100000000010110010 01100000000100000011010011001 11011010100100000100101010010 11101110000100000010100011001 10011011100100000010000110001 11101110000100000000000011011 10101011100100000100000110000 10100110000100000100000011000 11100011100000000100000000000 11100110000000001000000011000 10000110000000001000000000000 11100110000000001000000000000 00111110000000000000000000000 11101010000000000000000000000 00100000000000000000000000000\n",
      "flipped_qubit_dict {'Cluster_0': [], 'Cluster_1': [4], 'Cluster_2': [12], 'Cluster_3': [26, 27, 28, 29, 27, 29, 24, 23, 27, 25, 27, 27, 28, 23, 27, 25, 28, 28, 28, 29, 25, 26, 29, 25, 21, 24, 25, 26], 'Cluster_4': [12], 'Cluster_5': [], 'Cluster_6': [5], 'Cluster_7': [1], 'Cluster_8': [], 'Cluster_9': [1], 'Cluster_10': [26], 'Cluster_11': [8, 9, 10, 11, 6, 6, 10, 11], 'Cluster_12': [1], 'Cluster_13': [22], 'Cluster_14': [28], 'Cluster_15': [1], 'Cluster_16': [5], 'Cluster_17': [8], 'Cluster_18': [11], 'Cluster_19': [21], 'Cluster_20': [], 'Cluster_21': [24], 'Cluster_22': [1], 'Cluster_23': [], 'Cluster_24': [5, 9, 10, 8, 11, 9, 11, 8, 10, 11], 'Cluster_25': [], 'Cluster_26': [28], 'Cluster_27': [], 'Cluster_28': [], 'Cluster_29': [27, 26], 'Cluster_30': [1], 'Cluster_31': [11], 'Cluster_32': [15], 'Cluster_33': [15], 'Cluster_34': [15], 'Cluster_35': [24], 'Cluster_36': [27], 'Cluster_37': [24], 'Cluster_38': [1], 'Cluster_39': [11], 'Cluster_40': [27], 'Cluster_41': [5], 'Cluster_42': [], 'Cluster_43': [23, 24], 'Cluster_44': [18]}\n",
      "logical: [1] \n",
      "\n"
     ]
    },
    {
     "name": "stderr",
     "output_type": "stream",
     "text": [
      "  6%|▋         | 72/1111 [02:23<35:32,  2.05s/it]"
     ]
    },
    {
     "name": "stdout",
     "output_type": "stream",
     "text": [
      "\n",
      "meas_str: 100111010111111100101110011111 00001111001011011111000110101 10101001101011001000001100101 01101101001011011111000110101 11000101101011001000001010101 10100001001011011111000110110 10000101101011001000001010110 11100111001011010011000110110 00100101101011001001001100110 01000001001001011010000111110 01000111101101011001001011110 10000101001101001010000011110 10001111100001001001001111110 01011011001101001110000110110 11111100100001000001001011010 11010110001111000010000110110 00111110100000100001001101010 01011101100001000010000110000 11110100100011000001001011010 00110001100001000010000000010 11110100000001000001001011000 00110011000000000010000011010 11110110000000000001001011000 11110000000000000010001011010 10011010000000000001000011000 11110011000000000010000111010 11111100000000000001000011000 10101000000000000010000111010 01101100000000000001000110000 10100100000000000000000111010 01000010000000000000000000000\n",
      "flipped_qubit_dict {'Cluster_0': [28], 'Cluster_1': [], 'Cluster_2': [2, 3], 'Cluster_3': [10], 'Cluster_4': [24], 'Cluster_5': [25], 'Cluster_6': [4, 5], 'Cluster_7': [22], 'Cluster_8': [25], 'Cluster_9': [28, 27], 'Cluster_10': [23], 'Cluster_11': [6], 'Cluster_12': [22], 'Cluster_13': [], 'Cluster_14': [24], 'Cluster_15': [27], 'Cluster_16': [22], 'Cluster_17': [28], 'Cluster_18': [], 'Cluster_19': [4], 'Cluster_20': [], 'Cluster_21': [], 'Cluster_22': [5], 'Cluster_23': [24], 'Cluster_24': [27, 28, 28], 'Cluster_25': [5], 'Cluster_26': [], 'Cluster_27': [2], 'Cluster_28': [18], 'Cluster_29': [21], 'Cluster_30': [5], 'Cluster_31': [16, 16, 13, 12], 'Cluster_32': [3], 'Cluster_33': [], 'Cluster_34': [22, 23, 24, 22], 'Cluster_35': [], 'Cluster_36': [27], 'Cluster_37': [], 'Cluster_38': [28], 'Cluster_39': [], 'Cluster_40': [18], 'Cluster_41': [28], 'Cluster_42': [], 'Cluster_43': [28], 'Cluster_44': [], 'Cluster_45': [5], 'Cluster_46': [], 'Cluster_47': [27], 'Cluster_48': [], 'Cluster_49': [23, 23], 'Cluster_50': [], 'Cluster_51': [], 'Cluster_52': [5], 'Cluster_53': [23], 'Cluster_54': [], 'Cluster_55': [1], 'Cluster_56': [1], 'Cluster_57': [24], 'Cluster_58': [28], 'Cluster_59': [5], 'Cluster_60': [24], 'Cluster_61': [27], 'Cluster_62': [27], 'Cluster_63': [22]}\n",
      "logical: [1] \n",
      "\n"
     ]
    },
    {
     "name": "stderr",
     "output_type": "stream",
     "text": [
      "  7%|▋         | 73/1111 [02:25<35:06,  2.03s/it]"
     ]
    },
    {
     "name": "stdout",
     "output_type": "stream",
     "text": [
      "\n",
      "meas_str: 111100011111010111111000011110 10101110010000010000000110001 10111100010110010000100100000 10101000010000010000001110011 10111000010110010000101100010 11001100010000000000000010011 10111100010110000000101110010 11001111010000000000000110011 11110011010110000000101000001 01001101010000000000000111011 01110101010110000000001001001 00001011010000010000010111011 01111001010000000000001111010 01101011010010000000000001011 01011011010000000000000111000 01001011010000100000000001001 00000001010000100000000110000 11001010010000100000000110001 00001100010010100000000000000 01101010010001100000000110001 01101100010001100000000000000 01100000010001100000000000001 01111100010001100000000000000 01110000010001100000000000001 00111100010000000000000000000 11110000000000000000000000001 00111100000000000000000000000 01001000000000000000000000001 00100000010000000000000000000 01000000000000000000000000000 00000000000000000000000000000\n",
      "flipped_qubit_dict {'Cluster_0': [27], 'Cluster_1': [0], 'Cluster_2': [], 'Cluster_3': [24, 25, 28, 29, 25, 27, 28, 29], 'Cluster_4': [], 'Cluster_5': [15], 'Cluster_6': [15], 'Cluster_7': [], 'Cluster_8': [5], 'Cluster_9': [23, 24], 'Cluster_10': [16], 'Cluster_11': [], 'Cluster_12': [28], 'Cluster_13': [16], 'Cluster_14': [5], 'Cluster_15': [24], 'Cluster_16': [], 'Cluster_17': [5], 'Cluster_18': [], 'Cluster_19': [25], 'Cluster_20': [28], 'Cluster_21': [], 'Cluster_22': [], 'Cluster_23': [7], 'Cluster_24': [24], 'Cluster_25': [5], 'Cluster_26': [27], 'Cluster_27': [1], 'Cluster_28': [5], 'Cluster_29': [17], 'Cluster_30': [8], 'Cluster_31': [], 'Cluster_32': [23], 'Cluster_33': [6], 'Cluster_34': [23], 'Cluster_35': [], 'Cluster_36': [], 'Cluster_37': [1], 'Cluster_38': [], 'Cluster_39': [24], 'Cluster_40': [23], 'Cluster_41': [], 'Cluster_42': [], 'Cluster_43': [27], 'Cluster_44': [], 'Cluster_45': [], 'Cluster_46': [23], 'Cluster_47': [15]}\n",
      "logical: [1] \n",
      "\n"
     ]
    },
    {
     "name": "stderr",
     "output_type": "stream",
     "text": [
      "  7%|▋         | 74/1111 [02:27<34:36,  2.00s/it]"
     ]
    },
    {
     "name": "stdout",
     "output_type": "stream",
     "text": [
      "\n",
      "meas_str: 111100111111101111101111111111 11000011100000111010000000001 11001111000001111001000000001 11000011000001011010000000001 11001111000000001001000000010 11000011000001011010000000011 01000011000000000011000000011 11100010000001011011000011000 01000010000001000111000000011 10000010000000011011000000010 01101100000001000111000001001 11101100000000011000000001010 01000000000001000111000001001 10001100000000010010000001000 01000110000001000001000001011 11001000010000010010000010000 00000100000000010101000001001 11000110000001000010000010010 00000110000001000001000001001 00000110000001110010000010010 11000110000000010001000001001 00000000000001100010000010010 11000110000001010101000001001 00000000000001100010100011010 00000000000001010001100000011 11000000000000000010100000000 01100000000000000001100000011 11000000000000000010100000000 00000000000000000001100000000 00000010000000000010000000000 00000010000000000001000000000\n",
      "flipped_qubit_dict {'Cluster_0': [10], 'Cluster_1': [], 'Cluster_2': [], 'Cluster_3': [], 'Cluster_4': [28], 'Cluster_5': [1], 'Cluster_6': [27], 'Cluster_7': [14, 15, 15], 'Cluster_8': [27], 'Cluster_9': [], 'Cluster_10': [4], 'Cluster_11': [28], 'Cluster_12': [], 'Cluster_13': [], 'Cluster_14': [23], 'Cluster_15': [28], 'Cluster_16': [], 'Cluster_17': [], 'Cluster_18': [23], 'Cluster_19': [], 'Cluster_20': [28], 'Cluster_21': [], 'Cluster_22': [15], 'Cluster_23': [28], 'Cluster_24': [], 'Cluster_25': [], 'Cluster_26': [], 'Cluster_27': [], 'Cluster_28': [24], 'Cluster_29': [], 'Cluster_30': [23], 'Cluster_31': [], 'Cluster_32': [4], 'Cluster_33': [], 'Cluster_34': [], 'Cluster_35': [], 'Cluster_36': [12], 'Cluster_37': [23], 'Cluster_38': [27], 'Cluster_39': [24], 'Cluster_40': [27], 'Cluster_41': [], 'Cluster_42': [10], 'Cluster_43': [], 'Cluster_44': [24], 'Cluster_45': [], 'Cluster_46': [], 'Cluster_47': [24], 'Cluster_48': [4], 'Cluster_49': [], 'Cluster_50': [27], 'Cluster_51': [], 'Cluster_52': [1], 'Cluster_53': [4], 'Cluster_54': [10], 'Cluster_55': [28, 29, 27, 29], 'Cluster_56': [1], 'Cluster_57': [12], 'Cluster_58': [24], 'Cluster_59': [1], 'Cluster_60': [16, 15, 14], 'Cluster_61': [], 'Cluster_62': [25]}\n",
      "logical: [1] \n",
      "\n"
     ]
    },
    {
     "name": "stderr",
     "output_type": "stream",
     "text": [
      "  7%|▋         | 75/1111 [02:29<35:33,  2.06s/it]"
     ]
    },
    {
     "name": "stdout",
     "output_type": "stream",
     "text": [
      "\n",
      "meas_str: 110100111111011110111110011111 10110100001111110100000000001 11000000001001111000001010001 10110100001110110100001000001 00000110001001111000000010001 01111110001110110000001000001 11000110001000111000000010011 01111000001111110100001110011 11001110001001111000000100010 01111100001110110000001110001 01000100001000110000000100001 11100100001111110000001110001 11100011001101110000001010001 00100001011100110000001110001 11101111001101110000000111001 00101110001100110000001110001 11101110000000010000000111001 00100010001100010000001000001 01001110000001010000000100001 00101010001101010000000111001 01001100010001010000000010001 10100010000001011100000111011 11001110000000010000000100000 11001010000000010000000100000 01001100000000010000000100000 01001100000000010000000100000 10000001000000010000000100000 01000001000000010000000100000 11000000000000010000001100000 00000000000000010000001100000 00000000010000000000000000000\n",
      "flipped_qubit_dict {'Cluster_0': [6], 'Cluster_1': [], 'Cluster_2': [6], 'Cluster_3': [], 'Cluster_4': [28], 'Cluster_5': [], 'Cluster_6': [], 'Cluster_7': [], 'Cluster_8': [], 'Cluster_9': [28], 'Cluster_10': [], 'Cluster_11': [1], 'Cluster_12': [4], 'Cluster_13': [12], 'Cluster_14': [], 'Cluster_15': [1], 'Cluster_16': [5], 'Cluster_17': [], 'Cluster_18': [12], 'Cluster_19': [18], 'Cluster_20': [23, 23, 27, 23], 'Cluster_21': [5], 'Cluster_22': [4], 'Cluster_23': [6], 'Cluster_24': [4], 'Cluster_25': [5], 'Cluster_26': [24], 'Cluster_27': [], 'Cluster_28': [23], 'Cluster_29': [], 'Cluster_30': [6], 'Cluster_31': [6, 4], 'Cluster_32': [], 'Cluster_33': [1, 0, 1, 0, 1, 1], 'Cluster_34': [5], 'Cluster_35': [5], 'Cluster_36': [28], 'Cluster_37': [24], 'Cluster_38': [28], 'Cluster_39': [], 'Cluster_40': [28], 'Cluster_41': [23, 12, 24, 13, 16, 14, 25, 15, 16, 16, 16, 16, 29, 13, 25, 14, 29, 15, 15, 16, 12, 13, 27, 16, 14, 28, 29, 15, 18, 23, 19, 24, 15, 20, 20, 17, 22, 22, 23, 23, 27, 12, 16, 28, 13, 28, 29, 14, 15, 19, 16, 16, 24, 25]}\n",
      "logical: [1] \n",
      "\n"
     ]
    },
    {
     "name": "stderr",
     "output_type": "stream",
     "text": [
      "  7%|▋         | 76/1111 [02:31<35:18,  2.05s/it]"
     ]
    },
    {
     "name": "stdout",
     "output_type": "stream",
     "text": [
      "\n",
      "meas_str: 101110111110011101101010110010 01100011110010010010110111011 00101011100000011001001011000 01100101110010010010110110001 00001100100000011100001010000 01100010100010010010110110011 00001100111000011100001110010 01101100110010010010110010010 01101100110000011100001000010 01101010101010010010110010010 00100000111100011000001111010 00100110101110000000110000010 00100000110000011000001100001 01100100111110000000110000010 01100100110100001000000000001 01101010100100011000110000010 01000110101100000000000000001 01001100100100011000110000010 01000000101100011000100011001 00001110101100000000000000010 00000010000100011100000011011 00000000001100010000001100011 00000000011100010000000011011 01000000011100010000001100011 00000000011100000100000011000 11100010010100000000001101011 01000010001100000000000001000 10000000000100000000000000011 01000010000100000000000000000 10001110001100000000000000000 01000010001000000000000000000\n",
      "flipped_qubit_dict {'Cluster_0': [24, 28, 29, 29, 26, 19, 19, 20, 23, 21, 23, 19, 22, 24, 25, 21, 27, 28, 22, 27, 28, 23, 28, 27, 24, 23, 29, 27, 23, 19, 25, 18, 22, 19, 23, 20, 24, 25, 27, 28, 29, 23, 23, 28, 29, 25, 20, 21, 25, 20, 22, 21, 23, 18, 22, 24, 25, 24, 20, 26, 25, 21, 26, 28, 27], 'Cluster_1': [28], 'Cluster_2': [1], 'Cluster_3': [4], 'Cluster_4': [6], 'Cluster_5': [], 'Cluster_6': [1], 'Cluster_7': [], 'Cluster_8': [13], 'Cluster_9': [1], 'Cluster_10': [6], 'Cluster_11': [], 'Cluster_12': [8], 'Cluster_13': [13], 'Cluster_14': [4], 'Cluster_15': [13], 'Cluster_16': [], 'Cluster_17': [], 'Cluster_18': [19], 'Cluster_19': [], 'Cluster_20': [17], 'Cluster_21': [19], 'Cluster_22': [6], 'Cluster_23': [], 'Cluster_24': [24, 23, 24], 'Cluster_25': [18, 18, 19], 'Cluster_26': [], 'Cluster_27': [18], 'Cluster_28': [24], 'Cluster_29': [23], 'Cluster_30': [27], 'Cluster_31': [24], 'Cluster_32': [21, 22, 14, 11, 12, 13, 15, 12, 13, 16, 17, 18, 19, 18, 19, 18, 20, 21, 22, 20, 21, 23, 21, 23], 'Cluster_33': [0, 1, 4, 1, 3, 4, 2, 3, 2, 4, 3, 5, 4, 5, 5, 6, 7, 3, 8, 9, 10, 11, 12, 0, 13, 1, 4, 2, 3, 5, 19, 0, 10, 11, 5, 2, 3, 0, 1], 'Cluster_34': []}\n",
      "logical: [0] \n",
      "\n",
      "------------ Wrong logical! ------------\n",
      "\n"
     ]
    },
    {
     "name": "stderr",
     "output_type": "stream",
     "text": [
      "  7%|▋         | 77/1111 [02:34<35:29,  2.06s/it]"
     ]
    },
    {
     "name": "stdout",
     "output_type": "stream",
     "text": [
      "\n",
      "meas_str: 111110111111111011111110100111 01001001010000110000100101010 01000100010000010000101010010 01000110110001110000000101010 01000000110001010000111010010 01100011110001110000000101010 00000011110001010000111011010 01100011110001110000000010010 01100001110001110000111011110 01100001110000110000000100110 01100001010001110000111011000 10101100110000110000000100000 10101011110001110000111011000 01101100010000110000011100000 10000011010000010000111011000 00101111010000110000010000000 10000011010000010000111011000 11101000010001110000010000000 01000011110000110000111011001 10001111110001110000010000001 01000111010000110000111010000 11001010110001100000010001000 00000010010000110000001010000 11001110100000110000010001001 00000010000000110000001010000 11000000000001010000010001000 00000000000000110000001010000 11000000100001010000010001000 00000011000001010000001010000 11000010100001010000010011000 01000001000000010000001000000\n",
      "flipped_qubit_dict {'Cluster_0': [7], 'Cluster_1': [], 'Cluster_2': [28], 'Cluster_3': [4], 'Cluster_4': [], 'Cluster_5': [], 'Cluster_6': [], 'Cluster_7': [0, 0], 'Cluster_8': [8], 'Cluster_9': [], 'Cluster_10': [], 'Cluster_11': [], 'Cluster_12': [15, 24, 25, 28, 21, 21, 23, 22, 25, 23, 24, 24, 26, 23, 21, 14, 15, 27, 16, 17, 18, 21, 24, 19, 20, 21, 27, 29, 21, 21, 15, 23, 24, 28, 24, 15, 21, 22, 22, 14, 15, 15, 16, 24, 16, 17, 22, 14, 15, 16, 17, 18, 18, 22, 17, 23, 27, 28, 22, 29, 8, 9, 10, 11, 12, 13, 18, 14, 15, 21, 23, 21, 22, 15, 23, 16, 19, 26, 27, 21, 23, 9, 10, 11, 12, 16, 13, 14, 20, 21, 22], 'Cluster_13': [], 'Cluster_14': [27], 'Cluster_15': [28], 'Cluster_16': [6], 'Cluster_17': [15], 'Cluster_18': [7], 'Cluster_19': [2], 'Cluster_20': [28], 'Cluster_21': [2], 'Cluster_22': [], 'Cluster_23': [5], 'Cluster_24': [27], 'Cluster_25': [], 'Cluster_26': [5], 'Cluster_27': [3]}\n",
      "logical: [1] \n",
      "\n"
     ]
    },
    {
     "name": "stderr",
     "output_type": "stream",
     "text": [
      "  7%|▋         | 78/1111 [02:36<35:21,  2.05s/it]"
     ]
    },
    {
     "name": "stdout",
     "output_type": "stream",
     "text": [
      "\n",
      "meas_str: 111110011110110111111111001101 01101000010000101000011001001 01100010011101001000011100010 11101001010001001000011010000 00000010011101001000011100011 10101000010001001000111010000 11000010011100001000001100011 10001000000000001000001100011 11100000000000001000001000000 10001010000000001000001100011 11101100000000001000000011011 11100000000000001000001100011 11100000000000001000001111000 11100000000000001000001111011 11100000000000001000001111000 11100000000000001000000101011 11100000000000001000001111000 11000000000000001000000011011 11000000000010001000001111000 10100000000000001000000000011 11000000000000001000001111000 10100000000000001000000000011 11000000000000001000000000000 01000000000010001000000000011 11000010000000001000001000000 11000010000000001000001000011 01000010000000001000000000000 10000000000000001000000000011 01000000000000001000000000000 10000000000000001000000000000 00000000000000001000000000000\n",
      "flipped_qubit_dict {'Cluster_0': [], 'Cluster_1': [28], 'Cluster_2': [1], 'Cluster_3': [], 'Cluster_4': [], 'Cluster_5': [], 'Cluster_6': [], 'Cluster_7': [], 'Cluster_8': [29, 27, 27, 28, 28, 27, 28, 29, 28, 29, 29, 27, 28, 28, 29, 28, 29], 'Cluster_9': [4], 'Cluster_10': [6], 'Cluster_11': [4], 'Cluster_12': [27], 'Cluster_13': [], 'Cluster_14': [], 'Cluster_15': [5], 'Cluster_16': [5, 6], 'Cluster_17': [4], 'Cluster_18': [1], 'Cluster_19': [27], 'Cluster_20': [1], 'Cluster_21': [23, 24], 'Cluster_22': [], 'Cluster_23': [1], 'Cluster_24': [6, 6, 4, 8, 5, 8], 'Cluster_25': [18], 'Cluster_26': [], 'Cluster_27': [1], 'Cluster_28': [], 'Cluster_29': [], 'Cluster_30': [4], 'Cluster_31': [15], 'Cluster_32': []}\n",
      "logical: [1] \n",
      "\n"
     ]
    },
    {
     "name": "stderr",
     "output_type": "stream",
     "text": [
      "  7%|▋         | 79/1111 [02:38<34:51,  2.03s/it]"
     ]
    },
    {
     "name": "stdout",
     "output_type": "stream",
     "text": [
      "\n",
      "meas_str: 100110111110111111011011010011 00001000100000101100111111010 10100100101100101010101000000 01000100100001001000111111010 11100010101100101000101000000 01000100101100100000101100000 11100100101100100000111000010 00100000100000100000101100000 10000110101101000000111000010 11100110100000100000101100000 11100000101101000000001000010 11100110101100100000001100000 11100111101101000000001000010 11100101101101100000001100000 01100101101101100000000000010 10100011101101000000000100000 00000101101101000000000000010 01100011101101000000001000011 01100111101101000000000011000 00000011101101000000001111010 10100111101101000000000100000 00000001101101001100001100010 01100111101100100000001100000 01100111101101000000000010010 01100011101100100000001100000 11100101100000100000000001010 11101101101100100000000000000 01100001100000100000000001010 01000011101100000000000000000 01000000000000000000000001010 01000000000000000000000000000\n",
      "flipped_qubit_dict {'Cluster_0': [], 'Cluster_1': [2, 3], 'Cluster_2': [18], 'Cluster_3': [], 'Cluster_4': [22], 'Cluster_5': [], 'Cluster_6': [22], 'Cluster_7': [], 'Cluster_8': [], 'Cluster_9': [6], 'Cluster_10': [24, 24, 23, 23], 'Cluster_11': [], 'Cluster_12': [4], 'Cluster_13': [15], 'Cluster_14': [18], 'Cluster_15': [5], 'Cluster_16': [], 'Cluster_17': [12], 'Cluster_18': [27], 'Cluster_19': [15], 'Cluster_20': [28], 'Cluster_21': [4], 'Cluster_22': [12], 'Cluster_23': [23], 'Cluster_24': [], 'Cluster_25': [5], 'Cluster_26': [28], 'Cluster_27': [1], 'Cluster_28': [5], 'Cluster_29': [27], 'Cluster_30': [4], 'Cluster_31': [27], 'Cluster_32': [1], 'Cluster_33': [6], 'Cluster_34': [28], 'Cluster_35': [], 'Cluster_36': [27], 'Cluster_37': [23], 'Cluster_38': [28], 'Cluster_39': [15], 'Cluster_40': [], 'Cluster_41': [], 'Cluster_42': [23], 'Cluster_43': [10, 11, 8, 4, 10], 'Cluster_44': [18], 'Cluster_45': [23], 'Cluster_46': [27], 'Cluster_47': [23], 'Cluster_48': [28], 'Cluster_49': [15], 'Cluster_50': [23], 'Cluster_51': [27], 'Cluster_52': [18], 'Cluster_53': [27], 'Cluster_54': [], 'Cluster_55': [], 'Cluster_56': [23], 'Cluster_57': [15], 'Cluster_58': [18], 'Cluster_59': [23], 'Cluster_60': [], 'Cluster_61': [15], 'Cluster_62': [24]}\n",
      "logical: [1] \n",
      "\n"
     ]
    },
    {
     "name": "stderr",
     "output_type": "stream",
     "text": [
      "  7%|▋         | 80/1111 [02:40<34:40,  2.02s/it]"
     ]
    },
    {
     "name": "stdout",
     "output_type": "stream",
     "text": [
      "\n",
      "meas_str: 101110111111101100111110101011 11000100000001011000100001000 00001100000000011100101110110 11001100001100011000101001011 00000100000000011100100110101 00000100001100010100101001011 11101101000000011100100110101 00101111011100010100101111011 11100111010000011100100110101 11100101011110011000101110011 10001101010000010000100000101 11101101010000010100100010001 11000101010000011000100000101 00100101010000010100100000011 01001111010000011000100000001 01010101010000010100100001001 01000111010000011000100001001 01011100000000010100100101001 01001110000000011000100100001 01010110000000010100100100001 01000100100000011000100100001 01011110000000011100100100001 01001110000000010000100110001 01001100000100011100100110011 01001110000100010000101100000 01001110000100011100100110011 11000100000000010000101100011 00000100000000010000100110000 11001100000000010000000000000 00001100000000000000100000000 00000100000000000000100000000\n",
      "flipped_qubit_dict {'Cluster_0': [], 'Cluster_1': [], 'Cluster_2': [], 'Cluster_3': [], 'Cluster_4': [28], 'Cluster_5': [5], 'Cluster_6': [], 'Cluster_7': [1], 'Cluster_8': [6], 'Cluster_9': [1], 'Cluster_10': [12], 'Cluster_11': [], 'Cluster_12': [28], 'Cluster_13': [1], 'Cluster_14': [1], 'Cluster_15': [5, 6], 'Cluster_16': [], 'Cluster_17': [], 'Cluster_18': [23, 24, 25, 24, 24], 'Cluster_19': [], 'Cluster_20': [], 'Cluster_21': [], 'Cluster_22': [], 'Cluster_23': [], 'Cluster_24': [], 'Cluster_25': [], 'Cluster_26': [], 'Cluster_27': [25], 'Cluster_28': [27], 'Cluster_29': [24, 27, 24, 24, 23, 24], 'Cluster_30': [], 'Cluster_31': [], 'Cluster_32': [16, 16, 12, 13, 12, 14, 15, 16, 18, 12, 14, 18, 12, 15], 'Cluster_33': [5], 'Cluster_34': [], 'Cluster_35': [6, 2, 3, 3, 4], 'Cluster_36': [28], 'Cluster_37': [], 'Cluster_38': [], 'Cluster_39': [5], 'Cluster_40': [], 'Cluster_41': [], 'Cluster_42': [28], 'Cluster_43': [28], 'Cluster_44': [1], 'Cluster_45': [], 'Cluster_46': [1]}\n",
      "logical: [1] \n",
      "\n"
     ]
    },
    {
     "name": "stderr",
     "output_type": "stream",
     "text": [
      "  7%|▋         | 81/1111 [02:42<35:41,  2.08s/it]"
     ]
    },
    {
     "name": "stdout",
     "output_type": "stream",
     "text": [
      "\n",
      "meas_str: 111111011111011111111110111110 10100011010100011000001001000 11100111010010011000001001001 11100011010000011000001001000 10000101010110011000001101001 11100101010000011000001101000 00000011010110011000001001001 01100101010000011000000001000 00101101010110011000000011001 00100111010000011000000011001 00101011010110011000000011001 00110110010000011000000011001 00111100010110011000000011001 00011100010100011000000011001 01011010010100010100000110001 01010000010100011000000101001 11011010011000010100000110001 01110000010100011000000100001 10011000011000010100000000001 01010010010100010100000101011 11011000011000010100000000011 10011110000100010100000110000 01010100001000010100000000011 10011010000100010000000110000 01011010000000010000000110000 10011010000000010000000000000 01011010000000010000000110000 01011000000000010000000000000 01011000000000010000000110000 00011010000000010000000000000 00000010000000010000000110000\n",
      "flipped_qubit_dict {'Cluster_0': [5], 'Cluster_1': [], 'Cluster_2': [], 'Cluster_3': [25], 'Cluster_4': [], 'Cluster_5': [25], 'Cluster_6': [], 'Cluster_7': [], 'Cluster_8': [28], 'Cluster_9': [5], 'Cluster_10': [18], 'Cluster_11': [1], 'Cluster_12': [5], 'Cluster_13': [], 'Cluster_14': [23, 24], 'Cluster_15': [], 'Cluster_16': [24], 'Cluster_17': [], 'Cluster_18': [1], 'Cluster_19': [4], 'Cluster_20': [24], 'Cluster_21': [], 'Cluster_22': [], 'Cluster_23': [12], 'Cluster_24': [], 'Cluster_25': [27], 'Cluster_26': [5], 'Cluster_27': [27, 29, 28, 29], 'Cluster_28': [18], 'Cluster_29': [24], 'Cluster_30': [4], 'Cluster_31': [12], 'Cluster_32': [17], 'Cluster_33': [], 'Cluster_34': [24], 'Cluster_35': [], 'Cluster_36': [], 'Cluster_37': [23], 'Cluster_38': [], 'Cluster_39': [23], 'Cluster_40': [0], 'Cluster_41': [], 'Cluster_42': [], 'Cluster_43': [], 'Cluster_44': [24], 'Cluster_45': [27], 'Cluster_46': [], 'Cluster_47': [], 'Cluster_48': [], 'Cluster_49': [], 'Cluster_50': [], 'Cluster_51': [27], 'Cluster_52': [], 'Cluster_53': [6]}\n",
      "logical: [1] \n",
      "\n"
     ]
    }
   ],
   "source": [
    "from soft_info import soft_reweight, get_counts\n",
    "from tqdm import tqdm\n",
    "\n",
    "memory = memories['mmr_log_1']\n",
    "\n",
    "logical_counts = {'0':0, '1':0}\n",
    "for shot in tqdm(range(len(memory))):    \n",
    "    IQ_data = memory[shot]\n",
    "\n",
    "    counts = get_counts([IQ_data], kde_dict, scaler_dict, layout, max_distance, verbose=False)\n",
    "    count_key = next(iter(counts.keys()))\n",
    "    \n",
    "    reweighted_graph = soft_reweight(decoder, IQ_data, kde_dict, scaler_dict, layout)\n",
    "    decoder.graph = reweighted_graph\n",
    "\n",
    "    logical, flipped_qubit_dict = decoder.process(count_key, _return_err_str = True)\n",
    "    print(\"\\nmeas_str:\", count_key)\n",
    "    print(\"flipped_qubit_dict\", flipped_qubit_dict)\n",
    "    print(\"logical:\", logical, \"\\n\")\n",
    "    if logical[0] == 0:\n",
    "        print(\"------------ Wrong logical! ------------\\n\")\n",
    "\n",
    "    logical_counts[f\"{logical[0]}\"] += 1\n",
    "\n",
    "print( \"\\nLogical_counts:\", logical_counts)\n"
   ]
  },
  {
   "cell_type": "code",
   "execution_count": null,
   "metadata": {},
   "outputs": [],
   "source": [
    "from soft_info import soft_reweight, get_counts\n",
    "from tqdm import tqdm\n",
    "\n",
    "memory = memories['mmr_log_1']\n",
    "\n",
    "logical_counts = {'0':0, '1':0}\n",
    "for shot in tqdm(range(len(memory))):    \n",
    "    IQ_data = memory[shot]\n",
    "\n",
    "    counts = get_counts([IQ_data], kde_dict, scaler_dict, layout, max_distance, verbose=False)\n",
    "    count_key = next(iter(counts.keys()))\n",
    "    \n",
    "    #reweighted_graph = soft_reweight(decoder, IQ_data, kde_dict, scaler_dict, layout)\n",
    "    #decoder.graph = reweighted_graph\n",
    "\n",
    "    logical, flipped_qubit_dict = decoder.process(count_key, _return_err_str = True)\n",
    "    print(\"\\nmeas_str:\", count_key)\n",
    "    print(\"flipped_qubit_dict\", flipped_qubit_dict)\n",
    "    print(\"logical:\", logical, \"\\n\")\n",
    "    if logical[0] == 0:\n",
    "        print(\"------------ Wrong logical! ------------\\n\")\n",
    "\n",
    "    logical_counts[f\"{logical[0]}\"] += 1\n",
    "\n",
    "print( \"\\nLogical_counts:\", logical_counts)\n"
   ]
  },
  {
   "cell_type": "code",
   "execution_count": null,
   "metadata": {},
   "outputs": [],
   "source": []
  }
 ],
 "metadata": {
  "kernelspec": {
   "display_name": "Soft-Info-Sk8aHGSa",
   "language": "python",
   "name": "python3"
  },
  "language_info": {
   "codemirror_mode": {
    "name": "ipython",
    "version": 3
   },
   "file_extension": ".py",
   "mimetype": "text/x-python",
   "name": "python",
   "nbconvert_exporter": "python",
   "pygments_lexer": "ipython3",
   "version": "3.11.4"
  }
 },
 "nbformat": 4,
 "nbformat_minor": 2
}
