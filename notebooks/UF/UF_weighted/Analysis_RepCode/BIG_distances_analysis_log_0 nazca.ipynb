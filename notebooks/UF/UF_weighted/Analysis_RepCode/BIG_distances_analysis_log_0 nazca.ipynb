{
 "cells": [
  {
   "cell_type": "code",
   "execution_count": 1,
   "metadata": {},
   "outputs": [],
   "source": [
    "%reload_ext autoreload\n",
    "%autoreload 2"
   ]
  },
  {
   "cell_type": "code",
   "execution_count": 2,
   "metadata": {},
   "outputs": [],
   "source": [
    "from result_saver import SaverProvider\n",
    "provider = SaverProvider()"
   ]
  },
  {
   "cell_type": "code",
   "execution_count": 3,
   "metadata": {},
   "outputs": [
    {
     "data": {
      "text/html": [
       "<div>\n",
       "<style scoped>\n",
       "    .dataframe tbody tr th:only-of-type {\n",
       "        vertical-align: middle;\n",
       "    }\n",
       "\n",
       "    .dataframe tbody tr th {\n",
       "        vertical-align: top;\n",
       "    }\n",
       "\n",
       "    .dataframe thead th {\n",
       "        text-align: right;\n",
       "    }\n",
       "</style>\n",
       "<table border=\"1\" class=\"dataframe\">\n",
       "  <thead>\n",
       "    <tr style=\"text-align: right;\">\n",
       "      <th></th>\n",
       "      <th>creation_date</th>\n",
       "      <th>notebook_name</th>\n",
       "      <th>backend_name</th>\n",
       "      <th>job_id</th>\n",
       "      <th>tags</th>\n",
       "      <th>shots</th>\n",
       "      <th>tags_xp</th>\n",
       "      <th>sampled_state</th>\n",
       "      <th>num_qubits</th>\n",
       "      <th>job_status</th>\n",
       "      <th>extra</th>\n",
       "      <th>optimization_level</th>\n",
       "      <th>code</th>\n",
       "      <th>distance</th>\n",
       "      <th>rounds</th>\n",
       "      <th>logical</th>\n",
       "      <th>layout</th>\n",
       "      <th>descr</th>\n",
       "    </tr>\n",
       "  </thead>\n",
       "  <tbody>\n",
       "    <tr>\n",
       "      <th>263</th>\n",
       "      <td>2023-10-30 09:46:26.097483+01:00</td>\n",
       "      <td>bigger_rep_codes</td>\n",
       "      <td>ibm_nazca</td>\n",
       "      <td>cmzptrk3r3vg008wg80g</td>\n",
       "      <td>[]</td>\n",
       "      <td>1111.0</td>\n",
       "      <td>NaN</td>\n",
       "      <td>NaN</td>\n",
       "      <td>NaN</td>\n",
       "      <td>JobStatus.DONE</td>\n",
       "      <td>NaN</td>\n",
       "      <td>NaN</td>\n",
       "      <td>RepetitionCodeCircuit</td>\n",
       "      <td>30.0</td>\n",
       "      <td>30</td>\n",
       "      <td>1</td>\n",
       "      <td>_is_hex=True</td>\n",
       "      <td>Run bigger Repetition codes v4: new distances ...</td>\n",
       "    </tr>\n",
       "    <tr>\n",
       "      <th>262</th>\n",
       "      <td>2023-10-30 09:46:11.556401+01:00</td>\n",
       "      <td>bigger_rep_codes</td>\n",
       "      <td>ibm_nazca</td>\n",
       "      <td>cmzptmtrmwhg008btx50</td>\n",
       "      <td>[]</td>\n",
       "      <td>1111.0</td>\n",
       "      <td>NaN</td>\n",
       "      <td>NaN</td>\n",
       "      <td>NaN</td>\n",
       "      <td>JobStatus.DONE</td>\n",
       "      <td>NaN</td>\n",
       "      <td>NaN</td>\n",
       "      <td>RepetitionCodeCircuit</td>\n",
       "      <td>30.0</td>\n",
       "      <td>30</td>\n",
       "      <td>0</td>\n",
       "      <td>_is_hex=True</td>\n",
       "      <td>Run bigger Repetition codes v4: new distances ...</td>\n",
       "    </tr>\n",
       "  </tbody>\n",
       "</table>\n",
       "</div>"
      ],
      "text/plain": [
       "                        creation_date     notebook_name backend_name  \\\n",
       "263  2023-10-30 09:46:26.097483+01:00  bigger_rep_codes    ibm_nazca   \n",
       "262  2023-10-30 09:46:11.556401+01:00  bigger_rep_codes    ibm_nazca   \n",
       "\n",
       "                   job_id tags   shots tags_xp sampled_state  num_qubits  \\\n",
       "263  cmzptrk3r3vg008wg80g   []  1111.0     NaN           NaN         NaN   \n",
       "262  cmzptmtrmwhg008btx50   []  1111.0     NaN           NaN         NaN   \n",
       "\n",
       "         job_status extra  optimization_level                   code  \\\n",
       "263  JobStatus.DONE   NaN                 NaN  RepetitionCodeCircuit   \n",
       "262  JobStatus.DONE   NaN                 NaN  RepetitionCodeCircuit   \n",
       "\n",
       "     distance rounds logical        layout  \\\n",
       "263      30.0     30       1  _is_hex=True   \n",
       "262      30.0     30       0  _is_hex=True   \n",
       "\n",
       "                                                 descr  \n",
       "263  Run bigger Repetition codes v4: new distances ...  \n",
       "262  Run bigger Repetition codes v4: new distances ...  "
      ]
     },
     "execution_count": 3,
     "metadata": {},
     "output_type": "execute_result"
    }
   ],
   "source": [
    "import numpy as np\n",
    "from Scratch import metadata_loader\n",
    "\n",
    "md = metadata_loader(_extract=True, _drop_inutile=True)\n",
    "md = md[md[\"job_status\"] == \"JobStatus.DONE\"]\n",
    "md = md[md[\"notebook_name\"] == \"bigger_rep_codes\"]\n",
    "max_distance = int(max(md.distance))\n",
    "md = md[md[\"distance\"] == max_distance]\n",
    "md = md[md[\"backend_name\"]==\"ibm_nazca\"]\n",
    "\n",
    "md = md[:2]\n",
    "\n",
    "md"
   ]
  },
  {
   "cell_type": "code",
   "execution_count": 4,
   "metadata": {},
   "outputs": [
    {
     "data": {
      "text/plain": [
       "{'mmr_log_1': array([[-2.10987040e+08+2.01455872e+08j,  1.30088154e+09+6.82949312e+08j,\n",
       "          5.98131904e+08+6.70468352e+08j, ...,\n",
       "         -9.45496240e+07+1.57469312e+08j,  2.29619360e+08+1.99911616e+08j,\n",
       "          4.36935080e+07+4.38464000e+07j],\n",
       "        [-1.68063568e+08+2.78854720e+08j, -2.95173376e+08+6.52242496e+08j,\n",
       "         -1.23631373e+09+1.24843738e+09j, ...,\n",
       "         -8.85305840e+07+1.35946992e+08j,  1.96290160e+08+1.84739872e+08j,\n",
       "          2.35458600e+07+3.16501920e+07j],\n",
       "        [-1.83406048e+08+2.13624368e+08j, -3.55282880e+08+9.36650048e+08j,\n",
       "         -7.51106304e+08+8.00764992e+08j, ...,\n",
       "         -6.71421360e+07+1.73355968e+08j, -1.83950032e+08+1.39195520e+08j,\n",
       "          4.87485360e+07+2.68846420e+07j],\n",
       "        ...,\n",
       "        [-1.60805168e+08+2.32577440e+08j, -1.55093072e+08+4.31105632e+08j,\n",
       "         -7.70330240e+08+8.24059712e+08j, ...,\n",
       "         -7.64113280e+07+2.02612976e+08j,  2.24089568e+08+2.49044448e+08j,\n",
       "         -3.60105080e+07+2.44794040e+07j],\n",
       "        [-1.62466432e+08+2.10218144e+08j, -4.93803392e+08+8.12129664e+08j,\n",
       "         -9.51705792e+08+7.59732160e+08j, ...,\n",
       "         -6.93166480e+07+1.15235944e+08j,  1.65246592e+08+1.17333296e+08j,\n",
       "          4.74494600e+07+3.72485040e+07j],\n",
       "        [-2.06226848e+08+2.20818160e+08j, -4.30308320e+08+4.94104096e+08j,\n",
       "         -4.87918272e+08+6.65750912e+08j, ...,\n",
       "         -9.93395120e+07+1.84963872e+08j,  1.37131024e+08+1.72453744e+08j,\n",
       "         -6.91352640e+07+5.19514360e+07j]]),\n",
       " 'mmr_log_0': array([[-9.63305440e+07+1.61939472e+08j, -7.30168576e+08+6.04467008e+08j,\n",
       "         -8.30503040e+08+6.93438656e+08j, ...,\n",
       "         -9.64914880e+07+1.87597728e+08j,  1.59154256e+08+1.52724512e+08j,\n",
       "         -3.48625600e+07+1.05526184e+08j],\n",
       "        [-1.41207360e+08+1.56880208e+08j, -3.89830880e+08+6.15153216e+08j,\n",
       "         -5.99869952e+08+7.68121536e+08j, ...,\n",
       "          2.91205280e+07+1.72772448e+08j,  1.35013504e+08+2.21715792e+08j,\n",
       "          3.09864440e+07-4.34898000e+05j],\n",
       "        [-8.94074480e+07+9.22477040e+07j, -8.12582336e+08+5.36150912e+08j,\n",
       "         -5.28907296e+08+1.02411552e+09j, ...,\n",
       "          4.19447040e+07+9.81647600e+07j, -8.54614400e+07+2.24557024e+08j,\n",
       "         -2.47310600e+07+5.25036120e+07j],\n",
       "        ...,\n",
       "        [-2.06123488e+08+2.55871792e+08j,  1.14340685e+09+3.43025088e+08j,\n",
       "         -8.76996160e+08+8.15154880e+08j, ...,\n",
       "          1.11080736e+08+1.64739952e+08j,  2.23856800e+08+9.11108480e+07j,\n",
       "          8.15524700e+06+1.02897400e+06j],\n",
       "        [-1.03259408e+08+1.65628352e+08j, -5.06683776e+08+2.55720544e+08j,\n",
       "         -7.47181952e+08+8.30914240e+08j, ...,\n",
       "          1.19552520e+08+1.40609920e+08j, -1.37044112e+08+1.04211456e+08j,\n",
       "          3.42657200e+07+2.92263320e+07j],\n",
       "        [-1.74923824e+08+2.16205776e+08j, -4.89025056e+08+5.47451968e+08j,\n",
       "         -7.67479872e+08+1.35890419e+09j, ...,\n",
       "          9.10653120e+07+1.63341056e+08j,  1.16833152e+08+6.85512000e+07j,\n",
       "         -4.03421840e+07+5.90607400e+07j]])}"
      ]
     },
     "execution_count": 4,
     "metadata": {},
     "output_type": "execute_result"
    }
   ],
   "source": [
    "memories = {}\n",
    "for job_id, logical in zip(md.job_id, md.logical):\n",
    "    mmr_name = f\"mmr_log_{logical}\"\n",
    "    memories[mmr_name] = provider.retrieve_job(job_id).result().get_memory()\n",
    "\n",
    "memories"
   ]
  },
  {
   "cell_type": "code",
   "execution_count": 5,
   "metadata": {},
   "outputs": [
    {
     "name": "stderr",
     "output_type": "stream",
     "text": [
      "from qiskit_qec.analysis._c_analysis import _CErrorPropagator             failed, raising No module named 'qiskit_qec.analysis._c_analysis'\n",
      "Traceback (most recent call last):\n",
      "  File \"/Users/mha/My Drive/Desktop/Studium/Physik/MSc/Semester 3/IBM/IBM GIT/Soft-Info/libs/qiskit-qec/src/qiskit_qec/analysis/extensions.py\", line 21, in <module>\n",
      "    from qiskit_qec.analysis._c_analysis import _CErrorPropagator  # pylint: disable=unused-import\n",
      "    ^^^^^^^^^^^^^^^^^^^^^^^^^^^^^^^^^^^^^^^^^^^^^^^^^^^^^^^^^^^^^\n",
      "ModuleNotFoundError: No module named 'qiskit_qec.analysis._c_analysis'\n",
      "from qiskit_qec.analysis._c_analysis import _CFaultEnumerator             failed, raising No module named 'qiskit_qec.analysis._c_analysis'\n",
      "Traceback (most recent call last):\n",
      "  File \"/Users/mha/My Drive/Desktop/Studium/Physik/MSc/Semester 3/IBM/IBM GIT/Soft-Info/libs/qiskit-qec/src/qiskit_qec/analysis/extensions.py\", line 32, in <module>\n",
      "    from qiskit_qec.analysis._c_analysis import _CFaultEnumerator  # pylint: disable=unused-import\n",
      "    ^^^^^^^^^^^^^^^^^^^^^^^^^^^^^^^^^^^^^^^^^^^^^^^^^^^^^^^^^^^^^\n",
      "ModuleNotFoundError: No module named 'qiskit_qec.analysis._c_analysis'\n",
      "from qiskit_qec.analysis._c_analysis import _CFaultSampler failed,             raising No module named 'qiskit_qec.analysis._c_analysis'\n",
      "Traceback (most recent call last):\n",
      "  File \"/Users/mha/My Drive/Desktop/Studium/Physik/MSc/Semester 3/IBM/IBM GIT/Soft-Info/libs/qiskit-qec/src/qiskit_qec/analysis/extensions.py\", line 43, in <module>\n",
      "    from qiskit_qec.analysis._c_analysis import _CFaultSampler  # pylint: disable=unused-import\n",
      "    ^^^^^^^^^^^^^^^^^^^^^^^^^^^^^^^^^^^^^^^^^^^^^^^^^^^^^^^^^^\n",
      "ModuleNotFoundError: No module named 'qiskit_qec.analysis._c_analysis'\n",
      "from qiskit_qec.analysis._c_analysis import _c_minimum_distance             failed, raising No module named 'qiskit_qec.analysis._c_analysis'\n",
      "Traceback (most recent call last):\n",
      "  File \"/Users/mha/My Drive/Desktop/Studium/Physik/MSc/Semester 3/IBM/IBM GIT/Soft-Info/libs/qiskit-qec/src/qiskit_qec/analysis/extensions.py\", line 54, in <module>\n",
      "    from qiskit_qec.analysis._c_analysis import _c_minimum_distance  # pylint: disable=unused-import\n",
      "    ^^^^^^^^^^^^^^^^^^^^^^^^^^^^^^^^^^^^^^^^^^^^^^^^^^^^^^^^^^^^^^^\n",
      "ModuleNotFoundError: No module named 'qiskit_qec.analysis._c_analysis'\n",
      "from qiskit_qec.analysis._c_analysis import _c_minimum_distance_by_tests             failed, raising No module named 'qiskit_qec.analysis._c_analysis'\n",
      "Traceback (most recent call last):\n",
      "  File \"/Users/mha/My Drive/Desktop/Studium/Physik/MSc/Semester 3/IBM/IBM GIT/Soft-Info/libs/qiskit-qec/src/qiskit_qec/analysis/extensions.py\", line 66, in <module>\n",
      "    from qiskit_qec.analysis._c_analysis import _c_minimum_distance_by_tests\n",
      "ModuleNotFoundError: No module named 'qiskit_qec.analysis._c_analysis'\n",
      "from qiskit_qec.analysis._c_analysis import _c_rank failed,             raising No module named 'qiskit_qec.analysis._c_analysis'\n",
      "Traceback (most recent call last):\n",
      "  File \"/Users/mha/My Drive/Desktop/Studium/Physik/MSc/Semester 3/IBM/IBM GIT/Soft-Info/libs/qiskit-qec/src/qiskit_qec/analysis/extensions.py\", line 77, in <module>\n",
      "    from qiskit_qec.analysis._c_analysis import _c_rank  # pylint: disable=unused-import\n",
      "    ^^^^^^^^^^^^^^^^^^^^^^^^^^^^^^^^^^^^^^^^^^^^^^^^^^^\n",
      "ModuleNotFoundError: No module named 'qiskit_qec.analysis._c_analysis'\n",
      "from qiskit_qec.analysis._c_analysis import _c_isotropic failed,             raising No module named 'qiskit_qec.analysis._c_analysis'\n",
      "Traceback (most recent call last):\n",
      "  File \"/Users/mha/My Drive/Desktop/Studium/Physik/MSc/Semester 3/IBM/IBM GIT/Soft-Info/libs/qiskit-qec/src/qiskit_qec/analysis/extensions.py\", line 88, in <module>\n",
      "    from qiskit_qec.analysis._c_analysis import _c_isotropic  # pylint: disable=unused-import\n",
      "    ^^^^^^^^^^^^^^^^^^^^^^^^^^^^^^^^^^^^^^^^^^^^^^^^^^^^^^^^\n",
      "ModuleNotFoundError: No module named 'qiskit_qec.analysis._c_analysis'\n"
     ]
    },
    {
     "name": "stdout",
     "output_type": "stream",
     "text": [
      "{114: [KernelDensity(bandwidth=0.2), KernelDensity(bandwidth=0.2)], 116: [KernelDensity(bandwidth=0.2), KernelDensity(bandwidth=0.2)], 118: [KernelDensity(bandwidth=0.2), KernelDensity(bandwidth=0.2)], 120: [KernelDensity(bandwidth=0.2), KernelDensity(bandwidth=0.2)], 122: [KernelDensity(bandwidth=0.2), KernelDensity(bandwidth=0.2)], 104: [KernelDensity(bandwidth=0.2), KernelDensity(bandwidth=0.2)], 102: [KernelDensity(bandwidth=0.2), KernelDensity(bandwidth=0.2)], 100: [KernelDensity(bandwidth=0.2), KernelDensity(bandwidth=0.2)], 98: [KernelDensity(bandwidth=0.2), KernelDensity(bandwidth=0.2)], 96: [KernelDensity(bandwidth=0.2), KernelDensity(bandwidth=0.2)], 94: [KernelDensity(bandwidth=0.2), KernelDensity(bandwidth=0.2)], 75: [KernelDensity(bandwidth=0.2), KernelDensity(bandwidth=0.2)], 77: [KernelDensity(bandwidth=0.2), KernelDensity(bandwidth=0.2)], 79: [KernelDensity(bandwidth=0.2), KernelDensity(bandwidth=0.2)], 81: [KernelDensity(bandwidth=0.2), KernelDensity(bandwidth=0.2)], 83: [KernelDensity(bandwidth=0.2), KernelDensity(bandwidth=0.2)], 85: [KernelDensity(bandwidth=0.2), KernelDensity(bandwidth=0.2)], 66: [KernelDensity(bandwidth=0.2), KernelDensity(bandwidth=0.2)], 64: [KernelDensity(bandwidth=0.2), KernelDensity(bandwidth=0.2)], 62: [KernelDensity(bandwidth=0.2), KernelDensity(bandwidth=0.2)], 60: [KernelDensity(bandwidth=0.2), KernelDensity(bandwidth=0.2)], 58: [KernelDensity(bandwidth=0.2), KernelDensity(bandwidth=0.2)], 56: [KernelDensity(bandwidth=0.2), KernelDensity(bandwidth=0.2)], 37: [KernelDensity(bandwidth=0.2), KernelDensity(bandwidth=0.2)], 39: [KernelDensity(bandwidth=0.2), KernelDensity(bandwidth=0.2)], 41: [KernelDensity(bandwidth=0.2), KernelDensity(bandwidth=0.2)], 43: [KernelDensity(bandwidth=0.2), KernelDensity(bandwidth=0.2)], 45: [KernelDensity(bandwidth=0.2), KernelDensity(bandwidth=0.2)], 47: [KernelDensity(bandwidth=0.2), KernelDensity(bandwidth=0.2)], 113: [KernelDensity(bandwidth=0.2), KernelDensity(bandwidth=0.2)], 115: [KernelDensity(bandwidth=0.2), KernelDensity(bandwidth=0.2)], 117: [KernelDensity(bandwidth=0.2), KernelDensity(bandwidth=0.2)], 119: [KernelDensity(bandwidth=0.2), KernelDensity(bandwidth=0.2)], 121: [KernelDensity(bandwidth=0.2), KernelDensity(bandwidth=0.2)], 111: [KernelDensity(bandwidth=0.2), KernelDensity(bandwidth=0.2)], 103: [KernelDensity(bandwidth=0.2), KernelDensity(bandwidth=0.2)], 101: [KernelDensity(bandwidth=0.2), KernelDensity(bandwidth=0.2)], 99: [KernelDensity(bandwidth=0.2), KernelDensity(bandwidth=0.2)], 97: [KernelDensity(bandwidth=0.2), KernelDensity(bandwidth=0.2)], 95: [KernelDensity(bandwidth=0.2), KernelDensity(bandwidth=0.2)], 90: [KernelDensity(bandwidth=0.2), KernelDensity(bandwidth=0.2)], 76: [KernelDensity(bandwidth=0.2), KernelDensity(bandwidth=0.2)], 78: [KernelDensity(bandwidth=0.2), KernelDensity(bandwidth=0.2)], 80: [KernelDensity(bandwidth=0.2), KernelDensity(bandwidth=0.2)], 82: [KernelDensity(bandwidth=0.2), KernelDensity(bandwidth=0.2)], 84: [KernelDensity(bandwidth=0.2), KernelDensity(bandwidth=0.2)], 73: [KernelDensity(bandwidth=0.2), KernelDensity(bandwidth=0.2)], 65: [KernelDensity(bandwidth=0.2), KernelDensity(bandwidth=0.2)], 63: [KernelDensity(bandwidth=0.2), KernelDensity(bandwidth=0.2)], 61: [KernelDensity(bandwidth=0.2), KernelDensity(bandwidth=0.2)], 59: [KernelDensity(bandwidth=0.2), KernelDensity(bandwidth=0.2)], 57: [KernelDensity(bandwidth=0.2), KernelDensity(bandwidth=0.2)], 52: [KernelDensity(bandwidth=0.2), KernelDensity(bandwidth=0.2)], 38: [KernelDensity(bandwidth=0.2), KernelDensity(bandwidth=0.2)], 40: [KernelDensity(bandwidth=0.2), KernelDensity(bandwidth=0.2)], 42: [KernelDensity(bandwidth=0.2), KernelDensity(bandwidth=0.2)], 44: [KernelDensity(bandwidth=0.2), KernelDensity(bandwidth=0.2)], 46: [KernelDensity(bandwidth=0.2), KernelDensity(bandwidth=0.2)], 35: [KernelDensity(bandwidth=0.2), KernelDensity(bandwidth=0.2)]}\n"
     ]
    },
    {
     "ename": "KeyboardInterrupt",
     "evalue": "",
     "output_type": "error",
     "traceback": [
      "\u001b[0;31m---------------------------------------------------------------------------\u001b[0m",
      "\u001b[0;31mKeyboardInterrupt\u001b[0m                         Traceback (most recent call last)",
      "\u001b[1;32m/Users/mha/My Drive/Desktop/Studium/Physik/MSc/Semester 3/IBM/IBM GIT/Soft-Info/notebooks/UF/UF_weighted/Analysis_RepCode/BIG_distances_analysis_log_0 nazca.ipynb Cell 5\u001b[0m line \u001b[0;36m1\n\u001b[1;32m      <a href='vscode-notebook-cell:/Users/mha/My%20Drive/Desktop/Studium/Physik/MSc/Semester%203/IBM/IBM%20GIT/Soft-Info/notebooks/UF/UF_weighted/Analysis_RepCode/BIG_distances_analysis_log_0%20nazca.ipynb#W4sZmlsZQ%3D%3D?line=7'>8</a>\u001b[0m \u001b[39mprint\u001b[39m(kde_dict)\n\u001b[1;32m     <a href='vscode-notebook-cell:/Users/mha/My%20Drive/Desktop/Studium/Physik/MSc/Semester%203/IBM/IBM%20GIT/Soft-Info/notebooks/UF/UF_weighted/Analysis_RepCode/BIG_distances_analysis_log_0%20nazca.ipynb#W4sZmlsZQ%3D%3D?line=9'>10</a>\u001b[0m code \u001b[39m=\u001b[39m RepetitionCodeCircuit(max_distance, max_distance)\n\u001b[0;32m---> <a href='vscode-notebook-cell:/Users/mha/My%20Drive/Desktop/Studium/Physik/MSc/Semester%203/IBM/IBM%20GIT/Soft-Info/notebooks/UF/UF_weighted/Analysis_RepCode/BIG_distances_analysis_log_0%20nazca.ipynb#W4sZmlsZQ%3D%3D?line=10'>11</a>\u001b[0m decoder \u001b[39m=\u001b[39m UnionFindDecoder(code)\n",
      "File \u001b[0;32m~/My Drive/Desktop/Studium/Physik/MSc/Semester 3/IBM/IBM GIT/Soft-Info/libs/qiskit-qec/src/qiskit_qec/decoders/hdrg_decoders.py:311\u001b[0m, in \u001b[0;36mUnionFindDecoder.__init__\u001b[0;34m(self, code, decoding_graph, use_peeling)\u001b[0m\n\u001b[1;32m    310\u001b[0m \u001b[39mdef\u001b[39;00m \u001b[39m__init__\u001b[39m(\u001b[39mself\u001b[39m, code, decoding_graph: DecodingGraph \u001b[39m=\u001b[39m \u001b[39mNone\u001b[39;00m, use_peeling\u001b[39m=\u001b[39m\u001b[39mTrue\u001b[39;00m) \u001b[39m-\u001b[39m\u001b[39m>\u001b[39m \u001b[39mNone\u001b[39;00m:\n\u001b[0;32m--> 311\u001b[0m     \u001b[39msuper\u001b[39;49m()\u001b[39m.\u001b[39;49m\u001b[39m__init__\u001b[39;49m(code, decoding_graph\u001b[39m=\u001b[39;49mdecoding_graph)\n\u001b[1;32m    312\u001b[0m     \u001b[39mself\u001b[39m\u001b[39m.\u001b[39mgraph \u001b[39m=\u001b[39m deepcopy(\u001b[39mself\u001b[39m\u001b[39m.\u001b[39mdecoding_graph\u001b[39m.\u001b[39mgraph)\n\u001b[1;32m    313\u001b[0m     \u001b[39mself\u001b[39m\u001b[39m.\u001b[39mclusters: Dict[\u001b[39mint\u001b[39m, UnionFindDecoderCluster] \u001b[39m=\u001b[39m {}\n",
      "File \u001b[0;32m~/My Drive/Desktop/Studium/Physik/MSc/Semester 3/IBM/IBM GIT/Soft-Info/libs/qiskit-qec/src/qiskit_qec/decoders/hdrg_decoders.py:58\u001b[0m, in \u001b[0;36mClusteringDecoder.__init__\u001b[0;34m(self, code_circuit, decoding_graph)\u001b[0m\n\u001b[1;32m     56\u001b[0m     \u001b[39mself\u001b[39m\u001b[39m.\u001b[39mdecoding_graph \u001b[39m=\u001b[39m decoding_graph\n\u001b[1;32m     57\u001b[0m \u001b[39melse\u001b[39;00m:\n\u001b[0;32m---> 58\u001b[0m     \u001b[39mself\u001b[39m\u001b[39m.\u001b[39mdecoding_graph \u001b[39m=\u001b[39m DecodingGraph(\u001b[39mself\u001b[39;49m\u001b[39m.\u001b[39;49mcode)\n",
      "File \u001b[0;32m~/My Drive/Desktop/Studium/Physik/MSc/Semester 3/IBM/IBM GIT/Soft-Info/libs/qiskit-qec/src/qiskit_qec/decoders/decoding_graph.py:62\u001b[0m, in \u001b[0;36mDecodingGraph.__init__\u001b[0;34m(self, code, brute, graph)\u001b[0m\n\u001b[1;32m     60\u001b[0m     \u001b[39mself\u001b[39m\u001b[39m.\u001b[39mgraph \u001b[39m=\u001b[39m graph\n\u001b[1;32m     61\u001b[0m \u001b[39melse\u001b[39;00m:\n\u001b[0;32m---> 62\u001b[0m     \u001b[39mself\u001b[39;49m\u001b[39m.\u001b[39;49m_make_syndrome_graph()\n\u001b[1;32m     64\u001b[0m \u001b[39mself\u001b[39m\u001b[39m.\u001b[39m_logical_nodes \u001b[39m=\u001b[39m []\n\u001b[1;32m     65\u001b[0m \u001b[39mfor\u001b[39;00m node \u001b[39min\u001b[39;00m \u001b[39mself\u001b[39m\u001b[39m.\u001b[39mgraph\u001b[39m.\u001b[39mnodes():\n",
      "File \u001b[0;32m~/My Drive/Desktop/Studium/Physik/MSc/Semester 3/IBM/IBM GIT/Soft-Info/libs/qiskit-qec/src/qiskit_qec/decoders/decoding_graph.py:88\u001b[0m, in \u001b[0;36mDecodingGraph._make_syndrome_graph\u001b[0;34m(self)\u001b[0m\n\u001b[1;32m     85\u001b[0m     qc \u001b[39m=\u001b[39m \u001b[39mself\u001b[39m\u001b[39m.\u001b[39mcode\u001b[39m.\u001b[39mcircuit\n\u001b[1;32m     87\u001b[0m fe \u001b[39m=\u001b[39m FaultEnumerator(qc, method\u001b[39m=\u001b[39m\u001b[39m\"\u001b[39m\u001b[39mstabilizer\u001b[39m\u001b[39m\"\u001b[39m)\n\u001b[0;32m---> 88\u001b[0m blocks \u001b[39m=\u001b[39m \u001b[39mlist\u001b[39;49m(fe\u001b[39m.\u001b[39;49mgenerate_blocks())\n\u001b[1;32m     89\u001b[0m fault_paths \u001b[39m=\u001b[39m \u001b[39mlist\u001b[39m(itertools\u001b[39m.\u001b[39mchain(\u001b[39m*\u001b[39mblocks))\n\u001b[1;32m     91\u001b[0m \u001b[39mfor\u001b[39;00m _, _, _, output \u001b[39min\u001b[39;00m fault_paths:\n",
      "File \u001b[0;32m~/My Drive/Desktop/Studium/Physik/MSc/Semester 3/IBM/IBM GIT/Soft-Info/libs/qiskit-qec/src/qiskit_qec/analysis/faultenumerator.py:257\u001b[0m, in \u001b[0;36mFaultEnumerator.generate_blocks\u001b[0;34m(self, blocksize)\u001b[0m\n\u001b[1;32m    255\u001b[0m block \u001b[39m=\u001b[39m []\n\u001b[1;32m    256\u001b[0m count \u001b[39m=\u001b[39m \u001b[39m0\u001b[39m\n\u001b[0;32m--> 257\u001b[0m \u001b[39mfor\u001b[39;49;00m x \u001b[39min\u001b[39;49;00m \u001b[39mself\u001b[39;49m\u001b[39m.\u001b[39;49mgenerate():\n\u001b[1;32m    258\u001b[0m     block\u001b[39m.\u001b[39;49mappend(x)\n\u001b[1;32m    259\u001b[0m     count \u001b[39m+\u001b[39;49m\u001b[39m=\u001b[39;49m \u001b[39m1\u001b[39;49m\n",
      "File \u001b[0;32m~/My Drive/Desktop/Studium/Physik/MSc/Semester 3/IBM/IBM GIT/Soft-Info/libs/qiskit-qec/src/qiskit_qec/analysis/faultenumerator.py:211\u001b[0m, in \u001b[0;36mFaultEnumerator.generate\u001b[0;34m(self)\u001b[0m\n\u001b[1;32m    209\u001b[0m iterable \u001b[39m=\u001b[39m [\u001b[39mself\u001b[39m\u001b[39m.\u001b[39mpauli_error_types[x] \u001b[39mfor\u001b[39;00m x \u001b[39min\u001b[39;00m labels]\n\u001b[1;32m    210\u001b[0m \u001b[39mfor\u001b[39;00m error \u001b[39min\u001b[39;00m product(\u001b[39m*\u001b[39miterable):\n\u001b[0;32m--> 211\u001b[0m     fcirc \u001b[39m=\u001b[39m \u001b[39mself\u001b[39;49m\u001b[39m.\u001b[39;49m_faulty_circuit(nodes, error)\n\u001b[1;32m    212\u001b[0m     outcome \u001b[39m=\u001b[39m \u001b[39mself\u001b[39m\u001b[39m.\u001b[39m_stabilizer_simulation(fcirc)\n\u001b[1;32m    213\u001b[0m     \u001b[39myield\u001b[39;00m (index, labels, \u001b[39mlist\u001b[39m(error), outcome)\n",
      "File \u001b[0;32m~/My Drive/Desktop/Studium/Physik/MSc/Semester 3/IBM/IBM GIT/Soft-Info/libs/qiskit-qec/src/qiskit_qec/analysis/faultenumerator.py:164\u001b[0m, in \u001b[0;36mFaultEnumerator._faulty_circuit\u001b[0;34m(self, comb, error)\u001b[0m\n\u001b[1;32m    162\u001b[0m         \u001b[39mfor\u001b[39;00m i, err \u001b[39min\u001b[39;00m \u001b[39menumerate\u001b[39m(errs):\n\u001b[1;32m    163\u001b[0m             circ\u001b[39m.\u001b[39m_append(err, [orig_node\u001b[39m.\u001b[39mqargs[i]], orig_node\u001b[39m.\u001b[39mcargs)\n\u001b[0;32m--> 164\u001b[0m inst \u001b[39m=\u001b[39m orig_node\u001b[39m.\u001b[39;49mop\u001b[39m.\u001b[39;49mcopy()\n\u001b[1;32m    165\u001b[0m circ\u001b[39m.\u001b[39m_append(inst, orig_node\u001b[39m.\u001b[39mqargs, orig_node\u001b[39m.\u001b[39mcargs)\n\u001b[1;32m    166\u001b[0m \u001b[39mif\u001b[39;00m orig_node \u001b[39min\u001b[39;00m comb:\n",
      "File \u001b[0;32m~/.local/share/virtualenvs/Soft-Info-Sk8aHGSa/lib/python3.11/site-packages/qiskit/circuit/instruction.py:426\u001b[0m, in \u001b[0;36mInstruction.copy\u001b[0;34m(self, name)\u001b[0m\n\u001b[1;32m    415\u001b[0m \u001b[39mdef\u001b[39;00m \u001b[39mcopy\u001b[39m(\u001b[39mself\u001b[39m, name\u001b[39m=\u001b[39m\u001b[39mNone\u001b[39;00m):\n\u001b[1;32m    416\u001b[0m \u001b[39m    \u001b[39m\u001b[39m\"\"\"\u001b[39;00m\n\u001b[1;32m    417\u001b[0m \u001b[39m    Copy of the instruction.\u001b[39;00m\n\u001b[1;32m    418\u001b[0m \n\u001b[0;32m   (...)\u001b[0m\n\u001b[1;32m    424\u001b[0m \u001b[39m        was provided\u001b[39;00m\n\u001b[1;32m    425\u001b[0m \u001b[39m    \"\"\"\u001b[39;00m\n\u001b[0;32m--> 426\u001b[0m     cpy \u001b[39m=\u001b[39m \u001b[39mself\u001b[39;49m\u001b[39m.\u001b[39;49m__deepcopy__()\n\u001b[1;32m    428\u001b[0m     \u001b[39mif\u001b[39;00m name:\n\u001b[1;32m    429\u001b[0m         cpy\u001b[39m.\u001b[39mname \u001b[39m=\u001b[39m name\n",
      "File \u001b[0;32m~/.local/share/virtualenvs/Soft-Info-Sk8aHGSa/lib/python3.11/site-packages/qiskit/circuit/instruction.py:433\u001b[0m, in \u001b[0;36mInstruction.__deepcopy__\u001b[0;34m(self, _memo)\u001b[0m\n\u001b[1;32m    432\u001b[0m \u001b[39mdef\u001b[39;00m \u001b[39m__deepcopy__\u001b[39m(\u001b[39mself\u001b[39m, _memo\u001b[39m=\u001b[39m\u001b[39mNone\u001b[39;00m):\n\u001b[0;32m--> 433\u001b[0m     cpy \u001b[39m=\u001b[39m copy\u001b[39m.\u001b[39;49mcopy(\u001b[39mself\u001b[39;49m)\n\u001b[1;32m    434\u001b[0m     cpy\u001b[39m.\u001b[39m_params \u001b[39m=\u001b[39m copy\u001b[39m.\u001b[39mcopy(\u001b[39mself\u001b[39m\u001b[39m.\u001b[39m_params)\n\u001b[1;32m    435\u001b[0m     \u001b[39mif\u001b[39;00m \u001b[39mself\u001b[39m\u001b[39m.\u001b[39m_definition:\n",
      "File \u001b[0;32m~/.pyenv/versions/3.11.4/lib/python3.11/copy.py:102\u001b[0m, in \u001b[0;36mcopy\u001b[0;34m(x)\u001b[0m\n\u001b[1;32m    100\u001b[0m \u001b[39mif\u001b[39;00m \u001b[39misinstance\u001b[39m(rv, \u001b[39mstr\u001b[39m):\n\u001b[1;32m    101\u001b[0m     \u001b[39mreturn\u001b[39;00m x\n\u001b[0;32m--> 102\u001b[0m \u001b[39mreturn\u001b[39;00m _reconstruct(x, \u001b[39mNone\u001b[39;49;00m, \u001b[39m*\u001b[39;49mrv)\n",
      "File \u001b[0;32m~/.pyenv/versions/3.11.4/lib/python3.11/copy.py:259\u001b[0m, in \u001b[0;36m_reconstruct\u001b[0;34m(x, memo, func, args, state, listiter, dictiter, deepcopy)\u001b[0m\n\u001b[1;32m    255\u001b[0m     \u001b[39mexcept\u001b[39;00m \u001b[39mKeyError\u001b[39;00m:\n\u001b[1;32m    256\u001b[0m         \u001b[39m# aha, this is the first one :-)\u001b[39;00m\n\u001b[1;32m    257\u001b[0m         memo[\u001b[39mid\u001b[39m(memo)]\u001b[39m=\u001b[39m[x]\n\u001b[0;32m--> 259\u001b[0m \u001b[39mdef\u001b[39;00m \u001b[39m_reconstruct\u001b[39m(x, memo, func, args,\n\u001b[1;32m    260\u001b[0m                  state\u001b[39m=\u001b[39m\u001b[39mNone\u001b[39;00m, listiter\u001b[39m=\u001b[39m\u001b[39mNone\u001b[39;00m, dictiter\u001b[39m=\u001b[39m\u001b[39mNone\u001b[39;00m,\n\u001b[1;32m    261\u001b[0m                  \u001b[39m*\u001b[39m, deepcopy\u001b[39m=\u001b[39mdeepcopy):\n\u001b[1;32m    262\u001b[0m     deep \u001b[39m=\u001b[39m memo \u001b[39mis\u001b[39;00m \u001b[39mnot\u001b[39;00m \u001b[39mNone\u001b[39;00m\n\u001b[1;32m    263\u001b[0m     \u001b[39mif\u001b[39;00m deep \u001b[39mand\u001b[39;00m args:\n",
      "\u001b[0;31mKeyboardInterrupt\u001b[0m: "
     ]
    }
   ],
   "source": [
    "from soft_info import get_repcode_layout, get_KDEs, get_counts\n",
    "from qiskit_qec.circuits import RepetitionCodeCircuit\n",
    "from qiskit_qec.decoders import UnionFindDecoder\n",
    "\n",
    "layout = get_repcode_layout(distance=max_distance, backend=provider.get_backend(\"ibm_sherbrooke\"), _is_hex=True)\n",
    "\n",
    "kde_dict, scaler_dict = get_KDEs(provider, 'ibm_sherbrooke', layout, bandwidths=0.2, plot=False)\n",
    "print(kde_dict)\n",
    "\n",
    "code = RepetitionCodeCircuit(max_distance, max_distance)\n",
    "decoder = UnionFindDecoder(code)"
   ]
  },
  {
   "cell_type": "code",
   "execution_count": null,
   "metadata": {},
   "outputs": [
    {
     "name": "stderr",
     "output_type": "stream",
     "text": [
      "  0%|          | 1/1111 [00:02<37:28,  2.03s/it]"
     ]
    },
    {
     "name": "stdout",
     "output_type": "stream",
     "text": [
      "\n",
      "meas_str: 111101000001001001110000100000 11100010011111011001000000000 11111110010101111001000110000 11111010011111011000000100000 11111010010101110001000010000 11111100011111011000001100000 11111000011001110001000110000 11111100011111010000000000000 10111110001001011001000101000 00111100001111111000000100000 11100100000101011001001101000 00111000001111111000000000000 11100110010101011001000101000 00100010001111111000000000000 11100010001001111001000101000 00100000001111010000000000000 01100010001001010001000101000 01100110001111001100010000000 11100110000101101001000101000 01100000001111000100000000000 11100110001011100001000101000 11100110001011000100000000000 01100110001011000010000011000 00100100001011000100000000000 01100010001011000010000111000 10100100001011000100000010000 11100000001001000010000111000 10100010001011000100000100000 01000000001001000110000100000 11000010000000000000000000000 00000000000000000000000000000\n",
      "flipped_qubit_dict {'Cluster_0': [], 'Cluster_1': [11], 'Cluster_2': [], 'Cluster_3': [28], 'Cluster_4': [4], 'Cluster_5': [5], 'Cluster_6': [], 'Cluster_7': [], 'Cluster_8': [5], 'Cluster_9': [5], 'Cluster_10': [], 'Cluster_11': [26, 13, 23, 15, 24, 25, 26, 18, 19, 20, 29, 21, 23, 24, 25, 25, 26, 27, 27, 29, 27, 28, 29, 19, 13, 16, 20, 19, 21, 20, 22, 24, 25, 26, 27, 21, 12, 15, 17, 20, 18, 22, 23, 21, 24, 22, 23, 24, 25, 26, 27, 21, 28, 13, 24, 14, 25, 26, 16, 19, 22, 22, 25, 26, 15, 27, 16, 17, 20, 17, 23, 19, 20, 21, 27, 28, 24, 18, 20, 21, 15, 22, 23, 19, 23, 20, 21, 22, 24, 10, 26, 11, 20, 21, 21, 22, 16, 23, 24, 24, 18, 25, 25, 26, 27, 27, 24, 11, 28, 12, 23, 17, 19, 23, 24, 25, 12, 17, 18, 19, 20, 24, 25], 'Cluster_12': [], 'Cluster_13': [18], 'Cluster_14': [6, 6, 6, 4], 'Cluster_15': [14, 15, 14, 13, 17, 14], 'Cluster_16': [], 'Cluster_17': [6], 'Cluster_18': [18], 'Cluster_19': [], 'Cluster_20': [], 'Cluster_21': [], 'Cluster_22': [25]}\n",
      "logical: [0] \n",
      "\n"
     ]
    },
    {
     "name": "stderr",
     "output_type": "stream",
     "text": [
      "  0%|          | 2/1111 [00:04<37:39,  2.04s/it]"
     ]
    },
    {
     "name": "stdout",
     "output_type": "stream",
     "text": [
      "\n",
      "meas_str: 000010100011111110000000100000 00111000000011001000001000010 00110110010011001000001110010 10110000000011001000001110000 10110110010011001000001000000 01110110000011101100001011000 11010000010011000000001000000 01101110000011101101001011000 10011110010011001001001000000 00101010000011101101001000000 10000110010011001001001000000 00101000000011101101000100000 01001100000011001001001000000 00110010001011101101000100000 11101100000011011001001000000 01011000001011101101000100000 10001100000011011001001000000 01000110001011001101000100000 11001110000001111101001000000 10000100001011000101000100000 01001110000001011101001000000 00000100001011011101000100000 11001000000011110000000100000 00000110001011110100000100000 00000000000001101000000100000 00000110001011101100000100000 00000000000001000000000111000 00000110000001000000000100000 00000000000001000000000100000 00000100000001000100000100000 00000000000000000000000100000\n",
      "flipped_qubit_dict {'Cluster_0': [], 'Cluster_1': [], 'Cluster_2': [], 'Cluster_3': [23], 'Cluster_4': [4], 'Cluster_5': [12], 'Cluster_6': [], 'Cluster_7': [17, 18], 'Cluster_8': [4], 'Cluster_9': [], 'Cluster_10': [], 'Cluster_11': [28], 'Cluster_12': [], 'Cluster_13': [6], 'Cluster_14': [], 'Cluster_15': [24, 23, 23], 'Cluster_16': [], 'Cluster_17': [], 'Cluster_18': [], 'Cluster_19': [], 'Cluster_20': [23], 'Cluster_21': [25], 'Cluster_22': [27], 'Cluster_23': [], 'Cluster_24': [28], 'Cluster_25': [19], 'Cluster_26': [], 'Cluster_27': [25], 'Cluster_28': [28], 'Cluster_29': [6], 'Cluster_30': [25], 'Cluster_31': [4], 'Cluster_32': [], 'Cluster_33': [23, 24], 'Cluster_34': [25], 'Cluster_35': [23], 'Cluster_36': [27], 'Cluster_37': [4, 5, 5], 'Cluster_38': [10, 11, 12, 10, 11, 13, 12, 12, 15, 13, 16, 13, 10, 11, 14, 10, 11], 'Cluster_39': [23], 'Cluster_40': [28], 'Cluster_41': [], 'Cluster_42': [], 'Cluster_43': [5], 'Cluster_44': [25]}\n",
      "logical: [0] \n",
      "\n"
     ]
    },
    {
     "name": "stderr",
     "output_type": "stream",
     "text": [
      "  0%|          | 3/1111 [00:06<37:48,  2.05s/it]"
     ]
    },
    {
     "name": "stdout",
     "output_type": "stream",
     "text": [
      "\n",
      "meas_str: 100000100000010100010000111000 11100101011001101101000110111 01100011011011011110000011011 10100111011001101101000100100 01100011011011011110000011011 00100011011001101101000100111 11100111000011010010000011000 11100001000001101101000010111 00100101000011010010000011011 11100100000001101101000010100 00100010000011010010000100011 11100110000001101101000011111 00100010000011010010000100011 00110110000000100101000011110 11110010000011010110000100111 01110000000001100101000011101 11110000000001010110000010100 01110110000001000101000011101 00110110000001011110000010100 10110110000001000001000011101 00010110000001011100000010100 10110000000001101000000011101 10001100000001011100000010100 11010110000001101100000011101 11001000000001011100000000100 01010110000001101100000001001 10001000000001011100000001100 01000010000001001100000000101 01000000000001111100000000000 11000000000000001100000000001 00000000000000000000000000000\n",
      "flipped_qubit_dict {'Cluster_0': [12], 'Cluster_1': [28], 'Cluster_2': [12], 'Cluster_3': [14], 'Cluster_4': [], 'Cluster_5': [28], 'Cluster_6': [], 'Cluster_7': [25], 'Cluster_8': [28], 'Cluster_9': [23], 'Cluster_10': [28], 'Cluster_11': [5], 'Cluster_12': [12], 'Cluster_13': [16, 15, 0, 17, 0, 18, 19, 1, 2, 21, 3, 23, 23, 25, 3, 28, 27, 11, 13, 14, 0, 15, 15, 1, 16, 16, 2, 17, 17, 3, 18, 18, 19, 19, 20, 20, 21, 22, 22, 23, 23, 24, 24, 26, 0, 27, 28, 29, 1, 3, 4, 12, 14, 15, 16, 20, 21, 1, 23, 24, 5, 6, 1, 13, 15, 2, 21, 3, 22, 4, 5, 24, 25, 7, 26, 27, 9, 10, 0, 11, 1, 2, 14, 22, 23, 6, 24, 25, 8, 9, 28, 0, 15, 26, 25, 28, 28, 7, 9, 10, 11, 12, 15, 16, 17, 18, 19, 23, 23, 25, 26, 27, 8, 19, 20, 23, 24, 20, 12, 13, 21, 22, 23, 24, 25, 26, 19, 21, 9, 11, 25, 13, 14, 20, 22, 24, 28, 26, 10, 14, 15, 14], 'Cluster_14': [1], 'Cluster_15': [], 'Cluster_16': [], 'Cluster_17': [5], 'Cluster_18': [], 'Cluster_19': [], 'Cluster_20': [1], 'Cluster_21': [1], 'Cluster_22': [28], 'Cluster_23': [5], 'Cluster_24': [28], 'Cluster_25': [1], 'Cluster_26': [], 'Cluster_27': [1], 'Cluster_28': [1], 'Cluster_29': [4]}\n",
      "logical: [0] \n",
      "\n"
     ]
    },
    {
     "name": "stderr",
     "output_type": "stream",
     "text": [
      "  0%|          | 4/1111 [00:08<37:50,  2.05s/it]"
     ]
    },
    {
     "name": "stdout",
     "output_type": "stream",
     "text": [
      "\n",
      "meas_str: 111101100000101000100001101010 10100100000001110000000110100 10111100000111010110001101011 11100100000001110000000111111 10111000000111010110000010011 11100100000001110000000101111 11111000000111010110000010000 10100100000001010000000101111 11111110000111010110000011000 01100100000001011100000111111 11101000000111010110000011000 01100100000001111100000110110 11101100000001010110000101111 11100110000001111100000110011 11101110000001011010000101110 11100010000001111000000110011 11101110000001010110000011110 10100110000001010100000110000 10101010000001010010000101110 00100110000001010100000110011 10101100000001010010000111101 11100100000001000100000010011 11101000000001110010000001110 01100100000001100100000010000 11101000000001000010000001000 00100110000001000100000010000 11101100000001000010000001000 00000000000001000000000010000 01001100000001000000000001000 11000000000001000000000011000 00000000000000000000000000000\n",
      "flipped_qubit_dict {'Cluster_0': [4], 'Cluster_1': [], 'Cluster_2': [28], 'Cluster_3': [], 'Cluster_4': [24], 'Cluster_5': [], 'Cluster_6': [], 'Cluster_7': [11], 'Cluster_8': [23, 23], 'Cluster_9': [2], 'Cluster_10': [1], 'Cluster_11': [1], 'Cluster_12': [1], 'Cluster_13': [5, 5], 'Cluster_14': [23, 23], 'Cluster_15': [1], 'Cluster_16': [27, 27, 28, 29, 23, 24, 24, 28, 29, 26, 28, 29, 29, 27, 29, 28, 28, 28, 28, 29, 29, 28, 29, 23, 29, 23], 'Cluster_17': [5], 'Cluster_18': [], 'Cluster_19': [], 'Cluster_20': [1], 'Cluster_21': [14, 12, 13, 14, 15, 13, 12], 'Cluster_22': [5], 'Cluster_23': [1], 'Cluster_24': [1, 2, 3], 'Cluster_25': [], 'Cluster_26': [5], 'Cluster_27': [17], 'Cluster_28': [4], 'Cluster_29': [23], 'Cluster_30': [], 'Cluster_31': [1], 'Cluster_32': [], 'Cluster_33': [], 'Cluster_34': [6], 'Cluster_35': [23], 'Cluster_36': [1]}\n",
      "logical: [0] \n",
      "\n"
     ]
    },
    {
     "name": "stderr",
     "output_type": "stream",
     "text": [
      "  0%|          | 5/1111 [00:10<37:02,  2.01s/it]"
     ]
    },
    {
     "name": "stdout",
     "output_type": "stream",
     "text": [
      "\n",
      "meas_str: 001010000000010100110000100000 01101100000001111000000010010 01110100000011101101000100010 00101000000001010100000010001 11110110000011101111000100010 01101110000001011000001110001 01110110000011101011000010010 11101110000001011100001110001 01110110000011101111000010001 11101100000001011000001110001 11110000000011001011000100001 01101110000001011000001110010 11110110000011001111000100001 01111000000001111000001110000 11110100000011000111000100000 01111100000001001100001110000 01110100000011100111000100000 00111100000001001100001000000 00110100000011100111000100000 00111010000001000100001000000 01110110000011001011000100000 01011110000001001100001000000 11000100000011001000000100000 01011010000000001100001000000 11000010000011001000000100000 01011010000010001100001011000 01000010000011001000000100000 10011000000001001100001000000 01000000000010000000000100000 00000000000001000000000000000 00000000000000000000000000000\n",
      "flipped_qubit_dict {'Cluster_0': [16], 'Cluster_1': [6], 'Cluster_2': [28], 'Cluster_3': [25], 'Cluster_4': [], 'Cluster_5': [4], 'Cluster_6': [14, 13, 12, 15, 16, 16], 'Cluster_7': [4], 'Cluster_8': [5], 'Cluster_9': [1], 'Cluster_10': [29, 23, 28, 26, 23, 28, 29, 23, 28, 24, 29, 23, 24, 25, 24, 25, 27, 28, 29, 29, 23, 23, 27, 26, 25, 26, 28, 23, 24, 23, 25, 24, 27, 24, 26, 27, 23, 28, 28, 23, 27, 29], 'Cluster_11': [1], 'Cluster_12': [5], 'Cluster_13': [10, 11, 12, 11, 13, 14, 13, 12, 12, 13, 12, 13], 'Cluster_14': [1], 'Cluster_15': [], 'Cluster_16': [], 'Cluster_17': [5], 'Cluster_18': [6], 'Cluster_19': [12], 'Cluster_20': [23], 'Cluster_21': [23], 'Cluster_22': [1], 'Cluster_23': [13, 11, 14, 15]}\n",
      "logical: [0] \n",
      "\n"
     ]
    },
    {
     "name": "stderr",
     "output_type": "stream",
     "text": [
      "  1%|          | 6/1111 [00:12<36:28,  1.98s/it]"
     ]
    },
    {
     "name": "stdout",
     "output_type": "stream",
     "text": [
      "\n",
      "meas_str: 011000000000001010000010010100 01100100011001011000011110010 11000110011001101000000101100 01100110011000010000011110010 01000010011001101000001001100 10100110011001110000011110010 00000000011001101000001001100 01100110011001111000011110010 01100100011100001000001000000 01100100011111110011011111000 00100010010001001000001110000 00100110001101011011011111000 00111010000001001000001110000 01000100001101111011011001000 00111000001101001000001111000 01000100001101111011010100000 00111000000001001000001001000 01100100001101111011010100000 01110100000001001000001001000 11000110000001111011010010000 00010010000001001000001001000 11000100000001111011010010000 10010100000001000000001000000 10000000000001100011010011000 01010100000001000000001000000 00000000000001000011000011000 00001100000001000000000000000 11000111000001100011000000000 00001100000001000001000000000 00000000010001000010000000000 00000000000000000001000000000\n",
      "flipped_qubit_dict {'Cluster_0': [10], 'Cluster_1': [24], 'Cluster_2': [], 'Cluster_3': [], 'Cluster_4': [23], 'Cluster_5': [28], 'Cluster_6': [4], 'Cluster_7': [23], 'Cluster_8': [28], 'Cluster_9': [7], 'Cluster_10': [25], 'Cluster_11': [28], 'Cluster_12': [15, 13, 15, 13, 14], 'Cluster_13': [28], 'Cluster_14': [], 'Cluster_15': [28], 'Cluster_16': [5], 'Cluster_17': [18], 'Cluster_18': [24], 'Cluster_19': [5], 'Cluster_20': [18], 'Cluster_21': [], 'Cluster_22': [6], 'Cluster_23': [5], 'Cluster_24': [5], 'Cluster_25': [13, 22, 14, 23, 23, 16, 24, 25, 26, 27, 28, 29, 21, 24, 24, 23, 24, 25, 23, 23, 29, 24, 24, 16, 25, 18, 26, 19, 18, 23, 24, 20, 25, 23, 26, 22, 24, 23, 23, 27, 28, 26, 29, 25, 28, 26, 15, 25, 25, 26, 26, 27, 27, 19, 21, 20, 24, 27, 23, 28, 24, 26, 29], 'Cluster_26': [2, 3, 3], 'Cluster_27': [10], 'Cluster_28': [], 'Cluster_29': [15], 'Cluster_30': [15], 'Cluster_31': [], 'Cluster_32': [6], 'Cluster_33': [], 'Cluster_34': []}\n",
      "logical: [0] \n",
      "\n"
     ]
    },
    {
     "name": "stderr",
     "output_type": "stream",
     "text": [
      "  1%|          | 7/1111 [00:14<36:32,  1.99s/it]"
     ]
    },
    {
     "name": "stdout",
     "output_type": "stream",
     "text": [
      "\n",
      "meas_str: 110000000100001000111000100000 00000010000001011000101100000 01000010110001111100001010000 00000010000001011100101100001 01000010110001111000000110001 00000000000001010000101100001 01000010110001111100010010001 00000000000001011100101100101 11000110110001011000010010101 11000000000001011110001100110 11000110110001101100011110110 01000000000101011010001010000 11000110100001101000011110000 01000011010001011110001100000 11000101100001101100011110000 01000011010001010010001010000 11000111100001001000011101000 01000001010001111110001010000 11000111110001001001000001000 01000101010001111010000010000 11000011000001001101000001000 01000101000001100110000010000 11000101000001001101000001000 01000100000001101010000010000 11000010000001001101000001000 00000100000001101110000011000 01000000000001001000000000000 11000100000001101011000011000 11000010000001001100000000000 01000010000000101100000000000 00000000000001001000000000000\n",
      "flipped_qubit_dict {'Cluster_0': [28, 29, 28, 29, 28, 29], 'Cluster_1': [4], 'Cluster_2': [11, 10, 12, 13, 10, 11, 15, 15, 14, 10], 'Cluster_3': [], 'Cluster_4': [23, 23], 'Cluster_5': [28, 28], 'Cluster_6': [], 'Cluster_7': [23], 'Cluster_8': [20], 'Cluster_9': [], 'Cluster_10': [12, 12, 13, 6, 7, 10, 12, 11], 'Cluster_11': [], 'Cluster_12': [], 'Cluster_13': [4], 'Cluster_14': [5], 'Cluster_15': [], 'Cluster_16': [22], 'Cluster_17': [5], 'Cluster_18': [], 'Cluster_19': [22], 'Cluster_20': [2], 'Cluster_21': [2], 'Cluster_22': [5], 'Cluster_23': [], 'Cluster_24': [1], 'Cluster_25': [6], 'Cluster_26': [1], 'Cluster_27': [], 'Cluster_28': [12, 14, 13, 14, 9, 10, 15, 14, 12, 13], 'Cluster_29': [23], 'Cluster_30': [6, 7], 'Cluster_31': [], 'Cluster_32': [6]}\n",
      "logical: [0] \n",
      "\n"
     ]
    },
    {
     "name": "stderr",
     "output_type": "stream",
     "text": [
      "  1%|          | 8/1111 [00:16<36:46,  2.00s/it]"
     ]
    },
    {
     "name": "stdout",
     "output_type": "stream",
     "text": [
      "\n",
      "meas_str: 100100100011101111001001101000 01110100010001100000001101001 11100010000011101101100110101 11110100010001101000001011001 10101000000101101101100111111 11110100010001101000001011001 01011110000101101101100111111 11000110001001101000001011001 01001000000101101101100111110 11000000001001101000001100000 01001110001101111101100111110 11001000001101101000001110001 01001000001111000101101101110 11001000001101101000001011101 10001000000001001101101101110 11001000001101101000000001101 00001010000001001001101101110 11001010001101101000000001101 01001010001101001001101101110 11001010000001000100000011010 01001010001101001101101100000 11000000000001001000000000000 01000000000001101101101100000 00000000000001001000000011000 01000000000001101101101111000 11000010000001000000000000000 11000010000001100100000011000 11000010000001000000000000000 10000010000001001100000011000 11000010000001000000000000000 00000000000000000000000000000\n",
      "flipped_qubit_dict {'Cluster_0': [], 'Cluster_1': [4], 'Cluster_2': [], 'Cluster_3': [4], 'Cluster_4': [], 'Cluster_5': [4], 'Cluster_6': [4], 'Cluster_7': [28], 'Cluster_8': [12, 14, 16, 25, 26, 29, 27, 27, 28, 29, 17, 28, 13, 15, 17, 23, 18, 24, 13, 14, 28, 15, 29, 16, 17, 18, 19, 14, 20, 21, 16, 22, 23, 18, 24, 26, 13, 29, 14, 15, 12, 13, 6, 14, 15, 15, 17, 18, 19, 19, 13, 14, 9, 15, 10, 16, 19, 10, 11, 20, 14, 17, 21, 11, 22, 23, 24, 12, 13, 18, 23, 24, 13, 23, 23, 24, 25, 25, 23, 12, 13, 14, 23, 24, 25, 26, 12, 13, 14, 23, 15, 29], 'Cluster_9': [], 'Cluster_10': [3, 4, 0, 1, 0, 4, 3, 0, 1, 0, 1, 3, 2, 3, 1, 5], 'Cluster_11': [5, 6], 'Cluster_12': [28], 'Cluster_13': [6], 'Cluster_14': [19], 'Cluster_15': [28], 'Cluster_16': [2, 5, 3]}\n",
      "logical: [0] \n",
      "\n"
     ]
    },
    {
     "name": "stderr",
     "output_type": "stream",
     "text": [
      "  1%|          | 9/1111 [00:18<36:27,  1.99s/it]"
     ]
    },
    {
     "name": "stdout",
     "output_type": "stream",
     "text": [
      "\n",
      "meas_str: 101011101000001110010010010100 11110010100001101001011000000 00100001000001101010000011110 10110010110001011101011000000 01100111010001000110000111110 11110010110001011001011010000 01100111100001001110000001110 10100000000001011101011010011 01110101100001000010000001101 11100000000001011001011010111 10110111110001001110000000001 01100100010001011101011000111 10110111110001001000000000010 10101010010001111011011011111 10111001110001001100010001001 01101010000001111011001000101 11111001100001001000010001001 01001010000001011000001001001 11111111100001101100010001001 00001000000001101000001001001 11101101100001101000010001010 01000000000001101100001001001 10101101110000100100000001010 11000010000001001000000001001 10100101100001101100000001010 00000100000001001100000000010 11000101100001101000000000010 00000010000001001000000000010 01000001100001101100000000010 01000010000001001100000000010 00000010000001001000000000000\n",
      "flipped_qubit_dict {'Cluster_0': [], 'Cluster_1': [], 'Cluster_2': [], 'Cluster_3': [15, 12, 13, 10, 14, 11, 19, 11, 13, 12, 19, 13, 14, 14, 14], 'Cluster_4': [22, 21, 22, 23, 23], 'Cluster_5': [28], 'Cluster_6': [], 'Cluster_7': [27], 'Cluster_8': [1], 'Cluster_9': [24], 'Cluster_10': [28], 'Cluster_11': [7], 'Cluster_12': [], 'Cluster_13': [], 'Cluster_14': [1], 'Cluster_15': [], 'Cluster_16': [14], 'Cluster_17': [], 'Cluster_18': [23], 'Cluster_19': [3], 'Cluster_20': [27], 'Cluster_21': [], 'Cluster_22': [4, 4, 1, 2, 3], 'Cluster_23': [], 'Cluster_24': [28], 'Cluster_25': [], 'Cluster_26': [24], 'Cluster_27': [24], 'Cluster_28': [28], 'Cluster_29': [1], 'Cluster_30': [], 'Cluster_31': [], 'Cluster_32': [3, 3, 4], 'Cluster_33': [23], 'Cluster_34': [], 'Cluster_35': [1], 'Cluster_36': [], 'Cluster_37': [1], 'Cluster_38': [20], 'Cluster_39': [5], 'Cluster_40': [20], 'Cluster_41': [5], 'Cluster_42': [29, 28, 29, 25, 28, 29, 28, 29, 26, 26, 27, 28, 29, 27, 28, 29, 28, 29, 27, 28, 28], 'Cluster_43': [23]}\n",
      "logical: [0] \n",
      "\n"
     ]
    },
    {
     "name": "stderr",
     "output_type": "stream",
     "text": [
      "  1%|          | 10/1111 [00:20<36:55,  2.01s/it]"
     ]
    },
    {
     "name": "stdout",
     "output_type": "stream",
     "text": [
      "\n",
      "meas_str: 100010001011101000000011011100 01011111000111101000111100011 11000110110101000100101010001 01011101000111001100111100011 11000010101101101100101001010 00000111001011000100111100011 10010000111101001100101001010 11010011000011001100111100011 11010000111111001100101001010 00010111000011001000111100001 01011100111111011100101001000 00010001001111111100111100001 01011100111111011100101001000 11000101001111111100111100001 00011010010011001100111000000 11000101101111001000101100101 10011000011011000100111001010 01000100000111001000101100101 10011110011011110100111001010 01000010000001000000011101111 10111110011011101100111001010 01000000000001011100001101111 10011000011011100000110001010 01000000000001011100001101110 10000100011011111000110001100 10000010000001011000101100000 01000110011001110000010000000 01000000000001000000101100000 01000110011001010000010000000 11000010000001010000000000000 00000000000001000000010000000\n",
      "flipped_qubit_dict {'Cluster_0': [23], 'Cluster_1': [28], 'Cluster_2': [19], 'Cluster_3': [], 'Cluster_4': [28], 'Cluster_5': [28], 'Cluster_6': [3], 'Cluster_7': [13, 8, 22, 25, 26, 13, 14, 15, 9, 14, 14, 10, 14, 15, 19, 21, 6, 22, 7, 9, 19, 20, 11, 22, 14, 15, 16, 20, 23, 7, 23, 8, 24, 25, 9, 26, 10, 10, 27, 12, 14, 23, 15, 16, 16, 17, 26, 27, 29, 8, 24, 13, 14, 15, 16, 9, 10, 11, 18, 13, 19, 20, 12, 21, 25, 12, 14, 15, 25, 26], 'Cluster_8': [28], 'Cluster_9': [28], 'Cluster_10': [0, 1, 3, 2, 0], 'Cluster_11': [7], 'Cluster_12': [2, 3], 'Cluster_13': [8], 'Cluster_14': [17], 'Cluster_15': [], 'Cluster_16': [2, 3, 3], 'Cluster_17': [], 'Cluster_18': [18], 'Cluster_19': [18], 'Cluster_20': [], 'Cluster_21': [], 'Cluster_22': [], 'Cluster_23': [25, 17, 21, 22, 23, 12, 14, 18, 22, 15, 23, 14, 20, 22], 'Cluster_24': [28], 'Cluster_25': [], 'Cluster_26': [18], 'Cluster_27': [1], 'Cluster_28': [4], 'Cluster_29': [19]}\n",
      "logical: [0] \n",
      "\n"
     ]
    },
    {
     "name": "stderr",
     "output_type": "stream",
     "text": [
      "  1%|          | 11/1111 [00:22<36:50,  2.01s/it]"
     ]
    },
    {
     "name": "stdout",
     "output_type": "stream",
     "text": [
      "\n",
      "meas_str: 100011000011110000101001010000 10000100110011101100101010000 00010000100011101011000000000 10000100110011101000101001000 01001100000011101111000000000 00011001010010011100101101000 01001100000011101011000100000 11011100010011101000101101000 00001110000011101111000100000 01011000010011100101001101010 01100100000011100111000100010 11111100001011101101001101001 00100010000011101111000100010 11111000011011101101001101001 11100110001110101011000100010 10100110001011101001001101001 01100010001111100011000100001 11100000000011100101001101001 01100010000111100011000100001 10100000000011100011001101001 01100000000111100101000100010 10100010000011100011001101001 00100000000111101101000100000 00100000000011101011001110000 11000000000111101101000010000 10100000000011101100001110000 00000000000001101000000100000 01100000000011001100001110000 01100000000001000000000000000 01100010000001001100001100000 00000010000001000000000000000\n",
      "flipped_qubit_dict {'Cluster_0': [], 'Cluster_1': [6], 'Cluster_2': [], 'Cluster_3': [5], 'Cluster_4': [12, 15, 16, 12, 20, 21, 25, 14, 17, 15, 18, 16, 18, 14, 19, 12, 15, 9, 10, 13, 11, 16, 17, 14, 10, 15, 17, 18, 19, 20, 21, 22, 22, 23, 12, 13, 19, 19, 14], 'Cluster_5': [28, 27, 28, 28, 29, 29, 27, 27, 29, 27, 28, 29, 28, 28, 29, 28, 29, 27, 28, 29, 28, 29, 27, 28, 28, 29, 28, 29, 28, 29, 28], 'Cluster_6': [5], 'Cluster_7': [5], 'Cluster_8': [1], 'Cluster_9': [4], 'Cluster_10': [1], 'Cluster_11': [1], 'Cluster_12': [], 'Cluster_13': [23], 'Cluster_14': [28], 'Cluster_15': [1], 'Cluster_16': [19], 'Cluster_17': [24], 'Cluster_18': [], 'Cluster_19': [23], 'Cluster_20': [23], 'Cluster_21': [], 'Cluster_22': [21, 21], 'Cluster_23': [], 'Cluster_24': [25], 'Cluster_25': [25], 'Cluster_26': [28], 'Cluster_27': [], 'Cluster_28': [5]}\n",
      "logical: [0] \n",
      "\n"
     ]
    },
    {
     "name": "stderr",
     "output_type": "stream",
     "text": [
      "  1%|          | 12/1111 [00:24<37:02,  2.02s/it]"
     ]
    },
    {
     "name": "stdout",
     "output_type": "stream",
     "text": [
      "\n",
      "meas_str: 110001110000111001000100010110 01000111000101100101111001111 00001110000001100001101010010 00000101000101101101111001111 01001100010001100001101010001 10000011000101101101111001111 00001100000001101001101011010 01000001000101101101110101110 00000010000001101001101001011 01000011000101101101000101011 00000010000001101001111001110 01000011000011100101100101000 00000000000001100001111001000 01000011000010100001100101010 01000010000001100000001001010 11000001000011000001000101010 01000000000001000010001010001 11000000000011100001000011010 01001000000001100011000110010 01000000000011110000000011010 11000000000001110000000111010 01000000000011000110000100001 10100000000001000010000001010 01000010000011000010000100001 11000000000001000010000100010 00000000000001000010001100001 11000000000001000010001100010 01000000000001000010000000001 11000000000001000010000000010 00000000000001000010000000000 00000000000001000010000000000\n",
      "flipped_qubit_dict {'Cluster_0': [], 'Cluster_1': [], 'Cluster_2': [], 'Cluster_3': [29], 'Cluster_4': [6], 'Cluster_5': [6], 'Cluster_6': [], 'Cluster_7': [27], 'Cluster_8': [4, 5], 'Cluster_9': [], 'Cluster_10': [5], 'Cluster_11': [27], 'Cluster_12': [1], 'Cluster_13': [], 'Cluster_14': [5], 'Cluster_15': [], 'Cluster_16': [1], 'Cluster_17': [6], 'Cluster_18': [], 'Cluster_19': [5], 'Cluster_20': [22], 'Cluster_21': [1], 'Cluster_22': [4], 'Cluster_23': [], 'Cluster_24': [28], 'Cluster_25': [2], 'Cluster_26': [10, 0, 1, 0, 4, 6, 5, 6, 7, 8, 10, 9, 10, 11, 12, 3, 1, 15, 16, 17, 5, 6, 9, 7, 10, 8, 13, 14, 8, 9, 13, 11, 4, 3, 4, 14, 9], 'Cluster_27': [1], 'Cluster_28': [], 'Cluster_29': [8, 8], 'Cluster_30': [], 'Cluster_31': [24], 'Cluster_32': [28], 'Cluster_33': [28], 'Cluster_34': [23], 'Cluster_35': [1], 'Cluster_36': [], 'Cluster_37': [], 'Cluster_38': []}\n",
      "logical: [0] \n",
      "\n"
     ]
    },
    {
     "name": "stderr",
     "output_type": "stream",
     "text": [
      "  1%|          | 13/1111 [00:26<37:02,  2.02s/it]"
     ]
    },
    {
     "name": "stdout",
     "output_type": "stream",
     "text": [
      "\n",
      "meas_str: 001100000000010000010011010000 00101000000001001011011101001 01001000010011001000001010001 01001000000000001011011101001 01001000000011001000001010001 10001000000010001011011101011 10010000010010000000001100000 10001000000010000011000101011 10010000000010000000001100000 01001010000010001011000101011 10011110000010001000001100000 01001110000011100011000110011 10011010000010001000001010011 01001100000011100111000110011 10011000000010001000001100000 01001100000011100111000110011 10011110000010001000001010000 01001100000011101111000110011 10011110000010001000001010000 01001110000010100100000110011 01011100000011001000001010000 10000010000010101100000110000 00011100000001001000001010000 01100100000010101100000110000 11000000000001001000001010000 01100110000000101100000000000 11000110000001001000001100000 00000110000001101000000000000 01000010000000001000001100000 01000000000001100000000000000 00000000000001000000000000000\n",
      "flipped_qubit_dict {'Cluster_0': [15, 16, 16], 'Cluster_1': [], 'Cluster_2': [6], 'Cluster_3': [], 'Cluster_4': [28], 'Cluster_5': [27], 'Cluster_6': [5], 'Cluster_7': [24, 27, 28, 28, 29, 24, 25, 23, 29, 23], 'Cluster_8': [5], 'Cluster_9': [], 'Cluster_10': [23], 'Cluster_11': [1], 'Cluster_12': [24], 'Cluster_13': [28], 'Cluster_14': [], 'Cluster_15': [28], 'Cluster_16': [10, 12], 'Cluster_17': [5], 'Cluster_18': [23], 'Cluster_19': [1], 'Cluster_20': [5], 'Cluster_21': [], 'Cluster_22': [1], 'Cluster_23': [5], 'Cluster_24': [], 'Cluster_25': [4], 'Cluster_26': [12], 'Cluster_27': [15], 'Cluster_28': [], 'Cluster_29': [24], 'Cluster_30': [28], 'Cluster_31': [7], 'Cluster_32': [], 'Cluster_33': [1], 'Cluster_34': [5], 'Cluster_35': [16], 'Cluster_36': [], 'Cluster_37': [25], 'Cluster_38': [28], 'Cluster_39': [28], 'Cluster_40': [], 'Cluster_41': [27], 'Cluster_42': [], 'Cluster_43': [26]}\n",
      "logical: [0] \n",
      "\n"
     ]
    },
    {
     "name": "stderr",
     "output_type": "stream",
     "text": [
      "  1%|▏         | 14/1111 [00:28<37:09,  2.03s/it]"
     ]
    },
    {
     "name": "stdout",
     "output_type": "stream",
     "text": [
      "\n",
      "meas_str: 011000110000101000000110001110 11111110000011000000111100101 01111011000101100000010100000 11111110000111000010111100000 01011101000001100001010100010 11111110000111000010111100011 01011101000001000001011000001 11111110000111000010111110011 01011101000001100001011010010 10011110000111000010111110011 00001101000001100001011010010 00011100000111000010110110000 00001010000001100001010010010 00011100000101000000110110000 00000010000011100000001001000 00011110000111000000110110010 01000010000001100000000001010 11011100000111100000111110010 00000010000001100000010001010 11011000000111000000111110010 11000110000001000000000001010 11011000000111000000111110010 01000100000001000000000010010 10011010000111000100110010010 01000000000001000000000010010 11000000000111000010110000010 00000000000001100010000000010 11000000000001000010110000000 11000000000001000000001100000 10000000000001000000110000000 00000000010000000000000000000\n",
      "flipped_qubit_dict {'Cluster_0': [], 'Cluster_1': [], 'Cluster_2': [6], 'Cluster_3': [], 'Cluster_4': [], 'Cluster_5': [], 'Cluster_6': [6], 'Cluster_7': [28], 'Cluster_8': [17], 'Cluster_9': [], 'Cluster_10': [], 'Cluster_11': [23], 'Cluster_12': [25], 'Cluster_13': [6], 'Cluster_14': [], 'Cluster_15': [28], 'Cluster_16': [4], 'Cluster_17': [28], 'Cluster_18': [], 'Cluster_19': [28], 'Cluster_20': [], 'Cluster_21': [8, 9, 20, 20, 21, 23, 24, 26, 27, 16, 17, 18, 19, 9, 23, 25, 27, 28, 17, 23, 24, 24, 26, 28, 29, 12, 12, 13, 26, 27, 28, 29, 13, 14, 14, 15, 6, 16, 15, 17, 15, 16, 16, 18, 10, 19, 11, 20, 12, 13, 14, 15, 23, 17, 18, 11, 19, 12, 20, 21, 13, 14, 23, 15, 16, 17, 18, 19, 20, 21, 22, 16, 24, 17, 17, 18, 19, 21, 22, 25, 17, 18, 19, 20, 22, 23, 25, 26], 'Cluster_22': [], 'Cluster_23': [0, 4, 1, 0, 0, 1, 0, 1], 'Cluster_24': [7], 'Cluster_25': [10], 'Cluster_26': [], 'Cluster_27': [1], 'Cluster_28': [1], 'Cluster_29': [], 'Cluster_30': [1], 'Cluster_31': [1], 'Cluster_32': [2], 'Cluster_33': [3], 'Cluster_34': []}\n",
      "logical: [0] \n",
      "\n"
     ]
    },
    {
     "name": "stderr",
     "output_type": "stream",
     "text": [
      "  1%|▏         | 15/1111 [00:30<37:36,  2.06s/it]"
     ]
    },
    {
     "name": "stdout",
     "output_type": "stream",
     "text": [
      "\n",
      "meas_str: 000000100010010000000100100100 01110000111011111100110101111 01101110100001111100000011011 01110000111011111100110110110 01101110100001111000000011010 01111110111011111100110110111 01100000100001111000000101011 01100010111011111100110110110 01100000100001111100000101011 01101110111011111100110110111 01100010100001110000000011010 01110000111001111100110110110 01111110100011110000000101010 01111000101001110000110110111 01111110110011110000000101010 01100100111001110000110110111 01111010110011110000000011011 00100100101001110000110110110 11100100110011110000010011010 00100010110001100000100101111 00100100110011100000010011001 00000010110001100000100101110 11000000110001100000010011000 00000110110001100000100101000 11000000010001100000011111000 00000110010001100000101111000 11000000010001100000011100000 11000110000001100000000011000 01000010000001000000001100000 00000010000001000000000000000 00000100000001000000000000000\n",
      "flipped_qubit_dict {'Cluster_0': [], 'Cluster_1': [23], 'Cluster_2': [6], 'Cluster_3': [], 'Cluster_4': [4], 'Cluster_5': [], 'Cluster_6': [8], 'Cluster_7': [], 'Cluster_8': [6], 'Cluster_9': [28], 'Cluster_10': [5, 6, 6, 4], 'Cluster_11': [2], 'Cluster_12': [], 'Cluster_13': [], 'Cluster_14': [12, 19, 20, 5, 12, 13, 14, 20, 16, 14, 5, 23, 13, 14, 14, 15, 16, 24, 26, 27, 28, 26, 27, 15, 16, 23, 24, 25], 'Cluster_15': [], 'Cluster_16': [28], 'Cluster_17': [1], 'Cluster_18': [28], 'Cluster_19': [], 'Cluster_20': [4], 'Cluster_21': [], 'Cluster_22': [], 'Cluster_23': [5], 'Cluster_24': [0, 0, 0, 0], 'Cluster_25': [], 'Cluster_26': [5], 'Cluster_27': [], 'Cluster_28': [1], 'Cluster_29': [4], 'Cluster_30': [25]}\n",
      "logical: [0] \n",
      "\n"
     ]
    },
    {
     "name": "stderr",
     "output_type": "stream",
     "text": [
      "  1%|▏         | 16/1111 [00:32<37:22,  2.05s/it]"
     ]
    },
    {
     "name": "stdout",
     "output_type": "stream",
     "text": [
      "\n",
      "meas_str: 100010001010001011100010101100 01001000011010100000000000010 11010001100011010010011110000 00101000101010100000001011010 00101001001011010010011110000 00100100101010100000001111000 00101001001011010110010110000 00100100101011100000001111010 01101011001011010010010110000 01100100101011100100001001010 01001001000011010010010110000 00100101000011100000001111010 11110011000011000000010110000 01111011000011111010001111010 11110111000011010000010011011 01100101000011100010001100010 11101001000011000100010011011 11100101000011111000001100010 11101111000011001100010011111 00100111000011100000001001110 10110101000011001000001011100 00100000000011110000001001110 11110100000010001000001000100 01100000000011111000001001110 01110100000010001000001000000 10110110000011111000001011000 00100010000010001100000000000 10111010000000001000000000000 01100010000000001100000000000 10100010000000001100000000000 01100000000000000000000000000\n",
      "flipped_qubit_dict {'Cluster_0': [], 'Cluster_1': [28], 'Cluster_2': [], 'Cluster_3': [4], 'Cluster_4': [], 'Cluster_5': [24], 'Cluster_6': [23], 'Cluster_7': [], 'Cluster_8': [4, 2, 3], 'Cluster_9': [23], 'Cluster_10': [], 'Cluster_11': [4], 'Cluster_12': [], 'Cluster_13': [23], 'Cluster_14': [1], 'Cluster_15': [7], 'Cluster_16': [], 'Cluster_17': [25], 'Cluster_18': [], 'Cluster_19': [4, 5], 'Cluster_20': [23, 24, 25, 28, 23, 19, 25, 26, 24, 26, 27, 27, 24, 28, 29, 27, 19, 28, 20, 29, 21, 29, 24, 28, 25, 29, 20, 21, 28, 26, 28, 27, 29, 26, 29, 28, 27, 29, 23, 24, 21, 22, 25, 27, 22], 'Cluster_21': [23], 'Cluster_22': [12, 12, 13, 13, 11, 14, 15, 15, 16, 16], 'Cluster_23': [23], 'Cluster_24': [25], 'Cluster_25': [], 'Cluster_26': [5], 'Cluster_27': [25], 'Cluster_28': [1], 'Cluster_29': [5], 'Cluster_30': [5], 'Cluster_31': [13, 14, 19, 15, 20, 12, 20], 'Cluster_32': [], 'Cluster_33': [6], 'Cluster_34': [], 'Cluster_35': [5, 6]}\n",
      "logical: [0] \n",
      "\n"
     ]
    },
    {
     "name": "stderr",
     "output_type": "stream",
     "text": [
      "  2%|▏         | 17/1111 [00:34<37:10,  2.04s/it]"
     ]
    },
    {
     "name": "stdout",
     "output_type": "stream",
     "text": [
      "\n",
      "meas_str: 000011010000011101100001111100 01110000100101011010011001011 01100111100111000000011001001 01110000100101110010010001110 00100101100011001000011000111 11110111100001010010010000101 11100011100011110000011011111 11110111100011100010010000100 11100101100011111000010011110 11110001100011001010011000100 11100101100011011000010011110 10101111100011101010011100100 11100001000011111010010111110 00101101000011011000010000100 11100111000001001010010111110 00101101000001111100010001100 11100001000001101010010110000 11101101000001101010010000000 01100001000001001010010110000 01101101000001110110010110000 11101100000001101100110000000 01111100000001111100000000001 01100010000001100000110000001 11111100000001111000000000001 11100000000001100000110000001 01111100000001111000001100001 11100010000001100000110000001 11111100000001100000001100001 01111100000001100000110000010 01100010000000100000001100010 11000010000000000000000000010\n",
      "flipped_qubit_dict {'Cluster_0': [], 'Cluster_1': [23, 29, 23, 28, 23, 23, 24, 29, 29, 27, 29, 29, 28, 25, 23, 23, 24, 28, 29, 26, 26, 27, 28, 23, 25, 28], 'Cluster_2': [6], 'Cluster_3': [], 'Cluster_4': [8], 'Cluster_5': [], 'Cluster_6': [1], 'Cluster_7': [1], 'Cluster_8': [13], 'Cluster_9': [6], 'Cluster_10': [], 'Cluster_11': [], 'Cluster_12': [], 'Cluster_13': [23], 'Cluster_14': [25], 'Cluster_15': [5], 'Cluster_16': [8], 'Cluster_17': [], 'Cluster_18': [5], 'Cluster_19': [11, 13, 11], 'Cluster_20': [24], 'Cluster_21': [5], 'Cluster_22': [3], 'Cluster_23': [28], 'Cluster_24': [2], 'Cluster_25': [], 'Cluster_26': [23], 'Cluster_27': [12, 13, 11, 14, 14], 'Cluster_28': [], 'Cluster_29': [23], 'Cluster_30': [6], 'Cluster_31': [], 'Cluster_32': [], 'Cluster_33': [23], 'Cluster_34': [], 'Cluster_35': [], 'Cluster_36': [23], 'Cluster_37': [], 'Cluster_38': [], 'Cluster_39': [23], 'Cluster_40': [], 'Cluster_41': [23], 'Cluster_42': [4], 'Cluster_43': [2, 2, 1, 1], 'Cluster_44': [], 'Cluster_45': [22], 'Cluster_46': [28, 28], 'Cluster_47': [], 'Cluster_48': [15, 14, 16, 13, 13, 14, 13, 14]}\n",
      "logical: [0] \n",
      "\n"
     ]
    },
    {
     "name": "stderr",
     "output_type": "stream",
     "text": [
      "  2%|▏         | 18/1111 [00:36<37:31,  2.06s/it]"
     ]
    },
    {
     "name": "stdout",
     "output_type": "stream",
     "text": [
      "\n",
      "meas_str: 101110111001001010001111011110 00111011010011101001100101010 11100110011111011000100011011 11111011011111111001100101001 11100110011111001000100011101 11111011010011111001110110011 11100100011111001000110110101 00111111010011111001110111101 11101010011111011000110110000 01100101010001101001110111111 00101110011111000000110110001 00100010010011000010110110011 00101110011111010000110111000 11100000011111110011110000011 00101100011111011001110111001 11100110011111101011110000011 00101100011111001001110111011 11100000011111000011110000010 10100100011111100001110111001 10100010011101001011110000011 11100100011101100001110111001 01100100011100001011101110001 10100100011011101001110111001 10100010010001001011101100000 01100100010101101001110110000 11100100010101001011101100000 11100010010001001101110110000 10100010010000101100001100000 01100000010000001000000000000 10100000010000001100000000000 01100000000000000000000000000\n",
      "flipped_qubit_dict {'Cluster_0': [], 'Cluster_1': [28], 'Cluster_2': [], 'Cluster_3': [], 'Cluster_4': [23], 'Cluster_5': [28], 'Cluster_6': [23], 'Cluster_7': [23], 'Cluster_8': [4], 'Cluster_9': [23], 'Cluster_10': [28], 'Cluster_11': [5], 'Cluster_12': [7], 'Cluster_13': [23], 'Cluster_14': [], 'Cluster_15': [1], 'Cluster_16': [28], 'Cluster_17': [23, 24], 'Cluster_18': [1], 'Cluster_19': [23], 'Cluster_20': [23], 'Cluster_21': [], 'Cluster_22': [18], 'Cluster_23': [28], 'Cluster_24': [22], 'Cluster_25': [28], 'Cluster_26': [16, 5, 17, 8, 10, 11, 12, 15, 10, 13, 9, 11, 15, 16, 17, 10, 6, 11, 12, 10, 13, 11, 14], 'Cluster_27': [29, 26, 27, 28, 28, 28, 29, 24, 23, 24, 25, 23, 24, 24, 25, 26, 29, 27, 28, 28, 23, 24, 25, 26, 27, 28], 'Cluster_28': [1, 0, 2, 0, 3, 2, 0, 1, 0, 1, 0, 2, 1, 3, 0, 5], 'Cluster_29': [18], 'Cluster_30': [2, 5, 1, 2, 3], 'Cluster_31': [18], 'Cluster_32': [15, 14, 13], 'Cluster_33': [21]}\n",
      "logical: [0] \n",
      "\n"
     ]
    },
    {
     "name": "stderr",
     "output_type": "stream",
     "text": [
      "  2%|▏         | 19/1111 [00:38<37:00,  2.03s/it]"
     ]
    },
    {
     "name": "stdout",
     "output_type": "stream",
     "text": [
      "\n",
      "meas_str: 101010100100001111100000110011 01010010010101100101001100001 11101110110101011110001001011 11010000010100101100001100001 01001110100100011110001001000 01010100010101111000001100001 11101110100101101110001000000 01110100010100001100001011001 00101100100101101110001011001 00110100010101000100001011000 11111010100101011110001011001 11100100000101101100001011000 00111010110100111110001000001 00100110000100111100001011000 01111000110101101010001101100 01100110000101101110001111010 01110010111000101100000100000 11101100000100111110001110110 11110100111001101100000100000 11101010000101000110001110110 11110100111001000100000010100 11101010010100011000001110010 11110100101000001100000100000 10111100010100001000001110000 11101010101100001100000010000 01100110010001000000001110000 01101100001101001100000010000 01100110000001000000001110000 01101100001101001100000010000 00100000000001000000001100000 10100000000001000000000000000\n",
      "flipped_qubit_dict {'Cluster_0': [], 'Cluster_1': [], 'Cluster_2': [6], 'Cluster_3': [], 'Cluster_4': [12], 'Cluster_5': [18], 'Cluster_6': [24], 'Cluster_7': [28, 28], 'Cluster_8': [23], 'Cluster_9': [20], 'Cluster_10': [], 'Cluster_11': [23], 'Cluster_12': [], 'Cluster_13': [], 'Cluster_14': [5], 'Cluster_15': [24], 'Cluster_16': [2], 'Cluster_17': [13], 'Cluster_18': [23], 'Cluster_19': [29, 28, 28, 29, 25, 26, 28, 26, 27, 28, 27, 28, 28, 28, 29], 'Cluster_20': [5], 'Cluster_21': [], 'Cluster_22': [], 'Cluster_23': [], 'Cluster_24': [14, 11], 'Cluster_25': [5], 'Cluster_26': [], 'Cluster_27': [14], 'Cluster_28': [], 'Cluster_29': [23], 'Cluster_30': [23], 'Cluster_31': [], 'Cluster_32': [], 'Cluster_33': [], 'Cluster_34': [], 'Cluster_35': [3, 4, 0, 5, 1, 4, 5, 1, 3, 4, 5, 6, 2], 'Cluster_36': [11], 'Cluster_37': [18], 'Cluster_38': [11], 'Cluster_39': [], 'Cluster_40': [], 'Cluster_41': [], 'Cluster_42': [], 'Cluster_43': [4], 'Cluster_44': [], 'Cluster_45': [], 'Cluster_46': [], 'Cluster_47': [15], 'Cluster_48': [], 'Cluster_49': [4], 'Cluster_50': [23, 23], 'Cluster_51': [28], 'Cluster_52': [], 'Cluster_53': [5], 'Cluster_54': [13, 15, 13, 12, 14, 12], 'Cluster_55': [], 'Cluster_56': [], 'Cluster_57': [1], 'Cluster_58': [], 'Cluster_59': [], 'Cluster_60': [], 'Cluster_61': [], 'Cluster_62': [15], 'Cluster_63': [], 'Cluster_64': [27]}\n",
      "logical: [0] \n",
      "\n"
     ]
    },
    {
     "name": "stderr",
     "output_type": "stream",
     "text": [
      "  2%|▏         | 20/1111 [00:40<37:00,  2.04s/it]"
     ]
    },
    {
     "name": "stdout",
     "output_type": "stream",
     "text": [
      "\n",
      "meas_str: 110111010011101101000111010010 01110011001101001001100111000 00110110011110011101000000011 10101101000001111101101010011 11110000011110010001000001001 10110101000000011001101011011 11101100000110011101000001010 01110001000000011101100111011 11101110000110011001000010110 10101011000000011101101010011 11101100000110011001000000101 00101111001100011101101000011 11111000000110011001000000110 01100111011100011101101001000 11111010000110011001011101110 01100101001100011101101000000 11111100000110011001011110000 01100011000000011101101000000 11100100000110011101011110000 01100000000000011101101000000 11111100000110010001011100000 01111110110000010001101100000 00010101010000010001011100000 11101111010000010001101100000 01001101010010010001011100000 10100101010000010001100000000 01100011010000010001011100000 01100101010000010001000000000 11100101010000000001000000000 11000010010000000001000000000 01000000000000000001000000000\n",
      "flipped_qubit_dict {'Cluster_0': [], 'Cluster_1': [], 'Cluster_2': [], 'Cluster_3': [23], 'Cluster_4': [], 'Cluster_5': [], 'Cluster_6': [], 'Cluster_7': [], 'Cluster_8': [23], 'Cluster_9': [], 'Cluster_10': [6], 'Cluster_11': [8], 'Cluster_12': [23], 'Cluster_13': [28], 'Cluster_14': [27], 'Cluster_15': [6], 'Cluster_16': [], 'Cluster_17': [28], 'Cluster_18': [17], 'Cluster_19': [28], 'Cluster_20': [20, 20], 'Cluster_21': [26, 24, 23, 25], 'Cluster_22': [22], 'Cluster_23': [25], 'Cluster_24': [23], 'Cluster_25': [2], 'Cluster_26': [], 'Cluster_27': [23], 'Cluster_28': [], 'Cluster_29': [1], 'Cluster_30': [1], 'Cluster_31': [], 'Cluster_32': [18], 'Cluster_33': [1], 'Cluster_34': [18, 19, 19, 20, 23, 24, 25, 21, 28, 23, 24, 22, 25, 26, 24, 20, 25, 26, 27, 23, 29, 24, 28, 29, 26, 27, 21, 27, 25, 25, 29, 23, 22, 24], 'Cluster_35': [3, 4], 'Cluster_36': [12, 6, 6, 9, 10, 6, 11, 7, 8, 8, 14, 9, 12, 5, 18, 10, 11, 12, 5, 15], 'Cluster_37': [6], 'Cluster_38': [1], 'Cluster_39': [19], 'Cluster_40': [6, 2, 3, 1], 'Cluster_41': [28], 'Cluster_42': [], 'Cluster_43': [24], 'Cluster_44': [26], 'Cluster_45': [28]}\n",
      "logical: [0] \n",
      "\n"
     ]
    },
    {
     "name": "stderr",
     "output_type": "stream",
     "text": [
      "  2%|▏         | 21/1111 [00:42<36:40,  2.02s/it]"
     ]
    },
    {
     "name": "stdout",
     "output_type": "stream",
     "text": [
      "\n",
      "meas_str: 000010010001011000101000000010 11000000000011100111001010011 11011011001101000000101010000 01000110010011100111000110011 11011100011101000000101010011 11100010010011100110000110000 11011100011101000001001100011 10101000010011100110000110000 10011110011101000101001100011 11100000010011000110000110000 01011110011101000101001010011 11100110010011100110000110010 10111010011101000001001011001 11100100010011100010000100010 11100010011101000001001010010 00111010011111100010000000010 11100000011101000001001010010 11111000011111100010000000010 00100010011101000001001010010 01111000011111100010000000010 01100010011101000001000101011 01100100001111000010000000010 11100000001101000001001010010 00100100001111000010000000010 11100000011101100001001010010 00100000010011000000000000010 11100000001101000000000110010 11100000000011100000000000010 11100010001101000000000110010 00100010000001000000000000000 00100000000001000000000000000\n",
      "flipped_qubit_dict {'Cluster_0': [], 'Cluster_1': [], 'Cluster_2': [], 'Cluster_3': [5], 'Cluster_4': [18], 'Cluster_5': [28], 'Cluster_6': [15, 16], 'Cluster_7': [28], 'Cluster_8': [28], 'Cluster_9': [6], 'Cluster_10': [10], 'Cluster_11': [18], 'Cluster_12': [25, 26, 26, 27, 22, 21, 23, 22, 23, 24, 25, 26, 28, 24, 29, 22, 23, 23, 25, 27, 28, 23, 24, 23, 23, 20, 24, 24, 20, 20, 25, 26, 24, 29, 24, 26, 25, 27, 28, 28, 20, 25, 20, 21, 27, 28, 29, 25, 23, 26, 20, 21, 21, 29, 22, 24], 'Cluster_13': [], 'Cluster_14': [0, 0], 'Cluster_15': [4], 'Cluster_16': [6], 'Cluster_17': [4], 'Cluster_18': [6], 'Cluster_19': [28], 'Cluster_20': [28], 'Cluster_21': [28], 'Cluster_22': [18], 'Cluster_23': [], 'Cluster_24': [3, 5, 2, 3, 5, 1, 2], 'Cluster_25': [28], 'Cluster_26': [23], 'Cluster_27': [27, 28], 'Cluster_28': [], 'Cluster_29': [], 'Cluster_30': [], 'Cluster_31': [], 'Cluster_32': [5], 'Cluster_33': [10, 11, 9], 'Cluster_34': [1], 'Cluster_35': [27, 28], 'Cluster_36': [1], 'Cluster_37': [], 'Cluster_38': [6], 'Cluster_39': [23, 22]}\n",
      "logical: [0] \n",
      "\n"
     ]
    },
    {
     "name": "stderr",
     "output_type": "stream",
     "text": [
      "  2%|▏         | 22/1111 [00:44<36:19,  2.00s/it]"
     ]
    },
    {
     "name": "stdout",
     "output_type": "stream",
     "text": [
      "\n",
      "meas_str: 000111010101101101011011111010 00101100001001000000100100000 00101111110011011110010100111 01101111001001001000100100011 00101000110011001110010100100 00101101010101010000100100011 01101110100011111010001100100 01101111010101001100100100011 11101110100011001110001101111 10101111010101001000100110011 10101110100011000110001101110 11100011010101001000100110001 11101110100011000110001101110 10100001000101000000100110011 11101010110011100100001101100 01100001000001000000100110011 10101110110111000100001101111 10101101000001000000100111001 10100000110111000100001110111 01010101000001000000100111010 01000100110111000001001111100 10110100000011000000100110010 10000010110000000000001111100 10000100000000000000000110010 01000100110000000000001111100 01000010000000000000000111000 01000100000000000000001111100 01000010000000000000000001000 10000100000000000000000011000 01000100000000000000001111100 00000010000000000000000000000\n",
      "flipped_qubit_dict {'Cluster_0': [23], 'Cluster_1': [4, 6, 3, 4, 4], 'Cluster_2': [28], 'Cluster_3': [23], 'Cluster_4': [], 'Cluster_5': [6], 'Cluster_6': [23], 'Cluster_7': [6], 'Cluster_8': [28], 'Cluster_9': [5], 'Cluster_10': [20], 'Cluster_11': [2, 3], 'Cluster_12': [23], 'Cluster_13': [28], 'Cluster_14': [28], 'Cluster_15': [9], 'Cluster_16': [], 'Cluster_17': [17], 'Cluster_18': [26], 'Cluster_19': [], 'Cluster_20': [28], 'Cluster_21': [], 'Cluster_22': [25, 27, 24, 23, 26, 26, 28, 24, 25, 28, 28, 23, 24, 22, 23, 24, 25, 25, 25, 28, 23], 'Cluster_23': [28], 'Cluster_24': [1], 'Cluster_25': [10, 11], 'Cluster_26': [28], 'Cluster_27': [1], 'Cluster_28': [1, 4, 2, 3], 'Cluster_29': [], 'Cluster_30': [], 'Cluster_31': [], 'Cluster_32': [], 'Cluster_33': [11, 12], 'Cluster_34': [23], 'Cluster_35': [28], 'Cluster_36': [0, 0, 1], 'Cluster_37': [24], 'Cluster_38': [12], 'Cluster_39': [1], 'Cluster_40': [4], 'Cluster_41': [14], 'Cluster_42': [13], 'Cluster_43': [23], 'Cluster_44': [7], 'Cluster_45': [12], 'Cluster_46': [14], 'Cluster_47': [], 'Cluster_48': [18], 'Cluster_49': [1], 'Cluster_50': [], 'Cluster_51': [23], 'Cluster_52': [1], 'Cluster_53': [13, 14, 15], 'Cluster_54': [23], 'Cluster_55': [27]}\n",
      "logical: [0] \n",
      "\n"
     ]
    },
    {
     "name": "stderr",
     "output_type": "stream",
     "text": [
      "  2%|▏         | 23/1111 [00:46<36:37,  2.02s/it]"
     ]
    },
    {
     "name": "stdout",
     "output_type": "stream",
     "text": [
      "\n",
      "meas_str: 010011110011001110110110101000 11111100010001011011101000010 01101111000101011110000111110 11110100000010001101101000010 00111111011001001110000111110 10110000000001001101101000010 01110111011001011110000111110 11110110010001101101101000010 00100001001001001101000111110 11110110010001111001101101010 11101001001001001101000111110 11111100010000101101101101010 11101001001001001101000111110 11111100010011100001101011010 10101111001000001101000111001 01111000010000100001101010100 10101101001001001101000111001 01111101010000100001101111000 11100000001001001101000100101 01100101010000100101101111000 11100110001001001101000101111 00100110010000101101001111111 00100100010001001000001110100 11100010010000101000001001011 00100000010001001100001110100 11100100000000101100001101011 01000000000000001000001100100 10000000000001101000000010101 01000100000000001100000000110 10000000000000001100000011000 01000010000000000000000000000\n",
      "flipped_qubit_dict {'Cluster_0': [28], 'Cluster_1': [4], 'Cluster_2': [12, 2, 3, 14, 8, 15, 9, 10, 11, 12, 0, 1, 2, 0, 5, 1, 3, 0, 13, 2, 1, 4, 7, 8, 9, 10, 12, 0, 2, 13, 14, 8, 11], 'Cluster_3': [2], 'Cluster_4': [1], 'Cluster_5': [3], 'Cluster_6': [6], 'Cluster_7': [2], 'Cluster_8': [4], 'Cluster_9': [6], 'Cluster_10': [27], 'Cluster_11': [5], 'Cluster_12': [27], 'Cluster_13': [22, 26, 27, 23, 19], 'Cluster_14': [3], 'Cluster_15': [5], 'Cluster_16': [], 'Cluster_17': [3], 'Cluster_18': [16], 'Cluster_19': [23], 'Cluster_20': [], 'Cluster_21': [23], 'Cluster_22': [28], 'Cluster_23': [5], 'Cluster_24': [16], 'Cluster_25': [4, 5], 'Cluster_26': [10], 'Cluster_27': [], 'Cluster_28': [20, 15, 21, 21, 29, 17, 23, 28, 25, 12, 26, 24, 25, 27, 25, 26, 27, 28, 29, 24, 25, 26, 23, 24, 27, 14, 14, 16, 23, 19, 20, 15, 25, 23, 25, 14, 25, 15, 28, 27, 11, 24, 12, 12, 25, 13, 26, 14, 14, 24, 15, 25, 27, 16, 26, 28, 28, 17, 18, 19]}\n",
      "logical: [0] \n",
      "\n"
     ]
    },
    {
     "name": "stderr",
     "output_type": "stream",
     "text": [
      "  2%|▏         | 24/1111 [00:48<36:14,  2.00s/it]"
     ]
    },
    {
     "name": "stdout",
     "output_type": "stream",
     "text": [
      "\n",
      "meas_str: 100110000001110000011011101010 01101100010001011111011001001 11100100011000011101101010111 01110000010001011011011001011 01100010001000011001101011101 00110000000001011111000000011 11100110001001011101101011111 01111100000000011000000110001 11101010001001111101100111011 01111000000010111100000110111 10001000001011001001100111110 11111010000010101000000110001 01001010011011101101100001111 01110000010011101100000110011 00001010011010101000000001101 01110000010010101000000111001 01101010011101101100000000111 10010000010000101000000001011 00101010011100101000000000101 00010100010010101100000010001 01101000011110101100000000111 10001000010000001100000010011 01000100011110101100000001101 10110100010000000100000011001 00100010000010100100000000111 01110100000000000100000010011 00100100000001100100000010101 01000000000000000100000011000 01000000000001100100000010100 01000000000001000100000010010 01000000000001001000000010000\n",
      "flipped_qubit_dict {'Cluster_0': [], 'Cluster_1': [], 'Cluster_2': [], 'Cluster_3': [3, 0, 1, 0, 0, 1, 2, 1, 0, 2], 'Cluster_4': [13, 13], 'Cluster_5': [15], 'Cluster_6': [], 'Cluster_7': [27], 'Cluster_8': [4], 'Cluster_9': [26], 'Cluster_10': [], 'Cluster_11': [16], 'Cluster_12': [23], 'Cluster_13': [], 'Cluster_14': [28], 'Cluster_15': [], 'Cluster_16': [], 'Cluster_17': [18], 'Cluster_18': [27], 'Cluster_19': [], 'Cluster_20': [23, 24, 26, 25, 26], 'Cluster_21': [], 'Cluster_22': [], 'Cluster_23': [25], 'Cluster_24': [], 'Cluster_25': [12, 12, 14, 14, 15, 16, 12, 13, 14, 6, 16, 12, 13, 14, 16, 10, 12, 13, 14, 14, 12, 13], 'Cluster_26': [23], 'Cluster_27': [28], 'Cluster_28': [4], 'Cluster_29': [], 'Cluster_30': [16], 'Cluster_31': [5], 'Cluster_32': [], 'Cluster_33': [], 'Cluster_34': [], 'Cluster_35': [17], 'Cluster_36': [27, 28, 27], 'Cluster_37': [], 'Cluster_38': [9], 'Cluster_39': [], 'Cluster_40': [28], 'Cluster_41': [], 'Cluster_42': [29, 27, 28, 28, 29, 25, 29, 26], 'Cluster_43': [1], 'Cluster_44': [5], 'Cluster_45': [], 'Cluster_46': [], 'Cluster_47': [1], 'Cluster_48': [], 'Cluster_49': [27], 'Cluster_50': [], 'Cluster_51': [], 'Cluster_52': [], 'Cluster_53': [], 'Cluster_54': [], 'Cluster_55': [5], 'Cluster_56': [], 'Cluster_57': [], 'Cluster_58': [28], 'Cluster_59': [], 'Cluster_60': [7], 'Cluster_61': [], 'Cluster_62': [28], 'Cluster_63': [], 'Cluster_64': [23], 'Cluster_65': [24], 'Cluster_66': [26]}\n",
      "logical: [0] \n",
      "\n"
     ]
    },
    {
     "name": "stderr",
     "output_type": "stream",
     "text": [
      "  2%|▏         | 25/1111 [00:50<35:36,  1.97s/it]"
     ]
    },
    {
     "name": "stdout",
     "output_type": "stream",
     "text": [
      "\n",
      "meas_str: 000100101000111000101010111010 00110111110000101110000000011 10001000010100000001111100011 11111101101100100110000000011 11110101001101001001111100111 11001000100101101110000001111 11011111001100101001111101111 11100000100100101110000111111 11010111000000000101111101110 11111110100100101010000111110 10110001000000000101111011010 11011110000100100010000111010 11010001100000000101111011011 11001010010100100010000111011 11010000010000000100011011010 11001000010100100010000111010 10010000010000000100010111111 11001000010100100010000001111 11010000010000000100010111010 11001000000100100010000111010 00010000000010000100011100010 10001000000110100010000111010 10010000000010000100000100001 01001000000110100010000111011 10010000000010000010000100010 01001010000110100010000110010 11010010000010000010000000011 10001100010000100000000000000 01010000010010000000000000011 00001000010000100000000000000 00000000010000000100000000011\n",
      "flipped_qubit_dict {'Cluster_0': [1], 'Cluster_1': [], 'Cluster_2': [25], 'Cluster_3': [], 'Cluster_4': [15, 16], 'Cluster_5': [28], 'Cluster_6': [], 'Cluster_7': [], 'Cluster_8': [], 'Cluster_9': [17], 'Cluster_10': [23, 23], 'Cluster_11': [], 'Cluster_12': [], 'Cluster_13': [], 'Cluster_14': [11], 'Cluster_15': [], 'Cluster_16': [2, 0, 1, 3, 5, 5, 0, 6, 3, 4, 5, 5, 3, 1, 5, 0, 0, 2, 7], 'Cluster_17': [], 'Cluster_18': [28], 'Cluster_19': [], 'Cluster_20': [], 'Cluster_21': [], 'Cluster_22': [6], 'Cluster_23': [], 'Cluster_24': [], 'Cluster_25': [9], 'Cluster_26': [], 'Cluster_27': [21], 'Cluster_28': [], 'Cluster_29': [23], 'Cluster_30': [], 'Cluster_31': [], 'Cluster_32': [5], 'Cluster_33': [], 'Cluster_34': [26, 27, 19, 20, 21, 27, 24, 25, 23, 18, 20, 21, 23, 24, 25, 19, 25, 23, 26, 24, 25, 25, 26, 23, 24], 'Cluster_35': [], 'Cluster_36': [15], 'Cluster_37': [18], 'Cluster_38': [5], 'Cluster_39': [], 'Cluster_40': [15], 'Cluster_41': [], 'Cluster_42': [], 'Cluster_43': [], 'Cluster_44': [], 'Cluster_45': [], 'Cluster_46': []}\n",
      "logical: [0] \n",
      "\n"
     ]
    },
    {
     "name": "stderr",
     "output_type": "stream",
     "text": [
      "  2%|▏         | 26/1111 [00:52<36:07,  2.00s/it]"
     ]
    },
    {
     "name": "stdout",
     "output_type": "stream",
     "text": [
      "\n",
      "meas_str: 011001100010000100011000111110 00100001011001111001000101011 10101011000001111011000001010 11100001011000110001110101011 11101011010001111011010001000 11100001001101011001010101001 11101011010111111111000001000 11100011001101111000000111001 10101001010101110011110001010 01100001001101111100000000001 10101011011101111011110000010 11100001001101110000100011010 01101001001101111011110001001 11100011011101111000000010010 01110001000001111011100001001 10100111001101111000000010010 10110101000001111011000001001 10100111001101110000100010010 11110011000001011000100001001 01100111001101111000010010010 11110011000001011000010001001 00000111001101111000010010010 10110111000000011000010001010 00000011001101111000110010010 10110110000000111000000001010 01100010000001010100010010010 00001110000000111000110001000 00000100000001011000110010000 00000000000000101000010001000 11011000000000000000000000000 00000000000000000000000000000\n",
      "flipped_qubit_dict {'Cluster_0': [25], 'Cluster_1': [28], 'Cluster_2': [4], 'Cluster_3': [15], 'Cluster_4': [8], 'Cluster_5': [28], 'Cluster_6': [26, 25, 26, 23, 24, 28, 23, 25], 'Cluster_7': [], 'Cluster_8': [], 'Cluster_9': [27], 'Cluster_10': [8], 'Cluster_11': [], 'Cluster_12': [1], 'Cluster_13': [23], 'Cluster_14': [], 'Cluster_15': [], 'Cluster_16': [12, 12, 15, 12, 18, 10, 11, 12, 17, 12, 18, 17, 8, 9, 13, 14, 8, 10, 10, 11, 12, 13, 14, 19, 13, 13, 8, 14, 9, 10, 11, 9, 10, 11], 'Cluster_17': [], 'Cluster_18': [1], 'Cluster_19': [28, 28, 28, 29, 29, 24, 28, 24, 29, 25, 29, 28, 27, 29, 28, 28, 29], 'Cluster_20': [1], 'Cluster_21': [4], 'Cluster_22': [], 'Cluster_23': [], 'Cluster_24': [5], 'Cluster_25': [], 'Cluster_26': [], 'Cluster_27': [3, 4, 2], 'Cluster_28': [8], 'Cluster_29': [], 'Cluster_30': [], 'Cluster_31': [], 'Cluster_32': [28, 27]}\n",
      "logical: [0] \n",
      "\n"
     ]
    },
    {
     "name": "stderr",
     "output_type": "stream",
     "text": [
      "  2%|▏         | 27/1111 [00:54<36:25,  2.02s/it]"
     ]
    },
    {
     "name": "stdout",
     "output_type": "stream",
     "text": [
      "\n",
      "meas_str: 100000000000011110010110111110 01100100011111111111101111010 11100100001101111100000011111 10111100010011111111101111000 00111010011101111100001111111 11100110010011111000100011011 01111000010001111000000011111 11100110000011111000100011011 01110110000001111100000011111 11110000000011011100110011000 01110000000001100000001110011 11110000000011111000110011111 00110000000001011100001110010 00101010010011011100110101111 00101010010001111000001101000 00101010000011111100110101111 11101000010001111100001101001 00110000010011111000110100100 11110000010001110100001110001 11110000010011111100111000100 10101000010001010000001110001 00001000010011011100111110100 00101000010001111000000110001 11001000010011011100111010100 01011000010001111000000110001 10011000010011011100111100010 00000000010001010000000110000 01000000010011001100001000000 01000000010001001000000100000 00000000010001000000001000000 00000000000001000000000000000\n",
      "flipped_qubit_dict {'Cluster_0': [6], 'Cluster_1': [25, 28, 29, 16, 28, 16, 17, 16, 25, 28, 29, 13, 25, 17, 18, 28, 29, 12, 13, 14, 15, 16, 17, 17, 18, 19, 28, 29, 8, 29, 12, 14, 15, 16, 17, 12, 13, 28, 28, 29, 14, 15, 13, 14, 18, 19, 19, 20, 21, 22, 13, 14, 23, 29, 15, 16, 24, 26, 29, 13, 14], 'Cluster_2': [5], 'Cluster_3': [25], 'Cluster_4': [25], 'Cluster_5': [], 'Cluster_6': [5], 'Cluster_7': [], 'Cluster_8': [27], 'Cluster_9': [6], 'Cluster_10': [28], 'Cluster_11': [5], 'Cluster_12': [9, 10, 0, 1, 0, 0, 9, 1, 10, 11, 4, 2, 1, 10, 11, 1, 2, 10, 3, 4, 11, 6, 0, 4, 2, 5, 3, 12, 7, 4, 0, 8, 5, 6, 7, 8, 9, 8], 'Cluster_13': [], 'Cluster_14': [28], 'Cluster_15': [], 'Cluster_16': [], 'Cluster_17': [25], 'Cluster_18': [5], 'Cluster_19': [25], 'Cluster_20': [], 'Cluster_21': [], 'Cluster_22': [12], 'Cluster_23': [1], 'Cluster_24': [23, 25], 'Cluster_25': [], 'Cluster_26': [6], 'Cluster_27': [18], 'Cluster_28': [], 'Cluster_29': [], 'Cluster_30': [1], 'Cluster_31': [6], 'Cluster_32': [25], 'Cluster_33': [6], 'Cluster_34': [23], 'Cluster_35': [25], 'Cluster_36': [28], 'Cluster_37': [2], 'Cluster_38': [18], 'Cluster_39': [25], 'Cluster_40': [28]}\n",
      "logical: [1] \n",
      "\n",
      "------------ Wrong logical! ------------\n",
      "\n"
     ]
    },
    {
     "name": "stderr",
     "output_type": "stream",
     "text": [
      "  3%|▎         | 28/1111 [00:56<36:23,  2.02s/it]"
     ]
    },
    {
     "name": "stdout",
     "output_type": "stream",
     "text": [
      "\n",
      "meas_str: 000011111000011011110101000100 10110111010010111101001000111 10100011110000011100110110011 10110101010011111001001010010 10111101110001011100110110100 10101101010011111111001100011 01110011101000111000110110111 01101111010011111111001100010 00101001101000111000110110110 01010011010010111011001101011 00101101101000110101110111111 11010011011011011110001101010 01101111100000011001110111000 00010111011011011010000011000 01101011100000001101111101000 00110111011001010010000001000 00100011100000010101001101000 01100111011010001110000001000 01100011100001001101001101000 01000011011010001101000000000 00111001100001000100001100000 01100011000010001100000000000 00111011100001000000001100000 01100001000010011100000000000 10111011100001001000001010000 01111000000010011100000000000 10111010100000000100000000000 00100000000000001100000000000 11111010100000001100000000000 00100000000000011100000000000 00100000000000001000000000000\n",
      "flipped_qubit_dict {'Cluster_0': [], 'Cluster_1': [], 'Cluster_2': [21, 22], 'Cluster_3': [25], 'Cluster_4': [28], 'Cluster_5': [], 'Cluster_6': [13], 'Cluster_7': [], 'Cluster_8': [25], 'Cluster_9': [5, 6], 'Cluster_10': [12], 'Cluster_11': [16], 'Cluster_12': [], 'Cluster_13': [25], 'Cluster_14': [5], 'Cluster_15': [13], 'Cluster_16': [], 'Cluster_17': [19], 'Cluster_18': [27], 'Cluster_19': [], 'Cluster_20': [25], 'Cluster_21': [8], 'Cluster_22': [14, 10, 11, 12, 10, 11, 13, 10, 14, 12, 13, 14, 15, 11, 14, 12, 13], 'Cluster_23': [29, 29, 28, 25, 27, 28, 23, 28, 29, 26, 27, 27, 26, 28, 29, 28, 27], 'Cluster_24': [], 'Cluster_25': [5, 6, 6], 'Cluster_26': [0, 1, 0, 2, 0, 0], 'Cluster_27': [], 'Cluster_28': [], 'Cluster_29': [12], 'Cluster_30': [], 'Cluster_31': [], 'Cluster_32': [25], 'Cluster_33': [27], 'Cluster_34': [23, 24, 23, 25], 'Cluster_35': [1], 'Cluster_36': [28], 'Cluster_37': [], 'Cluster_38': [19], 'Cluster_39': [28], 'Cluster_40': [5], 'Cluster_41': [25], 'Cluster_42': [1], 'Cluster_43': [], 'Cluster_44': [], 'Cluster_45': [23], 'Cluster_46': [25], 'Cluster_47': [1], 'Cluster_48': [], 'Cluster_49': [23]}\n",
      "logical: [0] \n",
      "\n"
     ]
    },
    {
     "name": "stderr",
     "output_type": "stream",
     "text": [
      "  3%|▎         | 29/1111 [00:58<36:23,  2.02s/it]"
     ]
    },
    {
     "name": "stdout",
     "output_type": "stream",
     "text": [
      "\n",
      "meas_str: 000001000001110110000011100110 00100000011001010000001101011 00101100010001011000011111010 10100100011001011000001011111 01001010010011011000011111011 11000110011111011100001011101 10001100010001111001011111001 10010010011111010100001011101 11001000010001111101011111011 10010110011111110100001010111 11001010010001111000011110110 01001110011111111100001010011 11001110000001111000011000110 10001000001111111100001010011 11001110000001111000011000110 10001010001111111100001100011 11001010001111111100011000101 01001010001101111100001100011 10001010001111111100011100110 00000010000001101100001000000 10000010001101111100011100000 01000000000001101000001000000 11000000001101011100011100000 01000000000001111100001000000 00000000001101011100011100000 10000000000001010100001000000 11000000001101011100000100000 01000000000001011000001100000 10000000001101011100000000000 01000000000001011000000000000 00000000000000011000000000000\n",
      "flipped_qubit_dict {'Cluster_0': [28], 'Cluster_1': [14, 13, 14, 14, 15, 12, 15, 16, 12, 15, 13, 18, 18, 12, 13], 'Cluster_2': [6], 'Cluster_3': [], 'Cluster_4': [7], 'Cluster_5': [28], 'Cluster_6': [28], 'Cluster_7': [], 'Cluster_8': [], 'Cluster_9': [2], 'Cluster_10': [1], 'Cluster_11': [], 'Cluster_12': [], 'Cluster_13': [1], 'Cluster_14': [], 'Cluster_15': [28], 'Cluster_16': [1], 'Cluster_17': [18], 'Cluster_18': [5], 'Cluster_19': [24, 24, 28, 26, 24, 27, 25, 28, 28, 29, 29, 26, 20, 20, 28, 25, 26, 23, 27, 24, 28, 25, 29, 26, 28, 25, 26, 27, 29, 25, 24, 23, 26, 23, 25, 27], 'Cluster_20': [5], 'Cluster_21': [], 'Cluster_22': [], 'Cluster_23': [0, 0, 1, 0, 1, 0], 'Cluster_24': [], 'Cluster_25': [10, 11, 12, 15, 10, 11, 12, 17, 12], 'Cluster_26': [23], 'Cluster_27': [], 'Cluster_28': [], 'Cluster_29': [], 'Cluster_30': [5]}\n",
      "logical: [0] \n",
      "\n"
     ]
    },
    {
     "name": "stderr",
     "output_type": "stream",
     "text": [
      "  3%|▎         | 30/1111 [01:00<35:51,  1.99s/it]"
     ]
    },
    {
     "name": "stdout",
     "output_type": "stream",
     "text": [
      "\n",
      "meas_str: 111110001010000000000000010000 11100001111001011000000010000 11101000000001011000000001000 11100011111001111000000010000 11111000000000111000000001000 11100011111000111000000010000 11011010000001111000000001000 10000010011000110000000010000 11011010000000110000000001000 01000000011000111000000011000 01011000000000111100000000000 11000000001100011100000011000 01011000000000001000000000000 11000000001100000000000000000 01011000000000001000000000000 00000000000000001100000000000 01011000000000001100000000000 00000000000000000001000000000 10011000000000001001000000000 11000000000000001101000000000 00000000000000001101000010000 11000010000000001001000010000 10000010000000001001000010000 11000010000000001001000010000 11000010000000001100000100000 11000000000000001100000011000 01000000000000001000000110000 01000000000000001000000011000 01000010000000001100000010000 00000010000000001100000001000 00000000000000111000000000000\n",
      "flipped_qubit_dict {'Cluster_0': [], 'Cluster_1': [14], 'Cluster_2': [4], 'Cluster_3': [], 'Cluster_4': [], 'Cluster_5': [14], 'Cluster_6': [], 'Cluster_7': [5], 'Cluster_8': [], 'Cluster_9': [], 'Cluster_10': [], 'Cluster_11': [], 'Cluster_12': [4, 5], 'Cluster_13': [], 'Cluster_14': [28], 'Cluster_15': [], 'Cluster_16': [25], 'Cluster_17': [29, 28], 'Cluster_18': [28], 'Cluster_19': [18], 'Cluster_20': [28], 'Cluster_21': [4], 'Cluster_22': [10, 11, 10, 11], 'Cluster_23': [18, 19], 'Cluster_24': [], 'Cluster_25': [], 'Cluster_26': [], 'Cluster_27': [28, 26, 27, 27, 27], 'Cluster_28': [], 'Cluster_29': [], 'Cluster_30': [21, 22, 22]}\n",
      "logical: [0] \n",
      "\n"
     ]
    },
    {
     "name": "stderr",
     "output_type": "stream",
     "text": [
      "  3%|▎         | 31/1111 [01:02<36:06,  2.01s/it]"
     ]
    },
    {
     "name": "stdout",
     "output_type": "stream",
     "text": [
      "\n",
      "meas_str: 100011100000010101100100111101 10100010010011011000001001100 00100011000001110010111101111 10110000010001010000001001100 00100011000001110010111101111 10110110010111011000000110000 01100001000001110010110001010 11110111010111011000000110000 00100000000011111010110001010 01110101110101011100000110000 11100011000011111010110001110 11111000000100111100000000100 11100011000011111110110001110 10111110000100111000000000000 11101000000010111110110000000 01111100000100111100000000000 11100010000011100110110000000 01100000000100011100000000000 01100010000010111011110000000 01100110000100001101000000000 00100000000010000011110000000 01100110000100001101000000000 01000000000010000111110001000 00100100000000000101000001000 11000010000000001111000001000 01000100000010001101001100000 11000000000000001111000000000 11000010000000001001001100000 10000000000000000001000000000 11000000000000001000000000000 00000000000000001000000000000\n",
      "flipped_qubit_dict {'Cluster_0': [6], 'Cluster_1': [28], 'Cluster_2': [23], 'Cluster_3': [], 'Cluster_4': [6], 'Cluster_5': [17], 'Cluster_6': [28], 'Cluster_7': [8], 'Cluster_8': [], 'Cluster_9': [], 'Cluster_10': [], 'Cluster_11': [25, 23, 23, 22, 23], 'Cluster_12': [11, 12, 16, 22, 12, 23, 13, 20, 21, 14, 15, 10, 10, 12, 15, 13, 17], 'Cluster_13': [28], 'Cluster_14': [2, 3], 'Cluster_15': [29, 29, 28, 28, 28, 29], 'Cluster_16': [], 'Cluster_17': [5], 'Cluster_18': [20], 'Cluster_19': [], 'Cluster_20': [24], 'Cluster_21': [], 'Cluster_22': [], 'Cluster_23': [21], 'Cluster_24': [28, 28], 'Cluster_25': [0], 'Cluster_26': [], 'Cluster_27': [6], 'Cluster_28': [4], 'Cluster_29': [6]}\n",
      "logical: [0] \n",
      "\n"
     ]
    },
    {
     "name": "stderr",
     "output_type": "stream",
     "text": [
      "  3%|▎         | 32/1111 [01:04<35:41,  1.99s/it]"
     ]
    },
    {
     "name": "stdout",
     "output_type": "stream",
     "text": [
      "\n",
      "meas_str: 011000101100110100100100111110 00101001110111111111000001101 10101100100011111001110101100 01101101010111111011000001101 11101100110001111001110101100 11101001010101111111000001001 11101100100001111101110101000 01101001000101111110000001001 11101110100001111000110101000 10101101000101111110000001101 00101100100001111100110101100 10100101000101111010000001101 01101100100001111000110101100 01100101000101111110000001101 11101110100001110100000101100 00100100000101111010000001101 11100101100001111000000010000 00100010000101111010000001011 00100111100001111000000010011 00100000000011011000000001011 01100111100001011100000010000 00100110000011001000000001010 01100001100001001000000010000 00100110000011001100000001001 01100001100001001100000010010 00100010000001001000000000010 11100000000001001000000000010 10100000000001001100000000010 11100010000001001100000000000 11000000000001001100000000000 00000000000000001000000000000\n",
      "flipped_qubit_dict {'Cluster_0': [], 'Cluster_1': [], 'Cluster_2': [28, 27, 29, 28, 29, 28, 27, 29, 29, 28, 29, 29, 28], 'Cluster_3': [16, 13, 15, 12, 14], 'Cluster_4': [0, 1, 2, 3, 4, 0, 1, 0, 2, 3, 1, 0, 1], 'Cluster_5': [21, 23], 'Cluster_6': [], 'Cluster_7': [23], 'Cluster_8': [], 'Cluster_9': [17], 'Cluster_10': [26, 23, 23, 27, 25, 22], 'Cluster_11': [1], 'Cluster_12': [2], 'Cluster_13': [3], 'Cluster_14': [5], 'Cluster_15': [22], 'Cluster_16': [8], 'Cluster_17': [], 'Cluster_18': [28], 'Cluster_19': [28], 'Cluster_20': [11, 10, 11, 10, 11], 'Cluster_21': [], 'Cluster_22': [], 'Cluster_23': [], 'Cluster_24': [23, 25, 24, 26, 24, 24, 23, 24], 'Cluster_25': [20], 'Cluster_26': [15, 12, 13], 'Cluster_27': [23]}\n",
      "logical: [0] \n",
      "\n"
     ]
    },
    {
     "name": "stderr",
     "output_type": "stream",
     "text": [
      "  3%|▎         | 33/1111 [01:06<35:54,  2.00s/it]"
     ]
    },
    {
     "name": "stdout",
     "output_type": "stream",
     "text": [
      "\n",
      "meas_str: 111101000011001100100101101010 11010101000101001001100000001 11001001010001011101011011101 00001111000000000100100001011 00001101010101010001011011111 00001001010000000100100000011 11001101000101110001011011101 10000011010000100100100110001 01001101001001110001011000110 10000001000000100100100110011 11001101000001110001011101101 10001111000000100100100111011 11101101000001110001011111111 11101001000000000100100101001 11101101000000000001011111101 11101111000000000100100011001 00101101000100000001011110101 11101011000100000100101011011 10100011000100000001010110111 01000011000100000100100011000 01101011000100000001010000101 10000001000100000100100011011 00110001000100000001010000101 10000010000000000100100000011 01000010000000000001010000110 10000010000000000100100000010 10000010000000000010010000010 01010010010000000000100000010 10010010000000000000110000000 01010010000000000000000000000 00010001000000000000110000000\n",
      "flipped_qubit_dict {'Cluster_0': [8], 'Cluster_1': [22], 'Cluster_2': [], 'Cluster_3': [28], 'Cluster_4': [22], 'Cluster_5': [], 'Cluster_6': [11], 'Cluster_7': [], 'Cluster_8': [], 'Cluster_9': [28], 'Cluster_10': [10], 'Cluster_11': [28], 'Cluster_12': [], 'Cluster_13': [22], 'Cluster_14': [27], 'Cluster_15': [4], 'Cluster_16': [22], 'Cluster_17': [25], 'Cluster_18': [26, 28, 27], 'Cluster_19': [24, 23, 23, 23, 25, 24, 26, 29, 27, 24, 27, 28, 27, 28, 29, 28, 27, 29, 23, 25, 26, 27, 28, 28], 'Cluster_20': [], 'Cluster_21': [28], 'Cluster_22': [14, 15], 'Cluster_23': [23], 'Cluster_24': [24], 'Cluster_25': [5, 1, 2, 0, 1, 3, 0, 2, 1, 0, 4, 1, 5, 0, 1, 5, 1, 2, 2, 3, 3, 4, 5, 1, 4, 2, 5, 3, 6, 4, 0, 1, 1, 0, 2, 4, 3], 'Cluster_26': [19], 'Cluster_27': [], 'Cluster_28': [1], 'Cluster_29': [18], 'Cluster_30': [], 'Cluster_31': [], 'Cluster_32': [], 'Cluster_33': [23, 24], 'Cluster_34': [], 'Cluster_35': [28], 'Cluster_36': [], 'Cluster_37': [12], 'Cluster_38': [], 'Cluster_39': [28], 'Cluster_40': [], 'Cluster_41': [10], 'Cluster_42': [12], 'Cluster_43': [], 'Cluster_44': [23, 23], 'Cluster_45': [25], 'Cluster_46': [28], 'Cluster_47': [1]}\n",
      "logical: [0] \n",
      "\n"
     ]
    },
    {
     "name": "stderr",
     "output_type": "stream",
     "text": [
      "  3%|▎         | 34/1111 [01:08<35:21,  1.97s/it]"
     ]
    },
    {
     "name": "stdout",
     "output_type": "stream",
     "text": [
      "\n",
      "meas_str: 010001001001000000110000010110 10101000000110111101000011111 01100100001010111000000000010 11101000000110110001000011111 01100100001010100100000000010 10101100000110101101000011111 00100010001010101000000000010 11101110000110101001000011111 11100010001000101100000011010 11101110000100101001000011000 00100010001000101000000000110 01101010000100101110000011000 00100100001000101100000000110 00101110000100101010000011010 00111100001000101000000000100 11101000000100101110000000110 01111100001001101100000000000 10101000000100001010000000110 01111110001001101000000010000 10100010000101001110000011100 01111010001000101100000010000 11100010100100101100000001000 10111010001001101000000010000 11000010000101001000000001000 01011010001000000100000010000 11000000001000001100000000000 00000000001000001000000011000 11000010001000001000000000000 00000010001010001100000000000 00000010001000000000000000000 00000000001001001000000000000\n",
      "flipped_qubit_dict {'Cluster_0': [], 'Cluster_1': [], 'Cluster_2': [28], 'Cluster_3': [4], 'Cluster_4': [12, 13, 13, 18, 14, 15, 15, 12, 12, 12, 14, 15, 16, 15, 12, 16, 12], 'Cluster_5': [], 'Cluster_6': [], 'Cluster_7': [], 'Cluster_8': [27, 25, 29, 26, 28, 29, 29, 28, 29, 26, 27, 29, 28, 29], 'Cluster_9': [], 'Cluster_10': [], 'Cluster_11': [], 'Cluster_12': [3, 4], 'Cluster_13': [11], 'Cluster_14': [15], 'Cluster_15': [], 'Cluster_16': [], 'Cluster_17': [24], 'Cluster_18': [2, 3], 'Cluster_19': [], 'Cluster_20': [], 'Cluster_21': [], 'Cluster_22': [15], 'Cluster_23': [], 'Cluster_24': [], 'Cluster_25': [4], 'Cluster_26': [], 'Cluster_27': [23], 'Cluster_28': [28], 'Cluster_29': [], 'Cluster_30': [25], 'Cluster_31': [], 'Cluster_32': [23], 'Cluster_33': [10], 'Cluster_34': [], 'Cluster_35': [1, 4], 'Cluster_36': [], 'Cluster_37': [], 'Cluster_38': [4], 'Cluster_39': [], 'Cluster_40': [], 'Cluster_41': [], 'Cluster_42': [12], 'Cluster_43': [], 'Cluster_44': [], 'Cluster_45': [13], 'Cluster_46': [13], 'Cluster_47': [12], 'Cluster_48': [21]}\n",
      "logical: [0] \n",
      "\n"
     ]
    },
    {
     "name": "stderr",
     "output_type": "stream",
     "text": [
      "  3%|▎         | 35/1111 [01:10<35:16,  1.97s/it]"
     ]
    },
    {
     "name": "stdout",
     "output_type": "stream",
     "text": [
      "\n",
      "meas_str: 011011000110000000000111011000 01110100100001101100010100010 11100000001011101000110010110 11110100100001101000010100001 10100100001001101000110010101 01110110100001001100110000001 00000010001001101100010110101 01101110110001001000110110001 00001100001001001000010110110 00110010100001001100110110001 01101100001001001100010110100 11111100100001001000000000011 10101000001001001000010110100 11111110100001001100000000111 11110011001001001100010110011 00111110010001001100000000100 11111001000001001100010110011 00111110010001001100000000100 11111111000000000100010111001 10111110010000001100000000100 11111001000000001000001111001 00111100010000001100010101110 11100111000000000000001111001 10110100010000001100010110110 10100001000000000000001110001 11110100010000000000011010010 01100110100000000000000010010 10110100010000000100000010010 10100000000000000000000100010 11111000000000000000000000010 10100000000000000000000000000\n",
      "flipped_qubit_dict {'Cluster_0': [], 'Cluster_1': [28, 29, 27, 28, 29, 25, 26, 27, 24, 26, 27, 27, 29, 28, 29, 23, 24, 23, 24, 25, 25, 26, 28, 26, 27], 'Cluster_2': [20], 'Cluster_3': [5, 5], 'Cluster_4': [23], 'Cluster_5': [7], 'Cluster_6': [], 'Cluster_7': [1], 'Cluster_8': [6], 'Cluster_9': [21], 'Cluster_10': [23], 'Cluster_11': [], 'Cluster_12': [3], 'Cluster_13': [6], 'Cluster_14': [12], 'Cluster_15': [24], 'Cluster_16': [28], 'Cluster_17': [4], 'Cluster_18': [12], 'Cluster_19': [25, 23], 'Cluster_20': [2, 3], 'Cluster_21': [6, 7, 7], 'Cluster_22': [23], 'Cluster_23': [], 'Cluster_24': [], 'Cluster_25': [2, 3], 'Cluster_26': [23], 'Cluster_27': [1], 'Cluster_28': [], 'Cluster_29': [1], 'Cluster_30': [], 'Cluster_31': [], 'Cluster_32': [25], 'Cluster_33': [], 'Cluster_34': [], 'Cluster_35': [5], 'Cluster_36': [8], 'Cluster_37': [], 'Cluster_38': [27, 25, 26, 27, 19, 20, 23, 24, 20, 26, 22, 21, 22, 23, 28, 23, 28, 25], 'Cluster_39': [1], 'Cluster_40': [], 'Cluster_41': [5], 'Cluster_42': [], 'Cluster_43': [], 'Cluster_44': [], 'Cluster_45': [], 'Cluster_46': [], 'Cluster_47': [], 'Cluster_48': [1], 'Cluster_49': [1], 'Cluster_50': []}\n",
      "logical: [0] \n",
      "\n"
     ]
    },
    {
     "name": "stderr",
     "output_type": "stream",
     "text": [
      "  3%|▎         | 36/1111 [01:12<35:50,  2.00s/it]"
     ]
    },
    {
     "name": "stdout",
     "output_type": "stream",
     "text": [
      "\n",
      "meas_str: 110000000010001001000010100100 00110010000011000000001010010 01101010011011101100010100110 00110000000111001100001011011 00101010011111101000010101111 10110010000111001000010011110 01101010011111100100010101011 01110010000111000100011111111 01101010001111101000010010010 01110010010111001000011110000 11101010000011100111010100000 10110010010111001001011110000 01101000000011101010010010000 00110010000111001001011110000 01101110010011101011010010000 01110100010111101000011110000 01101100000011101000010100000 01110100010111101000010010001 01101010001111100100000100000 11110100011011101000000000000 11101010000011001100000000000 11110110011011001000000000000 10101110000011100100000000000 01100110011011000000000000000 10111100000011101100000000000 01100100011011001000000000000 11111000000011101100000000000 00100100011001000000000000000 10111100000001001000011000000 11100000011001001100000000000 00100000000000000000000000000\n",
      "flipped_qubit_dict {'Cluster_0': [], 'Cluster_1': [], 'Cluster_2': [19], 'Cluster_3': [28], 'Cluster_4': [7], 'Cluster_5': [], 'Cluster_6': [], 'Cluster_7': [7], 'Cluster_8': [], 'Cluster_9': [], 'Cluster_10': [25], 'Cluster_11': [28], 'Cluster_12': [23], 'Cluster_13': [], 'Cluster_14': [], 'Cluster_15': [5], 'Cluster_16': [12, 13, 10, 11, 22, 23, 14, 11, 21, 12, 22, 10, 12, 13, 6, 7, 8, 9, 14, 5, 6, 7, 15, 7, 16, 8, 9, 16, 17, 23, 6, 17, 19, 19, 20, 20, 21, 23], 'Cluster_17': [5], 'Cluster_18': [5], 'Cluster_19': [0, 1, 0, 2, 3, 0, 3, 0], 'Cluster_20': [5], 'Cluster_21': [6], 'Cluster_22': [28], 'Cluster_23': [], 'Cluster_24': [], 'Cluster_25': [], 'Cluster_26': [29, 28, 29, 29, 29, 28, 28, 28, 29], 'Cluster_27': [1], 'Cluster_28': [], 'Cluster_29': [25]}\n",
      "logical: [0] \n",
      "\n"
     ]
    },
    {
     "name": "stderr",
     "output_type": "stream",
     "text": [
      "  3%|▎         | 37/1111 [01:14<35:37,  1.99s/it]"
     ]
    },
    {
     "name": "stdout",
     "output_type": "stream",
     "text": [
      "\n",
      "meas_str: 100000101000000111010000010100 11011000001101101110001001001 01011110101101001000001010011 11011001001101101100001001110 01011110100001111000001010000 11011111001101110100001001110 10010100110001111000001010000 01011001011101110100001001110 01001100110001111000001010000 01011111011101111100001010110 10100000110001111000001111000 01111111011101111100001010110 11011000110001111000000111000 10100111001101110100000001110 11011000100001111000000111000 10111101001101111000000001110 11011100100001111000000111011 11010001000001111000000001101 01000101100001111000000111011 10010110000001111000000100110 01000011100001110000000011000 10010110000001110000000000000 01000101100001111000000011000 00001110100001111000000000000 00000101010001101000000000000 00001111100000111000000000000 11000100000001100000000000000 00001000000001111000000000000 11001100000001100000000000000 10000010000001100000000000000 00000000000001000000000000000\n",
      "flipped_qubit_dict {'Cluster_0': [], 'Cluster_1': [], 'Cluster_2': [28], 'Cluster_3': [13], 'Cluster_4': [24], 'Cluster_5': [], 'Cluster_6': [21], 'Cluster_7': [23], 'Cluster_8': [], 'Cluster_9': [28], 'Cluster_10': [], 'Cluster_11': [4], 'Cluster_12': [13], 'Cluster_13': [], 'Cluster_14': [28], 'Cluster_15': [], 'Cluster_16': [25], 'Cluster_17': [23], 'Cluster_18': [2], 'Cluster_19': [4, 5], 'Cluster_20': [], 'Cluster_21': [1], 'Cluster_22': [23], 'Cluster_23': [1], 'Cluster_24': [], 'Cluster_25': [28], 'Cluster_26': [1], 'Cluster_27': [18], 'Cluster_28': [23, 25, 25, 25, 24, 23, 27], 'Cluster_29': [1], 'Cluster_30': [], 'Cluster_31': [4], 'Cluster_32': [], 'Cluster_33': [28], 'Cluster_34': [25], 'Cluster_35': [27], 'Cluster_36': [], 'Cluster_37': [5], 'Cluster_38': [24], 'Cluster_39': [28], 'Cluster_40': [12], 'Cluster_41': [23], 'Cluster_42': [25], 'Cluster_43': [28, 29], 'Cluster_44': [], 'Cluster_45': [], 'Cluster_46': [24], 'Cluster_47': [28], 'Cluster_48': [13], 'Cluster_49': [23], 'Cluster_50': [1], 'Cluster_51': [14], 'Cluster_52': [18], 'Cluster_53': [1], 'Cluster_54': [], 'Cluster_55': [], 'Cluster_56': [10]}\n",
      "logical: [0] \n",
      "\n"
     ]
    },
    {
     "name": "stderr",
     "output_type": "stream",
     "text": [
      "  3%|▎         | 38/1111 [01:16<35:40,  1.99s/it]"
     ]
    },
    {
     "name": "stdout",
     "output_type": "stream",
     "text": [
      "\n",
      "meas_str: 101001100000000001011110101010 10111010000011101001001111111 01010000000011101110000100000 00111010000011100001101011111 01110110000011101010000110011 00111110000011101001101010100 01011110000011101110000110011 01011000000011101101101010111 10000110000011101010000110011 11000110000011101001101100111 11000110000011101111000110100 11000010000011100100101100011 11000000000001101011000111110 01010010000001100000101001111 10001000000001100011000001010 01001010000001100100101001000 11001110000001101111000001110 11001100000001101100101001000 10001110000001101000000001110 11001000000001100100110001000 10010010000001101000000000110 11010010000001101100110000000 11001010000001101000000000000 01001000000001100100110000000 11001010000001001000000000000 01010010000001001000000000000 01001000000001001001000000000 01000100000001101010000000000 01000110000001000001000000000 10011100000001000000000000000 01000000000001000000000000000\n",
      "flipped_qubit_dict {'Cluster_0': [], 'Cluster_1': [28], 'Cluster_2': [29, 28, 29, 28, 24, 25, 26, 28, 29, 23, 28, 24, 25, 26, 27, 29, 28, 29, 24, 28, 28, 29, 27, 23, 23, 24, 24, 28, 29, 26, 27], 'Cluster_3': [], 'Cluster_4': [25], 'Cluster_5': [25], 'Cluster_6': [2], 'Cluster_7': [25], 'Cluster_8': [28], 'Cluster_9': [], 'Cluster_10': [25], 'Cluster_11': [], 'Cluster_12': [25], 'Cluster_13': [11, 10, 10, 11, 14, 12, 13, 14, 13, 10, 11, 7, 8, 10, 11, 9, 10], 'Cluster_14': [23], 'Cluster_15': [23], 'Cluster_16': [0, 2, 0, 2], 'Cluster_17': [25], 'Cluster_18': [], 'Cluster_19': [3, 4], 'Cluster_20': [25], 'Cluster_21': [], 'Cluster_22': [], 'Cluster_23': [2], 'Cluster_24': [5], 'Cluster_25': [1], 'Cluster_26': [1], 'Cluster_27': [4], 'Cluster_28': [1], 'Cluster_29': [23, 23, 25, 26], 'Cluster_30': []}\n",
      "logical: [0] \n",
      "\n"
     ]
    },
    {
     "name": "stderr",
     "output_type": "stream",
     "text": [
      "  4%|▎         | 39/1111 [01:18<36:01,  2.02s/it]"
     ]
    },
    {
     "name": "stdout",
     "output_type": "stream",
     "text": [
      "\n",
      "meas_str: 110010100101001000100101100110 10011100010001101100011000110 11000010100001001010100010011 11111110010001101100011001101 00000110100001000110100011100 11111011110001101000011001001 00000110100001001010101110110 11111100100001101000011001001 00100110110001001010101111100 01101000100001100000101101001 00101010110001000110000011111 01101010110001100000000101010 01101000100001000110000001111 11101010100001100000000010101 01101000100001000110000001011 11101010110001100000000010101 01101010100001000110000001011 11101011110001100000000010101 10101010110001000110000001011 01101001100001000000000010110 11101000110001000110000001011 00110001100001000000000001111 00110000000001000110000001000 00101001100001000000000000100 11110000000001000110000001000 00001000000001100000000000100 00010000000001100110000001000 11001010000001100000000000100 11000000000001000110000000000 10000000000001000000000000000 00000000000000000110000000000\n",
      "flipped_qubit_dict {'Cluster_0': [11], 'Cluster_1': [], 'Cluster_2': [], 'Cluster_3': [], 'Cluster_4': [3], 'Cluster_5': [], 'Cluster_6': [25], 'Cluster_7': [28], 'Cluster_8': [], 'Cluster_9': [28], 'Cluster_10': [], 'Cluster_11': [], 'Cluster_12': [28], 'Cluster_13': [21], 'Cluster_14': [28], 'Cluster_15': [1, 2, 3], 'Cluster_16': [25], 'Cluster_17': [20], 'Cluster_18': [25], 'Cluster_19': [4], 'Cluster_20': [25], 'Cluster_21': [], 'Cluster_22': [28], 'Cluster_23': [1], 'Cluster_24': [28], 'Cluster_25': [22], 'Cluster_26': [28], 'Cluster_27': [1], 'Cluster_28': [], 'Cluster_29': [9, 10, 13, 24, 25, 10, 29, 11, 14, 22, 25, 26, 28, 28, 27, 11, 12, 15, 22, 26, 27, 27, 28, 29, 16, 21, 23, 15, 12, 17, 16, 12, 13, 14, 15, 16, 17, 18, 18, 17, 23, 18, 16, 17, 19, 3, 20, 4, 21, 5, 19, 20, 1, 3, 5, 6, 20, 20, 21, 5, 7, 20, 21, 22, 6, 8, 20, 21, 22, 22, 7, 9, 12, 23, 24, 25, 29], 'Cluster_30': [], 'Cluster_31': [1, 3, 1, 1, 3, 2, 3, 2, 6, 3, 2, 0, 0, 2], 'Cluster_32': [28], 'Cluster_33': [27]}\n",
      "logical: [0] \n",
      "\n"
     ]
    },
    {
     "name": "stderr",
     "output_type": "stream",
     "text": [
      "  4%|▎         | 40/1111 [01:20<35:34,  1.99s/it]"
     ]
    },
    {
     "name": "stdout",
     "output_type": "stream",
     "text": [
      "\n",
      "meas_str: 100010100110111001110000010010 00101100111101011111000010011 00110010010001101110000001000 11100100001011001111000010011 11111010110001111010000000100 11100100111011011101000010011 00111010010001010011000000101 11100110001011010100000010010 11111110010000011011000000010 01100110001011011100000011101 01111110000011010011000010010 00100000101011011100000010001 11111100110001101011000001010 01100010101011101100000011000 10111110110001111011000000000 01100000001011101100000011000 11011100100001101011000000000 11111000001011111100000000000 01011110100001101011000000000 11111110001011011000000000000 01011000000001111011000000000 01011110011011011100000000000 01011100000001111111000000000 01000010011011001000000000000 01011100000001111011000000000 01000000011011111000000000000 01000100000001111111000000000 01000010011001100100000000000 01000100000001101011000000000 01000100000001100000000000000 01000000000001100000000000000\n",
      "flipped_qubit_dict {'Cluster_0': [15], 'Cluster_1': [], 'Cluster_2': [15], 'Cluster_3': [], 'Cluster_4': [10], 'Cluster_5': [19], 'Cluster_6': [23], 'Cluster_7': [25], 'Cluster_8': [], 'Cluster_9': [], 'Cluster_10': [25], 'Cluster_11': [20], 'Cluster_12': [27, 28], 'Cluster_13': [14], 'Cluster_14': [23, 23], 'Cluster_15': [], 'Cluster_16': [4], 'Cluster_17': [25], 'Cluster_18': [20], 'Cluster_19': [27], 'Cluster_20': [2, 3, 4, 4, 1, 2, 1, 3, 3, 1], 'Cluster_21': [28], 'Cluster_22': [], 'Cluster_23': [23], 'Cluster_24': [28], 'Cluster_25': [], 'Cluster_26': [], 'Cluster_27': [23], 'Cluster_28': [12, 13, 20, 12, 12, 12, 19, 20, 12, 16, 17, 15, 16, 19, 14, 12, 13, 16, 12], 'Cluster_29': [28], 'Cluster_30': [11], 'Cluster_31': [20, 20], 'Cluster_32': [3], 'Cluster_33': [], 'Cluster_34': [], 'Cluster_35': [20], 'Cluster_36': [29, 29, 29]}\n",
      "logical: [0] \n",
      "\n"
     ]
    },
    {
     "name": "stderr",
     "output_type": "stream",
     "text": [
      "  4%|▎         | 41/1111 [01:22<35:52,  2.01s/it]"
     ]
    },
    {
     "name": "stdout",
     "output_type": "stream",
     "text": [
      "\n",
      "meas_str: 100000000100010101001001111000 11111000100011011000000110100 10111000010001100101101110000 11111000010011010100000111100 00111100000001100100001010000 00111010000011010100001011100 11111100000001100100001010000 00111010010011010100001011100 11110000010001100100001010000 00110110110011110100001011100 11110010110001100100001010000 00110100010011000100001000100 11110100010001100100001010000 11110010100011000100000000100 00110110100001100100000110100 10110110110011000000001110000 10110110110001100000001111100 01111000010011000000001110000 01111110000001100000000111100 01101000100011000000001010000 01110110010001100000000111110 00101000000011000000001101000 01100100110001100000001010000 01100000100011000000001100000 01100100010001100000001010000 01100100100011000000001000000 01100010110001100000001000000 00100100110001000000000000000 00100000010001100000000000000 00100000010000000000000000000 00100000010000000000000000000\n",
      "flipped_qubit_dict {'Cluster_0': [], 'Cluster_1': [], 'Cluster_2': [15, 16], 'Cluster_3': [], 'Cluster_4': [], 'Cluster_5': [5], 'Cluster_6': [3, 6, 5], 'Cluster_7': [21, 21, 22, 23, 20, 25, 22, 25], 'Cluster_8': [], 'Cluster_9': [20], 'Cluster_10': [6], 'Cluster_11': [], 'Cluster_12': [], 'Cluster_13': [26, 29, 29, 28, 28, 29, 26, 23, 29, 27, 25, 29, 29, 28, 27, 29, 25], 'Cluster_14': [4], 'Cluster_15': [], 'Cluster_16': [], 'Cluster_17': [], 'Cluster_18': [], 'Cluster_19': [], 'Cluster_20': [], 'Cluster_21': [20], 'Cluster_22': [20], 'Cluster_23': [23, 23], 'Cluster_24': [], 'Cluster_25': [23], 'Cluster_26': [4], 'Cluster_27': [], 'Cluster_28': [], 'Cluster_29': [24], 'Cluster_30': [], 'Cluster_31': [24], 'Cluster_32': [], 'Cluster_33': [], 'Cluster_34': [23], 'Cluster_35': [20], 'Cluster_36': [5, 6, 6, 9, 12, 6, 15, 14, 4], 'Cluster_37': [28]}\n",
      "logical: [0] \n",
      "\n"
     ]
    },
    {
     "name": "stderr",
     "output_type": "stream",
     "text": [
      "  4%|▍         | 42/1111 [01:24<35:48,  2.01s/it]"
     ]
    },
    {
     "name": "stdout",
     "output_type": "stream",
     "text": [
      "\n",
      "meas_str: 111110101001010001010000010000 11101010101011101000000001000 11100100000101101011000010000 01101111101011101100000001000 11101000100101101011000010000 11100000001011101000000001000 11101011100111101010000010000 01101011101011101110000010000 11111110000101101110000010000 01100010101011101010000000000 10111110100101101010000000000 01100000101001101110000000000 11111001000101101110000000000 11100000101011001011000110000 11100000100101101000000000000 11111100001011001100000110000 11100000100101101100000000000 10111111001011001000000110000 11100001000101101000000000000 01111110001011001100000110000 11100001101001001100000000000 01111110100011001100000110000 11100001100001001100000000000 01110011100011101100000000000 11100000100001000100000000000 00111011000011101100000000000 11100001100001001100000000000 00111001100011001100000000000 11100000000001001100000000000 11100000000011000000000000000 00100000000000000000000000000\n",
      "flipped_qubit_dict {'Cluster_0': [], 'Cluster_1': [28], 'Cluster_2': [28], 'Cluster_3': [25], 'Cluster_4': [28], 'Cluster_5': [21, 22, 19, 24, 23, 25, 24, 22, 22, 25, 23, 25, 19, 20, 28, 29, 21, 20, 29, 24, 29, 21, 22, 25, 26, 21, 28, 29, 21, 26, 23, 29, 29, 27, 27, 22, 28, 29, 27, 23, 24, 21, 25, 22, 26, 24, 28], 'Cluster_6': [5], 'Cluster_7': [18], 'Cluster_8': [5], 'Cluster_9': [16, 12, 10, 12, 13, 12, 12, 13, 12, 15, 13, 10, 14], 'Cluster_10': [], 'Cluster_11': [21], 'Cluster_12': [], 'Cluster_13': [25], 'Cluster_14': [21], 'Cluster_15': [24], 'Cluster_16': [4], 'Cluster_17': [21], 'Cluster_18': [], 'Cluster_19': [], 'Cluster_20': [], 'Cluster_21': [23], 'Cluster_22': [], 'Cluster_23': [], 'Cluster_24': [], 'Cluster_25': [], 'Cluster_26': [11, 13, 10, 11, 14, 15]}\n",
      "logical: [0] \n",
      "\n"
     ]
    },
    {
     "name": "stderr",
     "output_type": "stream",
     "text": [
      "  4%|▍         | 43/1111 [01:26<35:19,  1.98s/it]"
     ]
    },
    {
     "name": "stdout",
     "output_type": "stream",
     "text": [
      "\n",
      "meas_str: 000001110001000001010001010000 01001101000101001011001010001 01000101001000000100000101001 01010011000101101011001010011 01000101001001000100001001011 01010101000101001011001010101 01000111001001001100001001101 01010011001101000011001101111 00000111000001001100000100111 11010011001101001011001101101 00000111000000001100000100100 11010011001100001011001101100 00000101001100001100000100100 00010111001100001011001101000 11000101001100001100000100000 10010001001100000011000001000 01011101001100001000000011000 11011111001100001011000000000 11010111000000001000000001000 11011101001100001000000010000 11010000000000001000000001000 00011000001100000000000010000 11010011000000001000000001000 00010101001100000100000010000 11011001000000000100000001000 00011001001100000100000010000 11011011000010001100000001000 00000011000000001100000010000 00000011000000001100000001000 00000011000000001100000000001 00000011000000001000000000000\n",
      "flipped_qubit_dict {'Cluster_0': [], 'Cluster_1': [22], 'Cluster_2': [0, 0], 'Cluster_3': [], 'Cluster_4': [22], 'Cluster_5': [4], 'Cluster_6': [28], 'Cluster_7': [18], 'Cluster_8': [28], 'Cluster_9': [], 'Cluster_10': [18], 'Cluster_11': [27, 28, 25, 23, 24, 27, 25, 23, 24, 24, 23, 24, 24, 25], 'Cluster_12': [], 'Cluster_13': [12, 12, 12, 10], 'Cluster_14': [5], 'Cluster_15': [6], 'Cluster_16': [], 'Cluster_17': [28], 'Cluster_18': [28], 'Cluster_19': [18], 'Cluster_20': [23], 'Cluster_21': [], 'Cluster_22': [], 'Cluster_23': [], 'Cluster_24': [], 'Cluster_25': [6], 'Cluster_26': [], 'Cluster_27': [28], 'Cluster_28': [5], 'Cluster_29': [23, 25, 22, 23, 23], 'Cluster_30': [2], 'Cluster_31': [2], 'Cluster_32': [], 'Cluster_33': [6]}\n",
      "logical: [0] \n",
      "\n"
     ]
    },
    {
     "name": "stderr",
     "output_type": "stream",
     "text": [
      "  4%|▍         | 44/1111 [01:28<35:52,  2.02s/it]"
     ]
    },
    {
     "name": "stdout",
     "output_type": "stream",
     "text": [
      "\n",
      "meas_str: 000000101100101101101001111010 10110111000011000001101000111 11110011110101011011000000001 11110101100011001000100000001 01110101110001010110101001111 11110001100001001100000000111 01010101110001111110101001101 10110011100001101000001100101 00010111000001111110101001111 11111101100001001000000000111 00010101010001010110100001101 10100101100001000000001001101 11010011100001001110100000101 11000101000001000000001001101 11010011100001101110100000001 11000101000001001000001001111 11010011000001101110100000011 00000111000001001100001011101 11001111000001101110100010001 00011111000001001100001011101 01001001000001100011000010001 01000101000001001100001011101 01010111000001101100000001101 01000101000001000100000110001 01011001000001100000000110011 01000001000001100000000110011 01011001000001100000000000001 00000001000001100000000110001 01011001000001100000000000010 10000001000001100000000000011 00000001000001000000000000001\n",
      "flipped_qubit_dict {'Cluster_0': [1], 'Cluster_1': [], 'Cluster_2': [], 'Cluster_3': [], 'Cluster_4': [], 'Cluster_5': [25], 'Cluster_6': [28], 'Cluster_7': [5], 'Cluster_8': [5], 'Cluster_9': [2], 'Cluster_10': [], 'Cluster_11': [5], 'Cluster_12': [], 'Cluster_13': [6], 'Cluster_14': [4], 'Cluster_15': [10], 'Cluster_16': [1, 1, 0, 0, 1, 1, 0, 1, 2, 0, 1, 3, 0, 0, 1, 2, 0, 1, 2, 3, 2, 3, 0, 1, 0, 1, 6, 0], 'Cluster_17': [], 'Cluster_18': [28], 'Cluster_19': [12, 12, 13, 14, 12, 14, 9], 'Cluster_20': [], 'Cluster_21': [], 'Cluster_22': [], 'Cluster_23': [20, 23, 23, 21, 24, 22, 23, 21, 22, 23, 22, 23, 21, 23, 23, 28], 'Cluster_24': [], 'Cluster_25': [24], 'Cluster_26': [25, 29, 29, 28, 28, 28, 29, 27, 28, 28, 29, 27, 28, 28], 'Cluster_27': [], 'Cluster_28': [12], 'Cluster_29': [], 'Cluster_30': [17], 'Cluster_31': [], 'Cluster_32': [9, 10, 11, 6, 13, 9, 14, 15, 12], 'Cluster_33': [], 'Cluster_34': [2], 'Cluster_35': [], 'Cluster_36': [], 'Cluster_37': [22]}\n",
      "logical: [0] \n",
      "\n"
     ]
    },
    {
     "name": "stderr",
     "output_type": "stream",
     "text": [
      "  4%|▍         | 45/1111 [01:30<35:45,  2.01s/it]"
     ]
    },
    {
     "name": "stdout",
     "output_type": "stream",
     "text": [
      "\n",
      "meas_str: 011110001110011000110001010100 11011110010101001110001111100 01010111011110101011000000010 10011110011001001010001111100 10010111011111101111000110010 01011110011001001110001001100 01011101011111001101000110010 00101000011001100010001001100 01011101000111001001000000110 00100110011001101110001001000 01011001000111001101000011110 10100000011000001010001001000 11011101000111101001000011110 01100110011000101110001001000 01011001000111101101000011110 11100110011000101010001001000 11011111000111101001000011000 11100111100100101110000101000 10111110000111101101000011000 01000101110100101010000110000 10011000000110001001000000000 01000011100100101110000110000 10011100001001001101000000000 01000001100110101100000110000 11011000000000001010000000000 10000101100001101100000110000 10011010000000001110000101000 10000101100001101000000100000 10011010000000001010000100000 00000100000000001100000000000 00000010000000001000000000000\n",
      "flipped_qubit_dict {'Cluster_0': [23], 'Cluster_1': [], 'Cluster_2': [25], 'Cluster_3': [], 'Cluster_4': [11], 'Cluster_5': [15], 'Cluster_6': [21], 'Cluster_7': [], 'Cluster_8': [5], 'Cluster_9': [28], 'Cluster_10': [18], 'Cluster_11': [], 'Cluster_12': [10, 11], 'Cluster_13': [], 'Cluster_14': [15, 23, 16, 17, 20, 21, 22, 16, 17, 18, 22, 18, 20, 18, 19, 22, 16, 17, 17, 18, 19, 20, 21, 22], 'Cluster_15': [4], 'Cluster_16': [], 'Cluster_17': [], 'Cluster_18': [4], 'Cluster_19': [29, 29, 29, 29], 'Cluster_20': [], 'Cluster_21': [27], 'Cluster_22': [6], 'Cluster_23': [2], 'Cluster_24': [], 'Cluster_25': [23], 'Cluster_26': [], 'Cluster_27': [], 'Cluster_28': [23], 'Cluster_29': [28], 'Cluster_30': [], 'Cluster_31': [], 'Cluster_32': [15], 'Cluster_33': [4], 'Cluster_34': [12], 'Cluster_35': [], 'Cluster_36': [], 'Cluster_37': [23, 23, 24], 'Cluster_38': [5], 'Cluster_39': [19], 'Cluster_40': [12], 'Cluster_41': [], 'Cluster_42': [], 'Cluster_43': [24], 'Cluster_44': [26], 'Cluster_45': [28], 'Cluster_46': [11], 'Cluster_47': [], 'Cluster_48': [5], 'Cluster_49': [], 'Cluster_50': [5], 'Cluster_51': [], 'Cluster_52': [], 'Cluster_53': [18], 'Cluster_54': []}\n",
      "logical: [0] \n",
      "\n"
     ]
    },
    {
     "name": "stderr",
     "output_type": "stream",
     "text": [
      "  4%|▍         | 46/1111 [01:32<35:01,  1.97s/it]"
     ]
    },
    {
     "name": "stdout",
     "output_type": "stream",
     "text": [
      "\n",
      "meas_str: 000010000001000100111000100110 11010100011001111001100010001 11001110010100011101000100100 00010110001000111101100011011 11001110000100001111100101111 00010100001000111000000011011 11011110000100001100100100111 11010000001010001100100011011 11011100010100001000100100100 11010100001000001000000011011 11011000000100001100100100100 11010100011000001100000011000 10011000010100001000100100100 01010100011000001000100011000 01011000010101001100000111100 01010010011000001100100011000 01011100010100001000000000110 01011010011000001100000011000 01000100010100001100100001110 01011100011000001000100001000 00000100011000001000000001110 00000110011000000100100001000 01000110011000001000000001100 01000000011010001010100000000 01000010011000000000000000000 01000000011000001010100000000 01000000001000001000000000000 01000000001010000100000000000 00000000001000001100000000000 11000000001000000000000000000 00000000001000000000000000000\n",
      "flipped_qubit_dict {'Cluster_0': [], 'Cluster_1': [28], 'Cluster_2': [12], 'Cluster_3': [], 'Cluster_4': [28], 'Cluster_5': [12, 10, 11, 12, 10, 9, 10, 12], 'Cluster_6': [], 'Cluster_7': [], 'Cluster_8': [3, 3, 2], 'Cluster_9': [], 'Cluster_10': [], 'Cluster_11': [], 'Cluster_12': [], 'Cluster_13': [25], 'Cluster_14': [], 'Cluster_15': [], 'Cluster_16': [18], 'Cluster_17': [], 'Cluster_18': [4], 'Cluster_19': [], 'Cluster_20': [23, 23, 25, 24], 'Cluster_21': [5, 2, 3], 'Cluster_22': [], 'Cluster_23': [4], 'Cluster_24': [], 'Cluster_25': [], 'Cluster_26': [], 'Cluster_27': [], 'Cluster_28': [28, 28], 'Cluster_29': [1], 'Cluster_30': [], 'Cluster_31': [], 'Cluster_32': [], 'Cluster_33': [14], 'Cluster_34': [], 'Cluster_35': [28], 'Cluster_36': [3, 1, 0, 0, 2, 3, 1, 2, 3, 2], 'Cluster_37': [], 'Cluster_38': [11], 'Cluster_39': [], 'Cluster_40': [23, 24, 25, 23], 'Cluster_41': [11], 'Cluster_42': [], 'Cluster_43': [], 'Cluster_44': [28], 'Cluster_45': []}\n",
      "logical: [0] \n",
      "\n"
     ]
    },
    {
     "name": "stderr",
     "output_type": "stream",
     "text": [
      "  4%|▍         | 47/1111 [01:34<35:03,  1.98s/it]"
     ]
    },
    {
     "name": "stdout",
     "output_type": "stream",
     "text": [
      "\n",
      "meas_str: 100111100000001110111101110000 11111000000000001101011000110 01111010000001001001000001110 00111000000000001001011001110 11111010000001001101000000110 01111000000000001101011001111 01111001000001001001000001111 01111001000000001001011000110 01111010000001001101001001100 01110000000000001011100111100 10110010000000001101001000100 00010000000001000011100101000 10110010000000001101001010100 00010000000001001011100101011 10110000000000001101001010100 11010010000001001011100110000 10000000000000101000000111100 11011010000000001011100110001 11000100000000101100000000111 00011010000000001011100110001 10000100000000100100000110111 11011000000000001010100110001 01000000000000010000100110111 11011100000000001010100000100 10000000000000011100100110111 10011000000000001110100111000 11000000000000011000100011111 01000000000000000110100100000 00000000000000011000100001101 00000010000000000110100000001 01000000000000000000100000001\n",
      "flipped_qubit_dict {'Cluster_0': [], 'Cluster_1': [], 'Cluster_2': [11], 'Cluster_3': [3], 'Cluster_4': [1], 'Cluster_5': [], 'Cluster_6': [5, 5], 'Cluster_7': [], 'Cluster_8': [25], 'Cluster_9': [], 'Cluster_10': [3], 'Cluster_11': [5], 'Cluster_12': [23], 'Cluster_13': [28], 'Cluster_14': [1, 2], 'Cluster_15': [5], 'Cluster_16': [9], 'Cluster_17': [14], 'Cluster_18': [28], 'Cluster_19': [28], 'Cluster_20': [5], 'Cluster_21': [28], 'Cluster_22': [], 'Cluster_23': [5], 'Cluster_24': [24], 'Cluster_25': [6], 'Cluster_26': [13, 15, 10, 11, 12, 12, 12], 'Cluster_27': [26], 'Cluster_28': [1], 'Cluster_29': [], 'Cluster_30': [28], 'Cluster_31': [], 'Cluster_32': [], 'Cluster_33': [27], 'Cluster_34': [0, 2, 3, 1, 2, 3, 4, 1, 0, 1, 2, 3, 4, 1, 3, 4, 1, 2, 3, 2, 4, 6, 3, 4, 5, 6], 'Cluster_35': [], 'Cluster_36': [28], 'Cluster_37': [8], 'Cluster_38': [11], 'Cluster_39': [22], 'Cluster_40': [], 'Cluster_41': [], 'Cluster_42': [], 'Cluster_43': [], 'Cluster_44': [22], 'Cluster_45': [], 'Cluster_46': [28], 'Cluster_47': [], 'Cluster_48': [12], 'Cluster_49': [28, 27, 28, 28, 28, 29, 29, 29, 28, 28, 28, 29, 29]}\n",
      "logical: [0] \n",
      "\n"
     ]
    },
    {
     "name": "stderr",
     "output_type": "stream",
     "text": [
      "  4%|▍         | 48/1111 [01:36<34:48,  1.97s/it]"
     ]
    },
    {
     "name": "stdout",
     "output_type": "stream",
     "text": [
      "\n",
      "meas_str: 100000110000010010000011111100 11011110010101011100001110010 01010010010111000100011110000 00011011010101011100001000010 01010010010111001111011110000 01011011010101011000001000000 10001010010111001111011110010 11000011010101011000001000000 11001000010111000111011110010 01000011010101011000001110000 00001010010111001111011110010 00000101010101011000001110000 00000000000111000111001110010 01000101000101011100000000000 01000000000111001111001110010 11000101000101111100000000011 11000000000111000111001110001 11000101010101111100000000011 11000100000111001011001110010 11000001000101110001000111000 00000010000011001100001111010 10000001000001011000000011000 11000000000000101000000010010 10000111000001011000000000000 01000010000000100000000000000 11000011000001000000000000000 11000010000000100000000000000 11000001000001000000000000000 00000010000001000000000000000 00000001000001000000000000000 00000010000001000000000000000\n",
      "flipped_qubit_dict {'Cluster_0': [], 'Cluster_1': [22, 23, 23], 'Cluster_2': [28], 'Cluster_3': [28], 'Cluster_4': [23], 'Cluster_5': [28], 'Cluster_6': [23], 'Cluster_7': [], 'Cluster_8': [], 'Cluster_9': [], 'Cluster_10': [23], 'Cluster_11': [28], 'Cluster_12': [1], 'Cluster_13': [5], 'Cluster_14': [], 'Cluster_15': [1], 'Cluster_16': [], 'Cluster_17': [1], 'Cluster_18': [], 'Cluster_19': [1], 'Cluster_20': [14, 14, 12, 13, 15, 14, 13, 15, 12, 11, 16, 17, 1, 2, 3, 15, 12, 6, 11, 12, 10, 13, 14, 12, 16, 2, 6, 11, 7, 12, 4, 8, 3, 11, 12, 10, 9, 12, 13, 15, 13, 16, 1, 17, 2, 3, 5, 6, 11, 7, 8, 10, 9, 11, 10], 'Cluster_21': [], 'Cluster_22': [5], 'Cluster_23': [7], 'Cluster_24': [], 'Cluster_25': [23, 24, 23], 'Cluster_26': [5], 'Cluster_27': [28, 29, 29, 29, 28, 28, 28, 28], 'Cluster_28': [], 'Cluster_29': [5], 'Cluster_30': [], 'Cluster_31': [24], 'Cluster_32': [28]}\n",
      "logical: [0] \n",
      "\n"
     ]
    },
    {
     "name": "stderr",
     "output_type": "stream",
     "text": [
      "  4%|▍         | 49/1111 [01:38<34:39,  1.96s/it]"
     ]
    },
    {
     "name": "stdout",
     "output_type": "stream",
     "text": [
      "\n",
      "meas_str: 111011010010000101110000100100 01110010010001101100000101110 01100101011001010101000011010 01010010000001111100000101000 00000101011001000101000011000 10010100000001111100000010000 11000101011001000101000111000 01010101000001110000000010000 10000100011001000101000100000 11010011000001110011000010000 10000100011001000101000100000 11010101000001110011000010000 00000100011001000101000010000 10010110000001110100000010000 11000010011001000101000010000 11010100000001110000000010000 10000000011000100101000010000 01010100000001110000000010000 10000100011100100101000010000 01010110001110000000000010010 11100100011100110101000100010 10010000001110000000000010010 01100110011100110101000100010 11010010001110010000001110001 01100100010000110101000101010 10011010010110000000001111010 01100100010100110101000011010 10011100010010000000000011000 01000010010000000100000011000 10000100000110000100000011000 00000000000000000100000000000\n",
      "flipped_qubit_dict {'Cluster_0': [4], 'Cluster_1': [17], 'Cluster_2': [4], 'Cluster_3': [], 'Cluster_4': [28], 'Cluster_5': [10, 11, 14], 'Cluster_6': [], 'Cluster_7': [], 'Cluster_8': [6], 'Cluster_9': [], 'Cluster_10': [5], 'Cluster_11': [1], 'Cluster_12': [], 'Cluster_13': [19], 'Cluster_14': [24, 25, 27, 23, 23, 28, 23], 'Cluster_15': [18], 'Cluster_16': [1], 'Cluster_17': [6], 'Cluster_18': [], 'Cluster_19': [28], 'Cluster_20': [], 'Cluster_21': [5], 'Cluster_22': [27], 'Cluster_23': [17, 18, 15], 'Cluster_24': [23], 'Cluster_25': [29], 'Cluster_26': [15], 'Cluster_27': [], 'Cluster_28': [], 'Cluster_29': [23], 'Cluster_30': [28], 'Cluster_31': [10], 'Cluster_32': [22], 'Cluster_33': [28], 'Cluster_34': [5], 'Cluster_35': [23], 'Cluster_36': [10], 'Cluster_37': [23], 'Cluster_38': [4], 'Cluster_39': [], 'Cluster_40': [12], 'Cluster_41': [28, 28], 'Cluster_42': [28], 'Cluster_43': [4], 'Cluster_44': [23], 'Cluster_45': [28], 'Cluster_46': [2], 'Cluster_47': [], 'Cluster_48': [27], 'Cluster_49': [], 'Cluster_50': [], 'Cluster_51': []}\n",
      "logical: [0] \n",
      "\n"
     ]
    },
    {
     "name": "stderr",
     "output_type": "stream",
     "text": [
      "  5%|▍         | 50/1111 [01:40<35:00,  1.98s/it]"
     ]
    },
    {
     "name": "stdout",
     "output_type": "stream",
     "text": [
      "\n",
      "meas_str: 101111101000101000001100110111 01011101100111110101100110001 10111110000001010101110010101 01001001000111111000100000011 00111111100001010101010010101 00001011100110111000000110111 00111100100001010101100010010 10101101000110110000000110101 11111011000101011101100100010 00101101000010110000000110100 10111111000000111101100100011 10101011000110110000000110100 11111101010000111101100100011 11101101010110110000000110101 01111001010000011001100010000 00101101000110001000000110110 00111001000000001001100101010 01000001010110001000000110110 00000001000000001001100101010 01000001010110001000000110000 00000011010000000000000010010 11000001010110000000000100000 01000001000000000000000010010 11000001010110000000000100011 00000001010100000000000010010 11000010000010000000000100010 00000000000100000000000010011 11000010001100000000000100001 10000000000000000000000110011 11000000000000000000000000001 00000000000000000000000000000\n",
      "flipped_qubit_dict {'Cluster_0': [5], 'Cluster_1': [], 'Cluster_2': [1], 'Cluster_3': [], 'Cluster_4': [], 'Cluster_5': [25, 29, 18, 19, 20, 29, 22, 23, 24, 26, 28, 28, 19, 20, 25, 18, 19, 20, 21, 22, 23, 23, 29, 26, 17, 18, 19, 20, 21, 22, 22, 23, 24, 24, 24, 27, 28, 20, 21, 21, 22, 23, 25, 20, 25, 23, 28, 24, 26, 29, 20, 20, 21, 21, 22, 22, 23, 24, 25, 27, 26, 23, 23, 28, 24, 25, 26, 27, 20, 26, 20, 21, 27, 28, 20, 21, 22, 29, 21, 24, 25, 26, 28, 29, 27, 28, 18, 28, 29, 18, 19, 24, 28, 18, 19, 20], 'Cluster_6': [1], 'Cluster_7': [], 'Cluster_8': [4, 5], 'Cluster_9': [9], 'Cluster_10': [2], 'Cluster_11': [5, 2, 3], 'Cluster_12': [12], 'Cluster_13': [5], 'Cluster_14': [15], 'Cluster_15': [5], 'Cluster_16': [], 'Cluster_17': [0, 0, 1, 0, 1, 2, 1, 0, 1, 1, 2, 0, 0, 0], 'Cluster_18': [8], 'Cluster_19': [5], 'Cluster_20': [], 'Cluster_21': [], 'Cluster_22': [5], 'Cluster_23': [], 'Cluster_24': [12], 'Cluster_25': [2, 3]}\n",
      "logical: [0] \n",
      "\n"
     ]
    },
    {
     "name": "stderr",
     "output_type": "stream",
     "text": [
      "  5%|▍         | 51/1111 [01:42<34:52,  1.97s/it]"
     ]
    },
    {
     "name": "stdout",
     "output_type": "stream",
     "text": [
      "\n",
      "meas_str: 101010000000001000111100000100 11100110000000100110110101100 00111010000001000010100101010 11101100000000100110110111010 01111001000001000010100111010 10101100000000100110110010010 00111001000000100010100111010 10101110010000100110110010011 10111011000000101010100111010 01100010000000101110110010010 01111001000000101010100100010 01100000000000101111000010010 01111011000000101010000100001 01100010000000101111000010010 01111001000000101010000100001 11101001000001101001000010010 01110010000001101010000100001 01001010000001101001000010010 00010000000001101000000100001 01001000000001101000000010010 11010000000001101000000100010 10001010000001101000000010000 11010010000001101000000100000 01001010000001101000000010000 11010010000001101000000110000 01001010000001101000000000000 00010010000001001000000110000 11001010000001101000000000000 00000010000001001000000000000 11000010000001000000000000000 00000010000001000000000000000\n",
      "flipped_qubit_dict {'Cluster_0': [], 'Cluster_1': [], 'Cluster_2': [28], 'Cluster_3': [14, 14], 'Cluster_4': [25], 'Cluster_5': [5], 'Cluster_6': [], 'Cluster_7': [28], 'Cluster_8': [], 'Cluster_9': [28], 'Cluster_10': [1], 'Cluster_11': [28], 'Cluster_12': [10], 'Cluster_13': [], 'Cluster_14': [28], 'Cluster_15': [29, 26, 29, 29, 29, 28, 29, 24, 27, 29, 28, 29, 28, 29, 28, 29, 28, 29, 23, 23, 22, 24, 23, 29, 23, 23, 24, 24, 25], 'Cluster_16': [], 'Cluster_17': [11], 'Cluster_18': [1], 'Cluster_19': [8, 9], 'Cluster_20': [4], 'Cluster_21': [], 'Cluster_22': [0, 0], 'Cluster_23': [], 'Cluster_24': [], 'Cluster_25': [], 'Cluster_26': [15], 'Cluster_27': [4, 5], 'Cluster_28': [22], 'Cluster_29': [2], 'Cluster_30': [23], 'Cluster_31': [25, 26]}\n",
      "logical: [0] \n",
      "\n"
     ]
    },
    {
     "name": "stderr",
     "output_type": "stream",
     "text": [
      "  5%|▍         | 52/1111 [01:44<35:03,  1.99s/it]"
     ]
    },
    {
     "name": "stdout",
     "output_type": "stream",
     "text": [
      "\n",
      "meas_str: 110110010000100110000100101000 11011000011001000011001001010 10110011011111001011111110110 11111000011001000011001111010 10110001011111101011001110110 10111000010100110111001001010 00010011001111001011000011110 10111000001001000011011000110 01001001001111101011000011010 11111000000101100011001000100 01001011001111011011000011011 11111000000101110011001110100 00001011001111011011000011011 10111000001001010011001110100 01001011001111101011000011011 11111100001001110011001110100 01010111001111111010000010001 10111000101001100110001110100 01010101001111111010000100001 10111110001001100010001110111 01010101001111111010000100110 00101000001001100010000010000 10010101001111011010000100010 11100010001001100010000111110 01100001000001011010000001000 01000010000000100010000111110 01000001000000011010000001000 01000000000000000010000110100 01000000000000011010000001000 10000010000000000010000001000 00000010000000011010000001000\n",
      "flipped_qubit_dict {'Cluster_0': [], 'Cluster_1': [], 'Cluster_2': [13], 'Cluster_3': [], 'Cluster_4': [], 'Cluster_5': [3], 'Cluster_6': [5], 'Cluster_7': [28, 28], 'Cluster_8': [22], 'Cluster_9': [2, 3], 'Cluster_10': [], 'Cluster_11': [], 'Cluster_12': [], 'Cluster_13': [], 'Cluster_14': [15, 28, 23, 20, 25, 22, 23, 24, 24, 24, 25, 16, 26, 24, 17, 27, 27, 25, 26, 26, 29, 27, 28, 29, 15, 16, 27, 17, 18, 29, 19, 20, 21, 28, 29, 23, 17, 18, 19, 28, 29, 23, 27, 27, 21, 28, 22, 24, 24], 'Cluster_15': [], 'Cluster_16': [2], 'Cluster_17': [6], 'Cluster_18': [2], 'Cluster_19': [1], 'Cluster_20': [23], 'Cluster_21': [5], 'Cluster_22': [23], 'Cluster_23': [], 'Cluster_24': [12, 14, 15, 13, 13, 15, 12], 'Cluster_25': [], 'Cluster_26': [2, 3], 'Cluster_27': [], 'Cluster_28': [25], 'Cluster_29': [18], 'Cluster_30': [], 'Cluster_31': [5], 'Cluster_32': [1], 'Cluster_33': [18], 'Cluster_34': [], 'Cluster_35': [], 'Cluster_36': [], 'Cluster_37': [25], 'Cluster_38': [], 'Cluster_39': [], 'Cluster_40': [18], 'Cluster_41': [], 'Cluster_42': [6], 'Cluster_43': [5], 'Cluster_44': [18], 'Cluster_45': [8], 'Cluster_46': [5]}\n",
      "logical: [0] \n",
      "\n"
     ]
    },
    {
     "name": "stderr",
     "output_type": "stream",
     "text": [
      "  5%|▍         | 53/1111 [01:46<34:40,  1.97s/it]"
     ]
    },
    {
     "name": "stdout",
     "output_type": "stream",
     "text": [
      "\n",
      "meas_str: 111011110000001001110100110100 10111010011101011000001010011 10101001011101110011111111111 01100010001000011001001010010 10101001010101110011111001111 01111010011000011001001010010 00110001010101110011111111100 11111000011000011001000110011 00110001010101110011001100100 01100000011000011001000110010 01111001010101110111001101000 01100100011000011001000100000 01111101011001110011101101000 01000001011000011001100100000 01111111001001110011101101000 01000101011000111001001000000 01100101011000110011001101000 11100011011001111001001000000 01100101011011110101001101000 11100001011001111001001000000 11000011010000110111001101000 00100101011100111000001000010 11000101010000110111001101010 10000101011100111000000100001 00000011010000110111000001010 10000101011100111000000011001 00000001010000110111000000000 10000110010000101000000011000 00000110010000001111000000000 00000100010000000000000111000 00000000010000000000000000000\n",
      "flipped_qubit_dict {'Cluster_0': [], 'Cluster_1': [5], 'Cluster_2': [], 'Cluster_3': [10], 'Cluster_4': [12], 'Cluster_5': [], 'Cluster_6': [4, 5], 'Cluster_7': [], 'Cluster_8': [], 'Cluster_9': [], 'Cluster_10': [], 'Cluster_11': [23], 'Cluster_12': [1], 'Cluster_13': [18], 'Cluster_14': [], 'Cluster_15': [], 'Cluster_16': [5], 'Cluster_17': [6], 'Cluster_18': [23], 'Cluster_19': [1], 'Cluster_20': [6], 'Cluster_21': [27], 'Cluster_22': [], 'Cluster_23': [23], 'Cluster_24': [10], 'Cluster_25': [], 'Cluster_26': [], 'Cluster_27': [27], 'Cluster_28': [11], 'Cluster_29': [23], 'Cluster_30': [], 'Cluster_31': [6], 'Cluster_32': [18, 17, 15, 16, 17, 16], 'Cluster_33': [], 'Cluster_34': [], 'Cluster_35': [18], 'Cluster_36': [24], 'Cluster_37': [4, 2], 'Cluster_38': [], 'Cluster_39': [0, 0, 1], 'Cluster_40': [25], 'Cluster_41': [4], 'Cluster_42': [8], 'Cluster_43': [6], 'Cluster_44': [], 'Cluster_45': [5], 'Cluster_46': [5], 'Cluster_47': [1], 'Cluster_48': [10], 'Cluster_49': [29, 27, 29, 27, 19, 23, 21, 25, 26, 28, 29, 23, 26, 28, 27, 16, 16, 22, 23, 23, 18, 19, 27, 20, 28, 21, 29, 22, 22, 23, 24, 24, 25, 25, 25, 26, 27, 26, 28, 29, 28, 29, 28, 29, 28, 20]}\n",
      "logical: [0] \n",
      "\n"
     ]
    },
    {
     "name": "stderr",
     "output_type": "stream",
     "text": [
      "  5%|▍         | 54/1111 [01:48<34:42,  1.97s/it]"
     ]
    },
    {
     "name": "stdout",
     "output_type": "stream",
     "text": [
      "\n",
      "meas_str: 111111010100010001010000010110 11101111010001011110000010011 11101000100011010001000001110 00101111010001011110000010010 11100101100011011101000001010 00101110010001011110000010010 00100101100011010001000101010 00101000010001111110000110010 00100111100011010001000101010 11101110000001111110001110010 00101101100111010101000111010 01111000000001101010001000000 01111101100101000101000111000 00111110010001101011001000000 11111011100101010100000111000 00111110000111101011001110000 01110001100001000100001001000 11111010000101001011001100000 01110011100001000100001001000 11111010000101001000001100000 01110010000000001000000001000 11111000000101000000000101000 01110000000000000000000000000 11111000000101000000000110000 01110010000011000000000011000 01111010000001000000000110000 00110010000000000000000011000 01100010000000000000000100000 01110010000000000000000000000 11100000000000000000000101000 01010000000000000000000010000\n",
      "flipped_qubit_dict {'Cluster_0': [5], 'Cluster_1': [26, 27, 28], 'Cluster_2': [4], 'Cluster_3': [], 'Cluster_4': [], 'Cluster_5': [], 'Cluster_6': [], 'Cluster_7': [28], 'Cluster_8': [], 'Cluster_9': [25], 'Cluster_10': [17], 'Cluster_11': [28], 'Cluster_12': [], 'Cluster_13': [4], 'Cluster_14': [16], 'Cluster_15': [4], 'Cluster_16': [], 'Cluster_17': [], 'Cluster_18': [], 'Cluster_19': [21], 'Cluster_20': [10], 'Cluster_21': [], 'Cluster_22': [28, 29], 'Cluster_23': [6], 'Cluster_24': [24], 'Cluster_25': [5], 'Cluster_26': [], 'Cluster_27': [28, 28], 'Cluster_28': [], 'Cluster_29': [], 'Cluster_30': [], 'Cluster_31': [], 'Cluster_32': [6], 'Cluster_33': [20, 21, 12, 22, 23, 24, 15, 25, 17, 22, 16, 24, 25, 19, 14, 22, 14, 23, 16, 24, 19, 23, 23], 'Cluster_34': [28], 'Cluster_35': [], 'Cluster_36': [12, 15], 'Cluster_37': [12], 'Cluster_38': [28], 'Cluster_39': [], 'Cluster_40': [1, 2], 'Cluster_41': [24], 'Cluster_42': [28]}\n",
      "logical: [0] \n",
      "\n"
     ]
    },
    {
     "name": "stderr",
     "output_type": "stream",
     "text": [
      "  5%|▍         | 55/1111 [01:50<34:59,  1.99s/it]"
     ]
    },
    {
     "name": "stdout",
     "output_type": "stream",
     "text": [
      "\n",
      "meas_str: 110000011100100100100101100000 10010001110111010101111000001 11010001100001111111000010001 11110011000111000101001000001 11010001100001101111000010001 10010011000001010101001000001 11010111100001101111000010010 10011011000001010101001000011 01000001100001101111000010000 10000010000001010101001000011 10000011100101100111000010011 11000010000101011101000100000 10000011110101101100000010011 11000010000001011101000100000 10000011100001101000000010011 10000000000001011111000100011 01000001100001101010000011000 11000000000001011111000110011 01000001100001101010000001000 11000010000001011111000011001 11000001100001110010000000010 11000000000001000111000011001 00000001100001110010000011010 11000000000001011100000000001 11000010000001100000000000010 11000000010001011100000110001 10000000000000000000000000010 01000000000000111100000000001 01000000000000001100000000010 10000000000000111100000000001 01000100000000000000000000000\n",
      "flipped_qubit_dict {'Cluster_0': [28], 'Cluster_1': [1], 'Cluster_2': [12], 'Cluster_3': [14], 'Cluster_4': [12], 'Cluster_5': [], 'Cluster_6': [12], 'Cluster_7': [28], 'Cluster_8': [5], 'Cluster_9': [15], 'Cluster_10': [15], 'Cluster_11': [22, 22, 21], 'Cluster_12': [5], 'Cluster_13': [4], 'Cluster_14': [12, 10, 11], 'Cluster_15': [28], 'Cluster_16': [4], 'Cluster_17': [4], 'Cluster_18': [28], 'Cluster_19': [13], 'Cluster_20': [], 'Cluster_21': [13], 'Cluster_22': [5, 4], 'Cluster_23': [], 'Cluster_24': [28], 'Cluster_25': [1], 'Cluster_26': [12], 'Cluster_27': [], 'Cluster_28': [], 'Cluster_29': [1], 'Cluster_30': [], 'Cluster_31': [10], 'Cluster_32': [], 'Cluster_33': [1], 'Cluster_34': [6], 'Cluster_35': [], 'Cluster_36': [1], 'Cluster_37': [29, 29, 28, 28, 29], 'Cluster_38': [22], 'Cluster_39': [25, 24, 23, 25], 'Cluster_40': [], 'Cluster_41': [24], 'Cluster_42': [1], 'Cluster_43': [23], 'Cluster_44': [17], 'Cluster_45': [27], 'Cluster_46': [8], 'Cluster_47': [20], 'Cluster_48': [], 'Cluster_49': [27], 'Cluster_50': [12]}\n",
      "logical: [0] \n",
      "\n"
     ]
    },
    {
     "name": "stderr",
     "output_type": "stream",
     "text": [
      "  5%|▌         | 56/1111 [01:52<35:42,  2.03s/it]"
     ]
    },
    {
     "name": "stdout",
     "output_type": "stream",
     "text": [
      "\n",
      "meas_str: 001000110000001101100000001100 01011101010001101111000000011 00111000010001110101000001001 10011101010001101111000000011 11100010010001110101000001110 01011100010001101101000000010 10000010010001110100000110110 10010100010001101101000001110 10000110010001110100000111000 10010110010001111000000111110 11000010000001100100000111100 00001110000001111000000101010 11011000000001100100000101100 11000010000001111000011101010 00000000000001100100000100110 01000000000001111000011101010 01000000000001101000000100110 00000000000001111000011101010 11000000000001100000000100110 00000000000001110000011101010 00000000000001110000000101100 00000000000001100000010001010 01000000000001110100000101100 11000010000001100000010001010 11000110000000110000000101100 01000010000001100000000000000 11000000000000010000001101100 00000000000000110000000000000 00000000000000000000001101100 00000000000000000000000000000 00000000000000000000000000000\n",
      "flipped_qubit_dict {'Cluster_0': [3], 'Cluster_1': [8, 9, 24, 29, 16, 21, 24, 13, 25, 2, 16, 3, 4, 4, 18, 27, 7, 23, 24, 25, 11, 26, 15, 27, 28, 22, 23, 25, 14, 5, 6, 6, 7, 7, 17, 8, 9, 19, 10, 20, 21, 22, 23, 24, 25, 23, 24, 26, 22, 3, 4, 12, 7, 8, 15, 18, 15, 14, 15, 24, 25, 25, 26, 25, 26, 27, 6, 29, 7, 7, 3, 4, 5, 29, 6, 7, 13, 8, 14, 9, 8, 10, 16, 9, 19, 14, 15, 27, 16, 29, 23, 27, 28, 13, 29, 14, 15, 15, 17, 28, 28, 5, 18, 19, 20, 10, 9, 10, 13, 14, 14, 15, 15, 16, 17, 17, 18, 24, 19, 20, 25, 21, 23, 2, 2, 4, 3, 5, 6, 7, 8, 7, 9, 10, 10, 11, 20, 21, 22, 16, 18, 12, 25, 23, 3, 29, 19, 21, 22, 23, 11, 12, 17, 18, 20, 17, 22, 19, 23, 24, 20, 4, 21, 22, 6, 7], 'Cluster_2': [2, 3], 'Cluster_3': [28, 28], 'Cluster_4': [28], 'Cluster_5': [28], 'Cluster_6': [], 'Cluster_7': [28], 'Cluster_8': [], 'Cluster_9': [28], 'Cluster_10': [2], 'Cluster_11': [25], 'Cluster_12': [28], 'Cluster_13': [28]}\n",
      "logical: [0] \n",
      "\n"
     ]
    },
    {
     "name": "stderr",
     "output_type": "stream",
     "text": [
      "  5%|▌         | 57/1111 [01:54<35:56,  2.05s/it]"
     ]
    },
    {
     "name": "stdout",
     "output_type": "stream",
     "text": [
      "\n",
      "meas_str: 011000110011101000001100000110 00100001010001100001000010011 10100100000011001000011110111 11000101011101001001000100001 10100000001111001100011110101 11000111011001001010101011001 11100011001011001100011110101 10000111011001001010101110011 10100001001011001100011110111 00001111011001101010101000001 01101001000111001100011110111 01101101010101101010101000001 01101011000001001100011110101 01101101010101101100101110000 11101011000001000000011110111 01001111010101001100110010001 11101011001101000000001000111 01001100011001000100110011010 11101110001101101000001001111 11101110011001000100110000011 01001100001101101001000101110 01001010011001100101000000011 01001100001101101000000101110 01001100001101100100000000000 01001010000001101000000101110 01001000001101100000000000000 11001000000001101000000011000 00001000001101100000000000000 11000000000001100000000011000 00000000001101100000000000000 00000000000000100000000000000\n",
      "flipped_qubit_dict {'Cluster_0': [], 'Cluster_1': [], 'Cluster_2': [18], 'Cluster_3': [4], 'Cluster_4': [28], 'Cluster_5': [], 'Cluster_6': [28], 'Cluster_7': [2], 'Cluster_8': [5], 'Cluster_9': [23], 'Cluster_10': [], 'Cluster_11': [19], 'Cluster_12': [23], 'Cluster_13': [1], 'Cluster_14': [], 'Cluster_15': [23], 'Cluster_16': [8], 'Cluster_17': [], 'Cluster_18': [], 'Cluster_19': [23, 23], 'Cluster_20': [27, 28, 28, 28], 'Cluster_21': [6, 4, 5, 6], 'Cluster_22': [1], 'Cluster_23': [18], 'Cluster_24': [], 'Cluster_25': [18], 'Cluster_26': [1], 'Cluster_27': [16, 17, 13, 12, 17, 18, 12, 16, 17, 13, 14, 14, 15, 16, 15, 16], 'Cluster_28': [28, 29, 27, 29], 'Cluster_29': [1], 'Cluster_30': [5], 'Cluster_31': [11], 'Cluster_32': [], 'Cluster_33': [18], 'Cluster_34': [27, 28, 28], 'Cluster_35': [18], 'Cluster_36': [], 'Cluster_37': [22], 'Cluster_38': [0, 1, 0, 1, 4, 4, 6, 5, 5, 0, 0, 1], 'Cluster_39': [9], 'Cluster_40': [11], 'Cluster_41': [], 'Cluster_42': [], 'Cluster_43': [5], 'Cluster_44': [], 'Cluster_45': [15], 'Cluster_46': [18], 'Cluster_47': [], 'Cluster_48': [28], 'Cluster_49': [6]}\n",
      "logical: [0] \n",
      "\n"
     ]
    },
    {
     "name": "stderr",
     "output_type": "stream",
     "text": [
      "  5%|▌         | 58/1111 [01:56<35:47,  2.04s/it]"
     ]
    },
    {
     "name": "stdout",
     "output_type": "stream",
     "text": [
      "\n",
      "meas_str: 111111111010001001010011001100 10000011100001011000011011111 10000011001001110111001110101 10000011110001011000011011111 10010001001001110111001110101 11010001110001011000011010011 11010001011010110111000111010 11010011100001011000011000000 00010011011001101111000111010 00110111100001000000011000010 00000001011001100111000111011 01111111100001000100011110001 11100001011001100111001011000 11111010010001000100011110001 11100001001001100111001011000 11111000010101000001011110001 11100111001101000111001011000 11111010010101001001011101001 00100111001101001111000111000 00111100010101000001000101001 10100011001111001101000111011 00111110000101000001000111001 10100001001101001101000000010 11111100011001100001000110101 10000100001101001100000110000 00100010010101100000000111111 10000100001101001100000000011 00100010010101100000000000011 01000100010101001100000000011 00100000010001100000000000011 00000000010001000000000000000\n",
      "flipped_qubit_dict {'Cluster_0': [], 'Cluster_1': [1], 'Cluster_2': [27], 'Cluster_3': [1], 'Cluster_4': [23], 'Cluster_5': [28], 'Cluster_6': [5], 'Cluster_7': [], 'Cluster_8': [28, 29, 24, 16, 22, 25, 23, 26, 25, 29, 12, 19, 25, 15, 26, 16, 17, 28, 29, 23, 24, 26, 26, 16, 27, 27, 17, 28, 29, 28, 17, 23, 24, 27, 28, 29, 18, 19, 20, 23, 24, 19, 20, 20, 21, 22, 24, 23, 29, 24, 18, 23, 28, 23, 25], 'Cluster_9': [1], 'Cluster_10': [6], 'Cluster_11': [28], 'Cluster_12': [4], 'Cluster_13': [23], 'Cluster_14': [], 'Cluster_15': [], 'Cluster_16': [21], 'Cluster_17': [1], 'Cluster_18': [6], 'Cluster_19': [1], 'Cluster_20': [5], 'Cluster_21': [1], 'Cluster_22': [23], 'Cluster_23': [28], 'Cluster_24': [28], 'Cluster_25': [1], 'Cluster_26': [1], 'Cluster_27': [3], 'Cluster_28': [], 'Cluster_29': [3], 'Cluster_30': [], 'Cluster_31': [3, 1, 5, 0, 2, 3, 1, 5, 3, 0, 4, 6, 7, 21, 9, 10, 22, 11, 8, 12, 13, 5, 6, 7, 14, 8, 9, 17, 10, 0, 1, 2, 5, 6, 7, 8, 21, 10, 22, 11, 12, 13, 14, 15, 7, 16, 8, 17, 9, 18, 10, 19, 3, 4, 5, 6, 7, 8, 9, 10, 11, 12, 13, 14, 15, 16, 7, 9, 10, 11, 12, 10, 11, 12, 13, 14, 15, 16, 17, 10, 13, 15, 16, 17, 14, 15]}\n",
      "logical: [1] \n",
      "\n",
      "------------ Wrong logical! ------------\n",
      "\n"
     ]
    },
    {
     "name": "stderr",
     "output_type": "stream",
     "text": [
      "  5%|▌         | 59/1111 [01:58<35:48,  2.04s/it]"
     ]
    },
    {
     "name": "stdout",
     "output_type": "stream",
     "text": [
      "\n",
      "meas_str: 010010010000000101100100011000 00111100010001000010110000110 11100101010001101000000010010 01111101010001110010110000110 00100101010001111000000011011 11111011010001110010110010111 10100111010001111000000011010 11111111010001010010110010110 11100111010001011000000011011 11111111010001010010110111110 01100001010001101000000110010 11111011010001000010110111111 01100011000001101110000010011 11100011000001000010110101110 01100001000001001010000011010 00100001000001000110110101011 01100001000001001010000011011 00100001000001000110110111010 01100001010001000010000111111 01100001000001001110110111110 00100001000001000000000111011 10100001000001001100110111101 11100001000001100000001001011 11000001000001001100110010000 11100001000001101100001000101 01000001000001001100000011000 00000001000001100000001100101 10000001000001000000000000000 01000001000001000000000000101 11000001000001100000000000011 01000001000001000000000000110\n",
      "flipped_qubit_dict {'Cluster_0': [2], 'Cluster_1': [], 'Cluster_2': [28, 29, 29, 28, 29, 29, 29, 29], 'Cluster_3': [1], 'Cluster_4': [1], 'Cluster_5': [], 'Cluster_6': [28], 'Cluster_7': [27], 'Cluster_8': [], 'Cluster_9': [0, 4, 5, 0, 10, 2, 3, 4, 5, 0, 1, 2, 3, 4, 0, 6, 1, 11, 1, 2, 12, 3, 13, 14, 8, 9, 10, 1, 11, 0, 12, 13, 14, 0, 6, 1, 3, 0, 1, 9, 2, 12, 1, 4, 1, 2, 0], 'Cluster_10': [27], 'Cluster_11': [28], 'Cluster_12': [], 'Cluster_13': [28], 'Cluster_14': [], 'Cluster_15': [], 'Cluster_16': [], 'Cluster_17': [], 'Cluster_18': [], 'Cluster_19': [5], 'Cluster_20': [], 'Cluster_21': [3], 'Cluster_22': [], 'Cluster_23': [], 'Cluster_24': [28], 'Cluster_25': [14, 11, 14], 'Cluster_26': [], 'Cluster_27': [5], 'Cluster_28': [], 'Cluster_29': [25], 'Cluster_30': [23], 'Cluster_31': [], 'Cluster_32': [], 'Cluster_33': [], 'Cluster_34': [23], 'Cluster_35': [], 'Cluster_36': [28], 'Cluster_37': [], 'Cluster_38': [23, 23], 'Cluster_39': [4], 'Cluster_40': [14], 'Cluster_41': [], 'Cluster_42': [], 'Cluster_43': [22]}\n",
      "logical: [0] \n",
      "\n"
     ]
    },
    {
     "name": "stderr",
     "output_type": "stream",
     "text": [
      "  5%|▌         | 60/1111 [02:00<36:22,  2.08s/it]"
     ]
    },
    {
     "name": "stdout",
     "output_type": "stream",
     "text": [
      "\n",
      "meas_str: 010010100010011001110101010110 11110100010011100011001011101 00101010001001001010110101001 01110100010011100011001011101 11001100011001001000111100000 10110000000010101010000011101 01101000011001011000111100100 10110000000011110010000011001 01001010011001011000111100010 11100000000011000010000011010 11001000000001011000111100010 11111010000011110010000011010 11001000000101011000111100000 11101000000011010100000011000 11000000010001011000011100000 11101000000011010100100001000 11000000000011011000010000000 11110000000011111100000011000 11000000010001101000000000000 11110010000011101000000000000 01100010010001101000000000000 10010010000011101000000000000 10100000000001100100000000100 10010000000011100100000000100 01100000000001100100000000000 10010000000011100100000000000 00100000000001100100000000000 01010000000001100100000000000 01000000000001101000000000000 01000000000001000100000000000 01000000000001000100000000000\n",
      "flipped_qubit_dict {'Cluster_0': [], 'Cluster_1': [], 'Cluster_2': [], 'Cluster_3': [12], 'Cluster_4': [26], 'Cluster_5': [12], 'Cluster_6': [28], 'Cluster_7': [], 'Cluster_8': [], 'Cluster_9': [28], 'Cluster_10': [], 'Cluster_11': [12], 'Cluster_12': [12], 'Cluster_13': [28], 'Cluster_14': [], 'Cluster_15': [28], 'Cluster_16': [4], 'Cluster_17': [], 'Cluster_18': [8], 'Cluster_19': [], 'Cluster_20': [12], 'Cluster_21': [25], 'Cluster_22': [], 'Cluster_23': [6], 'Cluster_24': [], 'Cluster_25': [25], 'Cluster_26': [], 'Cluster_27': [11], 'Cluster_28': [18, 19, 15, 16, 17, 17, 18, 18, 19, 18, 14, 25], 'Cluster_29': [19], 'Cluster_30': [1], 'Cluster_31': [14], 'Cluster_32': [26], 'Cluster_33': [28], 'Cluster_34': [2], 'Cluster_35': [], 'Cluster_36': [29, 29, 27], 'Cluster_37': [], 'Cluster_38': [10], 'Cluster_39': [13, 13], 'Cluster_40': [], 'Cluster_41': [], 'Cluster_42': [0, 0], 'Cluster_43': [23], 'Cluster_44': [27], 'Cluster_45': [], 'Cluster_46': []}\n",
      "logical: [0] \n",
      "\n"
     ]
    },
    {
     "name": "stderr",
     "output_type": "stream",
     "text": [
      "  5%|▌         | 61/1111 [02:02<36:02,  2.06s/it]"
     ]
    },
    {
     "name": "stdout",
     "output_type": "stream",
     "text": [
      "\n",
      "meas_str: 000011110100010001011001100110 01111000101001101101101011010 01101001011011100011000001111 01111000101001100001101001010 01101001010111100011000011001 01111000101001000001101001010 11101001010111100011000011001 01111000101001000101100101010 11101001010111000011000011010 00111000101001100001100101010 10101001010101000011000011010 01111000101001100001100101011 11101101010101100011000011000 01000110100001000001100101011 01001001011101100011000010011 01000110100001000001100100000 01010111001100100011000001011 01011110110001000101100100000 01010001001101100011001101011 11011010100001000001100100000 11001111101101100011000010001 00011100111101000001100100000 11011001001101000011000100000 01100011111101000011000001000 11011001011101000000001101000 11000001100001000011000001000 11000011010001100000001101000 10000001100001000011000001000 00100001010001100000001101000 11100001100001000000000001000 01100001000000000000000000000\n",
      "flipped_qubit_dict {'Cluster_0': [], 'Cluster_1': [28], 'Cluster_2': [], 'Cluster_3': [], 'Cluster_4': [6], 'Cluster_5': [10], 'Cluster_6': [], 'Cluster_7': [28], 'Cluster_8': [], 'Cluster_9': [22, 24, 24, 25, 26, 27, 28, 29, 21, 24, 25, 17, 18, 19, 21, 18, 19, 20, 12, 13, 14, 12, 13, 14, 29, 29, 18, 12, 15, 17, 16, 17, 18, 17, 18, 16, 18, 19, 12, 19, 20, 21, 21, 12, 13, 13, 15, 16, 20, 23, 21, 29], 'Cluster_10': [], 'Cluster_11': [23, 24, 25, 25, 26], 'Cluster_12': [], 'Cluster_13': [6, 5], 'Cluster_14': [9], 'Cluster_15': [24], 'Cluster_16': [], 'Cluster_17': [27], 'Cluster_18': [21], 'Cluster_19': [], 'Cluster_20': [], 'Cluster_21': [28], 'Cluster_22': [1], 'Cluster_23': [4], 'Cluster_24': [6], 'Cluster_25': [], 'Cluster_26': [25], 'Cluster_27': [], 'Cluster_28': [6], 'Cluster_29': [23], 'Cluster_30': [25], 'Cluster_31': [4], 'Cluster_32': [25], 'Cluster_33': [1], 'Cluster_34': [], 'Cluster_35': [1], 'Cluster_36': [0, 0, 1], 'Cluster_37': [], 'Cluster_38': [], 'Cluster_39': [1], 'Cluster_40': [6], 'Cluster_41': [2], 'Cluster_42': []}\n",
      "logical: [0] \n",
      "\n"
     ]
    },
    {
     "name": "stderr",
     "output_type": "stream",
     "text": [
      "  6%|▌         | 62/1111 [02:04<35:58,  2.06s/it]"
     ]
    },
    {
     "name": "stdout",
     "output_type": "stream",
     "text": [
      "\n",
      "meas_str: 011100110011011001010001100000 11000111001101001001001010001 01010010011011100110000000001 01000011001101001001001010001 00010000010111100000000000001 00000011001101101001001010001 10010000010101000000000100010 01000011011101000101001110001 00001010000101100000000100010 01011001010101000101001110001 01101010011101100000000100010 01011011000101001001001110001 01001000011101100000000100010 11000011001000000101001110010 01010000011101110000001010010 11000011011001111001000110010 01010000011101011000001100011 11101011001001100001000110011 01100000011101001000001100011 11110001001000001001001110000 01111000010001000000000010000 11110011001001000101000011000 01000010010001000000000000000 11010001001001000101000011000 11111010010001000000000000000 11010010001001000000000011000 11111010010001000000000000000 11010010011001100000000011000 11011000000001000000000000000 01000000000001100000000000000 01000010000001000000000000000\n",
      "flipped_qubit_dict {'Cluster_0': [], 'Cluster_1': [], 'Cluster_2': [25], 'Cluster_3': [], 'Cluster_4': [4], 'Cluster_5': [19], 'Cluster_6': [26], 'Cluster_7': [], 'Cluster_8': [10, 11], 'Cluster_9': [1], 'Cluster_10': [4, 5, 6], 'Cluster_11': [], 'Cluster_12': [20, 20, 27, 21, 28, 29, 29, 21, 22, 28, 23, 28, 29, 28, 25, 26, 29, 24, 23, 24, 25, 26, 25, 25, 27, 25, 28], 'Cluster_13': [1], 'Cluster_14': [], 'Cluster_15': [6], 'Cluster_16': [6], 'Cluster_17': [1], 'Cluster_18': [15, 16, 13, 14, 15, 17, 12, 17, 18, 18, 18, 13, 12, 13, 14, 15, 14, 13, 14], 'Cluster_19': [], 'Cluster_20': [12], 'Cluster_21': [27], 'Cluster_22': [], 'Cluster_23': [25], 'Cluster_24': [25], 'Cluster_25': [], 'Cluster_26': [1], 'Cluster_27': [11], 'Cluster_28': [23]}\n",
      "logical: [0] \n",
      "\n"
     ]
    },
    {
     "name": "stderr",
     "output_type": "stream",
     "text": [
      "  6%|▌         | 63/1111 [02:06<36:02,  2.06s/it]"
     ]
    },
    {
     "name": "stdout",
     "output_type": "stream",
     "text": [
      "\n",
      "meas_str: 110101111001100010010101010111 11110100001101100111001111011 11001100100111111100110000111 11110110011101101011001100011 01111000111011111100110001111 11111110011101100111000001011 01110000111011011100110001100 11111110011101001011110010111 01010000110111011100110101011 11011100011101000111110110100 11011110110111011000111100011 10011010011111000110111111111 11011100111011011000111101001 10011100011101000110110010100 11011111011011011000110001001 11011100001101000110110010111 11011111001011011000110001010 00010100001101000110110011111 11011101001101000000110000001 00010010001101100110000000111 11001111001101000000000000110 01000101001101100110000000011 00001000001101000000000000110 01000111001101100011000000011 10001000001101000000000000110 01000111000001000011000000011 10001000001101000000000000001 10011011000001000000000000001 10000000001001000000000000001 00011011001001100000000000001 00000000000000000000000000001\n",
      "flipped_qubit_dict {'Cluster_0': [], 'Cluster_1': [18], 'Cluster_2': [22], 'Cluster_3': [25], 'Cluster_4': [], 'Cluster_5': [10], 'Cluster_6': [24, 25], 'Cluster_7': [28], 'Cluster_8': [1, 2], 'Cluster_9': [15, 15, 14, 18, 17, 10, 11, 13, 14], 'Cluster_10': [27, 28, 29, 29, 26, 27, 27, 28, 29, 22, 22, 23, 24, 23, 24, 25, 24, 26, 25, 26, 27], 'Cluster_11': [28, 28], 'Cluster_12': [1], 'Cluster_13': [8], 'Cluster_14': [4], 'Cluster_15': [8], 'Cluster_16': [1], 'Cluster_17': [], 'Cluster_18': [28], 'Cluster_19': [1], 'Cluster_20': [1], 'Cluster_21': [6], 'Cluster_22': [21], 'Cluster_23': [23], 'Cluster_24': [1, 0, 1], 'Cluster_25': [], 'Cluster_26': [6], 'Cluster_27': [], 'Cluster_28': [1], 'Cluster_29': [], 'Cluster_30': [], 'Cluster_31': [18], 'Cluster_32': [23], 'Cluster_33': [28], 'Cluster_34': [], 'Cluster_35': [24], 'Cluster_36': [1], 'Cluster_37': [], 'Cluster_38': [10, 12, 11], 'Cluster_39': [], 'Cluster_40': [1], 'Cluster_41': [], 'Cluster_42': [18], 'Cluster_43': [4], 'Cluster_44': [8], 'Cluster_45': [12], 'Cluster_46': [], 'Cluster_47': [1], 'Cluster_48': [], 'Cluster_49': [], 'Cluster_50': [6], 'Cluster_51': [12], 'Cluster_52': [18], 'Cluster_53': [], 'Cluster_54': [4], 'Cluster_55': [12], 'Cluster_56': [23]}\n",
      "logical: [0] \n",
      "\n"
     ]
    },
    {
     "name": "stderr",
     "output_type": "stream",
     "text": [
      "  6%|▌         | 64/1111 [02:08<35:32,  2.04s/it]"
     ]
    },
    {
     "name": "stdout",
     "output_type": "stream",
     "text": [
      "\n",
      "meas_str: 100111010011001111000011101010 11101100011001000000010000010 01101011001101000100000010111 11101010011001000000011111010 11101001001101000100000100111 10101000011001000000011001001 00101001001101100100000100001 11101000011001000000011001001 01101011001101000100000010001 11101100010001100000011000010 01101011001001000100000101001 11101100010001100000011000010 01101011001001000100000101001 11101100011101100000011100010 01001011001001000100000001010 11011100010001100000011010010 01001011001001000100000001001 01101100010001100000010110010 00111011001001000100000001001 01101100000001101000010110010 00111101000001101100000000010 01100110000001100100010100000 10100111000001111100000000000 01111100000001100100011000000 11100001000001111100000000000 00111100000001100100010100000 00101011000001111100000000000 00101000000001100100001100000 11100111000001111000000000000 01001010000001100000001100000 01000110000000111000000000000\n",
      "flipped_qubit_dict {'Cluster_0': [13], 'Cluster_1': [], 'Cluster_2': [], 'Cluster_3': [24], 'Cluster_4': [6], 'Cluster_5': [], 'Cluster_6': [], 'Cluster_7': [28, 27, 27], 'Cluster_8': [25], 'Cluster_9': [28], 'Cluster_10': [7], 'Cluster_11': [22, 24, 23, 24], 'Cluster_12': [28], 'Cluster_13': [6], 'Cluster_14': [], 'Cluster_15': [6], 'Cluster_16': [], 'Cluster_17': [], 'Cluster_18': [], 'Cluster_19': [], 'Cluster_20': [12], 'Cluster_21': [1], 'Cluster_22': [4], 'Cluster_23': [], 'Cluster_24': [14], 'Cluster_25': [19], 'Cluster_26': [6], 'Cluster_27': [1], 'Cluster_28': [5], 'Cluster_29': [18], 'Cluster_30': [29, 23, 24, 23, 24, 25, 27, 28, 29, 25, 27, 28, 27, 28, 29, 28, 29, 26, 27, 28, 29], 'Cluster_31': [1], 'Cluster_32': [], 'Cluster_33': [18], 'Cluster_34': [], 'Cluster_35': [5], 'Cluster_36': [18], 'Cluster_37': [1], 'Cluster_38': [5], 'Cluster_39': [23], 'Cluster_40': [], 'Cluster_41': [2], 'Cluster_42': [28], 'Cluster_43': [1], 'Cluster_44': [2, 3, 5, 5, 4, 6], 'Cluster_45': [], 'Cluster_46': [28], 'Cluster_47': [15]}\n",
      "logical: [0] \n",
      "\n"
     ]
    },
    {
     "name": "stderr",
     "output_type": "stream",
     "text": [
      "  6%|▌         | 65/1111 [02:10<36:07,  2.07s/it]"
     ]
    },
    {
     "name": "stdout",
     "output_type": "stream",
     "text": [
      "\n",
      "meas_str: 010010100110010000010011001100 11100110100001011111001101010 00111000001011011100011000000 01100110110001011011001101010 01101000011011011100001000000 00110110010001101111011101010 11101000001011101100001000010 01110110010001110111011101000 11101110001001101000001000010 01110110010011101011011000100 01101000001001101000000110010 01110100001011101011011110100 01101010001001101000000000010 01100100001011101011011110100 01100100001001101010000011100 01100010001011111001011110100 11100010001001111010000010100 11100010001011111101010011100 10100010001001111110000010100 11100000001011111101010000100 10100010011001111110000010000 11000010000011111101011100000 10100010000001101010000010000 11000010000001000101011100000 01100000000011001010000110000 11000000000000000101011110000 01000000000000001011000110000 11000000000000000100000000000 10000000000000001011000110000 10000000000000000100000000000 00000000000000000011000000000\n",
      "flipped_qubit_dict {'Cluster_0': [], 'Cluster_1': [5], 'Cluster_2': [7, 5, 7, 10, 12, 11, 9, 13, 14, 16, 17, 18, 15, 19, 20, 11, 8, 8, 10, 12, 13, 13, 14, 14, 14, 15, 12, 16, 16, 13, 17, 17, 18, 17, 19, 20, 21, 21, 23, 24, 9, 25, 11, 9, 12, 13, 14, 15, 13, 14, 18, 28, 23, 5, 24, 25, 26, 27, 10, 12, 14, 15, 15, 16, 19, 28, 29, 28, 26, 8, 27, 28, 10, 29, 8, 9, 10, 11, 11, 15, 12, 13, 16, 13, 14, 14, 15, 15, 16, 17, 17, 21, 22, 27, 23, 29, 9, 10, 11, 8, 9, 23, 10, 11, 12, 28, 13, 10, 14, 15, 16, 17, 27, 18, 23, 19, 2, 10, 24, 24, 11, 12, 26, 4, 5, 28, 29, 16, 11, 5, 12, 6, 13, 14, 15, 28, 28, 16, 29, 17, 18, 12, 19, 11, 12, 13, 5, 26, 15, 27, 7, 27, 28, 13, 5, 16, 17, 12, 18, 8, 19, 20, 15, 21, 16, 22, 17, 23, 14, 29, 3], 'Cluster_3': [5], 'Cluster_4': [], 'Cluster_5': [6], 'Cluster_6': [4], 'Cluster_7': [], 'Cluster_8': [6], 'Cluster_9': [23], 'Cluster_10': [25], 'Cluster_11': [], 'Cluster_12': [19], 'Cluster_13': [23], 'Cluster_14': [23], 'Cluster_15': []}\n",
      "logical: [0] \n",
      "\n"
     ]
    },
    {
     "name": "stderr",
     "output_type": "stream",
     "text": [
      "  6%|▌         | 66/1111 [02:12<35:43,  2.05s/it]"
     ]
    },
    {
     "name": "stdout",
     "output_type": "stream",
     "text": [
      "\n",
      "meas_str: 011010001000110100111000110100 01111010000111110010001010001 11100011100011110110101111111 11111010000111110010000000010 01100011100011110110101111111 10101010000111111010000000010 11100011100001111000100111111 11111010000101011010001110001 01110001100001011000100001111 11111000000001011010000010011 01100001100111011000101101111 11101000100011011010000010001 10110001000111111000101111111 11111000100011111010000000010 01100001000111001000101111000 11100000100011011010000001000 01100011000111001000101111100 11100010100011010010000000010 11100001000111100000101111110 11100010100011010100000000011 01100011000111100000001111111 11100010100011010000000000010 01100001000111100000001111111 01100000100011010000000000011 01100001000010000000001100010 01100000100000010000000000110 00100000000011000000001100010 00100000000001100000000000110 11000000000011000000000000011 00000000000001000000000000111 00000000000011000000000000010\n",
      "flipped_qubit_dict {'Cluster_0': [28], 'Cluster_1': [], 'Cluster_2': [6], 'Cluster_3': [28], 'Cluster_4': [17, 17, 24, 25, 20, 29, 15, 17, 26, 28, 29, 26, 27, 29, 26, 27, 28, 17, 29, 18, 15, 26, 29, 23, 26, 15, 23, 16, 24, 28, 14, 19, 15, 23, 27, 22, 24, 29, 25, 29, 27, 28, 28, 16], 'Cluster_5': [], 'Cluster_6': [4], 'Cluster_7': [], 'Cluster_8': [], 'Cluster_9': [], 'Cluster_10': [], 'Cluster_11': [1], 'Cluster_12': [28], 'Cluster_13': [0, 0, 1, 2, 0, 15, 16, 0, 0, 3, 4, 1, 2, 5, 6, 1, 2, 0, 11, 0, 13, 14, 15, 16, 0, 12, 4, 5, 0, 6, 7, 9, 8, 10, 9, 10, 11, 12, 0, 1, 2, 3, 0, 1, 2, 12, 0, 2, 5, 3, 6, 1, 3, 1, 2, 4, 3, 4, 5, 6, 7, 8, 9, 10, 11, 12, 13, 14, 15, 5, 6, 7, 8, 9, 10, 11, 12, 13, 14, 15, 16, 2, 3, 6, 17, 0, 2, 3, 4, 5, 7, 8, 9, 10, 11, 12, 13, 14, 15, 16, 17, 1, 2, 3, 4, 6, 7, 8, 9, 10, 11, 12, 13, 14, 3, 4, 6]}\n",
      "logical: [1] \n",
      "\n",
      "------------ Wrong logical! ------------\n",
      "\n"
     ]
    },
    {
     "name": "stderr",
     "output_type": "stream",
     "text": [
      "  6%|▌         | 67/1111 [02:14<35:35,  2.05s/it]"
     ]
    },
    {
     "name": "stdout",
     "output_type": "stream",
     "text": [
      "\n",
      "meas_str: 111000100010011000101010111110 01011100010111101010110100011 01111010001101101100001000010 10100100011011101011110111000 01000010001101101100001110010 11111000011011101011110001000 11000100001101101100001110010 11111010011011101011110111011 01011010010001101100001000001 01000010011001101011111111011 01111010000001101001000110010 01111000011011100101111111000 11100000000001101101000110010 01111000011011100101100111000 11100010000001101101000110100 01111000011001100101100111000 01111000000000101101000011100 01111000001000100000000001100 11111000010001101100000101000 11100000001001100000000001100 11111000010001100000000101000 01100010001001100000101000100 11100010010001100000000111000 01100010011001100000101101110 11111010000001100000000110010 01100010011001100000101100110 11100000000001100000000111110 10100000011001100000101101000 11100010000001100000000111100 00111000000001100000101000000 01100000000000100100000000000\n",
      "flipped_qubit_dict {'Cluster_0': [], 'Cluster_1': [7, 8], 'Cluster_2': [], 'Cluster_3': [3, 5, 4, 5], 'Cluster_4': [], 'Cluster_5': [19], 'Cluster_6': [], 'Cluster_7': [3], 'Cluster_8': [3], 'Cluster_9': [], 'Cluster_10': [], 'Cluster_11': [25], 'Cluster_12': [], 'Cluster_13': [25], 'Cluster_14': [7, 8, 5], 'Cluster_15': [25], 'Cluster_16': [5, 5, 4, 5], 'Cluster_17': [9], 'Cluster_18': [25], 'Cluster_19': [2], 'Cluster_20': [7], 'Cluster_21': [1], 'Cluster_22': [1], 'Cluster_23': [5], 'Cluster_24': [1], 'Cluster_25': [5], 'Cluster_26': [25, 26, 28, 7, 8, 27, 28, 11, 29, 23, 14, 25, 18, 19, 26, 27, 21, 28, 22, 24, 24, 26, 27, 27, 5, 28, 29, 8, 9, 9, 23, 24, 12, 25, 26, 26, 13, 14, 15, 15, 28, 25, 23, 24, 26, 29, 12, 13, 23, 24, 24, 25, 27, 29, 5, 29, 29, 10, 13, 14, 26, 28, 29, 5, 11, 12, 12, 14, 15, 16, 29, 27, 28, 28, 10, 11, 12, 13, 15, 14, 15, 16, 17, 23, 16, 23, 24, 10, 11, 12, 13, 14, 24, 25, 29, 17, 17, 23, 11, 17, 18, 20, 23, 24, 25, 26, 27, 7, 10, 13, 19, 20, 21, 22, 23, 24], 'Cluster_27': [1], 'Cluster_28': [25], 'Cluster_29': [], 'Cluster_30': [26], 'Cluster_31': [1], 'Cluster_32': [4], 'Cluster_33': [26], 'Cluster_34': [28]}\n",
      "logical: [0] \n",
      "\n"
     ]
    },
    {
     "name": "stderr",
     "output_type": "stream",
     "text": [
      "  6%|▌         | 68/1111 [02:17<36:06,  2.08s/it]"
     ]
    },
    {
     "name": "stdout",
     "output_type": "stream",
     "text": [
      "\n",
      "meas_str: 110011100011100100010100111000 11110010011111100010011101000 10100000001101010001101001100 11110010011111100010011101000 01100010001101110001101001100 11110010001111010010011101000 01100110011111000001101011100 11111000001111010010011111000 01100110011101000001101000100 11100000001111110010011111100 01100110000001000001101110010 11100110011111110011011111010 01100000010001010000101110100 01110100001111110011011111000 01100110001001000000101110100 01110100001111000011011011000 01111000001001000000111111100 01101100001111100011001000000 01100110001001000000111111100 01101100001111100000001110000 10100100001001000000111000000 01111100000111100000001101000 11111100000001000000111000000 11011100000111100000000001000 11000010000001000000111101000 11011100000111100000000000000 00000010000001000000001100000 01011110000001000000000000000 01000000000001000000000000000 11000110000001000000000000000 00000000000011000000000000000\n",
      "flipped_qubit_dict {'Cluster_0': [23], 'Cluster_1': [28], 'Cluster_2': [28], 'Cluster_3': [25], 'Cluster_4': [6], 'Cluster_5': [], 'Cluster_6': [28], 'Cluster_7': [8], 'Cluster_8': [28], 'Cluster_9': [], 'Cluster_10': [4, 6, 5], 'Cluster_11': [4], 'Cluster_12': [3], 'Cluster_13': [5], 'Cluster_14': [5], 'Cluster_15': [], 'Cluster_16': [], 'Cluster_17': [5], 'Cluster_18': [21, 16, 24, 13, 22, 14, 15, 24, 16, 17, 25, 27, 22, 26, 15, 14, 15, 15, 16, 17, 17, 18, 19, 23, 20, 21, 22, 23, 24, 28, 29, 27, 14, 17, 16, 15, 18, 16, 19, 17, 18, 24, 23, 25, 25, 26, 17, 14, 18, 19, 14, 20, 15, 21, 22, 17, 23, 24, 18, 25, 19, 26, 20, 23, 24, 15, 25, 16, 26, 26, 17, 27, 18, 19, 20, 21, 22, 19, 20, 21, 26, 14, 23, 15, 27, 24, 16, 28, 25, 26, 18, 27, 19, 20, 29, 23, 20, 24, 21, 25, 22, 24, 28, 25, 27, 26, 28, 29, 28, 10, 28, 19, 15, 16, 21, 17, 22, 23, 19, 21, 27, 22, 24, 25, 26, 27, 19, 20, 10, 22, 11, 23, 24, 14, 26, 16, 28, 28, 17, 29, 18, 10, 24, 25, 20, 26, 21, 27, 24, 11, 25, 12, 27, 15, 17, 18, 19, 20, 23, 21, 22, 12, 25, 13, 26, 28, 29, 16], 'Cluster_19': [], 'Cluster_20': [], 'Cluster_21': [], 'Cluster_22': [], 'Cluster_23': [5], 'Cluster_24': [4], 'Cluster_25': []}\n",
      "logical: [0] \n",
      "\n"
     ]
    },
    {
     "name": "stderr",
     "output_type": "stream",
     "text": [
      "  6%|▌         | 69/1111 [02:19<35:53,  2.07s/it]"
     ]
    },
    {
     "name": "stdout",
     "output_type": "stream",
     "text": [
      "\n",
      "meas_str: 000101101000101001110101011100 11111110010101010011110011011 11100100100011111010001101001 11111111010011110111110011111 00100100110011010010001101101 01111011010011110001000011111 01100010110011010010001101111 01111101010011110000000000110 01100110100011010011001101100 01111011000011010000000000110 01100110100011010011001101100 01101101000011110000000000110 01101110110011110011000001100 00101101010011110000000000110 11100110110011111011000001100 01110111000011111000000000110 10111000100011111011000001000 11110101000011111000001101000 10111110100011010011000000000 11110101000011000000000000000 10100110100011010011000000000 01110101010011000000000000000 01111000100011100011000000000 01110111010011000000000000000 11100100110011100011000000000 00100001010011000000000000000 10100010110011000011000000000 00100011110011000000000000000 10111010010011000011000000000 01100000010010100000000000000 00100010000011010000000000000\n",
      "flipped_qubit_dict {'Cluster_0': [], 'Cluster_1': [10], 'Cluster_2': [23, 24, 28, 26, 27], 'Cluster_3': [25], 'Cluster_4': [23], 'Cluster_5': [26, 27, 28, 25], 'Cluster_6': [6], 'Cluster_7': [2, 3], 'Cluster_8': [6], 'Cluster_9': [], 'Cluster_10': [], 'Cluster_11': [24], 'Cluster_12': [28, 23, 27, 23, 24, 25, 28, 26], 'Cluster_13': [], 'Cluster_14': [], 'Cluster_15': [6], 'Cluster_16': [25], 'Cluster_17': [23], 'Cluster_18': [], 'Cluster_19': [23], 'Cluster_20': [1], 'Cluster_21': [1], 'Cluster_22': [4], 'Cluster_23': [], 'Cluster_24': [18, 19, 17, 19, 13, 19, 20, 22, 14, 16, 15, 15, 16, 15, 17, 10, 20, 16, 18, 10, 11, 14, 17, 19, 21, 23, 22, 23, 25, 11, 12, 29, 18, 20, 23, 28, 20, 8, 9, 21, 22, 11, 23, 24, 13, 25, 26, 27, 28, 28, 29, 19, 21, 29, 9, 10, 12, 25, 13, 14, 15, 13, 15, 16, 17, 22, 18, 28, 29, 10, 11, 11, 12, 13, 13, 15, 14, 16, 15, 17, 16, 18, 17, 17, 18, 19, 22, 22, 23, 24, 25, 26]}\n",
      "logical: [0] \n",
      "\n"
     ]
    },
    {
     "name": "stderr",
     "output_type": "stream",
     "text": [
      "  6%|▋         | 70/1111 [02:21<35:31,  2.05s/it]"
     ]
    },
    {
     "name": "stdout",
     "output_type": "stream",
     "text": [
      "\n",
      "meas_str: 111011100101000100000011110000 01111011000011000011010100000 01001001111111110011000101000 01111011001011000011010100000 01001001111101110011000101000 01111011100111000010011100000 01001001011101110010000001000 01111011100111010010010000000 11001001011101000010000001000 00111011100111010010011100000 01001001011101100010000001000 01111011110111010010010000000 00001101001101100010000001000 01110001111011010010000100000 11101001001101100010000001000 10110001111011010010000100000 00101001001101000010000001000 00111000111011110010000100000 00101100001001000010000001000 11100000111111000010000010000 01001100001001000010000010000 10011110111001000010000100000 01010010011001000010000010000 10000110110001000010001000000 00001100011001000010001010000 00000000000001000010000000000 00000000011001000010000000000 00011000000001000010000000000 00000000000001000010000000000 00000000000001000000000000000 00000000000001000000000000000\n",
      "flipped_qubit_dict {'Cluster_0': [], 'Cluster_1': [], 'Cluster_2': [25], 'Cluster_3': [19], 'Cluster_4': [25], 'Cluster_5': [5, 6, 6, 6], 'Cluster_6': [24], 'Cluster_7': [20], 'Cluster_8': [23], 'Cluster_9': [23], 'Cluster_10': [25], 'Cluster_11': [28], 'Cluster_12': [6], 'Cluster_13': [19], 'Cluster_14': [25], 'Cluster_15': [23], 'Cluster_16': [25], 'Cluster_17': [5], 'Cluster_18': [17], 'Cluster_19': [23], 'Cluster_20': [25], 'Cluster_21': [27], 'Cluster_22': [4], 'Cluster_23': [27], 'Cluster_24': [5], 'Cluster_25': [14], 'Cluster_26': [], 'Cluster_27': [25], 'Cluster_28': [28], 'Cluster_29': [], 'Cluster_30': [24], 'Cluster_31': [], 'Cluster_32': [29, 28], 'Cluster_33': [28], 'Cluster_34': [24], 'Cluster_35': [28], 'Cluster_36': [6, 7], 'Cluster_37': [18], 'Cluster_38': [23], 'Cluster_39': [], 'Cluster_40': [27, 28], 'Cluster_41': [6], 'Cluster_42': [6], 'Cluster_43': [28], 'Cluster_44': [14, 14], 'Cluster_45': [6], 'Cluster_46': [6], 'Cluster_47': [], 'Cluster_48': [], 'Cluster_49': [18], 'Cluster_50': [17, 18]}\n",
      "logical: [0] \n",
      "\n"
     ]
    },
    {
     "name": "stderr",
     "output_type": "stream",
     "text": [
      "  6%|▋         | 71/1111 [02:23<35:43,  2.06s/it]"
     ]
    },
    {
     "name": "stdout",
     "output_type": "stream",
     "text": [
      "\n",
      "meas_str: 100001011000001011100100101100 11110001010001010000111110000 11111111110011100001001001010 01101001011001010000111010010 11100111101001100001001001000 01101111001001010000111110010 11100011101001100001001011000 01111101000001010000111010010 01110101100001100001001111000 11111101000001010000111101010 01110101100001110001000111000 10111111000001000000110111010 11110011100001110000000111000 00100101000001000001111111010 01110101100001110000000110000 11100011000001000001110001010 01100110100001010000001110000 11111111000001100101110101010 01100000100001010100001110000 00111111000001000101110101010 10100100110001110100001110000 00111001000001011011110110010 10111110100001101100001110000 00100101000001001000110110010 10100110100001000100001110000 00100111000001001000110110010 10100000100001100100001000000 01000110000001001000110100000 11000000000001001000000000000 00000010000001001000000000000 00000000000001000000000000000\n",
      "flipped_qubit_dict {'Cluster_0': [], 'Cluster_1': [27], 'Cluster_2': [27], 'Cluster_3': [25, 7, 14, 15, 16, 17, 18, 15, 23, 25, 8, 10, 11, 13, 19, 25, 9, 11, 12, 14, 15, 16, 17, 18, 23, 6, 8, 10, 11, 12, 14, 16, 17, 18, 19, 19, 20, 23, 23, 11, 12, 2, 14, 3, 4, 7, 8, 9, 10, 11, 12, 12, 13, 13, 14, 15, 16, 17, 18, 23, 22, 13, 0, 14, 5, 7, 14, 15, 16, 17, 18, 19, 20, 21, 22, 23, 1, 2, 3, 4, 5, 8, 9, 10, 11, 12, 13, 14, 15, 16, 17, 18, 19, 20, 21, 22, 6, 13, 14, 19, 20, 21, 22], 'Cluster_4': [4], 'Cluster_5': [28], 'Cluster_6': [28], 'Cluster_7': [6], 'Cluster_8': [24], 'Cluster_9': [], 'Cluster_10': [22], 'Cluster_11': [23], 'Cluster_12': [23], 'Cluster_13': [], 'Cluster_14': [23], 'Cluster_15': [], 'Cluster_16': [29, 7, 29, 19, 21, 22, 28, 23, 24, 26, 27, 25, 29, 4, 8, 29, 17, 19, 22, 23, 24, 26, 27, 28, 6, 7, 8, 9, 9, 10, 14, 16, 18, 19, 19, 20, 21, 22, 23, 23, 28, 24, 29, 25, 26, 26, 27, 28, 28, 29, 14, 15, 29, 15, 16, 29, 4, 16, 17, 19, 23, 24, 5, 17, 18, 19, 20, 23, 24, 25, 5, 6, 18, 19, 20, 21, 25, 26]}\n",
      "logical: [1] \n",
      "\n",
      "------------ Wrong logical! ------------\n",
      "\n"
     ]
    },
    {
     "name": "stderr",
     "output_type": "stream",
     "text": [
      "  6%|▋         | 72/1111 [02:25<35:58,  2.08s/it]"
     ]
    },
    {
     "name": "stdout",
     "output_type": "stream",
     "text": [
      "\n",
      "meas_str: 010001001101101001111101010110 11100100011111101100000010011 01101011010101000100011101110 01100111111111101000000010011 01101001000101000100011101101 11100100111111101100000010000 01101110001001000110011101011 11100010111101101010000010101 01110110000111000110011101011 11100110111101101110000110011 11101100000111000111011011011 11111000111001101111000100011 11101100000101000111011011010 11111110111001101111000100010 01110010000101000111011011010 11100010111001101111000100010 01110110001001000111011000010 11100110111001101111000100010 01110100001001000111011000010 00100010111001101111000100010 00110110001001011011111000010 00101010111001111001100100010 00101000001001011000111000000 01111000101001111001100100000 00111000011001011000111000000 10100000111001111001100100000 00111010011001001000111000000 01100010001001001000000100000 01100000001001001000111100000 00100010000001001000001100000 00100000000001000000001000100\n",
      "flipped_qubit_dict {'Cluster_0': [7, 7, 6, 8], 'Cluster_1': [], 'Cluster_2': [], 'Cluster_3': [9], 'Cluster_4': [28], 'Cluster_5': [], 'Cluster_6': [11, 10, 13, 12, 13], 'Cluster_7': [23], 'Cluster_8': [23], 'Cluster_9': [18], 'Cluster_10': [], 'Cluster_11': [25], 'Cluster_12': [23], 'Cluster_13': [25], 'Cluster_14': [27, 28, 28, 14, 29, 26, 15, 29, 23, 24, 19, 25, 20, 26, 27, 23, 24, 28, 18, 29, 25, 19, 26, 27, 27, 27, 28, 28, 29, 29, 24, 25, 27, 29, 13, 14, 15, 16, 16, 29, 21, 25, 23, 27, 28, 29, 29, 29, 13, 14, 29, 14, 15, 16, 19, 26, 17, 26, 20, 23, 21, 21, 22, 23, 24], 'Cluster_15': [], 'Cluster_16': [23], 'Cluster_17': [25], 'Cluster_18': [25], 'Cluster_19': [16, 23, 2, 6, 7, 11, 12, 13, 14, 15, 16, 17, 19, 20, 21, 23, 1, 7, 8, 9, 10, 11, 22, 8, 20, 21, 22, 0, 1, 9, 2, 10, 3, 11, 5, 21, 23, 24, 17, 25, 26, 27, 28, 0, 2, 6, 7, 8, 16, 9, 17, 10, 18, 11, 19, 23, 24, 25, 26, 27, 1, 2, 3, 4, 5, 6, 7, 8, 9, 10, 11, 12, 13, 14, 15, 16, 18, 25, 0, 3, 4, 5, 7, 8, 9, 10, 12, 13, 14, 15], 'Cluster_20': [1]}\n",
      "logical: [1] \n",
      "\n",
      "------------ Wrong logical! ------------\n",
      "\n"
     ]
    },
    {
     "name": "stderr",
     "output_type": "stream",
     "text": [
      "  7%|▋         | 73/1111 [02:27<36:18,  2.10s/it]"
     ]
    },
    {
     "name": "stdout",
     "output_type": "stream",
     "text": [
      "\n",
      "meas_str: 100111010000101010000110010000 11110100000101001000000010000 11110011000011110000101001000 01110110000101000100000010000 11110001000011111100110001000 11111110010101011100000010000 11111001001011101000110001000 11111100010101011100000010000 00111111010011100100110001000 00111110010111011100000010000 00111111010001100100110001000 11110010010111011100000010000 10100111000001001000110001000 01110111000111011100001110000 11100001000001001000110001000 01101101000111011100000010000 01100101000001001000111101000 01110111000111011100000010000 01100101010001001000111110000 01101101010111011100000010000 01100101000001001000111110000 01111011000001111100000010000 00100101000001001000111100000 01111011000001111100000000000 01100001000001001000110000000 11100011000001111100000000000 01100000000001001000000000000 01111000000001110000000000000 01111010000001001000000000000 01100010000001110000000000000 01100010000001001000000000000\n",
      "flipped_qubit_dict {'Cluster_0': [27], 'Cluster_1': [27], 'Cluster_2': [12], 'Cluster_3': [8], 'Cluster_4': [], 'Cluster_5': [6], 'Cluster_6': [], 'Cluster_7': [], 'Cluster_8': [13, 14, 14, 15, 16, 17, 18, 28, 19, 20, 20, 21, 21, 12, 25, 15, 16, 20, 21, 22, 25, 22, 25, 25, 13, 14, 15, 16, 23, 25, 23, 24, 19, 13, 24, 25, 24, 14, 25, 15, 15, 16, 18, 19, 23, 20, 21, 22, 20, 21, 22, 20, 21, 22, 26, 27], 'Cluster_9': [4], 'Cluster_10': [6], 'Cluster_11': [6], 'Cluster_12': [6], 'Cluster_13': [23], 'Cluster_14': [28], 'Cluster_15': [], 'Cluster_16': [28], 'Cluster_17': [19], 'Cluster_18': [], 'Cluster_19': [7], 'Cluster_20': [], 'Cluster_21': [27, 29, 28, 29, 29]}\n",
      "logical: [0] \n",
      "\n"
     ]
    },
    {
     "name": "stderr",
     "output_type": "stream",
     "text": [
      "  7%|▋         | 74/1111 [02:29<35:42,  2.07s/it]"
     ]
    },
    {
     "name": "stdout",
     "output_type": "stream",
     "text": [
      "\n",
      "meas_str: 100010111100110000000011101010 11111001001101010111101011100 01100000011001010011111000111 11111000001101010011101010000 01100001011001010011111000110 11111001001111010011101010000 11100000011001110011011000110 11111000001101110011001010000 11100000011001110011010100110 11111001001101110011001010011 11100101011001110011010001111 00111100001011010011000110000 11100100010001010011000001111 10111101000011011011001010011 01100101010001011001000001010 10111101000001011010001010011 00100101010001011001000001011 11111101000001011010001010001 11101101010001011001000001011 11111001010001011010001010001 11101101000001110001000001000 01111100010001010010001010011 10101010000001110001000000010 01111110000001110010001011000 11101101000001010001000110010 01110100110001110000001101000 11101001100001010000000000010 01100011000001010000001100000 00100011100001010000000000000 11100000000001000000001100000 00100011000001000000000000000\n",
      "flipped_qubit_dict {'Cluster_0': [], 'Cluster_1': [22], 'Cluster_2': [], 'Cluster_3': [6], 'Cluster_4': [28], 'Cluster_5': [21], 'Cluster_6': [], 'Cluster_7': [25], 'Cluster_8': [2, 3, 5], 'Cluster_9': [10], 'Cluster_10': [5], 'Cluster_11': [5], 'Cluster_12': [1], 'Cluster_13': [], 'Cluster_14': [], 'Cluster_15': [1], 'Cluster_16': [29, 14, 20, 23, 22, 29, 24, 14, 15, 13, 15, 16, 29, 15, 15, 16, 22, 17, 23, 22, 24, 28, 13, 28, 29, 17, 28, 18, 20, 19, 20, 20, 21, 21, 21, 22, 22, 24, 23, 23, 24, 24, 29], 'Cluster_17': [], 'Cluster_18': [24], 'Cluster_19': [28], 'Cluster_20': [], 'Cluster_21': [1], 'Cluster_22': [10], 'Cluster_23': [2], 'Cluster_24': [], 'Cluster_25': [], 'Cluster_26': [], 'Cluster_27': [7], 'Cluster_28': [], 'Cluster_29': [], 'Cluster_30': [], 'Cluster_31': [6], 'Cluster_32': [], 'Cluster_33': [28], 'Cluster_34': [2, 3], 'Cluster_35': [1], 'Cluster_36': [6], 'Cluster_37': [], 'Cluster_38': [0, 0, 1, 3, 2], 'Cluster_39': [22, 12, 12, 23, 16, 17, 18, 19, 20, 21]}\n",
      "logical: [0] \n",
      "\n"
     ]
    },
    {
     "name": "stderr",
     "output_type": "stream",
     "text": [
      "  7%|▋         | 75/1111 [02:31<35:44,  2.07s/it]"
     ]
    },
    {
     "name": "stdout",
     "output_type": "stream",
     "text": [
      "\n",
      "meas_str: 001101011000111101101010100000 10011000100001101101110010010 11100110000101110110001100001 10100000110001101111110010001 01100100000101110111001100000 00100010100001101110010001000 01100110000101110111000000000 00100110100001101010010001000 11100000000101110111000001000 11100110100011110010010000000 10100000000111100111000001001 00101001100001110000010110001 11100001000101100000000001001 00101000100101100000010110001 00100011100101100000000001010 11101010000101100000010110001 00100001100101100000000001001 11101010000101100000101010001 11101011100101100000000101001 01100010000101000000101110010 01101011100101010000000011001 01100110010101100000110101010 01101101110011110000000011001 00100010010001000000110101010 00001101110001000000000010001 00100010010001100000110111010 00111011110001010000000010000 01100010010001000000111011000 01011011100001100000000010000 01000010010011100000110000000 01000011100001000000000000000\n",
      "flipped_qubit_dict {'Cluster_0': [], 'Cluster_1': [], 'Cluster_2': [8], 'Cluster_3': [25], 'Cluster_4': [4], 'Cluster_5': [5, 6], 'Cluster_6': [], 'Cluster_7': [17, 18, 19, 21, 14, 17, 18, 19, 14], 'Cluster_8': [], 'Cluster_9': [0, 0, 1], 'Cluster_10': [6], 'Cluster_11': [23], 'Cluster_12': [4], 'Cluster_13': [17], 'Cluster_14': [29, 28, 27, 28, 29, 26, 27, 27, 28], 'Cluster_15': [17], 'Cluster_16': [], 'Cluster_17': [23], 'Cluster_18': [4], 'Cluster_19': [7], 'Cluster_20': [5], 'Cluster_21': [], 'Cluster_22': [1], 'Cluster_23': [], 'Cluster_24': [], 'Cluster_25': [28], 'Cluster_26': [6], 'Cluster_27': [8], 'Cluster_28': [1], 'Cluster_29': [], 'Cluster_30': [], 'Cluster_31': [28], 'Cluster_32': [1], 'Cluster_33': [28], 'Cluster_34': [], 'Cluster_35': [], 'Cluster_36': [5], 'Cluster_37': [22], 'Cluster_38': [24], 'Cluster_39': [10, 11, 12, 12, 15, 15, 16, 14, 16, 15, 12, 16, 17], 'Cluster_40': [], 'Cluster_41': [], 'Cluster_42': [6], 'Cluster_43': [23, 23], 'Cluster_44': [], 'Cluster_45': [4], 'Cluster_46': [9], 'Cluster_47': [], 'Cluster_48': [10], 'Cluster_49': [1], 'Cluster_50': [], 'Cluster_51': [25], 'Cluster_52': [], 'Cluster_53': [1]}\n",
      "logical: [0] \n",
      "\n"
     ]
    },
    {
     "name": "stderr",
     "output_type": "stream",
     "text": [
      "  7%|▋         | 76/1111 [02:33<34:57,  2.03s/it]"
     ]
    },
    {
     "name": "stdout",
     "output_type": "stream",
     "text": [
      "\n",
      "meas_str: 111000101000011101110001001000 10100111101001111101000101110 10100000001011100100001000110 10000111100101111101000101001 10100000001011111000001000110 10000111100101101001000101011 01100000001011111000001000100 10000111100101101101000001011 01100110001011111110000000111 11100001100101101100000001000 00100110001011111001000000111 01000001100101101001000001000 01000110001011111101000000111 01000001100101101101000001000 01000110001011101001000000111 01010111100101111001000001011 01001000001011101101000000100 00011111100101101101000001000 01000110001001111001000000100 10011001100111101001001100100 01000110001001111001000001110 00011001100111101001001100101 10000111001001000001000000010 10011000100111101001000001111 10000111001001000001000001000 10011111000011101001000001101 10000111001101001000000000011 01000000001111101000001100110 00000110000001001000000000000 00000000001110001000000000000 00000000000000000000000000000\n",
      "flipped_qubit_dict {'Cluster_0': [], 'Cluster_1': [18], 'Cluster_2': [16, 15], 'Cluster_3': [23], 'Cluster_4': [2], 'Cluster_5': [6], 'Cluster_6': [28], 'Cluster_7': [18], 'Cluster_8': [], 'Cluster_9': [], 'Cluster_10': [6], 'Cluster_11': [], 'Cluster_12': [18], 'Cluster_13': [23], 'Cluster_14': [25], 'Cluster_15': [28], 'Cluster_16': [], 'Cluster_17': [], 'Cluster_18': [21], 'Cluster_19': [23], 'Cluster_20': [], 'Cluster_21': [], 'Cluster_22': [6], 'Cluster_23': [], 'Cluster_24': [14, 12, 10, 11, 10, 12, 12, 10, 11, 11], 'Cluster_25': [28], 'Cluster_26': [3, 1, 1, 0, 0, 3, 3, 6, 2], 'Cluster_27': [], 'Cluster_28': [23], 'Cluster_29': [23], 'Cluster_30': [], 'Cluster_31': [1], 'Cluster_32': [1], 'Cluster_33': [23], 'Cluster_34': [25], 'Cluster_35': [1], 'Cluster_36': [23], 'Cluster_37': [28, 29, 27, 29, 28, 29, 27, 27, 28], 'Cluster_38': [1], 'Cluster_39': [23], 'Cluster_40': [1], 'Cluster_41': [23], 'Cluster_42': [6], 'Cluster_43': [], 'Cluster_44': [28], 'Cluster_45': [1], 'Cluster_46': [], 'Cluster_47': [18], 'Cluster_48': []}\n",
      "logical: [0] \n",
      "\n"
     ]
    },
    {
     "name": "stderr",
     "output_type": "stream",
     "text": [
      "  7%|▋         | 77/1111 [02:35<34:33,  2.01s/it]"
     ]
    },
    {
     "name": "stdout",
     "output_type": "stream",
     "text": [
      "\n",
      "meas_str: 111000000000111010100110001010 11100000000011100111000101000 11100100000111000001101100111 11100000000011010111000100001 01100010010111001001001100111 01100010000011011011010100010 01100001000111000101001100111 00100010000011011101010100001 00100000000111001101001100111 00100001000011011000010100010 11100010000111000100001100111 00100001000011011000010100110 10100001000111001100001101010 00100010000011011100010100110 10100001000111001100001100010 10100010000011011100010100010 11100101010111001100001100001 10100110000011011100010100010 10100110000111001100001100010 01100111000011011100010100010 11100100000111000000001100010 00100101000011011000010100011 11100110000111001000001101001 01111010000011011000010100001 11100100000111001000000000001 01111101000011011000010100000 10100000000101000000000000001 11111000000011011000011000000 01111000000001001000000000000 01100001000001010000000000001 00111001000000001000000000000\n",
      "flipped_qubit_dict {'Cluster_0': [13], 'Cluster_1': [0, 0, 1, 1, 2, 3, 0, 1, 0, 2, 0, 3, 1, 0, 2, 3], 'Cluster_2': [], 'Cluster_3': [], 'Cluster_4': [7], 'Cluster_5': [17], 'Cluster_6': [25], 'Cluster_7': [6], 'Cluster_8': [13, 14, 15, 16], 'Cluster_9': [6], 'Cluster_10': [25], 'Cluster_11': [28], 'Cluster_12': [12, 12], 'Cluster_13': [], 'Cluster_14': [1], 'Cluster_15': [23, 22, 23, 20, 21, 21, 20], 'Cluster_16': [1], 'Cluster_17': [28], 'Cluster_18': [3], 'Cluster_19': [22], 'Cluster_20': [1, 2, 3], 'Cluster_21': [12, 12, 11], 'Cluster_22': [1], 'Cluster_23': [], 'Cluster_24': [1], 'Cluster_25': [20, 25, 22, 23, 27, 24, 25, 26, 27, 22, 27, 21, 23, 22, 23, 23, 25, 24, 24, 25, 29, 26, 26, 27, 29, 27, 28, 29, 23, 28, 24, 28, 29, 20, 22, 23, 24, 25, 28, 29, 21, 28, 24, 25, 26], 'Cluster_26': [8], 'Cluster_27': [], 'Cluster_28': [14], 'Cluster_29': [13]}\n",
      "logical: [0] \n",
      "\n"
     ]
    },
    {
     "name": "stderr",
     "output_type": "stream",
     "text": [
      "  7%|▋         | 78/1111 [02:37<34:36,  2.01s/it]"
     ]
    },
    {
     "name": "stdout",
     "output_type": "stream",
     "text": [
      "\n",
      "meas_str: 011001101000001001001000001110 01100100100001111011100000111 01101111000001011110100001111 00100000100001111111000000000 00101111000001011010100001111 10100100100001111011100000011 11101001001101111110100001101 01100100100001111111110000001 00111111001101111010110011111 10101000100101111011110010011 01101101000101101110111110001 11100110100101101111110010011 01101011000101101001111110011 11111110100101101111000100001 01110011001101100001111000001 11100110101101111011000100011 01110011001101100001111000010 10111100101101101011000100010 11110111001101101001111000000 11111110100001101011000100000 11101101001101001000111000000 00101100100001000111000100000 10110011001101001100111000000 00101100100001101011000100000 01001100001101001100111000000 01101010000001001111000100000 01100110001101001100001000000 11100110000001001011000100000 00100000001101001000001100000 10100000010000001100000000000 00100000001100001000000000000\n",
      "flipped_qubit_dict {'Cluster_0': [6], 'Cluster_1': [], 'Cluster_2': [], 'Cluster_3': [13, 13, 10], 'Cluster_4': [8], 'Cluster_5': [27], 'Cluster_6': [18, 20, 25, 20, 21, 23, 21, 22, 23, 22, 23, 24, 24, 26, 27, 28, 23, 24, 25, 21], 'Cluster_7': [26], 'Cluster_8': [28], 'Cluster_9': [], 'Cluster_10': [13, 14, 12, 13, 14], 'Cluster_11': [12], 'Cluster_12': [], 'Cluster_13': [], 'Cluster_14': [18], 'Cluster_15': [], 'Cluster_16': [], 'Cluster_17': [12, 13, 7, 2, 11, 4, 13, 5, 4, 7, 10, 13, 8, 14, 5, 9, 15, 8, 7, 9, 11, 8, 11, 12, 10, 0, 14, 13, 0, 2, 3, 9, 4, 10, 11, 5, 6, 7, 10, 2, 8, 11, 9, 11, 10, 11, 5, 2, 3, 4, 3, 8, 10, 9, 10, 11, 12], 'Cluster_18': [23], 'Cluster_19': [23], 'Cluster_20': [29, 28, 28, 28, 29, 28, 28, 28, 29, 25, 26, 25, 27, 26, 28, 29, 25, 27, 28, 29, 29, 28, 28], 'Cluster_21': [23], 'Cluster_22': [18], 'Cluster_23': [25], 'Cluster_24': [23], 'Cluster_25': [18], 'Cluster_26': [23], 'Cluster_27': [1], 'Cluster_28': [28, 27], 'Cluster_29': [], 'Cluster_30': [2]}\n",
      "logical: [0] \n",
      "\n"
     ]
    },
    {
     "name": "stderr",
     "output_type": "stream",
     "text": [
      "  7%|▋         | 79/1111 [02:39<34:09,  1.99s/it]"
     ]
    },
    {
     "name": "stdout",
     "output_type": "stream",
     "text": [
      "\n",
      "meas_str: 000011010000011101010110001000 11000110001101111100001000001 11010001000011101011010000001 11000110001101111000001000001 00011101001111101111010000001 11011010000001110100001000001 11011100001111101011010000001 11011100000001110100000111001 11010010001111101111010101001 00010000000001110100000111001 01010110001111101111010101001 11010000000001111000001111010 00011110001111101011011101001 00011110000001111100001110010 00001100001101101111011100001 00011000001101111000001110011 11000000001100100111011100001 11011000001101110000001110011 11000000000000001111000100000 11011000001100111000001110001 01000000000000001000000010010 11011010001100111000001110001 11000010000000001000001010010 11011010001100001000000000001 00000010001100001000001000010 01011010000000001000000010001 01000000000000000100000100010 01000000000000001100000010010 01000000000000000000000100000 01000000000000000000000010000 00000000000000000000000010000\n",
      "flipped_qubit_dict {'Cluster_0': [], 'Cluster_1': [], 'Cluster_2': [5], 'Cluster_3': [], 'Cluster_4': [12], 'Cluster_5': [], 'Cluster_6': [1], 'Cluster_7': [], 'Cluster_8': [25], 'Cluster_9': [6], 'Cluster_10': [12], 'Cluster_11': [18], 'Cluster_12': [28], 'Cluster_13': [], 'Cluster_14': [18], 'Cluster_15': [18], 'Cluster_16': [28], 'Cluster_17': [14], 'Cluster_18': [], 'Cluster_19': [29, 29], 'Cluster_20': [], 'Cluster_21': [5], 'Cluster_22': [18, 5, 10, 6, 7, 13, 14, 6, 8, 11, 13, 14, 7, 15, 9, 11, 15, 18, 8, 16, 12, 13, 14, 15, 9, 13, 14], 'Cluster_23': [0, 0], 'Cluster_24': [7], 'Cluster_25': [28], 'Cluster_26': [], 'Cluster_27': [28], 'Cluster_28': [], 'Cluster_29': [], 'Cluster_30': [25], 'Cluster_31': [23], 'Cluster_32': [], 'Cluster_33': [28], 'Cluster_34': [], 'Cluster_35': [], 'Cluster_36': [1], 'Cluster_37': [], 'Cluster_38': [28], 'Cluster_39': [6, 5], 'Cluster_40': [23, 23], 'Cluster_41': [28], 'Cluster_42': [18], 'Cluster_43': [18], 'Cluster_44': [25, 22, 24, 23], 'Cluster_45': [28], 'Cluster_46': [3], 'Cluster_47': [8], 'Cluster_48': [18]}\n",
      "logical: [0] \n",
      "\n"
     ]
    },
    {
     "name": "stderr",
     "output_type": "stream",
     "text": [
      "  7%|▋         | 80/1111 [02:41<34:18,  2.00s/it]"
     ]
    },
    {
     "name": "stdout",
     "output_type": "stream",
     "text": [
      "\n",
      "meas_str: 111010110010000000000001110000 01010100011001000110000111000 01100001010001001110001110000 11000010001001001010000111000 01111011010001001010001000000 11010010001001001010000111000 11111000010001000010001011000 11111000001001101110001011000 01011110010001001110001000000 11111010001001101010001011000 11011100010001001010001000000 01111010001001101110001011000 01011100010001001110001000000 11111100001001101010001011000 01001100010001001010001000000 11110010001001001110001011000 11001100010001000000001011000 11110010001001000000001011000 11101100000001001000000010000 11101100011001101000000010000 01110010000001001000000010000 01011100011001100000000010000 11000010000001001000010010000 01011100011000001000000011000 01011000000000001000000000000 01000000011000001000000011000 01000000011000001000000000000 01000000011000001000000000000 00000000001000001100000000000 01000000001000001000001100000 00000000001000000000000000000\n",
      "flipped_qubit_dict {'Cluster_0': [], 'Cluster_1': [6], 'Cluster_2': [], 'Cluster_3': [6], 'Cluster_4': [], 'Cluster_5': [], 'Cluster_6': [4], 'Cluster_7': [19], 'Cluster_8': [25], 'Cluster_9': [25], 'Cluster_10': [23, 25], 'Cluster_11': [4], 'Cluster_12': [], 'Cluster_13': [26], 'Cluster_14': [], 'Cluster_15': [], 'Cluster_16': [], 'Cluster_17': [], 'Cluster_18': [28, 23, 26, 24, 29, 25, 23, 24, 25, 27], 'Cluster_19': [4], 'Cluster_20': [12, 13, 14, 12, 13, 11, 14, 11, 12, 12], 'Cluster_21': [23], 'Cluster_22': [25], 'Cluster_23': [23], 'Cluster_24': [], 'Cluster_25': [], 'Cluster_26': [], 'Cluster_27': [4], 'Cluster_28': [], 'Cluster_29': [24], 'Cluster_30': [], 'Cluster_31': [6], 'Cluster_32': [4], 'Cluster_33': [22], 'Cluster_34': [], 'Cluster_35': [5], 'Cluster_36': [], 'Cluster_37': [], 'Cluster_38': [25], 'Cluster_39': [], 'Cluster_40': [], 'Cluster_41': [24]}\n",
      "logical: [0] \n",
      "\n"
     ]
    },
    {
     "name": "stderr",
     "output_type": "stream",
     "text": [
      "  7%|▋         | 81/1111 [02:43<34:42,  2.02s/it]"
     ]
    },
    {
     "name": "stdout",
     "output_type": "stream",
     "text": [
      "\n",
      "meas_str: 101000000000100011000000111100 11111010010011110100000001011 01011000011101101000000101011 11100000010111111100000001010 01011000011101101000000101010 11111000010111111100000001011 01000000011101101100000011011 11111000010111100100000010010 01000000011111100000000011010 11111000010101101100000010010 01100000011001101100000011011 11111000010101101100000001011 01111000011001101100001111101 11111000010101101100000000001 01111000011001001000001111111 11111000010100101000000000011 11111000011001001000001111101 11100010010100101100000000001 11111010011000100000001110111 11111010010101100100000110011 11100010010101101000001000001 01111000010100100100000110111 11100000010100100000001000011 01111000000001100000000110101 11100000000001100000001110011 10111000000000100000000000101 01111000000000100000001100000 10111000000001100000000001100 10100000000001100000001100000 00000000000000100000000000000 00000000000000000000000000000\n",
      "flipped_qubit_dict {'Cluster_0': [], 'Cluster_1': [6], 'Cluster_2': [], 'Cluster_3': [3], 'Cluster_4': [], 'Cluster_5': [4], 'Cluster_6': [0, 1, 0, 0, 0], 'Cluster_7': [], 'Cluster_8': [5], 'Cluster_9': [5], 'Cluster_10': [], 'Cluster_11': [], 'Cluster_12': [], 'Cluster_13': [], 'Cluster_14': [12], 'Cluster_15': [], 'Cluster_16': [], 'Cluster_17': [29, 26, 27, 27, 29, 25, 25, 26, 27, 28, 28, 29, 26, 27, 25, 27, 28, 28, 28, 29, 29, 25, 29, 26, 26, 28, 29, 25, 26], 'Cluster_18': [], 'Cluster_19': [18], 'Cluster_20': [25], 'Cluster_21': [25], 'Cluster_22': [2, 3, 5, 2, 5, 2, 2, 2, 3, 4, 6], 'Cluster_23': [15], 'Cluster_24': [], 'Cluster_25': [12], 'Cluster_26': [25], 'Cluster_27': [15], 'Cluster_28': [], 'Cluster_29': [12, 13], 'Cluster_30': [17], 'Cluster_31': [], 'Cluster_32': [4], 'Cluster_33': [5], 'Cluster_34': [25], 'Cluster_35': [], 'Cluster_36': [25], 'Cluster_37': [1], 'Cluster_38': [], 'Cluster_39': [18], 'Cluster_40': []}\n",
      "logical: [0] \n",
      "\n"
     ]
    },
    {
     "name": "stderr",
     "output_type": "stream",
     "text": [
      "  7%|▋         | 82/1111 [02:45<34:54,  2.04s/it]"
     ]
    },
    {
     "name": "stdout",
     "output_type": "stream",
     "text": [
      "\n",
      "meas_str: 011100000000010101000101100000 11100100000011001100111001001 01110100000001011001100011001 11100100000011001101101001001 10110100000001111000100011001 11100010000011101100101100001 10110100100001011000100011001 10100100100011011100101101001 10110010100001111000100011011 10100100100011001100100001001 11110100100001001000100011011 01110010100011111100100001001 11100100110001111100100010111 01111000110011011100100010001 11100110100001001100100011101 11111100100011111000101111001 01100010100001011100100001101 11011100100011101100000001101 11100000100011011000001100001 11011110100001111000000001101 00100000100011001100001100001 01011110100001111100000001110 10111000110011001000001100110 01011110100001001000000001010 10111110100011101100001100110 01011010000001001100000001011 10111100000001101000001100011 01000010000001101000000001110 11011010000001001100001100011 01000010010000001100000000011 00000010000000001000000000010\n",
      "flipped_qubit_dict {'Cluster_0': [], 'Cluster_1': [6], 'Cluster_2': [29, 27, 29, 29, 25, 28, 28, 29, 28], 'Cluster_3': [3], 'Cluster_4': [], 'Cluster_5': [23], 'Cluster_6': [1, 2, 2, 2], 'Cluster_7': [25], 'Cluster_8': [], 'Cluster_9': [23], 'Cluster_10': [23], 'Cluster_11': [25], 'Cluster_12': [], 'Cluster_13': [28], 'Cluster_14': [], 'Cluster_15': [], 'Cluster_16': [0, 0, 1, 12, 13, 14, 2, 3, 1, 14, 0, 0, 1, 2, 3, 5, 6, 7, 8, 10, 11, 12, 13, 14, 3, 9, 10, 11, 14, 10, 15, 16, 14, 11, 16, 12, 17, 18, 14, 13, 14, 0, 1, 17, 19, 14, 1, 15, 3, 18, 0, 2, 1, 2, 3, 16, 19, 2, 1, 3, 4, 5, 15, 3, 4, 5, 6, 7, 9, 3, 6, 9, 10, 11, 12, 13, 14, 0, 1, 2, 5, 7, 8, 12, 13, 5, 6, 7, 8, 9, 10, 11, 12, 13, 0, 1, 2, 3, 6], 'Cluster_17': [], 'Cluster_18': [], 'Cluster_19': [26, 28, 23, 25, 28, 23], 'Cluster_20': [6], 'Cluster_21': [23], 'Cluster_22': [], 'Cluster_23': [23], 'Cluster_24': [10, 11, 12, 15], 'Cluster_25': [23], 'Cluster_26': [28]}\n",
      "logical: [0] \n",
      "\n"
     ]
    },
    {
     "name": "stderr",
     "output_type": "stream",
     "text": [
      "  7%|▋         | 83/1111 [02:47<35:06,  2.05s/it]"
     ]
    },
    {
     "name": "stdout",
     "output_type": "stream",
     "text": [
      "\n",
      "meas_str: 111000100000010000100011000010 01100011110001111101010001000 01100101110011101011100001011 01101100110001111100110101010 01000110110011101010100001001 01101100110001110001111001010 00100110110011101001000001001 10101100100001111000011001010 00111110100011100000000001010 11101100100001111001111001000 01100010100001101000000001000 10101110100001111001111001000 11100100100001100000000001000 11010010100001111001111001000 11100110100001101000000001000 00010010100001111001101000000 01100100100001101000000110000 01010000100000110001111110000 00011100100000101000000110000 11001110100000111000011110000 10011100100000101000000111000 11001000100000111000011001000 10011100000010101000000111000 11001000000001111000011000000 01011110000001101000000110000 11001100000001111000011000000 11011000000001100000000110000 00011010000001100000011000000 00000100000001100000000110000 11011000000001100000000000000 00000000010001100000000000000\n",
      "flipped_qubit_dict {'Cluster_0': [28], 'Cluster_1': [5], 'Cluster_2': [], 'Cluster_3': [28, 29], 'Cluster_4': [], 'Cluster_5': [], 'Cluster_6': [25, 23, 24, 23, 23, 23], 'Cluster_7': [28], 'Cluster_8': [], 'Cluster_9': [], 'Cluster_10': [5], 'Cluster_11': [23], 'Cluster_12': [], 'Cluster_13': [23], 'Cluster_14': [25], 'Cluster_15': [25], 'Cluster_16': [27], 'Cluster_17': [5], 'Cluster_18': [28], 'Cluster_19': [], 'Cluster_20': [5], 'Cluster_21': [28], 'Cluster_22': [27, 28, 27, 25, 27], 'Cluster_23': [23], 'Cluster_24': [], 'Cluster_25': [25], 'Cluster_26': [16, 15, 15, 7, 9, 10, 11, 12, 13, 10, 11, 12, 13, 14, 14, 9, 6, 8, 9, 10, 11, 12, 10, 8, 9, 10, 11, 12, 6, 7, 8, 10, 11, 14, 14, 6, 7, 8, 15, 15], 'Cluster_27': [1], 'Cluster_28': [25], 'Cluster_29': [28], 'Cluster_30': [27], 'Cluster_31': [], 'Cluster_32': [22], 'Cluster_33': [22], 'Cluster_34': [24], 'Cluster_35': []}\n",
      "logical: [0] \n",
      "\n"
     ]
    },
    {
     "name": "stderr",
     "output_type": "stream",
     "text": [
      "  8%|▊         | 84/1111 [02:49<34:59,  2.04s/it]"
     ]
    },
    {
     "name": "stdout",
     "output_type": "stream",
     "text": [
      "\n",
      "meas_str: 011010010001001110101001010000 01110000010101111100010001000 11101011101001101011111110000 11101001000101100101010001000 11101001101001111110111110000 01101001000111101101010111000 01101001001001111010111110000 11101001000101000101010111000 11101010011001110010011110000 01101001000101001001010001000 01101000011001110010111111000 11101000010101000001110110000 11101001011001000011011001000 11101001010101000000110110000 01100001011101100111011001000 01100011010101100000010110000 11100000010011100001111001000 11111000010101100000110110000 01100000010011100001111001000 01100000010101100001001110000 11100000010011100000011001000 11100001010101100000101111000 01100001010011100001011000000 01100000010001100000001111000 11100000010111000001011110000 11000000000001000000001111000 01100000000001000001100110000 01000000000001000000001111000 01000000000001000001000000000 10000000000001000000100000000 00000000000001000001100000000\n",
      "flipped_qubit_dict {'Cluster_0': [], 'Cluster_1': [28, 27, 28, 27], 'Cluster_2': [17], 'Cluster_3': [], 'Cluster_4': [], 'Cluster_5': [], 'Cluster_6': [], 'Cluster_7': [], 'Cluster_8': [], 'Cluster_9': [25], 'Cluster_10': [], 'Cluster_11': [22], 'Cluster_12': [25], 'Cluster_13': [], 'Cluster_14': [], 'Cluster_15': [], 'Cluster_16': [5], 'Cluster_17': [], 'Cluster_18': [], 'Cluster_19': [], 'Cluster_20': [], 'Cluster_21': [], 'Cluster_22': [5], 'Cluster_23': [12, 14, 20, 23, 7, 8, 9, 9, 10, 11, 12, 13, 14, 15, 15, 16, 17, 18, 19, 21, 24, 9, 8, 10, 9, 11, 10, 12, 12, 14, 13, 15, 15, 16, 16, 17, 18, 19, 20, 21, 4, 22, 25, 10, 11, 9, 13, 10, 11, 16, 14, 5, 16, 18, 19, 20, 21, 22, 23, 10, 6, 11, 12, 26, 14, 11, 17, 14, 15, 17, 7, 19, 20, 21, 22, 9, 10, 24, 11, 12, 13, 27, 14, 29, 10, 18, 11, 19, 12, 12, 13, 13, 14, 14, 15, 16, 5, 17, 5, 6, 6, 18, 18, 20, 21, 9, 10, 22, 23, 11, 23, 12, 26, 14, 4, 15, 28, 6, 29, 7, 9, 19, 10, 4, 5, 6, 7, 7, 8, 9, 10, 11, 11, 12, 13, 5, 15, 6, 16, 8, 10, 20, 12, 6, 7, 5, 6, 10, 7, 11, 8, 11, 13, 10, 11, 9, 14, 10, 16, 17, 21, 10, 6, 11, 7, 8, 11, 12, 13, 15, 9, 17, 11, 18]}\n",
      "logical: [0] \n",
      "\n"
     ]
    },
    {
     "name": "stderr",
     "output_type": "stream",
     "text": [
      "  8%|▊         | 85/1111 [02:51<34:52,  2.04s/it]"
     ]
    },
    {
     "name": "stdout",
     "output_type": "stream",
     "text": [
      "\n",
      "meas_str: 010001111011001100001011111110 01110000001111111101111010000 11111000111011101000001010001 01110000001111101001111010000 11111000111011110100001100001 01110000101111101101111010000 11111000011001111000001100001 11110000101111110001111010010 11111000011011101000001100011 11110000101111100000111010001 01111010011011100000001100000 11010010101111100001111010001 01111001011011100000001100000 11011110100011100001111010001 01111001011011100000001100011 11010110100011110001101010010 01010111011011100000000100000 11010110100011100001101011010 01010101011011110000000101000 11010110100011110001101011010 01010001011011100000000011011 11110100100011100001101011011 01110111011011000000000011000 11110001100011100001101010011 01110100011011010000000011011 11110101100111100001101010000 11111100011010010000000011000 01101100000110000000000000000 01111100000000100000000000000 01111001000000000000000000000 01111001000000000000000000000\n",
      "flipped_qubit_dict {'Cluster_0': [], 'Cluster_1': [25], 'Cluster_2': [27], 'Cluster_3': [25], 'Cluster_4': [27], 'Cluster_5': [], 'Cluster_6': [5, 6, 4], 'Cluster_7': [16, 17, 14, 15], 'Cluster_8': [17, 16, 15, 19], 'Cluster_9': [9], 'Cluster_10': [24, 25, 24, 24, 25, 23, 28, 26, 28, 29, 29, 25, 27, 29, 29, 21], 'Cluster_11': [1], 'Cluster_12': [], 'Cluster_13': [1, 2, 3], 'Cluster_14': [23], 'Cluster_15': [], 'Cluster_16': [23], 'Cluster_17': [5], 'Cluster_18': [], 'Cluster_19': [24, 25, 26], 'Cluster_20': [1], 'Cluster_21': [7], 'Cluster_22': [1], 'Cluster_23': [14], 'Cluster_24': [1], 'Cluster_25': [18], 'Cluster_26': [24], 'Cluster_27': [22], 'Cluster_28': [], 'Cluster_29': [1], 'Cluster_30': [13], 'Cluster_31': [27, 28], 'Cluster_32': [1], 'Cluster_33': [], 'Cluster_34': [13, 11, 12, 13, 14, 11, 13, 15, 12], 'Cluster_35': [], 'Cluster_36': [], 'Cluster_37': [5], 'Cluster_38': []}\n",
      "logical: [0] \n",
      "\n"
     ]
    },
    {
     "name": "stderr",
     "output_type": "stream",
     "text": [
      "  8%|▊         | 86/1111 [02:53<35:15,  2.06s/it]"
     ]
    },
    {
     "name": "stdout",
     "output_type": "stream",
     "text": [
      "\n",
      "meas_str: 110010101110011100010100100000 11010001000101000011110001011 11001111101101010000000111011 11011101000101000011110000011 11000101101101010000000110000 11011011010101000011110111101 11000101111101010000000111000 01011101011101000011110111111 11000011110101010000000111001 01010101011101000011110110101 11001111110101010000000001010 01010110111101000011110111101 11001111110001010000000101010 01011010111001000011110111110 11001111110000010000000011010 01010000101001000000110100110 11001101100001010000000010000 01010100011001000000110110000 11000110000001010000000000000 01100100000001000000111110000 11010010000001010000000011000 01000110000001000000110101000 11010100000001010000000011000 11000000000001000000000101000 01010100000001010000000101000 01000000000001000000000101000 01010110000001010000000011000 01000000000001100000001100000 01000000010001010000000000000 00000000000001100000001100000 11000000000001010000000000000\n",
      "flipped_qubit_dict {'Cluster_0': [28], 'Cluster_1': [6], 'Cluster_2': [], 'Cluster_3': [5, 6], 'Cluster_4': [23, 25, 19, 24, 29, 21, 14, 24, 28, 16, 19, 20, 23, 20, 24, 21, 25, 17, 22, 25, 18, 26, 29, 19, 24, 25, 16, 20, 21, 17, 22, 22, 28, 29, 24, 25, 26, 29, 27, 15, 20, 16, 17, 22, 23, 18, 19, 17, 27, 20, 18, 18, 21, 29, 22, 20, 23, 21, 22, 24], 'Cluster_5': [5], 'Cluster_6': [5], 'Cluster_7': [8], 'Cluster_8': [23], 'Cluster_9': [23], 'Cluster_10': [4], 'Cluster_11': [4], 'Cluster_12': [], 'Cluster_13': [19], 'Cluster_14': [], 'Cluster_15': [21], 'Cluster_16': [23, 23, 26, 23, 24, 24, 26, 23, 24], 'Cluster_17': [], 'Cluster_18': [3], 'Cluster_19': [20], 'Cluster_20': [], 'Cluster_21': [4], 'Cluster_22': [10], 'Cluster_23': [], 'Cluster_24': [1], 'Cluster_25': [], 'Cluster_26': [21], 'Cluster_27': [23], 'Cluster_28': [], 'Cluster_29': [2, 3, 5, 1, 4], 'Cluster_30': [1], 'Cluster_31': [23], 'Cluster_32': [23], 'Cluster_33': [5, 2, 1], 'Cluster_34': [24], 'Cluster_35': []}\n",
      "logical: [0] \n",
      "\n"
     ]
    },
    {
     "name": "stderr",
     "output_type": "stream",
     "text": [
      "  8%|▊         | 87/1111 [02:55<34:17,  2.01s/it]"
     ]
    },
    {
     "name": "stdout",
     "output_type": "stream",
     "text": [
      "\n",
      "meas_str: 001000000000000001010101000000 11100000000001001001100000100 11101000000001001110010100110 11101010000001001001101000111 11110000000001001110010100111 11101000000001001001101000110 11110000000001001010010100010 11101000000001001001001001011 11100000000001001110001000011 11110000000001001001001001010 11101000000000001010001000011 11110010000000001001001001111 11101000000000001010001000110 11110000000000000001001001110 11101000000000001010001000111 11110010000000000001001001111 11101010010000000010001000110 01010010000000000001001001100 11101010000000000010001001010 01010010000000001001001001000 01110100000000001000001000100 01001100000000001000001001000 01111110000000001100001000100 01010110000000001000001001000 01011000010000000100001000000 01011000010000001000001001100 01011010000000001100001000000 00011010010000001100000101100 01011010000000000100001000010 10000110010000001100001100010 01000000000000000000000001010\n",
      "flipped_qubit_dict {'Cluster_0': [], 'Cluster_1': [28], 'Cluster_2': [6], 'Cluster_3': [3], 'Cluster_4': [], 'Cluster_5': [], 'Cluster_6': [20, 20, 27, 23, 23, 28, 29, 20, 20, 21, 23, 22, 24, 24, 25, 21, 23, 24, 24, 25, 26, 26, 27, 25, 29, 27, 28, 29, 26, 26, 27, 28, 29, 27, 22, 29, 28, 27, 29, 28, 29, 29], 'Cluster_7': [12], 'Cluster_8': [6], 'Cluster_9': [], 'Cluster_10': [], 'Cluster_11': [12], 'Cluster_12': [10], 'Cluster_13': [23], 'Cluster_14': [25], 'Cluster_15': [2, 3], 'Cluster_16': [23], 'Cluster_17': [25], 'Cluster_18': [3], 'Cluster_19': [1], 'Cluster_20': [], 'Cluster_21': [], 'Cluster_22': [], 'Cluster_23': [], 'Cluster_24': [], 'Cluster_25': [], 'Cluster_26': [], 'Cluster_27': [], 'Cluster_28': [], 'Cluster_29': [], 'Cluster_30': [], 'Cluster_31': [6], 'Cluster_32': [8], 'Cluster_33': [0, 0, 1, 3, 2], 'Cluster_34': [], 'Cluster_35': [12], 'Cluster_36': [], 'Cluster_37': [25], 'Cluster_38': [], 'Cluster_39': [], 'Cluster_40': [], 'Cluster_41': [], 'Cluster_42': [27]}\n",
      "logical: [0] \n",
      "\n"
     ]
    },
    {
     "name": "stderr",
     "output_type": "stream",
     "text": [
      "  8%|▊         | 88/1111 [02:57<34:13,  2.01s/it]"
     ]
    },
    {
     "name": "stdout",
     "output_type": "stream",
     "text": [
      "\n",
      "meas_str: 001010101000011100000000001100 01101001000001011100100111011 11110110100011001100100110001 11101011000001001100100001011 01110111000011010100100110010 11110111000001001000000001011 11110001000011010100110110010 11110111000001101100000111011 11101011000011101100110000010 11110001000001100000000111011 10101001000011100000000011001 10110001000001100000000100011 10110011000011100000000011010 10101011000000100000000101011 11110011000000100000001100010 11110011000000100000001101011 11110011000011000000001100001 10110011000010000000001100011 11101011000001000000001101010 11110011000011000000000000100 11110010000000000000001101000 11100010000010000000000000100 11000000000001000000001101000 11000000010010000000000000100 11000000000001000000001101000 10100000000000000000000000100 11000010000000000000001100100 01000010000000000000000000000 11000000000000000000000000000 11000000000000000000000000000 01000000000000000000000000000\n",
      "flipped_qubit_dict {'Cluster_0': [28, 23, 29, 29, 24, 28, 29, 26, 29, 29, 27, 28, 21, 29, 22, 28, 29, 27, 28, 28, 27, 29, 22, 23, 24, 25, 23, 26, 28, 28, 29, 29], 'Cluster_1': [], 'Cluster_2': [], 'Cluster_3': [6], 'Cluster_4': [], 'Cluster_5': [3], 'Cluster_6': [16], 'Cluster_7': [], 'Cluster_8': [], 'Cluster_9': [], 'Cluster_10': [], 'Cluster_11': [], 'Cluster_12': [25], 'Cluster_13': [6], 'Cluster_14': [0, 1, 0, 2, 1], 'Cluster_15': [], 'Cluster_16': [25], 'Cluster_17': [], 'Cluster_18': [1], 'Cluster_19': [25], 'Cluster_20': [], 'Cluster_21': [4, 4, 5], 'Cluster_22': [12, 8, 9, 8, 10, 11, 12, 12, 15, 9, 10, 11, 13, 14, 12, 15, 13, 15, 14, 15, 14, 15], 'Cluster_23': [], 'Cluster_24': [25], 'Cluster_25': [1], 'Cluster_26': [25], 'Cluster_27': [4], 'Cluster_28': [], 'Cluster_29': [1], 'Cluster_30': [4], 'Cluster_31': [5], 'Cluster_32': [25], 'Cluster_33': [5], 'Cluster_34': [1], 'Cluster_35': [5]}\n",
      "logical: [0] \n",
      "\n"
     ]
    },
    {
     "name": "stderr",
     "output_type": "stream",
     "text": [
      "  8%|▊         | 89/1111 [02:59<34:38,  2.03s/it]"
     ]
    },
    {
     "name": "stdout",
     "output_type": "stream",
     "text": [
      "\n",
      "meas_str: 110010100000000000001100000010 11110000100111100101100000111 10101100100111100100110001100 00111010100110100100010001111 01100100100111000100100001111 11011000100011000100010001111 01001100100011100100100001000 01110100100011000101010001011 01101010100011100110100000010 11110100100011000101010001011 11101110100011100100101010001 01111010100001000111010010011 01101110100000100100100110010 11111010100011000111010010011 11101110100000100000100000001 01111010100000100011010010011 01100110000001100000100000010 11101100000000100011010010011 01110010000010100000101100010 01100110000000100011010010000 01111000000011100000000000010 00100110000010100000000010011 01111110000000100000011000010 00100110000001100000000010011 11001110000011100000011000010 11010100000000100100000010000 11001000000001100000011000011 11010000000001100000000011000 00001000000001100000000000000 11010000000001100000000000000 00001000000001000000000000000\n",
      "flipped_qubit_dict {'Cluster_0': [], 'Cluster_1': [25], 'Cluster_2': [28], 'Cluster_3': [28], 'Cluster_4': [24, 23, 23, 24, 25, 29, 25, 27, 28, 27, 28, 28, 28, 29, 29, 29, 29, 29, 29], 'Cluster_5': [7], 'Cluster_6': [23], 'Cluster_7': [1], 'Cluster_8': [8], 'Cluster_9': [6], 'Cluster_10': [23, 4, 24, 1, 7, 0, 1, 2, 3, 0, 1, 1, 4, 5, 6, 0, 2, 3, 11, 12, 13, 14, 1, 2, 0, 2, 10, 15, 10, 16, 17, 11, 12, 13, 14, 16, 17, 13, 14, 13, 14, 15], 'Cluster_11': [1], 'Cluster_12': [6], 'Cluster_13': [], 'Cluster_14': [1], 'Cluster_15': [1], 'Cluster_16': [5], 'Cluster_17': [], 'Cluster_18': [1], 'Cluster_19': [6], 'Cluster_20': [], 'Cluster_21': [23, 24], 'Cluster_22': [], 'Cluster_23': [23, 23], 'Cluster_24': [], 'Cluster_25': [], 'Cluster_26': [28], 'Cluster_27': [1], 'Cluster_28': [], 'Cluster_29': [28], 'Cluster_30': [], 'Cluster_31': [9], 'Cluster_32': [28]}\n",
      "logical: [0] \n",
      "\n"
     ]
    },
    {
     "name": "stderr",
     "output_type": "stream",
     "text": [
      "  8%|▊         | 90/1111 [03:01<34:34,  2.03s/it]"
     ]
    },
    {
     "name": "stdout",
     "output_type": "stream",
     "text": [
      "\n",
      "meas_str: 010010001000110010010001010110 01110000000101011000000001101 11101001100001001011001110000 01110000000111111100000001101 11101101100001001111001111010 01110110010111111000000001110 11101101100001001111000110010 01110100000111011100001000110 11101101101101101011000110010 01110010000111011100001000110 11101100100001101111000110010 01110100000001011000001001011 11101011100001111011000110010 11001110000000101000001001001 01010011100001111111000011010 11011100000001101100001100001 01011011100001111011000011010 00100000010001100000000011010 11111001100001111111000011010 01100000000001101100000011000 01011010010001111000000011000 01100000000001100000000011000 00111000000001110000000000000 10100000000001101000000011000 00100000000001111000001011000 01100000000001101000001010000 11100000000001110000001011000 10100000000001101000001000000 10100000000001110000001000000 10000000000001001000001000000 00000000000000000000000000000\n",
      "flipped_qubit_dict {'Cluster_0': [], 'Cluster_1': [13], 'Cluster_2': [], 'Cluster_3': [], 'Cluster_4': [28], 'Cluster_5': [4, 4, 4], 'Cluster_6': [25], 'Cluster_7': [28], 'Cluster_8': [4], 'Cluster_9': [27, 29, 28, 29, 12, 13, 14, 29, 15, 27, 27, 28, 29, 26, 12, 13, 14, 29, 15, 16, 17, 18, 19, 28, 20, 28, 29, 23, 14, 16, 17, 18, 13, 17, 20, 23, 12, 13, 20, 21, 23, 24, 24, 29, 10, 11, 12, 13, 14, 20, 27, 15, 16, 11, 14, 15, 15, 16, 17, 18, 21, 21, 28, 23, 29, 24, 25, 29, 12, 20, 24, 25, 26, 26, 27, 29, 12, 13, 14, 15, 16, 17, 18, 19, 20], 'Cluster_10': [27], 'Cluster_11': [], 'Cluster_12': [1], 'Cluster_13': [4], 'Cluster_14': [6], 'Cluster_15': [], 'Cluster_16': [], 'Cluster_17': [], 'Cluster_18': [26], 'Cluster_19': [23, 23], 'Cluster_20': [], 'Cluster_21': [], 'Cluster_22': [0, 3, 0, 2, 3, 1, 1]}\n",
      "logical: [0] \n",
      "\n"
     ]
    },
    {
     "name": "stderr",
     "output_type": "stream",
     "text": [
      "  8%|▊         | 91/1111 [03:03<34:52,  2.05s/it]"
     ]
    },
    {
     "name": "stdout",
     "output_type": "stream",
     "text": [
      "\n",
      "meas_str: 101010001000011011100001001110 11110001000011101111001001000 01001001000001011101000100001 11110011000010101010001001000 01010001000000010101000100011 11110001000011101001001001011 01010011000000011101000100010 11010011000010101001001001011 10010011000001111101000100011 11010011000011101001000001010 11110011000001111101001100010 01010001000001001001000001010 11010001010001111101001100001 01010001000001101001000001011 11010001000001011101001100010 00010001000001101001000001010 10001001000001010101001100011 00001000000001000001000001011 10001000000001010101001100010 00001010000001101001000001011 11001000000001001001001101011 10001010000001101001000000010 11010010000001001000000000010 10010000010001100000000000111 00010000000001000000000000011 01000000000001100000000000110 01000000000011100000000000001 00011000000001100000001100000 11000000010001100000000000000 00011000000001100000000000000 00000000000001000000000000000\n",
      "flipped_qubit_dict {'Cluster_0': [25], 'Cluster_1': [28], 'Cluster_2': [6], 'Cluster_3': [1, 2], 'Cluster_4': [6], 'Cluster_5': [25], 'Cluster_6': [], 'Cluster_7': [], 'Cluster_8': [], 'Cluster_9': [28], 'Cluster_10': [28], 'Cluster_11': [], 'Cluster_12': [3], 'Cluster_13': [6], 'Cluster_14': [], 'Cluster_15': [], 'Cluster_16': [0, 0, 0, 0, 0, 0], 'Cluster_17': [1], 'Cluster_18': [], 'Cluster_19': [1], 'Cluster_20': [], 'Cluster_21': [], 'Cluster_22': [], 'Cluster_23': [], 'Cluster_24': [28, 29, 16, 12, 15, 22, 16, 17, 25, 22, 27, 23, 15, 13, 16, 17, 13, 18, 22, 23, 23, 24, 23, 16, 26, 17, 13, 18, 28, 29, 19, 20, 10, 11, 11, 29, 25, 13, 14, 14, 16, 14, 16, 18, 19, 21, 24, 26, 27, 10, 19, 11, 20, 22, 16, 27, 17, 15, 18, 19, 17, 20, 15, 21, 22, 20, 21, 23, 26, 13, 28, 29, 16, 28, 18, 29, 20, 21, 21, 22, 24, 16, 14, 15, 21, 16, 17, 17, 27, 19, 29, 27, 23, 24, 15, 25, 28, 29, 23, 24, 16, 27, 28, 29, 26, 29, 15, 16, 17, 17, 28, 27, 16, 17, 18, 19, 20, 21, 23, 24]}\n",
      "logical: [0] \n",
      "\n"
     ]
    },
    {
     "name": "stderr",
     "output_type": "stream",
     "text": [
      "  8%|▊         | 92/1111 [03:05<34:25,  2.03s/it]"
     ]
    },
    {
     "name": "stdout",
     "output_type": "stream",
     "text": [
      "\n",
      "meas_str: 110001100000000101010100101000 01101100010001111010100100010 01100110010001000101110011110 01101100010001111110100010011 11100100010001101010111001111 01101000010001111001100010010 11100100010001101110111001110 01101000010001111101100010011 11100100010001001010111001111 11100010010001011101100100010 01100110010001001010111001110 01100110010001111001101100011 11000100010001101110110111111 01100100010001011101111010010 11000000010001101010111111110 01000110010001011001111010111 01000010010011101110111110011 01000100010001011101100100001 01100100010011100010111000010 01100010010001011001100100001 01000110010011101110111000010 11100000010001011101100110011 11000110010001101010110000000 01000010010001011000100110000 11100000010001101100110000000 11000000000001011100100110000 11100000000001111100110000000 11000010000001001000000110000 11100000000001111100000000000 11000000000011001100000110000 01000000000001001000000000000\n",
      "flipped_qubit_dict {'Cluster_0': [], 'Cluster_1': [23], 'Cluster_2': [], 'Cluster_3': [], 'Cluster_4': [1], 'Cluster_5': [], 'Cluster_6': [], 'Cluster_7': [6, 5], 'Cluster_8': [], 'Cluster_9': [28, 29, 27, 29, 28, 28, 29, 29, 27, 28, 29, 28, 29, 27, 27, 28, 29, 27, 28, 29, 28, 27, 28, 29], 'Cluster_10': [23], 'Cluster_11': [1], 'Cluster_12': [5], 'Cluster_13': [23], 'Cluster_14': [3], 'Cluster_15': [5], 'Cluster_16': [7], 'Cluster_17': [], 'Cluster_18': [], 'Cluster_19': [], 'Cluster_20': [23], 'Cluster_21': [], 'Cluster_22': [7], 'Cluster_23': [5], 'Cluster_24': [1, 2, 3, 4, 7, 8, 9, 11, 13, 14, 0, 2, 3, 4, 6, 7, 5, 8, 9, 10, 11, 2, 3, 4, 5, 6, 7, 8, 8, 9, 0, 0, 10, 0, 10, 1, 11, 2, 3, 4, 5, 6, 7, 8, 9, 11, 12, 13], 'Cluster_25': [], 'Cluster_26': [5], 'Cluster_27': [], 'Cluster_28': [], 'Cluster_29': [5], 'Cluster_30': [23, 24, 23], 'Cluster_31': [23]}\n",
      "logical: [0] \n",
      "\n"
     ]
    },
    {
     "name": "stderr",
     "output_type": "stream",
     "text": [
      "  8%|▊         | 93/1111 [03:07<34:06,  2.01s/it]"
     ]
    },
    {
     "name": "stdout",
     "output_type": "stream",
     "text": [
      "\n",
      "meas_str: 110101000010011001010010000000 11101001011011111101111110000 11100001000001111010100110000 11101111011011110101111110000 11100101000000111010100101000 11101001011001111101111000000 11111101000001111010100101000 11101111011001111101111000000 11100101000001111110100101000 01101111011001110001111000000 11000011001101011110100101000 01011110011001111101111011000 11101110001101011010100101000 11011100011001011001111011000 11000000001101111110000110000 11011000010101111001000101000 11000000011101111110000110000 01011000001001101101000110000 11100000000001001010000110000 01111010011001001001000110000 00100010010001001010000110000 11111010001001101101000000000 11100010010001101100000010001 11111000001001101000000100000 00000000010001101100000010000 00011000001001100000010010000 00000000010001100000000010000 00011000001001100000000010000 11000000000001100000000000000 00011000011001100000000000000 00000000000001000000000000000\n",
      "flipped_qubit_dict {'Cluster_0': [], 'Cluster_1': [], 'Cluster_2': [19], 'Cluster_3': [25], 'Cluster_4': [28], 'Cluster_5': [], 'Cluster_6': [], 'Cluster_7': [28], 'Cluster_8': [5], 'Cluster_9': [], 'Cluster_10': [28], 'Cluster_11': [0, 0], 'Cluster_12': [], 'Cluster_13': [], 'Cluster_14': [], 'Cluster_15': [5], 'Cluster_16': [18, 18], 'Cluster_17': [], 'Cluster_18': [], 'Cluster_19': [4], 'Cluster_20': [], 'Cluster_21': [5], 'Cluster_22': [7], 'Cluster_23': [], 'Cluster_24': [12, 12, 13, 10, 11, 14, 11, 13, 14, 12], 'Cluster_25': [18], 'Cluster_26': [4], 'Cluster_27': [27, 25, 26, 29, 28, 27, 29, 28, 23, 29, 28, 26, 27, 28, 22, 28, 24, 24, 26, 29, 28, 29, 29, 24, 23, 24, 23, 24, 27, 25, 29, 22, 23, 24, 23, 25, 24], 'Cluster_28': [4], 'Cluster_29': [18], 'Cluster_30': [25], 'Cluster_31': [23], 'Cluster_32': [25], 'Cluster_33': [5], 'Cluster_34': [15, 12, 12, 16], 'Cluster_35': [4]}\n",
      "logical: [0] \n",
      "\n"
     ]
    },
    {
     "name": "stderr",
     "output_type": "stream",
     "text": [
      "  8%|▊         | 94/1111 [03:09<34:27,  2.03s/it]"
     ]
    },
    {
     "name": "stdout",
     "output_type": "stream",
     "text": [
      "\n",
      "meas_str: 111110111110001000110011111010 10101101011111101110010001110 10110001010111101011000001001 11101101011111101010010001110 01110011011011101011000001000 01101111011111101100000000010 11110101011011101011001001001 01101001011111001000000100011 01110101001011101111001100001 11101110101011101000000101010 11110101011011101011001101001 01101110111011001000000100010 01110101001011101111001101001 10101010111011001100000100010 01110111000011001011000001000 01101100110011001000001001011 11110111000011001111000001001 11101100110011001100001000011 01100111000011101011000111001 01100010110011101000000000001 01100101000011100111000011001 11100010110011101100000000001 01100100000001101011000011001 11100110110001101000000001001 11100000000001001111000010001 11100110110001101100000001001 01100000000001001011001100000 01100110110001001000000000000 01000010000001001100001100000 00000010000001100100000000000 00000000000001101000000000000\n",
      "flipped_qubit_dict {'Cluster_0': [10, 12, 13, 13, 14, 14, 12], 'Cluster_1': [23], 'Cluster_2': [6], 'Cluster_3': [], 'Cluster_4': [20], 'Cluster_5': [], 'Cluster_6': [], 'Cluster_7': [4], 'Cluster_8': [], 'Cluster_9': [6], 'Cluster_10': [], 'Cluster_11': [], 'Cluster_12': [], 'Cluster_13': [23, 29, 24, 25, 29, 23, 24, 29, 25, 26, 29, 28, 29, 29, 29, 24, 25, 29, 25, 26, 26, 27, 28, 29, 28, 28, 29, 29, 28, 29, 29, 29, 29, 29, 23, 24, 29], 'Cluster_14': [12], 'Cluster_15': [], 'Cluster_16': [6], 'Cluster_17': [12], 'Cluster_18': [], 'Cluster_19': [], 'Cluster_20': [22, 23], 'Cluster_21': [25], 'Cluster_22': [5], 'Cluster_23': [], 'Cluster_24': [], 'Cluster_25': [], 'Cluster_26': [23], 'Cluster_27': [23], 'Cluster_28': [18, 19, 21], 'Cluster_29': [], 'Cluster_30': [2, 1, 3, 2, 0, 3, 6, 0, 0, 0, 1, 0, 1, 6, 0], 'Cluster_31': [], 'Cluster_32': [23], 'Cluster_33': [], 'Cluster_34': [], 'Cluster_35': [12, 12, 11], 'Cluster_36': [23], 'Cluster_37': [7], 'Cluster_38': [3], 'Cluster_39': [18], 'Cluster_40': [15]}\n",
      "logical: [0] \n",
      "\n"
     ]
    },
    {
     "name": "stderr",
     "output_type": "stream",
     "text": [
      "  9%|▊         | 95/1111 [03:11<34:20,  2.03s/it]"
     ]
    },
    {
     "name": "stdout",
     "output_type": "stream",
     "text": [
      "\n",
      "meas_str: 101010101111110100010000010010 11000010001111000100000111001 01111101000101110111000100010 01000000000101000100000111001 11111111000101110111001100001 01000100000101000100001111001 11100101000111110111001100001 00000100000111000100001111001 11100011000111110100001100000 00100100000111000100001111000 10100101010111010100001010000 01100100001111100100001111000 10100001000011010100001010000 01100110001111000100001111000 00000111000011100100001010000 10000100010111000100001111000 11000010100011100100000001000 10000100010111000100001011000 00000010100011100100000100000 01000110010111000000001011000 00000110010011100110001100000 00000110010111000000000000000 11000010010011100000001100000 10000010010001000000000000000 11000000010011100000001100000 00000000010000000000000001000 11000000010011100000000010000 11000000010001100000000000000 00000000000010100000000011000 01000000000001100000000011000 00000000010011100000000001000\n",
      "flipped_qubit_dict {'Cluster_0': [], 'Cluster_1': [16], 'Cluster_2': [], 'Cluster_3': [], 'Cluster_4': [], 'Cluster_5': [28], 'Cluster_6': [4, 4, 6], 'Cluster_7': [15, 17], 'Cluster_8': [], 'Cluster_9': [29, 29, 29, 29, 28, 29, 29, 29], 'Cluster_10': [], 'Cluster_11': [], 'Cluster_12': [11], 'Cluster_13': [], 'Cluster_14': [4], 'Cluster_15': [], 'Cluster_16': [11], 'Cluster_17': [20], 'Cluster_18': [23], 'Cluster_19': [28], 'Cluster_20': [4, 6, 5], 'Cluster_21': [28], 'Cluster_22': [4], 'Cluster_23': [23, 22, 23, 21, 22], 'Cluster_24': [], 'Cluster_25': [19], 'Cluster_26': [], 'Cluster_27': [14, 18, 19, 19, 15], 'Cluster_28': [23], 'Cluster_29': [], 'Cluster_30': [5], 'Cluster_31': [23], 'Cluster_32': [], 'Cluster_33': [10], 'Cluster_34': [23], 'Cluster_35': [27], 'Cluster_36': [23], 'Cluster_37': [25], 'Cluster_38': [], 'Cluster_39': [1], 'Cluster_40': []}\n",
      "logical: [0] \n",
      "\n"
     ]
    },
    {
     "name": "stderr",
     "output_type": "stream",
     "text": [
      "  9%|▊         | 96/1111 [03:13<34:18,  2.03s/it]"
     ]
    },
    {
     "name": "stdout",
     "output_type": "stream",
     "text": [
      "\n",
      "meas_str: 110010000000010001110010011110 01100010010101101000011010011 01111010010111101101010001111 11110000010101101100001010111 11101100011111101001011101110 01110100010110101000000101111 01101010001101101101011101111 11110010010111101100000101111 01101010000101100101011100110 01110010000111101010000100111 11101010000101101111011100111 11110000000111101010000100101 11101000000101101111011100000 01110000000111101010000101111 11001000001101101111011101001 11110000000111101010000101111 01101000001101100111010101000 01010000000111101110000100101 11101000000101101111000101011 11010000000111100110000100101 01000000000101101111000101011 01100010000101001010000100101 11000010000101100011001001011 11000100000101001100000100100 01000010000101100011001001011 01000100000101000000000000100 01000000000101100000001101011 01000000000100000000000000000 01000000000101100000001100000 01000000000100100000000000000 01000000000100000000000000000\n",
      "flipped_qubit_dict {'Cluster_0': [], 'Cluster_1': [6], 'Cluster_2': [1, 3], 'Cluster_3': [], 'Cluster_4': [23], 'Cluster_5': [0, 0], 'Cluster_6': [11], 'Cluster_7': [23], 'Cluster_8': [6], 'Cluster_9': [12], 'Cluster_10': [12], 'Cluster_11': [], 'Cluster_12': [], 'Cluster_13': [1, 2, 3], 'Cluster_14': [12], 'Cluster_15': [7], 'Cluster_16': [], 'Cluster_17': [], 'Cluster_18': [2], 'Cluster_19': [], 'Cluster_20': [1, 1], 'Cluster_21': [], 'Cluster_22': [], 'Cluster_23': [4], 'Cluster_24': [6], 'Cluster_25': [6], 'Cluster_26': [27, 29, 28, 29, 18, 29, 19, 29, 11, 13, 20, 29, 11, 14, 20, 10, 21, 11, 15, 12, 13, 15, 19, 29, 11, 12, 21, 13, 13, 22, 29, 16, 12, 12, 13, 14, 14, 17, 18, 29, 19, 20, 21, 22, 22, 23, 29, 12, 13, 14, 29, 15, 17, 18, 19, 20, 21, 22, 23, 24, 27, 29, 29, 12, 23, 13, 14, 15, 26, 16, 28, 17, 18, 15, 23, 24, 23, 25, 29, 29, 16, 12, 24, 13, 14, 15, 27, 16, 28, 17, 18, 19, 20, 21, 25, 22, 17, 24, 29, 12, 26, 16, 17, 18, 19, 20, 21, 27, 22, 23, 25, 26, 26, 28, 29, 28, 29], 'Cluster_27': [], 'Cluster_28': [1, 3, 2]}\n",
      "logical: [0] \n",
      "\n"
     ]
    },
    {
     "name": "stderr",
     "output_type": "stream",
     "text": [
      "  9%|▊         | 97/1111 [03:16<34:27,  2.04s/it]"
     ]
    },
    {
     "name": "stdout",
     "output_type": "stream",
     "text": [
      "\n",
      "meas_str: 111011110010101001000100101000 01000100111011101010110000000 01110111100101001110000111000 11000000111011101110101000100 11010101100101000110011111000 01010010111011101010101000100 01100111100101001100011111000 11010100111011101011101101100 11100001101101001101011111000 01010110111111101011101111100 01100001100001001011011000000 11001110100011001101101111100 11100001100011001011010000010 01001100000011001001100001100 01001011000011101011110000000 11001001000011001101000001100 11101010000011101111110000000 11001011000011001001000000100 01101000000001101011110000100 11101001000001000101000000100 01101010000001101111110000000 01101001000001001001000000000 10101010000001101011110000000 10101000000001101101000000000 01101000000001100010110000000 00101000000001101100000000000 01100000000001101000110000000 01100010000001100000000000000 01100000000001001100110000000 11100000000001001000000000000 01100000000001001000000000000\n",
      "flipped_qubit_dict {'Cluster_0': [], 'Cluster_1': [], 'Cluster_2': [27], 'Cluster_3': [28], 'Cluster_4': [8], 'Cluster_5': [12], 'Cluster_6': [], 'Cluster_7': [27, 28], 'Cluster_8': [], 'Cluster_9': [], 'Cluster_10': [28, 29, 27, 29, 29, 28, 29, 29, 28], 'Cluster_11': [12, 13, 11, 14], 'Cluster_12': [22], 'Cluster_13': [], 'Cluster_14': [], 'Cluster_15': [], 'Cluster_16': [12], 'Cluster_17': [], 'Cluster_18': [3], 'Cluster_19': [], 'Cluster_20': [], 'Cluster_21': [], 'Cluster_22': [24], 'Cluster_23': [], 'Cluster_24': [], 'Cluster_25': [], 'Cluster_26': [], 'Cluster_27': [5], 'Cluster_28': [], 'Cluster_29': [11, 23, 9, 10, 19, 11, 13, 23, 9, 10, 11, 14, 15, 23, 17], 'Cluster_30': [], 'Cluster_31': [], 'Cluster_32': [25], 'Cluster_33': [4, 5], 'Cluster_34': [], 'Cluster_35': [], 'Cluster_36': [4, 5], 'Cluster_37': [26], 'Cluster_38': [], 'Cluster_39': [26], 'Cluster_40': [7], 'Cluster_41': [], 'Cluster_42': [], 'Cluster_43': [7]}\n",
      "logical: [0] \n",
      "\n"
     ]
    },
    {
     "name": "stderr",
     "output_type": "stream",
     "text": [
      "  9%|▉         | 98/1111 [03:18<34:05,  2.02s/it]"
     ]
    },
    {
     "name": "stdout",
     "output_type": "stream",
     "text": [
      "\n",
      "meas_str: 010010011000110001101011101010 01100000100111101001000001010 11111010000011001010110010101 11100111000111000001100001101 01111010000111001010010010001 01100111000001001001100000001 01111100000111100010010100001 01100111000001001001100001011 01111010000111101010010110000 01100101000001001001100001011 01111110000110101010011010001 01100101000001101100000011010 01111000000111001110011000010 01100101000001101100000011010 11111100000111001110010100010 11100110000001100100000010000 01111000000111001010010101000 11000110000001101100000010000 01100110000001001010010101000 11000010000001101100000010000 11100010010001001010010101000 01000010010001101100000010000 11000000000000001010010101000 01000000000001100100000010000 01000000000001100010010101000 01000000000001100100000010000 01000000000000101100010110000 01000000000000101100000101000 01000000000001000000010001000 01000000000001001100000101000 01000000000000000000000000000\n",
      "flipped_qubit_dict {'Cluster_0': [], 'Cluster_1': [], 'Cluster_2': [], 'Cluster_3': [6, 7], 'Cluster_4': [], 'Cluster_5': [5], 'Cluster_6': [5], 'Cluster_7': [4], 'Cluster_8': [], 'Cluster_9': [12, 12, 17, 13, 15, 14, 15, 11, 12], 'Cluster_10': [29, 29, 29, 27, 29, 28, 29, 28, 29], 'Cluster_11': [], 'Cluster_12': [], 'Cluster_13': [], 'Cluster_14': [23, 27, 25, 28, 27, 28, 28, 22, 27], 'Cluster_15': [6], 'Cluster_16': [1], 'Cluster_17': [], 'Cluster_18': [], 'Cluster_19': [23], 'Cluster_20': [], 'Cluster_21': [9], 'Cluster_22': [6], 'Cluster_23': [1], 'Cluster_24': [23, 23], 'Cluster_25': [23], 'Cluster_26': [4, 1, 3, 5], 'Cluster_27': [13, 14, 13, 15, 15, 17, 13, 16, 17], 'Cluster_28': [], 'Cluster_29': [21], 'Cluster_30': [23]}\n",
      "logical: [0] \n",
      "\n"
     ]
    },
    {
     "name": "stderr",
     "output_type": "stream",
     "text": [
      "  9%|▉         | 99/1111 [03:20<33:58,  2.01s/it]"
     ]
    },
    {
     "name": "stdout",
     "output_type": "stream",
     "text": [
      "\n",
      "meas_str: 101010111110001000111101001000 01010100111011001001111110111 11101000110001101101100011010 11010100111011001001111110110 01001000111001100101100111010 11010100110011001001111100101 01101110111001101101100101010 11010010110011001001111011101 01101110111001101100000101001 11010110110011001001111011111 00110010111001101100000110010 11000110111111001101111010100 01110110110101101100000000010 11100010111111001101110110100 01110100010101001000000000110 10000010011111001101000110000 10110110010101000000000110110 10100010000111000001000000000 10010100010101001000000110110 11100010000111001001000000000 01010101010101100110000110110 10101110010111101101000110000 01010011010101101110001100110 10101110010110100101000110000 11010001010001101010001101010 10101010010011101101000011100 11010111010001100010001010000 10001110010011100000000001100 01011001000001100000001010000 00000010000011100000000000110 01000000000001100000000000000\n",
      "flipped_qubit_dict {'Cluster_0': [5, 6], 'Cluster_1': [22, 22, 24, 24, 25, 26, 15, 29, 15, 16, 16, 23, 17, 24, 18, 29, 20, 21, 22, 23, 24, 25, 26, 27, 28, 29, 29, 20, 21, 22, 23, 19, 26, 27, 27, 28, 29, 23, 28, 23, 27, 29, 28, 28, 28, 29, 20, 21, 24], 'Cluster_2': [2, 3, 3], 'Cluster_3': [22, 11, 12, 10, 12, 17, 18, 19, 13, 13, 21, 14, 14, 19, 15, 20, 21, 21, 19, 16, 20, 21], 'Cluster_4': [6], 'Cluster_5': [24], 'Cluster_6': [28], 'Cluster_7': [], 'Cluster_8': [], 'Cluster_9': [5], 'Cluster_10': [19], 'Cluster_11': [5], 'Cluster_12': [28], 'Cluster_13': [], 'Cluster_14': [8], 'Cluster_15': [27], 'Cluster_16': [6], 'Cluster_17': [27], 'Cluster_18': [5], 'Cluster_19': [18], 'Cluster_20': [], 'Cluster_21': [], 'Cluster_22': [18], 'Cluster_23': [2, 3, 4], 'Cluster_24': [], 'Cluster_25': [25], 'Cluster_26': [26, 27], 'Cluster_27': [1], 'Cluster_28': [9], 'Cluster_29': [4, 5], 'Cluster_30': [23], 'Cluster_31': [23], 'Cluster_32': [1], 'Cluster_33': [5], 'Cluster_34': [], 'Cluster_35': [], 'Cluster_36': [], 'Cluster_37': [16]}\n",
      "logical: [0] \n",
      "\n"
     ]
    },
    {
     "name": "stderr",
     "output_type": "stream",
     "text": [
      "  9%|▉         | 100/1111 [03:21<33:44,  2.00s/it]"
     ]
    },
    {
     "name": "stdout",
     "output_type": "stream",
     "text": [
      "\n",
      "meas_str: 101011100000000010100001110100 11011100001001010110010101100 01101100001001001000011100010 11011000000101010010010101100 11101100001011001100011101000 11011110000111011110010100110 11101110001011011100011101000 01011100001011001000010100111 11101000001011011000000101010 01111100001001001100010100111 11000010001001011100000101010 01111100001001000000010101101 11001010001001011100000101001 01111110001001001100010100101 01001010001001111000000100001 01011110001001001000010100011 01101110001001111101000101010 01010110001001001101010101011 01101110001001111001000100110 01001110001001000001010111000 01101110001001001000000011000 01000000011001011000010111000 01100110010101101000000011000 01000000001001011000010111000 11100110000101101000000011000 01001000001001011000010101000 11100010000101000000000001010 01001000001001000000000101010 11100000000001000100000001000 00001010000001000000001100000 00000000000001000000000000000\n",
      "flipped_qubit_dict {'Cluster_0': [], 'Cluster_1': [6], 'Cluster_2': [23, 24], 'Cluster_3': [], 'Cluster_4': [28, 27], 'Cluster_5': [], 'Cluster_6': [], 'Cluster_7': [18], 'Cluster_8': [], 'Cluster_9': [7], 'Cluster_10': [], 'Cluster_11': [14], 'Cluster_12': [], 'Cluster_13': [24], 'Cluster_14': [], 'Cluster_15': [29, 29, 29, 25, 24, 25, 26, 28, 29, 27, 26, 28, 27, 23, 28, 29, 24, 25, 25, 26, 23, 24, 25, 25, 26], 'Cluster_16': [12, 13, 13, 12], 'Cluster_17': [18], 'Cluster_18': [], 'Cluster_19': [], 'Cluster_20': [23], 'Cluster_21': [5, 1, 2, 4], 'Cluster_22': [25], 'Cluster_23': [3], 'Cluster_24': [], 'Cluster_25': [], 'Cluster_26': [], 'Cluster_27': [1], 'Cluster_28': [2], 'Cluster_29': [], 'Cluster_30': [1, 2, 3], 'Cluster_31': [12, 11, 13, 14], 'Cluster_32': [], 'Cluster_33': [0, 0, 1], 'Cluster_34': [7], 'Cluster_35': [23], 'Cluster_36': [], 'Cluster_37': [18], 'Cluster_38': [], 'Cluster_39': [], 'Cluster_40': [], 'Cluster_41': [12], 'Cluster_42': [], 'Cluster_43': [23], 'Cluster_44': [], 'Cluster_45': [18], 'Cluster_46': [23]}\n",
      "logical: [0] \n",
      "\n"
     ]
    },
    {
     "name": "stderr",
     "output_type": "stream",
     "text": [
      "  9%|▉         | 101/1111 [03:23<33:44,  2.00s/it]"
     ]
    },
    {
     "name": "stdout",
     "output_type": "stream",
     "text": [
      "\n",
      "meas_str: 101001000000001100010010100110 11100010001001111101000010110 11101110001001101110011100011 11101110001001101001000010111 01100100001001101010011101011 11101000001001101101000011110 01100100001001100110011101010 11100000001001101001000011101 01001110001101101010001111010 11000010011101100101000101101 01001110011101101010001111111 11001100011101101001000111011 01001000011101101110001111111 11001110011101001101000010011 01001000010001101010000011110 11001100011101001001000010010 11001010010001101110000010110 11001100011101001101000011010 01000110010011101010001111110 11001100011101001001000111010 01000000010001001010001000100 11001100011101001001000111010 01001000010001001010001110100 10001100011101001101000001000 00001100011101001110001100100 00001000011101001100000000000 00001000001101001000000001100 01001000001001001000001100000 01000100001001001000000001100 01001110001111001000001100000 01000000001001001000000000000\n",
      "flipped_qubit_dict {'Cluster_0': [], 'Cluster_1': [16, 16, 17, 18, 18], 'Cluster_2': [], 'Cluster_3': [6], 'Cluster_4': [23, 24], 'Cluster_5': [3], 'Cluster_6': [17], 'Cluster_7': [23], 'Cluster_8': [], 'Cluster_9': [24], 'Cluster_10': [], 'Cluster_11': [], 'Cluster_12': [24], 'Cluster_13': [18], 'Cluster_14': [], 'Cluster_15': [23], 'Cluster_16': [12, 6, 13, 11, 14, 0, 1, 2, 3, 6, 7, 8, 9, 10, 11, 6, 10, 11, 0, 1, 0, 2, 1, 3, 4, 3, 4, 9, 10, 11, 0, 1, 12, 5, 9, 10, 11, 1, 2, 5, 5, 2, 3, 5, 5, 6, 7, 15, 16, 0, 1, 3, 4, 5, 0, 2, 3, 6, 13, 14, 15, 16, 3, 4, 5, 7, 8, 9, 10, 11, 12, 18], 'Cluster_17': [24], 'Cluster_18': [], 'Cluster_19': [], 'Cluster_20': [], 'Cluster_21': [23], 'Cluster_22': [], 'Cluster_23': [24], 'Cluster_24': [], 'Cluster_25': [12], 'Cluster_26': [], 'Cluster_27': [], 'Cluster_28': [12], 'Cluster_29': [], 'Cluster_30': [1], 'Cluster_31': [12], 'Cluster_32': [], 'Cluster_33': [], 'Cluster_34': [], 'Cluster_35': [], 'Cluster_36': [], 'Cluster_37': [14, 15], 'Cluster_38': [29, 29, 24, 29, 24, 27]}\n",
      "logical: [0] \n",
      "\n"
     ]
    },
    {
     "name": "stderr",
     "output_type": "stream",
     "text": [
      "  9%|▉         | 102/1111 [03:26<34:04,  2.03s/it]"
     ]
    },
    {
     "name": "stdout",
     "output_type": "stream",
     "text": [
      "\n",
      "meas_str: 011111010001011010010100101000 01100100001101111000000000100 11100011000011100011101111100 11100100001100111100001110000 11100101000010101011001111100 01000010001100111000001110000 11000111001110111110001111100 01001000000001101000001000000 11001111001111110110001111100 11001100011100100000111110000 11101011000111111011011111100 01001100011100101000011000000 01101101000110110111100101100 00001100011101100100001000000 01101101001011111011110101100 00000010010010001100001000000 00101111001000001011101101100 10000100010100001110000000000 11001001001100000001011101100 11000110001000000010110000000 01001001011100000001000001100 01000100001000000000011100000 11011011011100000000010001100 11001000001000000000000000000 10110011001100000000000001100 11000000001000000000110001000 01110011000000000000110000100 01000000000000000000000000000 11000001010000000000100000000 11000010000000000000000000000 00000001010000000000000000000\n",
      "flipped_qubit_dict {'Cluster_0': [3], 'Cluster_1': [], 'Cluster_2': [28], 'Cluster_3': [27], 'Cluster_4': [], 'Cluster_5': [8], 'Cluster_6': [], 'Cluster_7': [6, 7], 'Cluster_8': [18], 'Cluster_9': [24], 'Cluster_10': [12], 'Cluster_11': [23], 'Cluster_12': [29, 28, 29, 29, 29, 28, 29, 28, 29, 29, 28, 27, 28, 28, 29, 28, 29, 28, 29, 27], 'Cluster_13': [], 'Cluster_14': [8, 11, 12, 13, 14, 15, 15, 18, 12, 13, 20, 14, 22, 7, 8, 11, 12, 14, 9, 15, 10, 16, 11, 12, 18, 3, 4, 7, 6, 12, 13, 16, 14, 3, 4, 5, 8, 6, 8, 16, 9, 18, 10, 19, 11, 18, 12, 13, 26, 14, 18, 5, 6, 19, 5, 13, 13, 20, 21, 23, 24, 9, 12, 21, 22, 23, 24, 7, 8, 5, 23, 9, 13, 14, 25, 11, 12, 13, 14, 13, 14, 8, 12, 14, 18, 10, 11, 22, 14], 'Cluster_15': [], 'Cluster_16': [5], 'Cluster_17': [], 'Cluster_18': [23], 'Cluster_19': [23]}\n",
      "logical: [0] \n",
      "\n"
     ]
    },
    {
     "name": "stderr",
     "output_type": "stream",
     "text": [
      "  9%|▉         | 103/1111 [03:28<34:00,  2.02s/it]"
     ]
    },
    {
     "name": "stdout",
     "output_type": "stream",
     "text": [
      "\n",
      "meas_str: 100000011001000001110000011100 01111100101001101001011111010 11111110100101100010011101010 11111100001001100101011111000 01101000100101100010011101010 01100100001001101101011111000 01100100100101101111011101010 01101010001001101100000111000 11100110100101101011011011010 11101100001001100000000111000 11101000100001101011011011100 11101101011001101000000100000 10101001111001100011011011100 11101101011001001000000111000 00101001111001100111011010110 11101101011101001000001111000 11101101110001101111001011000 11101001011101001000001111000 11101101110000101111001010000 11101110011100100000001110000 01101101010000101111001110000 11101000011100100000000010000 00101101001100100011000010000 10100110001100100000000010000 10100011000000100000000010000 01100110000000000000000010000 11100011000000000000000001000 01100110000000001000000010000 01000101000000000000000001000 01000010000000000000000011000 00000001000000000100000000000\n",
      "flipped_qubit_dict {'Cluster_0': [22], 'Cluster_1': [4], 'Cluster_2': [], 'Cluster_3': [], 'Cluster_4': [], 'Cluster_5': [], 'Cluster_6': [23], 'Cluster_7': [29, 29, 29, 29, 29, 29, 28, 29, 28], 'Cluster_8': [], 'Cluster_9': [], 'Cluster_10': [], 'Cluster_11': [10], 'Cluster_12': [], 'Cluster_13': [24], 'Cluster_14': [24], 'Cluster_15': [0, 1, 2, 3, 5, 0, 1, 3, 2, 3, 4], 'Cluster_16': [12], 'Cluster_17': [18], 'Cluster_18': [23], 'Cluster_19': [21], 'Cluster_20': [13, 14], 'Cluster_21': [23], 'Cluster_22': [], 'Cluster_23': [7], 'Cluster_24': [28, 28], 'Cluster_25': [4], 'Cluster_26': [2], 'Cluster_27': [], 'Cluster_28': [5], 'Cluster_29': [20, 21, 22, 23, 24, 23, 13, 12, 10, 11, 12, 14, 23, 24, 11, 12, 12, 16, 17, 19, 23, 20, 21, 12, 16, 23, 19, 17, 7, 22, 10, 11, 12], 'Cluster_30': [], 'Cluster_31': []}\n",
      "logical: [0] \n",
      "\n"
     ]
    },
    {
     "name": "stderr",
     "output_type": "stream",
     "text": [
      "  9%|▉         | 104/1111 [03:30<33:29,  2.00s/it]"
     ]
    },
    {
     "name": "stdout",
     "output_type": "stream",
     "text": [
      "\n",
      "meas_str: 001001100001100010100101010010 00100001001101101110001001010 01101011000011111000110110001 00100101001011101110001111010 00100111001111111000110110001 00100011001001101110001111010 01100111000011111000110110001 11100001001001101100001111010 01100111000011110110110000001 00111001000101101000001100010 00100101000111111110110000001 11111101000001100000001100010 01101101000111110110000000000 00101001000001100100001100000 01010001000111111110000000000 01001001000001101100001100000 11010011000111111110000000000 01001011000001101000001100000 11110001000111111010000000000 01001001000001101000001100000 11110010000111101100000000000 01001001000001110000001100000 11110001000001011100000000000 01001001000001010000000000000 11110001000001010100000000000 01001011000001010000000000000 01010001000001001100000000000 01001000000001000000001100000 01010000000001000000000000000 11001000000000000000001100000 01000000000000000000000000000\n",
      "flipped_qubit_dict {'Cluster_0': [], 'Cluster_1': [6], 'Cluster_2': [25], 'Cluster_3': [], 'Cluster_4': [6], 'Cluster_5': [], 'Cluster_6': [27, 28], 'Cluster_7': [6], 'Cluster_8': [22], 'Cluster_9': [13, 17, 12, 11], 'Cluster_10': [22], 'Cluster_11': [], 'Cluster_12': [], 'Cluster_13': [], 'Cluster_14': [], 'Cluster_15': [27, 28, 29, 27, 26, 26, 27, 28, 28, 29], 'Cluster_16': [24], 'Cluster_17': [0, 0, 1], 'Cluster_18': [24], 'Cluster_19': [28], 'Cluster_20': [], 'Cluster_21': [], 'Cluster_22': [23], 'Cluster_23': [4], 'Cluster_24': [18], 'Cluster_25': [25], 'Cluster_26': [28], 'Cluster_27': [5], 'Cluster_28': [11, 8, 12, 11], 'Cluster_29': [], 'Cluster_30': [18], 'Cluster_31': [27, 24], 'Cluster_32': [5], 'Cluster_33': [18]}\n",
      "logical: [0] \n",
      "\n"
     ]
    },
    {
     "name": "stderr",
     "output_type": "stream",
     "text": [
      "  9%|▉         | 105/1111 [03:32<34:26,  2.05s/it]"
     ]
    },
    {
     "name": "stdout",
     "output_type": "stream",
     "text": [
      "\n",
      "meas_str: 100011101000101010101000000010 10100010000111011001001110011 00110001100000111110101110000 11111010000111011101001000011 01110000010000111110101110000 10111010000111011001001011011 11110110010000111011100010000 00111001100001010001000111011 11110100000000111010000100000 10011111100001011001000011011 10110000000000110010001100000 10011100000001010011000011011 00111000010001011011001110000 11011100010000010011000100011 01111100010001111011001111001 11101100010001111011000011010 00011000010000010111001100001 11101110010000110111000011010 01110110010001001011001100010 11001010010001111011000011010 11100100010001001101001111010 11000000010001111101000011010 11100110010001001001001100001 10000000000001111000000011010 11100110000001001100001100001 10000000010001001100000011010 00100010000001001000001100001 00000100000001001000000011010 11100010000001001100001111001 11000100000000001000000000010 00000100000000000000000000001\n",
      "flipped_qubit_dict {'Cluster_0': [1], 'Cluster_1': [], 'Cluster_2': [12, 12], 'Cluster_3': [28], 'Cluster_4': [4], 'Cluster_5': [6], 'Cluster_6': [], 'Cluster_7': [23], 'Cluster_8': [27], 'Cluster_9': [], 'Cluster_10': [4], 'Cluster_11': [], 'Cluster_12': [4], 'Cluster_13': [], 'Cluster_14': [], 'Cluster_15': [28], 'Cluster_16': [], 'Cluster_17': [14], 'Cluster_18': [], 'Cluster_19': [], 'Cluster_20': [], 'Cluster_21': [1], 'Cluster_22': [4], 'Cluster_23': [11], 'Cluster_24': [4], 'Cluster_25': [11], 'Cluster_26': [26, 23, 23, 29, 24, 27, 27, 25, 28, 29, 23, 24, 25, 26, 25, 28, 29], 'Cluster_27': [], 'Cluster_28': [1], 'Cluster_29': [], 'Cluster_30': [], 'Cluster_31': [], 'Cluster_32': [], 'Cluster_33': [4, 4, 5, 5], 'Cluster_34': [26, 27, 24, 28, 24, 27, 25, 26], 'Cluster_35': [], 'Cluster_36': [15], 'Cluster_37': [15], 'Cluster_38': [24], 'Cluster_39': [4], 'Cluster_40': [26, 27, 13, 14, 15, 13, 15, 14, 15, 15, 16, 17, 18, 19, 20, 10, 20, 21, 22, 22, 23, 6, 7, 7, 23, 28, 6, 7, 8, 10, 27, 5, 7, 8, 9, 10, 11, 12, 15, 16, 18, 19, 23, 28, 6, 10, 13, 14, 25, 26, 27, 28, 12], 'Cluster_41': [5]}\n",
      "logical: [0] \n",
      "\n"
     ]
    },
    {
     "name": "stderr",
     "output_type": "stream",
     "text": [
      " 10%|▉         | 106/1111 [03:34<34:11,  2.04s/it]"
     ]
    },
    {
     "name": "stdout",
     "output_type": "stream",
     "text": [
      "\n",
      "meas_str: 111101101010111001111010001110 01110101011100101010000001001 01101110110010001010111000000 01110111001000101110000010001 01100000100000001110111000011 10101001011011101010000010010 10111110100011001010111010111 00101101010011001110000000101 10100010101111101111010000100 11101000000001001010000000101 10100011100001101011010000100 11101010100001001110000000101 01100001010101101111010000100 01010110100101001010000000101 11100011000001100011010000101 01110110100111001010000000000 11100011000101101011010111011 01110100100001001010000110000 11100111000001101011000001011 11110110100111001010001000011 00100001000011101011000001100 10110010100111001010001000111 00100011000011101011000010111 10110000100001001010001000111 01100001100101101011001110100 11110010000111001010001101111 01100001100001000011000010111 00110000000010000110000001010 00100001100100000011000001100 01100000000110000000001101000 00100000000110000000000000000\n",
      "flipped_qubit_dict {'Cluster_0': [17, 18, 19, 19, 20, 10, 18, 13, 19, 20, 21, 14, 15, 16, 11, 18, 19, 20, 17, 18, 17, 16, 20, 21, 12, 19, 23, 16, 21, 22, 19, 20, 13, 21, 14, 22, 22, 20, 23, 21, 22, 17, 13, 14, 15, 16, 14, 15, 16, 13], 'Cluster_1': [26, 27, 28], 'Cluster_2': [6, 3, 4, 3, 6, 4, 1, 5, 6], 'Cluster_3': [], 'Cluster_4': [], 'Cluster_5': [], 'Cluster_6': [1], 'Cluster_7': [1, 0, 1, 2, 0, 2, 1], 'Cluster_8': [4], 'Cluster_9': [], 'Cluster_10': [], 'Cluster_11': [5], 'Cluster_12': [7], 'Cluster_13': [5], 'Cluster_14': [5], 'Cluster_15': [5, 2, 3], 'Cluster_16': [], 'Cluster_17': [22, 23, 23, 24, 24, 25, 24, 25, 26, 29, 23, 23, 25, 24, 27, 25, 29, 25, 26, 23, 24, 26, 27, 29, 24, 26, 28, 22], 'Cluster_18': [28], 'Cluster_19': [17], 'Cluster_20': [19], 'Cluster_21': [28], 'Cluster_22': [1], 'Cluster_23': [5, 6], 'Cluster_24': [9], 'Cluster_25': [1], 'Cluster_26': [], 'Cluster_27': [1], 'Cluster_28': [25], 'Cluster_29': [28], 'Cluster_30': [1], 'Cluster_31': [24], 'Cluster_32': [4]}\n",
      "logical: [0] \n",
      "\n"
     ]
    },
    {
     "name": "stderr",
     "output_type": "stream",
     "text": [
      " 10%|▉         | 107/1111 [03:36<34:09,  2.04s/it]"
     ]
    },
    {
     "name": "stdout",
     "output_type": "stream",
     "text": [
      "\n",
      "meas_str: 010100010000000101010101000000 10111011010101011111111100011 01101010010111101001000000011 00111001010111011110110000001 10101010010111101001000000011 00110101010111111010110000011 10100110010011001101000000001 00110011010101111110110000001 00100000010011001001000000011 11110011010111111010111100011 01000000010001001101000000001 10110011010111111110111100001 01000010010001001001000000011 10110001010111111010111100011 11010010010101001101000000001 11100001000001111110111100001 10001010000001001001000000011 00111101000001111010111100011 00001000100001001111000000001 00111101100001111100001100001 00001110100001001100000000000 00100101000001111100001100000 00001110000001001000000000000 11100011000001111000000000000 01101110000001001100000000000 11100010000001111100000000000 00001110000001001000000000000 11101100000001111000000000000 00000000000001001100000000001 00011000000011001100000000000 00000000000000001000000000000\n",
      "flipped_qubit_dict {'Cluster_0': [], 'Cluster_1': [], 'Cluster_2': [16], 'Cluster_3': [25], 'Cluster_4': [16], 'Cluster_5': [], 'Cluster_6': [14], 'Cluster_7': [28], 'Cluster_8': [], 'Cluster_9': [23, 23, 23, 23, 26, 22], 'Cluster_10': [], 'Cluster_11': [27], 'Cluster_12': [27], 'Cluster_13': [28], 'Cluster_14': [], 'Cluster_15': [25], 'Cluster_16': [23], 'Cluster_17': [11, 6, 10, 11, 10, 11, 10, 8, 11, 12], 'Cluster_18': [], 'Cluster_19': [], 'Cluster_20': [23], 'Cluster_21': [], 'Cluster_22': [25], 'Cluster_23': [], 'Cluster_24': [], 'Cluster_25': [], 'Cluster_26': [25], 'Cluster_27': [17], 'Cluster_28': [], 'Cluster_29': [28], 'Cluster_30': [], 'Cluster_31': [], 'Cluster_32': [], 'Cluster_33': [], 'Cluster_34': [], 'Cluster_35': [27], 'Cluster_36': [6], 'Cluster_37': [], 'Cluster_38': [], 'Cluster_39': [23], 'Cluster_40': [17], 'Cluster_41': [23], 'Cluster_42': [], 'Cluster_43': [24], 'Cluster_44': [24], 'Cluster_45': [27, 28, 29, 29, 28], 'Cluster_46': [0, 1, 0, 1], 'Cluster_47': [6], 'Cluster_48': []}\n",
      "logical: [0] \n",
      "\n"
     ]
    },
    {
     "name": "stderr",
     "output_type": "stream",
     "text": [
      " 10%|▉         | 108/1111 [03:38<33:47,  2.02s/it]"
     ]
    },
    {
     "name": "stdout",
     "output_type": "stream",
     "text": [
      "\n",
      "meas_str: 011110000001011001011111001110 11001100000011101101101000000 11000100001101001011101101001 01001100000011100101101000000 11000100001101101011101101001 10001110000011100101101000000 11100000001101100111101110001 00001100000011101101101000000 10000000001101001111011110011 10000000000001000101101011010 10000110001101000111001110011 01000000000001001101100011110 11000110001101001111001110100 11000000001001100101100101110 11000110000101000111001110100 11000000001001101101100100100 11000110000101001111001110100 10000010001001101101100000100 10000010000101000111001110000 11000100001001101100000001000 11000010000101000111001101000 10000010001001101100000001000 00000010000101001111001101000 10000000001001101100000001000 00000000000101001100001101000 10000010000001101100000000000 10000000000001001100001100000 01000000000001101100000000000 01000000000001001000000000000 00000010000001000000001100000 00000000000000000000000000000\n",
      "flipped_qubit_dict {'Cluster_0': [6], 'Cluster_1': [6], 'Cluster_2': [], 'Cluster_3': [6], 'Cluster_4': [], 'Cluster_5': [13, 13, 13, 14, 13, 14, 13, 14, 15, 13, 14, 15, 16, 13, 14, 15, 16, 17, 28, 29, 23, 29, 13, 14, 28, 16, 18, 24, 8, 9, 28, 10, 11, 12, 13, 14, 14, 17, 18, 19, 19, 23, 28, 24, 25, 26, 9, 10, 11, 13, 14, 14, 15, 16, 17, 18, 18, 19, 20, 21, 22, 23, 17, 18, 19, 20, 21, 22, 23, 24, 25, 26, 27, 17, 29, 18, 19, 20, 21, 22, 15, 16, 17, 18, 19, 20, 21, 22, 23, 24, 25, 29, 10, 26, 27, 27, 13, 14, 28, 28, 15, 16, 17, 18, 13, 14, 15, 16, 17, 18], 'Cluster_6': [23], 'Cluster_7': [4, 4, 5], 'Cluster_8': [], 'Cluster_9': [], 'Cluster_10': [9], 'Cluster_11': [], 'Cluster_12': [23, 23], 'Cluster_13': [2, 3], 'Cluster_14': [], 'Cluster_15': [5], 'Cluster_16': [1], 'Cluster_17': [], 'Cluster_18': [7], 'Cluster_19': [28, 28], 'Cluster_20': [], 'Cluster_21': [4], 'Cluster_22': [28], 'Cluster_23': [4], 'Cluster_24': []}\n",
      "logical: [0] \n",
      "\n"
     ]
    },
    {
     "name": "stderr",
     "output_type": "stream",
     "text": [
      " 10%|▉         | 109/1111 [03:40<33:16,  1.99s/it]"
     ]
    },
    {
     "name": "stdout",
     "output_type": "stream",
     "text": [
      "\n",
      "meas_str: 011010010010000011000100010000 11110001001001111100100110000 01101010011001101000010101000 11110001000001111100101010000 01101010000001101000010101000 01111001000001011100101010000 01100010000001101000010101000 01111001000001011100101010000 01100010000001101000010101000 01111101000001011100101010000 01100000000001100000110101000 01111101000001011100001010000 01100010000001100000110101000 01111001000001010100001010000 01100010000001101000110101000 01111001000001011100001011000 01101010000000100000110100100 01110000000001011000001011100 01101000000001100000110100100 01010000000001011000001011100 01101000000011100000110000100 01010000000001000000000001100 01001000000001100000001010000 01010000000001000000000000000 01001000000000100000001010000 00010000000001000000000000000 10001000000000100000001100000 01010000000001000000000000000 01001000000001000000001100000 01010000000001000000000000000 00001000000000000000000000000\n",
      "flipped_qubit_dict {'Cluster_0': [25], 'Cluster_1': [], 'Cluster_2': [], 'Cluster_3': [6], 'Cluster_4': [28], 'Cluster_5': [28], 'Cluster_6': [5], 'Cluster_7': [], 'Cluster_8': [], 'Cluster_9': [4], 'Cluster_10': [], 'Cluster_11': [8], 'Cluster_12': [5], 'Cluster_13': [], 'Cluster_14': [], 'Cluster_15': [22], 'Cluster_16': [], 'Cluster_17': [], 'Cluster_18': [15, 14, 12, 14, 15, 13], 'Cluster_19': [23], 'Cluster_20': [], 'Cluster_21': [23], 'Cluster_22': [19], 'Cluster_23': [6], 'Cluster_24': [], 'Cluster_25': [29, 27, 28, 29]}\n",
      "logical: [0] \n",
      "\n"
     ]
    },
    {
     "name": "stderr",
     "output_type": "stream",
     "text": [
      " 10%|▉         | 110/1111 [03:42<33:08,  1.99s/it]"
     ]
    },
    {
     "name": "stdout",
     "output_type": "stream",
     "text": [
      "\n",
      "meas_str: 111011011000001010110000110100 01111111000001111001001000001 01101001110001001100001011111 11111111000001110101001000101 11101111100001001000001011010 01110011000001101001001011010 01101111100001011100001011000 01110011000001000110001011000 11101111100001011000001011000 01110011000001001010001011000 11100101100001011000001011000 01111001010001000010001111000 11000001110001000000001111000 01111101010001011010001010000 11000011110001000000001100000 11111110010001010010001010110 01100011110001100000001100000 11100010010001011010001100000 01100001110001100000001100000 11100000010001010010001100000 01110001110001001000001100000 11110010010001001010001100000 11110000010001001000001100000 11100000010001001100001100010 11110000000001001000001100010 01100000000001000100001100010 01110000000001001000001100000 01100000000001001100001100000 11110000000001000000001100000 11000000000001001100001100000 11000000000001000000000100000\n",
      "flipped_qubit_dict {'Cluster_0': [], 'Cluster_1': [], 'Cluster_2': [28], 'Cluster_3': [], 'Cluster_4': [12], 'Cluster_5': [24, 25, 29, 29, 23, 24, 25, 28, 29, 26, 26, 29, 27, 24, 29, 25, 25, 26, 27, 28, 28, 29, 26, 29, 27, 28, 29, 29, 29, 29], 'Cluster_6': [], 'Cluster_7': [], 'Cluster_8': [11, 14], 'Cluster_9': [], 'Cluster_10': [], 'Cluster_11': [21], 'Cluster_12': [], 'Cluster_13': [2], 'Cluster_14': [5], 'Cluster_15': [24], 'Cluster_16': [26], 'Cluster_17': [13, 14], 'Cluster_18': [], 'Cluster_19': [2], 'Cluster_20': [25, 26, 23, 22, 24], 'Cluster_21': [], 'Cluster_22': [5], 'Cluster_23': [], 'Cluster_24': [], 'Cluster_25': [], 'Cluster_26': [], 'Cluster_27': [], 'Cluster_28': [], 'Cluster_29': [10, 14, 15, 12, 14], 'Cluster_30': [], 'Cluster_31': [2], 'Cluster_32': [4], 'Cluster_33': [], 'Cluster_34': [5], 'Cluster_35': []}\n",
      "logical: [0] \n",
      "\n"
     ]
    },
    {
     "name": "stderr",
     "output_type": "stream",
     "text": [
      " 10%|▉         | 111/1111 [03:44<32:52,  1.97s/it]"
     ]
    },
    {
     "name": "stdout",
     "output_type": "stream",
     "text": [
      "\n",
      "meas_str: 010000101000001111000001100100 01101110011001101101000001100 11101101111001001001001011010 01101000011001100101000001000 11101111111001101101001011110 11100110011001001101000110101 01100101011001011111001010111 01101010111001111100000110010 11101111011001101110001010111 11101110101001110001000110001 01101101001001011110001010111 01101100101001101001000110010 11101010101001111110001100111 11101100101001011001000110010 01101100110001011110001100111 11101010110001011001000110001 01100100100001111110001100111 01100100100001011101000111101 01100100100001111010001001001 01100010100001010001000110001 01000100100001001100001000000 01100100100001111100000111000 01000010100001100000001101000 01100100100001111000000111000 01000010000001101100001010000 01100110000001111100000110000 01000110000001101000001100000 01100000000001101000000000000 01000010000000110100000000000 01000000000000001100000000000 01100000000000011000000000000\n",
      "flipped_qubit_dict {'Cluster_0': [28, 29, 26, 27, 27, 28, 28, 29, 27, 28, 28, 29, 29, 27, 23, 24, 23, 25, 24, 26, 27, 25, 27], 'Cluster_1': [12, 10, 11, 12, 13, 14, 15, 12, 10, 11, 12, 13, 14, 11, 14, 12, 15, 10, 13, 14, 15, 10, 11, 14], 'Cluster_2': [6], 'Cluster_3': [23], 'Cluster_4': [5], 'Cluster_5': [5], 'Cluster_6': [], 'Cluster_7': [], 'Cluster_8': [23, 23], 'Cluster_9': [5], 'Cluster_10': [4, 5], 'Cluster_11': [], 'Cluster_12': [3], 'Cluster_13': [23], 'Cluster_14': [4, 3, 5, 2], 'Cluster_15': [], 'Cluster_16': [23], 'Cluster_17': [], 'Cluster_18': [1], 'Cluster_19': [19], 'Cluster_20': [23], 'Cluster_21': [19], 'Cluster_22': [23], 'Cluster_23': [], 'Cluster_24': [5], 'Cluster_25': [21], 'Cluster_26': [23], 'Cluster_27': [], 'Cluster_28': [1], 'Cluster_29': [], 'Cluster_30': [], 'Cluster_31': [], 'Cluster_32': [1], 'Cluster_33': [24], 'Cluster_34': [23], 'Cluster_35': [], 'Cluster_36': [1], 'Cluster_37': [3], 'Cluster_38': [], 'Cluster_39': [], 'Cluster_40': [], 'Cluster_41': [], 'Cluster_42': [], 'Cluster_43': [3], 'Cluster_44': [5], 'Cluster_45': [24], 'Cluster_46': [], 'Cluster_47': [], 'Cluster_48': []}\n",
      "logical: [0] \n",
      "\n"
     ]
    },
    {
     "name": "stderr",
     "output_type": "stream",
     "text": [
      " 10%|█         | 112/1111 [03:46<33:15,  2.00s/it]"
     ]
    },
    {
     "name": "stdout",
     "output_type": "stream",
     "text": [
      "\n",
      "meas_str: 100001110001100000011110100000 11100100000101011010101110000 00101101001111011000100000000 10100000001001011010100010000 01101100001111011000100000000 10100110001001011110100010000 11101000001111011100100000000 01100110011001011010100010000 01101110001111011100100000000 01100111001001011110100010000 11101100001001011000100000000 11101111000101001010101110000 11101100001001001100100000000 01101011000100000010101000000 11101100000101101000100000000 11101101000101001010101000000 11101010000101001000100100000 01101111000101101010100000000 01101010000101101000101000000 01100011010101101011100000000 11101010000001001100101000000 01100011000001111111000000000 11100110010001011000011000000 11100000000001011011000000000 11100110000001011100000000000 11100000010001001111000000000 01100110000001000000000000000 00000000000001001000000000000 01100110000001001100000000000 11000000000001001100000000000 00000110000000001000000000000\n",
      "flipped_qubit_dict {'Cluster_0': [23], 'Cluster_1': [28], 'Cluster_2': [27], 'Cluster_3': [28], 'Cluster_4': [29, 13, 13, 14, 14, 16, 20, 22, 16, 23, 17, 21, 20, 22, 25, 21, 23, 24, 26, 22, 23, 25, 10, 27, 22, 17, 23, 18, 24, 20, 26, 23, 24, 25, 25, 27, 28, 29, 29, 15, 18, 19, 21, 14, 16, 19, 14, 15, 17, 18, 23, 16, 17, 18, 20, 21, 22], 'Cluster_5': [27], 'Cluster_6': [], 'Cluster_7': [], 'Cluster_8': [7], 'Cluster_9': [], 'Cluster_10': [8, 9], 'Cluster_11': [], 'Cluster_12': [], 'Cluster_13': [], 'Cluster_14': [6, 6], 'Cluster_15': [15], 'Cluster_16': [18], 'Cluster_17': [5], 'Cluster_18': [6], 'Cluster_19': [18], 'Cluster_20': [], 'Cluster_21': [17], 'Cluster_22': [14, 12, 14, 12, 12, 15, 12], 'Cluster_23': [28], 'Cluster_24': [6], 'Cluster_25': [18]}\n",
      "logical: [0] \n",
      "\n"
     ]
    },
    {
     "name": "stderr",
     "output_type": "stream",
     "text": [
      " 10%|█         | 113/1111 [03:48<33:15,  2.00s/it]"
     ]
    },
    {
     "name": "stdout",
     "output_type": "stream",
     "text": [
      "\n",
      "meas_str: 101111000011111100100110000010 11101010011001101001110111011 01101110001001111111011111000 11111010011001101101100100011 01111110001001111011011111011 11111010010111101001110010000 11111110001001111011011111011 11111000010111101101110100010 11111110001001101011011110011 01100000010111111001110010010 11111100000101101111011110000 01101000011011111101110010000 11110100000101101011010001010 11100100011011111001110000000 01110000010101101111011100010 10100010001011111101110000000 01110000000101101011011100010 10100010000011110101110000000 11110000000101101011011000010 11100000000011111001110100000 11110011000101101011011000010 11100010000011110000110100011 11110000000001101011011001001 00100010000001111000000101111 00110010000000101011000101110 01100000000001111000000001111 11110100000001111000000101110 01100000000011101100000000000 11010010000001000000000110000 01000010000001000000000000000 00000000000000000000000000000\n",
      "flipped_qubit_dict {'Cluster_0': [5], 'Cluster_1': [2], 'Cluster_2': [4], 'Cluster_3': [1], 'Cluster_4': [3], 'Cluster_5': [23, 29, 12, 13, 14, 15, 22, 16, 8, 18, 16, 16, 23, 23, 10, 28, 12, 15, 16, 19, 26, 23, 24, 25, 26, 28, 29, 26, 27, 27, 28, 29, 23, 13, 15, 16, 17, 18, 11, 19, 23, 24, 26, 25, 28, 12, 14, 15, 16, 24, 26, 29, 12, 25, 27, 14, 12, 15, 13, 25, 28, 29, 23, 12, 29, 13, 14, 12, 13, 14, 28, 15, 29, 10, 18, 25, 29, 16, 17, 12, 18, 13, 19, 15, 28, 16, 28, 29, 12, 12, 13, 13, 17, 18, 16, 19, 17, 17, 7, 23, 18, 19, 22], 'Cluster_6': [], 'Cluster_7': [], 'Cluster_8': [1], 'Cluster_9': [], 'Cluster_10': [], 'Cluster_11': [28], 'Cluster_12': [1], 'Cluster_13': [1], 'Cluster_14': [], 'Cluster_15': [28], 'Cluster_16': [4], 'Cluster_17': [6], 'Cluster_18': [], 'Cluster_19': [4], 'Cluster_20': [6], 'Cluster_21': [18], 'Cluster_22': [1], 'Cluster_23': [5], 'Cluster_24': [1, 2, 3, 5], 'Cluster_25': [5], 'Cluster_26': [1], 'Cluster_27': [4], 'Cluster_28': []}\n",
      "logical: [0] \n",
      "\n"
     ]
    },
    {
     "name": "stderr",
     "output_type": "stream",
     "text": [
      " 10%|█         | 114/1111 [03:50<32:55,  1.98s/it]"
     ]
    },
    {
     "name": "stdout",
     "output_type": "stream",
     "text": [
      "\n",
      "meas_str: 101111000000000000010011000100 11100001000001010001000100011 01100111000001010010010000101 11111001000001100001001100001 01100101000001100010010100111 01111101000000100001001100010 01000101000000100010010110010 01011001000001100001001110010 01000111000001100010010110010 01011001000001100000001110010 01100111000001100011010110010 01100101000001100000001000000 11101101000001100011010110000 11100111000001100000001110000 01101101000001100011010110000 11100111010001100000001101000 11100011000001000011010110000 11100101000001100000001101000 11100101000001010011010110000 11100101000001110000001101000 11100101000001100011010111000 11100101000001100000001100000 11100101000001100011010110000 11100011000001100000000011000 11000101000001000011010010000 01100001000001000000000011000 11000111000001000011010001000 01000111000001000000000011000 01000001000001000000011011000 01000001010001000000000011000 01000000000001000000000000000\n",
      "flipped_qubit_dict {'Cluster_0': [], 'Cluster_1': [], 'Cluster_2': [4], 'Cluster_3': [], 'Cluster_4': [4], 'Cluster_5': [7], 'Cluster_6': [], 'Cluster_7': [23], 'Cluster_8': [5, 6], 'Cluster_9': [10], 'Cluster_10': [23], 'Cluster_11': [23], 'Cluster_12': [4], 'Cluster_13': [], 'Cluster_14': [], 'Cluster_15': [28, 29, 29, 29, 27, 27, 28], 'Cluster_16': [4, 6, 4, 5], 'Cluster_17': [23], 'Cluster_18': [], 'Cluster_19': [14, 14], 'Cluster_20': [23], 'Cluster_21': [], 'Cluster_22': [24], 'Cluster_23': [4], 'Cluster_24': [], 'Cluster_25': [5], 'Cluster_26': [], 'Cluster_27': [], 'Cluster_28': [23], 'Cluster_29': [5], 'Cluster_30': [23, 25, 24], 'Cluster_31': [], 'Cluster_32': [], 'Cluster_33': [], 'Cluster_34': [23], 'Cluster_35': [], 'Cluster_36': [], 'Cluster_37': [2], 'Cluster_38': [], 'Cluster_39': [24, 26, 27], 'Cluster_40': [], 'Cluster_41': [6], 'Cluster_42': [14], 'Cluster_43': [14], 'Cluster_44': []}\n",
      "logical: [0] \n",
      "\n"
     ]
    },
    {
     "name": "stderr",
     "output_type": "stream",
     "text": [
      " 10%|█         | 115/1111 [03:52<33:11,  2.00s/it]"
     ]
    },
    {
     "name": "stdout",
     "output_type": "stream",
     "text": [
      "\n",
      "meas_str: 111110011000011010111011110000 11111000101111111110101111000 11110010001101001110011110000 11111000101111111000101111000 11110010000011001110011000000 11111000101101111100101011000 11100010010011001010011111000 11011100101111111000101011000 11100000000011001110011111000 11011100101111111100101011001 11100110000011001000011111001 11011100100011111101101101001 11000000000011001100011111010 11011100100001110001101101010 11000010000011000000011111010 11011100100001111001101101010 11000010000011000000011111010 11011110100001110001101010010 11000100000011001000011101010 11011110100001111001101010010 11000000000001011000011011010 01000111100011101001101010010 11000000000001010000011011010 01000111100001100001101100001 01000100000001011000011011010 01100101110001101001101100001 01100100010001011000011011010 01100011110001001000001100001 01100000000001010000000000010 01100101100000001000000000010 01000110000000011000000000010\n",
      "flipped_qubit_dict {'Cluster_0': [], 'Cluster_1': [13], 'Cluster_2': [23], 'Cluster_3': [], 'Cluster_4': [], 'Cluster_5': [21], 'Cluster_6': [], 'Cluster_7': [], 'Cluster_8': [], 'Cluster_9': [], 'Cluster_10': [1], 'Cluster_11': [6], 'Cluster_12': [], 'Cluster_13': [], 'Cluster_14': [4], 'Cluster_15': [7], 'Cluster_16': [9], 'Cluster_17': [23], 'Cluster_18': [], 'Cluster_19': [], 'Cluster_20': [23], 'Cluster_21': [1], 'Cluster_22': [5], 'Cluster_23': [5], 'Cluster_24': [13, 14, 15, 15, 26, 16, 12, 13, 16, 17, 29, 23, 13, 14, 27, 17, 18, 12, 13, 13, 24, 14, 15, 15, 17, 28, 18, 18, 29, 19, 23, 14, 24, 15, 24, 25, 16, 27, 12, 29, 26, 27, 13, 28, 29, 12, 17, 18, 19, 20, 28, 29, 22, 20, 21, 22, 23, 21, 22, 23, 24, 12], 'Cluster_25': [4, 5], 'Cluster_26': [1], 'Cluster_27': [1], 'Cluster_28': [5], 'Cluster_29': [10], 'Cluster_30': [], 'Cluster_31': [23], 'Cluster_32': [], 'Cluster_33': [4], 'Cluster_34': [], 'Cluster_35': [], 'Cluster_36': [26], 'Cluster_37': [5], 'Cluster_38': [11], 'Cluster_39': [12]}\n",
      "logical: [0] \n",
      "\n"
     ]
    },
    {
     "name": "stderr",
     "output_type": "stream",
     "text": [
      " 10%|█         | 116/1111 [03:54<32:54,  1.98s/it]"
     ]
    },
    {
     "name": "stdout",
     "output_type": "stream",
     "text": [
      "\n",
      "meas_str: 111001100100001010001001000010 01100100100101011101100010011 11001110010101100100001110000 01000000100101001101000010011 01001110010101011000101110000 01001110100101011101000110011 11001000001001001000001010011 01101110110101011101000100000 11101100001001001001101011011 01101010011111010001100111000 11101110001101001100101011011 01100000001101000101100100000 11101000001101010101001011011 01100010000001001101100100011 01101000001101010101101011000 01100010001101001100000111011 01101000001101010100101000000 01101110001101001100000111011 01101000001100010101001000011 01101110000001001100100111011 01101000000001010100101110001 11101110000001001100000001010 01101110000001000001000010001 11101100000001000000000001010 01101100000001000000000010010 11101010000001000001100001010 11101000000001000000000000001 01111000000001000001100000001 01100010000001000000000000000 11111010000001000001100000000 01000010000000000000000000000\n",
      "flipped_qubit_dict {'Cluster_0': [], 'Cluster_1': [28, 29, 29, 24, 27, 27, 25, 28, 25, 29, 27, 28, 29, 29, 29, 23, 24, 23, 29, 24], 'Cluster_2': [9], 'Cluster_3': [], 'Cluster_4': [25], 'Cluster_5': [], 'Cluster_6': [], 'Cluster_7': [], 'Cluster_8': [25], 'Cluster_9': [23], 'Cluster_10': [], 'Cluster_11': [1], 'Cluster_12': [23], 'Cluster_13': [1], 'Cluster_14': [], 'Cluster_15': [23], 'Cluster_16': [1], 'Cluster_17': [1], 'Cluster_18': [24], 'Cluster_19': [4], 'Cluster_20': [4], 'Cluster_21': [18], 'Cluster_22': [1], 'Cluster_23': [1], 'Cluster_24': [18], 'Cluster_25': [], 'Cluster_26': [24], 'Cluster_27': [], 'Cluster_28': [18], 'Cluster_29': [20], 'Cluster_30': [], 'Cluster_31': [], 'Cluster_32': [1], 'Cluster_33': [1], 'Cluster_34': [4, 1, 3, 4, 5, 6, 7, 3, 4, 5, 5, 6, 7, 9, 5, 6, 6, 8, 7, 9, 7, 8, 6, 7, 12, 7, 8, 9, 12, 13, 8, 15, 13, 14, 15, 18, 13, 18, 14, 15, 9, 11, 12, 11, 13, 4, 12, 13], 'Cluster_35': [18]}\n",
      "logical: [0] \n",
      "\n"
     ]
    },
    {
     "name": "stderr",
     "output_type": "stream",
     "text": [
      " 11%|█         | 117/1111 [03:55<32:33,  1.97s/it]"
     ]
    },
    {
     "name": "stdout",
     "output_type": "stream",
     "text": [
      "\n",
      "meas_str: 111001010001000001110010010110 01101101010101001010000000000 01100000011001001011011011101 01101111010101001110001110010 01100110011001001111011011101 01101001011001001000011110110 11101000011101001011001011001 11101011011101001100011110101 01101000011001000111001010011 11100011011001101000011110101 01100000001001001011001010011 11100011010001101100011110101 11100000001001001111001100011 11100001011001101000011000111 11100000011001100011001100010 11100010011001001100000000100 11000010011101001110001100010 11100010010101100110000000101 11000010010101101110001100111 11000000010001001110000000001 11100000010001001110001100111 11000000010001111110000000001 11100000010001101110001100001 11000000000011001010000000000 11000000000001011000000000000 11000000000001001100000000000 11000000000001001000000000000 01000000000001100100000000000 10000000000001111100000000000 00000000000001101000000000000 00000000000001000000000000000\n",
      "flipped_qubit_dict {'Cluster_0': [12, 13], 'Cluster_1': [], 'Cluster_2': [13], 'Cluster_3': [28, 28], 'Cluster_4': [13], 'Cluster_5': [], 'Cluster_6': [6], 'Cluster_7': [], 'Cluster_8': [], 'Cluster_9': [2], 'Cluster_10': [11, 11, 15, 12, 13, 11, 15, 12, 13, 14, 12, 13, 13, 14, 14, 11, 10], 'Cluster_11': [], 'Cluster_12': [], 'Cluster_13': [], 'Cluster_14': [], 'Cluster_15': [], 'Cluster_16': [], 'Cluster_17': [], 'Cluster_18': [22], 'Cluster_19': [29, 29, 29, 29, 23, 29, 23, 25, 23, 26, 27, 23, 27, 28, 29, 23, 23, 24, 25, 26, 28, 29, 27, 28], 'Cluster_20': [1], 'Cluster_21': [7], 'Cluster_22': [1], 'Cluster_23': [12], 'Cluster_24': [5], 'Cluster_25': [19], 'Cluster_26': [5], 'Cluster_27': [19], 'Cluster_28': [], 'Cluster_29': [12, 12, 13, 14, 15, 16, 17, 15, 16, 17, 17, 17, 11], 'Cluster_30': [1, 2, 3], 'Cluster_31': [], 'Cluster_32': [], 'Cluster_33': [18], 'Cluster_34': [3, 4, 6, 2]}\n",
      "logical: [0] \n",
      "\n"
     ]
    },
    {
     "name": "stderr",
     "output_type": "stream",
     "text": [
      " 11%|█         | 118/1111 [03:58<33:05,  2.00s/it]"
     ]
    },
    {
     "name": "stdout",
     "output_type": "stream",
     "text": [
      "\n",
      "meas_str: 101111000011000000101010100000 11101111011101011000000111011 00101111001001011111111001111 00101011011101011100000111110 11101111001001111111111100110 00100101011101010100001011110 00101101001001111011111100101 10100001011101011010001111110 01101101001011111001111001101 10100011011101011111001110110 01101111000111111101111001101 00111111011101011011001000101 00100011000001111001111001101 00111101011001011000001000111 01111001000001111100011001100 01101111011001011100001000111 01111011010001111000011001111 01001111011001011000001000000 11110111000001101100011001001 11100101011001001100001000010 11110101000001101000011001001 00000101000001001100001000010 11111101000001101100011001001 01100001000001000000001000010 10011001000001101000000111001 11000001000001000000001110010 00100101000001101000000000010 01100101000001001000001100010 11000101000001001000000000010 00000001000000001000000000000 01000000000001001000000000000\n",
      "flipped_qubit_dict {'Cluster_0': [], 'Cluster_1': [], 'Cluster_2': [], 'Cluster_3': [], 'Cluster_4': [6], 'Cluster_5': [27, 28, 29, 29, 27, 29, 28, 27], 'Cluster_6': [], 'Cluster_7': [1], 'Cluster_8': [25], 'Cluster_9': [], 'Cluster_10': [4], 'Cluster_11': [5], 'Cluster_12': [7], 'Cluster_13': [27], 'Cluster_14': [27], 'Cluster_15': [19], 'Cluster_16': [10, 12, 12, 10, 15, 11, 13, 11, 14, 15, 11, 13, 14, 9], 'Cluster_17': [0, 1, 2, 0, 2, 1], 'Cluster_18': [24, 24, 26, 28, 23, 24, 23], 'Cluster_19': [], 'Cluster_20': [], 'Cluster_21': [1], 'Cluster_22': [], 'Cluster_23': [17, 17, 18], 'Cluster_24': [28], 'Cluster_25': [1], 'Cluster_26': [5], 'Cluster_27': [], 'Cluster_28': [], 'Cluster_29': [28], 'Cluster_30': [1], 'Cluster_31': [28], 'Cluster_32': [], 'Cluster_33': [4, 6, 5], 'Cluster_34': [28], 'Cluster_35': [28]}\n",
      "logical: [0] \n",
      "\n"
     ]
    },
    {
     "name": "stderr",
     "output_type": "stream",
     "text": [
      " 11%|█         | 119/1111 [04:00<32:52,  1.99s/it]"
     ]
    },
    {
     "name": "stdout",
     "output_type": "stream",
     "text": [
      "\n",
      "meas_str: 111111000010000001010101011010 01111010001001000000010010010 01111010010010001111101110101 01111010001010001000010000001 01111000000101001111100011101 01100010010001001000011011001 01111000000101001111100011101 01100010010001001100011011101 01111010000100000111100001011 01101110010001001000010111100 01110100000101001111100001001 01101000010001001100010111100 01100000010101000011100001101 01101000001001001100011101010 01111010011101000011100001101 01101110001001100000011100010 01111010011101100011100001101 01100010001001100010011101010 01111110011101100001100000000 10101010001001100010011100000 10111100010001100001110000000 10110100010001000111000000000 10101100010001100001110000000 10110010010001000110000000000 11101100010001100000110000000 10111010010001000110000000000 01100010010001100000110000000 11011010010001000000000000000 11000010010001000000000000000 00011010010001000000000000000 10000000000000000000000000000\n",
      "flipped_qubit_dict {'Cluster_0': [], 'Cluster_1': [], 'Cluster_2': [25], 'Cluster_3': [], 'Cluster_4': [], 'Cluster_5': [8], 'Cluster_6': [], 'Cluster_7': [28], 'Cluster_8': [23], 'Cluster_9': [], 'Cluster_10': [6], 'Cluster_11': [2], 'Cluster_12': [], 'Cluster_13': [12], 'Cluster_14': [0, 6, 2, 0, 1, 2, 0, 1, 0, 6, 3, 4, 2, 4, 4, 5, 6], 'Cluster_15': [6, 5], 'Cluster_16': [12], 'Cluster_17': [12], 'Cluster_18': [], 'Cluster_19': [26, 27, 19, 29, 24, 25, 27, 28, 29, 23, 24, 25, 25, 11, 28, 29, 15, 23, 25, 26, 27, 15, 24, 28, 28, 10, 23, 15, 24, 25, 26, 27, 28, 29, 10, 11, 16, 23, 24, 24, 26, 8, 9, 25, 11, 12, 13, 14, 23, 24, 17, 25, 26, 27, 24, 25, 26, 26, 27, 27, 8, 9, 24, 10, 11, 12, 13, 14, 15, 16, 17, 18, 23, 24, 25, 26, 27, 28, 19, 23, 24, 27, 29, 25, 23, 24, 26, 19, 23, 24], 'Cluster_20': [], 'Cluster_21': [], 'Cluster_22': [18], 'Cluster_23': [1], 'Cluster_24': [], 'Cluster_25': [], 'Cluster_26': [16], 'Cluster_27': [16]}\n",
      "logical: [0] \n",
      "\n"
     ]
    },
    {
     "name": "stderr",
     "output_type": "stream",
     "text": [
      " 11%|█         | 120/1111 [04:02<33:00,  2.00s/it]"
     ]
    },
    {
     "name": "stdout",
     "output_type": "stream",
     "text": [
      "\n",
      "meas_str: 111011001001001011001000110110 01010000000101011000000100011 01100100001001111001100001110 01010010000101011100000100010 01100110001001111101101101011 00100100000101011000000101111 00101000001001111001101101010 10101000000101010000000100110 10000100001001111001101101011 00101110001001010100000100111 11000110001001111101101101010 00100110001001011000000111111 10000110001001111000001110011 00100110011011011100000110010 10001100011001110000001110111 11110100011001011000000001011 10001110011001111100000010110 11111010011001011000001110011 10001110011001111100000100111 01111000010101011000001110010 11101100011001111000000111110 01111110010101001000001110011 11101100011001011000000001111 10111000011001000000001111010 01101110010001000000000000110 11011010010001000000000000011 01100010010001000000000000111 01011000010001000000000000010 00100010010001000000000000000 01100010010001000000000000000 00100010000001000000000000000\n",
      "flipped_qubit_dict {'Cluster_0': [], 'Cluster_1': [], 'Cluster_2': [], 'Cluster_3': [27, 28, 25], 'Cluster_4': [0, 1, 0, 2, 0, 0], 'Cluster_5': [24], 'Cluster_6': [], 'Cluster_7': [4], 'Cluster_8': [6], 'Cluster_9': [], 'Cluster_10': [], 'Cluster_11': [28, 29, 29, 27, 28, 28, 28, 29, 27, 28, 28, 29, 26, 25, 27, 26, 28, 29, 27, 28, 29, 28, 29], 'Cluster_12': [], 'Cluster_13': [], 'Cluster_14': [18], 'Cluster_15': [23], 'Cluster_16': [5], 'Cluster_17': [], 'Cluster_18': [13, 12, 14], 'Cluster_19': [23], 'Cluster_20': [4], 'Cluster_21': [], 'Cluster_22': [], 'Cluster_23': [18], 'Cluster_24': [5], 'Cluster_25': [4], 'Cluster_26': [6], 'Cluster_27': [], 'Cluster_28': [24], 'Cluster_29': [], 'Cluster_30': [6], 'Cluster_31': [12], 'Cluster_32': [5], 'Cluster_33': [12], 'Cluster_34': [], 'Cluster_35': [28], 'Cluster_36': [], 'Cluster_37': [], 'Cluster_38': [3, 3], 'Cluster_39': [], 'Cluster_40': [], 'Cluster_41': [4], 'Cluster_42': [9], 'Cluster_43': [4], 'Cluster_44': [12], 'Cluster_45': [], 'Cluster_46': [], 'Cluster_47': [18], 'Cluster_48': [24, 23, 24, 23], 'Cluster_49': [], 'Cluster_50': [24], 'Cluster_51': [], 'Cluster_52': [12], 'Cluster_53': [23], 'Cluster_54': [25], 'Cluster_55': [], 'Cluster_56': [3, 3], 'Cluster_57': [23], 'Cluster_58': [], 'Cluster_59': [6], 'Cluster_60': [], 'Cluster_61': [], 'Cluster_62': [14, 15], 'Cluster_63': [21]}\n",
      "logical: [0] \n",
      "\n"
     ]
    },
    {
     "name": "stderr",
     "output_type": "stream",
     "text": [
      " 11%|█         | 121/1111 [04:04<32:47,  1.99s/it]"
     ]
    },
    {
     "name": "stdout",
     "output_type": "stream",
     "text": [
      "\n",
      "meas_str: 001010110100011001001001101100 11111000100001001101100110000 11100101010001100000001101010 11111000100011001101100110010 11100101010001101100001011000 11111000100011001101100110000 11100111010011100100001011100 11111100100001001101100110000 11101100010011101100001010111 10111101100001000001100110010 11100111110011101100001001111 11110111100001000001100110001 11100001110011100100001001111 11110111100001000001100110110 01100001110011001100001001111 10110100000001000101100011101 01101100110011101000001110100 11111000000001000001100010101 01101000110011101000001110100 11111100000001001001100000101 01100000110001101100000110111 11111110010001001101100000110 00101110110001101100000110111 10110010000001000000000110110 01101010110001101100000110110 11111000000001000000000110111 00100010110001100000000110110 01000000000001001000000000100 00100000000001001100000110110 00100000000001001100000110100 01100000010000001000000000100\n",
      "flipped_qubit_dict {'Cluster_0': [27], 'Cluster_1': [5], 'Cluster_2': [27], 'Cluster_3': [0, 2, 0, 1], 'Cluster_4': [5], 'Cluster_5': [5], 'Cluster_6': [27], 'Cluster_7': [24, 20, 21, 20, 22, 20, 21, 22, 23, 24, 25, 26, 25, 27, 29, 25, 27, 28, 29, 23, 24, 24, 25], 'Cluster_8': [1], 'Cluster_9': [5], 'Cluster_10': [], 'Cluster_11': [5], 'Cluster_12': [], 'Cluster_13': [1], 'Cluster_14': [12, 13, 14, 15, 9, 13, 14, 15, 13, 13, 14, 14, 15, 16], 'Cluster_15': [], 'Cluster_16': [1], 'Cluster_17': [24, 28, 25, 26, 27], 'Cluster_18': [6, 5], 'Cluster_19': [4], 'Cluster_20': [24], 'Cluster_21': [1], 'Cluster_22': [], 'Cluster_23': [], 'Cluster_24': [24], 'Cluster_25': [1], 'Cluster_26': [21, 22], 'Cluster_27': [1], 'Cluster_28': [4], 'Cluster_29': [], 'Cluster_30': [1], 'Cluster_31': [2, 3], 'Cluster_32': [23, 24, 21], 'Cluster_33': [], 'Cluster_34': [2], 'Cluster_35': [5], 'Cluster_36': [], 'Cluster_37': [27]}\n",
      "logical: [0] \n",
      "\n"
     ]
    },
    {
     "name": "stderr",
     "output_type": "stream",
     "text": [
      " 11%|█         | 122/1111 [04:06<33:28,  2.03s/it]"
     ]
    },
    {
     "name": "stdout",
     "output_type": "stream",
     "text": [
      "\n",
      "meas_str: 111000100001100100110100000000 01101001000111111010111010000 01101111001101011111101010000 01101111000111111110001010100 01100010001101010111011010100 01101110000001111110111010000 01101000001101111111001000000 00100010001101011010111000000 01101000001101011111111000000 01101110001101011110011000000 00101000001101010011001000000 00101110001101111110111000000 00000100011101111111100000000 01101110001101111010000000000 01101110001111111011000000000 01101000001101111110000000000 01100000001101101111000000000 01000110001101101010000000000 01101110001101101011000000000 00101110001101101010000000000 01100010001101101111000000000 00100000001101001110000000000 10100000001101101000000000000 01000000001101001100000000000 10100000000001101100000000000 11100000000001011100000000000 11000000000001111100000000000 11100010000000001100000000000 01000000000001100000000000000 11000000000000001100000000000 01000000000000100000000001000\n",
      "flipped_qubit_dict {'Cluster_0': [18, 28, 29, 24, 8, 9, 9, 26, 27, 28, 28, 12, 29, 13, 13, 29, 28, 12, 15, 15, 13, 16, 17, 15, 19, 19, 23, 24, 25, 28, 29, 13, 14, 8, 9, 10, 11, 12, 23, 15, 16, 17, 26, 18, 19, 20, 14, 15, 24, 25, 26, 28, 29, 27, 23, 29, 25, 8, 12, 13, 13, 14, 14, 15, 16, 17, 28, 29, 21, 23, 23, 23, 14, 26, 15, 27, 17, 28, 29, 8, 9, 14, 12, 15, 13, 16, 14, 15, 18, 16, 17, 25, 18, 19, 28, 29, 24, 12, 13, 14, 7, 15, 8, 16, 9, 8, 17, 10, 18, 12, 13, 12, 13, 14, 15, 26, 16, 17, 28, 18, 29, 19, 22, 15, 16, 16, 24, 7, 17, 8, 10, 11, 12, 9, 14, 10, 15, 11, 12, 13, 18, 19, 8, 20, 24, 25, 25, 11, 27, 12, 28, 29, 13, 16, 28, 29, 21, 8, 23, 10, 14, 17, 22, 28, 29, 25, 11, 12, 15, 25, 26], 'Cluster_1': [], 'Cluster_2': [], 'Cluster_3': [], 'Cluster_4': [28], 'Cluster_5': [27], 'Cluster_6': [28], 'Cluster_7': [], 'Cluster_8': [], 'Cluster_9': [24], 'Cluster_10': [24], 'Cluster_11': [], 'Cluster_12': [], 'Cluster_13': []}\n",
      "logical: [0] \n",
      "\n"
     ]
    },
    {
     "name": "stderr",
     "output_type": "stream",
     "text": [
      " 11%|█         | 123/1111 [04:08<33:35,  2.04s/it]"
     ]
    },
    {
     "name": "stdout",
     "output_type": "stream",
     "text": [
      "\n",
      "meas_str: 001011000001100000010011010011 11110000000000110101000010011 11100110001010010010010100011 01111110000000110101000011010 01100110001010110010010100010 11111110000000110111000011001 11101010001010010010010100010 01111110000000110110010011010 01100110001010110011000100010 11111000000000010110010011011 11100110011010110011000100011 00111100000000110110010011010 11100010001010110111000100010 00110000000000110000010011001 11100010001010010011000100110 01110010000000010000010011001 01100010001010010001000110000 11110000000000110001010110000 01100000001010110001000010000 11110010000000010001011000000 01100010001010110001000000000 11101000000000110001011000000 01101110001010010001000000000 11101000000000010001011000000 11101100001010110000000000000 01100110000000110000011000000 11001010001100110000000000000 01100110000000110000000000000 01101000000000010000000000000 01000100000000010000000000000 00100000000000010000000000000\n",
      "flipped_qubit_dict {'Cluster_0': [], 'Cluster_1': [24], 'Cluster_2': [], 'Cluster_3': [], 'Cluster_4': [18], 'Cluster_5': [7], 'Cluster_6': [17], 'Cluster_7': [23], 'Cluster_8': [], 'Cluster_9': [], 'Cluster_10': [], 'Cluster_11': [], 'Cluster_12': [24], 'Cluster_13': [24], 'Cluster_14': [24], 'Cluster_15': [25], 'Cluster_16': [], 'Cluster_17': [6], 'Cluster_18': [], 'Cluster_19': [4], 'Cluster_20': [10], 'Cluster_21': [], 'Cluster_22': [29, 29, 29, 28, 29], 'Cluster_23': [11], 'Cluster_24': [], 'Cluster_25': [], 'Cluster_26': [28], 'Cluster_27': [], 'Cluster_28': [], 'Cluster_29': [], 'Cluster_30': [23], 'Cluster_31': [], 'Cluster_32': [], 'Cluster_33': [24], 'Cluster_34': [], 'Cluster_35': [], 'Cluster_36': [24], 'Cluster_37': [], 'Cluster_38': [0, 2, 0, 3, 1, 2, 3, 1, 1, 2, 1, 1, 2, 0, 1, 1], 'Cluster_39': [11], 'Cluster_40': [], 'Cluster_41': [], 'Cluster_42': [24], 'Cluster_43': [27]}\n",
      "logical: [0] \n",
      "\n"
     ]
    },
    {
     "name": "stderr",
     "output_type": "stream",
     "text": [
      " 11%|█         | 124/1111 [04:10<33:31,  2.04s/it]"
     ]
    },
    {
     "name": "stdout",
     "output_type": "stream",
     "text": [
      "\n",
      "meas_str: 101100011100011111010100010000 01101011000111111001100011000 11110001010101111110010000000 01101011000111111101100010000 11100001010101111010010001000 01101001000111111001100010000 01101101010101111110010001000 01100011000111111001000010000 01101001010101010110000001000 01101101000100111001000010000 01100011010101010110000001000 01100001000101111001000011000 01100011011001010110000000000 01100001100101111001000011000 01100011111001011110000000000 01000101100101111101000011000 01100011111001011010000000000 01000010100101111101000010000 01001110111001011110000001000 01100100000101111001000010000 01000100111001011010000001000 01101110000101111100000010000 00000100011001001100000001000 01101110010101011000000011000 01100010011001000100000000000 01101110000101010100000011000 01100100001001000100000000000 00101110000101010100000011000 11101110000100000000000000000 10100010000001100000000011000 01000000000001100000000000000\n",
      "flipped_qubit_dict {'Cluster_0': [4], 'Cluster_1': [], 'Cluster_2': [], 'Cluster_3': [23], 'Cluster_4': [20], 'Cluster_5': [14, 16, 13, 13, 17, 16, 14, 14, 12, 13, 15, 18, 12, 17, 16, 12, 13, 10, 14, 18, 13, 14], 'Cluster_6': [], 'Cluster_7': [], 'Cluster_8': [], 'Cluster_9': [], 'Cluster_10': [], 'Cluster_11': [8], 'Cluster_12': [], 'Cluster_13': [], 'Cluster_14': [], 'Cluster_15': [23, 24, 28, 25, 29, 29, 28, 29, 29, 23, 23, 27, 24, 25, 23, 26, 27, 27, 29, 28, 29, 24, 26, 26, 27, 24, 27, 28, 29, 27, 25, 25, 28, 27, 21, 23, 24, 24, 23, 24, 28, 23, 22, 23, 24, 23]}\n",
      "logical: [0] \n",
      "\n"
     ]
    },
    {
     "name": "stderr",
     "output_type": "stream",
     "text": [
      " 11%|█▏        | 125/1111 [04:12<32:57,  2.01s/it]"
     ]
    },
    {
     "name": "stdout",
     "output_type": "stream",
     "text": [
      "\n",
      "meas_str: 000111000000011111100011000000 01001110010001111101001000010 11101010000011111011011100010 11001110000001101101001000011 01001010000011111111011100011 01001110000001101101001000011 01101010000011110011011100011 11101110000001111101001000011 11100000000011110010011100011 01001110000001111101001000011 01100000000011111110011100011 11001100000001111101001000010 11010100000011011110010000011 01101110000001000001001000010 01110000000011101110010000011 01101110000001000001001000000 01111110000011101110010000011 01100110000001001101001000010 01111110000011101110010000011 01101010000001001101001000000 01110010000011101100001000011 01101000000011001100001000010 01100100000011100000001011011 01101110000001001100001000010 01100100000011101100001000010 01101110000001001100001000010 01101000000010000000000000000 01101110000001000000000000010 01100010000000000000000000010 01100010000000000000000000010 01100010000000000000000000010\n",
      "flipped_qubit_dict {'Cluster_0': [], 'Cluster_1': [], 'Cluster_2': [27], 'Cluster_3': [27], 'Cluster_4': [16], 'Cluster_5': [23], 'Cluster_6': [], 'Cluster_7': [12], 'Cluster_8': [], 'Cluster_9': [12], 'Cluster_10': [15], 'Cluster_11': [24], 'Cluster_12': [0, 0], 'Cluster_13': [4], 'Cluster_14': [12], 'Cluster_15': [24, 25, 23], 'Cluster_16': [4], 'Cluster_17': [12], 'Cluster_18': [10], 'Cluster_19': [], 'Cluster_20': [7], 'Cluster_21': [24], 'Cluster_22': [], 'Cluster_23': [12], 'Cluster_24': [], 'Cluster_25': [], 'Cluster_26': [], 'Cluster_27': [6], 'Cluster_28': [26], 'Cluster_29': [], 'Cluster_30': [27, 28, 27, 28], 'Cluster_31': [24, 24, 23, 23], 'Cluster_32': [], 'Cluster_33': [13, 12, 10, 14, 12, 11, 12, 13, 12, 13], 'Cluster_34': []}\n",
      "logical: [0] \n",
      "\n"
     ]
    },
    {
     "name": "stderr",
     "output_type": "stream",
     "text": [
      " 11%|█▏        | 126/1111 [04:14<33:53,  2.06s/it]"
     ]
    },
    {
     "name": "stdout",
     "output_type": "stream",
     "text": [
      "\n",
      "meas_str: 101000100001101101000111111010 11001010000111111100100010010 01101100001101100000000010101 11100000000111111100100100010 01101100001101001000000010101 11100110001011110000100100001 11101100000001001000000010101 11101010000111010100100011000 01100000000001001000000111101 11101010000111010100100111000 01100000000001001000000000011 10100110000111010100100110100 01101100000001001000000110010 10100000000111010100100110010 10100000000001001000000001000 01100000001001010100100000000 11000000001001101000000010000 01100000001001010100100000000 11000000001001001000000110000 11000000001001010100101110000 00000010001001001000000110000 11000010001001010100101000000 00000100001101001100000110000 01000010000001011100101110000 01000100011101001000000110000 00001010010000100000001000000 00000110011101101000000110000 00001100010001101100000000000 11001010010001001100000110000 11001100010001001100000000000 00000000010001001000000000000\n",
      "flipped_qubit_dict {'Cluster_0': [], 'Cluster_1': [24, 23, 24], 'Cluster_2': [28], 'Cluster_3': [28], 'Cluster_4': [28], 'Cluster_5': [28], 'Cluster_6': [], 'Cluster_7': [20, 21, 5, 12, 21, 22, 23, 5, 23, 13, 14, 22, 24, 12, 14, 15, 16, 13, 18, 15, 16, 17, 7, 8, 9, 10, 11, 15, 5, 14, 15, 9, 16, 10, 11, 15, 16, 18, 17, 19, 17, 18, 19, 5, 18, 19, 12, 18, 19, 20], 'Cluster_8': [28], 'Cluster_9': [23], 'Cluster_10': [], 'Cluster_11': [5, 6], 'Cluster_12': [27], 'Cluster_13': [27], 'Cluster_14': [28], 'Cluster_15': [0, 5, 5, 2, 1, 3, 2, 4, 3, 5, 0, 3, 5, 1, 0, 0], 'Cluster_16': [24], 'Cluster_17': [28], 'Cluster_18': [23], 'Cluster_19': [24], 'Cluster_20': [24], 'Cluster_21': [], 'Cluster_22': [], 'Cluster_23': [24], 'Cluster_24': [29, 29, 28, 29], 'Cluster_25': [5], 'Cluster_26': [24], 'Cluster_27': [1], 'Cluster_28': [5], 'Cluster_29': [27]}\n",
      "logical: [0] \n",
      "\n"
     ]
    },
    {
     "name": "stderr",
     "output_type": "stream",
     "text": [
      " 11%|█▏        | 127/1111 [04:16<33:32,  2.04s/it]"
     ]
    },
    {
     "name": "stdout",
     "output_type": "stream",
     "text": [
      "\n",
      "meas_str: 111111000010100101100010011110 11100000010011101111000100111 01111110001101110101011110010 01101010011111101111001000011 01111110000001110101011110110 01101000011001101111001000111 00111110000001111001011110101 01110000000001100111001111111 01001110000001110001011111110 11110100000001000111001001111 10001010000001110001011111101 10111000000001000111001011011 01001010000001110001001001110 11011000000001000111000011011 01001010000001110001001001110 11010100000001000111001001001 10001100000001110001000001100 11011110000001000111001000001 10000010000001110001000101100 01011000000001000111000000001 11000000000001111001000000100 11011000000001001111000000001 10001100000001110101000000100 00011110000001000011000000001 11001100000001110101000000100 01010110000001000011000000001 01001110000001110101000001111 01010000000001000001000000001 01001110000001110101000001101 01010000000001000000000000001 01001000010000000111000001100\n",
      "flipped_qubit_dict {'Cluster_0': [3], 'Cluster_1': [25], 'Cluster_2': [], 'Cluster_3': [], 'Cluster_4': [10, 11], 'Cluster_5': [14], 'Cluster_6': [], 'Cluster_7': [23], 'Cluster_8': [10], 'Cluster_9': [], 'Cluster_10': [1], 'Cluster_11': [2, 3], 'Cluster_12': [29], 'Cluster_13': [24], 'Cluster_14': [], 'Cluster_15': [12], 'Cluster_16': [23], 'Cluster_17': [28], 'Cluster_18': [12], 'Cluster_19': [24], 'Cluster_20': [28], 'Cluster_21': [], 'Cluster_22': [6], 'Cluster_23': [], 'Cluster_24': [28], 'Cluster_25': [], 'Cluster_26': [4, 5], 'Cluster_27': [], 'Cluster_28': [], 'Cluster_29': [], 'Cluster_30': [], 'Cluster_31': [23], 'Cluster_32': [28], 'Cluster_33': [24], 'Cluster_34': [27], 'Cluster_35': [4, 5, 7, 5, 3, 4, 1], 'Cluster_36': [28], 'Cluster_37': [24], 'Cluster_38': [], 'Cluster_39': [1], 'Cluster_40': [], 'Cluster_41': [], 'Cluster_42': [18, 12], 'Cluster_43': [1], 'Cluster_44': [], 'Cluster_45': [27], 'Cluster_46': [5], 'Cluster_47': [19], 'Cluster_48': [25], 'Cluster_49': [1], 'Cluster_50': [26, 27], 'Cluster_51': [], 'Cluster_52': [17], 'Cluster_53': [18], 'Cluster_54': [], 'Cluster_55': [6], 'Cluster_56': [], 'Cluster_57': [], 'Cluster_58': [23, 25, 24]}\n",
      "logical: [0] \n",
      "\n"
     ]
    },
    {
     "name": "stderr",
     "output_type": "stream",
     "text": [
      " 12%|█▏        | 128/1111 [04:18<34:07,  2.08s/it]"
     ]
    },
    {
     "name": "stdout",
     "output_type": "stream",
     "text": [
      "\n",
      "meas_str: 011111100101010100000101010100 11110001110000111000111101010 01110011011111110100000010110 11110001000001101000111100011 11110111101111101100001111111 01111001011101100000000011010 01110111001111001100001111110 11111001101101010000000111011 01110111011111111100000111111 11110111010001100000000111010 01111111011111101100000111110 11110111111101010000000101011 01111001101111101100000110111 11111011111101110000000011010 01111001101011011100000110110 11111011001101111100000111111 01111001001011011100000010011 11111011011101001100000001110 01111001001011101100000000010 11110111010001011100000000000 01111001010011101100000000000 11110111000001001100000000000 01100101100111001100000000000 11110101100001001000000000000 01100001010011001000000000000 01110111000001000000000000000 01100001110011000000000000000 01110101000000000000000000000 01100001000001000000000000000 01100001010001000000000000000 01100001010001000000000000000\n",
      "flipped_qubit_dict {'Cluster_0': [0, 1, 2, 0, 0, 0], 'Cluster_1': [4], 'Cluster_2': [24], 'Cluster_3': [21, 22, 23, 16, 6, 7, 8, 8, 14, 20, 15, 22, 16, 17, 18, 19, 27, 18, 28, 29, 6, 8, 16, 17, 13, 20, 21, 22, 23, 27, 13, 14, 15, 17, 16, 18, 17, 20, 21, 22, 23, 24, 28, 14, 29, 14, 15, 16, 18, 19, 19, 20, 20, 21, 21, 22, 12, 14, 23, 23, 14, 25, 26, 26, 16, 17, 18, 19, 20, 21, 22, 12, 13, 14, 15, 16, 17, 14, 18, 19, 20, 18, 24, 25, 26, 27, 15, 16, 13, 19, 14, 15, 16, 17, 18, 19, 20, 23, 25, 26, 28, 12, 15, 13, 16, 14, 15, 16, 17, 20, 26, 12, 13, 14, 15, 16, 17, 18, 19, 20, 23, 23, 15, 16, 17, 7], 'Cluster_4': [5], 'Cluster_5': [20], 'Cluster_6': [], 'Cluster_7': [], 'Cluster_8': [], 'Cluster_9': [20], 'Cluster_10': [], 'Cluster_11': [5], 'Cluster_12': [24], 'Cluster_13': [4], 'Cluster_14': [23], 'Cluster_15': [], 'Cluster_16': [], 'Cluster_17': [20], 'Cluster_18': [], 'Cluster_19': [], 'Cluster_20': [], 'Cluster_21': [], 'Cluster_22': [], 'Cluster_23': [4], 'Cluster_24': [], 'Cluster_25': [], 'Cluster_26': [6], 'Cluster_27': [24], 'Cluster_28': [1]}\n",
      "logical: [0] \n",
      "\n"
     ]
    },
    {
     "name": "stderr",
     "output_type": "stream",
     "text": [
      " 12%|█▏        | 129/1111 [04:20<34:06,  2.08s/it]"
     ]
    },
    {
     "name": "stdout",
     "output_type": "stream",
     "text": [
      "\n",
      "meas_str: 010100001100101001100101010010 01100111100101111000001111000 11100110110011110010110100011 01101011101101111000001000000 01100010011011110010110100011 11101011011101111000001000001 11001111010111110010110100001 01001010111101100000001000001 11001111001011100110110100001 11000110101101100000001000001 11001111011011100110110100010 11101010001101100000001000001 10101101011011100110110100010 10100000100101100000001110001 01101111100011100000110100010 11100010000001100000001110001 00101101000001100000111110010 11100100100001100000001000001 00101101110001100000111000010 01111100110001100000000000001 00101011110001000000110000010 01111101000001000100000000001 00100100100001000100110000010 11111101010001000100000000010 01101010100001000100110000010 10111111010001000100000000010 01100010110011000100110000010 10101111110011000100000000010 00100010000001000000000000000 10101111010001000000000000000 01100000010001000000000000000\n",
      "flipped_qubit_dict {'Cluster_0': [], 'Cluster_1': [], 'Cluster_2': [], 'Cluster_3': [], 'Cluster_4': [8], 'Cluster_5': [1], 'Cluster_6': [], 'Cluster_7': [], 'Cluster_8': [], 'Cluster_9': [25], 'Cluster_10': [5], 'Cluster_11': [], 'Cluster_12': [6], 'Cluster_13': [], 'Cluster_14': [11], 'Cluster_15': [5], 'Cluster_16': [1], 'Cluster_17': [], 'Cluster_18': [0, 0, 1], 'Cluster_19': [25, 25, 26, 20, 27, 28, 29, 25, 23, 27, 24, 25, 28, 29, 29, 27, 20, 21, 22, 26, 21, 27, 22, 28, 23, 29, 20, 25, 21, 26, 22, 27, 23, 28, 29, 27, 22, 23, 20, 21, 28, 22, 29, 23, 20, 24, 21, 25, 26, 26, 23, 24, 28, 29, 22, 23, 24, 24, 25, 25, 26, 20, 21, 22, 23, 25, 24, 29, 25, 27, 12, 13, 23, 18, 25, 26, 20, 26, 21, 22, 25, 13, 28, 21, 24, 18, 22, 21, 29, 20, 22, 20, 20, 19, 23, 20, 19, 20, 21, 23, 22, 24, 25, 15, 17, 21, 23, 24, 25, 27, 21, 22, 23, 24, 25, 26, 29, 19, 19, 20, 21, 22, 22, 23, 24, 24], 'Cluster_20': [], 'Cluster_21': [4], 'Cluster_22': []}\n",
      "logical: [0] \n",
      "\n"
     ]
    },
    {
     "name": "stderr",
     "output_type": "stream",
     "text": [
      " 12%|█▏        | 130/1111 [04:22<33:50,  2.07s/it]"
     ]
    },
    {
     "name": "stdout",
     "output_type": "stream",
     "text": [
      "\n",
      "meas_str: 011011000101101000000001101000 01110010101111010001000111100 11101000110101110001001100001 01111100000011000001000111000 11100101110101100001001011110 01110000010011000001000010000 11100111010101100001001000110 01110011110011000001001110000 11100111100101100001001000111 11111111110011000101001110001 01101011010101100101001000100 11100111010010000101001110001 01101101010101100110001100110 11100111110010000101001010000 11101011000101100011001100110 10100001100011000100001011000 11101011000100100111001101000 11100001110011000100000101000 10001011000111100111000000000 00100011010010100100000101000 11001001100110100100000100000 10100011100001100100000001000 11010111000001100100000010000 11000011010000100100000011000 11001111010000000100000011000 11001111000000000100000011000 11000111010000000100000011000 01000001010000000100000011000 01000110000000000100000011000 11001100010000000000000000000 01000000000000000000000000000\n",
      "flipped_qubit_dict {'Cluster_0': [24], 'Cluster_1': [4], 'Cluster_2': [], 'Cluster_3': [23], 'Cluster_4': [4], 'Cluster_5': [24], 'Cluster_6': [], 'Cluster_7': [16, 18, 17, 18, 19, 19, 23, 20, 15, 15], 'Cluster_8': [24], 'Cluster_9': [4], 'Cluster_10': [25], 'Cluster_11': [27], 'Cluster_12': [5], 'Cluster_13': [23], 'Cluster_14': [25], 'Cluster_15': [], 'Cluster_16': [], 'Cluster_17': [10], 'Cluster_18': [], 'Cluster_19': [], 'Cluster_20': [15], 'Cluster_21': [4], 'Cluster_22': [6], 'Cluster_23': [16], 'Cluster_24': [6], 'Cluster_25': [2], 'Cluster_26': [], 'Cluster_27': [], 'Cluster_28': [], 'Cluster_29': [23], 'Cluster_30': [28], 'Cluster_31': [23], 'Cluster_32': [1], 'Cluster_33': [], 'Cluster_34': [10], 'Cluster_35': [23], 'Cluster_36': [23, 22, 19, 28, 20, 29, 29, 25, 26, 13, 28, 29, 15, 14, 29, 29, 15, 15, 29, 29, 16, 17, 18, 18, 21, 19, 22, 20, 14, 21, 22, 22, 16, 16, 23, 28, 25, 21, 25, 26, 22, 20, 23, 27, 28, 28, 29, 29, 27, 15, 28, 16, 29, 17, 20, 22, 23, 12, 25, 14, 18, 13, 12, 21, 14], 'Cluster_37': [25], 'Cluster_38': [1], 'Cluster_39': [], 'Cluster_40': [24], 'Cluster_41': [], 'Cluster_42': [24], 'Cluster_43': [3, 0, 0, 0, 5, 0, 4, 1, 5, 2, 6, 1, 4]}\n",
      "logical: [0] \n",
      "\n"
     ]
    },
    {
     "name": "stderr",
     "output_type": "stream",
     "text": [
      " 12%|█▏        | 131/1111 [04:24<34:15,  2.10s/it]"
     ]
    },
    {
     "name": "stdout",
     "output_type": "stream",
     "text": [
      "\n",
      "meas_str: 001001000101000111000110011100 11110110001101000000101000011 11111010110001100100100010001 11110110001101100000101000011 11111000001101100100100010010 11111000001101100000101000011 11111000001101100100100010010 11100000001101100000101000001 11110010000001100100101010000 11100000001101111000100000001 11110010001101100100110010000 11101110001101111000000000101 11111100001100100100000010100 11111000000100111000000000101 11101100001000100100000010100 01110010000101111000000000101 11101110001000100100000010100 01111110000100111000000000000 11110010001000101100000011011 10101100000100110000000011011 01110100001000001100000000010 00101000000100110000000011001 10111100001100000000000000010 01100010001100110000000011010 10111110010000000000000000010 01100000001100110100000000010 10100110000000000100000000010 11101000001100000100000000000 11100100010000000100000000000 11101110000000000100000000000 00000010000000000100000000000\n",
      "flipped_qubit_dict {'Cluster_0': [], 'Cluster_1': [28], 'Cluster_2': [28], 'Cluster_3': [], 'Cluster_4': [28], 'Cluster_5': [14], 'Cluster_6': [], 'Cluster_7': [4], 'Cluster_8': [23, 24, 20, 19, 20, 15, 20, 22, 16, 23, 17, 22, 18, 23, 19, 24, 24, 23, 24, 27, 29, 29, 21, 23, 12, 24, 25, 18, 18, 23, 19, 20, 22, 24, 24, 24, 18, 23, 25, 20, 29, 18, 21, 16, 24, 21, 26, 16, 28], 'Cluster_9': [23], 'Cluster_10': [28], 'Cluster_11': [14, 1, 6, 7, 3, 4, 0, 1, 0, 6, 2, 1, 3, 4, 5, 0, 6, 7, 8, 4, 1, 4, 5, 2, 4, 7, 8, 1, 7, 3, 1, 2, 5, 18, 6, 2, 3, 8, 20, 6, 8, 9, 10, 11, 13, 12, 13], 'Cluster_12': [], 'Cluster_13': [24], 'Cluster_14': [18], 'Cluster_15': [18], 'Cluster_16': [25, 23, 24], 'Cluster_17': [], 'Cluster_18': [24], 'Cluster_19': [1], 'Cluster_20': [27]}\n",
      "logical: [1] \n",
      "\n",
      "------------ Wrong logical! ------------\n",
      "\n"
     ]
    },
    {
     "name": "stderr",
     "output_type": "stream",
     "text": [
      " 12%|█▏        | 132/1111 [04:26<33:51,  2.08s/it]"
     ]
    },
    {
     "name": "stdout",
     "output_type": "stream",
     "text": [
      "\n",
      "meas_str: 110000100000010001110111001110 11101110000001100100010011011 11101000000011101001110111010 11110000000001100000000000001 11100010000011101001111111010 11111100000001100000000000010 01101000000011101001111001010 11111100000001100000000000010 11101110000011101001111011001 11110010000001100010000010000 11101110000011101000111000001 11110000000001100010000010010 01101110000010101000111000001 11110110000000000010000010010 01100110000010101000111000001 11111110000000000010000010010 01100110000010101000111000010 11111110011000000010000010010 01100010011000101000111000010 11111110011001000010000010010 01101010011000100100111000010 11101010011001000010000010010 11101000011000100100111100010 11101000011001000010000110010 01101000001000100100001100010 11100100001000000010000110010 01101000001000000100000000010 11100100001000000100000000010 01101100000000000000000000000 01100000000000000000000000000 01000000000000000000000000000\n",
      "flipped_qubit_dict {'Cluster_0': [], 'Cluster_1': [], 'Cluster_2': [24], 'Cluster_3': [], 'Cluster_4': [], 'Cluster_5': [], 'Cluster_6': [], 'Cluster_7': [5], 'Cluster_8': [11], 'Cluster_9': [6], 'Cluster_10': [15], 'Cluster_11': [], 'Cluster_12': [24], 'Cluster_13': [8], 'Cluster_14': [], 'Cluster_15': [], 'Cluster_16': [], 'Cluster_17': [24, 25, 24], 'Cluster_18': [12], 'Cluster_19': [16], 'Cluster_20': [19], 'Cluster_21': [19], 'Cluster_22': [1], 'Cluster_23': [], 'Cluster_24': [15, 15, 12, 13, 14, 12, 13, 14, 15], 'Cluster_25': [23], 'Cluster_26': [4], 'Cluster_27': [10], 'Cluster_28': [1], 'Cluster_29': [], 'Cluster_30': [5], 'Cluster_31': [29, 23, 24, 24, 28, 29, 24, 25, 23, 23, 24, 26, 23, 24, 24, 25, 25, 27, 23, 28, 28, 26, 29, 23, 27], 'Cluster_32': [1], 'Cluster_33': [7], 'Cluster_34': [2, 3, 4]}\n",
      "logical: [0] \n",
      "\n"
     ]
    },
    {
     "name": "stderr",
     "output_type": "stream",
     "text": [
      " 12%|█▏        | 133/1111 [04:28<33:50,  2.08s/it]"
     ]
    },
    {
     "name": "stdout",
     "output_type": "stream",
     "text": [
      "\n",
      "meas_str: 001010001011010000000101010000 01111000000011011100001100111 00100001110101011100110010011 01111000000011011100101100111 11100001110101011100010001000 00111000000011011100101100111 11100011110101011100010001011 01110110000011011100101100100 01001111100001111110011101011 10011010000011011000101100111 00001101110001111110000001000 10010100010011010000111100111 11001101110001110110000001111 01010000010011010000111100000 11001111110001110110000001000 01011010000011010000110000011 11001110000001110110000001000 11001000000011000000110000011 11001100000001100110000001001 11000000000011000000110000011 11010100000001000000000001010 11000110000011000000000000000 11011010000001100000000001010 11000101010011000000000000100 11011011000001100000000001110 11001111000011000000000000000 11000011000001100000000001110 11001111010011000000000000100 00001111010000000000000001100 11001110010000000000000001110 01000000000000000000000000110\n",
      "flipped_qubit_dict {'Cluster_0': [28], 'Cluster_1': [2, 3], 'Cluster_2': [], 'Cluster_3': [], 'Cluster_4': [24], 'Cluster_5': [], 'Cluster_6': [], 'Cluster_7': [24], 'Cluster_8': [16], 'Cluster_9': [15], 'Cluster_10': [], 'Cluster_11': [24], 'Cluster_12': [28], 'Cluster_13': [22, 25, 23, 24, 22], 'Cluster_14': [], 'Cluster_15': [24], 'Cluster_16': [1], 'Cluster_17': [8], 'Cluster_18': [23], 'Cluster_19': [1], 'Cluster_20': [11], 'Cluster_21': [], 'Cluster_22': [25, 25], 'Cluster_23': [], 'Cluster_24': [], 'Cluster_25': [20, 20, 21, 23, 24], 'Cluster_26': [6], 'Cluster_27': [0, 2, 1, 0, 2], 'Cluster_28': [23], 'Cluster_29': [], 'Cluster_30': [2], 'Cluster_31': [], 'Cluster_32': [], 'Cluster_33': [1], 'Cluster_34': [6], 'Cluster_35': [1], 'Cluster_36': [6], 'Cluster_37': [12, 12, 18, 19, 15, 11], 'Cluster_38': [24], 'Cluster_39': [1], 'Cluster_40': [], 'Cluster_41': [24], 'Cluster_42': [1], 'Cluster_43': [1], 'Cluster_44': [4], 'Cluster_45': [], 'Cluster_46': [29, 29, 28, 24, 28, 29, 24, 28, 27, 28, 27, 28, 29, 28, 28, 29, 27, 28, 29], 'Cluster_47': [3]}\n",
      "logical: [0] \n",
      "\n"
     ]
    },
    {
     "name": "stderr",
     "output_type": "stream",
     "text": [
      " 12%|█▏        | 134/1111 [04:30<33:13,  2.04s/it]"
     ]
    },
    {
     "name": "stdout",
     "output_type": "stream",
     "text": [
      "\n",
      "meas_str: 011000101100001000100100111010 11111011111001111110100100011 01011110101001011000010010100 01010101011001111110100110011 11111000101001011000010011110 11011001110001111010100110011 01000000100001010100010011101 01111100010001111110100110011 11001000100001010111010011110 11010100010001111111101100000 11111000110011010110111111110 01010100000001110111101010110 11010010110001010010111111110 01111001010001110111101100110 11011011100001001010111100110 00101101010001001111101100111 10011111100001000110111101111 10101101010001000111100001100 00011111100001101110111101111 11100001010001001111101001001 01011110100001000110111001111 10101100010001001111101001001 01011000000001000110101001111 00000000000001001111001001010 01000000000001000000001001010 10000010000001001111000001000 10000010000001000000000001000 01000010000001100011000001000 10000010000001000000000000000 01000010000001100000000000000 01000000000001000000000000000\n",
      "flipped_qubit_dict {'Cluster_0': [], 'Cluster_1': [], 'Cluster_2': [28], 'Cluster_3': [], 'Cluster_4': [10], 'Cluster_5': [12], 'Cluster_6': [1, 1, 1, 2, 1], 'Cluster_7': [], 'Cluster_8': [20], 'Cluster_9': [23], 'Cluster_10': [], 'Cluster_11': [24], 'Cluster_12': [25, 24, 26, 26, 27], 'Cluster_13': [6], 'Cluster_14': [1, 2], 'Cluster_15': [24], 'Cluster_16': [1], 'Cluster_17': [], 'Cluster_18': [6], 'Cluster_19': [], 'Cluster_20': [13, 14, 8, 11, 14, 9, 10, 11, 14], 'Cluster_21': [], 'Cluster_22': [24], 'Cluster_23': [4], 'Cluster_24': [], 'Cluster_25': [22], 'Cluster_26': [24, 23, 22, 24], 'Cluster_27': [12], 'Cluster_28': [], 'Cluster_29': [5, 15, 9, 13, 10, 2, 9, 10, 14, 9, 11, 12, 12], 'Cluster_30': [], 'Cluster_31': [27, 28, 26, 29, 28, 28, 29, 24, 25, 26, 26, 27, 28, 29, 27, 29, 28, 29, 26, 27, 29, 28], 'Cluster_32': [1], 'Cluster_33': [], 'Cluster_34': [1], 'Cluster_35': [21], 'Cluster_36': [24], 'Cluster_37': [1], 'Cluster_38': [], 'Cluster_39': [], 'Cluster_40': [24], 'Cluster_41': [23], 'Cluster_42': [], 'Cluster_43': [], 'Cluster_44': [4, 2, 4, 3], 'Cluster_45': [], 'Cluster_46': [], 'Cluster_47': [24]}\n",
      "logical: [0] \n",
      "\n"
     ]
    },
    {
     "name": "stderr",
     "output_type": "stream",
     "text": [
      " 12%|█▏        | 135/1111 [04:32<32:44,  2.01s/it]"
     ]
    },
    {
     "name": "stdout",
     "output_type": "stream",
     "text": [
      "\n",
      "meas_str: 111011100001000100001110101010 10101000010101011110000001110 11111010011001101111010110001 11101010011001011000000001110 11111000011001101101010110101 11101010011001011100000001010 01111010010101101101010111101 11100100011001011100100110010 00111000010101101101000111101 11101010011001011100100000000 00111000010101101101000110101 11101000011001010000100000011 00111001010101101101000111100 00101000011000101100100000011 00111001010101111101000111111 11100000011000001000100001000 01111101011001001101000110001 01100100011000101100100001000 01111111011001111101000110001 01100110011001011000100001011 01111101011001001101000110010 11101100011001011100100001011 01111011000001101101000110010 11101100000001101100100000000 11101111000001101101000000000 11101100010001101100100000000 11100000010001100001000000000 01000000010001001100100000000 11000000000001000001000000000 01000000000001001100100011000 00000000000001000000000000000\n",
      "flipped_qubit_dict {'Cluster_0': [], 'Cluster_1': [4], 'Cluster_2': [9], 'Cluster_3': [12], 'Cluster_4': [4], 'Cluster_5': [], 'Cluster_6': [], 'Cluster_7': [], 'Cluster_8': [24], 'Cluster_9': [29, 28, 29, 29, 27, 28, 28, 29, 28, 29], 'Cluster_10': [], 'Cluster_11': [22], 'Cluster_12': [24], 'Cluster_13': [5], 'Cluster_14': [24, 25], 'Cluster_15': [1], 'Cluster_16': [2, 3], 'Cluster_17': [19], 'Cluster_18': [19], 'Cluster_19': [], 'Cluster_20': [24], 'Cluster_21': [], 'Cluster_22': [1], 'Cluster_23': [], 'Cluster_24': [1], 'Cluster_25': [23], 'Cluster_26': [2], 'Cluster_27': [], 'Cluster_28': [18], 'Cluster_29': [24], 'Cluster_30': [1], 'Cluster_31': [28, 28], 'Cluster_32': [1], 'Cluster_33': [12, 14, 15, 12, 15, 12, 13, 12, 12, 13], 'Cluster_34': [28], 'Cluster_35': [22], 'Cluster_36': [0, 1, 0, 1], 'Cluster_37': [5], 'Cluster_38': [], 'Cluster_39': [24], 'Cluster_40': [8], 'Cluster_41': [5], 'Cluster_42': [], 'Cluster_43': [24], 'Cluster_44': [18], 'Cluster_45': [], 'Cluster_46': [], 'Cluster_47': [11, 11], 'Cluster_48': [18], 'Cluster_49': [7]}\n",
      "logical: [0] \n",
      "\n"
     ]
    },
    {
     "name": "stderr",
     "output_type": "stream",
     "text": [
      " 12%|█▏        | 136/1111 [04:34<32:43,  2.01s/it]"
     ]
    },
    {
     "name": "stdout",
     "output_type": "stream",
     "text": [
      "\n",
      "meas_str: 110100000001000110010000010000 00101110001101001111000001100 01011100000001100100000010000 01100000000001101111000001000 00011100000001001000000010000 10100110000001101111000011100 00011010000001001000000000100 10111000000001101111000010000 00100100000001001000000010000 10111000000011111111000010000 11100100000011011000000010000 00110010000011111111000010000 11101010000010111000000000000 01110000000010011111000000000 11101010000010111000000000000 01111110000010001111000000000 01000100000010111000000000000 11111000000010001011000000000 00000110000010111000000000001 10111100000010001010000000001 01100110000010110001000000010 11110010000010000010000000001 01101110000110110001000000010 11110110000111000001000000001 01101110000111000001000000010 01110010000110000001000000001 01101010000110000101000000010 01111110000100000001000000000 01101010000100000001000000000 01111100000000000001000000000 00100000000000000001000000000\n",
      "flipped_qubit_dict {'Cluster_0': [], 'Cluster_1': [27, 24, 26, 27, 25, 26], 'Cluster_2': [], 'Cluster_3': [], 'Cluster_4': [0, 0, 1], 'Cluster_5': [], 'Cluster_6': [24], 'Cluster_7': [], 'Cluster_8': [], 'Cluster_9': [], 'Cluster_10': [14], 'Cluster_11': [], 'Cluster_12': [10], 'Cluster_13': [], 'Cluster_14': [], 'Cluster_15': [1], 'Cluster_16': [], 'Cluster_17': [], 'Cluster_18': [24, 23, 27, 23, 25, 26, 27, 23], 'Cluster_19': [], 'Cluster_20': [24, 27], 'Cluster_21': [12, 13], 'Cluster_22': [24], 'Cluster_23': [], 'Cluster_24': [15], 'Cluster_25': [15], 'Cluster_26': [], 'Cluster_27': [], 'Cluster_28': [4], 'Cluster_29': [29, 23, 23, 23, 27, 29, 23, 23, 24, 28, 28, 24, 28, 25, 29, 24, 25, 26, 23, 23, 24, 24, 25, 25, 26], 'Cluster_30': [], 'Cluster_31': [], 'Cluster_32': [12], 'Cluster_33': [], 'Cluster_34': [], 'Cluster_35': [18]}\n",
      "logical: [0] \n",
      "\n"
     ]
    },
    {
     "name": "stderr",
     "output_type": "stream",
     "text": [
      " 12%|█▏        | 137/1111 [04:36<32:15,  1.99s/it]"
     ]
    },
    {
     "name": "stdout",
     "output_type": "stream",
     "text": [
      "\n",
      "meas_str: 101110100001000011011010100100 01111110000111000100110111010 10101100001011011010001001100 01111111000111000000110111010 01001100001011011010001001100 01110010000111000100110110010 01000100001011011110001000000 01111100000111000100110000000 11001000001011011110001000000 11111110001011100100110110000 11100000001011111010001110000 01011110001011101000100110000 11100000000011111110000000000 01111110000011001000100110000 01100000000011011110000011000 11011110000011001001000110000 11100110000011011110000000000 01011000000011000101000110000 01000110000011011110000000000 11010010000011000101000000000 11000110000011011110000000100 01001010000011000101000001000 11001010000011111110000000100 01000010000001000001000001000 11000110000001111110000011000 11001100000001000101000001100 11001100000001111111000011000 11000000000001001000000010100 01000000000001011011000011000 11000000000001001100000000000 01000000000001000000000000000\n",
      "flipped_qubit_dict {'Cluster_0': [], 'Cluster_1': [3], 'Cluster_2': [24], 'Cluster_3': [4], 'Cluster_4': [24], 'Cluster_5': [], 'Cluster_6': [], 'Cluster_7': [], 'Cluster_8': [], 'Cluster_9': [], 'Cluster_10': [4], 'Cluster_11': [], 'Cluster_12': [12, 10, 12, 13, 10, 10], 'Cluster_13': [24], 'Cluster_14': [25], 'Cluster_15': [], 'Cluster_16': [3], 'Cluster_17': [5], 'Cluster_18': [29, 29, 28, 23, 29, 29, 24, 23, 29, 28, 29, 23, 29, 28, 27], 'Cluster_19': [12], 'Cluster_20': [4], 'Cluster_21': [9], 'Cluster_22': [], 'Cluster_23': [4], 'Cluster_24': [], 'Cluster_25': [], 'Cluster_26': [], 'Cluster_27': [5], 'Cluster_28': [7], 'Cluster_29': [12], 'Cluster_30': [], 'Cluster_31': [], 'Cluster_32': [5], 'Cluster_33': [], 'Cluster_34': [5], 'Cluster_35': [18], 'Cluster_36': [], 'Cluster_37': [24, 24, 23], 'Cluster_38': [2], 'Cluster_39': [5], 'Cluster_40': [23], 'Cluster_41': [], 'Cluster_42': [], 'Cluster_43': [], 'Cluster_44': [23, 22, 23, 22, 25, 25, 26, 28], 'Cluster_45': [12]}\n",
      "logical: [0] \n",
      "\n"
     ]
    },
    {
     "name": "stderr",
     "output_type": "stream",
     "text": [
      " 12%|█▏        | 138/1111 [04:38<32:04,  1.98s/it]"
     ]
    },
    {
     "name": "stdout",
     "output_type": "stream",
     "text": [
      "\n",
      "meas_str: 110000001001100110000000111000 11110000001001011101001111010 11110001100011110101001011010 00010000001001011101001010011 01010001101111110101001011111 10010000001001011101001010110 01010000011111110101001011110 11010000001001011101001000011 01010000001111000101001011111 00011100001001010101000001010 10010000000011001101000010110 00011100001001010101000001010 11011100000011001101000010110 11010110001001010101000001011 10010000000011001101000010111 11010110001001010101000001010 01010000000011001101000000111 01010110001001010101000000011 01010100000011001101000000110 01010000001111011001000000010 01010110000011000001000010000 01010010001111000001000010000 11010110000011000001000000000 00011100001111000001000000000 11011000000001100001000000000 00110100000011000001000000000 11101100000001100001000000000 00100010000001000001000000000 11100010000001000001000000000 11100010000001000001000000000 10100010000001000001000000000\n",
      "flipped_qubit_dict {'Cluster_0': [], 'Cluster_1': [], 'Cluster_2': [], 'Cluster_3': [], 'Cluster_4': [], 'Cluster_5': [], 'Cluster_6': [28], 'Cluster_7': [15, 16], 'Cluster_8': [], 'Cluster_9': [18], 'Cluster_10': [15, 16], 'Cluster_11': [], 'Cluster_12': [28], 'Cluster_13': [13], 'Cluster_14': [23, 24, 25, 25, 24], 'Cluster_15': [12], 'Cluster_16': [12], 'Cluster_17': [17], 'Cluster_18': [4], 'Cluster_19': [29, 29, 29, 29, 28, 29, 29, 29, 28, 29, 29, 28, 28], 'Cluster_20': [28], 'Cluster_21': [], 'Cluster_22': [23, 24], 'Cluster_23': [], 'Cluster_24': [], 'Cluster_25': [], 'Cluster_26': [], 'Cluster_27': [18], 'Cluster_28': [24], 'Cluster_29': [14], 'Cluster_30': [21], 'Cluster_31': [0, 2, 3, 4, 4, 0, 5, 1, 3, 0, 4, 1, 0, 2, 0, 0, 0, 0, 0, 0, 0, 3, 4, 0, 1, 2, 1, 2], 'Cluster_32': [18], 'Cluster_33': [], 'Cluster_34': []}\n",
      "logical: [0] \n",
      "\n"
     ]
    },
    {
     "name": "stderr",
     "output_type": "stream",
     "text": [
      " 13%|█▎        | 139/1111 [04:40<32:48,  2.02s/it]"
     ]
    },
    {
     "name": "stdout",
     "output_type": "stream",
     "text": [
      "\n",
      "meas_str: 000011110000011101001010100100 01110101001001010101100110001 11101000001011001000011000111 00110111001101010101100110001 00100110001001011000011000111 00110111000001100101100000001 11101010001001011000011000100 01110111000001100101100001001 11101000001111011000011001110 01110111000001101101100000000 11101010001111010000011001000 01110011000001101101100000100 11101000001111010000011001000 01111111001101000001100000100 11100100000111010000011001100 01101111101001100001100000000 11101010110111010000011001100 11101100100101000001100001000 01100000100001010000000000100 11101100000001000001100000010 10100000000001010000000000100 01101110000000000001100000010 11100100000001010000000000100 11100100000000000000000000010 11100010000001110000000000000 11101000000001000000000000000 10101100000001110000000000000 11100000000001000000000000000 01100000000000110000000000000 01100000000000000000000000000 01000000000000000000000000000\n",
      "flipped_qubit_dict {'Cluster_0': [], 'Cluster_1': [], 'Cluster_2': [14], 'Cluster_3': [], 'Cluster_4': [2], 'Cluster_5': [9], 'Cluster_6': [28], 'Cluster_7': [28], 'Cluster_8': [2, 3, 3, 3], 'Cluster_9': [7], 'Cluster_10': [21, 12, 29, 15, 16, 17, 18, 29, 24, 25, 28, 29, 23, 26, 15, 16, 17, 23, 24, 25, 26, 27, 27, 28, 29, 15, 16, 24, 29, 17, 16, 17, 28, 16, 17, 17, 18, 19, 20, 18, 21, 22, 28, 29, 21, 22, 24, 18, 19, 20, 25, 17, 20, 21, 22, 15, 16, 17, 19, 20, 21, 20, 15, 16, 17, 21, 19, 20], 'Cluster_11': [], 'Cluster_12': [], 'Cluster_13': [24], 'Cluster_14': [24], 'Cluster_15': [23], 'Cluster_16': [2, 3], 'Cluster_17': [1], 'Cluster_18': [], 'Cluster_19': [17], 'Cluster_20': [], 'Cluster_21': [1], 'Cluster_22': [24], 'Cluster_23': [5], 'Cluster_24': [], 'Cluster_25': [24], 'Cluster_26': [28], 'Cluster_27': [28], 'Cluster_28': [24]}\n",
      "logical: [0] \n",
      "\n"
     ]
    },
    {
     "name": "stderr",
     "output_type": "stream",
     "text": [
      " 13%|█▎        | 140/1111 [04:42<32:44,  2.02s/it]"
     ]
    },
    {
     "name": "stdout",
     "output_type": "stream",
     "text": [
      "\n",
      "meas_str: 011010110000100000100001100000 01111100000111101100000000010 11100001000001101010001010010 01111100000111101100000000010 10100111000001100110001010000 01111100000111101100000000000 01110011000001100110001001000 00111100000111101100000000000 00111001000001100110001001000 11111000000111111100000000000 11110001000001110110001001000 11111000000111111100000000000 01101101000001110110001001000 11111010000111111100000000000 11101101000001111110001010000 11110000000111110100000000000 00101101010011111110001010000 11111010000101110100000000000 01100001010011111110000000000 11111010010101111000000000000 01100001010011111110000000000 11111010010100111000000000000 01101111010010110000000000000 11111100010101110000000000000 01100111010011110000000000000 10101000000100110000000000000 01100111000110110000000000000 11110000000000000000000000000 01100111000000000000000000000 01110000000000000000000000000 00100100000000000000000000000\n",
      "flipped_qubit_dict {'Cluster_0': [25, 29, 26, 24, 27, 28, 29, 29, 26, 28, 27, 27, 27, 29, 29, 29], 'Cluster_1': [22], 'Cluster_2': [14], 'Cluster_3': [17], 'Cluster_4': [14], 'Cluster_5': [], 'Cluster_6': [], 'Cluster_7': [], 'Cluster_8': [], 'Cluster_9': [11], 'Cluster_10': [], 'Cluster_11': [25, 26, 27, 23, 26, 25, 25, 24, 25, 27, 23], 'Cluster_12': [12], 'Cluster_13': [5, 6], 'Cluster_14': [], 'Cluster_15': [23], 'Cluster_16': [], 'Cluster_17': [], 'Cluster_18': [4], 'Cluster_19': [], 'Cluster_20': [26, 23, 24, 23, 26, 27, 25, 23, 24, 28, 25], 'Cluster_21': [28], 'Cluster_22': [28], 'Cluster_23': [], 'Cluster_24': [4], 'Cluster_25': [], 'Cluster_26': [12], 'Cluster_27': [23]}\n",
      "logical: [0] \n",
      "\n"
     ]
    },
    {
     "name": "stderr",
     "output_type": "stream",
     "text": [
      " 13%|█▎        | 141/1111 [04:44<32:47,  2.03s/it]"
     ]
    },
    {
     "name": "stdout",
     "output_type": "stream",
     "text": [
      "\n",
      "meas_str: 011100100010101011001000101000 11111010001011010010000111101 11101100010101100111100000001 10110110000111010010000111101 11100000010101100110000000001 10110100000011011110000111101 00100100010011100110000110011 10110100000001000110000001111 01100010010011100110000010001 01010100000001000110000010111 11011000011011100110000010001 00011000001001000010000010101 00011100011011100100000001011 00011100011001000010000011101 00011110001011100010000000011 11011110000101000010000011110 01001100000011100010000011011 11111110000101000010000000110 00100010000001000010000011011 10011100000111000010000011101 00100000000101000010000000111 10011100000100000010000010011 00101110000100000010000000110 10011100000100000010000010110 01000000000101000010000010000 01000000000001000010000110110 01011000000111000010000000000 01000000000001000010000000110 01000000000111000010000000000 01000100000001000000000000110 00000010000001000000000000000\n",
      "flipped_qubit_dict {'Cluster_0': [], 'Cluster_1': [23], 'Cluster_2': [2], 'Cluster_3': [], 'Cluster_4': [], 'Cluster_5': [17], 'Cluster_6': [23], 'Cluster_7': [25], 'Cluster_8': [5], 'Cluster_9': [5], 'Cluster_10': [17], 'Cluster_11': [25], 'Cluster_12': [], 'Cluster_13': [25], 'Cluster_14': [28], 'Cluster_15': [2, 3, 4], 'Cluster_16': [23, 24], 'Cluster_17': [27], 'Cluster_18': [24], 'Cluster_19': [], 'Cluster_20': [1], 'Cluster_21': [27], 'Cluster_22': [27], 'Cluster_23': [4], 'Cluster_24': [4], 'Cluster_25': [1], 'Cluster_26': [], 'Cluster_27': [11], 'Cluster_28': [4], 'Cluster_29': [], 'Cluster_30': [29], 'Cluster_31': [], 'Cluster_32': [28, 16, 22, 22, 23, 24, 15, 25, 24, 26, 26, 24, 25, 27, 20, 21, 22, 23], 'Cluster_33': [], 'Cluster_34': [], 'Cluster_35': [28], 'Cluster_36': [28], 'Cluster_37': [0, 0, 14, 15, 18, 16, 19, 24, 11, 20, 7, 21, 3, 8, 22, 2, 9, 10, 4, 11, 5, 2, 12, 3, 13, 4, 4, 14, 2, 9, 15, 6, 3, 0, 7, 4, 1, 8, 5, 9, 10, 0, 11, 1, 12, 13, 14, 15, 16, 18, 19, 20, 24, 21, 22, 23, 6, 0, 1, 4, 4, 6, 7, 8, 9, 12, 4, 10, 18, 11, 12]}\n",
      "logical: [1] \n",
      "\n",
      "------------ Wrong logical! ------------\n",
      "\n"
     ]
    },
    {
     "name": "stderr",
     "output_type": "stream",
     "text": [
      " 13%|█▎        | 142/1111 [04:46<32:24,  2.01s/it]"
     ]
    },
    {
     "name": "stdout",
     "output_type": "stream",
     "text": [
      "\n",
      "meas_str: 100010000000001000000000111010 01010110000101101101010001001 01001110000101001101010101010 11010110000101101101100001110 01001100000101001101010101010 01010010000101101001100001110 11101100000101001101010111010 01111010000101101101100110110 11110010000101001101011111010 01001010000101001101101110010 11111100000101100001010111110 01001000000101101101100110001 01100110000111100001001110010 11101100000111101101111101001 11100000000011001100000100010 11101100000011111100111100001 11001100000011001100001101010 01000000000011111100110100001 00100000000011001110000111010 10100000000011110010111000001 00100010000011001110001000010 11100010000011100010011100001 00100010000011000000001110010 11100010000011110000001100010 00100100000011000100001010000 11100000000010111100001100000 00100110000010000000001110000 00100110000010110000000100000 00100010000001000000000100000 01100100000001000000000100100 01100000000000000000000100000\n",
      "flipped_qubit_dict {'Cluster_0': [27], 'Cluster_1': [], 'Cluster_2': [27], 'Cluster_3': [23, 23], 'Cluster_4': [], 'Cluster_5': [14], 'Cluster_6': [16], 'Cluster_7': [16], 'Cluster_8': [12], 'Cluster_9': [23], 'Cluster_10': [28], 'Cluster_11': [12], 'Cluster_12': [], 'Cluster_13': [], 'Cluster_14': [], 'Cluster_15': [23], 'Cluster_16': [1], 'Cluster_17': [12, 11, 11], 'Cluster_18': [], 'Cluster_19': [], 'Cluster_20': [12], 'Cluster_21': [24], 'Cluster_22': [27, 28, 27], 'Cluster_23': [], 'Cluster_24': [24], 'Cluster_25': [], 'Cluster_26': [24], 'Cluster_27': [], 'Cluster_28': [], 'Cluster_29': [4, 5, 6, 4, 5, 4, 8, 5, 5, 6, 7, 5, 7, 5, 4], 'Cluster_30': [3], 'Cluster_31': [1], 'Cluster_32': [16, 16, 12, 15, 14, 12], 'Cluster_33': [], 'Cluster_34': [], 'Cluster_35': [29, 28, 23, 26, 27, 27, 29, 29, 24, 27, 28, 23, 26, 23, 24, 27, 23, 28, 29, 24, 26, 27, 23, 24, 26, 27, 28, 29, 24, 25], 'Cluster_36': [4, 5], 'Cluster_37': [23], 'Cluster_38': [1], 'Cluster_39': [], 'Cluster_40': [8], 'Cluster_41': []}\n",
      "logical: [0] \n",
      "\n"
     ]
    },
    {
     "name": "stderr",
     "output_type": "stream",
     "text": [
      " 13%|█▎        | 143/1111 [04:48<32:24,  2.01s/it]"
     ]
    },
    {
     "name": "stdout",
     "output_type": "stream",
     "text": [
      "\n",
      "meas_str: 001111000000000101101111010110 11110110000001111001101001010 10110010000001010011101110111 11110110000001111000011110010 11111110000001000011100011110 11111110000001111000011101100 11111100000001000011100011010 10100010000001111000011000100 01110000000001101001100101010 10100010000001101010011000100 10110010000001111011100101000 10100000000001111011011000110 10110000000001111010100101000 11100010000001111011011000100 00110000000001001010100100000 00101110010001101011011011100 00110110000001011010100100000 00100100000001111011000000100 11111010000001101010100011000 00101010000001101011000100100 11111000000000111011000010100 01100110000010111011000101000 00111000000011111010000010100 11101010000010011010000011000 01000100000010001010000010100 11000100000010001010000011000 10000000000010001010000010110 10000000000000001010000010000 10000000000000001100000011100 10000000000000001010000010000 01000000000000001000000001000\n",
      "flipped_qubit_dict {'Cluster_0': [3], 'Cluster_1': [], 'Cluster_2': [28], 'Cluster_3': [11], 'Cluster_4': [28], 'Cluster_5': [], 'Cluster_6': [11], 'Cluster_7': [], 'Cluster_8': [], 'Cluster_9': [28, 27, 27], 'Cluster_10': [], 'Cluster_11': [25, 24, 23], 'Cluster_12': [15], 'Cluster_13': [5], 'Cluster_14': [], 'Cluster_15': [15], 'Cluster_16': [24], 'Cluster_17': [], 'Cluster_18': [], 'Cluster_19': [], 'Cluster_20': [3], 'Cluster_21': [], 'Cluster_22': [], 'Cluster_23': [24], 'Cluster_24': [3], 'Cluster_25': [9], 'Cluster_26': [], 'Cluster_27': [14], 'Cluster_28': [], 'Cluster_29': [28], 'Cluster_30': [7], 'Cluster_31': [], 'Cluster_32': [23, 24, 24, 23], 'Cluster_33': [3, 4, 2], 'Cluster_34': [], 'Cluster_35': [14], 'Cluster_36': [28, 28], 'Cluster_37': [], 'Cluster_38': [28], 'Cluster_39': [3, 1, 3, 6], 'Cluster_40': [13, 11, 12, 13, 14], 'Cluster_41': [27, 28, 29, 23, 28, 29, 23, 24, 24, 25, 29, 24, 26, 23, 24, 24, 26, 27, 28, 28, 25, 27, 24, 26, 28, 29], 'Cluster_42': [5], 'Cluster_43': [8], 'Cluster_44': [], 'Cluster_45': []}\n",
      "logical: [0] \n",
      "\n"
     ]
    },
    {
     "name": "stderr",
     "output_type": "stream",
     "text": [
      " 13%|█▎        | 144/1111 [04:50<32:29,  2.02s/it]"
     ]
    },
    {
     "name": "stdout",
     "output_type": "stream",
     "text": [
      "\n",
      "meas_str: 000010010011110110111101100100 01011010011011100111001101110 01000001001011001011110111010 01011100011011100110000111100 01001011001011001010010111100 01011110011010100001100100010 01001111001011001010010110000 01011000011001100100100010010 01000011001011001110010110010 01011010011001100100000010010 01000001000111001011110110000 01011010011001100101000010010 00000001000111001111010110010 00010100011001100101000010010 00000011000111001111110000000 11010110011001010100000010010 10101001000111001110110000000 10111000011001011000000011010 11101001000001001110010001000 00111010000001111000000011010 00100111000001011111110011000 01111100010001001000000010010 00101111000001011110010000000 01111000000001001001100010010 11100000000001010011110000000 11111000000001001001100011110 01100000000000010011110001000 00111000000000011001100011100 00100000000000000011000001000 01111000000000000001100010000 00100000000000000000000000000\n",
      "flipped_qubit_dict {'Cluster_0': [29, 28, 27, 29, 28, 25, 27, 28, 27, 27, 28], 'Cluster_1': [9], 'Cluster_2': [4, 3], 'Cluster_3': [10], 'Cluster_4': [13], 'Cluster_5': [8], 'Cluster_6': [], 'Cluster_7': [], 'Cluster_8': [28], 'Cluster_9': [2, 3, 3], 'Cluster_10': [], 'Cluster_11': [9], 'Cluster_12': [12], 'Cluster_13': [22], 'Cluster_14': [24], 'Cluster_15': [28], 'Cluster_16': [24], 'Cluster_17': [14], 'Cluster_18': [], 'Cluster_19': [23], 'Cluster_20': [], 'Cluster_21': [14], 'Cluster_22': [], 'Cluster_23': [24], 'Cluster_24': [], 'Cluster_25': [19], 'Cluster_26': [], 'Cluster_27': [3, 4, 5, 5, 8, 7, 9, 14, 3, 2, 3, 4, 5, 6, 7, 5, 8, 2, 4, 11, 2, 9, 0, 1, 9, 12, 0, 1, 2], 'Cluster_28': [17], 'Cluster_29': [23], 'Cluster_30': [], 'Cluster_31': [], 'Cluster_32': [5], 'Cluster_33': [], 'Cluster_34': [24], 'Cluster_35': [], 'Cluster_36': [], 'Cluster_37': [18], 'Cluster_38': [], 'Cluster_39': [16], 'Cluster_40': [24, 23, 24], 'Cluster_41': [], 'Cluster_42': [], 'Cluster_43': [23]}\n",
      "logical: [0] \n",
      "\n"
     ]
    },
    {
     "name": "stderr",
     "output_type": "stream",
     "text": [
      " 13%|█▎        | 145/1111 [04:52<32:33,  2.02s/it]"
     ]
    },
    {
     "name": "stdout",
     "output_type": "stream",
     "text": [
      "\n",
      "meas_str: 000001111000011110001000001110 10000001000001100001101110000 10001011100011101000001111001 00000101000001000001101110000 11001001100011101000001010001 00000101000001001001101111010 00000101100011100000001101011 00000001000001001001101111011 00001001000011100000001010001 11000001100001001001101011011 10001000000011000000001011010 00000001100001011000101010000 01000110000011010001001011010 11000101100001011000101010000 01000000000011010000101011010 11000110000001011000101101011 00001110000011011000101111010 01000100000001110000101101001 10000100000010011000101111000 10000010000000110000100001011 01000100000011011000101111001 10000010000000100000101100000 01010100000011111010100010001 10010100011000000010101100000 01010000010010011010100011001 01010100000001000010101100111 01010010000010011010100000010 01011010000000000000101100000 01010100000000011000100000110 11011000000000000000101100000 01000000000010000000000000000\n",
      "flipped_qubit_dict {'Cluster_0': [6], 'Cluster_1': [], 'Cluster_2': [2], 'Cluster_3': [], 'Cluster_4': [10, 11, 12, 13, 17, 13, 18, 24, 17, 14, 19, 24, 18, 20, 21, 22, 23, 19, 20, 15, 21, 23, 16, 22, 23, 24, 25, 24, 25, 13, 13, 9, 10, 11, 12, 13], 'Cluster_5': [1, 1], 'Cluster_6': [4], 'Cluster_7': [1], 'Cluster_8': [3], 'Cluster_9': [28], 'Cluster_10': [], 'Cluster_11': [], 'Cluster_12': [6], 'Cluster_13': [1], 'Cluster_14': [6], 'Cluster_15': [1], 'Cluster_16': [28], 'Cluster_17': [6], 'Cluster_18': [24], 'Cluster_19': [28], 'Cluster_20': [], 'Cluster_21': [1], 'Cluster_22': [4], 'Cluster_23': [29, 28, 29, 29, 24, 28, 29, 23, 29, 25, 29, 26, 27, 25, 28, 29, 23, 26, 27, 29, 23, 22, 23, 28, 24, 29, 21, 26, 22, 27, 23, 29, 24, 25, 21, 25, 22, 23, 24, 27, 22, 26, 28, 23, 21, 22, 23], 'Cluster_24': [1], 'Cluster_25': [4, 1, 1, 5, 3, 3, 4, 4, 5, 3, 1, 3, 4, 5, 5, 1], 'Cluster_26': [28], 'Cluster_27': [], 'Cluster_28': [28]}\n",
      "logical: [0] \n",
      "\n"
     ]
    },
    {
     "name": "stderr",
     "output_type": "stream",
     "text": [
      " 13%|█▎        | 146/1111 [04:54<32:32,  2.02s/it]"
     ]
    },
    {
     "name": "stdout",
     "output_type": "stream",
     "text": [
      "\n",
      "meas_str: 110010011010010010010000000110 11111110000100011001011010101 00100100111111000010011110000 01100010000100011001011111101 00100100111111000010001100111 11001100010100000001000011101 00101111111111000010001100011 11000001001001000001001111110 01101100011110000010000110011 01001001000101001101001111110 01101010011111100011000110011 01001011000000101100001111101 01101000010111100011000110011 01000111000000101100001010110 01101010010111100011000110000 01000011000000111100000010000 00001100010111110011000100000 01001001001101010000001100000 11001100011011110011000110000 00001001000001010000001100000 01001100011000100011000110000 11000011000000100000000000000 01000000011000100011000110000 10000011000000100000000011000 11000000011000100011000111000 11000000000000001100000010000 01000011011000001111000111000 01000011000000000000000010000 00000000011000001111000110000 00000000000000000000000000000 01000000000000000011000000000\n",
      "flipped_qubit_dict {'Cluster_0': [10], 'Cluster_1': [5, 4], 'Cluster_2': [12], 'Cluster_3': [19], 'Cluster_4': [], 'Cluster_5': [22], 'Cluster_6': [22], 'Cluster_7': [12], 'Cluster_8': [22], 'Cluster_9': [], 'Cluster_10': [12], 'Cluster_11': [], 'Cluster_12': [22], 'Cluster_13': [], 'Cluster_14': [12], 'Cluster_15': [22], 'Cluster_16': [4], 'Cluster_17': [6], 'Cluster_18': [], 'Cluster_19': [15], 'Cluster_20': [23], 'Cluster_21': [16], 'Cluster_22': [18], 'Cluster_23': [18], 'Cluster_24': [5, 6, 6], 'Cluster_25': [12], 'Cluster_26': [15], 'Cluster_27': [18], 'Cluster_28': [23, 24, 23, 27, 24, 25, 26, 27], 'Cluster_29': [], 'Cluster_30': [2], 'Cluster_31': [1], 'Cluster_32': [1], 'Cluster_33': [4, 5], 'Cluster_34': [24], 'Cluster_35': [1], 'Cluster_36': [], 'Cluster_37': [15], 'Cluster_38': [18], 'Cluster_39': [15], 'Cluster_40': [24], 'Cluster_41': [12], 'Cluster_42': [18], 'Cluster_43': [5, 6, 6], 'Cluster_44': [], 'Cluster_45': [21], 'Cluster_46': [23], 'Cluster_47': [28], 'Cluster_48': [19], 'Cluster_49': [], 'Cluster_50': [], 'Cluster_51': [], 'Cluster_52': [13], 'Cluster_53': [18, 19], 'Cluster_54': [1], 'Cluster_55': [1, 3, 6, 3, 4], 'Cluster_56': [27, 27, 23, 23, 24, 29, 29, 24, 26, 29]}\n",
      "logical: [0] \n",
      "\n"
     ]
    },
    {
     "name": "stderr",
     "output_type": "stream",
     "text": [
      " 13%|█▎        | 147/1111 [04:57<32:56,  2.05s/it]"
     ]
    },
    {
     "name": "stdout",
     "output_type": "stream",
     "text": [
      "\n",
      "meas_str: 010011000010010010110011110110 00010010001111011100000001111 11000010000001000001010000110 00010000011101011100000000001 11000010000111000001010010110 10011100000101011000000010001 10000100000111001101010010110 01011010000101011100000011011 10000100000111001101010011000 01011110000001010000000011101 11001010000111001101010000010 00011100000101010000000010001 11000010000111001110010001010 01011100000101010000000101001 01001110000011001110010000010 01011010000101010000000100001 01000010000010001110000000010 01001010000101010000010100001 01010010000100001000000000001 01001010000000010000011110001 01010010000000001000001100001 00001010000000010000011110001 00001110000000001000000000000 10001100000000010000000110000 10000110000000001000000000000 10001100000000010000000110000 01001010000000001000000110000 00001100000000010000000000000 11000010000000001000000000000 00000010000000010000000000000 00000000000000001000000000000\n",
      "flipped_qubit_dict {'Cluster_0': [13], 'Cluster_1': [], 'Cluster_2': [28], 'Cluster_3': [23], 'Cluster_4': [], 'Cluster_5': [5], 'Cluster_6': [], 'Cluster_7': [5], 'Cluster_8': [5], 'Cluster_9': [24], 'Cluster_10': [28], 'Cluster_11': [25, 24, 23], 'Cluster_12': [], 'Cluster_13': [], 'Cluster_14': [7], 'Cluster_15': [6], 'Cluster_16': [], 'Cluster_17': [5], 'Cluster_18': [1], 'Cluster_19': [16, 17, 17, 16, 12, 17, 12, 13, 14, 15, 16, 17, 17, 12, 16, 17, 19, 16, 11, 17, 12, 13, 14, 23, 17, 15], 'Cluster_20': [], 'Cluster_21': [], 'Cluster_22': [24], 'Cluster_23': [], 'Cluster_24': [23], 'Cluster_25': [24], 'Cluster_26': [], 'Cluster_27': [5], 'Cluster_28': [28], 'Cluster_29': [10], 'Cluster_30': [3], 'Cluster_31': [], 'Cluster_32': [], 'Cluster_33': [], 'Cluster_34': [4], 'Cluster_35': [24, 24], 'Cluster_36': [], 'Cluster_37': [], 'Cluster_38': [], 'Cluster_39': [23], 'Cluster_40': [28], 'Cluster_41': [23], 'Cluster_42': [28], 'Cluster_43': [], 'Cluster_44': [24], 'Cluster_45': [2, 3]}\n",
      "logical: [0] \n",
      "\n"
     ]
    },
    {
     "name": "stderr",
     "output_type": "stream",
     "text": [
      " 13%|█▎        | 148/1111 [04:59<32:51,  2.05s/it]"
     ]
    },
    {
     "name": "stdout",
     "output_type": "stream",
     "text": [
      "\n",
      "meas_str: 101000100010100101001110110100 01000001011101101100100000101 10100111000011110001101101111 01000011011101101100100000010 01001111000011110001101010111 00000101011101111100100000011 10001001000011100001101011100 11011111011101111100100010011 00000101000010101101001011111 00011111011011110000110010000 01000101000011101101001110011 00011101000011111100111110010 01001001000011101101001000011 10001001000011111101111110010 10010001000010101100001100000 10001001000011110001111011000 10011100000010001100001101000 10000001000010110001111010000 00011100000010101100001101000 00010001000011011101111010000 01001010000010001000001101000 01011101000011101111111011000 01001000000011100100000000000 01001011000010000011100011000 01001010000010000100000000000 01000101000010000011100001000 10001110000010000100000010000 01000001000010001111100011000 00000010000000000000000011000 00000000000000000011100000000 00000000000000000010000000000\n",
      "flipped_qubit_dict {'Cluster_0': [4], 'Cluster_1': [4], 'Cluster_2': [], 'Cluster_3': [22], 'Cluster_4': [28], 'Cluster_5': [4], 'Cluster_6': [24], 'Cluster_7': [], 'Cluster_8': [28], 'Cluster_9': [9, 10, 10, 12, 12, 18, 19, 12, 13, 14, 15, 17, 8, 13, 14, 14, 15, 15, 7, 6, 15, 18], 'Cluster_10': [], 'Cluster_11': [24, 24, 25], 'Cluster_12': [], 'Cluster_13': [24], 'Cluster_14': [23], 'Cluster_15': [], 'Cluster_16': [], 'Cluster_17': [1, 2, 3], 'Cluster_18': [], 'Cluster_19': [5, 1, 2, 3, 4, 5, 6, 3], 'Cluster_20': [], 'Cluster_21': [1], 'Cluster_22': [24], 'Cluster_23': [25], 'Cluster_24': [1, 5, 4, 1, 2, 3], 'Cluster_25': [1], 'Cluster_26': [], 'Cluster_27': [28, 22, 23, 25, 25, 23, 23, 24, 25, 26, 27, 28, 25, 29, 29, 24, 25, 25, 26, 26, 27, 28, 28, 29, 29, 24, 23, 23, 24, 24, 25, 25, 26, 27, 29, 29, 29, 23]}\n",
      "logical: [0] \n",
      "\n"
     ]
    },
    {
     "name": "stderr",
     "output_type": "stream",
     "text": [
      " 13%|█▎        | 149/1111 [05:01<32:59,  2.06s/it]"
     ]
    },
    {
     "name": "stdout",
     "output_type": "stream",
     "text": [
      "\n",
      "meas_str: 000001100010001000010001100010 01011110000101010001000001001 01010110111101110010000011010 01000010100101010001000110010 01010110111101110011000011011 01000010111001010000000110011 01010110101101110011000011011 11011010111001100000000110000 01010110001101110011000101011 01000100011001100010001110011 01011010001101110001001111011 01001110011001000010011010011 01011010001101000001001111000 01000010010101000010000110011 01010110000001010001001111000 10000100010101000010000111011 01011100000001100101000001011 01011110000101100000000010011 10000000010001100000000000011 00011100000101100000000000000 10001110010001100000000000011 11011100000101100000000000000 11000100011001100000000000000 10011110000001100000000000000 10000110001001100000000000000 01011110010001100000000000000 00000110001001100000000000000 01011110010001100000000000000 01000000011001100000000000000 01011000000001100000000000000 00000000000000100000000000000\n",
      "flipped_qubit_dict {'Cluster_0': [], 'Cluster_1': [], 'Cluster_2': [25], 'Cluster_3': [19], 'Cluster_4': [], 'Cluster_5': [23], 'Cluster_6': [23], 'Cluster_7': [], 'Cluster_8': [], 'Cluster_9': [18], 'Cluster_10': [], 'Cluster_11': [1], 'Cluster_12': [], 'Cluster_13': [24], 'Cluster_14': [1], 'Cluster_15': [24], 'Cluster_16': [28, 29, 29, 29, 23, 24, 28, 29, 28, 28, 29, 28, 26, 26, 28, 28, 29, 29, 29], 'Cluster_17': [8, 9, 14, 10, 16, 19, 13, 14, 20, 17, 11, 12, 13, 14, 7, 16, 18, 20, 11, 21, 0, 22, 23, 13, 2, 3, 4, 5, 17, 18, 6, 8, 19, 9, 10, 5, 11, 7, 21, 22, 14, 12, 13, 15, 0, 10, 1, 11, 18, 2, 3, 6], 'Cluster_18': [], 'Cluster_19': [], 'Cluster_20': [23], 'Cluster_21': [28], 'Cluster_22': [24], 'Cluster_23': [24], 'Cluster_24': [1], 'Cluster_25': [23, 24, 24], 'Cluster_26': [], 'Cluster_27': [1], 'Cluster_28': [], 'Cluster_29': [23], 'Cluster_30': [25], 'Cluster_31': [5], 'Cluster_32': [1], 'Cluster_33': [25], 'Cluster_34': [], 'Cluster_35': [], 'Cluster_36': [1], 'Cluster_37': [4], 'Cluster_38': [6], 'Cluster_39': [25]}\n",
      "logical: [0] \n",
      "\n"
     ]
    },
    {
     "name": "stderr",
     "output_type": "stream",
     "text": [
      " 14%|█▎        | 150/1111 [05:03<32:26,  2.03s/it]"
     ]
    },
    {
     "name": "stdout",
     "output_type": "stream",
     "text": [
      "\n",
      "meas_str: 010110110010001011000100111110 00111111111001101100000110000 10010010100001011000110010001 10111111111001101100000000000 10010100100001001000110010001 01110101111001111100000000000 11111110100001001001110010001 01111001101001111110000000000 11110000110001001001110010001 01111011001001111110000110000 11110010100001101001000010001 00011011001001111110000110010 11110000100001101001000010011 01001001001001111110000110001 11111110100001101001000100000 01010010001001111110000000001 11111100010001100100000100000 10001000001001111111000010001 11111000010001101000000110000 11000110011001111111000010001 01111000010001101000000110000 11010010001001111111000010011 01111010000001001000000111101 00011100001001101011000100011 01111110000001001000000111110 00001010000001001000000100011 01110010000001101000000111111 01101010000001001000000101000 01101110000001101000000110000 00001110000001001100000000000 00010000000001000000000000000\n",
      "flipped_qubit_dict {'Cluster_0': [27, 23, 23], 'Cluster_1': [4], 'Cluster_2': [12, 16, 17, 10, 13, 14, 17, 18, 18, 14, 19, 16], 'Cluster_3': [], 'Cluster_4': [27], 'Cluster_5': [1, 3, 2, 3], 'Cluster_6': [25], 'Cluster_7': [], 'Cluster_8': [27], 'Cluster_9': [1], 'Cluster_10': [5], 'Cluster_11': [28], 'Cluster_12': [1], 'Cluster_13': [3], 'Cluster_14': [23, 24], 'Cluster_15': [25, 24, 23, 24, 25, 28], 'Cluster_16': [], 'Cluster_17': [12], 'Cluster_18': [], 'Cluster_19': [], 'Cluster_20': [25], 'Cluster_21': [28], 'Cluster_22': [12], 'Cluster_23': [20], 'Cluster_24': [5], 'Cluster_25': [1], 'Cluster_26': [5], 'Cluster_27': [1], 'Cluster_28': [], 'Cluster_29': [8], 'Cluster_30': [25, 22, 23, 27, 23, 24, 25, 25, 26, 23, 27, 28, 29, 27, 28, 29, 20, 21, 21], 'Cluster_31': [5], 'Cluster_32': [], 'Cluster_33': [28], 'Cluster_34': [5], 'Cluster_35': [15, 10, 11, 12, 13, 11, 12, 13], 'Cluster_36': [28]}\n",
      "logical: [0] \n",
      "\n"
     ]
    },
    {
     "name": "stderr",
     "output_type": "stream",
     "text": [
      " 14%|█▎        | 151/1111 [05:05<32:18,  2.02s/it]"
     ]
    },
    {
     "name": "stdout",
     "output_type": "stream",
     "text": [
      "\n",
      "meas_str: 011001100000100001111000101110 01000010010001011100100101010 11101000010111001000000010011 11111010011001100000100101001 01000010011101000100000010011 10011100011001100000100101010 01000010001111000010000010010 11111100001001100000100101000 11101110001111010010000010011 10011100001001110000100101001 10100000011111000010000110011 11011110011011100000100001001 11001100011101000010000000001 11010110011011100000100001001 11001110011101000110000000011 11011100010111000000100001001 11011110011101000010000000011 10010100010111000000000001010 01010100011101000000000000011 10011110010111000000000001010 01011110011101000000000000000 10010100010111100000000000000 01000110001101000000000000000 11010110000111100000000000000 01011100000001000000000000000 00000110000001100000000000000 01011010000001000000000000000 01000100000001100010000000000 01011110010001000000000000000 01000000000001000000000001000 01000110000001000000000001000\n",
      "flipped_qubit_dict {'Cluster_0': [], 'Cluster_1': [23], 'Cluster_2': [], 'Cluster_3': [], 'Cluster_4': [25], 'Cluster_5': [], 'Cluster_6': [25], 'Cluster_7': [1, 2, 3], 'Cluster_8': [], 'Cluster_9': [], 'Cluster_10': [], 'Cluster_11': [], 'Cluster_12': [1], 'Cluster_13': [25], 'Cluster_14': [28], 'Cluster_15': [], 'Cluster_16': [24], 'Cluster_17': [], 'Cluster_18': [5], 'Cluster_19': [27], 'Cluster_20': [], 'Cluster_21': [], 'Cluster_22': [], 'Cluster_23': [24], 'Cluster_24': [1, 0, 1, 0], 'Cluster_25': [], 'Cluster_26': [28], 'Cluster_27': [24], 'Cluster_28': [27], 'Cluster_29': [17, 18, 19, 9, 20, 16, 18, 10, 14, 16, 17, 11, 12, 13, 14, 17, 18, 18, 20, 16, 11, 16, 12, 6, 13, 14, 15, 16, 17, 6, 18, 7, 19, 21, 24, 14, 7, 8, 14, 15, 19, 20, 8, 22, 9, 24, 25, 25, 14, 15, 16, 21, 9, 10, 10, 11, 28, 29, 15, 15, 16, 16, 16, 17, 17, 18, 22, 20, 20, 23, 23, 24, 29, 18, 25, 25, 26, 28, 29, 26, 27, 23, 27, 27, 28, 29, 12, 17, 18, 23, 24, 27, 29, 12, 14, 19, 20, 25, 27, 28, 28, 29, 12, 14, 15, 16], 'Cluster_30': [1]}\n",
      "logical: [0] \n",
      "\n"
     ]
    },
    {
     "name": "stderr",
     "output_type": "stream",
     "text": [
      " 14%|█▎        | 152/1111 [05:07<32:23,  2.03s/it]"
     ]
    },
    {
     "name": "stdout",
     "output_type": "stream",
     "text": [
      "\n",
      "meas_str: 010011011001001100110001111000 01110100100101111110001010000 11100010001101101011000011100 11100110101101111110001000000 11101000000111101011000011100 11111010101101111110001011000 11100000000001101011000011100 10010100101101111010000111000 11110000010001101111000010110 11011110101101111010000001000 10111010000001101111000000110 11000000101101011010000000000 11111010000001001111000001111 01011000101100001010000000011 11100010000001011110000001100 00000100101100000111000000011 10100011000001011110000000000 00010000101100000011000000011 10100011011100011110000000011 00010000100000000111000000011 10100001001101011110000000000 11010010100000010111000000011 10100001001101001100000000000 11010010100000011000000000000 10100111001101001000000000000 10101000100000011000000000000 00000100001101001000000000000 11101111100000011000000000000 10000010000001001000000000000 11100010000000101000000000000 00100010000000000000000000000\n",
      "flipped_qubit_dict {'Cluster_0': [], 'Cluster_1': [27], 'Cluster_2': [], 'Cluster_3': [15], 'Cluster_4': [], 'Cluster_5': [], 'Cluster_6': [14], 'Cluster_7': [21], 'Cluster_8': [24], 'Cluster_9': [18], 'Cluster_10': [23], 'Cluster_11': [], 'Cluster_12': [23], 'Cluster_13': [], 'Cluster_14': [29, 27, 25, 26, 26, 27, 28, 28, 29], 'Cluster_15': [23], 'Cluster_16': [1], 'Cluster_17': [12, 11, 10], 'Cluster_18': [], 'Cluster_19': [], 'Cluster_20': [28], 'Cluster_21': [1], 'Cluster_22': [1], 'Cluster_23': [], 'Cluster_24': [18, 18], 'Cluster_25': [24, 25], 'Cluster_26': [3], 'Cluster_27': [], 'Cluster_28': [16, 12, 17, 10, 11, 17, 10, 11, 16], 'Cluster_29': [1, 0, 5, 2, 0, 3, 4], 'Cluster_30': [22, 23, 23, 24, 25, 23, 25, 24, 25, 27, 28, 25, 26, 25, 27, 26, 27, 23, 27, 23, 28, 27, 23, 23, 24], 'Cluster_31': [2, 3], 'Cluster_32': [], 'Cluster_33': [6], 'Cluster_34': [4], 'Cluster_35': [4]}\n",
      "logical: [0] \n",
      "\n"
     ]
    },
    {
     "name": "stderr",
     "output_type": "stream",
     "text": [
      " 14%|█▍        | 153/1111 [05:09<32:23,  2.03s/it]"
     ]
    },
    {
     "name": "stdout",
     "output_type": "stream",
     "text": [
      "\n",
      "meas_str: 101010100011110100100011110100 01100000001011101100000000010 11111110011011111010110001100 01101000001011101100010000010 01111100010111100110100001100 01101011000111111100110000010 01011000010111100110010001100 01111101000111101100010000010 11101100000011111010110001100 10001101000001101100110000010 01100000000011111010111101100 11001000000001101100100001000 00000111000011111010011111110 10001000000001101100010001000 00001011000011111010001110100 10011100000001111100010001000 00000001000011100010000001100 01011100000001110100010000000 00000011000011000010010001100 01010100000001110100110000000 00000101000011000010000001000 01010100000001110100010000100 00000011000011000010010001000 01011000000001110100010000000 10001110000011000010110001010 10011110000001110100000000000 10001010000001000010000001010 01011110000000000100100000000 01010010000000000010000000000 10011100000001000100110000000 00010000000001000010010000000\n",
      "flipped_qubit_dict {'Cluster_0': [8, 9, 8, 8, 9, 12, 10, 10, 11, 11, 12, 14, 14, 15, 16, 16, 17, 9, 18, 13, 10, 11, 13, 15, 16, 17, 8, 9, 19, 11, 14, 12, 14, 17, 18, 4, 20, 5, 6, 7, 8, 9, 12, 13, 15, 16, 18, 19, 21, 4, 6, 13, 14, 17, 19, 20, 22, 2, 3, 4, 16, 18, 20, 21, 23, 3, 19, 21, 22, 2, 20, 2, 22, 3, 24, 9, 21, 22, 23, 24, 10, 22, 23, 11], 'Cluster_1': [24], 'Cluster_2': [], 'Cluster_3': [28, 28], 'Cluster_4': [2, 3], 'Cluster_5': [25], 'Cluster_6': [28], 'Cluster_7': [28], 'Cluster_8': [2], 'Cluster_9': [8], 'Cluster_10': [], 'Cluster_11': [24], 'Cluster_12': [], 'Cluster_13': [28], 'Cluster_14': [23], 'Cluster_15': [], 'Cluster_16': [24], 'Cluster_17': [], 'Cluster_18': [28, 29, 27, 29, 28, 28, 29, 25, 29, 29], 'Cluster_19': [], 'Cluster_20': [23], 'Cluster_21': [], 'Cluster_22': [6], 'Cluster_23': [25], 'Cluster_24': [8], 'Cluster_25': [18, 19, 17], 'Cluster_26': [27], 'Cluster_27': [], 'Cluster_28': [12], 'Cluster_29': [], 'Cluster_30': [26], 'Cluster_31': [23], 'Cluster_32': [26], 'Cluster_33': [18], 'Cluster_34': [23, 24, 22], 'Cluster_35': [8], 'Cluster_36': [12], 'Cluster_37': [18], 'Cluster_38': [15], 'Cluster_39': [27]}\n",
      "logical: [0] \n",
      "\n"
     ]
    },
    {
     "name": "stderr",
     "output_type": "stream",
     "text": [
      " 14%|█▍        | 154/1111 [05:11<32:27,  2.04s/it]"
     ]
    },
    {
     "name": "stdout",
     "output_type": "stream",
     "text": [
      "\n",
      "meas_str: 111001110000011000011101000100 01110001011001100001010110100 01111001011011000011101011010 01111111011001100001110011100 01101101011011000011100011110 01110011011000100001110110010 10101101011011000011100011100 11100111011001100001110110010 11101011011011000011100101110 01100111011001100001110110000 11101101011011000001100101100 00100111011001100000110111000 10101001011011000001100100000 00100101011001100000000111000 01101101011011000000000111000 00101011001001100000000111000 01101001011011000000010111000 00110100011001100000000100000 00100100011001000000000111000 10101010011001000000000100000 00100110010101000000000111000 00101000001001000000000100000 11100110001001000000000111000 10110010001001000000000010000 10111100001001000000000001000 10110100001001000000000010000 01111000000001000000000001000 10101110000000000000000011000 00011000000000000000000000000 11101100000000000000000000100 00000010000000000000000000100\n",
      "flipped_qubit_dict {'Cluster_0': [], 'Cluster_1': [23, 28, 25, 27, 23, 25, 28, 29, 23, 24, 26, 28, 29, 24, 25, 28, 29, 23, 29, 28, 29], 'Cluster_2': [], 'Cluster_3': [4], 'Cluster_4': [], 'Cluster_5': [], 'Cluster_6': [], 'Cluster_7': [28], 'Cluster_8': [23], 'Cluster_9': [5], 'Cluster_10': [], 'Cluster_11': [25], 'Cluster_12': [28], 'Cluster_13': [5], 'Cluster_14': [25], 'Cluster_15': [18], 'Cluster_16': [], 'Cluster_17': [], 'Cluster_18': [18], 'Cluster_19': [15, 16], 'Cluster_20': [28], 'Cluster_21': [4], 'Cluster_22': [], 'Cluster_23': [23, 25, 22, 22, 23, 23, 23, 24, 20, 21, 24, 24, 25, 25, 26, 20, 21, 22], 'Cluster_24': [4], 'Cluster_25': [9], 'Cluster_26': [28], 'Cluster_27': [8], 'Cluster_28': [], 'Cluster_29': [10], 'Cluster_30': [3, 2, 2, 3, 2], 'Cluster_31': [5], 'Cluster_32': [28], 'Cluster_33': [], 'Cluster_34': [28], 'Cluster_35': [], 'Cluster_36': [6], 'Cluster_37': [], 'Cluster_38': [], 'Cluster_39': [4, 5], 'Cluster_40': []}\n",
      "logical: [0] \n",
      "\n"
     ]
    },
    {
     "name": "stderr",
     "output_type": "stream",
     "text": [
      " 14%|█▍        | 155/1111 [05:13<32:14,  2.02s/it]"
     ]
    },
    {
     "name": "stdout",
     "output_type": "stream",
     "text": [
      "\n",
      "meas_str: 000010000101000101010000010011 00110001110101000011000101011 00101001001001111100000110001 11110001110101001011000011000 01110011011001110000000101001 01110001100101000110000011000 01110011001101110011100101001 11111111110001000100000000010 11110011001101110101000101000 11111111101101000100100000010 00101001011101110101001110000 10110001101101000100100001010 01110011011101110101000111000 10100111101101000100100000010 01100111011101110101000000000 10110101101101000100000000010 11110111011101110100100000011 01110111101101000101000000001 11110111010001110100100011000 01100011111101000101000000000 10110011000001010100100000010 11111111111101000101000000011 10101101000001010100100000011 11100111111101000101000000010 11100110000001110100100000010 00100110111101000100000000011 10100100000000010100000000011 01110000110001000100000000010 11101110000001000000000000011 00111000110001000000000000011 00100010000001000000000000000\n",
      "flipped_qubit_dict {'Cluster_0': [], 'Cluster_1': [0, 0, 0, 1, 0, 0, 0, 1, 1, 0, 0, 0, 0, 0], 'Cluster_2': [20], 'Cluster_3': [], 'Cluster_4': [], 'Cluster_5': [14, 15], 'Cluster_6': [], 'Cluster_7': [18], 'Cluster_8': [9], 'Cluster_9': [28], 'Cluster_10': [26, 23, 24, 23, 27, 24, 27, 25, 26, 24, 27, 29, 25, 27, 25, 28, 24, 25, 25, 26, 28, 29, 27, 28, 28, 23, 24, 22, 24, 25, 22, 23], 'Cluster_11': [], 'Cluster_12': [4], 'Cluster_13': [15], 'Cluster_14': [], 'Cluster_15': [4], 'Cluster_16': [18], 'Cluster_17': [1], 'Cluster_18': [], 'Cluster_19': [26, 27], 'Cluster_20': [1], 'Cluster_21': [], 'Cluster_22': [], 'Cluster_23': [], 'Cluster_24': [5], 'Cluster_25': [], 'Cluster_26': [], 'Cluster_27': [], 'Cluster_28': [], 'Cluster_29': [25], 'Cluster_30': [], 'Cluster_31': [], 'Cluster_32': [24], 'Cluster_33': [4], 'Cluster_34': [], 'Cluster_35': [25], 'Cluster_36': [28], 'Cluster_37': [18], 'Cluster_38': [1], 'Cluster_39': [11], 'Cluster_40': [], 'Cluster_41': [4], 'Cluster_42': [], 'Cluster_43': [], 'Cluster_44': [12, 9, 10, 11], 'Cluster_45': [], 'Cluster_46': [4], 'Cluster_47': [24, 25], 'Cluster_48': [1], 'Cluster_49': [5], 'Cluster_50': [28, 28]}\n",
      "logical: [0] \n",
      "\n"
     ]
    },
    {
     "name": "stderr",
     "output_type": "stream",
     "text": [
      " 14%|█▍        | 156/1111 [05:15<31:45,  2.00s/it]"
     ]
    },
    {
     "name": "stdout",
     "output_type": "stream",
     "text": [
      "\n",
      "meas_str: 111110000000100001101001000000 11101001010111001010100001010 11110001010001000001001101010 11101011010111001010101101011 11110011010011001101001101011 11101011010101000100101101010 11110101010011001100000001010 11100101010101000100101101011 11110000010011001100001101011 11100100010101000110101101010 10111010000011001110001101010 10100100000010001010101111010 11110000000111000001001001011 11100100000010001010101111011 00111100000111000001000101010 00100010000010000110101011010 00111100000111000000000001010 00101110000010001010001011010 10110000010111000000000001011 11001110000010001100001011011 10010000000001000000000111010 00001110000000000000001101011 01011100000000000000000111001 00000100000000000000001100111 01010110000000000000000110000 01000010000000000000001010011 11000110000000000000000110011 10000010000010000000001100011 11000010000000000000000110011 01000010000000000000000000000 00000000000000000000000000000\n",
      "flipped_qubit_dict {'Cluster_0': [1], 'Cluster_1': [5], 'Cluster_2': [1], 'Cluster_3': [6], 'Cluster_4': [5], 'Cluster_5': [], 'Cluster_6': [3], 'Cluster_7': [5], 'Cluster_8': [16], 'Cluster_9': [5], 'Cluster_10': [12], 'Cluster_11': [1, 0, 3, 1, 0, 0, 0], 'Cluster_12': [5], 'Cluster_13': [17], 'Cluster_14': [11], 'Cluster_15': [28, 27, 26, 26, 27, 29, 28, 29, 28, 29, 27, 22, 28, 29, 23, 22, 23, 23, 24, 28, 23, 23, 24, 23, 24, 28, 28, 29, 23, 24, 29, 24, 25, 24, 25, 28, 24, 25, 23, 26, 25, 28, 29, 29, 26, 29, 27, 25, 23, 26, 24, 24, 27], 'Cluster_16': [], 'Cluster_17': [24], 'Cluster_18': [9], 'Cluster_19': [12], 'Cluster_20': [24], 'Cluster_21': [], 'Cluster_22': [], 'Cluster_23': [12], 'Cluster_24': [23], 'Cluster_25': [28], 'Cluster_26': [6], 'Cluster_27': [24], 'Cluster_28': [28], 'Cluster_29': [], 'Cluster_30': [], 'Cluster_31': [10], 'Cluster_32': [12], 'Cluster_33': [23, 24], 'Cluster_34': [5], 'Cluster_35': [12], 'Cluster_36': [16], 'Cluster_37': [], 'Cluster_38': [], 'Cluster_39': [], 'Cluster_40': [], 'Cluster_41': [23, 24], 'Cluster_42': [], 'Cluster_43': [6], 'Cluster_44': [], 'Cluster_45': [6], 'Cluster_46': [10], 'Cluster_47': [12], 'Cluster_48': [], 'Cluster_49': [], 'Cluster_50': [12], 'Cluster_51': [6]}\n",
      "logical: [0] \n",
      "\n"
     ]
    },
    {
     "name": "stderr",
     "output_type": "stream",
     "text": [
      " 14%|█▍        | 157/1111 [05:17<32:01,  2.01s/it]"
     ]
    },
    {
     "name": "stdout",
     "output_type": "stream",
     "text": [
      "\n",
      "meas_str: 000001011010011000000000100100 11101111101011110001000110101 11100001010001000001000000011 11101111101011100001000110110 11101011010000000000000101011 00001001101011100000000110101 10101010000000100000000011011 00001011011010000000000110110 01100000010010100000000011000 01100011010010000000000110110 01100000010000100000000011000 01101011010010000000000111100 10100100010000100000000011000 01101101010010010100000111100 10101000010000101000000011000 01101101010011100000000111100 01101110010001101100000011000 01101011010010110000000111100 01101110010000111100000011000 11100001000011100000000111100 01101000000001111100000111000 11100011000011010000001001000 01101000000001111100001111000 01100001000011001100000101010 10100100000001010000001111010 00100000010011000000000011000 01100100000001010000001111000 11101100000011100000000000000 00100000000001110000000000000 10100000000011100000000000000 01100010000001110000000000000\n",
      "flipped_qubit_dict {'Cluster_0': [14], 'Cluster_1': [15], 'Cluster_2': [16], 'Cluster_3': [], 'Cluster_4': [4], 'Cluster_5': [6], 'Cluster_6': [], 'Cluster_7': [4], 'Cluster_8': [28], 'Cluster_9': [], 'Cluster_10': [28], 'Cluster_11': [5], 'Cluster_12': [23, 24, 20, 21, 27, 28, 29, 29, 23, 27, 28, 29, 23, 20, 23, 21, 22, 23, 24, 29], 'Cluster_13': [], 'Cluster_14': [], 'Cluster_15': [12, 14], 'Cluster_16': [], 'Cluster_17': [6], 'Cluster_18': [], 'Cluster_19': [3, 4], 'Cluster_20': [15], 'Cluster_21': [], 'Cluster_22': [], 'Cluster_23': [], 'Cluster_24': [], 'Cluster_25': [23], 'Cluster_26': [23], 'Cluster_27': [28], 'Cluster_28': [24], 'Cluster_29': [12, 13, 15, 13], 'Cluster_30': [23], 'Cluster_31': [24], 'Cluster_32': [28], 'Cluster_33': [2, 3], 'Cluster_34': [], 'Cluster_35': [27], 'Cluster_36': [1], 'Cluster_37': [], 'Cluster_38': [28], 'Cluster_39': [1], 'Cluster_40': [19, 15, 15], 'Cluster_41': [], 'Cluster_42': [21], 'Cluster_43': [5], 'Cluster_44': [1], 'Cluster_45': [], 'Cluster_46': [], 'Cluster_47': [24], 'Cluster_48': [27, 28], 'Cluster_49': [4, 5], 'Cluster_50': [1], 'Cluster_51': []}\n",
      "logical: [0] \n",
      "\n"
     ]
    },
    {
     "name": "stderr",
     "output_type": "stream",
     "text": [
      " 14%|█▍        | 158/1111 [05:19<31:49,  2.00s/it]"
     ]
    },
    {
     "name": "stdout",
     "output_type": "stream",
     "text": [
      "\n",
      "meas_str: 001010010001010000100101110000 01010100000111000110101100001 00101111001011000000010100001 01001000000111000000101101001 00101101001011000000010100001 01001110000111000100111101001 00100111011011000000010100011 01010100000111000000001101011 01000101001011000000110100001 01010100000111000100001101001 01001010000111000000000100011 01101100000111000000000001001 01010000000111000000000101010 01011100000110000000000000011 01000000000111000000000101011 11011000000110000000000000011 11000000000111000000000101000 11011000000111101100000000000 01000000010111100000000101000 11011000000110000000000000000 11000000000110000000000101000 11011000000110000000000000000 11000000000110000000000110000 11011000000110000000000000000 11000010000110000000000110000 11000000000110000000000000000 00000010000110000000000000000 00000010000000000000000000000 00000010000000000000000000000 00000000000000000000000000000 00000000000000000000000000000\n",
      "flipped_qubit_dict {'Cluster_0': [17], 'Cluster_1': [17], 'Cluster_2': [25], 'Cluster_3': [28], 'Cluster_4': [5], 'Cluster_5': [28], 'Cluster_6': [4], 'Cluster_7': [15, 12, 16, 17, 18, 15, 16, 17], 'Cluster_8': [29, 29], 'Cluster_9': [], 'Cluster_10': [1], 'Cluster_11': [12], 'Cluster_12': [1], 'Cluster_13': [], 'Cluster_14': [25, 25, 22, 26, 24, 23, 26], 'Cluster_15': [1], 'Cluster_16': [], 'Cluster_17': [6], 'Cluster_18': [1], 'Cluster_19': [8], 'Cluster_20': [], 'Cluster_21': [], 'Cluster_22': [24, 25, 23], 'Cluster_23': [27], 'Cluster_24': [], 'Cluster_25': [], 'Cluster_26': [], 'Cluster_27': [23], 'Cluster_28': [23], 'Cluster_29': [], 'Cluster_30': [11], 'Cluster_31': [25], 'Cluster_32': [16]}\n",
      "logical: [0] \n",
      "\n"
     ]
    },
    {
     "name": "stderr",
     "output_type": "stream",
     "text": [
      " 14%|█▍        | 159/1111 [05:21<31:36,  1.99s/it]"
     ]
    },
    {
     "name": "stdout",
     "output_type": "stream",
     "text": [
      "\n",
      "meas_str: 011011010000000000100010100010 10011011000001001110000010111 00101100000001001000011100100 10011001000001010111000010001 11101110000001010010011100100 01010011000001010100000010001 01101000000001110000011100100 01010011000001010101000011001 01101000000001110010011011100 11010001000001010101000011001 01101010000001110010011011111 10010001000001010101000011000 00110010000001110010011010111 10010001000001000100000011111 01110010000011111011011011010 01010001000001011100000011011 11010010000001001101011000101 11010011000001000000000000011 11000100000001001100001010010 00010101000001100000000000110 01000010000000001100001010011 01001110000000100001000001110 00001010000001001100001000100 01001100000000001100000001010 00001100000000001101000000100 10000010000000000000000101010 10000000000000000001000000100 01000000000000000000000110010 00000000000000000001000000100 11000000000000000001000110010 00000000000000000001000000000\n",
      "flipped_qubit_dict {'Cluster_0': [2], 'Cluster_1': [28], 'Cluster_2': [5, 6, 16, 8, 13, 9, 15, 0, 13, 13, 14, 16, 14, 1, 0, 0, 4, 1, 7, 5, 8, 9, 12, 1, 14, 2, 15, 12, 4, 1, 10, 12, 0, 13, 2], 'Cluster_3': [4], 'Cluster_4': [6], 'Cluster_5': [3], 'Cluster_6': [3, 4], 'Cluster_7': [29, 28, 27, 29, 29, 22, 29, 23, 24, 29, 29, 26, 28, 28, 29, 23, 28, 27, 29, 23, 24, 23, 23, 24, 24, 23, 25, 23, 24, 24, 26, 26, 29, 25, 27, 23, 29, 26, 27, 28, 27], 'Cluster_8': [1], 'Cluster_9': [], 'Cluster_10': [3], 'Cluster_11': [], 'Cluster_12': [13], 'Cluster_13': [3], 'Cluster_14': [25], 'Cluster_15': [], 'Cluster_16': [], 'Cluster_17': [], 'Cluster_18': [5], 'Cluster_19': [13, 14, 10, 11, 12], 'Cluster_20': [], 'Cluster_21': [24], 'Cluster_22': [13], 'Cluster_23': [], 'Cluster_24': [28], 'Cluster_25': [2], 'Cluster_26': [10, 10], 'Cluster_27': [13]}\n",
      "logical: [0] \n",
      "\n"
     ]
    },
    {
     "name": "stderr",
     "output_type": "stream",
     "text": [
      " 14%|█▍        | 160/1111 [05:23<31:58,  2.02s/it]"
     ]
    },
    {
     "name": "stdout",
     "output_type": "stream",
     "text": [
      "\n",
      "meas_str: 001100000010001110010101100000 11011000000001111111110100011 10001000011001100100001110011 11011000000001111111110010000 10000100011001100000001110011 11010010000001001101110010001 10000110000001010100001110001 00010110000011110101110101000 01000110000011010100001111011 00010000000011110101110110011 00000100000011010100001111010 10010110000011110101000011001 00000110000011000100001111010 01010110000011010101000101001 00000010000011000010001111011 10010100000011100101000101011 11000100000011100010001111001 01010000000011110001001111001 11001110000011111010001001111 01011000000011001101001111111 11001110000011101010001001101 00000010000011001101001111001 11001100000011001010000101101 00001000000011101100000011011 10001110000011101011000111101 01000100000001111100000000001 11000000000001010111000110001 11001100000001011100000000001 11000000000001000111000110011 11000000000001011100000000011 01000000000000000100000000001\n",
      "flipped_qubit_dict {'Cluster_0': [], 'Cluster_1': [], 'Cluster_2': [], 'Cluster_3': [13], 'Cluster_4': [], 'Cluster_5': [], 'Cluster_6': [5], 'Cluster_7': [10], 'Cluster_8': [24], 'Cluster_9': [14], 'Cluster_10': [0, 1, 0, 0, 1, 1, 4, 5, 0, 3, 0, 0, 1, 1, 4, 4, 1, 0, 0, 1, 2, 3, 4, 0, 1, 6, 2, 0], 'Cluster_11': [12], 'Cluster_12': [14], 'Cluster_13': [], 'Cluster_14': [28], 'Cluster_15': [14], 'Cluster_16': [], 'Cluster_17': [], 'Cluster_18': [26, 24, 27, 23], 'Cluster_19': [6], 'Cluster_20': [], 'Cluster_21': [], 'Cluster_22': [], 'Cluster_23': [12, 14, 14, 14, 12], 'Cluster_24': [], 'Cluster_25': [], 'Cluster_26': [], 'Cluster_27': [6], 'Cluster_28': [23], 'Cluster_29': [28], 'Cluster_30': [], 'Cluster_31': [23], 'Cluster_32': [28], 'Cluster_33': [23], 'Cluster_34': [28], 'Cluster_35': [11], 'Cluster_36': [5], 'Cluster_37': [28], 'Cluster_38': [14], 'Cluster_39': [23], 'Cluster_40': [8], 'Cluster_41': [], 'Cluster_42': [28], 'Cluster_43': [23], 'Cluster_44': [], 'Cluster_45': [], 'Cluster_46': [28], 'Cluster_47': [1], 'Cluster_48': [5], 'Cluster_49': [14], 'Cluster_50': [28], 'Cluster_51': [12, 14], 'Cluster_52': [19], 'Cluster_53': [], 'Cluster_54': [11], 'Cluster_55': [14], 'Cluster_56': [], 'Cluster_57': [1], 'Cluster_58': [5], 'Cluster_59': [14, 15]}\n",
      "logical: [0] \n",
      "\n"
     ]
    },
    {
     "name": "stderr",
     "output_type": "stream",
     "text": [
      " 14%|█▍        | 161/1111 [05:25<31:45,  2.01s/it]"
     ]
    },
    {
     "name": "stdout",
     "output_type": "stream",
     "text": [
      "\n",
      "meas_str: 110001001000010000001110011100 11000110100011000111101111110 10001011000001100110100101100 11000110100001100111110111010 10001011000011100110101111010 11001010100111100111110101001 10000001000001100110101111010 11001100100111100111110000011 10001110000001100110101111000 11001110000001100111110000011 10000110000000100110101101000 11001100000000100111111101011 01000000000001100110100001000 11001100000001100111101101001 01001010010001100110111111010 11001100010001100111001100001 01000000000001100010101111010 11001100000001101011001100001 00001110000001101011001111010 11001110000001101001001100001 01000010000011101001001111010 11001110000011101001001100001 01010010000011100001000011010 11000110000011100011001100001 01010100010001100000001100010 11001100000001100000000000001 01011110000001100000001100010 10000010000001100000000000010 11000100000001100000001100010 00000000000001100000000000010 10000000000000100000000000000\n",
      "flipped_qubit_dict {'Cluster_0': [], 'Cluster_1': [29], 'Cluster_2': [], 'Cluster_3': [], 'Cluster_4': [6], 'Cluster_5': [23], 'Cluster_6': [], 'Cluster_7': [25], 'Cluster_8': [1], 'Cluster_9': [24], 'Cluster_10': [], 'Cluster_11': [], 'Cluster_12': [6], 'Cluster_13': [10], 'Cluster_14': [], 'Cluster_15': [4], 'Cluster_16': [6], 'Cluster_17': [10], 'Cluster_18': [], 'Cluster_19': [23], 'Cluster_20': [], 'Cluster_21': [25], 'Cluster_22': [6], 'Cluster_23': [], 'Cluster_24': [], 'Cluster_25': [24], 'Cluster_26': [], 'Cluster_27': [9], 'Cluster_28': [], 'Cluster_29': [24], 'Cluster_30': [], 'Cluster_31': [], 'Cluster_32': [], 'Cluster_33': [8], 'Cluster_34': [23, 24], 'Cluster_35': [4], 'Cluster_36': [], 'Cluster_37': [], 'Cluster_38': [6], 'Cluster_39': [], 'Cluster_40': [23, 24], 'Cluster_41': [], 'Cluster_42': [6], 'Cluster_43': [], 'Cluster_44': [28], 'Cluster_45': [4], 'Cluster_46': [6], 'Cluster_47': [], 'Cluster_48': [24], 'Cluster_49': [17], 'Cluster_50': [24, 21, 22, 22], 'Cluster_51': [], 'Cluster_52': [24], 'Cluster_53': [16, 15, 17, 15], 'Cluster_54': [24], 'Cluster_55': [2, 0, 1, 2, 0, 7, 2, 5, 3, 6, 5]}\n",
      "logical: [0] \n",
      "\n"
     ]
    },
    {
     "name": "stderr",
     "output_type": "stream",
     "text": [
      " 15%|█▍        | 162/1111 [05:27<32:18,  2.04s/it]"
     ]
    },
    {
     "name": "stdout",
     "output_type": "stream",
     "text": [
      "\n",
      "meas_str: 011011000001000100010100111010 00110001000001010001101100010 10100101001101100010011000101 00110011000001010101101110010 10100111001101000000011010101 00110001000001010101101110010 10100101000001000000011110010 01110001010001010100100000000 11100001010001000001011110100 01110101010001010100101100000 11100001010001100001011110100 11101111010001010100101100100 01110111010001000001011111000 11101011000001110100100001100 01110101000001100001010110010 11110101000001110100101001100 01101011000001100001010111010 11011001000001110100101000100 01101001000001100001010111011 11010111000001110100100010000 01110010000001100001010001000 01110110000001110100110010000 01110100010001100001000010000 01101010000001000100000010000 01001110010001100001000011000 01001000000001000100000011000 00001110000001100001000011000 00000010000001000110000011010 00000010000001000000000000010 01000000000001000110000011010 00000000000001000000000000000\n",
      "flipped_qubit_dict {'Cluster_0': [], 'Cluster_1': [4], 'Cluster_2': [26, 27, 27, 23, 23, 24, 23, 25, 29, 11, 12, 23, 24, 26, 27, 28, 12, 13, 13, 14, 27, 28, 29, 14, 15, 16, 17, 18, 20, 23, 19, 21, 23, 20, 22, 23, 24, 25, 21, 23, 26, 20, 22, 27, 29, 21, 22, 27, 28, 28, 25, 26, 23, 24, 25, 26, 27, 23, 24, 25, 26, 27, 28, 29, 26, 28, 29, 23, 24, 25], 'Cluster_3': [], 'Cluster_4': [], 'Cluster_5': [4], 'Cluster_6': [10], 'Cluster_7': [], 'Cluster_8': [], 'Cluster_9': [8], 'Cluster_10': [14], 'Cluster_11': [4], 'Cluster_12': [], 'Cluster_13': [2], 'Cluster_14': [], 'Cluster_15': [6], 'Cluster_16': [], 'Cluster_17': [], 'Cluster_18': [], 'Cluster_19': [2, 3, 3, 3], 'Cluster_20': [], 'Cluster_21': [6], 'Cluster_22': [], 'Cluster_23': [6], 'Cluster_24': [], 'Cluster_25': [], 'Cluster_26': [], 'Cluster_27': [], 'Cluster_28': [3, 4, 6, 9, 11, 12, 13, 14, 0, 2, 6, 10, 7, 11, 18, 8], 'Cluster_29': []}\n",
      "logical: [1] \n",
      "\n",
      "------------ Wrong logical! ------------\n",
      "\n"
     ]
    },
    {
     "name": "stderr",
     "output_type": "stream",
     "text": [
      " 15%|█▍        | 163/1111 [05:29<32:32,  2.06s/it]"
     ]
    },
    {
     "name": "stdout",
     "output_type": "stream",
     "text": [
      "\n",
      "meas_str: 100011000100001101010000100000 01101000000011011011001000011 10111100110011000100001111011 01101010000011011011001111011 11110000110011000100001010011 01101010001010011111000000000 10111101111011000100001010001 01100000001011011000000000010 10110001010011000000001010101 11101100111011010000000000010 11111001010011010000001010111 11101110100011010000000001001 11110011010011000000001010101 00101110100011010000001101001 11110010010011100000001011111 11101100010001110000000001010 01111000010001100000001011111 01100000010001110000000111001 00111000000001100000001000111 01101100000011110000000111001 00111000000001100000001011111 01101100000001110000000100001 00100010000001100000001011111 11100100000001110000001100001 01101000000001100000001111011 11100100000001110000000100011 01101010000001100000001011011 11100100000001110000000100001 10101000000001100000001000010 00100100000001000000000100010 00111000000001000000001000000\n",
      "flipped_qubit_dict {'Cluster_0': [25], 'Cluster_1': [], 'Cluster_2': [], 'Cluster_3': [24, 25], 'Cluster_4': [1], 'Cluster_5': [1], 'Cluster_6': [4], 'Cluster_7': [28], 'Cluster_8': [6], 'Cluster_9': [2], 'Cluster_10': [6], 'Cluster_11': [28], 'Cluster_12': [4], 'Cluster_13': [4], 'Cluster_14': [], 'Cluster_15': [], 'Cluster_16': [4], 'Cluster_17': [1], 'Cluster_18': [5], 'Cluster_19': [23, 23, 24, 27, 25, 26, 26, 27, 7, 28, 29, 24, 27, 29, 23, 24, 28, 23, 24, 25, 6, 26, 20, 8, 21, 21, 22, 29, 7, 23, 9, 25, 14, 15, 24, 25, 14, 15, 28, 8, 10, 12, 13, 13, 14, 15, 15, 16, 16, 16, 20, 21, 24, 9, 10, 11, 12, 13, 14, 15, 15, 16, 17, 19, 22, 24, 10, 12, 16, 15, 17, 16, 18, 17, 18, 20, 11, 13, 17, 18, 12, 13, 19, 14, 16, 17, 12, 14, 21, 22, 24, 18, 25, 19, 28, 20, 29, 13, 14, 15, 15, 19, 22, 19, 23, 20, 20, 21, 25, 26, 20, 22, 23, 25, 25, 26, 27, 23, 28, 29, 24, 24, 25, 16, 26, 17, 21, 22], 'Cluster_20': [], 'Cluster_21': [6], 'Cluster_22': [], 'Cluster_23': [28], 'Cluster_24': [1, 2, 3], 'Cluster_25': [6], 'Cluster_26': [28], 'Cluster_27': [2, 3], 'Cluster_28': [19], 'Cluster_29': [28], 'Cluster_30': [1, 1, 1, 2], 'Cluster_31': [1], 'Cluster_32': [], 'Cluster_33': [5, 6], 'Cluster_34': [], 'Cluster_35': [5]}\n",
      "logical: [0] \n",
      "\n"
     ]
    },
    {
     "name": "stderr",
     "output_type": "stream",
     "text": [
      " 15%|█▍        | 164/1111 [05:31<32:32,  2.06s/it]"
     ]
    },
    {
     "name": "stdout",
     "output_type": "stream",
     "text": [
      "\n",
      "meas_str: 011100100111000100001000011000 01111010001101100000000000000 10101100101001010001100010100 00111010001101100000000001100 10101100111001010001100100000 00110000011101000000000011100 01111100111001010001100100000 00110010010001000000000011100 00111110111001010000000100000 10111100010001001100000011100 01110000111001010000000100000 10111100010001110100000011100 01111100111001001000000100000 10101000010001110100000011100 11111100111001001000000100000 11101100010001110100000010001 00110110111001001000000110001 11101110010001000100000010001 00110000111001101000000000010 10110110010001100000000000010 01110110111001101100000000010 10100100010001100100000000010 11101000111001000100000000010 11111100000001000100000000010 10101110111001000100000000010 01010000010001000100000000010 11101110111001000000000000010 01011110010001000000000000010 10001100001001000000000000010 10011000000001000000000000000 00000000000000000000000000000\n",
      "flipped_qubit_dict {'Cluster_0': [], 'Cluster_1': [25], 'Cluster_2': [], 'Cluster_3': [], 'Cluster_4': [19], 'Cluster_5': [24], 'Cluster_6': [23], 'Cluster_7': [28], 'Cluster_8': [20], 'Cluster_9': [], 'Cluster_10': [27], 'Cluster_11': [], 'Cluster_12': [24], 'Cluster_13': [28], 'Cluster_14': [24], 'Cluster_15': [27], 'Cluster_16': [23], 'Cluster_17': [], 'Cluster_18': [], 'Cluster_19': [25], 'Cluster_20': [28], 'Cluster_21': [], 'Cluster_22': [24], 'Cluster_23': [], 'Cluster_24': [12], 'Cluster_25': [23], 'Cluster_26': [], 'Cluster_27': [1], 'Cluster_28': [], 'Cluster_29': [25], 'Cluster_30': [1], 'Cluster_31': [5], 'Cluster_32': [], 'Cluster_33': [14], 'Cluster_34': [], 'Cluster_35': [23], 'Cluster_36': [24], 'Cluster_37': [28], 'Cluster_38': [3], 'Cluster_39': [28], 'Cluster_40': [25], 'Cluster_41': [13, 12, 14, 14, 13], 'Cluster_42': [], 'Cluster_43': [24], 'Cluster_44': [28], 'Cluster_45': [24], 'Cluster_46': [9], 'Cluster_47': [], 'Cluster_48': [18], 'Cluster_49': [], 'Cluster_50': [28, 26, 27, 23, 24], 'Cluster_51': [3, 4, 5, 3], 'Cluster_52': []}\n",
      "logical: [0] \n",
      "\n"
     ]
    },
    {
     "name": "stderr",
     "output_type": "stream",
     "text": [
      " 15%|█▍        | 165/1111 [05:33<32:57,  2.09s/it]"
     ]
    },
    {
     "name": "stdout",
     "output_type": "stream",
     "text": [
      "\n",
      "meas_str: 111010010111101101000001011100 01111101100011001100001000011 01100000000001010000000110001 10111011100101111100000010000 11100000000001101100000110001 10111001100101001000000010000 11100010001001000100000110001 01111001111101111000000010000 11100010000101110100000000001 01111010101001101000000010000 11111110000001111100010000001 11110010001001000000000001000 10111110010001111100000001001 01111000001001000000000001100 11110000010001111100000000101 11111010011001101100000001100 11111100000001010000000000100 11000010011001101100000001101 11100010000001101100000000100 11100110011001101100000001001 10000110000001100000000000011 11100010011001100000000001010 11100100000001100000000000000 01100010000001100000000000000 01100100010001100000000000000 11100000000001100000000000000 01000000000001100000000000000 01100000000001100000000000000 11011000000001000000000000000 01000000000001000000000000000 00100000000001000000000000000\n",
      "flipped_qubit_dict {'Cluster_0': [], 'Cluster_1': [27], 'Cluster_2': [25], 'Cluster_3': [], 'Cluster_4': [28], 'Cluster_5': [], 'Cluster_6': [25], 'Cluster_7': [], 'Cluster_8': [23], 'Cluster_9': [19], 'Cluster_10': [27, 28], 'Cluster_11': [1, 2, 3], 'Cluster_12': [23], 'Cluster_13': [27], 'Cluster_14': [1], 'Cluster_15': [12], 'Cluster_16': [1], 'Cluster_17': [], 'Cluster_18': [12], 'Cluster_19': [], 'Cluster_20': [25, 27, 25], 'Cluster_21': [12], 'Cluster_22': [14], 'Cluster_23': [23], 'Cluster_24': [], 'Cluster_25': [12], 'Cluster_26': [], 'Cluster_27': [], 'Cluster_28': [24], 'Cluster_29': [12], 'Cluster_30': [23], 'Cluster_31': [27, 28, 28, 29, 29, 29], 'Cluster_32': [3], 'Cluster_33': [], 'Cluster_34': [], 'Cluster_35': [28], 'Cluster_36': [3], 'Cluster_37': [20], 'Cluster_38': [28], 'Cluster_39': [4], 'Cluster_40': [12, 13, 14, 13, 14, 15, 16, 18, 15, 15, 16, 17, 19, 17, 12], 'Cluster_41': [], 'Cluster_42': [24, 25], 'Cluster_43': [22], 'Cluster_44': [5], 'Cluster_45': [19], 'Cluster_46': [], 'Cluster_47': [28], 'Cluster_48': [], 'Cluster_49': [1], 'Cluster_50': [5, 6], 'Cluster_51': [17], 'Cluster_52': [23], 'Cluster_53': [23]}\n",
      "logical: [0] \n",
      "\n"
     ]
    },
    {
     "name": "stderr",
     "output_type": "stream",
     "text": [
      " 15%|█▍        | 166/1111 [05:35<32:52,  2.09s/it]"
     ]
    },
    {
     "name": "stdout",
     "output_type": "stream",
     "text": [
      "\n",
      "meas_str: 011010101110010000001100101000 10000001000011000000100111100 00111110001001000001110100000 00001101110001000000101111100 01111000001011100001001011000 01111101110001000000101111100 01100010001011000001000111000 01111101110001000000101001100 00101000010011000001000111000 01110101110001000000101111100 10100000010011100001000111000 00010101110001000000101001100 11100110000011100101000111000 10010001100001000000100011100 11101000000011001001000111000 00111101100001001000100000100 11100000000011001001000100010 01100101100001101000100010100 01101100001011001000100101000 11101010001001001100100010100 10101110001011001000100011000 11100100001001000100100010100 01101000001011001000100011100 10100100001001000100100000100 11100000011011001100100001000 11100100001001000100000001110 11100100001001001000000001000 01100000001001000100000001110 01100100001001001000000001000 01100000001001000000000000100 00100000000001001100000001000\n",
      "flipped_qubit_dict {'Cluster_0': [12], 'Cluster_1': [], 'Cluster_2': [], 'Cluster_3': [3, 4, 4], 'Cluster_4': [], 'Cluster_5': [], 'Cluster_6': [], 'Cluster_7': [2, 3], 'Cluster_8': [], 'Cluster_9': [], 'Cluster_10': [28], 'Cluster_11': [2, 3, 4, 5, 4], 'Cluster_12': [4], 'Cluster_13': [], 'Cluster_14': [4], 'Cluster_15': [23], 'Cluster_16': [], 'Cluster_17': [23], 'Cluster_18': [5], 'Cluster_19': [5], 'Cluster_20': [6], 'Cluster_21': [23, 25, 27, 27, 28, 28, 10, 11, 12, 20, 24, 25, 11, 15, 12, 16, 13, 26, 29, 4, 5, 17, 18, 17, 12, 14, 24, 16, 17, 18, 5, 5, 19, 6, 18, 20, 12, 25, 29, 19, 20, 20, 21, 25, 26, 13, 22, 5, 26, 27, 12, 28, 13, 14, 14, 28, 29, 24, 27, 15, 16, 17, 13, 27, 28, 23, 24, 28, 18, 25, 14, 28, 29, 23, 24, 25, 18, 19, 28, 23, 25, 26, 17, 19, 21, 22, 23, 19, 26, 29, 9, 26, 27, 10, 28, 29, 15, 16, 18, 15, 19, 19, 20, 16, 17, 21, 22, 22, 23], 'Cluster_22': [27], 'Cluster_23': [5], 'Cluster_24': [], 'Cluster_25': [8], 'Cluster_26': [23], 'Cluster_27': [28], 'Cluster_28': [24], 'Cluster_29': [4, 5]}\n",
      "logical: [0] \n",
      "\n"
     ]
    },
    {
     "name": "stderr",
     "output_type": "stream",
     "text": [
      " 15%|█▌        | 167/1111 [05:37<32:48,  2.09s/it]"
     ]
    },
    {
     "name": "stdout",
     "output_type": "stream",
     "text": [
      "\n",
      "meas_str: 101001011001100111100001100110 11101001101101000001000011100 00100101001111000011001101101 11101011100101000001000111110 00100111011111010011001101101 11101101110101010001000111110 11100011011111000011001110101 11101101110101010001000111010 01100001011111010010001001101 11101100111001011011001010010 00110001011111010000001001001 01101100111001111011001011001 01111111101111010000000101001 01101110001001101011001010001 01010101101101110000000101001 00101000001100101011000110001 10110101100001110000000101001 10100010001101101011000110001 10010111100001110000000101011 01101100001101101011000110011 10111110000000010000000011011 10100000001101101000000000000 10111100000001010000000011011 10000100000001101000000000001 10110000000001011000000011001 11001110000001100000000011010 10010010000011011000000000010 01110010000001100000000011010 10011010000001000000000000010 01000010000001000000000011000 01000010000001000000000000000\n",
      "flipped_qubit_dict {'Cluster_0': [], 'Cluster_1': [], 'Cluster_2': [4], 'Cluster_3': [], 'Cluster_4': [28], 'Cluster_5': [29, 26, 28, 29, 27, 25, 29, 26, 29, 24, 23, 25, 24, 25, 29, 23, 24, 25, 24, 26, 25, 27, 24, 25, 25, 26, 25, 27, 26, 27, 28, 29, 28, 29, 25, 26, 27, 25, 26, 27, 28], 'Cluster_6': [], 'Cluster_7': [23], 'Cluster_8': [5], 'Cluster_9': [10], 'Cluster_10': [], 'Cluster_11': [5], 'Cluster_12': [], 'Cluster_13': [24], 'Cluster_14': [28], 'Cluster_15': [], 'Cluster_16': [6], 'Cluster_17': [], 'Cluster_18': [24], 'Cluster_19': [], 'Cluster_20': [6], 'Cluster_21': [24], 'Cluster_22': [28], 'Cluster_23': [26, 19, 18, 19, 1, 14, 15, 16, 0, 1, 2, 1, 4, 12, 13, 14, 15, 16, 17, 1, 4, 4, 5, 7, 8, 9, 10, 11, 0, 1, 18, 4, 0, 6, 7, 8, 9, 13, 18, 0, 1, 2, 8, 9, 1, 10, 11, 12, 4, 8, 9, 10, 11, 12, 13, 21, 13, 12, 13, 22, 12, 13, 22, 13, 14, 23, 25, 24, 26, 27, 25, 27], 'Cluster_24': [26, 27], 'Cluster_25': [22], 'Cluster_26': [28], 'Cluster_27': [], 'Cluster_28': [2], 'Cluster_29': [], 'Cluster_30': [], 'Cluster_31': []}\n",
      "logical: [0] \n",
      "\n"
     ]
    },
    {
     "name": "stderr",
     "output_type": "stream",
     "text": [
      " 15%|█▌        | 168/1111 [05:40<32:49,  2.09s/it]"
     ]
    },
    {
     "name": "stdout",
     "output_type": "stream",
     "text": [
      "\n",
      "meas_str: 110011110100001000010101101000 10010000101101010011010000100 11000001011101110000101001000 10010010101101010011010111100 11000011011101110000101001100 10010010100001010011011001100 11001111011101010000001110000 00011110100101010011000011000 10001101011001010000001101000 11001010101101010011001110100 10001100010001010000000001000 11000000001101010011001110100 10001100001001000000000001010 01001100001001100110001111101 01001100001001000000001011000 01000000001001100111001110001 11001100001001000000001011111 00000000001011100111000111110 00001100011001100100000010110 01000100001001101000000111001 01000010001001101100000001110 01011000001001100000000001001 11000110001001101100000001010 00011110001001101100000000110 11001110001001100000000001010 00010110001001101100000001110 01000110001001100000000000110 10010100001001101100000000000 01000000001001101100000000010 00001100001001000100000000000 00000000000001000000000000110\n",
      "flipped_qubit_dict {'Cluster_0': [], 'Cluster_1': [], 'Cluster_2': [], 'Cluster_3': [24], 'Cluster_4': [], 'Cluster_5': [], 'Cluster_6': [28], 'Cluster_7': [25], 'Cluster_8': [12], 'Cluster_9': [], 'Cluster_10': [], 'Cluster_11': [24], 'Cluster_12': [12], 'Cluster_13': [2, 1, 3, 2, 5, 1, 3, 2, 1, 3, 4, 3, 2, 3, 1, 3, 0, 1, 2, 5, 4, 0, 2, 1, 2, 3, 1, 3, 0, 2, 0, 1, 2, 4, 5, 6, 7, 8, 9, 1, 5, 6, 1, 2, 3, 10, 11, 14, 7, 8, 9, 10, 11, 12, 13, 0, 1, 2, 3, 4, 5, 6, 6, 3, 6, 4, 3, 4, 7, 0, 1, 2, 4, 6, 7, 8, 2, 3, 4, 6, 1, 2], 'Cluster_14': [23], 'Cluster_15': [28], 'Cluster_16': [], 'Cluster_17': [12, 14, 13, 15, 16, 15, 16], 'Cluster_18': [25, 24, 23], 'Cluster_19': [], 'Cluster_20': [10], 'Cluster_21': [], 'Cluster_22': [28], 'Cluster_23': [28], 'Cluster_24': [24], 'Cluster_25': [28, 29], 'Cluster_26': [1], 'Cluster_27': [24], 'Cluster_28': [], 'Cluster_29': [28], 'Cluster_30': [], 'Cluster_31': [28], 'Cluster_32': [18, 22, 19, 24, 19, 24, 20, 25, 23, 24], 'Cluster_33': [24], 'Cluster_34': [18], 'Cluster_35': [], 'Cluster_36': [15]}\n",
      "logical: [0] \n",
      "\n"
     ]
    },
    {
     "name": "stderr",
     "output_type": "stream",
     "text": [
      " 15%|█▌        | 169/1111 [05:42<32:31,  2.07s/it]"
     ]
    }
   ],
   "source": [
    "from soft_info import soft_reweight, get_counts\n",
    "from tqdm import tqdm\n",
    "\n",
    "memory = memories['mmr_log_0']\n",
    "\n",
    "logical_counts = {'0':0, '1':0}\n",
    "for shot in tqdm(range(len(memory))):    \n",
    "    IQ_data = memory[shot]\n",
    "\n",
    "    counts = get_counts([IQ_data], kde_dict, scaler_dict, layout, max_distance, verbose=False)\n",
    "    count_key = next(iter(counts.keys()))\n",
    "    \n",
    "    reweighted_graph = soft_reweight(decoder, IQ_data, kde_dict, scaler_dict, layout)\n",
    "    decoder.graph = reweighted_graph\n",
    "\n",
    "    logical, flipped_qubit_dict = decoder.process(count_key, _return_err_str = True)\n",
    "    print(\"\\nmeas_str:\", count_key)\n",
    "    print(\"flipped_qubit_dict\", flipped_qubit_dict)\n",
    "    print(\"logical:\", logical, \"\\n\")\n",
    "    if logical[0] == 1:\n",
    "        print(\"------------ Wrong logical! ------------\\n\")\n",
    "\n",
    "    logical_counts[f\"{logical[0]}\"] += 1\n",
    "\n",
    "print( \"\\nLogical_counts:\", logical_counts)\n"
   ]
  },
  {
   "cell_type": "code",
   "execution_count": null,
   "metadata": {},
   "outputs": [],
   "source": [
    "from soft_info import soft_reweight, get_counts\n",
    "from tqdm import tqdm\n",
    "\n",
    "memory = memories['mmr_log_0']\n",
    "\n",
    "logical_counts = {'0':0, '1':0}\n",
    "for shot in tqdm(range(len(memory))):    \n",
    "    IQ_data = memory[shot]\n",
    "\n",
    "    counts = get_counts([IQ_data], kde_dict, scaler_dict, layout, max_distance, verbose=False)\n",
    "    count_key = next(iter(counts.keys()))\n",
    "    \n",
    "    #reweighted_graph = soft_reweight(decoder, IQ_data, kde_dict, scaler_dict, layout)\n",
    "    #decoder.graph = reweighted_graph\n",
    "\n",
    "    logical, flipped_qubit_dict = decoder.process(count_key, _return_err_str = True)\n",
    "    print(\"\\nmeas_str:\", count_key)\n",
    "    print(\"flipped_qubit_dict\", flipped_qubit_dict)\n",
    "    print(\"logical:\", logical, \"\\n\")\n",
    "    if logical[0] == 1:\n",
    "        print(\"------------ Wrong logical! ------------\\n\")\n",
    "\n",
    "    logical_counts[f\"{logical[0]}\"] += 1\n",
    "\n",
    "print( \"\\nLogical_counts:\", logical_counts)\n"
   ]
  }
 ],
 "metadata": {
  "kernelspec": {
   "display_name": "Soft-Info-Sk8aHGSa",
   "language": "python",
   "name": "python3"
  },
  "language_info": {
   "codemirror_mode": {
    "name": "ipython",
    "version": 3
   },
   "file_extension": ".py",
   "mimetype": "text/x-python",
   "name": "python",
   "nbconvert_exporter": "python",
   "pygments_lexer": "ipython3",
   "version": "3.11.4"
  }
 },
 "nbformat": 4,
 "nbformat_minor": 2
}
