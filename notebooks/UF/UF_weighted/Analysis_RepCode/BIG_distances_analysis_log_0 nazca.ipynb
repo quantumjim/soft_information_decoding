{
 "cells": [
  {
   "cell_type": "code",
   "execution_count": null,
   "metadata": {},
   "outputs": [],
   "source": [
    "%reload_ext autoreload\n",
    "%autoreload 2"
   ]
  },
  {
   "cell_type": "code",
   "execution_count": null,
   "metadata": {},
   "outputs": [],
   "source": [
    "from result_saver import SaverProvider\n",
    "provider = SaverProvider()"
   ]
  },
  {
   "cell_type": "code",
   "execution_count": null,
   "metadata": {},
   "outputs": [],
   "source": [
    "import numpy as np\n",
    "from Scratch import metadata_loader\n",
    "\n",
    "md = metadata_loader(_extract=True, _drop_inutile=True)\n",
    "md = md[md[\"job_status\"] == \"JobStatus.DONE\"]\n",
    "md = md[md[\"notebook_name\"] == \"bigger_rep_codes\"]\n",
    "max_distance = int(max(md.distance))\n",
    "md = md[md[\"distance\"] == max_distance]\n",
    "md = md[md[\"backend_name\"]==\"ibm_nazca\"]\n",
    "\n",
    "md = md[:2]\n",
    "\n",
    "md"
   ]
  },
  {
   "cell_type": "code",
   "execution_count": null,
   "metadata": {},
   "outputs": [],
   "source": [
    "memories = {}\n",
    "for job_id, logical in zip(md.job_id, md.logical):\n",
    "    mmr_name = f\"mmr_log_{logical}\"\n",
    "    memories[mmr_name] = provider.retrieve_job(job_id).result().get_memory()\n",
    "\n",
    "memories"
   ]
  },
  {
   "cell_type": "code",
   "execution_count": null,
   "metadata": {},
   "outputs": [],
   "source": [
    "import pickle\n",
    "from soft_info import get_repcode_layout, get_KDEs, get_counts\n",
    "from qiskit_qec.circuits import RepetitionCodeCircuit\n",
    "from qiskit_qec.decoders import UnionFindDecoder\n",
    "\n",
    "layout = get_repcode_layout(distance=max_distance, backend=provider.get_backend(\"ibm_sherbrooke\"), _is_hex=True)\n",
    "\n",
    "kde_dict, scaler_dict = get_KDEs(provider, 'ibm_sherbrooke', layout, bandwidths=0.2, plot=False)\n",
    "print(kde_dict)\n",
    "\n",
    "#code = RepetitionCodeCircuit(max_distance, max_distance)\n",
    "#decoder = UnionFindDecoder(code)\n",
    "\n",
    "with open('decoder.pkl', 'rb') as f:\n",
    "    decoder = pickle.load(f)"
   ]
  },
  {
   "cell_type": "code",
   "execution_count": null,
   "metadata": {},
   "outputs": [],
   "source": [
    "from soft_info import soft_reweight, get_counts\n",
    "from tqdm import tqdm\n",
    "\n",
    "memory = memories['mmr_log_0']\n",
    "\n",
    "logical_counts = {'0':0, '1':0}\n",
    "for shot in tqdm(range(len(memory))):    \n",
    "    IQ_data = memory[shot]\n",
    "\n",
    "    counts = get_counts([IQ_data], kde_dict, scaler_dict, layout, max_distance, verbose=False)\n",
    "    count_key = next(iter(counts.keys()))\n",
    "    \n",
    "    reweighted_graph = soft_reweight(decoder, IQ_data, kde_dict, scaler_dict, layout)\n",
    "    decoder.graph = reweighted_graph\n",
    "\n",
    "    logical, flipped_qubit_dict = decoder.process(count_key, _return_err_str = True)\n",
    "    print(\"\\nmeas_str:\", count_key)\n",
    "    print(\"flipped_qubit_dict\", flipped_qubit_dict)\n",
    "    print(\"logical:\", logical, \"\\n\")\n",
    "    if logical[0] == 1:\n",
    "        print(\"------------ Wrong logical! ------------\\n\")\n",
    "\n",
    "    logical_counts[f\"{logical[0]}\"] += 1\n",
    "\n",
    "print( \"\\nLogical_counts:\", logical_counts)\n"
   ]
  },
  {
   "cell_type": "code",
   "execution_count": null,
   "metadata": {},
   "outputs": [],
   "source": [
    "from soft_info import soft_reweight, get_counts\n",
    "from tqdm import tqdm\n",
    "\n",
    "memory = memories['mmr_log_0']\n",
    "\n",
    "logical_counts = {'0':0, '1':0}\n",
    "for shot in tqdm(range(len(memory))):    \n",
    "    IQ_data = memory[shot]\n",
    "\n",
    "    counts = get_counts([IQ_data], kde_dict, scaler_dict, layout, max_distance, verbose=False)\n",
    "    count_key = next(iter(counts.keys()))\n",
    "    \n",
    "    #reweighted_graph = soft_reweight(decoder, IQ_data, kde_dict, scaler_dict, layout)\n",
    "    #decoder.graph = reweighted_graph\n",
    "\n",
    "    logical, flipped_qubit_dict = decoder.process(count_key, _return_err_str = True)\n",
    "    print(\"\\nmeas_str:\", count_key)\n",
    "    print(\"flipped_qubit_dict\", flipped_qubit_dict)\n",
    "    print(\"logical:\", logical, \"\\n\")\n",
    "    if logical[0] == 1:\n",
    "        print(\"------------ Wrong logical! ------------\\n\")\n",
    "\n",
    "    logical_counts[f\"{logical[0]}\"] += 1\n",
    "\n",
    "print( \"\\nLogical_counts:\", logical_counts)\n"
   ]
  },
  {
   "cell_type": "code",
   "execution_count": null,
   "metadata": {},
   "outputs": [],
   "source": []
  }
 ],
 "metadata": {
  "kernelspec": {
   "display_name": "Soft-Info-Sk8aHGSa",
   "language": "python",
   "name": "python3"
  },
  "language_info": {
   "codemirror_mode": {
    "name": "ipython",
    "version": 3
   },
   "file_extension": ".py",
   "mimetype": "text/x-python",
   "name": "python",
   "nbconvert_exporter": "python",
   "pygments_lexer": "ipython3",
   "version": "3.11.4"
  }
 },
 "nbformat": 4,
 "nbformat_minor": 2
}
