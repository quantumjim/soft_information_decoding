{
 "cells": [
  {
   "cell_type": "code",
   "execution_count": 1,
   "metadata": {},
   "outputs": [],
   "source": [
    "%reload_ext autoreload\n",
    "%autoreload 2"
   ]
  },
  {
   "cell_type": "code",
   "execution_count": 2,
   "metadata": {},
   "outputs": [],
   "source": [
    "from result_saver import SaverProvider\n",
    "provider = SaverProvider()"
   ]
  },
  {
   "cell_type": "code",
   "execution_count": 3,
   "metadata": {},
   "outputs": [
    {
     "data": {
      "text/html": [
       "<div>\n",
       "<style scoped>\n",
       "    .dataframe tbody tr th:only-of-type {\n",
       "        vertical-align: middle;\n",
       "    }\n",
       "\n",
       "    .dataframe tbody tr th {\n",
       "        vertical-align: top;\n",
       "    }\n",
       "\n",
       "    .dataframe thead th {\n",
       "        text-align: right;\n",
       "    }\n",
       "</style>\n",
       "<table border=\"1\" class=\"dataframe\">\n",
       "  <thead>\n",
       "    <tr style=\"text-align: right;\">\n",
       "      <th></th>\n",
       "      <th>creation_date</th>\n",
       "      <th>notebook_name</th>\n",
       "      <th>backend_name</th>\n",
       "      <th>job_id</th>\n",
       "      <th>tags</th>\n",
       "      <th>shots</th>\n",
       "      <th>tags_xp</th>\n",
       "      <th>sampled_state</th>\n",
       "      <th>num_qubits</th>\n",
       "      <th>job_status</th>\n",
       "      <th>extra</th>\n",
       "      <th>optimization_level</th>\n",
       "      <th>code</th>\n",
       "      <th>distance</th>\n",
       "      <th>rounds</th>\n",
       "      <th>logical</th>\n",
       "      <th>layout</th>\n",
       "      <th>descr</th>\n",
       "    </tr>\n",
       "  </thead>\n",
       "  <tbody>\n",
       "    <tr>\n",
       "      <th>51</th>\n",
       "      <td>2023-10-29 14:43:41.752908+01:00</td>\n",
       "      <td>bigger_rep_codes</td>\n",
       "      <td>ibm_sherbrooke</td>\n",
       "      <td>cmz633cvayrg008sp2a0</td>\n",
       "      <td>[]</td>\n",
       "      <td>10000.0</td>\n",
       "      <td>NaN</td>\n",
       "      <td>NaN</td>\n",
       "      <td>NaN</td>\n",
       "      <td>JobStatus.DONE</td>\n",
       "      <td>NaN</td>\n",
       "      <td>NaN</td>\n",
       "      <td>RepetitionCodeCircuit</td>\n",
       "      <td>10.0</td>\n",
       "      <td>10</td>\n",
       "      <td>0</td>\n",
       "      <td>_is_hex=True</td>\n",
       "      <td>Run bigger Repetition codes</td>\n",
       "    </tr>\n",
       "    <tr>\n",
       "      <th>52</th>\n",
       "      <td>2023-10-29 14:43:49.136614+01:00</td>\n",
       "      <td>bigger_rep_codes</td>\n",
       "      <td>ibm_sherbrooke</td>\n",
       "      <td>cmz635cvayrg008sp2ag</td>\n",
       "      <td>[]</td>\n",
       "      <td>10000.0</td>\n",
       "      <td>NaN</td>\n",
       "      <td>NaN</td>\n",
       "      <td>NaN</td>\n",
       "      <td>JobStatus.DONE</td>\n",
       "      <td>NaN</td>\n",
       "      <td>NaN</td>\n",
       "      <td>RepetitionCodeCircuit</td>\n",
       "      <td>10.0</td>\n",
       "      <td>10</td>\n",
       "      <td>1</td>\n",
       "      <td>_is_hex=True</td>\n",
       "      <td>Run bigger Repetition codes</td>\n",
       "    </tr>\n",
       "  </tbody>\n",
       "</table>\n",
       "</div>"
      ],
      "text/plain": [
       "                       creation_date     notebook_name    backend_name  \\\n",
       "51  2023-10-29 14:43:41.752908+01:00  bigger_rep_codes  ibm_sherbrooke   \n",
       "52  2023-10-29 14:43:49.136614+01:00  bigger_rep_codes  ibm_sherbrooke   \n",
       "\n",
       "                  job_id tags    shots tags_xp sampled_state  num_qubits  \\\n",
       "51  cmz633cvayrg008sp2a0   []  10000.0     NaN           NaN         NaN   \n",
       "52  cmz635cvayrg008sp2ag   []  10000.0     NaN           NaN         NaN   \n",
       "\n",
       "        job_status extra  optimization_level                   code  distance  \\\n",
       "51  JobStatus.DONE   NaN                 NaN  RepetitionCodeCircuit      10.0   \n",
       "52  JobStatus.DONE   NaN                 NaN  RepetitionCodeCircuit      10.0   \n",
       "\n",
       "   rounds logical        layout                        descr  \n",
       "51     10       0  _is_hex=True  Run bigger Repetition codes  \n",
       "52     10       1  _is_hex=True  Run bigger Repetition codes  "
      ]
     },
     "execution_count": 3,
     "metadata": {},
     "output_type": "execute_result"
    }
   ],
   "source": [
    "import numpy as np\n",
    "from Scratch import metadata_loader\n",
    "\n",
    "md = metadata_loader(_extract=True, _drop_inutile=True)\n",
    "md = md[md[\"job_status\"] == \"JobStatus.DONE\"]\n",
    "md = md[md[\"notebook_name\"] == \"bigger_rep_codes\"]\n",
    "max_distance = int(max(md.distance))\n",
    "max_distance = 10\n",
    "md = md[md[\"distance\"] == max_distance]\n",
    "md = md.sort_values(by='backend_name', ascending=False)\n",
    "\n",
    "md = md[:2]\n",
    "\n",
    "md"
   ]
  },
  {
   "cell_type": "code",
   "execution_count": 4,
   "metadata": {},
   "outputs": [
    {
     "data": {
      "text/plain": [
       "{'mmr_log_0': array([[-1.07835540e+07+1.60007760e+07j, -4.34302570e+07+6.96242610e+07j,\n",
       "         -7.66192810e+07-1.01656696e+08j, ...,\n",
       "         -1.35120390e+08-9.77335290e+07j, -3.80560740e+07+6.36918740e+07j,\n",
       "         -4.85890250e+07-4.91702220e+07j],\n",
       "        [-1.74411220e+07+1.59327660e+07j, -2.78251510e+07+9.61105720e+07j,\n",
       "         -8.27942290e+07-6.93373260e+07j, ...,\n",
       "         -9.07659150e+07-8.55185450e+07j, -4.64208250e+07+6.32030470e+07j,\n",
       "         -4.33537600e+07-6.12943710e+07j],\n",
       "        [-1.54824580e+07+2.18220430e+07j, -6.89706470e+07+8.39149230e+07j,\n",
       "         -8.66970110e+07-1.03769749e+08j, ...,\n",
       "         -9.09095960e+07-1.00895483e+08j,  2.93957050e+07+5.42357540e+07j,\n",
       "         -4.63021990e+07-4.44538090e+07j],\n",
       "        ...,\n",
       "        [-1.39799180e+07+2.69024710e+07j, -6.32237650e+07+8.82667040e+07j,\n",
       "         -5.41600650e+07-7.07844530e+07j, ...,\n",
       "         -1.03823050e+08-6.60265260e+07j, -3.28060750e+07+5.71764790e+07j,\n",
       "         -4.21334650e+07-3.51620440e+07j],\n",
       "        [-2.26475890e+07+1.08688000e+07j, -7.83379020e+07+5.57964840e+07j,\n",
       "         -4.49446620e+07-8.25838230e+07j, ...,\n",
       "         -1.15430337e+08-1.29970139e+08j, -4.31034770e+07+7.30380210e+07j,\n",
       "          2.77266150e+07-5.34374360e+07j],\n",
       "        [-1.70805520e+07+2.07884260e+07j, -3.27609510e+07+4.82693720e+07j,\n",
       "         -6.04363530e+07-7.41615820e+07j, ...,\n",
       "         -1.15424203e+08-9.67325870e+07j, -4.03741830e+07+7.17580610e+07j,\n",
       "          3.34193000e+07-4.02555640e+07j]]),\n",
       " 'mmr_log_1': array([[-15692787.+1.88561960e+07j, -80711076.+8.91906020e+07j,\n",
       "         -87022795.-6.44187120e+07j, ...,  75725902.-1.21354580e+08j,\n",
       "         -28710712.+6.20943080e+07j,  44185553.-4.49834680e+07j],\n",
       "        [-17120213.+1.69376750e+07j,  23946988.+3.47431000e+07j,\n",
       "         -74781675.-9.12627200e+07j, ...,  72066487.-1.01721992e+08j,\n",
       "          19959988.+6.10444990e+07j,  26781351.-4.77705380e+07j],\n",
       "        [-19335587.+3.34220460e+07j, -46818366.+8.77273130e+07j,\n",
       "         -61405134.-7.04816920e+07j, ...,  80569010.-1.03369401e+08j,\n",
       "          16784749.+8.25859120e+07j,  17967845.-2.02450010e+07j],\n",
       "        ...,\n",
       "        [-16345637.+2.46346140e+07j, -54743861.+5.96369150e+07j,\n",
       "         -78909730.-7.98283930e+07j, ...,  80997282.-1.01116520e+08j,\n",
       "          23078698.+6.85586680e+07j,  34355029.-7.26538330e+07j],\n",
       "        [ -9473397.+1.67778250e+07j, -55211766.+5.55506080e+07j,\n",
       "         -62476911.-7.80322320e+07j, ...,  53501505.-1.02813635e+08j,\n",
       "          43115339.+6.01581220e+07j,  47870070.-4.31179720e+07j],\n",
       "        [-12487791.+2.30842620e+07j, -67437817.+7.46774740e+07j,\n",
       "         -72204421.-7.04013450e+07j, ...,  67383748.-1.01053483e+08j,\n",
       "          36118069.+7.42037660e+07j,  36013478.-4.25054610e+07j]])}"
      ]
     },
     "execution_count": 4,
     "metadata": {},
     "output_type": "execute_result"
    }
   ],
   "source": [
    "memories = {}\n",
    "for job_id, logical in zip(md.job_id, md.logical):\n",
    "    mmr_name = f\"mmr_log_{logical}\"\n",
    "    memories[mmr_name] = provider.retrieve_job(job_id).result().get_memory()\n",
    "\n",
    "memories"
   ]
  },
  {
   "cell_type": "code",
   "execution_count": 5,
   "metadata": {},
   "outputs": [
    {
     "name": "stderr",
     "output_type": "stream",
     "text": [
      "from qiskit_qec.analysis._c_analysis import _CErrorPropagator             failed, raising No module named 'qiskit_qec.analysis._c_analysis'\n",
      "Traceback (most recent call last):\n",
      "  File \"/Users/mha/My Drive/Desktop/Studium/Physik/MSc/Semester 3/IBM/IBM GIT/Soft-Info/libs/qiskit-qec/src/qiskit_qec/analysis/extensions.py\", line 21, in <module>\n",
      "    from qiskit_qec.analysis._c_analysis import _CErrorPropagator  # pylint: disable=unused-import\n",
      "    ^^^^^^^^^^^^^^^^^^^^^^^^^^^^^^^^^^^^^^^^^^^^^^^^^^^^^^^^^^^^^\n",
      "ModuleNotFoundError: No module named 'qiskit_qec.analysis._c_analysis'\n",
      "from qiskit_qec.analysis._c_analysis import _CFaultEnumerator             failed, raising No module named 'qiskit_qec.analysis._c_analysis'\n",
      "Traceback (most recent call last):\n",
      "  File \"/Users/mha/My Drive/Desktop/Studium/Physik/MSc/Semester 3/IBM/IBM GIT/Soft-Info/libs/qiskit-qec/src/qiskit_qec/analysis/extensions.py\", line 32, in <module>\n",
      "    from qiskit_qec.analysis._c_analysis import _CFaultEnumerator  # pylint: disable=unused-import\n",
      "    ^^^^^^^^^^^^^^^^^^^^^^^^^^^^^^^^^^^^^^^^^^^^^^^^^^^^^^^^^^^^^\n",
      "ModuleNotFoundError: No module named 'qiskit_qec.analysis._c_analysis'\n",
      "from qiskit_qec.analysis._c_analysis import _CFaultSampler failed,             raising No module named 'qiskit_qec.analysis._c_analysis'\n",
      "Traceback (most recent call last):\n",
      "  File \"/Users/mha/My Drive/Desktop/Studium/Physik/MSc/Semester 3/IBM/IBM GIT/Soft-Info/libs/qiskit-qec/src/qiskit_qec/analysis/extensions.py\", line 43, in <module>\n",
      "    from qiskit_qec.analysis._c_analysis import _CFaultSampler  # pylint: disable=unused-import\n",
      "    ^^^^^^^^^^^^^^^^^^^^^^^^^^^^^^^^^^^^^^^^^^^^^^^^^^^^^^^^^^\n",
      "ModuleNotFoundError: No module named 'qiskit_qec.analysis._c_analysis'\n",
      "from qiskit_qec.analysis._c_analysis import _c_minimum_distance             failed, raising No module named 'qiskit_qec.analysis._c_analysis'\n",
      "Traceback (most recent call last):\n",
      "  File \"/Users/mha/My Drive/Desktop/Studium/Physik/MSc/Semester 3/IBM/IBM GIT/Soft-Info/libs/qiskit-qec/src/qiskit_qec/analysis/extensions.py\", line 54, in <module>\n",
      "    from qiskit_qec.analysis._c_analysis import _c_minimum_distance  # pylint: disable=unused-import\n",
      "    ^^^^^^^^^^^^^^^^^^^^^^^^^^^^^^^^^^^^^^^^^^^^^^^^^^^^^^^^^^^^^^^\n",
      "ModuleNotFoundError: No module named 'qiskit_qec.analysis._c_analysis'\n",
      "from qiskit_qec.analysis._c_analysis import _c_minimum_distance_by_tests             failed, raising No module named 'qiskit_qec.analysis._c_analysis'\n",
      "Traceback (most recent call last):\n",
      "  File \"/Users/mha/My Drive/Desktop/Studium/Physik/MSc/Semester 3/IBM/IBM GIT/Soft-Info/libs/qiskit-qec/src/qiskit_qec/analysis/extensions.py\", line 66, in <module>\n",
      "    from qiskit_qec.analysis._c_analysis import _c_minimum_distance_by_tests\n",
      "ModuleNotFoundError: No module named 'qiskit_qec.analysis._c_analysis'\n",
      "from qiskit_qec.analysis._c_analysis import _c_rank failed,             raising No module named 'qiskit_qec.analysis._c_analysis'\n",
      "Traceback (most recent call last):\n",
      "  File \"/Users/mha/My Drive/Desktop/Studium/Physik/MSc/Semester 3/IBM/IBM GIT/Soft-Info/libs/qiskit-qec/src/qiskit_qec/analysis/extensions.py\", line 77, in <module>\n",
      "    from qiskit_qec.analysis._c_analysis import _c_rank  # pylint: disable=unused-import\n",
      "    ^^^^^^^^^^^^^^^^^^^^^^^^^^^^^^^^^^^^^^^^^^^^^^^^^^^\n",
      "ModuleNotFoundError: No module named 'qiskit_qec.analysis._c_analysis'\n",
      "from qiskit_qec.analysis._c_analysis import _c_isotropic failed,             raising No module named 'qiskit_qec.analysis._c_analysis'\n",
      "Traceback (most recent call last):\n",
      "  File \"/Users/mha/My Drive/Desktop/Studium/Physik/MSc/Semester 3/IBM/IBM GIT/Soft-Info/libs/qiskit-qec/src/qiskit_qec/analysis/extensions.py\", line 88, in <module>\n",
      "    from qiskit_qec.analysis._c_analysis import _c_isotropic  # pylint: disable=unused-import\n",
      "    ^^^^^^^^^^^^^^^^^^^^^^^^^^^^^^^^^^^^^^^^^^^^^^^^^^^^^^^^\n",
      "ModuleNotFoundError: No module named 'qiskit_qec.analysis._c_analysis'\n"
     ]
    },
    {
     "name": "stdout",
     "output_type": "stream",
     "text": [
      "{114: [KernelDensity(bandwidth=0.2), KernelDensity(bandwidth=0.2)], 116: [KernelDensity(bandwidth=0.2), KernelDensity(bandwidth=0.2)], 118: [KernelDensity(bandwidth=0.2), KernelDensity(bandwidth=0.2)], 120: [KernelDensity(bandwidth=0.2), KernelDensity(bandwidth=0.2)], 122: [KernelDensity(bandwidth=0.2), KernelDensity(bandwidth=0.2)], 104: [KernelDensity(bandwidth=0.2), KernelDensity(bandwidth=0.2)], 102: [KernelDensity(bandwidth=0.2), KernelDensity(bandwidth=0.2)], 100: [KernelDensity(bandwidth=0.2), KernelDensity(bandwidth=0.2)], 98: [KernelDensity(bandwidth=0.2), KernelDensity(bandwidth=0.2)], 113: [KernelDensity(bandwidth=0.2), KernelDensity(bandwidth=0.2)], 115: [KernelDensity(bandwidth=0.2), KernelDensity(bandwidth=0.2)], 117: [KernelDensity(bandwidth=0.2), KernelDensity(bandwidth=0.2)], 119: [KernelDensity(bandwidth=0.2), KernelDensity(bandwidth=0.2)], 121: [KernelDensity(bandwidth=0.2), KernelDensity(bandwidth=0.2)], 111: [KernelDensity(bandwidth=0.2), KernelDensity(bandwidth=0.2)], 103: [KernelDensity(bandwidth=0.2), KernelDensity(bandwidth=0.2)], 101: [KernelDensity(bandwidth=0.2), KernelDensity(bandwidth=0.2)], 99: [KernelDensity(bandwidth=0.2), KernelDensity(bandwidth=0.2)], 97: [KernelDensity(bandwidth=0.2), KernelDensity(bandwidth=0.2)]}\n"
     ]
    }
   ],
   "source": [
    "import pickle\n",
    "\n",
    "from soft_info import get_repcode_layout, get_KDEs, get_counts\n",
    "from qiskit_qec.circuits import RepetitionCodeCircuit\n",
    "from qiskit_qec.decoders import UnionFindDecoder\n",
    "\n",
    "layout = get_repcode_layout(distance=max_distance, backend=provider.get_backend(\"ibm_sherbrooke\"), _is_hex=True)\n",
    "\n",
    "kde_dict, scaler_dict = get_KDEs(provider, 'ibm_sherbrooke', layout, bandwidths=0.2, plot=False)\n",
    "print(kde_dict)\n",
    "\n",
    "code = RepetitionCodeCircuit(max_distance, max_distance)\n",
    "dcd_pkl_str = f\"dist_{max_distance}_decoder_v2.pkl\""
   ]
  },
  {
   "cell_type": "markdown",
   "metadata": {},
   "source": [
    "from qiskit_qec.decoders.hdrg_decoders import UnionFindDecoder_v2\n",
    "\n",
    "decoder = UnionFindDecoder_v2(code)\n",
    "dcd_pkl_str = f\"dist_{max_distance}_decoder_v2.pkl\"\n",
    "\n",
    "print(\"saving the decoder...\")\n",
    "with open(dcd_pkl_str, 'wb') as f:\n",
    "    pickle.dump(decoder, f)"
   ]
  },
  {
   "cell_type": "code",
   "execution_count": 6,
   "metadata": {},
   "outputs": [],
   "source": [
    "with open(dcd_pkl_str, 'rb') as f:\n",
    "    decoder = pickle.load(f)"
   ]
  },
  {
   "cell_type": "code",
   "execution_count": 17,
   "metadata": {},
   "outputs": [
    {
     "name": "stderr",
     "output_type": "stream",
     "text": [
      "100%|██████████| 4/4 [00:00<00:00,  4.87it/s]"
     ]
    },
    {
     "name": "stdout",
     "output_type": "stream",
     "text": [
      "\n",
      "Logical_counts: {'0': 0, '1': 4}\n"
     ]
    },
    {
     "name": "stderr",
     "output_type": "stream",
     "text": [
      "\n"
     ]
    }
   ],
   "source": [
    "from soft_info import soft_reweight, get_counts, rx_draw_2D\n",
    "from tqdm import tqdm\n",
    "\n",
    "VERBOSE = False\n",
    "\n",
    "memory = memories['mmr_log_1']\n",
    "\n",
    "logical_counts = {'0':0, '1':0}\n",
    "for shot in tqdm(range(len(memory))[1:5]):\n",
    "    \n",
    "    with open(dcd_pkl_str, 'rb') as f: # Reload the decoder each time to reset the graph\n",
    "        decoder = pickle.load(f)\n",
    "\n",
    "    IQ_data = memory[shot]\n",
    "\n",
    "    counts = get_counts([IQ_data], kde_dict, scaler_dict, layout, max_distance, verbose=False)\n",
    "    count_key = next(iter(counts.keys()))\n",
    "    \n",
    "    if VERBOSE:\n",
    "        print(\"Decoding graph before reweighting:\")\n",
    "        rx_draw_2D(decoder.graph)\n",
    "\n",
    "    reweighted_graph = soft_reweight(decoder, IQ_data, kde_dict, scaler_dict, layout, common_measure=1)\n",
    "    decoder.graph = reweighted_graph\n",
    "\n",
    "    if VERBOSE:\n",
    "        print(\"Decoding graph after reweighting:\")\n",
    "        rx_draw_2D(decoder.graph)\n",
    "\n",
    "    logical, flipped_qubit_dict = decoder.process(count_key, _return_err_str = True)\n",
    "    \n",
    "    if VERBOSE:\n",
    "        print(\"\\nmeas_str:\", count_key)\n",
    "        print(\"flipped_qubit_dict\", flipped_qubit_dict)\n",
    "        print(\"logical:\", logical, \"\\n\")\n",
    "        if logical[0] == 0:\n",
    "            print(\"------------ Wrong logical! ------------\\n\")\n",
    "\n",
    "    logical_counts[f\"{logical[0]}\"] += 1\n",
    "\n",
    "print( \"\\nLogical_counts:\", logical_counts)\n"
   ]
  },
  {
   "cell_type": "code",
   "execution_count": 28,
   "metadata": {},
   "outputs": [
    {
     "name": "stderr",
     "output_type": "stream",
     "text": [
      " 73%|███████▎  | 69/94 [00:08<00:02,  8.62it/s]\n"
     ]
    },
    {
     "ename": "KeyboardInterrupt",
     "evalue": "",
     "output_type": "error",
     "traceback": [
      "\u001b[0;31m---------------------------------------------------------------------------\u001b[0m",
      "\u001b[0;31mKeyboardInterrupt\u001b[0m                         Traceback (most recent call last)",
      "\u001b[1;32m/Users/mha/My Drive/Desktop/Studium/Physik/MSc/Semester 3/IBM/IBM GIT/Soft-Info/notebooks/UF/UF_weighted/Analysis_RepCode/BIG_distances_analysis_log_1.ipynb Cell 9\u001b[0m line \u001b[0;36m3\n\u001b[1;32m     <a href='vscode-notebook-cell:/Users/mha/My%20Drive/Desktop/Studium/Physik/MSc/Semester%203/IBM/IBM%20GIT/Soft-Info/notebooks/UF/UF_weighted/Analysis_RepCode/BIG_distances_analysis_log_1.ipynb#X11sZmlsZQ%3D%3D?line=26'>27</a>\u001b[0m     \u001b[39mprint\u001b[39m(\u001b[39m\"\u001b[39m\u001b[39mDecoding graph after reweighting:\u001b[39m\u001b[39m\"\u001b[39m)\n\u001b[1;32m     <a href='vscode-notebook-cell:/Users/mha/My%20Drive/Desktop/Studium/Physik/MSc/Semester%203/IBM/IBM%20GIT/Soft-Info/notebooks/UF/UF_weighted/Analysis_RepCode/BIG_distances_analysis_log_1.ipynb#X11sZmlsZQ%3D%3D?line=27'>28</a>\u001b[0m     rx_draw_2D(decoder\u001b[39m.\u001b[39mgraph)\n\u001b[0;32m---> <a href='vscode-notebook-cell:/Users/mha/My%20Drive/Desktop/Studium/Physik/MSc/Semester%203/IBM/IBM%20GIT/Soft-Info/notebooks/UF/UF_weighted/Analysis_RepCode/BIG_distances_analysis_log_1.ipynb#X11sZmlsZQ%3D%3D?line=29'>30</a>\u001b[0m logical, flipped_qubit_dict \u001b[39m=\u001b[39m decoder\u001b[39m.\u001b[39;49mprocess(count_key, _return_err_str \u001b[39m=\u001b[39;49m \u001b[39mTrue\u001b[39;49;00m)\n\u001b[1;32m     <a href='vscode-notebook-cell:/Users/mha/My%20Drive/Desktop/Studium/Physik/MSc/Semester%203/IBM/IBM%20GIT/Soft-Info/notebooks/UF/UF_weighted/Analysis_RepCode/BIG_distances_analysis_log_1.ipynb#X11sZmlsZQ%3D%3D?line=31'>32</a>\u001b[0m \u001b[39mif\u001b[39;00m VERBOSE:\n\u001b[1;32m     <a href='vscode-notebook-cell:/Users/mha/My%20Drive/Desktop/Studium/Physik/MSc/Semester%203/IBM/IBM%20GIT/Soft-Info/notebooks/UF/UF_weighted/Analysis_RepCode/BIG_distances_analysis_log_1.ipynb#X11sZmlsZQ%3D%3D?line=32'>33</a>\u001b[0m     \u001b[39mprint\u001b[39m(\u001b[39m\"\u001b[39m\u001b[39m\\n\u001b[39;00m\u001b[39mmeas_str:\u001b[39m\u001b[39m\"\u001b[39m, count_key)\n",
      "File \u001b[0;32m~/My Drive/Desktop/Studium/Physik/MSc/Semester 3/IBM/IBM GIT/Soft-Info/libs/qiskit-qec/src/qiskit_qec/decoders/hdrg_decoders.py:757\u001b[0m, in \u001b[0;36mUnionFindDecoder_v2.process\u001b[0;34m(self, string, _return_err_str)\u001b[0m\n\u001b[1;32m    753\u001b[0m highlighted_nodes \u001b[39m=\u001b[39m \u001b[39mself\u001b[39m\u001b[39m.\u001b[39mcode\u001b[39m.\u001b[39mstring2nodes(\n\u001b[1;32m    754\u001b[0m     string, all_logicals\u001b[39m=\u001b[39m\u001b[39mTrue\u001b[39;00m)\n\u001b[1;32m    756\u001b[0m \u001b[39m# call cluster to do the clustering, but actually use the peeling form\u001b[39;00m\n\u001b[0;32m--> 757\u001b[0m \u001b[39mself\u001b[39;49m\u001b[39m.\u001b[39;49mcluster(highlighted_nodes)\n\u001b[1;32m    758\u001b[0m clusters \u001b[39m=\u001b[39m \u001b[39mself\u001b[39m\u001b[39m.\u001b[39m_clusters4peeling\n\u001b[1;32m    760\u001b[0m all_flipped_qubits \u001b[39m=\u001b[39m {}\n",
      "File \u001b[0;32m~/My Drive/Desktop/Studium/Physik/MSc/Semester 3/IBM/IBM GIT/Soft-Info/libs/qiskit-qec/src/qiskit_qec/decoders/hdrg_decoders.py:828\u001b[0m, in \u001b[0;36mUnionFindDecoder_v2.cluster\u001b[0;34m(self, atypical_nodes)\u001b[0m\n\u001b[1;32m    825\u001b[0m     \u001b[39mself\u001b[39m\u001b[39m.\u001b[39m_create_new_cluster(node_index)\n\u001b[1;32m    827\u001b[0m \u001b[39mwhile\u001b[39;00m \u001b[39mself\u001b[39m\u001b[39m.\u001b[39modd_cluster_roots:\n\u001b[0;32m--> 828\u001b[0m     \u001b[39mself\u001b[39;49m\u001b[39m.\u001b[39;49m_grow_and_merge_clusters()\n\u001b[1;32m    830\u001b[0m \u001b[39m# compile info into standard clusters dict\u001b[39;00m\n\u001b[1;32m    831\u001b[0m clusters \u001b[39m=\u001b[39m {}\n",
      "File \u001b[0;32m~/My Drive/Desktop/Studium/Physik/MSc/Semester 3/IBM/IBM GIT/Soft-Info/libs/qiskit-qec/src/qiskit_qec/decoders/hdrg_decoders.py:891\u001b[0m, in \u001b[0;36mUnionFindDecoder_v2._grow_and_merge_clusters\u001b[0;34m(self)\u001b[0m\n\u001b[1;32m    889\u001b[0m \u001b[39mdef\u001b[39;00m \u001b[39m_grow_and_merge_clusters\u001b[39m(\u001b[39mself\u001b[39m) \u001b[39m-\u001b[39m\u001b[39m>\u001b[39m Set[\u001b[39mint\u001b[39m]:\n\u001b[1;32m    890\u001b[0m     fusion_edge_list \u001b[39m=\u001b[39m \u001b[39mself\u001b[39m\u001b[39m.\u001b[39m_grow_clusters()\n\u001b[0;32m--> 891\u001b[0m     \u001b[39mreturn\u001b[39;00m \u001b[39mself\u001b[39;49m\u001b[39m.\u001b[39;49m_merge_clusters(fusion_edge_list)\n",
      "File \u001b[0;32m~/My Drive/Desktop/Studium/Physik/MSc/Semester 3/IBM/IBM GIT/Soft-Info/libs/qiskit-qec/src/qiskit_qec/decoders/hdrg_decoders.py:969\u001b[0m, in \u001b[0;36mUnionFindDecoder_v2._merge_clusters\u001b[0;34m(self, fusion_edge_list)\u001b[0m\n\u001b[1;32m    966\u001b[0m root_u, root_v \u001b[39m=\u001b[39m \u001b[39mself\u001b[39m\u001b[39m.\u001b[39mfind(\n\u001b[1;32m    967\u001b[0m     fusion_entry\u001b[39m.\u001b[39mu), \u001b[39mself\u001b[39m\u001b[39m.\u001b[39mfind(fusion_entry\u001b[39m.\u001b[39mv)\n\u001b[1;32m    968\u001b[0m \u001b[39mif\u001b[39;00m root_u \u001b[39m==\u001b[39m root_v:\n\u001b[0;32m--> 969\u001b[0m     \u001b[39mcontinue\u001b[39;00m\n\u001b[1;32m    970\u001b[0m bigger_root \u001b[39m=\u001b[39m root_v \u001b[39mif\u001b[39;00m \u001b[39mself\u001b[39m\u001b[39m.\u001b[39mclusters[root_v]\u001b[39m.\u001b[39msize \u001b[39m>\u001b[39m \u001b[39mself\u001b[39m\u001b[39m.\u001b[39mclusters[root_u]\u001b[39m.\u001b[39msize \u001b[39melse\u001b[39;00m root_u\n\u001b[1;32m    971\u001b[0m smaller_root \u001b[39m=\u001b[39m root_v \u001b[39mif\u001b[39;00m bigger_root \u001b[39m==\u001b[39m root_u \u001b[39melse\u001b[39;00m root_u\n",
      "\u001b[0;31mKeyboardInterrupt\u001b[0m: "
     ]
    }
   ],
   "source": [
    "from soft_info import soft_reweight, get_counts, rx_draw_2D\n",
    "from tqdm import tqdm\n",
    "\n",
    "VERBOSE = False\n",
    "\n",
    "memory = memories['mmr_log_1']\n",
    "\n",
    "logical_counts = {'0':0, '1':0}\n",
    "for shot in tqdm(range(len(memory))[6:100]):\n",
    "    \n",
    "    with open(dcd_pkl_str, 'rb') as f: # Reload the decoder each time to reset the graph\n",
    "        decoder = pickle.load(f)\n",
    "\n",
    "    IQ_data = memory[shot]\n",
    "\n",
    "    counts = get_counts([IQ_data], kde_dict, scaler_dict, layout, max_distance, verbose=False)\n",
    "    count_key = next(iter(counts.keys()))\n",
    "    \n",
    "    if VERBOSE:\n",
    "        print(\"Decoding graph before reweighting:\")\n",
    "        rx_draw_2D(decoder.graph)\n",
    "\n",
    "    #reweighted_graph = soft_reweight(decoder, IQ_data, kde_dict, scaler_dict, layout)\n",
    "    #decoder.graph = reweighted_graph\n",
    "\n",
    "    if VERBOSE:\n",
    "        print(\"Decoding graph after reweighting:\")\n",
    "        rx_draw_2D(decoder.graph)\n",
    "\n",
    "    logical, flipped_qubit_dict = decoder.process(count_key, _return_err_str = True)\n",
    "    \n",
    "    if VERBOSE:\n",
    "        print(\"\\nmeas_str:\", count_key)\n",
    "        print(\"flipped_qubit_dict\", flipped_qubit_dict)\n",
    "        print(\"logical:\", logical, \"\\n\")\n",
    "        if logical[0] == 0:\n",
    "            print(\"------------ Wrong logical! ------------\\n\")\n",
    "\n",
    "    logical_counts[f\"{logical[0]}\"] += 1\n",
    "\n",
    "print( \"\\nLogical_counts:\", logical_counts)\n"
   ]
  },
  {
   "cell_type": "code",
   "execution_count": null,
   "metadata": {},
   "outputs": [],
   "source": []
  }
 ],
 "metadata": {
  "kernelspec": {
   "display_name": "Soft-Info-Sk8aHGSa",
   "language": "python",
   "name": "python3"
  },
  "language_info": {
   "codemirror_mode": {
    "name": "ipython",
    "version": 3
   },
   "file_extension": ".py",
   "mimetype": "text/x-python",
   "name": "python",
   "nbconvert_exporter": "python",
   "pygments_lexer": "ipython3",
   "version": "3.11.4"
  }
 },
 "nbformat": 4,
 "nbformat_minor": 2
}
