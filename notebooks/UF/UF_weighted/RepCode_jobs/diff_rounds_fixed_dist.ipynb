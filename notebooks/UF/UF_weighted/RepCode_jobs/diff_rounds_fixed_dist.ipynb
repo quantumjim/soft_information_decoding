{
 "cells": [
  {
   "cell_type": "code",
   "execution_count": 1,
   "metadata": {},
   "outputs": [],
   "source": [
    "from result_saver import SaverProvider\n",
    "provider = SaverProvider()"
   ]
  },
  {
   "cell_type": "code",
   "execution_count": 2,
   "metadata": {},
   "outputs": [
    {
     "name": "stdout",
     "output_type": "stream",
     "text": [
      "[ 5  7  9 11 13 15 17 19 21 23 25 27 29 31 33 35 37 39 41 43 45]\n"
     ]
    }
   ],
   "source": [
    "import numpy as np\n",
    "# parameter grid\n",
    "distances = [30, 40, 55]\n",
    "rounds = np.arange(5, 46, 2)\n",
    "print(rounds)\n",
    "devices = [\"ibm_nazca\", \"ibm_sherbrooke\", \"ibm_brisbane\", \"ibm_cusco\"]\n",
    "logicals = ['0', '1']"
   ]
  },
  {
   "cell_type": "markdown",
   "metadata": {},
   "source": [
    "# Sligthly faster faster triple loop"
   ]
  },
  {
   "cell_type": "code",
   "execution_count": 3,
   "metadata": {},
   "outputs": [
    {
     "name": "stderr",
     "output_type": "stream",
     "text": [
      "  0%|          | 0/21 [00:00<?, ?it/s]"
     ]
    },
    {
     "name": "stdout",
     "output_type": "stream",
     "text": [
      "17:49:06 Warning: divide by zero encountered in det. IN FILE: /Users/mha/.local/share/virtualenvs/Soft-Info-Sk8aHGSa/lib/python3.11/site-packages/numpy/linalg/linalg.py, LINE: 2180\n",
      "17:49:06 Warning: invalid value encountered in det. IN FILE: /Users/mha/.local/share/virtualenvs/Soft-Info-Sk8aHGSa/lib/python3.11/site-packages/numpy/linalg/linalg.py, LINE: 2180\n",
      "17:49:07 Warning: updating metadata. IN FILE: /Users/mha/My Drive/Desktop/Studium/Physik/MSc/Semester 3/IBM/IBM GIT/Soft-Info/libs/qiskit-saver-provider/result_saver/provider/saver_provider.py, LINE: 46\n",
      "17:49:21 Warning: The backend ibm_sherbrooke is currently paused.. IN FILE: /Users/mha/.local/share/virtualenvs/Soft-Info-Sk8aHGSa/lib/python3.11/site-packages/qiskit_ibm_provider/ibm_backend.py, LINE: 447\n"
     ]
    }
   ],
   "source": [
    "from tqdm import tqdm\n",
    "\n",
    "from qiskit_qec.circuits import RepetitionCodeCircuit\n",
    "from qiskit import transpile\n",
    "\n",
    "from soft_info import find_longest_path_in_hex\n",
    "from Scratch import metadata_helper\n",
    "\n",
    "\n",
    "hex_backend = provider.get_backend('ibm_sherbrooke')\n",
    "path, _, _  = find_longest_path_in_hex(hex_backend)\n",
    "\n",
    "for nb_of_rounds in tqdm(rounds):\n",
    "    for distance in (distances):  \n",
    "        bounded_path = path[:2 * distance - 1]\n",
    "        layout = bounded_path[1::2] + bounded_path[::2] \n",
    "        code = RepetitionCodeCircuit(distance, nb_of_rounds) \n",
    "        for device in devices:\n",
    "            backend = provider.get_backend(device)\n",
    "            for logical in logicals:          \n",
    "                qc = code.circuit[logical]                                   \n",
    "                transpiled_qc = transpile(qc, backend, initial_layout=layout, optimization_level=3)\n",
    "\n",
    "                n_shots = int(1e6 / distance**2)\n",
    "                metadata = metadata_helper(descr=\"dist_55 INTERNAL ERROR TEST\", code=\"RepetitionCodeCircuit\", distance=distance, rounds=f\"{nb_of_rounds}\",  logical=logical, layout='_is_hex=True')\n",
    "                backend.run(metadata, transpiled_qc, shots=n_shots, meas_level=1, meas_return='single') # meas_level=1 for IQ  \n",
    "                \n"
   ]
  },
  {
   "cell_type": "code",
   "execution_count": null,
   "metadata": {},
   "outputs": [],
   "source": []
  }
 ],
 "metadata": {
  "kernelspec": {
   "display_name": "Soft-Info-Sk8aHGSa",
   "language": "python",
   "name": "python3"
  },
  "language_info": {
   "codemirror_mode": {
    "name": "ipython",
    "version": 3
   },
   "file_extension": ".py",
   "mimetype": "text/x-python",
   "name": "python",
   "nbconvert_exporter": "python",
   "pygments_lexer": "ipython3",
   "version": "3.11.4"
  }
 },
 "nbformat": 4,
 "nbformat_minor": 2
}
