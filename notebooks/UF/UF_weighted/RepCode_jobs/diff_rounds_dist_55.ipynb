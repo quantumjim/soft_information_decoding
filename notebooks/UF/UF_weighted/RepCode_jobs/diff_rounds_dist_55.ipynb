{
 "cells": [
  {
   "cell_type": "code",
   "execution_count": 1,
   "metadata": {},
   "outputs": [],
   "source": [
    "from result_saver import SaverProvider\n",
    "provider = SaverProvider()"
   ]
  },
  {
   "cell_type": "code",
   "execution_count": 13,
   "metadata": {},
   "outputs": [
    {
     "name": "stdout",
     "output_type": "stream",
     "text": [
      "[34 36 38 40 42 44 46 48]\n"
     ]
    }
   ],
   "source": [
    "import numpy as np\n",
    "# parameter grid\n",
    "distances = [40, 55]\n",
    "rounds = np.arange(40, 50, 2)\n",
    "print(rounds)\n",
    "devices = [\"ibm_nazca\", \"ibm_sherbrooke\"]\n",
    "logicals = ['0', '1']"
   ]
  },
  {
   "cell_type": "markdown",
   "metadata": {},
   "source": [
    "# Sligthly faster triple loop"
   ]
  },
  {
   "cell_type": "code",
   "execution_count": 15,
   "metadata": {},
   "outputs": [
    {
     "name": "stderr",
     "output_type": "stream",
     "text": [
      " 38%|███▊      | 3/8 [15:50<26:24, 316.82s/it]\n"
     ]
    },
    {
     "ename": "KeyboardInterrupt",
     "evalue": "",
     "output_type": "error",
     "traceback": [
      "\u001b[0;31m---------------------------------------------------------------------------\u001b[0m",
      "\u001b[0;31mKeyboardInterrupt\u001b[0m                         Traceback (most recent call last)",
      "\u001b[1;32m/Users/mha/My Drive/Desktop/Studium/Physik/MSc/Semester 3/IBM/IBM GIT/Soft-Info/notebooks/UF/UF_weighted/RepCode_jobs/diff_rounds_dist_55.ipynb Cell 4\u001b[0m line \u001b[0;36m2\n\u001b[1;32m     <a href='vscode-notebook-cell:/Users/mha/My%20Drive/Desktop/Studium/Physik/MSc/Semester%203/IBM/IBM%20GIT/Soft-Info/notebooks/UF/UF_weighted/RepCode_jobs/diff_rounds_dist_55.ipynb#W4sZmlsZQ%3D%3D?line=19'>20</a>\u001b[0m \u001b[39mfor\u001b[39;00m logical \u001b[39min\u001b[39;00m logicals:          \n\u001b[1;32m     <a href='vscode-notebook-cell:/Users/mha/My%20Drive/Desktop/Studium/Physik/MSc/Semester%203/IBM/IBM%20GIT/Soft-Info/notebooks/UF/UF_weighted/RepCode_jobs/diff_rounds_dist_55.ipynb#W4sZmlsZQ%3D%3D?line=20'>21</a>\u001b[0m     qc \u001b[39m=\u001b[39m code\u001b[39m.\u001b[39mcircuit[logical]                                   \n\u001b[0;32m---> <a href='vscode-notebook-cell:/Users/mha/My%20Drive/Desktop/Studium/Physik/MSc/Semester%203/IBM/IBM%20GIT/Soft-Info/notebooks/UF/UF_weighted/RepCode_jobs/diff_rounds_dist_55.ipynb#W4sZmlsZQ%3D%3D?line=21'>22</a>\u001b[0m     transpiled_qc \u001b[39m=\u001b[39m transpile(qc, backend, initial_layout\u001b[39m=\u001b[39;49mlayout, optimization_level\u001b[39m=\u001b[39;49m\u001b[39m3\u001b[39;49m)\n\u001b[1;32m     <a href='vscode-notebook-cell:/Users/mha/My%20Drive/Desktop/Studium/Physik/MSc/Semester%203/IBM/IBM%20GIT/Soft-Info/notebooks/UF/UF_weighted/RepCode_jobs/diff_rounds_dist_55.ipynb#W4sZmlsZQ%3D%3D?line=23'>24</a>\u001b[0m     n_shots \u001b[39m=\u001b[39m \u001b[39mint\u001b[39m(\u001b[39m1e6\u001b[39m \u001b[39m/\u001b[39m distance\u001b[39m*\u001b[39m\u001b[39m*\u001b[39m\u001b[39m2\u001b[39m)\n\u001b[1;32m     <a href='vscode-notebook-cell:/Users/mha/My%20Drive/Desktop/Studium/Physik/MSc/Semester%203/IBM/IBM%20GIT/Soft-Info/notebooks/UF/UF_weighted/RepCode_jobs/diff_rounds_dist_55.ipynb#W4sZmlsZQ%3D%3D?line=24'>25</a>\u001b[0m     metadata \u001b[39m=\u001b[39m metadata_helper(descr\u001b[39m=\u001b[39m\u001b[39m\"\u001b[39m\u001b[39mdist_55 INTERNAL ERROR TEST\u001b[39m\u001b[39m\"\u001b[39m, code\u001b[39m=\u001b[39m\u001b[39m\"\u001b[39m\u001b[39mRepetitionCodeCircuit\u001b[39m\u001b[39m\"\u001b[39m, distance\u001b[39m=\u001b[39mdistance, rounds\u001b[39m=\u001b[39m\u001b[39mf\u001b[39m\u001b[39m\"\u001b[39m\u001b[39m{\u001b[39;00mnb_of_rounds\u001b[39m}\u001b[39;00m\u001b[39m\"\u001b[39m,  logical\u001b[39m=\u001b[39mlogical, layout\u001b[39m=\u001b[39m\u001b[39m'\u001b[39m\u001b[39m_is_hex=True\u001b[39m\u001b[39m'\u001b[39m)\n",
      "File \u001b[0;32m~/.local/share/virtualenvs/Soft-Info-Sk8aHGSa/lib/python3.11/site-packages/qiskit/compiler/transpiler.py:418\u001b[0m, in \u001b[0;36mtranspile\u001b[0;34m(circuits, backend, basis_gates, inst_map, coupling_map, backend_properties, initial_layout, layout_method, routing_method, translation_method, scheduling_method, instruction_durations, dt, approximation_degree, timing_constraints, seed_transpiler, optimization_level, callback, output_name, unitary_synthesis_method, unitary_synthesis_plugin_config, target, hls_config, init_method, optimization_method, ignore_backend_supplied_default_methods)\u001b[0m\n\u001b[1;32m    390\u001b[0m         instruction_durations \u001b[39m=\u001b[39m _parse_instruction_durations(\n\u001b[1;32m    391\u001b[0m             backend, instruction_durations, dt, circuits[\u001b[39m0\u001b[39m]\n\u001b[1;32m    392\u001b[0m         )\n\u001b[1;32m    394\u001b[0m pm \u001b[39m=\u001b[39m generate_preset_pass_manager(\n\u001b[1;32m    395\u001b[0m     optimization_level,\n\u001b[1;32m    396\u001b[0m     backend\u001b[39m=\u001b[39mbackend,\n\u001b[0;32m   (...)\u001b[0m\n\u001b[1;32m    416\u001b[0m     _skip_target\u001b[39m=\u001b[39m_skip_target,\n\u001b[1;32m    417\u001b[0m )\n\u001b[0;32m--> 418\u001b[0m out_circuits \u001b[39m=\u001b[39m pm\u001b[39m.\u001b[39;49mrun(circuits, callback\u001b[39m=\u001b[39;49mcallback)\n\u001b[1;32m    419\u001b[0m \u001b[39mfor\u001b[39;00m name, circ \u001b[39min\u001b[39;00m \u001b[39mzip\u001b[39m(output_name, out_circuits):\n\u001b[1;32m    420\u001b[0m     circ\u001b[39m.\u001b[39mname \u001b[39m=\u001b[39m name\n",
      "File \u001b[0;32m~/.local/share/virtualenvs/Soft-Info-Sk8aHGSa/lib/python3.11/site-packages/qiskit/transpiler/passmanager.py:537\u001b[0m, in \u001b[0;36mStagedPassManager.run\u001b[0;34m(self, circuits, output_name, callback)\u001b[0m\n\u001b[1;32m    530\u001b[0m \u001b[39mdef\u001b[39;00m \u001b[39mrun\u001b[39m(\n\u001b[1;32m    531\u001b[0m     \u001b[39mself\u001b[39m,\n\u001b[1;32m    532\u001b[0m     circuits: _CircuitsT,\n\u001b[1;32m    533\u001b[0m     output_name: \u001b[39mstr\u001b[39m \u001b[39m|\u001b[39m \u001b[39mNone\u001b[39;00m \u001b[39m=\u001b[39m \u001b[39mNone\u001b[39;00m,\n\u001b[1;32m    534\u001b[0m     callback: Callable \u001b[39m|\u001b[39m \u001b[39mNone\u001b[39;00m \u001b[39m=\u001b[39m \u001b[39mNone\u001b[39;00m,\n\u001b[1;32m    535\u001b[0m ) \u001b[39m-\u001b[39m\u001b[39m>\u001b[39m _CircuitsT:\n\u001b[1;32m    536\u001b[0m     \u001b[39mself\u001b[39m\u001b[39m.\u001b[39m_update_passmanager()\n\u001b[0;32m--> 537\u001b[0m     \u001b[39mreturn\u001b[39;00m \u001b[39msuper\u001b[39;49m()\u001b[39m.\u001b[39;49mrun(circuits, output_name, callback)\n",
      "File \u001b[0;32m~/.local/share/virtualenvs/Soft-Info-Sk8aHGSa/lib/python3.11/site-packages/qiskit/transpiler/passmanager.py:233\u001b[0m, in \u001b[0;36mPassManager.run\u001b[0;34m(self, circuits, output_name, callback)\u001b[0m\n\u001b[1;32m    231\u001b[0m     \u001b[39mreturn\u001b[39;00m \u001b[39mself\u001b[39m\u001b[39m.\u001b[39m_run_single_circuit(circuits, output_name, callback)\n\u001b[1;32m    232\u001b[0m \u001b[39mif\u001b[39;00m \u001b[39mlen\u001b[39m(circuits) \u001b[39m==\u001b[39m \u001b[39m1\u001b[39m:\n\u001b[0;32m--> 233\u001b[0m     \u001b[39mreturn\u001b[39;00m [\u001b[39mself\u001b[39;49m\u001b[39m.\u001b[39;49m_run_single_circuit(circuits[\u001b[39m0\u001b[39;49m], output_name, callback)]\n\u001b[1;32m    234\u001b[0m \u001b[39mreturn\u001b[39;00m \u001b[39mself\u001b[39m\u001b[39m.\u001b[39m_run_several_circuits(circuits, output_name, callback)\n",
      "File \u001b[0;32m~/.local/share/virtualenvs/Soft-Info-Sk8aHGSa/lib/python3.11/site-packages/qiskit/transpiler/passmanager.py:292\u001b[0m, in \u001b[0;36mPassManager._run_single_circuit\u001b[0;34m(self, circuit, output_name, callback)\u001b[0m\n\u001b[1;32m    280\u001b[0m \u001b[39m\u001b[39m\u001b[39m\"\"\"Run all the passes on a ``circuit``.\u001b[39;00m\n\u001b[1;32m    281\u001b[0m \n\u001b[1;32m    282\u001b[0m \u001b[39mArgs:\u001b[39;00m\n\u001b[0;32m   (...)\u001b[0m\n\u001b[1;32m    289\u001b[0m \u001b[39m    The transformed circuit.\u001b[39;00m\n\u001b[1;32m    290\u001b[0m \u001b[39m\"\"\"\u001b[39;00m\n\u001b[1;32m    291\u001b[0m running_passmanager \u001b[39m=\u001b[39m \u001b[39mself\u001b[39m\u001b[39m.\u001b[39m_create_running_passmanager()\n\u001b[0;32m--> 292\u001b[0m result \u001b[39m=\u001b[39m running_passmanager\u001b[39m.\u001b[39;49mrun(circuit, output_name\u001b[39m=\u001b[39;49moutput_name, callback\u001b[39m=\u001b[39;49mcallback)\n\u001b[1;32m    293\u001b[0m \u001b[39mself\u001b[39m\u001b[39m.\u001b[39mproperty_set \u001b[39m=\u001b[39m running_passmanager\u001b[39m.\u001b[39mproperty_set\n\u001b[1;32m    294\u001b[0m \u001b[39mreturn\u001b[39;00m result\n",
      "File \u001b[0;32m~/.local/share/virtualenvs/Soft-Info-Sk8aHGSa/lib/python3.11/site-packages/qiskit/transpiler/runningpassmanager.py:125\u001b[0m, in \u001b[0;36mRunningPassManager.run\u001b[0;34m(***failed resolving arguments***)\u001b[0m\n\u001b[1;32m    123\u001b[0m \u001b[39mfor\u001b[39;00m passset \u001b[39min\u001b[39;00m \u001b[39mself\u001b[39m\u001b[39m.\u001b[39mworking_list:\n\u001b[1;32m    124\u001b[0m     \u001b[39mfor\u001b[39;00m pass_ \u001b[39min\u001b[39;00m passset:\n\u001b[0;32m--> 125\u001b[0m         dag \u001b[39m=\u001b[39m \u001b[39mself\u001b[39;49m\u001b[39m.\u001b[39;49m_do_pass(pass_, dag, passset\u001b[39m.\u001b[39;49moptions)\n\u001b[1;32m    127\u001b[0m circuit \u001b[39m=\u001b[39m dag_to_circuit(dag, copy_operations\u001b[39m=\u001b[39m\u001b[39mFalse\u001b[39;00m)\n\u001b[1;32m    128\u001b[0m \u001b[39mif\u001b[39;00m output_name:\n",
      "File \u001b[0;32m~/.local/share/virtualenvs/Soft-Info-Sk8aHGSa/lib/python3.11/site-packages/qiskit/transpiler/runningpassmanager.py:173\u001b[0m, in \u001b[0;36mRunningPassManager._do_pass\u001b[0;34m(self, pass_, dag, options)\u001b[0m\n\u001b[1;32m    171\u001b[0m \u001b[39m# Run the pass itself, if not already run\u001b[39;00m\n\u001b[1;32m    172\u001b[0m \u001b[39mif\u001b[39;00m pass_ \u001b[39mnot\u001b[39;00m \u001b[39min\u001b[39;00m \u001b[39mself\u001b[39m\u001b[39m.\u001b[39mvalid_passes:\n\u001b[0;32m--> 173\u001b[0m     dag \u001b[39m=\u001b[39m \u001b[39mself\u001b[39;49m\u001b[39m.\u001b[39;49m_run_this_pass(pass_, dag)\n\u001b[1;32m    175\u001b[0m     \u001b[39m# update the valid_passes property\u001b[39;00m\n\u001b[1;32m    176\u001b[0m     \u001b[39mself\u001b[39m\u001b[39m.\u001b[39m_update_valid_passes(pass_)\n",
      "File \u001b[0;32m~/.local/share/virtualenvs/Soft-Info-Sk8aHGSa/lib/python3.11/site-packages/qiskit/transpiler/runningpassmanager.py:202\u001b[0m, in \u001b[0;36mRunningPassManager._run_this_pass\u001b[0;34m(self, pass_, dag)\u001b[0m\n\u001b[1;32m    199\u001b[0m \u001b[39mif\u001b[39;00m pass_\u001b[39m.\u001b[39mis_transformation_pass:\n\u001b[1;32m    200\u001b[0m     \u001b[39m# Measure time if we have a callback or logging set\u001b[39;00m\n\u001b[1;32m    201\u001b[0m     start_time \u001b[39m=\u001b[39m time()\n\u001b[0;32m--> 202\u001b[0m     new_dag \u001b[39m=\u001b[39m pass_\u001b[39m.\u001b[39;49mrun(dag)\n\u001b[1;32m    203\u001b[0m     end_time \u001b[39m=\u001b[39m time()\n\u001b[1;32m    204\u001b[0m     run_time \u001b[39m=\u001b[39m end_time \u001b[39m-\u001b[39m start_time\n",
      "File \u001b[0;32m~/.local/share/virtualenvs/Soft-Info-Sk8aHGSa/lib/python3.11/site-packages/qiskit/transpiler/passes/synthesis/unitary_synthesis.py:450\u001b[0m, in \u001b[0;36mUnitarySynthesis.run\u001b[0;34m(self, dag)\u001b[0m\n\u001b[1;32m    443\u001b[0m     plugin_method\u001b[39m.\u001b[39m_approximation_degree \u001b[39m=\u001b[39m \u001b[39mself\u001b[39m\u001b[39m.\u001b[39m_approximation_degree\n\u001b[1;32m    445\u001b[0m qubit_indices \u001b[39m=\u001b[39m (\n\u001b[1;32m    446\u001b[0m     {bit: i \u001b[39mfor\u001b[39;00m i, bit \u001b[39min\u001b[39;00m \u001b[39menumerate\u001b[39m(dag\u001b[39m.\u001b[39mqubits)}\n\u001b[1;32m    447\u001b[0m     \u001b[39mif\u001b[39;00m plugin_method\u001b[39m.\u001b[39msupports_coupling_map \u001b[39mor\u001b[39;00m default_method\u001b[39m.\u001b[39msupports_coupling_map\n\u001b[1;32m    448\u001b[0m     \u001b[39melse\u001b[39;00m {}\n\u001b[1;32m    449\u001b[0m )\n\u001b[0;32m--> 450\u001b[0m \u001b[39mreturn\u001b[39;00m \u001b[39mself\u001b[39;49m\u001b[39m.\u001b[39;49m_run_main_loop(\n\u001b[1;32m    451\u001b[0m     dag, qubit_indices, plugin_method, plugin_kwargs, default_method, default_kwargs\n\u001b[1;32m    452\u001b[0m )\n",
      "File \u001b[0;32m~/.local/share/virtualenvs/Soft-Info-Sk8aHGSa/lib/python3.11/site-packages/qiskit/transpiler/passes/synthesis/unitary_synthesis.py:496\u001b[0m, in \u001b[0;36mUnitarySynthesis._run_main_loop\u001b[0;34m(self, dag, qubit_indices, plugin_method, plugin_kwargs, default_method, default_kwargs)\u001b[0m\n\u001b[1;32m    491\u001b[0m \u001b[39mif\u001b[39;00m method\u001b[39m.\u001b[39msupports_coupling_map:\n\u001b[1;32m    492\u001b[0m     kwargs[\u001b[39m\"\u001b[39m\u001b[39mcoupling_map\u001b[39m\u001b[39m\"\u001b[39m] \u001b[39m=\u001b[39m (\n\u001b[1;32m    493\u001b[0m         \u001b[39mself\u001b[39m\u001b[39m.\u001b[39m_coupling_map,\n\u001b[1;32m    494\u001b[0m         [qubit_indices[x] \u001b[39mfor\u001b[39;00m x \u001b[39min\u001b[39;00m node\u001b[39m.\u001b[39mqargs],\n\u001b[1;32m    495\u001b[0m     )\n\u001b[0;32m--> 496\u001b[0m synth_dag \u001b[39m=\u001b[39m method\u001b[39m.\u001b[39;49mrun(unitary, \u001b[39m*\u001b[39;49m\u001b[39m*\u001b[39;49mkwargs)\n\u001b[1;32m    497\u001b[0m \u001b[39mif\u001b[39;00m synth_dag \u001b[39mis\u001b[39;00m \u001b[39mnot\u001b[39;00m \u001b[39mNone\u001b[39;00m:\n\u001b[1;32m    498\u001b[0m     dag\u001b[39m.\u001b[39msubstitute_node_with_dag(node, synth_dag)\n",
      "File \u001b[0;32m~/.local/share/virtualenvs/Soft-Info-Sk8aHGSa/lib/python3.11/site-packages/qiskit/transpiler/passes/synthesis/unitary_synthesis.py:857\u001b[0m, in \u001b[0;36mDefaultUnitarySynthesis.run\u001b[0;34m(self, unitary, **options)\u001b[0m\n\u001b[1;32m    853\u001b[0m \u001b[39mfor\u001b[39;00m decomposer2q \u001b[39min\u001b[39;00m decomposers2q:\n\u001b[1;32m    854\u001b[0m     preferred_direction \u001b[39m=\u001b[39m _preferred_direction(\n\u001b[1;32m    855\u001b[0m         decomposer2q, qubits, natural_direction, coupling_map, gate_lengths, gate_errors\n\u001b[1;32m    856\u001b[0m     )\n\u001b[0;32m--> 857\u001b[0m     synth_circuit \u001b[39m=\u001b[39m \u001b[39mself\u001b[39;49m\u001b[39m.\u001b[39;49m_synth_su4(\n\u001b[1;32m    858\u001b[0m         unitary, decomposer2q, preferred_direction, approximation_degree\n\u001b[1;32m    859\u001b[0m     )\n\u001b[1;32m    860\u001b[0m     synth_circuits\u001b[39m.\u001b[39mappend(synth_circuit)\n\u001b[1;32m    861\u001b[0m synth_circuit \u001b[39m=\u001b[39m \u001b[39mmin\u001b[39m(\n\u001b[1;32m    862\u001b[0m     synth_circuits,\n\u001b[1;32m    863\u001b[0m     key\u001b[39m=\u001b[39mpartial(_error, target\u001b[39m=\u001b[39mtarget, qubits\u001b[39m=\u001b[39m\u001b[39mtuple\u001b[39m(qubits)),\n\u001b[1;32m    864\u001b[0m     default\u001b[39m=\u001b[39m\u001b[39mNone\u001b[39;00m,\n\u001b[1;32m    865\u001b[0m )\n",
      "File \u001b[0;32m~/.local/share/virtualenvs/Soft-Info-Sk8aHGSa/lib/python3.11/site-packages/qiskit/transpiler/passes/synthesis/unitary_synthesis.py:879\u001b[0m, in \u001b[0;36mDefaultUnitarySynthesis._synth_su4\u001b[0;34m(self, su4_mat, decomposer2q, preferred_direction, approximation_degree)\u001b[0m\n\u001b[1;32m    877\u001b[0m \u001b[39mdef\u001b[39;00m \u001b[39m_synth_su4\u001b[39m(\u001b[39mself\u001b[39m, su4_mat, decomposer2q, preferred_direction, approximation_degree):\n\u001b[1;32m    878\u001b[0m     approximate \u001b[39m=\u001b[39m \u001b[39mnot\u001b[39;00m approximation_degree \u001b[39m==\u001b[39m \u001b[39m1.0\u001b[39m\n\u001b[0;32m--> 879\u001b[0m     synth_circ \u001b[39m=\u001b[39m decomposer2q(su4_mat, approximate\u001b[39m=\u001b[39;49mapproximate)\n\u001b[1;32m    881\u001b[0m     \u001b[39m# if the gates in synthesis are in the opposite direction of the preferred direction\u001b[39;00m\n\u001b[1;32m    882\u001b[0m     \u001b[39m# resynthesize a new operator which is the original conjugated by swaps.\u001b[39;00m\n\u001b[1;32m    883\u001b[0m     \u001b[39m# this new operator is doubly mirrored from the original and is locally equivalent.\u001b[39;00m\n\u001b[1;32m    884\u001b[0m     synth_direction \u001b[39m=\u001b[39m \u001b[39mNone\u001b[39;00m\n",
      "File \u001b[0;32m~/.local/share/virtualenvs/Soft-Info-Sk8aHGSa/lib/python3.11/site-packages/qiskit/utils/deprecation.py:182\u001b[0m, in \u001b[0;36mdeprecate_arg.<locals>.decorator.<locals>.wrapper\u001b[0;34m(*args, **kwargs)\u001b[0m\n\u001b[1;32m    169\u001b[0m \u001b[39m@functools\u001b[39m\u001b[39m.\u001b[39mwraps(func)\n\u001b[1;32m    170\u001b[0m \u001b[39mdef\u001b[39;00m \u001b[39mwrapper\u001b[39m(\u001b[39m*\u001b[39margs, \u001b[39m*\u001b[39m\u001b[39m*\u001b[39mkwargs):\n\u001b[1;32m    171\u001b[0m     _maybe_warn_and_rename_kwarg(\n\u001b[1;32m    172\u001b[0m         args,\n\u001b[1;32m    173\u001b[0m         kwargs,\n\u001b[0;32m   (...)\u001b[0m\n\u001b[1;32m    180\u001b[0m         predicate\u001b[39m=\u001b[39mpredicate,\n\u001b[1;32m    181\u001b[0m     )\n\u001b[0;32m--> 182\u001b[0m     \u001b[39mreturn\u001b[39;00m func(\u001b[39m*\u001b[39;49margs, \u001b[39m*\u001b[39;49m\u001b[39m*\u001b[39;49mkwargs)\n",
      "File \u001b[0;32m~/.local/share/virtualenvs/Soft-Info-Sk8aHGSa/lib/python3.11/site-packages/qiskit/quantum_info/synthesis/two_qubit_decompose.py:1117\u001b[0m, in \u001b[0;36mTwoQubitBasisDecomposer.__call__\u001b[0;34m(self, unitary, basis_fidelity, approximate, _num_basis_uses)\u001b[0m\n\u001b[1;32m   1114\u001b[0m     basis_fidelity \u001b[39m=\u001b[39m \u001b[39m1.0\u001b[39m\n\u001b[1;32m   1115\u001b[0m unitary \u001b[39m=\u001b[39m np\u001b[39m.\u001b[39masarray(unitary, dtype\u001b[39m=\u001b[39m\u001b[39mcomplex\u001b[39m)\n\u001b[0;32m-> 1117\u001b[0m target_decomposed \u001b[39m=\u001b[39m TwoQubitWeylDecomposition(unitary)\n\u001b[1;32m   1118\u001b[0m traces \u001b[39m=\u001b[39m \u001b[39mself\u001b[39m\u001b[39m.\u001b[39mtraces(target_decomposed)\n\u001b[1;32m   1119\u001b[0m expected_fidelities \u001b[39m=\u001b[39m [trace_to_fid(traces[i]) \u001b[39m*\u001b[39m basis_fidelity\u001b[39m*\u001b[39m\u001b[39m*\u001b[39mi \u001b[39mfor\u001b[39;00m i \u001b[39min\u001b[39;00m \u001b[39mrange\u001b[39m(\u001b[39m4\u001b[39m)]\n",
      "File \u001b[0;32m~/.local/share/virtualenvs/Soft-Info-Sk8aHGSa/lib/python3.11/site-packages/qiskit/quantum_info/synthesis/two_qubit_decompose.py:158\u001b[0m, in \u001b[0;36mTwoQubitWeylDecomposition.__new__\u001b[0;34m(cls, unitary_matrix, fidelity, _unpickling)\u001b[0m\n\u001b[1;32m    156\u001b[0m \u001b[39m# Make U be in SU(4)\u001b[39;00m\n\u001b[1;32m    157\u001b[0m U \u001b[39m=\u001b[39m np\u001b[39m.\u001b[39marray(unitary_matrix, dtype\u001b[39m=\u001b[39m\u001b[39mcomplex\u001b[39m, copy\u001b[39m=\u001b[39m\u001b[39mTrue\u001b[39;00m)\n\u001b[0;32m--> 158\u001b[0m detU \u001b[39m=\u001b[39m np\u001b[39m.\u001b[39;49mlinalg\u001b[39m.\u001b[39;49mdet(U)\n\u001b[1;32m    159\u001b[0m U \u001b[39m*\u001b[39m\u001b[39m=\u001b[39m detU \u001b[39m*\u001b[39m\u001b[39m*\u001b[39m (\u001b[39m-\u001b[39m\u001b[39m0.25\u001b[39m)\n\u001b[1;32m    160\u001b[0m global_phase \u001b[39m=\u001b[39m cmath\u001b[39m.\u001b[39mphase(detU) \u001b[39m/\u001b[39m \u001b[39m4\u001b[39m\n",
      "File \u001b[0;32m~/.local/share/virtualenvs/Soft-Info-Sk8aHGSa/lib/python3.11/site-packages/numpy/linalg/linalg.py:488\u001b[0m, in \u001b[0;36m_unary_dispatcher\u001b[0;34m(a)\u001b[0m\n\u001b[1;32m    483\u001b[0m     \u001b[39mreturn\u001b[39;00m ia\u001b[39m.\u001b[39mreshape(\u001b[39m*\u001b[39minvshape)\n\u001b[1;32m    486\u001b[0m \u001b[39m# Matrix inversion\u001b[39;00m\n\u001b[0;32m--> 488\u001b[0m \u001b[39mdef\u001b[39;00m \u001b[39m_unary_dispatcher\u001b[39m(a):\n\u001b[1;32m    489\u001b[0m     \u001b[39mreturn\u001b[39;00m (a,)\n\u001b[1;32m    492\u001b[0m \u001b[39m@array_function_dispatch\u001b[39m(_unary_dispatcher)\n\u001b[1;32m    493\u001b[0m \u001b[39mdef\u001b[39;00m \u001b[39minv\u001b[39m(a):\n",
      "\u001b[0;31mKeyboardInterrupt\u001b[0m: "
     ]
    }
   ],
   "source": [
    "from tqdm import tqdm\n",
    "\n",
    "from qiskit_qec.circuits import RepetitionCodeCircuit\n",
    "from qiskit import transpile\n",
    "\n",
    "from soft_info import find_longest_path_in_hex\n",
    "from Scratch import metadata_helper\n",
    "\n",
    "\n",
    "hex_backend = provider.get_backend('ibm_sherbrooke')\n",
    "path, _, _  = find_longest_path_in_hex(hex_backend)\n",
    "\n",
    "for nb_of_rounds in tqdm(rounds):\n",
    "    for distance in (distances):  \n",
    "        bounded_path = path[:2 * distance - 1]\n",
    "        layout = bounded_path[1::2] + bounded_path[::2] \n",
    "        code = RepetitionCodeCircuit(distance, nb_of_rounds) \n",
    "        for device in devices:\n",
    "            backend = provider.get_backend(device)\n",
    "            for logical in logicals:          \n",
    "                qc = code.circuit[logical]                                   \n",
    "                transpiled_qc = transpile(qc, backend, initial_layout=layout, optimization_level=3)\n",
    "\n",
    "                n_shots = int(1e6 / distance**2)\n",
    "                metadata = metadata_helper(descr=\"dist_55 INTERNAL ERROR TEST\", code=\"RepetitionCodeCircuit\", distance=distance, rounds=f\"{nb_of_rounds}\",  logical=logical, layout='_is_hex=True')\n",
    "                backend.run(metadata, transpiled_qc, shots=n_shots, meas_level=1, meas_return='single') # meas_level=1 for IQ  \n",
    "                \n"
   ]
  },
  {
   "cell_type": "code",
   "execution_count": null,
   "metadata": {},
   "outputs": [],
   "source": []
  }
 ],
 "metadata": {
  "kernelspec": {
   "display_name": "Soft-Info-Sk8aHGSa",
   "language": "python",
   "name": "python3"
  },
  "language_info": {
   "codemirror_mode": {
    "name": "ipython",
    "version": 3
   },
   "file_extension": ".py",
   "mimetype": "text/x-python",
   "name": "python",
   "nbconvert_exporter": "python",
   "pygments_lexer": "ipython3",
   "version": "3.11.4"
  }
 },
 "nbformat": 4,
 "nbformat_minor": 2
}
