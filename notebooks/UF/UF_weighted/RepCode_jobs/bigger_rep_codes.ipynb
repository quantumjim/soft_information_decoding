{
 "cells": [
  {
   "cell_type": "code",
   "execution_count": null,
   "metadata": {},
   "outputs": [],
   "source": [
    "from result_saver import SaverProvider\n",
    "provider = SaverProvider()"
   ]
  },
  {
   "cell_type": "code",
   "execution_count": null,
   "metadata": {},
   "outputs": [],
   "source": [
    "# parameter grid\n",
    "distances = [10, 20, 30, 40, 45, 50, 55]\n",
    "devices = [\"ibm_sherbrooke\", \"ibm_brisbane\", \"ibm_nazca\", \"ibm_cusco\"]\n",
    "logicals = ['0', '1']"
   ]
  },
  {
   "cell_type": "code",
   "execution_count": null,
   "metadata": {},
   "outputs": [],
   "source": [
    "from tqdm import tqdm\n",
    "\n",
    "from qiskit_qec.circuits import RepetitionCodeCircuit\n",
    "from qiskit import transpile\n",
    "\n",
    "from soft_info import get_repcode_layout\n",
    "from Scratch import metadata_helper\n",
    "\n",
    "\n",
    "# Initialize a dictionary to store basis gates for each device\n",
    "device_basis_gates = {}\n",
    "\n",
    "# Loop to populate the device_basis_gates dictionary\n",
    "for device in devices:\n",
    "    backend = provider.get_backend(device)\n",
    "    device_basis_gates[device] = backend.configuration().basis_gates\n",
    "\n",
    "print(device_basis_gates)\n"
   ]
  },
  {
   "cell_type": "code",
   "execution_count": null,
   "metadata": {},
   "outputs": [],
   "source": [
    "from soft_info import find_longest_path_in_hex\n",
    "\n",
    "hex_backend = provider.get_backend('ibm_sherbrooke')\n",
    "path, _, _  = find_longest_path_in_hex(hex_backend)\n",
    "\n",
    "# Initialize dictionaries to store transpiled circuits and metadata\n",
    "transpiled_circuits = {}\n",
    "metadata = {}\n",
    "\n",
    "# First loop to generate and store transpiled circuits and metadata\n",
    "for i, device in enumerate(devices):\n",
    "    print(f\"{i}th Device: {device} out of {len(devices)} devices\")\n",
    "    for distance in tqdm(distances):\n",
    "        bounded_path = path[:2 * distance - 1]\n",
    "        layout = bounded_path[1::2] + bounded_path[::2]\n",
    "        code = RepetitionCodeCircuit(distance, distance)\n",
    "\n",
    "        for logical in logicals:\n",
    "            qc = code.circuit[logical]\n",
    "\n",
    "            # Store the transpiled circuit and metadata in dictionaries\n",
    "            key = (device, distance, logical)        \n",
    "            transpiled_qc = transpile(qc, hex_backend, initial_layout=layout,\n",
    "                                      optimization_level=3, basis_gates=device_basis_gates[device])\n",
    "            transpiled_circuits[key] = transpiled_qc\n"
   ]
  },
  {
   "cell_type": "code",
   "execution_count": null,
   "metadata": {},
   "outputs": [],
   "source": [
    "# Second loop to execute jobs per device\n",
    "for device in tqdm(devices):\n",
    "    backend = provider.get_backend(device)\n",
    "    for (dev_key, distance, logical) in transpiled_circuits.keys():  # Unpacking the tuple key\n",
    "        if dev_key != device:\n",
    "            continue  # Skip circuits not intended for this device\n",
    "        transpiled_qc = transpiled_circuits[(dev_key, distance, logical)]\n",
    "\n",
    "        n_shots = int(1e6 / distance**2)  # Ensure n_shots is an integer\n",
    "        backend_metadata = metadata_helper(descr=\"Run bigger Repetition codes v3: default_gates\",\n",
    "                                           code=\"RepetitionCodeCircuit\",\n",
    "                                           distance=distance,\n",
    "                                           rounds=distance,\n",
    "                                           logical=logical,\n",
    "                                           layout='default_backend: sherbrooke')\n",
    "\n",
    "        backend.run(backend_metadata, transpiled_qc, shots=n_shots,\n",
    "                          meas_level=1, meas_return='single')"
   ]
  },
  {
   "cell_type": "markdown",
   "metadata": {},
   "source": [
    "# Slow triple loop"
   ]
  },
  {
   "cell_type": "code",
   "execution_count": null,
   "metadata": {},
   "outputs": [],
   "source": [
    "\n",
    "\n",
    "# innefficent because most retrieve provider not needed\n",
    "for distance in tqdm(distances):    \n",
    "    for device in devices:\n",
    "        for logical in logicals:\n",
    "            code = RepetitionCodeCircuit(distance, distance)\n",
    "            qc = code.circuit[logical]\n",
    "\n",
    "            backend = provider.get_backend(device)\n",
    "            layout = get_repcode_layout(distance, backend, _is_hex=True, plot=False)\n",
    "            transpiled_qc = transpile(qc, backend, initial_layout=layout, optimization_level=3)\n",
    "\n",
    "            n_shots = 1e6 / distance**2\n",
    "            metadata = metadata_helper(descr=\"Run bigger Repetition codes\" ,code=\"RepetitionCodeCircuit\", distance=distance, rounds=distance, logical=logical, layout='_is_hex=True')\n",
    "            backend.run(metadata, transpiled_qc, shots=n_shots, meas_level=1, meas_return='single') # meas_level=1 for IQ  \n",
    "            \n"
   ]
  }
 ],
 "metadata": {
  "kernelspec": {
   "display_name": "Soft-Info-kp2AnOc1",
   "language": "python",
   "name": "python3"
  },
  "language_info": {
   "codemirror_mode": {
    "name": "ipython",
    "version": 3
   },
   "file_extension": ".py",
   "mimetype": "text/x-python",
   "name": "python",
   "nbconvert_exporter": "python",
   "pygments_lexer": "ipython3",
   "version": "3.11.4"
  }
 },
 "nbformat": 4,
 "nbformat_minor": 2
}
