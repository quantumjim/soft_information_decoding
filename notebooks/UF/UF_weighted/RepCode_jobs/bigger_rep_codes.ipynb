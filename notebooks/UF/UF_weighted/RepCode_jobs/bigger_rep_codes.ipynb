{
 "cells": [
  {
   "cell_type": "code",
   "execution_count": 1,
   "metadata": {},
   "outputs": [],
   "source": [
    "from result_saver import SaverProvider\n",
    "provider = SaverProvider()"
   ]
  },
  {
   "cell_type": "code",
   "execution_count": 2,
   "metadata": {},
   "outputs": [],
   "source": [
    "# parameter grid\n",
    "distances = [10, 20, 30, 40, 50, 60, 70, 80, 90, 100]\n",
    "devices = [\"ibm_sherbrooke\", \"ibm_brisbane\", \"ibm_nazca\", \"ibm_cusco\"]\n",
    "logicals = ['0', '1']"
   ]
  },
  {
   "cell_type": "code",
   "execution_count": 4,
   "metadata": {},
   "outputs": [
    {
     "name": "stderr",
     "output_type": "stream",
     "text": [
      "  0%|          | 0/10 [00:00<?, ?it/s]"
     ]
    }
   ],
   "source": [
    "from tqdm import tqdm\n",
    "\n",
    "from qiskit_qec.circuits import RepetitionCodeCircuit\n",
    "from qiskit import transpile\n",
    "\n",
    "from soft_info import get_repcode_layout\n",
    "from Scratch import metadata_helper\n",
    "\n",
    "# innefficent because most retrieve provider not needed\n",
    "for distance in tqdm(distances):    \n",
    "    for device in devices:\n",
    "        for logical in logicals:\n",
    "            code = RepetitionCodeCircuit(distance, distance)\n",
    "            qc = code.circuit[logical]\n",
    "\n",
    "            backend = provider.get_backend(device)\n",
    "            layout = get_repcode_layout(distance, backend, _is_hex=True, plot=False)\n",
    "            transpiled_qc = transpile(qc, backend, initial_layout=layout, optimization_level=3)\n",
    "\n",
    "            n_shots = 1e6 / distance**2\n",
    "            metadata = metadata_helper(descr=\"Run bigger Repetition codes\" ,code=\"RepetitionCodeCircuit\", distance=distance, rounds=distance, logical=logical, layout='_is_hex=True')\n",
    "            backend.run(metadata, transpiled_qc, shots=n_shots, meas_level=1, meas_return='single') # meas_level=1 for IQ  \n",
    "            \n"
   ]
  },
  {
   "cell_type": "code",
   "execution_count": null,
   "metadata": {},
   "outputs": [],
   "source": []
  }
 ],
 "metadata": {
  "kernelspec": {
   "display_name": "Soft-Info-kp2AnOc1",
   "language": "python",
   "name": "python3"
  },
  "language_info": {
   "codemirror_mode": {
    "name": "ipython",
    "version": 3
   },
   "file_extension": ".py",
   "mimetype": "text/x-python",
   "name": "python",
   "nbconvert_exporter": "python",
   "pygments_lexer": "ipython3",
   "version": "3.11.4"
  }
 },
 "nbformat": 4,
 "nbformat_minor": 2
}
