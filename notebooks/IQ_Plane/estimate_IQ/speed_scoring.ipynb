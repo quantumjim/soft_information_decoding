{
 "cells": [
  {
   "cell_type": "code",
   "execution_count": 4,
   "metadata": {},
   "outputs": [],
   "source": [
    "%reload_ext autoreload\n",
    "%autoreload 2"
   ]
  },
  {
   "cell_type": "code",
   "execution_count": 5,
   "metadata": {},
   "outputs": [],
   "source": [
    "from result_saver import SaverProvider\n",
    "\n",
    "provider = SaverProvider()"
   ]
  },
  {
   "cell_type": "markdown",
   "metadata": {},
   "source": [
    "# Initialize simulator"
   ]
  },
  {
   "cell_type": "code",
   "execution_count": 6,
   "metadata": {},
   "outputs": [
    {
     "name": "stdout",
     "output_type": "stream",
     "text": [
      "Found jobs for backend ibm_sherbrooke with closest execution date 2023-10-27 08:32:22.841567+00:00.\n",
      "Found jobs for backend ibm_sherbrooke with closest execution date 2023-10-27 08:32:22.841567+00:00.\n",
      "Searching for ibm_sherbrooke and 23.10.27_07h46_300pts_2std\n"
     ]
    }
   ],
   "source": [
    "from soft_info import RepCodeIQSimulator\n",
    "\n",
    "DEVICE = 'ibm_sherbrooke'\n",
    "DISTANCE = 7\n",
    "ROUNDS = 7\n",
    "OTHER_DATE = '2021-11-11'\n",
    "_RESETS = False\n",
    "LOGICAL = 0 # NOT NEEDED FOR EXTREME IQ BCS HARDCODED 0\n",
    "\n",
    "_is_hex = True\n",
    "if DEVICE == 'ibmq_mumbai':\n",
    "    _is_hex = False\n",
    "\n",
    "# Initialize simulator\n",
    "simulator = RepCodeIQSimulator(provider, DISTANCE, ROUNDS, DEVICE, _is_hex=_is_hex, _resets = _RESETS, other_date=OTHER_DATE)"
   ]
  },
  {
   "cell_type": "markdown",
   "metadata": {},
   "source": [
    "# Get IQ data"
   ]
  },
  {
   "cell_type": "code",
   "execution_count": 7,
   "metadata": {},
   "outputs": [
    {
     "name": "stderr",
     "output_type": "stream",
     "text": [
      "100%|██████████| 8871/8871 [00:00<00:00, 43236.03it/s]\n",
      "100%|██████████| 8871/8871 [00:03<00:00, 2765.61it/s]\n"
     ]
    }
   ],
   "source": [
    "SHOTS = int(1e4)\n",
    "NOISE_LIST = [3e-2, 0.8e-2, 1e-2, 3e-2] # [two-qubit-fidelity, reset error, measurement error, idle error]\n",
    "# NOISE_LIST = None\n",
    "P_AMBIG = 0.3\n",
    "\n",
    "IQ_data = simulator.generate_IQ(SHOTS, noise_list=NOISE_LIST)\n",
    "IQ_data_extreme = simulator.generate_extreme_IQ(SHOTS, P_AMBIG, noise_list=NOISE_LIST)"
   ]
  },
  {
   "cell_type": "markdown",
   "metadata": {},
   "source": [
    "# Score IQ data"
   ]
  },
  {
   "cell_type": "code",
   "execution_count": 20,
   "metadata": {},
   "outputs": [
    {
     "name": "stdout",
     "output_type": "stream",
     "text": [
      "(10000, 49)\n"
     ]
    },
    {
     "data": {
      "text/plain": [
       "{0: [KernelDensity(bandwidth=0.2), KernelDensity(bandwidth=0.2)],\n",
       " 1: [KernelDensity(bandwidth=0.2), KernelDensity(bandwidth=0.2)],\n",
       " 2: [KernelDensity(bandwidth=0.2), KernelDensity(bandwidth=0.2)],\n",
       " 3: [KernelDensity(bandwidth=0.2), KernelDensity(bandwidth=0.2)],\n",
       " 4: [KernelDensity(bandwidth=0.2), KernelDensity(bandwidth=0.2)],\n",
       " 5: [KernelDensity(bandwidth=0.2), KernelDensity(bandwidth=0.2)],\n",
       " 6: [KernelDensity(bandwidth=0.2), KernelDensity(bandwidth=0.2)],\n",
       " 7: [KernelDensity(bandwidth=0.2), KernelDensity(bandwidth=0.2)],\n",
       " 8: [KernelDensity(bandwidth=0.2), KernelDensity(bandwidth=0.2)],\n",
       " 9: [KernelDensity(bandwidth=0.2), KernelDensity(bandwidth=0.2)],\n",
       " 10: [KernelDensity(bandwidth=0.2), KernelDensity(bandwidth=0.2)],\n",
       " 11: [KernelDensity(bandwidth=0.2), KernelDensity(bandwidth=0.2)],\n",
       " 12: [KernelDensity(bandwidth=0.2), KernelDensity(bandwidth=0.2)],\n",
       " 13: [KernelDensity(bandwidth=0.2), KernelDensity(bandwidth=0.2)],\n",
       " 14: [KernelDensity(bandwidth=0.2), KernelDensity(bandwidth=0.2)],\n",
       " 15: [KernelDensity(bandwidth=0.2), KernelDensity(bandwidth=0.2)],\n",
       " 16: [KernelDensity(bandwidth=0.2), KernelDensity(bandwidth=0.2)],\n",
       " 17: [KernelDensity(bandwidth=0.2), KernelDensity(bandwidth=0.2)],\n",
       " 18: [KernelDensity(bandwidth=0.2), KernelDensity(bandwidth=0.2)],\n",
       " 19: [KernelDensity(bandwidth=0.2), KernelDensity(bandwidth=0.2)],\n",
       " 20: [KernelDensity(bandwidth=0.2), KernelDensity(bandwidth=0.2)],\n",
       " 21: [KernelDensity(bandwidth=0.2), KernelDensity(bandwidth=0.2)],\n",
       " 22: [KernelDensity(bandwidth=0.2), KernelDensity(bandwidth=0.2)],\n",
       " 23: [KernelDensity(bandwidth=0.2), KernelDensity(bandwidth=0.2)],\n",
       " 24: [KernelDensity(bandwidth=0.2), KernelDensity(bandwidth=0.2)],\n",
       " 25: [KernelDensity(bandwidth=0.2), KernelDensity(bandwidth=0.2)],\n",
       " 26: [KernelDensity(bandwidth=0.2), KernelDensity(bandwidth=0.2)],\n",
       " 27: [KernelDensity(bandwidth=0.2), KernelDensity(bandwidth=0.2)],\n",
       " 28: [KernelDensity(bandwidth=0.2), KernelDensity(bandwidth=0.2)],\n",
       " 29: [KernelDensity(bandwidth=0.2), KernelDensity(bandwidth=0.2)],\n",
       " 30: [KernelDensity(bandwidth=0.2), KernelDensity(bandwidth=0.2)],\n",
       " 31: [KernelDensity(bandwidth=0.2), KernelDensity(bandwidth=0.2)],\n",
       " 32: [KernelDensity(bandwidth=0.2), KernelDensity(bandwidth=0.2)],\n",
       " 33: [KernelDensity(bandwidth=0.2), KernelDensity(bandwidth=0.2)],\n",
       " 34: [KernelDensity(bandwidth=0.2), KernelDensity(bandwidth=0.2)],\n",
       " 35: [KernelDensity(bandwidth=0.2), KernelDensity(bandwidth=0.2)],\n",
       " 36: [KernelDensity(bandwidth=0.2), KernelDensity(bandwidth=0.2)],\n",
       " 37: [KernelDensity(bandwidth=0.2), KernelDensity(bandwidth=0.2)],\n",
       " 38: [KernelDensity(bandwidth=0.2), KernelDensity(bandwidth=0.2)],\n",
       " 39: [KernelDensity(bandwidth=0.2), KernelDensity(bandwidth=0.2)],\n",
       " 40: [KernelDensity(bandwidth=0.2), KernelDensity(bandwidth=0.2)],\n",
       " 41: [KernelDensity(bandwidth=0.2), KernelDensity(bandwidth=0.2)],\n",
       " 42: [KernelDensity(bandwidth=0.2), KernelDensity(bandwidth=0.2)],\n",
       " 43: [KernelDensity(bandwidth=0.2), KernelDensity(bandwidth=0.2)],\n",
       " 44: [KernelDensity(bandwidth=0.2), KernelDensity(bandwidth=0.2)],\n",
       " 45: [KernelDensity(bandwidth=0.2), KernelDensity(bandwidth=0.2)],\n",
       " 46: [KernelDensity(bandwidth=0.2), KernelDensity(bandwidth=0.2)],\n",
       " 47: [KernelDensity(bandwidth=0.2), KernelDensity(bandwidth=0.2)],\n",
       " 48: [KernelDensity(bandwidth=0.2), KernelDensity(bandwidth=0.2)],\n",
       " 49: [KernelDensity(bandwidth=0.2), KernelDensity(bandwidth=0.2)],\n",
       " 50: [KernelDensity(bandwidth=0.2), KernelDensity(bandwidth=0.2)],\n",
       " 51: [KernelDensity(bandwidth=0.2), KernelDensity(bandwidth=0.2)],\n",
       " 52: [KernelDensity(bandwidth=0.2), KernelDensity(bandwidth=0.2)],\n",
       " 53: [KernelDensity(bandwidth=0.2), KernelDensity(bandwidth=0.2)],\n",
       " 54: [KernelDensity(bandwidth=0.2), KernelDensity(bandwidth=0.2)],\n",
       " 55: [KernelDensity(bandwidth=0.2), KernelDensity(bandwidth=0.2)],\n",
       " 56: [KernelDensity(bandwidth=0.2), KernelDensity(bandwidth=0.2)],\n",
       " 57: [KernelDensity(bandwidth=0.2), KernelDensity(bandwidth=0.2)],\n",
       " 58: [KernelDensity(bandwidth=0.2), KernelDensity(bandwidth=0.2)],\n",
       " 59: [KernelDensity(bandwidth=0.2), KernelDensity(bandwidth=0.2)],\n",
       " 60: [KernelDensity(bandwidth=0.2), KernelDensity(bandwidth=0.2)],\n",
       " 61: [KernelDensity(bandwidth=0.2), KernelDensity(bandwidth=0.2)],\n",
       " 62: [KernelDensity(bandwidth=0.2), KernelDensity(bandwidth=0.2)],\n",
       " 63: [KernelDensity(bandwidth=0.2), KernelDensity(bandwidth=0.2)],\n",
       " 64: [KernelDensity(bandwidth=0.2), KernelDensity(bandwidth=0.2)],\n",
       " 65: [KernelDensity(bandwidth=0.2), KernelDensity(bandwidth=0.2)],\n",
       " 66: [KernelDensity(bandwidth=0.2), KernelDensity(bandwidth=0.2)],\n",
       " 67: [KernelDensity(bandwidth=0.2), KernelDensity(bandwidth=0.2)],\n",
       " 68: [KernelDensity(bandwidth=0.2), KernelDensity(bandwidth=0.2)],\n",
       " 69: [KernelDensity(bandwidth=0.2), KernelDensity(bandwidth=0.2)],\n",
       " 70: [KernelDensity(bandwidth=0.2), KernelDensity(bandwidth=0.2)],\n",
       " 71: [KernelDensity(bandwidth=0.2), KernelDensity(bandwidth=0.2)],\n",
       " 72: [KernelDensity(bandwidth=0.2), KernelDensity(bandwidth=0.2)],\n",
       " 73: [KernelDensity(bandwidth=0.2), KernelDensity(bandwidth=0.2)],\n",
       " 74: [KernelDensity(bandwidth=0.2), KernelDensity(bandwidth=0.2)],\n",
       " 75: [KernelDensity(bandwidth=0.2), KernelDensity(bandwidth=0.2)],\n",
       " 76: [KernelDensity(bandwidth=0.2), KernelDensity(bandwidth=0.2)],\n",
       " 77: [KernelDensity(bandwidth=0.2), KernelDensity(bandwidth=0.2)],\n",
       " 78: [KernelDensity(bandwidth=0.2), KernelDensity(bandwidth=0.2)],\n",
       " 79: [KernelDensity(bandwidth=0.2), KernelDensity(bandwidth=0.2)],\n",
       " 80: [KernelDensity(bandwidth=0.2), KernelDensity(bandwidth=0.2)],\n",
       " 81: [KernelDensity(bandwidth=0.2), KernelDensity(bandwidth=0.2)],\n",
       " 82: [KernelDensity(bandwidth=0.2), KernelDensity(bandwidth=0.2)],\n",
       " 83: [KernelDensity(bandwidth=0.2), KernelDensity(bandwidth=0.2)],\n",
       " 84: [KernelDensity(bandwidth=0.2), KernelDensity(bandwidth=0.2)],\n",
       " 85: [KernelDensity(bandwidth=0.2), KernelDensity(bandwidth=0.2)],\n",
       " 86: [KernelDensity(bandwidth=0.2), KernelDensity(bandwidth=0.2)],\n",
       " 87: [KernelDensity(bandwidth=0.2), KernelDensity(bandwidth=0.2)],\n",
       " 88: [KernelDensity(bandwidth=0.2), KernelDensity(bandwidth=0.2)],\n",
       " 89: [KernelDensity(bandwidth=0.2), KernelDensity(bandwidth=0.2)],\n",
       " 90: [KernelDensity(bandwidth=0.2), KernelDensity(bandwidth=0.2)],\n",
       " 91: [KernelDensity(bandwidth=0.2), KernelDensity(bandwidth=0.2)],\n",
       " 92: [KernelDensity(bandwidth=0.2), KernelDensity(bandwidth=0.2)],\n",
       " 93: [KernelDensity(bandwidth=0.2), KernelDensity(bandwidth=0.2)],\n",
       " 94: [KernelDensity(bandwidth=0.2), KernelDensity(bandwidth=0.2)],\n",
       " 95: [KernelDensity(bandwidth=0.2), KernelDensity(bandwidth=0.2)],\n",
       " 96: [KernelDensity(bandwidth=0.2), KernelDensity(bandwidth=0.2)],\n",
       " 97: [KernelDensity(bandwidth=0.2), KernelDensity(bandwidth=0.2)],\n",
       " 98: [KernelDensity(bandwidth=0.2), KernelDensity(bandwidth=0.2)],\n",
       " 99: [KernelDensity(bandwidth=0.2), KernelDensity(bandwidth=0.2)],\n",
       " 100: [KernelDensity(bandwidth=0.2), KernelDensity(bandwidth=0.2)],\n",
       " 101: [KernelDensity(bandwidth=0.2), KernelDensity(bandwidth=0.2)],\n",
       " 102: [KernelDensity(bandwidth=0.2), KernelDensity(bandwidth=0.2)],\n",
       " 103: [KernelDensity(bandwidth=0.2), KernelDensity(bandwidth=0.2)],\n",
       " 104: [KernelDensity(bandwidth=0.2), KernelDensity(bandwidth=0.2)],\n",
       " 105: [KernelDensity(bandwidth=0.2), KernelDensity(bandwidth=0.2)],\n",
       " 106: [KernelDensity(bandwidth=0.2), KernelDensity(bandwidth=0.2)],\n",
       " 107: [KernelDensity(bandwidth=0.2), KernelDensity(bandwidth=0.2)],\n",
       " 108: [KernelDensity(bandwidth=0.2), KernelDensity(bandwidth=0.2)],\n",
       " 109: [KernelDensity(bandwidth=0.2), KernelDensity(bandwidth=0.2)],\n",
       " 110: [KernelDensity(bandwidth=0.2), KernelDensity(bandwidth=0.2)],\n",
       " 111: [KernelDensity(bandwidth=0.2), KernelDensity(bandwidth=0.2)],\n",
       " 112: [KernelDensity(bandwidth=0.2), KernelDensity(bandwidth=0.2)],\n",
       " 113: [KernelDensity(bandwidth=0.2), KernelDensity(bandwidth=0.2)],\n",
       " 114: [KernelDensity(bandwidth=0.2), KernelDensity(bandwidth=0.2)],\n",
       " 115: [KernelDensity(bandwidth=0.2), KernelDensity(bandwidth=0.2)],\n",
       " 116: [KernelDensity(bandwidth=0.2), KernelDensity(bandwidth=0.2)],\n",
       " 117: [KernelDensity(bandwidth=0.2), KernelDensity(bandwidth=0.2)],\n",
       " 118: [KernelDensity(bandwidth=0.2), KernelDensity(bandwidth=0.2)],\n",
       " 119: [KernelDensity(bandwidth=0.2), KernelDensity(bandwidth=0.2)],\n",
       " 120: [KernelDensity(bandwidth=0.2), KernelDensity(bandwidth=0.2)],\n",
       " 121: [KernelDensity(bandwidth=0.2), KernelDensity(bandwidth=0.2)],\n",
       " 122: [KernelDensity(bandwidth=0.2), KernelDensity(bandwidth=0.2)],\n",
       " 123: [KernelDensity(bandwidth=0.2), KernelDensity(bandwidth=0.2)],\n",
       " 124: [KernelDensity(bandwidth=0.2), KernelDensity(bandwidth=0.2)],\n",
       " 125: [KernelDensity(bandwidth=0.2), KernelDensity(bandwidth=0.2)],\n",
       " 126: [KernelDensity(bandwidth=0.2), KernelDensity(bandwidth=0.2)]}"
      ]
     },
     "execution_count": 20,
     "metadata": {},
     "output_type": "execute_result"
    }
   ],
   "source": [
    "from soft_info import get_repcode_IQ_map\n",
    "print(IQ_data.shape)\n",
    "IQ_map = get_repcode_IQ_map(simulator.layout, ROUNDS)\n",
    "simulator.kde_dict\n",
    "# simulator.scaler_dict\n",
    "# print(IQ_map)"
   ]
  },
  {
   "cell_type": "code",
   "execution_count": 22,
   "metadata": {},
   "outputs": [
    {
     "name": "stderr",
     "output_type": "stream",
     "text": [
      "100%|██████████| 13/13 [04:21<00:00, 20.13s/it]\n"
     ]
    }
   ],
   "source": [
    "import numpy as np\n",
    "from tqdm import tqdm\n",
    "\n",
    "# Assuming IQ_data is an array of complex numbers of shape (10000, 49)\n",
    "\n",
    "# Initialize the results array\n",
    "results = np.zeros((IQ_data.shape[0], IQ_data.shape[1], 2))  # Shape (10000, 49, 2)\n",
    "\n",
    "# Convert complex IQ data to 2D (real and imaginary parts)\n",
    "IQ_data_2D = np.stack((IQ_data.real, IQ_data.imag), axis=-1)  # Shape (10000, 49, 2)\n",
    "\n",
    "# Group IQ points by qubit\n",
    "qubit_IQ_points = {qubit: [] for qubit in set(IQ_map.values())}\n",
    "for col in range(IQ_data_2D.shape[1]):\n",
    "    qubit = IQ_map[col]\n",
    "    qubit_IQ_points[qubit].append(IQ_data_2D[:, col, :])  # Append 2D data\n",
    "\n",
    "# Process each qubit group\n",
    "for qubit, iq_points in tqdm(qubit_IQ_points.items()):\n",
    "    iq_points = np.concatenate(iq_points, axis=0)  # Shape (num_samples, 2) for 2D data\n",
    "\n",
    "    # Rescale the IQ points\n",
    "    scaler = simulator.scaler_dict[qubit]\n",
    "    rescaled_IQ_points = scaler.transform(iq_points)\n",
    "\n",
    "    # Score the probability using KDEs\n",
    "    kde0 = simulator.kde_dict[qubit][0]\n",
    "    kde1 = simulator.kde_dict[qubit][1]\n",
    "\n",
    "    score0 = kde0.score_samples(rescaled_IQ_points)\n",
    "    score1 = kde1.score_samples(rescaled_IQ_points)\n",
    "\n",
    "    # Distribute the scores back to the original structure\n",
    "    for i in range(IQ_data.shape[0]):\n",
    "        for col_index, col in enumerate(IQ_map):\n",
    "            if IQ_map[col] == qubit:\n",
    "                results[i, col_index, 0] = score0[i]\n",
    "                results[i, col_index, 1] = score1[i]\n",
    "\n",
    "# 'results' now contains the KDE scores for each IQ point\n"
   ]
  }
 ],
 "metadata": {
  "kernelspec": {
   "display_name": "Soft-Info-fMUpUe5a",
   "language": "python",
   "name": "python3"
  },
  "language_info": {
   "codemirror_mode": {
    "name": "ipython",
    "version": 3
   },
   "file_extension": ".py",
   "mimetype": "text/x-python",
   "name": "python",
   "nbconvert_exporter": "python",
   "pygments_lexer": "ipython3",
   "version": "3.11.4"
  }
 },
 "nbformat": 4,
 "nbformat_minor": 2
}
