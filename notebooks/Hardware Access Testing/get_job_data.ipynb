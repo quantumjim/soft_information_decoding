{
 "cells": [
  {
   "cell_type": "code",
   "execution_count": 85,
   "metadata": {},
   "outputs": [
    {
     "name": "stdout",
     "output_type": "stream",
     "text": [
      "The autoreload extension is already loaded. To reload it, use:\n",
      "  %reload_ext autoreload\n"
     ]
    }
   ],
   "source": [
    "import sys\n",
    "sys.path.append(\"UF\")\n",
    "sys.path.append(\"..\")\n",
    "sys.path.append(\"../UF\")\n",
    "sys.path.append(\"../.Scratch/\")\n",
    "from scratch import get_job_data, load_memory_from_json\n",
    "%load_ext autoreload\n",
    "%autoreload \n",
    "%reload_ext autoreload"
   ]
  },
  {
   "cell_type": "code",
   "execution_count": 35,
   "metadata": {},
   "outputs": [],
   "source": [
    "from qiskit_qec.circuits import ArcCircuit\n",
    "\n",
    "links = [[0, 1, 2], [2, 3, 4]]\n",
    "T = 3 # number of syndrome measurement rounds\n",
    "code = ArcCircuit(links, T, basis='zz',logical='1')\n",
    "qc = code.circuit['zz']"
   ]
  },
  {
   "cell_type": "code",
   "execution_count": 72,
   "metadata": {},
   "outputs": [],
   "source": [
    "from qiskit_ibm_provider import IBMProvider\n",
    "from qiskit import transpile\n",
    "\n",
    "provider = IBMProvider()\n",
    "backend = provider.get_backend('ibmq_jakarta')\n",
    "\n",
    "initial_layout = [1, 5, 0, 3, 6] # for link_qubit and code_qubit [link_qubit, code_qubit]\n",
    "transpiled_qc = transpile(qc, backend, initial_layout=initial_layout) #* virtual to physical: [0, 3, 5]  \n",
    "job_id = backend.run(transpiled_qc, shots=1, meas_level=2, meas_return='single').job_id()  # meas_level 1: IQ (0 is counts), meas_return: single for info from every shot (not 'avg')"
   ]
  },
  {
   "cell_type": "code",
   "execution_count": 77,
   "metadata": {},
   "outputs": [
    {
     "name": "stdout",
     "output_type": "stream",
     "text": [
      "Job result does not have memory, getting counts instead...\n",
      "Data saved to 2023/10-Oct/20.10.23/19:06get_job_data-jak-()-cmsb6k2421n00081ky3g.json\n",
      "Updating metadata...\n"
     ]
    }
   ],
   "source": [
    "#job = provider.retrieve_job(job_id)\n",
    "#print(job.result().time_taken)\n",
    "add_dict = {'test': 1, 'test2': 2}\n",
    "memory = get_job_data(job_id, provider, add_dict)\n"
   ]
  },
  {
   "cell_type": "code",
   "execution_count": 81,
   "metadata": {},
   "outputs": [
    {
     "name": "stdout",
     "output_type": "stream",
     "text": [
      "No files match the string: '16:23'.\n",
      "No files match the string: '16:23get_job_data-jakartav2'.\n",
      "Data loaded from 2023/10-Oct/20.10.23/19:06get_job_data-jak-()-cmsb6k2421n00081ky3g.json.\n",
      "<class 'dict'>\n",
      "Data loaded from 2023/10-Oct/20.10.23/19:06get_job_data-jak-()-cmsb6k2421n00081ky3g.json.\n"
     ]
    },
    {
     "data": {
      "text/plain": [
       "{'101 11 11 00': 1}"
      ]
     },
     "execution_count": 81,
     "metadata": {},
     "output_type": "execute_result"
    }
   ],
   "source": [
    "memory = load_memory_from_json('16:23')\n",
    "load_memory_from_json(\"16:23get_job_data-jakartav2\")\n",
    "print(type(load_memory_from_json(\"get_job\")))\n",
    "load_memory_from_json(\"get_job\")"
   ]
  },
  {
   "cell_type": "code",
   "execution_count": 84,
   "metadata": {},
   "outputs": [
    {
     "name": "stdout",
     "output_type": "stream",
     "text": [
      "1\n",
      "{'/Users/mha/My Drive/Desktop/Studium/Physik/Master/Semester 3/IBM/IBM GIT/Soft-Info/.Scratch/2023/10-Oct/20.10.23/19:06get_job_data-jak-()-cmsb6k2421n00081ky3g.json': {'job_id': 'cmsb6k2421n00081ky3g', 'notebook_name': 'get_job_data', 'memory_shape': [], 'memory_type': 'counts', '_is_complex': False, 'time_taken': 0.18393551100000002, 'year_str': '2023', 'month_str': '10-Oct', 'day_str': '20.10.23', 'time_str': '19:06', 'test': 1, 'test2': 2}}\n"
     ]
    }
   ],
   "source": [
    "# load the metadata\n",
    "import json\n",
    "with open(\"../.Scratch/10-Oct_metadata.json\", 'r') as f:\n",
    "    metadata = json.load(f)\n",
    "\n",
    "print(len(metadata))\n",
    "print(metadata)\n"
   ]
  },
  {
   "cell_type": "markdown",
   "metadata": {},
   "source": [
    "# Test with counts"
   ]
  },
  {
   "cell_type": "code",
   "execution_count": null,
   "metadata": {},
   "outputs": [],
   "source": []
  }
 ],
 "metadata": {
  "kernelspec": {
   "display_name": "Soft-Info-kp2AnOc1",
   "language": "python",
   "name": "python3"
  },
  "language_info": {
   "codemirror_mode": {
    "name": "ipython",
    "version": 3
   },
   "file_extension": ".py",
   "mimetype": "text/x-python",
   "name": "python",
   "nbconvert_exporter": "python",
   "pygments_lexer": "ipython3",
   "version": "3.11.4"
  }
 },
 "nbformat": 4,
 "nbformat_minor": 2
}
