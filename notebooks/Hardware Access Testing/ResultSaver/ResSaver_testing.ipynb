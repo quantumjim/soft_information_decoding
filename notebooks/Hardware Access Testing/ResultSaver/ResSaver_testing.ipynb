{
 "cells": [
  {
   "cell_type": "code",
   "execution_count": 1,
   "metadata": {},
   "outputs": [],
   "source": [
    "%load_ext autoreload\n",
    "%autoreload \n",
    "%reload_ext autoreload"
   ]
  },
  {
   "cell_type": "code",
   "execution_count": 2,
   "metadata": {},
   "outputs": [],
   "source": [
    "from result_saver.provider import MetadataProvider, SaverProvider\n",
    "from qiskit_ibm_provider import IBMProvider\n",
    "import pandas as pd"
   ]
  },
  {
   "cell_type": "code",
   "execution_count": 3,
   "metadata": {},
   "outputs": [],
   "source": [
    "#ibm_provider = IBMProvider()\n",
    "saver_provider = SaverProvider()\n",
    "#md_provider = MetadataProvider()\n",
    "#ibm_job = md_provider.retrieve_job(\"cmdermate72g008js3n0\")"
   ]
  },
  {
   "cell_type": "code",
   "execution_count": 4,
   "metadata": {},
   "outputs": [],
   "source": [
    "job = saver_provider.retrieve_job(\"cmdermate72g008js3n0\")\n",
    "backend = saver_provider.get_backend('ibmq_jakarta')"
   ]
  },
  {
   "cell_type": "markdown",
   "metadata": {},
   "source": [
    "# Run a circuit"
   ]
  },
  {
   "cell_type": "code",
   "execution_count": 5,
   "metadata": {},
   "outputs": [
    {
     "name": "stdout",
     "output_type": "stream",
     "text": [
      "     ┌───┐┌─┐\n",
      "  q: ┤ X ├┤M├\n",
      "     └───┘└╥┘\n",
      "c: 1/══════╩═\n",
      "           0 \n",
      "                       \n",
      "ancilla_0 -> 0 ────────\n",
      "                       \n",
      "ancilla_1 -> 1 ────────\n",
      "                       \n",
      "ancilla_2 -> 2 ────────\n",
      "                       \n",
      "ancilla_3 -> 3 ────────\n",
      "                       \n",
      "ancilla_4 -> 4 ────────\n",
      "                       \n",
      "ancilla_5 -> 5 ────────\n",
      "               ┌───┐┌─┐\n",
      "      q_0 -> 6 ┤ X ├┤M├\n",
      "               └───┘└╥┘\n",
      "          c: 1/══════╩═\n",
      "                     0 \n"
     ]
    }
   ],
   "source": [
    "from qiskit import QuantumCircuit, QuantumRegister, ClassicalRegister, transpile\n",
    "\n",
    "qc = QuantumCircuit(1, 1)\n",
    "qc.x(0)\n",
    "qc.measure(0, 0)\n",
    "print(qc.draw(fold=-1))\n",
    "\n",
    "initial_layout = [6]\n",
    "transpiled_qc = transpile(qc, backend, initial_layout=initial_layout)\n",
    "\n",
    "print(transpiled_qc.draw(fold=-1))"
   ]
  },
  {
   "cell_type": "code",
   "execution_count": 6,
   "metadata": {},
   "outputs": [
    {
     "name": "stdout",
     "output_type": "stream",
     "text": [
      "<class 'float'>\n"
     ]
    }
   ],
   "source": [
    "print(type(1e5))"
   ]
  },
  {
   "cell_type": "code",
   "execution_count": 7,
   "metadata": {},
   "outputs": [
    {
     "name": "stdout",
     "output_type": "stream",
     "text": [
      "Custom Warning: updating metadata\n",
      "\n"
     ]
    }
   ],
   "source": [
    "from result_saver import metadata_helper\n",
    "metadata = metadata_helper(n_shots=1, meas_level=2)\n",
    "job_id = backend.run(metadata=metadata, circuits = transpiled_qc, shots=1, meas_level = 2).job_id()"
   ]
  },
  {
   "cell_type": "code",
   "execution_count": 32,
   "metadata": {},
   "outputs": [],
   "source": [
    "job_id = \"cmv9k24jad30008eb5tg\"\n",
    "job = saver_provider.retrieve_job(job_id)\n"
   ]
  },
  {
   "cell_type": "code",
   "execution_count": null,
   "metadata": {},
   "outputs": [],
   "source": []
  },
  {
   "cell_type": "code",
   "execution_count": null,
   "metadata": {},
   "outputs": [],
   "source": []
  },
  {
   "cell_type": "code",
   "execution_count": 33,
   "metadata": {},
   "outputs": [
    {
     "ename": "AttributeError",
     "evalue": "'SavedJob' object has no attribute 'shots'",
     "output_type": "error",
     "traceback": [
      "\u001b[0;31m---------------------------------------------------------------------------\u001b[0m",
      "\u001b[0;31mAttributeError\u001b[0m                            Traceback (most recent call last)",
      "\u001b[1;32m/Users/mha/My Drive/Desktop/Studium/Physik/Master/Semester 3/IBM/IBM GIT/Soft-Info/notebooks/Hardware Access Testing/ResultSaver/ResSaver_testing.ipynb Cell 9\u001b[0m line \u001b[0;36m1\n\u001b[0;32m----> <a href='vscode-notebook-cell:/Users/mha/My%20Drive/Desktop/Studium/Physik/Master/Semester%203/IBM/IBM%20GIT/Soft-Info/notebooks/Hardware%20Access%20Testing/ResultSaver/ResSaver_testing.ipynb#X26sZmlsZQ%3D%3D?line=0'>1</a>\u001b[0m job\u001b[39m.\u001b[39;49mshots\n",
      "\u001b[0;31mAttributeError\u001b[0m: 'SavedJob' object has no attribute 'shots'"
     ]
    }
   ],
   "source": []
  },
  {
   "cell_type": "code",
   "execution_count": 22,
   "metadata": {},
   "outputs": [
    {
     "data": {
      "text/plain": [
       "<bound method JobV1.backend of <result_saver.job.saved_job.SavedJob object at 0x295b11150>>"
      ]
     },
     "execution_count": 22,
     "metadata": {},
     "output_type": "execute_result"
    }
   ],
   "source": [
    "memory = job.result().get_counts()\n",
    "job.backend"
   ]
  },
  {
   "cell_type": "markdown",
   "metadata": {},
   "source": [
    "# Metadata saver"
   ]
  },
  {
   "cell_type": "code",
   "execution_count": 16,
   "metadata": {},
   "outputs": [
    {
     "data": {
      "text/html": [
       "<div>\n",
       "<style scoped>\n",
       "    .dataframe tbody tr th:only-of-type {\n",
       "        vertical-align: middle;\n",
       "    }\n",
       "\n",
       "    .dataframe tbody tr th {\n",
       "        vertical-align: top;\n",
       "    }\n",
       "\n",
       "    .dataframe thead th {\n",
       "        text-align: right;\n",
       "    }\n",
       "</style>\n",
       "<table border=\"1\" class=\"dataframe\">\n",
       "  <thead>\n",
       "    <tr style=\"text-align: right;\">\n",
       "      <th></th>\n",
       "      <th>notebook_name</th>\n",
       "      <th>job_id</th>\n",
       "      <th>job_name</th>\n",
       "      <th>job_metadata</th>\n",
       "      <th>tags</th>\n",
       "      <th>creation_date</th>\n",
       "      <th>day_str</th>\n",
       "      <th>time_str</th>\n",
       "      <th>backend_name</th>\n",
       "      <th>n_shots</th>\n",
       "      <th>meas_level</th>\n",
       "    </tr>\n",
       "  </thead>\n",
       "  <tbody>\n",
       "    <tr>\n",
       "      <th>12</th>\n",
       "      <td>ResSaver_testing</td>\n",
       "      <td>cmvb1k6605a0008f2vc0</td>\n",
       "      <td>NaN</td>\n",
       "      <td>{}</td>\n",
       "      <td>[]</td>\n",
       "      <td>2023-10-23 19:43:40.790222+02:00</td>\n",
       "      <td>23.10.23</td>\n",
       "      <td>19:43</td>\n",
       "      <td>ibmq_jakarta</td>\n",
       "      <td>1.0</td>\n",
       "      <td>2.0</td>\n",
       "    </tr>\n",
       "    <tr>\n",
       "      <th>11</th>\n",
       "      <td>ResSaver_testing</td>\n",
       "      <td>cmvaqrq605a0008f2ty0</td>\n",
       "      <td>NaN</td>\n",
       "      <td>{}</td>\n",
       "      <td>[]</td>\n",
       "      <td>2023-10-23 19:22:42.943377+02:00</td>\n",
       "      <td>23.10.23</td>\n",
       "      <td>19:22</td>\n",
       "      <td>ibmq_jakarta</td>\n",
       "      <td>1.0</td>\n",
       "      <td>2.0</td>\n",
       "    </tr>\n",
       "    <tr>\n",
       "      <th>10</th>\n",
       "      <td>ResSaver_testing</td>\n",
       "      <td>cmvaq34vpdgg008ge65g</td>\n",
       "      <td>NaN</td>\n",
       "      <td>{}</td>\n",
       "      <td>[]</td>\n",
       "      <td>2023-10-23 19:21:16.183702+02:00</td>\n",
       "      <td>23.10.23</td>\n",
       "      <td>19:21</td>\n",
       "      <td>ibmq_jakarta</td>\n",
       "      <td>1.0</td>\n",
       "      <td>2.0</td>\n",
       "    </tr>\n",
       "    <tr>\n",
       "      <th>9</th>\n",
       "      <td>ResSaver_testing</td>\n",
       "      <td>cmvaha5605a0008f2teg</td>\n",
       "      <td>NaN</td>\n",
       "      <td>{}</td>\n",
       "      <td>[]</td>\n",
       "      <td>2023-10-23 19:08:56.353396+02:00</td>\n",
       "      <td>23.10.23</td>\n",
       "      <td>19:08</td>\n",
       "      <td>ibmq_jakarta</td>\n",
       "      <td>NaN</td>\n",
       "      <td>NaN</td>\n",
       "    </tr>\n",
       "    <tr>\n",
       "      <th>8</th>\n",
       "      <td>ResSaver_testing</td>\n",
       "      <td>cmvag9sjad30008eb790</td>\n",
       "      <td>NaN</td>\n",
       "      <td>{}</td>\n",
       "      <td>[]</td>\n",
       "      <td>2023-10-23 19:06:47.535204+02:00</td>\n",
       "      <td>23.10.23</td>\n",
       "      <td>19:06</td>\n",
       "      <td>NaN</td>\n",
       "      <td>NaN</td>\n",
       "      <td>NaN</td>\n",
       "    </tr>\n",
       "    <tr>\n",
       "      <th>7</th>\n",
       "      <td>ResSaver_testing</td>\n",
       "      <td>cmvafxzvpdgg008ge5dg</td>\n",
       "      <td>NaN</td>\n",
       "      <td>{}</td>\n",
       "      <td>[]</td>\n",
       "      <td>2023-10-23 19:05:59.640142+02:00</td>\n",
       "      <td>23.10.23</td>\n",
       "      <td>19:06</td>\n",
       "      <td>NaN</td>\n",
       "      <td>NaN</td>\n",
       "      <td>NaN</td>\n",
       "    </tr>\n",
       "    <tr>\n",
       "      <th>6</th>\n",
       "      <td>ResSaver_testing</td>\n",
       "      <td>cmvafpyfwrrg00885a3g</td>\n",
       "      <td>NaN</td>\n",
       "      <td>{}</td>\n",
       "      <td>[]</td>\n",
       "      <td>2023-10-23 19:05:31.295558+02:00</td>\n",
       "      <td>23.10.23</td>\n",
       "      <td>19:05</td>\n",
       "      <td>NaN</td>\n",
       "      <td>NaN</td>\n",
       "      <td>NaN</td>\n",
       "    </tr>\n",
       "    <tr>\n",
       "      <th>5</th>\n",
       "      <td>ResSaver_testing</td>\n",
       "      <td>cmvabqp605a0008f2t40</td>\n",
       "      <td>NaN</td>\n",
       "      <td>{}</td>\n",
       "      <td>[]</td>\n",
       "      <td>2023-10-23 18:57:02.401090+02:00</td>\n",
       "      <td>23.10.23</td>\n",
       "      <td>18:57</td>\n",
       "      <td>NaN</td>\n",
       "      <td>NaN</td>\n",
       "      <td>NaN</td>\n",
       "    </tr>\n",
       "    <tr>\n",
       "      <th>4</th>\n",
       "      <td>ResSaver_testing</td>\n",
       "      <td>cmvabj6605a0008f2t30</td>\n",
       "      <td>NaN</td>\n",
       "      <td>{}</td>\n",
       "      <td>[]</td>\n",
       "      <td>2023-10-23 18:56:40.188131+02:00</td>\n",
       "      <td>23.10.23</td>\n",
       "      <td>18:56</td>\n",
       "      <td>NaN</td>\n",
       "      <td>NaN</td>\n",
       "      <td>NaN</td>\n",
       "    </tr>\n",
       "    <tr>\n",
       "      <th>3</th>\n",
       "      <td>ResSaver_testing</td>\n",
       "      <td>cmvab34fwrrg008859tg</td>\n",
       "      <td>NaN</td>\n",
       "      <td>{}</td>\n",
       "      <td>[]</td>\n",
       "      <td>2023-10-23 18:55:40.849527+02:00</td>\n",
       "      <td>23.10.23</td>\n",
       "      <td>18:55</td>\n",
       "      <td>NaN</td>\n",
       "      <td>NaN</td>\n",
       "      <td>NaN</td>\n",
       "    </tr>\n",
       "    <tr>\n",
       "      <th>2</th>\n",
       "      <td>ResSaver_testing</td>\n",
       "      <td>cmvaap2vpdgg008ge530</td>\n",
       "      <td>NaN</td>\n",
       "      <td>{}</td>\n",
       "      <td>[]</td>\n",
       "      <td>2023-10-23 18:54:48.223339+02:00</td>\n",
       "      <td>23.10.23</td>\n",
       "      <td>18:54</td>\n",
       "      <td>NaN</td>\n",
       "      <td>NaN</td>\n",
       "      <td>NaN</td>\n",
       "    </tr>\n",
       "    <tr>\n",
       "      <th>1</th>\n",
       "      <td>ResSaver_testing</td>\n",
       "      <td>cmva9rf421n00081q6hg</td>\n",
       "      <td>NaN</td>\n",
       "      <td>{}</td>\n",
       "      <td>[]</td>\n",
       "      <td>2023-10-23 18:52:49.801549+02:00</td>\n",
       "      <td>23.10.23</td>\n",
       "      <td>18:52</td>\n",
       "      <td>NaN</td>\n",
       "      <td>NaN</td>\n",
       "      <td>NaN</td>\n",
       "    </tr>\n",
       "    <tr>\n",
       "      <th>0</th>\n",
       "      <td>not_defined_</td>\n",
       "      <td>cmva878fwrrg008859n0</td>\n",
       "      <td>NaN</td>\n",
       "      <td>{}</td>\n",
       "      <td>[]</td>\n",
       "      <td>2023-10-23 18:49:33.139925+02:00</td>\n",
       "      <td>23.10.23</td>\n",
       "      <td>18:49</td>\n",
       "      <td>NaN</td>\n",
       "      <td>NaN</td>\n",
       "      <td>NaN</td>\n",
       "    </tr>\n",
       "  </tbody>\n",
       "</table>\n",
       "</div>"
      ],
      "text/plain": [
       "       notebook_name                job_id  job_name job_metadata tags  \\\n",
       "12  ResSaver_testing  cmvb1k6605a0008f2vc0       NaN           {}   []   \n",
       "11  ResSaver_testing  cmvaqrq605a0008f2ty0       NaN           {}   []   \n",
       "10  ResSaver_testing  cmvaq34vpdgg008ge65g       NaN           {}   []   \n",
       "9   ResSaver_testing  cmvaha5605a0008f2teg       NaN           {}   []   \n",
       "8   ResSaver_testing  cmvag9sjad30008eb790       NaN           {}   []   \n",
       "7   ResSaver_testing  cmvafxzvpdgg008ge5dg       NaN           {}   []   \n",
       "6   ResSaver_testing  cmvafpyfwrrg00885a3g       NaN           {}   []   \n",
       "5   ResSaver_testing  cmvabqp605a0008f2t40       NaN           {}   []   \n",
       "4   ResSaver_testing  cmvabj6605a0008f2t30       NaN           {}   []   \n",
       "3   ResSaver_testing  cmvab34fwrrg008859tg       NaN           {}   []   \n",
       "2   ResSaver_testing  cmvaap2vpdgg008ge530       NaN           {}   []   \n",
       "1   ResSaver_testing  cmva9rf421n00081q6hg       NaN           {}   []   \n",
       "0       not_defined_  cmva878fwrrg008859n0       NaN           {}   []   \n",
       "\n",
       "                       creation_date   day_str time_str  backend_name  \\\n",
       "12  2023-10-23 19:43:40.790222+02:00  23.10.23    19:43  ibmq_jakarta   \n",
       "11  2023-10-23 19:22:42.943377+02:00  23.10.23    19:22  ibmq_jakarta   \n",
       "10  2023-10-23 19:21:16.183702+02:00  23.10.23    19:21  ibmq_jakarta   \n",
       "9   2023-10-23 19:08:56.353396+02:00  23.10.23    19:08  ibmq_jakarta   \n",
       "8   2023-10-23 19:06:47.535204+02:00  23.10.23    19:06           NaN   \n",
       "7   2023-10-23 19:05:59.640142+02:00  23.10.23    19:06           NaN   \n",
       "6   2023-10-23 19:05:31.295558+02:00  23.10.23    19:05           NaN   \n",
       "5   2023-10-23 18:57:02.401090+02:00  23.10.23    18:57           NaN   \n",
       "4   2023-10-23 18:56:40.188131+02:00  23.10.23    18:56           NaN   \n",
       "3   2023-10-23 18:55:40.849527+02:00  23.10.23    18:55           NaN   \n",
       "2   2023-10-23 18:54:48.223339+02:00  23.10.23    18:54           NaN   \n",
       "1   2023-10-23 18:52:49.801549+02:00  23.10.23    18:52           NaN   \n",
       "0   2023-10-23 18:49:33.139925+02:00  23.10.23    18:49           NaN   \n",
       "\n",
       "    n_shots  meas_level  \n",
       "12      1.0         2.0  \n",
       "11      1.0         2.0  \n",
       "10      1.0         2.0  \n",
       "9       NaN         NaN  \n",
       "8       NaN         NaN  \n",
       "7       NaN         NaN  \n",
       "6       NaN         NaN  \n",
       "5       NaN         NaN  \n",
       "4       NaN         NaN  \n",
       "3       NaN         NaN  \n",
       "2       NaN         NaN  \n",
       "1       NaN         NaN  \n",
       "0       NaN         NaN  "
      ]
     },
     "execution_count": 16,
     "metadata": {},
     "output_type": "execute_result"
    }
   ],
   "source": [
    "# load the metadata \n",
    "import pandas as pd\n",
    "import json\n",
    "\n",
    "metadata = pd.read_json(\"../../../.Scratch/job_metadata.json\")\n",
    "#print(metadata)\n",
    "metadata[metadata[\"backend_name\"] == \"ibmq_jakarta\"]\n",
    "\n",
    "# order the metadata by start time\n",
    "metadata = metadata.sort_values(by=\"creation_date\", ascending=False)\n",
    "metadata"
   ]
  },
  {
   "cell_type": "code",
   "execution_count": null,
   "metadata": {},
   "outputs": [],
   "source": []
  }
 ],
 "metadata": {
  "kernelspec": {
   "display_name": "Soft-Info-kp2AnOc1",
   "language": "python",
   "name": "python3"
  },
  "language_info": {
   "codemirror_mode": {
    "name": "ipython",
    "version": 3
   },
   "file_extension": ".py",
   "mimetype": "text/x-python",
   "name": "python",
   "nbconvert_exporter": "python",
   "pygments_lexer": "ipython3",
   "version": "3.11.4"
  }
 },
 "nbformat": 4,
 "nbformat_minor": 2
}
