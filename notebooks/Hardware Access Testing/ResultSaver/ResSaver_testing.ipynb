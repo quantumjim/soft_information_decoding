{
 "cells": [
  {
   "cell_type": "code",
   "execution_count": 1,
   "metadata": {},
   "outputs": [],
   "source": [
    "%load_ext autoreload\n",
    "%autoreload \n",
    "%reload_ext autoreload"
   ]
  },
  {
   "cell_type": "code",
   "execution_count": 2,
   "metadata": {},
   "outputs": [],
   "source": [
    "from result_saver.provider import MetadataProvider, SaverProvider\n",
    "from qiskit_ibm_provider import IBMProvider\n",
    "import pandas as pd"
   ]
  },
  {
   "cell_type": "code",
   "execution_count": 3,
   "metadata": {},
   "outputs": [],
   "source": [
    "#ibm_provider = IBMProvider()\n",
    "saver_provider = SaverProvider()\n",
    "#md_provider = MetadataProvider()\n",
    "#ibm_job = md_provider.retrieve_job(\"cmdermate72g008js3n0\")"
   ]
  },
  {
   "cell_type": "code",
   "execution_count": 4,
   "metadata": {},
   "outputs": [],
   "source": [
    "job = saver_provider.retrieve_job(\"cmdermate72g008js3n0\")\n",
    "backend = saver_provider.get_backend('ibmq_jakarta')"
   ]
  },
  {
   "cell_type": "markdown",
   "metadata": {},
   "source": [
    "# Run a circuit"
   ]
  },
  {
   "cell_type": "code",
   "execution_count": 6,
   "metadata": {},
   "outputs": [
    {
     "name": "stdout",
     "output_type": "stream",
     "text": [
      "     ┌───┐┌─┐\n",
      "  q: ┤ X ├┤M├\n",
      "     └───┘└╥┘\n",
      "c: 1/══════╩═\n",
      "           0 \n",
      "                       \n",
      "ancilla_0 -> 0 ────────\n",
      "                       \n",
      "ancilla_1 -> 1 ────────\n",
      "                       \n",
      "ancilla_2 -> 2 ────────\n",
      "                       \n",
      "ancilla_3 -> 3 ────────\n",
      "                       \n",
      "ancilla_4 -> 4 ────────\n",
      "                       \n",
      "ancilla_5 -> 5 ────────\n",
      "               ┌───┐┌─┐\n",
      "      q_0 -> 6 ┤ X ├┤M├\n",
      "               └───┘└╥┘\n",
      "          c: 1/══════╩═\n",
      "                     0 \n"
     ]
    }
   ],
   "source": [
    "from qiskit import QuantumCircuit, QuantumRegister, ClassicalRegister, transpile\n",
    "\n",
    "qc = QuantumCircuit(1, 1)\n",
    "qc.x(0)\n",
    "qc.measure(0, 0)\n",
    "print(qc.draw(fold=-1))\n",
    "\n",
    "initial_layout = [6]\n",
    "transpiled_qc = transpile(qc, backend, initial_layout=initial_layout)\n",
    "\n",
    "print(transpiled_qc.draw(fold=-1))"
   ]
  },
  {
   "cell_type": "code",
   "execution_count": 7,
   "metadata": {},
   "outputs": [
    {
     "name": "stdout",
     "output_type": "stream",
     "text": [
      "<class 'float'>\n"
     ]
    }
   ],
   "source": [
    "print(type(1e5))"
   ]
  },
  {
   "cell_type": "code",
   "execution_count": 8,
   "metadata": {},
   "outputs": [
    {
     "name": "stdout",
     "output_type": "stream",
     "text": [
      "Custom Warning: updating metadata\n",
      "\n"
     ]
    }
   ],
   "source": [
    "from result_saver import metadata_helper\n",
    "metadata = metadata_helper(n_shots=1, meas_level=2)\n",
    "job_id = backend.run(metadata=metadata, circuits = transpiled_qc, shots=1, meas_level = 2).job_id()"
   ]
  },
  {
   "cell_type": "code",
   "execution_count": 32,
   "metadata": {},
   "outputs": [],
   "source": [
    "job_id = \"cmv9k24jad30008eb5tg\"\n",
    "job = saver_provider.retrieve_job(job_id)\n"
   ]
  },
  {
   "cell_type": "code",
   "execution_count": null,
   "metadata": {},
   "outputs": [],
   "source": []
  },
  {
   "cell_type": "code",
   "execution_count": 33,
   "metadata": {},
   "outputs": [
    {
     "ename": "AttributeError",
     "evalue": "'SavedJob' object has no attribute 'shots'",
     "output_type": "error",
     "traceback": [
      "\u001b[0;31m---------------------------------------------------------------------------\u001b[0m",
      "\u001b[0;31mAttributeError\u001b[0m                            Traceback (most recent call last)",
      "\u001b[1;32m/Users/mha/My Drive/Desktop/Studium/Physik/Master/Semester 3/IBM/IBM GIT/Soft-Info/notebooks/Hardware Access Testing/ResultSaver/ResSaver_testing.ipynb Cell 9\u001b[0m line \u001b[0;36m1\n\u001b[0;32m----> <a href='vscode-notebook-cell:/Users/mha/My%20Drive/Desktop/Studium/Physik/Master/Semester%203/IBM/IBM%20GIT/Soft-Info/notebooks/Hardware%20Access%20Testing/ResultSaver/ResSaver_testing.ipynb#X26sZmlsZQ%3D%3D?line=0'>1</a>\u001b[0m job\u001b[39m.\u001b[39;49mshots\n",
      "\u001b[0;31mAttributeError\u001b[0m: 'SavedJob' object has no attribute 'shots'"
     ]
    }
   ],
   "source": []
  },
  {
   "cell_type": "code",
   "execution_count": 22,
   "metadata": {},
   "outputs": [
    {
     "data": {
      "text/plain": [
       "<bound method JobV1.backend of <result_saver.job.saved_job.SavedJob object at 0x295b11150>>"
      ]
     },
     "execution_count": 22,
     "metadata": {},
     "output_type": "execute_result"
    }
   ],
   "source": [
    "memory = job.result().get_counts()\n",
    "job.backend"
   ]
  },
  {
   "cell_type": "markdown",
   "metadata": {},
   "source": [
    "# Metadata saver"
   ]
  },
  {
   "cell_type": "code",
   "execution_count": 19,
   "metadata": {},
   "outputs": [
    {
     "name": "stdout",
     "output_type": "stream",
     "text": [
      "Provider: Running additional functions before backend.run\n",
      "Provider: Running additional functions after backend.run\n"
     ]
    }
   ],
   "source": [
    "\n",
    "\n",
    "\n",
    "provider = MyCustomProvider()\n",
    "backend = provider.get_backend('ibmq_jakarta')\n",
    "job = backend.run(qc, shots=1e1, meas_level=1, meas_return='single')\n",
    "job_id = job.job_id()\n"
   ]
  },
  {
   "cell_type": "code",
   "execution_count": 28,
   "metadata": {},
   "outputs": [
    {
     "name": "stdout",
     "output_type": "stream",
     "text": [
      "Custom Warning: This is a test warning\n",
      "\n"
     ]
    }
   ],
   "source": [
    "import warnings\n",
    "\n",
    "def custom_showwarning(message, category, filename, lineno, file=None, line=None):\n",
    "    warn_msg = f\"Custom Warning: {message}\\n\"\n",
    "    print(warn_msg, file=file)\n",
    "\n",
    "# Override the default showwarning function\n",
    "warnings.showwarning = custom_showwarning\n",
    "\n",
    "# Trigger a warning to see the custom format in action\n",
    "warnings.warn(\"This is a test warning\")"
   ]
  }
 ],
 "metadata": {
  "kernelspec": {
   "display_name": "Soft-Info-kp2AnOc1",
   "language": "python",
   "name": "python3"
  },
  "language_info": {
   "codemirror_mode": {
    "name": "ipython",
    "version": 3
   },
   "file_extension": ".py",
   "mimetype": "text/x-python",
   "name": "python",
   "nbconvert_exporter": "python",
   "pygments_lexer": "ipython3",
   "version": "3.11.4"
  }
 },
 "nbformat": 4,
 "nbformat_minor": 2
}
