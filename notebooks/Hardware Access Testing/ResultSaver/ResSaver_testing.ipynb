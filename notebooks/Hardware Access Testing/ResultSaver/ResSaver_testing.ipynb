{
 "cells": [
  {
   "cell_type": "code",
   "execution_count": 1,
   "metadata": {},
   "outputs": [],
   "source": [
    "%load_ext autoreload\n",
    "%autoreload \n",
    "%reload_ext autoreload"
   ]
  },
  {
   "cell_type": "code",
   "execution_count": 8,
   "metadata": {},
   "outputs": [
    {
     "data": {
      "text/html": [
       "<pre style=\"word-wrap: normal;white-space: pre;background: #fff0;line-height: 1.1;font-family: &quot;Courier New&quot;,Courier,monospace\">global phase: π/4\n",
       "                                                      \n",
       "ancilla_0 -> 0 ───────────────────────────────────────\n",
       "                                                      \n",
       "ancilla_1 -> 1 ───────────────────────────────────────\n",
       "                                                      \n",
       "ancilla_2 -> 2 ───────────────────────────────────────\n",
       "               ┌─────────┐┌────┐┌─────────┐     ┌─┐   \n",
       "      q_0 -> 3 ┤ Rz(π/2) ├┤ √X ├┤ Rz(π/2) ├──■──┤M├───\n",
       "               └─────────┘└────┘└─────────┘  │  └╥┘   \n",
       "ancilla_3 -> 4 ──────────────────────────────┼───╫────\n",
       "                                           ┌─┴─┐ ║ ┌─┐\n",
       "      q_1 -> 5 ────────────────────────────┤ X ├─╫─┤M├\n",
       "                                           └───┘ ║ └╥┘\n",
       "ancilla_4 -> 6 ──────────────────────────────────╫──╫─\n",
       "                                                 ║  ║ \n",
       "          c: 2/══════════════════════════════════╩══╩═\n",
       "                                                 0  1 </pre>"
      ],
      "text/plain": [
       "global phase: π/4\n",
       "                                                      \n",
       "ancilla_0 -> 0 ───────────────────────────────────────\n",
       "                                                      \n",
       "ancilla_1 -> 1 ───────────────────────────────────────\n",
       "                                                      \n",
       "ancilla_2 -> 2 ───────────────────────────────────────\n",
       "               ┌─────────┐┌────┐┌─────────┐     ┌─┐   \n",
       "      q_0 -> 3 ┤ Rz(π/2) ├┤ √X ├┤ Rz(π/2) ├──■──┤M├───\n",
       "               └─────────┘└────┘└─────────┘  │  └╥┘   \n",
       "ancilla_3 -> 4 ──────────────────────────────┼───╫────\n",
       "                                           ┌─┴─┐ ║ ┌─┐\n",
       "      q_1 -> 5 ────────────────────────────┤ X ├─╫─┤M├\n",
       "                                           └───┘ ║ └╥┘\n",
       "ancilla_4 -> 6 ──────────────────────────────────╫──╫─\n",
       "                                                 ║  ║ \n",
       "          c: 2/══════════════════════════════════╩══╩═\n",
       "                                                 0  1 "
      ]
     },
     "execution_count": 8,
     "metadata": {},
     "output_type": "execute_result"
    }
   ],
   "source": [
    "from qiskit import QuantumCircuit, transpile\n",
    "\n",
    "qc = QuantumCircuit(2, 2)\n",
    "qc.h(0)\n",
    "qc.cx(0, 1)\n",
    "qc.measure([0, 1], [0, 1])\n",
    "\n",
    "qc.draw(fold=-1)\n",
    "\n",
    "transpiled_qc = transpile(qc, backend=backend, optimization_level=3)\n",
    "transpiled_qc.draw(fold=-1)"
   ]
  },
  {
   "cell_type": "code",
   "execution_count": 2,
   "metadata": {},
   "outputs": [],
   "source": [
    "from result_saver.provider import MetadataProvider, SaverProvider\n",
    "from qiskit_ibm_provider import IBMProvider\n",
    "import pandas as pd"
   ]
  },
  {
   "cell_type": "code",
   "execution_count": 3,
   "metadata": {},
   "outputs": [],
   "source": [
    "#ibm_provider = IBMProvider()\n",
    "saver_provider = SaverProvider()\n",
    "md_provider = MetadataProvider()\n",
    "ibm_job = md_provider.retrieve_job(\"cmdermate72g008js3n0\")"
   ]
  },
  {
   "cell_type": "code",
   "execution_count": 13,
   "metadata": {},
   "outputs": [
    {
     "name": "stdout",
     "output_type": "stream",
     "text": [
      "Provider: Running additional functions before backend.run\n",
      "Provider: Running additional functions after backend.run\n"
     ]
    }
   ],
   "source": [
    "backend = saver_provider.get_backend('ibmq_jakarta')\n",
    "job = backend.run(transpiled_qc, shots=10).job_id()\n"
   ]
  },
  {
   "cell_type": "code",
   "execution_count": 14,
   "metadata": {},
   "outputs": [
    {
     "name": "stderr",
     "output_type": "stream",
     "text": [
      "/Users/mha/My Drive/Desktop/Studium/Physik/Master/Semester 3/IBM/IBM GIT/Soft-Info/libs/ResultsSaver/result_saver/provider/saver_provider.py:78: UserWarning: Job ID cmv88es605a0008f2pqg not found in /Users/mha/My Drive/Desktop/Studium/Physik/Master/Semester 3/IBM/IBM GIT/Soft-Info/.Scratch/jobs. Retrieving it from the IBMQ provider...\n",
      "  warnings.warn(f\"Job ID {job_id} not found in {self.save_location}. Retrieving it from the IBMQ provider...\")\n"
     ]
    }
   ],
   "source": [
    "job = saver_provider.retrieve_job(job)\n"
   ]
  },
  {
   "cell_type": "code",
   "execution_count": 17,
   "metadata": {},
   "outputs": [
    {
     "data": {
      "text/plain": [
       "{'11': 4, '00': 6}"
      ]
     },
     "execution_count": 17,
     "metadata": {},
     "output_type": "execute_result"
    }
   ],
   "source": [
    "memory = job.result().get_counts()\n",
    "memory"
   ]
  },
  {
   "cell_type": "code",
   "execution_count": 8,
   "metadata": {},
   "outputs": [
    {
     "data": {
      "text/plain": [
       "array([[-7.46476110e+07-9.96593040e+07j],\n",
       "       [-6.25208600e+07-6.04884430e+07j],\n",
       "       [-7.61014490e+07-6.01415910e+07j],\n",
       "       [-6.75694040e+07-6.05329790e+07j],\n",
       "       [-7.40848660e+07-7.54990510e+07j],\n",
       "       [-8.34976050e+07-8.83604590e+07j],\n",
       "       [-5.08339470e+07-6.90315080e+07j],\n",
       "       [-7.95990940e+07-6.95494500e+07j],\n",
       "       [-5.76551470e+07-1.19330069e+08j],\n",
       "       [-8.12622740e+07-1.06579394e+08j],\n",
       "       [-6.31456800e+07-8.83405760e+07j],\n",
       "       [-6.77085570e+07-7.62462840e+07j],\n",
       "       [-2.15542030e+07-7.01216210e+07j],\n",
       "       [-7.56855020e+07-7.93940400e+07j],\n",
       "       [-1.26120700e+08-7.82285750e+07j],\n",
       "       [-7.97942560e+07-6.94108990e+07j],\n",
       "       [-8.34794230e+07-6.71395080e+07j],\n",
       "       [-5.76775020e+07-6.84898340e+07j],\n",
       "       [-4.71013980e+07-6.98736190e+07j],\n",
       "       [-6.26802610e+07-6.94177260e+07j],\n",
       "       [-8.28575980e+07-8.29400740e+07j],\n",
       "       [-5.86241800e+07-9.36209270e+07j],\n",
       "       [-1.22046530e+07-4.47998990e+07j],\n",
       "       [-3.63975400e+07-5.23845480e+07j],\n",
       "       [-2.55489170e+07-1.09762432e+08j],\n",
       "       [-4.98760160e+07-4.95361550e+07j],\n",
       "       [-7.15279460e+07-8.92735910e+07j],\n",
       "       [-3.36553960e+07-7.85013670e+07j],\n",
       "       [-7.38431960e+07-6.89748610e+07j],\n",
       "       [-3.74062570e+07-6.55505990e+07j],\n",
       "       [-9.34220780e+07-1.11110332e+08j],\n",
       "       [-1.08680958e+08-7.62508150e+07j],\n",
       "       [-7.35252490e+07-7.54033060e+07j],\n",
       "       [-6.44731240e+07-7.49979150e+07j],\n",
       "       [-5.85394480e+07-7.09321910e+07j],\n",
       "       [-6.23948270e+07-1.10959464e+08j],\n",
       "       [ 1.00423949e+08-8.89666780e+07j],\n",
       "       [-7.99889300e+07-5.09499890e+07j],\n",
       "       [-6.84745600e+07-8.73635440e+07j],\n",
       "       [-5.75411630e+07-1.00115565e+08j],\n",
       "       [-9.73412850e+07-6.90198460e+07j],\n",
       "       [-7.37373460e+07-7.21509510e+07j],\n",
       "       [-1.05426823e+08-8.88462320e+07j],\n",
       "       [-1.00625466e+08-1.30571898e+08j],\n",
       "       [-7.95108470e+07-6.52810730e+07j],\n",
       "       [-9.19267220e+07-8.27288450e+07j],\n",
       "       [-7.83025110e+07-7.56153290e+07j],\n",
       "       [-4.07418590e+07-8.09184870e+07j],\n",
       "       [-3.33329700e+07-1.08616374e+08j],\n",
       "       [-7.40770740e+07-1.09665993e+08j],\n",
       "       [-8.25889490e+07-1.02716109e+08j],\n",
       "       [-7.96758630e+07-6.25626120e+07j],\n",
       "       [-5.26713380e+07-5.92428730e+07j],\n",
       "       [-8.07499650e+07-7.89161400e+07j],\n",
       "       [-9.50214100e+07-7.21724380e+07j],\n",
       "       [-8.79548910e+07-7.43082210e+07j],\n",
       "       [-1.07493499e+08-1.24653472e+08j],\n",
       "       [-8.50662680e+07-1.22625276e+08j],\n",
       "       [-2.95433390e+07-6.85667750e+07j],\n",
       "       [-5.06874410e+07-9.35808630e+07j],\n",
       "       [-4.80810940e+07-1.00405177e+08j],\n",
       "       [-7.32368230e+07-6.78924970e+07j],\n",
       "       [-4.92534130e+07-1.00675433e+08j],\n",
       "       [-9.11791270e+07-8.79627240e+07j],\n",
       "       [-6.32632050e+07-1.07714115e+08j],\n",
       "       [-6.08231720e+07-4.13583650e+07j],\n",
       "       [-2.78044950e+07-1.22383677e+08j],\n",
       "       [-3.13130900e+07-6.00940790e+07j],\n",
       "       [-6.76377370e+07-9.92347060e+07j],\n",
       "       [-6.55567070e+07-6.38063000e+07j],\n",
       "       [-6.11526250e+07-7.52410690e+07j],\n",
       "       [-8.50503430e+07-6.56789270e+07j],\n",
       "       [-9.12283320e+07-7.86821990e+07j],\n",
       "       [-5.75892110e+07-8.61068510e+07j],\n",
       "       [-8.69196020e+07-9.01408190e+07j],\n",
       "       [-5.91976420e+07-9.27184470e+07j],\n",
       "       [-8.12171290e+07-9.85192030e+07j],\n",
       "       [-1.00607371e+08-8.08136770e+07j],\n",
       "       [-4.88966410e+07-1.00507795e+08j],\n",
       "       [-7.45113910e+07-9.66510750e+07j],\n",
       "       [-6.66168420e+07-1.01897978e+08j],\n",
       "       [-1.05277984e+08-9.22365440e+07j],\n",
       "       [-3.88619880e+07-1.33010459e+08j],\n",
       "       [-6.28827470e+07-9.81840850e+07j],\n",
       "       [-6.58286220e+07-9.82245880e+07j],\n",
       "       [-5.68959500e+07-8.61001070e+07j],\n",
       "       [-8.20517430e+07-6.82868060e+07j],\n",
       "       [-7.43777650e+07-8.53761110e+07j],\n",
       "       [-1.02057654e+08-1.14445345e+08j],\n",
       "       [-5.90160110e+07-7.53459340e+07j],\n",
       "       [-6.91719780e+07-5.55441250e+07j],\n",
       "       [-7.66338410e+07-1.09536159e+08j],\n",
       "       [-6.36158020e+07-8.05913750e+07j],\n",
       "       [-7.13935350e+07-8.27943470e+07j],\n",
       "       [-7.04166780e+07-6.96536510e+07j],\n",
       "       [-9.51157800e+07-1.22611007e+08j],\n",
       "       [-2.34738930e+07-9.39544980e+07j],\n",
       "       [-1.27815450e+08-9.84638400e+07j],\n",
       "       [-6.78086670e+07-1.15839517e+08j],\n",
       "       [-4.50019380e+07-7.14365910e+07j]])"
      ]
     },
     "execution_count": 8,
     "metadata": {},
     "output_type": "execute_result"
    }
   ],
   "source": [
    "ibm_job.result().get_memory()"
   ]
  },
  {
   "cell_type": "code",
   "execution_count": 9,
   "metadata": {},
   "outputs": [
    {
     "name": "stdout",
     "output_type": "stream",
     "text": [
      "True\n"
     ]
    }
   ],
   "source": [
    "loaded_job = saver_provider.retrieve_job(\"cmdermate72g008js3n0\")\n",
    "print(saver_provider._SaverProvider__job_is_saved(\"cmdermate72g008js3n0\"))"
   ]
  },
  {
   "cell_type": "code",
   "execution_count": 10,
   "metadata": {},
   "outputs": [],
   "source": [
    "job = saver_provider.retrieve_job(\"cms8nvf0c0f00089edjg\")"
   ]
  },
  {
   "cell_type": "markdown",
   "metadata": {},
   "source": [
    "# Metadata saver"
   ]
  },
  {
   "cell_type": "code",
   "execution_count": 19,
   "metadata": {},
   "outputs": [
    {
     "name": "stdout",
     "output_type": "stream",
     "text": [
      "Provider: Running additional functions before backend.run\n",
      "Provider: Running additional functions after backend.run\n"
     ]
    }
   ],
   "source": [
    "\n",
    "\n",
    "\n",
    "provider = MyCustomProvider()\n",
    "backend = provider.get_backend('ibmq_jakarta')\n",
    "job = backend.run(qc, shots=1e1, meas_level=1, meas_return='single')\n",
    "job_id = job.job_id()\n"
   ]
  },
  {
   "cell_type": "code",
   "execution_count": null,
   "metadata": {},
   "outputs": [],
   "source": []
  }
 ],
 "metadata": {
  "kernelspec": {
   "display_name": "Soft-Info-kp2AnOc1",
   "language": "python",
   "name": "python3"
  },
  "language_info": {
   "codemirror_mode": {
    "name": "ipython",
    "version": 3
   },
   "file_extension": ".py",
   "mimetype": "text/x-python",
   "name": "python",
   "nbconvert_exporter": "python",
   "pygments_lexer": "ipython3",
   "version": "3.11.4"
  }
 },
 "nbformat": 4,
 "nbformat_minor": 2
}
