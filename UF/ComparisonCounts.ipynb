{
 "cells": [
  {
   "cell_type": "code",
   "execution_count": 2,
   "metadata": {},
   "outputs": [],
   "source": [
    "from qiskit_qec.circuits import ArcCircuit\n",
    "from qiskit_qec.decoders import UnionFindDecoder\n",
    "from qiskit_aer import AerSimulator\n",
    "from qiskit.providers.fake_provider import FakeSherbrooke\n",
    "import numpy as np\n",
    "from qiskit_ibm_provider import IBMProvider\n",
    "from qiskit import transpile\n"
   ]
  },
  {
   "cell_type": "code",
   "execution_count": 3,
   "metadata": {},
   "outputs": [],
   "source": [
    "provider = IBMProvider()\n",
    "\n",
    "links = [[0, 1, 2], [2, 3, 4]]\n",
    "T = 5 # number of syndrome measurement rounds\n",
    "code = ArcCircuit(links, T, basis='zz',logical='1')\n",
    "qc = code.circuit['zz']\n",
    "\n",
    "backend = provider.get_backend('ibm_nairobi')\n",
    "initial_layout = [1, 5, 0, 3, 6] # for link_qubit and code_qubit [link_qubit, code_qubit]\n",
    "transpiled_qc = transpile(qc, backend, initial_layout=initial_layout) #* virtual to physical: [0, 3, 5]  "
   ]
  },
  {
   "cell_type": "code",
   "execution_count": 4,
   "metadata": {},
   "outputs": [],
   "source": [
    "job_id = backend.run(transpiled_qc, shots=10, meas_level=0, meas_return='single').job_id()  "
   ]
  },
  {
   "cell_type": "code",
   "execution_count": null,
   "metadata": {},
   "outputs": [],
   "source": [
    "job_id = \"cme433c4z12g008nd3t0\"\n",
    "job = provider.retrieve_job(job_id)\n",
    "\n",
    "counts = job.result().get_counts()\n",
    "counts"
   ]
  }
 ],
 "metadata": {
  "kernelspec": {
   "display_name": "Soft-Info-kp2AnOc1",
   "language": "python",
   "name": "python3"
  },
  "language_info": {
   "codemirror_mode": {
    "name": "ipython",
    "version": 3
   },
   "file_extension": ".py",
   "mimetype": "text/x-python",
   "name": "python",
   "nbconvert_exporter": "python",
   "pygments_lexer": "ipython3",
   "version": "3.11.4"
  },
  "orig_nbformat": 4
 },
 "nbformat": 4,
 "nbformat_minor": 2
}
