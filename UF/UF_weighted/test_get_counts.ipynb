{
 "cells": [
  {
   "cell_type": "code",
   "execution_count": 2,
   "metadata": {},
   "outputs": [],
   "source": [
    "import sys\n",
    "import numpy as np\n",
    "sys.path.append(\"UF\")\n",
    "sys.path.append(\"..\")\n",
    "%load_ext autoreload\n",
    "%autoreload "
   ]
  },
  {
   "cell_type": "markdown",
   "metadata": {},
   "source": [
    "# get_counts testing"
   ]
  },
  {
   "cell_type": "code",
   "execution_count": 3,
   "metadata": {},
   "outputs": [
    {
     "name": "stdout",
     "output_type": "stream",
     "text": [
      "(10, 13)\n"
     ]
    },
    {
     "data": {
      "text/plain": [
       "{'1101001110011': 1,\n",
       " '1110111110100': 1,\n",
       " '1010101010011': 1,\n",
       " '0011011010101': 1,\n",
       " '0010010100000': 1,\n",
       " '0000000100110': 1,\n",
       " '0000101010011': 1,\n",
       " '0111100101001': 1,\n",
       " '0011111111101': 1,\n",
       " '0000001010011': 1}"
      ]
     },
     "execution_count": 3,
     "metadata": {},
     "output_type": "execute_result"
    }
   ],
   "source": [
    "from probabilities_functions import get_counts\n",
    "\n",
    "memory = [[(19420257-31296402j), (78090974-98300161j), (-26993994-67843761j), (32656587-32240008j), (-47632347-42956147j), (-64270512-77078399j), (22570956-56336092j), (70750837-70883050j), (17086269-41795778j), (-86652107-94728909j), (-57580337-54559100j), (60946493-56827137j), (39701603-49235333j)], [(45448822-22891704j), (28972987-76642662j), (35696101-41251677j), (-27293308-82591724j), (28646193-4351385j), (20262710-90918974j), (34703717-1348125j), (39217767-64066749j), (32185379-27901882j), (-14660310-116031631j), (50428977-63757556j), (-72530828-31914511j), (-61009440-27341723j)], [(30765847-5020032j), (-80203959-70919051j), (33138034-16632060j), (-16888719-54107225j), (31595026-58034010j), (-56404518-29778216j), (33259764-51242029j), (-32631150-42994405j), (18463991-47959003j), (-63889749-86085072j), (-42264015-34250350j), (69934428-40876033j), (57182330-51987117j)], [(-22337681-52881511j), (-42001056-94660156j), (13662269-55479097j), (71515224-115865276j), (-29426295-43152450j), (27247941-87621392j), (18109864-36276339j), (-115218213-136162896j), (21432085-46647113j), (-99717374-83634433j), (40583756-51531200j), (-94634887-37295630j), (2956635-15559150j)], [(-49547955-67052879j), (-50178306-48885754j), (68188263-44408209j), (-49666006-46116314j), (-31716133-61749381j), (72098487-89451384j), (-35663292-48626391j), (25955082-120894542j), (-33740689-29125660j), (-48942615-52675993j), (-38153140-64728499j), (-79311918-96291977j), (-58504710-33118520j)], [(-13299752-74536026j), (-22583714-112633524j), (-56152251-69582854j), (-12694332-112975466j), (-21992216-3458160j), (-2769775-81429912j), (-10440000-52882456j), (81111511-55125323j), (-41724292-41336603j), (-37748884-94361776j), (38085762-53603468j), (69674980-57210413j), (-50028930-45639554j)], [(-25146582-57766128j), (-40050118-47206266j), (-12733669-37904986j), (-80713399-124141798j), (16630123-38666401j), (-35122656-78717542j), (47945910-27889232j), (-6832846-70810976j), (33262009-43329793j), (-54007773-88947320j), (-63686738-70530012j), (70057498-74794030j), (34815282-58852981j)], [(-40545174-35894125j), (37810716-70251263j), (42292921-42841406j), (83599630-89354707j), (23397806-66337020j), (-78425271-82588221j), (-48302116-70089491j), (20558533-69648545j), (-27188388-68313799j), (112824781-105239253j), (-31611961-70921977j), (-75112529-13943361j), (4931739-71795460j)], [(-48736332-49356072j), (-25972498-85548731j), (21760775-47445845j), (58094076-63323301j), (11086393-28068941j), (53003787-2064484j), (38753127-73961417j), (65867149-71616072j), (29025834-53669549j), (28405551-67029247j), (71256754-52493870j), (-86116708-68024396j), (44246220-31298039j)], [(-33358668-41931424j), (-35380682-27836306j), (-38656776-54597609j), (-26607730-81412540j), (-38272488-56504716j), (-23629785-53921264j), (24542927-52277441j), (-56533052-37534841j), (39894419-62623331j), (-73023073-93757781j), (-33673107-29574587j), (84835551-86841384j), (33968836-45701478j)]]\n",
    "#memory = [[1 , 3, -1], [1, 2, -2], [1, 1, 1]]\n",
    "print(np.shape(memory))\n",
    "counts = get_counts(memory)\n",
    "counts"
   ]
  },
  {
   "cell_type": "code",
   "execution_count": 4,
   "metadata": {},
   "outputs": [
    {
     "data": {
      "text/plain": [
       "[1]"
      ]
     },
     "execution_count": 4,
     "metadata": {},
     "output_type": "execute_result"
    }
   ],
   "source": [
    "# check if the decoder can decode that: \n",
    "from qiskit_qec.circuits import ArcCircuit\n",
    "from qiskit_qec.decoders import UnionFindDecoder\n",
    "from qiskit_aer import AerSimulator\n",
    "from qiskit.providers.fake_provider import FakeSherbrooke\n",
    "import numpy as np\n",
    "\n",
    "links = [[0, 1, 2], [2, 3, 4]]\n",
    "T = 5 # number of syndrome measurement rounds\n",
    "code = ArcCircuit(links, T, basis='zz',logical='1')\n",
    "\n",
    "qc = code.circuit['zz']\n",
    "\n",
    "decoder = UnionFindDecoder(ArcCircuit(links, T))\n",
    "logical = decoder.process(str(counts))\n",
    "logical"
   ]
  },
  {
   "cell_type": "code",
   "execution_count": 5,
   "metadata": {},
   "outputs": [
    {
     "ename": "IndexError",
     "evalue": "list index out of range",
     "output_type": "error",
     "traceback": [
      "\u001b[0;31m---------------------------------------------------------------------------\u001b[0m",
      "\u001b[0;31mIndexError\u001b[0m                                Traceback (most recent call last)",
      "\u001b[1;32m/Users/mha/My Drive/Desktop/Studium/Physik/Master/Semester 3/IBM/IBM GIT/Soft-Info/UF/UF_weighted/test_get_counts.ipynb Cell 5\u001b[0m line \u001b[0;36m3\n\u001b[1;32m      <a href='vscode-notebook-cell:/Users/mha/My%20Drive/Desktop/Studium/Physik/Master/Semester%203/IBM/IBM%20GIT/Soft-Info/UF/UF_weighted/test_get_counts.ipynb#X10sZmlsZQ%3D%3D?line=0'>1</a>\u001b[0m logical_counts \u001b[39m=\u001b[39m {\u001b[39m0\u001b[39m:\u001b[39m0\u001b[39m, \u001b[39m1\u001b[39m:\u001b[39m0\u001b[39m}\n\u001b[1;32m      <a href='vscode-notebook-cell:/Users/mha/My%20Drive/Desktop/Studium/Physik/Master/Semester%203/IBM/IBM%20GIT/Soft-Info/UF/UF_weighted/test_get_counts.ipynb#X10sZmlsZQ%3D%3D?line=1'>2</a>\u001b[0m \u001b[39mfor\u001b[39;00m string, shots \u001b[39min\u001b[39;00m counts\u001b[39m.\u001b[39mitems():\n\u001b[0;32m----> <a href='vscode-notebook-cell:/Users/mha/My%20Drive/Desktop/Studium/Physik/Master/Semester%203/IBM/IBM%20GIT/Soft-Info/UF/UF_weighted/test_get_counts.ipynb#X10sZmlsZQ%3D%3D?line=2'>3</a>\u001b[0m     logical_counts[decoder\u001b[39m.\u001b[39;49mprocess(string)[\u001b[39m0\u001b[39m]] \u001b[39m+\u001b[39m\u001b[39m=\u001b[39m shots\n\u001b[1;32m      <a href='vscode-notebook-cell:/Users/mha/My%20Drive/Desktop/Studium/Physik/Master/Semester%203/IBM/IBM%20GIT/Soft-Info/UF/UF_weighted/test_get_counts.ipynb#X10sZmlsZQ%3D%3D?line=3'>4</a>\u001b[0m \u001b[39mprint\u001b[39m(logical_counts)\n",
      "File \u001b[0;32m~/My Drive/Desktop/Studium/Physik/Master/Semester 3/IBM/IBM GIT/Soft-Info/qiskit-qec/src/qiskit_qec/decoders/hdrg_decoders.py:333\u001b[0m, in \u001b[0;36mUnionFindDecoder.process\u001b[0;34m(self, string)\u001b[0m\n\u001b[1;32m    331\u001b[0m \u001b[39mif\u001b[39;00m \u001b[39mself\u001b[39m\u001b[39m.\u001b[39muse_peeling:\n\u001b[1;32m    332\u001b[0m     \u001b[39mself\u001b[39m\u001b[39m.\u001b[39mgraph \u001b[39m=\u001b[39m deepcopy(\u001b[39mself\u001b[39m\u001b[39m.\u001b[39mdecoding_graph\u001b[39m.\u001b[39mgraph)\n\u001b[0;32m--> 333\u001b[0m     highlighted_nodes \u001b[39m=\u001b[39m \u001b[39mself\u001b[39;49m\u001b[39m.\u001b[39;49mcode\u001b[39m.\u001b[39;49mstring2nodes(string, all_logicals\u001b[39m=\u001b[39;49m\u001b[39mTrue\u001b[39;49;00m)\n\u001b[1;32m    335\u001b[0m     \u001b[39m# call cluster to do the clustering, but actually use the peeling form\u001b[39;00m\n\u001b[1;32m    336\u001b[0m     \u001b[39mself\u001b[39m\u001b[39m.\u001b[39mcluster(highlighted_nodes)\n",
      "File \u001b[0;32m~/My Drive/Desktop/Studium/Physik/Master/Semester 3/IBM/IBM GIT/Soft-Info/qiskit-qec/src/qiskit_qec/circuits/repetition_code.py:1079\u001b[0m, in \u001b[0;36mArcCircuit.string2nodes\u001b[0;34m(self, string, **kwargs)\u001b[0m\n\u001b[1;32m   1066\u001b[0m \u001b[39m\u001b[39m\u001b[39m\"\"\"\u001b[39;00m\n\u001b[1;32m   1067\u001b[0m \u001b[39mConvert output string from circuits into a set of nodes.\u001b[39;00m\n\u001b[1;32m   1068\u001b[0m \u001b[39mArgs:\u001b[39;00m\n\u001b[0;32m   (...)\u001b[0m\n\u001b[1;32m   1075\u001b[0m \u001b[39m    elements in the string.\u001b[39;00m\n\u001b[1;32m   1076\u001b[0m \u001b[39m\"\"\"\u001b[39;00m\n\u001b[1;32m   1078\u001b[0m all_logicals \u001b[39m=\u001b[39m kwargs\u001b[39m.\u001b[39mget(\u001b[39m\"\u001b[39m\u001b[39mall_logicals\u001b[39m\u001b[39m\"\u001b[39m)\n\u001b[0;32m-> 1079\u001b[0m string \u001b[39m=\u001b[39m \u001b[39mself\u001b[39;49m\u001b[39m.\u001b[39;49m_process_string(string)\n\u001b[1;32m   1080\u001b[0m separated_string \u001b[39m=\u001b[39m _separate_string(string)\n\u001b[1;32m   1081\u001b[0m nodes \u001b[39m=\u001b[39m []\n",
      "File \u001b[0;32m~/My Drive/Desktop/Studium/Physik/Master/Semester 3/IBM/IBM GIT/Soft-Info/qiskit-qec/src/qiskit_qec/circuits/repetition_code.py:1043\u001b[0m, in \u001b[0;36mArcCircuit._process_string\u001b[0;34m(self, string)\u001b[0m\n\u001b[1;32m   1041\u001b[0m     \u001b[39m# for those where we now have a dt, calculate the change\u001b[39;00m\n\u001b[1;32m   1042\u001b[0m     \u001b[39mif\u001b[39;00m dt:\n\u001b[0;32m-> 1043\u001b[0m         change \u001b[39m=\u001b[39m syndrome_list[\u001b[39m-\u001b[39;49mt \u001b[39m-\u001b[39;49m \u001b[39m1\u001b[39;49m][j] \u001b[39m!=\u001b[39m syndrome_list[\u001b[39m-\u001b[39mt \u001b[39m-\u001b[39m \u001b[39m1\u001b[39m \u001b[39m+\u001b[39m dt][j]\n\u001b[1;32m   1044\u001b[0m     syndrome_changes \u001b[39m+\u001b[39m\u001b[39m=\u001b[39m \u001b[39m\"\u001b[39m\u001b[39m0\u001b[39m\u001b[39m\"\u001b[39m \u001b[39m*\u001b[39m (\u001b[39mnot\u001b[39;00m change) \u001b[39m+\u001b[39m \u001b[39m\"\u001b[39m\u001b[39m1\u001b[39m\u001b[39m\"\u001b[39m \u001b[39m*\u001b[39m change\n\u001b[1;32m   1045\u001b[0m syndrome_changes \u001b[39m+\u001b[39m\u001b[39m=\u001b[39m \u001b[39m\"\u001b[39m\u001b[39m \u001b[39m\u001b[39m\"\u001b[39m\n",
      "\u001b[0;31mIndexError\u001b[0m: list index out of range"
     ]
    }
   ],
   "source": [
    "logical_counts = {0:0, 1:0}\n",
    "for string, shots in counts.items():\n",
    "    logical_counts[decoder.process(string)[0]] += shots\n",
    "print(logical_counts)\n"
   ]
  },
  {
   "cell_type": "code",
   "execution_count": null,
   "metadata": {},
   "outputs": [],
   "source": []
  }
 ],
 "metadata": {
  "kernelspec": {
   "display_name": "Soft-Info-kp2AnOc1",
   "language": "python",
   "name": "python3"
  },
  "language_info": {
   "codemirror_mode": {
    "name": "ipython",
    "version": 3
   },
   "file_extension": ".py",
   "mimetype": "text/x-python",
   "name": "python",
   "nbconvert_exporter": "python",
   "pygments_lexer": "ipython3",
   "version": "3.11.4"
  }
 },
 "nbformat": 4,
 "nbformat_minor": 2
}
