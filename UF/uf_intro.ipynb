{
 "cells": [
  {
   "cell_type": "code",
   "execution_count": 1,
   "metadata": {},
   "outputs": [],
   "source": [
    "%load_ext autoreload\n",
    "%autoreload 2\n"
   ]
  },
  {
   "cell_type": "code",
   "execution_count": 2,
   "metadata": {},
   "outputs": [
    {
     "name": "stderr",
     "output_type": "stream",
     "text": [
      "/Users/mha/My Drive/Desktop/Studium/Physik/Master/Semester 3/IBM/IBM GIT/Soft-Info/.venv/lib/python3.9/site-packages/urllib3/__init__.py:34: NotOpenSSLWarning: urllib3 v2.0 only supports OpenSSL 1.1.1+, currently the 'ssl' module is compiled with 'LibreSSL 2.8.3'. See: https://github.com/urllib3/urllib3/issues/3020\n",
      "  warnings.warn(\n"
     ]
    }
   ],
   "source": [
    "from qiskit_qec.circuits import ArcCircuit\n",
    "from qiskit_qec.decoders import UnionFindDecoder\n",
    "from qiskit_aer import AerSimulator\n",
    "from qiskit.providers.fake_provider import FakeSherbrooke"
   ]
  },
  {
   "cell_type": "markdown",
   "metadata": {},
   "source": [
    "We'll consider a repetition code on the following line of qubits (ancillas in brackets). In this example, we'll consider an encoded logical `1`.\n",
    "\n",
    "```\n",
    "    0--(1)--2--(3)--4--(5)--6--(7)--8\n",
    "```"
   ]
  },
  {
   "cell_type": "code",
   "execution_count": 3,
   "metadata": {},
   "outputs": [],
   "source": [
    "links = [[0, 1, 2], [2, 3, 4], [4, 5, 6], [6, 7, 8]] # q1, a, q2 \n",
    "T = 5 # number of syndrome measurement rounds\n",
    "code = ArcCircuit(links, T, basis='zz',logical='1') "
   ]
  },
  {
   "cell_type": "markdown",
   "metadata": {},
   "source": [
    "Let's look at the circuit."
   ]
  },
  {
   "cell_type": "code",
   "execution_count": 4,
   "metadata": {},
   "outputs": [
    {
     "data": {
      "text/html": [
       "<pre style=\"word-wrap: normal;white-space: pre;background: #fff0;line-height: 1.1;font-family: &quot;Courier New&quot;,Courier,monospace\">                          ░ ┌───┐                    ┌───┐           ░ ┌─┐                     ░ ┌───┐                    ┌───┐           ░ ┌─┐                     ░ ┌───┐                    ┌───┐           ░ ┌─┐                     ░ ┌───┐                    ┌───┐           ░ ┌─┐                     ░ ┌───┐                    ┌───┐           ░ ┌─┐                        \n",
       "      link_qubit_0: ──────░─┤ X ├────────────────────┤ X ├───────────░─┤M├─|0>─────────────────░─┤ X ├────────────────────┤ X ├───────────░─┤M├─|0>─────────────────░─┤ X ├────────────────────┤ X ├───────────░─┤M├─|0>─────────────────░─┤ X ├────────────────────┤ X ├───────────░─┤M├─|0>─────────────────░─┤ X ├────────────────────┤ X ├───────────░─┤M├────────────────────────\n",
       "                          ░ └─┬─┘                    └─┬─┘┌───┐┌───┐ ░ └╥┘ ┌─┐                 ░ └─┬─┘                    └─┬─┘┌───┐┌───┐ ░ └╥┘ ┌─┐                 ░ └─┬─┘                    └─┬─┘┌───┐┌───┐ ░ └╥┘ ┌─┐                 ░ └─┬─┘                    └─┬─┘┌───┐┌───┐ ░ └╥┘ ┌─┐                 ░ └─┬─┘                    └─┬─┘┌───┐┌───┐ ░ └╥┘┌─┐                     \n",
       "      link_qubit_1: ──────░───┼────────────────────────┼──┤ X ├┤ X ├─░──╫──┤M├──|0>────────────░───┼────────────────────────┼──┤ X ├┤ X ├─░──╫──┤M├──|0>────────────░───┼────────────────────────┼──┤ X ├┤ X ├─░──╫──┤M├──|0>────────────░───┼────────────────────────┼──┤ X ├┤ X ├─░──╫──┤M├──|0>────────────░───┼────────────────────────┼──┤ X ├┤ X ├─░──╫─┤M├─────────────────────\n",
       "                          ░   │       ┌───┐     ┌───┐  │  └─┬─┘└─┬─┘ ░  ║  └╥┘  ┌─┐            ░   │       ┌───┐     ┌───┐  │  └─┬─┘└─┬─┘ ░  ║  └╥┘  ┌─┐            ░   │       ┌───┐     ┌───┐  │  └─┬─┘└─┬─┘ ░  ║  └╥┘  ┌─┐            ░   │       ┌───┐     ┌───┐  │  └─┬─┘└─┬─┘ ░  ║  └╥┘  ┌─┐            ░   │       ┌───┐     ┌───┐  │  └─┬─┘└─┬─┘ ░  ║ └╥┘┌─┐                  \n",
       "      link_qubit_2: ──────░───┼───────┤ X ├─────┤ X ├──┼────┼────┼───░──╫───╫───┤M├──|0>───────░───┼───────┤ X ├─────┤ X ├──┼────┼────┼───░──╫───╫───┤M├──|0>───────░───┼───────┤ X ├─────┤ X ├──┼────┼────┼───░──╫───╫───┤M├──|0>───────░───┼───────┤ X ├─────┤ X ├──┼────┼────┼───░──╫───╫───┤M├──|0>───────░───┼───────┤ X ├─────┤ X ├──┼────┼────┼───░──╫──╫─┤M├──────────────────\n",
       "                          ░   │  ┌───┐└─┬─┘┌───┐└─┬─┘  │    │    │   ░  ║   ║   └╥┘  ┌─┐       ░   │  ┌───┐└─┬─┘┌───┐└─┬─┘  │    │    │   ░  ║   ║   └╥┘  ┌─┐       ░   │  ┌───┐└─┬─┘┌───┐└─┬─┘  │    │    │   ░  ║   ║   └╥┘  ┌─┐       ░   │  ┌───┐└─┬─┘┌───┐└─┬─┘  │    │    │   ░  ║   ║   └╥┘  ┌─┐       ░   │  ┌───┐└─┬─┘┌───┐└─┬─┘  │    │    │   ░  ║  ║ └╥┘┌─┐               \n",
       "      link_qubit_3: ──────░───┼──┤ X ├──┼──┤ X ├──┼────┼────┼────┼───░──╫───╫────╫───┤M├──|0>──░───┼──┤ X ├──┼──┤ X ├──┼────┼────┼────┼───░──╫───╫────╫───┤M├──|0>──░───┼──┤ X ├──┼──┤ X ├──┼────┼────┼────┼───░──╫───╫────╫───┤M├──|0>──░───┼──┤ X ├──┼──┤ X ├──┼────┼────┼────┼───░──╫───╫────╫───┤M├──|0>──░───┼──┤ X ├──┼──┤ X ├──┼────┼────┼────┼───░──╫──╫──╫─┤M├───────────────\n",
       "                    ┌───┐ ░   │  └─┬─┘  │  └─┬─┘  │    │    │    │   ░  ║   ║    ║   └╥┘       ░   │  └─┬─┘  │  └─┬─┘  │    │    │    │   ░  ║   ║    ║   └╥┘       ░   │  └─┬─┘  │  └─┬─┘  │    │    │    │   ░  ║   ║    ║   └╥┘       ░   │  └─┬─┘  │  └─┬─┘  │    │    │    │   ░  ║   ║    ║   └╥┘       ░   │  └─┬─┘  │  └─┬─┘  │    │    │    │   ░  ║  ║  ║ └╥┘┌─┐            \n",
       "      code_qubit_0: ┤ X ├─░───■────┼────┼────┼────┼────┼────┼────┼───░──╫───╫────╫────╫────────░───■────┼────┼────┼────┼────┼────┼────┼───░──╫───╫────╫────╫────────░───■────┼────┼────┼────┼────┼────┼────┼───░──╫───╫────╫────╫────────░───■────┼────┼────┼────┼────┼────┼────┼───░──╫───╫────╫────╫────────░───■────┼────┼────┼────┼────┼────┼────┼───░──╫──╫──╫──╫─┤M├────────────\n",
       "                    ├───┤ ░        │    │    │    │    │    │    │   ░  ║   ║    ║    ║        ░        │    │    │    │    │    │    │   ░  ║   ║    ║    ║        ░        │    │    │    │    │    │    │   ░  ║   ║    ║    ║        ░        │    │    │    │    │    │    │   ░  ║   ║    ║    ║        ░        │    │    │    │    │    │    │   ░  ║  ║  ║  ║ └╥┘┌─┐         \n",
       "      code_qubit_1: ┤ X ├─░────────┼────┼────┼────┼────■────■────┼───░──╫───╫────╫────╫────────░────────┼────┼────┼────┼────■────■────┼───░──╫───╫────╫────╫────────░────────┼────┼────┼────┼────■────■────┼───░──╫───╫────╫────╫────────░────────┼────┼────┼────┼────■────■────┼───░──╫───╫────╫────╫────────░────────┼────┼────┼────┼────■────■────┼───░──╫──╫──╫──╫──╫─┤M├─────────\n",
       "                    ├───┤ ░        │    │    │    │              │   ░  ║   ║    ║    ║        ░        │    │    │    │              │   ░  ║   ║    ║    ║        ░        │    │    │    │              │   ░  ║   ║    ║    ║        ░        │    │    │    │              │   ░  ║   ║    ║    ║        ░        │    │    │    │              │   ░  ║  ║  ║  ║  ║ └╥┘┌─┐      \n",
       "      code_qubit_2: ┤ X ├─░────────┼────┼────┼────■──────────────■───░──╫───╫────╫────╫────────░────────┼────┼────┼────■──────────────■───░──╫───╫────╫────╫────────░────────┼────┼────┼────■──────────────■───░──╫───╫────╫────╫────────░────────┼────┼────┼────■──────────────■───░──╫───╫────╫────╫────────░────────┼────┼────┼────■──────────────■───░──╫──╫──╫──╫──╫──╫─┤M├──────\n",
       "                    ├───┤ ░        │    │    │                       ░  ║   ║    ║    ║        ░        │    │    │                       ░  ║   ║    ║    ║        ░        │    │    │                       ░  ║   ║    ║    ║        ░        │    │    │                       ░  ║   ║    ║    ║        ░        │    │    │                       ░  ║  ║  ║  ║  ║  ║ └╥┘┌─┐   \n",
       "      code_qubit_3: ┤ X ├─░────────┼────■────■───────────────────────░──╫───╫────╫────╫────────░────────┼────■────■───────────────────────░──╫───╫────╫────╫────────░────────┼────■────■───────────────────────░──╫───╫────╫────╫────────░────────┼────■────■───────────────────────░──╫───╫────╫────╫────────░────────┼────■────■───────────────────────░──╫──╫──╫──╫──╫──╫──╫─┤M├───\n",
       "                    ├───┤ ░        │                                 ░  ║   ║    ║    ║        ░        │                                 ░  ║   ║    ║    ║        ░        │                                 ░  ║   ║    ║    ║        ░        │                                 ░  ║   ║    ║    ║        ░        │                                 ░  ║  ║  ║  ║  ║  ║  ║ └╥┘┌─┐\n",
       "      code_qubit_4: ┤ X ├─░────────■─────────────────────────────────░──╫───╫────╫────╫────────░────────■─────────────────────────────────░──╫───╫────╫────╫────────░────────■─────────────────────────────────░──╫───╫────╫────╫────────░────────■─────────────────────────────────░──╫───╫────╫────╫────────░────────■─────────────────────────────────░──╫──╫──╫──╫──╫──╫──╫──╫─┤M├\n",
       "                    └───┘ ░                                          ░  ║   ║    ║    ║        ░                                          ░  ║   ║    ║    ║        ░                                          ░  ║   ║    ║    ║        ░                                          ░  ║   ║    ║    ║        ░                                          ░  ║  ║  ║  ║  ║  ║  ║  ║ └╥┘\n",
       "round_0_link_bit: 4/════════════════════════════════════════════════════╩═══╩════╩════╩══════════════════════════════════════════════════════╬═══╬════╬════╬══════════════════════════════════════════════════════╬═══╬════╬════╬══════════════════════════════════════════════════════╬═══╬════╬════╬══════════════════════════════════════════════════════╬══╬══╬══╬══╬══╬══╬══╬══╬═\n",
       "                                                                        0   1    2    3                                                      ║   ║    ║    ║                                                      ║   ║    ║    ║                                                      ║   ║    ║    ║                                                      ║  ║  ║  ║  ║  ║  ║  ║  ║ \n",
       "round_1_link_bit: 4/═════════════════════════════════════════════════════════════════════════════════════════════════════════════════════════╩═══╩════╩════╩══════════════════════════════════════════════════════╬═══╬════╬════╬══════════════════════════════════════════════════════╬═══╬════╬════╬══════════════════════════════════════════════════════╬══╬══╬══╬══╬══╬══╬══╬══╬═\n",
       "                                                                                                                                             0   1    2    3                                                      ║   ║    ║    ║                                                      ║   ║    ║    ║                                                      ║  ║  ║  ║  ║  ║  ║  ║  ║ \n",
       "round_2_link_bit: 4/══════════════════════════════════════════════════════════════════════════════════════════════════════════════════════════════════════════════════════════════════════════════════════════════╩═══╩════╩════╩══════════════════════════════════════════════════════╬═══╬════╬════╬══════════════════════════════════════════════════════╬══╬══╬══╬══╬══╬══╬══╬══╬═\n",
       "                                                                                                                                                                                                                  0   1    2    3                                                      ║   ║    ║    ║                                                      ║  ║  ║  ║  ║  ║  ║  ║  ║ \n",
       "round_3_link_bit: 4/═══════════════════════════════════════════════════════════════════════════════════════════════════════════════════════════════════════════════════════════════════════════════════════════════════════════════════════════════════════════════════════════════════╩═══╩════╩════╩══════════════════════════════════════════════════════╬══╬══╬══╬══╬══╬══╬══╬══╬═\n",
       "                                                                                                                                                                                                                                                                                       0   1    2    3                                                      ║  ║  ║  ║  ║  ║  ║  ║  ║ \n",
       "round_4_link_bit: 4/════════════════════════════════════════════════════════════════════════════════════════════════════════════════════════════════════════════════════════════════════════════════════════════════════════════════════════════════════════════════════════════════════════════════════════════════════════════════════════════════════════╩══╩══╩══╩══╬══╬══╬══╬══╬═\n",
       "                                                                                                                                                                                                                                                                                                                                                            0  1  2  3  ║  ║  ║  ║  ║ \n",
       "        code_bit: 5/════════════════════════════════════════════════════════════════════════════════════════════════════════════════════════════════════════════════════════════════════════════════════════════════════════════════════════════════════════════════════════════════════════════════════════════════════════════════════════════════════════════════════╩══╩══╩══╩══╩═\n",
       "                                                                                                                                                                                                                                                                                                                                                                        0  1  2  3  4 </pre>"
      ],
      "text/plain": [
       "                          ░ ┌───┐                    ┌───┐           ░ ┌─┐                     ░ ┌───┐                    ┌───┐           ░ ┌─┐                     ░ ┌───┐                    ┌───┐           ░ ┌─┐                     ░ ┌───┐                    ┌───┐           ░ ┌─┐                     ░ ┌───┐                    ┌───┐           ░ ┌─┐                        \n",
       "      link_qubit_0: ──────░─┤ X ├────────────────────┤ X ├───────────░─┤M├─|0>─────────────────░─┤ X ├────────────────────┤ X ├───────────░─┤M├─|0>─────────────────░─┤ X ├────────────────────┤ X ├───────────░─┤M├─|0>─────────────────░─┤ X ├────────────────────┤ X ├───────────░─┤M├─|0>─────────────────░─┤ X ├────────────────────┤ X ├───────────░─┤M├────────────────────────\n",
       "                          ░ └─┬─┘                    └─┬─┘┌───┐┌───┐ ░ └╥┘ ┌─┐                 ░ └─┬─┘                    └─┬─┘┌───┐┌───┐ ░ └╥┘ ┌─┐                 ░ └─┬─┘                    └─┬─┘┌───┐┌───┐ ░ └╥┘ ┌─┐                 ░ └─┬─┘                    └─┬─┘┌───┐┌───┐ ░ └╥┘ ┌─┐                 ░ └─┬─┘                    └─┬─┘┌───┐┌───┐ ░ └╥┘┌─┐                     \n",
       "      link_qubit_1: ──────░───┼────────────────────────┼──┤ X ├┤ X ├─░──╫──┤M├──|0>────────────░───┼────────────────────────┼──┤ X ├┤ X ├─░──╫──┤M├──|0>────────────░───┼────────────────────────┼──┤ X ├┤ X ├─░──╫──┤M├──|0>────────────░───┼────────────────────────┼──┤ X ├┤ X ├─░──╫──┤M├──|0>────────────░───┼────────────────────────┼──┤ X ├┤ X ├─░──╫─┤M├─────────────────────\n",
       "                          ░   │       ┌───┐     ┌───┐  │  └─┬─┘└─┬─┘ ░  ║  └╥┘  ┌─┐            ░   │       ┌───┐     ┌───┐  │  └─┬─┘└─┬─┘ ░  ║  └╥┘  ┌─┐            ░   │       ┌───┐     ┌───┐  │  └─┬─┘└─┬─┘ ░  ║  └╥┘  ┌─┐            ░   │       ┌───┐     ┌───┐  │  └─┬─┘└─┬─┘ ░  ║  └╥┘  ┌─┐            ░   │       ┌───┐     ┌───┐  │  └─┬─┘└─┬─┘ ░  ║ └╥┘┌─┐                  \n",
       "      link_qubit_2: ──────░───┼───────┤ X ├─────┤ X ├──┼────┼────┼───░──╫───╫───┤M├──|0>───────░───┼───────┤ X ├─────┤ X ├──┼────┼────┼───░──╫───╫───┤M├──|0>───────░───┼───────┤ X ├─────┤ X ├──┼────┼────┼───░──╫───╫───┤M├──|0>───────░───┼───────┤ X ├─────┤ X ├──┼────┼────┼───░──╫───╫───┤M├──|0>───────░───┼───────┤ X ├─────┤ X ├──┼────┼────┼───░──╫──╫─┤M├──────────────────\n",
       "                          ░   │  ┌───┐└─┬─┘┌───┐└─┬─┘  │    │    │   ░  ║   ║   └╥┘  ┌─┐       ░   │  ┌───┐└─┬─┘┌───┐└─┬─┘  │    │    │   ░  ║   ║   └╥┘  ┌─┐       ░   │  ┌───┐└─┬─┘┌───┐└─┬─┘  │    │    │   ░  ║   ║   └╥┘  ┌─┐       ░   │  ┌───┐└─┬─┘┌───┐└─┬─┘  │    │    │   ░  ║   ║   └╥┘  ┌─┐       ░   │  ┌───┐└─┬─┘┌───┐└─┬─┘  │    │    │   ░  ║  ║ └╥┘┌─┐               \n",
       "      link_qubit_3: ──────░───┼──┤ X ├──┼──┤ X ├──┼────┼────┼────┼───░──╫───╫────╫───┤M├──|0>──░───┼──┤ X ├──┼──┤ X ├──┼────┼────┼────┼───░──╫───╫────╫───┤M├──|0>──░───┼──┤ X ├──┼──┤ X ├──┼────┼────┼────┼───░──╫───╫────╫───┤M├──|0>──░───┼──┤ X ├──┼──┤ X ├──┼────┼────┼────┼───░──╫───╫────╫───┤M├──|0>──░───┼──┤ X ├──┼──┤ X ├──┼────┼────┼────┼───░──╫──╫──╫─┤M├───────────────\n",
       "                    ┌───┐ ░   │  └─┬─┘  │  └─┬─┘  │    │    │    │   ░  ║   ║    ║   └╥┘       ░   │  └─┬─┘  │  └─┬─┘  │    │    │    │   ░  ║   ║    ║   └╥┘       ░   │  └─┬─┘  │  └─┬─┘  │    │    │    │   ░  ║   ║    ║   └╥┘       ░   │  └─┬─┘  │  └─┬─┘  │    │    │    │   ░  ║   ║    ║   └╥┘       ░   │  └─┬─┘  │  └─┬─┘  │    │    │    │   ░  ║  ║  ║ └╥┘┌─┐            \n",
       "      code_qubit_0: ┤ X ├─░───■────┼────┼────┼────┼────┼────┼────┼───░──╫───╫────╫────╫────────░───■────┼────┼────┼────┼────┼────┼────┼───░──╫───╫────╫────╫────────░───■────┼────┼────┼────┼────┼────┼────┼───░──╫───╫────╫────╫────────░───■────┼────┼────┼────┼────┼────┼────┼───░──╫───╫────╫────╫────────░───■────┼────┼────┼────┼────┼────┼────┼───░──╫──╫──╫──╫─┤M├────────────\n",
       "                    ├───┤ ░        │    │    │    │    │    │    │   ░  ║   ║    ║    ║        ░        │    │    │    │    │    │    │   ░  ║   ║    ║    ║        ░        │    │    │    │    │    │    │   ░  ║   ║    ║    ║        ░        │    │    │    │    │    │    │   ░  ║   ║    ║    ║        ░        │    │    │    │    │    │    │   ░  ║  ║  ║  ║ └╥┘┌─┐         \n",
       "      code_qubit_1: ┤ X ├─░────────┼────┼────┼────┼────■────■────┼───░──╫───╫────╫────╫────────░────────┼────┼────┼────┼────■────■────┼───░──╫───╫────╫────╫────────░────────┼────┼────┼────┼────■────■────┼───░──╫───╫────╫────╫────────░────────┼────┼────┼────┼────■────■────┼───░──╫───╫────╫────╫────────░────────┼────┼────┼────┼────■────■────┼───░──╫──╫──╫──╫──╫─┤M├─────────\n",
       "                    ├───┤ ░        │    │    │    │              │   ░  ║   ║    ║    ║        ░        │    │    │    │              │   ░  ║   ║    ║    ║        ░        │    │    │    │              │   ░  ║   ║    ║    ║        ░        │    │    │    │              │   ░  ║   ║    ║    ║        ░        │    │    │    │              │   ░  ║  ║  ║  ║  ║ └╥┘┌─┐      \n",
       "      code_qubit_2: ┤ X ├─░────────┼────┼────┼────■──────────────■───░──╫───╫────╫────╫────────░────────┼────┼────┼────■──────────────■───░──╫───╫────╫────╫────────░────────┼────┼────┼────■──────────────■───░──╫───╫────╫────╫────────░────────┼────┼────┼────■──────────────■───░──╫───╫────╫────╫────────░────────┼────┼────┼────■──────────────■───░──╫──╫──╫──╫──╫──╫─┤M├──────\n",
       "                    ├───┤ ░        │    │    │                       ░  ║   ║    ║    ║        ░        │    │    │                       ░  ║   ║    ║    ║        ░        │    │    │                       ░  ║   ║    ║    ║        ░        │    │    │                       ░  ║   ║    ║    ║        ░        │    │    │                       ░  ║  ║  ║  ║  ║  ║ └╥┘┌─┐   \n",
       "      code_qubit_3: ┤ X ├─░────────┼────■────■───────────────────────░──╫───╫────╫────╫────────░────────┼────■────■───────────────────────░──╫───╫────╫────╫────────░────────┼────■────■───────────────────────░──╫───╫────╫────╫────────░────────┼────■────■───────────────────────░──╫───╫────╫────╫────────░────────┼────■────■───────────────────────░──╫──╫──╫──╫──╫──╫──╫─┤M├───\n",
       "                    ├───┤ ░        │                                 ░  ║   ║    ║    ║        ░        │                                 ░  ║   ║    ║    ║        ░        │                                 ░  ║   ║    ║    ║        ░        │                                 ░  ║   ║    ║    ║        ░        │                                 ░  ║  ║  ║  ║  ║  ║  ║ └╥┘┌─┐\n",
       "      code_qubit_4: ┤ X ├─░────────■─────────────────────────────────░──╫───╫────╫────╫────────░────────■─────────────────────────────────░──╫───╫────╫────╫────────░────────■─────────────────────────────────░──╫───╫────╫────╫────────░────────■─────────────────────────────────░──╫───╫────╫────╫────────░────────■─────────────────────────────────░──╫──╫──╫──╫──╫──╫──╫──╫─┤M├\n",
       "                    └───┘ ░                                          ░  ║   ║    ║    ║        ░                                          ░  ║   ║    ║    ║        ░                                          ░  ║   ║    ║    ║        ░                                          ░  ║   ║    ║    ║        ░                                          ░  ║  ║  ║  ║  ║  ║  ║  ║ └╥┘\n",
       "round_0_link_bit: 4/════════════════════════════════════════════════════╩═══╩════╩════╩══════════════════════════════════════════════════════╬═══╬════╬════╬══════════════════════════════════════════════════════╬═══╬════╬════╬══════════════════════════════════════════════════════╬═══╬════╬════╬══════════════════════════════════════════════════════╬══╬══╬══╬══╬══╬══╬══╬══╬═\n",
       "                                                                        0   1    2    3                                                      ║   ║    ║    ║                                                      ║   ║    ║    ║                                                      ║   ║    ║    ║                                                      ║  ║  ║  ║  ║  ║  ║  ║  ║ \n",
       "round_1_link_bit: 4/═════════════════════════════════════════════════════════════════════════════════════════════════════════════════════════╩═══╩════╩════╩══════════════════════════════════════════════════════╬═══╬════╬════╬══════════════════════════════════════════════════════╬═══╬════╬════╬══════════════════════════════════════════════════════╬══╬══╬══╬══╬══╬══╬══╬══╬═\n",
       "                                                                                                                                             0   1    2    3                                                      ║   ║    ║    ║                                                      ║   ║    ║    ║                                                      ║  ║  ║  ║  ║  ║  ║  ║  ║ \n",
       "round_2_link_bit: 4/══════════════════════════════════════════════════════════════════════════════════════════════════════════════════════════════════════════════════════════════════════════════════════════════╩═══╩════╩════╩══════════════════════════════════════════════════════╬═══╬════╬════╬══════════════════════════════════════════════════════╬══╬══╬══╬══╬══╬══╬══╬══╬═\n",
       "                                                                                                                                                                                                                  0   1    2    3                                                      ║   ║    ║    ║                                                      ║  ║  ║  ║  ║  ║  ║  ║  ║ \n",
       "round_3_link_bit: 4/═══════════════════════════════════════════════════════════════════════════════════════════════════════════════════════════════════════════════════════════════════════════════════════════════════════════════════════════════════════════════════════════════════╩═══╩════╩════╩══════════════════════════════════════════════════════╬══╬══╬══╬══╬══╬══╬══╬══╬═\n",
       "                                                                                                                                                                                                                                                                                       0   1    2    3                                                      ║  ║  ║  ║  ║  ║  ║  ║  ║ \n",
       "round_4_link_bit: 4/════════════════════════════════════════════════════════════════════════════════════════════════════════════════════════════════════════════════════════════════════════════════════════════════════════════════════════════════════════════════════════════════════════════════════════════════════════════════════════════════════════╩══╩══╩══╩══╬══╬══╬══╬══╬═\n",
       "                                                                                                                                                                                                                                                                                                                                                            0  1  2  3  ║  ║  ║  ║  ║ \n",
       "        code_bit: 5/════════════════════════════════════════════════════════════════════════════════════════════════════════════════════════════════════════════════════════════════════════════════════════════════════════════════════════════════════════════════════════════════════════════════════════════════════════════════════════════════════════════════════╩══╩══╩══╩══╩═\n",
       "                                                                                                                                                                                                                                                                                                                                                                        0  1  2  3  4 "
      ]
     },
     "execution_count": 4,
     "metadata": {},
     "output_type": "execute_result"
    }
   ],
   "source": [
    "qc = code.circuit['zz']\n",
    "qc.draw(fold=-1)"
   ]
  },
  {
   "cell_type": "markdown",
   "metadata": {},
   "source": [
    "By running a noiseless simulation, we can see what a noiseless result looks like."
   ]
  },
  {
   "cell_type": "code",
   "execution_count": 5,
   "metadata": {},
   "outputs": [
    {
     "data": {
      "text/plain": [
       "{'11111 0000 0000 0000 0000 0000': 1024}"
      ]
     },
     "execution_count": 5,
     "metadata": {},
     "output_type": "execute_result"
    }
   ],
   "source": [
    "AerSimulator().run(qc).result().get_counts()"
   ]
  },
  {
   "cell_type": "markdown",
   "metadata": {},
   "source": [
    "We'll set up a Union Find decoder to use with this code."
   ]
  },
  {
   "cell_type": "code",
   "execution_count": 6,
   "metadata": {},
   "outputs": [],
   "source": [
    "decoder = UnionFindDecoder(code)"
   ]
  },
  {
   "cell_type": "markdown",
   "metadata": {},
   "source": [
    "Let's first try it on the noiseless outcome."
   ]
  },
  {
   "cell_type": "code",
   "execution_count": 12,
   "metadata": {},
   "outputs": [
    {
     "name": "stdout",
     "output_type": "stream",
     "text": [
      "Type of first node in 'nodes': <class 'qiskit_qec.utils.decoding_graph_attributes.DecodingGraphNode'>\n",
      "Type of first node in 'self.decoding_graph.graph.nodes()': <class 'qiskit_qec.utils.decoding_graph_attributes.DecodingGraphNode'>\n",
      "Length of 'nodes': 2\n",
      "Length of 'self.decoding_graph.graph.nodes()': 24\n",
      "Missing node: {'is_boundary': True, 'time': None, 'qubits': [0], 'index': 0, 'properties': {'conjugate': False, 'link qubit': None}}\n",
      "Missing node: {'is_boundary': True, 'time': None, 'qubits': [8], 'index': 1, 'properties': {'conjugate': False, 'link qubit': None}}\n",
      "self.decoding_graph.graph.nodes(): [{'is_boundary': False, 'time': 0, 'qubits': [6, 8], 'index': 0, 'properties': {'conjugate': False, 'link qubit': 7}}, {'is_boundary': False, 'time': 1, 'qubits': [6, 8], 'index': 0, 'properties': {'conjugate': False, 'link qubit': 7}}, {'is_boundary': False, 'time': 2, 'qubits': [6, 8], 'index': 0, 'properties': {'conjugate': False, 'link qubit': 7}}, {'is_boundary': False, 'time': 3, 'qubits': [6, 8], 'index': 0, 'properties': {'conjugate': False, 'link qubit': 7}}, {'is_boundary': False, 'time': 4, 'qubits': [6, 8], 'index': 0, 'properties': {'conjugate': False, 'link qubit': 7}}, {'is_boundary': False, 'time': 5, 'qubits': [6, 8], 'index': 0, 'properties': {'conjugate': False, 'link qubit': 7}}, {'is_boundary': False, 'time': 0, 'qubits': [4, 6], 'index': 1, 'properties': {'conjugate': False, 'link qubit': 5}}, {'is_boundary': False, 'time': 1, 'qubits': [4, 6], 'index': 1, 'properties': {'conjugate': False, 'link qubit': 5}}, {'is_boundary': False, 'time': 2, 'qubits': [4, 6], 'index': 1, 'properties': {'conjugate': False, 'link qubit': 5}}, {'is_boundary': False, 'time': 3, 'qubits': [4, 6], 'index': 1, 'properties': {'conjugate': False, 'link qubit': 5}}, {'is_boundary': False, 'time': 4, 'qubits': [4, 6], 'index': 1, 'properties': {'conjugate': False, 'link qubit': 5}}, {'is_boundary': False, 'time': 5, 'qubits': [4, 6], 'index': 1, 'properties': {'conjugate': False, 'link qubit': 5}}, {'is_boundary': False, 'time': 0, 'qubits': [2, 4], 'index': 2, 'properties': {'conjugate': False, 'link qubit': 3}}, {'is_boundary': False, 'time': 1, 'qubits': [2, 4], 'index': 2, 'properties': {'conjugate': False, 'link qubit': 3}}, {'is_boundary': False, 'time': 2, 'qubits': [2, 4], 'index': 2, 'properties': {'conjugate': False, 'link qubit': 3}}, {'is_boundary': False, 'time': 3, 'qubits': [2, 4], 'index': 2, 'properties': {'conjugate': False, 'link qubit': 3}}, {'is_boundary': False, 'time': 4, 'qubits': [2, 4], 'index': 2, 'properties': {'conjugate': False, 'link qubit': 3}}, {'is_boundary': False, 'time': 5, 'qubits': [2, 4], 'index': 2, 'properties': {'conjugate': False, 'link qubit': 3}}, {'is_boundary': False, 'time': 0, 'qubits': [0, 2], 'index': 3, 'properties': {'conjugate': False, 'link qubit': 1}}, {'is_boundary': False, 'time': 1, 'qubits': [0, 2], 'index': 3, 'properties': {'conjugate': False, 'link qubit': 1}}, {'is_boundary': False, 'time': 2, 'qubits': [0, 2], 'index': 3, 'properties': {'conjugate': False, 'link qubit': 1}}, {'is_boundary': False, 'time': 3, 'qubits': [0, 2], 'index': 3, 'properties': {'conjugate': False, 'link qubit': 1}}, {'is_boundary': False, 'time': 4, 'qubits': [0, 2], 'index': 3, 'properties': {'conjugate': False, 'link qubit': 1}}, {'is_boundary': False, 'time': 5, 'qubits': [0, 2], 'index': 3, 'properties': {'conjugate': False, 'link qubit': 1}}]\n",
      "nodes: [{'is_boundary': True, 'time': None, 'qubits': [0], 'index': 0, 'properties': {'conjugate': False, 'link qubit': None}}, {'is_boundary': True, 'time': None, 'qubits': [8], 'index': 1, 'properties': {'conjugate': False, 'link qubit': None}}]\n"
     ]
    },
    {
     "ename": "ValueError",
     "evalue": "{'is_boundary': True, 'time': None, 'qubits': [0], 'index': 0, 'properties': {'conjugate': False, 'link qubit': None}} is not in list",
     "output_type": "error",
     "traceback": [
      "\u001b[0;31m---------------------------------------------------------------------------\u001b[0m",
      "\u001b[0;31mValueError\u001b[0m                                Traceback (most recent call last)",
      "\u001b[1;32m/Users/mha/My Drive/Desktop/Studium/Physik/Master/Semester 3/IBM/Soft VSC/UF/uf_intro.ipynb Cell 12\u001b[0m line \u001b[0;36m1\n\u001b[0;32m----> <a href='vscode-notebook-cell:/Users/mha/My%20Drive/Desktop/Studium/Physik/Master/Semester%203/IBM/Soft%20VSC/UF/uf_intro.ipynb#X15sZmlsZQ%3D%3D?line=0'>1</a>\u001b[0m decoder\u001b[39m.\u001b[39;49mprocess(\u001b[39m'\u001b[39;49m\u001b[39m11111 0000 0000 0000 0000 0000\u001b[39;49m\u001b[39m'\u001b[39;49m)\n",
      "File \u001b[0;32m~/My Drive/Desktop/Studium/Physik/Master/Semester 3/IBM/Soft VSC/.venv/lib/python3.9/site-packages/qiskit_qec/decoders/hdrg_decoders.py:341\u001b[0m, in \u001b[0;36mUnionFindDecoder.process\u001b[0;34m(self, string)\u001b[0m\n\u001b[1;32m    337\u001b[0m highlighted_nodes \u001b[39m=\u001b[39m \u001b[39mself\u001b[39m\u001b[39m.\u001b[39mcode\u001b[39m.\u001b[39mstring2nodes(string, all_logicals\u001b[39m=\u001b[39m\u001b[39mTrue\u001b[39;00m)\n\u001b[1;32m    339\u001b[0m \u001b[39m# call cluster to do the clustering, but actually use the peeling form\u001b[39;00m\n\u001b[0;32m--> 341\u001b[0m \u001b[39mself\u001b[39;49m\u001b[39m.\u001b[39;49mcluster(highlighted_nodes)\n\u001b[1;32m    342\u001b[0m clusters \u001b[39m=\u001b[39m \u001b[39mself\u001b[39m\u001b[39m.\u001b[39m_clusters4peeling\n\u001b[1;32m    344\u001b[0m \u001b[39m# determine the net logical z\u001b[39;00m\n",
      "File \u001b[0;32m~/My Drive/Desktop/Studium/Physik/Master/Semester 3/IBM/Soft VSC/.venv/lib/python3.9/site-packages/qiskit_qec/decoders/hdrg_decoders.py:398\u001b[0m, in \u001b[0;36mUnionFindDecoder.cluster\u001b[0;34m(self, nodes)\u001b[0m\n\u001b[1;32m    393\u001b[0m \u001b[39mprint\u001b[39m(\u001b[39m\"\u001b[39m\u001b[39mself.decoding_graph.graph.nodes():\u001b[39m\u001b[39m\"\u001b[39m, \u001b[39mself\u001b[39m\u001b[39m.\u001b[39mdecoding_graph\u001b[39m.\u001b[39mgraph\u001b[39m.\u001b[39mnodes())\n\u001b[1;32m    394\u001b[0m \u001b[39mprint\u001b[39m(\u001b[39m\"\u001b[39m\u001b[39mnodes:\u001b[39m\u001b[39m\"\u001b[39m, nodes)\n\u001b[0;32m--> 398\u001b[0m node_indices \u001b[39m=\u001b[39m [\u001b[39mself\u001b[39m\u001b[39m.\u001b[39mgraph\u001b[39m.\u001b[39mnodes()\u001b[39m.\u001b[39mindex(node) \u001b[39mfor\u001b[39;00m node \u001b[39min\u001b[39;00m nodes]\n\u001b[1;32m    399\u001b[0m \u001b[39mfor\u001b[39;00m node_index, _ \u001b[39min\u001b[39;00m \u001b[39menumerate\u001b[39m(\u001b[39mself\u001b[39m\u001b[39m.\u001b[39mgraph\u001b[39m.\u001b[39mnodes()):\n\u001b[1;32m    400\u001b[0m     \u001b[39mself\u001b[39m\u001b[39m.\u001b[39mgraph[node_index]\u001b[39m.\u001b[39mproperties[\u001b[39m\"\u001b[39m\u001b[39msyndrome\u001b[39m\u001b[39m\"\u001b[39m] \u001b[39m=\u001b[39m node_index \u001b[39min\u001b[39;00m node_indices\n",
      "File \u001b[0;32m~/My Drive/Desktop/Studium/Physik/Master/Semester 3/IBM/Soft VSC/.venv/lib/python3.9/site-packages/qiskit_qec/decoders/hdrg_decoders.py:398\u001b[0m, in \u001b[0;36m<listcomp>\u001b[0;34m(.0)\u001b[0m\n\u001b[1;32m    393\u001b[0m \u001b[39mprint\u001b[39m(\u001b[39m\"\u001b[39m\u001b[39mself.decoding_graph.graph.nodes():\u001b[39m\u001b[39m\"\u001b[39m, \u001b[39mself\u001b[39m\u001b[39m.\u001b[39mdecoding_graph\u001b[39m.\u001b[39mgraph\u001b[39m.\u001b[39mnodes())\n\u001b[1;32m    394\u001b[0m \u001b[39mprint\u001b[39m(\u001b[39m\"\u001b[39m\u001b[39mnodes:\u001b[39m\u001b[39m\"\u001b[39m, nodes)\n\u001b[0;32m--> 398\u001b[0m node_indices \u001b[39m=\u001b[39m [\u001b[39mself\u001b[39;49m\u001b[39m.\u001b[39;49mgraph\u001b[39m.\u001b[39;49mnodes()\u001b[39m.\u001b[39;49mindex(node) \u001b[39mfor\u001b[39;00m node \u001b[39min\u001b[39;00m nodes]\n\u001b[1;32m    399\u001b[0m \u001b[39mfor\u001b[39;00m node_index, _ \u001b[39min\u001b[39;00m \u001b[39menumerate\u001b[39m(\u001b[39mself\u001b[39m\u001b[39m.\u001b[39mgraph\u001b[39m.\u001b[39mnodes()):\n\u001b[1;32m    400\u001b[0m     \u001b[39mself\u001b[39m\u001b[39m.\u001b[39mgraph[node_index]\u001b[39m.\u001b[39mproperties[\u001b[39m\"\u001b[39m\u001b[39msyndrome\u001b[39m\u001b[39m\"\u001b[39m] \u001b[39m=\u001b[39m node_index \u001b[39min\u001b[39;00m node_indices\n",
      "\u001b[0;31mValueError\u001b[0m: {'is_boundary': True, 'time': None, 'qubits': [0], 'index': 0, 'properties': {'conjugate': False, 'link qubit': None}} is not in list"
     ]
    }
   ],
   "source": [
    "decoder.process('11111 0000 0000 0000 0000 0000')\n"
   ]
  },
  {
   "cell_type": "markdown",
   "metadata": {},
   "source": [
    "The result here tells use that the result of the logical measurement is `1`, as required.\n",
    "\n",
    "Now let's get noisy results. For example: from a fake backend."
   ]
  },
  {
   "cell_type": "code",
   "execution_count": 26,
   "metadata": {},
   "outputs": [],
   "source": [
    "counts = FakeSherbrooke().run(qc, shots=10000).result().get_counts()"
   ]
  },
  {
   "cell_type": "markdown",
   "metadata": {},
   "source": [
    "We can run this through the decoder to see how many times we get logical 0 and logical 1."
   ]
  },
  {
   "cell_type": "code",
   "execution_count": 27,
   "metadata": {},
   "outputs": [
    {
     "ename": "ValueError",
     "evalue": "{'is_boundary': True, 'time': None, 'qubits': [0], 'index': 0, 'properties': {'conjugate': False, 'link qubit': None}} is not in list",
     "output_type": "error",
     "traceback": [
      "\u001b[0;31m---------------------------------------------------------------------------\u001b[0m",
      "\u001b[0;31mValueError\u001b[0m                                Traceback (most recent call last)",
      "\u001b[1;32m/Users/mha/My Drive/Desktop/Studium/Physik/Master/Semester 3/IBM/Soft VSC/UF/uf_intro.ipynb Cell 15\u001b[0m line \u001b[0;36m3\n\u001b[1;32m      <a href='vscode-notebook-cell:/Users/mha/My%20Drive/Desktop/Studium/Physik/Master/Semester%203/IBM/Soft%20VSC/UF/uf_intro.ipynb#X20sZmlsZQ%3D%3D?line=0'>1</a>\u001b[0m logical_counts \u001b[39m=\u001b[39m {\u001b[39m0\u001b[39m:\u001b[39m0\u001b[39m, \u001b[39m1\u001b[39m:\u001b[39m0\u001b[39m}\n\u001b[1;32m      <a href='vscode-notebook-cell:/Users/mha/My%20Drive/Desktop/Studium/Physik/Master/Semester%203/IBM/Soft%20VSC/UF/uf_intro.ipynb#X20sZmlsZQ%3D%3D?line=1'>2</a>\u001b[0m \u001b[39mfor\u001b[39;00m string, shots \u001b[39min\u001b[39;00m counts\u001b[39m.\u001b[39mitems():\n\u001b[0;32m----> <a href='vscode-notebook-cell:/Users/mha/My%20Drive/Desktop/Studium/Physik/Master/Semester%203/IBM/Soft%20VSC/UF/uf_intro.ipynb#X20sZmlsZQ%3D%3D?line=2'>3</a>\u001b[0m     logical_counts[decoder\u001b[39m.\u001b[39;49mprocess(string)[\u001b[39m0\u001b[39m]] \u001b[39m+\u001b[39m\u001b[39m=\u001b[39m shots\n\u001b[1;32m      <a href='vscode-notebook-cell:/Users/mha/My%20Drive/Desktop/Studium/Physik/Master/Semester%203/IBM/Soft%20VSC/UF/uf_intro.ipynb#X20sZmlsZQ%3D%3D?line=3'>4</a>\u001b[0m logical_counts\n",
      "File \u001b[0;32m~/My Drive/Desktop/Studium/Physik/Master/Semester 3/IBM/Soft VSC/.venv/lib/python3.9/site-packages/qiskit_qec/decoders/hdrg_decoders.py:336\u001b[0m, in \u001b[0;36mUnionFindDecoder.process\u001b[0;34m(self, string)\u001b[0m\n\u001b[1;32m    333\u001b[0m highlighted_nodes \u001b[39m=\u001b[39m \u001b[39mself\u001b[39m\u001b[39m.\u001b[39mcode\u001b[39m.\u001b[39mstring2nodes(string, all_logicals\u001b[39m=\u001b[39m\u001b[39mTrue\u001b[39;00m)\n\u001b[1;32m    335\u001b[0m \u001b[39m# call cluster to do the clustering, but actually use the peeling form\u001b[39;00m\n\u001b[0;32m--> 336\u001b[0m \u001b[39mself\u001b[39;49m\u001b[39m.\u001b[39;49mcluster(highlighted_nodes)\n\u001b[1;32m    337\u001b[0m clusters \u001b[39m=\u001b[39m \u001b[39mself\u001b[39m\u001b[39m.\u001b[39m_clusters4peeling\n\u001b[1;32m    339\u001b[0m \u001b[39m# determine the net logical z\u001b[39;00m\n",
      "File \u001b[0;32m~/My Drive/Desktop/Studium/Physik/Master/Semester 3/IBM/Soft VSC/.venv/lib/python3.9/site-packages/qiskit_qec/decoders/hdrg_decoders.py:378\u001b[0m, in \u001b[0;36mUnionFindDecoder.cluster\u001b[0;34m(self, nodes)\u001b[0m\n\u001b[1;32m    365\u001b[0m \u001b[39mdef\u001b[39;00m \u001b[39mcluster\u001b[39m(\u001b[39mself\u001b[39m, nodes: List):\n\u001b[1;32m    366\u001b[0m \u001b[39m    \u001b[39m\u001b[39m\"\"\"\u001b[39;00m\n\u001b[1;32m    367\u001b[0m \u001b[39m    Create clusters using the union-find algorithm.\u001b[39;00m\n\u001b[1;32m    368\u001b[0m \n\u001b[0;32m   (...)\u001b[0m\n\u001b[1;32m    376\u001b[0m \u001b[39m        value.\u001b[39;00m\n\u001b[1;32m    377\u001b[0m \u001b[39m    \"\"\"\u001b[39;00m\n\u001b[0;32m--> 378\u001b[0m     node_indices \u001b[39m=\u001b[39m [\u001b[39mself\u001b[39m\u001b[39m.\u001b[39mgraph\u001b[39m.\u001b[39mnodes()\u001b[39m.\u001b[39mindex(node) \u001b[39mfor\u001b[39;00m node \u001b[39min\u001b[39;00m nodes]\n\u001b[1;32m    379\u001b[0m     \u001b[39mfor\u001b[39;00m node_index, _ \u001b[39min\u001b[39;00m \u001b[39menumerate\u001b[39m(\u001b[39mself\u001b[39m\u001b[39m.\u001b[39mgraph\u001b[39m.\u001b[39mnodes()):\n\u001b[1;32m    380\u001b[0m         \u001b[39mself\u001b[39m\u001b[39m.\u001b[39mgraph[node_index]\u001b[39m.\u001b[39mproperties[\u001b[39m\"\u001b[39m\u001b[39msyndrome\u001b[39m\u001b[39m\"\u001b[39m] \u001b[39m=\u001b[39m node_index \u001b[39min\u001b[39;00m node_indices\n",
      "File \u001b[0;32m~/My Drive/Desktop/Studium/Physik/Master/Semester 3/IBM/Soft VSC/.venv/lib/python3.9/site-packages/qiskit_qec/decoders/hdrg_decoders.py:378\u001b[0m, in \u001b[0;36m<listcomp>\u001b[0;34m(.0)\u001b[0m\n\u001b[1;32m    365\u001b[0m \u001b[39mdef\u001b[39;00m \u001b[39mcluster\u001b[39m(\u001b[39mself\u001b[39m, nodes: List):\n\u001b[1;32m    366\u001b[0m \u001b[39m    \u001b[39m\u001b[39m\"\"\"\u001b[39;00m\n\u001b[1;32m    367\u001b[0m \u001b[39m    Create clusters using the union-find algorithm.\u001b[39;00m\n\u001b[1;32m    368\u001b[0m \n\u001b[0;32m   (...)\u001b[0m\n\u001b[1;32m    376\u001b[0m \u001b[39m        value.\u001b[39;00m\n\u001b[1;32m    377\u001b[0m \u001b[39m    \"\"\"\u001b[39;00m\n\u001b[0;32m--> 378\u001b[0m     node_indices \u001b[39m=\u001b[39m [\u001b[39mself\u001b[39;49m\u001b[39m.\u001b[39;49mgraph\u001b[39m.\u001b[39;49mnodes()\u001b[39m.\u001b[39;49mindex(node) \u001b[39mfor\u001b[39;00m node \u001b[39min\u001b[39;00m nodes]\n\u001b[1;32m    379\u001b[0m     \u001b[39mfor\u001b[39;00m node_index, _ \u001b[39min\u001b[39;00m \u001b[39menumerate\u001b[39m(\u001b[39mself\u001b[39m\u001b[39m.\u001b[39mgraph\u001b[39m.\u001b[39mnodes()):\n\u001b[1;32m    380\u001b[0m         \u001b[39mself\u001b[39m\u001b[39m.\u001b[39mgraph[node_index]\u001b[39m.\u001b[39mproperties[\u001b[39m\"\u001b[39m\u001b[39msyndrome\u001b[39m\u001b[39m\"\u001b[39m] \u001b[39m=\u001b[39m node_index \u001b[39min\u001b[39;00m node_indices\n",
      "\u001b[0;31mValueError\u001b[0m: {'is_boundary': True, 'time': None, 'qubits': [0], 'index': 0, 'properties': {'conjugate': False, 'link qubit': None}} is not in list"
     ]
    }
   ],
   "source": [
    "logical_counts = {0:0, 1:0}\n",
    "for string, shots in counts.items():\n",
    "    logical_counts[decoder.process(string)[0]] += shots\n",
    "logical_counts"
   ]
  },
  {
   "cell_type": "markdown",
   "metadata": {},
   "source": [
    "The numbers will change with shot noise, but the correct outcome (logical 1) certainly seems to come out on top!"
   ]
  }
 ],
 "metadata": {
  "kernelspec": {
   "display_name": "arc-decoder",
   "language": "python",
   "name": "python3"
  },
  "language_info": {
   "codemirror_mode": {
    "name": "ipython",
    "version": 3
   },
   "file_extension": ".py",
   "mimetype": "text/x-python",
   "name": "python",
   "nbconvert_exporter": "python",
   "pygments_lexer": "ipython3",
   "version": "3.9.6"
  },
  "orig_nbformat": 4
 },
 "nbformat": 4,
 "nbformat_minor": 2
}
