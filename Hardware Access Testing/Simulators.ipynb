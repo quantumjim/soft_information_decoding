{
 "cells": [
  {
   "cell_type": "code",
   "execution_count": 2,
   "metadata": {},
   "outputs": [],
   "source": [
    "import numpy as np\n",
    "from qiskit_aer import AerSimulator\n",
    "from qiskit import QuantumCircuit, QuantumRegister, ClassicalRegister, execute\n",
    "from qiskit_ibm_provider import IBMProvider\n",
    "from qiskit import transpile\n",
    "import matplotlib.pyplot as plt\n"
   ]
  },
  {
   "cell_type": "markdown",
   "metadata": {},
   "source": [
    "# Repeat IQ Plot with simulators"
   ]
  },
  {
   "cell_type": "code",
   "execution_count": 13,
   "metadata": {},
   "outputs": [],
   "source": [
    "qr = QuantumRegister(1)\n",
    "cr = ClassicalRegister(1)\n",
    "qc = QuantumCircuit(qr, cr)\n",
    "\n",
    "qc.rx(np.pi/2, qr)\n",
    "qc.measure(qr, cr)\n",
    "\n",
    "provider = IBMProvider()\n",
    "backend = provider.get_backend('ibmq_qasm_simulator')\n",
    "\n",
    "transpiled_qc = transpile(qc, backend=backend)\n",
    "\n",
    "job_id = backend.run(transpiled_qc, shots=1e2, meas_level=1, meas_return='single', memory=True ).job_id()\n"
   ]
  },
  {
   "cell_type": "code",
   "execution_count": 14,
   "metadata": {},
   "outputs": [
    {
     "name": "stdout",
     "output_type": "stream",
     "text": [
      "ckdtb3c1rec1pkttpa3g\n"
     ]
    },
    {
     "data": {
      "text/plain": [
       "<JobStatus.DONE: 'job has successfully run'>"
      ]
     },
     "execution_count": 14,
     "metadata": {},
     "output_type": "execute_result"
    }
   ],
   "source": [
    "print(job_id) #\"cmdx038te72g008jshg0\"\n",
    "job = provider.retrieve_job(job_id)\n",
    "job.status()"
   ]
  },
  {
   "cell_type": "code",
   "execution_count": 17,
   "metadata": {},
   "outputs": [
    {
     "name": "stdout",
     "output_type": "stream",
     "text": [
      "{'0': 51, '1': 49}\n",
      "['1', '0', '0', '0', '0', '0', '0', '0', '0', '1', '0', '0', '0', '1', '1', '0', '0', '1', '1', '0', '1', '0', '1', '1', '0', '0', '1', '1', '0', '0', '1', '0', '1', '0', '1', '1', '0', '0', '0', '0', '0', '1', '0', '0', '1', '1', '1', '0', '0', '1', '1', '0', '1', '0', '0', '1', '1', '1', '1', '1', '0', '0', '0', '0', '0', '1', '1', '1', '0', '1', '1', '0', '0', '0', '0', '1', '1', '0', '1', '1', '1', '0', '0', '1', '1', '1', '1', '1', '0', '1', '1', '1', '0', '0', '0', '1', '1', '1', '1', '0']\n"
     ]
    },
    {
     "data": {
      "image/png": "[encoded data removed]",
      "text/plain": [
       "<Figure size 640x480 with 1 Axes>"
      ]
     },
     "metadata": {},
     "output_type": "display_data"
    }
   ],
   "source": [
    "counts = job.result().get_counts()\n",
    "memory = job.result().get_memory()\n",
    "\n",
    "plt.plot(np.real(memory), np.imag(memory), 'o', color='blue', label='|+> Lagos 03.10')\n",
    "#plt.plot(np.real(memory5050), np.imag(memory5050), 'o', color='red', label='|+> Lagos 02.09')\n",
    "\n",
    "print(counts)\n",
    "print(memory)"
   ]
  },
  {
   "cell_type": "markdown",
   "metadata": {},
   "source": [
    "`=> The simulator does not have an IQ plane`"
   ]
  }
 ],
 "metadata": {
  "kernelspec": {
   "display_name": "Soft-Info-kp2AnOc1",
   "language": "python",
   "name": "python3"
  },
  "language_info": {
   "codemirror_mode": {
    "name": "ipython",
    "version": 3
   },
   "file_extension": ".py",
   "mimetype": "text/x-python",
   "name": "python",
   "nbconvert_exporter": "python",
   "pygments_lexer": "ipython3",
   "version": "3.11.4"
  },
  "orig_nbformat": 4
 },
 "nbformat": 4,
 "nbformat_minor": 2
}
